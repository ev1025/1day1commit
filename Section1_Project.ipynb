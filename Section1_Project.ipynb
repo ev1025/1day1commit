{
  "nbformat": 4,
  "nbformat_minor": 0,
  "metadata": {
    "colab": {
      "name": "Section1 Project.ipynb",
      "provenance": [],
      "collapsed_sections": [],
      "authorship_tag": "ABX9TyOtkb1JxljONVcuc4h+tI3S",
      "include_colab_link": true
    },
    "kernelspec": {
      "name": "python3",
      "display_name": "Python 3"
    },
    "language_info": {
      "name": "python"
    }
  },
  "cells": [
    {
      "cell_type": "markdown",
      "metadata": {
        "id": "view-in-github",
        "colab_type": "text"
      },
      "source": [
        "<a href=\"https://colab.research.google.com/github/ev1025/1day1commit/blob/main/Section1_Project.ipynb\" target=\"_parent\"><img src=\"https://colab.research.google.com/assets/colab-badge.svg\" alt=\"Open In Colab\"/></a>"
      ]
    },
    {
      "cell_type": "markdown",
      "source": [
        "# Section. 1 Project"
      ],
      "metadata": {
        "id": "IBm0k5tuhgVL"
      }
    },
    {
      "cell_type": "markdown",
      "source": [
        "# 필수사항\n",
        "1. 지역에 따라서 선호하는 게임 장르가 다를까 라는 질문에 대답을 하셔야합니다.\n",
        "2. 연도별 게임의 트렌드가 있을까 라는 질문에 대답을 하셔야합니다.\n",
        "3. 출고량이 높은 게임에 대한 분석 및 시각화 프로세스가 포함되어야 합니다.\n"
      ],
      "metadata": {
        "id": "n8Orz580Tqay"
      }
    },
    {
      "cell_type": "markdown",
      "source": [
        "# 방법\n",
        "-  Section.1   \n",
        " - EDA, Feature Engineering, Data Manipulation, Data Visualization, Data\n",
        "Wrangling   \n",
        "- Sprint 2   \n",
        "  - Bayesian, Confidence Interval, Hypothesis Test, AB Test   \n",
        "- Sprint 3   \n",
        "  - Linear Algebra, Dimensionality Reduction, PCA, Clustering, Gradient Descent   "
      ],
      "metadata": {
        "id": "-IAU_gpzhU-w"
      }
    },
    {
      "cell_type": "markdown",
      "source": [
        "# 피쳐정보\n",
        "Name : 게임의 이름입니다.    \n",
        "Platform : 게임이 지원되는 플랫폼의 이름입니다    \n",
        "Year : 게임이 출시된 연도입니다.    \n",
        "Genre : 게임의 장르입니다.    \n",
        "Publisher : 게임을 제작한 회사입니다.    \n",
        "NA_Sales : 북미지역에서의 출고량입니다.   \n",
        "EU_Sales : 유럽지역에서의 출고량입니다.    \n",
        "JP_Sales : 일본지역에서의 출고량입니다.   \n",
        "Other_Sales : 기타지역에서의 출고량입니다.    "
      ],
      "metadata": {
        "id": "hPftBAqwhVb6"
      }
    },
    {
      "cell_type": "markdown",
      "source": [
        "# 전처리"
      ],
      "metadata": {
        "id": "o6WZ2C06hn0C"
      }
    },
    {
      "cell_type": "code",
      "source": [
        "# from google.colab import files\n",
        "# files.upload();"
      ],
      "metadata": {
        "id": "cRnB10rDJ2sE"
      },
      "execution_count": 1,
      "outputs": []
    },
    {
      "cell_type": "code",
      "execution_count": 2,
      "metadata": {
        "id": "ketu7eKDIESh"
      },
      "outputs": [],
      "source": [
        "import pandas as pd\n",
        "import numpy as np\n",
        "import sympy as sp\n",
        "import matplotlib.pyplot as plt\n",
        "import seaborn as sns\n",
        "import math"
      ]
    },
    {
      "cell_type": "code",
      "source": [
        "rawdata = pd.read_csv('vgames2.csv')\n",
        "df = pd.read_csv('vgames2.csv')\n",
        "df = df.iloc[:,1:] # 불필요한 인덱스 제거"
      ],
      "metadata": {
        "id": "aX61tAJLKI1r"
      },
      "execution_count": 3,
      "outputs": []
    },
    {
      "cell_type": "code",
      "source": [
        "# df.info()"
      ],
      "metadata": {
        "id": "vRTswScEcdpe"
      },
      "execution_count": 4,
      "outputs": []
    },
    {
      "cell_type": "code",
      "source": [
        "# df[df.Year.isnull()] # 년도 결측값 확인"
      ],
      "metadata": {
        "id": "oIrBCOlWciq7"
      },
      "execution_count": 5,
      "outputs": []
    },
    {
      "cell_type": "code",
      "source": [
        "# 판매량 데이터 높은 값만 수정\n",
        "df.iat[6949,3] = 2004\n",
        "df.iat[16275,3] = 1978\n",
        "df.iat[13327,3] = 2001\n",
        "df.iat[31,3] = 2007\n",
        "df.iat[3347,3] = 2008\n",
        "df.iat[3562,3] = 2006\n",
        "df.iat[8529,3] = 2008\n",
        "df.iat[4181,3] = 2007\n",
        "df.iat[5720,3] = 1980\n",
        "df.iat[2130,3] = 2006\n",
        "df.iat[10965,3] = 2004"
      ],
      "metadata": {
        "id": "78tlZ1a4hLya"
      },
      "execution_count": 6,
      "outputs": []
    },
    {
      "cell_type": "code",
      "source": [
        "df.dropna(axis=0, subset=['Year'],inplace=True)\n",
        "df.reset_index(inplace=True, drop= True)\n",
        "df.Year = df.Year.astype(int)"
      ],
      "metadata": {
        "id": "kNq5_02JlYtT"
      },
      "execution_count": 7,
      "outputs": []
    },
    {
      "cell_type": "code",
      "source": [
        "# df[df['Genre'].isnull()]"
      ],
      "metadata": {
        "id": "UgIwtaTnl4pN"
      },
      "execution_count": 8,
      "outputs": []
    },
    {
      "cell_type": "code",
      "source": [
        "# df.Genre.value_counts() # 장르종류"
      ],
      "metadata": {
        "id": "mrqQx2RImSBX"
      },
      "execution_count": 9,
      "outputs": []
    },
    {
      "cell_type": "code",
      "source": [
        "# 판매량 높은 장르 결측값 등록\n",
        "df.iat[1946,4] = 'Role-Playing' \n",
        "df.iat[9348,4] = 'Adventure'\n",
        "df.iat[4523,4] = 'Misc'\n",
        "df.iat[16316,4] = 'Racing'\n",
        "df.iat[3871,4] = 'Sports'\n",
        "df.iat[15268,4] = 'Role-Playing'\n",
        "df.iat[12135,4] = 'Adventure'"
      ],
      "metadata": {
        "id": "XHwwcSLimgWk"
      },
      "execution_count": 10,
      "outputs": []
    },
    {
      "cell_type": "code",
      "source": [
        "df.dropna(axis = 0 , subset=['Genre'], inplace=True)\n",
        "df.reset_index(inplace=True, drop=True)"
      ],
      "metadata": {
        "id": "8yL9FuUsoPXE"
      },
      "execution_count": 11,
      "outputs": []
    },
    {
      "cell_type": "code",
      "source": [
        "# df[df['Publisher'].isna()]"
      ],
      "metadata": {
        "id": "0PFe0jihqhjv"
      },
      "execution_count": 12,
      "outputs": []
    },
    {
      "cell_type": "code",
      "source": [
        "df.dropna(axis = 0 , subset=['Publisher'],inplace = True)  # Publisher 출고량 높은 사항없어서 모두 제거\n",
        "df.reset_index(inplace=True, drop=True)"
      ],
      "metadata": {
        "id": "ZEGWh5QGthJ8"
      },
      "execution_count": 13,
      "outputs": []
    },
    {
      "cell_type": "code",
      "source": [
        "# df.duplicated().sum()"
      ],
      "metadata": {
        "id": "sxYq6LSgxL3u"
      },
      "execution_count": 14,
      "outputs": []
    },
    {
      "cell_type": "code",
      "source": [
        "# df.info()"
      ],
      "metadata": {
        "id": "0dr3H6k9xYqY"
      },
      "execution_count": 15,
      "outputs": []
    },
    {
      "cell_type": "code",
      "source": [
        "df.NA_Sales = df.NA_Sales.str.replace(\"M\",\"\").str.replace('K','000').astype(float) # 출고량의 M값과 K값 정리\n",
        "K_index = df[df['NA_Sales'] >10]\n",
        "K_index = K_index['NA_Sales']\n",
        "K_1000 = K_index/1000000\n",
        "df.loc[K_1000.index,'NA_Sales'] = K_1000\n",
        "df['NA_Sales'] = round(df['NA_Sales'],2)\n",
        "\n",
        "df.EU_Sales = df.EU_Sales.str.replace('M','').str.replace('K','000').astype(float)\n",
        "K_index2 = df[df['EU_Sales']>10]\n",
        "K_index2 = K_index2['EU_Sales']\n",
        "K_2000 = K_index2/1000000\n",
        "df.loc[K_2000.index,'EU_Sales'] = K_2000\n",
        "df['EU_Sales'] = round(df['EU_Sales'],2)\n",
        "\n",
        "df.JP_Sales = df.JP_Sales.str.replace('M','').str.replace('K','000').astype(float)\n",
        "k_index3 = df[df['JP_Sales']>10]\n",
        "k_index3 = k_index3['JP_Sales']\n",
        "k_3000 = k_index3/1000000\n",
        "df.loc[k_3000.index,'JP_Sales'] = k_3000\n",
        "df['JP_Sales'] = round(df['JP_Sales'],2)\n",
        "\n",
        "df.Other_Sales = df.Other_Sales.str.replace('M','').str.replace('K','000').astype(float)\n",
        "k_index4 = df[df['Other_Sales'] >10]\n",
        "k_index4 = k_index4['Other_Sales']\n",
        "k_4000 = k_index4/1000000\n",
        "df.loc[k_4000.index,'Other_Sales'] = k_4000\n",
        "df.Other_Sales = round(df.Other_Sales,2)"
      ],
      "metadata": {
        "id": "DpVas5YIyM7C"
      },
      "execution_count": 16,
      "outputs": []
    },
    {
      "cell_type": "code",
      "source": [
        "year_200 = df[df['Year']<10]               # 년도별 이상치 정리\n",
        "year_200 = year_200.astype(str)\n",
        "y200 = '200'+year_200['Year']\n",
        "\n",
        "year_20 = df[(df['Year']>=10) & (df['Year']<80) ]\n",
        "year_20 = year_20.astype(str)\n",
        "y20 = '20'+year_20['Year']\n",
        "\n",
        "year19 = df[(df['Year']>=80) & (df['Year']<100) ]\n",
        "year19 = year19.astype('str')\n",
        "y19 = '19' + year19['Year']"
      ],
      "metadata": {
        "id": "2YiNGQ3gIbIC"
      },
      "execution_count": 17,
      "outputs": []
    },
    {
      "cell_type": "code",
      "source": [
        "df.loc[y200.index,'Year'] = y200           # 정리한 이상치 대입\n",
        "df.loc[y20.index,'Year'] = y20\n",
        "df.loc[y19.index,'Year']=y19\n",
        "df.Year = df.Year.astype(int)"
      ],
      "metadata": {
        "id": "Oq_CqMZ0RJSG"
      },
      "execution_count": 18,
      "outputs": []
    },
    {
      "cell_type": "code",
      "source": [
        "Sales_sum = (df.loc[:,'NA_Sales']+df.loc[:,'EU_Sales']+df.loc[:,'JP_Sales']+df.loc[:,'Other_Sales']) \n",
        "df['Sales_sum'] = Sales_sum  # 출고량 합계 피쳐 생성"
      ],
      "metadata": {
        "id": "N0SPGOQBGLi8"
      },
      "execution_count": 19,
      "outputs": []
    },
    {
      "cell_type": "code",
      "source": [
        "# df.duplicated().sum()"
      ],
      "metadata": {
        "id": "_REQdoWQZMe8"
      },
      "execution_count": 20,
      "outputs": []
    },
    {
      "cell_type": "markdown",
      "source": [
        "# 1번 데이터\n"
      ],
      "metadata": {
        "id": "bAVr7xm5h9Dj"
      }
    },
    {
      "cell_type": "code",
      "source": [
        ""
      ],
      "metadata": {
        "id": "bWGqnPh-iBRO"
      },
      "execution_count": null,
      "outputs": []
    },
    {
      "cell_type": "markdown",
      "source": [
        "# 2번 데이터"
      ],
      "metadata": {
        "id": "NT5HubvlfiBs"
      }
    },
    {
      "cell_type": "code",
      "source": [
        "# df.Platform.value_counts()  \n",
        "# 장르의 종류 및 개수 확인\n",
        "# 휴대용 게임: WiiU DS 3DS PSP PSV GBA SAT GB NG SCD WS\n",
        "# 콘솔 게임 : Wii PS PS2 PS3 PS4 XB X360 XOne GC N64 SNES NES 2600 DC GEN 3DO TG16 GG PCFX\n",
        "# PC 게임 : PC"
      ],
      "metadata": {
        "id": "W8rhjQXiLiKc"
      },
      "execution_count": 21,
      "outputs": []
    },
    {
      "cell_type": "code",
      "source": [
        "import copy                        # 플랫폼을 3개로 묶어서 분석\n",
        "df2 = copy.deepcopy(df)\n",
        "\n",
        "hand  = [\"WiiU\", \"DS\", \"3DS\",  \"PSP\", \"PSV\", \"GBA\", \"SAT\", \"GB\", \"NG\", \"SCD\", \"WS\"]  \n",
        "for i in hand:\n",
        "    df2['Platform'] = df2['Platform'].replace(i, \"0\")\n",
        "\n",
        "consol = [\"Wii\", \"PS\", \"PS2\", \"PS3\", \"PS4\",  \"XB\",  \"X360\", \"XOne\", \"GC\", \"N64\", \"SNES\", \"NES\", \"2600\", \"DC\", \"GEN\", \"3DO\", \"TG16\", \"GG\", \"PCFX\"]\n",
        "for j in consol:\n",
        "    df2['Platform'] = df2['Platform'].replace(j,\"1\")\n",
        "df2['Platform'] = df2['Platform'].replace('PC',\"2\")\n",
        "\n",
        "df2[df2['Platform'].str.contains('([0-9])')==False] # 바뀌지 않은 것 있는지 확인\n",
        "\n",
        "# 휴대용 : 0 , 콘솔 : 1 , PC : 2"
      ],
      "metadata": {
        "id": "ghvHecxKsZvZ"
      },
      "execution_count": null,
      "outputs": []
    },
    {
      "cell_type": "code",
      "source": [
        "portable = df2.query('Platform == \"0\"') # 그래프에 피쳐 엔지니어링\n",
        "consol = df2.query('Platform == \"1\"')\n",
        "pc = df2.query('Platform == \"2\"')\n",
        "\n",
        "\n",
        "portable = portable.iloc[:,[2,9]]\n",
        "consol = consol.iloc[:,[2,9]]\n",
        "pc = pc.iloc[:,[2,9]]\n",
        "\n",
        "portable = portable.groupby('Year').sum()\n",
        "consol = consol.groupby('Year').sum()\n",
        "pc = pc.groupby('Year').sum()"
      ],
      "metadata": {
        "id": "dnOffXN0Vuq_"
      },
      "execution_count": 44,
      "outputs": []
    },
    {
      "cell_type": "code",
      "source": [
        ""
      ],
      "metadata": {
        "id": "5Dbw-1_hiE_N"
      },
      "execution_count": null,
      "outputs": []
    },
    {
      "cell_type": "markdown",
      "source": [
        "# 2. 연도별 게임의 트렌드가 있을까?   \n",
        "- 1980년 초, 콘솔게임 등장하습였다. 이 시기에는 게임산업의 경쟁과열로 질이 낮은 게임들이 많이 출시되었습니다.\n",
        "- 1983년 소비자들의 불만이 극에 달하였고 게임업계에서 가장 큰 재앙으로 불리는 아타리쇼크가 일어났습니다.\n",
        "- 아타리쇼크는 당시 업계 거장이었던 아타리사가 저질 게임을 발매하면서 게임업계의 붕괴를 초래한 사건입니다.\n",
        "- 이렇게 주춤했던 콘솔 게임은 1990년대 초반 닌텐도사의 '수퍼패미컴'이라는 게임기로 사람들의 다시 신임을 얻기 시작했고, 1994년 말, 누구나 한 번쯤 들어봤을 소니사의 플레이스테이션이 출시되면서 콘솔업계는 승승장구 하게됩니다.\n",
        "-2000년대 중반에는 닌텐도DS와 플레이스테이션 포터블의 등장으로 포터블 산업의 전성기를 보였으나, 2010년 이후 모바일의 급격한 발전으로 게임산업 전반이 축소하는 것을 볼 수 있습니다.\n",
        "- 전체적인 그래프 추세를 볼 때,각자의 흥망성쇠만 있을 뿐 카테고리 간에 상관관계는 없는 것으로 보입니다. "
      ],
      "metadata": {
        "id": "o57SDNBQIEkf"
      }
    },
    {
      "cell_type": "code",
      "source": [
        "plt.figure(figsize=(8,5))\n",
        "plt.style.use('fivethirtyeight')\n",
        "plt.plot(portable)\n",
        "plt.plot(consol)\n",
        "plt.plot(pc)\n",
        "plt.xlabel('Year',fontsize = 20)\n",
        "plt.ylabel('Sales(Millon)', fontsize =15)\n",
        "plt.xlim(1980,2022,1)\n",
        "plt.legend([\"PORTABLE\",\"CONSOL\",\"PC\"],title = \"Category\")\n",
        "plt.show();"
      ],
      "metadata": {
        "colab": {
          "base_uri": "https://localhost:8080/",
          "height": 363
        },
        "id": "9p0y6bQHAZft",
        "outputId": "2101457a-d287-4112-8948-abe112a0e8c7"
      },
      "execution_count": 53,
      "outputs": [
        {
          "output_type": "display_data",
          "data": {
            "text/plain": [
              "<Figure size 576x360 with 1 Axes>"
            ],
            "image/png": "[encoded data removed]"
          },
          "metadata": {}
        }
      ]
    }
  ]
}