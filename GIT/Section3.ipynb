{
  "nbformat": 4,
  "nbformat_minor": 0,
  "metadata": {
    "colab": {
      "provenance": [],
      "authorship_tag": "ABX9TyP7BQIeVhrtN2ta8diZpsv6",
      "include_colab_link": true
    },
    "kernelspec": {
      "name": "python3",
      "display_name": "Python 3"
    },
    "language_info": {
      "name": "python"
    }
  },
  "cells": [
    {
      "cell_type": "markdown",
      "metadata": {
        "id": "view-in-github",
        "colab_type": "text"
      },
      "source": [
        "<a href=\"https://colab.research.google.com/github/ev1025/1day1commit/blob/main/GIT/Section3.ipynb\" target=\"_parent\"><img src=\"https://colab.research.google.com/assets/colab-badge.svg\" alt=\"Open In Colab\"/></a>"
      ]
    },
    {
      "cell_type": "markdown",
      "source": [
        "### 가상환경 생성\n",
        "```python\n",
        "conda create --name 가상환경 python=3.8   # 가상환경 생성\n",
        "conda env remove --name 가상환경          # 가상환경 지우기\n",
        "conda activate 가상환경                   # 가상환경으로 들어가기\n",
        "code ./                                   # 가상환경의 코드 편집\n",
        "conda deactivate                          # 가상환경 나가기\n",
        "```\n",
        "\n",
        "\n",
        "#### 레포지토리 내려받기\n",
        "```python\n",
        "git clone 주소            # 레포지토리 내려받기(다음 바로 cd로 이동)\n",
        "rm -rf .git               # 해당 디렉토리의 .git 삭제하여 해당 github연결 끊어버림\n",
        "\n",
        "git remote add 변수명 주소 # 원격주소 추가하기 (git init으로 git 초기화)\n",
        "git remote remove 변수명  # 원격 주소 제거\n",
        "\n",
        "git remote -v             # 연결된 원격 레포지토리 주소\n",
        "```\n",
        "\n",
        "### Stagy area\n",
        "```python\n",
        "git add  파일명.확장자 # 파일을 staged\n",
        "git add ./             # 디렉토리의 모든 파일 추가\n",
        "git reset HEAD -- 경로 # staged 목록에서 제거\n",
        "\n",
        "git status             # 깃허브 파일 확인(staged 여부)\n",
        "```\n",
        "\n",
        "\n",
        "\n",
        "### repository\n",
        "```python\n",
        "git commit -m '메세지' # Staged 파일을 로컬에 commit, 메세지 출력\n",
        "\n",
        "git push 변수명 브런치명 # 원격레포지토리에 올림(변수명 = remote로 설정해준 변수명)\n",
        "```\n",
        "### Branch\n",
        "```python\n",
        "git status             # 브렌치 확인\n",
        "git branch -M main     # 브렌치 메인으로 변경\n",
        "\n",
        "git branch 브렌치명    # 새 브런치 생성\n",
        "git branch -l          # 브랜치 목록(로컬)\n",
        "git branch -al         # 브랜치 목록(로컬, 원격)\n",
        "git merge 브렌치2    # 현재 브런치에 브렌치2를 합침(원격에 있는것도 -al에서 조회해서 가져올 수 있음)\n",
        "\n",
        "```"
      ],
      "metadata": {
        "id": "r1-Vh-uuFLiy"
      }
    },
    {
      "cell_type": "markdown",
      "source": [
        "----------\n",
        "```python\n",
        "git init #  현재 폴더를 git으로 관리할 수 있게 초기화\n",
        "\n",
        "python -m pytest --submit # 과제제출\n",
        "\n",
        "python -m pytest --score # 점수확인\n",
        "\n",
        "python -m pytest --all  # 모든 점수 확인\n",
        "\n",
        "touch  이름.확장자 # 새파일 생성\n",
        "\n",
        "\n",
        "\n",
        "$ pwd : 현재 경로를 나타내는 명령어\n",
        "$ mkdir {폴더명}: 폴더(디렉토리)를 생성\n",
        "$ cd {폴더명} : 폴더에 들어가는 명령어\n",
        "$ ls : 현재 디렉토리 안의 파일 및 폴더 목록을 출력\n",
        "$ ls -l : 상세정보 출력\n",
        "$ ls -a : 숨긴 파일까지 표시\n",
        "$ ls -al : 숨긴 파일까지 상세정보 포함해서 출력 # \n",
        "$ cat {파일명} : 파일을 터미널에 출력\n",
        "$ cp 복사할 파일명, 복사될 파일명\n",
        "mv {옵션} 파일or디렉토리  경로  # mv 경로/파일명 경로/바꿀파일명 하면 이름도 바꿀 수 있음\n",
        "rm {옵션} 파일or디렉토리(옵션에 -r) # 파일/디렉토리 삭제\n",
        "\n",
        "import sys       # 파이썬 패키지(system packages) 설치 위치\n",
        "print(sys.prefix)\n",
        "\n",
        "import site       # 제 3의 패키지 site packages\n",
        "print(site.getsitepackages())\n",
        "\n",
        "where python # 파이썬 설치위치\n",
        "\n",
        "python --version # 파이썬의 버전\n",
        "\n",
        "pip list # 내 파이썬에 설치 된 패키지 리스트\n",
        "\n",
        "conda env list # 콘다 가상환경이 저장된 위치목록\n",
        "\n",
        "conda create --name 'practice' python=3.8 # 새로운 가상환경 생성\n",
        "\n",
        "conda activate 'practice' # 프랙티스 가상환경에 들어감\n",
        "conda deactivate         # 현재 가상환경 종료\n",
        "\n",
        "cat > 이름.txt             # 이름.txt에 적을 글 쓰고 컨트롤+z누르면 파일 저장됨\n",
        "conda env list > 이름.txt  # 이름.txt에 가상환경목록 저장됨\n",
        "```"
      ],
      "metadata": {
        "id": "YtfNC8kFBd8B"
      }
    }
  ]
}