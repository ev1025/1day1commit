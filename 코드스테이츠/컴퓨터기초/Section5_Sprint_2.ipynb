{
  "nbformat": 4,
  "nbformat_minor": 0,
  "metadata": {
    "colab": {
      "provenance": [],
      "authorship_tag": "ABX9TyMNJ83lfel/LoqGxjxZHxCa",
      "include_colab_link": true
    },
    "kernelspec": {
      "name": "python3",
      "display_name": "Python 3"
    },
    "language_info": {
      "name": "python"
    }
  },
  "cells": [
    {
      "cell_type": "markdown",
      "metadata": {
        "id": "view-in-github",
        "colab_type": "text"
      },
      "source": [
        "<a href=\"https://colab.research.google.com/github/ev1025/1day1commit/blob/main/%EC%BD%94%EB%93%9C%EC%8A%A4%ED%85%8C%EC%9D%B4%EC%B8%A0/%EC%BB%B4%ED%93%A8%ED%84%B0%EA%B8%B0%EC%B4%88/Section5_Sprint_2.ipynb\" target=\"_parent\"><img src=\"https://colab.research.google.com/assets/colab-badge.svg\" alt=\"Open In Colab\"/></a>"
      ]
    },
    {
      "cell_type": "markdown",
      "source": [
        "NOTE 1"
      ],
      "metadata": {
        "id": "4oGG6REOyaa7"
      }
    },
    {
      "cell_type": "markdown",
      "source": [
        "# ADT(Abstract Data Type)"
      ],
      "metadata": {
        "id": "AvNJHYzpyfBR"
      }
    },
    {
      "cell_type": "markdown",
      "source": [
        "**추상자료형**\n",
        "- 기본자료형을 활용하여 사용자에 의해 구현된 자료형\n",
        "- 복잡도가 높은 프로그램의 핵심을 간단하게 설명하기 위해서 사용한다.\n"
      ],
      "metadata": {
        "id": "wTnYYq-RykoA"
      }
    },
    {
      "cell_type": "markdown",
      "source": [
        "### Linked-list(연결리스트)"
      ],
      "metadata": {
        "id": "-dK9AAImzEfH"
      }
    },
    {
      "cell_type": "markdown",
      "source": [
        "- 동적인 구조로 리스트의 길이가 정해져있지 않다.\n",
        "- 인덱스가 존재하지 않음\n",
        "- 각 노드는 다음 노드를 참조(포인터) 한다.\n",
        "\n",
        "**이해하는데 기호의 의미가 굉장히 중요**\n",
        "- 참조기호 : . (self.next)\n",
        "- 삽입, 할당기호 : = (self.next = next) self.next가 next를 가르킨다(포인터)\n",
        "- 코드 꼭 이 사이트에 쳐보고 보면서 할 것 https://pythontutor.com/visualize.html#\n"
      ],
      "metadata": {
        "id": "MKXHyVquzIfx"
      }
    },
    {
      "cell_type": "code",
      "source": [
        "# A = B 는 A노드가 B노드를 참조(포인터)한다는 뜻!!\n",
        "# 노드를 생성하는 클래스\n",
        "class Node:\n",
        "    def __init__(self, value):\n",
        "        self.value = value # 노드의 입력값은 value이다.\n",
        "        self.next = None   # 노드의 next값은 None이다. 다음노드를 참조하기 위해 비워둔다.\n",
        "\n",
        "# 노드를 연결하는 클래스\n",
        "class linked_list:\n",
        "    def __init__(self, value):   # head노드 초기 생성하고 다음노드 연결하는 함수\n",
        "        self.head = Node(value)  # self.head노드를 만들고 Node(value)를 참조한다.\n",
        "\n",
        "    def add_node(self, value):      # 노드를 생성하여 연결하는 함수\n",
        "        if self.head == None:       # self.head노드가 없으면, \n",
        "            self.head = Node(value) # self.head노드가 Node(value)를 참조한다.(위에 init이랑 같은거)\n",
        "\n",
        "        else:                 # self.head노드가 있으면,\n",
        "            node = self.head  # node변수가 self.head를 참조한다. \n",
        "            while node.next:  # self.head의 next개수만큼 반복문을 돌린다.(노드의 개수만큼 돌겠지?)\n",
        "                node = node.next    # 반복할 때 마다 node변수의 참조를 갱신시켜서, 마지막노드의 next에 도달하면 마지막노드의 next를 참조하게 된다.(그림1번)\n",
        "            node.next = Node(value) # 마지막노드의 next(None)를 새로 삽입한 Node(value)에 참조시킨다.(그림2번)\n",
        "\n",
        "\n",
        "a = linked_list(0)   # head 초기화(초기값설정)\n",
        "\n",
        "for i in range(1,3): # 1노드~2노드 삽입\n",
        "    a.add_node(i)"
      ],
      "metadata": {
        "id": "1QANE1AgykCi"
      },
      "execution_count": 7,
      "outputs": []
    },
    {
      "cell_type": "markdown",
      "source": [
        "![화면 캡처 2022-12-18 163543.png](data:image/png;base64,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)"
      ],
      "metadata": {
        "id": "2cd_mCsBJkrm"
      }
    },
    {
      "cell_type": "code",
      "source": [
        "# 앞부분이랑 같음\n",
        "class Node:\n",
        "    def __init__(self, value):\n",
        "        self.value = value\n",
        "        self.next = None\n",
        "\n",
        "class linked_list:\n",
        "    def __init__(self, value):\n",
        "        self.head = Node(value)\n",
        "\n",
        "    def add_node(self, value):\n",
        "        if self.head == None:\n",
        "            self.head = Node(value)\n",
        "        else:\n",
        "            node = self.head\n",
        "            while node.next:\n",
        "                node = node.next\n",
        "            node.next = Node(value) # init함수의 value\n",
        "\n",
        "# 연결리스트의 삭제구현\n",
        "    def del_node(self, value):\n",
        "        # 헤드가 없는경우\n",
        "        if self.head == None:          \n",
        "            return\n",
        "        \n",
        "        # 지울 값이 헤드벨류인 경우\n",
        "        elif self.head.value == value: \n",
        "            temp = node                 # temp에 임시저장\n",
        "            self.head = self.head.next  # 헤드노드 다음의 값을 헤드노드로 지정한 뒤\n",
        "            del temp                    # 임시저장한 값을 제거한다.\n",
        "\n",
        "        # 연결리스트의 헤드가 지울 값이 아닌 경우\n",
        "        else:\n",
        "            node = self.head  # 노드에 헤드노드를 설정한다.\n",
        "\n",
        "            while node.next:  # 마지막 노드까지 탐색\n",
        "                if node.next.value == value:   # 헤드노드의 다음 노드가 지울 값인 경우\n",
        "                    temp = node.next           # 헤드노드의 다음 노드를 임시저장\n",
        "                    node.next = node.next.next # 헤드노드의 next를  그 다음노드에 연결\n",
        "                    del temp # 임시 저장한 값을 삭제한다.\n",
        "                    return\n",
        "                \n",
        "                else: # 노드의 다음값이 내가 찾는 값이 아닐 경우\n",
        "                    node = node.next # 기준 노드를 head노드에서 다음노드로 변경\n",
        "                \n",
        "\n",
        "    # 연결리스트의 노드출력을 위한 기능\n",
        "    # node.next값이 None이면 반복이 멈추어 노드값이 모두 출력됨\n",
        "    def ord_desc(self):\n",
        "        node = self.head\n",
        "        while node:\n",
        "              print(node.value)\n",
        "              node = node.next \n",
        "\n",
        "    # 연결리스트 검색함수\n",
        "    def search_node(self, value):\n",
        "        # 노드에 헤드노드를 설정한다.\n",
        "        node = self.head\n",
        "        while node:\n",
        "            if node.value == value:\n",
        "              return node\n",
        "            else:\n",
        "              node = node.next"
      ],
      "metadata": {
        "id": "jqkV9qUz2SEv"
      },
      "execution_count": 37,
      "outputs": []
    },
    {
      "cell_type": "code",
      "source": [
        "# # 노드 삽입 테스트\n",
        "# linkedlist = linked_list(0)\n",
        "\n",
        "# for value in range(1, 10):\n",
        "#     linkedlist.add_node(value)\n",
        "\n",
        "# # 노드 출력 함수\n",
        "# linkedlist.ord_desc()"
      ],
      "metadata": {
        "colab": {
          "base_uri": "https://localhost:8080/"
        },
        "id": "5YHAGTI6e9hi",
        "outputId": "7b63a1e2-a4bc-4b87-8d43-cff3adde149f"
      },
      "execution_count": 44,
      "outputs": [
        {
          "output_type": "stream",
          "name": "stdout",
          "text": [
            "0\n",
            "1\n",
            "2\n",
            "3\n",
            "4\n",
            "5\n",
            "6\n",
            "7\n",
            "8\n",
            "9\n"
          ]
        }
      ]
    },
    {
      "cell_type": "code",
      "source": [
        "# # 삭제함수\n",
        "# linkedlist = linked_list(0) # 노드 초기값 설정\n",
        "# for value in range(1,5):\n",
        "#     linkedlist.add_node(value)\n",
        "# linkedlist.del_node(3)  # 노드삭제\n",
        "# linkedlist.ord_desc()"
      ],
      "metadata": {
        "colab": {
          "base_uri": "https://localhost:8080/"
        },
        "id": "kj6Kr74AerfO",
        "outputId": "12fa4109-9c2e-44f6-9f49-d3890c1f4754"
      },
      "execution_count": 42,
      "outputs": [
        {
          "output_type": "stream",
          "name": "stdout",
          "text": [
            "0\n",
            "1\n",
            "2\n",
            "4\n"
          ]
        }
      ]
    },
    {
      "cell_type": "code",
      "source": [
        "# # search 함수\n",
        "# linkedlist = linked_list(0) # 연결리스트 초기화\n",
        "\n",
        "# # 연결리스트에 노드 다시 추가\n",
        "# for value in range(1,11):\n",
        "#     linkedlist.add_node(value)\n",
        "\n",
        "# node = linkedlist.search_node(4)\n",
        "# print(node.value)\n",
        "# print(node.next.value)  "
      ],
      "metadata": {
        "colab": {
          "base_uri": "https://localhost:8080/"
        },
        "id": "0KFXPzsHyazG",
        "outputId": "503ee012-d8a0-4a3c-9308-69e743de1919"
      },
      "execution_count": 38,
      "outputs": [
        {
          "output_type": "stream",
          "name": "stdout",
          "text": [
            "4\n",
            "5\n"
          ]
        }
      ]
    }
  ]
}