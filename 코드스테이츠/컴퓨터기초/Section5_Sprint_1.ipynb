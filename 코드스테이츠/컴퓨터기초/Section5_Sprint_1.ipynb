{
  "nbformat": 4,
  "nbformat_minor": 0,
  "metadata": {
    "colab": {
      "provenance": [],
      "authorship_tag": "ABX9TyMnx5NhAI4gVUbyJepTiy8S",
      "include_colab_link": true
    },
    "kernelspec": {
      "name": "python3",
      "display_name": "Python 3"
    },
    "language_info": {
      "name": "python"
    }
  },
  "cells": [
    {
      "cell_type": "markdown",
      "metadata": {
        "id": "view-in-github",
        "colab_type": "text"
      },
      "source": [
        "<a href=\"https://colab.research.google.com/github/ev1025/1day1commit/blob/main/%EC%BD%94%EB%93%9C%EC%8A%A4%ED%85%8C%EC%9D%B4%EC%B8%A0/%EC%BB%B4%ED%93%A8%ED%84%B0%EA%B8%B0%EC%B4%88/Section5_Sprint_1.ipynb\" target=\"_parent\"><img src=\"https://colab.research.google.com/assets/colab-badge.svg\" alt=\"Open In Colab\"/></a>"
      ]
    },
    {
      "cell_type": "markdown",
      "source": [
        "# Section 5 Sprint 1"
      ],
      "metadata": {
        "id": "KdbDfJJB3UFw"
      }
    },
    {
      "cell_type": "markdown",
      "source": [
        "# Note1"
      ],
      "metadata": {
        "id": "ox3iYOaP3Zjr"
      }
    },
    {
      "cell_type": "markdown",
      "source": [
        "### Map함수\n",
        "- 함수를 iterator에 적용한다.\n",
        "- 출력 시에 list 사용\n",
        "- map(함수, 적용할 iterator)"
      ],
      "metadata": {
        "id": "pVTt_Fc83bgk"
      }
    },
    {
      "cell_type": "code",
      "execution_count": 2,
      "metadata": {
        "colab": {
          "base_uri": "https://localhost:8080/"
        },
        "id": "rtvqwPPb3DaX",
        "outputId": "2e68095a-77c4-4a29-9515-1ce2daac7c34"
      },
      "outputs": [
        {
          "output_type": "stream",
          "name": "stdout",
          "text": [
            "lambda : [1, 4, 9, 16, 25]\n",
            "type : ['1', '2', '3', '4', '5']\n"
          ]
        }
      ],
      "source": [
        "iterator = [1,2,3,4,5]\n",
        "\n",
        "mapping = map(lambda x: x**2, iterator)\n",
        "mapping2= map(str, iterator)\n",
        "\n",
        "print(f\"lambda : {list(mapping)}\")\n",
        "print(f\"type : {list(mapping2)}\")"
      ]
    },
    {
      "cell_type": "code",
      "source": [],
      "metadata": {
        "id": "_vWXCkY24Rqw"
      },
      "execution_count": null,
      "outputs": []
    }
  ]
}