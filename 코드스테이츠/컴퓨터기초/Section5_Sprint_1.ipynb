{
  "nbformat": 4,
  "nbformat_minor": 0,
  "metadata": {
    "colab": {
      "provenance": [],
      "authorship_tag": "ABX9TyNcqIhdQeC/0ElUsBSaj5Y/",
      "include_colab_link": true
    },
    "kernelspec": {
      "name": "python3",
      "display_name": "Python 3"
    },
    "language_info": {
      "name": "python"
    }
  },
  "cells": [
    {
      "cell_type": "markdown",
      "metadata": {
        "id": "view-in-github",
        "colab_type": "text"
      },
      "source": [
        "<a href=\"https://colab.research.google.com/github/ev1025/1day1commit/blob/main/%EC%BD%94%EB%93%9C%EC%8A%A4%ED%85%8C%EC%9D%B4%EC%B8%A0/%EC%BB%B4%ED%93%A8%ED%84%B0%EA%B8%B0%EC%B4%88/Section5_Sprint_1.ipynb\" target=\"_parent\"><img src=\"https://colab.research.google.com/assets/colab-badge.svg\" alt=\"Open In Colab\"/></a>"
      ]
    },
    {
      "cell_type": "markdown",
      "source": [
        "# Section 5 Sprint 1"
      ],
      "metadata": {
        "id": "KdbDfJJB3UFw"
      }
    },
    {
      "cell_type": "markdown",
      "source": [
        "# Note1"
      ],
      "metadata": {
        "id": "ox3iYOaP3Zjr"
      }
    },
    {
      "cell_type": "markdown",
      "source": [
        "### Map함수\n",
        "- 함수를 iterator에 적용한다.\n",
        "- 출력 시에 list 사용\n",
        "- map(함수, 적용할 iterator)"
      ],
      "metadata": {
        "id": "pVTt_Fc83bgk"
      }
    },
    {
      "cell_type": "code",
      "execution_count": null,
      "metadata": {
        "colab": {
          "base_uri": "https://localhost:8080/"
        },
        "id": "rtvqwPPb3DaX",
        "outputId": "2e68095a-77c4-4a29-9515-1ce2daac7c34"
      },
      "outputs": [
        {
          "output_type": "stream",
          "name": "stdout",
          "text": [
            "lambda : [1, 4, 9, 16, 25]\n",
            "type : ['1', '2', '3', '4', '5']\n"
          ]
        }
      ],
      "source": [
        "iterator = [1,2,3,4,5]\n",
        "\n",
        "# 함수 적용\n",
        "mapping = map(lambda x: x**2, iterator)\n",
        "print(f\"lambda : {list(mapping)}\")\n",
        "\n",
        "# 타입 적용\n",
        "mapping2= map(str, iterator)\n",
        "print(f\"type : {list(mapping2)}\")"
      ]
    },
    {
      "cell_type": "markdown",
      "source": [
        "### Filter함수\n",
        "- 조건(함수)가 참인 iterator만 출력\n",
        "- 출력 시 list 사용\n",
        "- filter(함수, iterator)"
      ],
      "metadata": {
        "id": "9WNL69L242Rb"
      }
    },
    {
      "cell_type": "code",
      "source": [
        "iterator = [1,2,3,4,5]\n",
        "\n",
        "def 짝수(x):\n",
        "    iterators = True if x%2 ==0 else False\n",
        "    return iterators  \n",
        "\n",
        "filtering = filter(짝수,iterator)\n",
        "\n",
        "print(list(filtering))"
      ],
      "metadata": {
        "colab": {
          "base_uri": "https://localhost:8080/"
        },
        "id": "_vWXCkY24Rqw",
        "outputId": "51f1acfd-21f8-4eb3-c3fe-ea86d38f5abf"
      },
      "execution_count": null,
      "outputs": [
        {
          "output_type": "stream",
          "name": "stdout",
          "text": [
            "[2, 4]\n"
          ]
        }
      ]
    },
    {
      "cell_type": "code",
      "source": [
        "iterator = [1,2,3,4,5]\n",
        "\n",
        "filtering = filter(lambda x : x%2==0, iterator)\n",
        "print(list(filtering))"
      ],
      "metadata": {
        "colab": {
          "base_uri": "https://localhost:8080/"
        },
        "id": "q0rKFb1e77jT",
        "outputId": "90eaba29-1ccf-4afe-fecf-49900cac3f13"
      },
      "execution_count": null,
      "outputs": [
        {
          "output_type": "stream",
          "name": "stdout",
          "text": [
            "[2, 4]\n"
          ]
        }
      ]
    },
    {
      "cell_type": "markdown",
      "source": [
        "### 정규표현식(regex)"
      ],
      "metadata": {
        "id": "7GYH9ny08peP"
      }
    },
    {
      "cell_type": "markdown",
      "source": [
        "- iterator에선 사용하지 않음 (list, dict, tuple 등..)"
      ],
      "metadata": {
        "id": "nhN7VbkGDvx8"
      }
    },
    {
      "cell_type": "markdown",
      "source": [
        "#### escape문자\n",
        "- \\n : 줄바꿈\n",
        "- \\t : 탭(들여쓰기)\n",
        "- \\b : 백스페이스(하나 지움)\n",
        "- \\r : 앞의 글자 다 지우고 뒤에 글자를 들여쓰기\n",
        "- \\ : 뒤에 특수문자 표시하기"
      ],
      "metadata": {
        "id": "OJA-hsWmJpBs"
      }
    },
    {
      "cell_type": "code",
      "source": [
        "print(\"     \\rHello\")\n",
        "print(\"     Hello\")"
      ],
      "metadata": {
        "colab": {
          "base_uri": "https://localhost:8080/"
        },
        "id": "R7U_D5MJJTAi",
        "outputId": "7f88f403-8a89-4e66-c1d9-a60e8d74a1b6"
      },
      "execution_count": null,
      "outputs": [
        {
          "output_type": "stream",
          "name": "stdout",
          "text": [
            "     \rHello\n",
            "     Hello\n"
          ]
        }
      ]
    },
    {
      "cell_type": "markdown",
      "source": [
        "raw string : r을 붙여서 특수문자 유지"
      ],
      "metadata": {
        "id": "HdoWSwomLzRC"
      }
    },
    {
      "cell_type": "code",
      "source": [
        "print('raw string을 사용하지 않고고\\b 문자 출력하기')\n",
        "print(r'raw string을 사용하지 않지 않고고./.,,.\\\\b 문자 출력하기')\n",
        "\n",
        "# 파일 경로 출력하기\n",
        "print('C:\\programs\\nayana')\n",
        "print('C:\\\\programs\\\\nayana') # \\로 경로 살리기\n",
        "print(r'C:\\programs\\nayana')  # r로 경로 살리기"
      ],
      "metadata": {
        "colab": {
          "base_uri": "https://localhost:8080/"
        },
        "id": "Sqs5F8wLLWvm",
        "outputId": "fde0c44a-c292-4641-c3ee-c24fed57cf49"
      },
      "execution_count": null,
      "outputs": [
        {
          "output_type": "stream",
          "name": "stdout",
          "text": [
            "raw string을 사용하지 않고고\b 문자 출력하기\n",
            "raw string을 사용하지 않지 않고고./.,,.\\\\b 문자 출력하기\n",
            "C:\\programs\n",
            "ayana\n",
            "C:\\programs\\nayana\n",
            "C:\\programs\\nayana\n"
          ]
        }
      ]
    },
    {
      "cell_type": "markdown",
      "source": [
        "#### 정규식 패턴\n",
        "- I : `IGNORECASE` 대소문자 미구분 \n",
        "- X : `VERBOSE` 정규식 안의 공백 무시\n",
        "- M : `MULTILINE` 여러 줄의 문자열에 대해 패턴을 탐색할 수 있게 함\n",
        "- S : `DOTALL` 점(.)을 줄바꾸기 문자도 포함하여 매치하게 함\n",
        "- L : `LOCATE` \\w, \\W, \\b, \\B를 현재의 로케일에 영향을 받음 ??\n",
        "- U : `UNICODE` \\w, \\W, \\b, \\B가 유니코드 문자 특성에 의존함 ??   \n",
        "\n",
        "위의 패턴은 아래와 같이 사용할 수 있으며 여러 패턴을 등록하려면 | 을 사용합니다."
      ],
      "metadata": {
        "id": "FHZf1ppME2z9"
      }
    },
    {
      "cell_type": "code",
      "source": [
        "import re\n",
        "\n",
        "s = \"\"\"\n",
        "c\n",
        "b\n",
        "A\n",
        "\"\"\"\n",
        "print(re.search('a', s, re.M|re.I)) # re.M(여러줄탐색) |(구분) re.I(대소문자미구분)"
      ],
      "metadata": {
        "colab": {
          "base_uri": "https://localhost:8080/"
        },
        "id": "jsTXnMVOGIQg",
        "outputId": "4970c31b-e54d-41e5-9c71-3975729cb249"
      },
      "execution_count": null,
      "outputs": [
        {
          "output_type": "stream",
          "name": "stdout",
          "text": [
            "<re.Match object; span=(5, 6), match='A'>\n"
          ]
        }
      ]
    },
    {
      "cell_type": "markdown",
      "source": [
        "#### re.compile\n",
        "- 자주쓰는 정규표현식이나 패턴을 지정\n",
        "- re.compile('정규표현식', 패턴)\n"
      ],
      "metadata": {
        "id": "p_mZlrVXGf0E"
      }
    },
    {
      "cell_type": "code",
      "source": [
        "# re.함수(컴파일, '문자열')\n",
        "phone = re.compile(\"\"\"\n",
        "010     \n",
        "-\\d{4}  \n",
        "-\\d{4} \n",
        "\"\"\", re.VERBOSE)\n",
        "\n",
        "a = '010-9695-3199abc'\n",
        "\n",
        "print(re.search(phone, a))"
      ],
      "metadata": {
        "colab": {
          "base_uri": "https://localhost:8080/"
        },
        "id": "Qwo0RKVmCASV",
        "outputId": "e8ee763f-46ea-46f4-88db-0f0d60c3caea"
      },
      "execution_count": null,
      "outputs": [
        {
          "output_type": "stream",
          "name": "stdout",
          "text": [
            "<re.Match object; span=(0, 13), match='010-9695-3199'>\n"
          ]
        }
      ]
    },
    {
      "cell_type": "code",
      "source": [
        "# 컴파일.함수('문자열')\n",
        "phone = re.compile(\"010-\\d{4}-\\d{4}\")\n",
        "\n",
        "info = ['홍길동 010-1234-1234', '고길동 010-5678-5679']\n",
        "\n",
        "for text in info:\n",
        "    match_object = phone.search(text)\n",
        "    print(match_object.group())"
      ],
      "metadata": {
        "colab": {
          "base_uri": "https://localhost:8080/"
        },
        "id": "hbw0So2KH_D4",
        "outputId": "656d8273-c25e-45c1-e435-efcec4144357"
      },
      "execution_count": null,
      "outputs": [
        {
          "output_type": "stream",
          "name": "stdout",
          "text": [
            "010-1234-1234\n",
            "010-5678-5679\n"
          ]
        }
      ]
    },
    {
      "cell_type": "markdown",
      "source": [
        "#### re.search\n",
        "- re.search('정규표현식', '문자열',패턴)\n",
        "- 정규표현식에 해당하는 글자 찾기"
      ],
      "metadata": {
        "id": "BzxlFLqi-i7V"
      }
    },
    {
      "cell_type": "code",
      "source": [
        "import re\n",
        "\n",
        "wordlist = [\"color\", \"colour\", \"work\", \"working\",\n",
        "            \"fox\", \"worker\", \"working\"]\n",
        "\n",
        "for word in wordlist:\n",
        "    if re.search('col.r', word): \n",
        "        print(word)"
      ],
      "metadata": {
        "colab": {
          "base_uri": "https://localhost:8080/"
        },
        "id": "lUBrutT3-Un6",
        "outputId": "47501510-f51b-421e-ba8d-b9b76089e0a2"
      },
      "execution_count": null,
      "outputs": [
        {
          "output_type": "stream",
          "name": "stdout",
          "text": [
            "color\n"
          ]
        }
      ]
    },
    {
      "cell_type": "markdown",
      "source": [
        "**점(.)은 하나의 문자를 뜻하고, *를 붙이면 개수 무시**"
      ],
      "metadata": {
        "id": "7b1k0lC49yXF"
      }
    },
    {
      "cell_type": "code",
      "source": [
        "import re \n",
        "\n",
        "print(re.search('w..w', 'wow'))\n",
        "print(re.search('w..w', 'woow'))\n",
        "print(re.search('w..w', 'wooow'))\n",
        "print(re.search('w.*w','wabcdefgw'))"
      ],
      "metadata": {
        "colab": {
          "base_uri": "https://localhost:8080/"
        },
        "id": "eCrAzFzS9GCW",
        "outputId": "3584a9ea-29b2-433e-8bea-4f7ecf635f99"
      },
      "execution_count": null,
      "outputs": [
        {
          "output_type": "stream",
          "name": "stdout",
          "text": [
            "None\n",
            "<re.Match object; span=(0, 4), match='woow'>\n",
            "None\n",
            "<re.Match object; span=(0, 9), match='wabcdefgw'>\n"
          ]
        }
      ]
    },
    {
      "cell_type": "markdown",
      "source": [
        "#### re.match\n",
        "- 문자열의 처음부터 정규표현식과 일치하는 값 불러오기\n",
        "- re.match('정규표현식', '문자열', 패턴) \n"
      ],
      "metadata": {
        "id": "4jhXOF0v_E3H"
      }
    },
    {
      "cell_type": "code",
      "source": [
        "regular_expressions = '<html><head><title>Title</title>'\n",
        "\n",
        "print(len(regular_expressions))\n",
        "print(re.match('<.*>',regular_expressions))     \n",
        "print(re.match('<.*>', regular_expressions).span())  # span 출력\n",
        "print(re.match('<.*>', regular_expressions).group()) # 일치하는 값 출력"
      ],
      "metadata": {
        "colab": {
          "base_uri": "https://localhost:8080/"
        },
        "id": "puyw33DQ_Jjr",
        "outputId": "828311a6-8b1b-4a27-9f8f-406e6373c015"
      },
      "execution_count": null,
      "outputs": [
        {
          "output_type": "stream",
          "name": "stdout",
          "text": [
            "32\n",
            "<re.Match object; span=(0, 32), match='<html><head><title>Title</title>'>\n",
            "(0, 32)\n",
            "<html><head><title>Title</title>\n"
          ]
        }
      ]
    }
  ]
}