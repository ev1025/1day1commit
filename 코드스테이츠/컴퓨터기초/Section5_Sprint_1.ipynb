{
  "nbformat": 4,
  "nbformat_minor": 0,
  "metadata": {
    "colab": {
      "provenance": [],
      "collapsed_sections": [
        "pVTt_Fc83bgk",
        "HOy4FFtt7L6-",
        "zhgjTBEGh5i-",
        "Qy_o6myBnv2G",
        "mAjTNJ11rzrY",
        "9_BN8pQwoFPc",
        "aTXNxRRbmBmr",
        "4CYnkgur9HBW",
        "FHKBI7WNeqvj",
        "eO0TxVnV_BdQ",
        "ih6aZ7LDVhSb",
        "at3E6tuKLl-c",
        "KsI3ArJcJbDq",
        "kYO6Q-vwLp-7",
        "-i7x5QRRx3w-",
        "Kutety7EXlm3",
        "QVegzGreXnF9",
        "iDvuuEth3_Ui",
        "7GYH9ny08peP",
        "xJKNWSQOt-Mq",
        "ssGHws4-pUod",
        "Xq4B6OCAXH0D",
        "GlQsYP2AW_Ze",
        "XmuObmEDXJ9U"
      ],
      "authorship_tag": "ABX9TyOOl71zzE5L0+SWgPE9nP30",
      "include_colab_link": true
    },
    "kernelspec": {
      "name": "python3",
      "display_name": "Python 3"
    },
    "language_info": {
      "name": "python"
    }
  },
  "cells": [
    {
      "cell_type": "markdown",
      "metadata": {
        "id": "view-in-github",
        "colab_type": "text"
      },
      "source": [
        "<a href=\"https://colab.research.google.com/github/ev1025/1day1commit/blob/main/%EC%BD%94%EB%93%9C%EC%8A%A4%ED%85%8C%EC%9D%B4%EC%B8%A0/%EC%BB%B4%ED%93%A8%ED%84%B0%EA%B8%B0%EC%B4%88/Section5_Sprint_1.ipynb\" target=\"_parent\"><img src=\"https://colab.research.google.com/assets/colab-badge.svg\" alt=\"Open In Colab\"/></a>"
      ]
    },
    {
      "cell_type": "markdown",
      "source": [
        "# Section 5 Sprint 1"
      ],
      "metadata": {
        "id": "KdbDfJJB3UFw"
      }
    },
    {
      "cell_type": "markdown",
      "source": [
        "# Note1"
      ],
      "metadata": {
        "id": "ox3iYOaP3Zjr"
      }
    },
    {
      "cell_type": "markdown",
      "source": [
        "### Map함수\n",
        "- 함수를 iterator에 적용한다.\n",
        "- 출력 시에 list 사용\n",
        "- map(함수, 적용할 iterator)"
      ],
      "metadata": {
        "id": "pVTt_Fc83bgk"
      }
    },
    {
      "cell_type": "code",
      "execution_count": null,
      "metadata": {
        "colab": {
          "base_uri": "https://localhost:8080/"
        },
        "id": "rtvqwPPb3DaX",
        "outputId": "2e68095a-77c4-4a29-9515-1ce2daac7c34"
      },
      "outputs": [
        {
          "output_type": "stream",
          "name": "stdout",
          "text": [
            "lambda : [1, 4, 9, 16, 25]\n",
            "type : ['1', '2', '3', '4', '5']\n"
          ]
        }
      ],
      "source": [
        "iterator = [1,2,3,4,5]\n",
        "\n",
        "# 함수 적용\n",
        "mapping = map(lambda x: x**2, iterator)\n",
        "print(f\"lambda : {list(mapping)}\")\n",
        "\n",
        "# 타입 적용\n",
        "mapping2= map(str, iterator)\n",
        "print(f\"type : {list(mapping2)}\")"
      ]
    },
    {
      "cell_type": "markdown",
      "source": [
        "### reduce함수\n",
        "- reduce(함수, iterator)\n",
        "- 함수에는 두 element를 연산하는 로직을 넣어야한다."
      ],
      "metadata": {
        "id": "IFYWE7WUaNx4"
      }
    },
    {
      "cell_type": "code",
      "source": [
        "from functools import reduce\n",
        "\n",
        "def SumFunction(x, y):\n",
        "    return x + y\n",
        "    \n",
        "target = list(range(1,10))\n",
        "reduce(SumFunction, target)"
      ],
      "metadata": {
        "colab": {
          "base_uri": "https://localhost:8080/"
        },
        "id": "OMv6ruGxacS5",
        "outputId": "8600ae3d-9e3a-40eb-ba44-50c5a79f8b9d"
      },
      "execution_count": null,
      "outputs": [
        {
          "output_type": "execute_result",
          "data": {
            "text/plain": [
              "45"
            ]
          },
          "metadata": {},
          "execution_count": 130
        }
      ]
    },
    {
      "cell_type": "code",
      "source": [
        "reduce(lambda x,y : x+y, target)"
      ],
      "metadata": {
        "colab": {
          "base_uri": "https://localhost:8080/"
        },
        "id": "2wYu1lSucL8Z",
        "outputId": "b276eeaf-f0f4-45e3-9f65-0658fe46dd6a"
      },
      "execution_count": null,
      "outputs": [
        {
          "output_type": "execute_result",
          "data": {
            "text/plain": [
              "45"
            ]
          },
          "metadata": {},
          "execution_count": 129
        }
      ]
    },
    {
      "cell_type": "code",
      "source": [
        "# comprehension으로 하는 법\n",
        "import numpy as np\n",
        "print(np.sum([x for x in range(1,10)]))"
      ],
      "metadata": {
        "colab": {
          "base_uri": "https://localhost:8080/"
        },
        "id": "LKFMT-5dbq-V",
        "outputId": "c177ff2f-2add-469d-aded-2b2b1118255f"
      },
      "execution_count": null,
      "outputs": [
        {
          "output_type": "stream",
          "name": "stdout",
          "text": [
            "45\n"
          ]
        }
      ]
    },
    {
      "cell_type": "markdown",
      "source": [
        "### Filter함수\n",
        "- 조건(함수)가 참인 iterator만 출력\n",
        "- 출력 시 list 사용\n",
        "- filter(함수, iterator)"
      ],
      "metadata": {
        "id": "9WNL69L242Rb"
      }
    },
    {
      "cell_type": "code",
      "source": [
        "iterator = [1,2,3,4,5]\n",
        "\n",
        "def 짝수(x):\n",
        "    iterators = True if x%2 ==0 else False\n",
        "    return iterators  \n",
        "\n",
        "filtering = filter(짝수,iterator)\n",
        "\n",
        "print(list(filtering))"
      ],
      "metadata": {
        "colab": {
          "base_uri": "https://localhost:8080/"
        },
        "id": "_vWXCkY24Rqw",
        "outputId": "51f1acfd-21f8-4eb3-c3fe-ea86d38f5abf"
      },
      "execution_count": null,
      "outputs": [
        {
          "output_type": "stream",
          "name": "stdout",
          "text": [
            "[2, 4]\n"
          ]
        }
      ]
    },
    {
      "cell_type": "code",
      "source": [
        "iterator = [1,2,3,4,5]\n",
        "\n",
        "filtering = filter(lambda x : x%2==0, iterator)\n",
        "print(list(filtering))"
      ],
      "metadata": {
        "colab": {
          "base_uri": "https://localhost:8080/"
        },
        "id": "q0rKFb1e77jT",
        "outputId": "90eaba29-1ccf-4afe-fecf-49900cac3f13"
      },
      "execution_count": null,
      "outputs": [
        {
          "output_type": "stream",
          "name": "stdout",
          "text": [
            "[2, 4]\n"
          ]
        }
      ]
    },
    {
      "cell_type": "markdown",
      "source": [
        "### zip\n",
        "- zip(iterator1, iterator2, iterator3...)\n",
        "- 여러개의 iterator를 묶어준다.\n",
        "- list로 프린트시 [튜플,튜플...]형태,  dict로 프린트시 dict형태\n",
        "- 원소의 개수가 맞지 않을 경우, 적은 개수에 맞춤\n",
        "- 가변인자를 받기 때문에 여러 iterator를 병렬처리 할 수 있다.\n",
        "* 가변인자(*args) : 개수가 여러개인 인자(\"a\"처럼 1개가 아닌 \"abcdsf\"처럼 여러개의 인자)"
      ],
      "metadata": {
        "id": "oH27nGvSFtCR"
      }
    },
    {
      "cell_type": "code",
      "source": [
        "a = {1:2, 2:3, 3:4, 4:5} # 개수가 맞지 않아서 4:5는 제외\n",
        "b = (\"A\", \"B\", \"C\")\n",
        "result = list(zip(a, b))\n",
        "print(result)"
      ],
      "metadata": {
        "colab": {
          "base_uri": "https://localhost:8080/"
        },
        "id": "bnJ2Rna6Ftxk",
        "outputId": "8eecd9da-4158-4091-c007-9f809e94cb81"
      },
      "execution_count": null,
      "outputs": [
        {
          "output_type": "stream",
          "name": "stdout",
          "text": [
            "[(1, 'A'), (2, 'B'), (3, 'C')]\n"
          ]
        }
      ]
    },
    {
      "cell_type": "code",
      "source": [
        "# 언패킹 zip(*) => 튜플로 나옴\n",
        "c, d = zip(*result)\n",
        "print(c)\n",
        "print(d)"
      ],
      "metadata": {
        "colab": {
          "base_uri": "https://localhost:8080/"
        },
        "id": "AzrlczWeGVhA",
        "outputId": "917ee1d3-b932-4ad2-aa36-639a1a8cc65d"
      },
      "execution_count": null,
      "outputs": [
        {
          "output_type": "stream",
          "name": "stdout",
          "text": [
            "(1, 2, 3)\n",
            "('A', 'B', 'C')\n"
          ]
        }
      ]
    },
    {
      "cell_type": "code",
      "source": [
        "# dict 만들기\n",
        "e = [1, 2, 3]\n",
        "f = [\"A\", \"B\", \"C\"]\n",
        "mkdict = dict(zip(e,f))\n",
        "print(mkdict)"
      ],
      "metadata": {
        "colab": {
          "base_uri": "https://localhost:8080/"
        },
        "id": "W-dHu4KjHk7v",
        "outputId": "9b6d96e5-9c06-44dc-d19c-dc6d0bd451bd"
      },
      "execution_count": null,
      "outputs": [
        {
          "output_type": "stream",
          "name": "stdout",
          "text": [
            "{1: 'A', 2: 'B', 3: 'C'}\n"
          ]
        }
      ]
    },
    {
      "cell_type": "markdown",
      "source": [
        "### 추가 함수"
      ],
      "metadata": {
        "id": "HOy4FFtt7L6-"
      }
    },
    {
      "cell_type": "markdown",
      "source": [
        "append('요소' 또는 iterator) : iterator를 형태 그대로 추가"
      ],
      "metadata": {
        "id": "rfgE9Wlana1f"
      }
    },
    {
      "cell_type": "code",
      "source": [
        "# append ( a[len(a):] = [x] )\n",
        "a = [1,2,3]\n",
        "a.append('a')\n",
        "a.append({'b':'c'})\n",
        "print(a)"
      ],
      "metadata": {
        "colab": {
          "base_uri": "https://localhost:8080/"
        },
        "id": "_iFV4yt67vnF",
        "outputId": "958307fc-4774-44b5-8ffa-ae5073be6c4a"
      },
      "execution_count": null,
      "outputs": [
        {
          "output_type": "stream",
          "name": "stdout",
          "text": [
            "[1, 2, 3, 'a', {'b': 'c'}]\n"
          ]
        }
      ]
    },
    {
      "cell_type": "markdown",
      "source": [
        "extend('요소' 또는 iterator) : 요소, iterator모두 요소별로 추가 "
      ],
      "metadata": {
        "id": "AwObkENtnfDq"
      }
    },
    {
      "cell_type": "code",
      "source": [
        "# extend ( a[len(a):] = iterable )\n",
        "a = [1,2,3]\n",
        "a.extend(('a','b'))\n",
        "print(a)"
      ],
      "metadata": {
        "colab": {
          "base_uri": "https://localhost:8080/"
        },
        "id": "N-JmAw-b8Ofm",
        "outputId": "8abbcb36-1fa6-4f9c-ca7d-cb906e0320e3"
      },
      "execution_count": null,
      "outputs": [
        {
          "output_type": "stream",
          "name": "stdout",
          "text": [
            "[1, 2, 3, 'a', 'b']\n"
          ]
        }
      ]
    },
    {
      "cell_type": "markdown",
      "source": [
        "insert(인덱스, '요소' 또는 iterator) : 원하는 인덱스에 요소나 iterator 추가"
      ],
      "metadata": {
        "id": "ccNxACswnhoW"
      }
    },
    {
      "cell_type": "code",
      "source": [
        "# insert\n",
        "a = [1,2,3]\n",
        "a.insert(1,('a','b'))\n",
        "print(a)"
      ],
      "metadata": {
        "colab": {
          "base_uri": "https://localhost:8080/"
        },
        "id": "L_9cnjNy8oW4",
        "outputId": "7fb6c811-71b1-405b-9a76-65b7eeb332e6"
      },
      "execution_count": null,
      "outputs": [
        {
          "output_type": "stream",
          "name": "stdout",
          "text": [
            "[1, ('a', 'b'), 2, 3]\n"
          ]
        }
      ]
    },
    {
      "cell_type": "markdown",
      "source": [
        "### 제거함수"
      ],
      "metadata": {
        "id": "zhgjTBEGh5i-"
      }
    },
    {
      "cell_type": "markdown",
      "source": [
        "**리스트.remove(x)**\n",
        "- 리스트에서 x를 삭제, 존재하지않으면 ValueError를 일으킴"
      ],
      "metadata": {
        "id": "sLucbt5ih_ao"
      }
    },
    {
      "cell_type": "code",
      "source": [
        "list1 = ['a', 11, 12, 43, 4, 6]\n",
        "list1.remove('a')\n",
        "print(list1)"
      ],
      "metadata": {
        "colab": {
          "base_uri": "https://localhost:8080/"
        },
        "id": "I7vaQOpsh-cE",
        "outputId": "8da36833-4cec-4227-80d2-b43dd3708fbb"
      },
      "execution_count": null,
      "outputs": [
        {
          "output_type": "stream",
          "name": "stdout",
          "text": [
            "[11, 12, 43, 4, 6]\n"
          ]
        }
      ]
    },
    {
      "cell_type": "markdown",
      "source": [
        "**리스트.pop(i)**\n",
        "- 리스트에서 인덱스에 맞는 값을 출력 후 제거\n",
        "- 인덱스를 지정하지 않으면 맨 뒤에 값을 선택"
      ],
      "metadata": {
        "id": "FuJYLq3gi772"
      }
    },
    {
      "cell_type": "code",
      "source": [
        "list2 = ['a', 11, 12, 43, 4, 6]\n",
        "a = list2.pop(0)\n",
        "\n",
        "print(list2)\n",
        "print(a)"
      ],
      "metadata": {
        "colab": {
          "base_uri": "https://localhost:8080/"
        },
        "id": "qiBqRm_Ah-K0",
        "outputId": "28c870ae-d361-44e3-853d-764d4990d833"
      },
      "execution_count": null,
      "outputs": [
        {
          "output_type": "stream",
          "name": "stdout",
          "text": [
            "[11, 12, 43, 4, 6]\n",
            "a\n"
          ]
        }
      ]
    },
    {
      "cell_type": "markdown",
      "source": [
        "**del 리스트[인덱스]**\n",
        "- 리스트에서 인덱스를 사용하여 값을 제거"
      ],
      "metadata": {
        "id": "KnEKCSA9jo1M"
      }
    },
    {
      "cell_type": "code",
      "source": [
        "a = [-1, 1, 66.25, 333, 333, 1234.5]\n",
        "\n",
        "del a[0]\n",
        "print(a)\n",
        "\n",
        "del a[0:2]\n",
        "a"
      ],
      "metadata": {
        "colab": {
          "base_uri": "https://localhost:8080/"
        },
        "id": "5CKsa1t_h89q",
        "outputId": "4ea11cf9-fc40-41a3-afe3-887ffe1227e7"
      },
      "execution_count": null,
      "outputs": [
        {
          "output_type": "stream",
          "name": "stdout",
          "text": [
            "[1, 66.25, 333, 333, 1234.5]\n"
          ]
        },
        {
          "output_type": "execute_result",
          "data": {
            "text/plain": [
              "[333, 333, 1234.5]"
            ]
          },
          "metadata": {},
          "execution_count": 165
        }
      ]
    },
    {
      "cell_type": "code",
      "source": [
        "del a[:]\n",
        "a"
      ],
      "metadata": {
        "colab": {
          "base_uri": "https://localhost:8080/"
        },
        "id": "kW5Jb1Simjsx",
        "outputId": "223d9692-d599-47ae-af1a-32e6ad51eb19"
      },
      "execution_count": null,
      "outputs": [
        {
          "output_type": "execute_result",
          "data": {
            "text/plain": [
              "[]"
            ]
          },
          "metadata": {},
          "execution_count": 175
        }
      ]
    },
    {
      "cell_type": "code",
      "source": [
        "# 리스트 자체를 없애버릴 수 있음\n",
        "del a\n",
        "a"
      ],
      "metadata": {
        "colab": {
          "base_uri": "https://localhost:8080/",
          "height": 201
        },
        "id": "56TlxLaykTDs",
        "outputId": "9f4455a4-5e4d-4723-bed9-4a0b3dba7fb0"
      },
      "execution_count": null,
      "outputs": [
        {
          "output_type": "error",
          "ename": "NameError",
          "evalue": "ignored",
          "traceback": [
            "\u001b[0;31m---------------------------------------------------------------------------\u001b[0m",
            "\u001b[0;31mNameError\u001b[0m                                 Traceback (most recent call last)",
            "\u001b[0;32m<ipython-input-176-7b8a16fae866>\u001b[0m in \u001b[0;36m<module>\u001b[0;34m\u001b[0m\n\u001b[1;32m      1\u001b[0m \u001b[0;31m# 리스트 자체를 없애버릴 수 있음\u001b[0m\u001b[0;34m\u001b[0m\u001b[0;34m\u001b[0m\u001b[0;34m\u001b[0m\u001b[0m\n\u001b[1;32m      2\u001b[0m \u001b[0;32mdel\u001b[0m \u001b[0ma\u001b[0m\u001b[0;34m\u001b[0m\u001b[0;34m\u001b[0m\u001b[0m\n\u001b[0;32m----> 3\u001b[0;31m \u001b[0ma\u001b[0m\u001b[0;34m\u001b[0m\u001b[0;34m\u001b[0m\u001b[0m\n\u001b[0m",
            "\u001b[0;31mNameError\u001b[0m: name 'a' is not defined"
          ]
        }
      ]
    },
    {
      "cell_type": "markdown",
      "source": [
        "**리스트.clear()**\n",
        "- 리스트 안의 값을 모두 제거\n",
        "- del a[:]와 같음 => []는 남김"
      ],
      "metadata": {
        "id": "VBnCXMHgmUtf"
      }
    },
    {
      "cell_type": "code",
      "source": [
        "a = [-1, 1, 66.25, 333, 333, 1234.5]\n",
        "a.clear()\n",
        "a"
      ],
      "metadata": {
        "colab": {
          "base_uri": "https://localhost:8080/"
        },
        "id": "sKoqKNnkmOYH",
        "outputId": "6d0628ea-7961-424f-a406-f175df89d13f"
      },
      "execution_count": null,
      "outputs": [
        {
          "output_type": "execute_result",
          "data": {
            "text/plain": [
              "[]"
            ]
          },
          "metadata": {},
          "execution_count": 177
        }
      ]
    },
    {
      "cell_type": "markdown",
      "source": [
        "### count\n",
        "- 리스트.count('x') : 리스트에 등장하는 횟수를 돌려줌\n"
      ],
      "metadata": {
        "id": "Qy_o6myBnv2G"
      }
    },
    {
      "cell_type": "code",
      "source": [
        "my_list = ['xyz', 'XYZ' 'abc', 'ABC']\n",
        "print(my_list.count( 'xyz' ))"
      ],
      "metadata": {
        "colab": {
          "base_uri": "https://localhost:8080/"
        },
        "id": "Q8YyKizFnvgj",
        "outputId": "0785d6cb-cda6-41f9-9db7-8f663e97616e"
      },
      "execution_count": null,
      "outputs": [
        {
          "output_type": "stream",
          "name": "stdout",
          "text": [
            "1\n"
          ]
        }
      ]
    },
    {
      "cell_type": "markdown",
      "source": [
        "### find"
      ],
      "metadata": {
        "id": "mAjTNJ11rzrY"
      }
    },
    {
      "cell_type": "markdown",
      "source": [
        "- 문자열.find('x', start, end)\n",
        "- 문자열에서 x의 인덱스를 찾아줌\n",
        "- x가 존재하지 않으면 -1 출력"
      ],
      "metadata": {
        "id": "ZxLS_7Q8r-go"
      }
    },
    {
      "cell_type": "code",
      "source": [
        "a = '1,1,3,4'\n",
        "a.find('3')"
      ],
      "metadata": {
        "colab": {
          "base_uri": "https://localhost:8080/"
        },
        "id": "8-DMM2NGrzAJ",
        "outputId": "65ac82ee-d083-474f-91a0-7eb45c884740"
      },
      "execution_count": null,
      "outputs": [
        {
          "output_type": "execute_result",
          "data": {
            "text/plain": [
              "4"
            ]
          },
          "metadata": {},
          "execution_count": 6
        }
      ]
    },
    {
      "cell_type": "markdown",
      "source": [
        "### index\n",
        "- 리스트.index('x', start, end) \n",
        "- 리스트, 문자열,튜플\n",
        "- x가 있는 인덱스 찾아주기\n",
        "- 없으면 ValueError, 제일 첫번째 값의 인덱스만 찾아줌"
      ],
      "metadata": {
        "id": "9_BN8pQwoFPc"
      }
    },
    {
      "cell_type": "code",
      "source": [
        "a = [1,1,3,4]\n",
        "a.index(1)"
      ],
      "metadata": {
        "colab": {
          "base_uri": "https://localhost:8080/"
        },
        "id": "R3981nAOodDX",
        "outputId": "0b0d5f26-f060-4d2d-f30c-6a47ef18454e"
      },
      "execution_count": null,
      "outputs": [
        {
          "output_type": "execute_result",
          "data": {
            "text/plain": [
              "0"
            ]
          },
          "metadata": {},
          "execution_count": 199
        }
      ]
    },
    {
      "cell_type": "code",
      "source": [
        "b = [1,2,1,4]\n",
        "b.index(1, 1, 3)"
      ],
      "metadata": {
        "colab": {
          "base_uri": "https://localhost:8080/"
        },
        "id": "xjRQs5hpqNmP",
        "outputId": "d8e7820c-ed18-41b1-b2d9-4a7414f6e44f"
      },
      "execution_count": null,
      "outputs": [
        {
          "output_type": "execute_result",
          "data": {
            "text/plain": [
              "2"
            ]
          },
          "metadata": {},
          "execution_count": 202
        }
      ]
    },
    {
      "cell_type": "markdown",
      "source": [
        "### list comprehension"
      ],
      "metadata": {
        "id": "aTXNxRRbmBmr"
      }
    },
    {
      "cell_type": "code",
      "source": [
        "# 2번 엮기\n",
        "matrix = [\n",
        "    [1, 2, 3, 4],\n",
        "    [5, 6, 7, 8],\n",
        "    [9, 10, 11, 12],\n",
        "]\n",
        "\n",
        "[[row[i] for row in matrix]for i in range(4)]"
      ],
      "metadata": {
        "colab": {
          "base_uri": "https://localhost:8080/"
        },
        "id": "csOQf9MxlG2m",
        "outputId": "c6d9cc34-214a-4080-fb5a-34f00a4ebd3a"
      },
      "execution_count": null,
      "outputs": [
        {
          "output_type": "execute_result",
          "data": {
            "text/plain": [
              "[[1, 5, 9], [2, 6, 10], [3, 7, 11], [4, 8, 12]]"
            ]
          },
          "metadata": {},
          "execution_count": 171
        }
      ]
    },
    {
      "cell_type": "markdown",
      "source": [
        "### upper, lower\n",
        "- 소문자, 대문자로 바꿔줌\n",
        "- 문자열.upper()  / 문자열.lower()\n",
        "- 문자열.isupper() : 대문자면 True, 아니면 False 반환\n",
        "- 문자열.islower() : 소문자면 True, 아니면 False 반환"
      ],
      "metadata": {
        "id": "4CYnkgur9HBW"
      }
    },
    {
      "cell_type": "code",
      "source": [
        "print(f\"ABC는 대문자이다 = {'ABC'.isupper()}\")\n",
        "print(f\"Abc는 대문자이다 = {'Abc'.isupper()}\")"
      ],
      "metadata": {
        "colab": {
          "base_uri": "https://localhost:8080/"
        },
        "id": "d6yqvzBv-HQF",
        "outputId": "dac91e4e-a30e-4ee8-bd8e-630a88599669"
      },
      "execution_count": null,
      "outputs": [
        {
          "output_type": "stream",
          "name": "stdout",
          "text": [
            "ABC는 대문자이다 = True\n",
            "Abc는 대문자이다 = False\n"
          ]
        }
      ]
    },
    {
      "cell_type": "markdown",
      "source": [
        "### ord(), chr()\n",
        "- ord('문자') : 문자를 아스키코드 숫자로 바꿔줌\n",
        "- chr('숫자') : 숫자를 아스키코드 문자로 바꿔줌"
      ],
      "metadata": {
        "id": "xaY6cz2VVUuA"
      }
    },
    {
      "cell_type": "code",
      "source": [
        "print(ord('A'))\n",
        "print(chr(65))"
      ],
      "metadata": {
        "colab": {
          "base_uri": "https://localhost:8080/"
        },
        "id": "gdgnkSb6XKbB",
        "outputId": "8e38ba1e-3fe4-4497-cc74-716605b77cfd"
      },
      "execution_count": null,
      "outputs": [
        {
          "output_type": "stream",
          "name": "stdout",
          "text": [
            "65\n",
            "A\n"
          ]
        }
      ]
    },
    {
      "cell_type": "code",
      "source": [
        "# X가 B,C,D,E,F 사이에 있는 값인지 확인하고 싶을 때\n",
        "X = ord('D')\n",
        "\n",
        "if X >= ord('B') and X <=ord('F'):\n",
        "    print('포함한다') \n",
        "else:\n",
        "    print('포함하지 않는다.')"
      ],
      "metadata": {
        "colab": {
          "base_uri": "https://localhost:8080/"
        },
        "id": "huYxiNB_VUUd",
        "outputId": "5f37b40b-33b1-452d-e422-55cabd96ea1a"
      },
      "execution_count": null,
      "outputs": [
        {
          "output_type": "stream",
          "name": "stdout",
          "text": [
            "포함한다\n"
          ]
        }
      ]
    },
    {
      "cell_type": "code",
      "source": [
        "class Human:\n",
        "    def __init__(self, name, age):\n",
        "        self.name = name\n",
        "        self.age = age\n",
        "humans = [\n",
        "    Human(\"Abi\", 29),\n",
        "    Human(\"Batista\", 32),\n",
        "    Human(\"Charlse\", 37),\n",
        "    Human(\"Dolphine\", 30),\n",
        "    Human(\"Eva\", 26),\n",
        "    Human(\"Frin\", 18),\n",
        "    Human(\"Gless\", 42),\n",
        "    Human(\"Harby\", 12),\n",
        "    Human(\"Iris\", 41),\n",
        "    Human(\"David\", 31),\n",
        "]\n",
        "\n",
        "# 첫 글자가 [C,D,E,F,G]에 포함되는지\n",
        "def quesion3():\n",
        "    a = [humans[i].name for i in range(len(humans)) for j in ['C','D','E','F','G'] if humans[i].name[0]==j]\n",
        "    b = list(filter(lambda x: x.startswith((\"C\", \"D\", \"E\", \"F\", \"G\")), [h.name for h in humans]))\n",
        "    c = [human.name for human in humans if ord(human.name[0])>=ord('C') and ord(human.name[0]) <=ord('G')]\n",
        "\n",
        "    print(a)\n",
        "    print(b)\n",
        "    print(c)\n",
        "quesion3()"
      ],
      "metadata": {
        "colab": {
          "base_uri": "https://localhost:8080/"
        },
        "id": "P_tpLZUDXia0",
        "outputId": "282ca7ca-02c6-439f-f94b-808bf8e9836a"
      },
      "execution_count": null,
      "outputs": [
        {
          "output_type": "stream",
          "name": "stdout",
          "text": [
            "['Charlse', 'Dolphine', 'Eva', 'Frin', 'Gless', 'David']\n",
            "['Charlse', 'Dolphine', 'Eva', 'Frin', 'Gless', 'David']\n",
            "['Charlse', 'Dolphine', 'Eva', 'Frin', 'Gless', 'David']\n"
          ]
        }
      ]
    },
    {
      "cell_type": "markdown",
      "source": [
        "### operator 모듈 함수\n",
        "- 키함수에 적용하는 함수, 다중 선택 가능\n",
        "- itemgetter : iterator의 인덱스를 기준으로 정렬\n",
        "- attrgetter : iterator의 컬럼명을 기준으로 정렬\n"
      ],
      "metadata": {
        "id": "FHKBI7WNeqvj"
      }
    },
    {
      "cell_type": "code",
      "source": [
        "from operator import itemgetter, attrgetter\n",
        "\n",
        "student_tuples = [\n",
        "    ('john', 'A', 15),\n",
        "    ('jane', 'B', 12),\n",
        "    ('dave', 'B', 10),\n",
        "]\n",
        "item = sorted(student_tuples, key=itemgetter(2))\n",
        "items = sorted(student_tuples, key=itemgetter(1,2)) \n",
        "\n",
        "# attr = sorted(student_objects, key=attrgetter('age','grade'))\n",
        "\n",
        "print(item)\n",
        "print(items)"
      ],
      "metadata": {
        "colab": {
          "base_uri": "https://localhost:8080/"
        },
        "id": "-eH5cHc2e5u-",
        "outputId": "08a9219b-4db0-427c-965b-bbfb80daa597"
      },
      "execution_count": null,
      "outputs": [
        {
          "output_type": "stream",
          "name": "stdout",
          "text": [
            "[('dave', 'B', 10), ('jane', 'B', 12), ('john', 'A', 15)]\n",
            "[('john', 'A', 15), ('dave', 'B', 10), ('jane', 'B', 12)]\n"
          ]
        }
      ]
    },
    {
      "cell_type": "markdown",
      "source": [
        "### sort, sorted\n",
        "**리스트.sort(key = 조건(함수) or operator, reverse=False)**\n",
        "- 기존 배열을 정렬(inplace=True), return이 없음, 리스트만 가능\n",
        "\n",
        "**sorted(iterator, key=조건 or operator, reverse=False)**   \n",
        "- 기존 배열은 유지(inplace=False), return을 정렬, 모든 iterator를 list로 변환"
      ],
      "metadata": {
        "id": "eO0TxVnV_BdQ"
      }
    },
    {
      "cell_type": "code",
      "source": [
        "# sort\n",
        "a = [3,2,1]\n",
        "b = a.sort()\n",
        "print(a)\n",
        "print(b)"
      ],
      "metadata": {
        "colab": {
          "base_uri": "https://localhost:8080/"
        },
        "id": "5zWMYAPW_Jtb",
        "outputId": "912ba1ee-edca-44bb-beb7-ceed4af5ee30"
      },
      "execution_count": null,
      "outputs": [
        {
          "output_type": "stream",
          "name": "stdout",
          "text": [
            "[1, 2, 3]\n",
            "None\n"
          ]
        }
      ]
    },
    {
      "cell_type": "code",
      "source": [
        "# sorted\n",
        "c = [3,2,1]\n",
        "d = sorted(c)\n",
        "print(c)\n",
        "print(d)"
      ],
      "metadata": {
        "colab": {
          "base_uri": "https://localhost:8080/"
        },
        "id": "Z7EOEGkt_nxr",
        "outputId": "78b6bedb-6346-455c-d60e-9e53633f9126"
      },
      "execution_count": null,
      "outputs": [
        {
          "output_type": "stream",
          "name": "stdout",
          "text": [
            "[3, 2, 1]\n",
            "[1, 2, 3]\n"
          ]
        }
      ]
    },
    {
      "cell_type": "code",
      "source": [
        "# sorted의 dict 변환\n",
        "e = {3:2,2:1}\n",
        "f = sorted(e)\n",
        "print(e)\n",
        "print(f)"
      ],
      "metadata": {
        "colab": {
          "base_uri": "https://localhost:8080/"
        },
        "id": "885VcvGaAQJU",
        "outputId": "10f4a7ca-f2e3-4f7b-aea4-d71fc9289bab"
      },
      "execution_count": null,
      "outputs": [
        {
          "output_type": "stream",
          "name": "stdout",
          "text": [
            "{3: 2, 2: 1}\n",
            "[2, 3]\n"
          ]
        }
      ]
    },
    {
      "cell_type": "code",
      "source": [
        "student_tuples = [\n",
        "    ('john', 'A', 15),\n",
        "    ('jane', 'B', 12),\n",
        "    ('dave', 'B', 10),\n",
        "]\n",
        "a = sorted(student_tuples, key=lambda student: student[2], reverse=True)\n",
        "b = sorted(student_tuples, key=lambda student: student[2], reverse=False)\n",
        "\n",
        "print(a) # 내림차순\n",
        "print(b) # 오름차순"
      ],
      "metadata": {
        "colab": {
          "base_uri": "https://localhost:8080/"
        },
        "id": "V6EGWM0hf5Bg",
        "outputId": "7839f253-1e16-403e-8543-1b053b7f4456"
      },
      "execution_count": null,
      "outputs": [
        {
          "output_type": "stream",
          "name": "stdout",
          "text": [
            "[('john', 'A', 15), ('jane', 'B', 12), ('dave', 'B', 10)]\n",
            "[('dave', 'B', 10), ('jane', 'B', 12), ('john', 'A', 15)]\n"
          ]
        }
      ]
    },
    {
      "cell_type": "code",
      "source": [
        "# operator 활용, itemgetter : 해당 인덱스 우선순위 \n",
        "from operator import itemgetter\n",
        "c = sorted(student_tuples, key=itemgetter(1,2), reverse=True)\n",
        "print(c)"
      ],
      "metadata": {
        "colab": {
          "base_uri": "https://localhost:8080/"
        },
        "id": "IN6_o37_64CO",
        "outputId": "19316d58-a52d-4cac-d1b0-d89edb2c514b"
      },
      "execution_count": null,
      "outputs": [
        {
          "output_type": "stream",
          "name": "stdout",
          "text": [
            "[('jane', 'B', 12), ('dave', 'B', 10), ('john', 'A', 15)]\n"
          ]
        }
      ]
    },
    {
      "cell_type": "markdown",
      "source": [
        "### reverse, reversed\n",
        "- 리스트를 역순\n",
        "- 리스트.reverse : 기존 배열 정렬(inplace=True), Return 없음\n",
        "- reversed(리스트 or 튜플 or str) : 기존 배열 유지(inplace=False), Return 있음"
      ],
      "metadata": {
        "id": "ih6aZ7LDVhSb"
      }
    },
    {
      "cell_type": "code",
      "source": [
        "a = ['a', 'b', 'c']\n",
        "b = a.reverse()\n",
        "print(a)\n",
        "print(b)"
      ],
      "metadata": {
        "colab": {
          "base_uri": "https://localhost:8080/"
        },
        "id": "oUCcgPO3VsZF",
        "outputId": "1ddfdfd5-baa2-4668-d89c-f67e1855232a"
      },
      "execution_count": null,
      "outputs": [
        {
          "output_type": "stream",
          "name": "stdout",
          "text": [
            "['c', 'b', 'a']\n",
            "None\n"
          ]
        }
      ]
    },
    {
      "cell_type": "code",
      "source": [
        "a = ['a', 'b', 'c']\n",
        "b = reversed(a)\n",
        "print(a)\n",
        "print(list(b))"
      ],
      "metadata": {
        "colab": {
          "base_uri": "https://localhost:8080/"
        },
        "id": "w1nbHRuoXD4o",
        "outputId": "842d5162-6dd3-402b-9d08-a59356eb8e0c"
      },
      "execution_count": null,
      "outputs": [
        {
          "output_type": "stream",
          "name": "stdout",
          "text": [
            "['a', 'b', 'c']\n",
            "['c', 'b', 'a']\n"
          ]
        }
      ]
    },
    {
      "cell_type": "code",
      "source": [
        "l = ['a', 'b', 'c']\n",
        "t = ('a', 'b', 'c')\n",
        "s = 'abc'\n",
        "\n",
        "print(reversed(l))  # <listreverseiterator object at 0x101053c10>\n",
        "print(reversed(t))  # <reversed object at 0x101053b50>\n",
        "print((reversed(s)))  # <reversed object at 0x101053c10>"
      ],
      "metadata": {
        "colab": {
          "base_uri": "https://localhost:8080/"
        },
        "id": "DTMY0y6YVLzc",
        "outputId": "1f3192d4-464b-46d8-a728-589a31153cbb"
      },
      "execution_count": null,
      "outputs": [
        {
          "output_type": "stream",
          "name": "stdout",
          "text": [
            "<list_reverseiterator object at 0x7ffa260ccdf0>\n",
            "<reversed object at 0x7ffa260cce20>\n",
            "<reversed object at 0x7ffa260ccdf0>\n"
          ]
        }
      ]
    },
    {
      "cell_type": "markdown",
      "source": [
        "### immutable, mutable\n",
        "\n"
      ],
      "metadata": {
        "id": "at3E6tuKLl-c"
      }
    },
    {
      "cell_type": "markdown",
      "source": [
        "**immutable**\n",
        "- 변경불가 객체(tuple, int float, str, bool) \n",
        "- 주소가 정해져있음\n",
        "- 변경하면 참조 대상을 바꿔버림"
      ],
      "metadata": {
        "id": "Ii09-fstM3QI"
      }
    },
    {
      "cell_type": "code",
      "source": [
        "print(\"immutable 객체\")\n",
        "a = 99\n",
        "b = 99\n",
        "c = 99\n",
        "\n",
        "print(hex(id(a)))\n",
        "print(hex(id(b)))\n",
        "print(hex(id(c)))"
      ],
      "metadata": {
        "colab": {
          "base_uri": "https://localhost:8080/"
        },
        "id": "qEBOYUvJMK_1",
        "outputId": "9f46621a-5983-4a8a-9e00-fe3cf07a9b9f"
      },
      "execution_count": null,
      "outputs": [
        {
          "output_type": "stream",
          "name": "stdout",
          "text": [
            "immutable 객체\n",
            "0xaffee0\n",
            "0xaffee0\n",
            "0xaffee0\n"
          ]
        }
      ]
    },
    {
      "cell_type": "markdown",
      "source": [
        "**mutable**\n",
        "- 변경가능 객체(list, set, dict) \n",
        "- 같은 값이라도 새로운 주소에 저장\n",
        "- 변경하면 주소 자체를 새로 할당"
      ],
      "metadata": {
        "id": "ezP8efxHM59R"
      }
    },
    {
      "cell_type": "code",
      "source": [
        "print(\"mutable 객체\")\n",
        "arr1 = [1, 2, 3]\n",
        "arr2 = [1, 2, 3]\n",
        "arr3 = [1, 2, 3]\n",
        "\n",
        "print(hex(id(arr1)))\n",
        "print(hex(id(arr2)))\n",
        "print(hex(id(arr3)))"
      ],
      "metadata": {
        "colab": {
          "base_uri": "https://localhost:8080/"
        },
        "id": "WNUOdgQHMUxP",
        "outputId": "ac77ec3d-9654-4a57-ccf7-ec0845ceea5c"
      },
      "execution_count": null,
      "outputs": [
        {
          "output_type": "stream",
          "name": "stdout",
          "text": [
            "mutable 객체\n",
            "0x7ffa26124cc0\n",
            "0x7ffa26137780\n",
            "0x7ffa26111840\n"
          ]
        }
      ]
    },
    {
      "cell_type": "markdown",
      "source": [
        "### random\n",
        "- random.seed(숫자) : 시드고정\n",
        "- random.random() : 0부터 1 사이의 수\n",
        "- random.randint(n, k) : n부터 k 사이의 정수"
      ],
      "metadata": {
        "id": "0wyVLH2_dXte"
      }
    },
    {
      "cell_type": "code",
      "source": [
        "import random\n",
        "\n",
        "print(random.random())\n",
        "print(random.randint(0,100))"
      ],
      "metadata": {
        "colab": {
          "base_uri": "https://localhost:8080/"
        },
        "id": "p_zlKtn0dkb-",
        "outputId": "17fad204-ab7e-4ce2-8656-7772c75c3ab3"
      },
      "execution_count": null,
      "outputs": [
        {
          "output_type": "stream",
          "name": "stdout",
          "text": [
            "0.3132079982242848\n",
            "36\n"
          ]
        }
      ]
    },
    {
      "cell_type": "markdown",
      "source": [
        "### 복사\n"
      ],
      "metadata": {
        "id": "KsI3ArJcJbDq"
      }
    },
    {
      "cell_type": "markdown",
      "source": [
        "**얕은 복사**\n",
        "- mutable데이터가 복사가 아닌 참조만 하는 복사\n",
        "- b = a\n",
        "- b = a[:]\n",
        "- b = a.copy()\n",
        "- b = copy.copy(a)"
      ],
      "metadata": {
        "id": "d1gPaxqMQylx"
      }
    },
    {
      "cell_type": "code",
      "source": [
        "# 얕은 복사 : 주소만 참조하여 two를 지우면 one도 지워짐\n",
        "one = {'a': 5, 'b': 4, 'c': 8}\n",
        "two = one\n",
        "del two['a']\n",
        "print(two, '주소:', hex(id(two)))\n",
        "print(one, '주소:', hex(id(one)))"
      ],
      "metadata": {
        "colab": {
          "base_uri": "https://localhost:8080/"
        },
        "id": "Y-DdVYH3KTtD",
        "outputId": "65ce9c09-7b51-4ac3-effa-0e2dccc726e7"
      },
      "execution_count": null,
      "outputs": [
        {
          "output_type": "stream",
          "name": "stdout",
          "text": [
            "{'b': 4, 'c': 8} 주소: 0x7ffa26129c00\n",
            "{'b': 4, 'c': 8} 주소: 0x7ffa26129c00\n"
          ]
        }
      ]
    },
    {
      "cell_type": "code",
      "source": [
        "# a가 하나만 삭제되어 깊은복사 같지만 안쪽 list의 주소값이 같음\n",
        "import copy\n",
        "one = {'a':2, 'b': 4, 'c': [1,2,3]}\n",
        "two = copy.copy(one)\n",
        "del two['a']\n",
        "print(two, '주소:', hex(id(two['c'])))\n",
        "print(one, '주소:', hex(id(one['c'])))"
      ],
      "metadata": {
        "colab": {
          "base_uri": "https://localhost:8080/"
        },
        "id": "mC4zP5HrJZuR",
        "outputId": "f7bdc51f-9805-417e-a82c-1dde3b738eb0"
      },
      "execution_count": null,
      "outputs": [
        {
          "output_type": "stream",
          "name": "stdout",
          "text": [
            "{'b': 4, 'c': [1, 2, 3]} 주소: 0x7ffa26202200\n",
            "{'a': 2, 'b': 4, 'c': [1, 2, 3]} 주소: 0x7ffa26202200\n"
          ]
        }
      ]
    },
    {
      "cell_type": "markdown",
      "source": [
        "**깊은 복사**\n",
        "- b = copy.deepcopy(a)"
      ],
      "metadata": {
        "id": "hUOQRQKOTeWk"
      }
    },
    {
      "cell_type": "code",
      "source": [
        "import copy                 # copy 모듈 불러오기\n",
        "\n",
        "arr1 = [1, 2, [99, 88, 77], 3]\n",
        "arr2 = copy.deepcopy(arr1)      # copy 모듈 깊은 복사\n",
        "\n",
        "print(f'arr1 : {arr1}, address : {hex(id(arr1))}')\n",
        "print(f'arr2 : {arr2}, address : {hex(id(arr2))}')"
      ],
      "metadata": {
        "colab": {
          "base_uri": "https://localhost:8080/"
        },
        "id": "htowwaekJlDZ",
        "outputId": "17e86d3d-6ad2-45fd-f084-edec3b6cdaed"
      },
      "execution_count": null,
      "outputs": [
        {
          "output_type": "stream",
          "name": "stdout",
          "text": [
            "arr1 : [1, 2, [99, 88, 77], 3], address : 0x7ffa26124e80\n",
            "arr2 : [1, 2, [99, 88, 77], 3], address : 0x7ffa26138500\n"
          ]
        }
      ]
    },
    {
      "cell_type": "markdown",
      "source": [
        "### 자료형, 내장함수 확인"
      ],
      "metadata": {
        "id": "kYO6Q-vwLp-7"
      }
    },
    {
      "cell_type": "code",
      "source": [
        "# help('자료형') : 해당 자료형에 사용할 수 있는 메소드 검색\n",
        "list_a = [3,4,1,6,9,2]\n",
        "help(list_a)"
      ],
      "metadata": {
        "id": "OAkub5OiLpKr"
      },
      "execution_count": null,
      "outputs": []
    },
    {
      "cell_type": "code",
      "source": [
        "# dir() = 현재 __name__에 저장된 목록(변수지정목록)\n",
        "# dir(변수) = 해당 변수에 적용할 수 있는 기능 목록\n",
        "dir()"
      ],
      "metadata": {
        "id": "UPq1b9wQL6tY"
      },
      "execution_count": null,
      "outputs": []
    },
    {
      "cell_type": "markdown",
      "source": [
        "### dict"
      ],
      "metadata": {
        "id": "6BNqXWNEkJlT"
      }
    },
    {
      "cell_type": "code",
      "source": [
        "# s2에서 s1에 존재하지 않는 값 찾기\n",
        "\n",
        "s1 = 'hi my name'\n",
        "s2 = 'hi my name is jinwoo'\n",
        "\n",
        "def dd(s1,s2):\n",
        "    if s1==s2:\n",
        "        return None\n",
        "\n",
        "    if s1!=s2:\n",
        "        nono = []\n",
        "        s1d = s1.split()\n",
        "        s2d = s2.split()\n",
        "        dic1 = dict.fromkeys(s1d)\n",
        "        dic2 = dict.fromkeys(s2d)\n",
        "        for i in dic2:\n",
        "            if i not in dic1:\n",
        "                nono.append(i)\n",
        "        return nono\n",
        "dd(s1,s2)"
      ],
      "metadata": {
        "colab": {
          "base_uri": "https://localhost:8080/"
        },
        "id": "VlCKOklDkMHb",
        "outputId": "2f4073ba-0d4d-4f77-f84a-9b003cf4d16d"
      },
      "execution_count": 2,
      "outputs": [
        {
          "output_type": "execute_result",
          "data": {
            "text/plain": [
              "['is', 'jinwoo']"
            ]
          },
          "metadata": {},
          "execution_count": 2
        }
      ]
    },
    {
      "cell_type": "code",
      "source": [
        "# fromkeys(key배열,[값배열]) 값배열은 같은 값이 들어감\n",
        "s1 = 'hi my name'\n",
        "a= s1.split()\n",
        "b= dict.fromkeys(a,[1,2,3])\n",
        "b"
      ],
      "metadata": {
        "colab": {
          "base_uri": "https://localhost:8080/"
        },
        "id": "kn85nUjikbcR",
        "outputId": "3128950b-3c07-4e44-96cb-7dc39d25e4b2"
      },
      "execution_count": 1,
      "outputs": [
        {
          "output_type": "execute_result",
          "data": {
            "text/plain": [
              "{'hi': [1, 2, 3], 'my': [1, 2, 3], 'name': [1, 2, 3]}"
            ]
          },
          "metadata": {},
          "execution_count": 1
        }
      ]
    },
    {
      "cell_type": "markdown",
      "source": [
        "### 시간(time) 함수"
      ],
      "metadata": {
        "id": "-i7x5QRRx3w-"
      }
    },
    {
      "cell_type": "markdown",
      "source": [
        "#### 시간측정"
      ],
      "metadata": {
        "id": "Kutety7EXlm3"
      }
    },
    {
      "cell_type": "code",
      "source": [
        "import time\n",
        "from functools import wraps\n",
        "\n",
        "def check_time(function):         # 소요시간 함수(시간 측정할 함수)\n",
        "\t@wraps(function)              # 래핑(시간 측정할 함수)\n",
        "\tdef measure(*args, **kwargs): # 래핑된 함수를 받아서\n",
        "\t\tstart_time = time.time()  # 시작시간\n",
        "\t\tresult = function(*args, **kwargs)  # 시작과 끝 시간의 가운데서 실행\n",
        "\t\tend_time = time.time()    # 끝나는시간 측정\n",
        "\t\tprint(f\"@check_time: {function.__name__} took {end_time - start_time}\") # 함수이름 took 걸린시간 출력\n",
        "\t\treturn result  # 함수의 결과 반환\n",
        "\n",
        "\treturn measure # 함수 결과 반환, 프린트문으로 시간알려줌"
      ],
      "metadata": {
        "id": "g7vpuixKx7ec"
      },
      "execution_count": null,
      "outputs": []
    },
    {
      "cell_type": "code",
      "source": [
        "@check_time  # 새로운 함수 앞에 붙여주면 함수 실행할 때 같이 실행됨\n",
        "def sum_n(n):\n",
        "    s = 0\n",
        "    for i in range(1, n+1):\n",
        "        s += i\n",
        "    return s\n",
        "\n",
        "if __name__ == \"__main__\":\n",
        "\tprint(sum_n(100000))"
      ],
      "metadata": {
        "colab": {
          "base_uri": "https://localhost:8080/"
        },
        "id": "FW66xAoJ2XEF",
        "outputId": "1e6ea526-2548-4b4b-f479-d8ae505d9fe4"
      },
      "execution_count": null,
      "outputs": [
        {
          "output_type": "stream",
          "name": "stdout",
          "text": [
            "@check_time: sum_n took 0.014777183532714844\n",
            "5000050000\n"
          ]
        }
      ]
    },
    {
      "cell_type": "markdown",
      "source": [
        "#### 알람"
      ],
      "metadata": {
        "id": "QVegzGreXnF9"
      }
    },
    {
      "cell_type": "code",
      "source": [
        "from time import sleep\n",
        "print('sleep(초)후에 다음 로직이 실행된다.')\n",
        "\n",
        "sleep(4)\n",
        "\n",
        "print('알람')\n"
      ],
      "metadata": {
        "colab": {
          "base_uri": "https://localhost:8080/"
        },
        "id": "TIvuSyaNXpSw",
        "outputId": "beb2a099-4ab5-413d-8f3a-a6f365e8b3ef"
      },
      "execution_count": null,
      "outputs": [
        {
          "output_type": "stream",
          "name": "stdout",
          "text": [
            "sleep(초)후에 다음 로직이 실행된다.\n",
            "알람\n"
          ]
        }
      ]
    },
    {
      "cell_type": "markdown",
      "source": [
        "### 데코레이터(@)"
      ],
      "metadata": {
        "id": "iDvuuEth3_Ui"
      }
    },
    {
      "cell_type": "markdown",
      "source": [
        "#### 데코레이터 사용법"
      ],
      "metadata": {
        "id": "I919IJmK5qT4"
      }
    },
    {
      "cell_type": "code",
      "source": [
        "from functools import wraps\n",
        "\n",
        "def 함수이름(func):  # 데코사용할 함수 이름 => @함수이름 이렇게\n",
        "    @wraps(func)     # func는 데코레이션 적용할 함수 @함수이름 밑에 쓰일 함수\n",
        "    def __wrapper(*args, **kwargs):\n",
        "        # 여기서 decoretor로 진행시키고 싶은 기능 넣으면 됨\n",
        "        # 여기에 result = func(*args, **kwargs)쓰고 return을 result로 받아도 됨\n",
        "        return func(*args, **kwargs) # 래핑된 함수의 반환값\n",
        "    return __wrapper # 래핑된 함수의 반환값"
      ],
      "metadata": {
        "id": "2D3qxxRV4Bu7"
      },
      "execution_count": null,
      "outputs": []
    },
    {
      "cell_type": "code",
      "source": [
        "#사용예시\n",
        "@함수이름\n",
        "def func(x):\n",
        "    return x*2\n",
        "\n",
        "func(10)\n",
        "# >> 데코레이터가 func를 감싸서 실행되고 반환됨"
      ],
      "metadata": {
        "id": "7iyj6L3f4644"
      },
      "execution_count": null,
      "outputs": []
    },
    {
      "cell_type": "markdown",
      "source": [
        "##### wraps를 사용하는 이유\n",
        "- 없어도 작동을 하지만 사용하지 않으면 디버깅이 어려움"
      ],
      "metadata": {
        "id": "ehb0xhRo5SrA"
      }
    },
    {
      "cell_type": "markdown",
      "source": [
        "**wraps를 사용안할때**"
      ],
      "metadata": {
        "id": "-x_Qo65O6lLA"
      }
    },
    {
      "cell_type": "code",
      "source": [
        "def without_wraps(func):\n",
        "    def __wrapper(*args, **kwargs):\n",
        "        return func(*args, **kwargs)\n",
        "    return __wrapper\n",
        "\n",
        "@without_wraps\n",
        "def my_func_a():\n",
        "    \"\"\"Here is my_func_a doc string text.\"\"\"\n",
        "    pass"
      ],
      "metadata": {
        "id": "lUo_MULc5138"
      },
      "execution_count": null,
      "outputs": []
    },
    {
      "cell_type": "code",
      "source": [
        "print(my_func_a.__doc__) # 해당 func값이 제대로 반환되지 않음\n",
        "print(my_func_a.__name__)"
      ],
      "metadata": {
        "colab": {
          "base_uri": "https://localhost:8080/"
        },
        "id": "J7WOadDW548W",
        "outputId": "7fb1c5a8-01f3-47c3-f324-1b316544b57d"
      },
      "execution_count": null,
      "outputs": [
        {
          "output_type": "stream",
          "name": "stdout",
          "text": [
            "None\n",
            "__wrapper\n"
          ]
        }
      ]
    },
    {
      "cell_type": "markdown",
      "source": [
        "**wraps를 사용했을  때**"
      ],
      "metadata": {
        "id": "gwpLAxh46pIw"
      }
    },
    {
      "cell_type": "code",
      "source": [
        "from functools import wraps\n",
        "\n",
        "def with_wraps(func):\n",
        "    @wraps(func)\n",
        "    def __wrapper(*args, **kwargs):\n",
        "       return func(*args, **kwargs)\n",
        "    return __wrapper\n",
        "\n",
        "@with_wraps\n",
        "def my_func_b():\n",
        "    \"\"\"Here is my_func_b doc string text.\"\"\"\n",
        "    pass"
      ],
      "metadata": {
        "id": "moCgA_vF6GHO"
      },
      "execution_count": null,
      "outputs": []
    },
    {
      "cell_type": "code",
      "source": [
        "print(my_func_b.__doc__) # 해당 func값이 제대로 반환 됨\n",
        "print(my_func_b.__name__)"
      ],
      "metadata": {
        "colab": {
          "base_uri": "https://localhost:8080/"
        },
        "id": "TAYgJ4VM6Jk4",
        "outputId": "96e51335-2cf6-43be-a914-de67841f061e"
      },
      "execution_count": null,
      "outputs": [
        {
          "output_type": "stream",
          "name": "stdout",
          "text": [
            "Here is my_func_b doc string text.\n",
            "my_func_b\n"
          ]
        }
      ]
    },
    {
      "cell_type": "markdown",
      "source": [
        "## 정규표현식(regex)"
      ],
      "metadata": {
        "id": "7GYH9ny08peP"
      }
    },
    {
      "cell_type": "markdown",
      "source": [
        "- iterator에선 사용하지 않음 (list, dict, tuple 등..)"
      ],
      "metadata": {
        "id": "nhN7VbkGDvx8"
      }
    },
    {
      "cell_type": "markdown",
      "source": [
        "#### escape문자\n",
        "- \\n : 줄바꿈\n",
        "- \\t : 탭(들여쓰기)\n",
        "- \\b : 백스페이스(하나 지움)\n",
        "- \\r : 앞의 글자 다 지우고 뒤에 글자를 들여쓰기\n",
        "- \\ : 뒤에 특수문자 표시하기"
      ],
      "metadata": {
        "id": "OJA-hsWmJpBs"
      }
    },
    {
      "cell_type": "code",
      "source": [
        "print(\"     \\rHello\")\n",
        "print(\"     Hello\")"
      ],
      "metadata": {
        "colab": {
          "base_uri": "https://localhost:8080/"
        },
        "id": "R7U_D5MJJTAi",
        "outputId": "7f88f403-8a89-4e66-c1d9-a60e8d74a1b6"
      },
      "execution_count": null,
      "outputs": [
        {
          "output_type": "stream",
          "name": "stdout",
          "text": [
            "     \rHello\n",
            "     Hello\n"
          ]
        }
      ]
    },
    {
      "cell_type": "markdown",
      "source": [
        "raw string : r을 붙여서 특수문자 유지"
      ],
      "metadata": {
        "id": "HdoWSwomLzRC"
      }
    },
    {
      "cell_type": "code",
      "source": [
        "print('raw string을 사용하지 않고고\\b 문자 출력하기')\n",
        "print(r'raw string을 사용하지 않지 않고고./.,,.\\\\b 문자 출력하기')\n",
        "\n",
        "# 파일 경로 출력하기\n",
        "print('C:\\programs\\nayana')\n",
        "print('C:\\\\programs\\\\nayana') # \\로 경로 살리기\n",
        "print(r'C:\\programs\\nayana')  # r로 경로 살리기"
      ],
      "metadata": {
        "colab": {
          "base_uri": "https://localhost:8080/"
        },
        "id": "Sqs5F8wLLWvm",
        "outputId": "fde0c44a-c292-4641-c3ee-c24fed57cf49"
      },
      "execution_count": null,
      "outputs": [
        {
          "output_type": "stream",
          "name": "stdout",
          "text": [
            "raw string을 사용하지 않고고\b 문자 출력하기\n",
            "raw string을 사용하지 않지 않고고./.,,.\\\\b 문자 출력하기\n",
            "C:\\programs\n",
            "ayana\n",
            "C:\\programs\\nayana\n",
            "C:\\programs\\nayana\n"
          ]
        }
      ]
    },
    {
      "cell_type": "markdown",
      "source": [
        "#### 정규식 패턴\n",
        "- I : `IGNORECASE` 대소문자 미구분 \n",
        "- X : `VERBOSE` 정규식 안의 공백 무시\n",
        "- M : `MULTILINE` 여러 줄의 문자열에 대해 패턴을 탐색할 수 있게 함\n",
        "- S : `DOTALL` 점(.)을 줄바꾸기 문자도 포함하여 매치하게 함\n",
        "- L : `LOCATE` \\w, \\W, \\b, \\B를 현재의 로케일에 영향을 받음 ??\n",
        "- U : `UNICODE` \\w, \\W, \\b, \\B가 유니코드 문자 특성에 의존함 ??   \n",
        "\n",
        "위의 패턴은 아래와 같이 사용할 수 있으며 여러 패턴을 등록하려면 | 을 사용합니다."
      ],
      "metadata": {
        "id": "FHZf1ppME2z9"
      }
    },
    {
      "cell_type": "code",
      "source": [
        "import re\n",
        "\n",
        "s = \"\"\"\n",
        "c\n",
        "b\n",
        "A\n",
        "\"\"\"\n",
        "print(re.search('a', s, re.M|re.I)) # re.M(여러줄탐색) |(구분) re.I(대소문자미구분)"
      ],
      "metadata": {
        "colab": {
          "base_uri": "https://localhost:8080/"
        },
        "id": "jsTXnMVOGIQg",
        "outputId": "4970c31b-e54d-41e5-9c71-3975729cb249"
      },
      "execution_count": null,
      "outputs": [
        {
          "output_type": "stream",
          "name": "stdout",
          "text": [
            "<re.Match object; span=(5, 6), match='A'>\n"
          ]
        }
      ]
    },
    {
      "cell_type": "markdown",
      "source": [
        "#### re.compile\n",
        "- 자주쓰는 정규표현식이나 패턴을 지정\n",
        "- re.compile('정규표현식', 패턴)\n"
      ],
      "metadata": {
        "id": "p_mZlrVXGf0E"
      }
    },
    {
      "cell_type": "code",
      "source": [
        "# re.함수(컴파일, '문자열')\n",
        "phone = re.compile(\"\"\"\n",
        "010     \n",
        "-\\d{4}  \n",
        "-\\d{4} \n",
        "\"\"\", re.VERBOSE)\n",
        "\n",
        "a = '010-9695-3199abc'\n",
        "\n",
        "print(re.search(phone, a))"
      ],
      "metadata": {
        "colab": {
          "base_uri": "https://localhost:8080/"
        },
        "id": "Qwo0RKVmCASV",
        "outputId": "e8ee763f-46ea-46f4-88db-0f0d60c3caea"
      },
      "execution_count": null,
      "outputs": [
        {
          "output_type": "stream",
          "name": "stdout",
          "text": [
            "<re.Match object; span=(0, 13), match='010-9695-3199'>\n"
          ]
        }
      ]
    },
    {
      "cell_type": "code",
      "source": [
        "# 컴파일.함수('문자열')\n",
        "phone = re.compile(\"010-\\d{4}-\\d{4}\")\n",
        "\n",
        "info = ['홍길동 010-1234-1234', '고길동 010-5678-5679']\n",
        "\n",
        "for text in info:\n",
        "    match_object = phone.search(text)\n",
        "    print(match_object.group())"
      ],
      "metadata": {
        "colab": {
          "base_uri": "https://localhost:8080/"
        },
        "id": "hbw0So2KH_D4",
        "outputId": "656d8273-c25e-45c1-e435-efcec4144357"
      },
      "execution_count": null,
      "outputs": [
        {
          "output_type": "stream",
          "name": "stdout",
          "text": [
            "010-1234-1234\n",
            "010-5678-5679\n"
          ]
        }
      ]
    },
    {
      "cell_type": "markdown",
      "source": [
        "#### re.search\n",
        "- re.search('정규표현식', '문자열',패턴)\n",
        "- 정규표현식에 해당하는 글자 찾기"
      ],
      "metadata": {
        "id": "BzxlFLqi-i7V"
      }
    },
    {
      "cell_type": "code",
      "source": [
        "import re\n",
        "\n",
        "wordlist = [\"color\", \"colour\", \"work\", \"working\",\n",
        "            \"fox\", \"worker\", \"working\"]\n",
        "\n",
        "for word in wordlist:\n",
        "    if re.search('col.r', word): \n",
        "        print(word)"
      ],
      "metadata": {
        "colab": {
          "base_uri": "https://localhost:8080/"
        },
        "id": "lUBrutT3-Un6",
        "outputId": "47501510-f51b-421e-ba8d-b9b76089e0a2"
      },
      "execution_count": null,
      "outputs": [
        {
          "output_type": "stream",
          "name": "stdout",
          "text": [
            "color\n"
          ]
        }
      ]
    },
    {
      "cell_type": "markdown",
      "source": [
        "**점(.)은 하나의 문자를 뜻하고, *를 붙이면 개수 무시**"
      ],
      "metadata": {
        "id": "7b1k0lC49yXF"
      }
    },
    {
      "cell_type": "code",
      "source": [
        "import re \n",
        "\n",
        "print(re.search('w..w', 'wow'))\n",
        "print(re.search('w..w', 'woow'))\n",
        "print(re.search('w..w', 'wooow'))\n",
        "print(re.search('w.*w','wabcdefgw'))"
      ],
      "metadata": {
        "colab": {
          "base_uri": "https://localhost:8080/"
        },
        "id": "eCrAzFzS9GCW",
        "outputId": "3584a9ea-29b2-433e-8bea-4f7ecf635f99"
      },
      "execution_count": null,
      "outputs": [
        {
          "output_type": "stream",
          "name": "stdout",
          "text": [
            "None\n",
            "<re.Match object; span=(0, 4), match='woow'>\n",
            "None\n",
            "<re.Match object; span=(0, 9), match='wabcdefgw'>\n"
          ]
        }
      ]
    },
    {
      "cell_type": "markdown",
      "source": [
        "#### re.match\n",
        "- 문자열의 처음부터 정규표현식과 일치하는 값 불러오기\n",
        "- re.match('정규표현식', '문자열', 패턴) \n"
      ],
      "metadata": {
        "id": "4jhXOF0v_E3H"
      }
    },
    {
      "cell_type": "code",
      "source": [
        "regular_expressions = '<html><head><title>Title</title>'\n",
        "\n",
        "print(len(regular_expressions))\n",
        "print(re.match('<.*>',regular_expressions))     \n",
        "print(re.match('<.*>', regular_expressions).span())  # span 출력\n",
        "print(re.match('<.*>', regular_expressions).group()) # 일치하는 값 출력"
      ],
      "metadata": {
        "colab": {
          "base_uri": "https://localhost:8080/"
        },
        "id": "puyw33DQ_Jjr",
        "outputId": "828311a6-8b1b-4a27-9f8f-406e6373c015"
      },
      "execution_count": null,
      "outputs": [
        {
          "output_type": "stream",
          "name": "stdout",
          "text": [
            "32\n",
            "<re.Match object; span=(0, 32), match='<html><head><title>Title</title>'>\n",
            "(0, 32)\n",
            "<html><head><title>Title</title>\n"
          ]
        }
      ]
    },
    {
      "cell_type": "markdown",
      "source": [
        "#### rjust, ljust\n",
        "- 문자열.rjust(총 개수, \"지정문자\")\n",
        "- 문자열에 지정문자를 채워준다.(총 개수에서 모자란 만큼만)\n"
      ],
      "metadata": {
        "id": "kNMYVonb2kQs"
      }
    },
    {
      "cell_type": "code",
      "source": [
        "print(\"500\".rjust(5,\"0\"))"
      ],
      "metadata": {
        "colab": {
          "base_uri": "https://localhost:8080/"
        },
        "id": "TYwS_e0C3N4u",
        "outputId": "041d5d2c-2cb4-4f64-bbfa-56c220d1e449"
      },
      "execution_count": null,
      "outputs": [
        {
          "output_type": "stream",
          "name": "stdout",
          "text": [
            "00500\n"
          ]
        }
      ]
    },
    {
      "cell_type": "code",
      "source": [
        "print(\"50000\".rjust(5,\"0\"))"
      ],
      "metadata": {
        "colab": {
          "base_uri": "https://localhost:8080/"
        },
        "id": "mmAnyxDl3RpA",
        "outputId": "191daf40-b8d6-4017-b59b-ec8cb95e73bf"
      },
      "execution_count": null,
      "outputs": [
        {
          "output_type": "stream",
          "name": "stdout",
          "text": [
            "50000\n"
          ]
        }
      ]
    },
    {
      "cell_type": "code",
      "source": [
        "print(\"123\".rjust(5,\"0\"))\n",
        "print(\"123\".ljust(5,\"a\"))"
      ],
      "metadata": {
        "colab": {
          "base_uri": "https://localhost:8080/"
        },
        "id": "TfO5lOAv3Rgh",
        "outputId": "973ba1ca-106c-4795-81d8-bed5784ba3fc"
      },
      "execution_count": null,
      "outputs": [
        {
          "output_type": "stream",
          "name": "stdout",
          "text": [
            "00123\n",
            "123aa\n"
          ]
        }
      ]
    },
    {
      "cell_type": "markdown",
      "source": [
        "#### zfill(정수)\n",
        "- 문자열 앞에 정수만큼 0으로 채워줌"
      ],
      "metadata": {
        "id": "xPI5jBI63wR6"
      }
    },
    {
      "cell_type": "code",
      "source": [
        "# \"002\"\n",
        "print(\"2\".zfill(3))\n",
        " \n",
        "# \"5000\"\n",
        "print(\"5000\".zfill(5))\n",
        " \n",
        "# \"00123\"\n",
        "print(\"123\".zfill(5))"
      ],
      "metadata": {
        "colab": {
          "base_uri": "https://localhost:8080/"
        },
        "id": "SZyYI1KL3zw0",
        "outputId": "923ffe03-9fc4-469d-e878-66465cc3a097"
      },
      "execution_count": null,
      "outputs": [
        {
          "output_type": "stream",
          "name": "stdout",
          "text": [
            "002\n",
            "05000\n",
            "00123\n"
          ]
        }
      ]
    },
    {
      "cell_type": "markdown",
      "source": [
        "#### split(\"구분문자\")\n",
        "- 구분문자를 기준으로 문자열을 나눔"
      ],
      "metadata": {
        "id": "odGM_CKD4Tao"
      }
    },
    {
      "cell_type": "code",
      "source": [
        "string_ = \"Hello, I am Jack and I am a data scientist\"\n",
        "\n",
        "print(string_)\n",
        "print(string_[2]) # 글자 인덱스"
      ],
      "metadata": {
        "colab": {
          "base_uri": "https://localhost:8080/"
        },
        "id": "rCGb2jOL4FOs",
        "outputId": "3a893b77-6711-42aa-c6e5-ccc0e18b96a8"
      },
      "execution_count": null,
      "outputs": [
        {
          "output_type": "stream",
          "name": "stdout",
          "text": [
            "Hello, I am Jack and I am a data scientist\n",
            "l\n"
          ]
        }
      ]
    },
    {
      "cell_type": "code",
      "source": [
        "# 띄어쓰기로 단어 나누기\n",
        "string_list = string_.split(\" \")\n",
        "string_list"
      ],
      "metadata": {
        "colab": {
          "base_uri": "https://localhost:8080/"
        },
        "id": "fLPuJjpx4XWp",
        "outputId": "4f7e3a3c-1763-441d-f71e-5867cb58be50"
      },
      "execution_count": null,
      "outputs": [
        {
          "output_type": "execute_result",
          "data": {
            "text/plain": [
              "['Hello,', 'I', 'am', 'Jack', 'and', 'I', 'am', 'a', 'data', 'scientist']"
            ]
          },
          "metadata": {},
          "execution_count": 22
        }
      ]
    },
    {
      "cell_type": "code",
      "source": [
        "# 시작, 끝 단어 일치여부(bool)\n",
        "print(string_.startswith('Hello'))\n",
        "print(string_.endswith('scientist'))\n",
        "\n",
        "print(string_.endswith('tist'))"
      ],
      "metadata": {
        "colab": {
          "base_uri": "https://localhost:8080/"
        },
        "id": "OSxL4S3y4xih",
        "outputId": "c94ced9c-0397-4b68-aeea-a95f46bb9474"
      },
      "execution_count": null,
      "outputs": [
        {
          "output_type": "stream",
          "name": "stdout",
          "text": [
            "True\n",
            "True\n",
            "True\n"
          ]
        }
      ]
    },
    {
      "cell_type": "code",
      "source": [
        "print(string_)\n",
        "print(string_.replace(\"ntist\", \"hahaha\")) # 조금이라도 일치하면 변경"
      ],
      "metadata": {
        "colab": {
          "base_uri": "https://localhost:8080/"
        },
        "id": "kZqzTjKq5duk",
        "outputId": "73c964c5-c759-4cbe-833b-328e3048aa3a"
      },
      "execution_count": null,
      "outputs": [
        {
          "output_type": "stream",
          "name": "stdout",
          "text": [
            "Hello, I am Jack and I am a data scientist\n",
            "Hello, I am Jack and I am a data sciehahaha\n"
          ]
        }
      ]
    },
    {
      "cell_type": "markdown",
      "source": [
        "### 공배수"
      ],
      "metadata": {
        "id": "nFZ1ZmZQb33c"
      }
    },
    {
      "cell_type": "code",
      "source": [
        "# 100보다 작은 5와 7의 공배수\n",
        "abc = [i*a for i in range(11) for a in range(11) if i*a==35 or i*a==70]\n",
        "list(set(abc))"
      ],
      "metadata": {
        "colab": {
          "base_uri": "https://localhost:8080/"
        },
        "id": "xb9kCXq6b59r",
        "outputId": "3018f000-baab-4d40-e0f3-7beb38c9deeb"
      },
      "execution_count": null,
      "outputs": [
        {
          "output_type": "execute_result",
          "data": {
            "text/plain": [
              "[35, 70]"
            ]
          },
          "metadata": {},
          "execution_count": 122
        }
      ]
    },
    {
      "cell_type": "code",
      "source": [
        "[i*5*7 for i in range(1,100//(5*7)+1)]"
      ],
      "metadata": {
        "colab": {
          "base_uri": "https://localhost:8080/"
        },
        "id": "036KPyvLg2k4",
        "outputId": "bf701c40-5c09-408b-fff3-fef1a087e6b1"
      },
      "execution_count": null,
      "outputs": [
        {
          "output_type": "execute_result",
          "data": {
            "text/plain": [
              "[35, 70]"
            ]
          },
          "metadata": {},
          "execution_count": 123
        }
      ]
    },
    {
      "cell_type": "code",
      "source": [
        "# 소수가 맞는지 아닌지 찾는 함수\n",
        "def part3(N):\n",
        "    num = [i for i in range(1, N+1) if N%i == 0 ]\n",
        "    if len(num)==2:\n",
        "        return True\n",
        "    else:\n",
        "        return False\n",
        "\n",
        "part3(4)"
      ],
      "metadata": {
        "id": "kEYO5LlmHFQQ"
      },
      "execution_count": null,
      "outputs": []
    },
    {
      "cell_type": "code",
      "source": [
        "# 2~ N의 소수의 개수를 나타내주는 함수\n",
        "def part3(N):\n",
        "    if N <0:\n",
        "        raise ValueError\n",
        "    elif N ==1:\n",
        "        return 0\n",
        "    else: \n",
        "        answer = 0\n",
        "        for i in range(2, N+1):\n",
        "            count=0\n",
        "            for x in range(2, i):\n",
        "                if i%x ==0:\n",
        "                    count+=1\n",
        "            if count==0:\n",
        "                answer +=1\n",
        "        return answer\n",
        "\n",
        "part3(7)"
      ],
      "metadata": {
        "colab": {
          "base_uri": "https://localhost:8080/"
        },
        "id": "H3fLxu4HJRVJ",
        "outputId": "b49e6119-28a0-454a-90c6-6f73623ac89a"
      },
      "execution_count": null,
      "outputs": [
        {
          "output_type": "execute_result",
          "data": {
            "text/plain": [
              "4"
            ]
          },
          "metadata": {},
          "execution_count": 103
        }
      ]
    },
    {
      "cell_type": "markdown",
      "source": [
        "# Note2"
      ],
      "metadata": {
        "id": "xJKNWSQOt-Mq"
      }
    },
    {
      "cell_type": "markdown",
      "source": [
        "### Try"
      ],
      "metadata": {
        "id": "BkS8S1EvpA8E"
      }
    },
    {
      "cell_type": "markdown",
      "source": [
        "- try : 값을 받음\n",
        "- except : 에러발생 시, 에러를 표시하지 않고 문구로 대체\n",
        "- else : 수식에 사용할 조건\n",
        "- finally : 위의 구문과 상관없이 실행됨\n",
        "- raise : 에러를 일으킴"
      ],
      "metadata": {
        "id": "glAe2CZEqO-N"
      }
    },
    {
      "cell_type": "code",
      "source": [
        "# 제대로 된 값을 넣을 때 까지 반복재생\n",
        "while True:\n",
        "    try:\n",
        "        x = int(input(\"Please enter a number: \"))\n",
        "        break\n",
        "    except ValueError:\n",
        "        print(\"Oops!  That was no valid number.  Try again...\")"
      ],
      "metadata": {
        "colab": {
          "base_uri": "https://localhost:8080/"
        },
        "id": "3tZ56TiAqwtV",
        "outputId": "bcf36b09-b557-4aa4-c567-e75827c7542a"
      },
      "execution_count": null,
      "outputs": [
        {
          "name": "stdout",
          "output_type": "stream",
          "text": [
            "Please enter a number: 1\n"
          ]
        }
      ]
    },
    {
      "cell_type": "code",
      "source": [
        "# while True:가 없어서 단발성\n",
        "try:\n",
        "    age = int(input('나이를 입력하세요.'))\n",
        "\n",
        "except:\n",
        "    print('숫자만 입력하세요')\n",
        "\n",
        "else:\n",
        "    if age <= 0:\n",
        "        raise ValueError('0 이상의 숫자를 입력하세요.')\n",
        "    else:\n",
        "        if age > 13 and age<20:\n",
        "            print('당신은 청소년입니다.')\n",
        "        elif age <= 13:\n",
        "            print(\"당신은 어린이입니다.\")\n",
        "        else:\n",
        "            print('당신은 성인입니다.')\n",
        "finally:\n",
        "    print('반갑습니다.')"
      ],
      "metadata": {
        "id": "4BnapxcVuB-A",
        "colab": {
          "base_uri": "https://localhost:8080/"
        },
        "outputId": "4b681f81-741d-4722-cdbd-637a41b66b01"
      },
      "execution_count": null,
      "outputs": [
        {
          "output_type": "stream",
          "name": "stdout",
          "text": [
            "나이를 입력하세요.13\n",
            "당신은 어린이입니다.\n",
            "반갑습니다.\n"
          ]
        }
      ]
    },
    {
      "cell_type": "markdown",
      "source": [
        "# Note3 - Object Oriented Programming(OOP)"
      ],
      "metadata": {
        "id": "XtG_eqgQW9BA"
      }
    },
    {
      "cell_type": "markdown",
      "source": [
        "- 객체지향프로그래밍 : 재사용가능한 클래스, 메소드(기능) 설계\n",
        "- 클래스 : 객체를 정의하는 설계도, 반복되는 작업을 변수와 함수로 저장\n",
        "- 객체(object) : 클래스의 함수와 변수, 일상생활의 모든 것\n",
        "- 인스턴스 : 객체에 메모리를 부여한 것"
      ],
      "metadata": {
        "id": "ZFehpoweeRCC"
      }
    },
    {
      "cell_type": "markdown",
      "source": [
        "![캡처.JPG](data:image/jpeg;base64,/9j/4AAQSkZJRgABAQEAYABgAAD/4RDaRXhpZgAATU0AKgAAAAgABAE7AAIAAAAFAAAISodpAAQAAAABAAAIUJydAAEAAAAKAAAQyOocAAcAAAgMAAAAPgAAAAAc6gAAAAgAAAAAAAAAAAAAAAAAAAAAAAAAAAAAAAAAAAAAAAAAAAAAAAAAAAAAAAAAAAAAAAAAAAAAAAAAAAAAAAAAAAAAAAAAAAAAAAAAAAAAAAAAAAAAAAAAAAAAAAAAAAAAAAAAAAAAAAAAAAAAAAAAAAAAAAAAAAAAAAAAAAAAAAAAAAAAAAAAAAAAAAAAAAAAAAAAAAAAAAAAAAAAAAAAAAAAAAAAAAAAAAAAAAAAAAAAAAAAAAAAAAAAAAAAAAAAAAAAAAAAAAAAAAAAAAAAAAAAAAAAAAAAAAAAAAAAAAAAAAAAAAAAAAAAAAAAAAAAAAAAAAAAAAAAAAAAAAAAAAAAAAAAAAAAAAAAAAAAAAAAAAAAAAAAAAAAAAAAAAAAAAAAAAAAAAAAAAAAAAAAAAAAAAAAAAAAAAAAAAAAAAAAAAAAAAAAAAAAAAAAAAAAAAAAAAAAAAAAAAAAAAAAAAAAAAAAAAAAAAAAAAAAAAAAAAAAAAAAAAAAAAAAAAAAAAAAAAAAAAAAAAAAAAAAAAAAAAAAAAAAAAAAAAAAAAAAAAAAAAAAAAAAAAAAAAAAAAAAAAAAAAAAAAAAAAAAAAAAAAAAAAAAAAAAAAAAAAAAAAAAAAAAAAAAAAAAAAAAAAAAAAAAAAAAAAAAAAAAAAAAAAAAAAAAAAAAAAAAAAAAAAAAAAAAAAAAAAAAAAAAAAAAAAAAAAAAAAAAAAAAAAAAAAAAAAAAAAAAAAAAAAAAAAAAAAAAAAAAAAAAAAAAAAAAAAAAAAAAAAAAAAAAAAAAAAAAAAAAAAAAAAAAAAAAAAAAAAAAAAAAAAAAAAAAAAAAAAAAAAAAAAAAAAAAAAAAAAAAAAAAAAAAAAAAAAAAAAAAAAAAAAAAAAAAAAAAAAAAAAAAAAAAAAAAAAAAAAAAAAAAAAAAAAAAAAAAAAAAAAAAAAAAAAAAAAAAAAAAAAAAAAAAAAAAAAAAAAAAAAAAAAAAAAAAAAAAAAAAAAAAAAAAAAAAAAAAAAAAAAAAAAAAAAAAAAAAAAAAAAAAAAAAAAAAAAAAAAAAAAAAAAAAAAAAAAAAAAAAAAAAAAAAAAAAAAAAAAAAAAAAAAAAAAAAAAAAAAAAAAAAAAAAAAAAAAAAAAAAAAAAAAAAAAAAAAAAAAAAAAAAAAAAAAAAAAAAAAAAAAAAAAAAAAAAAAAAAAAAAAAAAAAAAAAAAAAAAAAAAAAAAAAAAAAAAAAAAAAAAAAAAAAAAAAAAAAAAAAAAAAAAAAAAAAAAAAAAAAAAAAAAAAAAAAAAAAAAAAAAAAAAAAAAAAAAAAAAAAAAAAAAAAAAAAAAAAAAAAAAAAAAAAAAAAAAAAAAAAAAAAAAAAAAAAAAAAAAAAAAAAAAAAAAAAAAAAAAAAAAAAAAAAAAAAAAAAAAAAAAAAAAAAAAAAAAAAAAAAAAAAAAAAAAAAAAAAAAAAAAAAAAAAAAAAAAAAAAAAAAAAAAAAAAAAAAAAAAAAAAAAAAAAAAAAAAAAAAAAAAAAAAAAAAAAAAAAAAAAAAAAAAAAAAAAAAAAAAAAAAAAAAAAAAAAAAAAAAAAAAAAAAAAAAAAAAAAAAAAAAAAAAAAAAAAAAAAAAAAAAAAAAAAAAAAAAAAAAAAAAAAAAAAAAAAAAAAAAAAAAAAAAAAAAAAAAAAAAAAAAAAAAAAAAAAAAAAAAAAAAAAAAAAAAAAAAAAAAAAAAAAAAAAAAAAAAAAAAAAAAAAAAAAAAAAAAAAAAAAAAAAAAAAAAAAAAAAAAAAAAAAAAAAAAAAAAAAAAAAAAAAAAAAAAAAAAAAAAAAAAAAAAAAAAAAAAAAAAAAAAAAAAAAAAAAAAAAAAAAAAAAAAAAAAAAAAAAAAAAAAAAAAAAAAAAAAAAAAAAAAAAAAAAAAAAAAAAAAAAAAAAAAAAAAAAAAAAAAAAAAAAAAAAAAAAAAAAAAAAAAAAAAAAAAAAAAAAAAAAAAAAAAAAAAAAAAAAAAAAAAAAAAAAAAAAAAAAAAAAAAAAAAAAAAAAAAAAAAAAAAAAAAAAAAAAAAAAAAAAAAAAAAAAAAAAAAAAAAAAAAAAAAAAAAAAAAAAAAAAAAAAAAAAAAAAAAAAAAAAAAAAAAAAAAAAAAAAAAAAAAAAAAAAAAAAAAAAAAAAAAAAAAAAAAAAAAAAAAAAAAAAAAAAAAAAAAAAAAAAAAAAAAAAAAAAAAAAAAAAAAAAAAAAAAAAAAAAAAAAAAAAAAAAAAAAAAAAAAAAAAAAAAAAAAAAAAAAAAAAAAAAAAAAAAAAAAAAAAAAAAAAAAAAAAAAAAAAAAAAAAAAAAAAAAAAAAAAAAAAAAAAAAAAAAAAAAAAAAAAAAAAAAAAAAAAAAAAAAAAAAAAAAAAAAAAAAAAAAAAAAAAAAAAAAAAAAAAAAAAAAAAAAAAAAAAAAAAAAAAAAAAAAAAAAAAAAAAAAAAAAAAAAAAAAAAAAAAAAAAAAAAAAAAAAAAAAAAAAAAAAAAAAAAAAAAAAAAAAAAAAAAAAAAAAAAAAAAAAAAAAAAAAAAAAAAAAAAAAAAAAAAAAAAAAAAAAAAAAAAAAAAAAAAAAAAAAAAAAAAAAAAAAAAAAAAAAAAAAAAAAAAAAAAAAAAAAAAAAAAAAAAAAAAAAAAAAAAAAAAAAAAAAAAAAAAAAAAAAAAAAAAAAAAAAAAAAAAAAAAAAAAAAAAAAAAAAAAAAAAAAAAAAAAAAAAAAAAAAAAAAGVudnkAAAAFkAMAAgAAABQAABCekAQAAgAAABQAABCykpEAAgAAAAM1OAAAkpIAAgAAAAM1OAAA6hwABwAACAwAAAiSAAAAABzqAAAACAAAAAAAAAAAAAAAAAAAAAAAAAAAAAAAAAAAAAAAAAAAAAAAAAAAAAAAAAAAAAAAAAAAAAAAAAAAAAAAAAAAAAAAAAAAAAAAAAAAAAAAAAAAAAAAAAAAAAAAAAAAAAAAAAAAAAAAAAAAAAAAAAAAAAAAAAAAAAAAAAAAAAAAAAAAAAAAAAAAAAAAAAAAAAAAAAAAAAAAAAAAAAAAAAAAAAAAAAAAAAAAAAAAAAAAAAAAAAAAAAAAAAAAAAAAAAAAAAAAAAAAAAAAAAAAAAAAAAAAAAAAAAAAAAAAAAAAAAAAAAAAAAAAAAAAAAAAAAAAAAAAAAAAAAAAAAAAAAAAAAAAAAAAAAAAAAAAAAAAAAAAAAAAAAAAAAAAAAAAAAAAAAAAAAAAAAAAAAAAAAAAAAAAAAAAAAAAAAAAAAAAAAAAAAAAAAAAAAAAAAAAAAAAAAAAAAAAAAAAAAAAAAAAAAAAAAAAAAAAAAAAAAAAAAAAAAAAAAAAAAAAAAAAAAAAAAAAAAAAAAAAAAAAAAAAAAAAAAAAAAAAAAAAAAAAAAAAAAAAAAAAAAAAAAAAAAAAAAAAAAAAAAAAAAAAAAAAAAAAAAAAAAAAAAAAAAAAAAAAAAAAAAAAAAAAAAAAAAAAAAAAAAAAAAAAAAAAAAAAAAAAAAAAAAAAAAAAAAAAAAAAAAAAAAAAAAAAAAAAAAAAAAAAAAAAAAAAAAAAAAAAAAAAAAAAAAAAAAAAAAAAAAAAAAAAAAAAAAAAAAAAAAAAAAAAAAAAAAAAAAAAAAAAAAAAAAAAAAAAAAAAAAAAAAAAAAAAAAAAAAAAAAAAAAAAAAAAAAAAAAAAAAAAAAAAAAAAAAAAAAAAAAAAAAAAAAAAAAAAAAAAAAAAAAAAAAAAAAAAAAAAAAAAAAAAAAAAAAAAAAAAAAAAAAAAAAAAAAAAAAAAAAAAAAAAAAAAAAAAAAAAAAAAAAAAAAAAAAAAAAAAAAAAAAAAAAAAAAAAAAAAAAAAAAAAAAAAAAAAAAAAAAAAAAAAAAAAAAAAAAAAAAAAAAAAAAAAAAAAAAAAAAAAAAAAAAAAAAAAAAAAAAAAAAAAAAAAAAAAAAAAAAAAAAAAAAAAAAAAAAAAAAAAAAAAAAAAAAAAAAAAAAAAAAAAAAAAAAAAAAAAAAAAAAAAAAAAAAAAAAAAAAAAAAAAAAAAAAAAAAAAAAAAAAAAAAAAAAAAAAAAAAAAAAAAAAAAAAAAAAAAAAAAAAAAAAAAAAAAAAAAAAAAAAAAAAAAAAAAAAAAAAAAAAAAAAAAAAAAAAAAAAAAAAAAAAAAAAAAAAAAAAAAAAAAAAAAAAAAAAAAAAAAAAAAAAAAAAAAAAAAAAAAAAAAAAAAAAAAAAAAAAAAAAAAAAAAAAAAAAAAAAAAAAAAAAAAAAAAAAAAAAAAAAAAAAAAAAAAAAAAAAAAAAAAAAAAAAAAAAAAAAAAAAAAAAAAAAAAAAAAAAAAAAAAAAAAAAAAAAAAAAAAAAAAAAAAAAAAAAAAAAAAAAAAAAAAAAAAAAAAAAAAAAAAAAAAAAAAAAAAAAAAAAAAAAAAAAAAAAAAAAAAAAAAAAAAAAAAAAAAAAAAAAAAAAAAAAAAAAAAAAAAAAAAAAAAAAAAAAAAAAAAAAAAAAAAAAAAAAAAAAAAAAAAAAAAAAAAAAAAAAAAAAAAAAAAAAAAAAAAAAAAAAAAAAAAAAAAAAAAAAAAAAAAAAAAAAAAAAAAAAAAAAAAAAAAAAAAAAAAAAAAAAAAAAAAAAAAAAAAAAAAAAAAAAAAAAAAAAAAAAAAAAAAAAAAAAAAAAAAAAAAAAAAAAAAAAAAAAAAAAAAAAAAAAAAAAAAAAAAAAAAAAAAAAAAAAAAAAAAAAAAAAAAAAAAAAAAAAAAAAAAAAAAAAAAAAAAAAAAAAAAAAAAAAAAAAAAAAAAAAAAAAAAAAAAAAAAAAAAAAAAAAAAAAAAAAAAAAAAAAAAAAAAAAAAAAAAAAAAAAAAAAAAAAAAAAAAAAAAAAAAAAAAAAAAAAAAAAAAAAAAAAAAAAAAAAAAAAAAAAAAAAAAAAAAAAAAAAAAAAAAAAAAAAAAAAAAAAAAAAAAAAAAAAAAAAAAAAAAAAAAAAAAAAAAAAAAAAAAAAAAAAAAAAAAAAAAAAAAAAAAAAAAAAAAAAAAAAAAAAAAAAAAAAAAAAAAAAAAAAAAAAAAAAAAAAAAAAAAAAAAAAAAAAAAAAAAAAAAAAAAAAAAAAAAAAAAAAAAAAAAAAAAAAAAAAAAAAAAAAAAAAAAAAAAAAAAAAAAAAAAAAAAAAAAAAAAAAAAAAAAAAAAAAAAAAAAAAAAAAAAAAAAAAAAAAAAAAAAAAAAAAAAAAAAAAAAAAAAAAAAAAAAAAAAAAAAAAAAAAAAAAAAAAAAAAAAAAAAAAAAAAAAAAAAAAAAAAAAAAAAAAAAAAAAAAAAAAAAAAAAAAAAAAAAAAAAAAAAAAAAAAAAAAAAAAAAAAAAAAAAAAAAAAAAAAAAAAAAAAAAAAAAAAAAAAAAAAAAAAAAAAAAAAAAAAAAAAAAAAAAAAAAAAAAAAAAAAAAAAAAAAAAAAAAAAAAAAAAAAAAAAAAAAAAAAAAAAAAAAAAAAAAAAAAAAAAAAAAAAAAAAAAAAAAAAAAAAAAAAAAAAAAAAAAAAAAAAAAAAAAAAAAAAAAAAAAAAAAAAAAAAAAAAAAAAAAAAAAAAAAAAAAAAAAAAAAMjAyMjoxMjoxNSAyMzozNDowNQAyMDIyOjEyOjE1IDIzOjM0OjA1AAAAZQBuAHYAeQAAAP/hCxdodHRwOi8vbnMuYWRvYmUuY29tL3hhcC8xLjAvADw/eHBhY2tldCBiZWdpbj0n77u/JyBpZD0nVzVNME1wQ2VoaUh6cmVTek5UY3prYzlkJz8+DQo8eDp4bXBtZXRhIHhtbG5zOng9ImFkb2JlOm5zOm1ldGEvIj48cmRmOlJERiB4bWxuczpyZGY9Imh0dHA6Ly93d3cudzMub3JnLzE5OTkvMDIvMjItcmRmLXN5bnRheC1ucyMiPjxyZGY6RGVzY3JpcHRpb24gcmRmOmFib3V0PSJ1dWlkOmZhZjViZGQ1LWJhM2QtMTFkYS1hZDMxLWQzM2Q3NTE4MmYxYiIgeG1sbnM6ZGM9Imh0dHA6Ly9wdXJsLm9yZy9kYy9lbGVtZW50cy8xLjEvIi8+PHJkZjpEZXNjcmlwdGlvbiByZGY6YWJvdXQ9InV1aWQ6ZmFmNWJkZDUtYmEzZC0xMWRhLWFkMzEtZDMzZDc1MTgyZjFiIiB4bWxuczp4bXA9Imh0dHA6Ly9ucy5hZG9iZS5jb20veGFwLzEuMC8iPjx4bXA6Q3JlYXRlRGF0ZT4yMDIyLTEyLTE1VDIzOjM0OjA1LjU3NjwveG1wOkNyZWF0ZURhdGU+PC9yZGY6RGVzY3JpcHRpb24+PHJkZjpEZXNjcmlwdGlvbiByZGY6YWJvdXQ9InV1aWQ6ZmFmNWJkZDUtYmEzZC0xMWRhLWFkMzEtZDMzZDc1MTgyZjFiIiB4bWxuczpkYz0iaHR0cDovL3B1cmwub3JnL2RjL2VsZW1lbnRzLzEuMS8iPjxkYzpjcmVhdG9yPjxyZGY6U2VxIHhtbG5zOnJkZj0iaHR0cDovL3d3dy53My5vcmcvMTk5OS8wMi8yMi1yZGYtc3ludGF4LW5zIyI+PHJkZjpsaT5lbnZ5PC9yZGY6bGk+PC9yZGY6U2VxPg0KCQkJPC9kYzpjcmVhdG9yPjwvcmRmOkRlc2NyaXB0aW9uPjwvcmRmOlJERj48L3g6eG1wbWV0YT4NCiAgICAgICAgICAgICAgICAgICAgICAgICAgICAgICAgICAgICAgICAgICAgICAgICAgICAgICAgICAgICAgICAgICAgICAgICAgICAgICAgICAgICAgICAgICAgICAgICAgICAKICAgICAgICAgICAgICAgICAgICAgICAgICAgICAgICAgICAgICAgICAgICAgICAgICAgICAgICAgICAgICAgICAgICAgICAgICAgICAgICAgICAgICAgICAgICAgICAgICAgIAogICAgICAgICAgICAgICAgICAgICAgICAgICAgICAgICAgICAgICAgICAgICAgICAgICAgICAgICAgICAgICAgICAgICAgICAgICAgICAgICAgICAgICAgICAgICAgICAgICAgCiAgICAgICAgICAgICAgICAgICAgICAgICAgICAgICAgICAgICAgICAgICAgICAgICAgICAgICAgICAgICAgICAgICAgICAgICAgICAgICAgICAgICAgICAgICAgICAgICAgICAKICAgICAgICAgICAgICAgICAgICAgICAgICAgICAgICAgICAgICAgICAgICAgICAgICAgICAgICAgICAgICAgICAgICAgICAgICAgICAgICAgICAgICAgICAgICAgICAgICAgIAogICAgICAgICAgICAgICAgICAgICAgICAgICAgICAgICAgICAgICAgICAgICAgICAgICAgICAgICAgICAgICAgICAgICAgICAgICAgICAgICAgICAgICAgICAgICAgICAgICAgCiAgICAgICAgICAgICAgICAgICAgICAgICAgICAgICAgICAgICAgICAgICAgICAgICAgICAgICAgICAgICAgICAgICAgICAgICAgICAgICAgICAgICAgICAgICAgICAgICAgICAKICAgICAgICAgICAgICAgICAgICAgICAgICAgICAgICAgICAgICAgICAgICAgICAgICAgICAgICAgICAgICAgICAgICAgICAgICAgICAgICAgICAgICAgICAgICAgICAgICAgIAogICAgICAgICAgICAgICAgICAgICAgICAgICAgICAgICAgICAgICAgICAgICAgICAgICAgICAgICAgICAgICAgICAgICAgICAgICAgICAgICAgICAgICAgICAgICAgICAgICAgCiAgICAgICAgICAgICAgICAgICAgICAgICAgICAgICAgICAgICAgICAgICAgICAgICAgICAgICAgICAgICAgICAgICAgICAgICAgICAgICAgICAgICAgICAgICAgICAgICAgICAKICAgICAgICAgICAgICAgICAgICAgICAgICAgICAgICAgICAgICAgICAgICAgICAgICAgICAgICAgICAgICAgICAgICAgICAgICAgICAgICAgICAgICAgICAgICAgICAgICAgIAogICAgICAgICAgICAgICAgICAgICAgICAgICAgICAgICAgICAgICAgICAgICAgICAgICAgICAgICAgICAgICAgICAgICAgICAgICAgICAgICAgICAgICAgICAgICAgICAgICAgCiAgICAgICAgICAgICAgICAgICAgICAgICAgICAgICAgICAgICAgICAgICAgICAgICAgICAgICAgICAgICAgICAgICAgICAgICAgICAgICAgICAgICAgICAgICAgICAgICAgICAKICAgICAgICAgICAgICAgICAgICAgICAgICAgICAgICAgICAgICAgICAgICAgICAgICAgICAgICAgICAgICAgICAgICAgICAgICAgICAgICAgICAgICAgICAgICAgICAgICAgIAogICAgICAgICAgICAgICAgICAgICAgICAgICAgICAgICAgICAgICAgICAgICAgICAgICAgICAgICAgICAgICAgICAgICAgICAgICAgICAgICAgICAgICAgICAgICAgICAgICAgCiAgICAgICAgICAgICAgICAgICAgICAgICAgICAgICAgICAgICAgICAgICAgICAgICAgICAgICAgICAgICAgICAgICAgICAgICAgICAgICAgICAgICAgICAgICAgICAgICAgICAKICAgICAgICAgICAgICAgICAgICAgICAgICAgICAgICAgICAgICAgICAgICAgICAgICAgICAgICAgICAgICAgICAgICAgICAgICAgICAgICAgICAgICAgICAgICAgICAgICAgIAogICAgICAgICAgICAgICAgICAgICAgICAgICAgICAgICAgICAgICAgICAgICAgICAgICAgICAgICAgICAgICAgICAgICAgICAgICAgICAgICAgICAgICAgICAgICAgICAgICAgCiAgICAgICAgICAgICAgICAgICAgICAgICAgICAgICAgICAgICAgICAgICAgICAgICAgICAgICAgICAgICAgICAgICAgICAgICAgICAgICAgICAgICAgICAgICAgICAgICAgICAKICAgICAgICAgICAgICAgICAgICAgICAgICAgICAgICAgICAgICAgICAgICAgICAgICAgICAgICAgICAgICAgICAgICAgICAgICAgICAgICAgICAgICAgICAgICAgICAgICAgIAogICAgICAgICAgICAgICAgICAgICAgICAgICAgPD94cGFja2V0IGVuZD0ndyc/Pv/bAEMABwUFBgUEBwYFBggHBwgKEQsKCQkKFQ8QDBEYFRoZGBUYFxseJyEbHSUdFxgiLiIlKCkrLCsaIC8zLyoyJyorKv/bAEMBBwgICgkKFAsLFCocGBwqKioqKioqKioqKioqKioqKioqKioqKioqKioqKioqKioqKioqKioqKioqKioqKioqKv/AABEIAUYDHgMBIgACEQEDEQH/xAAfAAABBQEBAQEBAQAAAAAAAAAAAQIDBAUGBwgJCgv/xAC1EAACAQMDAgQDBQUEBAAAAX0BAgMABBEFEiExQQYTUWEHInEUMoGRoQgjQrHBFVLR8CQzYnKCCQoWFxgZGiUmJygpKjQ1Njc4OTpDREVGR0hJSlNUVVZXWFlaY2RlZmdoaWpzdHV2d3h5eoOEhYaHiImKkpOUlZaXmJmaoqOkpaanqKmqsrO0tba3uLm6wsPExcbHyMnK0tPU1dbX2Nna4eLj5OXm5+jp6vHy8/T19vf4+fr/xAAfAQADAQEBAQEBAQEBAAAAAAAAAQIDBAUGBwgJCgv/xAC1EQACAQIEBAMEBwUEBAABAncAAQIDEQQFITEGEkFRB2FxEyIygQgUQpGhscEJIzNS8BVictEKFiQ04SXxFxgZGiYnKCkqNTY3ODk6Q0RFRkdISUpTVFVWV1hZWmNkZWZnaGlqc3R1dnd4eXqCg4SFhoeIiYqSk5SVlpeYmZqio6Slpqeoqaqys7S1tre4ubrCw8TFxsfIycrS09TV1tfY2dri4+Tl5ufo6ery8/T19vf4+fr/2gAMAwEAAhEDEQA/APpGiiigAooooAKKKKACiiigAooooAKKKKACiiigAooooAKKKKACiiigAooooAKKKKACiiigAooooAKKKKACiiigAooooAKKKKACiiigAooooAKKKKACiiigAoorNbWoxNLHHaXMvlOUZkVcZHXqaANKis3+2f8ApwvP++U/+Ko/tn/pwvP++U/+KoA0qKzf7Z/6cLz/AL5T/wCKo/tn/pwvP++U/wDiqANKis3+2f8ApwvP++U/+Ko/tn/pwvP++U/+KoA0qKzf7Z/6cLz/AL5T/wCKo/tn/pwvP++U/wDiqANKis3+2f8ApwvP++U/+Ko/tn/pwvP++U/+KoA0qKzf7Z/6cLz/AL5T/wCKo/tn/pwvP++U/wDiqANKis3+2f8ApwvP++U/+Ko/tn/pwvP++U/+KoA0qKzf7Z/6cLz/AL5T/wCKo/tn/pwvP++U/wDiqANKis3+2f8ApwvP++U/+KpP7a/6h95/3yn/AMVQBp0Vmf21/wBQ+8/75T/4qj+2v+ofef8AfKf/ABVAGnRWZ/bX/UPvP++U/wDiqs298LmzW4ihlwxI2EDcMHHrigC1RUUczSEgwSJgZywHP600XLFgPs0wyepA4/WgCeioZJ2Ryoglf3UDH86UzMIlfyZCT/CAMj9aAJaKiSZnDZhkTAz8wHP601bhmYA20y5PUgYH60AT0VC9wyOVFvK+O6gYP60rTMqKwgkbd/CMZH15oAloqJJmZWJhkXaOhxk/TmkS4ZnCm3mXPcgYH60ATUVA1wysQLaZsHqAMH9ac8zIqkQyPuHRccfXmgCWiolmZo2byJAV/hIGT9OaSOdncKbeVPdgMfzoAmoqBrllYj7NMcHqAOf1p0kzJjEEj5GflA4/WgCWiohMxiL+TICD90gZP60RztI+0wSp7sBj+dAEtFQG5YHH2WY++F/xp0kzRtgQySe64/qaAJaKi85vJ3+TJnONmBn+dEczSMQYJE4zlgP8aAJaKg+0tnH2ab64X/GnSTtG2BBK/uoGP50AS0VEZmEQfyJCScbcDI/WiOZnzmGRMDPzAc/rQBLRVSW/EKbpbeZRnHQf41PBOlxHvjPHQg9QfQ0ASUUUUAFFFFABRRRQAUUUUAFFFFABRRRQAUUUUAFFFFABRRRQAUUUUAFFFFABRRRQAUUUUAFFFFABRRRQAUUUUAFFFFABRRRQAUUUUAFFFFABRRRQAUUUUAFFFFABRRRQAVhWX+svf+vqT+dbtYVl/rL3/r6k/nQBaooooAKKKKACiiuQ+IPiyTwvZ6a9oWeaW9jaeKOPe/2VTunYD2TPNAHX0Vx3irxQNNvvC93Z3Msthe3TiT7JGZvOTyWYYCgkjIB4qC+1+/v/ABjeaRBrFvoNvaWsM8bzwgyXXmbiSN5ACrgAjrk9qAO4orzy18VanqFn4Zla4QGfXJLKaa3GI7uNElwwBzgMVB69utdj4h1y18NeHb3WNQ3fZ7OIyMF6t6Ae5OBQBpUVwD6n8Ro9G/txtP0oqE846Ku8zhOu3zenmY7YxmtW08VzXPjhNKkgFtZtoq6kfPXZJGxkC7W7DAPPvQB1VFYGn+OPDOqaklhp+s2s9zJny41f/WY67T0b8KfL408OQasdMm1i1S8EgiMZfo/90npu9utAG5RWJqXjHw9o9+bLU9Wtra4ABaN3+4D03emfetpWDqGQhlYZBHcUALRRRQAUUUUAFS6N/wAgtP8Aef8A9CNRVLo3/ILT/ef/ANCNAF6iiigAooooAKKKKACiiigAooooAKKKKACiiigAooooAKKKKACiiigAooooAKKKKACo7i4jtoWlmbaq96koIB6jNAGOs32uTznZWI+6inIT/wCvQ0n2WTz42VW6MrHAcen1qWUAahNgY+Ven40iAG+t8jPLfyoAv21zHdQCWFsqf0PpUtAAHQYooAKKKKACiiigAooooAKKKKACiiigAooooAKKKKACiiigAooooAKKKKACiiigAooooAKKKKACiiigAooooAKKKKACiiigAooooAKKKKACiiigAooooAKKKKACiiigArCsv9Ze/wDX1J/Ot2sKy/1l7/19SfzoAtUUUUAFFFFABXDeIZIND8Z2p0y2s01XXEdX1DUpWMcUcQX92oz1O7IUYBwSa7mq17p9lqVuYNRtILuEnJjniV1/IjFAHnNta/2T4v8ADmlzf2VJCbue4hXScxmKQxtuZ4yW+Q5PIIwccVa+IOjXpW0uZtTjuIZ9Tt7ZLe5063lEKyyBTtLKTkA12unaDpGkMzaTpVlYlhhjbW6R5+u0CrssMU6qJo0kCsHUOoOGByD9RQBwWs6Tc6TqvhSO41Se/Q6wgjSSKKNYgIJuFCKOuR1z0FbPxG0S68Q/D/VNP05d920QkhQ/xspDBfxxiuhntLe5khe5gilaB/MiZ0DGNsEblz0OCRkepqagDgpfizop8Pme1Sd9aaLCaO0L/aPOx/qyuOmeN3THOaxdYudRi8W39/qOjrc3f/CHFp7FMujSGUFo89x1HvXqnlR+Zv2Lv/vY5p2BuzgZxjOKAPDLjUGvr7wP5Ws22oJBq1s7W2naf5UNmmxlwz8kYyFAJGeeOKdfXsOkf2tHo16JS+pvJJ4W1qwWSSaUy5JiZcnBPzKfmA9q9vEUajCxqBnPC96DGhkDlFLjo2OaAPH/ABNdQad4g8RTWmq/2Xd3Cxtc6Tq1ks8GoERADysfMQQAuAevavU9AmluPDemzXFmLGWS1iZ7VRgQEqCUx7dPwq60aOwLorEdCRnFPoAKKKKACiiigAqXRv8AkFp/vP8A+hGoql0b/kFp/vP/AOhGgC9RRRQAUUUUAFFFFABRRRQAUUUUAFFFFABRRRQAUUUUAFFFFABRRRQAUUUUAFFFFABRRRQBmTf8hGb/AHV/rSR/8f8Ab/Vv5Us3/IRm/wB1f60kf/H/AG/1b+VAGpRRRQAUUUUAFFFFABRRRQAUUUUAFFFFABRRRQAUUUUAFFFFABRRRQAUUUUAFFFFABRRRQAUUUUAFFFFABRRRQAUUUUAFFFFABRRRQAUUUUAFFFFABRRRQAUUUUAFFFFABWFZf6y9/6+pP51u1kjS7uKadoLiHZLK0mHQkjPbrQA+ik+w3//AD8W/wD37P8AjR9hv/8An4t/+/Z/xoAWik+w3/8Az8W//fs/40fYb/8A5+Lf/v2f8aAFopPsN/8A8/Fv/wB+z/jR9hv/APn4t/8Av2f8aAFopPsN/wD8/Fv/AN+z/jR9hv8A/n4t/wDv2f8AGgBaKT7Df/8APxb/APfs/wCNH2G//wCfi3/79n/GgBaKb9h1D/n4t/8Av23+NH2HUP8An4t/+/Z/xoAdRTfsOof8/Fv/AN+z/jR9h1D/AJ+Lf/v2f8aAHUU37DqH/Pxb/wDftv8AGj7DqH/Pxb/9+z/jQA6im/YdQ/5+Lf8A79n/ABo+w6h/z8W//fs/40AOopv2HUf+fi3/AO/bf40fYdQ/5+Lf/v2f8aAHVLo3/ILT/ef/ANCNQfYdQ/5+Lf8A79n/ABqzp9rPZ2whkkjcDJBVSOSc+tAFyioFW63Dc8WM84U/40sguC58t4wvYMpJ/nQBNRUTCfy12tGH7kqcUIJwreY0ZOPlwpGKAJaKgVbrcN7xFe+FP+NK63Jc+W8YXsCpz/OgCaiomE+xdjRhv4iVODQgn2NvaMt/CQpwKAJaKhRbkOPMeIr3AU5/nSMt1uOx4gueMqf8aAJ6KicTkL5bRg4+bcpNCi48ttzR7/4SFOKAJaKhjFwHHmvGV7hVIP8AOkZbrcdrxYzxlT/jQBPRUUgnOPKaMcc7lJ5oAn8ogtH5meDtOMUAS0VFGLgP+9eMr/sqQf500rd54kix/un/ABoAnoqGczLlkkjRAMkuD/jVSHUZAwNwqiFjgOARj3I9KANGijOelFABRRRQAUUUUAZk3/IRm/3V/rSR/wDH/b/Vv5Us3/IRm/3V/rSR/wDH/b/Vv5UAalFFFABRRRQAUUUUAFFFFABRRRQAUUUUAFFFFABRRRQAUUUUAFFFFABRRRQAUUUUAFFFFABRRRQAUUUUAFFFFABRRRQAUUUUAFFFFABRRRQAUUUUAFFFFABRRRQAUUUUAFFFFABRRRQAUUUUAFFFFABRRRQAUUUUAFFFFABRRRQAUUUUAFFFFABRRRQAUUUUAFFFFABRRRQAUUUUAFFFFABRRRQAUUUUAFFFFABRRRQAUUUUAZd7LM82JoZFgVsDphj6nmg4wc9Ks6l/x5/8DX+dVj0NAC6bLMCqrDIbZxuRmx8v69K06rad/wAgu2/65L/KrNABRRRQAUUUUAZk3/IRm/3V/rSR/wDH/b/Vv5Us3/IRm/3V/rSR/wDH/b/Vv5UAalFFFABRRRQAUUVVuL5beYReVJI23d8mOB+JoAtUVR/tP/p1n/8AHf8AGj+0/wDp1n/8d/xoAvUVR/tP/p1n/wDHf8aP7T/6dZ//AB3/ABoAvUVR/tP/AKdZ/wDx3/Gj+0/+nWf/AMd/xoAvUVR/tP8A6dZ//Hf8aP7T/wCnWf8A8d/xoAvUVR/tP/p1n/8AHf8AGj+0/wDp1n/8d/xoAvUVR/tP/p1n/wDHf8aP7T/6dZ//AB3/ABoAvUVR/tP/AKdZ/wDx3/Gj+0/+nWf/AMd/xoAvUVR/tP8A6dZ//Hf8aP7T/wCnWf8A8d/xoAvUVR/tP/p1n/8AHf8AGj+0/wDp1n/8d/xoAvUVR/tP/p1n/wDHf8aP7T/6dZ//AB3/ABoAvUVR/tP/AKdZ/wDx3/GprW7W6LgI6MhGQ2O/0oAsUUUUAFFFFABRRRQAUUUUAFFFFABRRRQAUUUUAFFFFABRRRQAUUUUAFFFUm1NRI6JBK+xipKgYyPxoAu0VR/tP/p1n/8AHf8AGj+0/wDp1n/8d/xoAvUVR/tP/p1n/wDHf8aP7T/6dZ//AB3/ABoAvUVR/tP/AKdZ/wDx3/Gj+0/+nWf/AMd/xoAvUVR/tP8A6dZ//Hf8aP7T/wCnWf8A8d/xoAvUVR/tP/p1n/8AHf8AGj+0/wDp1n/8d/xoAvUVR/tP/p1n/wDHf8aP7T/6dZ//AB3/ABoAvUVR/tP/AKdZ/wDx3/Gj+0/+nWf/AMd/xoAvUVR/tP8A6dZ//Hf8aP7T/wCnWf8A8d/xoAvUVR/tP/p1n/8AHf8AGj+0/wDp1n/8d/xoAvUVR/tP/p1n/wDHf8aP7T/6dZ//AB3/ABoAvUVR/tP/AKdZ/wDx3/GpIr4zRh47aYqf93/GgC1RUTzMqKRBIxbqBjI/WhZnZGYwSKR0U4yf1oAloqFJ3ZwDbyKD3OMD9aRrh1YgW0rAHqNvP60AT0VE8zoFxBI+Rk4xx+tAmYxsxgkBHRTjJ/WgCWioY53dwrW8iD+82MD9aQ3EgJAtZT7jbz+tAE9FRSTMhG2CR8j+HHH5mgTP5RfyJAc42cZP60AS0VCtwTkyQvEoGSzkYH60lreRXany8hl6qwwR70AT0UUUAFFFFABRRRQBU1L/AI8/+Br/ADqsehqzqX/Hn/wNf51WPQ0AW9O/5Bdt/wBcl/lVmq2nf8gu2/65L/KrNABTJJooQDNIkYPQswGafVW4AN7agjIy3X/doAf9utP+fmH/AL+Cj7daf8/MP/fwVL5af3F/Kjy0/uL+VAGTNdQG/mYTxkFVwd4560iXMAvYCZo8AnJ3jjitfy0/uL+VHlp/cX8qAIvt1p/z8w/9/BR9utP+fmH/AL+CpfLT+4v5UeWn9xfyoASOaKYEwyJIB12sDin1WgAF/cgDAwnT8as0AFZl1/yFD/1xH8zWnWZdf8hQ/wDXEfzNABRRRQAUUUUAFFFFABRWR4o8RW3hXw7c6teI8qQgBIY/vSuThUHuSQK5ibWPiNp1sNWvtG0i6swQ0ul2Jla8RD/dc/K7D0CjOKAO+ormrLxRJP401jS7lYYLHT7G3uxM+UYeZv3b8nAACjsMc1No/jnwv4g1A2Gja5ZXl0AW8qKUFmA6keo+lAG/RWCnjfwzLrx0WPXbFtREhj+zCYbt46r/AL3t1pb3xt4Z03WRpN/rllb35IHkSTAMCegPoT6GgDdoorgp/iJLB8Tk0NraE6M0wsGvQTuW9aPzFTrjG3j13fSgDvaKKKACiiigAooooAKfp3/H1dfVP5Uyn6d/x9XX1T+VAGhRRRQAUUUUAFFFFABRRRQAUUUUAFFFFABRRRQAUUUUAFFFFABRRRQAVjQ/665/67v/ADrZrGh/11z/ANd3/nQBNRRRQAUUUUAFFFFABRXN+LPE1zos2n6bo9ml7q+qOyWsMr7I1CgF5HI52qCOnJyBVLTtU8a6drlpaeKNP06+s71ii3mjpKPsrAZ/eK5PynGNwI5+tAHY0Vymi+NbeXw3f6v4juLTToLTUbm08xm2LtjlZF6n7xA7d+1aWleLvD+t6fc32laxaXNra83EqygCHjOWz93gHr6UAbNFYuieMfDviOWWPQtZs76SFd0iRSgsq/3sdce/So9L8b+GNb1NtO0nXbG7uxn9zFMCWx12/wB7HtmgDeormfH/AIhv/DPhN9Q0iK2lvGuYII1ugxjzJKqZO0g8bqxj4o8X+Htd0e18YWejT2mr3YsoptKeUPFKVLKWV85X5TnGMUAd/RRRQAUUUUAFFFFABVjTP+PBPq38zVerGmf8eCfVv5mgC3RRRQAUUUUAFFFFABRRRQAUjMEUsxAUDJJ7UtBAIwRkHtQBkyXS38mFYeSvITPLe59vaklBUiVHEcidGPT6H2qa7jRLyLYirlGzgY7ioLgAogIyDLHkH/fFAF+yvY7yM7SA6cOoOcH/AAqzTVjRM7EVc9cDFOoAKKKKACiiigCpqX/Hn/wNf51WPQ1Z1L/jz/4Gv86rHoaALenf8gu2/wCuS/yqzVbTv+QXbf8AXJf5VZoAKrT/APH9a/Vv/Qas1Wn/AOP61+rf+g0AWar397Bp2nz3l3IsUMEbSO7nAUAZ5qxWfrti2oaLcxQQ281yqF7UXKBkWYDMbEH0bBoA5i38fNdaPoV4luRPdX32TULNImea3bypH27OoOVU8/wnPfNXdZ8WXdrqlrbaVpk1wnnlLkzRNEZAFJKQbsb3GN3GRhSM5xWXYaJqc3iLS7yW2vxJDN5t7LfvCytiJ0BXYM7gXwOwBNW9S+G9pqGoyXa6hNDlzIkYijYRkjnBYE9z+dAHV2N7HqFmlzCk0avn5J4WidcHGCrAEVYrF8JafPpnhm2t72MR3PJmA7tnr6cgDpW1QBWh/wCQhc/7qf1qzVaH/kIXP+6n9as0AFZl1/yFD/1xH8zWnWZdf8hQ/wDXEfzNABRRRQAUUUUAFFFFAHI/EzSr3VPBch0uA3N1ZXMN7Hbr1m8qQPsHuQKzrz4u6BJpX/FPyNqWtSjZb6SEZZjJ/ddcfLjuT0xXf00IgcuFUMRgtjk0AeReIr2W013xzdXelR30o0KxM1kWZoySZNwJGCVHJ4xkCs6LVPt3j7wVN/wkdjrSRXLxA6bYiG3td0RxHvySSccKSOFPFe4U1VVFwihR6AYoA8Hg1K30drWw0LUodSt11Uf8Utqtn/plvIZfmZHU54yWBIxjuas+KNQttH1HxGml6xAss92ZLrw1rFlv+3OcYMLKd2GwMdefSvb9ieZv2rvxjdjnFBjRnDMqll6EjkUAZOqa2mieD7jWb2LyBbWnnvET90hc7fz4rypPh34yn+G8mdasBNdSf2y0DWBMwuSfNx5u/rn5c7ele20UAY3hLX4vE/hLTtYgPF1CC6/3HHDqfcMCPwrZoooAKKKKACiiigAp+nf8fV19U/lTKfp3/H1dfVP5UAaFFFFABRRRQAUUUUAFFFFABRRRQAUUUUAFFFFABRRRQAUUUUAFFFFABWND/rrn/ru/862axof9dc/9d3/nQBNRRRQAUUUUAFFFFAHCeOHOh+MPDniyeKWTTrBLi1vXjQv5CShcSEDnaCmCferEPxI07WtesNM8HlNbMsmbyaEsI7SHB+ZmxjcTgBe9dnTURUGEUKM5wBigDxRtU/szwxbkpZQiTxXf41LUI2khsGE0mJCoIyT0GSBzVS1ms9V17xtHqup3GuWt3osDSXWn2ghaZVdgWiUZDBc9cnvXu7KrqVcBlPUEZzS9KAPF9E1j7f4sSx/tCy8Z2cuk3KNqFjaeVd2UW0YjYqdp39AODkdqreF9Witta8K6do+rWniWyjlEUNhc2fl3+kpsILMy8fLgK24DOfxr29UVM7FVcnJwMZNARVYsqgM3UgcmgDgvjSYF+G0pvHMduL6zMrhiNq/aEycjkcVxU8vhOXxJod18NdSvNW1yK9RCvmy3MaQNxKXMmQgx3GDXulFABRRRQAUUUUAFFFFABVjTP+PBPq38zVerGmf8eCfVv5mgC3RRRQAUUUUAFFFFABRRRQAUUUUAUL7/AI/Iv9xv5iq0/wB2P/rrH/6GKs33/H5F/uN/MVWn+7H/ANdY/wD0MUAbFFFFABRRRQAUUUUAVNS/48/+Br/Oqx6GrOpf8ef/AANf51WPQ0AW9O/5Bdt/1yX+VWarad/yC7b/AK5L/KrNABVaf/j+tfq3/oNWajmgSYqX3AqcgqcEUASUVB9kT+/L/wB/DR9kT+/L/wB/DQBPRWTKhW8lQSy7VCkDzD3zQiMbuFDLLtYnI8w+lAGtRUH2RP78v/fw0fZE/vy/9/DQA2H/AJCFz/up/WrNRxW6Qlim4lsZLMT0qSgArMuv+Qof+uI/ma06zLr/AJCh/wCuI/maACiiigAooooAKKKKACiiigAooooAKKKKACiiigAooooAKKKKACiiigAp+nf8fV19U/lTKfp3/H1dfVP5UAaFFFFABRRRQAUUUUAFFFFABRRRQAUUUUAFFFFABRRRQAUUUUAFFFFABWND/rrn/ru/862axof9dc/9d3/nQBNRRRQAUUUUAFFFFABRRRQAUUUUAFFFFABRRRQAUUUUAFFFFABRRRQAVY0z/jwT6t/M1Xqxpn/Hgn1b+ZoAt0UUUAFFFFABRRRQAUUUUAFFFFAFC+/4/Iv9xv5iq0/3Y/8ArrH/AOhirN9/x+Rf7jfzFVp/ux/9dY//AEMUAbFFFFABRRRQBWjvfNjV47eYqwyDgcj86d9pb/n2m/If403Tv+Qbbf8AXNf5VZoAoXjyT2+xLaXO4HkDsfrUJWbH/HtL+n+NatFAFKzkkgsoYntptyIFOAOoH1qb7S3/AD7TfkP8anooArtebMF4JVBIGSBxk49asVXvv+PX/ton/oYqxQAUUUUAZk3/ACEZv91f60kf/H/b/Vv5Us3/ACEZv91f60kf/H/b/Vv5UAalFFFABRRRQAVmXX/IUP8A1xH8zWnWZdf8hQ/9cR/M0AFFFFACEgAknAHUmo/tEP8Az2j/AO+hTL//AJB9x/1zb+VSCKPA/dr/AN80AJ9oh/57R/8AfQo+0Q/89o/++hTvKj/55r/3zR5Uf/PNf++aAG/aIf8AntH/AN9Cj7RD/wA9o/8AvoU7yo/+ea/980eVH/zzX/vmgBv2iH/ntH/30KPtEP8Az2j/AO+hTvKj/wCea/8AfNHlR/8APNf++aAG/aIf+e0f/fQo+0Q/89o/++hTvKj/AOea/wDfNHlR/wDPNf8AvmgBv2iH/ntH/wB9Cj7RD/z2j/76FO8qP/nmv/fNHlR/881/75oAb9oh/wCe0f8A30KPtEP/AD2j/wC+hTvKj/55r/3zR5Uf/PNf++aAG/aIf+e0f/fQpftEP/PaP/voUvlR/wDPNf8Avmob2JBYXBCKD5TdvagCzRSL90fSloAKfp3/AB9XX1T+VMp+nf8AH1dfVP5UAaFFFFABRRRQAUUUUAFFFFABRRRQAUUUUAFFFFABRRRQAUUUUAFFFFABWND/AK65/wCu7/zrZrGh/wBdc/8AXd/50ATUUUUANZ1QZdgo9ScUz7RD/wA9o/8AvoUy4Aaa3DAEbzwf901L5Uf/ADzX/vmgBv2iH/ntH/30KPtEP/PaP/voU7yo/wDnmv8A3zR5Uf8AzzX/AL5oAb9oh/57R/8AfQo+0Q/89o/++hTvKj/55r/3zR5Uf/PNf++aAG/aIf8AntH/AN9Cj7RD/wA9o/8AvoU7yo/+ea/980eVH/zzX/vmgBv2iH/ntH/30KPtEP8Az2j/AO+hTvKj/wCea/8AfNHlR/8APNf++aAG/aIf+e0f/fQo+0Q/89o/++hTvKj/AOea/wDfNHlR/wDPNf8AvmgBv2iH/ntH/wB9Cj7RD/z2j/76FO8qP/nmv/fNHlR/881/75oAb9oh/wCe0f8A30Kcs0TttSRGPoGBo8qP/nmv/fNV7mGMzWylBgyHOBj+E0AW6KjS3jjJKLgkY6mmi0gBBCcj3NAE1WNM/wCPBPq38zVJ7aKRizrkn3NWbC3il02NJFyoZsDJ9TQBfoqGO0hiDCNMbhg8nkU1bG3Rgyx4IOQdxoAsUhYAgEgE9B61UvI7WMGWaPc7cBQxyx9Ko+QXw7nbIv3Np/1fsP8APNAG1RVS0u/NPkz4WZfTo49RVugAooooAKKKKAKF9/x+Rf7jfzFVp/ux/wDXWP8A9DFWb7/j8i/3G/mKrT/dj/66x/8AoYoA2KKKKACiiigCtp3/ACDbb/rmv8q5n4gau1npqWNpetBd3SsEjRhHu6YJk3L5Yz/EDnrjNdNp3/INtv8Armv8qW6sLa8Ui4t4pG2lQzxhiPzoA4PwVr0+mWNxYaxfSajeWsTP5Vq5uhNz1ikLszZyPlbBH0GarvrPiEeH7nT78qutjUIbiIJcb1WOScN5JK8/uwSh46DI4NdloHhm00LwxYaTGEaS0so7Q3SRhHfagUtkcgnGaxLL4ei0ttPszdWv2bT5I3ikisVS4YocgmQHqcfMQMnJ9aAMXxBrus2vjaOMagIlgaJGgRsby+PuRFwZQCeTgfjiul8B6hLe2OrR3DXEklvrN/H5kyttKi5kChWPBAAAwOmMVZvvBOlalq66ldzak1ym8RtHqU8flhsbguxxtB2jgelXfD+iLoFhPapM0wlvLi6DN1HmytJtySc43Yz3xQBcvv8Aj1/7aJ/6GKsVXvv+PX/ton/oYqxQAUUUUAZk3/IRm/3V/rSR/wDH/b/Vv5Us3/IRm/3V/rSR/wDH/b/Vv5UAalFFFABRRRQAVmXX/IUP/XEfzNadZl1/yFD/ANcR/M0AFFFFAFe//wCQfcf9c2/lU46CoL//AJB9x/1zb+VTjoKAFooooAKxfEPizSfDCQ/2nNIZ7gkQW0ETSzTEddqKMn69K2q8+sig/aA1T+0MecdGh/s7f/c3nzdvvuxnFAHQaD420jxBevYW5uLTUETe1lfQNBNt/vBW+8PcZrR0bWrLXrJ7rTnZ4o5pIGLKV+dGKsOfcVyPj0w/8Jx4HFrt/tT+0nxt+99m8pvNz/s52Vxul6Rc2vw917xPaeINRtrzT7+9mtoorkrbpsmY7WjHyvu77snkUAeyQ6lBPq1zpyLKJrWOORy0ZCEPnGG6E/KcgdOPWrleSa14x1mw/wCEt1G1kmWWPRtNlt7dm3LbSSmQMwUnaD0z67RmmaE/iXR/E+jm2sPEi2t05j1Aa3qUM6TAqSHjHmEqwOOFGCO1AHr1VLXU7O9uru2tLhZZrOQR3Cr/AMs2IDAH3wQa8z8MWd74l8Jw+NdQ8Wahp+oTXLy8XRW0t41mKCEw8KRtGCTzk5zWj8OdIjsvGfjOZLy+nK6gseJ7p5FIMSNuwTgnnAPXHHSgD0aiiigAqC9/5B9x/wBcm/lU9QXv/IPuP+uTfyoAmX7o+lLSL90fSloAKfp3/H1dfVP5Uyn6d/x9XX1T+VAGhRRRQAUUUUAFFFFABRRRQAUUUUAFFFFABRRRQAUUUUAFFFFABRRRQAVjQ/665/67v/OtmsaH/XXP/Xd/50ATUUUUAQT/APHxbf75/wDQTU9QT/8AHxbf75/9BNT0AFFFFABXMaz4/wBG0fVG0zF5qF/GA0ttp9q87RA9C2BhfoTn2rp64T4WFPsOvibb/aI1u6+15+9nf8me+Nm3FAG1D450G48M3muwXbNZ2Kk3Q8phJCR1VkIDA+2K3YJkuLeOeI5SRA6kjsRkV4t43IPib4h/2dj7L/wjcf23Z937RuOzP+1szW7HYXnhGXwnqNrr+o6hJqlxFZ3kFzcGSGZXjLbo0PCbSoxtxxQB6JpupwarbyTWyyqsczwt5sZQ7kbacA9RkcHvVyvELzxNrsml6fpMEmqXZ1PX9RimezuAtx5MMhKxJI7AJnI6EYCkCra694n8M6H4mVLXU7S0gtI5bFtYu47ma2kZtjch2Ypghhu6YNAHsTuqIzuQqqMknsKr6bqVpq+nQ3+mzrcWs67o5VBwwzjIz9K4eXwj/Y6oB4v1Z1vrSaK4t7y+aRrptmd8RJzGw6/J24qz8HbFbL4W6OyT3Mvnw+YRPM0gQ5Iwufurx0HFAHc0UUUAFV7j/j4tf+uh/wDQGqxVe4/4+LX/AK6H/wBAagCxRRRQAVY0z/jwT6t/M1Xqxpn/AB4J9W/maALdFFFAFK9s1fzLnzJA6xnbgjA4+lV0JMak9SBWhdf8ec3/AFzb+VZ0f+qT/dFAD7a0W5LSSSSAxy/KFIGMY9q06qad/qpf+up/kKt0AFI7qilnYKo6kmlqvfc2vP8Az0T/ANDFADvtdv8A89o/++hR9rt/+e0f/fQqTYn91fyo2J/dX8qAM68uIWuoisqEBG6H6VXmmiKpiRf9bGev+2K2dif3V/KjYn91fyoAj+12/wDz2j/76FH2u3/57R/99CpNif3V/KjYn91fyoAak8UjYjkVj6A1JVd1Av4cAD5H6D/dqxQBRsLqBNPt1aZAwjAILdOKsfbLb/nvH/31Umxf7q/lRsT+6v5UARfbbb/nvH/30KPttt/z3j/76FRakiiz4UffXt71WKrg/KPyoAvfbbb/AJ7x/wDfQpftlt/z3j/76qPTkU6ZbZUf6pe3tVjYn91fyoAqXdzDJbhI5UZjImAD/tCrtJsUdFH5UtABRRRQBmTf8hGb/dX+tJH/AMf9v9W/lSzf8hGb/dX+tJH/AMf9v9W/lQBqUUUUAFFFFABWZdf8hQ/9cR/M1p1mXX/IUP8A1xH8zQAUUUUAV7//AJB9x/1zb+VTjoKgv/8AkH3H/XNv5VOOgoAWiiigArF8ReFNK8TxQjU4pFmt2LW91bytFNCT1KupBH06GtqigDndA8EaR4evZL+D7Ve6hIuxr7ULlribb/dDMeB7DGe9Zq/Crw4tw7A6gLea4NzPZfbZPs9xIW3bnjzg8/yGc12lFAHE6ToF1qnivxVe+INIFvp2owQWUUE0qOZ44vMy+FJwDvGAeau6R8PdF0fVLe/SS/vZrRSlmL69knW1BGCI1Y4HHGeuK6migDkpPhr4ek1J7nbeLbyXH2mTT0u3Fo8uc7zFnbnPOOme1atl4X0/TvE19rln58dzqCKtxGJm8pyAAH2dA2FAzWxRQAUUUUAFQXv/ACD7j/rk38qnqC9/5B9x/wBcm/lQBMv3R9KWkX7o+lLQAU/Tv+Pq6+qfyplP07/j6uvqn8qANCiiigAooooAKKKKACiiigAooooAKKKKACiiigAooooAKKKKACiiigArGh/11z/13f8AnWzWND/rrn/ru/8AOgCaiiigCCf/AI+Lb/fP/oJqeoJ/+Pi2/wB8/wDoJqegAooooAK5jWvAOj61qjanvvtNv3UJLdabdvbvKo6B9pw31Iz7109FAHOweBdBtvC95oEFq6Wd8rC6Yys0sxbqzOSWJ96o2vgLSfDs41XTrbUNSuLGNvsFlNes6QZHKxK7bUz0yentXYUUAcF4d8D/AG7wSbPxXZvbXU2oz6iiQ3GJbR3kZl2yIeGAbGQcVt6Z4H0XTbS/hdJ9QbUl2Xk+oTtPLOoGApZuwBOAMV0VFAHL6P8AD/RdG1BLxGvr2WGJobb7fePOLaNhgrGGPy5HGeuOM1f8NeF7Dwnpz2Gktc/ZTIXSKedpBFn+Fc9F9q2aKACiiigAqvcf8fFr/wBdD/6A1WKr3H/Hxa/9dD/6A1AFiiiigAqxpn/Hgn1b+ZqvVjTP+PBPq38zQBbooooAiuv+POb/AK5t/Ks6P/VJ/uitG6/485v+ubfyrOj/ANUn+6KALenf6qX/AK6n+Qq3VTTv9VL/ANdT/IVboAKr3v8Ax7f9tE/9DFWKr3v/AB7f9tE/9DFAFiudttd1TUNe1OzsNPtTbabdrbSTS3LKzExRyEhQhHSQDr2roq5weGdQt9W1O703XXtI9SuFuJIhao5VhEkfDN7RjtQBkXXju5i8LS3lvFby3y6hcWYjVgduyeREGzO5mZEzge56VLonjuTVdU0awa2Mct2kzTt5bbPkH8LD5QdwYFSdwxyBUK+Fb0fD+8tRp8Mmri+urm3Mj7GJa5kZH3oQQxjfjkdcHAzVbwz4XvbbxDZS3Glzx2ltDMrS3624k3P1CmF2LgksTv8AXOc0AaY8fxPda9BDZzTtp0gW2+zpvNwmz5pBnGVWQOhwTjb710eh30mp+HtOv51VZLq1imcL0BZQTj864jUNF8Qpc3MNraX0UcJeLTU01LAWyQkYAfzf3oJ/i2/hXc6RavY6JY2kiRxvBbxxskRJRSqgYUnnHHfmgCWT/j/g/wBx/wD2Wp6gk/4/4P8Acf8A9lqegAooooAqal/x5/8AA1/nVY9DVnUv+PP/AIGv86rHoaALenf8gu2/65L/ACqzVbTv+QXbf9cl/lVmgAooooAKKKKAMyb/AJCM3+6v9aSP/j/t/q38qWb/AJCM3+6v9aSP/j/t/q38qANSiiigAooooAKzLr/kKH/riP5mtOsy6/5Ch/64j+ZoAKKKKAK9/wD8g+4/65t/Kpx0FQX/APyD7j/rm38qnHQUAVgrXUjlnZYkYqFQ43EdSTTvsUP/AE1/7/P/AI0Wf+pb/ro//oRqxQBX+xQ/9Nf+/wA/+NH2KH/pr/3+f/GrFFAFf7FD/wBNf+/z/wCNH2KH/pr/AN/n/wAasVQ1PWrDRzajUbhYTdzrbw5P3nOcfhx1oAn+xQ/9Nf8Av8/+NH2KH/pr/wB/n/xovb6306yku72URQRgF3IJxk47fWo21S2XWIdMLE3M0ElwoA42IyK2T9ZFoAk+xQ/9Nf8Av8/+NH2KH/pr/wB/n/xqxRQBX+xQ/wDTX/v8/wDjR9ih9Zf+/wA/+NWKKAK0e+C4ERdnjcEruOSpHbPenXv/ACD7j/rk38qSb/j8t/8AgX8qW9/5B9x/1yb+VAEy/dH0paRfuj6UtABT9O/4+rr6p/KmU/Tv+Pq6+qfyoA0KKKKACiikd1jRnkYKqjJZjgAUALRTTLGITKXXywu7fnjHrmsWPxt4WlmSKPxHpTyOwVUW8jJYk4AAz1zQBuUVWm1Kyt5HjnvII3QFmRpAGAAz069OaSy1Oz1FphY3CzGBlWTb/CWRXX81dT+NAFqimRTRToXgkSRQxUlGBAIOCOO4II/CoLzVNP09lW/vra1LDKiaZUyPbJoAtUVWg1G0ubyW1t50kmhjSV1XnCPu2HPTB2t+VQ3OvaRZ3Jt7vVbKCZesUtwisO/QnNAF+iqkWrWE3nbLuLEE4tpCzYAlIUhMnqTvXGOuRVh54o5I45JUR5SRGrMAXIGSAO/HNAD6Ky7bxPoF7di1s9b024uScCGK7jdz/wABBzSnxHoqadaX02q2kFrexiS3lnmWMSqQDkbsZ4I/OgDToqpYarp2qq7aZf2t6sZAc28yyBSemcE4q3QAUUUUAFY0P+uuf+u7/wA62axof9dc/wDXd/50ATUUUUAQT/8AHxbf75/9BNSswRCx6AZqKf8A4+Lb/fP/AKCafP8A8e8n+4f5UAQxwGdBJcSOS4yEVyoUenFO+xQ/9Nf+/wA/+NSQf8e8f+6P5VJQBX+xQ/8ATX/v8/8AjR9ih/6a/wDf5/8AGrFFAFf7FD/01/7/AD/40fYof+mv/f5/8asVnHXdPHiEaIbhft5t/tAi/wBjOPz9vSgCz9ih/wCmv/f5/wDGj7FD/wBNf+/z/wCNJcX9ta3VrbXEoSa7dkgUg/OVUsR+QJ5ptpqVve3V3BbsWe0cJLxxkqGGPXgigB/2KH/pr/3+f/Gj7FD/ANNf+/z/AONWKKAK/wBih/6a/wDf5/8AGj7FF/C0qn1ErcfrViigCC3d97wync0eMN/eB6H60lx/x8Wv/XQ/+gNRH/x/z/7if1ouP+Pi1/66H/0BqALFFFFABVjTP+PBPq38zVerGmf8eCfVv5mgC3RRRQBFdf8AHnN/1zb+VZ0f+qT/AHRWjdf8ec3/AFzb+VZ0f+qT/dFAFvTv9VL/ANdT/IVbqpp3+ql/66n+Qq3QAVXvf+Pb/ton/oYqxTJYkmjKSAlSQeCR0OeooAfRUH2OL+9N/wB/n/xo+xxf3pv+/wA/+NAE9FZl1EI7iNUkmAZSSPNb296hlVlVNsswzIin963QsAe/vQBs0VB9ji/vTf8Af5/8aPscX96b/v8AP/jQASf8f8H+4/8A7LU9Qx2sccgdd5YDALSM2PzNTUAFFFFAFTUv+PP/AIGv86rHoas6l/x5/wDA1/nVY9DQBb07/kF23/XJf5VZqtp3/ILtv+uS/wAqs0AFFFFABRRRQBmTf8hGb/dX+tJH/wAf9v8AVv5Us3/IRm/3V/rSR/8AH/b/AFb+VAGpRRRQAUUUUAFZl1/yFD/1xH8zWnWZdf8AIUP/AFxH8zQAUUUUAV7/AP5B9x/1zb+VTjoKgv8A/kH3H/XNv5VOOgoAgs/9S3/XR/8A0I1YqvZ/6p/+uj/+hGrFABRRRQAV5zr+i+IJ9cuJbXT7adHlz5ptd/mRf88zuuB8p4zgLkjNejUUAeatGt78P7eXVJf+JV9paKWxt42iaV/N8pUZ3kbYocEnB7DkAEG14etHt/iBZi+T/TU0q5DTM6SPOhlg2lymBlQoGSBu6+tdyLO2Fq1sLeLyGzui2DacnJyOnJJNR2Wl6fpoYadY21oH+95EKpu+uBQBbooooAKKKKAK83/H5b/8C/lS3v8AyD7j/rk38qSb/j8t/wDgX8qW9/5B9x/1yb+VAEy/dH0paRfuj6UtABT9O/4+rr6p/KmU/Tv+Pq6+qfyoA0KKKKACqOs6TBrmj3Om3jOsNwmxzGcMB7Gr1FAGJFpK6B4NbTtOudotbdgk92DJ2JJfaUz+Y+teQzXN5fRwIslmwaeF0khsJ5GOJFYEA3RBHAz7Z+te7yxJNC8Uqh43UqynoQeCKx4vB+gw7PK09UCY2hZHAGOnGaAOG8TWV1feI9Ql1SC4C6bIJbV7XSDtn/0PaWafn5Q0kgxk42gdqb4V1K50fR9WW41jSbS7mubVBdXzeRGq/YYDlULHcwGBjcM9eOlepvGkkTRyKGRhtZSMgj0qtb6XY2rTNb2kSGZlaTC/eKoEB/BVUfhQBx3he40rQ9Tj0/RfFml6lY3jl5LeW+RpxO2Szx7T829uSvYkkHtWl4ut31W8stDItoIdRDpJdOm+UIBl0jGMKSoxuJ4zwCa6ZbeFWBWGMEdCFHFVtS0fT9XWIalapceSxaPdnKkjBwR7UAYml6PLbfEHU7uPz4bFdOs7eFFx5UhUzZ7ZJUFe/wDFWH4wsbu68XW0tvEst9bRtLY2tvAJPOXhZHnZiuBztUA5B556DttP0bT9KLnT7ZYPMxuwSc4+ppNS0TTtXaNtQtVleLIR8lWUHqAQQccUAecxWUEvhDV4Wuksi3iGGcx6hetE6mPyGaMysSQ2EOCCeCCDT/Dt7Zat4o067hurW3+xXU8Rjl1xrl5TtaMbEY9ycgjtXotro+nWVmLW2soUgDF9mzOWPUnPU+9SpYWcbhktIFZTkERgEUAeZ2y2cfiLVLnUr68+2Sz+RqcNrYXDQkIoMfkvGMqVDYJJ+bJyBxjS8OX15F4X8I6bp406VbnR45IDeI4YiNI9x4yB99a6q48KaJc3U1zNYqZZm3yMsjLvbGMkA9eKkm8M6NcWtnbTabA0NjH5dshXiJcAYX0GFH5UAZ/h7SdVsdd1K91A6d5d8IzstA4KFFCgc8Y6n8a6SqWn6RYaSJBp1qlv5mN+z+LHT+Zq7QAUUUUAFY0P+uuf+u7/AM62axof9dc/9d3/AJ0ATUUUUAQT/wDHxbf75/8AQTT5/wDj3k/3D/KmT/8AHxbf75/9BNPn/wCPeT/cP8qACD/j3j/3R/KpKjg/494/90fyqSgAooooAiuklktZUt2RJWQhGdSVBx3AIOPoRXk19puuabbzXl7psEdjDHukU2pO1s/63cLnfvxxnPSvXqZNDHcQtFPGskbjDI4yCPcUAcD4k0+R9e02G8uZLjVjbO2nC32wRW2zYJX+ctvZiyjBz8uR6k6vgiKCO61zyLZLX/S1DwRkMqMIlHDLwc9a6S8sLPUYRFf2sN1GDkJNGHGfXBp1taW9lbrBZwRW8K/djiQKo/AUATUUUUAFFFFAFeP/AI/5/wDcT+tFx/x8Wv8A10P/AKA1Ef8Ax/z/AO4n9aLj/j4tf+uh/wDQGoAsUUUUAFWNM/48E+rfzNV6saZ/x4J9W/maABEmnaVvtUkYEhUKqrgAfUU77NN/z/Tf98p/8TTrXpN/11am3+oQaZaNc3fmCJSAfKheVuf9lAT+lACPaSujK17MVYYI2p/8TUY0whQBdzYHsn/xNULXxnol7NHFaXTStI0aL+6ZeZGkVQQQCOYnB9MVbvdf03T9asNKu7pI7zUN/wBnjJ5baMn6dePU0ATR2LwgiO8mAJyflTr/AN80/wCzTf8AP9N/3yn/AMTTNR1S30uON7lLlxI20C2tZJyD7iNSQPc8U6DUre51C5somJmtVRpBjgBwSP5GgBJYJ0hdxezZVSR8qf8AxNWYmLQozdSoJptx/wAesv8AuH+VLB/x7x/7g/lQA+iiigChff8AH5F/uN/MVWn+7H/11j/9DFWb7/j8i/3G/mKrT/dj/wCusf8A6GKANiiiigAooooAKKKKAKmpf8ef/A1/nVY9DVnUv+PP/ga/zqsehoAt6d/yC7b/AK5L/KrNVtO/5Bdt/wBcl/lVmgAooooAKKKKAMyb/kIzf7q/1pI/+P8At/q38qWb/kIzf7q/1pI/+P8At/q38qANSiiigAooooAKzLr/AJCh/wCuI/ma06zLr/kKH/riP5mgAooooAr3/wDyD7j/AK5t/Kpx0FQX/wDyD7j/AK5t/Kpx0FAEBjlhlZoQHRzkoTgg+oP9KPNuP+fb/wAiCrFFAFfzbj/n2/8AIgo824/59v8AyIKsUUAV/NuP+fb/AMiCjzbj/n2/8iCrFFAFfzbj/n2/8iCjzbj/AJ9v/IgqxRQBX824/wCfb/yIKPNuP+fb/wAiCrFFAFfzbj/n2/8AIgo824/59v8AyIKsUUAQRxyNN50+0EDCIpzj1OfWi9/5B9x/1yb+VT1Be/8AIPuP+uTfyoAmX7o+lLSL90fSloAKfp3/AB9XX1T+VMp+nf8AH1dfVP5UAaFUL+/aJvstnhrphnJGViH95v6DvVm8NwLOX7GFM+07N/TNZFj5fksULmQt+9Mn393fd70ASaZrlr/ZkH268X7Rs/ebhg5q1/bmmf8AP5H+tR0UASf25pn/AD+R/rR/bmmf8/kf61HRQBJ/bmmf8/kf60f25pn/AD+R/rUdFAEn9uaZ/wA/kf60f25pn/P5H+tR0UASf25pn/P5H+tH9uaZ/wA/kf61HRQBJ/bmmf8AP5H+tH9uaZ/z+R/rUdFAEn9uaZ/z+R/rR/bmmf8AP5H+tR0UASf25pn/AD+R/rR/bmmf8/kf61HRQBVuNXeXU4TpkqzxJEzSxgfe5A4PY9cVsWt1FeW4mgbcp4PYg9wR2NUaqws660q2HJJBuh/AFxwT/telAG7WND/rrn/ru/8AOtmsaH/XXP8A13f+dAE1FFFAEE//AB8W3++f/QTUxGQQehqGf/j4tv8AfP8A6CanoArILiBfLVFlQfdO7BA9DS+bcf8APt/5EFWKKAK/m3H/AD7f+RBR5tx/z7f+RBViigCv5tx/z7f+RBR5tx/z7f8AkQVYooAr+bcf8+3/AJEFHm3H/Pt/5EFWKKAK/m3H/Pt/5EFHm3H/AD7f+RBViigCv5tx/wA+3/kQUebcn/l2A+sgqxRQBDBE0e5pG3SOcsR09gPam3H/AB8Wv/XQ/wDoDVYqvcf8fFr/ANdD/wCgNQBYooooAKsaZ/x4J9W/mar1Y0z/AI8E+rfzNAElr0m/66tXP/ESPPgfULkyeXHZxNcyFVJcoikkJyAGI6E5A7g10Fr0m/66tUk0MVzA8NxGksUilXjdQysD1BB6igDy7+yNIsvEeiS2dhqVqFmtLS38+DAjEfnEksW5LeZySOo96wdTTVIrzXbfT1v9Sja5CGb7DHKZWRvnDN5B5BztAICmvXbXwt4fsrlLiy0LTbeeM5SWKzjRlPsQMim3HhPw5d3Elxd6Bpc80jbnklso2Zz6kkZJoA838UaOZLDRGl0jUNZK2QVopbVhPEzlSrPKkTA7BuBTj15roPAlncQeIbxVl8iKCxtIprcWYgEkmxsuF4KAnJx713cFvDa28dvaxJDDEoSOONQqoo6AAcAULBEk0kyRIssgAdwvLY6ZPfFABcf8esv+4f5UsH/HvH/uD+VJcf8AHrL/ALh/lSwf8e8f+4P5UAPooooAoX3/AB+Rf7jfzFVp/ux/9dY//QxVm+/4/Iv9xv5iq0/3Y/8ArrH/AOhigDYooooAKKKKACiiigCpqX/Hn/wNf51WPQ1Z1L/jz/4Gv86rHoaALenf8gu2/wCuS/yqzVbTv+QXbf8AXJf5VZoAKKKKACiiigDMm/5CM3+6v9aSP/j/ALf6t/Klm/5CM3+6v9aSP/j/ALf6t/KgDUooooAKKKKACsy6/wCQof8AriP5mtOsy6/5Ch/64j+ZoAKKKKAK9/8A8g+4/wCubfyqcdBUF/8A8g+4/wCubfyqcdBQBHJcRxMFOS5GdqjJxTPta/8APKb/AL9mi0APmyH7zSNk/Q4FWKAK/wBrX/nlN/37NH2tf+eU3/fs1YooAr/a1/55Tf8Afs0fa1/55Tf9+zViigCv9rX/AJ5Tf9+zR9rX/nlN/wB+zViigCv9rX/nlN/37NH2tf8AnlN/37NWKKAK/wBrX/nlN/37NH2tf+eU3/fs1YooAjimSbOw8r1BGCPwpl7/AMg+4/65N/KkkG2+hYdWDKfcdaW9/wCQfcf9cm/lQBMv3R9KWkX7o+lLQAU/Tv8Aj6uvqn8qZT9O/wCPq6+qfyoA0Kz7+wZpPtVlgXAHzLnAlHoff0NaFFAGLpujRPpsDX0cwuGXMm6Zs5/OrX9iWP8Ack/7/P8A41oUUAZ/9iWP9yT/AL/P/jR/Ylj/AHJP+/z/AONaFFAGf/Ylj/ck/wC/z/40f2JY/wByT/v8/wDjWhRQBn/2JY/3JP8Av8/+NH9iWP8Ack/7/P8A41oUUAZ/9iWP9yT/AL/P/jR/Ylj/AHJP+/z/AONaFFAGf/Ylj/ck/wC/z/40f2JY/wByT/v8/wDjWhRQBn/2JY/3JP8Av8/+NH9iWP8Ack/7/P8A41oUUAZ/9iWP9yT/AL/P/jR/Ylj/AHJP+/z/AONaFFAGDdabPBqUSaWjpHLEyySO5ZY+RzgnrjOK17OzisbcRQg9cszHLOe5J9anooAKxof9dc/9d3/nWzWND/rrn/ru/wDOgCaiiigCCf8A4+Lb/fP/AKCanqCf/j4tv98/+gmpJWKwuw6hSRQBG11GrFVDuVODsUnFJ9rX/nlN/wB+zT7ZQlrGF6bRUtAFf7Wv/PKb/v2aPta/88pv+/ZqxRQBX+1r/wA8pv8Av2aPta/88pv+/ZqxRQBX+1r/AM8pv+/Zo+1r/wA8pv8Av2asUUAV/ta/88pv+/Zo+1r/AM8pv+/ZqxRQBX+1r/zym/79mj7WveOUf9szViigBqSLIgeNgynoRUNx/wAfFr/10P8A6A1EICXk6KMKQr49znP8qLj/AI+LX/rof/QGoAsUUUUAFWNM/wCPBPq38zVerGmf8eCfVv5mgAUXULyCOCN1ZywJlx19sU7zbz/n1j/7/f8A2NWaKAKklxdxxs7WseFBJ/ff/Y1Cuo3DKCLRMEZ/13/2NXLr/jzm/wCubfyrOj/1Sf7ooAsw3l1OrFLWP5W2nM3/ANjUnm3n/PrH/wB/v/sabp3+ql/66n+Qq3QBUka8kidPs0Y3KRnzv/sasxqUiRT1VQDTqKACiiigChff8fkX+438xVaf7sf/AF1j/wDQxVm+/wCPyL/cb+YqtP8Adj/66x/+higDYooooAKKKKACiiigCpqX/Hn/AMDX+dVj0NWdS/48/wDga/zqsehoAt6d/wAgu2/65L/KrNVtO/5Bdt/1yX+VWaACiiigAooooAzJv+QjN/ur/Wkj/wCP+3+rfypZv+QjN/ur/Wkj/wCP+3+rfyoA1KKKKACiiigArMuv+Qof+uI/ma06zLr/AJCh/wCuI/maACiiigCvf/8AIPuP+ubfyqcdBUF//wAg+4/65t/Kpx0FAEFn/qW/66P/AOhGrFV7P/Ut/wBdH/8AQjVigAooooA5Hxd4n1PRbq4j0yG0dbXS5tRkNwGJby2A2jBGM561W0PxhPqfjS7tZJ410yKC4kVnTyyNjQgElsEffbrW1r3hOy8QTNLdXF3A0lq9nILeQKJInILKcg+nUYrJg8K6nB40v9TR7XyLqCdUaRTIFLtCQGTjPEbd/SgC1a+NLaXXZo58RaTIqLZ6iwxFPLzvXf07rg9DzgnFPutZ1OTxJe6fZXemWkVrHE2buNnZy4J7OvAxTU0DxAupXV22raa4uY442hbTnKKE3YwPN77v0FO1Hwxc6letcXH9izNgKrXGkiVwB23F6ANzTnuJLJWu57e4lycyWylUPPYFj/OrVZuiadNpdmbeU2ewNlEs7XyEX1+XJ71pUAFFFFAFeb/j8t/+Bfypb3/kH3H/AFyb+VJN/wAflv8A8C/lS3v/ACD7j/rk38qAJl+6PpS0i/dH0paACn6d/wAfV19U/lTKfp3/AB9XX1T+VAGhRRRQAUUUUAFFFFABRRRQAUUUUAFFFFABRRRQAUUUUAFFFFABRRRQAVjQ/wCuuf8Aru/862axof8AXXP/AF3f+dAE1FFFAEE//Hxbf75/9BNPn/495P8AcP8AKmT/APHxbf75/wDQTT5/+PeT/cP8qACD/j3j/wB0fyqSo4P+PeP/AHR/KpKACiiigDiNU8Y6jp11cyyR2i6fFfNZcI7S58vcG4468YxU3hLxcbzww+qeIbqGEDyfmICjLQRuQB3OWOB1rQuvCFrPeTXSXV0Gkma4EBkHleaU2bsbc9Pes3wz4X1nRNCWyE9jHNG8X7ySEzq2yBEyvzKRyp/CgDR8O+KBqkkltqcX9n3zSu0FrONjywZyjgHqduMgdDkHFUtM1zWtWtZLqPUNFtUFzPCsUsLs6iOV4xk+YOTtz071a0vQtc0/cJtVsLhWuJbjLWDblLsThSZTgDdj6VWk8GzSyvJLH4feR2LMzaKpLE8kk7+TQB1q8qMkHjqKWobSOaK0jjuZI5JVGGaOPYp+i5OPzqagAooooArx/wDH/P8A7if1ouP+Pi1/66H/ANAaiP8A4/5/9xP60XH/AB8Wv/XQ/wDoDUAWKKKKACrGmf8AHgn1b+ZqvVjTP+PBPq38zQBbooooAiuv+POb/rm38qzo/wDVJ/uitG6/485v+ubfyrOj/wBUn+6KALenf6qX/rqf5CrdVNO/1Uv/AF1P8hVugAooooAKKKKAKF9/x+Rf7jfzFVp/ux/9dY//AEMVZvv+PyL/AHG/mKrT/dj/AOusf/oYoA2KKKKACiiigAooooAqal/x5/8AA1/nVY9DVnUv+PP/AIGv86rHoaALenf8gu2/65L/ACqzVbTv+QXbf9cl/lVmgAooooAKKKKAMyb/AJCM3+6v9aSP/j/t/q38qWb/AJCM3+6v9aSP/j/t/q38qANSiiigAooooAKzLr/kKH/riP5mtOsy6/5Ch/64j+ZoAKKKKAK9/wD8g+4/65t/Kpx0FQX/APyD7j/rm38qnHQUAQWpC+bGfvLIxI9icg1YqKW3jmILg7h0ZWKkfiKZ9ij/AL8//f8Af/GgCxRVf7FH/fn/AO/7/wCNH2KP+/P/AN/3/wAaALFFV/sUf9+f/v8Av/jR9ij/AL8//f8Af/GgCxRVf7FH/fn/AO/7/wCNH2KP+/P/AN/3/wAaALFFV/sUf9+f/v8Av/jR9ij/AL8//f8Af/GgCxRVf7FH/fn/AO/7/wCNH2KP+/P/AN/3/wAaACQhr6FV5KBmb2zxS3v/ACD7j/rk38qfFDHAuIlxnknqT9T3pl7/AMg+4/65N/KgCZfuj6UtIv3R9KWgAp+nf8fV19U/lTKfp3/H1dfVP5UAaFFFFABRRRQAUUUUAFFFFABRRRQAUUUUAFFFFABRRRQAUUUUAFFFFABWND/rrn/ru/8AOtmsaH/XXP8A13f+dAE1FFFAEE//AB8W3++f/QTUkqloXUdSpAqOf/j4tv8AfP8A6CanoAitnD2sZU/wgH2NS1A9pC7l8MjHqY3K5+uDSfYo/wC/P/3/AH/xoAsUVX+xR/35/wDv+/8AjR9ij/vz/wDf9/8AGgCxRVf7FH/fn/7/AL/40fYo/wC/P/3/AH/xoAsUVX+xR/35/wDv+/8AjR9ij/vz/wDf9/8AGgCxRVf7FH/fn/7/AL/40fYo/wC/P/3/AH/xoAsUVX+xR/35/wDv+/8AjSfYYj1aYj0MzkfzoAWAh7ud15X5Vz6kZz/Oi4/4+LX/AK6H/wBAapkRUUKgCqOAB2qG4/4+LX/rof8A0BqALFFFFABVjTP+PBPq38zVerGmf8eCfVv5mgC3RRRQBFdf8ec3/XNv5VnR/wCqT/dFaN1/x5zf9c2/lWdH/qk/3RQBb07/AFUv/XU/yFW6qad/qpf+up/kKt0AFFFFABRRRQBQvv8Aj8i/3G/mKrT/AHY/+usf/oYqzff8fkX+438xVaf7sf8A11j/APQxQBsUUUUAFFFFABRRRQBU1L/jz/4Gv86rHoas6l/x5/8AA1/nVY9DQBb07/kF23/XJf5VZqtp3/ILtv8Arkv8qs0AFFFFABRRRQBmTf8AIRm/3V/rSR/8f9v9W/lSzf8AIRm/3V/rSR/8f9v9W/lQBqUUUUAFFFFABWZdf8hQ/wDXEfzNadZl1/yFD/1xH8zQAUUUUAV7/wD5B9x/1zb+VTjoKgvudPnx/wA82/lSi8tsD9/H/wB9UAT0VB9ttv8AnvH/AN9Cj7bbf894/wDvoUAT0VB9ttv+e8f/AH0KPttt/wA94/8AvoUAT0VB9ttv+e8f/fQo+223/PeP/voUAT0VB9ttv+e8f/fQo+223/PeP/voUAT0VB9ttv8AnvH/AN9Cj7bbf894/wDvoUAT0VB9ttv+e8f/AH0KPttt/wA94/8AvoUAT1Be/wDIPuP+uTfyo+223/PeP/voVDd3du9lOqTIzNGwADdTigC4v3R9KWkX7o+lLQAU/Tv+Pq6+qfyplP07/j6uvqn8qANCiiigAooooAKKKKACiiigAooooAKKKKACiiigAooooAKKKKACiiigArGh/wBdc/8AXd/51s1jQ/665/67v/OgCaiiigCCf/j4tv8AfP8A6CanqvdOsctu7kKoc5J7fKaX7bbf894/++hQBPRUH222/wCe8f8A30KPttt/z3j/AO+hQBPRUH222/57x/8AfQo+223/AD3j/wC+hQBPRUH222/57x/99Cj7bbf894/++hQBPRUH222/57x/99Cj7bbf894/++hQBPRUH222/wCe8f8A30KPttt/z3j/AO+hQBPRUH222/57x/8AfQo+223/AD3j/wC+hQBPVe4/4+LX/rof/QGpfttt/wA94/8AvoVFJcRS3VsIpFchyTg5x8jUAXKKi+0wk481M/WleeJG2vIqn0JoAkqxpn/Hgn1b+ZqmZowgcuoU9DmrOlzxNYgLIpK7iQD0GTQBeoqFby2Zgqzxkk4ADDmle6gjYrJMisOoLUAVb+8eNmtxAzeYhCvuAB4qFBtjUHqABV24a1mtgJpFEb/dbdjn1BrNWYiQwoRO/wDAydG+vpQBLb3b20hh8hpDJJlSrDpx2rVqva2ogBZzvlb7zf0HtVigAooooAKKKOlAFC+/4/Iv9xv5iq0/3Y/+usf/AKGKsXrA3kWCD8jdD7iq8/Cp/wBdY/8A0MUAbFFIGB6EH6GloAKKKKACiiigCpqX/Hn/AMDX+dVj0NWNSYfZcZGd68Z96rnoaALenf8AILtv+uS/yqzVXTWH9m2wyM+UvGfarVABRRRQAUUU15EjXdIwVfUnFAGdN/yEZv8AdX+tJH/x/wBv9W/lSPIkl/M0bBl2ryDn1oDrHeW7OwVQW5Jx2oA1aKakiSrujZXHqpzTqACiiigArMuv+Qof+uI/ma06qXVgbicSpcPE23adoBz+YoAr0U/+y5f+f6b/AL4T/Cj+y5f+f6b/AL4T/CgBlJgegqT+y5f+f6b/AL4T/Cj+y5f+f6b/AL4T/CgCPA9BRgegqT+y5f8An+m/74T/AAo/suX/AJ/pv++E/wAKAI8D0FGB6CpP7Ll/5/pv++E/wo/suX/n+m/74T/CgCPA9BRgegqT+y5f+f6b/vhP8KP7Ll/5/pv++E/woAjwPQUYHoKk/suX/n+m/wC+E/wo/suX/n+m/wC+E/woAjwPQUYHoKk/suX/AJ/pv++E/wAKP7Ll/wCf6b/vhP8ACgCPA9BRgegqT+y5f+f6b/vhP8KP7Ll/5/pv++E/woAjwPQUYHoKk/suX/n+m/74T/Cj+y5f+f6b/vhP8KAGUU/+y5f+f6b/AL4T/Cj+y5f+f6b/AL4T/CgBlP07/j6uvqn8qP7Ll/5/pv8AvhP8Kns7P7KZCZXlaQjJYAdPoKALNFFFABRRRQAUUUUAFFFFABRRRQAUUUUAFFFFABRRRQAUUUUAFFFFABWND/rrn/ru/wDOtms9tLPmyPHdyxiRi5UKpwT9RQAyin/2XL/z/Tf98J/hR/Zcv/P9N/3wn+FAEfXrRgegqT+y5f8An+m/74T/AAo/suX/AJ/pv++E/wAKAI8D0FGB6CpP7Ll/5/pv++E/wo/suX/n+m/74T/CgCPA9BRgegqT+y5f+f6b/vhP8KP7Ll/5/pv++E/woAjwPQUYHoKk/suX/n+m/wC+E/wo/suX/n+m/wC+E/woAjwPQUYHoKDorEk/2hc8+mP8KVtHdsZv7jj02j+lACYHoKMD0FKNHcKV+33GD7Ln88ULo7q2RqFx+O0/0oATA9BRgegoOisf+Yhc/mP8KT+xG/6CF1+Y/wAKAFwPQUYHpSf2I3/QQuvzH+FH9iN/0ELr8x/hQAuB6UYHpTf7DYf8xC6/76FH9hn/AKCF1/30KAHYqzpg/wBAT6t/M1VOhsf+Yhdf99CrEOmJFCsYuLg47+aRn8qALuB6UYHpVUWCj/l4uf8Av8aT+z1z/wAfFz/3+NAFvA9KMAdBVU2Cn/l4uf8Av8aPsC4/4+Ln/v8AGgC1RVUWCj/l4uf+/wAaQaeoP/Hxc/8Af40AW6KqHT1P/Lxc/wDf40psFI/4+Ln/AL/GgC1SModCrDKsMEetVhYKB/x8XP8A3+NINPUH/j4uf+/xoApNbCwlAKjy24STHI9jSyndiIJ5jv0T19z7VbfTI5FKvPcMp6gynBpI9KhjziSfceN3mEHHpxQBJZWSWcZxgyOcuR/Ie1WarLYquf31wc+sxpPsCg5E9z/3+NAFqiqzWKMc+dcD6TNQbJSuDNcfXzWoAs0VWWyVcjzrgj3lNILBQcie5/7/ABoAq3lkIZmuo4w6k7pFxkqf7w/wprSosXmbgVxwRzmrrWKMxPnXA9hM1Qro1ssm7dMcHIHmEBT6jFADbCwCSC5ljCPjCIP4B7+9aNRfZl8ny98uM5z5jZ/POaSK2WJiVeU5GPmkZv5mgCaiq4skBz5k/wD3+b/GnSWyyvuZ5QcdFkZR+QNAE1MliSaNo5VDKw5BphtlMIj3y4BznzGz+ec0sdssRO15TkY+aQt/M0AZ7RNaSCN+Vb7j+vsfekCNdSGGLGB998Z2/wD16uPp0Mi7ZGmZfQzMf61PFEkEYjiXaooAIYUt4VjiXaq0+iigAooooAKKKKACiiigAooooAKKKKACiiigAooooAKKKKACiiigAooooAKKKKACiiigAooooAKKKKACiiigAooooAKKKKACiiigAooooAKKKKACiiigAooooAKKKKACiiigAooooAKKKKACiiigAooooAKKKKACiiigAooooAKKKKACiiigAooooAKKKKACiiigAooooAKKKKACiiigAooooAKKKKACiiigAooooAKKKKACiiigAooooAKKKKACiiigAooooAKKKKACiiigD//Z)"
      ],
      "metadata": {
        "id": "6odiMCHZNR8a"
      }
    },
    {
      "cell_type": "markdown",
      "source": [
        "### OOP 구성"
      ],
      "metadata": {
        "id": "KCCvMBmKOgZC"
      }
    },
    {
      "cell_type": "markdown",
      "source": [
        "**캡슐화**\n",
        "- 기본개념 : 변수와 함수를 하나로 묶어서 클래스로 선언\n",
        "- object 및 소스코드를 분리하여 모듈화가 가능해진다.\n",
        "- 캡슐화하지 않으면 함수나 변수에 직접 접근하는 상황이 발생\n",
        "- 기능이 많아질수록 코드 재사용이 어려움\n",
        "- 접근 제어 :  Private < Protected(_이름) < Public(__이름) \n"
      ],
      "metadata": {
        "id": "jC-DWNoaOjBP"
      }
    },
    {
      "cell_type": "markdown",
      "source": [
        "**상속과 포함(Inheritance & Composition)**\n",
        "- 상속 : 상위클래스의 모든 개념을 사용할 수 있다. (동물 = 개,고양이)\n",
        "- 포함 : 다른 클래스의 일부 기능만 사용한다. (고양이 = 몸통, 머리, 다리)"
      ],
      "metadata": {
        "id": "2DUXZ2gTRsUh"
      }
    },
    {
      "cell_type": "markdown",
      "source": [
        "**다형성**\n",
        "- 상속관계에서 상속받은 기능 외 다른 기능을 추가적으로 제공하고자 할 때 사용한다.\n",
        "- 프로그램 작성 코드량을 줄여준다.(if else문을 줄일 수 있다.)\n",
        "- 가독성을 높여준다."
      ],
      "metadata": {
        "id": "JrCualD0XD9z"
      }
    },
    {
      "cell_type": "markdown",
      "source": [
        "### 추상화(OOP구성 밑에서 2번째)"
      ],
      "metadata": {
        "id": "hsqfBjn5bXMv"
      }
    },
    {
      "cell_type": "markdown",
      "source": [
        "### \\_\\_name\\_\\_과 \\_\\_main\\_\\_"
      ],
      "metadata": {
        "id": "ssGHws4-pUod"
      }
    },
    {
      "cell_type": "markdown",
      "source": [
        "- \\_\\_name\\_\\_ : 현재 모듈의 이름을 담고있는 내장변수로, 직접 실행된 모듈은 \\_\\_main__이라는 값을 가지게 되고, 모듈을 불러와서 사용하는 경우 모듈의 이름을 가지게된다.\n",
        "- \\_\\_main__ : 현재모듈에서 사용중일 경우를 뜻함(모듈자기자신을 뜻함)"
      ],
      "metadata": {
        "id": "B5iBwY_cpZT0"
      }
    },
    {
      "cell_type": "code",
      "source": [
        "# abc.py 파일에서\n",
        "print(__name__)          # 현재 파일의 이름대신 __main__출력\n",
        "\n",
        "print('--------------')\n",
        "\n",
        "import pandas\n",
        "print(pandas.__name__)   # pandas모듈의 이름 출력"
      ],
      "metadata": {
        "colab": {
          "base_uri": "https://localhost:8080/"
        },
        "id": "2T2X96Vpsl_c",
        "outputId": "67252c1c-ed7b-4194-ebbd-9bf427a3e8b5"
      },
      "execution_count": null,
      "outputs": [
        {
          "output_type": "stream",
          "name": "stdout",
          "text": [
            "__main__\n",
            "--------------\n",
            "pandas\n"
          ]
        }
      ]
    },
    {
      "cell_type": "code",
      "source": [
        "# ABC.py\n",
        "def add(a, b):\n",
        "    return a + b\n",
        " \n",
        "def mul(a, b):\n",
        "    return a * b\n",
        " \n",
        "if __name__ == '__main__':    # 해당 ABC.py파일에서 실행 할 때만 print값 출력\n",
        "    print(add(10, 20))        # 하지만, 타 파일에서 import ABC를 했을때는 출력되지 않음\n",
        "    print(mul(10, 20))"
      ],
      "metadata": {
        "colab": {
          "base_uri": "https://localhost:8080/"
        },
        "id": "VhbpTTLFpYsY",
        "outputId": "c7ed078d-2151-4de9-aa2e-ba5d91e08b60"
      },
      "execution_count": null,
      "outputs": [
        {
          "output_type": "stream",
          "name": "stdout",
          "text": [
            "30\n",
            "200\n"
          ]
        }
      ]
    },
    {
      "cell_type": "markdown",
      "source": [
        "위의 if \\_\\_name__='\\_\\_main__':가 없이 print문만 사용할 경우 import만 해도 print 문 출력"
      ],
      "metadata": {
        "id": "i78dDsjzwpj1"
      }
    },
    {
      "cell_type": "code",
      "source": [
        "# DEF.py\n",
        "import ABC # 아무것도 출력되지 않음"
      ],
      "metadata": {
        "id": "fYBqC-pSveq-"
      },
      "execution_count": null,
      "outputs": []
    },
    {
      "cell_type": "markdown",
      "source": [
        "## 상속"
      ],
      "metadata": {
        "id": "Xq4B6OCAXH0D"
      }
    },
    {
      "cell_type": "markdown",
      "source": [
        "### super"
      ],
      "metadata": {
        "id": "GlQsYP2AW_Ze"
      }
    },
    {
      "cell_type": "markdown",
      "source": [
        "- super().__init__(부모클래스의 오브젝트)\n",
        "- super().부모클래스의함수()\n",
        "- super(하위클래스, self) = 하위클래스의 바로 위 클래스의 값을 받아오겠다는 뜻"
      ],
      "metadata": {
        "id": "ZP9ivFDnfGow"
      }
    },
    {
      "cell_type": "markdown",
      "source": [
        "#### 1. super()를 써야하는 경우 : 자식클래스에 init 인자를 더 추가해야되는 경우"
      ],
      "metadata": {
        "id": "lAWcHcBfbzIO"
      }
    },
    {
      "cell_type": "code",
      "source": [
        "# 자식클래스에 추가할 init이 없다면 super()를 굳이 사용할 필요가 없다.\n",
        "class Parents:\n",
        "    def __init__(self, one, two):\n",
        "        self.one = one\n",
        "        self.two = two\n",
        "        self.name = '진우'\n",
        "    def just(self):\n",
        "        print('부모클래스 함수')\n",
        "\n",
        "class Son(Parents):\n",
        "    def abc(self):\n",
        "        pass\n",
        "\n",
        "a = Son('one','two')\n",
        "print(a.name)\n",
        "print(a.one)\n",
        "print(a.two)\n",
        "print(a.just())"
      ],
      "metadata": {
        "colab": {
          "base_uri": "https://localhost:8080/"
        },
        "id": "zIiM-PS2cZHw",
        "outputId": "9b212fe1-4303-4a70-88ff-6e0123303d65"
      },
      "execution_count": null,
      "outputs": [
        {
          "output_type": "stream",
          "name": "stdout",
          "text": [
            "진우\n",
            "one\n",
            "two\n",
            "부모클래스 함수\n",
            "None\n"
          ]
        }
      ]
    },
    {
      "cell_type": "markdown",
      "source": [
        "#### 2. super()의 다중상속"
      ],
      "metadata": {
        "id": "vUgEL8vcdGg2"
      }
    },
    {
      "cell_type": "markdown",
      "source": [
        "- 다중상속에서는 중복 출력을 지양하기 위해서 사용한다.\n",
        "- super(하위클래스, self) = 하위클래스의 바로 위 클래스의 값을 받아오겠다는 뜻\n",
        "- super(자식, self) = 부모의 클래스에서 받아오겠다.\n",
        "- super(아기, self) = 자식의 클래스에서 받아오겠다\n",
        "- super() = 해당 클래스의 상위클래스에서 받아오겠다."
      ],
      "metadata": {
        "id": "p4Zp0A7qepFb"
      }
    },
    {
      "cell_type": "code",
      "source": [
        "class Parents:\n",
        "    def __init__(self, one, two):\n",
        "        self.one = one\n",
        "        self.two = two\n",
        "        self.name = '진우'\n",
        "    def just(self):\n",
        "        print('부모클래스 함수')\n",
        "\n",
        "class Son(Parents):\n",
        "    def __init__(self, one, two, three):\n",
        "        super().__init__(one, two)\n",
        "        self.three = three\n",
        "\n",
        "    def just(self):\n",
        "        print('자식클래스 함수')\n",
        "\n",
        "class Baby(Son):\n",
        "    def parents_just(self):\n",
        "        print(super(Son, self).just()) # 부모 클래스 함수 받기\n",
        "\n",
        "    def son_just(self):\n",
        "        print(super().just())          # 자식 클래스 함수 받기\n",
        "\n",
        "    def just(self):\n",
        "        print('손자클래스 함수')       # 손자 클래스 함수\n",
        "\n",
        "a = Baby('one','two','three')\n",
        "\n",
        "print(a.parents_just())\n",
        "print(a.son_just())\n",
        "print(a.just())"
      ],
      "metadata": {
        "colab": {
          "base_uri": "https://localhost:8080/"
        },
        "id": "SfM28igDdKXg",
        "outputId": "9a394213-dbff-4f39-c34f-c1bbd76152ed"
      },
      "execution_count": null,
      "outputs": [
        {
          "output_type": "stream",
          "name": "stdout",
          "text": [
            "부모클래스 함수\n",
            "None\n",
            "None\n",
            "자식클래스 함수\n",
            "None\n",
            "None\n",
            "손자클래스 함수\n",
            "None\n"
          ]
        }
      ]
    },
    {
      "cell_type": "markdown",
      "source": [
        "#### 3. super() 대신 부모 클래스명을 써도 되지만 코드 수정과정이 용이하려면 super()를 사용하는게 좋다.\n",
        "**```super().__init__(one, two) = Parents.__init__(self, one, two)```**"
      ],
      "metadata": {
        "id": "EOVqutbAf_v_"
      }
    },
    {
      "cell_type": "markdown",
      "source": [
        "# Note4 Big O 표기"
      ],
      "metadata": {
        "id": "XmuObmEDXJ9U"
      }
    },
    {
      "cell_type": "markdown",
      "source": [
        "자료구조 : 다양한 데이터를 효율적으로 처리하기 위한 개념"
      ],
      "metadata": {
        "id": "IuK_QMCKOPd8"
      }
    },
    {
      "cell_type": "code",
      "source": [
        "# 인트로 코딩\n",
        "# 특정 두 수의 합과 같은 인덱스값을 찾자.\n",
        "def twonumbersum(numbers, result):\n",
        "    for i in range(len(numbers)):\n",
        "        for j in range(i+1, len(numbers)):\n",
        "            if numbers[i] + numbers[j] == result:\n",
        "                return [i,j]\n",
        "\n",
        "# 리스트값을 받기 위한 코드: 리스트 컴프리헨션 & 리스트 메소드(split) 활용\n",
        "# input 예시: 10,5,7\n",
        "numbers = [int(numbers) for numbers in input(\"리스트값을 입력하세요 : \").split(',')]\n",
        "# input 예시: 17\n",
        "result = int(input(\"두 수의 합을 입력하세요 : \"))\n",
        "\n",
        "print(\"인덱스값 : \", twonumbersum(numbers,result))"
      ],
      "metadata": {
        "colab": {
          "base_uri": "https://localhost:8080/"
        },
        "id": "o-Cb_BufSC7B",
        "outputId": "39bd560b-5eeb-430c-c22b-88d935184d78"
      },
      "execution_count": null,
      "outputs": [
        {
          "output_type": "stream",
          "name": "stdout",
          "text": [
            "리스트값을 입력하세요 : 1,2,3,4,5\n",
            "두 수의 합을 입력하세요 : 9\n",
            "인덱스값 :  [3, 4]\n"
          ]
        }
      ]
    },
    {
      "cell_type": "markdown",
      "source": [
        "### 진수 바꾸기"
      ],
      "metadata": {
        "id": "DsI5wejmdg1R"
      }
    },
    {
      "cell_type": "markdown",
      "source": [
        "x진수 -> 10진수"
      ],
      "metadata": {
        "id": "1cmHgMTRdjVE"
      }
    },
    {
      "cell_type": "code",
      "source": [
        "# int('string', x) x진수인 string을 10진수로 나타냄\n",
        "\n",
        "print(f\"{int('11',2)}: 2진수 11을 10진수 3으로 \")"
      ],
      "metadata": {
        "colab": {
          "base_uri": "https://localhost:8080/"
        },
        "id": "qqK6xJ8AdgVr",
        "outputId": "80d0490d-0481-461f-bb26-aeadc12d4521"
      },
      "execution_count": null,
      "outputs": [
        {
          "output_type": "stream",
          "name": "stdout",
          "text": [
            "3: 2진수 11을 10진수 3으로 \n"
          ]
        }
      ]
    },
    {
      "cell_type": "markdown",
      "source": [
        "10진수 -> x진수"
      ],
      "metadata": {
        "id": "O8el6ya_e-2i"
      }
    },
    {
      "cell_type": "code",
      "source": [
        "# 2 : bin() /  8 : oct() / 16 : hex()\n",
        "print(bin(10)) # Ob 는 2진수를 나타냄\n",
        "print(oct(10)) # 0o 는 8진수를 나타냄\n",
        "print(hex(10)) # 0x 는 16진수를 낙타냄"
      ],
      "metadata": {
        "colab": {
          "base_uri": "https://localhost:8080/"
        },
        "id": "BnwabJjTfAh0",
        "outputId": "989f8164-441a-46a3-f7f9-a30870ddf0b3"
      },
      "execution_count": null,
      "outputs": [
        {
          "output_type": "stream",
          "name": "stdout",
          "text": [
            "0b1010\n",
            "0o12\n",
            "0xa\n"
          ]
        }
      ]
    },
    {
      "cell_type": "code",
      "source": [
        "def prime(x):\n",
        "    answer =0\n",
        "    for i in range(2, x+1):\n",
        "        count=0\n",
        "        for j in range(2, i):\n",
        "            if i%j==0:\n",
        "                count += 1\n",
        "        if count==0:\n",
        "            answer+=1\n",
        "        \n",
        "        return answer\n",
        "\n",
        "prime(11)"
      ],
      "metadata": {
        "colab": {
          "base_uri": "https://localhost:8080/"
        },
        "id": "MY7lYoKugRyQ",
        "outputId": "33c6ce06-309f-4798-c9ff-e749f8f7ce42"
      },
      "execution_count": null,
      "outputs": [
        {
          "output_type": "execute_result",
          "data": {
            "text/plain": [
              "1"
            ]
          },
          "metadata": {},
          "execution_count": 124
        }
      ]
    },
    {
      "cell_type": "code",
      "source": [
        "def prime(x):\n",
        "    if x <=1:\n",
        "        return 0\n",
        "    else:\n",
        "        answer=0\n",
        "        for i in range(2,x+1):\n",
        "            count=0\n",
        "            for j in range(2,i):      \n",
        "                if i%j==0:\n",
        "                    count +=1\n",
        "            if count==0:\n",
        "                answer += 1\n",
        "        return answer\n",
        "\n",
        "prime(3)\n",
        "    "
      ],
      "metadata": {
        "colab": {
          "base_uri": "https://localhost:8080/"
        },
        "id": "HrQ7tzhtr2OY",
        "outputId": "68884138-73ce-47af-ac53-e5702ee02157"
      },
      "execution_count": null,
      "outputs": [
        {
          "output_type": "execute_result",
          "data": {
            "text/plain": [
              "2"
            ]
          },
          "metadata": {},
          "execution_count": 115
        }
      ]
    }
  ]
}