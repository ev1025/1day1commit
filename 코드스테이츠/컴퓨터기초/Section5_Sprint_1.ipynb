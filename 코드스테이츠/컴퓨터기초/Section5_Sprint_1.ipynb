{
  "nbformat": 4,
  "nbformat_minor": 0,
  "metadata": {
    "colab": {
      "provenance": [],
      "collapsed_sections": [
        "pVTt_Fc83bgk",
        "IFYWE7WUaNx4",
        "9WNL69L242Rb",
        "oH27nGvSFtCR",
        "HOy4FFtt7L6-",
        "zhgjTBEGh5i-",
        "Qy_o6myBnv2G",
        "mAjTNJ11rzrY",
        "aTXNxRRbmBmr",
        "4CYnkgur9HBW",
        "xaY6cz2VVUuA",
        "FHKBI7WNeqvj",
        "eO0TxVnV_BdQ",
        "ih6aZ7LDVhSb",
        "at3E6tuKLl-c",
        "KsI3ArJcJbDq",
        "kYO6Q-vwLp-7",
        "-i7x5QRRx3w-",
        "Kutety7EXlm3",
        "QVegzGreXnF9",
        "iDvuuEth3_Ui",
        "7GYH9ny08peP",
        "xJKNWSQOt-Mq",
        "ssGHws4-pUod",
        "Xq4B6OCAXH0D",
        "GlQsYP2AW_Ze",
        "XmuObmEDXJ9U"
      ],
      "authorship_tag": "ABX9TyPnS3RX+xQNmHheCU4Biu+Q",
      "include_colab_link": true
    },
    "kernelspec": {
      "name": "python3",
      "display_name": "Python 3"
    },
    "language_info": {
      "name": "python"
    }
  },
  "cells": [
    {
      "cell_type": "markdown",
      "metadata": {
        "id": "view-in-github",
        "colab_type": "text"
      },
      "source": [
        "<a href=\"https://colab.research.google.com/github/ev1025/1day1commit/blob/main/%EC%BD%94%EB%93%9C%EC%8A%A4%ED%85%8C%EC%9D%B4%EC%B8%A0/%EC%BB%B4%ED%93%A8%ED%84%B0%EA%B8%B0%EC%B4%88/Section5_Sprint_1.ipynb\" target=\"_parent\"><img src=\"https://colab.research.google.com/assets/colab-badge.svg\" alt=\"Open In Colab\"/></a>"
      ]
    },
    {
      "cell_type": "markdown",
      "source": [
        "# Section 5 Sprint 1"
      ],
      "metadata": {
        "id": "KdbDfJJB3UFw"
      }
    },
    {
      "cell_type": "markdown",
      "source": [
        "# Note1 파이썬 내장함수"
      ],
      "metadata": {
        "id": "ox3iYOaP3Zjr"
      }
    },
    {
      "cell_type": "markdown",
      "source": [
        "### Map함수\n",
        "- 함수를 iterator에 적용한다.\n",
        "- 출력 시에 list 사용\n",
        "- map(함수, 적용할 iterator)"
      ],
      "metadata": {
        "id": "pVTt_Fc83bgk"
      }
    },
    {
      "cell_type": "code",
      "execution_count": null,
      "metadata": {
        "colab": {
          "base_uri": "https://localhost:8080/"
        },
        "id": "rtvqwPPb3DaX",
        "outputId": "2e68095a-77c4-4a29-9515-1ce2daac7c34"
      },
      "outputs": [
        {
          "output_type": "stream",
          "name": "stdout",
          "text": [
            "lambda : [1, 4, 9, 16, 25]\n",
            "type : ['1', '2', '3', '4', '5']\n"
          ]
        }
      ],
      "source": [
        "iterator = [1,2,3,4,5]\n",
        "\n",
        "# 함수 적용\n",
        "mapping = map(lambda x: x**2, iterator)\n",
        "print(f\"lambda : {list(mapping)}\")\n",
        "\n",
        "# 타입 적용\n",
        "mapping2= map(str, iterator)\n",
        "print(f\"type : {list(mapping2)}\")"
      ]
    },
    {
      "cell_type": "markdown",
      "source": [
        "### reduce함수\n",
        "- reduce(함수, iterator)\n",
        "- 함수에는 두 element를 연산하는 로직을 넣어야한다."
      ],
      "metadata": {
        "id": "IFYWE7WUaNx4"
      }
    },
    {
      "cell_type": "code",
      "source": [
        "from functools import reduce\n",
        "\n",
        "def SumFunction(x, y):\n",
        "    return x + y\n",
        "    \n",
        "target = list(range(1,10))\n",
        "reduce(SumFunction, target)"
      ],
      "metadata": {
        "colab": {
          "base_uri": "https://localhost:8080/"
        },
        "id": "OMv6ruGxacS5",
        "outputId": "8600ae3d-9e3a-40eb-ba44-50c5a79f8b9d"
      },
      "execution_count": null,
      "outputs": [
        {
          "output_type": "execute_result",
          "data": {
            "text/plain": [
              "45"
            ]
          },
          "metadata": {},
          "execution_count": 130
        }
      ]
    },
    {
      "cell_type": "code",
      "source": [
        "reduce(lambda x,y : x+y, target)"
      ],
      "metadata": {
        "colab": {
          "base_uri": "https://localhost:8080/"
        },
        "id": "2wYu1lSucL8Z",
        "outputId": "b276eeaf-f0f4-45e3-9f65-0658fe46dd6a"
      },
      "execution_count": null,
      "outputs": [
        {
          "output_type": "execute_result",
          "data": {
            "text/plain": [
              "45"
            ]
          },
          "metadata": {},
          "execution_count": 129
        }
      ]
    },
    {
      "cell_type": "code",
      "source": [
        "# comprehension으로 하는 법\n",
        "import numpy as np\n",
        "print(np.sum([x for x in range(1,10)]))"
      ],
      "metadata": {
        "colab": {
          "base_uri": "https://localhost:8080/"
        },
        "id": "LKFMT-5dbq-V",
        "outputId": "c177ff2f-2add-469d-aded-2b2b1118255f"
      },
      "execution_count": null,
      "outputs": [
        {
          "output_type": "stream",
          "name": "stdout",
          "text": [
            "45\n"
          ]
        }
      ]
    },
    {
      "cell_type": "markdown",
      "source": [
        "### Filter함수\n",
        "- 조건(함수)가 참인 iterator만 출력\n",
        "- 출력 시 list 사용\n",
        "- filter(함수, iterator)"
      ],
      "metadata": {
        "id": "9WNL69L242Rb"
      }
    },
    {
      "cell_type": "code",
      "source": [
        "iterator = [1,2,3,4,5]\n",
        "\n",
        "def 짝수(x):\n",
        "    iterators = True if x%2 ==0 else False\n",
        "    return iterators  \n",
        "\n",
        "filtering = filter(짝수,iterator)\n",
        "\n",
        "print(list(filtering))"
      ],
      "metadata": {
        "colab": {
          "base_uri": "https://localhost:8080/"
        },
        "id": "_vWXCkY24Rqw",
        "outputId": "51f1acfd-21f8-4eb3-c3fe-ea86d38f5abf"
      },
      "execution_count": null,
      "outputs": [
        {
          "output_type": "stream",
          "name": "stdout",
          "text": [
            "[2, 4]\n"
          ]
        }
      ]
    },
    {
      "cell_type": "code",
      "source": [
        "iterator = [1,2,3,4,5]\n",
        "\n",
        "filtering = filter(lambda x : x%2==0, iterator)\n",
        "print(list(filtering))"
      ],
      "metadata": {
        "colab": {
          "base_uri": "https://localhost:8080/"
        },
        "id": "q0rKFb1e77jT",
        "outputId": "90eaba29-1ccf-4afe-fecf-49900cac3f13"
      },
      "execution_count": null,
      "outputs": [
        {
          "output_type": "stream",
          "name": "stdout",
          "text": [
            "[2, 4]\n"
          ]
        }
      ]
    },
    {
      "cell_type": "markdown",
      "source": [
        "### zip\n",
        "- zip(iterator1, iterator2, iterator3...)\n",
        "- 여러개의 iterator를 묶어준다.\n",
        "- list로 프린트시 [튜플,튜플...]형태,  dict로 프린트시 dict형태\n",
        "- 원소의 개수가 맞지 않을 경우, 적은 개수에 맞춤\n",
        "- 가변인자를 받기 때문에 여러 iterator를 병렬처리 할 수 있다.\n",
        "* 가변인자(*args) : 개수가 여러개인 인자(\"a\"처럼 1개가 아닌 \"abcdsf\"처럼 여러개의 인자)"
      ],
      "metadata": {
        "id": "oH27nGvSFtCR"
      }
    },
    {
      "cell_type": "code",
      "source": [
        "a = {1:2, 2:3, 3:4, 4:5} # 개수가 맞지 않아서 4:5는 제외\n",
        "b = (\"A\", \"B\", \"C\")\n",
        "result = list(zip(a, b))\n",
        "print(result)"
      ],
      "metadata": {
        "colab": {
          "base_uri": "https://localhost:8080/"
        },
        "id": "bnJ2Rna6Ftxk",
        "outputId": "8eecd9da-4158-4091-c007-9f809e94cb81"
      },
      "execution_count": null,
      "outputs": [
        {
          "output_type": "stream",
          "name": "stdout",
          "text": [
            "[(1, 'A'), (2, 'B'), (3, 'C')]\n"
          ]
        }
      ]
    },
    {
      "cell_type": "code",
      "source": [
        "# 언패킹 zip(*) => 튜플로 나옴\n",
        "c, d = zip(*result)\n",
        "print(c)\n",
        "print(d)"
      ],
      "metadata": {
        "colab": {
          "base_uri": "https://localhost:8080/"
        },
        "id": "AzrlczWeGVhA",
        "outputId": "917ee1d3-b932-4ad2-aa36-639a1a8cc65d"
      },
      "execution_count": null,
      "outputs": [
        {
          "output_type": "stream",
          "name": "stdout",
          "text": [
            "(1, 2, 3)\n",
            "('A', 'B', 'C')\n"
          ]
        }
      ]
    },
    {
      "cell_type": "code",
      "source": [
        "# dict 만들기\n",
        "e = [1, 2, 3]\n",
        "f = [\"A\", \"B\", \"C\"]\n",
        "mkdict = dict(zip(e,f))\n",
        "print(mkdict)"
      ],
      "metadata": {
        "colab": {
          "base_uri": "https://localhost:8080/"
        },
        "id": "W-dHu4KjHk7v",
        "outputId": "9b6d96e5-9c06-44dc-d19c-dc6d0bd451bd"
      },
      "execution_count": null,
      "outputs": [
        {
          "output_type": "stream",
          "name": "stdout",
          "text": [
            "{1: 'A', 2: 'B', 3: 'C'}\n"
          ]
        }
      ]
    },
    {
      "cell_type": "markdown",
      "source": [
        "### 추가 함수"
      ],
      "metadata": {
        "id": "HOy4FFtt7L6-"
      }
    },
    {
      "cell_type": "markdown",
      "source": [
        "append('요소' 또는 iterator) : iterator를 형태 그대로 추가"
      ],
      "metadata": {
        "id": "rfgE9Wlana1f"
      }
    },
    {
      "cell_type": "code",
      "source": [
        "# append ( a[len(a):] = [x] )\n",
        "a = [1,2,3]\n",
        "a.append('a')\n",
        "a.append({'b':'c'})\n",
        "print(a)"
      ],
      "metadata": {
        "colab": {
          "base_uri": "https://localhost:8080/"
        },
        "id": "_iFV4yt67vnF",
        "outputId": "958307fc-4774-44b5-8ffa-ae5073be6c4a"
      },
      "execution_count": null,
      "outputs": [
        {
          "output_type": "stream",
          "name": "stdout",
          "text": [
            "[1, 2, 3, 'a', {'b': 'c'}]\n"
          ]
        }
      ]
    },
    {
      "cell_type": "markdown",
      "source": [
        "extend('요소' 또는 iterator) : 요소, iterator모두 요소별로 추가 "
      ],
      "metadata": {
        "id": "AwObkENtnfDq"
      }
    },
    {
      "cell_type": "code",
      "source": [
        "# extend ( a[len(a):] = iterable )\n",
        "a = [1,2,3]\n",
        "a.extend(('a','b'))\n",
        "print(a)"
      ],
      "metadata": {
        "colab": {
          "base_uri": "https://localhost:8080/"
        },
        "id": "N-JmAw-b8Ofm",
        "outputId": "8abbcb36-1fa6-4f9c-ca7d-cb906e0320e3"
      },
      "execution_count": null,
      "outputs": [
        {
          "output_type": "stream",
          "name": "stdout",
          "text": [
            "[1, 2, 3, 'a', 'b']\n"
          ]
        }
      ]
    },
    {
      "cell_type": "markdown",
      "source": [
        "insert(인덱스, '요소' 또는 iterator) : 원하는 인덱스에 요소나 iterator 추가"
      ],
      "metadata": {
        "id": "ccNxACswnhoW"
      }
    },
    {
      "cell_type": "code",
      "source": [
        "# insert\n",
        "a = [1,2,3]\n",
        "a.insert(1,('a','b'))\n",
        "print(a)"
      ],
      "metadata": {
        "colab": {
          "base_uri": "https://localhost:8080/"
        },
        "id": "L_9cnjNy8oW4",
        "outputId": "7fb6c811-71b1-405b-9a76-65b7eeb332e6"
      },
      "execution_count": null,
      "outputs": [
        {
          "output_type": "stream",
          "name": "stdout",
          "text": [
            "[1, ('a', 'b'), 2, 3]\n"
          ]
        }
      ]
    },
    {
      "cell_type": "markdown",
      "source": [
        "### 제거함수"
      ],
      "metadata": {
        "id": "zhgjTBEGh5i-"
      }
    },
    {
      "cell_type": "markdown",
      "source": [
        "**리스트.remove(x)**\n",
        "- 리스트에서 x를 삭제, 존재하지않으면 ValueError를 일으킴"
      ],
      "metadata": {
        "id": "sLucbt5ih_ao"
      }
    },
    {
      "cell_type": "code",
      "source": [
        "list1 = ['a', 11, 12, 43, 4, 6]\n",
        "list1.remove('a')\n",
        "print(list1)"
      ],
      "metadata": {
        "colab": {
          "base_uri": "https://localhost:8080/"
        },
        "id": "I7vaQOpsh-cE",
        "outputId": "8da36833-4cec-4227-80d2-b43dd3708fbb"
      },
      "execution_count": null,
      "outputs": [
        {
          "output_type": "stream",
          "name": "stdout",
          "text": [
            "[11, 12, 43, 4, 6]\n"
          ]
        }
      ]
    },
    {
      "cell_type": "markdown",
      "source": [
        "**리스트.pop(i)**\n",
        "- 리스트에서 인덱스에 맞는 값을 출력 후 제거\n",
        "- 인덱스를 지정하지 않으면 맨 뒤에 값을 선택"
      ],
      "metadata": {
        "id": "FuJYLq3gi772"
      }
    },
    {
      "cell_type": "code",
      "source": [
        "list2 = ['a', 11, 12, 43, 4, 6]\n",
        "a = list2.pop(0)\n",
        "\n",
        "print(list2)\n",
        "print(a)"
      ],
      "metadata": {
        "colab": {
          "base_uri": "https://localhost:8080/"
        },
        "id": "qiBqRm_Ah-K0",
        "outputId": "28c870ae-d361-44e3-853d-764d4990d833"
      },
      "execution_count": null,
      "outputs": [
        {
          "output_type": "stream",
          "name": "stdout",
          "text": [
            "[11, 12, 43, 4, 6]\n",
            "a\n"
          ]
        }
      ]
    },
    {
      "cell_type": "markdown",
      "source": [
        "**del 리스트[인덱스]**\n",
        "- 리스트에서 인덱스를 사용하여 값을 제거"
      ],
      "metadata": {
        "id": "KnEKCSA9jo1M"
      }
    },
    {
      "cell_type": "code",
      "source": [
        "a = [-1, 1, 66.25, 333, 333, 1234.5]\n",
        "\n",
        "del a[0]\n",
        "print(a)\n",
        "\n",
        "del a[0:2]\n",
        "a"
      ],
      "metadata": {
        "colab": {
          "base_uri": "https://localhost:8080/"
        },
        "id": "5CKsa1t_h89q",
        "outputId": "4ea11cf9-fc40-41a3-afe3-887ffe1227e7"
      },
      "execution_count": null,
      "outputs": [
        {
          "output_type": "stream",
          "name": "stdout",
          "text": [
            "[1, 66.25, 333, 333, 1234.5]\n"
          ]
        },
        {
          "output_type": "execute_result",
          "data": {
            "text/plain": [
              "[333, 333, 1234.5]"
            ]
          },
          "metadata": {},
          "execution_count": 165
        }
      ]
    },
    {
      "cell_type": "code",
      "source": [
        "del a[:]\n",
        "a"
      ],
      "metadata": {
        "colab": {
          "base_uri": "https://localhost:8080/"
        },
        "id": "kW5Jb1Simjsx",
        "outputId": "223d9692-d599-47ae-af1a-32e6ad51eb19"
      },
      "execution_count": null,
      "outputs": [
        {
          "output_type": "execute_result",
          "data": {
            "text/plain": [
              "[]"
            ]
          },
          "metadata": {},
          "execution_count": 175
        }
      ]
    },
    {
      "cell_type": "code",
      "source": [
        "# 리스트 자체를 없애버릴 수 있음\n",
        "del a\n",
        "a"
      ],
      "metadata": {
        "colab": {
          "base_uri": "https://localhost:8080/",
          "height": 201
        },
        "id": "56TlxLaykTDs",
        "outputId": "9f4455a4-5e4d-4723-bed9-4a0b3dba7fb0"
      },
      "execution_count": null,
      "outputs": [
        {
          "output_type": "error",
          "ename": "NameError",
          "evalue": "ignored",
          "traceback": [
            "\u001b[0;31m---------------------------------------------------------------------------\u001b[0m",
            "\u001b[0;31mNameError\u001b[0m                                 Traceback (most recent call last)",
            "\u001b[0;32m<ipython-input-176-7b8a16fae866>\u001b[0m in \u001b[0;36m<module>\u001b[0;34m\u001b[0m\n\u001b[1;32m      1\u001b[0m \u001b[0;31m# 리스트 자체를 없애버릴 수 있음\u001b[0m\u001b[0;34m\u001b[0m\u001b[0;34m\u001b[0m\u001b[0;34m\u001b[0m\u001b[0m\n\u001b[1;32m      2\u001b[0m \u001b[0;32mdel\u001b[0m \u001b[0ma\u001b[0m\u001b[0;34m\u001b[0m\u001b[0;34m\u001b[0m\u001b[0m\n\u001b[0;32m----> 3\u001b[0;31m \u001b[0ma\u001b[0m\u001b[0;34m\u001b[0m\u001b[0;34m\u001b[0m\u001b[0m\n\u001b[0m",
            "\u001b[0;31mNameError\u001b[0m: name 'a' is not defined"
          ]
        }
      ]
    },
    {
      "cell_type": "markdown",
      "source": [
        "**리스트.clear()**\n",
        "- 리스트 안의 값을 모두 제거\n",
        "- del a[:]와 같음 => []는 남김"
      ],
      "metadata": {
        "id": "VBnCXMHgmUtf"
      }
    },
    {
      "cell_type": "code",
      "source": [
        "a = [-1, 1, 66.25, 333, 333, 1234.5]\n",
        "a.clear()\n",
        "a"
      ],
      "metadata": {
        "colab": {
          "base_uri": "https://localhost:8080/"
        },
        "id": "sKoqKNnkmOYH",
        "outputId": "6d0628ea-7961-424f-a406-f175df89d13f"
      },
      "execution_count": null,
      "outputs": [
        {
          "output_type": "execute_result",
          "data": {
            "text/plain": [
              "[]"
            ]
          },
          "metadata": {},
          "execution_count": 177
        }
      ]
    },
    {
      "cell_type": "markdown",
      "source": [
        "### count\n",
        "- 리스트.count('x') : 리스트에 등장하는 횟수를 돌려줌\n"
      ],
      "metadata": {
        "id": "Qy_o6myBnv2G"
      }
    },
    {
      "cell_type": "code",
      "source": [
        "my_list = ['xyz', 'XYZ' 'abc', 'ABC']\n",
        "print(my_list.count( 'xyz' ))"
      ],
      "metadata": {
        "colab": {
          "base_uri": "https://localhost:8080/"
        },
        "id": "Q8YyKizFnvgj",
        "outputId": "0785d6cb-cda6-41f9-9db7-8f663e97616e"
      },
      "execution_count": null,
      "outputs": [
        {
          "output_type": "stream",
          "name": "stdout",
          "text": [
            "1\n"
          ]
        }
      ]
    },
    {
      "cell_type": "markdown",
      "source": [
        "### find"
      ],
      "metadata": {
        "id": "mAjTNJ11rzrY"
      }
    },
    {
      "cell_type": "markdown",
      "source": [
        "- 문자열.find('x', start, end)\n",
        "- 문자열에서 x의 인덱스를 찾아줌\n",
        "- x가 존재하지 않으면 -1 출력"
      ],
      "metadata": {
        "id": "ZxLS_7Q8r-go"
      }
    },
    {
      "cell_type": "code",
      "source": [
        "a = '1,1,3,4'\n",
        "a.find('3')"
      ],
      "metadata": {
        "colab": {
          "base_uri": "https://localhost:8080/"
        },
        "id": "8-DMM2NGrzAJ",
        "outputId": "65ac82ee-d083-474f-91a0-7eb45c884740"
      },
      "execution_count": null,
      "outputs": [
        {
          "output_type": "execute_result",
          "data": {
            "text/plain": [
              "4"
            ]
          },
          "metadata": {},
          "execution_count": 6
        }
      ]
    },
    {
      "cell_type": "markdown",
      "source": [
        "### index\n",
        "- 리스트.index('x', start, end) \n",
        "- 리스트, 문자열,튜플\n",
        "- x가 있는 인덱스 찾아주기\n",
        "- 없으면 ValueError, 제일 첫번째 값의 인덱스만 찾아줌"
      ],
      "metadata": {
        "id": "9_BN8pQwoFPc"
      }
    },
    {
      "cell_type": "code",
      "source": [
        "a = [1,1,3,4]\n",
        "a.index(1)"
      ],
      "metadata": {
        "colab": {
          "base_uri": "https://localhost:8080/"
        },
        "id": "R3981nAOodDX",
        "outputId": "0b0d5f26-f060-4d2d-f30c-6a47ef18454e"
      },
      "execution_count": null,
      "outputs": [
        {
          "output_type": "execute_result",
          "data": {
            "text/plain": [
              "0"
            ]
          },
          "metadata": {},
          "execution_count": 199
        }
      ]
    },
    {
      "cell_type": "code",
      "source": [
        "b = [1,2,1,4]\n",
        "b.index(1, 1, 3)"
      ],
      "metadata": {
        "colab": {
          "base_uri": "https://localhost:8080/"
        },
        "id": "xjRQs5hpqNmP",
        "outputId": "d8e7820c-ed18-41b1-b2d9-4a7414f6e44f"
      },
      "execution_count": null,
      "outputs": [
        {
          "output_type": "execute_result",
          "data": {
            "text/plain": [
              "2"
            ]
          },
          "metadata": {},
          "execution_count": 202
        }
      ]
    },
    {
      "cell_type": "markdown",
      "source": [
        "### enumerate"
      ],
      "metadata": {
        "id": "Oppzj6JAWOh9"
      }
    },
    {
      "cell_type": "code",
      "source": [
        "fla_list = ['A', 'B', 'C', 'D']\n",
        "enu_list = enumerate(fla_list)\n",
        "print(enu_list)\n",
        "print(next(enu_list))\n",
        "print(next(enu_list))\n",
        "print('\\n')\n",
        "\n",
        "# enumerate는 인덱스와 값을 함께 출력해주기 때문에 상황에 따라 다양하게 활용해볼 수 있다.\n",
        "for i, enu_list in enumerate(fla_list):\n",
        "    print(f'{i+1}: {enu_list}')"
      ],
      "metadata": {
        "colab": {
          "base_uri": "https://localhost:8080/"
        },
        "id": "hxa4gVzoWRQB",
        "outputId": "a9e7568b-ce10-4952-8b7f-cd3b85e43b6e"
      },
      "execution_count": null,
      "outputs": [
        {
          "output_type": "stream",
          "name": "stdout",
          "text": [
            "<enumerate object at 0x7fc00e8c2f40>\n",
            "(0, 'A')\n",
            "(1, 'B')\n",
            "\n",
            "\n",
            "1: A\n",
            "2: B\n",
            "3: C\n",
            "4: D\n"
          ]
        }
      ]
    },
    {
      "cell_type": "markdown",
      "source": [
        "### isalnum"
      ],
      "metadata": {
        "id": "0fVX-2vkftNw"
      }
    },
    {
      "cell_type": "code",
      "source": [
        "print(f'영문이나 숫자인가? {\"abcㅁㅊㅊ123\".isalnum()}')\n",
        "print(f'영문이나 숫자인가? {\"12!ad#\".isalnum()}')"
      ],
      "metadata": {
        "colab": {
          "base_uri": "https://localhost:8080/"
        },
        "id": "aFeg8dF6fxOE",
        "outputId": "7f017ab5-637e-4953-a05c-847ab7f39b2d"
      },
      "execution_count": null,
      "outputs": [
        {
          "output_type": "stream",
          "name": "stdout",
          "text": [
            "영문이나 숫자인가? True\n",
            "영문이나 숫자인가? False\n"
          ]
        }
      ]
    },
    {
      "cell_type": "markdown",
      "source": [
        "### collections Counter(문자열 문자 개수)"
      ],
      "metadata": {
        "id": "cmGqEJKF7sF_"
      }
    },
    {
      "cell_type": "code",
      "source": [
        "from collections import Counter\n",
        "a = 'hellow wolrd'\n",
        "print(Counter(a))\n",
        "print(Counter(a)['l'])"
      ],
      "metadata": {
        "colab": {
          "base_uri": "https://localhost:8080/"
        },
        "id": "tsSSsM8J7vah",
        "outputId": "1688ecb9-6412-41e3-c65f-0dcc5355546b"
      },
      "execution_count": null,
      "outputs": [
        {
          "output_type": "stream",
          "name": "stdout",
          "text": [
            "Counter({'l': 3, 'o': 2, 'w': 2, 'h': 1, 'e': 1, ' ': 1, 'r': 1, 'd': 1})\n",
            "3\n"
          ]
        }
      ]
    },
    {
      "cell_type": "markdown",
      "source": [
        "### list comprehension"
      ],
      "metadata": {
        "id": "aTXNxRRbmBmr"
      }
    },
    {
      "cell_type": "code",
      "source": [
        "# 2번 엮기\n",
        "matrix = [\n",
        "    [1, 2, 3, 4],\n",
        "    [5, 6, 7, 8],\n",
        "    [9, 10, 11, 12],\n",
        "]\n",
        "\n",
        "[[row[i] for row in matrix]for i in range(4)]"
      ],
      "metadata": {
        "colab": {
          "base_uri": "https://localhost:8080/"
        },
        "id": "csOQf9MxlG2m",
        "outputId": "c6d9cc34-214a-4080-fb5a-34f00a4ebd3a"
      },
      "execution_count": null,
      "outputs": [
        {
          "output_type": "execute_result",
          "data": {
            "text/plain": [
              "[[1, 5, 9], [2, 6, 10], [3, 7, 11], [4, 8, 12]]"
            ]
          },
          "metadata": {},
          "execution_count": 171
        }
      ]
    },
    {
      "cell_type": "markdown",
      "source": [
        "### upper, lower\n",
        "- 소문자, 대문자로 바꿔줌\n",
        "- 문자열.upper()  / 문자열.lower()\n",
        "- 문자열.isupper() : 대문자면 True, 아니면 False 반환\n",
        "- 문자열.islower() : 소문자면 True, 아니면 False 반환"
      ],
      "metadata": {
        "id": "4CYnkgur9HBW"
      }
    },
    {
      "cell_type": "code",
      "source": [
        "print(f\"ABC는 대문자이다 = {'ABC'.isupper()}\")\n",
        "print(f\"Abc는 대문자이다 = {'Abc'.isupper()}\")"
      ],
      "metadata": {
        "colab": {
          "base_uri": "https://localhost:8080/"
        },
        "id": "d6yqvzBv-HQF",
        "outputId": "dac91e4e-a30e-4ee8-bd8e-630a88599669"
      },
      "execution_count": null,
      "outputs": [
        {
          "output_type": "stream",
          "name": "stdout",
          "text": [
            "ABC는 대문자이다 = True\n",
            "Abc는 대문자이다 = False\n"
          ]
        }
      ]
    },
    {
      "cell_type": "markdown",
      "source": [
        "### ord(), chr()\n",
        "- ord('문자') : 문자를 아스키코드 숫자로 바꿔줌\n",
        "- chr('숫자') : 숫자를 아스키코드 문자로 바꿔줌"
      ],
      "metadata": {
        "id": "xaY6cz2VVUuA"
      }
    },
    {
      "cell_type": "code",
      "source": [
        "print(ord('A'))\n",
        "print(chr(65))"
      ],
      "metadata": {
        "colab": {
          "base_uri": "https://localhost:8080/"
        },
        "id": "gdgnkSb6XKbB",
        "outputId": "8e38ba1e-3fe4-4497-cc74-716605b77cfd"
      },
      "execution_count": null,
      "outputs": [
        {
          "output_type": "stream",
          "name": "stdout",
          "text": [
            "65\n",
            "A\n"
          ]
        }
      ]
    },
    {
      "cell_type": "code",
      "source": [
        "# X가 B,C,D,E,F 사이에 있는 값인지 확인하고 싶을 때\n",
        "X = ord('D')\n",
        "\n",
        "if X >= ord('B') and X <=ord('F'):\n",
        "    print('포함한다') \n",
        "else:\n",
        "    print('포함하지 않는다.')"
      ],
      "metadata": {
        "colab": {
          "base_uri": "https://localhost:8080/"
        },
        "id": "huYxiNB_VUUd",
        "outputId": "5f37b40b-33b1-452d-e422-55cabd96ea1a"
      },
      "execution_count": null,
      "outputs": [
        {
          "output_type": "stream",
          "name": "stdout",
          "text": [
            "포함한다\n"
          ]
        }
      ]
    },
    {
      "cell_type": "code",
      "source": [
        "class Human:\n",
        "    def __init__(self, name, age):\n",
        "        self.name = name\n",
        "        self.age = age\n",
        "humans = [\n",
        "    Human(\"Abi\", 29),\n",
        "    Human(\"Batista\", 32),\n",
        "    Human(\"Charlse\", 37),\n",
        "    Human(\"Dolphine\", 30),\n",
        "    Human(\"Eva\", 26),\n",
        "    Human(\"Frin\", 18),\n",
        "    Human(\"Gless\", 42),\n",
        "    Human(\"Harby\", 12),\n",
        "    Human(\"Iris\", 41),\n",
        "    Human(\"David\", 31),\n",
        "]\n",
        "\n",
        "# 첫 글자가 [C,D,E,F,G]에 포함되는지\n",
        "def quesion3():\n",
        "    a = [humans[i].name for i in range(len(humans)) for j in ['C','D','E','F','G'] if humans[i].name[0]==j]\n",
        "    b = list(filter(lambda x: x.startswith((\"C\", \"D\", \"E\", \"F\", \"G\")), [h.name for h in humans]))\n",
        "    c = [human.name for human in humans if ord(human.name[0])>=ord('C') and ord(human.name[0]) <=ord('G')]\n",
        "\n",
        "    print(a)\n",
        "    print(b)\n",
        "    print(c)\n",
        "quesion3()"
      ],
      "metadata": {
        "colab": {
          "base_uri": "https://localhost:8080/"
        },
        "id": "P_tpLZUDXia0",
        "outputId": "282ca7ca-02c6-439f-f94b-808bf8e9836a"
      },
      "execution_count": null,
      "outputs": [
        {
          "output_type": "stream",
          "name": "stdout",
          "text": [
            "['Charlse', 'Dolphine', 'Eva', 'Frin', 'Gless', 'David']\n",
            "['Charlse', 'Dolphine', 'Eva', 'Frin', 'Gless', 'David']\n",
            "['Charlse', 'Dolphine', 'Eva', 'Frin', 'Gless', 'David']\n"
          ]
        }
      ]
    },
    {
      "cell_type": "markdown",
      "source": [
        "### operator 모듈 함수\n",
        "- 키함수에 적용하는 함수, 다중 선택 가능\n",
        "- itemgetter : iterator의 인덱스를 기준으로 정렬\n",
        "- attrgetter : iterator의 컬럼명을 기준으로 정렬\n"
      ],
      "metadata": {
        "id": "FHKBI7WNeqvj"
      }
    },
    {
      "cell_type": "code",
      "source": [
        "from operator import itemgetter, attrgetter\n",
        "\n",
        "student_tuples = [\n",
        "    ('john', 'A', 15),\n",
        "    ('jane', 'B', 12),\n",
        "    ('dave', 'B', 10),\n",
        "]\n",
        "item = sorted(student_tuples, key=itemgetter(2))\n",
        "items = sorted(student_tuples, key=itemgetter(1,2)) \n",
        "\n",
        "# attr = sorted(student_objects, key=attrgetter('age','grade'))\n",
        "\n",
        "print(item)\n",
        "print(items)"
      ],
      "metadata": {
        "colab": {
          "base_uri": "https://localhost:8080/"
        },
        "id": "-eH5cHc2e5u-",
        "outputId": "08a9219b-4db0-427c-965b-bbfb80daa597"
      },
      "execution_count": null,
      "outputs": [
        {
          "output_type": "stream",
          "name": "stdout",
          "text": [
            "[('dave', 'B', 10), ('jane', 'B', 12), ('john', 'A', 15)]\n",
            "[('john', 'A', 15), ('dave', 'B', 10), ('jane', 'B', 12)]\n"
          ]
        }
      ]
    },
    {
      "cell_type": "markdown",
      "source": [
        "### sort, sorted\n",
        "**리스트.sort(key = 조건(함수) or operator, reverse=False)**\n",
        "- 기존 배열을 정렬(inplace=True), return이 없음, 리스트만 가능\n",
        "\n",
        "**sorted(iterator, key=조건 or operator, reverse=False)**   \n",
        "- 기존 배열은 유지(inplace=False), return을 정렬, 모든 iterator를 list로 변환"
      ],
      "metadata": {
        "id": "eO0TxVnV_BdQ"
      }
    },
    {
      "cell_type": "code",
      "source": [
        "# sort\n",
        "a = [3,2,1]\n",
        "b = a.sort()\n",
        "print(a)\n",
        "print(b)"
      ],
      "metadata": {
        "colab": {
          "base_uri": "https://localhost:8080/"
        },
        "id": "5zWMYAPW_Jtb",
        "outputId": "912ba1ee-edca-44bb-beb7-ceed4af5ee30"
      },
      "execution_count": null,
      "outputs": [
        {
          "output_type": "stream",
          "name": "stdout",
          "text": [
            "[1, 2, 3]\n",
            "None\n"
          ]
        }
      ]
    },
    {
      "cell_type": "code",
      "source": [
        "# sorted\n",
        "c = [3,2,1]\n",
        "d = sorted(c)\n",
        "print(c)\n",
        "print(d)"
      ],
      "metadata": {
        "colab": {
          "base_uri": "https://localhost:8080/"
        },
        "id": "Z7EOEGkt_nxr",
        "outputId": "78b6bedb-6346-455c-d60e-9e53633f9126"
      },
      "execution_count": null,
      "outputs": [
        {
          "output_type": "stream",
          "name": "stdout",
          "text": [
            "[3, 2, 1]\n",
            "[1, 2, 3]\n"
          ]
        }
      ]
    },
    {
      "cell_type": "code",
      "source": [
        "# sorted의 dict 변환\n",
        "e = {3:2,2:1}\n",
        "f = sorted(e)\n",
        "print(e)\n",
        "print(f)"
      ],
      "metadata": {
        "colab": {
          "base_uri": "https://localhost:8080/"
        },
        "id": "885VcvGaAQJU",
        "outputId": "10f4a7ca-f2e3-4f7b-aea4-d71fc9289bab"
      },
      "execution_count": null,
      "outputs": [
        {
          "output_type": "stream",
          "name": "stdout",
          "text": [
            "{3: 2, 2: 1}\n",
            "[2, 3]\n"
          ]
        }
      ]
    },
    {
      "cell_type": "code",
      "source": [
        "student_tuples = [\n",
        "    ('john', 'A', 15),\n",
        "    ('jane', 'B', 12),\n",
        "    ('dave', 'B', 10),\n",
        "]\n",
        "a = sorted(student_tuples, key=lambda student: student[2], reverse=True)\n",
        "b = sorted(student_tuples, key=lambda student: student[2], reverse=False)\n",
        "\n",
        "print(a) # 내림차순\n",
        "print(b) # 오름차순"
      ],
      "metadata": {
        "colab": {
          "base_uri": "https://localhost:8080/"
        },
        "id": "V6EGWM0hf5Bg",
        "outputId": "7839f253-1e16-403e-8543-1b053b7f4456"
      },
      "execution_count": null,
      "outputs": [
        {
          "output_type": "stream",
          "name": "stdout",
          "text": [
            "[('john', 'A', 15), ('jane', 'B', 12), ('dave', 'B', 10)]\n",
            "[('dave', 'B', 10), ('jane', 'B', 12), ('john', 'A', 15)]\n"
          ]
        }
      ]
    },
    {
      "cell_type": "code",
      "source": [
        "# operator 활용, itemgetter : 해당 인덱스 우선순위 \n",
        "from operator import itemgetter\n",
        "c = sorted(student_tuples, key=itemgetter(1,2), reverse=True)\n",
        "print(c)"
      ],
      "metadata": {
        "colab": {
          "base_uri": "https://localhost:8080/"
        },
        "id": "IN6_o37_64CO",
        "outputId": "19316d58-a52d-4cac-d1b0-d89edb2c514b"
      },
      "execution_count": null,
      "outputs": [
        {
          "output_type": "stream",
          "name": "stdout",
          "text": [
            "[('jane', 'B', 12), ('dave', 'B', 10), ('john', 'A', 15)]\n"
          ]
        }
      ]
    },
    {
      "cell_type": "markdown",
      "source": [
        "### reverse, reversed\n",
        "- 리스트를 역순\n",
        "- 리스트.reverse : 기존 배열 정렬(inplace=True), Return 없음\n",
        "- reversed(리스트 or 튜플 or str) : 기존 배열 유지(inplace=False), Return 있음"
      ],
      "metadata": {
        "id": "ih6aZ7LDVhSb"
      }
    },
    {
      "cell_type": "code",
      "source": [
        "a = ['a', 'b', 'c']\n",
        "b = a.reverse()\n",
        "print(a)\n",
        "print(b)"
      ],
      "metadata": {
        "colab": {
          "base_uri": "https://localhost:8080/"
        },
        "id": "oUCcgPO3VsZF",
        "outputId": "1ddfdfd5-baa2-4668-d89c-f67e1855232a"
      },
      "execution_count": null,
      "outputs": [
        {
          "output_type": "stream",
          "name": "stdout",
          "text": [
            "['c', 'b', 'a']\n",
            "None\n"
          ]
        }
      ]
    },
    {
      "cell_type": "code",
      "source": [
        "a = ['a', 'b', 'c']\n",
        "b = reversed(a)\n",
        "print(a)\n",
        "print(list(b))"
      ],
      "metadata": {
        "colab": {
          "base_uri": "https://localhost:8080/"
        },
        "id": "w1nbHRuoXD4o",
        "outputId": "842d5162-6dd3-402b-9d08-a59356eb8e0c"
      },
      "execution_count": null,
      "outputs": [
        {
          "output_type": "stream",
          "name": "stdout",
          "text": [
            "['a', 'b', 'c']\n",
            "['c', 'b', 'a']\n"
          ]
        }
      ]
    },
    {
      "cell_type": "code",
      "source": [
        "l = ['a', 'b', 'c']\n",
        "t = ('a', 'b', 'c')\n",
        "s = 'abc'\n",
        "\n",
        "print(reversed(l))  # <listreverseiterator object at 0x101053c10>\n",
        "print(reversed(t))  # <reversed object at 0x101053b50>\n",
        "print((reversed(s)))  # <reversed object at 0x101053c10>"
      ],
      "metadata": {
        "colab": {
          "base_uri": "https://localhost:8080/"
        },
        "id": "DTMY0y6YVLzc",
        "outputId": "1f3192d4-464b-46d8-a728-589a31153cbb"
      },
      "execution_count": null,
      "outputs": [
        {
          "output_type": "stream",
          "name": "stdout",
          "text": [
            "<list_reverseiterator object at 0x7ffa260ccdf0>\n",
            "<reversed object at 0x7ffa260cce20>\n",
            "<reversed object at 0x7ffa260ccdf0>\n"
          ]
        }
      ]
    },
    {
      "cell_type": "markdown",
      "source": [
        "### immutable, mutable\n",
        "\n"
      ],
      "metadata": {
        "id": "at3E6tuKLl-c"
      }
    },
    {
      "cell_type": "markdown",
      "source": [
        "**immutable**\n",
        "- 변경불가 객체(tuple, int float, str, bool) \n",
        "- 주소가 정해져있음\n",
        "- 변경하면 참조 대상을 바꿔버림"
      ],
      "metadata": {
        "id": "Ii09-fstM3QI"
      }
    },
    {
      "cell_type": "code",
      "source": [
        "print(\"immutable 객체\")\n",
        "a = 99\n",
        "b = 99\n",
        "c = 99\n",
        "\n",
        "print(hex(id(a)))\n",
        "print(hex(id(b)))\n",
        "print(hex(id(c)))"
      ],
      "metadata": {
        "colab": {
          "base_uri": "https://localhost:8080/"
        },
        "id": "qEBOYUvJMK_1",
        "outputId": "9f46621a-5983-4a8a-9e00-fe3cf07a9b9f"
      },
      "execution_count": null,
      "outputs": [
        {
          "output_type": "stream",
          "name": "stdout",
          "text": [
            "immutable 객체\n",
            "0xaffee0\n",
            "0xaffee0\n",
            "0xaffee0\n"
          ]
        }
      ]
    },
    {
      "cell_type": "markdown",
      "source": [
        "**mutable**\n",
        "- 변경가능 객체(list, set, dict) \n",
        "- 같은 값이라도 새로운 주소에 저장\n",
        "- 변경하면 주소 자체를 새로 할당"
      ],
      "metadata": {
        "id": "ezP8efxHM59R"
      }
    },
    {
      "cell_type": "code",
      "source": [
        "print(\"mutable 객체\")\n",
        "arr1 = [1, 2, 3]\n",
        "arr2 = [1, 2, 3]\n",
        "arr3 = [1, 2, 3]\n",
        "\n",
        "print(hex(id(arr1)))\n",
        "print(hex(id(arr2)))\n",
        "print(hex(id(arr3)))"
      ],
      "metadata": {
        "colab": {
          "base_uri": "https://localhost:8080/"
        },
        "id": "WNUOdgQHMUxP",
        "outputId": "ac77ec3d-9654-4a57-ccf7-ec0845ceea5c"
      },
      "execution_count": null,
      "outputs": [
        {
          "output_type": "stream",
          "name": "stdout",
          "text": [
            "mutable 객체\n",
            "0x7ffa26124cc0\n",
            "0x7ffa26137780\n",
            "0x7ffa26111840\n"
          ]
        }
      ]
    },
    {
      "cell_type": "markdown",
      "source": [
        "### random\n",
        "- random.seed(숫자) : 시드고정\n",
        "- random.random() : 0부터 1 사이의 수\n",
        "- random.randint(n, k) : n부터 k 사이의 정수"
      ],
      "metadata": {
        "id": "0wyVLH2_dXte"
      }
    },
    {
      "cell_type": "code",
      "source": [
        "import random\n",
        "\n",
        "print(random.random())\n",
        "print(random.randint(0,100))"
      ],
      "metadata": {
        "colab": {
          "base_uri": "https://localhost:8080/"
        },
        "id": "p_zlKtn0dkb-",
        "outputId": "17fad204-ab7e-4ce2-8656-7772c75c3ab3"
      },
      "execution_count": null,
      "outputs": [
        {
          "output_type": "stream",
          "name": "stdout",
          "text": [
            "0.3132079982242848\n",
            "36\n"
          ]
        }
      ]
    },
    {
      "cell_type": "markdown",
      "source": [
        "### 복사\n"
      ],
      "metadata": {
        "id": "KsI3ArJcJbDq"
      }
    },
    {
      "cell_type": "markdown",
      "source": [
        "**얕은 복사**\n",
        "- mutable데이터가 복사가 아닌 참조만 하는 복사\n",
        "- b = a\n",
        "- b = a[:]\n",
        "- b = a.copy()\n",
        "- b = copy.copy(a)"
      ],
      "metadata": {
        "id": "d1gPaxqMQylx"
      }
    },
    {
      "cell_type": "code",
      "source": [
        "# 얕은 복사 : 주소만 참조하여 two를 지우면 one도 지워짐\n",
        "one = {'a': 5, 'b': 4, 'c': 8}\n",
        "two = one\n",
        "del two['a']\n",
        "print(two, '주소:', hex(id(two)))\n",
        "print(one, '주소:', hex(id(one)))"
      ],
      "metadata": {
        "colab": {
          "base_uri": "https://localhost:8080/"
        },
        "id": "Y-DdVYH3KTtD",
        "outputId": "65ce9c09-7b51-4ac3-effa-0e2dccc726e7"
      },
      "execution_count": null,
      "outputs": [
        {
          "output_type": "stream",
          "name": "stdout",
          "text": [
            "{'b': 4, 'c': 8} 주소: 0x7ffa26129c00\n",
            "{'b': 4, 'c': 8} 주소: 0x7ffa26129c00\n"
          ]
        }
      ]
    },
    {
      "cell_type": "code",
      "source": [
        "# a가 하나만 삭제되어 깊은복사 같지만 안쪽 list의 주소값이 같음\n",
        "import copy\n",
        "one = {'a':2, 'b': 4, 'c': [1,2,3]}\n",
        "two = copy.copy(one)\n",
        "del two['a']\n",
        "print(two, '주소:', hex(id(two['c'])))\n",
        "print(one, '주소:', hex(id(one['c'])))"
      ],
      "metadata": {
        "colab": {
          "base_uri": "https://localhost:8080/"
        },
        "id": "mC4zP5HrJZuR",
        "outputId": "f7bdc51f-9805-417e-a82c-1dde3b738eb0"
      },
      "execution_count": null,
      "outputs": [
        {
          "output_type": "stream",
          "name": "stdout",
          "text": [
            "{'b': 4, 'c': [1, 2, 3]} 주소: 0x7ffa26202200\n",
            "{'a': 2, 'b': 4, 'c': [1, 2, 3]} 주소: 0x7ffa26202200\n"
          ]
        }
      ]
    },
    {
      "cell_type": "markdown",
      "source": [
        "**깊은 복사**\n",
        "- b = copy.deepcopy(a)"
      ],
      "metadata": {
        "id": "hUOQRQKOTeWk"
      }
    },
    {
      "cell_type": "code",
      "source": [
        "import copy                 # copy 모듈 불러오기\n",
        "\n",
        "arr1 = [1, 2, [99, 88, 77], 3]\n",
        "arr2 = copy.deepcopy(arr1)      # copy 모듈 깊은 복사\n",
        "\n",
        "print(f'arr1 : {arr1}, address : {hex(id(arr1))}')\n",
        "print(f'arr2 : {arr2}, address : {hex(id(arr2))}')"
      ],
      "metadata": {
        "colab": {
          "base_uri": "https://localhost:8080/"
        },
        "id": "htowwaekJlDZ",
        "outputId": "17e86d3d-6ad2-45fd-f084-edec3b6cdaed"
      },
      "execution_count": null,
      "outputs": [
        {
          "output_type": "stream",
          "name": "stdout",
          "text": [
            "arr1 : [1, 2, [99, 88, 77], 3], address : 0x7ffa26124e80\n",
            "arr2 : [1, 2, [99, 88, 77], 3], address : 0x7ffa26138500\n"
          ]
        }
      ]
    },
    {
      "cell_type": "markdown",
      "source": [
        "### 자료형, 내장함수 확인"
      ],
      "metadata": {
        "id": "kYO6Q-vwLp-7"
      }
    },
    {
      "cell_type": "code",
      "source": [
        "# help('자료형') : 해당 자료형에 사용할 수 있는 메소드 검색\n",
        "list_a = [3,4,1,6,9,2]\n",
        "help(list_a)"
      ],
      "metadata": {
        "id": "OAkub5OiLpKr"
      },
      "execution_count": null,
      "outputs": []
    },
    {
      "cell_type": "code",
      "source": [
        "# dir() = 현재 __name__에 저장된 목록(변수지정목록)\n",
        "# dir(변수) = 해당 변수에 적용할 수 있는 기능 목록\n",
        "dir()"
      ],
      "metadata": {
        "id": "UPq1b9wQL6tY"
      },
      "execution_count": null,
      "outputs": []
    },
    {
      "cell_type": "markdown",
      "source": [
        "### dict"
      ],
      "metadata": {
        "id": "6BNqXWNEkJlT"
      }
    },
    {
      "cell_type": "code",
      "source": [
        "# s2에서 s1에 존재하지 않는 값 찾기\n",
        "\n",
        "s1 = 'hi my name'\n",
        "s2 = 'hi my name is jinwoo'\n",
        "\n",
        "def dd(s1,s2):\n",
        "    if s1==s2:\n",
        "        return None\n",
        "\n",
        "    if s1!=s2:\n",
        "        nono = []\n",
        "        s1d = s1.split()\n",
        "        s2d = s2.split()\n",
        "        dic1 = dict.fromkeys(s1d)\n",
        "        dic2 = dict.fromkeys(s2d)\n",
        "        for i in dic2:\n",
        "            if i not in dic1:\n",
        "                nono.append(i)\n",
        "        return nono\n",
        "dd(s1,s2)"
      ],
      "metadata": {
        "colab": {
          "base_uri": "https://localhost:8080/"
        },
        "id": "VlCKOklDkMHb",
        "outputId": "2f4073ba-0d4d-4f77-f84a-9b003cf4d16d"
      },
      "execution_count": null,
      "outputs": [
        {
          "output_type": "execute_result",
          "data": {
            "text/plain": [
              "['is', 'jinwoo']"
            ]
          },
          "metadata": {},
          "execution_count": 2
        }
      ]
    },
    {
      "cell_type": "code",
      "source": [
        "# fromkeys(key배열,[값배열]) 값배열은 같은 값이 들어감\n",
        "s1 = 'hi my name'\n",
        "a= s1.split()\n",
        "b= dict.fromkeys(a,[1,2,3])\n",
        "b"
      ],
      "metadata": {
        "colab": {
          "base_uri": "https://localhost:8080/"
        },
        "id": "kn85nUjikbcR",
        "outputId": "3128950b-3c07-4e44-96cb-7dc39d25e4b2"
      },
      "execution_count": null,
      "outputs": [
        {
          "output_type": "execute_result",
          "data": {
            "text/plain": [
              "{'hi': [1, 2, 3], 'my': [1, 2, 3], 'name': [1, 2, 3]}"
            ]
          },
          "metadata": {},
          "execution_count": 1
        }
      ]
    },
    {
      "cell_type": "markdown",
      "source": [
        "### 시간(time) 함수"
      ],
      "metadata": {
        "id": "-i7x5QRRx3w-"
      }
    },
    {
      "cell_type": "markdown",
      "source": [
        "#### 시간측정"
      ],
      "metadata": {
        "id": "Kutety7EXlm3"
      }
    },
    {
      "cell_type": "code",
      "source": [
        "import time\n",
        "from functools import wraps\n",
        "\n",
        "def check_time(function):         # 소요시간 함수(시간 측정할 함수)\n",
        "\t@wraps(function)              # 래핑(시간 측정할 함수)\n",
        "\tdef measure(*args, **kwargs): # 래핑된 함수를 받아서\n",
        "\t\tstart_time = time.time()  # 시작시간\n",
        "\t\tresult = function(*args, **kwargs)  # 시작과 끝 시간의 가운데서 실행\n",
        "\t\tend_time = time.time()    # 끝나는시간 측정\n",
        "\t\tprint(f\"@check_time: {function.__name__} took {end_time - start_time}\") # 함수이름 took 걸린시간 출력\n",
        "\t\treturn result  # 함수의 결과 반환\n",
        "\n",
        "\treturn measure # 함수 결과 반환, 프린트문으로 시간알려줌"
      ],
      "metadata": {
        "id": "g7vpuixKx7ec"
      },
      "execution_count": null,
      "outputs": []
    },
    {
      "cell_type": "code",
      "source": [
        "@check_time  # 새로운 함수 앞에 붙여주면 함수 실행할 때 같이 실행됨\n",
        "def sum_n(n):\n",
        "    s = 0\n",
        "    for i in range(1, n+1):\n",
        "        s += i\n",
        "    return s\n",
        "\n",
        "if __name__ == \"__main__\":\n",
        "\tprint(sum_n(100000))"
      ],
      "metadata": {
        "colab": {
          "base_uri": "https://localhost:8080/"
        },
        "id": "FW66xAoJ2XEF",
        "outputId": "1e6ea526-2548-4b4b-f479-d8ae505d9fe4"
      },
      "execution_count": null,
      "outputs": [
        {
          "output_type": "stream",
          "name": "stdout",
          "text": [
            "@check_time: sum_n took 0.014777183532714844\n",
            "5000050000\n"
          ]
        }
      ]
    },
    {
      "cell_type": "markdown",
      "source": [
        "#### 알람"
      ],
      "metadata": {
        "id": "QVegzGreXnF9"
      }
    },
    {
      "cell_type": "code",
      "source": [
        "from time import sleep\n",
        "print('sleep(초)후에 다음 로직이 실행된다.')\n",
        "\n",
        "sleep(4)\n",
        "\n",
        "print('알람')\n"
      ],
      "metadata": {
        "colab": {
          "base_uri": "https://localhost:8080/"
        },
        "id": "TIvuSyaNXpSw",
        "outputId": "beb2a099-4ab5-413d-8f3a-a6f365e8b3ef"
      },
      "execution_count": null,
      "outputs": [
        {
          "output_type": "stream",
          "name": "stdout",
          "text": [
            "sleep(초)후에 다음 로직이 실행된다.\n",
            "알람\n"
          ]
        }
      ]
    },
    {
      "cell_type": "markdown",
      "source": [
        "### 데코레이터(@)"
      ],
      "metadata": {
        "id": "iDvuuEth3_Ui"
      }
    },
    {
      "cell_type": "markdown",
      "source": [
        "#### 데코레이터 사용법"
      ],
      "metadata": {
        "id": "I919IJmK5qT4"
      }
    },
    {
      "cell_type": "code",
      "source": [
        "from functools import wraps\n",
        "\n",
        "def 함수이름(func):  # 데코사용할 함수 이름 => @함수이름 이렇게\n",
        "    @wraps(func)     # func는 데코레이션 적용할 함수 @함수이름 밑에 쓰일 함수\n",
        "    def __wrapper(*args, **kwargs):\n",
        "        # 여기서 decoretor로 진행시키고 싶은 기능 넣으면 됨\n",
        "        # 여기에 result = func(*args, **kwargs)쓰고 return을 result로 받아도 됨\n",
        "        return func(*args, **kwargs) # 래핑된 함수의 반환값\n",
        "    return __wrapper # 래핑된 함수의 반환값"
      ],
      "metadata": {
        "id": "2D3qxxRV4Bu7"
      },
      "execution_count": null,
      "outputs": []
    },
    {
      "cell_type": "code",
      "source": [
        "#사용예시\n",
        "@함수이름\n",
        "def func(x):\n",
        "    return x*2\n",
        "\n",
        "func(10)\n",
        "# >> 데코레이터가 func를 감싸서 실행되고 반환됨"
      ],
      "metadata": {
        "id": "7iyj6L3f4644"
      },
      "execution_count": null,
      "outputs": []
    },
    {
      "cell_type": "markdown",
      "source": [
        "##### wraps를 사용하는 이유\n",
        "- 없어도 작동을 하지만 사용하지 않으면 디버깅이 어려움"
      ],
      "metadata": {
        "id": "ehb0xhRo5SrA"
      }
    },
    {
      "cell_type": "markdown",
      "source": [
        "**wraps를 사용안할때**"
      ],
      "metadata": {
        "id": "-x_Qo65O6lLA"
      }
    },
    {
      "cell_type": "code",
      "source": [
        "def without_wraps(func):\n",
        "    def __wrapper(*args, **kwargs):\n",
        "        return func(*args, **kwargs)\n",
        "    return __wrapper\n",
        "\n",
        "@without_wraps\n",
        "def my_func_a():\n",
        "    \"\"\"Here is my_func_a doc string text.\"\"\"\n",
        "    pass"
      ],
      "metadata": {
        "id": "lUo_MULc5138"
      },
      "execution_count": null,
      "outputs": []
    },
    {
      "cell_type": "code",
      "source": [
        "print(my_func_a.__doc__) # 해당 func값이 제대로 반환되지 않음\n",
        "print(my_func_a.__name__)"
      ],
      "metadata": {
        "colab": {
          "base_uri": "https://localhost:8080/"
        },
        "id": "J7WOadDW548W",
        "outputId": "7fb1c5a8-01f3-47c3-f324-1b316544b57d"
      },
      "execution_count": null,
      "outputs": [
        {
          "output_type": "stream",
          "name": "stdout",
          "text": [
            "None\n",
            "__wrapper\n"
          ]
        }
      ]
    },
    {
      "cell_type": "markdown",
      "source": [
        "**wraps를 사용했을  때**"
      ],
      "metadata": {
        "id": "gwpLAxh46pIw"
      }
    },
    {
      "cell_type": "code",
      "source": [
        "from functools import wraps\n",
        "\n",
        "def with_wraps(func):\n",
        "    @wraps(func)\n",
        "    def __wrapper(*args, **kwargs):\n",
        "       return func(*args, **kwargs)\n",
        "    return __wrapper\n",
        "\n",
        "@with_wraps\n",
        "def my_func_b():\n",
        "    \"\"\"Here is my_func_b doc string text.\"\"\"\n",
        "    pass"
      ],
      "metadata": {
        "id": "moCgA_vF6GHO"
      },
      "execution_count": null,
      "outputs": []
    },
    {
      "cell_type": "code",
      "source": [
        "print(my_func_b.__doc__) # 해당 func값이 제대로 반환 됨\n",
        "print(my_func_b.__name__)"
      ],
      "metadata": {
        "colab": {
          "base_uri": "https://localhost:8080/"
        },
        "id": "TAYgJ4VM6Jk4",
        "outputId": "96e51335-2cf6-43be-a914-de67841f061e"
      },
      "execution_count": null,
      "outputs": [
        {
          "output_type": "stream",
          "name": "stdout",
          "text": [
            "Here is my_func_b doc string text.\n",
            "my_func_b\n"
          ]
        }
      ]
    },
    {
      "cell_type": "markdown",
      "source": [
        "## 정규표현식(regex)"
      ],
      "metadata": {
        "id": "7GYH9ny08peP"
      }
    },
    {
      "cell_type": "markdown",
      "source": [
        "- iterator에선 사용하지 않음 (list, dict, tuple 등..)"
      ],
      "metadata": {
        "id": "nhN7VbkGDvx8"
      }
    },
    {
      "cell_type": "markdown",
      "source": [
        "#### escape문자\n",
        "- \\n : 줄바꿈\n",
        "- \\t : 탭(들여쓰기)\n",
        "- \\b : 백스페이스(하나 지움)\n",
        "- \\r : 앞의 글자 다 지우고 뒤에 글자를 들여쓰기\n",
        "- \\ : 뒤에 특수문자 표시하기"
      ],
      "metadata": {
        "id": "OJA-hsWmJpBs"
      }
    },
    {
      "cell_type": "code",
      "source": [
        "print(\"     \\rHello\")\n",
        "print(\"     Hello\")"
      ],
      "metadata": {
        "colab": {
          "base_uri": "https://localhost:8080/"
        },
        "id": "R7U_D5MJJTAi",
        "outputId": "7f88f403-8a89-4e66-c1d9-a60e8d74a1b6"
      },
      "execution_count": null,
      "outputs": [
        {
          "output_type": "stream",
          "name": "stdout",
          "text": [
            "     \rHello\n",
            "     Hello\n"
          ]
        }
      ]
    },
    {
      "cell_type": "markdown",
      "source": [
        "raw string : r을 붙여서 특수문자 유지"
      ],
      "metadata": {
        "id": "HdoWSwomLzRC"
      }
    },
    {
      "cell_type": "code",
      "source": [
        "print('raw string을 사용하지 않고고\\b 문자 출력하기')\n",
        "print(r'raw string을 사용하지 않지 않고고./.,,.\\\\b 문자 출력하기')\n",
        "\n",
        "# 파일 경로 출력하기\n",
        "print('C:\\programs\\nayana')\n",
        "print('C:\\\\programs\\\\nayana') # \\로 경로 살리기\n",
        "print(r'C:\\programs\\nayana')  # r로 경로 살리기"
      ],
      "metadata": {
        "colab": {
          "base_uri": "https://localhost:8080/"
        },
        "id": "Sqs5F8wLLWvm",
        "outputId": "fde0c44a-c292-4641-c3ee-c24fed57cf49"
      },
      "execution_count": null,
      "outputs": [
        {
          "output_type": "stream",
          "name": "stdout",
          "text": [
            "raw string을 사용하지 않고고\b 문자 출력하기\n",
            "raw string을 사용하지 않지 않고고./.,,.\\\\b 문자 출력하기\n",
            "C:\\programs\n",
            "ayana\n",
            "C:\\programs\\nayana\n",
            "C:\\programs\\nayana\n"
          ]
        }
      ]
    },
    {
      "cell_type": "markdown",
      "source": [
        "#### 정규식 패턴\n",
        "- I : `IGNORECASE` 대소문자 미구분 \n",
        "- X : `VERBOSE` 정규식 안의 공백 무시\n",
        "- M : `MULTILINE` 여러 줄의 문자열에 대해 패턴을 탐색할 수 있게 함\n",
        "- S : `DOTALL` 점(.)을 줄바꾸기 문자도 포함하여 매치하게 함\n",
        "- L : `LOCATE` \\w, \\W, \\b, \\B를 현재의 로케일에 영향을 받음 ??\n",
        "- U : `UNICODE` \\w, \\W, \\b, \\B가 유니코드 문자 특성에 의존함 ??   \n",
        "\n",
        "위의 패턴은 아래와 같이 사용할 수 있으며 여러 패턴을 등록하려면 | 을 사용합니다."
      ],
      "metadata": {
        "id": "FHZf1ppME2z9"
      }
    },
    {
      "cell_type": "code",
      "source": [
        "import re\n",
        "\n",
        "s = \"\"\"\n",
        "c\n",
        "b\n",
        "A\n",
        "\"\"\"\n",
        "print(re.search('a', s, re.M|re.I)) # re.M(여러줄탐색) |(구분) re.I(대소문자미구분)"
      ],
      "metadata": {
        "colab": {
          "base_uri": "https://localhost:8080/"
        },
        "id": "jsTXnMVOGIQg",
        "outputId": "4970c31b-e54d-41e5-9c71-3975729cb249"
      },
      "execution_count": null,
      "outputs": [
        {
          "output_type": "stream",
          "name": "stdout",
          "text": [
            "<re.Match object; span=(5, 6), match='A'>\n"
          ]
        }
      ]
    },
    {
      "cell_type": "markdown",
      "source": [
        "#### re.compile\n",
        "- 자주쓰는 정규표현식이나 패턴을 지정\n",
        "- re.compile('정규표현식', 패턴)\n"
      ],
      "metadata": {
        "id": "p_mZlrVXGf0E"
      }
    },
    {
      "cell_type": "code",
      "source": [
        "# re.함수(컴파일, '문자열')\n",
        "phone = re.compile(\"\"\"\n",
        "010     \n",
        "-\\d{4}  \n",
        "-\\d{4} \n",
        "\"\"\", re.VERBOSE)\n",
        "\n",
        "a = '010-9695-3199abc'\n",
        "\n",
        "print(re.search(phone, a))"
      ],
      "metadata": {
        "colab": {
          "base_uri": "https://localhost:8080/"
        },
        "id": "Qwo0RKVmCASV",
        "outputId": "e8ee763f-46ea-46f4-88db-0f0d60c3caea"
      },
      "execution_count": null,
      "outputs": [
        {
          "output_type": "stream",
          "name": "stdout",
          "text": [
            "<re.Match object; span=(0, 13), match='010-9695-3199'>\n"
          ]
        }
      ]
    },
    {
      "cell_type": "code",
      "source": [
        "# 컴파일.함수('문자열')\n",
        "phone = re.compile(\"010-\\d{4}-\\d{4}\")\n",
        "\n",
        "info = ['홍길동 010-1234-1234', '고길동 010-5678-5679']\n",
        "\n",
        "for text in info:\n",
        "    match_object = phone.search(text)\n",
        "    print(match_object.group())"
      ],
      "metadata": {
        "colab": {
          "base_uri": "https://localhost:8080/"
        },
        "id": "hbw0So2KH_D4",
        "outputId": "656d8273-c25e-45c1-e435-efcec4144357"
      },
      "execution_count": null,
      "outputs": [
        {
          "output_type": "stream",
          "name": "stdout",
          "text": [
            "010-1234-1234\n",
            "010-5678-5679\n"
          ]
        }
      ]
    },
    {
      "cell_type": "markdown",
      "source": [
        "#### re.search\n",
        "- re.search('정규표현식', '문자열',패턴)\n",
        "- 정규표현식에 해당하는 글자 찾기"
      ],
      "metadata": {
        "id": "BzxlFLqi-i7V"
      }
    },
    {
      "cell_type": "code",
      "source": [
        "import re\n",
        "\n",
        "wordlist = [\"color\", \"colour\", \"work\", \"working\",\n",
        "            \"fox\", \"worker\", \"working\"]\n",
        "\n",
        "for word in wordlist:\n",
        "    if re.search('col.r', word): \n",
        "        print(word)"
      ],
      "metadata": {
        "colab": {
          "base_uri": "https://localhost:8080/"
        },
        "id": "lUBrutT3-Un6",
        "outputId": "47501510-f51b-421e-ba8d-b9b76089e0a2"
      },
      "execution_count": null,
      "outputs": [
        {
          "output_type": "stream",
          "name": "stdout",
          "text": [
            "color\n"
          ]
        }
      ]
    },
    {
      "cell_type": "markdown",
      "source": [
        "**점(.)은 하나의 문자를 뜻하고, *를 붙이면 개수 무시**"
      ],
      "metadata": {
        "id": "7b1k0lC49yXF"
      }
    },
    {
      "cell_type": "code",
      "source": [
        "import re \n",
        "\n",
        "print(re.search('w..w', 'wow'))\n",
        "print(re.search('w..w', 'woow'))\n",
        "print(re.search('w..w', 'wooow'))\n",
        "print(re.search('w.*w','wabcdefgw'))"
      ],
      "metadata": {
        "colab": {
          "base_uri": "https://localhost:8080/"
        },
        "id": "eCrAzFzS9GCW",
        "outputId": "3584a9ea-29b2-433e-8bea-4f7ecf635f99"
      },
      "execution_count": null,
      "outputs": [
        {
          "output_type": "stream",
          "name": "stdout",
          "text": [
            "None\n",
            "<re.Match object; span=(0, 4), match='woow'>\n",
            "None\n",
            "<re.Match object; span=(0, 9), match='wabcdefgw'>\n"
          ]
        }
      ]
    },
    {
      "cell_type": "markdown",
      "source": [
        "#### re.match\n",
        "- 문자열의 처음부터 정규표현식과 일치하는 값 불러오기\n",
        "- re.match('정규표현식', '문자열', 패턴) \n"
      ],
      "metadata": {
        "id": "4jhXOF0v_E3H"
      }
    },
    {
      "cell_type": "code",
      "source": [
        "regular_expressions = '<html><head><title>Title</title>'\n",
        "\n",
        "print(len(regular_expressions))\n",
        "print(re.match('<.*>',regular_expressions))     \n",
        "print(re.match('<.*>', regular_expressions).span())  # span 출력\n",
        "print(re.match('<.*>', regular_expressions).group()) # 일치하는 값 출력"
      ],
      "metadata": {
        "colab": {
          "base_uri": "https://localhost:8080/"
        },
        "id": "puyw33DQ_Jjr",
        "outputId": "828311a6-8b1b-4a27-9f8f-406e6373c015"
      },
      "execution_count": null,
      "outputs": [
        {
          "output_type": "stream",
          "name": "stdout",
          "text": [
            "32\n",
            "<re.Match object; span=(0, 32), match='<html><head><title>Title</title>'>\n",
            "(0, 32)\n",
            "<html><head><title>Title</title>\n"
          ]
        }
      ]
    },
    {
      "cell_type": "markdown",
      "source": [
        "#### rjust, ljust\n",
        "- 문자열.rjust(총 개수, \"지정문자\")\n",
        "- 문자열에 지정문자를 채워준다.(총 개수에서 모자란 만큼만)\n"
      ],
      "metadata": {
        "id": "kNMYVonb2kQs"
      }
    },
    {
      "cell_type": "code",
      "source": [
        "print(\"500\".rjust(5,\"0\"))"
      ],
      "metadata": {
        "colab": {
          "base_uri": "https://localhost:8080/"
        },
        "id": "TYwS_e0C3N4u",
        "outputId": "041d5d2c-2cb4-4f64-bbfa-56c220d1e449"
      },
      "execution_count": null,
      "outputs": [
        {
          "output_type": "stream",
          "name": "stdout",
          "text": [
            "00500\n"
          ]
        }
      ]
    },
    {
      "cell_type": "code",
      "source": [
        "print(\"50000\".rjust(5,\"0\"))"
      ],
      "metadata": {
        "colab": {
          "base_uri": "https://localhost:8080/"
        },
        "id": "mmAnyxDl3RpA",
        "outputId": "191daf40-b8d6-4017-b59b-ec8cb95e73bf"
      },
      "execution_count": null,
      "outputs": [
        {
          "output_type": "stream",
          "name": "stdout",
          "text": [
            "50000\n"
          ]
        }
      ]
    },
    {
      "cell_type": "code",
      "source": [
        "print(\"123\".rjust(5,\"0\"))\n",
        "print(\"123\".ljust(5,\"a\"))"
      ],
      "metadata": {
        "colab": {
          "base_uri": "https://localhost:8080/"
        },
        "id": "TfO5lOAv3Rgh",
        "outputId": "973ba1ca-106c-4795-81d8-bed5784ba3fc"
      },
      "execution_count": null,
      "outputs": [
        {
          "output_type": "stream",
          "name": "stdout",
          "text": [
            "00123\n",
            "123aa\n"
          ]
        }
      ]
    },
    {
      "cell_type": "markdown",
      "source": [
        "#### zfill(정수)\n",
        "- 문자열 앞에 정수만큼 0으로 채워줌"
      ],
      "metadata": {
        "id": "xPI5jBI63wR6"
      }
    },
    {
      "cell_type": "code",
      "source": [
        "# \"002\"\n",
        "print(\"2\".zfill(3))\n",
        " \n",
        "# \"5000\"\n",
        "print(\"5000\".zfill(5))\n",
        " \n",
        "# \"00123\"\n",
        "print(\"123\".zfill(5))"
      ],
      "metadata": {
        "colab": {
          "base_uri": "https://localhost:8080/"
        },
        "id": "SZyYI1KL3zw0",
        "outputId": "923ffe03-9fc4-469d-e878-66465cc3a097"
      },
      "execution_count": null,
      "outputs": [
        {
          "output_type": "stream",
          "name": "stdout",
          "text": [
            "002\n",
            "05000\n",
            "00123\n"
          ]
        }
      ]
    },
    {
      "cell_type": "markdown",
      "source": [
        "#### split(\"구분문자\")\n",
        "- 구분문자를 기준으로 문자열을 나눔"
      ],
      "metadata": {
        "id": "odGM_CKD4Tao"
      }
    },
    {
      "cell_type": "code",
      "source": [
        "string_ = \"Hello, I am Jack and I am a data scientist\"\n",
        "\n",
        "print(string_)\n",
        "print(string_[2]) # 글자 인덱스"
      ],
      "metadata": {
        "colab": {
          "base_uri": "https://localhost:8080/"
        },
        "id": "rCGb2jOL4FOs",
        "outputId": "3a893b77-6711-42aa-c6e5-ccc0e18b96a8"
      },
      "execution_count": null,
      "outputs": [
        {
          "output_type": "stream",
          "name": "stdout",
          "text": [
            "Hello, I am Jack and I am a data scientist\n",
            "l\n"
          ]
        }
      ]
    },
    {
      "cell_type": "code",
      "source": [
        "# 띄어쓰기로 단어 나누기\n",
        "string_list = string_.split(\" \")\n",
        "string_list"
      ],
      "metadata": {
        "colab": {
          "base_uri": "https://localhost:8080/"
        },
        "id": "fLPuJjpx4XWp",
        "outputId": "4f7e3a3c-1763-441d-f71e-5867cb58be50"
      },
      "execution_count": null,
      "outputs": [
        {
          "output_type": "execute_result",
          "data": {
            "text/plain": [
              "['Hello,', 'I', 'am', 'Jack', 'and', 'I', 'am', 'a', 'data', 'scientist']"
            ]
          },
          "metadata": {},
          "execution_count": 22
        }
      ]
    },
    {
      "cell_type": "code",
      "source": [
        "# 시작, 끝 단어 일치여부(bool)\n",
        "print(string_.startswith('Hello'))\n",
        "print(string_.endswith('scientist'))\n",
        "\n",
        "print(string_.endswith('tist'))"
      ],
      "metadata": {
        "colab": {
          "base_uri": "https://localhost:8080/"
        },
        "id": "OSxL4S3y4xih",
        "outputId": "c94ced9c-0397-4b68-aeea-a95f46bb9474"
      },
      "execution_count": null,
      "outputs": [
        {
          "output_type": "stream",
          "name": "stdout",
          "text": [
            "True\n",
            "True\n",
            "True\n"
          ]
        }
      ]
    },
    {
      "cell_type": "code",
      "source": [
        "print(string_)\n",
        "print(string_.replace(\"ntist\", \"hahaha\")) # 조금이라도 일치하면 변경"
      ],
      "metadata": {
        "colab": {
          "base_uri": "https://localhost:8080/"
        },
        "id": "kZqzTjKq5duk",
        "outputId": "73c964c5-c759-4cbe-833b-328e3048aa3a"
      },
      "execution_count": null,
      "outputs": [
        {
          "output_type": "stream",
          "name": "stdout",
          "text": [
            "Hello, I am Jack and I am a data scientist\n",
            "Hello, I am Jack and I am a data sciehahaha\n"
          ]
        }
      ]
    },
    {
      "cell_type": "markdown",
      "source": [
        "### 공배수"
      ],
      "metadata": {
        "id": "nFZ1ZmZQb33c"
      }
    },
    {
      "cell_type": "code",
      "source": [
        "# 100보다 작은 5와 7의 공배수\n",
        "abc = [i*a for i in range(11) for a in range(11) if i*a==35 or i*a==70]\n",
        "list(set(abc))"
      ],
      "metadata": {
        "colab": {
          "base_uri": "https://localhost:8080/"
        },
        "id": "xb9kCXq6b59r",
        "outputId": "3018f000-baab-4d40-e0f3-7beb38c9deeb"
      },
      "execution_count": null,
      "outputs": [
        {
          "output_type": "execute_result",
          "data": {
            "text/plain": [
              "[35, 70]"
            ]
          },
          "metadata": {},
          "execution_count": 122
        }
      ]
    },
    {
      "cell_type": "code",
      "source": [
        "[i*5*7 for i in range(1,100//(5*7)+1)]"
      ],
      "metadata": {
        "colab": {
          "base_uri": "https://localhost:8080/"
        },
        "id": "036KPyvLg2k4",
        "outputId": "bf701c40-5c09-408b-fff3-fef1a087e6b1"
      },
      "execution_count": null,
      "outputs": [
        {
          "output_type": "execute_result",
          "data": {
            "text/plain": [
              "[35, 70]"
            ]
          },
          "metadata": {},
          "execution_count": 123
        }
      ]
    },
    {
      "cell_type": "code",
      "source": [
        "# 소수가 맞는지 아닌지 찾는 함수\n",
        "def part3(N):\n",
        "    num = [i for i in range(1, N+1) if N%i == 0 ]\n",
        "    if len(num)==2:\n",
        "        return True\n",
        "    else:\n",
        "        return False\n",
        "\n",
        "part3(4)"
      ],
      "metadata": {
        "id": "kEYO5LlmHFQQ"
      },
      "execution_count": null,
      "outputs": []
    },
    {
      "cell_type": "code",
      "source": [
        "# 2~ N의 소수의 개수를 나타내주는 함수\n",
        "def part3(N):\n",
        "    if N <0:\n",
        "        raise ValueError\n",
        "    elif N ==1:\n",
        "        return 0\n",
        "    else: \n",
        "        answer = 0\n",
        "        for i in range(2, N+1):\n",
        "            count=0\n",
        "            for x in range(2, i):\n",
        "                if i%x ==0:\n",
        "                    count+=1\n",
        "            if count==0:\n",
        "                answer +=1\n",
        "        return answer\n",
        "\n",
        "part3(7)"
      ],
      "metadata": {
        "colab": {
          "base_uri": "https://localhost:8080/"
        },
        "id": "H3fLxu4HJRVJ",
        "outputId": "b49e6119-28a0-454a-90c6-6f73623ac89a"
      },
      "execution_count": null,
      "outputs": [
        {
          "output_type": "execute_result",
          "data": {
            "text/plain": [
              "4"
            ]
          },
          "metadata": {},
          "execution_count": 103
        }
      ]
    },
    {
      "cell_type": "markdown",
      "source": [
        "# Note2 의사코드, 컴프리헨션"
      ],
      "metadata": {
        "id": "xJKNWSQOt-Mq"
      }
    },
    {
      "cell_type": "markdown",
      "source": [
        "### Try"
      ],
      "metadata": {
        "id": "BkS8S1EvpA8E"
      }
    },
    {
      "cell_type": "markdown",
      "source": [
        "- try : 값을 받음\n",
        "- except : 에러발생 시, 에러를 표시하지 않고 문구로 대체\n",
        "- else : 수식에 사용할 조건\n",
        "- finally : 위의 구문과 상관없이 실행됨\n",
        "- raise : 에러를 일으킴"
      ],
      "metadata": {
        "id": "glAe2CZEqO-N"
      }
    },
    {
      "cell_type": "code",
      "source": [
        "# 제대로 된 값을 넣을 때 까지 반복재생\n",
        "while True:\n",
        "    try:\n",
        "        x = int(input(\"Please enter a number: \"))\n",
        "        break\n",
        "    except ValueError:\n",
        "        print(\"Oops!  That was no valid number.  Try again...\")"
      ],
      "metadata": {
        "colab": {
          "base_uri": "https://localhost:8080/"
        },
        "id": "3tZ56TiAqwtV",
        "outputId": "bcf36b09-b557-4aa4-c567-e75827c7542a"
      },
      "execution_count": null,
      "outputs": [
        {
          "name": "stdout",
          "output_type": "stream",
          "text": [
            "Please enter a number: 1\n"
          ]
        }
      ]
    },
    {
      "cell_type": "code",
      "source": [
        "# while True:가 없어서 단발성\n",
        "try:\n",
        "    age = int(input('나이를 입력하세요.'))\n",
        "\n",
        "except:\n",
        "    print('숫자만 입력하세요')\n",
        "\n",
        "else:\n",
        "    if age <= 0:\n",
        "        raise ValueError('0 이상의 숫자를 입력하세요.')\n",
        "    else:\n",
        "        if age > 13 and age<20:\n",
        "            print('당신은 청소년입니다.')\n",
        "        elif age <= 13:\n",
        "            print(\"당신은 어린이입니다.\")\n",
        "        else:\n",
        "            print('당신은 성인입니다.')\n",
        "finally:\n",
        "    print('반갑습니다.')"
      ],
      "metadata": {
        "id": "4BnapxcVuB-A",
        "colab": {
          "base_uri": "https://localhost:8080/"
        },
        "outputId": "4b681f81-741d-4722-cdbd-637a41b66b01"
      },
      "execution_count": null,
      "outputs": [
        {
          "output_type": "stream",
          "name": "stdout",
          "text": [
            "나이를 입력하세요.13\n",
            "당신은 어린이입니다.\n",
            "반갑습니다.\n"
          ]
        }
      ]
    },
    {
      "cell_type": "markdown",
      "source": [
        "# Note3 - Object Oriented Programming(OOP)"
      ],
      "metadata": {
        "id": "XtG_eqgQW9BA"
      }
    },
    {
      "cell_type": "markdown",
      "source": [
        "- 객체지향프로그래밍 : 재사용가능한 클래스, 메소드(기능) 설계\n",
        "- 클래스 : 객체를 정의하는 설계도, 반복되는 작업을 변수와 함수로 저장\n",
        "- 객체(object) : 소프트웨어에 구현할 대상\n",
        "- 인스턴스 : 객체에 메모리를 부여한 것"
      ],
      "metadata": {
        "id": "ZFehpoweeRCC"
      }
    },
    {
      "cell_type": "markdown",
      "source": [
        "![캡처.JPG](data:image/jpeg;base64,/9j/4AAQSkZJRgABAQEAYABgAAD/4RDaRXhpZgAATU0AKgAAAAgABAE7AAIAAAAFAAAISodpAAQAAAABAAAIUJydAAEAAAAKAAAQyOocAAcAAAgMAAAAPgAAAAAc6gAAAAgAAAAAAAAAAAAAAAAAAAAAAAAAAAAAAAAAAAAAAAAAAAAAAAAAAAAAAAAAAAAAAAAAAAAAAAAAAAAAAAAAAAAAAAAAAAAAAAAAAAAAAAAAAAAAAAAAAAAAAAAAAAAAAAAAAAAAAAAAAAAAAAAAAAAAAAAAAAAAAAAAAAAAAAAAAAAAAAAAAAAAAAAAAAAAAAAAAAAAAAAAAAAAAAAAAAAAAAAAAAAAAAAAAAAAAAAAAAAAAAAAAAAAAAAAAAAAAAAAAAAAAAAAAAAAAAAAAAAAAAAAAAAAAAAAAAAAAAAAAAAAAAAAAAAAAAAAAAAAAAAAAAAAAAAAAAAAAAAAAAAAAAAAAAAAAAAAAAAAAAAAAAAAAAAAAAAAAAAAAAAAAAAAAAAAAAAAAAAAAAAAAAAAAAAAAAAAAAAAAAAAAAAAAAAAAAAAAAAAAAAAAAAAAAAAAAAAAAAAAAAAAAAAAAAAAAAAAAAAAAAAAAAAAAAAAAAAAAAAAAAAAAAAAAAAAAAAAAAAAAAAAAAAAAAAAAAAAAAAAAAAAAAAAAAAAAAAAAAAAAAAAAAAAAAAAAAAAAAAAAAAAAAAAAAAAAAAAAAAAAAAAAAAAAAAAAAAAAAAAAAAAAAAAAAAAAAAAAAAAAAAAAAAAAAAAAAAAAAAAAAAAAAAAAAAAAAAAAAAAAAAAAAAAAAAAAAAAAAAAAAAAAAAAAAAAAAAAAAAAAAAAAAAAAAAAAAAAAAAAAAAAAAAAAAAAAAAAAAAAAAAAAAAAAAAAAAAAAAAAAAAAAAAAAAAAAAAAAAAAAAAAAAAAAAAAAAAAAAAAAAAAAAAAAAAAAAAAAAAAAAAAAAAAAAAAAAAAAAAAAAAAAAAAAAAAAAAAAAAAAAAAAAAAAAAAAAAAAAAAAAAAAAAAAAAAAAAAAAAAAAAAAAAAAAAAAAAAAAAAAAAAAAAAAAAAAAAAAAAAAAAAAAAAAAAAAAAAAAAAAAAAAAAAAAAAAAAAAAAAAAAAAAAAAAAAAAAAAAAAAAAAAAAAAAAAAAAAAAAAAAAAAAAAAAAAAAAAAAAAAAAAAAAAAAAAAAAAAAAAAAAAAAAAAAAAAAAAAAAAAAAAAAAAAAAAAAAAAAAAAAAAAAAAAAAAAAAAAAAAAAAAAAAAAAAAAAAAAAAAAAAAAAAAAAAAAAAAAAAAAAAAAAAAAAAAAAAAAAAAAAAAAAAAAAAAAAAAAAAAAAAAAAAAAAAAAAAAAAAAAAAAAAAAAAAAAAAAAAAAAAAAAAAAAAAAAAAAAAAAAAAAAAAAAAAAAAAAAAAAAAAAAAAAAAAAAAAAAAAAAAAAAAAAAAAAAAAAAAAAAAAAAAAAAAAAAAAAAAAAAAAAAAAAAAAAAAAAAAAAAAAAAAAAAAAAAAAAAAAAAAAAAAAAAAAAAAAAAAAAAAAAAAAAAAAAAAAAAAAAAAAAAAAAAAAAAAAAAAAAAAAAAAAAAAAAAAAAAAAAAAAAAAAAAAAAAAAAAAAAAAAAAAAAAAAAAAAAAAAAAAAAAAAAAAAAAAAAAAAAAAAAAAAAAAAAAAAAAAAAAAAAAAAAAAAAAAAAAAAAAAAAAAAAAAAAAAAAAAAAAAAAAAAAAAAAAAAAAAAAAAAAAAAAAAAAAAAAAAAAAAAAAAAAAAAAAAAAAAAAAAAAAAAAAAAAAAAAAAAAAAAAAAAAAAAAAAAAAAAAAAAAAAAAAAAAAAAAAAAAAAAAAAAAAAAAAAAAAAAAAAAAAAAAAAAAAAAAAAAAAAAAAAAAAAAAAAAAAAAAAAAAAAAAAAAAAAAAAAAAAAAAAAAAAAAAAAAAAAAAAAAAAAAAAAAAAAAAAAAAAAAAAAAAAAAAAAAAAAAAAAAAAAAAAAAAAAAAAAAAAAAAAAAAAAAAAAAAAAAAAAAAAAAAAAAAAAAAAAAAAAAAAAAAAAAAAAAAAAAAAAAAAAAAAAAAAAAAAAAAAAAAAAAAAAAAAAAAAAAAAAAAAAAAAAAAAAAAAAAAAAAAAAAAAAAAAAAAAAAAAAAAAAAAAAAAAAAAAAAAAAAAAAAAAAAAAAAAAAAAAAAAAAAAAAAAAAAAAAAAAAAAAAAAAAAAAAAAAAAAAAAAAAAAAAAAAAAAAAAAAAAAAAAAAAAAAAAAAAAAAAAAAAAAAAAAAAAAAAAAAAAAAAAAAAAAAAAAAAAAAAAAAAAAAAAAAAAAAAAAAAAAAAAAAAAAAAAAAAAAAAAAAAAAAAAAAAAAAAAAAAAAAAAAAAAAAAAAAAAAAAAAAAAAAAAAAAAAAAAAAAAAAAAAAAAAAAAAAAAAAAAAAAAAAAAAAAAAAAAAAAAAAAAAAAAAAAAAAAAAAAAAAAAAAAAAAAAAAAAAAAAAAAAAAAAAAAAAAAAAAAAAAAAAAAAAAAAAAAAAAAAAAAAAAAAAAAAAAAAAAAAAAAAAAAAAAAAAAAAAAAAAAAAAAAAAAAAAAAAAAAAAAAAAAAAAAAAAAAAAAAAAAAAAAAAAAAAAAAAAAAAAAAAAAAAAAAAAAAAAAAAAAAAAAAAAAAAAAAAAAAAAAAAAAAAAAAAAAAAAAAAAAAAAAAAAAAAAAAAAAAAAAAAAAAAAAAAAAAAAAAAAAAAAAAAAAAAAAAAAAAAAAAAAAAAAAAAAAAAAAAAAAAAAAAAAAAAAAAAAAAAAAAAAAAAAAAAAAAAAAAAAAAAAAAAAAAAAAAAAAAAAAAAAAAAAAAAAAAAAAAAAAAAAAAAAAAAAAAAAGVudnkAAAAFkAMAAgAAABQAABCekAQAAgAAABQAABCykpEAAgAAAAM1OAAAkpIAAgAAAAM1OAAA6hwABwAACAwAAAiSAAAAABzqAAAACAAAAAAAAAAAAAAAAAAAAAAAAAAAAAAAAAAAAAAAAAAAAAAAAAAAAAAAAAAAAAAAAAAAAAAAAAAAAAAAAAAAAAAAAAAAAAAAAAAAAAAAAAAAAAAAAAAAAAAAAAAAAAAAAAAAAAAAAAAAAAAAAAAAAAAAAAAAAAAAAAAAAAAAAAAAAAAAAAAAAAAAAAAAAAAAAAAAAAAAAAAAAAAAAAAAAAAAAAAAAAAAAAAAAAAAAAAAAAAAAAAAAAAAAAAAAAAAAAAAAAAAAAAAAAAAAAAAAAAAAAAAAAAAAAAAAAAAAAAAAAAAAAAAAAAAAAAAAAAAAAAAAAAAAAAAAAAAAAAAAAAAAAAAAAAAAAAAAAAAAAAAAAAAAAAAAAAAAAAAAAAAAAAAAAAAAAAAAAAAAAAAAAAAAAAAAAAAAAAAAAAAAAAAAAAAAAAAAAAAAAAAAAAAAAAAAAAAAAAAAAAAAAAAAAAAAAAAAAAAAAAAAAAAAAAAAAAAAAAAAAAAAAAAAAAAAAAAAAAAAAAAAAAAAAAAAAAAAAAAAAAAAAAAAAAAAAAAAAAAAAAAAAAAAAAAAAAAAAAAAAAAAAAAAAAAAAAAAAAAAAAAAAAAAAAAAAAAAAAAAAAAAAAAAAAAAAAAAAAAAAAAAAAAAAAAAAAAAAAAAAAAAAAAAAAAAAAAAAAAAAAAAAAAAAAAAAAAAAAAAAAAAAAAAAAAAAAAAAAAAAAAAAAAAAAAAAAAAAAAAAAAAAAAAAAAAAAAAAAAAAAAAAAAAAAAAAAAAAAAAAAAAAAAAAAAAAAAAAAAAAAAAAAAAAAAAAAAAAAAAAAAAAAAAAAAAAAAAAAAAAAAAAAAAAAAAAAAAAAAAAAAAAAAAAAAAAAAAAAAAAAAAAAAAAAAAAAAAAAAAAAAAAAAAAAAAAAAAAAAAAAAAAAAAAAAAAAAAAAAAAAAAAAAAAAAAAAAAAAAAAAAAAAAAAAAAAAAAAAAAAAAAAAAAAAAAAAAAAAAAAAAAAAAAAAAAAAAAAAAAAAAAAAAAAAAAAAAAAAAAAAAAAAAAAAAAAAAAAAAAAAAAAAAAAAAAAAAAAAAAAAAAAAAAAAAAAAAAAAAAAAAAAAAAAAAAAAAAAAAAAAAAAAAAAAAAAAAAAAAAAAAAAAAAAAAAAAAAAAAAAAAAAAAAAAAAAAAAAAAAAAAAAAAAAAAAAAAAAAAAAAAAAAAAAAAAAAAAAAAAAAAAAAAAAAAAAAAAAAAAAAAAAAAAAAAAAAAAAAAAAAAAAAAAAAAAAAAAAAAAAAAAAAAAAAAAAAAAAAAAAAAAAAAAAAAAAAAAAAAAAAAAAAAAAAAAAAAAAAAAAAAAAAAAAAAAAAAAAAAAAAAAAAAAAAAAAAAAAAAAAAAAAAAAAAAAAAAAAAAAAAAAAAAAAAAAAAAAAAAAAAAAAAAAAAAAAAAAAAAAAAAAAAAAAAAAAAAAAAAAAAAAAAAAAAAAAAAAAAAAAAAAAAAAAAAAAAAAAAAAAAAAAAAAAAAAAAAAAAAAAAAAAAAAAAAAAAAAAAAAAAAAAAAAAAAAAAAAAAAAAAAAAAAAAAAAAAAAAAAAAAAAAAAAAAAAAAAAAAAAAAAAAAAAAAAAAAAAAAAAAAAAAAAAAAAAAAAAAAAAAAAAAAAAAAAAAAAAAAAAAAAAAAAAAAAAAAAAAAAAAAAAAAAAAAAAAAAAAAAAAAAAAAAAAAAAAAAAAAAAAAAAAAAAAAAAAAAAAAAAAAAAAAAAAAAAAAAAAAAAAAAAAAAAAAAAAAAAAAAAAAAAAAAAAAAAAAAAAAAAAAAAAAAAAAAAAAAAAAAAAAAAAAAAAAAAAAAAAAAAAAAAAAAAAAAAAAAAAAAAAAAAAAAAAAAAAAAAAAAAAAAAAAAAAAAAAAAAAAAAAAAAAAAAAAAAAAAAAAAAAAAAAAAAAAAAAAAAAAAAAAAAAAAAAAAAAAAAAAAAAAAAAAAAAAAAAAAAAAAAAAAAAAAAAAAAAAAAAAAAAAAAAAAAAAAAAAAAAAAAAAAAAAAAAAAAAAAAAAAAAAAAAAAAAAAAAAAAAAAAAAAAAAAAAAAAAAAAAAAAAAAAAAAAAAAAAAAAAAAAAAAAAAAAAAAAAAAAAAAAAAAAAAAAAAAAAAAAAAAAAAAAAAAAAAAAAAAAAAAAAAAAAAAAAAAAAAAAAAAAAAAAAAAAAAAAAAAAAAAAAAAAAAAAAAAAAAAAAAAAAAAAAAAAAAAAAAAAAAAAAAAAAAAAAAAAAAAAAAAAAAAAAAAAAAAAAAAAAAAAAAAAAAAAAAAAAAAAAAAAAAAAAAAAAAAAAAAAAAAAAAAAAAAAAAAAAAAAAAAAAAAAAAAAAAAAAAAAAAAAAAAAAAAAAAAAAAAAAAAAAAAAAAAAAAAAAAAAAAAAAAAAAAAAAAAAAAAAAAAAAAAAAAAAAAAAAAAAAAAAAAAAAAAAAAAAAAAAAAAAAAAAAAAAAAAAAAAAAAAAAAAAAAAAAAAAAAAAAAAAAAAAAAAAAAAAAAAAAAAAAAAAAAAAAAAAAAAAAAAAAAAAAAAAAAAAAAAAAAAAAAAAAAAAAAAAAAAAAAAAAAAAAAAAAAAAAAAAAAAAAAAAAAAAAAAAAAAAAAAAAAAAAAAAAAAAAAAAAAAAAAAAAAAAAAAAAAAAAAAAAAAAAAAAAAAAAAAAAAAAAAAAAAAAAAAAAAAAAAAAAAAAAAAAAAAAAAAAAAAAAAAAAAAAAAAAAAAAAAAMjAyMjoxMjoxNSAyMzozNDowNQAyMDIyOjEyOjE1IDIzOjM0OjA1AAAAZQBuAHYAeQAAAP/hCxdodHRwOi8vbnMuYWRvYmUuY29tL3hhcC8xLjAvADw/eHBhY2tldCBiZWdpbj0n77u/JyBpZD0nVzVNME1wQ2VoaUh6cmVTek5UY3prYzlkJz8+DQo8eDp4bXBtZXRhIHhtbG5zOng9ImFkb2JlOm5zOm1ldGEvIj48cmRmOlJERiB4bWxuczpyZGY9Imh0dHA6Ly93d3cudzMub3JnLzE5OTkvMDIvMjItcmRmLXN5bnRheC1ucyMiPjxyZGY6RGVzY3JpcHRpb24gcmRmOmFib3V0PSJ1dWlkOmZhZjViZGQ1LWJhM2QtMTFkYS1hZDMxLWQzM2Q3NTE4MmYxYiIgeG1sbnM6ZGM9Imh0dHA6Ly9wdXJsLm9yZy9kYy9lbGVtZW50cy8xLjEvIi8+PHJkZjpEZXNjcmlwdGlvbiByZGY6YWJvdXQ9InV1aWQ6ZmFmNWJkZDUtYmEzZC0xMWRhLWFkMzEtZDMzZDc1MTgyZjFiIiB4bWxuczp4bXA9Imh0dHA6Ly9ucy5hZG9iZS5jb20veGFwLzEuMC8iPjx4bXA6Q3JlYXRlRGF0ZT4yMDIyLTEyLTE1VDIzOjM0OjA1LjU3NjwveG1wOkNyZWF0ZURhdGU+PC9yZGY6RGVzY3JpcHRpb24+PHJkZjpEZXNjcmlwdGlvbiByZGY6YWJvdXQ9InV1aWQ6ZmFmNWJkZDUtYmEzZC0xMWRhLWFkMzEtZDMzZDc1MTgyZjFiIiB4bWxuczpkYz0iaHR0cDovL3B1cmwub3JnL2RjL2VsZW1lbnRzLzEuMS8iPjxkYzpjcmVhdG9yPjxyZGY6U2VxIHhtbG5zOnJkZj0iaHR0cDovL3d3dy53My5vcmcvMTk5OS8wMi8yMi1yZGYtc3ludGF4LW5zIyI+PHJkZjpsaT5lbnZ5PC9yZGY6bGk+PC9yZGY6U2VxPg0KCQkJPC9kYzpjcmVhdG9yPjwvcmRmOkRlc2NyaXB0aW9uPjwvcmRmOlJERj48L3g6eG1wbWV0YT4NCiAgICAgICAgICAgICAgICAgICAgICAgICAgICAgICAgICAgICAgICAgICAgICAgICAgICAgICAgICAgICAgICAgICAgICAgICAgICAgICAgICAgICAgICAgICAgICAgICAgICAKICAgICAgICAgICAgICAgICAgICAgICAgICAgICAgICAgICAgICAgICAgICAgICAgICAgICAgICAgICAgICAgICAgICAgICAgICAgICAgICAgICAgICAgICAgICAgICAgICAgIAogICAgICAgICAgICAgICAgICAgICAgICAgICAgICAgICAgICAgICAgICAgICAgICAgICAgICAgICAgICAgICAgICAgICAgICAgICAgICAgICAgICAgICAgICAgICAgICAgICAgCiAgICAgICAgICAgICAgICAgICAgICAgICAgICAgICAgICAgICAgICAgICAgICAgICAgICAgICAgICAgICAgICAgICAgICAgICAgICAgICAgICAgICAgICAgICAgICAgICAgICAKICAgICAgICAgICAgICAgICAgICAgICAgICAgICAgICAgICAgICAgICAgICAgICAgICAgICAgICAgICAgICAgICAgICAgICAgICAgICAgICAgICAgICAgICAgICAgICAgICAgIAogICAgICAgICAgICAgICAgICAgICAgICAgICAgICAgICAgICAgICAgICAgICAgICAgICAgICAgICAgICAgICAgICAgICAgICAgICAgICAgICAgICAgICAgICAgICAgICAgICAgCiAgICAgICAgICAgICAgICAgICAgICAgICAgICAgICAgICAgICAgICAgICAgICAgICAgICAgICAgICAgICAgICAgICAgICAgICAgICAgICAgICAgICAgICAgICAgICAgICAgICAKICAgICAgICAgICAgICAgICAgICAgICAgICAgICAgICAgICAgICAgICAgICAgICAgICAgICAgICAgICAgICAgICAgICAgICAgICAgICAgICAgICAgICAgICAgICAgICAgICAgIAogICAgICAgICAgICAgICAgICAgICAgICAgICAgICAgICAgICAgICAgICAgICAgICAgICAgICAgICAgICAgICAgICAgICAgICAgICAgICAgICAgICAgICAgICAgICAgICAgICAgCiAgICAgICAgICAgICAgICAgICAgICAgICAgICAgICAgICAgICAgICAgICAgICAgICAgICAgICAgICAgICAgICAgICAgICAgICAgICAgICAgICAgICAgICAgICAgICAgICAgICAKICAgICAgICAgICAgICAgICAgICAgICAgICAgICAgICAgICAgICAgICAgICAgICAgICAgICAgICAgICAgICAgICAgICAgICAgICAgICAgICAgICAgICAgICAgICAgICAgICAgIAogICAgICAgICAgICAgICAgICAgICAgICAgICAgICAgICAgICAgICAgICAgICAgICAgICAgICAgICAgICAgICAgICAgICAgICAgICAgICAgICAgICAgICAgICAgICAgICAgICAgCiAgICAgICAgICAgICAgICAgICAgICAgICAgICAgICAgICAgICAgICAgICAgICAgICAgICAgICAgICAgICAgICAgICAgICAgICAgICAgICAgICAgICAgICAgICAgICAgICAgICAKICAgICAgICAgICAgICAgICAgICAgICAgICAgICAgICAgICAgICAgICAgICAgICAgICAgICAgICAgICAgICAgICAgICAgICAgICAgICAgICAgICAgICAgICAgICAgICAgICAgIAogICAgICAgICAgICAgICAgICAgICAgICAgICAgICAgICAgICAgICAgICAgICAgICAgICAgICAgICAgICAgICAgICAgICAgICAgICAgICAgICAgICAgICAgICAgICAgICAgICAgCiAgICAgICAgICAgICAgICAgICAgICAgICAgICAgICAgICAgICAgICAgICAgICAgICAgICAgICAgICAgICAgICAgICAgICAgICAgICAgICAgICAgICAgICAgICAgICAgICAgICAKICAgICAgICAgICAgICAgICAgICAgICAgICAgICAgICAgICAgICAgICAgICAgICAgICAgICAgICAgICAgICAgICAgICAgICAgICAgICAgICAgICAgICAgICAgICAgICAgICAgIAogICAgICAgICAgICAgICAgICAgICAgICAgICAgICAgICAgICAgICAgICAgICAgICAgICAgICAgICAgICAgICAgICAgICAgICAgICAgICAgICAgICAgICAgICAgICAgICAgICAgCiAgICAgICAgICAgICAgICAgICAgICAgICAgICAgICAgICAgICAgICAgICAgICAgICAgICAgICAgICAgICAgICAgICAgICAgICAgICAgICAgICAgICAgICAgICAgICAgICAgICAKICAgICAgICAgICAgICAgICAgICAgICAgICAgICAgICAgICAgICAgICAgICAgICAgICAgICAgICAgICAgICAgICAgICAgICAgICAgICAgICAgICAgICAgICAgICAgICAgICAgIAogICAgICAgICAgICAgICAgICAgICAgICAgICAgPD94cGFja2V0IGVuZD0ndyc/Pv/bAEMABwUFBgUEBwYFBggHBwgKEQsKCQkKFQ8QDBEYFRoZGBUYFxseJyEbHSUdFxgiLiIlKCkrLCsaIC8zLyoyJyorKv/bAEMBBwgICgkKFAsLFCocGBwqKioqKioqKioqKioqKioqKioqKioqKioqKioqKioqKioqKioqKioqKioqKioqKioqKv/AABEIAUYDHgMBIgACEQEDEQH/xAAfAAABBQEBAQEBAQAAAAAAAAAAAQIDBAUGBwgJCgv/xAC1EAACAQMDAgQDBQUEBAAAAX0BAgMABBEFEiExQQYTUWEHInEUMoGRoQgjQrHBFVLR8CQzYnKCCQoWFxgZGiUmJygpKjQ1Njc4OTpDREVGR0hJSlNUVVZXWFlaY2RlZmdoaWpzdHV2d3h5eoOEhYaHiImKkpOUlZaXmJmaoqOkpaanqKmqsrO0tba3uLm6wsPExcbHyMnK0tPU1dbX2Nna4eLj5OXm5+jp6vHy8/T19vf4+fr/xAAfAQADAQEBAQEBAQEBAAAAAAAAAQIDBAUGBwgJCgv/xAC1EQACAQIEBAMEBwUEBAABAncAAQIDEQQFITEGEkFRB2FxEyIygQgUQpGhscEJIzNS8BVictEKFiQ04SXxFxgZGiYnKCkqNTY3ODk6Q0RFRkdISUpTVFVWV1hZWmNkZWZnaGlqc3R1dnd4eXqCg4SFhoeIiYqSk5SVlpeYmZqio6Slpqeoqaqys7S1tre4ubrCw8TFxsfIycrS09TV1tfY2dri4+Tl5ufo6ery8/T19vf4+fr/2gAMAwEAAhEDEQA/APpGiiigAooooAKKKKACiiigAooooAKKKKACiiigAooooAKKKKACiiigAooooAKKKKACiiigAooooAKKKKACiiigAooooAKKKKACiiigAooooAKKKKACiiigAoorNbWoxNLHHaXMvlOUZkVcZHXqaANKis3+2f8ApwvP++U/+Ko/tn/pwvP++U/+KoA0qKzf7Z/6cLz/AL5T/wCKo/tn/pwvP++U/wDiqANKis3+2f8ApwvP++U/+Ko/tn/pwvP++U/+KoA0qKzf7Z/6cLz/AL5T/wCKo/tn/pwvP++U/wDiqANKis3+2f8ApwvP++U/+Ko/tn/pwvP++U/+KoA0qKzf7Z/6cLz/AL5T/wCKo/tn/pwvP++U/wDiqANKis3+2f8ApwvP++U/+Ko/tn/pwvP++U/+KoA0qKzf7Z/6cLz/AL5T/wCKo/tn/pwvP++U/wDiqANKis3+2f8ApwvP++U/+KpP7a/6h95/3yn/AMVQBp0Vmf21/wBQ+8/75T/4qj+2v+ofef8AfKf/ABVAGnRWZ/bX/UPvP++U/wDiqs298LmzW4ihlwxI2EDcMHHrigC1RUUczSEgwSJgZywHP600XLFgPs0wyepA4/WgCeioZJ2Ryoglf3UDH86UzMIlfyZCT/CAMj9aAJaKiSZnDZhkTAz8wHP601bhmYA20y5PUgYH60AT0VC9wyOVFvK+O6gYP60rTMqKwgkbd/CMZH15oAloqJJmZWJhkXaOhxk/TmkS4ZnCm3mXPcgYH60ATUVA1wysQLaZsHqAMH9ac8zIqkQyPuHRccfXmgCWiolmZo2byJAV/hIGT9OaSOdncKbeVPdgMfzoAmoqBrllYj7NMcHqAOf1p0kzJjEEj5GflA4/WgCWiohMxiL+TICD90gZP60RztI+0wSp7sBj+dAEtFQG5YHH2WY++F/xp0kzRtgQySe64/qaAJaKi85vJ3+TJnONmBn+dEczSMQYJE4zlgP8aAJaKg+0tnH2ab64X/GnSTtG2BBK/uoGP50AS0VEZmEQfyJCScbcDI/WiOZnzmGRMDPzAc/rQBLRVSW/EKbpbeZRnHQf41PBOlxHvjPHQg9QfQ0ASUUUUAFFFFABRRRQAUUUUAFFFFABRRRQAUUUUAFFFFABRRRQAUUUUAFFFFABRRRQAUUUUAFFFFABRRRQAUUUUAFFFFABRRRQAUUUUAFFFFABRRRQAUUUUAFFFFABRRRQAVhWX+svf+vqT+dbtYVl/rL3/r6k/nQBaooooAKKKKACiiuQ+IPiyTwvZ6a9oWeaW9jaeKOPe/2VTunYD2TPNAHX0Vx3irxQNNvvC93Z3Msthe3TiT7JGZvOTyWYYCgkjIB4qC+1+/v/ABjeaRBrFvoNvaWsM8bzwgyXXmbiSN5ACrgAjrk9qAO4orzy18VanqFn4Zla4QGfXJLKaa3GI7uNElwwBzgMVB69utdj4h1y18NeHb3WNQ3fZ7OIyMF6t6Ae5OBQBpUVwD6n8Ro9G/txtP0oqE846Ku8zhOu3zenmY7YxmtW08VzXPjhNKkgFtZtoq6kfPXZJGxkC7W7DAPPvQB1VFYGn+OPDOqaklhp+s2s9zJny41f/WY67T0b8KfL408OQasdMm1i1S8EgiMZfo/90npu9utAG5RWJqXjHw9o9+bLU9Wtra4ABaN3+4D03emfetpWDqGQhlYZBHcUALRRRQAUUUUAFS6N/wAgtP8Aef8A9CNRVLo3/ILT/ef/ANCNAF6iiigAooooAKKKKACiiigAooooAKKKKACiiigAooooAKKKKACiiigAooooAKKKKACo7i4jtoWlmbaq96koIB6jNAGOs32uTznZWI+6inIT/wCvQ0n2WTz42VW6MrHAcen1qWUAahNgY+Ven40iAG+t8jPLfyoAv21zHdQCWFsqf0PpUtAAHQYooAKKKKACiiigAooooAKKKKACiiigAooooAKKKKACiiigAooooAKKKKACiiigAooooAKKKKACiiigAooooAKKKKACiiigAooooAKKKKACiiigAooooAKKKKACiiigArCsv9Ze/wDX1J/Ot2sKy/1l7/19SfzoAtUUUUAFFFFABXDeIZIND8Z2p0y2s01XXEdX1DUpWMcUcQX92oz1O7IUYBwSa7mq17p9lqVuYNRtILuEnJjniV1/IjFAHnNta/2T4v8ADmlzf2VJCbue4hXScxmKQxtuZ4yW+Q5PIIwccVa+IOjXpW0uZtTjuIZ9Tt7ZLe5063lEKyyBTtLKTkA12unaDpGkMzaTpVlYlhhjbW6R5+u0CrssMU6qJo0kCsHUOoOGByD9RQBwWs6Tc6TqvhSO41Se/Q6wgjSSKKNYgIJuFCKOuR1z0FbPxG0S68Q/D/VNP05d920QkhQ/xspDBfxxiuhntLe5khe5gilaB/MiZ0DGNsEblz0OCRkepqagDgpfizop8Pme1Sd9aaLCaO0L/aPOx/qyuOmeN3THOaxdYudRi8W39/qOjrc3f/CHFp7FMujSGUFo89x1HvXqnlR+Zv2Lv/vY5p2BuzgZxjOKAPDLjUGvr7wP5Ws22oJBq1s7W2naf5UNmmxlwz8kYyFAJGeeOKdfXsOkf2tHo16JS+pvJJ4W1qwWSSaUy5JiZcnBPzKfmA9q9vEUajCxqBnPC96DGhkDlFLjo2OaAPH/ABNdQad4g8RTWmq/2Xd3Cxtc6Tq1ks8GoERADysfMQQAuAevavU9AmluPDemzXFmLGWS1iZ7VRgQEqCUx7dPwq60aOwLorEdCRnFPoAKKKKACiiigAqXRv8AkFp/vP8A+hGoql0b/kFp/vP/AOhGgC9RRRQAUUUUAFFFFABRRRQAUUUUAFFFFABRRRQAUUUUAFFFFABRRRQAUUUUAFFFFABRRRQBmTf8hGb/AHV/rSR/8f8Ab/Vv5Us3/IRm/wB1f60kf/H/AG/1b+VAGpRRRQAUUUUAFFFFABRRRQAUUUUAFFFFABRRRQAUUUUAFFFFABRRRQAUUUUAFFFFABRRRQAUUUUAFFFFABRRRQAUUUUAFFFFABRRRQAUUUUAFFFFABRRRQAUUUUAFFFFABWFZf6y9/6+pP51u1kjS7uKadoLiHZLK0mHQkjPbrQA+ik+w3//AD8W/wD37P8AjR9hv/8An4t/+/Z/xoAWik+w3/8Az8W//fs/40fYb/8A5+Lf/v2f8aAFopPsN/8A8/Fv/wB+z/jR9hv/APn4t/8Av2f8aAFopPsN/wD8/Fv/AN+z/jR9hv8A/n4t/wDv2f8AGgBaKT7Df/8APxb/APfs/wCNH2G//wCfi3/79n/GgBaKb9h1D/n4t/8Av23+NH2HUP8An4t/+/Z/xoAdRTfsOof8/Fv/AN+z/jR9h1D/AJ+Lf/v2f8aAHUU37DqH/Pxb/wDftv8AGj7DqH/Pxb/9+z/jQA6im/YdQ/5+Lf8A79n/ABo+w6h/z8W//fs/40AOopv2HUf+fi3/AO/bf40fYdQ/5+Lf/v2f8aAHVLo3/ILT/ef/ANCNQfYdQ/5+Lf8A79n/ABqzp9rPZ2whkkjcDJBVSOSc+tAFyioFW63Dc8WM84U/40sguC58t4wvYMpJ/nQBNRUTCfy12tGH7kqcUIJwreY0ZOPlwpGKAJaKgVbrcN7xFe+FP+NK63Jc+W8YXsCpz/OgCaiomE+xdjRhv4iVODQgn2NvaMt/CQpwKAJaKhRbkOPMeIr3AU5/nSMt1uOx4gueMqf8aAJ6KicTkL5bRg4+bcpNCi48ttzR7/4SFOKAJaKhjFwHHmvGV7hVIP8AOkZbrcdrxYzxlT/jQBPRUUgnOPKaMcc7lJ5oAn8ogtH5meDtOMUAS0VFGLgP+9eMr/sqQf500rd54kix/un/ABoAnoqGczLlkkjRAMkuD/jVSHUZAwNwqiFjgOARj3I9KANGijOelFABRRRQAUUUUAZk3/IRm/3V/rSR/wDH/b/Vv5Us3/IRm/3V/rSR/wDH/b/Vv5UAalFFFABRRRQAUUUUAFFFFABRRRQAUUUUAFFFFABRRRQAUUUUAFFFFABRRRQAUUUUAFFFFABRRRQAUUUUAFFFFABRRRQAUUUUAFFFFABRRRQAUUUUAFFFFABRRRQAUUUUAFFFFABRRRQAUUUUAFFFFABRRRQAUUUUAFFFFABRRRQAUUUUAFFFFABRRRQAUUUUAFFFFABRRRQAUUUUAFFFFABRRRQAUUUUAFFFFABRRRQAUUUUAZd7LM82JoZFgVsDphj6nmg4wc9Ks6l/x5/8DX+dVj0NAC6bLMCqrDIbZxuRmx8v69K06rad/wAgu2/65L/KrNABRRRQAUUUUAZk3/IRm/3V/rSR/wDH/b/Vv5Us3/IRm/3V/rSR/wDH/b/Vv5UAalFFFABRRRQAUUVVuL5beYReVJI23d8mOB+JoAtUVR/tP/p1n/8AHf8AGj+0/wDp1n/8d/xoAvUVR/tP/p1n/wDHf8aP7T/6dZ//AB3/ABoAvUVR/tP/AKdZ/wDx3/Gj+0/+nWf/AMd/xoAvUVR/tP8A6dZ//Hf8aP7T/wCnWf8A8d/xoAvUVR/tP/p1n/8AHf8AGj+0/wDp1n/8d/xoAvUVR/tP/p1n/wDHf8aP7T/6dZ//AB3/ABoAvUVR/tP/AKdZ/wDx3/Gj+0/+nWf/AMd/xoAvUVR/tP8A6dZ//Hf8aP7T/wCnWf8A8d/xoAvUVR/tP/p1n/8AHf8AGj+0/wDp1n/8d/xoAvUVR/tP/p1n/wDHf8aP7T/6dZ//AB3/ABoAvUVR/tP/AKdZ/wDx3/GprW7W6LgI6MhGQ2O/0oAsUUUUAFFFFABRRRQAUUUUAFFFFABRRRQAUUUUAFFFFABRRRQAUUUUAFFFUm1NRI6JBK+xipKgYyPxoAu0VR/tP/p1n/8AHf8AGj+0/wDp1n/8d/xoAvUVR/tP/p1n/wDHf8aP7T/6dZ//AB3/ABoAvUVR/tP/AKdZ/wDx3/Gj+0/+nWf/AMd/xoAvUVR/tP8A6dZ//Hf8aP7T/wCnWf8A8d/xoAvUVR/tP/p1n/8AHf8AGj+0/wDp1n/8d/xoAvUVR/tP/p1n/wDHf8aP7T/6dZ//AB3/ABoAvUVR/tP/AKdZ/wDx3/Gj+0/+nWf/AMd/xoAvUVR/tP8A6dZ//Hf8aP7T/wCnWf8A8d/xoAvUVR/tP/p1n/8AHf8AGj+0/wDp1n/8d/xoAvUVR/tP/p1n/wDHf8aP7T/6dZ//AB3/ABoAvUVR/tP/AKdZ/wDx3/GpIr4zRh47aYqf93/GgC1RUTzMqKRBIxbqBjI/WhZnZGYwSKR0U4yf1oAloqFJ3ZwDbyKD3OMD9aRrh1YgW0rAHqNvP60AT0VE8zoFxBI+Rk4xx+tAmYxsxgkBHRTjJ/WgCWioY53dwrW8iD+82MD9aQ3EgJAtZT7jbz+tAE9FRSTMhG2CR8j+HHH5mgTP5RfyJAc42cZP60AS0VCtwTkyQvEoGSzkYH60lreRXany8hl6qwwR70AT0UUUAFFFFABRRRQBU1L/AI8/+Br/ADqsehqzqX/Hn/wNf51WPQ0AW9O/5Bdt/wBcl/lVmq2nf8gu2/65L/KrNABTJJooQDNIkYPQswGafVW4AN7agjIy3X/doAf9utP+fmH/AL+Cj7daf8/MP/fwVL5af3F/Kjy0/uL+VAGTNdQG/mYTxkFVwd4560iXMAvYCZo8AnJ3jjitfy0/uL+VHlp/cX8qAIvt1p/z8w/9/BR9utP+fmH/AL+CpfLT+4v5UeWn9xfyoASOaKYEwyJIB12sDin1WgAF/cgDAwnT8as0AFZl1/yFD/1xH8zWnWZdf8hQ/wDXEfzNABRRRQAUUUUAFFFFABRWR4o8RW3hXw7c6teI8qQgBIY/vSuThUHuSQK5ibWPiNp1sNWvtG0i6swQ0ul2Jla8RD/dc/K7D0CjOKAO+ormrLxRJP401jS7lYYLHT7G3uxM+UYeZv3b8nAACjsMc1No/jnwv4g1A2Gja5ZXl0AW8qKUFmA6keo+lAG/RWCnjfwzLrx0WPXbFtREhj+zCYbt46r/AL3t1pb3xt4Z03WRpN/rllb35IHkSTAMCegPoT6GgDdoorgp/iJLB8Tk0NraE6M0wsGvQTuW9aPzFTrjG3j13fSgDvaKKKACiiigAooooAKfp3/H1dfVP5Uyn6d/x9XX1T+VAGhRRRQAUUUUAFFFFABRRRQAUUUUAFFFFABRRRQAUUUUAFFFFABRRRQAVjQ/665/67v/ADrZrGh/11z/ANd3/nQBNRRRQAUUUUAFFFFABRXN+LPE1zos2n6bo9ml7q+qOyWsMr7I1CgF5HI52qCOnJyBVLTtU8a6drlpaeKNP06+s71ii3mjpKPsrAZ/eK5PynGNwI5+tAHY0Vymi+NbeXw3f6v4juLTToLTUbm08xm2LtjlZF6n7xA7d+1aWleLvD+t6fc32laxaXNra83EqygCHjOWz93gHr6UAbNFYuieMfDviOWWPQtZs76SFd0iRSgsq/3sdce/So9L8b+GNb1NtO0nXbG7uxn9zFMCWx12/wB7HtmgDeormfH/AIhv/DPhN9Q0iK2lvGuYII1ugxjzJKqZO0g8bqxj4o8X+Htd0e18YWejT2mr3YsoptKeUPFKVLKWV85X5TnGMUAd/RRRQAUUUUAFFFFABVjTP+PBPq38zVerGmf8eCfVv5mgC3RRRQAUUUUAFFFFABRRRQAUjMEUsxAUDJJ7UtBAIwRkHtQBkyXS38mFYeSvITPLe59vaklBUiVHEcidGPT6H2qa7jRLyLYirlGzgY7ioLgAogIyDLHkH/fFAF+yvY7yM7SA6cOoOcH/AAqzTVjRM7EVc9cDFOoAKKKKACiiigCpqX/Hn/wNf51WPQ1Z1L/jz/4Gv86rHoaALenf8gu2/wCuS/yqzVbTv+QXbf8AXJf5VZoAKrT/APH9a/Vv/Qas1Wn/AOP61+rf+g0AWar397Bp2nz3l3IsUMEbSO7nAUAZ5qxWfrti2oaLcxQQ281yqF7UXKBkWYDMbEH0bBoA5i38fNdaPoV4luRPdX32TULNImea3bypH27OoOVU8/wnPfNXdZ8WXdrqlrbaVpk1wnnlLkzRNEZAFJKQbsb3GN3GRhSM5xWXYaJqc3iLS7yW2vxJDN5t7LfvCytiJ0BXYM7gXwOwBNW9S+G9pqGoyXa6hNDlzIkYijYRkjnBYE9z+dAHV2N7HqFmlzCk0avn5J4WidcHGCrAEVYrF8JafPpnhm2t72MR3PJmA7tnr6cgDpW1QBWh/wCQhc/7qf1qzVaH/kIXP+6n9as0AFZl1/yFD/1xH8zWnWZdf8hQ/wDXEfzNABRRRQAUUUUAFFFFAHI/EzSr3VPBch0uA3N1ZXMN7Hbr1m8qQPsHuQKzrz4u6BJpX/FPyNqWtSjZb6SEZZjJ/ddcfLjuT0xXf00IgcuFUMRgtjk0AeReIr2W013xzdXelR30o0KxM1kWZoySZNwJGCVHJ4xkCs6LVPt3j7wVN/wkdjrSRXLxA6bYiG3td0RxHvySSccKSOFPFe4U1VVFwihR6AYoA8Hg1K30drWw0LUodSt11Uf8Utqtn/plvIZfmZHU54yWBIxjuas+KNQttH1HxGml6xAss92ZLrw1rFlv+3OcYMLKd2GwMdefSvb9ieZv2rvxjdjnFBjRnDMqll6EjkUAZOqa2mieD7jWb2LyBbWnnvET90hc7fz4rypPh34yn+G8mdasBNdSf2y0DWBMwuSfNx5u/rn5c7ele20UAY3hLX4vE/hLTtYgPF1CC6/3HHDqfcMCPwrZoooAKKKKACiiigAp+nf8fV19U/lTKfp3/H1dfVP5UAaFFFFABRRRQAUUUUAFFFFABRRRQAUUUUAFFFFABRRRQAUUUUAFFFFABWND/rrn/ru/862axof9dc/9d3/nQBNRRRQAUUUUAFFFFAHCeOHOh+MPDniyeKWTTrBLi1vXjQv5CShcSEDnaCmCferEPxI07WtesNM8HlNbMsmbyaEsI7SHB+ZmxjcTgBe9dnTURUGEUKM5wBigDxRtU/szwxbkpZQiTxXf41LUI2khsGE0mJCoIyT0GSBzVS1ms9V17xtHqup3GuWt3osDSXWn2ghaZVdgWiUZDBc9cnvXu7KrqVcBlPUEZzS9KAPF9E1j7f4sSx/tCy8Z2cuk3KNqFjaeVd2UW0YjYqdp39AODkdqreF9Witta8K6do+rWniWyjlEUNhc2fl3+kpsILMy8fLgK24DOfxr29UVM7FVcnJwMZNARVYsqgM3UgcmgDgvjSYF+G0pvHMduL6zMrhiNq/aEycjkcVxU8vhOXxJod18NdSvNW1yK9RCvmy3MaQNxKXMmQgx3GDXulFABRRRQAUUUUAFFFFABVjTP+PBPq38zVerGmf8eCfVv5mgC3RRRQAUUUUAFFFFABRRRQAUUUUAUL7/AI/Iv9xv5iq0/wB2P/rrH/6GKs33/H5F/uN/MVWn+7H/ANdY/wD0MUAbFFFFABRRRQAUUUUAVNS/48/+Br/Oqx6GrOpf8ef/AANf51WPQ0AW9O/5Bdt/1yX+VWarad/yC7b/AK5L/KrNABVaf/j+tfq3/oNWajmgSYqX3AqcgqcEUASUVB9kT+/L/wB/DR9kT+/L/wB/DQBPRWTKhW8lQSy7VCkDzD3zQiMbuFDLLtYnI8w+lAGtRUH2RP78v/fw0fZE/vy/9/DQA2H/AJCFz/up/WrNRxW6Qlim4lsZLMT0qSgArMuv+Qof+uI/ma06zLr/AJCh/wCuI/maACiiigAooooAKKKKACiiigAooooAKKKKACiiigAooooAKKKKACiiigAp+nf8fV19U/lTKfp3/H1dfVP5UAaFFFFABRRRQAUUUUAFFFFABRRRQAUUUUAFFFFABRRRQAUUUUAFFFFABWND/rrn/ru/862axof9dc/9d3/nQBNRRRQAUUUUAFFFFABRRRQAUUUUAFFFFABRRRQAUUUUAFFFFABRRRQAVY0z/jwT6t/M1Xqxpn/Hgn1b+ZoAt0UUUAFFFFABRRRQAUUUUAFFFFAFC+/4/Iv9xv5iq0/3Y/8ArrH/AOhirN9/x+Rf7jfzFVp/ux/9dY//AEMUAbFFFFABRRRQBWjvfNjV47eYqwyDgcj86d9pb/n2m/If403Tv+Qbbf8AXNf5VZoAoXjyT2+xLaXO4HkDsfrUJWbH/HtL+n+NatFAFKzkkgsoYntptyIFOAOoH1qb7S3/AD7TfkP8anooArtebMF4JVBIGSBxk49asVXvv+PX/ton/oYqxQAUUUUAZk3/ACEZv91f60kf/H/b/Vv5Us3/ACEZv91f60kf/H/b/Vv5UAalFFFABRRRQAVmXX/IUP8A1xH8zWnWZdf8hQ/9cR/M0AFFFFACEgAknAHUmo/tEP8Az2j/AO+hTL//AJB9x/1zb+VSCKPA/dr/AN80AJ9oh/57R/8AfQo+0Q/89o/++hTvKj/55r/3zR5Uf/PNf++aAG/aIf8AntH/AN9Cj7RD/wA9o/8AvoU7yo/+ea/980eVH/zzX/vmgBv2iH/ntH/30KPtEP8Az2j/AO+hTvKj/wCea/8AfNHlR/8APNf++aAG/aIf+e0f/fQo+0Q/89o/++hTvKj/AOea/wDfNHlR/wDPNf8AvmgBv2iH/ntH/wB9Cj7RD/z2j/76FO8qP/nmv/fNHlR/881/75oAb9oh/wCe0f8A30KPtEP/AD2j/wC+hTvKj/55r/3zR5Uf/PNf++aAG/aIf+e0f/fQpftEP/PaP/voUvlR/wDPNf8Avmob2JBYXBCKD5TdvagCzRSL90fSloAKfp3/AB9XX1T+VMp+nf8AH1dfVP5UAaFFFFABRRRQAUUUUAFFFFABRRRQAUUUUAFFFFABRRRQAUUUUAFFFFABWND/AK65/wCu7/zrZrGh/wBdc/8AXd/50ATUUUUANZ1QZdgo9ScUz7RD/wA9o/8AvoUy4Aaa3DAEbzwf901L5Uf/ADzX/vmgBv2iH/ntH/30KPtEP/PaP/voU7yo/wDnmv8A3zR5Uf8AzzX/AL5oAb9oh/57R/8AfQo+0Q/89o/++hTvKj/55r/3zR5Uf/PNf++aAG/aIf8AntH/AN9Cj7RD/wA9o/8AvoU7yo/+ea/980eVH/zzX/vmgBv2iH/ntH/30KPtEP8Az2j/AO+hTvKj/wCea/8AfNHlR/8APNf++aAG/aIf+e0f/fQo+0Q/89o/++hTvKj/AOea/wDfNHlR/wDPNf8AvmgBv2iH/ntH/wB9Cj7RD/z2j/76FO8qP/nmv/fNHlR/881/75oAb9oh/wCe0f8A30Kcs0TttSRGPoGBo8qP/nmv/fNV7mGMzWylBgyHOBj+E0AW6KjS3jjJKLgkY6mmi0gBBCcj3NAE1WNM/wCPBPq38zVJ7aKRizrkn3NWbC3il02NJFyoZsDJ9TQBfoqGO0hiDCNMbhg8nkU1bG3Rgyx4IOQdxoAsUhYAgEgE9B61UvI7WMGWaPc7cBQxyx9Ko+QXw7nbIv3Np/1fsP8APNAG1RVS0u/NPkz4WZfTo49RVugAooooAKKKKAKF9/x+Rf7jfzFVp/ux/wDXWP8A9DFWb7/j8i/3G/mKrT/dj/66x/8AoYoA2KKKKACiiigCtp3/ACDbb/rmv8q5n4gau1npqWNpetBd3SsEjRhHu6YJk3L5Yz/EDnrjNdNp3/INtv8Armv8qW6sLa8Ui4t4pG2lQzxhiPzoA4PwVr0+mWNxYaxfSajeWsTP5Vq5uhNz1ikLszZyPlbBH0GarvrPiEeH7nT78qutjUIbiIJcb1WOScN5JK8/uwSh46DI4NdloHhm00LwxYaTGEaS0so7Q3SRhHfagUtkcgnGaxLL4ei0ttPszdWv2bT5I3ikisVS4YocgmQHqcfMQMnJ9aAMXxBrus2vjaOMagIlgaJGgRsby+PuRFwZQCeTgfjiul8B6hLe2OrR3DXEklvrN/H5kyttKi5kChWPBAAAwOmMVZvvBOlalq66ldzak1ym8RtHqU8flhsbguxxtB2jgelXfD+iLoFhPapM0wlvLi6DN1HmytJtySc43Yz3xQBcvv8Aj1/7aJ/6GKsVXvv+PX/ton/oYqxQAUUUUAZk3/IRm/3V/rSR/wDH/b/Vv5Us3/IRm/3V/rSR/wDH/b/Vv5UAalFFFABRRRQAVmXX/IUP/XEfzNadZl1/yFD/ANcR/M0AFFFFAFe//wCQfcf9c2/lU46CoL//AJB9x/1zb+VTjoKAFooooAKxfEPizSfDCQ/2nNIZ7gkQW0ETSzTEddqKMn69K2q8+sig/aA1T+0MecdGh/s7f/c3nzdvvuxnFAHQaD420jxBevYW5uLTUETe1lfQNBNt/vBW+8PcZrR0bWrLXrJ7rTnZ4o5pIGLKV+dGKsOfcVyPj0w/8Jx4HFrt/tT+0nxt+99m8pvNz/s52Vxul6Rc2vw917xPaeINRtrzT7+9mtoorkrbpsmY7WjHyvu77snkUAeyQ6lBPq1zpyLKJrWOORy0ZCEPnGG6E/KcgdOPWrleSa14x1mw/wCEt1G1kmWWPRtNlt7dm3LbSSmQMwUnaD0z67RmmaE/iXR/E+jm2sPEi2t05j1Aa3qUM6TAqSHjHmEqwOOFGCO1AHr1VLXU7O9uru2tLhZZrOQR3Cr/AMs2IDAH3wQa8z8MWd74l8Jw+NdQ8Wahp+oTXLy8XRW0t41mKCEw8KRtGCTzk5zWj8OdIjsvGfjOZLy+nK6gseJ7p5FIMSNuwTgnnAPXHHSgD0aiiigAqC9/5B9x/wBcm/lU9QXv/IPuP+uTfyoAmX7o+lLSL90fSloAKfp3/H1dfVP5Uyn6d/x9XX1T+VAGhRRRQAUUUUAFFFFABRRRQAUUUUAFFFFABRRRQAUUUUAFFFFABRRRQAVjQ/665/67v/OtmsaH/XXP/Xd/50ATUUUUAQT/APHxbf75/wDQTU9QT/8AHxbf75/9BNT0AFFFFABXMaz4/wBG0fVG0zF5qF/GA0ttp9q87RA9C2BhfoTn2rp64T4WFPsOvibb/aI1u6+15+9nf8me+Nm3FAG1D450G48M3muwXbNZ2Kk3Q8phJCR1VkIDA+2K3YJkuLeOeI5SRA6kjsRkV4t43IPib4h/2dj7L/wjcf23Z937RuOzP+1szW7HYXnhGXwnqNrr+o6hJqlxFZ3kFzcGSGZXjLbo0PCbSoxtxxQB6JpupwarbyTWyyqsczwt5sZQ7kbacA9RkcHvVyvELzxNrsml6fpMEmqXZ1PX9RimezuAtx5MMhKxJI7AJnI6EYCkCra694n8M6H4mVLXU7S0gtI5bFtYu47ma2kZtjch2Ypghhu6YNAHsTuqIzuQqqMknsKr6bqVpq+nQ3+mzrcWs67o5VBwwzjIz9K4eXwj/Y6oB4v1Z1vrSaK4t7y+aRrptmd8RJzGw6/J24qz8HbFbL4W6OyT3Mvnw+YRPM0gQ5Iwufurx0HFAHc0UUUAFV7j/j4tf+uh/wDQGqxVe4/4+LX/AK6H/wBAagCxRRRQAVY0z/jwT6t/M1Xqxpn/AB4J9W/maALdFFFAFK9s1fzLnzJA6xnbgjA4+lV0JMak9SBWhdf8ec3/AFzb+VZ0f+qT/dFAD7a0W5LSSSSAxy/KFIGMY9q06qad/qpf+up/kKt0AFI7qilnYKo6kmlqvfc2vP8Az0T/ANDFADvtdv8A89o/++hR9rt/+e0f/fQqTYn91fyo2J/dX8qAM68uIWuoisqEBG6H6VXmmiKpiRf9bGev+2K2dif3V/KjYn91fyoAj+12/wDz2j/76FH2u3/57R/99CpNif3V/KjYn91fyoAak8UjYjkVj6A1JVd1Av4cAD5H6D/dqxQBRsLqBNPt1aZAwjAILdOKsfbLb/nvH/31Umxf7q/lRsT+6v5UARfbbb/nvH/30KPttt/z3j/76FRakiiz4UffXt71WKrg/KPyoAvfbbb/AJ7x/wDfQpftlt/z3j/76qPTkU6ZbZUf6pe3tVjYn91fyoAqXdzDJbhI5UZjImAD/tCrtJsUdFH5UtABRRRQBmTf8hGb/dX+tJH/AMf9v9W/lSzf8hGb/dX+tJH/AMf9v9W/lQBqUUUUAFFFFABWZdf8hQ/9cR/M1p1mXX/IUP8A1xH8zQAUUUUAV7//AJB9x/1zb+VTjoKgv/8AkH3H/XNv5VOOgoAWiiigArF8ReFNK8TxQjU4pFmt2LW91bytFNCT1KupBH06GtqigDndA8EaR4evZL+D7Ve6hIuxr7ULlribb/dDMeB7DGe9Zq/Crw4tw7A6gLea4NzPZfbZPs9xIW3bnjzg8/yGc12lFAHE6ToF1qnivxVe+INIFvp2owQWUUE0qOZ44vMy+FJwDvGAeau6R8PdF0fVLe/SS/vZrRSlmL69knW1BGCI1Y4HHGeuK6migDkpPhr4ek1J7nbeLbyXH2mTT0u3Fo8uc7zFnbnPOOme1atl4X0/TvE19rln58dzqCKtxGJm8pyAAH2dA2FAzWxRQAUUUUAFQXv/ACD7j/rk38qnqC9/5B9x/wBcm/lQBMv3R9KWkX7o+lLQAU/Tv+Pq6+qfyplP07/j6uvqn8qANCiiigAooooAKKKKACiiigAooooAKKKKACiiigAooooAKKKKACiiigArGh/11z/13f8AnWzWND/rrn/ru/8AOgCaiiigCCf/AI+Lb/fP/oJqeoJ/+Pi2/wB8/wDoJqegAooooAK5jWvAOj61qjanvvtNv3UJLdabdvbvKo6B9pw31Iz7109FAHOweBdBtvC95oEFq6Wd8rC6Yys0sxbqzOSWJ96o2vgLSfDs41XTrbUNSuLGNvsFlNes6QZHKxK7bUz0yentXYUUAcF4d8D/AG7wSbPxXZvbXU2oz6iiQ3GJbR3kZl2yIeGAbGQcVt6Z4H0XTbS/hdJ9QbUl2Xk+oTtPLOoGApZuwBOAMV0VFAHL6P8AD/RdG1BLxGvr2WGJobb7fePOLaNhgrGGPy5HGeuOM1f8NeF7Dwnpz2Gktc/ZTIXSKedpBFn+Fc9F9q2aKACiiigAqvcf8fFr/wBdD/6A1WKr3H/Hxa/9dD/6A1AFiiiigAqxpn/Hgn1b+ZqvVjTP+PBPq38zQBbooooAiuv+POb/AK5t/Ks6P/VJ/uitG6/485v+ubfyrOj/ANUn+6KALenf6qX/AK6n+Qq3VTTv9VL/ANdT/IVboAKr3v8Ax7f9tE/9DFWKr3v/AB7f9tE/9DFAFiudttd1TUNe1OzsNPtTbabdrbSTS3LKzExRyEhQhHSQDr2roq5weGdQt9W1O703XXtI9SuFuJIhao5VhEkfDN7RjtQBkXXju5i8LS3lvFby3y6hcWYjVgduyeREGzO5mZEzge56VLonjuTVdU0awa2Mct2kzTt5bbPkH8LD5QdwYFSdwxyBUK+Fb0fD+8tRp8Mmri+urm3Mj7GJa5kZH3oQQxjfjkdcHAzVbwz4XvbbxDZS3Glzx2ltDMrS3624k3P1CmF2LgksTv8AXOc0AaY8fxPda9BDZzTtp0gW2+zpvNwmz5pBnGVWQOhwTjb710eh30mp+HtOv51VZLq1imcL0BZQTj864jUNF8Qpc3MNraX0UcJeLTU01LAWyQkYAfzf3oJ/i2/hXc6RavY6JY2kiRxvBbxxskRJRSqgYUnnHHfmgCWT/j/g/wBx/wD2Wp6gk/4/4P8Acf8A9lqegAooooAqal/x5/8AA1/nVY9DVnUv+PP/AIGv86rHoaALenf8gu2/65L/ACqzVbTv+QXbf9cl/lVmgAooooAKKKKAMyb/AJCM3+6v9aSP/j/t/q38qWb/AJCM3+6v9aSP/j/t/q38qANSiiigAooooAKzLr/kKH/riP5mtOsy6/5Ch/64j+ZoAKKKKAK9/wD8g+4/65t/Kpx0FQX/APyD7j/rm38qnHQUAVgrXUjlnZYkYqFQ43EdSTTvsUP/AE1/7/P/AI0Wf+pb/ro//oRqxQBX+xQ/9Nf+/wA/+NH2KH/pr/3+f/GrFFAFf7FD/wBNf+/z/wCNH2KH/pr/AN/n/wAasVQ1PWrDRzajUbhYTdzrbw5P3nOcfhx1oAn+xQ/9Nf8Av8/+NH2KH/pr/wB/n/xovb6306yku72URQRgF3IJxk47fWo21S2XWIdMLE3M0ElwoA42IyK2T9ZFoAk+xQ/9Nf8Av8/+NH2KH/pr/wB/n/xqxRQBX+xQ/wDTX/v8/wDjR9ih9Zf+/wA/+NWKKAK0e+C4ERdnjcEruOSpHbPenXv/ACD7j/rk38qSb/j8t/8AgX8qW9/5B9x/1yb+VAEy/dH0paRfuj6UtABT9O/4+rr6p/KmU/Tv+Pq6+qfyoA0KKKKACiikd1jRnkYKqjJZjgAUALRTTLGITKXXywu7fnjHrmsWPxt4WlmSKPxHpTyOwVUW8jJYk4AAz1zQBuUVWm1Kyt5HjnvII3QFmRpAGAAz069OaSy1Oz1FphY3CzGBlWTb/CWRXX81dT+NAFqimRTRToXgkSRQxUlGBAIOCOO4II/CoLzVNP09lW/vra1LDKiaZUyPbJoAtUVWg1G0ubyW1t50kmhjSV1XnCPu2HPTB2t+VQ3OvaRZ3Jt7vVbKCZesUtwisO/QnNAF+iqkWrWE3nbLuLEE4tpCzYAlIUhMnqTvXGOuRVh54o5I45JUR5SRGrMAXIGSAO/HNAD6Ky7bxPoF7di1s9b024uScCGK7jdz/wABBzSnxHoqadaX02q2kFrexiS3lnmWMSqQDkbsZ4I/OgDToqpYarp2qq7aZf2t6sZAc28yyBSemcE4q3QAUUUUAFY0P+uuf+u7/wA62axof9dc/wDXd/50ATUUUUAQT/8AHxbf75/9BNSswRCx6AZqKf8A4+Lb/fP/AKCafP8A8e8n+4f5UAQxwGdBJcSOS4yEVyoUenFO+xQ/9Nf+/wA/+NSQf8e8f+6P5VJQBX+xQ/8ATX/v8/8AjR9ih/6a/wDf5/8AGrFFAFf7FD/01/7/AD/40fYof+mv/f5/8asVnHXdPHiEaIbhft5t/tAi/wBjOPz9vSgCz9ih/wCmv/f5/wDGj7FD/wBNf+/z/wCNJcX9ta3VrbXEoSa7dkgUg/OVUsR+QJ5ptpqVve3V3BbsWe0cJLxxkqGGPXgigB/2KH/pr/3+f/Gj7FD/ANNf+/z/AONWKKAK/wBih/6a/wDf5/8AGj7FF/C0qn1ErcfrViigCC3d97wync0eMN/eB6H60lx/x8Wv/XQ/+gNRH/x/z/7if1ouP+Pi1/66H/0BqALFFFFABVjTP+PBPq38zVerGmf8eCfVv5mgC3RRRQBFdf8AHnN/1zb+VZ0f+qT/AHRWjdf8ec3/AFzb+VZ0f+qT/dFAFvTv9VL/ANdT/IVbqpp3+ql/66n+Qq3QAVXvf+Pb/ton/oYqxTJYkmjKSAlSQeCR0OeooAfRUH2OL+9N/wB/n/xo+xxf3pv+/wA/+NAE9FZl1EI7iNUkmAZSSPNb296hlVlVNsswzIin963QsAe/vQBs0VB9ji/vTf8Af5/8aPscX96b/v8AP/jQASf8f8H+4/8A7LU9Qx2sccgdd5YDALSM2PzNTUAFFFFAFTUv+PP/AIGv86rHoas6l/x5/wDA1/nVY9DQBb07/kF23/XJf5VZqtp3/ILtv+uS/wAqs0AFFFFABRRRQBmTf8hGb/dX+tJH/wAf9v8AVv5Us3/IRm/3V/rSR/8AH/b/AFb+VAGpRRRQAUUUUAFZl1/yFD/1xH8zWnWZdf8AIUP/AFxH8zQAUUUUAV7/AP5B9x/1zb+VTjoKgv8A/kH3H/XNv5VOOgoAgs/9S3/XR/8A0I1YqvZ/6p/+uj/+hGrFABRRRQAV5zr+i+IJ9cuJbXT7adHlz5ptd/mRf88zuuB8p4zgLkjNejUUAeatGt78P7eXVJf+JV9paKWxt42iaV/N8pUZ3kbYocEnB7DkAEG14etHt/iBZi+T/TU0q5DTM6SPOhlg2lymBlQoGSBu6+tdyLO2Fq1sLeLyGzui2DacnJyOnJJNR2Wl6fpoYadY21oH+95EKpu+uBQBbooooAKKKKAK83/H5b/8C/lS3v8AyD7j/rk38qSb/j8t/wDgX8qW9/5B9x/1yb+VAEy/dH0paRfuj6UtABT9O/4+rr6p/KmU/Tv+Pq6+qfyoA0KKKKACqOs6TBrmj3Om3jOsNwmxzGcMB7Gr1FAGJFpK6B4NbTtOudotbdgk92DJ2JJfaUz+Y+teQzXN5fRwIslmwaeF0khsJ5GOJFYEA3RBHAz7Z+te7yxJNC8Uqh43UqynoQeCKx4vB+gw7PK09UCY2hZHAGOnGaAOG8TWV1feI9Ql1SC4C6bIJbV7XSDtn/0PaWafn5Q0kgxk42gdqb4V1K50fR9WW41jSbS7mubVBdXzeRGq/YYDlULHcwGBjcM9eOlepvGkkTRyKGRhtZSMgj0qtb6XY2rTNb2kSGZlaTC/eKoEB/BVUfhQBx3he40rQ9Tj0/RfFml6lY3jl5LeW+RpxO2Szx7T829uSvYkkHtWl4ut31W8stDItoIdRDpJdOm+UIBl0jGMKSoxuJ4zwCa6ZbeFWBWGMEdCFHFVtS0fT9XWIalapceSxaPdnKkjBwR7UAYml6PLbfEHU7uPz4bFdOs7eFFx5UhUzZ7ZJUFe/wDFWH4wsbu68XW0tvEst9bRtLY2tvAJPOXhZHnZiuBztUA5B556DttP0bT9KLnT7ZYPMxuwSc4+ppNS0TTtXaNtQtVleLIR8lWUHqAQQccUAecxWUEvhDV4Wuksi3iGGcx6hetE6mPyGaMysSQ2EOCCeCCDT/Dt7Zat4o067hurW3+xXU8Rjl1xrl5TtaMbEY9ycgjtXotro+nWVmLW2soUgDF9mzOWPUnPU+9SpYWcbhktIFZTkERgEUAeZ2y2cfiLVLnUr68+2Sz+RqcNrYXDQkIoMfkvGMqVDYJJ+bJyBxjS8OX15F4X8I6bp406VbnR45IDeI4YiNI9x4yB99a6q48KaJc3U1zNYqZZm3yMsjLvbGMkA9eKkm8M6NcWtnbTabA0NjH5dshXiJcAYX0GFH5UAZ/h7SdVsdd1K91A6d5d8IzstA4KFFCgc8Y6n8a6SqWn6RYaSJBp1qlv5mN+z+LHT+Zq7QAUUUUAFY0P+uuf+u7/AM62axof9dc/9d3/AJ0ATUUUUAQT/wDHxbf75/8AQTT5/wDj3k/3D/KmT/8AHxbf75/9BNPn/wCPeT/cP8qACD/j3j/3R/KpKjg/494/90fyqSgAooooAiuklktZUt2RJWQhGdSVBx3AIOPoRXk19puuabbzXl7psEdjDHukU2pO1s/63cLnfvxxnPSvXqZNDHcQtFPGskbjDI4yCPcUAcD4k0+R9e02G8uZLjVjbO2nC32wRW2zYJX+ctvZiyjBz8uR6k6vgiKCO61zyLZLX/S1DwRkMqMIlHDLwc9a6S8sLPUYRFf2sN1GDkJNGHGfXBp1taW9lbrBZwRW8K/djiQKo/AUATUUUUAFFFFAFeP/AI/5/wDcT+tFx/x8Wv8A10P/AKA1Ef8Ax/z/AO4n9aLj/j4tf+uh/wDQGoAsUUUUAFWNM/48E+rfzNV6saZ/x4J9W/maABEmnaVvtUkYEhUKqrgAfUU77NN/z/Tf98p/8TTrXpN/11am3+oQaZaNc3fmCJSAfKheVuf9lAT+lACPaSujK17MVYYI2p/8TUY0whQBdzYHsn/xNULXxnol7NHFaXTStI0aL+6ZeZGkVQQQCOYnB9MVbvdf03T9asNKu7pI7zUN/wBnjJ5baMn6dePU0ATR2LwgiO8mAJyflTr/AN80/wCzTf8AP9N/3yn/AMTTNR1S30uON7lLlxI20C2tZJyD7iNSQPc8U6DUre51C5somJmtVRpBjgBwSP5GgBJYJ0hdxezZVSR8qf8AxNWYmLQozdSoJptx/wAesv8AuH+VLB/x7x/7g/lQA+iiigChff8AH5F/uN/MVWn+7H/11j/9DFWb7/j8i/3G/mKrT/dj/wCusf8A6GKANiiiigAooooAKKKKAKmpf8ef/A1/nVY9DVnUv+PP/ga/zqsehoAt6d/yC7b/AK5L/KrNVtO/5Bdt/wBcl/lVmgAooooAKKKKAMyb/kIzf7q/1pI/+P8At/q38qWb/kIzf7q/1pI/+P8At/q38qANSiiigAooooAKzLr/AJCh/wCuI/ma06zLr/kKH/riP5mgAooooAr3/wDyD7j/AK5t/Kpx0FQX/wDyD7j/AK5t/Kpx0FAEBjlhlZoQHRzkoTgg+oP9KPNuP+fb/wAiCrFFAFfzbj/n2/8AIgo824/59v8AyIKsUUAV/NuP+fb/AMiCjzbj/n2/8iCrFFAFfzbj/n2/8iCjzbj/AJ9v/IgqxRQBX824/wCfb/yIKPNuP+fb/wAiCrFFAFfzbj/n2/8AIgo824/59v8AyIKsUUAQRxyNN50+0EDCIpzj1OfWi9/5B9x/1yb+VT1Be/8AIPuP+uTfyoAmX7o+lLSL90fSloAKfp3/AB9XX1T+VMp+nf8AH1dfVP5UAaFUL+/aJvstnhrphnJGViH95v6DvVm8NwLOX7GFM+07N/TNZFj5fksULmQt+9Mn393fd70ASaZrlr/ZkH268X7Rs/ebhg5q1/bmmf8AP5H+tR0UASf25pn/AD+R/rR/bmmf8/kf61HRQBJ/bmmf8/kf60f25pn/AD+R/rUdFAEn9uaZ/wA/kf60f25pn/P5H+tR0UASf25pn/P5H+tH9uaZ/wA/kf61HRQBJ/bmmf8AP5H+tH9uaZ/z+R/rUdFAEn9uaZ/z+R/rR/bmmf8AP5H+tR0UASf25pn/AD+R/rR/bmmf8/kf61HRQBVuNXeXU4TpkqzxJEzSxgfe5A4PY9cVsWt1FeW4mgbcp4PYg9wR2NUaqws660q2HJJBuh/AFxwT/telAG7WND/rrn/ru/8AOtmsaH/XXP8A13f+dAE1FFFAEE//AB8W3++f/QTUxGQQehqGf/j4tv8AfP8A6CanoArILiBfLVFlQfdO7BA9DS+bcf8APt/5EFWKKAK/m3H/AD7f+RBR5tx/z7f+RBViigCv5tx/z7f+RBR5tx/z7f8AkQVYooAr+bcf8+3/AJEFHm3H/Pt/5EFWKKAK/m3H/Pt/5EFHm3H/AD7f+RBViigCv5tx/wA+3/kQUebcn/l2A+sgqxRQBDBE0e5pG3SOcsR09gPam3H/AB8Wv/XQ/wDoDVYqvcf8fFr/ANdD/wCgNQBYooooAKsaZ/x4J9W/mar1Y0z/AI8E+rfzNAElr0m/66tXP/ESPPgfULkyeXHZxNcyFVJcoikkJyAGI6E5A7g10Fr0m/66tUk0MVzA8NxGksUilXjdQysD1BB6igDy7+yNIsvEeiS2dhqVqFmtLS38+DAjEfnEksW5LeZySOo96wdTTVIrzXbfT1v9Sja5CGb7DHKZWRvnDN5B5BztAICmvXbXwt4fsrlLiy0LTbeeM5SWKzjRlPsQMim3HhPw5d3Elxd6Bpc80jbnklso2Zz6kkZJoA838UaOZLDRGl0jUNZK2QVopbVhPEzlSrPKkTA7BuBTj15roPAlncQeIbxVl8iKCxtIprcWYgEkmxsuF4KAnJx713cFvDa28dvaxJDDEoSOONQqoo6AAcAULBEk0kyRIssgAdwvLY6ZPfFABcf8esv+4f5UsH/HvH/uD+VJcf8AHrL/ALh/lSwf8e8f+4P5UAPooooAoX3/AB+Rf7jfzFVp/ux/9dY//QxVm+/4/Iv9xv5iq0/3Y/8ArrH/AOhigDYooooAKKKKACiiigCpqX/Hn/wNf51WPQ1Z1L/jz/4Gv86rHoaALenf8gu2/wCuS/yqzVbTv+QXbf8AXJf5VZoAKKKKACiiigDMm/5CM3+6v9aSP/j/ALf6t/Klm/5CM3+6v9aSP/j/ALf6t/KgDUooooAKKKKACsy6/wCQof8AriP5mtOsy6/5Ch/64j+ZoAKKKKAK9/8A8g+4/wCubfyqcdBUF/8A8g+4/wCubfyqcdBQBHJcRxMFOS5GdqjJxTPta/8APKb/AL9mi0APmyH7zSNk/Q4FWKAK/wBrX/nlN/37NH2tf+eU3/fs1YooAr/a1/55Tf8Afs0fa1/55Tf9+zViigCv9rX/AJ5Tf9+zR9rX/nlN/wB+zViigCv9rX/nlN/37NH2tf8AnlN/37NWKKAK/wBrX/nlN/37NH2tf+eU3/fs1YooAjimSbOw8r1BGCPwpl7/AMg+4/65N/KkkG2+hYdWDKfcdaW9/wCQfcf9cm/lQBMv3R9KWkX7o+lLQAU/Tv8Aj6uvqn8qZT9O/wCPq6+qfyoA0Kz7+wZpPtVlgXAHzLnAlHoff0NaFFAGLpujRPpsDX0cwuGXMm6Zs5/OrX9iWP8Ack/7/P8A41oUUAZ/9iWP9yT/AL/P/jR/Ylj/AHJP+/z/AONaFFAGf/Ylj/ck/wC/z/40f2JY/wByT/v8/wDjWhRQBn/2JY/3JP8Av8/+NH9iWP8Ack/7/P8A41oUUAZ/9iWP9yT/AL/P/jR/Ylj/AHJP+/z/AONaFFAGf/Ylj/ck/wC/z/40f2JY/wByT/v8/wDjWhRQBn/2JY/3JP8Av8/+NH9iWP8Ack/7/P8A41oUUAZ/9iWP9yT/AL/P/jR/Ylj/AHJP+/z/AONaFFAGDdabPBqUSaWjpHLEyySO5ZY+RzgnrjOK17OzisbcRQg9cszHLOe5J9anooAKxof9dc/9d3/nWzWND/rrn/ru/wDOgCaiiigCCf8A4+Lb/fP/AKCanqCf/j4tv98/+gmpJWKwuw6hSRQBG11GrFVDuVODsUnFJ9rX/nlN/wB+zT7ZQlrGF6bRUtAFf7Wv/PKb/v2aPta/88pv+/ZqxRQBX+1r/wA8pv8Av2aPta/88pv+/ZqxRQBX+1r/AM8pv+/Zo+1r/wA8pv8Av2asUUAV/ta/88pv+/Zo+1r/AM8pv+/ZqxRQBX+1r/zym/79mj7WveOUf9szViigBqSLIgeNgynoRUNx/wAfFr/10P8A6A1EICXk6KMKQr49znP8qLj/AI+LX/rof/QGoAsUUUUAFWNM/wCPBPq38zVerGmf8eCfVv5mgAUXULyCOCN1ZywJlx19sU7zbz/n1j/7/f8A2NWaKAKklxdxxs7WseFBJ/ff/Y1Cuo3DKCLRMEZ/13/2NXLr/jzm/wCubfyrOj/1Sf7ooAsw3l1OrFLWP5W2nM3/ANjUnm3n/PrH/wB/v/sabp3+ql/66n+Qq3QBUka8kidPs0Y3KRnzv/sasxqUiRT1VQDTqKACiiigChff8fkX+438xVaf7sf/AF1j/wDQxVm+/wCPyL/cb+YqtP8Adj/66x/+higDYooooAKKKKACiiigCpqX/Hn/AMDX+dVj0NWdS/48/wDga/zqsehoAt6d/wAgu2/65L/KrNVtO/5Bdt/1yX+VWaACiiigAooooAzJv+QjN/ur/Wkj/wCP+3+rfypZv+QjN/ur/Wkj/wCP+3+rfyoA1KKKKACiiigArMuv+Qof+uI/ma06zLr/AJCh/wCuI/maACiiigCvf/8AIPuP+ubfyqcdBUF//wAg+4/65t/Kpx0FAEFn/qW/66P/AOhGrFV7P/Ut/wBdH/8AQjVigAooooA5Hxd4n1PRbq4j0yG0dbXS5tRkNwGJby2A2jBGM561W0PxhPqfjS7tZJ410yKC4kVnTyyNjQgElsEffbrW1r3hOy8QTNLdXF3A0lq9nILeQKJInILKcg+nUYrJg8K6nB40v9TR7XyLqCdUaRTIFLtCQGTjPEbd/SgC1a+NLaXXZo58RaTIqLZ6iwxFPLzvXf07rg9DzgnFPutZ1OTxJe6fZXemWkVrHE2buNnZy4J7OvAxTU0DxAupXV22raa4uY442hbTnKKE3YwPN77v0FO1Hwxc6letcXH9izNgKrXGkiVwB23F6ANzTnuJLJWu57e4lycyWylUPPYFj/OrVZuiadNpdmbeU2ewNlEs7XyEX1+XJ71pUAFFFFAFeb/j8t/+Bfypb3/kH3H/AFyb+VJN/wAflv8A8C/lS3v/ACD7j/rk38qAJl+6PpS0i/dH0paACn6d/wAfV19U/lTKfp3/AB9XX1T+VAGhRRRQAUUUUAFFFFABRRRQAUUUUAFFFFABRRRQAUUUUAFFFFABRRRQAVjQ/wCuuf8Aru/862axof8AXXP/AF3f+dAE1FFFAEE//Hxbf75/9BNPn/495P8AcP8AKmT/APHxbf75/wDQTT5/+PeT/cP8qACD/j3j/wB0fyqSo4P+PeP/AHR/KpKACiiigDiNU8Y6jp11cyyR2i6fFfNZcI7S58vcG4468YxU3hLxcbzww+qeIbqGEDyfmICjLQRuQB3OWOB1rQuvCFrPeTXSXV0Gkma4EBkHleaU2bsbc9Pes3wz4X1nRNCWyE9jHNG8X7ySEzq2yBEyvzKRyp/CgDR8O+KBqkkltqcX9n3zSu0FrONjywZyjgHqduMgdDkHFUtM1zWtWtZLqPUNFtUFzPCsUsLs6iOV4xk+YOTtz071a0vQtc0/cJtVsLhWuJbjLWDblLsThSZTgDdj6VWk8GzSyvJLH4feR2LMzaKpLE8kk7+TQB1q8qMkHjqKWobSOaK0jjuZI5JVGGaOPYp+i5OPzqagAooooArx/wDH/P8A7if1ouP+Pi1/66H/ANAaiP8A4/5/9xP60XH/AB8Wv/XQ/wDoDUAWKKKKACrGmf8AHgn1b+ZqvVjTP+PBPq38zQBbooooAiuv+POb/rm38qzo/wDVJ/uitG6/485v+ubfyrOj/wBUn+6KALenf6qX/rqf5CrdVNO/1Uv/AF1P8hVugAooooAKKKKAKF9/x+Rf7jfzFVp/ux/9dY//AEMVZvv+PyL/AHG/mKrT/dj/AOusf/oYoA2KKKKACiiigAooooAqal/x5/8AA1/nVY9DVnUv+PP/AIGv86rHoaALenf8gu2/65L/ACqzVbTv+QXbf9cl/lVmgAooooAKKKKAMyb/AJCM3+6v9aSP/j/t/q38qWb/AJCM3+6v9aSP/j/t/q38qANSiiigAooooAKzLr/kKH/riP5mtOsy6/5Ch/64j+ZoAKKKKAK9/wD8g+4/65t/Kpx0FQX/APyD7j/rm38qnHQUAQWpC+bGfvLIxI9icg1YqKW3jmILg7h0ZWKkfiKZ9ij/AL8//f8Af/GgCxRVf7FH/fn/AO/7/wCNH2KP+/P/AN/3/wAaALFFV/sUf9+f/v8Av/jR9ij/AL8//f8Af/GgCxRVf7FH/fn/AO/7/wCNH2KP+/P/AN/3/wAaALFFV/sUf9+f/v8Av/jR9ij/AL8//f8Af/GgCxRVf7FH/fn/AO/7/wCNH2KP+/P/AN/3/wAaACQhr6FV5KBmb2zxS3v/ACD7j/rk38qfFDHAuIlxnknqT9T3pl7/AMg+4/65N/KgCZfuj6UtIv3R9KWgAp+nf8fV19U/lTKfp3/H1dfVP5UAaFFFFABRRRQAUUUUAFFFFABRRRQAUUUUAFFFFABRRRQAUUUUAFFFFABWND/rrn/ru/8AOtmsaH/XXP8A13f+dAE1FFFAEE//AB8W3++f/QTUkqloXUdSpAqOf/j4tv8AfP8A6CanoAitnD2sZU/wgH2NS1A9pC7l8MjHqY3K5+uDSfYo/wC/P/3/AH/xoAsUVX+xR/35/wDv+/8AjR9ij/vz/wDf9/8AGgCxRVf7FH/fn/7/AL/40fYo/wC/P/3/AH/xoAsUVX+xR/35/wDv+/8AjR9ij/vz/wDf9/8AGgCxRVf7FH/fn/7/AL/40fYo/wC/P/3/AH/xoAsUVX+xR/35/wDv+/8AjSfYYj1aYj0MzkfzoAWAh7ud15X5Vz6kZz/Oi4/4+LX/AK6H/wBAapkRUUKgCqOAB2qG4/4+LX/rof8A0BqALFFFFABVjTP+PBPq38zVerGmf8eCfVv5mgC3RRRQBFdf8ec3/XNv5VnR/wCqT/dFaN1/x5zf9c2/lWdH/qk/3RQBb07/AFUv/XU/yFW6qad/qpf+up/kKt0AFFFFABRRRQBQvv8Aj8i/3G/mKrT/AHY/+usf/oYqzff8fkX+438xVaf7sf8A11j/APQxQBsUUUUAFFFFABRRRQBU1L/jz/4Gv86rHoas6l/x5/8AA1/nVY9DQBb07/kF23/XJf5VZqtp3/ILtv8Arkv8qs0AFFFFABRRRQBmTf8AIRm/3V/rSR/8f9v9W/lSzf8AIRm/3V/rSR/8f9v9W/lQBqUUUUAFFFFABWZdf8hQ/wDXEfzNadZl1/yFD/1xH8zQAUUUUAV7/wD5B9x/1zb+VTjoKgvudPnx/wA82/lSi8tsD9/H/wB9UAT0VB9ttv8AnvH/AN9Cj7bbf894/wDvoUAT0VB9ttv+e8f/AH0KPttt/wA94/8AvoUAT0VB9ttv+e8f/fQo+223/PeP/voUAT0VB9ttv+e8f/fQo+223/PeP/voUAT0VB9ttv8AnvH/AN9Cj7bbf894/wDvoUAT0VB9ttv+e8f/AH0KPttt/wA94/8AvoUAT1Be/wDIPuP+uTfyo+223/PeP/voVDd3du9lOqTIzNGwADdTigC4v3R9KWkX7o+lLQAU/Tv+Pq6+qfyplP07/j6uvqn8qANCiiigAooooAKKKKACiiigAooooAKKKKACiiigAooooAKKKKACiiigArGh/wBdc/8AXd/51s1jQ/665/67v/OgCaiiigCCf/j4tv8AfP8A6CanqvdOsctu7kKoc5J7fKaX7bbf894/++hQBPRUH222/wCe8f8A30KPttt/z3j/AO+hQBPRUH222/57x/8AfQo+223/AD3j/wC+hQBPRUH222/57x/99Cj7bbf894/++hQBPRUH222/57x/99Cj7bbf894/++hQBPRUH222/wCe8f8A30KPttt/z3j/AO+hQBPRUH222/57x/8AfQo+223/AD3j/wC+hQBPVe4/4+LX/rof/QGpfttt/wA94/8AvoVFJcRS3VsIpFchyTg5x8jUAXKKi+0wk481M/WleeJG2vIqn0JoAkqxpn/Hgn1b+ZqmZowgcuoU9DmrOlzxNYgLIpK7iQD0GTQBeoqFby2Zgqzxkk4ADDmle6gjYrJMisOoLUAVb+8eNmtxAzeYhCvuAB4qFBtjUHqABV24a1mtgJpFEb/dbdjn1BrNWYiQwoRO/wDAydG+vpQBLb3b20hh8hpDJJlSrDpx2rVqva2ogBZzvlb7zf0HtVigAooooAKKKOlAFC+/4/Iv9xv5iq0/3Y/+usf/AKGKsXrA3kWCD8jdD7iq8/Cp/wBdY/8A0MUAbFFIGB6EH6GloAKKKKACiiigCpqX/Hn/AMDX+dVj0NWNSYfZcZGd68Z96rnoaALenf8AILtv+uS/yqzVXTWH9m2wyM+UvGfarVABRRRQAUUU15EjXdIwVfUnFAGdN/yEZv8AdX+tJH/x/wBv9W/lSPIkl/M0bBl2ryDn1oDrHeW7OwVQW5Jx2oA1aKakiSrujZXHqpzTqACiiigArMuv+Qof+uI/ma06qXVgbicSpcPE23adoBz+YoAr0U/+y5f+f6b/AL4T/Cj+y5f+f6b/AL4T/CgBlJgegqT+y5f+f6b/AL4T/Cj+y5f+f6b/AL4T/CgCPA9BRgegqT+y5f8An+m/74T/AAo/suX/AJ/pv++E/wAKAI8D0FGB6CpP7Ll/5/pv++E/wo/suX/n+m/74T/CgCPA9BRgegqT+y5f+f6b/vhP8KP7Ll/5/pv++E/woAjwPQUYHoKk/suX/n+m/wC+E/wo/suX/n+m/wC+E/woAjwPQUYHoKk/suX/AJ/pv++E/wAKP7Ll/wCf6b/vhP8ACgCPA9BRgegqT+y5f+f6b/vhP8KP7Ll/5/pv++E/woAjwPQUYHoKk/suX/n+m/74T/Cj+y5f+f6b/vhP8KAGUU/+y5f+f6b/AL4T/Cj+y5f+f6b/AL4T/CgBlP07/j6uvqn8qP7Ll/5/pv8AvhP8Kns7P7KZCZXlaQjJYAdPoKALNFFFABRRRQAUUUUAFFFFABRRRQAUUUUAFFFFABRRRQAUUUUAFFFFABWND/rrn/ru/wDOtms9tLPmyPHdyxiRi5UKpwT9RQAyin/2XL/z/Tf98J/hR/Zcv/P9N/3wn+FAEfXrRgegqT+y5f8An+m/74T/AAo/suX/AJ/pv++E/wAKAI8D0FGB6CpP7Ll/5/pv++E/wo/suX/n+m/74T/CgCPA9BRgegqT+y5f+f6b/vhP8KP7Ll/5/pv++E/woAjwPQUYHoKk/suX/n+m/wC+E/wo/suX/n+m/wC+E/woAjwPQUYHoKDorEk/2hc8+mP8KVtHdsZv7jj02j+lACYHoKMD0FKNHcKV+33GD7Ln88ULo7q2RqFx+O0/0oATA9BRgegoOisf+Yhc/mP8KT+xG/6CF1+Y/wAKAFwPQUYHpSf2I3/QQuvzH+FH9iN/0ELr8x/hQAuB6UYHpTf7DYf8xC6/76FH9hn/AKCF1/30KAHYqzpg/wBAT6t/M1VOhsf+Yhdf99CrEOmJFCsYuLg47+aRn8qALuB6UYHpVUWCj/l4uf8Av8aT+z1z/wAfFz/3+NAFvA9KMAdBVU2Cn/l4uf8Av8aPsC4/4+Ln/v8AGgC1RVUWCj/l4uf+/wAaQaeoP/Hxc/8Af40AW6KqHT1P/Lxc/wDf40psFI/4+Ln/AL/GgC1SModCrDKsMEetVhYKB/x8XP8A3+NINPUH/j4uf+/xoApNbCwlAKjy24STHI9jSyndiIJ5jv0T19z7VbfTI5FKvPcMp6gynBpI9KhjziSfceN3mEHHpxQBJZWSWcZxgyOcuR/Ie1WarLYquf31wc+sxpPsCg5E9z/3+NAFqiqzWKMc+dcD6TNQbJSuDNcfXzWoAs0VWWyVcjzrgj3lNILBQcie5/7/ABoAq3lkIZmuo4w6k7pFxkqf7w/wprSosXmbgVxwRzmrrWKMxPnXA9hM1Qro1ssm7dMcHIHmEBT6jFADbCwCSC5ljCPjCIP4B7+9aNRfZl8ny98uM5z5jZ/POaSK2WJiVeU5GPmkZv5mgCaiq4skBz5k/wD3+b/GnSWyyvuZ5QcdFkZR+QNAE1MliSaNo5VDKw5BphtlMIj3y4BznzGz+ec0sdssRO15TkY+aQt/M0AZ7RNaSCN+Vb7j+vsfekCNdSGGLGB998Z2/wD16uPp0Mi7ZGmZfQzMf61PFEkEYjiXaooAIYUt4VjiXaq0+iigAooooAKKKKACiiigAooooAKKKKACiiigAooooAKKKKACiiigAooooAKKKKACiiigAooooAKKKKACiiigAooooAKKKKACiiigAooooAKKKKACiiigAooooAKKKKACiiigAooooAKKKKACiiigAooooAKKKKACiiigAooooAKKKKACiiigAooooAKKKKACiiigAooooAKKKKACiiigAooooAKKKKACiiigAooooAKKKKACiiigAooooAKKKKACiiigAooooAKKKKACiiigD//Z)"
      ],
      "metadata": {
        "id": "6odiMCHZNR8a"
      }
    },
    {
      "cell_type": "markdown",
      "source": [
        "### OOP 구성"
      ],
      "metadata": {
        "id": "KCCvMBmKOgZC"
      }
    },
    {
      "cell_type": "markdown",
      "source": [
        "**캡슐화**\n",
        "1. 은닉화\n",
        "   - 클래스를 통해 변수와 메소드를 하나로 묶어 외부에서 함수나 변수에 직접접근을 차단\n",
        "   - 접근 제어 :  Public < Protected(_이름) < Private(__이름) \n",
        "   - 인스턴스._class__함수를 쓰면 더블언더스코어도 볼 수 있다.\n",
        "2. 기능분리\n",
        "   - 기능이 많아질수록 코드 재사용이 어려워진다. 따라서\n",
        "   - 모듈화를 통해 각 클래스의 기능을 분리하면 디버깅이 편리하고 소스코드의 목적파악이 쉽다.\n"
      ],
      "metadata": {
        "id": "jC-DWNoaOjBP"
      }
    },
    {
      "cell_type": "code",
      "source": [
        "class Point:\n",
        "    def __init__(self, x, y):\n",
        "        self.x = x\n",
        "        self.y = y\n",
        "        self.__private_name = \"private 접근\"\n",
        "\n",
        "class Point_sub(Point):\n",
        "    def __init__(self,x, y):\n",
        "        Point.__init__(self,x,y)\n",
        "        self.x = x\n",
        "        self.y = y\n",
        "\n",
        "    def __sub(self):\n",
        "        self.__x = 10\n",
        "        self.__y = 20\n",
        "\n",
        "    def sub(self):\n",
        "        self.__sub()  # 이걸해줘야지 __를 출력할 수 있음\n",
        "        print(self.__x)\n",
        "        print(self.__y)\n",
        " \n",
        "my_point = Point(1, 2)\n",
        "my_point_sub = Point_sub(30,40)\n",
        "\n",
        "# case 1 - error case: private 으로 해당코드로 접근할 수 없다\n",
        "# print(my_point.__private_name)\n",
        "\n",
        "# case 2\n",
        "# 클래스 생성자에 있는 private변수에 접근하기위해 '_클래스이름__private변수' 를 활용한다.\n",
        "print(my_point._Point__private_name)\n",
        "\n",
        "# case 3\n",
        "print('case3 ------------')\n",
        "my_point_sub.sub()    # 변환된 이름에 대해 값 출력\n",
        "\n",
        "print('그냥 호출하면')\n",
        "print(my_point_sub.x, my_point_sub.y)"
      ],
      "metadata": {
        "colab": {
          "base_uri": "https://localhost:8080/"
        },
        "id": "mqBKITttO7rK",
        "outputId": "a69c840d-a11b-4cea-da5e-2464bdb92198"
      },
      "execution_count": null,
      "outputs": [
        {
          "output_type": "stream",
          "name": "stdout",
          "text": [
            "private 접근\n",
            "case3 ------------\n",
            "10\n",
            "20\n",
            "그냥 호출하면\n",
            "30 40\n"
          ]
        }
      ]
    },
    {
      "cell_type": "markdown",
      "source": [
        "**상속과 포함(Inheritance & Composition)**\n",
        "- 상위개념의 특징을 하위 개념이 물려받는 형태(코드의 재사용성)\n",
        "- 상속 : 상위클래스의 모든 개념을 사용할 수 있다. (동물 = 개,고양이)\n",
        "- 포함 : 다른 클래스의 일부 기능만 사용한다. (고양이 = 몸통, 머리, 다리) -> 클래스의 함수를 불러와서 쓰는것"
      ],
      "metadata": {
        "id": "2DUXZ2gTRsUh"
      }
    },
    {
      "cell_type": "code",
      "source": [
        "# 포함코드\n",
        "class Bill():\n",
        "    def __init__(self, description):\n",
        "        self.description = description\n",
        "\n",
        "class Tail():\n",
        "    def __init__(self, length):\n",
        "        self.length = length\n",
        "\n",
        "class Duck():\n",
        "    def __init__(self, bill, tail):\n",
        "        self.bill = bill\n",
        "        self.tail = tail\n",
        "\n",
        "    def about(self):\n",
        "        print(f\"This duck has a {self.bill.description} and a {self.tail.length}.\")\n",
        "\n",
        "# object 생성\n",
        "duck = Duck(Bill('bill object'), Tail('tail object'))\n",
        "\n",
        "# object 실행\n",
        "duck.about()"
      ],
      "metadata": {
        "colab": {
          "base_uri": "https://localhost:8080/"
        },
        "id": "VOkA7XkYDSyo",
        "outputId": "2a65f854-cb86-448f-89e4-c11c5b35f555"
      },
      "execution_count": null,
      "outputs": [
        {
          "output_type": "stream",
          "name": "stdout",
          "text": [
            "This duck has a bill object and a tail object.\n"
          ]
        }
      ]
    },
    {
      "cell_type": "markdown",
      "source": [
        "**다형성**\n",
        "- 상속관계에서 상속받은 기능 외 다른 기능을 추가적으로 제공하고자 할 때 사용한다.\n",
        "- 동일한 요청에 대해 다른 방식으로 응답할 수 있도록 만드는 것\n",
        "- 프로그램 작성 코드량을 줄여서 가독성을 높여준다.\n",
        "- 오버라이딩 : 상위클래스의 메소드를 하위클래스에서 재정의\n",
        "- 오버로딩 : 동일한 메소드가 매개변수의 차이에 따라 다르게 작동\n"
      ],
      "metadata": {
        "id": "JrCualD0XD9z"
      }
    },
    {
      "cell_type": "code",
      "source": [
        "class Slimes:\n",
        "    def __init__(self):\n",
        "        self.hp = 100\n",
        "        self.attack_power = 50\n",
        "        self.dead = 1\n",
        "    def get_damage(self):\n",
        "        self.hp -= self.attack_power\n",
        "        if self.hp <= 0:\n",
        "            self.hp = 0\n",
        "            print('Slime is dead!!!')\n",
        "\n",
        "class Slime_Yellow(Slimes):\n",
        "    pass\n",
        "\n",
        "class Slime_Blue(Slimes):\n",
        "    def __init__(self):\n",
        "        super().__init__()\n",
        "        self.attack_power = int(self.attack_power * 0.8)\n",
        "    def get_damage(self):\n",
        "        self.hp -= self.attack_power\n",
        "        if self.hp <= 0:\n",
        "            self.hp = 0\n",
        "            print('Blue Slime is dead!!! You get 100 Gold')\n",
        "\n",
        "class Slime_Purple(Slimes):\n",
        "    def __init__(self):\n",
        "        super().__init__()\n",
        "        self.attack_power = int(self.attack_power * 0.5)\n",
        "    def get_damage(self):\n",
        "        self.hp -= self.attack_power\n",
        "        if self.hp <= 0:\n",
        "            self.hp = 0\n",
        "            if self.dead ==1:\n",
        "                print('Purple Slime is dead!!!, You get 300 Gold')\n",
        "                self.dead=0\n",
        "            else:\n",
        "                return\n",
        "            \n",
        "Slime_4 = Slime_Purple()\n",
        "# 슬라임 제거하기: hp=0 만들기\n",
        "Slime_4.get_damage()\n",
        "Slime_4.get_damage()\n",
        "Slime_4.get_damage()\n",
        "Slime_4.get_damage()\n",
        "print('Slime_4 hp:',Slime_4.hp)\n",
        "\n",
        "# 확인하기\n",
        "Slime_4.get_damage()\n",
        "Slime_4.get_damage()\n",
        "Slime_4.get_damage()"
      ],
      "metadata": {
        "colab": {
          "base_uri": "https://localhost:8080/"
        },
        "id": "qgK0IMBkDySL",
        "outputId": "b7089fd0-18f2-4a89-9c61-0032968f8a02"
      },
      "execution_count": null,
      "outputs": [
        {
          "output_type": "stream",
          "name": "stdout",
          "text": [
            "Purple Slime is dead!!!, You get 300 Gold\n",
            "Slime_4 hp: 0\n"
          ]
        }
      ]
    },
    {
      "cell_type": "markdown",
      "source": [
        "**추상화(abstraction)**\n"
      ],
      "metadata": {
        "id": "hsqfBjn5bXMv"
      }
    },
    {
      "cell_type": "markdown",
      "source": [
        "- 복잡한 내용을 핵심적인 개념 및 기능으로 요약하여 현실의 복잡성을 극복하고 목적에 집중\n",
        "- 사물들 간의 공통점은 취하고 차이점은 버리는 일반화를 통한 단순화\n",
        "- 중요한 부분의 강조를 위해 불필요한 세부 사항을 제거하는 단순화"
      ],
      "metadata": {
        "id": "GbmsiZJDInhW"
      }
    },
    {
      "cell_type": "code",
      "source": [
        "# 추상클래스로 선언(@abstractmethod)해놓고 상속받는 클래스에서 구현하지 않으면 오류 발생\n",
        "from abc import ABCMeta, abstractmethod\n",
        "\n",
        "# 추상 클래스\n",
        "class People(metaclass=ABCMeta):\n",
        "    # 추상 메소드\n",
        "    @abstractmethod\n",
        "    def character(self):\n",
        "        pass\n",
        "\n",
        "    def working(self):\n",
        "        pass\n",
        "  \n",
        "# 상속받는 클래스\n",
        "class Student(People):\n",
        "    def character(self, pow, int):\n",
        "        self.pow = pow\n",
        "        self.int = int\n",
        "\n",
        "        print('체력: {0}'.format(self.pow))\n",
        "        print('지능: {0}'.format(self.int))\n",
        "\n",
        "# 상속받는 클래스 2 : character 추상 메소드 구현 하지 않음\n",
        "class Driver(People):\n",
        "    def working(self):\n",
        "        print('일하는 중')\n",
        "\n",
        "# Student object 생성 \n",
        "s1 = Student()\n",
        "print('Student: ')\n",
        "\n",
        "# Student object 실행\n",
        "s1.character(10, 100)\n",
        "print(s1.int)\n",
        "\n",
        "# Driver object 생성\n",
        "# d1 = Driver()\n",
        "# d1.working()\n",
        "# 이 코드는 추상 메소드로 선언했던 character를 구현해주지 않았기 때문에 오류가 발생합니다!"
      ],
      "metadata": {
        "colab": {
          "base_uri": "https://localhost:8080/"
        },
        "id": "t_4bUWUgPdzc",
        "outputId": "2298c755-139c-48fd-ea7d-3dfc783730ef"
      },
      "execution_count": null,
      "outputs": [
        {
          "output_type": "stream",
          "name": "stdout",
          "text": [
            "Student: \n",
            "체력: 10\n",
            "지능: 100\n",
            "100\n"
          ]
        }
      ]
    },
    {
      "cell_type": "markdown",
      "source": [
        "### \\_\\_name\\_\\_과 \\_\\_main\\_\\_"
      ],
      "metadata": {
        "id": "ssGHws4-pUod"
      }
    },
    {
      "cell_type": "markdown",
      "source": [
        "- \\_\\_name\\_\\_ : 현재 모듈의 이름을 담고있는 내장변수로, 직접 실행된 모듈은 \\_\\_main__이라는 값을 가지게 되고, 모듈을 불러와서 사용하는 경우 모듈의 이름을 가지게된다.\n",
        "- \\_\\_main__ : 현재모듈에서 사용중일 경우를 뜻함(모듈자기자신을 뜻함)"
      ],
      "metadata": {
        "id": "B5iBwY_cpZT0"
      }
    },
    {
      "cell_type": "code",
      "source": [
        "# abc.py 파일에서\n",
        "print(__name__)          # 현재 파일의 이름대신 __main__출력\n",
        "\n",
        "print('--------------')\n",
        "\n",
        "import pandas\n",
        "print(pandas.__name__)   # pandas모듈의 이름 출력"
      ],
      "metadata": {
        "colab": {
          "base_uri": "https://localhost:8080/"
        },
        "id": "2T2X96Vpsl_c",
        "outputId": "67252c1c-ed7b-4194-ebbd-9bf427a3e8b5"
      },
      "execution_count": null,
      "outputs": [
        {
          "output_type": "stream",
          "name": "stdout",
          "text": [
            "__main__\n",
            "--------------\n",
            "pandas\n"
          ]
        }
      ]
    },
    {
      "cell_type": "code",
      "source": [
        "# ABC.py\n",
        "def add(a, b):\n",
        "    return a + b\n",
        " \n",
        "def mul(a, b):\n",
        "    return a * b\n",
        " \n",
        "if __name__ == '__main__':    # 해당 ABC.py파일에서 실행 할 때만 print값 출력\n",
        "    print(add(10, 20))        # 하지만, 타 파일에서 import ABC를 했을때는 출력되지 않음\n",
        "    print(mul(10, 20))"
      ],
      "metadata": {
        "colab": {
          "base_uri": "https://localhost:8080/"
        },
        "id": "VhbpTTLFpYsY",
        "outputId": "c7ed078d-2151-4de9-aa2e-ba5d91e08b60"
      },
      "execution_count": null,
      "outputs": [
        {
          "output_type": "stream",
          "name": "stdout",
          "text": [
            "30\n",
            "200\n"
          ]
        }
      ]
    },
    {
      "cell_type": "markdown",
      "source": [
        "위의 if \\_\\_name__='\\_\\_main__':가 없이 print문만 사용할 경우 import만 해도 print 문 출력"
      ],
      "metadata": {
        "id": "i78dDsjzwpj1"
      }
    },
    {
      "cell_type": "code",
      "source": [
        "# DEF.py\n",
        "import ABC # 아무것도 출력되지 않음"
      ],
      "metadata": {
        "id": "fYBqC-pSveq-"
      },
      "execution_count": null,
      "outputs": []
    },
    {
      "cell_type": "markdown",
      "source": [
        "## 상속(super)"
      ],
      "metadata": {
        "id": "GlQsYP2AW_Ze"
      }
    },
    {
      "cell_type": "markdown",
      "source": [
        "- super().\\_\\_init__(부모클래스의 오브젝트)\n",
        "- super().부모클래스의함수()\n",
        "- super(하위클래스, self) = 하위클래스의 바로 위 클래스의 값을 받아오겠다는 뜻"
      ],
      "metadata": {
        "id": "ZP9ivFDnfGow"
      }
    },
    {
      "cell_type": "markdown",
      "source": [
        "#### 1. super()를 써야하는 경우 : 자식클래스에 init 인자를 더 추가해야되는 경우"
      ],
      "metadata": {
        "id": "lAWcHcBfbzIO"
      }
    },
    {
      "cell_type": "code",
      "source": [
        "# 자식클래스에 추가할 init이 없다면 super()를 굳이 사용할 필요가 없다.\n",
        "class Parents:\n",
        "    def __init__(self, one, two):\n",
        "        self.one = one\n",
        "        self.two = two\n",
        "        self.name = '진우'\n",
        "    def just(self):\n",
        "        print('부모클래스 함수')\n",
        "\n",
        "class Son(Parents):\n",
        "    def abc(self):\n",
        "        pass\n",
        "\n",
        "a = Son('one','two')\n",
        "print(a.name)\n",
        "print(a.one)\n",
        "print(a.two)\n",
        "print(a.just())"
      ],
      "metadata": {
        "colab": {
          "base_uri": "https://localhost:8080/"
        },
        "id": "zIiM-PS2cZHw",
        "outputId": "9b212fe1-4303-4a70-88ff-6e0123303d65"
      },
      "execution_count": null,
      "outputs": [
        {
          "output_type": "stream",
          "name": "stdout",
          "text": [
            "진우\n",
            "one\n",
            "two\n",
            "부모클래스 함수\n",
            "None\n"
          ]
        }
      ]
    },
    {
      "cell_type": "markdown",
      "source": [
        "#### 2. super()의 다중상속"
      ],
      "metadata": {
        "id": "vUgEL8vcdGg2"
      }
    },
    {
      "cell_type": "markdown",
      "source": [
        "- 다중상속에서는 중복 출력을 지양하기 위해서 사용한다.\n",
        "- super(하위클래스, self) = 하위클래스의 바로 위 클래스의 값을 받아오겠다는 뜻\n",
        "- super(자식, self) = 부모의 클래스에서 받아오겠다.\n",
        "- super(아기, self) = 자식의 클래스에서 받아오겠다\n",
        "- super() = 해당 클래스의 상위클래스에서 받아오겠다."
      ],
      "metadata": {
        "id": "p4Zp0A7qepFb"
      }
    },
    {
      "cell_type": "code",
      "source": [
        "class Parents:\n",
        "    def __init__(self, one, two):\n",
        "        self.one = one\n",
        "        self.two = two\n",
        "        self.name = '진우'\n",
        "    def just(self):\n",
        "        print('부모클래스 함수')\n",
        "\n",
        "class Son(Parents):\n",
        "    def __init__(self, one, two, three):\n",
        "        super().__init__(one, two)\n",
        "        self.three = three\n",
        "\n",
        "    def just(self):\n",
        "        print('자식클래스 함수')\n",
        "\n",
        "class Baby(Son):\n",
        "    def parents_just(self):\n",
        "        print(super(Son, self).just()) # 부모 클래스 함수 받기\n",
        "\n",
        "    def son_just(self):\n",
        "        print(super().just())          # 자식 클래스 함수 받기\n",
        "\n",
        "    def just(self):\n",
        "        print('손자클래스 함수')       # 손자 클래스 함수\n",
        "\n",
        "a = Baby('one','two','three')\n",
        "\n",
        "print(a.parents_just())\n",
        "print(a.son_just())\n",
        "print(a.just())"
      ],
      "metadata": {
        "colab": {
          "base_uri": "https://localhost:8080/"
        },
        "id": "SfM28igDdKXg",
        "outputId": "9a394213-dbff-4f39-c34f-c1bbd76152ed"
      },
      "execution_count": null,
      "outputs": [
        {
          "output_type": "stream",
          "name": "stdout",
          "text": [
            "부모클래스 함수\n",
            "None\n",
            "None\n",
            "자식클래스 함수\n",
            "None\n",
            "None\n",
            "손자클래스 함수\n",
            "None\n"
          ]
        }
      ]
    },
    {
      "cell_type": "markdown",
      "source": [
        "#### 3. super() 대신 부모 클래스명을 써도 되지만 코드 수정과정이 용이하려면 super()를 사용하는게 좋다.\n",
        "**```super().__init__(one, two) = Parents.__init__(self, one, two)```**"
      ],
      "metadata": {
        "id": "EOVqutbAf_v_"
      }
    },
    {
      "cell_type": "markdown",
      "source": [
        "# Note4 Big O 표기법(notation)"
      ],
      "metadata": {
        "id": "XmuObmEDXJ9U"
      }
    },
    {
      "cell_type": "markdown",
      "source": [
        "![캡처.JPG](data:image/jpeg;base64,/9j/4AAQSkZJRgABAQEAYABgAAD/4RDaRXhpZgAATU0AKgAAAAgABAE7AAIAAAAFAAAISodpAAQAAAABAAAIUJydAAEAAAAKAAAQyOocAAcAAAgMAAAAPgAAAAAc6gAAAAgAAAAAAAAAAAAAAAAAAAAAAAAAAAAAAAAAAAAAAAAAAAAAAAAAAAAAAAAAAAAAAAAAAAAAAAAAAAAAAAAAAAAAAAAAAAAAAAAAAAAAAAAAAAAAAAAAAAAAAAAAAAAAAAAAAAAAAAAAAAAAAAAAAAAAAAAAAAAAAAAAAAAAAAAAAAAAAAAAAAAAAAAAAAAAAAAAAAAAAAAAAAAAAAAAAAAAAAAAAAAAAAAAAAAAAAAAAAAAAAAAAAAAAAAAAAAAAAAAAAAAAAAAAAAAAAAAAAAAAAAAAAAAAAAAAAAAAAAAAAAAAAAAAAAAAAAAAAAAAAAAAAAAAAAAAAAAAAAAAAAAAAAAAAAAAAAAAAAAAAAAAAAAAAAAAAAAAAAAAAAAAAAAAAAAAAAAAAAAAAAAAAAAAAAAAAAAAAAAAAAAAAAAAAAAAAAAAAAAAAAAAAAAAAAAAAAAAAAAAAAAAAAAAAAAAAAAAAAAAAAAAAAAAAAAAAAAAAAAAAAAAAAAAAAAAAAAAAAAAAAAAAAAAAAAAAAAAAAAAAAAAAAAAAAAAAAAAAAAAAAAAAAAAAAAAAAAAAAAAAAAAAAAAAAAAAAAAAAAAAAAAAAAAAAAAAAAAAAAAAAAAAAAAAAAAAAAAAAAAAAAAAAAAAAAAAAAAAAAAAAAAAAAAAAAAAAAAAAAAAAAAAAAAAAAAAAAAAAAAAAAAAAAAAAAAAAAAAAAAAAAAAAAAAAAAAAAAAAAAAAAAAAAAAAAAAAAAAAAAAAAAAAAAAAAAAAAAAAAAAAAAAAAAAAAAAAAAAAAAAAAAAAAAAAAAAAAAAAAAAAAAAAAAAAAAAAAAAAAAAAAAAAAAAAAAAAAAAAAAAAAAAAAAAAAAAAAAAAAAAAAAAAAAAAAAAAAAAAAAAAAAAAAAAAAAAAAAAAAAAAAAAAAAAAAAAAAAAAAAAAAAAAAAAAAAAAAAAAAAAAAAAAAAAAAAAAAAAAAAAAAAAAAAAAAAAAAAAAAAAAAAAAAAAAAAAAAAAAAAAAAAAAAAAAAAAAAAAAAAAAAAAAAAAAAAAAAAAAAAAAAAAAAAAAAAAAAAAAAAAAAAAAAAAAAAAAAAAAAAAAAAAAAAAAAAAAAAAAAAAAAAAAAAAAAAAAAAAAAAAAAAAAAAAAAAAAAAAAAAAAAAAAAAAAAAAAAAAAAAAAAAAAAAAAAAAAAAAAAAAAAAAAAAAAAAAAAAAAAAAAAAAAAAAAAAAAAAAAAAAAAAAAAAAAAAAAAAAAAAAAAAAAAAAAAAAAAAAAAAAAAAAAAAAAAAAAAAAAAAAAAAAAAAAAAAAAAAAAAAAAAAAAAAAAAAAAAAAAAAAAAAAAAAAAAAAAAAAAAAAAAAAAAAAAAAAAAAAAAAAAAAAAAAAAAAAAAAAAAAAAAAAAAAAAAAAAAAAAAAAAAAAAAAAAAAAAAAAAAAAAAAAAAAAAAAAAAAAAAAAAAAAAAAAAAAAAAAAAAAAAAAAAAAAAAAAAAAAAAAAAAAAAAAAAAAAAAAAAAAAAAAAAAAAAAAAAAAAAAAAAAAAAAAAAAAAAAAAAAAAAAAAAAAAAAAAAAAAAAAAAAAAAAAAAAAAAAAAAAAAAAAAAAAAAAAAAAAAAAAAAAAAAAAAAAAAAAAAAAAAAAAAAAAAAAAAAAAAAAAAAAAAAAAAAAAAAAAAAAAAAAAAAAAAAAAAAAAAAAAAAAAAAAAAAAAAAAAAAAAAAAAAAAAAAAAAAAAAAAAAAAAAAAAAAAAAAAAAAAAAAAAAAAAAAAAAAAAAAAAAAAAAAAAAAAAAAAAAAAAAAAAAAAAAAAAAAAAAAAAAAAAAAAAAAAAAAAAAAAAAAAAAAAAAAAAAAAAAAAAAAAAAAAAAAAAAAAAAAAAAAAAAAAAAAAAAAAAAAAAAAAAAAAAAAAAAAAAAAAAAAAAAAAAAAAAAAAAAAAAAAAAAAAAAAAAAAAAAAAAAAAAAAAAAAAAAAAAAAAAAAAAAAAAAAAAAAAAAAAAAAAAAAAAAAAAAAAAAAAAAAAAAAAAAAAAAAAAAAAAAAAAAAAAAAAAAAAAAAAAAAAAAAAAAAAAAAAAAAAAAAAAAAAAAAAAAAAAAAAAAAAAAAAAAAAAAAAAAAAAAAAAAAAAAAAAAAAAAAAAAAAAAAAAAAAAAAAAAAAAAAAAAAAAAAAAAAAAAAAAAAAAAAAAAAAAAAAAAAAAAAAAAAAAAAAAAAAAAAAAAAAAAAAAAAAAAAAAAAAAAAAAAAAAAAAAAAAAAAAAAAAAAAAAAAAAAAAAAAAAAAAAAAAAAAAAAAAAAAAAAAAAAAAAAAAAAAAAAAAAAAAAAAAAAAAAAAAAAAAAAAAAAAAAAAAAAAAAAAAAAAAAAAAAAAAAAAAAAAAAAAAAAAAAAAAAAAAAAAAAAAAAAAAAAAAAAAAAAAAAAAAAAAAAAAAAAAAAAAAAAAAAAAAAAAAAAAAAAAAAAAAAAAAAAAAAAAAAAAAAAAAAAAAAAAAAAAAAAAAAAAAAAAAAAAAAAAAAAAAAAAAAAAAAAAAAAAAAAAAAAAAAAAAAAAAAAAAAAAAAAAAAAAAAAAAAAAAAAAAAAAAAAAAAAAAAAAAAAAAAAAAAAAAAAAAAAAAAAAAAAAAAAAAAAAAAAAAAAAAAAAAAAAAAAAAAAAAAAAAAAAAAAAAAAAAAAAAAAAAAAAAAAAAAAAAAAAAAAAAAAAAAAAAAAAAAAAAAAAAAAAAAAAAAAAAAAAAAAAAAGVudnkAAAAFkAMAAgAAABQAABCekAQAAgAAABQAABCykpEAAgAAAAMyNgAAkpIAAgAAAAMyNgAA6hwABwAACAwAAAiSAAAAABzqAAAACAAAAAAAAAAAAAAAAAAAAAAAAAAAAAAAAAAAAAAAAAAAAAAAAAAAAAAAAAAAAAAAAAAAAAAAAAAAAAAAAAAAAAAAAAAAAAAAAAAAAAAAAAAAAAAAAAAAAAAAAAAAAAAAAAAAAAAAAAAAAAAAAAAAAAAAAAAAAAAAAAAAAAAAAAAAAAAAAAAAAAAAAAAAAAAAAAAAAAAAAAAAAAAAAAAAAAAAAAAAAAAAAAAAAAAAAAAAAAAAAAAAAAAAAAAAAAAAAAAAAAAAAAAAAAAAAAAAAAAAAAAAAAAAAAAAAAAAAAAAAAAAAAAAAAAAAAAAAAAAAAAAAAAAAAAAAAAAAAAAAAAAAAAAAAAAAAAAAAAAAAAAAAAAAAAAAAAAAAAAAAAAAAAAAAAAAAAAAAAAAAAAAAAAAAAAAAAAAAAAAAAAAAAAAAAAAAAAAAAAAAAAAAAAAAAAAAAAAAAAAAAAAAAAAAAAAAAAAAAAAAAAAAAAAAAAAAAAAAAAAAAAAAAAAAAAAAAAAAAAAAAAAAAAAAAAAAAAAAAAAAAAAAAAAAAAAAAAAAAAAAAAAAAAAAAAAAAAAAAAAAAAAAAAAAAAAAAAAAAAAAAAAAAAAAAAAAAAAAAAAAAAAAAAAAAAAAAAAAAAAAAAAAAAAAAAAAAAAAAAAAAAAAAAAAAAAAAAAAAAAAAAAAAAAAAAAAAAAAAAAAAAAAAAAAAAAAAAAAAAAAAAAAAAAAAAAAAAAAAAAAAAAAAAAAAAAAAAAAAAAAAAAAAAAAAAAAAAAAAAAAAAAAAAAAAAAAAAAAAAAAAAAAAAAAAAAAAAAAAAAAAAAAAAAAAAAAAAAAAAAAAAAAAAAAAAAAAAAAAAAAAAAAAAAAAAAAAAAAAAAAAAAAAAAAAAAAAAAAAAAAAAAAAAAAAAAAAAAAAAAAAAAAAAAAAAAAAAAAAAAAAAAAAAAAAAAAAAAAAAAAAAAAAAAAAAAAAAAAAAAAAAAAAAAAAAAAAAAAAAAAAAAAAAAAAAAAAAAAAAAAAAAAAAAAAAAAAAAAAAAAAAAAAAAAAAAAAAAAAAAAAAAAAAAAAAAAAAAAAAAAAAAAAAAAAAAAAAAAAAAAAAAAAAAAAAAAAAAAAAAAAAAAAAAAAAAAAAAAAAAAAAAAAAAAAAAAAAAAAAAAAAAAAAAAAAAAAAAAAAAAAAAAAAAAAAAAAAAAAAAAAAAAAAAAAAAAAAAAAAAAAAAAAAAAAAAAAAAAAAAAAAAAAAAAAAAAAAAAAAAAAAAAAAAAAAAAAAAAAAAAAAAAAAAAAAAAAAAAAAAAAAAAAAAAAAAAAAAAAAAAAAAAAAAAAAAAAAAAAAAAAAAAAAAAAAAAAAAAAAAAAAAAAAAAAAAAAAAAAAAAAAAAAAAAAAAAAAAAAAAAAAAAAAAAAAAAAAAAAAAAAAAAAAAAAAAAAAAAAAAAAAAAAAAAAAAAAAAAAAAAAAAAAAAAAAAAAAAAAAAAAAAAAAAAAAAAAAAAAAAAAAAAAAAAAAAAAAAAAAAAAAAAAAAAAAAAAAAAAAAAAAAAAAAAAAAAAAAAAAAAAAAAAAAAAAAAAAAAAAAAAAAAAAAAAAAAAAAAAAAAAAAAAAAAAAAAAAAAAAAAAAAAAAAAAAAAAAAAAAAAAAAAAAAAAAAAAAAAAAAAAAAAAAAAAAAAAAAAAAAAAAAAAAAAAAAAAAAAAAAAAAAAAAAAAAAAAAAAAAAAAAAAAAAAAAAAAAAAAAAAAAAAAAAAAAAAAAAAAAAAAAAAAAAAAAAAAAAAAAAAAAAAAAAAAAAAAAAAAAAAAAAAAAAAAAAAAAAAAAAAAAAAAAAAAAAAAAAAAAAAAAAAAAAAAAAAAAAAAAAAAAAAAAAAAAAAAAAAAAAAAAAAAAAAAAAAAAAAAAAAAAAAAAAAAAAAAAAAAAAAAAAAAAAAAAAAAAAAAAAAAAAAAAAAAAAAAAAAAAAAAAAAAAAAAAAAAAAAAAAAAAAAAAAAAAAAAAAAAAAAAAAAAAAAAAAAAAAAAAAAAAAAAAAAAAAAAAAAAAAAAAAAAAAAAAAAAAAAAAAAAAAAAAAAAAAAAAAAAAAAAAAAAAAAAAAAAAAAAAAAAAAAAAAAAAAAAAAAAAAAAAAAAAAAAAAAAAAAAAAAAAAAAAAAAAAAAAAAAAAAAAAAAAAAAAAAAAAAAAAAAAAAAAAAAAAAAAAAAAAAAAAAAAAAAAAAAAAAAAAAAAAAAAAAAAAAAAAAAAAAAAAAAAAAAAAAAAAAAAAAAAAAAAAAAAAAAAAAAAAAAAAAAAAAAAAAAAAAAAAAAAAAAAAAAAAAAAAAAAAAAAAAAAAAAAAAAAAAAAAAAAAAAAAAAAAAAAAAAAAAAAAAAAAAAAAAAAAAAAAAAAAAAAAAAAAAAAAAAAAAAAAAAAAAAAAAAAAAAAAAAAAAAAAAAAAAAAAAAAAAAAAAAAAAAAAAAAAAAAAAAAAAAAAAAAAAAAAAAAAAAAAAAAAAAAAAAAAAAAAAAAAAAAAAAAAAAAAAAAAAAAAAAAAAAAAAAAAAAAAAAAAAAAAAAAAAAAAAAAAAAAAAAAAAAAAAAAAAAAAAAAAAAAAAAAAAAAAAAAAAAAAAAAAAAAAAAAAAAAAAAAAAAAAAAAAAAAAAAAAAAAAAAAAAAAAAAAAAAAAAAAAAAAAAAAAAAAAAAAAAAAAAAAAAAAAAAAAAAAAAAAAAAAAAAAAAAAAAAAAAAAAAAAAAAAAAAAAAAAMjAyMzowMTowMiAyMTo1MjoxOQAyMDIzOjAxOjAyIDIxOjUyOjE5AAAAZQBuAHYAeQAAAP/hCxdodHRwOi8vbnMuYWRvYmUuY29tL3hhcC8xLjAvADw/eHBhY2tldCBiZWdpbj0n77u/JyBpZD0nVzVNME1wQ2VoaUh6cmVTek5UY3prYzlkJz8+DQo8eDp4bXBtZXRhIHhtbG5zOng9ImFkb2JlOm5zOm1ldGEvIj48cmRmOlJERiB4bWxuczpyZGY9Imh0dHA6Ly93d3cudzMub3JnLzE5OTkvMDIvMjItcmRmLXN5bnRheC1ucyMiPjxyZGY6RGVzY3JpcHRpb24gcmRmOmFib3V0PSJ1dWlkOmZhZjViZGQ1LWJhM2QtMTFkYS1hZDMxLWQzM2Q3NTE4MmYxYiIgeG1sbnM6ZGM9Imh0dHA6Ly9wdXJsLm9yZy9kYy9lbGVtZW50cy8xLjEvIi8+PHJkZjpEZXNjcmlwdGlvbiByZGY6YWJvdXQ9InV1aWQ6ZmFmNWJkZDUtYmEzZC0xMWRhLWFkMzEtZDMzZDc1MTgyZjFiIiB4bWxuczp4bXA9Imh0dHA6Ly9ucy5hZG9iZS5jb20veGFwLzEuMC8iPjx4bXA6Q3JlYXRlRGF0ZT4yMDIzLTAxLTAyVDIxOjUyOjE5LjI2MzwveG1wOkNyZWF0ZURhdGU+PC9yZGY6RGVzY3JpcHRpb24+PHJkZjpEZXNjcmlwdGlvbiByZGY6YWJvdXQ9InV1aWQ6ZmFmNWJkZDUtYmEzZC0xMWRhLWFkMzEtZDMzZDc1MTgyZjFiIiB4bWxuczpkYz0iaHR0cDovL3B1cmwub3JnL2RjL2VsZW1lbnRzLzEuMS8iPjxkYzpjcmVhdG9yPjxyZGY6U2VxIHhtbG5zOnJkZj0iaHR0cDovL3d3dy53My5vcmcvMTk5OS8wMi8yMi1yZGYtc3ludGF4LW5zIyI+PHJkZjpsaT5lbnZ5PC9yZGY6bGk+PC9yZGY6U2VxPg0KCQkJPC9kYzpjcmVhdG9yPjwvcmRmOkRlc2NyaXB0aW9uPjwvcmRmOlJERj48L3g6eG1wbWV0YT4NCiAgICAgICAgICAgICAgICAgICAgICAgICAgICAgICAgICAgICAgICAgICAgICAgICAgICAgICAgICAgICAgICAgICAgICAgICAgICAgICAgICAgICAgICAgICAgICAgICAgICAKICAgICAgICAgICAgICAgICAgICAgICAgICAgICAgICAgICAgICAgICAgICAgICAgICAgICAgICAgICAgICAgICAgICAgICAgICAgICAgICAgICAgICAgICAgICAgICAgICAgIAogICAgICAgICAgICAgICAgICAgICAgICAgICAgICAgICAgICAgICAgICAgICAgICAgICAgICAgICAgICAgICAgICAgICAgICAgICAgICAgICAgICAgICAgICAgICAgICAgICAgCiAgICAgICAgICAgICAgICAgICAgICAgICAgICAgICAgICAgICAgICAgICAgICAgICAgICAgICAgICAgICAgICAgICAgICAgICAgICAgICAgICAgICAgICAgICAgICAgICAgICAKICAgICAgICAgICAgICAgICAgICAgICAgICAgICAgICAgICAgICAgICAgICAgICAgICAgICAgICAgICAgICAgICAgICAgICAgICAgICAgICAgICAgICAgICAgICAgICAgICAgIAogICAgICAgICAgICAgICAgICAgICAgICAgICAgICAgICAgICAgICAgICAgICAgICAgICAgICAgICAgICAgICAgICAgICAgICAgICAgICAgICAgICAgICAgICAgICAgICAgICAgCiAgICAgICAgICAgICAgICAgICAgICAgICAgICAgICAgICAgICAgICAgICAgICAgICAgICAgICAgICAgICAgICAgICAgICAgICAgICAgICAgICAgICAgICAgICAgICAgICAgICAKICAgICAgICAgICAgICAgICAgICAgICAgICAgICAgICAgICAgICAgICAgICAgICAgICAgICAgICAgICAgICAgICAgICAgICAgICAgICAgICAgICAgICAgICAgICAgICAgICAgIAogICAgICAgICAgICAgICAgICAgICAgICAgICAgICAgICAgICAgICAgICAgICAgICAgICAgICAgICAgICAgICAgICAgICAgICAgICAgICAgICAgICAgICAgICAgICAgICAgICAgCiAgICAgICAgICAgICAgICAgICAgICAgICAgICAgICAgICAgICAgICAgICAgICAgICAgICAgICAgICAgICAgICAgICAgICAgICAgICAgICAgICAgICAgICAgICAgICAgICAgICAKICAgICAgICAgICAgICAgICAgICAgICAgICAgICAgICAgICAgICAgICAgICAgICAgICAgICAgICAgICAgICAgICAgICAgICAgICAgICAgICAgICAgICAgICAgICAgICAgICAgIAogICAgICAgICAgICAgICAgICAgICAgICAgICAgICAgICAgICAgICAgICAgICAgICAgICAgICAgICAgICAgICAgICAgICAgICAgICAgICAgICAgICAgICAgICAgICAgICAgICAgCiAgICAgICAgICAgICAgICAgICAgICAgICAgICAgICAgICAgICAgICAgICAgICAgICAgICAgICAgICAgICAgICAgICAgICAgICAgICAgICAgICAgICAgICAgICAgICAgICAgICAKICAgICAgICAgICAgICAgICAgICAgICAgICAgICAgICAgICAgICAgICAgICAgICAgICAgICAgICAgICAgICAgICAgICAgICAgICAgICAgICAgICAgICAgICAgICAgICAgICAgIAogICAgICAgICAgICAgICAgICAgICAgICAgICAgICAgICAgICAgICAgICAgICAgICAgICAgICAgICAgICAgICAgICAgICAgICAgICAgICAgICAgICAgICAgICAgICAgICAgICAgCiAgICAgICAgICAgICAgICAgICAgICAgICAgICAgICAgICAgICAgICAgICAgICAgICAgICAgICAgICAgICAgICAgICAgICAgICAgICAgICAgICAgICAgICAgICAgICAgICAgICAKICAgICAgICAgICAgICAgICAgICAgICAgICAgICAgICAgICAgICAgICAgICAgICAgICAgICAgICAgICAgICAgICAgICAgICAgICAgICAgICAgICAgICAgICAgICAgICAgICAgIAogICAgICAgICAgICAgICAgICAgICAgICAgICAgICAgICAgICAgICAgICAgICAgICAgICAgICAgICAgICAgICAgICAgICAgICAgICAgICAgICAgICAgICAgICAgICAgICAgICAgCiAgICAgICAgICAgICAgICAgICAgICAgICAgICAgICAgICAgICAgICAgICAgICAgICAgICAgICAgICAgICAgICAgICAgICAgICAgICAgICAgICAgICAgICAgICAgICAgICAgICAKICAgICAgICAgICAgICAgICAgICAgICAgICAgICAgICAgICAgICAgICAgICAgICAgICAgICAgICAgICAgICAgICAgICAgICAgICAgICAgICAgICAgICAgICAgICAgICAgICAgIAogICAgICAgICAgICAgICAgICAgICAgICAgICAgPD94cGFja2V0IGVuZD0ndyc/Pv/bAEMABwUFBgUEBwYFBggHBwgKEQsKCQkKFQ8QDBEYFRoZGBUYFxseJyEbHSUdFxgiLiIlKCkrLCsaIC8zLyoyJyorKv/bAEMBBwgICgkKFAsLFCocGBwqKioqKioqKioqKioqKioqKioqKioqKioqKioqKioqKioqKioqKioqKioqKioqKioqKv/AABEIAR4CugMBIgACEQEDEQH/xAAfAAABBQEBAQEBAQAAAAAAAAAAAQIDBAUGBwgJCgv/xAC1EAACAQMDAgQDBQUEBAAAAX0BAgMABBEFEiExQQYTUWEHInEUMoGRoQgjQrHBFVLR8CQzYnKCCQoWFxgZGiUmJygpKjQ1Njc4OTpDREVGR0hJSlNUVVZXWFlaY2RlZmdoaWpzdHV2d3h5eoOEhYaHiImKkpOUlZaXmJmaoqOkpaanqKmqsrO0tba3uLm6wsPExcbHyMnK0tPU1dbX2Nna4eLj5OXm5+jp6vHy8/T19vf4+fr/xAAfAQADAQEBAQEBAQEBAAAAAAAAAQIDBAUGBwgJCgv/xAC1EQACAQIEBAMEBwUEBAABAncAAQIDEQQFITEGEkFRB2FxEyIygQgUQpGhscEJIzNS8BVictEKFiQ04SXxFxgZGiYnKCkqNTY3ODk6Q0RFRkdISUpTVFVWV1hZWmNkZWZnaGlqc3R1dnd4eXqCg4SFhoeIiYqSk5SVlpeYmZqio6Slpqeoqaqys7S1tre4ubrCw8TFxsfIycrS09TV1tfY2dri4+Tl5ufo6ery8/T19vf4+fr/2gAMAwEAAhEDEQA/APo+SRIkLyuqKOrMcAVD9vs/+fuD/v4Kra4AdLIIyDNFkH/rotXPslv/AM8Iv++BQAz7fZ/8/cH/AH8FH2+z/wCfuD/v4Kf9kt/+eEX/AHwKPslv/wA8Iv8AvgUAM+32f/P3B/38FH2+z/5+4P8Av4Kf9kt/+eEX/fAo+yW//PCL/vgUAM+32f8Az9wf9/BR9vs/+fuD/v4Kf9kt/wDnhF/3wKPslv8A88Iv++BQAz7fZ/8AP3B/38FH2+z/AOfuD/v4Kf8AZLf/AJ4Rf98Cj7Jb/wDPCL/vgUAM+32f/P3B/wB/BR9vs/8An7g/7+Cn/ZLf/nhF/wB8Cj7Jb/8APCL/AL4FADPt9n/z9wf9/BR9vs/+fuD/AL+Cn/ZLf/nhF/3wKPslv/zwi/74FADPt9n/AM/cH/fwUfb7P/n7g/7+Cn/ZLf8A54Rf98Cj7Jb/APPCL/vgUAM+32f/AD9wf9/BR9vs/wDn7g/7+Cn/AGS3/wCeEX/fAo+yW/8Azwi/74FADPt9n/z9wf8AfwUfb7P/AJ+4P+/gp/2S3/54Rf8AfAo+yW//ADwi/wC+BQAz7fZ/8/cH/fwUfb7P/n7g/wC/gp/2S3/54Rf98Cj7Jb/88Iv++BQAz7fZ/wDP3B/38FH9oWf/AD9wf9/BT/slv/zwi/74FZ+nW0B1DVAYYyBcKB8g4/dJQBd+32f/AD9wf9/BR9vs/wDn7g/7+Cn/AGS3/wCeEX/fAo+yW/8Azwi/74FADPt9n/z9wf8AfwUfb7P/AJ+4P+/gp/2S3/54Rf8AfAo+yW//ADwi/wC+BQAz7fZ/8/cH/fwUfb7P/n7g/wC/gp/2S3/54Rf98Cj7Jb/88Iv++BQAz7fZ/wDP3B/38FH2+z/5+4P+/gp/2S3/AOeEX/fAo+yW/wDzwi/74FADPt9n/wA/cH/fwUfb7P8A5+4P+/gp/wBkt/8AnhF/3wKPslv/AM8Iv++BQAz7fZ/8/cH/AH8FH2+z/wCfuD/v4Kf9kt/+eEX/AHwKPslv/wA8Iv8AvgUAM+32f/P3B/38FH2+z/5+4P8Av4Kf9kt/+eEX/fAo+yW//PCL/vgUAM+32f8Az9wf9/BR9vs/+fuD/v4Kf9kt/wDnhF/3wKPslv8A88Iv++BQAz7fZ/8AP3B/38FH2+z/AOfuD/v4Kf8AZLf/AJ4Rf98Cj7Jb/wDPCL/vgUAM+32f/P3B/wB/BR9vs/8An7g/7+Cn/ZLf/nhF/wB8Cj7Jb/8APCL/AL4FADPt9n/z9wf9/BR9vs/+fuD/AL+Cn/ZLf/nhF/3wKPslv/zwi/74FADPt9n/AM/cH/fwUfb7P/n7g/7+Cn/ZLf8A54Rf98Cj7Jb/APPCL/vgUAM+32f/AD9wf9/BR9vs/wDn7g/7+Cn/AGS3/wCeEX/fAo+yW/8Azwi/74FADPt9n/z9wf8AfwUfb7P/AJ+4P+/gp/2S3/54Rf8AfAo+yW//ADwi/wC+BQAz7fZ/8/cH/fwUfb7P/n7g/wC/gp/2S3/54Rf98Cj7Jb/88Iv++BQAz7fZ/wDP3B/38FH2+z/5+4P+/gp/2S3/AOeEX/fAo+yW/wDzwi/74FADPt9n/wA/cH/fwUfb7P8A5+4P+/gp/wBkt/8AnhF/3wKPslv/AM8Iv++BQAz7fZ/8/cH/AH8FH2+z/wCfuD/v4Kf9kt/+eEX/AHwKPslv/wA8Iv8AvgUAM+32f/P3B/38FH2+z/5+4P8Av4Kf9kt/+eEX/fAo+yW//PCL/vgUAM+32f8Az9wf9/BR9vs/+fuD/v4Kf9kt/wDnhF/3wKPslv8A88Iv++BQAz7fZ/8AP3B/38FH2+z/AOfuD/v4Kf8AZLf/AJ4Rf98Cj7Jb/wDPCL/vgUAM+32f/P3B/wB/BR9vs/8An7g/7+Cn/ZLf/nhF/wB8Cj7Jb/8APCL/AL4FADPt9n/z9wf9/BR9vs/+fuD/AL+Cn/ZLf/nhF/3wKPslv/zwi/74FADPt9n/AM/cH/fwUfb7P/n7g/7+Cn/ZLf8A54Rf98Cj7Jb/APPCL/vgUAM+32f/AD9wf9/BR9vs/wDn7g/7+Cn/AGS3/wCeEX/fAo+yW/8Azwi/74FADPt9n/z9wf8AfwUfb7P/AJ+4P+/gp/2S3/54Rf8AfAo+yW//ADwi/wC+BQAz7fZ/8/cH/fwUfb7P/n7g/wC/gp/2S3/54Rf98Cj7Jb/88Iv++BQAz7fZ/wDP3B/38FH2+z/5+4P+/gp/2S3/AOeEX/fAo+yW/wDzwi/74FADPt9n/wA/cH/fwUfb7P8A5+4P+/gp/wBkt/8AnhF/3wKPslv/AM8Iv++BQAz7fZ/8/cH/AH8FH2+z/wCfuD/v4Kf9kt/+eEX/AHwKPslv/wA8Iv8AvgUAM+32f/P3B/38FH2+z/5+4P8Av4Kf9kt/+eEX/fAo+yW//PCL/vgUAEV1BM22GeORsZwjgnFS1RMMcWtW/lxqmbeXO1QM/NHV6gDP1v8A5Bf/AG2h/wDRi1oVn63/AMgv/ttD/wCjFrQoAKKKKACiiigArH8QeLNE8LRQvrt+lr57FYUCNI8hAydqKCxwOuBxWxXAeLoNT0b4j6T4stdFvNcsodOnsJbeyCNLbu7o4kVWIzkKVODwKAOlsPGGgapJpqafqcNw2qxSS2flgkTLH985xxjPIODW1XkV3p3iO81LQNZh8Jf2dNDpeqlrC2lCiOSRR5Ss642u+Oo6EnmuW03wv4t/4RjX7eSx1yzS4OnT28UcZOWQyCceW87My/cDDerNgHFAH0NWTqfinRtGF8dUvRbLYQLcXLPG2EjYlVOQMEkgjAyfbmvF9T0Dxfd/D/RVk0nU4Z7Se8UWsO+WOVGIMbSRmcSRk87cM2zngZGLPijwl4m8QaDqcd9pN4ZW0PSxFbJcO6rcpM3mqCWO4hW5JJ7HJIzQB7NpWt2OtJK2nySP5JVZBJA8TKWUOAQ4B+6w+nTrV+vGdd8O+IILjUkg0/VbvQo/EFvJLZWtwwluLJbREIQlwWUSDkZySDWN4w0bxVqPh6xtNG8Na7axxafO9o0949zPFMZSVRtsqhCFAYM28gEIBkUAe13viXR7D7YLm+jDWPl/aUQF2h8w4TcqgkZrUrwbVvCmvx6l4wn0/SNU+26pbabLb3cbttcq0fnrndw2ecY6K3TodJNC8Vf8LEWUWOrrqQ8QG4fV2uj9hOl8/uQm/GduF27c7ud1AHs9FeO+CvCmvaVrXg7UbqHU1nd9SXVzPcO6hCW8gMpYgDpjA717FQAUUUUAFFFFABWdpv8AyENU/wCvlf8A0UlaNZ2m/wDIQ1T/AK+V/wDRSUAaNFFFABRRRQAUUUUAFFFFABRRRQAUUUUAFFFFABRRRQAUUUUAFFFFABRRRQAUUUUAFFFFAATgZNctpPxK8Ia5qUOn6ZrUUtzOzLCjxSR+aV6hSygMRjoDXUNyhx6V4V4d0XxHf+E/DPhKXwxqWnzaXrS6hPqV2qJDHGkzyfIdxZmIIXGB1PagD3aivBvC3hbxymuam2sSaxFcNZ38d3NEuEunfPlGORpypYZBTEabcYPrUGlaB40i8FatZ/2VqfkLe2Mkqoz21zewKT9oRUMzBWwFyVZd2T1oA+gKq6fqVrqlu81jIZI0leFiUZcOjFWGCB0IPPSvKoPC13rmq+FYH0fXtN0CO41B57W61B96oVQwhyr7lUuDhCxxj0Nc9qdpqdtrXh6x8QabrmoQz3euyy6fY3LRyzRedGYjw6llAZSBnp+VAHuF9rumadJcRXl5GkttateSxDLSLCDgvtGTjIx05q5BPHc20c8Dbo5UDocEZBGRwea+ff8AhDfFdsy3Wp6Vql5q1x4OmtIbyCYsYLr99sSQhh83llEzgguc9ckX/EPh7xhNfSBNO1y41CWw09NEvba8KQafKqgT+cN4wd2SSQ2RxQB7vRXjv/CK+IV1x9YaLUmvk8ZxMjLcOI/7PKoJCE3bdhJbPHb2r2KgAooooAKKKKACiiigAooooAKKKKACiiigAooooAKKKKACiiigAooooAKKKKACiiigAooooAqSf8hq3/695f8A0KOrdVJP+Q1b/wDXvL/6FHVugDP1v/kF/wDbaH/0YtaFZuvOE0lmbOFliJwMn/WL2p/9s2v9y6/8BJP/AImgC/RVD+2bX+5df+Akn/xNH9s2v9y6/wDAST/4mgC/RVD+2bX+5df+Akn/AMTR/bNr/cuv/AST/wCJoAv0VQ/tm1/uXX/gJJ/8TR/bNr/cuv8AwEk/+JoAv0VQ/tm1/uXX/gJJ/wDE0f2za/3Lr/wEk/8AiaAL9FUP7Ztf7l1/4CSf/E0f2za/3Lr/AMBJP/iaAL9FUP7Ztf7l1/4CSf8AxNH9s2v9y6/8BJP/AImgC/RVD+2bX+5df+Akn/xNH9s2v9y6/wDAST/4mgC/RVD+2bX+5df+Akn/AMTR/bNr/cuv/AST/wCJoAv0VQ/tm1/uXX/gJJ/8TR/bNr/cuv8AwEk/+JoAv0VQ/tm1/uXX/gJJ/wDE0f2za/3Lr/wEk/8AiaAL9Z2m/wDIQ1T/AK+V/wDRSU7+2bX+5df+Akn/AMTVCw1W3S+1Jilzh7hSMW0h/wCWaDn5eOlAG9RVD+2bX+5df+Akn/xNH9s2v9y6/wDAST/4mgC/RVD+2bX+5df+Akn/AMTR/bNr/cuv/AST/wCJoAv0VQ/tm1/uXX/gJJ/8TR/bNr/cuv8AwEk/+JoAv0VQ/tm1/uXX/gJJ/wDE0f2za/3Lr/wEk/8AiaAL9FUP7Ztf7l1/4CSf/E0f2za/3Lr/AMBJP/iaAL9FUP7Ztf7l1/4CSf8AxNH9s2v9y6/8BJP/AImgC/RVD+2bX+5df+Akn/xNH9s2v9y6/wDAST/4mgC/RVD+2bX+5df+Akn/AMTR/bNr/cuv/AST/wCJoAv0VQ/tm1/uXX/gJJ/8TR/bNr/cuv8AwEk/+JoAv0VQ/tm1/uXX/gJJ/wDE0f2za/3Lr/wEk/8AiaAL9FUP7Ztf7l1/4CSf/E0f2za/3Lr/AMBJP/iaAL9FUP7Ztf7l1/4CSf8AxNH9s2v9y6/8BJP/AImgC/RVD+2bX+5df+Akn/xNH9s2v9y6/wDAST/4mgC/RVD+2bX+5df+Akn/AMTR/bNr/cuv/AST/wCJoAv0VQ/tm1/uXX/gJJ/8TR/bNr/cuv8AwEk/+JoAv1E9rbyXUVzJBG88IZYpWQFkDY3AHqM4GcdcCqv9s2v9y6/8BJP/AImj+2bX+5df+Akn/wATQBfoqh/bNr/cuv8AwEk/+Jo/tm1/uXX/AICSf/E0AX6Kof2za/3Lr/wEk/8AiaP7Ztf7l1/4CSf/ABNAF+iqH9s2v9y6/wDAST/4mj+2bX+5df8AgJJ/8TQBfoqh/bNr/cuv/AST/wCJo/tm1/uXX/gJJ/8AE0AX6Kof2za/3Lr/AMBJP/iaP7Ztf7l1/wCAkn/xNAF+iqH9s2v9y6/8BJP/AImj+2bX+5df+Akn/wATQBfoqh/bNr/cuv8AwEk/+Jo/tm1/uXX/AICSf/E0AX6Kof2za/3Lr/wEk/8AiaP7Ztf7l1/4CSf/ABNAF+iqH9s2v9y6/wDAST/4mj+2bX+5df8AgJJ/8TQBfoqh/bNr/cuv/AST/wCJo/tm1/uXX/gJJ/8AE0AX6Kof2za/3Lr/AMBJP/iaP7Ztf7l1/wCAkn/xNAF+iqH9s2v9y6/8BJP/AImj+2bX+5df+Akn/wATQBfoqh/bNr/cuv8AwEk/+Jo/tm1/uXX/AICSf/E0AX6Kof2za/3Lr/wEk/8AiaP7Ztf7l1/4CSf/ABNAF+iqH9s2v9y6/wDAST/4mj+2bX+5df8AgJJ/8TQBJJ/yGrf/AK95f/Qo6t1mRXsV3rcIiWUbbeXPmQsn8Uf94DNadAGfrf8AyC/+20P/AKMWtCs/W/8AkF/9tof/AEYtaFABRRRQAUUU2WWOCF5ZnWONFLO7nAUDqSewoAdRXFQfENJdCstQktHjeXUfss1skUksqRsXMcgRQWO9Ajjjo3tWjqPi+O01iC3tLaW8s42ZdRu4UZls/wCFQcDk7uGAztAJOBQB0lFYd94qsrOR3XE1nDYPqNxdRtlY4RnaQBncWw2Mf3T7AxWHiLUpL5E1jw/NptpNE0sV0Z1lEYUZKzY4jOOnLLwRkHAIB0NFYy+L/Dz2Mt4NZsxbxMivKZQFUucJ17Meh6HtSN4w8PJZJdvrFqIHZ0D+Z0KffBHUbcjOemeaANqisFfGeifbL+3lvY4vsLRK8jkbXMihlCf3sgjp17VJJ4w8OxWcF3JrNmILgOYn80fPsID4/wB0nn070AbVFcxc+O9Nhm1ZIFe4XSI4J7p0IK+TINxkXGdwVfmPt0rS1zXRpEdolvbNe3t9L5NpbI4XzG2lySx4VQqkk8+wJIBANWiuW/4TRrOz1Bdd006fqNkkTfZlnEqT+c5SLy5ABnc42cqCD1GME3G8UxL4ytvDv2O4M0sDyvcFCIVKhTsViBvOHHTgd+eKAN2is/RdWTWLF5gnlSwzSW88W7d5ciMVYZwMjjIOBkEHvWhQAUUUUAFZ2m/8hDVP+vlf/RSVo1nab/yENU/6+V/9FJQBo0UUUAFFFFABRRRQAUUUUAFFFFABRRRQAUUUUAFFFFABRRRQAUUVxVh49nvNaS2axtltria5gg2XW+4jaDdlpoto2Kdh5DHGUz97gA7WiuAu/iFqMR05LDSkv5riztbmeGGK5Zo/O/2lhaNQAGI3OPumrcHje6vdG1bUbSHTY49P1E2oN7eeWhjESPnfGsgL7nwFHX68UAdpRXGw+ObmARtrekTWjf2N/aU0MSmRoTlyUZiAAcKMZxzxUNx4/uLfUBplxYQ2upxuBPbG4Eu1S0W11IwSCJSMkDDKRz1IB3FFYfiHXLvS5rS10y0tbi7uhIy/bLs28QVAC3zhHO75hgY9T2rDs/iNHeyXUi20cdvb6VHft+/RnUsejfMAAAc84J7dRQB3FFcBF8Rp0t9Ma7sSj3OqCxuBKq25QNDLICFeTKn92v3sZDcZpNY+Ik1hqV/bxLbh7d9ttb/ZZ5vtYwMHzowUjycjnOMZOKAPQKKwfEPib+w/DcOrRWwuhJc20HlJKv8Ay1mSM4boSN+eoBx1HWsex+IRvdWNs+mTwxjVn03CoZpOLaOYORHuCjMmCckADJI7AHbUVxM3jbV4oPEfmaPZRSaFbNLNt1Ay/P5PmoNvlrwRjuK2/EWvyaLplpLBBFLcXk6W8X2ibyoUZgTukfB2jCkDg5YqO9AG3RXJ6N4ym1O+062ksBm5+1xzPav50avBJGm5XwMxneecZyMY61d0rxdY3tlam7LW15Mq+ZbmJ/3bnqudvrQBv0Vla7rE2lpaQ2Nql3fX0/kW0Mk3lIWCM5LPtYqAqNyFPOBjms7TvFjX2tWdpLbLapJZXc1yJHyYZbeaOJl3dCuXbnuADxQB01FcU3xGtX0OPUbaNpB/aa2kkKRSSSeS8hEcqoo3MHTa64ByG9qS68c6lY+MbjR7nSLNraBBKZra7nnmZC2MLCluSZACrFA3CsDnHNAHbUVxFv46v7zSrGex0u2mnfS49TvBcXZtljibPCZVtzfK3B2gcZYZrodD1v8Atp7t44ykMZiMW4YYq8KSfMOx+fFAGtRXASfEqb+zDPHo8kb/AGW+nDyuDGTbhiAMHJzjnIGKLv4n/Z47xotGuZFt7a2mUyDyTmVmUhkkw4xt4wpzmgDv6KxvDuutrq6i7W0lutrem3RZYyjkCNGyynocufwxWzQAUUUUAFFFFABRRRQAUUUUAFFFFABRRRQAUUUUAFFFFABRRRQBUk/5DVv/ANe8v/oUdW6qSf8AIat/+veX/wBCjq3QBn63/wAgv/ttD/6MWtCs/W/+QX/22h/9GLWhQAUUUUAFQ3drFe2klvcRRTRuOUmQOp7jIPXnFTUUAcJYeGtcbVtKvNQeSS4glV76ae4jkjlCo4HlqIwRhmJH3cAnr31NQ8KGbXNNmtLi+W0WSU3qDU7gbgUOzA3/AN7HTFdPRQBx194aSbW9R02QXJsNZ0UWQnLNKYXjeUnLMSckT5XP9w+1Nn0PxdrtjPpuvahptpZPZzW0hsEZ2umkQoHYOB5YXO7aCcnHzYHPZ0UAcFe+Ddb1y+TUdYk06C7jkslWK1Z2jaOC4EzsSyg7m6BcYHqc1Fq/gTVZ5tRn097MzXV/NcRSG6mt5IFkiiTIeMc/NFkoQVbjkYr0KigDz6/8GeJWm/0XUbWeNntZp2aR7eS5aKExuu9FJiDHDbl54K9DmrPhLwRfaBLHJe3FvMVGok+WztzdTxygZbJONhBJJJ4PPNdxRQB5u/hHWNF8OaxZw+RdnU9GtdMjEe7ck6xeQWIIx5fzbic5AB4rqtc0K6u4dMudKlhTUtJk8y3NwCY5AUKOjY5AIbqOhAPPQ71FAHn+v+F9b1Gxuda1I2ranDPZTw2lmGdFhtrgTsgZgC7v83YDIQY6mupvNKlu/FOkarHIghsoLhHU53MZPLxj6bDmteigDnvCFhPbRate3KlDqmpS3ccbLgpHhUTI7ErGG/4FXQ0UUAFFFFABWdpv/IQ1T/r5X/0UlaNZ2m/8hDVP+vlf/RSUAaNFFFABRRRQAUUUUAFFFFABRRRQAUUUUAFFFFABRRRQAUUUUAFcddaV4gh1zWLmwWEpeyKYpAse4IIkXaSwzjcGOORz712NFAHHv4Dhv9M0v7ZcG1v7ayit7iS3hhfzSigYPmRtwDuxjHU1UbwrrUNvcujw3l7HraXtvdTRxCRovKjRidqqob5WHbgCu7ooA4Pw54c8Sy2jW3jM2lzHdaTHp9xJFOzTBkU7n3bRne0j/wC7sU85OJr/AMD3RkingvpL+5aXzLie7Kq74MIAARQoAWL06/Wu2ooAwfGWiza9oH2O3htpj50buk8aNlA3zbN6sqvjOCQfw6jJ07wzqLXGqm/RZrW408WttDqbpOwbLEhtigeXyvBJPXGK7SigDz/RPCWsWur6dLeZlihuDc3QumgZfM8low0RjjVyRu2jeSAueM4xQ1X4e3N9qV/KmmwxLLK5heCVxhT90485QD3xtxmvT6KAMXUdG+0+CrjSra2txK1mUhjmjRo1l2/KSpBXhsHoaxvDXhSXSNQiby54oY97qpe22K7LtLbY4lOccZzXZ0UAcdqngOH/AIR7U00uWY6pe2VxDPO7gfbnkRgDNxg4Y5BAG0cDC5FbWv2N5eeHTa2McMs2+AtFMcJIiyIZEJweCgYdO9a9FAHB6H4W12HxZc3Wq3LLpckLxrZxyoYwpChUGEBwBu7L0Xk81a0/w/NHa20Wo+H7eWdVVZp0vSAx7sFx+OK7KigDN1bRk1OK18u4ktJ7KYTW88QUmNtrIeGBBBVmBB9fWsWLweLfW7MkLeWUem3kFw93h2mmmmikLMuACCUcnGAOABXWUUAcFZeGvEEt5pU+rTPNdwTRyX00s6PBLsyf3cYQFcMcr93bnktznZvfBdvdXTS2+pXlihn+0iC2ittizd5BviZtxPOc5rpKKAOJ/wCEWum8PeGre+0nTNTm02IJcxXCRhc7MfIdhA+YA4AAOK6LSLa4juL66u7RbWW6kV2VbjzQcIF4+UY4UetalFAHnGr+AJ31LWLnSdPtbe5u1aO0nt1gijVGQBhMvlFny24t97IPbtr+IvDNzea3pl/Z2FhP9ntpIpjJBGzFsxmMjeOg2vjnjPvXYUUAc74esdcshdPf/Zy91qLTSZPIh8lVGNoxu3qOvbPOeK6KiigAooooAKKKKACiiigAooooAKKKKACiiigAooooAKKKKACiiigCpJ/yGrf/AK95f/Qo6t1Uk/5DVv8A9e8v/oUdW6AM3X2K6QzKpciWIhQcZ/eLxzS/2hff9Aa4/wC/0X/xVLrf/IL/AO20P/oxa0KAM7+0L7/oDXH/AH+i/wDiqP7Qvv8AoDXH/f6L/wCKrRooAzv7Qvv+gNcf9/ov/iqP7Qvv+gNcf9/ov/iq0aKAM7+0L7/oDXH/AH+i/wDiqP7Qvv8AoDXH/f6L/wCKrRooAzv7Qvv+gNcf9/ov/iqP7Qvv+gNcf9/ov/iq0aKAM7+0L7/oDXH/AH+i/wDiqP7Qvv8AoDXH/f6L/wCKrRooAzv7Qvv+gNcf9/ov/iqP7Qvv+gNcf9/ov/iq0aKAM7+0L7/oDXH/AH+i/wDiqP7Qvv8AoDXH/f6L/wCKrRooAzv7Qvv+gNcf9/ov/iqP7Qvv+gNcf9/ov/iq0aKAM7+0L7/oDXH/AH+i/wDiqP7Qvv8AoDXH/f6L/wCKrRooAzv7Qvv+gNcf9/ov/iqP7Qvv+gNcf9/ov/iq0aKAM7+0L7/oDXH/AH+i/wDiqo2F9eLfaiV0qdi06lgJY/lPlpx978ePWt+s7Tf+Qhqn/Xyv/opKAD+0L7/oDXH/AH+i/wDiqP7Qvv8AoDXH/f6L/wCKrRooAzv7Qvv+gNcf9/ov/iqP7Qvv+gNcf9/ov/iq0aKAM7+0L7/oDXH/AH+i/wDiqP7Qvv8AoDXH/f6L/wCKrRooAzv7Qvv+gNcf9/ov/iqP7Qvv+gNcf9/ov/iq0aKAM7+0L7/oDXH/AH+i/wDiqP7Qvv8AoDXH/f6L/wCKrRooAzv7Qvv+gNcf9/ov/iqP7Qvv+gNcf9/ov/iq0aKAM7+0L7/oDXH/AH+i/wDiqP7Qvv8AoDXH/f6L/wCKrRooAzv7Qvv+gNcf9/ov/iqP7Qvv+gNcf9/ov/iq0aKAM7+0L7/oDXH/AH+i/wDiqP7Qvv8AoDXH/f6L/wCKrRooAzv7Qvv+gNcf9/ov/iqP7Qvv+gNcf9/ov/iq0aKAM7+0L7/oDXH/AH+i/wDiqP7Qvv8AoDXH/f6L/wCKrRooAzv7Qvv+gNcf9/ov/iqP7Qvv+gNcf9/ov/iq0aKAM7+0L7/oDXH/AH+i/wDiqP7Qvv8AoDXH/f6L/wCKrRooAzv7Qvv+gNcf9/ov/iqP7Qvv+gNcf9/ov/iq0aKAM7+0L7/oDXH/AH+i/wDiqP7Qvv8AoDXH/f6L/wCKrRooAzv7Qvv+gNcf9/ov/iqP7Qvv+gNcf9/ov/iq0aKAM7+0L7/oDXH/AH+i/wDiqP7Qvv8AoDXH/f6L/wCKrRooAzv7Qvv+gNcf9/ov/iqP7Qvv+gNcf9/ov/iq0aKAM7+0L7/oDXH/AH+i/wDiqP7Qvv8AoDXH/f6L/wCKrRooAzv7Qvv+gNcf9/ov/iqP7Qvv+gNcf9/ov/iq0aKAM7+0L7/oDXH/AH+i/wDiqP7Qvv8AoDXH/f6L/wCKrRooAzv7Qvv+gNcf9/ov/iqP7Qvv+gNcf9/ov/iq0aKAM7+0L7/oDXH/AH+i/wDiqP7Qvv8AoDXH/f6L/wCKrRooAzv7Qvv+gNcf9/ov/iqP7Qvv+gNcf9/ov/iq0aKAM7+0L7/oDXH/AH+i/wDiqP7Qvv8AoDXH/f6L/wCKrRooAzv7Qvv+gNcf9/ov/iqP7Qvv+gNcf9/ov/iq0aKAM7+0L7/oDXH/AH+i/wDiqP7Qvv8AoDXH/f6L/wCKrRooAzv7Qvv+gNcf9/ov/iqP7Qvv+gNcf9/ov/iq0aKAM7+0L7/oDXH/AH+i/wDiqP7Qvv8AoDXH/f6L/wCKrRooAzv7Qvv+gNcf9/ov/iqP7Qvv+gNcf9/ov/iq0aKAM7+0L7/oDXH/AH+i/wDiqP7Qvv8AoDXH/f6L/wCKrRooAy4Li4n1uH7RZSW2LeXBd0bd80f90mtSqkn/ACGrf/r3l/8AQo6t0AZ+t/8AIL/7bQ/+jFrQrP1v/kF/9tof/Ri1oUAFU9Xvl0vRL6/kbYlrbyTMxTfgKpOduRnp0yM+tXKq6nZvqGmzWsV1JaNKu3zo0Ryozz8rqynI45B60AcnYeIvElzqunRgWM1rPMBcH7OkTJHsY7lIunOdwUY2nqav+K9T17w/4b1jWoLjTZItPtZrpIHtZNzhFLBSwk6nGM4/CqOm/DdNL1U39vrlyZGmWVx9gshkqAMAiAFQQMfKR3PWrd94KutStZ7W98Ya5LbXClZIWisirKeq4NtyKAKvivxtdaJa6sbCCGSfStLS9nEynbukcrGvBH/POQn/AIDXSatrNvo8dv56SzS3Uwgt4IV3PK+C2BkgcKrEkkAAVzGqeApdRn1S2l1C5lg1rSo7O6u5BH5iyQuxRyFCqSwlYHCgDYPWtCbwvqd39mmvvEBmvbG4FxZzizRBGdjIysoPzKyuR1BHGDQAsnj3SktDPHBfTeXDLNcRxWxL2yRuUfeOxDKwwMk7TgECluPHek21xbpNHeLDPLBCLkwERq823y1yeTncoJUEAnBIrndb8G6zZwXEfh+e8luL6ynhurtGgHnSSSM43q4GwAyNhk3EAkbTwaln+E1pc3yXc2oFpVntJxI9sjyobcR4jSQ8rETHkqO5JzyQQDQvfiFbjS5r/T7a4eOKK6aNZ4Cn2kwoxYI2eACpBJHPam6b8QVmvZ4tT0+5gjSS0QSxwlkiNxHGVDtnGS744zgYzjOauS+BrWbR7bTpLuby4IrqLcFGWE6sG/LdxS2vgtIdLntJ9Qkmeea0meXywvNv5W3j38oZ+poAjT4iaVNdR29vaalO8808Fv5dqSJ5IWIlVTnHy4JycA4OCTxSw+O9NluG8uVrhJ0tTZwRQESymdHdRycHKoW/h2hTk1Z0zwhBpkmntHdSP9huLyddyj5jcSM7A/QvgfSsyH4cW9q9rPaajKl5ZJaC2maMMEa3ieLJX+IMkjAjI68EUAatt4nS51vT7cRvHb6jBMYRNE0ciTQsA6MD6gkjj+A8kEVWfWNc1bXNVsvDosIItKdIZJb2J5PPmZBIVUKy7QFdPmOeSeOOVg8N3f8AwkOjz313PeJpUM8v2mYrumnmOPuj7oVdwAxjDKBnBqW+8MXLatd3+h6zNpT36KLtEhSVZGUbVkUN91woAzyCAMg4oAxpPiDdT6D9tsdPSOaHSLvULuOdtwheHKCLjGcyBufRD3IxuS+M9Kh1J7V/tAjju1sZLvyv3CXDAERlvX5gM4xkgZzxWXP4FWBksdNd00y60efSros+6Rd2WSbJ+8ctJn3cHpmrFx4Fiub2dZdQmbS7jUF1KWwMa4My4ON/XYXUOV6574OKALmleMtN1jUbW0tY7pTeW73VpLJCVjuIlKgurenzrwcHBBxgikl8Z6dDrcumvDeZhu47KW4EB8lJpEVkUt7h15AwCQDjIrnfB/hnXbDxBpcuoieGw0rTJbOGCaWJwhdo9oRkG5wFjxucKSAvy53E9JP4VhnkvWNzIPtep2+othR8rRCIBR7HyR+ZoAt6JqVxfi+hvo447mxu3t5PLJ2sMK6MM9MxuhI7EkVp1j+H7G7tm1S71BFin1C+e48pW3CNAiRRjPqUiVj6FiOcZrYoAKztN/5CGqf9fK/+ikrRrO03/kIap/18r/6KSgDRooooAKKKKACiiigAooooAKKKKACiiigAooooAKKKKACiiigDE8V6ne6VpMU1gNge4SOe5MDTfZoznMnlry3OB7bsngGuft/FOseRZXN8HSD7NqMkjpZmMzpCV8qQRucqSMkKSM59MV0/iXRj4g8NX2lLcfZjdReWJtpbZz1wCM/mKzLHwpd2/iS01W71Tz1tYZohDiZt3mbOcyTPjGzsOc0AcpdeNfEKaXcXFvcwzRb7QJII4mkj3y7X3LFJIqrtKgFsclvSusTUtUuPGQtLC7judPhZjej7GVWAbDtQS7sM+/aSApwAc4OMy6v4TS8sXj0++vrW4MkbrI1/O6ja6sRtL4IIBGMd6zNV8C3t/wCIL3ULbWVt47uUSGMwu5QfZjbtj94FzhiwbbwcdRwQDP8ADfirxRqvh3Q43itLfUptH/tC5mvVLCUgIAAqFdm4sxJ/hwODnjovDGvya/cNcgNHbT6dZ3cULAZjMquxBPfoPyp1v4PsW0WwsdVeS+ksLZrSO6DtDI8JwNrFGGchU3DoxXOB0F+z0pbLV7u7iKrFNBDCkKrgRiPf+nz9PagDh9a8Va0uuyrpOuaXFYwSsJo7mS3ErDONsQ83kjqd+zpjvxu6prmqReHrTUNFvdOuGuFihhimi3NPOzbcBkl2jnOcZxtY5wKk1DwleXmo3dyurcTPuiEonzbjaBhDHMgAyM9AeeSa1rbQ7aK4tLu5Ml5e2tuIEuJ3JI4wzBfuqzdyACenSgDl9S8Z3tlY62tojT3dnqH2eMG3chVYLsCgD96xJI2qSeearWnjy+kht5p1Alk0u8lWEQOQ88LIPnXG6PB3qVYjn3xXVR+HLeSC9hviZkub43iFGaNom+XGGUgggr1BHWksfDdtpusQXdj+7hit5ojGxZ2d5ZFkZy7EkklTnOSc0AcVrPj3WLRTDZ3unX4ZrI/atPtZSsXmzlHRiDIgO1RyxX73riu08Vavd6ZpDJpMDT6ncho7RSuI1fH3pHPyqo6nPXoMkgVXi8Pan/Zw0++1O0v7XzvNP2mykaQjzfMUFvO/hOADjsOKt+KNEl8Q6DJp0NzHbF5YnZ5IBKpVXVmUqSPvAEZzkZyOlAGBeeMbo3k11ZI8VpBo9xcywXUZQxyxyqvzFVY8DdjGQ3UZHNYFn448R+dY2l20UkrXHlXElu0cgGZ7UAscAY2TMPl3H5ucY46rwz4Hh8PazJqCm0MjwGA+RA0Z2lg398g8j0z71HH4KvBcW5uNX85YZ0lMjiYs+2QPtKGUxjO0chMdwAQMAGjb+Inm+IF7oBVBBBYRXEcm07mlLsJEznB2qYTjqN/PUVjr4j1mTSvDwsL7T59Q1G1tne0ltHeQ7gDLKSkihECknJXGQBySBXSx+HtKiaN0s08yK5a7SUklxKwIZ9xOSSDjr046cVQtPD9/p1rpMenalDE1jYCzmEtszpOQIwHwHXBGw4znhzQBnXXiXUINK1dkaKKeDUTbwS3LRqjR7hu2Auu5lXccMRk45NJ4X8RXF7rptH1WK/tHgZg8/kxzCUEYVVjb5l27iSQMYHJzxsS6HetpTwQX8FrdveJdNPBbsEYh1ZlZDISQwUqfmHBq7ZW+pRzlr+6spo9vCwWbRMD65MjcdeMfjQBzet+JtVsPEU1pAscYjeBbW1a0eVr9XI3srqcJtOR0O3bubgioI/FeoJo9/PPeW1vLb6jcwQLPZSSNdBZnVI41DJvbhR8pPvzmuq1DRLDVZEkvoWkZBtUiV0wP+AkVljwzdQaLa2dhqht5rW+e5jmdGkzGZWfyT84JXawU/N/CKAIdD1fWZvFD6drMKiRdItLiZbcDyoJ3aYSDJO4g7AB1+727z3HiuHTvEd7Yaruggjihe3kW3kbzC27fyARxhfzrQsNNuYNSuL6+ltJp54kiLwWzxEqhYqDmRgQC7dh1qle+HdSur2WeDxhrVlG7ZW3gisykY9AXt2bH1JoAq6/4nmgtLWTQZDLLcwyyxRHTJ7gyBCo6IylBlgMn1FZlp4v1C41bXEu7i209NP061kAKi4CStJMHyiENuOxVEecggdzz0MPhiMxwnU9T1LUrmHesd3JOLeQI+0lP9HEYIyinkdqT/hHCusajeRXTIt5pkNggOWeMxtMd5YnLH96OvPy9eaAMLQfEHiG6j0xNeMVvfyX4hu7SOzaLy0MMrr8zOwYHahyvQgjqCK7muP0zwM+n6hptyLu0Bsn3OYbWRHn/AHbJglpmHVt3Q9K6mzhngtEju7k3UozumKBC3PHA44HH4UAT0UUUAFFFFABRRRQAUUUUAFFFFABRRRQAUUUUAFFFFABRRRQBUk/5DVv/ANe8v/oUdW6qSf8AIat/+veX/wBCjq3QBn63/wAgv/ttD/6MWtCs3Xt39kN5eN3mxbd3TPmLTv8Aicetj+T0AaFFZ/8AxOPWx/J6P+Jx62P5PQBoUVn/APE49bH8no/4nHrY/k9AGhRWf/xOPWx/J6P+Jx62P5PQBoUVn/8AE49bH8no/wCJx62P5PQBoUVn/wDE49bH8no/4nHrY/k9AGhRWf8A8Tj1sfyej/icetj+T0AaFFZ//E49bH8no/4nHrY/k9AGhRWf/wATj1sfyej/AInHrY/k9AGhRWf/AMTj1sfyej/icetj+T0AaFFZ/wDxOPWx/J6P+Jx62P5PQBoVnab/AMhDVP8Ar5X/ANFJS/8AE49bH8nqjYf2p9u1LYbPd9oXfkNjPlp0/DFAG9RWf/xOPWx/J6P+Jx62P5PQBoUVn/8AE49bH8no/wCJx62P5PQBoUVn/wDE49bH8no/4nHrY/k9AGhRWf8A8Tj1sfyej/icetj+T0AaFFZ//E49bH8no/4nHrY/k9AGhRWf/wATj1sfyej/AInHrY/k9AGhRWf/AMTj1sfyej/icetj+T0AaFFZ/wDxOPWx/J6P+Jx62P5PQBoUVn/8Tj1sfyej/icetj+T0AaFFZ//ABOPWx/J6P8Aicetj+T0AaFFZ/8AxOPWx/J6P+Jx62P5PQBoUVn/APE49bH8no/4nHrY/k9AGhRWf/xOPWx/J6P+Jx62P5PQBoUVn/8AE49bH8no/wCJx62P5PQBoUVn/wDE49bH8no/4nHrY/k9AGhRWf8A8Tj1sfyej/icetj+T0AaFFZ//E49bH8no/4nHrY/k9AGhRWf/wATj1sfyej/AInHrY/k9AGhRWf/AMTj1sfyej/icetj+T0AaFFZ/wDxOPWx/J6P+Jx62P5PQBoUVn/8Tj1sfyej/icetj+T0AaFFZ//ABOPWx/J6P8Aicetj+T0AaFFZ/8AxOPWx/J6P+Jx62P5PQBoUVn/APE49bH8no/4nHrY/k9AGhRWf/xOPWx/J6P+Jx62P5PQBoUVn/8AE49bH8no/wCJx62P5PQBoUVn/wDE49bH8no/4nHrY/k9AGhRWf8A8Tj1sfyej/icetj+T0AaFFZ//E49bH8no/4nHrY/k9AGhRWf/wATj1sfyej/AInHrY/k9AGhRWf/AMTj1sfyej/icetj+T0ASyf8hq3/AOveX/0KOrdZcP23+24ftvkY+zy7fKB/vR9c1qUAZ+t/8gv/ALbQ/wDoxa0Kz9b/AOQX/wBtof8A0YtaFABRRRQAUUUUAFFcFpkniZ/ETLcTTkQXVyuoM80RtvJ2s0CxKp3K+GiPIHG7OcrnOvb/AFdrHSrWO5v7V20e0kXUYmlmjklO7eMIjKxAUEktzvFAHp1FecaXf6tFp+vtqsmozXMmtJFZiO6jTdut4Qqh8KgQsT0HXPBbgzw3+qaO8WpS6rDq1pp+gS3N7Kku5Zn3FlKYP+wwDEHIU96APQKK5fQL7V/+Emk0vWLpZ3h0i1uJdkYVfPd5Q5HfHygAeg+tUIvGeoPqsum6Xpj6jdPeXqL9oukiSNYDECMhOh80AcE+p7gA7eivOrr4wadA0DrZnyTZW95PvmxKFmGQsaBT5jKvJGV9snirrfEmBPF8eivaQES3E1shivFklRo42fMiKCEVgjY+Yt0yo7AHcUVx1j4p1O6bw1qF3YrY2etu0AtjKJGXdCZopCQBg4jdSvI+Yc8VNLcalrvjLVNKttUuNJtdLt4Tm2jjLzyShjuJkVhtAUDAHJzzxigDq6K4Gx8Y6iZrCwvCk1zbQ6jPezRrsE62kvkDA5272dW46bSKntPGWo61plwken/2ZezaQuq2BMwl3Ic4WQbRtOQMgZ4brmgDt6KpaNqUes6FYapApWK9t47hFPUB1DAfrV2gAooooAKztN/5CGqf9fK/+ikrRrO03/kIap/18r/6KSgDRooooAKKKKACiiigAooooAKKKKACiiigAooooAKKKKACisrxNJew+G7uXTXKTxhXLKyqwjDAybS/yhtgbBPGcZrlIbjVmm0F3uLuOzm14fZ1u7mPzZLb7FKcMUbDgyAsBknABPTgA9AoryXUtS1648O6lLYXOpWl2dNmLWkjSb0kKg4V5IwNy4IwnJzwRiuouJrq417TrW3vrq0MQt5ruSa5VYypPEaxn5mZyCueB97BJGKAOyorz/Tb/WHaxtZ9TENnqWq6g8V5CyuxhWSVoow7bl5XBGBwqYq54U1a81TV7KS7ujOH0tzvX5Un23BRZQo4G5QG4/velAHaUV5z4vub59cdYtWvtGjjkUo0YncXOAMpt2hVUnIJUse4xWhealdReDYZo72+s9SbfBaWwO9rqY/cGZotzDoScAAbs8DNAHbUVwd1rGqaVF4gjkeeaW1it/8ASyqmMuYkUqq71KszHI6KM5JqhpWua2dY0O31Jbl5o7+e1uLdCu5T5G/LkSFXUB0bg5HpnigD0uivKNa1PxXH4Sllt5tYaZdFmfUC9tFGIJwqZKsdmMfvPuljxwDXZ+KZLw+DF+wT3ENy5gPmQpKzbQys4JjVmXKqw3Y4zQB0lFeeeFtVvL66nWKO/hmZJYomuZ7ueNXGdrsHiCgHGck55xjJrIj1+/t4NStbu8v7OVYRA6Xtz5rSXfmAF4nXhEwCMfKDkYVccgHrVFeaX+q63H8U1gj1HbElxHbrZ+XJvkidQxlWLfsdF3FTIcEFTxwM9L4U1C+Pw/tb2/i8yZbbcmJHmaYAcFsLuye4Ab8aAOmorzfT/EurJ4quruY3ksUyRK1sbG58hVy3EPyFg68liVAfco+XbWtfatJaeIrq21O/1i2+03Yi06O1tA6SKLdXIU+W2TlZScnsaAOyorjfFniCbSV01EuJ7aGW2kmku538pV2bOHxDJhiGJ6KPlarfgm9vr611CW/1GO+U3INvsyfKj8tPlLGKPJ3Bz93oRzQB09FefXni67s9e1L+03itbWaH7PFamb99aFFdhM2Pl/eFgMK2VCp1yduM2oeJ7ZvC08V3PJbDT7IyMI5pFmaQBZCXVvLYrguS5HBGM0AetUV5P4c13Xbf4aatLcXMza5NHb2+nrLIZHe4eyg2gbx97eSzA8A7iehNdU+vw3+oaXewXVxHay6TeSSrCpd0dXtwQUAOXUlhjBIORigDrqK4SW411NMivPPum+06tbrZwXzrE3k5AO8xrxvOTggkDaCAcgavjS5uodMhW1aaFmJLXETSgQ8dT5ancMn7pK5x1oA6aiuD8IT3P2a6t7rWr67hERI1aYOhABzysiGNTg8kE5x0FJZ6pqoOm37XF7qllea0y2KqsaSSW32SQbm+4pUurSDP8O0jJoA72ivIb2bX7bUPELNqWps7WV4uwmZVQopEbIpAjUtgMPLJP5mvWLMztZxG8SNJyo3rG5ZQfYkAn8qAJqKKKACiiigAooooAKKKKACiiigAooooAKKKKACiiigCpJ/yGrf/AK95f/Qo6t1Uk/5DVv8A9e8v/oUdW6AM/W/+QX/22h/9GLWhWfrf/IL/AO20P/oxa0KACiiigAooooA5DWPhxpms6xd6jPcyJLdsrSKbO0mAIRU4aWF2Awo4zjOT3rettC0+DSbLT5beO6hsoEgiNxGrttVQuemM4A6AVo0UActe+ANLvdN1Kx3vBBqF/FfMkUURWN41jUAKylSp8oEgg5yah0n4baVpNi1ql5qFwj2J0+TzpVxJb7SFjKqoUBSzEEAHLNzg4rr6KAOZt/BsckdrPqV9ef2lFaR2kt1Z3ckHnpGW2lgpAz8xPsSav2PhjS9O1AX1rC4uN8z72lZsmYoZDye5jT8veteigDnE8CaHEIlhhnijS3htnjjuXCzRxf6tZBn5sZPXqDg5FJF4C0KG8guI4rgfZ7ma7hi+0v5ccsobzGC5xz5jfTPGK6SigDDfw3EdQ0ModljokbG3hySTJs8pSSeyoXHuW9qm1Lw3Y6nfreu91bXSx+S01pcvCzpnO1tpG4Ak4z0ycYya1qKAObl8F6fHcaU2nQrBFYwT2Txbj89vMBvGepbeqNk8n5u5zT73wnbf2a8Wkj7Pc/2aNLimaRj5UHA6c5IHIz1IHNdDRQBBY2UGm6fb2Nmnl29tEsMSD+FVGAPyFT0UUAFFFFABWdpv/IQ1T/r5X/0UlaNZ2m/8hDVP+vlf/RSUAaNFFFABRRRQAUUUUAFFFFABRRRQAUUUUAFFFFABRRRQBBfWkeoafc2cxZY7iJonKHkBgQce/NcfpXws0fSdT0y+hup2fTJPMhAtbSLcfLaP5mjhV2GHPG7k4NdvRQBk6v4Y0rWNOvbW4srdGvIZInnWFPMXeCCwJHXnOaydY+H1jrGtWuqvf3dtdWtvHBG8KQkqI2ZlYM8bMpy5zggHAyK6yigDF03wnpOmaIdHW3FzpwkLx212BKkWecDcOmcnnPLHtgC4mlQR6wuoxlkdLX7KsagBAu7d0/Cr1FAGDqfhSHUNUkv4dQu7KeWNY5fJSFw6rnH+tjfHU9MVe0zQtP0q2tIra3QtaRGKKZ1BkVSckBscAnsMD24rQooAoppNsLjUJJV89dQKmaKVQyEBAmMY5BA71XXw3p0N3p01lbx2Sac8jxQW0axxkupU5AHvnitaigDAPhYpPdvaa5qdrHdTNNJBH5BQM3XG6InH41oavo9vreizaZetJ5MyqGZCA3BBB6YPIHBBB6EEcVfooA5/SfCMOm6yuqTX9xeXUcDW8ZkjhiVUYqSMRIm7lR97OO2Mmsqb4YaZNqU961/c75rl7khrWzk2szl8BngLYBPGSSABzXa0UAY974fa51WS/ttY1CwkliSJ0tjEVYIWIOHjbn5z0NaNna/ZbGO2aV7gIu0vKFBb6hQB+QFT0UAZFx4W0eZYvJ0+1tpIp4p1lggRWBjkVwM46Hbg+xNV7rwZpV7eR3VzJqTzQyNLE39qXI8piCpKgSfLwzDjHBIrfooAw7vwjpt9afZrqbU5ITEYWQ6pc4dTnIb5/mzkjnPHHQVd0zR7fSd4tpbyQOACLm8lnxj03scde1X6KAON1T4bWGq61falLqV4r3rq7xGG2lRMIqYXzImIGFBxnGST3rRvvB1re2GmQC7ngk0uPy7eVIoT8u0KcxtGY+ijoox2wCa6GigDI0Pw3ZaFbukJa4lkmadppUQHeVCkqqKqrwBwoGeSckk1abS4DrEGorlJYYZogqgBW8xoyxPv+6X8zV2igDn9O8KvpsdnBHr+qTWtmEWK3mW3K7UGFBIiDdB1zn3q9reh2+u2sMNxLLC0Ewnhli2ko4BAOGDKeGPBBHfqBWlRQBhaf4SsbNrp7x31OS7WNZmvIosMEJZRsRFXgknOM9OeBWndWEd3cWMzsymynM0YXGCTG8eD7YkP4gVaooA43U/hrY6nJqhbVb6GPVHd540htWwWUKdrPCzjgf3uK7FRtUKOgGKWigAooooAKKKKACiiigAooooAKKKKACiiigAooooAKKKKAKkn/Iat/wDr3l/9Cjq3VST/AJDVv/17y/8AoUdW6AM3XgW0hgrFCZYgGA6fvF55p32C9/6C9x/36i/+Io1v/kF/9tof/Ri1oUAZ/wBgvf8AoL3H/fqL/wCIo+wXv/QXuP8Av1F/8RWhRQBn/YL3/oL3H/fqL/4ij7Be/wDQXuP+/UX/AMRV8sFxuIGTgZPU0pIAJJwB1JoAz/sF7/0F7j/v1F/8RR9gvf8AoL3H/fqL/wCIrQByMjkUgYEkAgkHBwelAFD7Be/9Be4/79Rf/EUfYL3/AKC9x/36i/8AiK0KKAM/7Be/9Be4/wC/UX/xFH2C9/6C9x/36i/+IrQooAz/ALBe/wDQXuP+/UX/AMRR9gvf+gvcf9+ov/iK0KKAM/7Be/8AQXuP+/UX/wARR9gvf+gvcf8AfqL/AOIrQooAz/sF7/0F7j/v1F/8RR9gvf8AoL3H/fqL/wCIrQooAz/sF7/0F7j/AL9Rf/EUfYL3/oL3H/fqL/4itCigDP8AsF7/ANBe4/79Rf8AxFH2C9/6C9x/36i/+IrQooAz/sF7/wBBe4/79Rf/ABFUbCyu2vtSC6pOpW4UEiOP5v3ac/d/Dj0rerO03/kIap/18r/6KSgBfsF7/wBBe4/79Rf/ABFH2C9/6C9x/wB+ov8A4itCigDP+wXv/QXuP+/UX/xFH2C9/wCgvcf9+ov/AIitCigDP+wXv/QXuP8Av1F/8RR9gvf+gvcf9+ov/iK0KKAM/wCwXv8A0F7j/v1F/wDEUfYL3/oL3H/fqL/4itCigDP+wXv/AEF7j/v1F/8AEUfYL3/oL3H/AH6i/wDiK0KKAM/7Be/9Be4/79Rf/EUfYL3/AKC9x/36i/8AiK0KQsAwBIBPQZ60AUPsF7/0F7j/AL9Rf/EUfYL3/oL3H/fqL/4ir7MFUsxAA6knpS0AZ/2C9/6C9x/36i/+Io+wXv8A0F7j/v1F/wDEVfVg6hlIYHoQetGRuIyMjkigCh9gvf8AoL3H/fqL/wCIo+wXv/QXuP8Av1F/8RWhRQBn/YL3/oL3H/fqL/4ij7Be/wDQXuP+/UX/AMRV8EEnBBwcH2o3DcFyMkZAoAofYL3/AKC9x/36i/8AiKPsF7/0F7j/AL9Rf/EVfZgqksQAOpJpaAM/7Be/9Be4/wC/UX/xFH2C9/6C9x/36i/+Iq/uXcFyNxGQM84paAM/7Be/9Be4/wC/UX/xFH2C9/6C9x/36i/+Iq+rBhlSCM4yDS0AZ/2C9/6C9x/36i/+Io+wXv8A0F7j/v1F/wDEVoUUAZ/2C9/6C9x/36i/+Io+wXv/AEF7j/v1F/8AEVoUUAZ/2C9/6C9x/wB+ov8A4ij7Be/9Be4/79Rf/EVoUgIJIBBI6j0oAofYL3/oL3H/AH6i/wDiKPsF7/0F7j/v1F/8RV8sAQCQC3QE9aGYIpZiFA6kmgCh9gvf+gvcf9+ov/iKPsF7/wBBe4/79Rf/ABFaFIrB1DKQynoQetAFD7Be/wDQXuP+/UX/AMRR9gvf+gvcf9+ov/iK0KCcDJ4FAGf9gvf+gvcf9+ov/iKPsF7/ANBe4/79Rf8AxFXwQygqQQRkEd6WgDP+wXv/AEF7j/v1F/8AEUfYL3/oL3H/AH6i/wDiKvqyuuUIYZxkHNAYFioI3AZIzyKAKH2C9/6C9x/36i/+Io+wXv8A0F7j/v1F/wDEVfLAYyQMnA96WgDP+wXv/QXuP+/UX/xFH2C9/wCgvcf9+ov/AIitCkDBhlSCM44NAFD7Be/9Be4/79Rf/EUfYL3/AKC9x/36i/8AiKvlgq5YgD1NLQBn/YL3/oL3H/fqL/4ij7Be/wDQXuP+/UX/AMRWhRQBn/YL3/oL3H/fqL/4ij7Be/8AQXuP+/UX/wARV8kAjJAycD3paAM/7Be/9Be4/wC/UX/xFH2C9/6C9x/36i/+IrQooAz/ALBe/wDQXuP+/UX/AMRR9gvf+gvcf9+ov/iK0KKAM/7Be/8AQXuP+/UX/wARR9gvf+gvcf8AfqL/AOIrQooAz/sF7/0F7j/v1F/8RR9gvf8AoL3H/fqL/wCIrQooAz/sF7/0F7j/AL9Rf/EUfYL3/oL3H/fqL/4itCigDLht54Nbh8+8kuc28uA6INvzR/3QK1KqSf8AIat/+veX/wBCjq3QBn63/wAgv/ttD/6MWtCs/W/+QX/22h/9GLWhQAVieM2mXwRrLWxkWUWchQxEhwdp6Y5z9K26KAPOtYl0xf7FTwuHmlOsQN/pDz+WSEk/jcHHXoK5i8tJtO8W+Iri/NwhSC6W5uVuJJIRG0eYFZw5IbaVLCVVUDBU4Az7Headbag1sbuPebWcXEXzEbXAIB468E1l6j4O0fVLya5uku1a4x9ojgv54Yp8AL88aOFfgAHIOQADxQBzt5aa6NH8Po10oOnrHdLNBaSyi5lClREyxhtibWOWySTtIHBFQx373N9ewKZbddW8RwQS4DoyqtlHIy/MFYBvKK8gEhs9xXoaIkUaxxqERQFVVGAAOgFZV/4ctLuG5MBa2uZ7qO989TuKzRhVVsHthFUjjIz60AedQ6TrWs6hfy6RZalBeprk3l6y+rstukcdycr5AkO4bFKbSmD6960NW8Va7P4ZutQeWzTT9Shv7e2giidLm1aKGZldpN5DH9ycgKu0sOTjn0iC3htlZbaGOJXdpGEahQzMcsxx3JJJPc1S/wCEe0X7VPc/2RY+fcqyTyfZk3ShvvBjjkHvnr3oA5b/AISzV4dUbRPKtftqzLLG7KxDWPk7zIRnO7erR56ZwcVk2fj3xNFptlLqQ0uWXV9Nt7uz8mCRFtnlmihxJlzvUeercbfukdwa7i38Owx+JLrWbmQXE0tuLSBDEqiCAHcUGPvZbkk+gHbm02iaU8Cwvplm0SQfZljNupVYeP3YGPucD5enAoA4u48T+KIdYtPDqT6W+oy6kbN7/wCyP5Oz7I1wD5XmZDDbgjfg5B4zWXeeMvEE3hN7vVo9PMd7pslzFDbCWNomhnhjbMgcEhvN3ADaVxjLdT6RbaHpVmsItNMs4BbyNLD5cCr5blSpZcDhipIJ6kEilfRdLkt1gk02zaFI2jWMwKVVGYMygYxglVJHcqD2oA4C78das/iFbWKS1uNJv5Ly1ikgtZEMTRRyEETMwEhzGQQqYB6Mcc7Phm+lj1vSbV5ZJBqPh+O7kDsWxJEY1Lc92Eoz67BXQL4a0NLs3S6Np4uGdnMotU3bmBDHOM5IY5PfJ9adaaNDaavNfqRloI7aCJUCrBEmTtUD1JJPsFHagDjTYWmuR+J9T1jVr2C8027mjjMV7JCunpGu6MhFYKcriQlgc7sHjiqll4r1qbQ59buIlTVrTTNOi+yzhljWa4KtKxUHvuUeo2Eetd7eeHtG1C9W8v8ASbK5uUACzTW6O4A5HJGeO1Nm0O3n1p76XbIk9usNxbyRh0lKPvjbnoVJf67h6CgDlJbfxP4nt9R0C71W2tJtPvVE1/p8bwM6+QssYVCzYxIy7vmwVUjvV+21rxBNq8qXFxo9pbadPbWd7FIrlppZI42Jjl3AKMyqqqUO4gjIzx1cdvBDNLLFDGkkzBpXVQDIQAAWPc4AHPYVWm0XS7jU49Rn020kvY8bLl4FMi46YbGeMn8zQBmeEp5mg1SynuGuBp+pS28UjHJ8vCyKpPfaJAmf9nnmugrP0XSIdFsGt4WaR5JpLiaV+ssrsWZj6cngdhgdq0KACs7Tf+Qhqn/Xyv8A6KStGs7Tf+Qhqn/Xyv8A6KSgDRooooAKKKKACiiigAooooAKKKKAOe8c7I/Clxd3E8cVrYst1dJKWCTRRnc6MVBbBA7A5xjBBIrkNAv9Jutf0i10zxDo97cpPezx2NjeG4EEbx/KinH3R152jnAHQV6Nqmm2ms6VdabqUXnWl3E0M0e4rvRhgjIII49DWZYeDdI07U4dQhOoTXMAYRNd6pc3ITcMHCySMASO+KAPJtZgkm8MamksVzpV79lC3CMBFBIyBtyjyCoOSx5kJXAGQa7u81DRP+FkQwX15plleWeZhbx5a6uiYmIZvlG2NUDnjdkhckYAPZajp9tq2m3FhfJ5ltcxmOVAxG5TwRkcisjUvBGg6vqp1DULaeSdtpdVvJkjfapUbo1cIflYryOQSDwaAOH0yKGx8P8AhZdd1Sefw/LpU0iTwMyRmd/K8lQVVWzsMhQMM7ie4Wun8EtqTXQbXQ41I6Hppuw4Abzcz7s475zn3rqbGwtdNtvs9jCsEO9nEa/dUsSTgdhkngcUqWcEd/NeImJ5o0ikfJ5VCxUY6cF2/OgDyzxFa/bfEt9Lfae801lOXjNhApWLKgr9o+V95KHOGKjDA4Bww1tRiTXvDOn6XEWXXLyzVIZdMmdIrWFiQLnCPtCgAlQScnAHfHVX/hHSNSvnvJ47qOaXHm/Zb6e3WbAABdY3UOcADLA8ADpWtb28NpbR29tEkMMSBI40XCooGAAOwFAHCavNc2dn4pK7Y7SPUIFaVpFPDW9srGQNE4Eag7iwyeOw5qloM97f32miy8uXfp2owxymQJGUEtuokiKRLuUkZGQOp+YgDPo0FpDbTXMsKbXupBLKck7mCKmfb5UUfhSNZQPqMV8yZuYonhR8nhHKlhjpyUX8qAPKb7QdWv8Aw3czabaSLCkMNvJFBfPIZ5opWWU7VB3c8YOOntXc+MTbj+xf7QMwsjqBE/lFx8v2ebGdnON238cVKPBGhLcPNHBdRtJK0zCO/nRS7MWY7Q4AyST071v0Aef6S0rfFDTNrRGxGj3wtAsUqOE+0W33/MOWPTkcda4r4k33iOHxjqqaZdXUcEazGNY4piF3WtuBypwctuC46NuPNe1vptrJrEOqPHm8hge3jk3HiN2RmGOnJjXn2q1QB5Ikt8fBGm2vkxyefr18Ej8tZGnUTXBKfOjBXzlhhT8qN05rofA2nyWeuXtxPpF1YyXFuke9tojIRmIG1IowG+c88kge1dDc+E9Gu9Pisp7Z/JhupLuLy7iSNklcuWYMrBhkyP3x82Kn0rQbHRnkax+1ZlADefeTT9PTzGbH4UAcB441a6k8QLa3UF8YrO6jmt1gniiCYH+tB3ZdupAYbeeVNXpJtS13RNG1ua2/tC0tTcyXERnSLzk24RvkYqSCPUcjoOleh1lReGNFjs4bVtMtpooNwjE8QlK7mLHBbJ6k0AY8P2hvBOpXGk6GltPcWZktrdpRL57FCVBAI9QMZHXrXP8AhAXV54qjYxTxJp88kVxs00QKJPJzsdvtL5GJFPCnnbyK7xfDuiJG6Jo9gqOAHUWqAMAcjPHNJF4d0SCZZYNH0+ORGDK6WqAqR0IIHWgDmviPdPaQ6fPcX8Wn2kFws0Um5S0lyoJRWDMo8sYJIBy3TjGTz15qreJ/CfiDU9KniO2e3N4EljZERYl805ZgjYGSAzr056YPouteH7DxBDBHqQuP9Hk8yJ7a7lt3VtpX70bKehIxnFRWPhXS7DT7uxVbq5trxds8V9ezXQYYII/eu2AQe2M0AeWeFGvY/GGj32rStFHBE00iyJtxElvOu8ewDxghSwBbgkc1u6xqWpXPhHxQNX0+5tFvGF5YmQEr5GY4wrf3H+QOUOP9YOpDY7XTPCml6VfC7txeTTopWNry/nufKB6hBK7BM9OMccVoajp1tq2ny2N/H5tvMMOm4jIznqOe1AHNJa/2r4+d44DYjSnEs5M2ZLsujKh2qxCx/ePOGJUcADmPwRb6nZfCawiuBHJdrYjyopYfLEY2cI4Lc47nK59q19Q8I6RqepvqFzHdJdSIsbyW1/PBvVc7QRG6g43H861LSyhs7FLOEO0KLtAmlaViPdnJJ/EmgDyDTIli1C01OztF+0XssKrPPbxiym5+UQ8KFJ52lXJYnnfgY62/tIb7Wr270pLlbazt7k3dy08vlzTFWTykUnaQvzFiBgEKBznG3a+CtCs7uKeG2nIgYPDbyXk0lvCw+6UhZzGmO2FGO2K25oUuLeSGUbo5FKMM4yCMGgDF8EtO3gTQ/tMccb/YIMCOQuMeWuDkgc47Y49TXIalNep4kl8j+0m11dWZlis8Emx8kgEB/wB3sxj73Hme9eg2mlWNituLW1jRra3FtFJty6xDGE3HnHA4z2q3QB5XoIjvPhxaWiwXU+tXF1qItIWleNkY3kgaSYxEKFUkFj07LkkA7dtONA8V69uE929vo+nRIqKXknfdcqo+pOOTxzknHNdfpum2uk2f2Wwi8qHzJJdu4n5pHZ2OT6sxP40Radaw6pcajHHi6uYo4pX3H5lQsVGOgxvb86AOB0v+3bVvCmn620YOm3nkThoZGklcW1xtlWQnDqyjOAMg5BORis24W623uhJe6iJr4Xc8S7bxQInlJz5f2U8L5qgjdz6jNep3FlBdy20k6bntZfOhOSNr7WTPv8rsPxpjadavq0eptHm7ige3STceEZlZhjp1RefagDziDUA3xD1957i2BF7A1pDeJcCXb9kgI2qOg35yCvXdmuh8Nfaf+EA1TzAouvtWpZEBJG/7RN93v1rsKr2Vhb6dA8NnH5aPLJMwyTl3cux59WYmgDyK2vtXvdKlGpahHexxaFApENpLAI5POTKvvdtz+4x34rR+JCarJ4ilzfta6dbWBvI3bTYb5cqcSDBKtGAAhJJIO/qMYr0y+sbfUrKS0vE8yGTG5ckZwc9R7iqs/h3RLmZ5rnR9PmlkJLvJaozMT1ySOaAOI8WPcR+GdAm1dPtM52PItxIJF8xwA4dFgZHVAxIPB44yesPhK4F94f15NP02CeQThZLYOyxxsOFcRCFMKVAfChmOcYzwOx1XwToGsW9tBc2JhjtXZ4RZTyWuwsMNzEy9cVY0HwzpvhuOZNL+1hZiC4ub2a45Hp5jNjr2xQBxmgWMmmXvhzT3lun+y3rL5stpJELoC2nAkcyRg+ZggEBjnBbHXHpNQXFnBczW0sybntZTLCckbWKMmff5XYfjTrW1t7G1jtrKCK3gjG1IoUCKg9ABwKAJaKKKACiiigAooooAKKKKACiiigCpJ/yGrf8A695f/Qo6t1Uk/wCQ1b/9e8v/AKFHVugDP1v/AJBf/baH/wBGLWhWdryh9JZWzgyxA4OP+Wi1J/ZNt/euf/AqT/4qgC7RVL+ybb+9c/8AgVJ/8VR/ZNt/euf/AAKk/wDiqALtFUv7Jtv71z/4FSf/ABVH9k23965/8CpP/iqALtFUv7Jtv71z/wCBUn/xVH9k23965/8AAqT/AOKoAu0VS/sm2/vXP/gVJ/8AFUf2Tbf3rn/wKk/+KoAu0VS/sm2/vXP/AIFSf/FUf2Tbf3rn/wACpP8A4qgC7RVL+ybb+9c/+BUn/wAVR/ZNt/euf/AqT/4qgC7RVL+ybb+9c/8AgVJ/8VR/ZNt/euf/AAKk/wDiqALtFUv7Jtv71z/4FSf/ABVH9k23965/8CpP/iqALtFUv7Jtv71z/wCBUn/xVH9k23965/8AAqT/AOKoAu0VS/sm2/vXP/gVJ/8AFUf2Tbf3rn/wKk/+KoAu1nab/wAhDVP+vlf/AEUlSf2Tbf3rn/wKk/8Aiqoafptu19qQLT4W4UDFxIP+WaH15oA3KKpf2Tbf3rn/AMCpP/iqP7Jtv71z/wCBUn/xVAF2iqX9k23965/8CpP/AIqj+ybb+9c/+BUn/wAVQBdoql/ZNt/euf8AwKk/+Ko/sm2/vXP/AIFSf/FUAXaKpf2Tbf3rn/wKk/8AiqP7Jtv71z/4FSf/ABVAF2iqX9k23965/wDAqT/4qj+ybb+9c/8AgVJ/8VQBdoql/ZNt/euf/AqT/wCKo/sm2/vXP/gVJ/8AFUAXaKpf2Tbf3rn/AMCpP/iqP7Jtv71z/wCBUn/xVAF2iqX9k23965/8CpP/AIqj+ybb+9c/+BUn/wAVQBdoql/ZNt/euf8AwKk/+Ko/sm2/vXP/AIFSf/FUAXaKpf2Tbf3rn/wKk/8AiqP7Jtv71z/4FSf/ABVAF2iqX9k23965/wDAqT/4qj+ybb+9c/8AgVJ/8VQBdoql/ZNt/euf/AqT/wCKo/sm2/vXP/gVJ/8AFUAXaKpf2Tbf3rn/AMCpP/iqP7Jtv71z/wCBUn/xVAF2iqX9k23965/8CpP/AIqj+ybb+9c/+BUn/wAVQBdoql/ZNt/euf8AwKk/+Ko/sm2/vXP/AIFSf/FUAXaKpf2Tbf3rn/wKk/8AiqP7Jtv71z/4FSf/ABVAF2iqX9k23965/wDAqT/4qj+ybb+9c/8AgVJ/8VQBdoql/ZNt/euf/AqT/wCKo/sm2/vXP/gVJ/8AFUAXaKpf2Tbf3rn/AMCpP/iqP7Jtv71z/wCBUn/xVAF2iqX9k23965/8CpP/AIqj+ybb+9c/+BUn/wAVQBdoql/ZNt/euf8AwKk/+Ko/sm2/vXP/AIFSf/FUAXaKpf2Tbf3rn/wKk/8AiqP7Jtv71z/4FSf/ABVAF2iqX9k23965/wDAqT/4qj+ybb+9c/8AgVJ/8VQBdoql/ZNt/euf/AqT/wCKo/sm2/vXP/gVJ/8AFUAXaKpf2Tbf3rn/AMCpP/iqP7Jtv71z/wCBUn/xVAF2iqX9k23965/8CpP/AIqj+ybb+9c/+BUn/wAVQBdoql/ZNt/euf8AwKk/+Ko/sm2/vXP/AIFSf/FUAXaKpf2Tbf3rn/wKk/8AiqP7Jtv71z/4FSf/ABVAF2iqX9k23965/wDAqT/4qj+ybb+9c/8AgVJ/8VQBdoql/ZNt/euf/AqT/wCKo/sm2/vXP/gVJ/8AFUAXaKpf2Tbf3rn/AMCpP/iqP7Jtv71z/wCBUn/xVADpP+Q1b/8AXvL/AOhR1brNjtIrXW4DEZDut5c75Wf+KP1JrSoAz9b/AOQX/wBtof8A0YtaFZ+t/wDIL/7bQ/8Aoxa0KAEZgilmICgZJPasg+LtA8i6lj1a1mFpGZJlhkEjIoGSSoyehB/GtaRmSNmRC7AEhAQCx9OeK881TSNY0zw74rvr8wyJrFtJdXCK/NrKqBFQcfMvlqgJ4+ZSejcAHeX2o2mmxwvfTrCs0yQRlv4pHOFUe5NR6hrOmaSYxqmoWtmZPuefMqbvpk89RXHeL9Ov11Bb26stO1G3uLqG1t4rueYiDzCI9yoBtVuSdw+bk4NT32heKJdHsdPtprbfbXf2xppriSVXEZDRwbm+fl8ZY5wq9yaAOhtvFGkXstzHaXRna1jaSXy4nbCqzKcYHzcqRxnPam23ivSLq+gs45p0nuGKQrNZzRB2CliAWUDOFJx7GvNdKuLvw4niy/LXKXFhYXN1l3VpH2XMz43MpBzjG7HfNTaP4kttT8W6NbwaldXc9xfvMPMu9PlER8h9xCws7AFV29ABuJyDgEA9Iv8AxNoelMo1PWLG0LOyAT3CpllALDk9RuGfqKuWGoWeqWaXem3UN3bSZ2TQuHVsHBwR7givIrN75T4L1F5ryymWDUxf3MVi1yY7hpU3qygHBLh+v92tzxNf6zPY6ZJ4cvNWurny5heyJZvCrWoI8xgjAATjjy8cn5uooA9Jorymw1G+ufEmof2Ve6tcXsHiCGCGB2lNutn5URkDBvl+6znJ+YNt9ea8lx4iHhtpLC41v+25NLuG1RHWVlhuRt2+UGG1SGLBQnBXnng0AevUV5X4ih8S6TcXenaNNqM2mfbbNp57iaZ3WJo5PNxKuXC70i3bPu7jjAPD9KsNf1ezt4NU1DWI4I7bUXieCSaFmKzRiDcxAdsAvt3csBkg0AelSX1pFN5UlzCsm5U2FwDubO0Y9Tg49cU65uoLO3ae7mjghTG6SRgqrzjkn3ry3TI9Vh8VSX8kOpLd3v8AZUk5Cy7HUQsJRj7ow2AR2z71gzy+I9QguIWg1WS3vdKaWaCZridhOLiAqG3oqJIFMnyRjbgHrgGgD3KKeKcMYZFkCMUbac7WHUH3rPfxJokerDTH1exW/LBBbG4XzNxGQu3Oc47VmaEUHjrxQlrnyd1q02On2gxHd+PliHP4VyjxlPhve+FZrC7m8QyPKgIs3IkuWkLJdeZjbjJWTfu+XGOoxQB6as8TXDwLIpljVWdAeVBzgke+D+Rpk19a211b21xcxRT3TMsEbuA0pA3EKO+ACeO1edST3/2rVhcPexQt4lEWpSWm4Spai2UxbSnzKhPl5K8gM3PU1taf4Yttbis9VuLrVGe1wti1+AJYQk5ffyM/OoVSW5KAZ5JoA7CSRYo2kkYKiAszE8ADvRHIksayRsHRwGVlOQQehFeeeGIdbt9S0O7vbjVJmvp7+O+S5d2jSNXYw/IflTAVQCACQTknNb3w6eeTwLZG4DBQ8y2+7qYBM4hP08sJj2xQB09Z2m/8hDVP+vlf/RSVo1nab/yENU/6+V/9FJQBo0UUUAFFFFABRRRQAUUUUAFFFFABRRRQAUUUUAFFFFABRRRQAUUUUAFFFFABRRRQAjMFUsxAAGST2rLTxRok0BmttTtrhA0akwSCTG9wi/dzwWYDNaF1G0tnNGn3njZR9SK4a9j1WL4fWGlXlhLYNB9gga5WeNyrLNEu5R8wPIyMjHqO1AHSS+L9Ch8Qpokl+ov36R+W5UHngvjYG46E56ccirMWv6bNo9rqi3IWzu2jSGRlI3NIwRBjGRlmA/GvPdca00X4gb7zUYVaAQ3bPfyx27TfJs2IzSKjZKFmxHwW6jjF/SfCov8A4daFb7bq4t/JWaS0knMJMhXKuWO4rsOCqrgBsN2FAHcTatZW9xdQ3E6xNaQJczlwQqRsXAYnp/yzb8qsSXEUMkMcsio8zlI1J5dtpbA/BSfwrg7u2luV8Q6frMtxHc3GjW1q0q25uiQz3IWQrEAWOScgADjrzxQ8NxvJ4ohnvoBarY3rLbfZ/D95EbpWh2By7swRcyMMEfwZyAaAO4TxXoMtpLc22q2tzFDF5rmCQSEJ/ewucjmtKe5gthH9omSLzHEab2A3Meij1J9K8+W11fS/g8uh6jpr2r2ekrby3KzxsAyoBlQM55HcV0HivQ7zUdA0+1t2uL2S1vIJpHE4gmkVD8xDrtAb6YoA2f7YsDfRWiXKPNK8kaqnzYZACykjoQCODSLrVi2qNpwlf7SoyR5L7emfv429PeuI0vTZtC1fT/7ShmRJbzULkRySG5k8sxr1I3FjweOTXH2fhfR4PEFvLL4Z3x/2m7Pe/wBi3OTBlnANvs8sKQBHkZPIbaDkgA9e1DxPpem3rWk73MtwqhnjtLKa4MYPQv5aNtz74p0vifRILK2u59Uto7e6AMErPhZMkAAH1JIGPXivJfiHr5sPGt9Bb6xHazfZV/1kyQMGYZj3fucui5bgsTz1FdXpukzeJvh/ojxP5toFEq2kMsUfluudjCSNAp8tgCAFHzAEnjFAHdW2pWt3ctBbSiR1hjnOAcbHLBTn3KN+VWq5DRGOk69qkmqRPHcNa2Ql8pWm8xmlnUPhRkZYnIxhQM5xnHX0AFFFFABRRRQAUUUUAFFFFABRRRQAUUUUAFFFFABRRRQAUUUUAFFFFABRRRQAUUUUAVJP+Q1b/wDXvL/6FHVuqkn/ACGrf/r3l/8AQo6t0AZ+t/8AIL/7bQ/+jFrQrO10hdKJY4AmiyT/ANdFq39stv8An4i/77FAE1BAIIIyD1BqH7Zbf8/EX/fYo+2W3/PxF/32KAJSAeoB5zzS1D9stv8An4i/77FH2y2/5+Iv++xQBNgbs456ZoqH7Zbf8/EX/fYo+2W3/PxF/wB9igAt7SC0Mxt49nnyGWQAnBYgZOO2cdu+T1Jqaoftlt/z8Rf99ij7Zbf8/EX/AH2KAGWmn2tjJcvaQrE13MZ5yv8Ay0kKhdx98Ko/CrNQ/bLb/n4i/wC+xR9stv8An4i/77FAE1FQ/bLb/n4i/wC+xR9stv8An4i/77FAE1FQ/bLb/n4i/wC+xR9stv8An4i/77FABbWkFoJfs0Sx+dI0shHV3PUn/PQAdqmqH7Zbf8/EX/fYo+2W3/PxF/32KABLSCO9lu0j2zzIqSOCfmC528dONx5qaoftlt/z8Rf99ij7Zbf8/EX/AH2KAHzRJcQSQy52SKVbaxU4IweRyPqKIYY7eCOGBFjijUIiKMBQBgAUz7Zbf8/EX/fYo+2W3/PxF/32KAJqztN/5CGqf9fK/wDopKt/bLb/AJ+Iv++xWfp11bjUNTJniANwpGXHP7pKANaioftlt/z8Rf8AfYo+2W3/AD8Rf99igCaioftlt/z8Rf8AfYo+2W3/AD8Rf99igCaioftlt/z8Rf8AfYo+2W3/AD8Rf99igCaioftlt/z8Rf8AfYo+2W3/AD8Rf99igCaioftlt/z8Rf8AfYo+2W3/AD8Rf99igCaioftlt/z8Rf8AfYo+2W3/AD8Rf99igCaioftlt/z8Rf8AfYo+2W3/AD8Rf99igCaioftlt/z8Rf8AfYo+2W3/AD8Rf99igCaioftlt/z8Rf8AfYo+2W3/AD8Rf99igCaioftlt/z8Rf8AfYo+2W3/AD8Rf99igCaioftlt/z8Rf8AfYo+2W3/AD8Rf99igCaioftlt/z8Rf8AfYo+2W3/AD8Rf99igCaggHqM1D9stv8An4i/77FH2y2/5+Iv++xQBKVVsbgDg5GR0pah+2W3/PxF/wB9ij7Zbf8APxF/32KAJsDOcc+tFQ/bLb/n4i/77FH2y2/5+Iv++xQBMQCMEZHoaKh+2W3/AD8Rf99ij7Zbf8/EX/fYoAmwCQSOR0NFQ/bLb/n4i/77FH2y2/5+Iv8AvsUASFFY5ZVJ9xTgABgDA9qh+2W3/PxF/wB9ij7Zbf8APxF/32KAJsDOcc+tFQ/bLb/n4i/77FH2y2/5+Iv++xQBNRUP2y2/5+Iv++xR9stv+fiL/vsUATUVD9stv+fiL/vsUfbLb/n4i/77FAE1FQ/bLb/n4i/77FH2y2/5+Iv++xQBNRUP2y2/5+Iv++xR9stv+fiL/vsUATUVD9stv+fiL/vsUfbLb/n4i/77FAE1FQ/bLb/n4i/77FH2y2/5+Iv++xQBNRUP2y2/5+Iv++xR9stv+fiL/vsUATUVD9stv+fiL/vsUfbLb/n4i/77FAE1FQ/bLb/n4i/77FH2y2/5+Iv++xQBNRUP2y2/5+Iv++xR9stv+fiL/vsUATUVD9stv+fiL/vsUfbLb/n4i/77FAE1FQ/bLb/n4i/77FH2y2/5+Iv++xQBFJ/yGrf/AK95f/Qo6t1Q86KXWoPKkR8W8udrA4+aOr9AGdroDaUQwyDNFkH/AK6LVv7Hbf8APtD/AN+xVXW/+QX/ANtof/Ri1oUAQ/Y7b/n2h/79ij7Hbf8APtD/AN+xU1FAEP2O2/59of8Av2KPsdt/z7Q/9+xVHWdfttECG7jkZXVn3IUAULjJO5h61iW/xK0Sf+2mZLiJNFgkmvC6qSgSWWJhtUk5zCSPUEUAdT9jtv8An2h/79ij7Hbf8+0P/fsVnWPiKG/vEt47S6Rmz8zhMDAz2Ymq9x4utLSWaG5tL6GWO1mu1WWHb5iRAb9pzjPzL+dAGz9jtv8An2h/79ij7Hbf8+0P/fsVh3PjXTbW4kWaK5FvBPDbXF2EXyoJZQhRGJOefMTJAIG4ZI5xatfE2n3enxXkDmSKe9azhMWH811kZCV25yvys2eygk9KANL7Hbf8+0P/AH7FH2O2/wCfaH/v2KxNH8a6frt3FDp9nqpjlLBLmTTpUgO3OT5hXbjggc8mugDq2drA7Tg4PSgCL7Hbf8+0P/fsUfY7b/n2h/79imtf2qX8Fk0y/aLiJ5Yk/vIhUMfwLr+dTCRCu4OpX1zxQBH9jtv+faH/AL9ij7Hbf8+0P/fsU2C9iuI5HG+NY5WiJlQpkg4yM9QexHBqnJ4j02HUprGWYpNBLDFJuUhVaUHyxnpyRj6kDvQBe+x23/PtD/37FH2O2/59of8Av2KqazrtloNtFLfGZmmkEUMNvC0ssrnnCooJPAJPoASaq2ni7SbzS7q+SSWEWkghuILiFopo5DgKhRgDlty7fXIxmgDV+x23/PtD/wB+xR9jtv8An2h/79ipQ6ltoYbuuM1l6T4k07Wks3sZHZb6zW9ty8ZXzIjjkZ7jK5HUbh60AX/sdt/z7Q/9+xR9jtv+faH/AL9ipqKAIfsdt/z7Q/8AfsVn6da25v8AUwYIiBcKBlBx+6Stas7Tf+Qhqn/Xyv8A6KSgC39jtv8An2h/79ij7Hbf8+0P/fsVNRQBD9jtv+faH/v2KPsdt/z7Q/8AfsVNRQBD9jtv+faH/v2KPsdt/wA+0P8A37FTUUAQ/Y7b/n2h/wC/Yo+x23/PtD/37FTUUAQ/Y7b/AJ9of+/Yo+x23/PtD/37FTUUAQ/Y7b/n2h/79ij7Hbf8+0P/AH7FTUUAQ/Y7b/n2h/79ij7Hbf8APtD/AN+xU1FAEP2O2/59of8Av2KPsdt/z7Q/9+xU1FAEP2O2/wCfaH/v2KPsdt/z7Q/9+xU1FAEP2O2/59of+/Yo+x23/PtD/wB+xU1FAEP2O2/59of+/Yo+x23/AD7Q/wDfsVNRQBD9jtv+faH/AL9ij7Hbf8+0P/fsVNRQBD9jtv8An2h/79ij7Hbf8+0P/fsVNWPrXijTNBnt4b+4hWSdgAjXMMZUHgMRI65HB6ZPHSgDS+x23/PtD/37FH2O2/59of8Av2KxrjxlpdqsrS/aJFW9Wyi+zQNOZ3aBZwUCAkjY3X2NJa+MbG716LSore7WaR9mZovL2nyVm5U/MPlcDBAIOaANr7Hbf8+0P/fsUfY7b/n2h/79iqd5r9hYtfi4dwdPhSafCE4V92Mev3TVf/hKtOS31Ca5cW6WN01ofOdU8yQIHwpJA5B7kdDQBqfY7b/n2h/79ij7Hbf8+0P/AH7FZekeK9L1q3lktZl3xKztCJY5X2j+LEbNx+tUrHx7p19JYBLa4RNQdUgkMkDZLDIyiSFx75XjvigDofsdt/z7Q/8AfsUfY7b/AJ9of+/Ypbu5jsrOa6nJEUEbSOQM4UDJ/lWRf+LNPsbfzCJZT5ENwEVeSksgjU8+56UAa32O2/59of8Av2KPsdt/z7Q/9+xWB4g8d6V4d1CCzu0uZZppBHiKPhWIyBliNxxk4XJ4NWdR8X6Tptna3M1wmy6YCJXmjgYgnGcSsnfjjnnpQBrfY7b/AJ9of+/Yo+x23/PtD/37FVrLV7bUNQuLW1O8QRRS+apBR1kDFSpHX7v61foAh+x23/PtD/37FH2O2/59of8Av2KmooAh+x23/PtD/wB+xR9jtv8An2h/79ipqKAIfsdt/wA+0P8A37FH2O2/59of+/YqaigCH7Hbf8+0P/fsUfY7b/n2h/79ipqKAIfsdt/z7Q/9+xR9jtv+faH/AL9ipqKAIfsdt/z7Q/8AfsUfY7b/AJ9of+/YqaigCH7Hbf8APtD/AN+xR9jtv+faH/v2KmooAh+x23/PtD/37FH2O2/59of+/YqaigCH7Hbf8+0P/fsUfY7b/n2h/wC/YqaigCH7Hbf8+0P/AH7FH2O2/wCfaH/v2KmooAh+x23/AD7Q/wDfsUfY7b/n2h/79ipqKAIfsdt/z7Q/9+xR9jtv+faH/v2KmooAoeTFFrUHlRombeXO1QM/NHV+qkn/ACGrf/r3l/8AQo6t0AZ+t/8AIL/7bQ/+jFrQrP1v/kF/9tof/Ri1oUAFFFFAGF4l8LweI44fNfbJDkLvebZtI5G2ORMk8ck1x0XgeSC+8SaRdx3d7a6npe1p7VRGxM1zcPIqmVmBZTITkt0IyD1Pp1FAHnXhfwrqOj+Ivtk8WomJZtsINrpcY8ooATI0UavkMWPynoF68iiLwXqWleHr3zIdOuLtdOuIPtMayyXEwZDwMnAJIX16V6LRQB5f43t5rHWNLudO0qZ5nhWaadLaaVDLHtEZdY4JQXX+EsBjHBq1oc14Y/DF7qf7pf7Uu1uBJBLDiaVZDE2JY0PO4rnaAWkwK9GpksUcybJo1kXIba65GQcg/gQD+FAHF+GfC1/ofgw/8fb6qLaYLZTag5h3sWKjCttXtyOma4+w8B65bXN59n0FLbTrq2sxd2MSW8CXRjn3Sx7VkbdlCRukY7uQTg17PRQB5Pq/ge4uoEn8P+EodJuBZahbWhWWISWjSGNo23A/ug2JgBGTt8ztuapT4Ekvb+SO18NppXh+aax83SWaIK7RvIZpSiMVwUaNTzltvI6Z9TooA8p1bwRfXFodObw7b3NiLq+kh/dQTeSHdfK2pJIEUFc/NtZlxgAZNQvoOt2Pg+/h1Szc3+oWej2cAaVZGa6jCq5ypP3G+YnphSa9cprRo7IXRWKHcpIztOCMj04JH40Ac54j028HiLRNfsbaS+OmrPDLaROiu6TKvzrvIUspjXgkcM3fAPO67ZanLqP/AAkV/pzWdp/aWmh7Z5FeQQQu+Zn2EqMPMDgE4WMEkdB6PTZI0ljaOVFdHBVlYZDA9iKAPPtL8FT2Ovadq6aZHHfjXL6a7ug6eYbSQT7ATnJUlozsHQnOAcmrunae9hqng7S7VWibTtPlNwkm3ekXlqgVtpYAl9p4JB8s4JxXbU0RRrM0qookcBWcDlgM4BPtk/maAHUUUUAFZ2m/8hDVP+vlf/RSVo1nab/yENU/6+V/9FJQBo0UUUAFFFFABRRRQAUUUUAFFFFABRRRQAUUUUAFFFFABRRRQAUUUUAFFFFABRRRQAVxPjLQNc1nV7SSxtYLu2tniljS51JrdY3UtuZQkLMHIIAfcduPlAJOe2ooA4Ow8P63eNJLcNBZ39lrUd2DLvuI5gLBIThsRluWPzYHKkYqtaaDqkPxWXVL+FpPMuHzcwoyRFPsiLnaWYL8wIyTkkV6LRQBwnir4e/8JFr13qBttIma4t4YY57y2LzWpRnO6Nu2d35iq+o6JfaloXiXT0026ma71hpotpjVHCrCw3iQ4eNipBGCCMivQ6KAOC8NaFdaINe36LLZw3Sq0K2YhgQhI+0cD5EhYsMgkkKvIxgch4dn1eTxBppmt9aQTTkXRuLTU4iVd92Gf7uU+6CTtxnJPWvbKKAM+6il1bRb+0eCSzaZJbdTKVbIIKh/lY8HqAcHHUA15+3w/l0HR7yWy0/TIXkgtLcw6ValDKUuFYyN6nH8q9QooA4vxJ4bubzVraeSKxv1ubnyv9JtJpvsibS29f32EOUQblC84PWm+I9GkistITU21DU7WG5IkisUlZo22u8dx1eQsjqgGWIBbOMgY7aigDlPBmm2Vpd6ldWEF3CboQ+ebrTvsrzSqG3Sn5VDMxOSQorq6KKACiiigAooooAKKKKACiiigAooooAKKKKACiiigAooooAKKKKACiiigAooooAKKKKAKkn/ACGrf/r3l/8AQo6t1Uk/5DVv/wBe8v8A6FHVugChrSs2ltsRnIlibCKWOBIpPA9hUn9pW/8AduP/AAGk/wDiat0UAVP7St/7tx/4DSf/ABNH9pW/924/8BpP/iat0UAVP7St/wC7cf8AgNJ/8TR/aVv/AHbj/wABpP8A4mrdFAFT+0rf+7cf+A0n/wATR/aVv/duP/AaT/4mrdFAFT+0rf8Au3H/AIDSf/E0f2lb/wB24/8AAaT/AOJq3RQBU/tK3/u3H/gNJ/8AE0f2lb/3bj/wGk/+Jq3RQBU/tK3/ALtx/wCA0n/xNH9pW/8AduP/AAGk/wDiat0UAVP7St/7tx/4DSf/ABNH9pW/924/8BpP/iat0UAVP7St/wC7cf8AgNJ/8TR/aVv/AHbj/wABpP8A4mrdFAFT+0rf+7cf+A0n/wATR/aVv/duP/AaT/4mrdFAFT+0rf8Au3H/AIDSf/E0f2lb/wB24/8AAaT/AOJq3RQBU/tK3/u3H/gNJ/8AE1SsbyOK91B5I7lVlnDIfs0nzDy1Gfu+oNbFFAFT+0rf+7cf+A0n/wATR/aVv/duP/AaT/4mrdFAFT+0rf8Au3H/AIDSf/E0f2lb/wB24/8AAaT/AOJq3RQBU/tK3/u3H/gNJ/8AE0f2lb/3bj/wGk/+Jq3RQBU/tK3/ALtx/wCA0n/xNH9pW/8AduP/AAGk/wDiat0UAVP7St/7tx/4DSf/ABNH9pW/924/8BpP/iat0UAVP7St/wC7cf8AgNJ/8TR/aVv/AHbj/wABpP8A4mrdFAFT+0rf+7cf+A0n/wATR/aVv/duP/AaT/4mrdFAFT+0rf8Au3H/AIDSf/E0f2lb/wB24/8AAaT/AOJq3RQBU/tK3/u3H/gNJ/8AE0f2lb/3bj/wGk/+Jq3RQBU/tK3/ALtx/wCA0n/xNH9pW/8AduP/AAGk/wDiat0UAVP7St/7tx/4DSf/ABNH9pW/924/8BpP/iat0UAVP7St/wC7cf8AgNJ/8TR/aVv/AHbj/wABpP8A4mrdFAFT+0rf+7cf+A0n/wATR/aVv/duP/AaT/4mrdFAFT+0rf8Au3H/AIDSf/E0f2lb/wB24/8AAaT/AOJq3RQBU/tK3/u3H/gNJ/8AE0f2lb/3bj/wGk/+Jq3RQBU/tK3/ALtx/wCA0n/xNH9pW/8AduP/AAGk/wDiat0UAVP7St/7tx/4DSf/ABNH9pW/924/8BpP/iat0UAVP7St/wC7cf8AgNJ/8TR/aVv/AHbj/wABpP8A4mrdFAFT+0rf+7cf+A0n/wATR/aVv/duP/AaT/4mrdFAFT+0rf8Au3H/AIDSf/E0f2lb/wB24/8AAaT/AOJq3RQBU/tK3/u3H/gNJ/8AE0f2lb/3bj/wGk/+Jq3RQBU/tK3/ALtx/wCA0n/xNH9pW/8AduP/AAGk/wDiat0UAVP7St/7tx/4DSf/ABNH9pW/924/8BpP/iat0UAVP7St/wC7cf8AgNJ/8TR/aVv/AHbj/wABpP8A4mrdFAFT+0rf+7cf+A0n/wATR/aVv/duP/AaT/4mrdFAFT+0rf8Au3H/AIDSf/E0f2lb/wB24/8AAaT/AOJq3RQBU/tK3/u3H/gNJ/8AE0f2lb/3bj/wGk/+Jq3RQBU/tK3/ALtx/wCA0n/xNH9pW/8AduP/AAGk/wDiat0UAVP7St/7tx/4DSf/ABNH9pW/924/8BpP/iat0UAVP7St/wC7cf8AgNJ/8TR/aVv/AHbj/wABpP8A4mrdFAFT+0rf+7cf+A0n/wATR/aVv/duP/AaT/4mrdFAGek63OsQtEk21IJAzPCyAEsmBkgeh/KtCiigD//Z)"
      ],
      "metadata": {
        "id": "IuK_QMCKOPd8"
      }
    },
    {
      "cell_type": "code",
      "source": [
        "# Contanst Time(상수시간): O(1)\n",
        "def print_one_item(items):\n",
        "    print(items[1])       # 상수시간(단순하게 하나의 출력)\n",
        "\n",
        "print_one_item([0,1,2])"
      ],
      "metadata": {
        "id": "fr_tfIH9jANv"
      },
      "execution_count": null,
      "outputs": []
    },
    {
      "cell_type": "code",
      "source": [
        "# Linear Time(선형시간): O(n)\n",
        "def print_every_item(items):\n",
        "    for item in items:  # 하나의 반복문\n",
        "        print(item)\n",
        "\n",
        "print_every_item([0,1,2])"
      ],
      "metadata": {
        "colab": {
          "base_uri": "https://localhost:8080/"
        },
        "id": "hX7PbvYijAEk",
        "outputId": "99d79ce4-6dfa-42fc-e012-6f1c152b4749"
      },
      "execution_count": null,
      "outputs": [
        {
          "output_type": "stream",
          "name": "stdout",
          "text": [
            "0\n",
            "1\n",
            "2\n"
          ]
        }
      ]
    },
    {
      "cell_type": "code",
      "source": [
        "# Quadratic Time(제곱시간) : O(n^2)\n",
        "def print_pairs(items):\n",
        "    for item_one in items:      # 중첩반복문\n",
        "        for item_two in items:\n",
        "            print(item_one, item_two)\n",
        "\n",
        "print_pairs([0,1,2]"
      ],
      "metadata": {
        "id": "rWW5wiMYjNyi"
      },
      "execution_count": null,
      "outputs": []
    },
    {
      "cell_type": "code",
      "source": [
        "# n의 값과 i가 동일하게 증가하지 않음 -> O(logn)\n",
        "def test(n):\n",
        "    i = 1\n",
        "    while i < n:\n",
        "        print(i)\n",
        "        i *= 2\n",
        "\n",
        "test(3)"
      ],
      "metadata": {
        "id": "bQ1Q17SZjxHV"
      },
      "execution_count": null,
      "outputs": []
    },
    {
      "cell_type": "code",
      "source": [
        "# 여러개일때는 제일 오래걸리는 시간으로 표시해서 O(n)\n",
        "def time_test(items):\n",
        "    last_idx = len(items) - 1\n",
        "    print(items[last_idx])      # 상수시간\n",
        "\n",
        "    middle_idx = len(items) / 2\n",
        "    idx = 0\n",
        "    while idx < middle_idx:     # 반복문1\n",
        "        print(items[idx])\n",
        "        idx = idx + 1\n",
        "\n",
        "    for num in range(2000):     # 반복문2\n",
        "        print(num)\n",
        "\n",
        "time_test([0,1,2])"
      ],
      "metadata": {
        "id": "pv5-4TaSi_1D"
      },
      "execution_count": null,
      "outputs": []
    },
    {
      "cell_type": "markdown",
      "source": [
        "![캡처.JPG](data:image/jpeg;base64,/9j/4AAQSkZJRgABAQEAYABgAAD/4RDaRXhpZgAATU0AKgAAAAgABAE7AAIAAAAFAAAISodpAAQAAAABAAAIUJydAAEAAAAKAAAQyOocAAcAAAgMAAAAPgAAAAAc6gAAAAgAAAAAAAAAAAAAAAAAAAAAAAAAAAAAAAAAAAAAAAAAAAAAAAAAAAAAAAAAAAAAAAAAAAAAAAAAAAAAAAAAAAAAAAAAAAAAAAAAAAAAAAAAAAAAAAAAAAAAAAAAAAAAAAAAAAAAAAAAAAAAAAAAAAAAAAAAAAAAAAAAAAAAAAAAAAAAAAAAAAAAAAAAAAAAAAAAAAAAAAAAAAAAAAAAAAAAAAAAAAAAAAAAAAAAAAAAAAAAAAAAAAAAAAAAAAAAAAAAAAAAAAAAAAAAAAAAAAAAAAAAAAAAAAAAAAAAAAAAAAAAAAAAAAAAAAAAAAAAAAAAAAAAAAAAAAAAAAAAAAAAAAAAAAAAAAAAAAAAAAAAAAAAAAAAAAAAAAAAAAAAAAAAAAAAAAAAAAAAAAAAAAAAAAAAAAAAAAAAAAAAAAAAAAAAAAAAAAAAAAAAAAAAAAAAAAAAAAAAAAAAAAAAAAAAAAAAAAAAAAAAAAAAAAAAAAAAAAAAAAAAAAAAAAAAAAAAAAAAAAAAAAAAAAAAAAAAAAAAAAAAAAAAAAAAAAAAAAAAAAAAAAAAAAAAAAAAAAAAAAAAAAAAAAAAAAAAAAAAAAAAAAAAAAAAAAAAAAAAAAAAAAAAAAAAAAAAAAAAAAAAAAAAAAAAAAAAAAAAAAAAAAAAAAAAAAAAAAAAAAAAAAAAAAAAAAAAAAAAAAAAAAAAAAAAAAAAAAAAAAAAAAAAAAAAAAAAAAAAAAAAAAAAAAAAAAAAAAAAAAAAAAAAAAAAAAAAAAAAAAAAAAAAAAAAAAAAAAAAAAAAAAAAAAAAAAAAAAAAAAAAAAAAAAAAAAAAAAAAAAAAAAAAAAAAAAAAAAAAAAAAAAAAAAAAAAAAAAAAAAAAAAAAAAAAAAAAAAAAAAAAAAAAAAAAAAAAAAAAAAAAAAAAAAAAAAAAAAAAAAAAAAAAAAAAAAAAAAAAAAAAAAAAAAAAAAAAAAAAAAAAAAAAAAAAAAAAAAAAAAAAAAAAAAAAAAAAAAAAAAAAAAAAAAAAAAAAAAAAAAAAAAAAAAAAAAAAAAAAAAAAAAAAAAAAAAAAAAAAAAAAAAAAAAAAAAAAAAAAAAAAAAAAAAAAAAAAAAAAAAAAAAAAAAAAAAAAAAAAAAAAAAAAAAAAAAAAAAAAAAAAAAAAAAAAAAAAAAAAAAAAAAAAAAAAAAAAAAAAAAAAAAAAAAAAAAAAAAAAAAAAAAAAAAAAAAAAAAAAAAAAAAAAAAAAAAAAAAAAAAAAAAAAAAAAAAAAAAAAAAAAAAAAAAAAAAAAAAAAAAAAAAAAAAAAAAAAAAAAAAAAAAAAAAAAAAAAAAAAAAAAAAAAAAAAAAAAAAAAAAAAAAAAAAAAAAAAAAAAAAAAAAAAAAAAAAAAAAAAAAAAAAAAAAAAAAAAAAAAAAAAAAAAAAAAAAAAAAAAAAAAAAAAAAAAAAAAAAAAAAAAAAAAAAAAAAAAAAAAAAAAAAAAAAAAAAAAAAAAAAAAAAAAAAAAAAAAAAAAAAAAAAAAAAAAAAAAAAAAAAAAAAAAAAAAAAAAAAAAAAAAAAAAAAAAAAAAAAAAAAAAAAAAAAAAAAAAAAAAAAAAAAAAAAAAAAAAAAAAAAAAAAAAAAAAAAAAAAAAAAAAAAAAAAAAAAAAAAAAAAAAAAAAAAAAAAAAAAAAAAAAAAAAAAAAAAAAAAAAAAAAAAAAAAAAAAAAAAAAAAAAAAAAAAAAAAAAAAAAAAAAAAAAAAAAAAAAAAAAAAAAAAAAAAAAAAAAAAAAAAAAAAAAAAAAAAAAAAAAAAAAAAAAAAAAAAAAAAAAAAAAAAAAAAAAAAAAAAAAAAAAAAAAAAAAAAAAAAAAAAAAAAAAAAAAAAAAAAAAAAAAAAAAAAAAAAAAAAAAAAAAAAAAAAAAAAAAAAAAAAAAAAAAAAAAAAAAAAAAAAAAAAAAAAAAAAAAAAAAAAAAAAAAAAAAAAAAAAAAAAAAAAAAAAAAAAAAAAAAAAAAAAAAAAAAAAAAAAAAAAAAAAAAAAAAAAAAAAAAAAAAAAAAAAAAAAAAAAAAAAAAAAAAAAAAAAAAAAAAAAAAAAAAAAAAAAAAAAAAAAAAAAAAAAAAAAAAAAAAAAAAAAAAAAAAAAAAAAAAAAAAAAAAAAAAAAAAAAAAAAAAAAAAAAAAAAAAAAAAAAAAAAAAAAAAAAAAAAAAAAAAAAAAAAAAAAAAAAAAAAAAAAAAAAAAAAAAAAAAAAAAAAAAAAAAAAAAAAAAAAAAAAAAAAAAAAAAAAAAAAAAAAAAAAAAAAAAAAAAAAAAAAAAAAAAAAAAAAAAAAAAAAAAAAAAAAAAAAAAAAAAAAAAAAAAAAAAAAAAAAAAAAAAAAAAAAAAAAAAAAAAAAAAAAAAAAAAAAAAAAAAAAAAAAAAAAAAAAAAAAAAAAAAAAAAAAAAAAAAAAAAAAAAAAAAAAAAAAAAAAAAAAAAAAAAAAAAAAAAAAAAAAAAAAAAAAAAAAAAAAAAAAAAAAAAAAAAAAAAAAAAAAAAAAAAAAAAAAAAAAAAAAAAAAAAAAAAAAAAAAAAAAAAAAAAAAAAAAAAAAAAAAAAAAAAAAAAAAAAAAAAAAAAAAAAAAAAAAAAAAAAAAAAAAAAAAAAAAAAAAAAAAAAAAAAAAAAAAAAAAAAAAAAAAAAAAAAAAAAAAAAAAAAAAAAAAAAAAAAAAAAAAAAAAAAAAAAAAAAAAAAAAAAAAAAAAAAAAAAAGVudnkAAAAFkAMAAgAAABQAABCekAQAAgAAABQAABCykpEAAgAAAAM4MgAAkpIAAgAAAAM4MgAA6hwABwAACAwAAAiSAAAAABzqAAAACAAAAAAAAAAAAAAAAAAAAAAAAAAAAAAAAAAAAAAAAAAAAAAAAAAAAAAAAAAAAAAAAAAAAAAAAAAAAAAAAAAAAAAAAAAAAAAAAAAAAAAAAAAAAAAAAAAAAAAAAAAAAAAAAAAAAAAAAAAAAAAAAAAAAAAAAAAAAAAAAAAAAAAAAAAAAAAAAAAAAAAAAAAAAAAAAAAAAAAAAAAAAAAAAAAAAAAAAAAAAAAAAAAAAAAAAAAAAAAAAAAAAAAAAAAAAAAAAAAAAAAAAAAAAAAAAAAAAAAAAAAAAAAAAAAAAAAAAAAAAAAAAAAAAAAAAAAAAAAAAAAAAAAAAAAAAAAAAAAAAAAAAAAAAAAAAAAAAAAAAAAAAAAAAAAAAAAAAAAAAAAAAAAAAAAAAAAAAAAAAAAAAAAAAAAAAAAAAAAAAAAAAAAAAAAAAAAAAAAAAAAAAAAAAAAAAAAAAAAAAAAAAAAAAAAAAAAAAAAAAAAAAAAAAAAAAAAAAAAAAAAAAAAAAAAAAAAAAAAAAAAAAAAAAAAAAAAAAAAAAAAAAAAAAAAAAAAAAAAAAAAAAAAAAAAAAAAAAAAAAAAAAAAAAAAAAAAAAAAAAAAAAAAAAAAAAAAAAAAAAAAAAAAAAAAAAAAAAAAAAAAAAAAAAAAAAAAAAAAAAAAAAAAAAAAAAAAAAAAAAAAAAAAAAAAAAAAAAAAAAAAAAAAAAAAAAAAAAAAAAAAAAAAAAAAAAAAAAAAAAAAAAAAAAAAAAAAAAAAAAAAAAAAAAAAAAAAAAAAAAAAAAAAAAAAAAAAAAAAAAAAAAAAAAAAAAAAAAAAAAAAAAAAAAAAAAAAAAAAAAAAAAAAAAAAAAAAAAAAAAAAAAAAAAAAAAAAAAAAAAAAAAAAAAAAAAAAAAAAAAAAAAAAAAAAAAAAAAAAAAAAAAAAAAAAAAAAAAAAAAAAAAAAAAAAAAAAAAAAAAAAAAAAAAAAAAAAAAAAAAAAAAAAAAAAAAAAAAAAAAAAAAAAAAAAAAAAAAAAAAAAAAAAAAAAAAAAAAAAAAAAAAAAAAAAAAAAAAAAAAAAAAAAAAAAAAAAAAAAAAAAAAAAAAAAAAAAAAAAAAAAAAAAAAAAAAAAAAAAAAAAAAAAAAAAAAAAAAAAAAAAAAAAAAAAAAAAAAAAAAAAAAAAAAAAAAAAAAAAAAAAAAAAAAAAAAAAAAAAAAAAAAAAAAAAAAAAAAAAAAAAAAAAAAAAAAAAAAAAAAAAAAAAAAAAAAAAAAAAAAAAAAAAAAAAAAAAAAAAAAAAAAAAAAAAAAAAAAAAAAAAAAAAAAAAAAAAAAAAAAAAAAAAAAAAAAAAAAAAAAAAAAAAAAAAAAAAAAAAAAAAAAAAAAAAAAAAAAAAAAAAAAAAAAAAAAAAAAAAAAAAAAAAAAAAAAAAAAAAAAAAAAAAAAAAAAAAAAAAAAAAAAAAAAAAAAAAAAAAAAAAAAAAAAAAAAAAAAAAAAAAAAAAAAAAAAAAAAAAAAAAAAAAAAAAAAAAAAAAAAAAAAAAAAAAAAAAAAAAAAAAAAAAAAAAAAAAAAAAAAAAAAAAAAAAAAAAAAAAAAAAAAAAAAAAAAAAAAAAAAAAAAAAAAAAAAAAAAAAAAAAAAAAAAAAAAAAAAAAAAAAAAAAAAAAAAAAAAAAAAAAAAAAAAAAAAAAAAAAAAAAAAAAAAAAAAAAAAAAAAAAAAAAAAAAAAAAAAAAAAAAAAAAAAAAAAAAAAAAAAAAAAAAAAAAAAAAAAAAAAAAAAAAAAAAAAAAAAAAAAAAAAAAAAAAAAAAAAAAAAAAAAAAAAAAAAAAAAAAAAAAAAAAAAAAAAAAAAAAAAAAAAAAAAAAAAAAAAAAAAAAAAAAAAAAAAAAAAAAAAAAAAAAAAAAAAAAAAAAAAAAAAAAAAAAAAAAAAAAAAAAAAAAAAAAAAAAAAAAAAAAAAAAAAAAAAAAAAAAAAAAAAAAAAAAAAAAAAAAAAAAAAAAAAAAAAAAAAAAAAAAAAAAAAAAAAAAAAAAAAAAAAAAAAAAAAAAAAAAAAAAAAAAAAAAAAAAAAAAAAAAAAAAAAAAAAAAAAAAAAAAAAAAAAAAAAAAAAAAAAAAAAAAAAAAAAAAAAAAAAAAAAAAAAAAAAAAAAAAAAAAAAAAAAAAAAAAAAAAAAAAAAAAAAAAAAAAAAAAAAAAAAAAAAAAAAAAAAAAAAAAAAAAAAAAAAAAAAAAAAAAAAAAAAAAAAAAAAAAAAAAAAAAAAAAAAAAAAAAAAAAAAAAAAAAAAAAAAAAAAAAAAAAAAAAAAAAAAAAAAAAAAAAAAAAAAAAAAAAAAAAAAAAAAAAAAAAAAAAAAAAAAAAAAAAAAAAAAAAAAAAAAAAAAAAAAAAAAAAAAAAAAAAAAAAAAAAAAAAAAAAAAAAAAAAAAAAAAAAAAAAAAAAAAAAAAAAAAAAAAAAAAAAAAAAAAAAAAAAAAAAAAAAAAAAAAAAAAAAAAAAAAAAAAAAAAAAAAAAAAAAAAAAAAAAAAAAAAAAAAAAAAAAAAAAAAAAAAAAAAAAAAAAAAAAAAAAAAAAAAAAAAAAAAAAAAAAAAAAAAAAAAAAAAAAAAAAAAAAAAAAAAAAAAAAAAAAAAAAAAAAAAAAAAAAAAAAAAAAAAAAAAAAAAAAAAAAAAAAAAAAAAAAAAAAAAAAAAAAAAAAAAAAAAAAAAAAAAAAAAAAAAAAAAAAAAAAAAAAAAAAAAAAAAAAAAAAAAAAAMjAyMzowMTowMiAyMTo1Mjo1MQAyMDIzOjAxOjAyIDIxOjUyOjUxAAAAZQBuAHYAeQAAAP/hCxdodHRwOi8vbnMuYWRvYmUuY29tL3hhcC8xLjAvADw/eHBhY2tldCBiZWdpbj0n77u/JyBpZD0nVzVNME1wQ2VoaUh6cmVTek5UY3prYzlkJz8+DQo8eDp4bXBtZXRhIHhtbG5zOng9ImFkb2JlOm5zOm1ldGEvIj48cmRmOlJERiB4bWxuczpyZGY9Imh0dHA6Ly93d3cudzMub3JnLzE5OTkvMDIvMjItcmRmLXN5bnRheC1ucyMiPjxyZGY6RGVzY3JpcHRpb24gcmRmOmFib3V0PSJ1dWlkOmZhZjViZGQ1LWJhM2QtMTFkYS1hZDMxLWQzM2Q3NTE4MmYxYiIgeG1sbnM6ZGM9Imh0dHA6Ly9wdXJsLm9yZy9kYy9lbGVtZW50cy8xLjEvIi8+PHJkZjpEZXNjcmlwdGlvbiByZGY6YWJvdXQ9InV1aWQ6ZmFmNWJkZDUtYmEzZC0xMWRhLWFkMzEtZDMzZDc1MTgyZjFiIiB4bWxuczp4bXA9Imh0dHA6Ly9ucy5hZG9iZS5jb20veGFwLzEuMC8iPjx4bXA6Q3JlYXRlRGF0ZT4yMDIzLTAxLTAyVDIxOjUyOjUxLjgxNTwveG1wOkNyZWF0ZURhdGU+PC9yZGY6RGVzY3JpcHRpb24+PHJkZjpEZXNjcmlwdGlvbiByZGY6YWJvdXQ9InV1aWQ6ZmFmNWJkZDUtYmEzZC0xMWRhLWFkMzEtZDMzZDc1MTgyZjFiIiB4bWxuczpkYz0iaHR0cDovL3B1cmwub3JnL2RjL2VsZW1lbnRzLzEuMS8iPjxkYzpjcmVhdG9yPjxyZGY6U2VxIHhtbG5zOnJkZj0iaHR0cDovL3d3dy53My5vcmcvMTk5OS8wMi8yMi1yZGYtc3ludGF4LW5zIyI+PHJkZjpsaT5lbnZ5PC9yZGY6bGk+PC9yZGY6U2VxPg0KCQkJPC9kYzpjcmVhdG9yPjwvcmRmOkRlc2NyaXB0aW9uPjwvcmRmOlJERj48L3g6eG1wbWV0YT4NCiAgICAgICAgICAgICAgICAgICAgICAgICAgICAgICAgICAgICAgICAgICAgICAgICAgICAgICAgICAgICAgICAgICAgICAgICAgICAgICAgICAgICAgICAgICAgICAgICAgICAKICAgICAgICAgICAgICAgICAgICAgICAgICAgICAgICAgICAgICAgICAgICAgICAgICAgICAgICAgICAgICAgICAgICAgICAgICAgICAgICAgICAgICAgICAgICAgICAgICAgIAogICAgICAgICAgICAgICAgICAgICAgICAgICAgICAgICAgICAgICAgICAgICAgICAgICAgICAgICAgICAgICAgICAgICAgICAgICAgICAgICAgICAgICAgICAgICAgICAgICAgCiAgICAgICAgICAgICAgICAgICAgICAgICAgICAgICAgICAgICAgICAgICAgICAgICAgICAgICAgICAgICAgICAgICAgICAgICAgICAgICAgICAgICAgICAgICAgICAgICAgICAKICAgICAgICAgICAgICAgICAgICAgICAgICAgICAgICAgICAgICAgICAgICAgICAgICAgICAgICAgICAgICAgICAgICAgICAgICAgICAgICAgICAgICAgICAgICAgICAgICAgIAogICAgICAgICAgICAgICAgICAgICAgICAgICAgICAgICAgICAgICAgICAgICAgICAgICAgICAgICAgICAgICAgICAgICAgICAgICAgICAgICAgICAgICAgICAgICAgICAgICAgCiAgICAgICAgICAgICAgICAgICAgICAgICAgICAgICAgICAgICAgICAgICAgICAgICAgICAgICAgICAgICAgICAgICAgICAgICAgICAgICAgICAgICAgICAgICAgICAgICAgICAKICAgICAgICAgICAgICAgICAgICAgICAgICAgICAgICAgICAgICAgICAgICAgICAgICAgICAgICAgICAgICAgICAgICAgICAgICAgICAgICAgICAgICAgICAgICAgICAgICAgIAogICAgICAgICAgICAgICAgICAgICAgICAgICAgICAgICAgICAgICAgICAgICAgICAgICAgICAgICAgICAgICAgICAgICAgICAgICAgICAgICAgICAgICAgICAgICAgICAgICAgCiAgICAgICAgICAgICAgICAgICAgICAgICAgICAgICAgICAgICAgICAgICAgICAgICAgICAgICAgICAgICAgICAgICAgICAgICAgICAgICAgICAgICAgICAgICAgICAgICAgICAKICAgICAgICAgICAgICAgICAgICAgICAgICAgICAgICAgICAgICAgICAgICAgICAgICAgICAgICAgICAgICAgICAgICAgICAgICAgICAgICAgICAgICAgICAgICAgICAgICAgIAogICAgICAgICAgICAgICAgICAgICAgICAgICAgICAgICAgICAgICAgICAgICAgICAgICAgICAgICAgICAgICAgICAgICAgICAgICAgICAgICAgICAgICAgICAgICAgICAgICAgCiAgICAgICAgICAgICAgICAgICAgICAgICAgICAgICAgICAgICAgICAgICAgICAgICAgICAgICAgICAgICAgICAgICAgICAgICAgICAgICAgICAgICAgICAgICAgICAgICAgICAKICAgICAgICAgICAgICAgICAgICAgICAgICAgICAgICAgICAgICAgICAgICAgICAgICAgICAgICAgICAgICAgICAgICAgICAgICAgICAgICAgICAgICAgICAgICAgICAgICAgIAogICAgICAgICAgICAgICAgICAgICAgICAgICAgICAgICAgICAgICAgICAgICAgICAgICAgICAgICAgICAgICAgICAgICAgICAgICAgICAgICAgICAgICAgICAgICAgICAgICAgCiAgICAgICAgICAgICAgICAgICAgICAgICAgICAgICAgICAgICAgICAgICAgICAgICAgICAgICAgICAgICAgICAgICAgICAgICAgICAgICAgICAgICAgICAgICAgICAgICAgICAKICAgICAgICAgICAgICAgICAgICAgICAgICAgICAgICAgICAgICAgICAgICAgICAgICAgICAgICAgICAgICAgICAgICAgICAgICAgICAgICAgICAgICAgICAgICAgICAgICAgIAogICAgICAgICAgICAgICAgICAgICAgICAgICAgICAgICAgICAgICAgICAgICAgICAgICAgICAgICAgICAgICAgICAgICAgICAgICAgICAgICAgICAgICAgICAgICAgICAgICAgCiAgICAgICAgICAgICAgICAgICAgICAgICAgICAgICAgICAgICAgICAgICAgICAgICAgICAgICAgICAgICAgICAgICAgICAgICAgICAgICAgICAgICAgICAgICAgICAgICAgICAKICAgICAgICAgICAgICAgICAgICAgICAgICAgICAgICAgICAgICAgICAgICAgICAgICAgICAgICAgICAgICAgICAgICAgICAgICAgICAgICAgICAgICAgICAgICAgICAgICAgIAogICAgICAgICAgICAgICAgICAgICAgICAgICAgPD94cGFja2V0IGVuZD0ndyc/Pv/bAEMABwUFBgUEBwYFBggHBwgKEQsKCQkKFQ8QDBEYFRoZGBUYFxseJyEbHSUdFxgiLiIlKCkrLCsaIC8zLyoyJyorKv/bAEMBBwgICgkKFAsLFCocGBwqKioqKioqKioqKioqKioqKioqKioqKioqKioqKioqKioqKioqKioqKioqKioqKioqKv/AABEIAYYDDAMBIgACEQEDEQH/xAAfAAABBQEBAQEBAQAAAAAAAAAAAQIDBAUGBwgJCgv/xAC1EAACAQMDAgQDBQUEBAAAAX0BAgMABBEFEiExQQYTUWEHInEUMoGRoQgjQrHBFVLR8CQzYnKCCQoWFxgZGiUmJygpKjQ1Njc4OTpDREVGR0hJSlNUVVZXWFlaY2RlZmdoaWpzdHV2d3h5eoOEhYaHiImKkpOUlZaXmJmaoqOkpaanqKmqsrO0tba3uLm6wsPExcbHyMnK0tPU1dbX2Nna4eLj5OXm5+jp6vHy8/T19vf4+fr/xAAfAQADAQEBAQEBAQEBAAAAAAAAAQIDBAUGBwgJCgv/xAC1EQACAQIEBAMEBwUEBAABAncAAQIDEQQFITEGEkFRB2FxEyIygQgUQpGhscEJIzNS8BVictEKFiQ04SXxFxgZGiYnKCkqNTY3ODk6Q0RFRkdISUpTVFVWV1hZWmNkZWZnaGlqc3R1dnd4eXqCg4SFhoeIiYqSk5SVlpeYmZqio6Slpqeoqaqys7S1tre4ubrCw8TFxsfIycrS09TV1tfY2dri4+Tl5ufo6ery8/T19vf4+fr/2gAMAwEAAhEDEQA/APpGiqOqBmjt0WR499wiko20kHPGad/Zif8APxdf9/2oAuUVT/sxP+fi6/7/ALUf2Yn/AD8XX/f9qALlFU/7MT/n4uv+/wC1H9mJ/wA/F1/3/agC5RVP+zE/5+Lr/v8AtR/Zif8APxdf9/2oAuUVT/sxP+fi6/7/ALUf2Yn/AD8XX/f9qALlFU/7MT/n4uv+/wC1H9mJ/wA/F1/3/agC5RVP+zE/5+Lr/v8AtVaWyC6lbxC5utjxuSPPbqNuP50AatFU/wCzE/5+Lr/v+1H9mJ/z8XX/AH/agC5RVP8AsxP+fi6/7/tR/Zif8/F1/wB/2oAuUVT/ALMT/n4uv+/7Uf2Yn/Pxdf8Af9qALlFU/wCzE/5+Lr/v+1H9mJ/z8XX/AH/agC5RVP8AsxP+fi6/7/tR/Zif8/F1/wB/2oAuUVT/ALMT/n4uv+/7Uf2Yn/Pxdf8Af9qALlFU/wCzE/5+Lr/v+1H9mJ/z8XX/AH/agC5RVP8AsxP+fi6/7/tR/Zif8/F1/wB/2oAuUVT/ALMT/n4uv+/7Uf2Yn/Pxdf8Af9qALlFU/wCzE/5+Lr/v+1H9mJ/z8XX/AH/agC5RVP8AsxP+fi6/7/tR/Zif8/F1/wB/2oAuUVT/ALMT/n4uv+/7Uf2Yn/Pxdf8Af9qALlFU/wCzE/5+Lr/v+1VbCyE0cpkubolZnUfv26BsCgDWoqn/AGYn/Pxdf9/2o/sxP+fi6/7/ALUAXKKp/wBmJ/z8XX/f9qP7MT/n4uv+/wC1AFyiqf8AZif8/F1/3/aj+zE/5+Lr/v8AtQBcoqn/AGYn/Pxdf9/2o/sxP+fi6/7/ALUAXKKp/wBmJ/z8XX/f9qP7MT/n4uv+/wC1AFyiqf8AZif8/F1/3/aj+zE/5+Lr/v8AtQBcoqn/AGYn/Pxdf9/2o/sxP+fi6/7/ALUAXKKp/wBmJ/z8XX/f9qP7MT/n4uv+/wC1AFyiqf8AZif8/F1/3/aj+zE/5+Lr/v8AtQBcoqn/AGYn/Pxdf9/2o/sxP+fi6/7/ALUAXKKp/wBmJ/z8XX/f9qP7MT/n4uv+/wC1AFyisews/Pe7ElzdHy7hkX9+3AwD/Wrn9mJ/z8XX/f8AagC5RVP+zE/5+Lr/AL/tR/Zif8/F1/3/AGoAuUVT/sxP+fi6/wC/7Uf2Yn/Pxdf9/wBqALlFU/7MT/n4uv8Av+1H9mJ/z8XX/f8AagC5RVP+zE/5+Lr/AL/tR/Zif8/F1/3/AGoAuUVT/sxP+fi6/wC/7Uf2Yn/Pxdf9/wBqALlFU/7MT/n4uv8Av+1H9mJ/z8XX/f8AagC5RVP+zE/5+Lr/AL/tVK/tPJmsVjuboCW5CP8Av25Gxj/MCgDZoqn/AGYn/Pxdf9/2o/sxP+fi6/7/ALUAXKKp/wBmJ/z8XX/f9qP7MT/n4uv+/wC1AFyiqf8AZif8/F1/3/aj+zE/5+Lr/v8AtQBcoqn/AGYn/Pxdf9/2o/sxP+fi6/7/ALUAXKKp/wBmJ/z8XX/f9qP7MT/n4uv+/wC1AFyiqf8AZif8/F1/3/aj+zE/5+Lr/v8AtQBcoqn/AGYn/Pxdf9/2o/sxP+fi6/7/ALUAXKKp/wBmJ/z8XX/f9qP7MT/n4uv+/wC1AFyiqf8AZif8/F1/3/aj+zE/5+Lr/v8AtQBcorLv7EQabcyx3N0HjiZlPnt1AJrRhJMEZJydo5P0oAq6l/y6f9fKf1q7VLUv+XT/AK+U/rV2gApC6qQGYAnpk9aWvI7ubwwvizxKvxQkRLprrGmC6LgfZPLXYbfH8W4tkr82aAPVLzULPT/I+3XUVv8AaJlgh81wvmSN91BnqTjgVOzKuNzAZOBk9TXgN1FeeX4Dk1lfEf8AaB1yxDPfSP8AZymW2ZUnaJdu3PGc7veuz+IeqXuv6nZ6L4NgXUdQ0S8i1S9AOI4/JO5YC3QSSHgDsAScUAeiXN/aWc1vFd3MUMl1J5UCu4BlfBO1fU4BOPao9Q1fTdIjSTVdQtbFJDtRrmZYwx9AWIzXnXjDxA2vP4Kv/DcSSXS66Y/s98Xg8uQW8u5JPlJUjPoapeN7PUtU8YWukjWZLC8msBfSpc3yJZxnOwpDuhLOcgkk4wCDjnFAHqjapYJb21w17AIbt0S3k8wbZmf7oU9DntjrVqvEoLm9uvAui3FjdzXt5H4nhtohf3SyW++KRkzFJHGuYjjIO3Nekarq3ii3gtLLS9BiutSniBlujcBbO2bock/vGx1AC8+ooA6KKaKYMYZEkCMUbYwO1h1B96fXnek6F4n+HvnyWIbxTZ387Xd9CGWG4juH/wBY8QY7WQkfcJBHYnNehRuXiR2RoyyglGxlfY4oAdVOb/kM2v8A1yk/mtXKpzf8hm1/65SfzWgC5RRRQAUUUUAFFFFABRRRQAUUUUAIzBFLOQqgZJJwAKYtzA9qLlJo2gKbxKrAqVxnOemMVz3jW91A6U2j6HYT3OoanG0EcwTENspGGkkfoAAcgDknAA6kcxp2ieJdO8Lt4QW7vbCPSbZ0tdSt7eGaO/twMIjbgSkgHBAAz1B9AD0a3vLa7s4bu1uI5ba4RZIpUYFZFYZDA9wQc1IJEKkh1IAySD0ryK/gtbbwJ8MIvElswsoI4FvYpoWYJizYYdcZ4bHUdaoyRWE/irWG8EWusLp32G1yPD+y2Pmbp927zdoIwUzjn7tAHs1jf2mp2MV7p1xFdWsy7opoXDK49QR1qeuL+D3/ACR3wz/14r/M12lABRRRQAUUUUAFFFFABRRRQAVS0v8A1M//AF8Sf+hGrtUtL/1M/wD18Sf+hGgC7RRRQAUUUUAFFFFABRUc7bLaVvLeXahPlpjc/HQZI5P1ryo6fpLzrDF8OfEQlcFljm1RI2YDqcfaj60Aes0Zrz34RiVdP8TLJa3FlGmuzJDa3Fx5zQKIYRt3bmzzu6E1yHw9l+HVz4D02bxPq9j/AGqwk+0/adUZJM+Y2MjeMcYoA9xpCygEkgBepz0rhJ9V8P6J8OPEWo+Abu1uDaWsspa3uTOElCHaTljj1xXPXuiz+FL3wqvhvUfJutYt57fULi8L3C3JW3abzWUuPm3IRnIwG78CgD1C21jTb25W3s7+2uJngFwqRSqxaInAcYPK5GM9Ku55x3rxr4S5/wCEk0TPJ/4Q2DP/AIEtXQt4mt0/aBXTGlbym0g2u/J2C5LiURHtuMYLfSgDvPt9odSOni5i+2CITG33jeIySobHXGQRn2qxXFp/yXif/sW4v/SmSu0oAKKKKACiiigAooooAoaX/rL/AP6+2/8AQVq/VDS/9Zf/APX23/oK1foAKKKKACo47iGWaWKKaN5ISBKisCUJGQCO3BB5qQnAyeBXgfjDWrTS/FPiXXbbVYryzm8uZU0vxatpIfLhVGXylyWbKnHegD3g3MAultjNGJ2QusRYbioIBYDrgEjn3FBuIQcGWMH/AHhXjPgG9tn+Itrq13q9rHE+mSWscV14pTUZXkkkiZQqnBXhDkDvina/o1trfiuHWvC/g61vdJ0WWQ6gHtVRtUdyVkWMMBuMfLZPBbgUAevnUbIahFYm6h+1zRNNHBvG90UgFgO4BIGfcVYLqDgsAfc15fLDLdfE7wtN4SWPTbT+w7raLixcKiebF8mzKlW+vp0qHWrzwfD8W9aTxxc2MaCwtDbLeybR1k3bRn6ZoA9WDqTgMCfY0tcL4ZvPhrLr0CeFrrSJNTYN5S20oLkbTuwM+ma7qgAooooAKz9U/wCPjTP+vwf+i3rQrP1T/j40z/r8H/ot6ANCiiigAooooAKY80UckcckiK8hIRWYAuQMnA78U+vPPibY6jP4h8I32nf2lFHY3Vy091ptus0sAaBlBCsrA5JxyDwTQB6BLNHBEZJ5EijXq7sAB+Jp9eJ+MYNb1jwneWFpqfjDUJZtgW1utIhjjkxIpIZliBAwM8EdK9R1zw3ouswx3GuxvttYz84u5IVRepJ2MB26mgDVvL220+0e6vp47eCPG+WVgqrk4GSfcgVNXi/2Rbb4MeKdVgM/9n6jfi4sInkeVltlkiRMbiT821mHswrr59a/tL4geEHtPtkFvNbagHhuInhLFRDglGAPGTg470AdpLd28M8UM08Ucs24xRs4DPtGWwOpwOTjpTLS/tL+wivrK5intZU3xzxuCjL6g9MVwPxDv/7N+I3gi5Nrc3W1dRHlWse9zmBRwKwUudNH7PHh62v9ZsrCZbGG6jt7uZUW8EWGMRUkFlbGDj1H0oA9Tg8Q6LdXX2a21ewmnzjyo7lGb8gc1o14DqPjvS9Y8L6dbvong6xj1cRQiUanHI9l5q/6xowilSmefmGCOte1+HbqxutBtRpmqQ6rFBGsJu4pVkEjKACSQSM9z9aANOiiigAooooAq6r/AMge8/64P/6Cang/494/90fyqDVf+QPef9cH/wDQTU8H/HvH/uj+VAFXUv8Al0/6+U/rV2qWpf8ALp/18p/WrtABXHeLNa1PRPF+hTQ2WpXmkGK4+2JYWbXBD4XyyQoJH8VdjRQBwOpa5pPiq60m3vdC8URGz1GG8gc6VLGglQnaXYrjbzzVnxRq9/4f8baLPbafqNxpM0F0b9dOsmn3S/uhEXCjOcbsGu1ooA4W41zSvEut6N9o0XxNBNY3guLd5NKlijDlGTLsVxtw59KqfFW2S9u9Bt9QS5/st5ZjdS2umLevGQnyfKY5MZbjOK9FooA8cWcNqnh600bV/EepRxanb7rS/wBEEMEUQPLA/Z0C47YIr0bVvBPhvXb83ur6Pb3dyyhTLIDkgdB1rdooA8y8G/Djw1PaaqdT8PwsyatdJD5qMMRB/kA56Y6V6NZWdvp1jDZ2USw28CBI416Ko6AVPRQAVTm/5DNr/wBcpP5rVyqc3/IZtf8ArlJ/NaALlFFFABRRRQAUUUUAFFFFABRRRQBz3j2aWDwHq0sFimoSLBlbV0d1k5HBVCGPrgc15FLbaNJC6CDTELKQGXwzq2V9xzXv1FAHFINXtfgrDF4Ola81a10pILSWeBomlkjQIW2SgEE7SQG747VzD32iNpLBNS8dHWTFgRm3u/OMmOhTZ5PX/gPvXrlFAGF4ItL+w8C6Pa6vawWd9FaIs8Fuqqkb45AC8D8OM9K3aKKACiiigAooooAKKKKACiiigAqlpf8AqZ/+viT/ANCNXapaX/qZ/wDr4k/9CNAF2iiigAooooAKKKKAK2oyX0djI2lQQ3F0MbI55TGh55ywViOPauIu9M8bXXjTTtf/ALL0ZfsNpPbeT/aUh3+YUOc+TxjZ6d69AooA5bSIPEGn298seg6TatM73CrFqMjiWZiNxYmIYB55GenSotvir/oWPD3/AIMH/wDjFddRQBzlla6tfx3On+IND0q3065heOUWt20hfIxtKmNeCCec1ix/C60eFI/EN/N4itLG3aDTbO+hjK2y4HJIHzvgABj2rvaKAPIvh/oGqafr1haXMNxp00fg+O1M3lg+RL57ccgqWGQcGu0T4e6KvhZ9FcTM0k32qS+34uGuevn7+z5/DtjHFdTRQBxVlYXNt8Yi8hnniTw3DCbqVf8AWOLh85IAG4jkgetdrRRQAUUUUAFFFFABRRRQBQ0v/WX/AP19t/6CtX6oaX/rL/8A6+2/9BWr9ABRRRQAdetcbqnw+N/qU1za6zJYRSEFbeHTrRlTgDgtEWOTzye9dlRQB53pPh270P4kWVlcXR1Sxm06ecvNp9vH5UqSRBcNHGuDhm4rM8Sarrmk/FbU3g1W706wl0+2ER/sa41CJ3DSbtojOEIyM+uR6V6vRQB5T4W1TW9W+K9nLc6pd6jYR6VcK7HR59PiSQyR7QRIcO2A2D25rqdcbxhqGn6jp9rouleVcRSQxyvqbg4YFQxXyT65xmutooA4fwvB400DwxpGjS6LpEq6faQ2rTLqbjcEQKWx5PtnGa7iiigAooooAKz9U/4+NM/6/B/6LetCs/VP+PjTP+vwf+i3oA0KKKKACiiigArG1Xwrpus3gub1r0SBAn7i+mhXA/2UYDPPWtmigDzrwt4LtLqfXRqUmrlYdVlitt+p3K/ugqYx8/IyTzW7qngiLVls7C51K7/sK3jxLpm8t9qbOR5srEuy/wCznnuccV1FFAHKfEa0eT4caha2MBYhYVjiiTPAlTgAegFWvEHhGHxDqGm351TUdNutOWVYpLGRFJEgUMG3I39wdMV0NFAHn1/4UvrLx14Uube41LVLe1F+1zdXkokMW+BVUcAAAkdAKzLOx1iD4C+H10zTTJqENrbpMptlkuIYsjzTGj8FwOgP5E4FeqUUAeJXcGkrYP8A8I9e+MbnWQn7mGXRyytJjgOJIFjC568jjvXr+iwywaLaLd20FrdNErXEVuoCLIQN2Me9XqKACiiigAooooAq6r/yB7z/AK4P/wCgmp4P+PeP/dH8qg1X/kD3n/XB/wD0E1PB/wAe8f8Auj+VAFLVxIY7UQsqv9pTBZcjv2qTytR/5+bf/vwf/iqTUv8Al0/6+U/rV2gCn5Wo/wDPzb/9+D/8VR5Wo/8APzb/APfg/wDxVXKKAKflaj/z82//AH4P/wAVR5Wo/wDPzb/9+D/8VVyigCn5Wo/8/Nv/AN+D/wDFUeVqP/Pzb/8Afg//ABVXKKAKflaj/wA/Nv8A9+D/APFUeVqP/Pzb/wDfg/8AxVXKKAKflaj/AM/Nv/34P/xVHlaj/wA/Nv8A9+D/APFVcooAp+VqP/Pzb/8Afg//ABVVJY7/APta2zcQbvKkwfJPqv8AtVr1Tm/5DNr/ANcpP5rQAeVqP/Pzb/8Afg//ABVHlaj/AM/Nv/34P/xVXKQsFUliAB1JoAqeVqP/AD82/wD34P8A8VR5Wo/8/Nv/AN+D/wDFVZlnigjd5pEjWNS7szYCqO59qeCCAQcg9DQBT8rUf+fm3/78H/4qjytR/wCfm3/78H/4qp47qCaQxwzRu4G4qrAkDJGfzBH4GnvIka5kZVHqxxQBV8rUf+fm3/78H/4qjytR/wCfm3/78H/4qrlICCSAQSOvtQBU8rUf+fm3/wC/B/8AiqPK1H/n5t/+/B/+Kq2zqiMzsFVRkknAApkNxDcb/IlSTYdrbGB2nAOD+BB/GgCv5Wo/8/Nv/wB+D/8AFUeVqP8Az82//fg//FVOLu3L7BPEWzjbvGc0LdQPGZEmjKBihYMMbgcEZ9QQRQBB5Wo/8/Nv/wB+D/8AFUeVqP8Az82//fg//FVZSeKRsRyox9FYGn0AU/K1H/n5t/8Avwf/AIqjytR/5+bf/vwf/iquUUAU/K1H/n5t/wDvwf8A4qjytR/5+bf/AL8H/wCKq5RQBT8rUf8An5t/+/B/+Ko8rUf+fm3/AO/B/wDiquUUAU/K1H/n5t/+/B/+Ko8rUf8An5t/+/B/+Kq5RQBT8rUf+fm3/wC/B/8AiqPK1H/n5t/+/B/+Kq5RQBT8rUf+fm3/AO/B/wDiqp6dHfmGbZcQAefJnMJPO4/7VbFUtL/1M/8A18Sf+hGgBfK1H/n5t/8Avwf/AIqjytR/5+bf/vwf/iquUUAU/K1H/n5t/wDvwf8A4qjytR/5+bf/AL8H/wCKq5RQBT8rUf8An5t/+/B/+Ko8rUf+fm3/AO/B/wDiquUUAU/K1H/n5t/+/B/+Ko8rUf8An5t/+/B/+Kq5RQBT8rUf+fm3/wC/B/8AiqPK1H/n5t/+/B/+Kq5RQBT8rUf+fm3/AO/B/wDiqPK1H/n5t/8Avwf/AIqrlFAFPytR/wCfm3/78H/4qjytR/5+bf8A78H/AOKq5RQBT8rUf+fm3/78H/4qjytR/wCfm3/78H/4qrlFAFPytR/5+bf/AL8H/wCKo8rUf+fm3/78H/4qrlFAFPytR/5+bf8A78H/AOKo8rUf+fm3/wC/B/8AiquUUAU/K1H/AJ+bf/vwf/iqPK1H/n5t/wDvwf8A4qrlFAGLpsd+ZL7ZcQD/AEps5hJydq/7VXvK1H/n5t/+/B/+Kpml/wCsv/8Ar7b/ANBWr9AFPytR/wCfm3/78H/4qjytR/5+bf8A78H/AOKq5RQBT8rUf+fm3/78H/4qjytR/wCfm3/78H/4qrlFAFPytR/5+bf/AL8H/wCKo8rUf+fm3/78H/4qrlFAFPytR/5+bf8A78H/AOKo8rUf+fm3/wC/B/8AiquUUAU/K1H/AJ+bf/vwf/iqPK1H/n5t/wDvwf8A4qrlFAFPytR/5+bf/vwf/iqPK1H/AJ+bf/vwf/iquUUAU/K1H/n5t/8Avwf/AIqqGpR34n0/fcQE/ahtxCRg7H/2q26z9U/4+NM/6/B/6LegCTytR/5+bf8A78H/AOKo8rUf+fm3/wC/B/8AiquUUAU/K1H/AJ+bf/vwf/iqPK1H/n5t/wDvwf8A4qrlFAFPytR/5+bf/vwf/iqPK1H/AJ+bf/vwf/iquUUAU/K1H/n5t/8Avwf/AIqjytR/5+bf/vwf/iquUUAU/K1H/n5t/wDvwf8A4qjytR/5+bf/AL8H/wCKq5RQBT8rUf8An5t/+/B/+Ko8rUf+fm3/AO/B/wDiquUUAU/K1H/n5t/+/B/+Ko8rUf8An5t/+/B/+Kq5RQBT8rUf+fm3/wC/B/8AiqPK1H/n5t/+/B/+Kq5RQBT8rUf+fm3/AO/B/wDiqPK1H/n5t/8Avwf/AIqrlFAGVqUd+NJu99xAV8h8gQkZG0/7VaMH/HvHn+4P5VDqv/IHvP8Arg//AKCang/494/90fyoAq6l/wAun/Xyn9au1S1L/l0/6+U/rV2gAooooAK84u9a1TS9f18aR5D3N1rllZp9q3FIxJAgLYBB4644z7ZzXo9ZcnhvSpbyS6ktczS3Ud47eY/MsahUbGccAAY6HuKAOOj8Y+IBqj+GpXsG1f8Atf7At+LdhCI/soud5i353bTtC78Z57YrKtPE+u6MsmmJ5cupX2t3gluYLKW5WNI1QkpCrbsnI43YGTycV6BeeEdEvmvHuLRvNvLhLqWVJ5EcSogjV1ZWBQhVA+XHf1NVx4D8OrpyWUdnLHGlw1ykkd3MsySsMM4lD7wSOvPPegDldQ+I2t6J4Ws9b1bTI41NxNYz28qNbtJICfKmXecrGduWByVBJydpz6Jp/wBq/s23/tB4pLoxqZmgBCFsc7ck8Z6VlweDNAtjB5enIRbxSwxrJI7qFlOZCVYkFm7scscnnmtTT7C30vT4LGyRkt7dBHGrOzlVHQZYkn8TQBYooooAKpzf8hm1/wCuUn81q5VOb/kM2v8A1yk/mtAEPiPUJdI8LarqVsqtNZ2U08YcfKWRCwz7ZFcPdX3ijWtLutFvjZXE+raG19araRGIwtuRTGSzEN98fN8vIPFeh31lb6lp9xY3sfmW1zE0MqbiNyMCCMjkcE9Kgh0awt723u4YNs9tam0ifex2xEqduM4PKLyeeOtAHmuo6frGpWniLWor28FjLoJijmm+zy+cVMrMi+XkYww561U8aLdyeKjJY6deXcZhtISkFw6GSSJhPKqoGG7MPGR3GOprvLPwSmnWiWthr+tW9vHkRxJPHtQZzgZTPeulEajZu+ZkGAzDmgDzr4aTSzaxeM0KRW/2XNsQ7FnjN3cnLKygqc5GOenXsNDWbCI+OXfWdITXYbq0H2GB9j/Z/LOJcRyYUZ3odw5PQ8AV0em+HrLSb6S5s/MUyReWVZsgDzHkJ/76kb9Khu/CGg31817d6bHLctnMpZs84z34zgflQBl+Ezc2vhOa80qyE1vdTmbTrBbkYhhYABd54UZDNgZChsDOKoeGE1Sx8Q6xLA6anJNequsRBvL+y3BijZTDuHzoImjUg4Py56kiujg8H6Ba2DWVvpsUVsxUmJCwXK5x34xk1FF4H8NwSvJDpMMbu4d2VmBZgAMnnk4AH4UAef6y5W+vpdN8mXxC95qEd3HNMyn7GIZNm7AJCAeUV4xuPbJNdf8AD3/j31f/AK+4f/SS3rqbmyt7uGeKaNcXERikYDDFSMYz+NVdI0W20X7ULQuVuZVkYOc7SI0jAH4IP1oA4CLSYpvHOoaiI9Fs7iJ0tZrIJGktqhHmJcLIUIaU78kYxtIGcjnQ0vyE8L29lcabb+IUuNUvQhmeLDuJ5WHD4BbAY/KOx7Vqaj8P7S/1691VNSu7aa9KNMiQW0q5RAgx5sLkcKOM4qxF4JsYNEstOivL1PsVy91FcxuiSCR9+4/KoUA+YwwFA5oAx9N0G5tviBp+q2fhS30iyisbi2m8h4VLNI8TKxCdQBGw9fm+td5WTp2hPYXYnbWNTuwAR5VzMrJ9cBRWtQAUUUUAFFFFABRRRQAUUUUAFFFFABVLS/8AUz/9fEn/AKEau1S0v/Uz/wDXxJ/6EaAOb8bTNBrWjMPmUQ3zMhJAbFuTg4rDPjHWNMk0nzEt9P0hraz2yS2cssMm9RvDTqx8kjOF3qc9zzx6Bf6PY6nLDJfQea8KyLGd7LtDrtboe44rKn8CeHri4hlkspP3UccflLdSiORY/uCRA22TGB94GgDgTHfalr1lb67eLf2reMZ4kiMbLtVLaUhSS5yAQuBgYx78aGhi3ude8N6lHaR29w+o6nbO0bMdyI82Ack9+fqeMV0GseCFOtWOreHxFBdR6oL+6S4mkMcx8l4iQuSFbD54AzjmrP8Awir23iHSZdMS3t9LsJbi4dC7tK8s27djORjLE9fwoA6eiiigAooooAKKKKACiiigAooooAKKKKACiiigAooooAKKKKAKGl/6y/8A+vtv/QVq/VDS/wDWX/8A19t/6CtX6ACiiigAooooA43XbCDxF4/ttE1lnk0yPTmu1sxIUS5k8wKS4BG4KMcHjLA+lcrqV9L4Ru/EfhzQpnXTtmnJbKXLfYZLu4aF1Uk5A2gOB0B9jXpOteHdM8QRRLqcDM0LboZopXhliPQ7XQhh+B5qhd+CtJk8LXmi2cHkJckS+aztI/nKQySM7EsxDKp5J6UAZvirTZrfVvC8sGoXEVnBqUEKWMeFjPyuMsercAYGcDrgnpoQuLL4lT2kJxHqOnfa5EHTzYnWMv8AUq6D/gArXk06O/t7I6rGkk9rIk4KMwVZVGMjpkcnr+VVrbSZR4qvNYu2jJaBLW1RM/JEPmYtn+Iue3GFX3oA1qKKKACiiigArP1T/j40z/r8H/ot60Kz9U/4+NM/6/B/6LegDQooooAKKKKACiiigAooooAKKKKACiiigAooooAKKKKACiiigCrqv/IHvP8Arg//AKCang/494/90fyqDVf+QPef9cH/APQTU8H/AB7x/wC6P5UAVdS/5dP+vlP61drO1jzfKtfs+zzPtKY35x39Kd/xN/8Apy/8foAv0VQ/4m//AE5f+P0f8Tf/AKcv/H6AL9FUP+Jv/wBOX/j9H/E3/wCnL/x+gC/RVD/ib/8ATl/4/R/xN/8Apy/8foAv0VQ/4m//AE5f+P0f8Tf/AKcv/H6AL9FUP+Jv/wBOX/j9H/E3/wCnL/x+gC/VOb/kM2v/AFyk/mtM/wCJv/05f+P1Ul/tX+1bbP2Pf5cmPvYxlc0AbVFUP+Jv/wBOX/j9H/E3/wCnL/x+gC/RVD/ib/8ATl/4/R/xN/8Apy/8foAv0VQ/4m//AE5f+P0f8Tf/AKcv/H6AL9FUP+Jv/wBOX/j9H/E3/wCnL/x+gC/RVD/ib/8ATl/4/R/xN/8Apy/8foAv0VQ/4m//AE5f+P0f8Tf/AKcv/H6AL9FUP+Jv/wBOX/j9H/E3/wCnL/x+gC/RVD/ib/8ATl/4/R/xN/8Apy/8foAv0VQ/4m//AE5f+P0f8Tf/AKcv/H6AL9FUP+Jv/wBOX/j9H/E3/wCnL/x+gC/RVD/ib/8ATl/4/R/xN/8Apy/8foAv0VQ/4m//AE5f+P0f8Tf/AKcv/H6AL9UtL/1M/wD18Sf+hGm/8Tf/AKcv/H6qad/ankzeX9jx58md27ruOaANqiqH/E3/AOnL/wAfo/4m/wD05f8Aj9AF+iqH/E3/AOnL/wAfo/4m/wD05f8Aj9AF+iqH/E3/AOnL/wAfo/4m/wD05f8Aj9AF+iqH/E3/AOnL/wAfo/4m/wD05f8Aj9AF+iqH/E3/AOnL/wAfo/4m/wD05f8Aj9AF+iqH/E3/AOnL/wAfo/4m/wD05f8Aj9AF+iqH/E3/AOnL/wAfo/4m/wD05f8Aj9AF+iqH/E3/AOnL/wAfo/4m/wD05f8Aj9AF+iqH/E3/AOnL/wAfo/4m/wD05f8Aj9AF+iqH/E3/AOnL/wAfo/4m/wD05f8Aj9AF+iqH/E3/AOnL/wAfo/4m/wD05f8Aj9ABpf8ArL//AK+2/wDQVq/WFp39qeZe+X9j/wCPlt27d12r09qvf8Tf/py/8foAv0VQ/wCJv/05f+P0f8Tf/py/8foAv0VQ/wCJv/05f+P0f8Tf/py/8foAv0VQ/wCJv/05f+P0f8Tf/py/8foAv0VQ/wCJv/05f+P0f8Tf/py/8foAv0VQ/wCJv/05f+P0f8Tf/py/8foAv0VQ/wCJv/05f+P0f8Tf/py/8foAv1n6p/x8aZ/1+D/0W9L/AMTf/py/8fqjqP8Aann6f5n2TP2obdu7rsfr7daAN2iqH/E3/wCnL/x+j/ib/wDTl/4/QBfoqh/xN/8Apy/8fo/4m/8A05f+P0AX6Kof8Tf/AKcv/H6P+Jv/ANOX/j9AF+iqH/E3/wCnL/x+j/ib/wDTl/4/QBfoqh/xN/8Apy/8fo/4m/8A05f+P0AX6Kof8Tf/AKcv/H6P+Jv/ANOX/j9AF+iqH/E3/wCnL/x+j/ib/wDTl/4/QBfoqh/xN/8Apy/8fo/4m/8A05f+P0AX6Kof8Tf/AKcv/H6P+Jv/ANOX/j9AEuq/8ge8/wCuD/8AoJqeD/j3j/3R/KsrUv7V/sq78z7Hs8l923dnG01qQf8AHtHnrsH8qAK2pf8ALp/18p/WrtUtS/5dP+vlP61doAKKKKACiivOfFdvqP8AwkOoXU9pq+raasSJF/Ymo+VLYsFJbMIdd5OQw+9xgY9QD0aivMh4w1DTbtdQjvF1bSYfD0d0CwMUlxIXKhsdFYtgHPQZrS1rxrrnhqC6j1bTbGW7WzF1bfZp22P+9SNkbcMgjzFIPf0GKAO7orzrU/iFq+mapPpc1lYG+sbVLi4AMzLKXLbI4yqHBwvJbjJ6Hmu8068Go6Xa3oieEXESy+XIMMmRnBHqKALNFFFABVOb/kM2v/XKT+a1cqnN/wAhm1/65SfzWgC5RWX4mlkg8JavLC7RyR2MzI6nBUiMkEH1rzXTvEWsWXhDTNE1u9lbUhLp1xa3okIa9tZJ4gcn+8u4ow7jB/ioA9epqOkgJRlYAlTg5wR1FeWNH4nm12Oxtpb4CHXpLhkktAYY4S8hRmcOGK4IO3jPSq0eozaZ4cT7XcSPdL4nvJLo2TtApgS4YzybdxwgGOCT1AySaAPXGkRCodlUscDJxk+lOrw/Rr+5vNf8M+fHcGYTWy3hu5WMsUgNyQCG5OVIPXGCPWvS/GrSxWFncOJpNPiuR9tht5xDJIjAqoDFlz87L8uQT0GehAOlori/DqO3jB20a3vNP0qC0Zbu2vJDmSZmUxMsZYsmFWTJOM7h1xkQ31x4guvFen30CCxkgimMGjTygtfRfKJGZlyiMCYyvJ756nAB3VN81PMEe9d5BIXPJAxnj8R+deeeK9TmuL521KW70aOLQ5bu0iNx5T/ag2CCUYq5UBMLkg7z1rL8JTXdx8W45dShWC6e31Ayxo+4Kdmnd8D+VAHrNIHVmZVYFl+8AeR9a4nxrY2+r35sbi2htB9nDy6pPdBDHCH+by0DZLDdjJAALA5PSr2iWV1/wnniK/jul+ws0EPkrsbMixDOSPmUgEcHGc5oA6dpEVgrOoZugJ5NCyI5YIysUO1gDnacZwfzFeTfEeznTxfHei3ikmjjR7BppBy+eRvMymADAOQjc88nirFpYX99p/jR9JuRfWk2s27xQwTqJJFSK08xvOLjGURhg4PGc80Aeou6R43sq5IUZOMk9BTq8rvb2DVLGx03w5AtjcHVrSdDJeJeN8sgLNtWRshQMnkDivUowwjUSMGcAbmAxk+uO1ADqKKKACiiigAooooAKKKKACqWl/6mf/r4k/8AQjV2qWl/6mf/AK+JP/QjQBdorkvGF9NZazo/lySCJorxpI0kKCTbASAce/ftWTH49u7W90yzktrWztZra1dJb6SUfaPMUbgk20puXOMMcsfrmgD0OivKPt+s6hrtnbapesLZvFs9sotp3RjGlvIwQkY+UFVOPrWjpF817rfh29ha5g87UNRtZYjdySI6xtLgkMcdRkcccAcAUAejUVy3ijxXLoN/Fbxy6QgePfi+vHibrjgKjcfjTtb126T4Z32s2kkC3X2J5I5LdzJGrYxuUkDIHXkdqAOnorjNI87RviMujQ3l1cWV1o/2tkuZ2lKSpKE3AsSQGD8jpla7OgAooooAKKKKACiiigAooooAKKKKACiiigAooooAoaX/AKy//wCvtv8A0Fav1Q0v/WX/AP19t/6CtX6ACiiigAooooAKK5LWIpNb8e2+iXN3c2+nw6c140VtM0LXDmQIAWUhtqjnAI5YZrmdT1u/8KXviLw9Y3k1zAItP+wyzytJJaSXc7QFS7EkgY3rn3GcYoA9TorjPFFvqlprXhp7bVpIdNS/ht2tI1+aclWyZJCckYA+UY55OeK0obiS0+Ik9gJXaG+08XYjZiQkkbiNiM9AQ6cDjK56k0AdDRRRQAUUUUAFZ+qf8fGmf9fg/wDRb1oVn6p/x8aZ/wBfg/8ARb0AaFFFFABRRRQAUUUUAFFFFABRRRQAUUUUAFFFFABRRRQAUUUUAVdV/wCQPef9cH/9BNTwf8e8f+6P5VBqv/IHvP8Arg//AKCang/494/90fyoAq6l/wAun/Xyn9au1S1L/l0/6+U/rV2gAooooAK5/UvBtjqGpz38V5qWnz3KKlybG7aITgDALAcZA43DBx3roKKAOcn8CaHOsMZhlS2isTp5tklIjkgP8LDvg8g5yDTD4D0qWC5S+nvr6S4hSBprq5LusaOHCqe3zAEnqe5NdNRQBg6t4P0/V9QlvXmvLSe4txbXJtLgxfaIhnCvj03NgjBGTzW1BBHbW8cECBIolCIo6KAMAVJRQAUUUUAFU5v+Qza/9cpP5rVyqc3/ACGbX/rlJ/NaAJb60i1DT7izuQTDcRNFIFODtYYPP0NY+oeCtF1S10aC8t2f+xZY5bKQPh4ygAAJ7ggDI74HpW/RQBhTeGmOuXmqWWrXdlLeJGsyRrGynYCFPzKSOprQttOCWLW19KdQDE7muI0+YHsQAB+lXaKAMXUvDFpqWt2mqPJJHPbSROAuNreX5mAf+/h/IU/XvDOn+JIki1RrsxIQfLgvJYVYhgwJCMASCoIJ6YrXooA5+z8F6ZY30l5Bcar58gxIz6rcPvABAyC5zgE4z07VE3gPSXuo7l7rWWniVkSU6zdblVsZAPmcA7Rn6CulooAowaNZQ2kFvJG12tu2+N7x2uHVvXe5Jz+NZ8HhKzt/F/8AwkEU0wuCk6tGSCpMvkAn14Fuv5mt6igDl/FngSx8W3dvcXspRoImiX9xHJgFlbKl1JVvlHIwat6D4Wh0C9urqC+u55b4+ZdiZlKzTf8APXAA2tgBcDAwBxxW7RQBzXiLwcPEGqQ3rapd2vlQ+V5MTfIfmzuxkc9s+lO0rwZZ6boWpaU8rzwakzNcNjazFkCE5HJO1QM+wro6KAOaXwf5kliL/Vbm7t7CZJ4ITFFHh0+6SyKCcegxnvXS0UUAFFFFABRRRQAUUUUAFFFFABVLS/8AUz/9fEn/AKEau1S0v/Uz/wDXxJ/6EaAI9T0Oz1aeCW8Vy1ukqJtbHEibG/Ssm48AaRcbY3kvFtvLhjmtVnIiuBFgJvHc4ABxjIHNdPRQBxWseDZ4Nb0/VNAUzMmsf2jdW1xclUyYZI2ZODgneCR3x2qwvhiay8RaMumW6LpljNc3cssk+XMk28lQuOmXznPtiutooAQqrdQD9RUN5ZW+oWE9ldxLJb3EbRSRnoykYI/Kp6KAMfRfDFnot1LdRzXV3dSxJAbi8mMjiJMlUB7AEk+pPJzWxRRQAUUUUAFFFFABRRRQAUUUUAFFFFABRRRQAUUUUAUNL/1l/wD9fbf+grV+qGl/6y//AOvtv/QVq/QAUUUUAFFFFAGTrXhyz1yS2nmkuLa7tSTBd2kpjljB4Zcjqp4ypyDgelZl94E0+bwxqOm25la5vHW4a8uJDJK88ZDRuzHkhWReOgHArqaKAM+fTU1S3sH1JNs1rKlyFjfhZQCOvccmq1tpU7eMLzWLsIqrbpZ2iqckpne7H0JYgY9EB71s0UAFFFFABRRRQAVn6p/x8aZ/1+D/ANFvWhWfqn/Hxpn/AF+D/wBFvQBoUUUUAFFFFABRRRQAUUUUAFFFFABRRRQAUUUUAFFFFABRRRQBV1X/AJA95/1wf/0E1PB/x7x/7o/lUGq/8ge8/wCuD/8AoJqeD/j3j/3R/KgClq5kEdqYVVn+0pgM2B371J5uo/8APtb/APf8/wDxNJqX/Lp/18p/WrtAFPzdR/59rf8A7/n/AOJo83Uf+fa3/wC/5/8AiauUUAU/N1H/AJ9rf/v+f/iaPN1H/n2t/wDv+f8A4mrlFAFPzdR/59rf/v8An/4mjzdR/wCfa3/7/n/4mrlFAFPzdR/59rf/AL/n/wCJo83Uf+fa3/7/AJ/+Jq5RQBT83Uf+fa3/AO/5/wDiaPN1H/n2t/8Av+f/AImrlFAFPzdR/wCfa3/7/n/4mqksl/8A2tbZt4N3lSYHnH1X/ZrXqnN/yGbX/rlJ/NaADzdR/wCfa3/7/n/4mjzdR/59rf8A7/n/AOJq5RQBT83Uf+fa3/7/AJ/+Jo83Uf8An2t/+/5/+Jq5RQBT83Uf+fa3/wC/5/8AiaPN1H/n2t/+/wCf/iauUUAU/N1H/n2t/wDv+f8A4mjzdR/59rf/AL/n/wCJq5migCn5uo/8+1v/AN/z/wDE0ebqP/Ptb/8Af8//ABNXM0Zx1oAp+bqP/Ptb/wDf8/8AxNHm6j/z7W//AH/P/wATVyjNAFPzdR/59rf/AL/n/wCJo83Uf+fa3/7/AJ/+Jq5QDnpQBT83Uf8An2t/+/5/+Jo83Uf+fa3/AO/5/wDiauUUAU/N1H/n2t/+/wCf/iaPN1H/AJ9rf/v+f/iauUUAU/N1H/n2t/8Av+f/AImjzdR/59rf/v8An/4mrlFAFPzdR/59rf8A7/n/AOJo83Uf+fa3/wC/5/8AiauUUAU/N1H/AJ9rf/v+f/iaPN1H/n2t/wDv+f8A4mrlFAFPzdR/59rf/v8An/4mqenSX4hm2W8BHnyZzMRzuP8As1sVS0v/AFM//XxJ/wChGgBfN1H/AJ9rf/v+f/iaPN1H/n2t/wDv+f8A4mrlFAFPzdR/59rf/v8An/4mjzdR/wCfa3/7/n/4mrlFAFPzdR/59rf/AL/n/wCJo83Uf+fa3/7/AJ/+Jq5RQBT83Uf+fa3/AO/5/wDiaPN1H/n2t/8Av+f/AImrlFAFPzdR/wCfa3/7/n/4mjzdR/59rf8A7/n/AOJq5RQBT83Uf+fa3/7/AJ/+Jo83Uf8An2t/+/5/+Jq5RQBT83Uf+fa3/wC/5/8AiaPN1H/n2t/+/wCf/iauUUAU/N1H/n2t/wDv+f8A4mjzdR/59rf/AL/n/wCJq5RQBT83Uf8An2t/+/5/+Jo83Uf+fa3/AO/5/wDiauUUAU/N1H/n2t/+/wCf/iaPN1H/AJ9rf/v+f/iauUUAU/N1H/n2t/8Av+f/AImjzdR/59rf/v8An/4mrlFAGLpsl+JL7ZbwH/SmzmYjB2r/ALNXvN1H/n2t/wDv+f8A4mmaX/rL/wD6+2/9BWr9AFPzdR/59rf/AL/n/wCJo83Uf+fa3/7/AJ/+Jq5RQBT83Uf+fa3/AO/5/wDiaPN1H/n2t/8Av+f/AImrlFAFPzdR/wCfa3/7/n/4mjzdR/59rf8A7/n/AOJq5RQBT83Uf+fa3/7/AJ/+Jo83Uf8An2t/+/5/+Jq5RQBT83Uf+fa3/wC/5/8AiaPN1H/n2t/+/wCf/iauUUAU/N1H/n2t/wDv+f8A4mjzdR/59rf/AL/n/wCJq5RQBT83Uf8An2t/+/5/+JqhqUl+Z9P328AP2obcTE5Ox/8AZrbrP1T/AI+NM/6/B/6LegCTzdR/59rf/v8An/4mjzdR/wCfa3/7/n/4mrlFAFPzdR/59rf/AL/n/wCJo83Uf+fa3/7/AJ/+Jq5RQBT83Uf+fa3/AO/5/wDiaPN1H/n2t/8Av+f/AImrlFAFPzdR/wCfa3/7/n/4mjzdR/59rf8A7/n/AOJq5RQBT83Uf+fa3/7/AJ/+Jo83Uf8An2t/+/5/+Jq5RQBT83Uf+fa3/wC/5/8AiaPN1H/n2t/+/wCf/iauUUAU/N1H/n2t/wDv+f8A4mjzdR/59rf/AL/n/wCJq5RQBT83Uf8An2t/+/5/+Jo83Uf+fa3/AO/5/wDiauUUAU/N1H/n2t/+/wCf/iaPN1H/AJ9rf/v+f/iauUUAZWpSX50m7328AXyHyRMTgbT/ALNaMH/HvHn+4P5VDqv/ACB7z/rg/wD6Cang/wCPeP8A3R/KgCrqX/Lp/wBfKf1q7VLUv+XT/r5T+tXaACiiigDlviBf3Wn6Lp8ljcSQPJq9lE7RtgsjTorL9CCQan8Z+LI/Cem2spSF5725W2gFxN5UQYqzFnfBIAVSeAT2q34m8OQeKNIWwubq6tAlxFcJNaMokR43DqRuVh1A6is9/BXn2axXviLWbu4huFubW7leES2zgFcptiCkEMQQwbINAGHa/E641IWFrpWlW9zqN1fzWDD7WRbhki83zFk2ZZCv+znqMcVftfGup6jHZ2mn6RbnV5nulmhmvCsMQt5PLchwhLZYjb8o684xWnb+DrWK80y8uNQ1C8utOuZblJbiYMZHkjMbbhtAChW4VQoBH1zk614TuLN7afQIr6SZZ7mZ57a8jhmTz3Dsg3oUZCfXkbRgk0Ac83j3xBrU1pNa28enWc+jarLLAZ8yRy28oiDZCdQRwAQPmP8AdGek8GeKNWvZNM0zXtPjglu9IW+gnjuTK0ir5at5gKja2ZFPBYcnniqnh/4Zx2vh3SbfU765ivbS3vIJfs0oZZEunLujF1JbB24YYOVz3xXUWfhuzstQ068iknMmn6e2nxBmGGjYxkluPvful5GByePQA16KKKACqc3/ACGbX/rlJ/NauVTm/wCQza/9cpP5rQA/Up0ttJu55Q5SKB3YRsVYgKScEdD7155Z2mp/2ffaskOpWmlz6DcEJe6zJeFpGCMjBWY7SFDcj1r0qWJJoXilUPG6lWVhkEHqK56fwF4baymis9GsLadoXjinW2UtCWUrlfTGe1AFB73U5/Bem6RocE7ahe6bEovSCsVorIAZWfuw5IUck46DkWI9T1ZvCepWd/Z3Ntq9lYyDzowWjnYIQskTjrkgHacMDxjubsfhaJbO1hfUdRQ29vHD/o928SnaoXO0HAzipI/DcUayBdT1bLrty187FeQcjJ4PHWgDzzw/JK39mPeahdmU+UZQ+r6kSW4zlSu3r2PH4V0PiuDVpdfuy6a29sLOP+y/7JmKKlxl95lwRk/6vG/KYz3zW/8A8Iuv/QZ1n/wNanz+E9Gu5BJe2YupdoVpJnZi2BjJ5wTxQBS8ONdf8JNrCX7Brhbay83afl3+W27H41h+JpbB/F8MdyZNJWOWOee/uLp088IRhIYw2CDgBmIAxnGScjq9H8O2uh6hezWCxw29ysSpbxptWPZuz+ZYmqHiLw3quq6tHd6dq8drEsHlNbzxzOpO4nePLmj55xznpQBgS6obqyvjp+qGKz1PxJFbPeW8o3RxNFECqt/AWZdmeCN+Rg4NSStLZzyaXHeXNzbWWv2SQvcTNK6BwjtGXYlmALfxEnBA7V0GjeF/suj3un62LG/jvJfMlWO3kVX4UfMJJJCT8o5yOg4qebwxZLYWdnpkUdjDbXsd5sjTh2Vtxz7n1oAzPGc+qWureHp9NkmihS5l+1Olu86hTCwXciEEjdjHvisXTJtbfWdFeaTM0l7qLE3UbxBody4IQ8jjoDXaeIdIbXNGeyjufsknnQzJN5Yfa0cqyD5cjIygH41BZaVq0eoxXGp6tbXqRBgEGniNhkY4bcSO31xQB5faa48fxMV7zxSqzi9MTQyLaDfbbiqP5wjAO4KBsHzjOM5Ga9D+Hc95P4H0830CxbYwImWbzDInZjwMH25+tNHhnWbLVr+50XV9NtoLuYSrDPpTStD8iqVDLMvGVzjHVjW7pNk2naTb2jmFmhTaTBEYk/BSzYHtk0AXKKKKACiiigAooooAKKKKACiiigAqlpf+pn/6+JP/AEI1dqlpf+pn/wCviT/0I0AYnirWm0XXNGnlnkislju5rpVPDpHCW5HfGM1zNv8AGJGsbueextWddMm1G3jtbwykCMAmKU7Bscgg8bhw3PHPd6r4fstZurWa/DuLdJUEYI2yLImxg3Geh7EVjf8ACv7aTSLvTLzWtYu7SeyewjjlnTEETAA7QEAZgAAGfcR+eQChdeOdWsrPUhqekwWVwmmfb7LZc+cGBO0JINowwYrkDI561l6lqt7oevXVhPqF/cw29to6Ai52s0kt06O5OD97A3DHIGOK63XPB1prVvchppUmm01tPU5BVVJDBsYzkEDvVVvBsOtgajrf2i11C4ishcwwyoUR7aUyrtO08Fic+ox0NAFDTfiBe6p4mudIh06ximR5447ee/MdypjzteSIp9x8ZBQvgEHFVPDviXWG8O+BtZ1qZXfWCLS7CPlWMkbPHJjAAbcgGAMDeRzXQR+B7Ya9b6ldapqV4tpcPc2tpcSI0cEjhgSrbd5GGbCliBnpwMVLbwQtk3hvS4Z7ifSdDme6ja5dS+8KyRR/KBwodjnGflGSeaAOxooooAKKKKACiiigAooooAKKKKACiiigAooooAKKKKAKGl/6y/8A+vtv/QVq/VDS/wDWX/8A19t/6CtX6ACiiigAooooA5LXBea34yg8Px6jdadYx2JvJ2s38uWcl9ioH6qowSduCcjmuevPEOp+Epdd8Pfbp9RaGKyOm3d02+aNruZoArt/FtYbgTyRwc12ut+G4dZuILuO8u9N1C2VkivLNlEgRsbkIYMrKSAcEHkA1k6j4AtZvDmpW0NxPcanePFcG/umDSyTQsHh3EAAKGUcAAYJ9aAE8SHWrDVfDa2mpLFpv26G3mj2lprklW+85P3eAcYyT39dGC6ltfH1zpzTPJBe2QvY0difLdGEbhfRSDGceu49zV270xNYg06S/WSCW1njuxGjDiQA/KTzkfMen51Wt9MuJfGt3rF1GI44bVbK0G4EupIkkfjoCdq4PPyE9xQBt0UUUAFFFFABWfqn/Hxpn/X4P/Rb1oVn6p/x8aZ/1+D/ANFvQBoUUUUAFFFFABRRRQAUUUUAFFFFABRRRQAUUUUAFFFFABRRRQBV1X/kD3n/AFwf/wBBNTwf8e8f+6P5VBqv/IHvP+uD/wDoJqeD/j3j/wB0fyoAq6l/y6f9fKf1q7WfrDSJFamGPzH+0phd23PXvS/a9R/6Bi/+BA/woAv0VQ+16j/0DF/8CB/hR9r1H/oGL/4ED/CgC/RVD7XqP/QMX/wIH+FH2vUf+gYv/gQP8KAL9FUPteo/9Axf/Agf4Ufa9R/6Bi/+BA/woAv0VQ+16j/0DF/8CB/hR9r1H/oGL/4ED/CgC/RVD7XqP/QMX/wIH+FH2vUf+gYv/gQP8KAL9U5v+Qza/wDXKT+a0z7XqP8A0DF/8CB/hVSW5v8A+1bYnTlDCOTC+eOeV9qANqiqH2vUf+gYv/gQP8KPteo/9Axf/Agf4UAX6Kofa9R/6Bi/+BA/wo+16j/0DF/8CB/hQBfoqh9r1H/oGL/4ED/Cj7XqP/QMX/wIH+FAF+iqH2vUf+gYv/gQP8KPteo/9Axf/Agf4UAX6Kofa9R/6Bi/+BA/wo+16j/0DF/8CB/hQBfoqh9r1H/oGL/4Ej/Cj7XqP/QMX/wJH+FAF+iqH2vUf+gYv/gSP8KPteo/9Axf/Akf4UAX6Kofa9R/6Bi/+BI/wo+16j/0DF/8CR/hQBfoqh9r1H/oGL/4Ej/Cj7XqP/QMX/wJH+FAF+iqH2vUf+gYv/gSP8KPteo/9Axf/Akf4UAX6Kofa9R/6Bi/+BI/wo+16j/0DF/8CR/hQBfoqh9r1H/oGL/4Ej/Cj7XqP/QMX/wJH+FAF+qWl/6mf/r4k/8AQjTfteo/9Axf/Akf4VU065vxFNs09WHnyE/6QBg7jx0oA2qKofa9R/6Bi/8AgSP8KPteo/8AQMX/AMCR/hQBfoqh9r1H/oGL/wCBI/wo+16j/wBAxf8AwJH+FAF+iqH2vUf+gYv/AIEj/Cj7XqP/AEDF/wDAkf4UAX6Kofa9R/6Bi/8AgSP8KPteo/8AQMX/AMCR/hQBfoqh9r1H/oGL/wCBI/wo+16j/wBAxf8AwJH+FAF+iqH2vUf+gYv/AIEj/Cj7XqP/AEDF/wDAkf4UAX6Kofa9R/6Bi/8AgSP8KPteo/8AQMX/AMCR/hQBfoqh9r1H/oGL/wCBI/wo+16j/wBAxf8AwJH+FAF+iqH2vUf+gYv/AIEj/Cj7XqP/AEDF/wDAkf4UAX6Kofa9R/6Bi/8AgSP8KPteo/8AQMX/AMCR/hQBfoqh9r1H/oGL/wCBI/wo+16j/wBAxf8AwJH+FABpf+sv/wDr7b/0Fav1hadc34kvdmnq2blif34GDtXjpV77XqP/AEDF/wDAkf4UAX6Kofa9R/6Bi/8AgSP8KPteo/8AQMX/AMCR/hQBfoqh9r1H/oGL/wCBI/wo+16j/wBAxf8AwJH+FAF+iqH2vUf+gYv/AIEj/Cj7XqP/AEDF/wDAkf4UAX6Kofa9R/6Bi/8AgSP8KPteo/8AQMX/AMCR/hQBfoqh9r1H/oGL/wCBI/wo+16j/wBAxf8AwJH+FAF+iqH2vUf+gYv/AIEj/Cj7XqP/AEDF/wDAkf4UAX6z9U/4+NM/6/B/6Lel+16j/wBAxf8AwJH+FUdRub8z6fv09VIugVHng7jsfjpxQBu0VQ+16j/0DF/8CR/hR9r1H/oGL/4Ej/CgC/RVD7XqP/QMX/wJH+FH2vUf+gYv/gSP8KAL9FUPteo/9Axf/Akf4Ufa9R/6Bi/+BI/woAv0VQ+16j/0DF/8CR/hR9r1H/oGL/4Ej/CgC/RVD7XqP/QMX/wJH+FH2vUf+gYv/gSP8KAL9FUPteo/9Axf/Akf4Ufa9R/6Bi/+BI/woAv0VQ+16j/0DF/8CR/hR9r1H/oGL/4Ej/CgC/RVD7XqP/QMX/wJH+FH2vUf+gYv/gSP8KAL9FUPteo/9Axf/Akf4Ufa9R/6Bi/+BI/woAl1X/kD3n/XB/8A0E1PB/x7x/7o/lWVqV1qB0q7D6cqqYXy32gHA2nnpWpB/wAe0eePkH8qAK2pf8un/Xyn9au1S1L/AJdP+vlP61doAKKKKACiuK+IOvajYvY6boN9DZX0yTXbPKV5jiTIT5uPnkaNfXG7FWP+E8juhoC6Lp0upPrllJeQ7JVRY1jEe4MT0P7wD6jFAHW0VyEHj06hcWkGjaLd3s1xayXLJ5iR+V5chidGJONwcEYHXHpzVOf4r6ViH7BbtcFrFb6ZZZ44DFGxYBcOfmfKN8o9OvSgDu6K4m9+JMMNve3en6Pd39hYWUN/cXMbogWCRC4YBjliFBOKg8T+O7oaTqreHLKeRLCSKGa/Vk2xSPsbAVuWwrrk9s98UAd7RRRQAVTm/wCQza/9cpP5rVyqc3/IZtf+uUn81oAuUVXv51tdNubiRnVIondmTG4AAnjPeuFiuNbmsb2/WbVRpMmh3EqtfPBnzSFMbL5fI+Xf1oA9Corjn1q+/wCER0/TNFjnuNcvNMiaKUofLgLIB50khG0AHJxyxxwKnTxDeN4Y1KG7t7iy1vT7B3lDxEozhDiSN8bXUkZHcdwOlAHVUV5ToHiuS7XTTd+KLdpJhEZE/tyzyWOMjYIs9f4c57V2fjzULzTfCwm025a1nkv7K381FBKrJdRRvjIIztYjpQB0dFeearf6jp19d2r3t7qKWup6d5a/IJGDt8yjAUEHHQ1J4i1S7tfHOiWa6xqVpaX6ubtFWIraFgBCGJQ7dzhl5JyeKAO/orz6/uNT3akLSbUTFH4iVLg2QLyJB9kjJAGDgbiOnrUH2nXftFr9ga8lU68i2o1VmiLQ/Y3LbsLnb5m7GR1AoA9IoryXxP4o1ux0E6hHe3Nx/aj6lafZIQi/ZRDHMUkRhhgV8kbiWP3jjsK7nwjNLNDqpmkeQrqUqruYnAwvH0oA6GiuDutW8vVNTXxJrGp6VLDO32SG0iJRocfIy4RvMYjkjnB4x67Fprt/Z+GLCTUrC8u9UuEIWCG3IZyOhcgbYsjBO4gAkj2oA6SiuT8H6vqaWcOneIyby8JkZdRtEMltMMklQ68KV5TDYzt4zXK6gniO+8TW+sWk101lbZEhcGGVuu0pb+aFcDvvAJyMA4oA9WorldcvpI/CaaqurXttKIdscccSI1xM3CrsZSQxbAwPWqGg3WpWvxHbTNVluLyf/hHrAzzIP3QmD3G9yOAu4jsOw9KAO5ooooAKKKKACiiigAqlpf8AqZ/+viT/ANCNXapaX/qZ/wDr4k/9CNAF2iuZ8U6vc6Zq+lRwzPHBNHdtOEClm2QlhjI6g1Qs/iBFJqVlpcFnLczPbW8sjS3EUcrLKoIZYyRvA/iK8DnHpQB2tFc14Q1vUtZm1wanbCJLPU5baBgwOUXGBgdx6+9Vz48ji8S22lXenPbrd3D20Ej3EfmMyhjuMQO4KQpwfpkDNAHW0Vx9h8QFuoNPurrRruzstSLpaTyOh3uqM+0qDlchGIPfHbIqOx+I9vJplpqWq6Zc6ZZ3ti97bSyuj70RN7AhTkHbyPUCgDtKK4IfFawjs7ua6sHjeHT5NQiiiuYpjLGmNynYx2P8w4Pr14NXz48Fv9rTU9GurS4hihmgg8xHa4Er+WgBBwG3cEE8Z60AddRXm91401q31XxHDc2z2MkEFhDZ28jI4Wa4lePeGH3hkqef7ppfEWt6tpniDUHvrrXbPQ9Pgtwbyzs4njJIYySOzqSwHy52A4wc0Aej0Vg2WqSjxndaZJP50FxZR31qTj5RnY4BHUZ2N9WPtW9QAUUUUAFFFFABRRRQAUUUUAFFFFAFDS/9Zf8A/X23/oK1fqhpf+sv/wDr7b/0Fav0AFFFFABRRRQAUVy+sXOpal4xg0DT9QfTLeOyN5c3EKK0r5fYiLuBAHDEnBPAHesG88Wap4Ym17RL25Oo3VtDaSabeSKqu5upTAiyBQFysgzkAZU9OMkA9GorkfEN74h07WvD0VrcW6aZJeRW91I43T3LMrcYxtRflyTySemK0oL+4g8cXOlzTGWC4s1vLcMBmIq2yRRjtyh57lvagDcooooAKKKKACs/VP8Aj40z/r8H/ot60Kz9U/4+NM/6/B/6LegDQooooAKKKKACiiigAooooAKKKKACiiigAooooAKKKKACiiigCrqv/IHvP+uD/wDoJqeD/j3j/wB0fyqDVf8AkD3n/XB//QTU8H/HvH/uj+VAFXUv+XT/AK+U/rV2qWpf8un/AF8p/WrtABRRRQBgv4Q0+68T3utapHHqElxBFBDFcQqy26JuJC57szEk/T0rl28A6hpXjDSG8OX0lpYQLqMu4xK6W/nvCwhCnGVyrkemK9GooA4GLwVqWn+JrMaHqU9lbW+lSQyXbRpL50rz+YxKn+IklgRwM9McVMfhhZWrQto169ky2CWEzyQpO0iKSVcFvuyZZvm9+nAruKKAOZuPBNrNpmu2Iuplj1iwSxckAmJViaMMCepw2eapX3w9+0R31tZaxPZWWovFLdwJErb5EVF3Bj93cI1DDvjjGa7OigAooooAKpzf8hm1/wCuUn81q5VOb/kM2v8A1yk/mtAFmaGO4t5IZ1DxyKUdT3BGCK5+fwNoo0ya2sbNYZGt3hhdndxFlSoIBPbNdHRQBzqeGtQSztIIPE+pWS29tHCYrWK2KEqoBYeZEzc4z1qSLw/qcayhvFurSl02qZIbT5DkcjEA54xzkc9K3qKAObHhfUx08Wal/wCAln/8YrWvNItdT0kafq6C/hwhfzgB5jIQwY7cAHcoPGOelXqKAOfn8I2EcMSaVDHZkXsF1K3LGTymzjJPpxWidD0xo71HsYXW/bddb13ecffPp29O1X6KAMiw0GK3GrR3QjuLfULvz/KZOFXyo02nPX/V5/Gq83hHT01HTbvS7W3spLO686QxRAGRPLddmR7sD/wGt+igDA1LwbpN7BqZgtY7a71G3lge5VclfMXDMBnAJ4zjGcc1c0XSW0mO9VphJ9pu3uAQMbQwAx+ladFAHHX/AIBn1JNTS68VasY9Ut/s10oithujww2j91kcO3I5rTXw/qiWcUEfivUlMZP7z7PalmGAADmLHGPTPPPat6igDmtE8Iz6JDFbR+IdQubJGdmtZ4bcpJvJZgSIg2CWJ4NRXfgHR7jxRpmpR6dYR29pBcRS2/2VcStIY9rdMfLsb/vquqooAzk8P6THd21zHYQpJaKVt9q4WHJJJVegJyeQM1DBorw+NL7XDMpS6sLe0EW3lTHJKxbPv5oH4Vr0UAFFFFABRRRQAUUUUAFUtL/1M/8A18Sf+hGrtUtL/wBTP/18Sf8AoRoAq634ei1u5tZpZ3iNtHOgCgHd5sew/lnNYN/8OU1CK2tZtVkayhigQxPArOpixhonPMRbaM4+owa7WigDn7Hw3daZe3sljrEkcF5qIvnhMCNjI+ePcecNgc9Rjg1i2XwzjsLuzli1SRorG9e9iQ2yeZKzb8iWT7z/AHzg8ds5ruqKAPPvDngnUY/DelLrl/PMdOjkltrBkQeVMyuo3OPvBVdgo7Z5zgUeGfh/PN4R0m08WXk119m0o2a2hRU8jzIwsmWH3iBlQfT1616DRQBxH/CuBNpV3Y32sSzLPYNYIY7aOLarYy7BR878Dk8dcAZNamreDrfVrqe4ku5oZJLWKBGjAzE0UnmJIM9w2ODxxXR0UAcJqngG7uLbWL6XVZNQ1S7FrLFuiWJEe1kMkaqB0DE4Oc9Sav6v4RufEC3ivrN7aadq0KLe2BRWIG3DKjHlNy/K2M+2DzXWUUAc9YaS/wDwmt1qbwGGC1so9PtAT99ciR2HtnYv1U10NFFABRRRQAUUUUAFFFFABRRRQAUUUUAUNL/1l/8A9fbf+grV+qGl/wCsv/8Ar7b/ANBWr9ABRRRQAUUUUAYmt+HX1LULXU9N1CXTNStVaNZ40V1kjbBMbo3DDIB7EEcHrWJqvgH7T4f1Qm8kvNbvJILn7bKoUs9u4khjCjhUBBGB/eY8k121FAGXe6aNbg0ya48y2e1uI7zy8AncFPyH/vr9Kq29hPcePLvVp4WihtbNbG3LH/W7mEkjj24RfqrVvUUAFFFFABRRRQAVn6p/x8aZ/wBfg/8ARb1oVn6p/wAfGmf9fg/9FvQBoUUUUAFFFFABRRRQAUUUUAFFFFABRRRQAUUUUAFFFFABRRRQBV1X/kD3n/XB/wD0E1PB/wAe8f8Auj+VQar/AMge8/64P/6Cang/494/90fyoApau7Rx2rJG0hFynyrjJ6+tSfbbj/oHXH/fSf8AxVJqX/Lp/wBfKf1q7QBT+23H/QOuP++k/wDiqPttx/0Drj/vpP8A4qrlFAFP7bcf9A64/wC+k/8AiqPttx/0Drj/AL6T/wCKq5RQBT+23H/QOuP++k/+Ko+23H/QOuP++k/+Kq5RQBT+23H/AEDrj/vpP/iqPttx/wBA64/76T/4qrlFAFP7bcf9A64/76T/AOKo+23H/QOuP++k/wDiquUUAU/ttx/0Drj/AL6T/wCKqpLdznVrY/YJwRHJxuTnlfeteqc3/IZtf+uUn81oAPttx/0Drj/vpP8A4qj7bcf9A64/76T/AOKq5RQBT+23H/QOuP8AvpP/AIqj7bcf9A64/wC+k/8AiquUUAU/ttx/0Drj/vpP/iqPttx/0Drj/vpP/iquUUAU/ttx/wBA64/76T/4qj7bcf8AQOuP++k/+Kq5RQBT+23H/QOuP++k/wDiqPttx/0Drj/vpP8A4qrlFAFP7bcf9A64/wC+k/8AiqPttx/0Drj/AL6T/wCKq5RQBT+23H/QOuP++k/+Ko+23H/QOuP++k/+Kq5RQBT+23H/AEDrj/vpP/iqPttx/wBA64/76T/4qrlFAFP7bcf9A64/76T/AOKo+23H/QOuP++k/wDiquUUAU/ttx/0Drj/AL6T/wCKo+23H/QOuP8AvpP/AIqrlFAFP7bcf9A64/76T/4qj7bcf9A64/76T/4qrlFAFP7bcf8AQOuP++k/+Ko+23H/AEDrj/vpP/iquUUAU/ttx/0Drj/vpP8A4qqenXc6wzYsJ2/fyHhk4+Y8da2KpaX/AKmf/r4k/wDQjQAv224/6B1x/wB9J/8AFUfbbj/oHXH/AH0n/wAVVyigCn9tuP8AoHXH/fSf/FUfbbj/AKB1x/30n/xVXKKAKf224/6B1x/30n/xVH224/6B1x/30n/xVXKKAKf224/6B1x/30n/AMVR9tuP+gdcf99J/wDFVcooAp/bbj/oHXH/AH0n/wAVR9tuP+gdcf8AfSf/ABVXKKAKf224/wCgdcf99J/8VR9tuP8AoHXH/fSf/FVcooAp/bbj/oHXH/fSf/FUfbbj/oHXH/fSf/FVcooAp/bbj/oHXH/fSf8AxVH224/6B1x/30n/AMVVyigCn9tuP+gdcf8AfSf/ABVH224/6B1x/wB9J/8AFVcooAp/bbj/AKB1x/30n/xVH224/wCgdcf99J/8VVyigCn9tuP+gdcf99J/8VR9tuP+gdcf99J/8VVyigDF027nWS+xYzNm6YnDJx8q8davfbbj/oHXH/fSf/FUzS/9Zf8A/X23/oK1foAp/bbj/oHXH/fSf/FUfbbj/oHXH/fSf/FVcooAp/bbj/oHXH/fSf8AxVH224/6B1x/30n/AMVVyigCn9tuP+gdcf8AfSf/ABVH224/6B1x/wB9J/8AFVcooAp/bbj/AKB1x/30n/xVH224/wCgdcf99J/8VVyigCn9tuP+gdcf99J/8VR9tuP+gdcf99J/8VVyigCn9tuP+gdcf99J/wDFUfbbj/oHXH/fSf8AxVXKKAKf224/6B1x/wB9J/8AFVQ1K7nafT82My4ugRlk5+R+OtbdZ+qf8fGmf9fg/wDRb0ASfbbj/oHXH/fSf/FUfbbj/oHXH/fSf/FVcooAp/bbj/oHXH/fSf8AxVH224/6B1x/30n/AMVVyigCn9tuP+gdcf8AfSf/ABVH224/6B1x/wB9J/8AFVcooAp/bbj/AKB1x/30n/xVH224/wCgdcf99J/8VVyigCn9tuP+gdcf99J/8VR9tuP+gdcf99J/8VVyigCn9tuP+gdcf99J/wDFUfbbj/oHXH/fSf8AxVXKKAKf224/6B1x/wB9J/8AFUfbbj/oHXH/AH0n/wAVVyigCn9tuP8AoHXH/fSf/FUfbbj/AKB1x/30n/xVXKKAKf224/6B1x/30n/xVH224/6B1x/30n/xVXKKAMrUrydtJuwbCdQYHBJZOPlP+1WjB/x7x/7g/lUOq/8AIHvP+uD/APoJqeD/AI94/wDdH8qAKupf8un/AF8p/WrtUtS/5dP+vlP61doAKKKKACuQurjXvEPiLU9P0TV49GtNKKRPMtss8s0zIHx8/wAqqFZe2Tk8jFdfXM6j4a1VNcudU8M61Dp0l6qLdw3Nn9ojkZRhXUB0KtjjqQcDigDPl8U6j4f1e1j8V3FtHBBol1e3zW6EqzxTQqrrnkZVz8vqcc4zVqx+IFrdLdrcaXqFrdW9sLtLRljlknjJ2jb5bsN2cAqSCMjPHNU7j4Zw3toLbUdXurtX0y5sZ5JRukkaeWOUyAk4XBjwFxjBHpzCfhrLNpGoWk+pWFvLdwJAsum6SlqAFcMd4DFn3YCsNwBBIwM5oAtH4lWUNtqBvtLv7e6sJraKW0HlyyN57FYipR2U5IIxnIxXWWFzJd2ENxPaS2ckihmt5ipeM+h2kjP0Jrh7D4YNa3k9wdQsofPn0+ZoLHTBbwp9kmaQBVDn7wbBJJweeelegUAFFFFABVOb/kM2v/XKT+a1cqnN/wAhm1/65SfzWgCW+mW2065nkkaJI4mdpEALKACcgHgkV5/Z6rrk0V9cxX+t3OmNolxcJPqNnBBtm+QxlDGin7pc816Hc28d3ay2843RTIY3GcZBGDXNT+BrRNHmtbK81PcLZ4YEm1OcxLlCqgpuwQPQg0AQz+IriHwfp9pppe78Q32nxm2iA3EOyAebITwqA5JJ64wMnAqeHxRJceFNRZ1ez1vT7KR7i2mTDRyKh+YdmQkZDDII/EVYttC1SDT7KCLW5LTyLWKFo4oI3XKqASCy56ipl0fVQkok8QTSl02jfaQ4XnrgKM8ZGD60AcRoOu63erpst1r98fPETSKbjTNpzgkYC7sew5/Gt/xG9/ea4lh4c1XUkvmePzljVPstrGCCzOzIcsV6KGySR0GTVtfCd4rBl1aEEHII0yDj9KxPGHg3xFrGtw3WlXluYvs9pHMZrhodzQXPnElFjbIYccMuD6jigDZttS1O31nxO8xtxZW88f2aS7uDGqnyIiV+7gLksc5PPaud8PeLb+TxVdJdBIrWVwtvPeai5guBkbjCDGOQeACRnqMjmt3RfC+s6fY6hbXerQym+uPtplEAcxTOxaRArZBjBC7e45zT4PB+owX99djxFI73zRtKr2URXKKFXAxxwKAGeJ31yz1KxGka3J519exRx2LW8RQRBgZmLFd2BGHOc9do71Q1jXdRsbXxKbaR5ZF1aG0t037WG+3hwqE8KS7ZyxA5Oa6210SztdXuNUCvLe3ChGmlcuUQfwIDwi55wMZPJzWW/haW6fW0ubry4NSvFnCpGkm5BBHGVYOpHVCfyoA4yy8Y6gL7w7Fqk8tsLfW5bG+iLGSQt9jmkCuVyrjLRkFSR0zyDXq9cVbeATpV54YGmXryWWjXTytFOEX5TbSxDbsUZYmRSSfQ12tABRRRQAUUUUAFFFFABRRRQAUUUUAFFFFABVLS/wDUz/8AXxJ/6Eau1S0v/Uz/APXxJ/6EaAMjxPrV1peqaZDBL5UNxHdNMRGGP7uIspGfQ/nVK08fQvd2dhHY32oSG3tpLm4iWNfL85QVYx79xHOTtBC/ga1te8O/25d2c32ryPs0dwm3y927zYymeoxjOff2rndT+GsupHTopNTtfIs4rdFlbTwbmExYyYZgwMe7HIIbFAG14S8QX+vTa0t/p7Wq2OoyWsL7kIkVcejE57nOOox3qrL43W6t7x9O06++zKtxHb6mUQwPLErbuN24DKkBioBI69M2tO8O6npV9fvZ6vCLW91L7cYns9zKrD95Hu39yBhscc8GqNn4K1GwtZNLttdEeiD7QYbUWn7xfN3Ha0m/DIpckAKDwMnjkAq/8LLtNP063N9bXN29vp8N3qVxB5YW2DpuyVLAscZbagJA/Cr+r+P7XSLlvM0y+msI2iWXUE8sRL5mNpUMwaQDcMlAQM+xrKuPhYjXBktrywzPaQW1093pSXD5iQIHiLNhCVAGCGHA/Fmr/Cv+0r7UpI9StY475kZZJtNWW4tgiqFjjk3gLH8mdoUdTyM0AaGq/EIW0GtCx0m8kbTZPsq3MgRYXuWZFSMfNuOTIvIGMZrTj1O70/xdYaPqE/2hb+waSKTaF/fQlRJ0/vCQH22ms7WvBlxN4W1u2sroSXl1fDU7bKbQsqMjoh5PBMYGffpVr7Fca1450nVprea2ttMsJGVZVKlpp9o2/wDAVQg+7CgDqKKKKACiiigAooooAKKKKACiiigAooooAKKKKAKGl/6y/wD+vtv/AEFav1Q0v/WX/wD19t/6CtX6ACiiigAooooA5fXL7V77xPB4e0O9j03/AEQ3l1emESuqb9ioit8uSQSSQcAdOaxZfGOqeG01vR9amj1DUrGG2ksrtYhH9p+0ymGIOg4BWQYOOCOcCuk1vw/d3mpwatompLp2pQRNAXlg86KWIkEo6blPUAgggjn1IrB1jwFc3Oiapdy3xv8AX7l7a4FwI/KQm2kEsUSJk7VzuHUnLkkmgDR17VNe0vVNAtrdYDZT3cVveXcjZklJVsqqAYHK5LZ9gO40bfULiLxnd6Vcy+bDNareWuVAMYB2SJx1GdrZPPzkdAKk1HTf7dh0qcu9r9muor3Y8eWOFPyEZGD834Y6VVt7Oe6+IFzqbxSRW9lYiyiZ1wJWdhI7L6qAsYz67h2oA6CiiigAooooAKz9U/4+NM/6/B/6LetCs/VP+PjTP+vwf+i3oA0K5zwDrF5r3gmy1LUnWS5meYOyqFB2zOo4Hsoro647wr4T8Q+GILawXxHZXOlwSyP5B0opIyu7PjzPOIBy3Xb+FAGxrniCXRpoki0PU9TEiklrJYiE9jvdefpmm3us3DeCb7VobWewuI7OaVIbpV3xsqsRkKWHUZ6mpdZ8K6F4hlil1zSbS/eJSsbTxBioPUDNQ6po0Fn4F1LStEskhj+wzxwW0C4GWRsAD3JoAwdB1PXI/GWj6fqOrtf219oUt7Ir28cZEqyQgEFQOMSkY9hV/wAWXF7ZSs1p4hubKWS2mlt7WO0ikVjEm5uWUn04z9Ky9BS8u/HWhXbaZfW1vaeHZraaS5tzGFlMsGF574jY/QV0Wo+E7XU9Xj1G4vtRSaHcIlhuiix7gA20DpkCgDM8G65cXmqalY6pJO94vkSYMD+WmbaIsA2NoO4sduc89KyfF3iF9M8RXUkmoXDWaRwxJBZahDE6SFiG3K3P8Sc9gDXWeH9Dk0W71VmlaWK7uEliaSVpHwIkT5mbknKn8MVleJvDmp6lrC3VuiXtn5QT7GdUnsPLcE5fdCp35BAw3THHWgCi+r3kvg24OkXd1JPFcxtcmO6iubmO33LvaMr8ucZwDz1xk4qna65ez2UYsr+8ktn1y0S1N2Qty8BdPNDLgNszuxuGcZzxiuh03QdYs/BuoWEl5Eb+4Ev2YyO062wYYRDI43SAHncwyc4xxXP23grWzqFjLe6fppS2uYp8x6iAQUYHOFs1J6dNwz0zQB6RRRRQAUUUUAFFFFABRRRQBV1X/kD3n/XB/wD0E1PB/wAe8f8Auj+VQar/AMge8/64P/6Cang/494/90fyoAq6l/y6f9fKf1q7WdrEvkxWriN5MXKfKgyT1p39qN/0Dr3/AL9r/wDFUAX6Kof2o3/QOvf+/a//ABVH9qN/0Dr3/v2v/wAVQBfoqh/ajf8AQOvf+/a//FUf2o3/AEDr3/v2v/xVAF+iqH9qN/0Dr3/v2v8A8VR/ajf9A69/79r/APFUAX6Kof2o3/QOvf8Av2v/AMVR/ajf9A69/wC/a/8AxVAF+iqH9qN/0Dr3/v2v/wAVR/ajf9A69/79r/8AFUAX6pzf8hm1/wCuUn81pn9qN/0Dr3/v2v8A8VVSXUmOq2zfYLwYjkGNgyeV96ANqiqH9qN/0Dr3/v2v/wAVR/ajf9A69/79r/8AFUAX6Kof2o3/AEDr3/v2v/xVH9qN/wBA69/79r/8VQBfoqh/ajf9A69/79r/APFUf2o3/QOvf+/a/wDxVAF+iqH9qN/0Dr3/AL9r/wDFUf2o3/QOvf8Av2v/AMVQBfoqh/ajf9A69/79r/8AFUf2o3/QOvf+/a//ABVAF+iqH9qN/wBA69/79r/8VR/ajf8AQOvf+/a//FUAX6Kof2o3/QOvf+/a/wDxVH9qN/0Dr3/v2v8A8VQBfoqh/ajf9A69/wC/a/8AxVH9qN/0Dr3/AL9r/wDFUAX6Kof2o3/QOvf+/a//ABVH9qN/0Dr3/v2v/wAVQBfoqh/ajf8AQOvf+/a//FUf2o3/AEDr3/v2v/xVAF+iqH9qN/0Dr3/v2v8A8VR/ajf9A69/79r/APFUAX6Kof2o3/QOvf8Av2v/AMVR/ajf9A69/wC/a/8AxVAF+qWl/wCpn/6+JP8A0I03+1G/6B17/wB+1/8AiqqadqTJDN/oF42Z5D8qDj5jx1oA2qKof2o3/QOvf+/a/wDxVH9qN/0Dr3/v2v8A8VQBfoqh/ajf9A69/wC/a/8AxVH9qN/0Dr3/AL9r/wDFUAX6Kof2o3/QOvf+/a//ABVH9qN/0Dr3/v2v/wAVQBfoqh/ajf8AQOvf+/a//FUf2o3/AEDr3/v2v/xVAF+iqH9qN/0Dr3/v2v8A8VR/ajf9A69/79r/APFUAX6Kof2o3/QOvf8Av2v/AMVR/ajf9A69/wC/a/8AxVAF+iqH9qN/0Dr3/v2v/wAVR/ajf9A69/79r/8AFUAX6Kof2o3/AEDr3/v2v/xVH9qN/wBA69/79r/8VQBfoqh/ajf9A69/79r/APFUf2o3/QOvf+/a/wDxVAF+iqH9qN/0Dr3/AL9r/wDFUf2o3/QOvf8Av2v/AMVQBfoqh/ajf9A69/79r/8AFUf2o3/QOvf+/a//ABVABpf+sv8A/r7b/wBBWr9YWnaiySXv+gXjbrlj8qDj5V4PPWr39qN/0Dr3/v2v/wAVQBfoqh/ajf8AQOvf+/a//FUf2o3/AEDr3/v2v/xVAF+iqH9qN/0Dr3/v2v8A8VR/ajf9A69/79r/APFUAX6Kof2o3/QOvf8Av2v/AMVR/ajf9A69/wC/a/8AxVAF+iqH9qN/0Dr3/v2v/wAVR/ajf9A69/79r/8AFUAX6Kof2o3/AEDr3/v2v/xVH9qN/wBA69/79r/8VQBfoqh/ajf9A69/79r/APFUf2o3/QOvf+/a/wDxVAF+s/VP+PjTP+vwf+i3pf7Ub/oHXv8A37X/AOKqjqOos8+nn7BdrtugfmQc/I/A560AbtFUP7Ub/oHXv/ftf/iqP7Ub/oHXv/ftf/iqAL9FUP7Ub/oHXv8A37X/AOKo/tRv+gde/wDftf8A4qgC/RVD+1G/6B17/wB+1/8AiqP7Ub/oHXv/AH7X/wCKoAv0VQ/tRv8AoHXv/ftf/iqP7Ub/AKB17/37X/4qgC/RVD+1G/6B17/37X/4qj+1G/6B17/37X/4qgC/RVD+1G/6B17/AN+1/wDiqP7Ub/oHXv8A37X/AOKoAv0VQ/tRv+gde/8Aftf/AIqj+1G/6B17/wB+1/8AiqAL9FUP7Ub/AKB17/37X/4qj+1G/wCgde/9+1/+KoAv0VQ/tRv+gde/9+1/+Ko/tRv+gde/9+1/+KoAl1X/AJA95/1wf/0E1PB/x7x/7o/lWVqWpM+lXa/2feLmFxlkXA+U+9akBzbR/wC4P5UAVtS/5dP+vlP61dqlqX/Lp/18p/WrtABRRRQAUUVzvj7Xrrwx4F1LWNP8n7RaohTz1JQZdVyQCOx9aAOiorz+38dTWHiq20/Uda0fV7Oa0uLm4uNPQobFYgDvk+dxtOcdjnFbQ8faOtpc3F0l7ZpBaPegXNq8ZlgX7zoD1xkcdRkcc0AdNRWRpPiax1i8ktIUube5jiWfybqExM0bEgOAeoyMe3fFa9ABRRRQAVTm/wCQza/9cpP5rVyqc3/IZtf+uUn81oAuUVDdzLb2U8zyCJY42cuVyFAGc471xEXiTWbhL14br7TY/wBjXF1HdjTZLbZKNvl4LkhshmP4UAd7RXJ3HilrLwhYrbyLeeIbzT0e0sx8zzSsgwzKOibjkscADNTweLY7vwxf3ERWLV7CzeW5sZhh4JFQnDL125HBHBHQ0AdLRXCaLrvifUIbCa4jnVLhY3fGlAKAwBPzeecDnrj8K6rxFPeW3hjU5tLz9ujtJWttqhj5gQlcAg55xxg0AaNFeZaFqniyXV7FdS1S4aBpU85DFjIzyD/oS4/76H1q74i8Uapp/ijyLDVIH0yFWN/KtoHFgxAMayPvAG7nJP3cqTgc0AegUVzvhHVL7Vf7ZfUoZLdodRMUcDurmNPJiYDKkg8sT171Vu9bupvEOpWJ1yy0ZLEpsSeNWeZWjVvM+Zh8mSV47qeaAOsorm9M8W2o8K2+q65cwQedLJFE6ZxclXZVMS8lt6ruAGTg9+tReHPFM9zO1l4ltzpWoXE8j2UE42+dATujAPQyBeGUHIIPbBoA6miua8da5eeG/D51W1urSCKGSNJftMRYEPIq5yGGMAk/hXNReKNYm+JVjpT3zG2+3CCRPs3lK/8AoVxIcBvmxvRTnJ6cHFAHpVFcdc+IdR0jxGlhqN9BeRC0ee5FrYyb4MkLFnazfeIft/Aa2fCN7NqPgrRb26kaWe4sIZZJGGCzMgJJ/E0AbFFFFABRRRQAUUUUAFFFFABVLS/9TP8A9fEn/oRq7VLS/wDUz/8AXxJ/6EaALtFYHiHXZ9J1TTbeMxrDdJctK7oWKeXFvBABHftUFt420+SS3tgt3dytFA009taMY4jKAU3dSuc574HU0AdNRWB4X8SSeIZtYSWzltv7P1CS1UuhAdVxzn19fqKisPHWj6hdJDCLpEkuZLRLiW3ZYmmQsGQMe/yn2NAHSUVzdr470e7uIUUXccVzv+y3MtsyRXJUFiEY9eFJHTIBIzTdN8faLqdtHcRfa4YZ7VruCS4t2jWeNRlipPXAPT+lAHTUV5tqPxE1fRp/DFzqNhEdP1O0nvdREakyWUIMWxuvOwSjf9CR0xXQ2/i+MeItUtLxk+yw3Npb2jxKSXaaPcMnPTPf0oA6iiudvvHOj6fcyW8puXnjvhYeXDAzs0xi80KAOuVI59ag0/4g6NqdxFBbreo0s72m+a1dFS4XO6Fiejjafb3oA6miuN8MfEG01XTtOOqpNaXF4rhZnt2jt5HTcWVHPGQFJ98HGcVbtfH+i3UJmX7XFA1tJdQTTW7ItzEgyzRk/e457EjnpQB09Fcwvi5bl9IvbSKZNNv7k2pNzA0bMWXdFIuf4TjHTncOmK6egAooooAKKKKACiiigAooooAoaX/rL/8A6+2/9BWr9UNL/wBZf/8AX23/AKCtX6ACiiigAooooAKK5SfWNY1jxTqWkeHZ7Ozj0lYluri6gaYtNIu8Iqhl4CFSTn+LGOKqweL9Sms009oLca7/AGv/AGU+3PlZCCVpgDzjycsFz14z3oA7WiuE8P8Aj25vfFut6LrFvHbiG7ni0udAdtwIgN6Nz98bgcdweOhq5oXi25vF8LtqSxKNfsC6GNSNtwqCQr16FN5H+570AdfRRRQAUUUUAFZ+qf8AHxpn/X4P/Rb1oVn6p/x8aZ/1+D/0W9AGhRQSACTwB1rhrDWvF3iHRJNf0QabDas8jWVhcRO0lxGjEKWkDAIX25GFOMjOaAO5orjF8bvqdjDeaOipF/YjatIJlyRkERpwf7yvk/7PvWPp/wASr+78C2d7c29tBri3lhBeW3JTy7iVAsqDOdrI5I9CCOxoA9Lorm/Het6poHhkXegW0F1fvdQQRQzkhZC8irjI6Zz17VRTx7DcTaVdRLs0+5sLu6uldD5sLQbNyEZ4KksCPUUAdlRWHqHi/SdMtY7i7lkWOTT5dSUiMn9xEqs5+uHXisyX4maFALjz4dTjNtCLqYNYyZS3IJ848fc4PPXjpQB19FcPB8RIIvEniC01GKU2OmzQCO6t7dmSOKSBH3yN0A3MenQdfWta68caPZ6hLbTG48uCdLee8WBjBDK+AqM/QEll9hkZxQB0VFcheeO4JtL1q50K3ubh9EMpuDJbssbmF8Sxqx4L4Bx+FdXbXEV3axXNu2+KZBIjeqkZB/KgCSiiigAooooAKKKKAKuq/wDIHvP+uD/+gmp4P+PeP/dH8qg1X/kD3n/XB/8A0E1PB/x7x/7o/lQBV1L/AJdP+vlP61dqlqX/AC6f9fKf1q7QAUUUUAFYXjXw8/irwdf6LFLHC10qAPIuVGHVjkfhit2igDE1LwnpV74b1LRrW0gsIdQt3gka1hVCNwIzwBnGa5XxR4d8Q3vhvU7zVri0nu7XRbm0tY7GFsyvIq7nIP8AuLhR6nk16LRQBzOiaFqI8Qf29r01s10tgtjDFaqwRU3b3Y7uckheOgA75rpqKKACiiigAqnN/wAhm1/65SfzWrlU5v8AkM2v/XKT+a0AT3VtHeWc1tNny5o2jfBwcEYP865yfwaItBmsrPU9Sl22jwQRT3X7v7hVQQAMjp1rqKKAOYttH8R2tnZR2GoaRbeTZwwOJ9NeZ8qoBG9ZkyM5wMVKNL8SyLcfbNR0OcywmIf8SiRcgno2ZzuXGeOOv59FRQBwEXw7mglSWGx8HRyRsGRl0BwVI6Efv66/UdHt9b0NtO1uKC6WWMCT9ypXfj7yq+4DB5Gc4960KKAPPLn4R6Jbvay6dZ287pdQtLHcWdsUaLePMHEQP3c962db0O+bUo3063EunCEq1nBeNZ4kzy5KD5sjAwTxj3rqqKAMPwrpV3pVjdrf7Q9xdNOiCUymNSqgK0hALn5Tye2B2rJ1Lwv4h1LVp7ubVNGkjeHyYoZ9MkkEI3MQ4/fff+bBI9BxXZUUAc1Z6X4qs9HtbT+2NJnmtlVBPNp8rF1CgZP777x5yc9+lR6NonibS5GWTVtJmglvJLmUDTpQ/wA7lmCnziB1IBIOPeupooAztT0Ky1i4t31JWnhtw+LZzmJ2YY3Mv8RAyBnj5jx0xya+Armz8a6dqFhMBYW1wGw8paSNBaTwjBbOfmlXHsK72igDM0vQrbR7OeO2aWae4O+e5uH3SzvjG5m+nYYA7AUeGdPm0nwppWn3e3z7Wzihk2HI3KgBwfqK06KACiiigAooooAKKKKACiiigAqlpf8AqZ/+viT/ANCNXapaX/qZ/wDr4k/9CNAGd4i8PS63eWU0U6RC2iuUIYE7vNiKD8s5rmb34dahPcWTW91ZQy29tbQrqEaNHc2/lgBgpXG9Wx0fpk9RxXolFAHNaVous6Pe6j9mnsXtb3VDefvEfesbj94vBxuyBg9OuRXNeFvDWsalpcFvqzQwaba61dXqR+WyzuRPKUU54xk7s9xgY716VRQBwcfg7V007S7DULy0l07Qg8lr5ETCaciJ44w+TgYVznGcnHTpWd4Z8IaxrHgrQo/EEsEC2ejNb28cUbLIHlhCZkB6FVyMDqeeOlem0UAcXoejXOqyeH9T1JFik03TbjTb21lT78jGNWI7FcxNg9wwNZtj8M7/AEmDUksNVjm3ajbXmnLcoSIY4RxC5HJAGVBHIGK9GooA4Sx8D6oNcTVdTvrR5jrf9qOkMbBQv2TyBGM9wec1di8Gzxxov2qL5del1U/KeVcudn1+br7V11FAHn9r4B1W503SdH1+/tJdL0tpJENrGyyzM0ckagknChVlbkZyQOlVNJ+Fs9hpy2cjaav2fTpbKG5ihbzJi6bA77iduFzkL1J69q9LooA5TWdMluG8MaLGGb7NcxXU0ir8qpbgHr2y5QAehPoa6uiigAooooAKKKKACiiigAooooAoaX/rL/8A6+2/9BWr9UNL/wBZf/8AX23/AKCtX6ACiiigAooooA5m80HVrLxJdax4ZmslbUURb23vVbazoNqSKV5B24Ug8EAdMc5Nz4cvdBj0zWXkOo3tvq7X2pGGPaHE0ZgcomSdqKVIGScIeprvKKAOLufAcl1oes2v24QXl1qkup2F3GmTaykDYcHrjBBHcEjvUNp4YuYNS8F6U8m+Pw3btcTzqpCyP5LQIo+u92/4D713VFABRRRQAUUUUAFZ+qf8fGmf9fg/9FvWhWfqn/Hxpn/X4P8A0W9AGh161xdv4Y8SaPp9xovh/VrOHS5Hc2088TPcWauSSq4O18EnaTjAwDnFdpRQBwp8KppGr/2bp+9LG+0AaVC7DcI3i3ldxHqsrH/gB9ag1r4ZHUtO8MfZr1La/wBG+xx3MwQ7buGF0cof+BJlfTJ9TXoNFAHMX/gixaMHSkFrM9/bXc7u7uHEUokIwScE89PWs2++G6T+NLvV7O9NtZ39hcQXNmFyPPlVVMy+hKqMjvgH1ruaKAPO5/AfiDU7EQarqWn/ALrQrnSIhbxOATIqL5rZP+wMqOnqc1sap4Pn1CDX40uo0Oq6IumISp/dsFlG4+370ce1dZRQB543gLXFGuWUOo2P9n64sEc+6JvNhVII4XK84JYIcZ6cHnpSXnwxM+tXskf9nvaX18l3JLcRM88YypeNQTsOdvDH7u7ocCvRKKAOKuNDvtB8B+IbG0K3V7ql3ePbbFOFa5kbZu9l3jJ9Aa6nR9PXSNDsdNRy62dtHAGP8QRQuf0q5RQAUUUUAFFFFABRRRQBV1X/AJA95/1wf/0E1PB/x7x/7o/lUGq/8ge8/wCuD/8AoJqeD/j3j/3R/KgClq8gijtXYMQLlOFUk9+wqT+04f8Anlc/+A7/AOFJqX/Lp/18p/WrtAFP+04f+eVz/wCA7/4Uf2nD/wA8rn/wHf8Awq5RQBT/ALTh/wCeVz/4Dv8A4Uf2nD/zyuf/AAHf/CrlFAFP+04f+eVz/wCA7/4Uf2nD/wA8rn/wHf8Awq5RQBT/ALTh/wCeVz/4Dv8A4Uf2nD/zyuf/AAHf/CrlFAFP+04f+eVz/wCA7/4Uf2nD/wA8rn/wHf8Awq5RQBT/ALTh/wCeVz/4Dv8A4VUl1GI6tbN5dxgRSD/UPnqvtWvVOb/kM2v/AFyk/mtAB/acP/PK5/8AAd/8KP7Th/55XP8A4Dv/AIVcooAp/wBpw/8APK5/8B3/AMKP7Th/55XP/gO/+FXKKAKf9pw/88rn/wAB3/wo/tOH/nlc/wDgO/8AhVyigCn/AGnD/wA8rn/wHf8Awo/tOH/nlc/+A7/4VcooAp/2nD/zyuf/AAHf/Cj+04f+eVz/AOA7/wCFXKKAKf8AacP/ADyuf/Ad/wDCj+04f+eVz/4Dv/hVyigCn/acP/PK5/8AAd/8KP7Th/55XP8A4Dv/AIVcooAp/wBpw/8APK5/8B3/AMKP7Th/55XP/gO/+FXKKAKf9pw/88rn/wAB3/wo/tOH/nlc/wDgO/8AhVyigCn/AGnD/wA8rn/wHf8Awo/tOH/nlc/+A7/4VcooAp/2nD/zyuf/AAHf/Cj+04f+eVz/AOA7/wCFXKKAKf8AacP/ADyuf/Ad/wDCj+04f+eVz/4Dv/hVyigCn/acP/PK5/8AAd/8Kp6dqMSwzZjuDmeQ8QOf4j7VsVS0v/Uz/wDXxJ/6EaAF/tOH/nlc/wDgO/8AhR/acP8Azyuf/Ad/8KuUUAU/7Th/55XP/gO/+FH9pw/88rn/AMB3/wAKuUUAU/7Th/55XP8A4Dv/AIUf2nD/AM8rn/wHf/CrlFAFP+04f+eVz/4Dv/hR/acP/PK5/wDAd/8ACrlFAFP+04f+eVz/AOA7/wCFH9pw/wDPK5/8B3/wq5RQBT/tOH/nlc/+A7/4Uf2nD/zyuf8AwHf/AAq5RQBT/tOH/nlc/wDgO/8AhR/acP8Azyuf/Ad/8KuUUAU/7Th/55XP/gO/+FH9pw/88rn/AMB3/wAKuUUAU/7Th/55XP8A4Dv/AIUf2nD/AM8rn/wHf/CrlFAFP+04f+eVz/4Dv/hR/acP/PK5/wDAd/8ACrlFAFP+04f+eVz/AOA7/wCFH9pw/wDPK5/8B3/wq5RQBi6bqMSyX2Y7g7rpiMQOf4V9qvf2nD/zyuf/AAHf/CmaX/rL/wD6+2/9BWr9AFP+04f+eVz/AOA7/wCFH9pw/wDPK5/8B3/wq5RQBT/tOH/nlc/+A7/4Uf2nD/zyuf8AwHf/AAq5RQBT/tOH/nlc/wDgO/8AhR/acP8Azyuf/Ad/8KuUUAU/7Th/55XP/gO/+FH9pw/88rn/AMB3/wAKuUUAU/7Th/55XP8A4Dv/AIUf2nD/AM8rn/wHf/CrlFAFP+04f+eVz/4Dv/hR/acP/PK5/wDAd/8ACrlFAFP+04f+eVz/AOA7/wCFUNS1CJ59PIjuBtugTmBx/A/tW3Wfqn/Hxpn/AF+D/wBFvQBJ/acP/PK5/wDAd/8ACj+04f8Anlc/+A7/AOFXKKAKf9pw/wDPK5/8B3/wo/tOH/nlc/8AgO/+FXKKAKf9pw/88rn/AMB3/wAKP7Th/wCeVz/4Dv8A4VcooAp/2nD/AM8rn/wHf/Cj+04f+eVz/wCA7/4VcooAp/2nD/zyuf8AwHf/AAo/tOH/AJ5XP/gO/wDhVyigCn/acP8Azyuf/Ad/8KP7Th/55XP/AIDv/hVyigCn/acP/PK5/wDAd/8ACj+04f8Anlc/+A7/AOFXKKAKf9pw/wDPK5/8B3/wo/tOH/nlc/8AgO/+FXKKAKf9pw/88rn/AMB3/wAKP7Th/wCeVz/4Dv8A4VcooAytS1GJ9Ju1EdwCYHHMDgfdPtWjBzbx/wC4P5VDqv8AyB7z/rg//oJqeD/j3j/3R/KgCrqX/Lp/18p/WrtUtS/5dP8Ar5T+tXaACiiigArkfGXiu70PVNL0yxk06yfUBKwv9VZhboU24j4Iy7buBkcKetddXOeJtN1u7uoZtJGnX9p5TR3Gl6kNsUhJBEgcIxDDBGCCCD2xQBmSeMNYs20ODVLCztp7+W7jmdJTJEVhgeRZYyOdrbBwRkAke9XYPHukRabp0moXYee5sobuZrO2lkiiSQDDsQpMaE5wXxwPY1ztp8N9UtxYMJrGERXl7cvaQs4hthPatCscOVyVDHccherYHap9E8HeJvDFssWkvpVw13ptlaXT3MjgW8kEQiLIAh8xSOQp2c/XgA6d/GeiJrX9lm4kMwmW3aUQOYVlYZWMy42BzkfLnPIHU1u15pF8NLmHXrktFZ3Vjc6qdSa4mvbhZELSCQoIFIQkN91t3AxkHHPpdABRRRQAVTm/5DNr/wBcpP5rVyqc3/IZtf8ArlJ/NaAJ7qXyLOaUyJF5cbN5kgyq4GckZGQPrXBWfjPVLma+jj1LTdRgj0i4vI7my0+aARyJs2Al5GDAhifwrvL21W9sLi0kJVJ4mjYr1AYY/rXMT+FNUg8OTWMHiK/uY47J4IrUw26rJ+7KqrN5e706EfWgCa78Ttp3gizvmK3GrXlpGbS1UZa5uGQEKFHOMnk9AMkkAZqe38Uw3vg+71WzKG6tLaR57aQENDMiktG69QQRj6cj1qvZaPrNtbadJbJpMVxBYxW7PcW7PKuFG5d6sOM56VKdJ1iRruS5j0OSW5g8l2Fq6mQf3XO4krgnigDC0bxP4p1FbCWbyUjuRG7geH7oABsEjeZcDr97GO9dprGof2Tod9qIiM32S3km8sHBfapOPxxXJweC7u2aMwafoMZiIKbVn+XHTHzV1l0uotpoW1Nr9sKgN5oYx5/i4HP0oA5xtX13TU069vtQ0m+t725hga2tbdkZfNYKCjmRt+3OTlRkAnjpVzxV4nfR4kttItzqOrSMriyhXewhDAyOwHQBN2M9WKgZJrC0zwVr2mPpUsMuiefYbvMmFs4a5yhX5iDxyc8ela2raL4gvVuFsX0i0M80UrzrFIJH2MrAMQechdv0NAEmteMLeDwnHrGhzW12k88Nuk8jkRQmSRU3yY5AXdkg4PGDjqM6LxRqm82k9zY3M1vqlrbPd2KERSpKeV2lm2sB1G49Qe+K100nV57a5jnn02yadwzvaWu/zeCG3h+Dxjn2rPuPCuoWyaeltftcwQ38ErWyW0MEaBXBZxtUHIAPGe/SgC34z1u70W308288dja3Fz5V3qMsJkS0TYzBiOgywVdzcDdz2qjo/iPUb46LvnjuILnUJ7f7VHAY1u4Vhd1kCnOMso5HBxkcGtzxTFfTeGL2PSrZbq7ZQEhZsb/mGedy84z/ABD61x2gaJqsfifT7m60fUrSKB3LOTCE+aNl+bF1IcfNnhSc4oAlj+JX2TVNWstSl0eNrS/lhiFzqsds/ljG3KMM/j3p134y19PBXhvW9OsFvpb2923kcMckiiHy5juzEjsBuWP5gp6+9X9W8Eo19prafd615TXmb3Gt3X+p8qT1k4+fy+nP4Zo17ww1taaYukaW2spFfFrqK/ujPJ5JjYEI8zHHziM4z6+tAEfh/wAX63rnii3tLnRmsbEW8ryyeVc4LgpsG6a3iA6twM59sct+IviXU9BNlFYXFvZx3O4m6nZUVSuPlLv8gzuGAeTg46Gn+EPDsWmvDHceGGtpIS8i388sLvksSF+RieA2B7CmfEbw9dawunvp2mtdSCUieSOOF3RApK8SkA/NjuMdaAJfD3iq/wBQ1qyt76F9l1pSXJ8uEhY2Mkgy5PK5VV9s1h/8Jrq66eZZ7u5i1j7R9l+wJpu+1FwThYvO7jJA37x64HStDwR4f1G1vL5datrj7NNbLEqXdrbIv3iSMxOxOc9CMVzv/CEa15RWXRZ21bcWE0SaeNN39jtZfN2f8BL++eaAPX4mZ4kZwAxUEgHIB+tOqGzt1tbOGBI441jQLsiXCj6D0qagAooooAKKKKACqWl/6mf/AK+JP/QjV2qWl/6mf/r4k/8AQjQBn6/r02kalp9tEsOy6S4Z5Jc/J5ce8HjtnrVeLxzpKNZ293O7XE0UDSy29rK0ETSgbAz7cJuzxuIPIzT/ABN4futZvbCa1khRbeK5RxIxBJkiKLjAPc8+1cxeeAtca505tPNjaz29vbRNqUF3NFLH5YAcNGBsnU4ON2MZoAtP8Qr2/wBRhsNHsVt5W119LeS+glCFEidy6/dyTsIwCcZGetbEPii9m+In/CPtpjW9n9ilnW6mOGmdHRTtUHhfn6nr24HPLatp174e8UaXPqRt/wCzpvFD3kU8TOzKJLaVSJF24XDYAIJzntXaT6LcS+PLPW1eL7NBp01qyEneXeSNgQMYxhD39KAM/wAWeNJdG8D3eu6Jpk+oPFHMyLJGYlTy9wZpN2CFyp6ctxjrmpdW1/VTqsOleH7a0lvfsJvpjdswQJu2qo285Y557Y6HpU3iDSdU8Q+ANV0mf7HBqF9azwJskYwru3BCWK56bSeODnGar6rouswa5Bq/h8WMtwbD7DPHdyvGoAbcrqVVs4Jb5SBkHqKAK2heM7rW9e0ZY4rddM1jSXv4htbzomQxhlY52kZkPQdq7KvO9D0qDQfHXhrQrWVrj+ytBuIZpNpHzM8BBPYbsMcV6JQAUUUUAFFFFABRRRQAUUUUAFFFFABRRRQAUUUUAUNL/wBZf/8AX23/AKCtX6oaX/rL/wD6+2/9BWr9ABRRRQBkeJ9fj8NaDJqDwtcSGSOCCBTgyyyOERc9sswyewyax4db8TaRq1hF4qt9Ley1GYW8cunmQNbzEEqrh/vKcEbhjnHHNa/inQB4k0F7ETm3mSWK4t5wufLlidZEOO43KMj0JrKGleJdc1DTz4lXS7S00+4FzssZnma4kUEJnei7FBO7HJyBzQBMvim9k0DUNXtdMe8jW5khsIITh5VQlS7sThQXV+ey46k4qlY+MNU1Xw74XfT7azXVdeshdnziwhgURqznA+Y8uoAz368VZ8HwSReFbvQpgUvLCae2feMAhmZ43B7go6nPrkdQapWHhTWtF8PeExYGxuNT0GxFnNHLM6QzK0aK+1whI+ZFIyvPtQBv+FdePiLQxdywC2uYp5rW5hDbgk0UjRuAe4ypIPoRWzXPeHPDB0rwxcabfzebNfzXNzdyQO0f7yd2dwjDDADfgHg8A8GtHRtFtNBsmtbBrlo2kMhNzdSTtkgD70jE44HGcUAYmieK9Q1nxhrujvppsIrC1gmtnuP9ZKZGlXcyg8LmMYHX164Gt4a1tfEGhRXoTypQ8kFxF/zzmjcxyL9AynHtiqdto89h451rxDcSwizutPtoFAJ3qYWmZiRjGMSDGCeh6VB8PtPubLw5PcXqmOXU9QutRER6xpNKzop9DtK5HqTQB1FFFFABWfqn/Hxpn/X4P/Rb1oVn6p/x8aZ/1+D/ANFvQBoV5pN8QfEOm6teWV3pEUgOoTQ2Tyx3amaMEldvl27q3ygnIY8DNelkAgg8g9a426+HNncXbzLeCJTIXSMafasI89gTGT0OMk5oAdN4rvdJ+F9vr+spHBfbIfPjmQoFZ5FUgg4I+97Vb1DxGun+PLDS7i8ghgvNOmliikYAyzLJGFC55J2s3AqDRfCUc2k6U2vQKZbWJi9mERYTMwKmQoowW2kj0GTxmlsvDM+leKrVrF5WsLfS57aKS4fzDCzSxsic8lQFOM54GM0AV/C/ibUdaXT57rWvD+LqJZHsYEb7Qm5c7MmU8jv8vY8U3S/FWpf2L4Yv723uLqG+08y3j2tq0jCUqhXhRwDl/wAquad4SvbLXZtUfVoGknMfmpFp6ICEzwDkkZBOTWLb+Hr2x0XwzHd+GY9WNrpv2a9hBg8xHAXZhpGAwPn6HvQB2Wma3BqskiQ217CUAJ+1Wrwg/TcBms/WtXv18RWeiaXLaWctxbyXLXV2hkG1GVdiIGXc3zZJ3cDsc03w9Y26XjzDwk2iSIuFmcwEvnqB5bsfzxTPFGh6trd1ZrbNphs7acTGO7iZzJ8jKVODjGWB/AUAS6HrV3Jqmp6Xq8tnPJp6RyG8tQUjZX3YVlJOxxtyRuPDKeM4qnY+N47jxRPBN5aaJMFi07Uc4juJ1z5qbs4I5Xae5V8ZxRo3h/WtM0y+spf7GlhuJJJY4hA4QbmB2MM8qFyPyqJPD/iQarfXM8uiz295bwQfY5IZDFGIy5yBnHO/n/dFADPFHi3UdLvdTFjcaXbRaVaLdPFf7t94CCdqEMNg+XG7D/McY9dTw9rN1qmv63DcBkhtjbGGJ1AaPfCrsD75NF94cvdRuo7iXU4ojEAY0Wwik8k4GdrOCevNM8OaRf6b4i1+4v5HuEuntzFcOEDS7YgrEhQAOeOgoAqa1rutWHiU2Vpd6dPAbea4e3W1fz7eNYzh2fzCvMmAMoMjOOhNQeFfGNxd6dql7rkc8a281vHHCluZJPntoXwFj3E5ZyR7EdKl163uLyafSPDaW+lPqamW41fdGS+OoRAdztxglgAAepPFP0mysNTtZItY06OyuriVZWNte/u7tkjEYkjKMDtCqBtIGMdD1pXRXLLsSaR4j1NL6aPxNptxZw3dxnTpEhLhYyAFjlK52PkE88fMBnIIrE1b4hX2nadeanP9httMme9tLGRiRIs8AcKzEnawdo2wAARx1zxe8PeGtNW5vZb15HEt+8mnk6jIwaEKmMfPyAwbrSXvhOxu7O+bTdVaZbuK8aws2kTyUnmVhI4IG48s3UkDc1F0HJLsavgvV7zWdPv5b9w7w38kKYUDCgLgfqa6OuY8CWE1hpd+J9hE2oSyxtG4YMpCjOR7g109MTTTsyrqv/IHvP8Arg//AKCang/494/90fyqDVf+QPef9cH/APQTU8H/AB7x/wC6P5UCKupf8un/AF8p/WrtUtS/5dP+vlP61doAKKKKACiiigAooooAKKKKACiiigAqnN/yGbX/AK5SfzWrlU5v+Qza/wDXKT+a0AXKKKKACiiigAooooAKKKKACiiigAooooAKKKKACiiigAooooAKKKKACiiigAooooAKpaX/AKmf/r4k/wDQjV2qWl/6mf8A6+JP/QjQBdooooAKKKKACiiigAooooAKKKKACiiigAooooAKKKKACiiigAooooAKKKKAKGl/6y//AOvtv/QVq/VDS/8AWX//AF9t/wCgrV+gAooooAKKKKACiiigAooooAKKKKACiiigArP1T/j40z/r8H/ot60Kz9U/4+NM/wCvwf8Aot6ANCuO0z4hWepR6Ukfk/bL69e1kthISYgvmfN05/1Y4/2q7GuU0/wXPY/2fC2syTWen3b3UMBt0B3Nv4LDnH7w/pQBUuPG9xp3g9dWuFsZJh9pYxS3PktIIpGACDBycAfjSWvjW+vfF0unxWmy3ineIRyRGOSTFuJOrHGCx4PAIx9ak0rwpetZafcm7fTry1+1xFTCku5JZ9+cHgH5VP41V0/wld6b46N0IDLZzXLSyTkj5ybYIzMB0y4PAGKAKcfxA1lrPXJHhsmNvZT3VmYig2iNGOW/et5gztBKgD863rPxVfarc2dvolvZ3fm6el5JPLO0a5LFCoAU9wawLTw9OdLu7TVtE1eSXybzT7ZormOSO3tpGZVMYeTgmMR9ckYxwOK6c+HLpr211DT9Sl0+RLBLRo3gSQlVO4Z7A89uKAE0/wAQzyeO77QtQktomi060uIoVb5mkdphJgnBYDy17fzrpK5LStI1Kw8b63f3Ia+8zTLSOC4kCR+bIj3JZRtHy43pzjv3rqbd5ZLaN7iIQysgLxhtwRscjPfHrQBJRRRQAUUUUAVJNKsZWkaS1jYysGc7eWI//WfzPrQ+lWMnm77WIiUguNvUirdFKyL9pPuyo+lWL+bvtYz5pBf5euOn0ofSrGTzd1rH+9xvOMZx0q3RRZB7SfdkcUEUG7yY1TccttGMnGP6VJRRTJbb3Kuq/wDIHvP+uD/+gmp4P+PeP/dH8qg1X/kD3n/XB/8A0E1PB/x7x/7o/lQIq6l/y6f9fKf1q7Wfq8fmx2qb3TNynzIcEdaf/Zp/5/rz/v4P8KALtFUv7NP/AD/Xn/fwf4Uf2af+f68/7+D/AAoAu0VS/s0/8/15/wB/B/hR/Zp/5/rz/v4P8KALtFUv7NP/AD/Xn/fwf4Uf2af+f68/7+D/AAoAu0VS/s0/8/15/wB/B/hR/Zp/5/rz/v4P8KALtFUv7NP/AD/Xn/fwf4Uf2af+f68/7+D/AAoAu1Tm/wCQza/9cpP5rSf2af8An+vP+/g/wqpLp5GrWy/bbrmOQ58wZHK+1AGxRVL+zT/z/Xn/AH8H+FH9mn/n+vP+/g/woAu0VS/s0/8AP9ef9/B/hR/Zp/5/rz/v4P8ACgC7RVL+zT/z/Xn/AH8H+FH9mn/n+vP+/g/woAu0VS/s0/8AP9ef9/B/hR/Zp/5/rz/v4P8ACgC7RVL+zT/z/Xn/AH8H+FH9mn/n+vP+/g/woAu0VS/s0/8AP9ef9/B/hR/Zp/5/rz/v4P8ACgC7RVL+zT/z/Xn/AH8H+FH9mn/n+vP+/g/woAu0VS/s0/8AP9ef9/B/hR/Zp/5/rz/v4P8ACgC7RVL+zT/z/Xn/AH8H+FH9mn/n+vP+/g/woAu0VS/s0/8AP9ef9/B/hR/Zp/5/rz/v4P8ACgC7RVL+zT/z/Xn/AH8H+FH9mn/n+vP+/g/woAu0VS/s0/8AP9ef9/B/hR/Zp/5/rz/v4P8ACgC7VLS/9TP/ANfEn/oRo/s0/wDP9ef9/B/hVPTtPLQzf6ZdLieQcSD+8fagDZoql/Zp/wCf68/7+D/Cj+zT/wA/15/38H+FAF2iqX9mn/n+vP8Av4P8KP7NP/P9ef8Afwf4UAXaKpf2af8An+vP+/g/wo/s0/8AP9ef9/B/hQBdoql/Zp/5/rz/AL+D/Cj+zT/z/Xn/AH8H+FAF2iqX9mn/AJ/rz/v4P8KP7NP/AD/Xn/fwf4UAXaKpf2af+f68/wC/g/wo/s0/8/15/wB/B/hQBdoql/Zp/wCf68/7+D/Cj+zT/wA/15/38H+FAF2iqX9mn/n+vP8Av4P8KP7NP/P9ef8Afwf4UAXaKpf2af8An+vP+/g/wo/s0/8AP9ef9/B/hQBdoql/Zp/5/rz/AL+D/Cj+zT/z/Xn/AH8H+FAF2iqX9mn/AJ/rz/v4P8KP7NP/AD/Xn/fwf4UAN0v/AFl//wBfbf8AoK1frE02wLSXv+mXS7bphxIOflXk8Ve/s0/8/wBef9/B/hQBdoql/Zp/5/rz/v4P8KP7NP8Az/Xn/fwf4UAXaKpf2af+f68/7+D/AAo/s0/8/wBef9/B/hQBdoql/Zp/5/rz/v4P8KP7NP8Az/Xn/fwf4UAXaKpf2af+f68/7+D/AAo/s0/8/wBef9/B/hQBdoql/Zp/5/rz/v4P8KP7NP8Az/Xn/fwf4UAXaKpf2af+f68/7+D/AAo/s0/8/wBef9/B/hQBdrP1T/j40z/r8H/ot6f/AGaf+f68/wC/g/wqhqVgVn08fbLpt10By44+R+RxQBuUVS/s0/8AP9ef9/B/hR/Zp/5/rz/v4P8ACgC7RVL+zT/z/Xn/AH8H+FH9mn/n+vP+/g/woAu0VS/s0/8AP9ef9/B/hR/Zp/5/rz/v4P8ACgC7RVL+zT/z/Xn/AH8H+FH9mn/n+vP+/g/woAu0VS/s0/8AP9ef9/B/hR/Zp/5/rz/v4P8ACgC7RVL+zT/z/Xn/AH8H+FH9mn/n+vP+/g/woAu0VS/s0/8AP9ef9/B/hR/Zp/5/rz/v4P8ACgC7RVL+zT/z/Xn/AH8H+FH9mn/n+vP+/g/woAu0VS/s0/8AP9ef9/B/hR/Zp/5/rz/v4P8ACgB+q/8AIHvP+uD/APoJqeD/AI94/wDdH8qy9S08rpV23227bEDnBkGD8p9q04OLeP8A3B/KgCtqX/Lp/wBfKf1q7VLUv+XT/r5T+tXaACiiigApks0cELyzyLFGgLO7sAqgdSSelPrmfiFDp1x4LuodYvHsbWSSIG5Ee9Ym8xSpcHgpuA3Z4xnNAGxpmt6VrUbyaPqVnqCRna7Ws6yhT6EqTir1eS3evXegXmrypHo13qkeiPcRanpasFWNZFH76HJH8W5Tk5CsKl1/WtW0C3v7TR/FM2q79NjuxczLC72rmdEVgUUDa4ZsAg/dOKAPVN6+Zs3DfjO3POPWlrz7QNLm034uXsV3rt9fSro1ucXLRjzcyzdQqDhe2PXnNeg0AFFFFABVOb/kM2v/AFyk/mtXKpzf8hm1/wCuUn81oAtSSJDE0krqkaAszMcBQOpJrIt/F/hy9W4On67p161tC1xKlrdJKyxr1bapJwMj8xWhqUk8Wk3clmu64WB2iGM5YKccd+a87DyzaVcanqs+q3GoNok9s0cmlmGOIuqu+WCDoUAyTQB6LHf20mmLqHnKlq0In81ztATG7cc9BjmpGuIUtjcPKiwBN5lLAKFxnOemMc5rz671HTLnw5peiav4o0nSbCXTYPtkEl0kdzMpQZT5iNiMvBIGSCcY61Laarpn/COapokHjHQ9Qs1sZIrWR72PzYVI2qJGBwVGVG7APTOTyQDpIfG3hW4lSKDxNo8skjBURL+IliegADck1p6hqNlpVi95qd3DaW0eN807hEXJwMk8dSBXk+iagdOSwin17S2S3EavjxXEVIXAPy+QMjjpn8a9R1O4uH0OS50e5tVZow6XEpLRqh5Ljb97C8gdDxzQBSg8a+G7u1luLDWrK9jheNJDaTLLsLuEXIUnGWOKluvFej2WofYru4lim8xYstbShNzEBRv27eSQOvU15q2lW8GgWdtbLqn9ki7tprG6vA8aB3uI3cttf5ldssN6cF8ZA6XPFViuieLZ528rUHvpxfBJo0Z7cKFUKhaQYGU3A7eCTQB6Vp2rWOrC4OnXCXC203kSMhyofarYB78MKuVxfwySIaTqz28V1EkmpswW6Ks3+piHDLww46/Udq7SgAooooAKKKKACiiigAooooAKKKKACiiigAooooAKpaX/AKmf/r4k/wDQjV2qWl/6mf8A6+JP/QjQBPPd21syLc3EULOGKiRwpYKMtjPXA5PpUkUsc0KSwuskbqGR0OQwPQg9xXHeOJGh1vRZYzh0hvmU4zgi3NcpceJdZsbzTr641O4/s2K1sTKli8H7kyBd3mwOoZw5PBjbjsMjkA9dV1fdsYNtOGwc4PpS1w3gIw2F14l+06q8jS69NEsVxIg2scEBQADk56c5wMVztl4q17T9WvZb2/udReZb42SW7wy2s7RB2SMIFWWJ1C7SDuBOeeRQB63SF1DhCw3EZAzyRXkGr+JNZ0XRRPpviWbVnv8Aw/d6hKzrEfskiIrJIm1RhSzFdrZ6D0NXNRt9Q0bxLZ39x4gvr29Tw/fXCpJ5SrI4MZ2hQgOAWzjOflXnrkA9Mi1GymnEEN3BJK2/CLICx2EK/H+ySAfQkVYrgJEh0nwv4Fk0872W7tIkYcmVZYysjE98hi5PqM139ABRRRQAUUUUAFFFFABRRRQAUUUUAFFFFABRRRQBQ0v/AFl//wBfbf8AoK1fqhpf+sv/APr7b/0Fav0AFFFFAEV1d29jbPcXs8VvBGMvLK4RVHqSeBUGm6vpus2xuNH1C1v4A20yWsyyqD6ZUkZrmvGn2RfEfhmTXPLGkJcy+aZ/9UJymIS+eOu7Gf4ivfFcz4w1D+yvEes6n4PKb7PwzeSag1rgxrKNhty2ON4xIRnnbntQB6dFqdjPcJBBe28k0iM6RrKpZlVtrMBnJAPBPY0f2jZed5X2y38zzvI2eau7zNu7ZjP3tvzY645rzPVPDbXXifRDoEgj1HSdAFxpsm4hXYSICjequpKnPrnqKztG1wa1qC6rb2s0MjeLZC1rMuJIpF0wBo2HqGBFAHs1Mmmjt4HmuJEiijUs7uwVVA5JJPQV5ba+JNYtNJ0TWrPXZdcvtXglkm0grFsVlgeTEYVQy7HVYzknO7nmqF7rV3Npoi/4SqTV49U8MXt5c2zCLCSCNMFdigqvzMMEnp65oA9bOpWItILo3tuLe5ZFgmMq7JS5AQKc4JYkYx1zxUlvdQXcbSWs0cyK7Rs0bBgGUlWXjuCCCOxFeJagtx4X03wn4fkjZ9Jv9Y0q60yYZPkt58bS259AM7l9iR/DXpuhv5fjrxNax8RYtbggdBI6MrfpGh/GgDpaKKKACs/VP+PjTP8Ar8H/AKLetCs/VP8Aj40z/r8H/ot6ANCiiigAooooAKKKKACiiigAooooAKKKKACiiigAooooAKKKKAKuq/8AIHvP+uD/APoJqeD/AI94/wDdH8qg1X/kD3n/AFwf/wBBNTwf8e8f+6P5UAVdS/5dP+vlP61dqlqX/Lp/18p/WrtABRRRQAU2SNJomjmRZI3BVkYZDA9QR3p1FAFHTtD0nR45Y9J0yzsUmOZFtoFjDn32gZplr4e0aytJbWz0ixt7eZg0sMVsipIc5yQBgn61o0UAV30+zl1CK+ktIHu4VKR3DRgyIp6gN1APpViiigAooooAKpzf8hm1/wCuUn81q5VOb/kM2v8A1yk/mtAFyo7iCO6tpbe4QPFKhR1P8SkYI/KpKKAIYbSC3t4oIYlWOJAiLj7qgYA/KntDEylWiQg9QVHNPooAg+w2n/PrD/37FS7F8vZtGzGNuOMemKdRQBiweENDt5oXissLA4eKIyu0UbA5BWMnaMHpgcdqn1Dw9p2qXi3V3FL56x+WJIriSI7c5wdjDIz61p0UAVNO0y20uJ47TztrtuPmzvKc/ViSKt0UUAFFFFABRRRQAUUUUAFFFFABRRRQAUUUUAFFFFABVLS/9TP/ANfEn/oRq7VLS/8AUz/9fEn/AKEaALE1pb3LK1xbxSsgYKZEDFQwwcZ9RwaqSeH9HmvLa7l0qye5tFC28zW6F4QOgU4yoHtWhRQBROiaU12902mWZuHkSZpjAu9nThWJxncMnB6ii30TSrXU5tRtdMs4b6f/AFtzHAqySfVgMmr1FAGdB4e0a1ju0ttIsYUvc/aljtkUT567wB83U9fWp7jTLC7lglurK3mkt8+S8kSsYsjB2kjjI447VaooAwLDwpDY/wBlxfapJbTSTKbSB1+5u4QE9wiFkHseeRW/RRQAUUUUAFFFFABRRRQAUUUUAFFFFABRRRQAUUUUAUNL/wBZf/8AX23/AKCtX6oaX/rL/wD6+2/9BWr9ABRRRQBFc2sF7ayW15BHcQSDa8UqBlcehB4NV7TRdMsNOewsNOtbWzcENbwQqiMCMHKgY5q7RQBn6Ro8Gk2NtAuJpLaHyI53QeZ5QPypnrgAD64zU66ZYpKZUsrdZDMbguIlBMpXaXzj723jPXHFWaKAKEOhaXbXVzdWen21rdXQImuYIVSWTPcsBknvWDofgC00rVJb69uhqLtA9uBJaQxhlcqXaTYo8x22qCx7Dpya62igCvNp9ncRQR3FpBLHbuskKPEGETL91lBHBHYjpVbStJXTZb6d5muLm+uGnllZccdEQD0VAq++Ce9aNFABRRRQAVn6p/x8aZ/1+D/0W9aFZ+qf8fGmf9fg/wDRb0AaFFFFABRRRQAUUUUAFFFFABRRRQAUUUUAFFFFABRRRQAUUUUAVdV/5A95/wBcH/8AQTU8H/HvH/uj+VQar/yB7z/rg/8A6Cang/494/8AdH8qAIb20N3HGqzNCySBwygE5H1qL7Fef9BWf/v1H/8AE0UUAH2K8/6Cs/8A36j/APiaPsV5/wBBWf8A79R//E0UUAH2K8/6Cs//AH6j/wDiaPsV5/0FZ/8Av1H/APE0UUAH2K8/6Cs//fqP/wCJo+xXn/QVn/79R/8AxNFFAB9ivP8AoKz/APfqP/4mj7Fef9BWf/v1H/8AE0UUAH2K8/6Cs/8A36j/APiaPsV5/wBBWf8A79R//E0UUAH2K8/6Cs//AH6j/wDiajbTLlp0mOqT70UqD5UfQ4z/AA+1FFAEn2K8/wCgrP8A9+o//iaPsV5/0FZ/+/Uf/wATRRQAfYrz/oKz/wDfqP8A+Jo+xXn/AEFZ/wDv1H/8TRRQAfYrz/oKz/8AfqP/AOJo+xXn/QVn/wC/Uf8A8TRRQAfYrz/oKz/9+o//AImj7Fef9BWf/v1H/wDE0UUAH2K8/wCgrP8A9+o//iaPsV5/0FZ/+/Uf/wATRRQAfYrz/oKz/wDfqP8A+Jo+xXn/AEFZ/wDv1H/8TRRQAfYrz/oKz/8AfqP/AOJo+xXn/QVn/wC/Uf8A8TRRQAfYrz/oKz/9+o//AImj7Fef9BWf/v1H/wDE0UUAH2K8/wCgrP8A9+o//iaPsV5/0FZ/+/Uf/wATRRQAfYrz/oKz/wDfqP8A+Jo+xXn/AEFZ/wDv1H/8TRRQAfYrz/oKz/8AfqP/AOJo+xXn/QVn/wC/Uf8A8TRRQAfYrz/oKz/9+o//AImj7Fef9BWf/v1H/wDE0UUAH2K8/wCgrP8A9+o//iajh0u5gVhHqk4DMXP7uPqTk/w0UUASfYrz/oKz/wDfqP8A+Jo+xXn/AEFZ/wDv1H/8TRRQAfYrz/oKz/8AfqP/AOJo+xXn/QVn/wC/Uf8A8TRRQAfYrz/oKz/9+o//AImj7Fef9BWf/v1H/wDE0UUAH2K8/wCgrP8A9+o//iaPsV5/0FZ/+/Uf/wATRRQAfYrz/oKz/wDfqP8A+Jo+xXn/AEFZ/wDv1H/8TRRQAfYrz/oKz/8AfqP/AOJo+xXn/QVn/wC/Uf8A8TRRQAfYrz/oKz/9+o//AImj7Fef9BWf/v1H/wDE0UUAH2K8/wCgrP8A9+o//iaPsV5/0FZ/+/Uf/wATRRQAfYrz/oKz/wDfqP8A+Jo+xXn/AEFZ/wDv1H/8TRRQAfYrz/oKz/8AfqP/AOJo+xXn/QVn/wC/Uf8A8TRRQAfYrz/oKz/9+o//AImj7Fef9BWf/v1H/wDE0UUARQ6VcQGQx6pOPNcu37uPkkAf3fapfsV5/wBBWf8A79R//E0UUAH2K8/6Cs//AH6j/wDiaPsV5/0FZ/8Av1H/APE0UUAH2K8/6Cs//fqP/wCJo+xXn/QVn/79R/8AxNFFAB9ivP8AoKz/APfqP/4mj7Fef9BWf/v1H/8AE0UUAH2K8/6Cs/8A36j/APiaPsV5/wBBWf8A79R//E0UUAH2K8/6Cs//AH6j/wDiaPsV5/0FZ/8Av1H/APE0UUAH2K8/6Cs//fqP/wCJo+xXn/QVn/79R/8AxNFFAB9ivP8AoKz/APfqP/4moptKuJ2iaTU5yYX8xP3cfBwR/d9CaKKAJfsV5/0FZ/8Av1H/APE0fYrz/oKz/wDfqP8A+JoooAPsV5/0FZ/+/Uf/AMTR9ivP+grP/wB+o/8A4miigA+xXn/QVn/79R//ABNH2K8/6Cs//fqP/wCJoooAPsV5/wBBWf8A79R//E0fYrz/AKCs/wD36j/+JoooAPsV5/0FZ/8Av1H/APE0fYrz/oKz/wDfqP8A+JoooAPsV5/0FZ/+/Uf/AMTR9ivP+grP/wB+o/8A4miigA+xXn/QVn/79R//ABNH2K8/6Cs//fqP/wCJoooAPsV5/wBBWf8A79R//E0fYrz/AKCs/wD36j/+JoooAPsV5/0FZ/8Av1H/APE0fYrz/oKz/wDfqP8A+JoooAZNptzPBJFJqk5SRSrDyo+QRj+7V+NdkarnO0AZ9aKKAP/Z)"
      ],
      "metadata": {
        "id": "yrOCyx6EinhK"
      }
    },
    {
      "cell_type": "markdown",
      "source": [
        "### 진수 바꾸기"
      ],
      "metadata": {
        "id": "DsI5wejmdg1R"
      }
    },
    {
      "cell_type": "markdown",
      "source": [
        "x진수 -> 10진수"
      ],
      "metadata": {
        "id": "1cmHgMTRdjVE"
      }
    },
    {
      "cell_type": "code",
      "source": [
        "# int('string', x) x진수인 string을 10진수로 나타냄\n",
        "\n",
        "print(f\"{int('11',2)}: 2진수 11을 10진수 3으로 \")"
      ],
      "metadata": {
        "colab": {
          "base_uri": "https://localhost:8080/"
        },
        "id": "qqK6xJ8AdgVr",
        "outputId": "f6791fb6-32c0-4e05-c05b-23d43d27bc75"
      },
      "execution_count": 122,
      "outputs": [
        {
          "output_type": "stream",
          "name": "stdout",
          "text": [
            "3: 2진수 11을 10진수 3으로 \n"
          ]
        }
      ]
    },
    {
      "cell_type": "markdown",
      "source": [
        "10진수 -> x진수"
      ],
      "metadata": {
        "id": "O8el6ya_e-2i"
      }
    },
    {
      "cell_type": "code",
      "source": [
        "# 2 : bin() /  8 : oct() / 16 : hex()\n",
        "print(bin(10)) # Ob 는 2진수를 나타냄\n",
        "print(oct(10)) # 0o 는 8진수를 나타냄\n",
        "print(hex(10)) # 0x 는 16진수를 낙타냄"
      ],
      "metadata": {
        "colab": {
          "base_uri": "https://localhost:8080/"
        },
        "id": "BnwabJjTfAh0",
        "outputId": "989f8164-441a-46a3-f7f9-a30870ddf0b3"
      },
      "execution_count": null,
      "outputs": [
        {
          "output_type": "stream",
          "name": "stdout",
          "text": [
            "0b1010\n",
            "0o12\n",
            "0xa\n"
          ]
        }
      ]
    },
    {
      "cell_type": "code",
      "source": [
        "# 1~x 소수의 개수 구하기\n",
        "def prime(x):\n",
        "    if x <=1:\n",
        "        return 0\n",
        "    else:\n",
        "        answer=0\n",
        "        for i in range(2,x+1):\n",
        "            count=0\n",
        "            for j in range(2,i):      \n",
        "                if i%j==0:\n",
        "                    count +=1\n",
        "            if count==0:\n",
        "                answer += 1\n",
        "        return answer\n",
        "\n",
        "prime(3)"
      ],
      "metadata": {
        "colab": {
          "base_uri": "https://localhost:8080/"
        },
        "id": "HrQ7tzhtr2OY",
        "outputId": "64287372-74da-41d9-f3e6-12383f661612"
      },
      "execution_count": null,
      "outputs": [
        {
          "output_type": "execute_result",
          "data": {
            "text/plain": [
              "2"
            ]
          },
          "metadata": {},
          "execution_count": 110
        }
      ]
    }
  ]
}