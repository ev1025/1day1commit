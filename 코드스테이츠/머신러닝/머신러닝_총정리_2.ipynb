{
  "nbformat": 4,
  "nbformat_minor": 0,
  "metadata": {
    "colab": {
      "provenance": [],
      "authorship_tag": "ABX9TyP6vXf6ofdXumCTWb93KaYW",
      "include_colab_link": true
    },
    "kernelspec": {
      "name": "python3",
      "display_name": "Python 3"
    },
    "language_info": {
      "name": "python"
    }
  },
  "cells": [
    {
      "cell_type": "markdown",
      "metadata": {
        "id": "view-in-github",
        "colab_type": "text"
      },
      "source": [
        "<a href=\"https://colab.research.google.com/github/ev1025/1day1commit/blob/main/%EC%BD%94%EB%93%9C%EC%8A%A4%ED%85%8C%EC%9D%B4%EC%B8%A0/%EB%A8%B8%EC%8B%A0%EB%9F%AC%EB%8B%9D/%EB%A8%B8%EC%8B%A0%EB%9F%AC%EB%8B%9D_%EC%B4%9D%EC%A0%95%EB%A6%AC_2.ipynb\" target=\"_parent\"><img src=\"https://colab.research.google.com/assets/colab-badge.svg\" alt=\"Open In Colab\"/></a>"
      ]
    },
    {
      "cell_type": "markdown",
      "source": [
        "## 하이퍼파라미터   \n",
        "!pip3 install hyperopt\n"
      ],
      "metadata": {
        "id": "gxkc8B26OMcn"
      }
    },
    {
      "cell_type": "markdown",
      "source": [
        "\n",
        "### Exhaustive Gride Search\n",
        "- 범위로 설정한 모든 값으로 탐색진행\n",
        "- 하이퍼파라미터 값 3 x 3 x n(cv값) 회 진행\n",
        "- 튜닝할 하이퍼 파라미터의 수가 많을때는 사용하기 효율적이지 않다.\n"
      ],
      "metadata": {
        "id": "sVTKESaZTq44"
      }
    },
    {
      "cell_type": "code",
      "source": [
        "params = {\n",
        "    \"xgbclassifier__max_depth\" : [2,4,6]                 # \"모델__하이퍼파라미터\" : 탐색할 값 목록\n",
        "    \"xgblcassifier__colsample_bytree\" : [0.2, 0.4, 0.8],\n",
        "}"
      ],
      "metadata": {
        "id": "tFlCh20xSmqN"
      },
      "execution_count": null,
      "outputs": []
    },
    {
      "cell_type": "code",
      "source": [
        "from sklearn.mdoel_selection import GriedSearchCV\n",
        "\n",
        "gird = GridSearchCV(모델,\n",
        "                    param_grid = params,  # 미리 지정해둔 파라미터 범위리스트\n",
        "                    scoring = 'roc_auc',  # 사용할 점수\n",
        "                    cv = n,               # 검증할 횟수\n",
        "                    verbose = n           # 검증결과 얼마나 상세하게 볼지(0~3, 3이 제일 상세하게)\n",
        ")\n",
        "grid.fit(X_train, y_train)\n",
        "\n",
        "grid.best_params_    # 최적의 하이퍼파라미터\n",
        "grid.best_score_     # 최적의 검증 점수\n",
        "gird.cv_results_      # 검증 결과 목록"
      ],
      "metadata": {
        "id": "75dqY1MBRmXj"
      },
      "execution_count": null,
      "outputs": []
    },
    {
      "cell_type": "markdown",
      "source": [
        "### Randomized Search\n",
        "- 범위로 설정한 값에서 무작위로 추출(횟수는  n_iter x cv의 수만큼만 진행)\n",
        "- 범위가 넓고 빠르지만 모든 조합에 대해 검증하지 않아 가장 이상적인 조합을 발견하지 못할 수 있다.\n",
        "- scipy.stats로 범위를 분포로 지정도 가능\n"
      ],
      "metadata": {
        "id": "Am-7WWQgTDRA"
      }
    },
    {
      "cell_type": "code",
      "source": [
        "from scipy.stats.distributions import uniform\n",
        "from sklearn.impute import SimpleImputer\n",
        "\n",
        "params = {\n",
        "    \"simpleimpouter__strategy\" : ['median', 'mean']                 # 인코딩, 결측치처리도 가능 \n",
        "    \"xgbclassifier__colsample_bytree\" : uniform(loc=0.5, scale=0.5) # 0.5 ~ 1 사이에서 랜덤추출\n",
        "}"
      ],
      "metadata": {
        "id": "2G4tvmAwUX5M"
      },
      "execution_count": null,
      "outputs": []
    },
    {
      "cell_type": "code",
      "source": [
        "from sklearn.model_selection import RandomizedSearchCV\n",
        "\n",
        "randomized = RandomizedSearchCV(\n",
        "    모델,\n",
        "    param_distributioon=params,  # 조정할 하이퍼파라미터\n",
        "    scoring='roc_auc',         \n",
        "    n_iter = n,                  # 돌릴 횟수\n",
        "    cv = n,                      # 검증할 횟수\n",
        "    verbose=n,\n",
        "    random_state=n,\n",
        ")\n",
        "randomized.fit(X_train, y_train)\n",
        "\n",
        "randomized.best_params_   # 최적의 하이퍼파라미터(찾은 값)\n",
        "randomized.best_score_    # 최적의 검증점수\n",
        "\n",
        "randomized.cv_results_    # 하이퍼파라미터 탐색 리스트"
      ],
      "metadata": {
        "id": "4F40aj3DVb3f"
      },
      "execution_count": null,
      "outputs": []
    },
    {
      "cell_type": "markdown",
      "source": [
        "### Bayesian Search\n",
        "- 검증할 하이퍼파라미터 범위내에서, 이전에 탐색한 조합중 성능이 좋은 조합을 중심으로 확률적으로 탐색\n",
        "- hyperopt 라이브러리로 베지안 서치를 할 수 있다.(단, hyperopt에서 제공하는 범위를 사용해야함)\n",
        "- hyperopt의 fmin는 최종적으로 loss를 가장 작게 만드는 파라미터 조합을 선택(함수를 만들어서 loss와 STATUS값을 제공해야함)\n",
        "- loss이므로 클수록 좋은 함수는 - 부호를 붙여주어야함\n",
        "- fmin의 max_evals 수 만큼 하이퍼파라미터 탐색"
      ],
      "metadata": {
        "id": "uk0PRQAJW5fK"
      }
    },
    {
      "cell_type": "code",
      "source": [
        "# hyperopt 범위 옵션\n",
        "hp.choice('하이퍼파라미터', list or tuple) # 리스트나 튜플의 값을 선택하여 탐색\n",
        "hp.randint('하이퍼파라미터', upper)        #  0 ~ upper 사이의 정수를 랜덤으로 선택\n",
        "hp.uniform('하이퍼파라미터',low, high )    # low ~ high 범위 내의 실수를 랜덤으로 선택\n",
        "hp.quniform('하이퍼파라미터', low, high, q)# low ~ high 사이 균등분포에서 q간격의 지점에서 랜덤수 선택\n",
        "hp.normal('하이퍼파라미터', mu, sigma)     # mu(평균), sigma(표준편차)를 갖는 정규분포 모델에서 실수를 랜덤선택"
      ],
      "metadata": {
        "id": "XamqCWJCYjCe"
      },
      "execution_count": null,
      "outputs": []
    },
    {
      "cell_type": "code",
      "source": [
        "# Bayesian Search순서 : 1. 튜닝할 params작성 / 2.파이프라인구축 함수 / 3. 학습 및 검증 함수 / 4. fmin으로 loss값 받아서 베이지안서치 \n",
        "from hyperopt import hp\n",
        "\n",
        "params= {\n",
        "    \"simpleimputer__strategy\" : hp.choice('strategy', ['mean', 'median']), # 목록에서 랜덤선택\n",
        "    \"xgbclassifier__max_depth\" : hp.quniform(\"max_depth\", 2, 10, 2)        # 2~10 사이에서 2 간격으로 랜덤선택\n",
        "    \"xgblcassifier__colsample_bytree\" : hp.uniform(\"colsample_bytree\", 0.5, 1.0) # 0.5~1.0 사이에서 실수 랜덤선택\n",
        "}"
      ],
      "metadata": {
        "id": "z3QCZC5taPLc"
      },
      "execution_count": null,
      "outputs": []
    },
    {
      "cell_type": "code",
      "source": [
        "from hyperopt import fmin, tpe, Trials, STATUS_OK\n",
        "from sklearn.model.selection import corss_val_score\n",
        "from sklearn.pipeline import make_pipeline\n",
        "import numpy as np\n",
        "\n",
        "def get_pipe(params): # 파이프라인 구축 함수\n",
        "    params['xgbclassifier__max_depth'] = int(params['xgbclassifier_max_depth']) # 정수형 파라미터로 변경\n",
        "\n",
        "    pipe = make_pipeline(\n",
        "        OrdinalEncoder(),\n",
        "        SimpleImputer(),\n",
        "        XGBClassifier(\n",
        "            random_state = 2,\n",
        "            objective = 'binary:logistic',\n",
        "            eval_metric = 'error',\n",
        "            n_estimators = 20,\n",
        "            learning_rate = 0.2,\n",
        "\n",
        "        ),\n",
        "    )\n",
        "    pipe = pipe.set_params(**params) # parmas의 값을 넣어줌\n",
        "    return pipe\n",
        "\n",
        "\n",
        "def fit_and_eval(params):      # 학습 및 검증 함수\n",
        "    pipe = get_pipe(params)    # 모델 생성\n",
        "    score = cross_val_score(   # 점수 검증\n",
        "        pipe,\n",
        "        X_train,\n",
        "        y_train,\n",
        "        cv = n,\n",
        "        scoring='roc_auc',\n",
        "    )\n",
        "    avg_cv_score = -np.mean(score) # loss값을 구해야 하므로 높을수록 좋은 값은 -를 붙여줌\n",
        "    return {\"loss\": avg_cv_score, \"status\" : STATUS_OK}  # fmin에 loss와 STATUS 제공\n",
        "\n",
        "trials = (Trials()) # fmin의 trials에 넣어 실행하면 fit의 학습결과를 모두 저장(grid, randomize의 .cv_results_)\n",
        "\n",
        "best_params = fmin(    # hyperopt의 fmin은 loss정보를 얻어서 최적의 하이퍼파라미터 탐색\n",
        "    fn = fit_and_eval, # 학습, 검증 함수\n",
        "    trials = trials,   # 결과를 저장할 객체\n",
        "    space = params,    # 하이퍼파라미터 범위\n",
        "    algo = tpe.suggest,# suggest 알고리즘 사용\n",
        "    max_evals = n      # 탐색 횟수    \n",
        ")"
      ],
      "metadata": {
        "id": "0B-Lit79czZz"
      },
      "execution_count": null,
      "outputs": []
    },
    {
      "cell_type": "code",
      "source": [
        "trials.trials # trials에 하이퍼파라미터 탐색 결과 "
      ],
      "metadata": {
        "id": "N5tfsOyuomLP"
      },
      "execution_count": null,
      "outputs": []
    },
    {
      "cell_type": "code",
      "source": [
        "trials.best_trial['misc']['vals']    # 최적의 하이퍼파라미터 구성(tiral 목록의 misc의 vals에 저장되어 있음)\n",
        "-trials.best_trial['result']['loss'] # 최적의 하이퍼파라미터의 검증점수(앞에서 - 붙였으니 다시 -붙여줌)"
      ],
      "metadata": {
        "id": "MQzZLBjJozR8"
      },
      "execution_count": null,
      "outputs": []
    },
    {
      "cell_type": "markdown",
      "source": [
        "## 특성선택\n"
      ],
      "metadata": {
        "id": "KGGdO1cBtlIi"
      }
    },
    {
      "cell_type": "markdown",
      "source": [
        "### 1. 직관기반 선택\n",
        "- 데이터가 충분할 때는 예측에 중요하지 않은 특성이 학습데이터에 포함되어 있어도 모델성능에 크게 관여하지 않음(데이터가 적으면 노이즈 과적합이 발생)\n",
        "- 개발자가 주요하지 않은 특성을 선제적으로 배제(추천 알고리즘에서 사용자ID, 이름 등 제거)\n",
        "\n",
        "### 2. 특성중요도기반 선택\n",
        "- 각 특성의 중요도에 따라 특성을 선택\n",
        "- 회귀모델 : model.coef_\n",
        "- 분류모델 : model.feature_importances_"
      ],
      "metadata": {
        "id": "rdowcTputvWv"
      }
    },
    {
      "cell_type": "markdown",
      "source": [
        "### 3. 통계량 기반 특성 선택\n",
        "- 피어슨 상관계수 : 선형성 타겟의 상관관계를 추측(np.corrcoef)\n",
        "- 스피어만 상관계수 : 단조성 타겟의 상관계수를 추측(spearmanr)\n",
        "- SeletKBest : 회귀 or 분류 통계량에 따른 분류\n",
        "   - 분류타겟 옵션 : f_classif / mutual_info_classif / chi2\n",
        "   - 회귀타겟 옵션 : f_regression / mutual_info_regression\n"
      ],
      "metadata": {
        "id": "sldmzGuXvc2Z"
      }
    },
    {
      "cell_type": "code",
      "source": [
        "from scipy.stats import spearmanr\n",
        "\n",
        "np.corrcoef(x,y)[0, 1] # 특성 x,y의 선형성 점수\n",
        "spearmanr(x,y)         # 특성 x,y의 단조성 점수"
      ],
      "metadata": {
        "id": "xchSEampu0Oz"
      },
      "execution_count": null,
      "outputs": []
    },
    {
      "cell_type": "code",
      "source": [
        "from sklearn.feature_selection import SelectKBest, mutual_info_classif \n",
        "\n",
        "selector = SelectKBest(score_func = f_classif, k=n)          # 분류문제, 상위 n개의 특성만 사용\n",
        "X_train_selected = selector.fit_transform(X_train, y_train)  # 선택된 n개의 특성으로 훈련데이터 생성\n",
        "X_val_selected = seleector.transform(X_val)                  # 사용할 모델에 model.fit(X_val_selected, y_val)"
      ],
      "metadata": {
        "id": "1_jJOIwSw8WL"
      },
      "execution_count": null,
      "outputs": []
    },
    {
      "cell_type": "code",
      "source": [
        "X_train.columns[selector.get_support()].tolist()             # SelectKBest에서 선택된 특성 출력"
      ],
      "metadata": {
        "id": "6KUKrVXnyVNb"
      },
      "execution_count": null,
      "outputs": []
    },
    {
      "cell_type": "markdown",
      "source": [
        "## 특성중요도"
      ],
      "metadata": {
        "id": "nA58SQAcmHHv"
      }
    },
    {
      "cell_type": "markdown",
      "source": [
        "#### 1. Mean decrease impurity(MDI)\n",
        "- 트리기반 모델에서는 각 분기에서 노드의 불순도를 감소시킨다.\n",
        "- feature_importances_를 통해 특성중요도를 계산할 수 있다.\n",
        "- High cardinality 특성에 높은 값을 부여하는 문제가 있어서 이런 특성이 있는 경우 해석에 주의해야함"
      ],
      "metadata": {
        "id": "XgfwavDXmJtY"
      }
    },
    {
      "cell_type": "code",
      "source": [
        "importance = pd.Series(model.feature_importances_, X_train.columns) # X_train의 인덱스를 갖는특성중요도 시리즈\n",
        "\n",
        "importance.plot.barh  # 특성중요도 표 생성"
      ],
      "metadata": {
        "id": "8cXRJHYDpuGe"
      },
      "execution_count": null,
      "outputs": []
    },
    {
      "cell_type": "markdown",
      "source": [
        "#### 2. Drop-Column Importance\n",
        "- 특성을 하나씩 지워서 모든 특성을 사용했을 때와 특성중요도가 어떻게 달라지는지 확인해보는 방법\n",
        "- 가장 이상적이나, 시간이 오래걸려서 비효율적이다."
      ],
      "metadata": {
        "id": "ed-P_wROqH-o"
      }
    },
    {
      "cell_type": "markdown",
      "source": [
        "#### 3. Permutation Importance(순열중요도)\n",
        "- 기존 모델에서 각 특성에 노이즈를 주어서(하나의 특성을 랜덤으로 섞어서 의미없게 만듬) 성능이 어떻게 달라지는지 확인한다.\n",
        "- 모델을 재학습하지 않아서 빠르고 High Cardinality한 특성에 강하다.\n",
        "- 특성의 순서만 바꿀 뿐 분포는 변화시키지 않음\n",
        "- 상관관계가 있는 특성이 존재하면 잘못된 값이 나옴(키2m, 몸무게 30kg)\n",
        "- 상관관계가 있는 특성이 존재하면 하나의 값에 노이즈를 주어도 다른 특성에서 정보를 얻을 수 있기 때문에 성능이 크게 하락하지 않을 수 있다.(결국, 중요한 특성임에도 중요도가 낮게 나올 수 있다)\n",
        "- 상관관계가 높은 특성이 존재하는경우 미리 전처리작업을 해주어야한다."
      ],
      "metadata": {
        "id": "yFSqtAAZq0X9"
      }
    },
    {
      "cell_type": "code",
      "source": [
        "!pip3 install eli5"
      ],
      "metadata": {
        "id": "-ZlDtDjUuBZ7"
      },
      "execution_count": null,
      "outputs": []
    },
    {
      "cell_type": "code",
      "source": [
        "import eli5\n",
        "from eli5.sklearn import PermutationImportance\n",
        "\n",
        "permuter = PermutationImportance(\n",
        "    model,                 # 반드시 fit으로 학습시킨 모델이어야함(모델학습 안시키고 넣으면 오류남)\n",
        "    scoring='accuracy',\n",
        "    n_iter= n,             # 10번 반복\n",
        "    random_state = 2,\n",
        ")\n",
        "\n",
        "X_test_ohe = 인코딩.transform(X_test)\n",
        "permuter.fit(X_test_ohe, y_test) # 전처리된 X_test_ohe로 진행"
      ],
      "metadata": {
        "id": "pQlHU9VatLl8"
      },
      "execution_count": null,
      "outputs": []
    },
    {
      "cell_type": "code",
      "source": [
        "feature_names = X_test.columns.tolist()\n",
        "pi = pd.Seriese(permuter.feature_importances_, feature_names).sort_values()\n",
        "pi.plot.barh() # 특성중요도 그래프"
      ],
      "metadata": {
        "id": "W2vb959BurdK"
      },
      "execution_count": null,
      "outputs": []
    },
    {
      "cell_type": "code",
      "source": [
        "eli5.show_weights(                  # PI표 생성\n",
        "    permuter,                       # 모델\n",
        "    top = None,                     # None = 모두표시 / 숫자 = 표시할 개수\n",
        "    feature_names = feature_names,  # list로 넣어야함\n",
        ")"
      ],
      "metadata": {
        "id": "XSXTGiF1vJ1M"
      },
      "execution_count": null,
      "outputs": []
    },
    {
      "cell_type": "markdown",
      "source": [
        "![3446hb443.JPG](data:image/jpeg;base64,/9j/4AAQSkZJRgABAQEAYABgAAD/4RDaRXhpZgAATU0AKgAAAAgABAE7AAIAAAAFAAAISodpAAQAAAABAAAIUJydAAEAAAAKAAAQyOocAAcAAAgMAAAAPgAAAAAc6gAAAAgAAAAAAAAAAAAAAAAAAAAAAAAAAAAAAAAAAAAAAAAAAAAAAAAAAAAAAAAAAAAAAAAAAAAAAAAAAAAAAAAAAAAAAAAAAAAAAAAAAAAAAAAAAAAAAAAAAAAAAAAAAAAAAAAAAAAAAAAAAAAAAAAAAAAAAAAAAAAAAAAAAAAAAAAAAAAAAAAAAAAAAAAAAAAAAAAAAAAAAAAAAAAAAAAAAAAAAAAAAAAAAAAAAAAAAAAAAAAAAAAAAAAAAAAAAAAAAAAAAAAAAAAAAAAAAAAAAAAAAAAAAAAAAAAAAAAAAAAAAAAAAAAAAAAAAAAAAAAAAAAAAAAAAAAAAAAAAAAAAAAAAAAAAAAAAAAAAAAAAAAAAAAAAAAAAAAAAAAAAAAAAAAAAAAAAAAAAAAAAAAAAAAAAAAAAAAAAAAAAAAAAAAAAAAAAAAAAAAAAAAAAAAAAAAAAAAAAAAAAAAAAAAAAAAAAAAAAAAAAAAAAAAAAAAAAAAAAAAAAAAAAAAAAAAAAAAAAAAAAAAAAAAAAAAAAAAAAAAAAAAAAAAAAAAAAAAAAAAAAAAAAAAAAAAAAAAAAAAAAAAAAAAAAAAAAAAAAAAAAAAAAAAAAAAAAAAAAAAAAAAAAAAAAAAAAAAAAAAAAAAAAAAAAAAAAAAAAAAAAAAAAAAAAAAAAAAAAAAAAAAAAAAAAAAAAAAAAAAAAAAAAAAAAAAAAAAAAAAAAAAAAAAAAAAAAAAAAAAAAAAAAAAAAAAAAAAAAAAAAAAAAAAAAAAAAAAAAAAAAAAAAAAAAAAAAAAAAAAAAAAAAAAAAAAAAAAAAAAAAAAAAAAAAAAAAAAAAAAAAAAAAAAAAAAAAAAAAAAAAAAAAAAAAAAAAAAAAAAAAAAAAAAAAAAAAAAAAAAAAAAAAAAAAAAAAAAAAAAAAAAAAAAAAAAAAAAAAAAAAAAAAAAAAAAAAAAAAAAAAAAAAAAAAAAAAAAAAAAAAAAAAAAAAAAAAAAAAAAAAAAAAAAAAAAAAAAAAAAAAAAAAAAAAAAAAAAAAAAAAAAAAAAAAAAAAAAAAAAAAAAAAAAAAAAAAAAAAAAAAAAAAAAAAAAAAAAAAAAAAAAAAAAAAAAAAAAAAAAAAAAAAAAAAAAAAAAAAAAAAAAAAAAAAAAAAAAAAAAAAAAAAAAAAAAAAAAAAAAAAAAAAAAAAAAAAAAAAAAAAAAAAAAAAAAAAAAAAAAAAAAAAAAAAAAAAAAAAAAAAAAAAAAAAAAAAAAAAAAAAAAAAAAAAAAAAAAAAAAAAAAAAAAAAAAAAAAAAAAAAAAAAAAAAAAAAAAAAAAAAAAAAAAAAAAAAAAAAAAAAAAAAAAAAAAAAAAAAAAAAAAAAAAAAAAAAAAAAAAAAAAAAAAAAAAAAAAAAAAAAAAAAAAAAAAAAAAAAAAAAAAAAAAAAAAAAAAAAAAAAAAAAAAAAAAAAAAAAAAAAAAAAAAAAAAAAAAAAAAAAAAAAAAAAAAAAAAAAAAAAAAAAAAAAAAAAAAAAAAAAAAAAAAAAAAAAAAAAAAAAAAAAAAAAAAAAAAAAAAAAAAAAAAAAAAAAAAAAAAAAAAAAAAAAAAAAAAAAAAAAAAAAAAAAAAAAAAAAAAAAAAAAAAAAAAAAAAAAAAAAAAAAAAAAAAAAAAAAAAAAAAAAAAAAAAAAAAAAAAAAAAAAAAAAAAAAAAAAAAAAAAAAAAAAAAAAAAAAAAAAAAAAAAAAAAAAAAAAAAAAAAAAAAAAAAAAAAAAAAAAAAAAAAAAAAAAAAAAAAAAAAAAAAAAAAAAAAAAAAAAAAAAAAAAAAAAAAAAAAAAAAAAAAAAAAAAAAAAAAAAAAAAAAAAAAAAAAAAAAAAAAAAAAAAAAAAAAAAAAAAAAAAAAAAAAAAAAAAAAAAAAAAAAAAAAAAAAAAAAAAAAAAAAAAAAAAAAAAAAAAAAAAAAAAAAAAAAAAAAAAAAAAAAAAAAAAAAAAAAAAAAAAAAAAAAAAAAAAAAAAAAAAAAAAAAAAAAAAAAAAAAAAAAAAAAAAAAAAAAAAAAAAAAAAAAAAAAAAAAAAAAAAAAAAAAAAAAAAAAAAAAAAAAAAAAAAAAAAAAAAAAAAAAAAAAAAAAAAAAAAAAAAAAAAAAAAAAAAAAAAAAAAAAAAAAAAAAAAAAAAAAAAAAAAAAAAAAAAAAAAAAAAAAAAAAAAAAAAAAAAAAAAAAAAAAAAAAAAAAAAAAAAAAAAAAAAAAAAAAAAAAAAAAAAAAAAAAAAAAAAAAAAAAAAAAAAAAAAAAAAAAAAAAAAAAAAAAAAAAAAAAAAAAAAAAAAAAAAAAAAAAAAAAAAAAAAAAAAAAAAAAAAAAAAAAAAAAAAAAAAAAAAAAAAAAAAAAAAAAAAAAAAAAAAAAAAAAAAAAAAAAAAAAAAAAAAAAAAAAAAAAAAAAAAAAAAAAAAAAAAAAAAAAAAAAAAAAAAAAAAAAAAAAAAAAAAAAAAAAAAAAAAAAAAAAAAAAAAAAAAAAAAAAAAAAAAAAAAAAAAAAAAAAAAAAAAAAAAAAAAAAAAAAAAAAAAAAAAAAAAAAAAAAAAAAAAAAAAAAAAAAAAAAAAAAAAAAAAAAAAAAAAAAAAAAAAAAAAAAAAAAAAAAAAAAAAAAAAAAAAAAAAAAAAAAAAAAAAAAAAAAAAAAAAAAAAAAAAAAAAAAAAAAAAAAAAAAAAAAAAAAAAAAAAAAAAAAAAAAAAAAAAAAAAAAAAAAAAAAAAGVudnkAAAAFkAMAAgAAABQAABCekAQAAgAAABQAABCykpEAAgAAAAMzMQAAkpIAAgAAAAMzMQAA6hwABwAACAwAAAiSAAAAABzqAAAACAAAAAAAAAAAAAAAAAAAAAAAAAAAAAAAAAAAAAAAAAAAAAAAAAAAAAAAAAAAAAAAAAAAAAAAAAAAAAAAAAAAAAAAAAAAAAAAAAAAAAAAAAAAAAAAAAAAAAAAAAAAAAAAAAAAAAAAAAAAAAAAAAAAAAAAAAAAAAAAAAAAAAAAAAAAAAAAAAAAAAAAAAAAAAAAAAAAAAAAAAAAAAAAAAAAAAAAAAAAAAAAAAAAAAAAAAAAAAAAAAAAAAAAAAAAAAAAAAAAAAAAAAAAAAAAAAAAAAAAAAAAAAAAAAAAAAAAAAAAAAAAAAAAAAAAAAAAAAAAAAAAAAAAAAAAAAAAAAAAAAAAAAAAAAAAAAAAAAAAAAAAAAAAAAAAAAAAAAAAAAAAAAAAAAAAAAAAAAAAAAAAAAAAAAAAAAAAAAAAAAAAAAAAAAAAAAAAAAAAAAAAAAAAAAAAAAAAAAAAAAAAAAAAAAAAAAAAAAAAAAAAAAAAAAAAAAAAAAAAAAAAAAAAAAAAAAAAAAAAAAAAAAAAAAAAAAAAAAAAAAAAAAAAAAAAAAAAAAAAAAAAAAAAAAAAAAAAAAAAAAAAAAAAAAAAAAAAAAAAAAAAAAAAAAAAAAAAAAAAAAAAAAAAAAAAAAAAAAAAAAAAAAAAAAAAAAAAAAAAAAAAAAAAAAAAAAAAAAAAAAAAAAAAAAAAAAAAAAAAAAAAAAAAAAAAAAAAAAAAAAAAAAAAAAAAAAAAAAAAAAAAAAAAAAAAAAAAAAAAAAAAAAAAAAAAAAAAAAAAAAAAAAAAAAAAAAAAAAAAAAAAAAAAAAAAAAAAAAAAAAAAAAAAAAAAAAAAAAAAAAAAAAAAAAAAAAAAAAAAAAAAAAAAAAAAAAAAAAAAAAAAAAAAAAAAAAAAAAAAAAAAAAAAAAAAAAAAAAAAAAAAAAAAAAAAAAAAAAAAAAAAAAAAAAAAAAAAAAAAAAAAAAAAAAAAAAAAAAAAAAAAAAAAAAAAAAAAAAAAAAAAAAAAAAAAAAAAAAAAAAAAAAAAAAAAAAAAAAAAAAAAAAAAAAAAAAAAAAAAAAAAAAAAAAAAAAAAAAAAAAAAAAAAAAAAAAAAAAAAAAAAAAAAAAAAAAAAAAAAAAAAAAAAAAAAAAAAAAAAAAAAAAAAAAAAAAAAAAAAAAAAAAAAAAAAAAAAAAAAAAAAAAAAAAAAAAAAAAAAAAAAAAAAAAAAAAAAAAAAAAAAAAAAAAAAAAAAAAAAAAAAAAAAAAAAAAAAAAAAAAAAAAAAAAAAAAAAAAAAAAAAAAAAAAAAAAAAAAAAAAAAAAAAAAAAAAAAAAAAAAAAAAAAAAAAAAAAAAAAAAAAAAAAAAAAAAAAAAAAAAAAAAAAAAAAAAAAAAAAAAAAAAAAAAAAAAAAAAAAAAAAAAAAAAAAAAAAAAAAAAAAAAAAAAAAAAAAAAAAAAAAAAAAAAAAAAAAAAAAAAAAAAAAAAAAAAAAAAAAAAAAAAAAAAAAAAAAAAAAAAAAAAAAAAAAAAAAAAAAAAAAAAAAAAAAAAAAAAAAAAAAAAAAAAAAAAAAAAAAAAAAAAAAAAAAAAAAAAAAAAAAAAAAAAAAAAAAAAAAAAAAAAAAAAAAAAAAAAAAAAAAAAAAAAAAAAAAAAAAAAAAAAAAAAAAAAAAAAAAAAAAAAAAAAAAAAAAAAAAAAAAAAAAAAAAAAAAAAAAAAAAAAAAAAAAAAAAAAAAAAAAAAAAAAAAAAAAAAAAAAAAAAAAAAAAAAAAAAAAAAAAAAAAAAAAAAAAAAAAAAAAAAAAAAAAAAAAAAAAAAAAAAAAAAAAAAAAAAAAAAAAAAAAAAAAAAAAAAAAAAAAAAAAAAAAAAAAAAAAAAAAAAAAAAAAAAAAAAAAAAAAAAAAAAAAAAAAAAAAAAAAAAAAAAAAAAAAAAAAAAAAAAAAAAAAAAAAAAAAAAAAAAAAAAAAAAAAAAAAAAAAAAAAAAAAAAAAAAAAAAAAAAAAAAAAAAAAAAAAAAAAAAAAAAAAAAAAAAAAAAAAAAAAAAAAAAAAAAAAAAAAAAAAAAAAAAAAAAAAAAAAAAAAAAAAAAAAAAAAAAAAAAAAAAAAAAAAAAAAAAAAAAAAAAAAAAAAAAAAAAAAAAAAAAAAAAAAAAAAAAAAAAAAAAAAAAAAAAAAAAAAAAAAAAAAAAAAAAAAAAAAAAAAAAAAAAAAAAAAAAAAAAAAAAAAAAAAAAAAAAAAAAAAAAAAAAAAAAAAAAAAAAAAAAAAAAAAAAAAAAAAAAAAAAAAAAAAAAAAAAAAAAAAAAAAAAAAAAAAAAAAAAAAAAAAAAAAAAAAAAAAAAAAAAAAAAAAAAAAAAAAAAAAAAAAAAAAAAAAAAAAAAAAAAAAAAAAAAAAAAAAAAAAAAAAAAAAAAAAAAAAAAAAAAAAAAAAAAAAAAAAAAAAAAAAAAAAAAAAAAAAAAAAAAAAAAAAAAAAAAAAAAAAAAAAAAAAAAAAAAAAAAAAAAAAAAAAAAAAAAAAAAAAAAAAAAAAAAAAAAAAAAAAAAAAAAAAAAAAAAAAAAAAAAAAAAAAAAAAAAAAAAAAAAAAAAAAAAAAAAAAAAAAAAAAAAAAAAAAAAAAAAAAAAAAAAAAAAAAAAAAAAAAAAAAAAAAAAAAAAAAAAAAAAAAAAAAAAAAAAAAAAAAAAAAAAAAAAAAAAAAAAAAAAAAAAAAAAAAAAAAAAAAAAAAAAAAAAAAAAAAAAAAAAAAAAAAAAAAMjAyMjoxMDoxMCAyMDo1NDoyOQAyMDIyOjEwOjEwIDIwOjU0OjI5AAAAZQBuAHYAeQAAAP/hCxdodHRwOi8vbnMuYWRvYmUuY29tL3hhcC8xLjAvADw/eHBhY2tldCBiZWdpbj0n77u/JyBpZD0nVzVNME1wQ2VoaUh6cmVTek5UY3prYzlkJz8+DQo8eDp4bXBtZXRhIHhtbG5zOng9ImFkb2JlOm5zOm1ldGEvIj48cmRmOlJERiB4bWxuczpyZGY9Imh0dHA6Ly93d3cudzMub3JnLzE5OTkvMDIvMjItcmRmLXN5bnRheC1ucyMiPjxyZGY6RGVzY3JpcHRpb24gcmRmOmFib3V0PSJ1dWlkOmZhZjViZGQ1LWJhM2QtMTFkYS1hZDMxLWQzM2Q3NTE4MmYxYiIgeG1sbnM6ZGM9Imh0dHA6Ly9wdXJsLm9yZy9kYy9lbGVtZW50cy8xLjEvIi8+PHJkZjpEZXNjcmlwdGlvbiByZGY6YWJvdXQ9InV1aWQ6ZmFmNWJkZDUtYmEzZC0xMWRhLWFkMzEtZDMzZDc1MTgyZjFiIiB4bWxuczp4bXA9Imh0dHA6Ly9ucy5hZG9iZS5jb20veGFwLzEuMC8iPjx4bXA6Q3JlYXRlRGF0ZT4yMDIyLTEwLTEwVDIwOjU0OjI5LjMxNDwveG1wOkNyZWF0ZURhdGU+PC9yZGY6RGVzY3JpcHRpb24+PHJkZjpEZXNjcmlwdGlvbiByZGY6YWJvdXQ9InV1aWQ6ZmFmNWJkZDUtYmEzZC0xMWRhLWFkMzEtZDMzZDc1MTgyZjFiIiB4bWxuczpkYz0iaHR0cDovL3B1cmwub3JnL2RjL2VsZW1lbnRzLzEuMS8iPjxkYzpjcmVhdG9yPjxyZGY6U2VxIHhtbG5zOnJkZj0iaHR0cDovL3d3dy53My5vcmcvMTk5OS8wMi8yMi1yZGYtc3ludGF4LW5zIyI+PHJkZjpsaT5lbnZ5PC9yZGY6bGk+PC9yZGY6U2VxPg0KCQkJPC9kYzpjcmVhdG9yPjwvcmRmOkRlc2NyaXB0aW9uPjwvcmRmOlJERj48L3g6eG1wbWV0YT4NCiAgICAgICAgICAgICAgICAgICAgICAgICAgICAgICAgICAgICAgICAgICAgICAgICAgICAgICAgICAgICAgICAgICAgICAgICAgICAgICAgICAgICAgICAgICAgICAgICAgICAKICAgICAgICAgICAgICAgICAgICAgICAgICAgICAgICAgICAgICAgICAgICAgICAgICAgICAgICAgICAgICAgICAgICAgICAgICAgICAgICAgICAgICAgICAgICAgICAgICAgIAogICAgICAgICAgICAgICAgICAgICAgICAgICAgICAgICAgICAgICAgICAgICAgICAgICAgICAgICAgICAgICAgICAgICAgICAgICAgICAgICAgICAgICAgICAgICAgICAgICAgCiAgICAgICAgICAgICAgICAgICAgICAgICAgICAgICAgICAgICAgICAgICAgICAgICAgICAgICAgICAgICAgICAgICAgICAgICAgICAgICAgICAgICAgICAgICAgICAgICAgICAKICAgICAgICAgICAgICAgICAgICAgICAgICAgICAgICAgICAgICAgICAgICAgICAgICAgICAgICAgICAgICAgICAgICAgICAgICAgICAgICAgICAgICAgICAgICAgICAgICAgIAogICAgICAgICAgICAgICAgICAgICAgICAgICAgICAgICAgICAgICAgICAgICAgICAgICAgICAgICAgICAgICAgICAgICAgICAgICAgICAgICAgICAgICAgICAgICAgICAgICAgCiAgICAgICAgICAgICAgICAgICAgICAgICAgICAgICAgICAgICAgICAgICAgICAgICAgICAgICAgICAgICAgICAgICAgICAgICAgICAgICAgICAgICAgICAgICAgICAgICAgICAKICAgICAgICAgICAgICAgICAgICAgICAgICAgICAgICAgICAgICAgICAgICAgICAgICAgICAgICAgICAgICAgICAgICAgICAgICAgICAgICAgICAgICAgICAgICAgICAgICAgIAogICAgICAgICAgICAgICAgICAgICAgICAgICAgICAgICAgICAgICAgICAgICAgICAgICAgICAgICAgICAgICAgICAgICAgICAgICAgICAgICAgICAgICAgICAgICAgICAgICAgCiAgICAgICAgICAgICAgICAgICAgICAgICAgICAgICAgICAgICAgICAgICAgICAgICAgICAgICAgICAgICAgICAgICAgICAgICAgICAgICAgICAgICAgICAgICAgICAgICAgICAKICAgICAgICAgICAgICAgICAgICAgICAgICAgICAgICAgICAgICAgICAgICAgICAgICAgICAgICAgICAgICAgICAgICAgICAgICAgICAgICAgICAgICAgICAgICAgICAgICAgIAogICAgICAgICAgICAgICAgICAgICAgICAgICAgICAgICAgICAgICAgICAgICAgICAgICAgICAgICAgICAgICAgICAgICAgICAgICAgICAgICAgICAgICAgICAgICAgICAgICAgCiAgICAgICAgICAgICAgICAgICAgICAgICAgICAgICAgICAgICAgICAgICAgICAgICAgICAgICAgICAgICAgICAgICAgICAgICAgICAgICAgICAgICAgICAgICAgICAgICAgICAKICAgICAgICAgICAgICAgICAgICAgICAgICAgICAgICAgICAgICAgICAgICAgICAgICAgICAgICAgICAgICAgICAgICAgICAgICAgICAgICAgICAgICAgICAgICAgICAgICAgIAogICAgICAgICAgICAgICAgICAgICAgICAgICAgICAgICAgICAgICAgICAgICAgICAgICAgICAgICAgICAgICAgICAgICAgICAgICAgICAgICAgICAgICAgICAgICAgICAgICAgCiAgICAgICAgICAgICAgICAgICAgICAgICAgICAgICAgICAgICAgICAgICAgICAgICAgICAgICAgICAgICAgICAgICAgICAgICAgICAgICAgICAgICAgICAgICAgICAgICAgICAKICAgICAgICAgICAgICAgICAgICAgICAgICAgICAgICAgICAgICAgICAgICAgICAgICAgICAgICAgICAgICAgICAgICAgICAgICAgICAgICAgICAgICAgICAgICAgICAgICAgIAogICAgICAgICAgICAgICAgICAgICAgICAgICAgICAgICAgICAgICAgICAgICAgICAgICAgICAgICAgICAgICAgICAgICAgICAgICAgICAgICAgICAgICAgICAgICAgICAgICAgCiAgICAgICAgICAgICAgICAgICAgICAgICAgICAgICAgICAgICAgICAgICAgICAgICAgICAgICAgICAgICAgICAgICAgICAgICAgICAgICAgICAgICAgICAgICAgICAgICAgICAKICAgICAgICAgICAgICAgICAgICAgICAgICAgICAgICAgICAgICAgICAgICAgICAgICAgICAgICAgICAgICAgICAgICAgICAgICAgICAgICAgICAgICAgICAgICAgICAgICAgIAogICAgICAgICAgICAgICAgICAgICAgICAgICAgPD94cGFja2V0IGVuZD0ndyc/Pv/bAEMABwUFBgUEBwYFBggHBwgKEQsKCQkKFQ8QDBEYFRoZGBUYFxseJyEbHSUdFxgiLiIlKCkrLCsaIC8zLyoyJyorKv/bAEMBBwgICgkKFAsLFCocGBwqKioqKioqKioqKioqKioqKioqKioqKioqKioqKioqKioqKioqKioqKioqKioqKioqKv/AABEIAKcA3AMBIgACEQEDEQH/xAAfAAABBQEBAQEBAQAAAAAAAAAAAQIDBAUGBwgJCgv/xAC1EAACAQMDAgQDBQUEBAAAAX0BAgMABBEFEiExQQYTUWEHInEUMoGRoQgjQrHBFVLR8CQzYnKCCQoWFxgZGiUmJygpKjQ1Njc4OTpDREVGR0hJSlNUVVZXWFlaY2RlZmdoaWpzdHV2d3h5eoOEhYaHiImKkpOUlZaXmJmaoqOkpaanqKmqsrO0tba3uLm6wsPExcbHyMnK0tPU1dbX2Nna4eLj5OXm5+jp6vHy8/T19vf4+fr/xAAfAQADAQEBAQEBAQEBAAAAAAAAAQIDBAUGBwgJCgv/xAC1EQACAQIEBAMEBwUEBAABAncAAQIDEQQFITEGEkFRB2FxEyIygQgUQpGhscEJIzNS8BVictEKFiQ04SXxFxgZGiYnKCkqNTY3ODk6Q0RFRkdISUpTVFVWV1hZWmNkZWZnaGlqc3R1dnd4eXqCg4SFhoeIiYqSk5SVlpeYmZqio6Slpqeoqaqys7S1tre4ubrCw8TFxsfIycrS09TV1tfY2dri4+Tl5ufo6ery8/T19vf4+fr/2gAMAwEAAhEDEQA/APpGiiigAooooAKKKKACmySJFG0krKiICzMxwFA6kmnU10WSNkcBlYEMD3BpO9tAKL+INGi0lNVk1exTTpDhLxrlBCxzjh84PPHWp31GyjvYLOS8t0urhS8MDSqHlUdSq5yQPavnm30ybXtNj+FySMraZqOoySDOCI40JgJGOQXl/StLSvGE80V540RGuJvDvhi3tFjlVtv2qVvmJ7n7oz7d6Lq3N03+Vm/zVh8rvy9dvndL8tT3m4uIbS3kuLqWOGGJS8kkjBVRRySSeAB60W1zBeW0dzaTRzwSqHjlicMrqehBHBHvXj+n6z47HhbWZ/EUi6jptzoMt5b3V1b2a7ZAmdqxxSOJIyGHLL6ZAzyukeIvE2tXnhvw9oOsWehCPw9DqdxMbGNxOTgeWI/lCp/uYx+VU1a9/wCt/wDIXS/9dP8AM9budQs7Ka3ivLuC3kuX8uBJZQplb+6oJ+Y+wqxXgJ1vXvFPh34f39zqNvLqsuvTRrdvAPLGCyhti7cgAcDjPek8War4o1H4W+LrDWNeW4l0TVktpbhLRIzeQkqApC4CfMQ3HpjnrUp3v/X8v/yQ7e9b+uv+R7/RWb4etr6z8P2cGq6h/aV2kY8y68lYvM7j5F4GBgfhWlVNWdiYu6uFZF34u8N2F89lfeINLtrtCFa3mvY0kUnkAqTkdR+da9eIQ209x8bvF4i8E2XieP7RZiSa6mhQ2Q8sfMokUls8nC4+6PaiOsrf10G9I3Pb6K8a1Pxh481bxjry+EW/0TQblIDYmG2EcwHLNLJLKsiA4bBRSMDqOTUHivx/4k0/xJqGoaJqt3Npem30Frc2cmmQC2V22h4vPL+YzA5ztXg47YJUfet5/ra35hL3U/I9sorxvSbfxBD8Z/Gt0niBmWztEleH7Gh85Gidoowf4fLJHI+9jnrVnTfHet3OgfDmdtUR7jWr1or8iOPMygkEYC/Lg4B24pRd0vO34tr9NQn7rfo39yT/AFPW6K8d0/xn4tt/C/inxVf6rBdWmk3V1a2th9jUF2DqqM7rg4XPQDkEknpja+HWpeObjU4/+Enla/0q9sRcwXcsdpCyPkfKiwytvQhh8xAPTp3cfe+5P79Qen32+49IooooAKKKKAKUmsWUUjRvI4ZSVI8pzyPwpv8Abdh/z1f/AL8v/hWJef8AH9P/ANdG/nXNXPiO5huJpo9OWTS7acQT3X2jEgbIDMse3BRSeSWB4bAOBnzPrs+ZxSPHeYVLtKK0PQP7bsP+er/9+X/wo/tuw/56v/35f/CuO1XUZrI28FjbLdXl05WKOSXy0AAyzM2GIAA7AnJHHcUf+EklNjGFsVGpPdmy+ytNhBKFLH95t+5sBYHbkjHGeKSxs3tESzCo1flX3nf/ANt2H/PV/wDvy/8AhR/bdh/z1f8A78v/AIV5+fEV2dOJXT4hqK3osntpLkiMOeciQISVKkEfKDzggGr7X15a6V9ov9PL3W7b9msJDPuJOBhmVB9S2APWh42a+yg/tCovsr7zsf7bsP8Anq//AH5f/Cj+27D/AJ6v/wB+X/wrkNF1H+2NCstR8nyPtUCTeXu3bNwzjPerMtzFDNDDI+152KxjB+YgFj+gNJ42adnEl5lUTs4l6007wrY+J7vxDaWxj1W9j8ue4CSnevHG0/KPujoB0qPStH8H6JY39lp1iqW2pSNJdwyRyyrMWGDkPnjHbp7VXllSCF5ZW2pGpZj6AcmsbTteu7i7tE1HTVs4b9C9o63HmMcDdtkXaAjFecAsOGGeBkWNm18K0GsxqPXlX3mlpHg7wDoVrqFvpWmGCPUoTBdDNwxkjOcrliSo57Y7egrnPHPhFNX/ALHt/Dmm+HpLTS7fyYDqyXhkiweANnDqABxJuGc8cmtbUNXvItQks9J0+O9lghE1x5twYgqsSFC/K25jtbjgcckZqC98VRQabp17ZWVzeQ35hKyKuxIkkdFDOT3+cfKMn2AyQ/rlSVvd/rW36lLMKvSK1/r8S/4a8J+GtC8OaJp15JJfz6PM1zBcGKWPEzEksFXjHOADkVpyaP4Qms9XtZrMyQa1J5t+jLMRM/8Ae/2TwMbcYIyKxNQ1e8j1B7PSdPjvZYIVmn824MIVWJChTtbcx2twcDjkjNM/t+S+t7NtBtUu5bq3W6AuJjCkcbdCzBWIJ6AAHoemKPrs3ryr+v8AhvwEswqLXl/H+u/4nW6M2g+H9Hg0vSFe3s7cFYotkr7QST1bJPJPU1e/tuw/56v/AN+X/wAK5yIyGFDMqpIVG9UbcAe4BwMj3wKdSePnfVELMpLaKOh/tuw/56v/AN+X/wAKzbGPw7pusajqtlG8d7qZQ3cu2U+YUGF4PAwD2AqhWHaeJra/8T3ek2ctlILNf3x+2DzQ/cCIA5UZALEjB4xQsdN7RKWY1JJ2jsaureE/AeueII9b1PSkm1FGVvOCTJuKnILKuFY9PvA8ADpUN94I+Hmpapd6leaOkl3eSCSaULOpLAg7hjAUkjkrjPOc5NNttd0i9tZ7mz1WyuLe3GZpYrhGWIYz8xBwOPWn2+saZeWRvLTUbSe1VthninVkDcDG4HGeRx70/r1RfZ2B5jU6xNGfSfCNz4qh8STWe7V4IzGlyEmHylSuCo+VuGIyQf0FZun+B/h5pWoQ32naOkFzBcfaYpVE+Uf25+7/ALP3fanW2r6beRTy2moWs8dsSJ3imVhER1DEHjHvTrHUrHVLf7Rpl5b3kO4r5lvKsi59MgkZpfXpr7O3/DieY1LaxNSws/C+m6beafa2o+yX0sk1zDLFJIsrSffyGB4Pp09qpeGfDngrwdcXE/hywNnLcqFlf9/ISAcgfPnA+mO3pVW+1fTdMBOpaha2gABP2idY+CcDqe5B/KnQ6pYXF9LZW99bS3cKhpIEmVpEBxglQcgcj86Fjp7qIf2jUtrE6v8Atuw/56v/AN+X/wAKP7bsP+er/wDfl/8ACuRh1rS7i8S0t9Ss5bl03rCk6s7L/eCg5I96JNZ0uG+NlNqVpHdqAxt2nUSAHAB25zzkfnR9en/KP+0an8p139t2H/PV/wDvy/8AhV+uPrsK6sNXda91sdmExLxHNdWscref8f0//XRv51xE0Uy2Go+Hfsd5595eSPFMIHMJjlk8wuZQNq7csNpIYleByCe4ux/p0/8A10b+dQ4ryG7TZ4UpWlJeZzuo3bpqdpqX2G9MFlLNbTBbdnfayriRUXLOuVA4BPJOMAmsy4t52tTe3FrfCwvtTNzcRwxObiOIRbI2CqPMUlkRvkAdc84+au1xRipjKxKnZbf1r/mcdaJYQ6JcRarpFzdaRLek2sM+nSXEpUruLyR7S/Mgf5mG7kZ65rU8LWr2umXCpbyWtm9y72dvKCrRQkDA2nlBncQpxtBAwMYG7ijFDldNf1/w4SnzKxj+EoZbbwdpENxE8UsdnGrxyKVZSFGQQehrD1+30uXxDDLOdf3wylp/sy6iUwYyB5ZiGwckZ24757iu0xRinzvmcu4c/vOXco3dqL3QZrWEuFntmjQybtwyuBndznnvz61hW1zLqd1pJawvrd9KV5boS27oA/lGPy0JwJMlmOVLL8vXkV1eKMUk7XEpWVjmf7QksNXnv5NOv2h1K0haFY7ZndZF3ZjcKDsOGXlsL1yeKjuNIubLwDpmmBGmntnsVcRgt9yaMsfoACc+grqsUYpqdndeX4FKbTVv6sc14iiih1FLm2k1iO+lh8ox6bbl1uVByqO5jZI8EnDFkIDE5x0xf+EesdHktU1/SpdUtBpcFsqRWj3SRyxlyfkAY5O/5XI4wwyM89/ijFEZtKw1VaVjP0KC6tdAsoL9na4jhVX3vvYcdC3cjoT3q/S4oxUPV3MtxK5XVNPvLm38RxwW8j+dNAwjwB9ojVI/MQFuDuUMvpzXV4oxQtHcqEnB3Rymp3MWq2dpdWen3r29jdxS3MMlhJE8iKGwFR1BfYxV8AH7vGTxVLWbVtct9XurXT7k2t1DawFJrZ43nZZiWPlsA2ArAZI557Cu4xRir5rbFKpbb+tbnKazYRvrGoefbXS2c2mRRvJaW+9srK2NoCncVBztweOx6Vo+Grm9ubKdr9XYLNthuZbU20lwgVfneNsFWzkdADtyAAQK2sVS1HRNL1fy/wC1tNs77y87PtMCybM9cbgcdBSUtLMXMmrP+tDNmsfO8Zz3Elrvj/svyVlaPIyZGJUH3GMj6VnaFpb2em+D1Fi0L21qVmHlFTEWhywbjjLAZB711NnY2mnWq22n20NrbpnbFBGERcnJwBx1qfFPmtHlX9b/AOYOb2/rax57ogS98L6NpdlYXUVwl5HdNL9mZYkCzb3fzcbSWAIwCW+fkDnDruQWfh+bS7vTblr0aqsryPAxjfddqVlEpGwnay4UEsPu4447mzsoNPs47W0Ty4YhhF3E4H1PNUx4e0/+0PtkguppRJ5qpPeTSxq2c5WNmKKR2wOO2KpTV9dr3NPaRbu15/19/wDWt9KuwrkMV19d2A+18v1PRyz7fy/U5a7/AOP6f/ro3864C7tLefR9V8QSW6/2ta3svkXOP3sSxS7VRWPIQqvKjAO5s9TXoF2D9tn4/wCWjfzrBk8NQyag8/2q7W3kmE8tiGUwySDGGOVLDkKcBgpI5Byc8V7Tb/rc85ytKXr/AJ6EWuW0OpavpenX8Sz2cvmyywyDKSlFG1WHRh8xbB4yoPasGaKNLWXSVga4s7fWTFFpoUEXMXkiTyRk7QqliwDELhAvAxXTXWgLcrn7dfRTrcG4huEkBeAkbSqhlK7cZG0gjn1wRG/hmBrGCGO6u4rmCZp0vUZTN5jZ3scqVO4MRgrtAPAGBhRaS1/rz/QIySSV/wCtf8zI0u20geHr6HWraGGwt71mOm3A3pa5AKRleVbJYMFG5QXAXOAavaPpLSeHpbZhc6bazXDSQW8LmKSGEnIjyOUB5OFIKg4GMVI/hNGhj8vU9QiuluTdPeL5TSSybNmWDRlMBcAAKMYGK07Cyns4GjudQur9mbIkuVjDKMdB5aKMfhnmiTunZilLTR9bmd4LGPA2ij/pxi/9BFQ6vruo2WtWVtbaLqE8LysrPE1vtnHlscLulBGDzyF6Hr32NM06PStKtdPtzI0VrEsSNJyxCjAzgDmqV7oV1eX32hNd1C2CnMcUUNsyxHGDtLws3PPfuaG05t+om05tlrUbqW30K6u442SaO2eRUbBKsFJwcZHX0zXPWml2mi6l4fm02FY5b7dFdzIBuuf3LSb5D1dty53HJ+Y+prqxDm3EUpaUbdrM4GX4wScADn2FZNj4ZjsXB+3X1wsUTQ2qTOpFqhxkIQoJOABucscDrycqLtf+u4ov3bf1/SKdzpdnrvibUIdXt47qO1toRbpKoPlFy5aRfRjgDd1G3jvWXt0/VvBmkXOsWSanrN3YItqGUNMX2jLof+WfJBZxjHy5PAroJ/DSSmJ4tQ1C3lW3W2mmjdS9zGucByynnlvmXDfMcGmzeGib4XOnarfabiBLcRWyQFAiZ2geZGxH3j0PpVXVrX/rX8zSM7dTPXSYdY12ay8QRxX/ANi0+32LKgYLI5kDygHox2DB6jHHU1UZNNvvCGmXGtWI1bU5bURWqSIJJnfH3kz9w9CzjGOCSMDG/deHvtMkUy6lfQXSwiCa4h8sNcIOcOChUcknKhSMnBGail8MYvEn03U77TBHbJbLFarCyBEJIAEkbY69iM4HpRzXe4Rkl17Gnp8U8GmWsV5L5txHCiyyf33AGT+JqxTLeGSG3jjkmkuHVQDLIFDOfU7QBn6ACpMH0NZvV3Oewlcoja6b7xKBqdr5cWPIU2rkxExqwwfN9M5wBk88dK6zB9DWeNGRdUurwT3Gy8jCTW3y+WxAxv8Au7gcDHDY9s80tbM0py5XqY+katf2VrpS63PDNBcaeZjdJEybXVVbDZdskoSc9ypPtTbfV9f1C/gs4EsbNpbAXjPPC8hiLSEKhQOMnbjJ3DBB65wE1Hw3NPpunaAFury1hkR3vrl4h5cSgqY8KAWLISn3fusSWz1t3uh3l54ra8gurqwjFisK3Fs0ZJbzCSpV1YHjHJXjsRzW0uVu/r+v9fItKKXn/wAEzJfGN09vZwRRfZ7yXz/OkWwnvUUwy+U2I4sNhm5BJGB6mui0LUJ9T0eG6u7aS2mYsrpJE8RJViu4K4DANjcAecEVWk8L24hsxY3V3YT2askd1AUaRlblw3mKwbcQGORnIzWra27W1qkTSy3DKPmllILOe5OAB+AAA7ACply20Jnyte6SUUuD6GjB9DWZkJRS4PoaMH0NACV19cjg+hrrq9LAfa+X6nsZZ9v5fqc3df8AH5N/10b+dc1c+JLmC4nmj05ZNKtpxbz3X2jEgbIDMse0gopPJLA8NgHAz0t1/wAfk3/XRv51w88Uy2GpeHPsd5595eSvFMIHMJjlk8wuZQNq7csNpIYleByCeayc3f8ArU42leXr/mdFq2pTWRtoLG1W6vLpysUckvlIABlmZtrEAAdgTkgY7ioniNm00s1kRqQuTZ/YhLkGYDOA+B8m3592M7eduflqHUrx01S01P7BfGCylmtpgtuzvtZVxIqLlnXcoHAJ5JxgE1kXelNdQpqt5Y3U1lLqr3c9l5bGRoDAYQWi6sDhWMeM4OCM5FKKTWv9f0gUVZXX9a/8A6C51bUbKxt/tVhbf2jd3HkQW8V2zRE7S2WkMYIG1WJ+U9OM5qAeJZ/sQQ6eq6o16bEWpuP3fmhS+fN252bBuztz2xnisL7G0NlmDT7y38PSaj5gtbe2dJoYvKxuSJVEkYM3zfKAw68AmlEEyaYq/YtQGh/2kZMLDJ9r8ox53kAednziTu/1mMEnGTVcq/r5af8AAHyR/r5/8DT8TrNH1KTUreb7TbC1uraZoJ4lk8xQwAIKtgZBVlI4B55ANW5bqGGeCGV9sk7FYxg/MQCx+nANY/hSJ4bO7WOCaGxa5ZrMXKMszIQCzOG+ckvvOX+YjBNY/iC30qXxFBLcHxBvhlLT/ZV1Ix4MZA8sxDYOSM7cd89xU8qcrGfKnJpHZSypBC8srbUjUszHsAMk1i6dr95cXlomo6atnDqCF7N1uPMY4G7bIu0BGK84BYcMM8DN+7tRfaBNaQlws9s0aGTduG5cDO7nPPfn1rCtrmbVLrSC2n31u+kq810Jbd0AfyjH5aE4EmSzHKll+XryKUUtb/1uEVeP9fL7zT1HWL2LUJLPSNPjvZYIRPcebcGEKrEhQvyNuY7W44HHJGagvfFkUGmadfWVjc3kN+YSsirsSJJHRQzse/zj5Rk+wGSK/wDaMlhrE+oS6dftDqVpA0Kx2zu6yLuzG4UHyzhl5bC9cnimXGkXNj8P9M0wI09xbPYq4iBb7k0ZY/QAE59BVRjG6T7r/glxjFtX8v6/r9DU8Ta/H4b0G41B4TcSRoxit1baZWCliAecYCkk44AJqK71jUft1ra6TYWtxJNbG4f7TeNCEAKjA2xvn73t0rL8ZaJrN5Z6td2N5bSIdNlgitHsXlkGUO4Iyyj5m4Gdp6D3yapb6dLpdraeI9GfVNQW0xDLb6XI2GPG1H+byWyByzrjg5HZRUbX3/pjUY8qt5/p6HXIWKLvADY+YA5AP1papaLFeQaDYQ6pJ5l7HbRrcPu3bpAoDHPfnPNXaiSs2jAKpzavptvqMWnz6haxXswzHbPMokcc8hScnofyq5XAzaVI+r6nY6lea5ELy+E8aWdhHJDKvylCZvJbYV2gfM4I2gjAxTiuZ2ZcYpp3OyOr6cNT/s37fa/b9u4WhnXzcYznZnOMc9KpnxRpFraW0mr6vpVnJcRiRV+3oUceqM23cPfArLtXntvFjwadHeS29xcvJdw3VgyJbnaR5sU+0K247Rty5+bjaARWTa3Elv4U0DQtSsdSit2s0e/Memzy5UceSdiHBY/ez/CCP4hVKK0+X6mipr+vn/X/AANTtJ9c0m1a1F1qlnCbzH2YSXCL5+cY2ZPzdR09RV6uA1KzabWtTe7udcgstWt4hCtlpiyq8WzaYn3QO0ZBLHDbQN/ruru7aLyLWKLc7eWgXdIQWOBjJx3pSikjOUVG1iSiiioICiiigArqa5aupr0MF9r5Hq5d9r5fqc3df8fk3/XRv51FUt1/x+Tf9dG/nXAXdnbz6PqviGS3X+1rW+l8i6x+9iWKXaqKx5CFV5UYB3tnqa47Xmzz5Ru233O6orC122h1LV9K02/iWeyl82WWCQZSUoo2qw6MPmLYPGVB7Vz0zSwxv4fs7VprR9Ye1jtjJsTyfs/neWWGSsW7gjB+XKgEHFTGPMJQTSd/61/yO+orhZxanTIdJXRLa0aDUglzo9kqtFefujJtUlUUjaVc7woym0+ps6XZWkvh2+tbjRPtkMF8zLomI2+zggEIQ7CM8NvwCVG7Ck4Bp8oOnbf+t/67HY0Vh+Elji0eSCLKLDdSqLYqV+yjcSIsEDAAIxj5cEbSVwah1fXtRstbsra20TUJ4XlZWeJ7bbOPLY4XdKCMHnkL0PXuuXWxPLq0joqKpajdS2+hXV3HGyTR2zyqjYJVgpODjI6+ma5200uz0XUvD82mQrHLfboryZAN1zmFpN8h6u25c7jk/MfU0RV7/wBd/wDIEla/9aHX0VzV1pdlr3ibUIdXt47qK1toRbxyqD5RcuWkX0Y4UbhyNvB61kXSzap8P9A1O9u7lplawZkEu1JHaeLLuF+8evB45zjOCKjC7S9PxKjT5ra/0zvKK5HXVn1bxNLpo0i11aC0tI5/s99NsgLOzjJGx9zARjblcDLcjjMGoaemt2+m6xa+HdN1OxhsWVbC+Ko8Jypwi+Wy7ht24yo98c0uXuHsztaKq6Zd2+oaTaXlkpW2uIEliUrtwjKCBjtwelWqlpp2ZmFFFcfe+ItejfWbiyj097fSr1LcQSq4e4Vkib74OEIMh52tnjgYySMXIpRb2OwornYdY1Czu9UtNZuNOVrW0S7juVVoYlVy67XDM3Qx/eBGQegxWDf+IbjUvC/iS0v3WQ2lokwnGnzWQKvuGPLlJPGw/MDg59jVKDZXs5fl+P8Aw56BRXIzeLLsaOdVgij+yXc6W+nKIJJpDkkGV1TLEcEiMANxyVJO3S8N6veamt1HfxPmB12XBsJrNZlIzxHL8wIIIPJHQ98BcrtcTg0rs3KKKKkgKKKKACuprlq6mvQwX2vkerl32vl+pzt0jG7mwp/1jdvesGTwvHJqLz/abxbaWYTy2IKmGSQYwxypYchThWCkjkHJz1E//HxJ/vH+dc1deJrmC4nnj01JNJtZxb3F39oxIGyFZlj2kFFJGSWB4bAOBnD2fvuzOZ0tXZhdeHftSk/bb+KdbhriG4RwXgJG0qoZSu3GRtII59cEI3hmFtLjtBLdLNFMbhLwEecJjnMmdu3J3EY27cHGMcVo6vqc9iba3sLVLu9unKRRSS+UgABZmZwrEAAdlJyQMdxXt9Y1C+0yRrLTYTqME5t57aa6KRxsOSfMCElSCCDsydwyBzhKm7aMXsnbf+v6uUT4SiNuuLu+W+Wc3H9ojZ5xkK7CSNmwjZ8u3bjGOMjNPTw1JDaMltqmowXMk/nz3q+UZZm27fmDRlMYAGAoxtGKs2+r6pqGlibTtNtTdxzvBcQXN60aIyEqSrrE24ZHGVXg84PFM07xDe3GjXF9eaSS8dy0EUOnzG48/DbdwZljAG7cMtgYGc4p8jtuP2T6sn03Sl0y2aOMzTPI5kmnm5eVz1ZsADsBgAAAAAAACqd94fvLy++0prmpWwU5jiigtmWI4wdpeFm557nqa1dD1P8AtnQLHUvJ8j7XAk3lFt2zcM4z3qzLdQwTwQyvtkuGKxDBO4hSx+nAPWh02pak+ys9SqLdjbiKXfKNu1mdRl+MEnAA59hWTYeF0sZAftt/cLFE0NqkzqRaocZCEKCTgAbnLHA68nPRzSpBC80rbY41LMx7ADJNYem+Iby4vLNNS0xbKDUUZ7ORbjzGOBu2yLtARivOAWHDDPAylTvewKlZaMgn8LiUxPFf6jbyrbrbTTRupe5jXOBIWU88t8y7W+Y4NXLvRYLvS4rDY8NvE8TIsQxt8t1dRyDxlQPpRqWs3sWoyWWj6dHfTW8InuPNuDCFViQqrhG3OdrcHA45IzUF94thg0vTb6xsbq8h1AwFZFUIkSSOihnY9D84+UZJ9AMkNU5Nq3f/AIYaou61F1PQDqF0t1b3t9p1yIzE01oUy6E52kOrLweQcZHODycxT+Gi8MVvaajqFhaRwiBra2ZNroM9WZC4JBxuVgffPNXNT1XUodXg0/SLC0upZIHndrq8aAKAyrxtjfJO726VJqV7q9qivp+l210qR75jLeGLB/upiNtx4P3tg5HPXC9notdAVN3smSW1mlnaRW1rB5UEKCOONV4VQMAD8Kl2P/db8qlsruK/sLe8t8+VcRLKm4YO1hkfzqek6eupHsl3Kex/7rflWS3hq3aHUoy1xjUrhbibkfKwVFwvHAxGOue9dFXJ3vxA0qy1LVIZLqw+z6VCXuT9uQTlwPuJFjB5IXJYfMcYpqn0RcaDfwlu/wDDlvqE95NMbhXu7aO3YoQNgRmdWXjhgz55yOBx61f+EPiki1AXl9qF3LqECQTzSlA21CxXaFQKp+cjgY4HGck72naxp2rxCTTL+2u1KB/3EyvhSSATgnurD6qfSo7nxBo1nD513q9hBFtV98tyirtYkKck9CVIB74PpT5GnYPZyfX+v6sZE/hG2me7Mc15bpcyLOI4WULDODnzkypw5PUfdPOVOTnR0/T57KFlnvbu/dmyZbkICB6AIqqB+GatX2saZplol1qWo2lnbyEBJridY0YkZADE4PHNW0dZEV42DKwyrKcgj1pezdrCdO61ZV2P/db8qNj/AN1vyq5RU+zRPsV3Kex/7rflRsf+635Vcoo9mg9iu5T2P/db8q6esStuu7CR5bno4GHLzfIx5/8Aj4k/3j/OuGnimXT9T8NfYrz7Re3krwzi3cwmOWTzC5lA2rtyw2khiV4HIJ7uZf38n+8f50zaKy2kzCXVHM6leumqWeqfYL4wWM01rOEt2d9rKuJFRcs67lAyoJ5JxgE1Wj8mHSr+71O31aO31a/MqpaR3HnxqEVVJEP7xMiPOMDG4BsHNdftFG0VK0C5ydm+o2fg3UWsbe4LtJJ/ZqSw7Ztrn5WdQAfvMW+YBtuC3zbq6Gxs49O02CzgH7uCIRr7gDGfrVvaKNoolqSYnhCCW28F6PBcxPDNHZxK8cilWUhRkEHoawPEVtpM3iSCW4PiLfBKWn+yrqZjwYyB5ZiGwckZ2kd89xXdbRRtFVduTkVe7bM+7tRfeH57SEyBbi1aJDLu3AMmBu3c555zz61z9rczardaOW0++t5NIV5rtZbd4wJPKaPy0JwJMlmOVLL8vXkV2G0UbRUq6u+/9fqJbWZyn9oyafrM+oy6bqDQ6nZwNCkdq8jrKu/McgUHyzhl5bC9cnimXGj3Vj8PNM0sI09xavYq4iBb7k8RY/QAE59BXXbRRtFVezv6fgOMmrWOX8VRaJdMLfV9Bn1K58k/ZpItOeYqWyMLKFIibIHJZccHPGRnXd3exafp+h6+dUVVsIjf3NjZT3DXTkbXjEkSHZ907jwxDDbjrXc7RRtFJOysFytZPDJYwNaxtFAYx5cbxNEVXHA2MAV+hAxU9O2ijaKkiw2uV1Kwu7mw8Yww28jPdwFLcbceaTbBcKTweeK6zaKNoosy4ScHdHD6xNMYrDVNHjuornUbc6VtkgaJ0ZjlJGSQBvkIkPI6MTzTS+n+HviCR9guXhttDt7eF7W0e4aJfNl+XagLAEKOcY+XkjjPWyaPZTatFqU0byXMKFYi8rlI85BZUJ2hsEjcBuwSM44qVdOtl1OTUFjxdSQrC0m48opZgMdOrNz71d/1/X/MaaUWvL9V+iPPk0q+0mXS7meXVtOthazRoNMs0unti8xkEbJ5UpUbCoyoxlME/drtfD1jFpvh+0tbdrhoo0+Q3SKkmCSQCqgBevTAwOMCtTaKNopN3Vv6/rUmTbG0U7aKNoqbE2G0U7aKNoosFhtbdY20Vs114fqd2E6mVN/r5P8AeP8AOvPr2zt59F1fxHLbr/bFpfS/Z7rH72JYZdqorHkIVXlRgHe2c5NehTK3nPwfvHt71hS+FoZNSe4+13q20sy3E1gGUwSyjGGOVLjkKcKwUkcg5OcVpK5zvqv66kOv2sGqazpOmahEs9jKZZpYJBuSUoo2qynhhli2DxlQe1Z1lY2jaVrGmTaM2q2On6iUttPxGy7SiOFCyMqbVMjYBIwAMdBW1d+GxdKT9v1CK4W5a5guUkUvbkjaVUMpXZjI2sCOc9cEH/COvFpkdrZanqFnKspmku4vLaWZ2zuL70ZTknOAoAwMYAxSjov68v8Ahg1sl/XUxtMttEPhGeHW44W0+1vJN1lcxkpbfOdkJRhhsbl2rgjJXZkbTVrRdHeXw3NauLrS7Sa4aW3toZDFJDATkR5HMYPJwpBUNgYxxYm8Io9pbxw6lqFvcQ3Jumu08ppJpSpUs4eNk6HgBQBgAYAxWnp1hc2Vu0dzqN3qLM2RJcpErKMdB5aIMfUZ560papid/wATM8DjHgLQwO1jF1P+yKr6z4g1Ox16xtbXQtRnheZlZ4ntttwPKZsLvlDDBGeQvQ9e+5pWmJpGk2unW3mNDaxLEjScsQowM4A5qhf+Hry9v/tKa/qVqFbdFFFBassRxg7S8LNyM9z1Park7zbB6ybLWpXctvoF3eRRsk0dq8qxtglWCk4OMjOfTNc3Z6VZ6HqfhyfS4Fjmv90V7MgG66zC0m+U9XbcoO45PzH1NdgLcm3EM26YbNrM4GX4wScADn2ArH0/wrHYSKft2oXCQwtBaJO6kWiHGQhCgk4AG5yzADrycytG3/XUSvy2/r+kUbvSbHxB4q1GDWbaO7itLWEW8cqhhCzmQtIuejHao3DkbeD1rIu0m1b4eeHtUvry6edWsGZBLtSV2niy7hfvHrweOc4zgjpZ/CqymF4tR1K3mW3W1nmjdS91GvQSFlPPLfMu1vmOCKu3miW93pUWnbHht4XhaNYsDb5Tq6jkHjKAfSqi0n81+BUXZq/9f1/W5zXiq2gv9cMM+kf2+IrHIsxt/wBFZmOJfnIAztIyuXG3gHJqHS9Os/Ed3Hba40WsxWmk2pheaPIMj+YHmAbkMdg56jB6ZNdDqPhv7bqDX1pqN/pdzJCIJpLPy/3yAkqCJEYAgs2CMH5jz0xHL4RtwtuNNur3TDDbi1LWrqTLCOiMZFbOCSdww3J55NStI2/rr/X9Ibfb+tv6/Mk8K3E114T02W6keWVrdQ0jnLORxk+5xmtemW1pHZ2kVtaw+VBCgjjRRwqgYAH4VJtb+6fypPVmdvISsK3vdY1PVJ30+Sxg061ufs7JNA7yzlSPMIYOoTByB8rZ2574G9tb+6fyrIHh3ytWe8s9QvrSOaUTT2kPl+VM4wNx3IWXIAyFZQcepORbj6HNaTqsmmeDl+zXlvbTzarfKgltJbt5MXMpISGIh3Pc4PAyT0p7+MdQk0jS7ky2elx3CzC4v7yzmaBJI3CBWXcnk7jkgyNxjbgmtoeD4YYIFsL6+sp7ea4lS5h8tnxM5eRCHRlKliO2flHPqDwgItOisLTVdUtrVRIJY1eN/PV3LEOzozfxEZUhsHkk81babb8/6/r8C9L39fz/AK/4BBPrd+niyPTpLmysYT5flpc20hN7kZfypdyoGH9zDNxnoeOlrGn8LrcXUJkv782ULxSLp+U8ndHgoc7PM4Kq2N+CRyDkg7W1v7p/Kpe2hm0JRS7W/un8qNrf3T+VTZhZiUUu1v7p/Kja390/lRZhZiVsVkbW/un8q166sP1OzC9Sm/8ArG+prmrrxRdW9xPPHpiSaRaXAt7i7+04lVshWZYthDIpIyS4PDYBwM9K/wDrG+prhbiGddO1Twx9ivftF9eyvDOLdzCYpZPMLmUDYu3cw2sQxK8A5BKXxCezf9dTptY1SewNrb6fapd313IUhikm8pAACzMzhWIAA7KTkgY7ivbeIXl0ie4l024a9tpzbTWVtiVvN44VjtBUghgzbRg5OORVTU7101az1X+z7829hNNazhLZnfayriVEXLOu5VGVBPJOMAmrXhuCTy9Sv5IpYRqV41xHFMpV1TYiKSp5UkJuwQCN2CAc1PRv+un6A9l/Xcn0zXYb3wpba7dqLOGa1W5kVn3eUCuSM45x9KyrTxfdah4Zg1G20lYru4vmso7S6uSgVlkZMs6o2OFJwFPpnvVXTtB1a88E+G7eG6gsGtIInntr6xeUO6qNoZRIhG1hnHqB6VV0a1+xeE7iDxrpw1OCbVbkrBHo0s2MyyMHMf7wlSeVIHAZRk9a0kld27/hctxSWnf9GdrYPeyWitqdvb29xk7o7edpkAzxhiiE/wDfNOmu4YLiCGV9slwxSJcE7iFLH6cA9axvB9o9nplyqW0tpYyXTyWNtKCrQwkDA2HlATuIQ4KggYGMDE8SW2kTeJreW4PiTfBKWuPsi6oYyDEVHlmEFByRnaR3z3FTbUyO3mmS3gkmmbbHGpZmPYAZJrC0zxHeXN7Zx6lpa2UGpIz2Ui3PmMcDdtlXaAjFecAuOGGeBnRu7Rb/AMOz2cBkVbi1aJDLu3AMmBu3fNnnnPPrXPWtzPq11opbTr+2k0dXmu1mtnjAk8lo/LQnCy5LMQULLhevIpLd3/rf/gD3Wn9dvvNbU9avodSksdG02O/mt4FnuPNuTCFViQqrhG3OdrcHA45IyKr3/jCG30rTL+xsLq9g1AwFZFUIkKSuiBnZuh+cfKMk+gGSK39pSadrVxqUumai0GqWUDQJHaPI6SrvzFIFB8s4ZeWwv3skYplxo11YfDnS9KEbT3Fq9gsgiBb7k8RY/QAE59BVRSvZ91/wSopNq/8AX9f1sbWp6ndw3iWOkWUV5esnmss85hijTOMs4RzknoApzg9MVBrXiGXRLW1aTTJ7maZkWQW5/dQZdVJaRgOAXGABuP8AdwCRjeI9M05fFMt/4h0efVrC4sY4Y0jsnu1jljdzzGoYhiJOHxgYYZGebc9hqCfDy0s7lJp7yP7MHUkyOMSocEjO4gDk+xNT9m/9f1/XYGldL+uh1NFFFBAVnz6/o9teJaXOrWMVzJL5KQyXKK7SYU7ApOS2GXjr8w9RWhXn+paRcnQ/iDJDp0rXd3OWtiICXn220Wwrx82H3YxnnPeqguZ2f9ar/MaVz0Cs2bxHoltfTWdxrOnxXUCGSWB7pFeNQNxZlJyBjnJ7VornyxnriuR8PJA2jL4a1fTbv7ZtlS8keyfyZWbdvlE23yzv3E8Nu+bBAIOJCNmrs2/EWuxaBoN7qDBJpLe2kuEtzKEMoQZIB59ucHGal/tSOO6uEu5rOCGJYsMbkbwXJADqQAuTgLydxz0xzwdzY3+q+DfEJlhnubmw0yXR7UbNzzuo/eOoXk7yIx9Uq54m0i5v5ddiNhNcQ3P9lrt8kssqrPmQdOQF5PoOtW0rKw0tUn/W3/BO0sdX03U45ZNN1C1vEhcpK1vMsgjYdQSDwfY1RsfFGnarrEVnpF1a6hDJBJK1za3CyKjIyDZ8uRnEgPX+dc/4l0i9utY1oWVjJLDNplmGREAW5CTyF4gTwSY8rgnow9ai1eK48SahePoNheWjy6Dc2kd5cWj22ZCybU+dQwxyRkY+Y4zg4mNnr6/k/wBRuKWl+342/wAzr7TXtHvxdGx1WxuRZ/8AHz5Nyj+R1+/g/L0PX0NT2moWeoCQ2F3BciJ9khhlD7GwDg4PBwQce9cJbaeLzT7yaK58RXN1b6RNbJbX2mpbJGHUfu12wR+YcqMbSwGD6jPa6HbLZeH9Ptkh8hYbaNBHtxswoGMdqLLX5fr/AJfiS+n9dv8AMvVeqjV6tKfU3o9SMwKWJJPJpPs6erUUVpyxNOSPYPs6erUfZ09Wooo5YhyR7B9nT1aj7Onq1FFHLEOSPYPs6erUfZ09Wooo5YhyR7B9nT1aj7Onq1FFHLEOSPYPs6erUfZ09Wooo5YhyR7B9nT1aj7Onq1FFHLEOSPYPs6erUfZ09Wooo5YhyR7B9nT1aj7Onq1FFHLEOSPYyH8FeGZL830mgaY12ZPNNw1nEZC+c7t23Oc8561p3NhFdW0kErTKkilWMUrRsAfRlIKn3BBooo5Yj5Y3uRafo9lpdjHZ2EXkwRg7VBySSckknkkkkknJJJJ5NWfs6erUUUcqYuSPYPs6erUfZ09Wooo5YhyR7B9nT1aj7Onq1FFHLEOSPYPs6erVLRRTSS2KUUtj//Z)"
      ],
      "metadata": {
        "id": "Q4A2gVRXvWdt"
      }
    },
    {
      "cell_type": "code",
      "source": [
        "importance = pd.Series(permuter.feature_importances_, X_test.columns) # 평균보다 높은 특성만 추출\n",
        "im_mean = importance.mean()                   # 평균 구해서\n",
        "pi_idx = importance[importance>im_mean].index # 평균보다 높은 특성의 인덱스\n",
        "\n",
        "rf.fit(X_train[pi_idx],y_train)               # 모델에 특성 적용해서 다시 학습"
      ],
      "metadata": {
        "id": "qABEGS0NCeo5"
      },
      "execution_count": null,
      "outputs": []
    },
    {
      "cell_type": "markdown",
      "source": [
        "## ICE PLOT / PDP PLOT"
      ],
      "metadata": {
        "id": "kDTywUhjDSc1"
      }
    },
    {
      "cell_type": "markdown",
      "source": [
        "### 1. Individual Conditional Expectation(ICE plot)\n",
        "- 특성이 증가/감소할 때 모델의 예측값이 어떻게 변하고 영향을 주는지 파악할 수 있다."
      ],
      "metadata": {
        "id": "9yc-PfAlD2ie"
      }
    },
    {
      "cell_type": "code",
      "source": [
        "# 알고자하는 특성의 최대~최소범위(range의 마지막숫자가 포함되도록 뒤에 1을 더해주어 범위 설정)\n",
        "column_test_range = range(X_train_enc[column].min(), X_train_enc[column].max()+1)\n",
        "\n",
        "results = []\n",
        "\n",
        "for i in column_test_range:    # column의 값이 최소 ~ 최대일 때\n",
        "    X_train_enc['column'] = i  \n",
        "    X_train_proba = model.predict_proba(X_train_enc)[:,1] # 각 값에서 확률의 예측\n",
        "    results.append(X_train_proba)\n",
        "\n",
        "results = np.array(results) # 계산을 위해 변환\n",
        "results -= results[0]       # 초기값에서의 변화량(각 값에서 [0]값을 빼줌)"
      ],
      "metadata": {
        "id": "CExjOTQbDV7k"
      },
      "execution_count": null,
      "outputs": []
    },
    {
      "cell_type": "code",
      "source": [
        "plt.plot(column_test_range, results) # x축 = 특성의 값범위 / y축 = 값이 변화에 따른 타겟값의 변화량"
      ],
      "metadata": {
        "id": "sEB1JHmFICj6"
      },
      "execution_count": null,
      "outputs": []
    },
    {
      "cell_type": "markdown",
      "source": [
        "### 2. Partial Dependence Plot(PDP plot)\n",
        "- 특성의 변화에 따른 타겟값의 변화를 평균으로 나타낸 그래프\n",
        "- 각 특성이 독립성을 가진다는 전제(상관관계가 높을경우 17세에 대학원을 졸업하는 이상한 값이 출력된다)\n",
        "- 특성간 상관관계가 높을 경우 미리 전처리 해주어야한다.\n",
        "- 데이터 분포가 존재하지 않는 부분은 학습이 되지않아 이상한 값을 출력(해석시 주의)"
      ],
      "metadata": {
        "id": "1WZNlz2_LT1o"
      }
    },
    {
      "cell_type": "code",
      "source": [
        "!pip3 install pdpbox"
      ],
      "metadata": {
        "id": "2at_M92dMylR"
      },
      "execution_count": null,
      "outputs": []
    },
    {
      "cell_type": "code",
      "source": [
        "from pdpbox.pdp import pdp_isolate, pdp_plot # pdpbox 하나의 특성에 대한 pdp시각화\n",
        "\n",
        "target_feature = \"\"           # 특성 선택\n",
        "\n",
        "isolated= pdp_isolate(              # pdp모델\n",
        "    model = rf,                     # 모델\n",
        "    dataset = x_test,               # x데이터\n",
        "    model_features= x_test.columns, # 특성 목록\n",
        "    feature = target_feature,       # 분석할 특성\n",
        "    grid_type = \"percentile\",       # 격차의 점 간격 설정(equal 개수만큼 동일하게 구분)\n",
        "    num_grid_points = 10,           # 점의 갯수(type에 따라 달라짐 equal이면 균등격차로 점찍힘)\n",
        "    # cust_grid_points=[-2, 1, 2, 3, 4, 5, 6, 7],  # 특성값을 찍어 볼 지점을 직접 지정\n",
        ")\n",
        "\n",
        "pdp_plot(\n",
        "    isolated,                      # pdp plot (평균그래프 + 신뢰구간)\n",
        "    feature_name = target_feature  # 그래프 위에축 이름\n",
        ") "
      ],
      "metadata": {
        "id": "7wsJ-igRM4W_"
      },
      "execution_count": null,
      "outputs": []
    },
    {
      "cell_type": "code",
      "source": [
        "pdp_plot(                 \n",
        "    isolated,                      # isolate 함수(pdp함수)\n",
        "    feature_name = target_feature, # 그래프 위,아래 표시할 feature name\n",
        "    plot_lines = True,    # 개별라인 표시 여부(노란색)\n",
        "    frac_to_plot = 50,    # 표시할 ice plot 수\n",
        "    plot_pts_dist=True    # rug plot(데이터의 밑에 수량바) 데이터 분포 표시\n",
        ")"
      ],
      "metadata": {
        "id": "4fOzVv1NNDyx"
      },
      "execution_count": null,
      "outputs": []
    },
    {
      "cell_type": "code",
      "source": [
        "from pdpbox.pdp import pdp_interact, pdp_interact_plot # 2- feature pdp\n",
        "\n",
        "target_features = ['JobInvolvement','TotalWorkingYears']\n",
        "\n",
        "ineraction =pdp_interact(     # 2개의 특성 pdp\n",
        "    model = rf,\n",
        "    dataset = x_test,    \n",
        "    model_features = x_test.columns,\n",
        "    features = target_features,    \n",
        ")"
      ],
      "metadata": {
        "id": "QuHZqUpxOWY3"
      },
      "execution_count": null,
      "outputs": []
    },
    {
      "cell_type": "code",
      "source": [
        "pdp_interact_plot(\n",
        "    ineraction,           # 2특성 그래프\n",
        "    plot_type=  'gird',# 그래프 방식('contour'도 있음)\n",
        "    feature_names = target_features\n",
        ")"
      ],
      "metadata": {
        "id": "JbUwzMwdOjf5"
      },
      "execution_count": null,
      "outputs": []
    },
    {
      "cell_type": "markdown",
      "source": [
        "- OrdinalEncoder 사용시, x축에 인코딩 된 숫자 대신 원래 값 넣어주려면"
      ],
      "metadata": {
        "id": "o0VjtowTP8S6"
      }
    },
    {
      "cell_type": "code",
      "source": [
        "mappings = rf[0].mapping  # 인코딩 된 모든 값들 보기 (rf[0]가 오디널인코딩)\n",
        "print(mappings)"
      ],
      "metadata": {
        "id": "UFt-FgFDP7Bs"
      },
      "execution_count": null,
      "outputs": []
    },
    {
      "cell_type": "code",
      "source": [
        "mapping_data = list(filter(lambda x: x[\"col\"] == 'Gender', mappings)) # 인코딩 목록화\n",
        "print(mapping_data) \n",
        " # [{'col':'Gender', 'mapping': Male 1 Female 2 NaN -2}] # 젠더컬럼의 Male은 1 , Female은 2, 결측치는-2로 인코딩"
      ],
      "metadata": {
        "id": "nbOYjUiWQI6_"
      },
      "execution_count": null,
      "outputs": []
    },
    {
      "cell_type": "code",
      "source": [
        "maps = mapping_data[0][\"mapping\"] # mapping 부분만 추출\n",
        "print(type(maps))"
      ],
      "metadata": {
        "id": "wjbDQqToQLfO"
      },
      "execution_count": null,
      "outputs": []
    },
    {
      "cell_type": "code",
      "source": [
        "original_value = maps.index.tolist()  # 인코딩 전 범주값  ['Male', 'Female', 'nan']\n",
        "encoding_value = maps.values.tolist() # 인코딩 후 숫자값  [1, 2, -2]"
      ],
      "metadata": {
        "id": "7x2E2hRNRhPx"
      },
      "execution_count": null,
      "outputs": []
    },
    {
      "cell_type": "code",
      "source": [
        "pdp_dist = pdp_isolate(\n",
        "    rf,\n",
        "    x_test,\n",
        "    model_features=x_test.columns,\n",
        "    feature = 'Gender',\n",
        "    cust_grid_points = [-2, 1, 2],          # x값 지정\n",
        ")\n",
        "pdp_plot(pdp_dist, 'Gender')\n",
        "plt.xticks(encoding_value, original_value)  # x축에 특성 표시"
      ],
      "metadata": {
        "id": "zS1X9e7sSDVe"
      },
      "execution_count": null,
      "outputs": []
    },
    {
      "cell_type": "markdown",
      "source": [
        "## n233, n234 해야됨"
      ],
      "metadata": {
        "id": "asz4aOmyS5lK"
      }
    }
  ]
}