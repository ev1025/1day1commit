{
  "nbformat": 4,
  "nbformat_minor": 0,
  "metadata": {
    "colab": {
      "provenance": [],
      "collapsed_sections": [],
      "authorship_tag": "ABX9TyNkgZE5P+eTXdQIbtBbE5gw",
      "include_colab_link": true
    },
    "kernelspec": {
      "name": "python3",
      "display_name": "Python 3"
    },
    "language_info": {
      "name": "python"
    }
  },
  "cells": [
    {
      "cell_type": "markdown",
      "metadata": {
        "id": "view-in-github",
        "colab_type": "text"
      },
      "source": [
        "<a href=\"https://colab.research.google.com/github/ev1025/1day1commit/blob/main/%EC%BD%94%EB%93%9C%EC%8A%A4%ED%85%8C%EC%9D%B4%EC%B8%A0/GIT/%ED%94%84%EB%A1%9C%EC%A0%9D%ED%8A%B83_%EC%A0%95%EB%A6%AC.ipynb\" target=\"_parent\"><img src=\"https://colab.research.google.com/assets/colab-badge.svg\" alt=\"Open In Colab\"/></a>"
      ]
    },
    {
      "cell_type": "markdown",
      "source": [
        "## 데이터 스크래핑"
      ],
      "metadata": {
        "id": "I0d3kgIfHnCY"
      }
    },
    {
      "cell_type": "markdown",
      "source": [
        "#### 데이터 스크랩"
      ],
      "metadata": {
        "id": "Vuw9BT2_EYIj"
      }
    },
    {
      "cell_type": "code",
      "source": [
        "import requests\n",
        "from bs4 import BeautifulSoup\n",
        "\n",
        "BASE_URL = f\"topten10mall.com/kr/front/\"\n",
        "\n",
        "brand_list = ['ziozia','andz','olzen', 'edition', 'topten','polham','projectm','tmaker']\n",
        "\n",
        "# 사이트 연결\n",
        "def get_page(page_url):\n",
        "\n",
        "    page = requests.get(page_url)\n",
        "    soup = BeautifulSoup(page.content, 'html.parser')\n",
        "    return soup, page\n",
        "\n",
        "# 페이지 수 넣으면, 해당페이지의 옷 목록(clot_list에) 저장\n",
        "# r = 브랜드목록\n",
        "def get_reviews(page_num=1): \n",
        "    clot_list=[]\n",
        "    for r in brand_list:\n",
        "        review_url = f\"https://{r}.{BASE_URL}search/categorySearch.do?ctgNo=1001&currentPage={page_num}&rowsperPage=30&sort=saleCnt&statusCd=&lCateId=&cateId=&partner=&color=&size=&season=&minPrice=&maxPrice=&recommendDispYn=Y#\"\n",
        "    \n",
        "        soup = get_page(review_url)[0]\n",
        "        names = soup.find('div', id='searchGoods').find_all('p', class_='card-goods__text')\n",
        "\n",
        "        for i in names:\n",
        "            clot_list.append(i.text)\n",
        "\n",
        "    return clot_list\n",
        "\n",
        "# 1페이지 ~ page_num까지 all_list에 목록저장(페이지 10 넘는곳은 없음)\n",
        "def scrape_by_page_num(page_num=2):\n",
        "\n",
        "    all_list = []\n",
        "    \n",
        "    for i in range(1, page_num+1):                \n",
        "        all_list.extend(get_reviews(i))\n",
        "\n",
        "    return all_list\n",
        "\n",
        "# 페이지랑 상관없이 원하는 개수만큼만 목록 가져옴\n",
        "def scrape_by_review_num(clot_num):\n",
        "\n",
        "    reviews = []\n",
        "    \n",
        "    page_num = (clot_num//30) +1   # 한 페이지에 10개씩 표시되서 0~9까지는 1페이지, 10~19는 2페이지\n",
        "    reviews = scrape_by_page_num(page_num)[:clot_num] # review_num이 10이면 page_num이 2가 되서 [:review_num]으로 개수 잡아줌\n",
        "\n",
        "    return reviews\n",
        "\n",
        "# 데이터 뽑아오기\n",
        "# 데이터 받을 때 꼭 튜플로 받아야 dataframe으로 만들기 편함!!! [(1,2)]이런식으로 받아야함.. [{1:2}]처럼 dict로 받으면 바꾸기 힘듬\n",
        "last_list = []\n",
        "last_list.extend(scrape_by_page_num(10))"
      ],
      "metadata": {
        "id": "FrHVfmchHo4J"
      },
      "execution_count": null,
      "outputs": []
    },
    {
      "cell_type": "code",
      "source": [
        "# import random \n",
        "# import pandas as pd\n",
        "\n",
        "# name = []\n",
        "# # 옷 이름에 점수 추가 append 할 때, (a,b)형식의 튜플로 지정해야 dataframe형식으로 변환 가능, {a:b}형식 절대 xx\n",
        "# for i in last_list:\n",
        "#     abc = (i,random.randint(1,5))\n",
        "#     name.append(abc)"
      ],
      "metadata": {
        "id": "q0oZ2Y26IEN3"
      },
      "execution_count": null,
      "outputs": []
    },
    {
      "cell_type": "code",
      "source": [
        "# # 튜플인 name을 dataframe형식으로 바꿔주기\n",
        "# files = pd.DataFrame(name,columns=['이름','점수'])\n",
        "\n",
        "# # 인덱스 찾기\n",
        "# files[files['이름'].str.contains(r'셔츠')]"
      ],
      "metadata": {
        "id": "dh7yoDYuT4a0"
      },
      "execution_count": null,
      "outputs": []
    },
    {
      "cell_type": "markdown",
      "source": [
        "#### 스크랩 데이터 종류 구분"
      ],
      "metadata": {
        "id": "7viQ6krDDiUK"
      }
    },
    {
      "cell_type": "code",
      "source": [
        "# 티셔츠\n",
        "t1 = [s for s in last_list if '티셔츠' in s]\n",
        "t2 = [s for s in last_list if '반팔티' in s]\n",
        "t3 = [s for s in last_list if '긴팔티' in s]\n",
        "t4 = [s for s in last_list if '반팔 티' in s]\n",
        "t5 = [s for s in last_list if '긴팔 티' in s]\n",
        "t_shirts = t1+t2+t3+t4+t5\n",
        "\n",
        "# 맨투맨\n",
        "mentomen = [s for s in last_list if '맨투맨' in s]\n",
        "\n",
        "# 후드\n",
        "hude = [s for s in last_list if '후드' in s]\n",
        "\n",
        "# 자켓\n",
        "zacket = [s for s in last_list if '자켓' in s]\n",
        "\n",
        "# 패딩\n",
        "paka = [s for s in last_list if '파카' in s]\n",
        "padding = [s for s in last_list if '패딩' in s]\n",
        "padding = padding+paka\n",
        "\n",
        "# 셔츠\n",
        "s1 = [s for s in last_list if '셔츠' in s]\n",
        "s2 = [s for s in last_list if '셔츠형' in s]\n",
        "\n",
        "# a_sub_b = [x for x in a if x not in b] # list a에서 b를 빼기\n",
        "s1_s2 = [x for x in s1 if x not in s2]\n",
        "shirts = [x for x in s1_s2 if x not in t1]\n",
        "\n",
        "# 니트\n",
        "knit = [s for s in last_list if '니트' in s]\n",
        "\n",
        "# 가디건\n",
        "cardigan = [s for s in last_list if '가디건' in s]\n",
        "\n",
        "# 코트\n",
        "coat = [s for s in last_list if '코트' in s]\n",
        "\n",
        "# 바지\n",
        "slace = [s for s in last_list if '슬랙스' in s]\n",
        "pants =  [s for s in last_list if '팬츠' in s]\n",
        "pants = pants+ slace"
      ],
      "metadata": {
        "id": "d7HjjhyOMtU2"
      },
      "execution_count": null,
      "outputs": []
    },
    {
      "cell_type": "markdown",
      "source": [
        "#### 스크랩 데이터 DF화"
      ],
      "metadata": {
        "id": "KZT8jcbrDolF"
      }
    },
    {
      "cell_type": "code",
      "source": [
        "import random\n",
        "import pandas as pd\n",
        "import numpy as np\n",
        "\n",
        "tt = []\n",
        "for i in range(len(t_shirts)):\n",
        "    tt.append((t_shirts[i], random.randint(1,5)))\n",
        "tt = pd.DataFrame(tt, columns=['이름', '평점'])\n",
        "tt['종류'] = '티셔츠'\n",
        "\n",
        "mt = []\n",
        "for i in range(len(mentomen)):\n",
        "    mt.append((mentomen[i], random.randint(1,5)))\n",
        "mt = pd.DataFrame(mt, columns=['이름', '평점'])\n",
        "mt['종류'] = '맨투맨'\n",
        "\n",
        "hd = []\n",
        "for i in range(len(hude)):\n",
        "    hd.append((hude[i], random.randint(1,5)))\n",
        "hd = pd.DataFrame(hd, columns=['이름', '평점'])\n",
        "hd['종류'] = '후드'\n",
        "\n",
        "zc = []\n",
        "for i in range(len(zacket)):\n",
        "    zc.append((zacket[i], random.randint(1,5)))\n",
        "zc = pd.DataFrame(zc, columns=['이름', '평점'])\n",
        "zc['종류'] = '자켓'\n",
        "\n",
        "pk = []\n",
        "for i in range(len(padding)):\n",
        "    pk.append((padding[i], random.randint(1,5)))\n",
        "pk = pd.DataFrame(pk, columns=['이름', '평점'])\n",
        "pk['종류'] = '패딩'\n",
        "\n",
        "st = []\n",
        "for i in range(len(shirts)):\n",
        "    st.append((shirts[i], random.randint(1,5)))\n",
        "st = pd.DataFrame(st, columns=['이름', '평점'])\n",
        "st['종류'] = '셔츠'\n",
        "\n",
        "kn = []\n",
        "for i in range(len(knit)):\n",
        "    kn.append((knit[i], random.randint(1,5)))\n",
        "kn = pd.DataFrame(kn, columns=['이름', '평점'])\n",
        "kn['종류'] = '니트'\n",
        "\n",
        "ca = []\n",
        "for i in range(len(cardigan)):\n",
        "    ca.append((cardigan[i], random.randint(1,5)))\n",
        "ca = pd.DataFrame(ca, columns=['이름', '평점'])\n",
        "ca['종류'] = '가디건'\n",
        "\n",
        "co = []\n",
        "for i in range(len(coat)):\n",
        "    co.append((coat[i], random.randint(1,5)))\n",
        "co = pd.DataFrame(co, columns=['이름', '평점'])\n",
        "co['종류'] = '코트'\n",
        "\n",
        "pt = []\n",
        "for i in range(len(pants)):\n",
        "    pt.append((pants[i], random.randint(1,5)))\n",
        "pt = pd.DataFrame(pt, columns=['이름', '평점'])\n",
        "pt['종류'] = '바지'"
      ],
      "metadata": {
        "id": "5slNap2N5vyO"
      },
      "execution_count": null,
      "outputs": []
    },
    {
      "cell_type": "code",
      "source": [
        "# 전체 데이터 = category\n",
        "category = pd.concat([tt, mt, hd, zc, pk, st,kn, ca, co, pt])\n",
        "category.reset_index(drop=True, inplace=True)\n",
        "category"
      ],
      "metadata": {
        "id": "Bo_a5IHozoaJ",
        "colab": {
          "base_uri": "https://localhost:8080/",
          "height": 424
        },
        "outputId": "4fd673e2-974d-402d-d37d-77a9f8d53197"
      },
      "execution_count": null,
      "outputs": [
        {
          "output_type": "execute_result",
          "data": {
            "text/plain": [
              "                                    이름  평점   종류\n",
              "0                         리플 슬림 카라 티셔츠   1  티셔츠\n",
              "1                         리플 슬림 카라 티셔츠   4  티셔츠\n",
              "2                         리플 슬림 카라 티셔츠   5  티셔츠\n",
              "3                         리플 슬림 카라 티셔츠   1  티셔츠\n",
              "4                       공용) 튜블러 티셔츠 5팩   4  티셔츠\n",
              "...                                ...  ..  ...\n",
              "1230                     기모 슬림핏 밴딩 슬랙스   1   바지\n",
              "1231            남성) 더  웜 슬림 사이드밴딩 슬랙스    1   바지\n",
              "1232                      기모 패턴 셋업 슬랙스   4   바지\n",
              "1233       기모 패턴 퍼펙트 슬랙스 (SET 4KC1400)   5   바지\n",
              "1234  브러쉬드 사이드밴딩 슬림핏 슬랙스 (SET 4KC1300)   2   바지\n",
              "\n",
              "[1235 rows x 3 columns]"
            ],
            "text/html": [
              "\n",
              "  <div id=\"df-c97541fc-6c92-479d-b06f-11b8fef8a6bd\">\n",
              "    <div class=\"colab-df-container\">\n",
              "      <div>\n",
              "<style scoped>\n",
              "    .dataframe tbody tr th:only-of-type {\n",
              "        vertical-align: middle;\n",
              "    }\n",
              "\n",
              "    .dataframe tbody tr th {\n",
              "        vertical-align: top;\n",
              "    }\n",
              "\n",
              "    .dataframe thead th {\n",
              "        text-align: right;\n",
              "    }\n",
              "</style>\n",
              "<table border=\"1\" class=\"dataframe\">\n",
              "  <thead>\n",
              "    <tr style=\"text-align: right;\">\n",
              "      <th></th>\n",
              "      <th>이름</th>\n",
              "      <th>평점</th>\n",
              "      <th>종류</th>\n",
              "    </tr>\n",
              "  </thead>\n",
              "  <tbody>\n",
              "    <tr>\n",
              "      <th>0</th>\n",
              "      <td>리플 슬림 카라 티셔츠</td>\n",
              "      <td>1</td>\n",
              "      <td>티셔츠</td>\n",
              "    </tr>\n",
              "    <tr>\n",
              "      <th>1</th>\n",
              "      <td>리플 슬림 카라 티셔츠</td>\n",
              "      <td>4</td>\n",
              "      <td>티셔츠</td>\n",
              "    </tr>\n",
              "    <tr>\n",
              "      <th>2</th>\n",
              "      <td>리플 슬림 카라 티셔츠</td>\n",
              "      <td>5</td>\n",
              "      <td>티셔츠</td>\n",
              "    </tr>\n",
              "    <tr>\n",
              "      <th>3</th>\n",
              "      <td>리플 슬림 카라 티셔츠</td>\n",
              "      <td>1</td>\n",
              "      <td>티셔츠</td>\n",
              "    </tr>\n",
              "    <tr>\n",
              "      <th>4</th>\n",
              "      <td>공용) 튜블러 티셔츠 5팩</td>\n",
              "      <td>4</td>\n",
              "      <td>티셔츠</td>\n",
              "    </tr>\n",
              "    <tr>\n",
              "      <th>...</th>\n",
              "      <td>...</td>\n",
              "      <td>...</td>\n",
              "      <td>...</td>\n",
              "    </tr>\n",
              "    <tr>\n",
              "      <th>1230</th>\n",
              "      <td>기모 슬림핏 밴딩 슬랙스</td>\n",
              "      <td>1</td>\n",
              "      <td>바지</td>\n",
              "    </tr>\n",
              "    <tr>\n",
              "      <th>1231</th>\n",
              "      <td>남성) 더  웜 슬림 사이드밴딩 슬랙스</td>\n",
              "      <td>1</td>\n",
              "      <td>바지</td>\n",
              "    </tr>\n",
              "    <tr>\n",
              "      <th>1232</th>\n",
              "      <td>기모 패턴 셋업 슬랙스</td>\n",
              "      <td>4</td>\n",
              "      <td>바지</td>\n",
              "    </tr>\n",
              "    <tr>\n",
              "      <th>1233</th>\n",
              "      <td>기모 패턴 퍼펙트 슬랙스 (SET 4KC1400)</td>\n",
              "      <td>5</td>\n",
              "      <td>바지</td>\n",
              "    </tr>\n",
              "    <tr>\n",
              "      <th>1234</th>\n",
              "      <td>브러쉬드 사이드밴딩 슬림핏 슬랙스 (SET 4KC1300)</td>\n",
              "      <td>2</td>\n",
              "      <td>바지</td>\n",
              "    </tr>\n",
              "  </tbody>\n",
              "</table>\n",
              "<p>1235 rows × 3 columns</p>\n",
              "</div>\n",
              "      <button class=\"colab-df-convert\" onclick=\"convertToInteractive('df-c97541fc-6c92-479d-b06f-11b8fef8a6bd')\"\n",
              "              title=\"Convert this dataframe to an interactive table.\"\n",
              "              style=\"display:none;\">\n",
              "        \n",
              "  <svg xmlns=\"http://www.w3.org/2000/svg\" height=\"24px\"viewBox=\"0 0 24 24\"\n",
              "       width=\"24px\">\n",
              "    <path d=\"M0 0h24v24H0V0z\" fill=\"none\"/>\n",
              "    <path d=\"M18.56 5.44l.94 2.06.94-2.06 2.06-.94-2.06-.94-.94-2.06-.94 2.06-2.06.94zm-11 1L8.5 8.5l.94-2.06 2.06-.94-2.06-.94L8.5 2.5l-.94 2.06-2.06.94zm10 10l.94 2.06.94-2.06 2.06-.94-2.06-.94-.94-2.06-.94 2.06-2.06.94z\"/><path d=\"M17.41 7.96l-1.37-1.37c-.4-.4-.92-.59-1.43-.59-.52 0-1.04.2-1.43.59L10.3 9.45l-7.72 7.72c-.78.78-.78 2.05 0 2.83L4 21.41c.39.39.9.59 1.41.59.51 0 1.02-.2 1.41-.59l7.78-7.78 2.81-2.81c.8-.78.8-2.07 0-2.86zM5.41 20L4 18.59l7.72-7.72 1.47 1.35L5.41 20z\"/>\n",
              "  </svg>\n",
              "      </button>\n",
              "      \n",
              "  <style>\n",
              "    .colab-df-container {\n",
              "      display:flex;\n",
              "      flex-wrap:wrap;\n",
              "      gap: 12px;\n",
              "    }\n",
              "\n",
              "    .colab-df-convert {\n",
              "      background-color: #E8F0FE;\n",
              "      border: none;\n",
              "      border-radius: 50%;\n",
              "      cursor: pointer;\n",
              "      display: none;\n",
              "      fill: #1967D2;\n",
              "      height: 32px;\n",
              "      padding: 0 0 0 0;\n",
              "      width: 32px;\n",
              "    }\n",
              "\n",
              "    .colab-df-convert:hover {\n",
              "      background-color: #E2EBFA;\n",
              "      box-shadow: 0px 1px 2px rgba(60, 64, 67, 0.3), 0px 1px 3px 1px rgba(60, 64, 67, 0.15);\n",
              "      fill: #174EA6;\n",
              "    }\n",
              "\n",
              "    [theme=dark] .colab-df-convert {\n",
              "      background-color: #3B4455;\n",
              "      fill: #D2E3FC;\n",
              "    }\n",
              "\n",
              "    [theme=dark] .colab-df-convert:hover {\n",
              "      background-color: #434B5C;\n",
              "      box-shadow: 0px 1px 3px 1px rgba(0, 0, 0, 0.15);\n",
              "      filter: drop-shadow(0px 1px 2px rgba(0, 0, 0, 0.3));\n",
              "      fill: #FFFFFF;\n",
              "    }\n",
              "  </style>\n",
              "\n",
              "      <script>\n",
              "        const buttonEl =\n",
              "          document.querySelector('#df-c97541fc-6c92-479d-b06f-11b8fef8a6bd button.colab-df-convert');\n",
              "        buttonEl.style.display =\n",
              "          google.colab.kernel.accessAllowed ? 'block' : 'none';\n",
              "\n",
              "        async function convertToInteractive(key) {\n",
              "          const element = document.querySelector('#df-c97541fc-6c92-479d-b06f-11b8fef8a6bd');\n",
              "          const dataTable =\n",
              "            await google.colab.kernel.invokeFunction('convertToInteractive',\n",
              "                                                     [key], {});\n",
              "          if (!dataTable) return;\n",
              "\n",
              "          const docLinkHtml = 'Like what you see? Visit the ' +\n",
              "            '<a target=\"_blank\" href=https://colab.research.google.com/notebooks/data_table.ipynb>data table notebook</a>'\n",
              "            + ' to learn more about interactive tables.';\n",
              "          element.innerHTML = '';\n",
              "          dataTable['output_type'] = 'display_data';\n",
              "          await google.colab.output.renderOutput(dataTable, element);\n",
              "          const docLink = document.createElement('div');\n",
              "          docLink.innerHTML = docLinkHtml;\n",
              "          element.appendChild(docLink);\n",
              "        }\n",
              "      </script>\n",
              "    </div>\n",
              "  </div>\n",
              "  "
            ]
          },
          "metadata": {},
          "execution_count": 6
        }
      ]
    },
    {
      "cell_type": "markdown",
      "source": [
        "#### DataFrame -> csv"
      ],
      "metadata": {
        "id": "P_h8bJ43FzF3"
      }
    },
    {
      "cell_type": "code",
      "source": [
        "category.to_csv('./category.csv', sep=',') # csv파일 만들기"
      ],
      "metadata": {
        "id": "Pkw5Ar5RE9Ed"
      },
      "execution_count": null,
      "outputs": []
    },
    {
      "cell_type": "markdown",
      "source": [
        "#### DataFrame -> json"
      ],
      "metadata": {
        "id": "mX-mguzGG1Ai"
      }
    },
    {
      "cell_type": "code",
      "source": [
        "import json\n",
        "\n",
        "# df -> json\n",
        "json_data = category.to_json() \n",
        "\n",
        "# json파일 만들기\n",
        "with open('category.json', 'w') as js:\n",
        "    json.dump(json_data, js)"
      ],
      "metadata": {
        "id": "5MOCuhRdF6c1"
      },
      "execution_count": null,
      "outputs": []
    },
    {
      "cell_type": "markdown",
      "source": [
        "#### DataFrame -> db파일"
      ],
      "metadata": {
        "id": "aoOvrGQVH8Gq"
      }
    },
    {
      "cell_type": "code",
      "source": [
        "import sqlite3\n",
        "\n",
        "conn = sqlite3.connect('category.db')\n",
        "cur = conn.cursor()\n",
        "\n",
        "cur.execute('DROP TABLE IF EXISTS LIST')\n",
        "cur.execute('''CREATE TABLE LIST(\n",
        "    이름 VARCHAR(50),\n",
        "    평점 INT,\n",
        "    종류 VARCHAR(50))\n",
        "    ''')\n",
        "\n",
        "for i in range(len(category)):\n",
        "    cur.execute('INSERT INTO LIST (이름, 평점, 종류) VALUES (?, ?, ?)', (category.loc[i][0], category.loc[i][1], category.loc[i][2]))\n",
        "    \n",
        "conn.commit()\n",
        "conn.close()"
      ],
      "metadata": {
        "id": "iW8w7VrUHmBr"
      },
      "execution_count": null,
      "outputs": []
    },
    {
      "cell_type": "markdown",
      "source": [
        "## 모델훈련, 피클링"
      ],
      "metadata": {
        "id": "Jw94C2ojyuCf"
      }
    },
    {
      "cell_type": "markdown",
      "source": [
        "#### 모델훈련"
      ],
      "metadata": {
        "id": "oSemsmtIPMak"
      }
    },
    {
      "cell_type": "code",
      "source": [
        "pip install category_encoders"
      ],
      "metadata": {
        "id": "IFxUMgwoYGAR",
        "colab": {
          "base_uri": "https://localhost:8080/"
        },
        "outputId": "7e3e6a53-80ba-4385-cb52-4b9e1ece98c9"
      },
      "execution_count": null,
      "outputs": [
        {
          "output_type": "stream",
          "name": "stdout",
          "text": [
            "Looking in indexes: https://pypi.org/simple, https://us-python.pkg.dev/colab-wheels/public/simple/\n",
            "Collecting category_encoders\n",
            "  Downloading category_encoders-2.5.1.post0-py2.py3-none-any.whl (72 kB)\n",
            "\u001b[K     |████████████████████████████████| 72 kB 481 kB/s \n",
            "\u001b[?25hRequirement already satisfied: scikit-learn>=0.20.0 in /usr/local/lib/python3.7/dist-packages (from category_encoders) (1.0.2)\n",
            "Requirement already satisfied: pandas>=1.0.5 in /usr/local/lib/python3.7/dist-packages (from category_encoders) (1.3.5)\n",
            "Requirement already satisfied: patsy>=0.5.1 in /usr/local/lib/python3.7/dist-packages (from category_encoders) (0.5.3)\n",
            "Requirement already satisfied: scipy>=1.0.0 in /usr/local/lib/python3.7/dist-packages (from category_encoders) (1.7.3)\n",
            "Requirement already satisfied: statsmodels>=0.9.0 in /usr/local/lib/python3.7/dist-packages (from category_encoders) (0.12.2)\n",
            "Requirement already satisfied: numpy>=1.14.0 in /usr/local/lib/python3.7/dist-packages (from category_encoders) (1.21.6)\n",
            "Requirement already satisfied: python-dateutil>=2.7.3 in /usr/local/lib/python3.7/dist-packages (from pandas>=1.0.5->category_encoders) (2.8.2)\n",
            "Requirement already satisfied: pytz>=2017.3 in /usr/local/lib/python3.7/dist-packages (from pandas>=1.0.5->category_encoders) (2022.5)\n",
            "Requirement already satisfied: six in /usr/local/lib/python3.7/dist-packages (from patsy>=0.5.1->category_encoders) (1.15.0)\n",
            "Requirement already satisfied: joblib>=0.11 in /usr/local/lib/python3.7/dist-packages (from scikit-learn>=0.20.0->category_encoders) (1.2.0)\n",
            "Requirement already satisfied: threadpoolctl>=2.0.0 in /usr/local/lib/python3.7/dist-packages (from scikit-learn>=0.20.0->category_encoders) (3.1.0)\n",
            "Installing collected packages: category-encoders\n",
            "Successfully installed category-encoders-2.5.1.post0\n"
          ]
        }
      ]
    },
    {
      "cell_type": "code",
      "source": [
        "from xgboost import XGBClassifier\n",
        "from sklearn.model_selection import train_test_split\n",
        "from sklearn.pipeline import make_pipeline\n",
        "from category_encoders import OrdinalEncoder\n",
        "from sklearn.metrics import classification_report\n",
        "import pickle\n",
        "import csv\n",
        "from sklearn.preprocessing import LabelEncoder\n",
        "\n",
        "X = category['종류']\n",
        "y = category['평점']\n",
        "\n",
        "X_train, X_test, y_train, y_test = train_test_split(X, y, test_size=0.2, random_state=1)\n",
        "\n",
        "pipe = make_pipeline(\n",
        "    OrdinalEncoder(),\n",
        "    XGBClassifier(\n",
        "        objective=\"binary:logistic\",\n",
        "        eval_metric=\"error\",  # error = 1 - accuracy 지표를 사용해 평가합니다.\n",
        "        n_estimators=200,\n",
        "        random_state=42,\n",
        "        n_jobs=-1,\n",
        "        max_depth=7,\n",
        "        learning_rate=0.1,\n",
        "    ),)\n",
        "\n",
        "le = LabelEncoder()\n",
        "y_train = le.fit_transform(y_train)\n",
        "y_test = le.fit_transform(y_test)\n",
        "\n",
        "# 컬럼 불일치 에러 발생하여 필요한 데이터 예측이 안됨(ValueError: feature_names mismatch:) \n",
        "# df => numpy 변경하면 가능해짐\n",
        "X_train = X_train.to_numpy()\n",
        "X_test = X_test.values\n",
        "\n",
        "pipe.fit(X_train, y_train)\n",
        "y_pred = pipe.predict(X_test)\n",
        "\n",
        "print(classification_report(y_test, y_pred))"
      ],
      "metadata": {
        "id": "d7M_JvKIYCgG",
        "colab": {
          "base_uri": "https://localhost:8080/"
        },
        "outputId": "868e3a10-8111-4641-aaae-490a01068853"
      },
      "execution_count": null,
      "outputs": [
        {
          "output_type": "stream",
          "name": "stdout",
          "text": [
            "              precision    recall  f1-score   support\n",
            "\n",
            "           0       0.23      0.20      0.22        55\n",
            "           1       0.17      0.30      0.22        47\n",
            "           2       0.12      0.29      0.17        41\n",
            "           3       0.12      0.05      0.07        44\n",
            "           4       0.00      0.00      0.00        60\n",
            "\n",
            "    accuracy                           0.16       247\n",
            "   macro avg       0.13      0.17      0.13       247\n",
            "weighted avg       0.13      0.16      0.13       247\n",
            "\n"
          ]
        },
        {
          "output_type": "stream",
          "name": "stderr",
          "text": [
            "/usr/local/lib/python3.7/dist-packages/sklearn/metrics/_classification.py:1318: UndefinedMetricWarning: Precision and F-score are ill-defined and being set to 0.0 in labels with no predicted samples. Use `zero_division` parameter to control this behavior.\n",
            "  _warn_prf(average, modifier, msg_start, len(result))\n",
            "/usr/local/lib/python3.7/dist-packages/sklearn/metrics/_classification.py:1318: UndefinedMetricWarning: Precision and F-score are ill-defined and being set to 0.0 in labels with no predicted samples. Use `zero_division` parameter to control this behavior.\n",
            "  _warn_prf(average, modifier, msg_start, len(result))\n",
            "/usr/local/lib/python3.7/dist-packages/sklearn/metrics/_classification.py:1318: UndefinedMetricWarning: Precision and F-score are ill-defined and being set to 0.0 in labels with no predicted samples. Use `zero_division` parameter to control this behavior.\n",
            "  _warn_prf(average, modifier, msg_start, len(result))\n"
          ]
        }
      ]
    },
    {
      "cell_type": "code",
      "source": [
        "# 카테고리 3번(X_example)을 골랐을 때 평점 1점을 예측\n",
        "X_example = [[0]]\n",
        "print(f\"리뷰점수 : {pipe.predict(X_example)}\")"
      ],
      "metadata": {
        "colab": {
          "base_uri": "https://localhost:8080/"
        },
        "id": "tZf5mBzsgz2G",
        "outputId": "7255c913-3094-4674-b321-ad4b3986c6fb"
      },
      "execution_count": null,
      "outputs": [
        {
          "output_type": "stream",
          "name": "stdout",
          "text": [
            "리뷰점수 : [2]\n"
          ]
        }
      ]
    },
    {
      "cell_type": "markdown",
      "source": [
        "#### 머신러닝모델 -> 피클링"
      ],
      "metadata": {
        "id": "eZqFEgGWK_5h"
      }
    },
    {
      "cell_type": "code",
      "source": [
        "# 카테고리 피클 생성\n",
        "import pickle\n",
        "\n",
        "with open('category.pkl', 'wb') as pic:\n",
        "    pickle.dump(pipe, pic)\n",
        "\n",
        "# pickle.dump(pipe, open('category.pkl', 'wb'))"
      ],
      "metadata": {
        "id": "uvP-FpzFLFWn"
      },
      "execution_count": null,
      "outputs": []
    },
    {
      "cell_type": "code",
      "source": [
        "# 카테고리 피클 열어서 model에 지정\n",
        "with open('category.pkl', 'rb') as pic:\n",
        "    model = pickle.load(pic)\n",
        "    \n",
        "# model = pickle.load(open('category.pkl', 'rb'))"
      ],
      "metadata": {
        "id": "2ob_pppeODb6"
      },
      "execution_count": null,
      "outputs": []
    },
    {
      "cell_type": "code",
      "source": [
        "# 피클 모델로 예측\n",
        "model.predict([4])"
      ],
      "metadata": {
        "colab": {
          "base_uri": "https://localhost:8080/"
        },
        "id": "4p64f89yOSJ_",
        "outputId": "b164fde2-17e5-4887-9be1-00cc1e05d981"
      },
      "execution_count": null,
      "outputs": [
        {
          "output_type": "execute_result",
          "data": {
            "text/plain": [
              "array([2])"
            ]
          },
          "metadata": {},
          "execution_count": 15
        }
      ]
    },
    {
      "cell_type": "markdown",
      "source": [
        "## FLASK, HEROKU"
      ],
      "metadata": {
        "id": "x5N3Fnyw0pvK"
      }
    },
    {
      "cell_type": "markdown",
      "source": [
        "#### 플라스크 "
      ],
      "metadata": {
        "id": "mzDAigkpQlD2"
      }
    },
    {
      "cell_type": "code",
      "source": [
        "from flask import Flask, render_template, request\n",
        "import pickle\n",
        "import numpy as np\n",
        "import os\n",
        "import json\n",
        "\n",
        "ca_json = os.path.join(os.getcwd(), 'category.json')\n",
        "ca_model= os.path.join(os.getcwd(), 'category.pkl')\n",
        "\n",
        "\n",
        "def create_app():\n",
        "    app = Flask(__name__)\n",
        "\n",
        "    from app.routes import bp1 # from(app폴더.routes폴더) import bp파일\n",
        "    app.register_blueprint(bp1.mbp1) # bp파일.bp변수\n",
        "    \n",
        "    @app.route('/')\n",
        "    def main():\n",
        "        return '안녕하세요'\n",
        "\n",
        "    @app.route('/json')\n",
        "    def json_data():\n",
        "        json_file = json.load(open(ca_json, 'r'))\n",
        "\n",
        "        return json_file\n",
        "\n",
        "    @app.route('/model')\n",
        "    def model_data():\n",
        "        model = pickle.load(open(ca_model, 'rb'))\n",
        "        return model\n",
        "\n",
        "    @app.route('/html')\n",
        "    def index():\n",
        "        pic = pickle.load(open(ca_model, 'rb')) # 모델 예측               \n",
        "        return render_template('index.html', pic=pic) # app폴더안의 templates폴더에 html파일\n",
        "                                             # app폴더안의 main폴더에 있다면 'main/index.html'\n"
      ],
      "metadata": {
        "id": "QdyaLMJwhDlb"
      },
      "execution_count": null,
      "outputs": []
    },
    {
      "cell_type": "code",
      "source": [
        "# from google.colab import files\n",
        "# uploaded = files.upload()"
      ],
      "metadata": {
        "id": "kMrFis0cSumG"
      },
      "execution_count": null,
      "outputs": []
    }
  ]
}