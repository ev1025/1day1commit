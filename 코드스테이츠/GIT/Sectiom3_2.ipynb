{
  "nbformat": 4,
  "nbformat_minor": 0,
  "metadata": {
    "colab": {
      "provenance": [],
      "collapsed_sections": [],
      "authorship_tag": "ABX9TyN4Ab5QipH8V+vGIrx4YiYr",
      "include_colab_link": true
    },
    "kernelspec": {
      "name": "python3",
      "display_name": "Python 3"
    },
    "language_info": {
      "name": "python"
    }
  },
  "cells": [
    {
      "cell_type": "markdown",
      "metadata": {
        "id": "view-in-github",
        "colab_type": "text"
      },
      "source": [
        "<a href=\"https://colab.research.google.com/github/ev1025/1day1commit/blob/main/%EC%BD%94%EB%93%9C%EC%8A%A4%ED%85%8C%EC%9D%B4%EC%B8%A0/GIT/Sectiom3_2.ipynb\" target=\"_parent\"><img src=\"https://colab.research.google.com/assets/colab-badge.svg\" alt=\"Open In Colab\"/></a>"
      ]
    },
    {
      "cell_type": "markdown",
      "source": [
        "## N321 - 디버깅,  Class"
      ],
      "metadata": {
        "id": "wrylmGkLJcrj"
      }
    },
    {
      "cell_type": "markdown",
      "source": [
        "### 디버깅, 함수"
      ],
      "metadata": {
        "id": "o-Vh0vZaRGb3"
      }
    },
    {
      "cell_type": "markdown",
      "source": [
        "- 공식문서 : https://docs.python.org/3/library/pdb.html (3.7버전 이후 화면 한글로 변경가능)\n",
        "- c(continue) : 다음 breackpoint로 이동\n",
        "- l(list) : 주변 11줄 코드 출력\n",
        "- s(step) : 다음 문장 실행 (함수일 때는 함수 내부로 들어가서 하나씩 실행)\n",
        "- n(next) : 다음 문장 실행 (함수 내부로 들어가지 않고 바로 return값 받음)\n",
        "- 현재 커서 row는 debug.py(n)에 표현됨\n"
      ],
      "metadata": {
        "id": "LoQQkfujK48k"
      }
    },
    {
      "cell_type": "markdown",
      "source": [
        "![캡처.JPG](data:image/jpeg;base64,/9j/4AAQSkZJRgABAQEAYABgAAD/4RDmRXhpZgAATU0AKgAAAAgABQESAAMAAAABAAEAAAE7AAIAAAAFAAAIVodpAAQAAAABAAAIXJydAAEAAAAKAAAQ1OocAAcAAAgMAAAASgAAAAAc6gAAAAgAAAAAAAAAAAAAAAAAAAAAAAAAAAAAAAAAAAAAAAAAAAAAAAAAAAAAAAAAAAAAAAAAAAAAAAAAAAAAAAAAAAAAAAAAAAAAAAAAAAAAAAAAAAAAAAAAAAAAAAAAAAAAAAAAAAAAAAAAAAAAAAAAAAAAAAAAAAAAAAAAAAAAAAAAAAAAAAAAAAAAAAAAAAAAAAAAAAAAAAAAAAAAAAAAAAAAAAAAAAAAAAAAAAAAAAAAAAAAAAAAAAAAAAAAAAAAAAAAAAAAAAAAAAAAAAAAAAAAAAAAAAAAAAAAAAAAAAAAAAAAAAAAAAAAAAAAAAAAAAAAAAAAAAAAAAAAAAAAAAAAAAAAAAAAAAAAAAAAAAAAAAAAAAAAAAAAAAAAAAAAAAAAAAAAAAAAAAAAAAAAAAAAAAAAAAAAAAAAAAAAAAAAAAAAAAAAAAAAAAAAAAAAAAAAAAAAAAAAAAAAAAAAAAAAAAAAAAAAAAAAAAAAAAAAAAAAAAAAAAAAAAAAAAAAAAAAAAAAAAAAAAAAAAAAAAAAAAAAAAAAAAAAAAAAAAAAAAAAAAAAAAAAAAAAAAAAAAAAAAAAAAAAAAAAAAAAAAAAAAAAAAAAAAAAAAAAAAAAAAAAAAAAAAAAAAAAAAAAAAAAAAAAAAAAAAAAAAAAAAAAAAAAAAAAAAAAAAAAAAAAAAAAAAAAAAAAAAAAAAAAAAAAAAAAAAAAAAAAAAAAAAAAAAAAAAAAAAAAAAAAAAAAAAAAAAAAAAAAAAAAAAAAAAAAAAAAAAAAAAAAAAAAAAAAAAAAAAAAAAAAAAAAAAAAAAAAAAAAAAAAAAAAAAAAAAAAAAAAAAAAAAAAAAAAAAAAAAAAAAAAAAAAAAAAAAAAAAAAAAAAAAAAAAAAAAAAAAAAAAAAAAAAAAAAAAAAAAAAAAAAAAAAAAAAAAAAAAAAAAAAAAAAAAAAAAAAAAAAAAAAAAAAAAAAAAAAAAAAAAAAAAAAAAAAAAAAAAAAAAAAAAAAAAAAAAAAAAAAAAAAAAAAAAAAAAAAAAAAAAAAAAAAAAAAAAAAAAAAAAAAAAAAAAAAAAAAAAAAAAAAAAAAAAAAAAAAAAAAAAAAAAAAAAAAAAAAAAAAAAAAAAAAAAAAAAAAAAAAAAAAAAAAAAAAAAAAAAAAAAAAAAAAAAAAAAAAAAAAAAAAAAAAAAAAAAAAAAAAAAAAAAAAAAAAAAAAAAAAAAAAAAAAAAAAAAAAAAAAAAAAAAAAAAAAAAAAAAAAAAAAAAAAAAAAAAAAAAAAAAAAAAAAAAAAAAAAAAAAAAAAAAAAAAAAAAAAAAAAAAAAAAAAAAAAAAAAAAAAAAAAAAAAAAAAAAAAAAAAAAAAAAAAAAAAAAAAAAAAAAAAAAAAAAAAAAAAAAAAAAAAAAAAAAAAAAAAAAAAAAAAAAAAAAAAAAAAAAAAAAAAAAAAAAAAAAAAAAAAAAAAAAAAAAAAAAAAAAAAAAAAAAAAAAAAAAAAAAAAAAAAAAAAAAAAAAAAAAAAAAAAAAAAAAAAAAAAAAAAAAAAAAAAAAAAAAAAAAAAAAAAAAAAAAAAAAAAAAAAAAAAAAAAAAAAAAAAAAAAAAAAAAAAAAAAAAAAAAAAAAAAAAAAAAAAAAAAAAAAAAAAAAAAAAAAAAAAAAAAAAAAAAAAAAAAAAAAAAAAAAAAAAAAAAAAAAAAAAAAAAAAAAAAAAAAAAAAAAAAAAAAAAAAAAAAAAAAAAAAAAAAAAAAAAAAAAAAAAAAAAAAAAAAAAAAAAAAAAAAAAAAAAAAAAAAAAAAAAAAAAAAAAAAAAAAAAAAAAAAAAAAAAAAAAAAAAAAAAAAAAAAAAAAAAAAAAAAAAAAAAAAAAAAAAAAAAAAAAAAAAAAAAAAAAAAAAAAAAAAAAAAAAAAAAAAAAAAAAAAAAAAAAAAAAAAAAAAAAAAAAAAAAAAAAAAAAAAAAAAAAAAAAAAAAAAAAAAAAAAAAAAAAAAAAAAAAAAAAAAAAAAAAAAAAAAAAAAAAAAAAAAAAAAAAAAAAAAAAAAAAAAAAAAAAAAAAAAAAAAAAAAAAAAAAAAAAAAAAAAAAAAAAAAAAAAAAAAAAAAAAAAAAAAAAAAAAAAAAAAAAAAAAAAAAAAAAAAAAAAAAAAAAAAAAAAAAAAAAAAAAAAAAAAAAAAAAAAAAAAAAAAAAAAAAAAAAAAAAAAAAAAAAAAAAAAAAAAAAAAAAAAAAAAAAAAAAAAAAAAAAAAAAAAAAAAAAAAAAAAAAAAAAAAAAAAAAAAAAAAAAAAAAAAAAAAAAAAAAAAAAAAAAAAAAAAAAAAAAAAAAAAAAAAAAAAAAAAAAAAAAAAAAAAAAAAAAAAAAAAAAAAAAAAAAAAAAAAAAAAAAAAAAAAAAAAAAAAAAAAAAAAAAAAAAAAAAAAAAAAAAAAAAAAAAAAAAAAAAAAAAAAAAAAAAAAAAAAAAAAAAAAAAAAAAAAAAAAAAAAAAAAAAAAAAAAAAAAAAAAAAAAAAAAAAAAAAAAAAAAAAAAAAAAAAAAAAAAAAAAAAAAAAAAAAAAAAAAAAAAAAAAAAAAAAAAAAAAAAAAAAAAAAAAAAAAAAAAAAAAAAAAAAAAAAAAAAAAAAAAAAAAAAAAAAAAAAAAAAAAAAAAAAAAAAAAAAAAAAAAAAAAAAAAAAAAAAAAAAAAAAAAAAAAAAAAAAAAAAAAAAAAAAAAAAAAAAAAAAAAAAAAAAAAAAAAAAAAAAAAAGVudnkAAAAFkAMAAgAAABQAABCqkAQAAgAAABQAABC+kpEAAgAAAAMyMgAAkpIAAgAAAAMyMgAA6hwABwAACAwAAAieAAAAABzqAAAACAAAAAAAAAAAAAAAAAAAAAAAAAAAAAAAAAAAAAAAAAAAAAAAAAAAAAAAAAAAAAAAAAAAAAAAAAAAAAAAAAAAAAAAAAAAAAAAAAAAAAAAAAAAAAAAAAAAAAAAAAAAAAAAAAAAAAAAAAAAAAAAAAAAAAAAAAAAAAAAAAAAAAAAAAAAAAAAAAAAAAAAAAAAAAAAAAAAAAAAAAAAAAAAAAAAAAAAAAAAAAAAAAAAAAAAAAAAAAAAAAAAAAAAAAAAAAAAAAAAAAAAAAAAAAAAAAAAAAAAAAAAAAAAAAAAAAAAAAAAAAAAAAAAAAAAAAAAAAAAAAAAAAAAAAAAAAAAAAAAAAAAAAAAAAAAAAAAAAAAAAAAAAAAAAAAAAAAAAAAAAAAAAAAAAAAAAAAAAAAAAAAAAAAAAAAAAAAAAAAAAAAAAAAAAAAAAAAAAAAAAAAAAAAAAAAAAAAAAAAAAAAAAAAAAAAAAAAAAAAAAAAAAAAAAAAAAAAAAAAAAAAAAAAAAAAAAAAAAAAAAAAAAAAAAAAAAAAAAAAAAAAAAAAAAAAAAAAAAAAAAAAAAAAAAAAAAAAAAAAAAAAAAAAAAAAAAAAAAAAAAAAAAAAAAAAAAAAAAAAAAAAAAAAAAAAAAAAAAAAAAAAAAAAAAAAAAAAAAAAAAAAAAAAAAAAAAAAAAAAAAAAAAAAAAAAAAAAAAAAAAAAAAAAAAAAAAAAAAAAAAAAAAAAAAAAAAAAAAAAAAAAAAAAAAAAAAAAAAAAAAAAAAAAAAAAAAAAAAAAAAAAAAAAAAAAAAAAAAAAAAAAAAAAAAAAAAAAAAAAAAAAAAAAAAAAAAAAAAAAAAAAAAAAAAAAAAAAAAAAAAAAAAAAAAAAAAAAAAAAAAAAAAAAAAAAAAAAAAAAAAAAAAAAAAAAAAAAAAAAAAAAAAAAAAAAAAAAAAAAAAAAAAAAAAAAAAAAAAAAAAAAAAAAAAAAAAAAAAAAAAAAAAAAAAAAAAAAAAAAAAAAAAAAAAAAAAAAAAAAAAAAAAAAAAAAAAAAAAAAAAAAAAAAAAAAAAAAAAAAAAAAAAAAAAAAAAAAAAAAAAAAAAAAAAAAAAAAAAAAAAAAAAAAAAAAAAAAAAAAAAAAAAAAAAAAAAAAAAAAAAAAAAAAAAAAAAAAAAAAAAAAAAAAAAAAAAAAAAAAAAAAAAAAAAAAAAAAAAAAAAAAAAAAAAAAAAAAAAAAAAAAAAAAAAAAAAAAAAAAAAAAAAAAAAAAAAAAAAAAAAAAAAAAAAAAAAAAAAAAAAAAAAAAAAAAAAAAAAAAAAAAAAAAAAAAAAAAAAAAAAAAAAAAAAAAAAAAAAAAAAAAAAAAAAAAAAAAAAAAAAAAAAAAAAAAAAAAAAAAAAAAAAAAAAAAAAAAAAAAAAAAAAAAAAAAAAAAAAAAAAAAAAAAAAAAAAAAAAAAAAAAAAAAAAAAAAAAAAAAAAAAAAAAAAAAAAAAAAAAAAAAAAAAAAAAAAAAAAAAAAAAAAAAAAAAAAAAAAAAAAAAAAAAAAAAAAAAAAAAAAAAAAAAAAAAAAAAAAAAAAAAAAAAAAAAAAAAAAAAAAAAAAAAAAAAAAAAAAAAAAAAAAAAAAAAAAAAAAAAAAAAAAAAAAAAAAAAAAAAAAAAAAAAAAAAAAAAAAAAAAAAAAAAAAAAAAAAAAAAAAAAAAAAAAAAAAAAAAAAAAAAAAAAAAAAAAAAAAAAAAAAAAAAAAAAAAAAAAAAAAAAAAAAAAAAAAAAAAAAAAAAAAAAAAAAAAAAAAAAAAAAAAAAAAAAAAAAAAAAAAAAAAAAAAAAAAAAAAAAAAAAAAAAAAAAAAAAAAAAAAAAAAAAAAAAAAAAAAAAAAAAAAAAAAAAAAAAAAAAAAAAAAAAAAAAAAAAAAAAAAAAAAAAAAAAAAAAAAAAAAAAAAAAAAAAAAAAAAAAAAAAAAAAAAAAAAAAAAAAAAAAAAAAAAAAAAAAAAAAAAAAAAAAAAAAAAAAAAAAAAAAAAAAAAAAAAAAAAAAAAAAAAAAAAAAAAAAAAAAAAAAAAAAAAAAAAAAAAAAAAAAAAAAAAAAAAAAAAAAAAAAAAAAAAAAAAAAAAAAAAAAAAAAAAAAAAAAAAAAAAAAAAAAAAAAAAAAAAAAAAAAAAAAAAAAAAAAAAAAAAAAAAAAAAAAAAAAAAAAAAAAAAAAAAAAAAAAAAAAAAAAAAAAAAAAAAAAAAAAAAAAAAAAAAAAAAAAAAAAAAAAAAAAAAAAAAAAAAAAAAAAAAAAAAAAAAAAAAAAAAAAAAAAAAAAAAAAAAAAAAAAAAAAAAAAAAAAAAAAAAAAAAAAAAAAAAAAAAAAAAAAAAAAAAAAAAAAAAAAAAAAAAAAAAAAAAAAAAAAAAAAAAAAAAAAAAAAAAAAAAAAAAAAAAAAAAAAAAAAAAAAAAAAAAAAAAAAAAAAAAAAAAAAAAAAAAAAAAAAAAAAAAAAAAAAAAAAAAAAAAAAAAAAAAAAAAAAAAAAAAAAAAAAAAAAAAAAAAAAAAAAAAAAAAAAAAAAAAAAAAAAAAAAAAAAAAAAAAAAAAAAAAAAAAAAAAAAAAAAAAAAAAAAAAAAAAAAAAAAAAAAAAAAAAAAAAAAAAAAAAAAAAAAAAAAAAAAAAAAAAAAAAAAAAAAAAAAAAAAAAAAAAAAAAAAAAAAAAAAAAAAAAAAAAAAAAAAAAAAAAAAAAAAAAAAAAAAAAAAAAAAAAAAAAAAAAAAAAAAMjAyMjoxMDoyMiAxOToxODozNgAyMDIyOjEwOjIyIDE5OjE4OjM2AAAAZQBuAHYAeQAAAP/hCxdodHRwOi8vbnMuYWRvYmUuY29tL3hhcC8xLjAvADw/eHBhY2tldCBiZWdpbj0n77u/JyBpZD0nVzVNME1wQ2VoaUh6cmVTek5UY3prYzlkJz8+DQo8eDp4bXBtZXRhIHhtbG5zOng9ImFkb2JlOm5zOm1ldGEvIj48cmRmOlJERiB4bWxuczpyZGY9Imh0dHA6Ly93d3cudzMub3JnLzE5OTkvMDIvMjItcmRmLXN5bnRheC1ucyMiPjxyZGY6RGVzY3JpcHRpb24gcmRmOmFib3V0PSJ1dWlkOmZhZjViZGQ1LWJhM2QtMTFkYS1hZDMxLWQzM2Q3NTE4MmYxYiIgeG1sbnM6ZGM9Imh0dHA6Ly9wdXJsLm9yZy9kYy9lbGVtZW50cy8xLjEvIi8+PHJkZjpEZXNjcmlwdGlvbiByZGY6YWJvdXQ9InV1aWQ6ZmFmNWJkZDUtYmEzZC0xMWRhLWFkMzEtZDMzZDc1MTgyZjFiIiB4bWxuczp4bXA9Imh0dHA6Ly9ucy5hZG9iZS5jb20veGFwLzEuMC8iPjx4bXA6Q3JlYXRlRGF0ZT4yMDIyLTEwLTIyVDE5OjE4OjM2LjIyMjwveG1wOkNyZWF0ZURhdGU+PC9yZGY6RGVzY3JpcHRpb24+PHJkZjpEZXNjcmlwdGlvbiByZGY6YWJvdXQ9InV1aWQ6ZmFmNWJkZDUtYmEzZC0xMWRhLWFkMzEtZDMzZDc1MTgyZjFiIiB4bWxuczpkYz0iaHR0cDovL3B1cmwub3JnL2RjL2VsZW1lbnRzLzEuMS8iPjxkYzpjcmVhdG9yPjxyZGY6U2VxIHhtbG5zOnJkZj0iaHR0cDovL3d3dy53My5vcmcvMTk5OS8wMi8yMi1yZGYtc3ludGF4LW5zIyI+PHJkZjpsaT5lbnZ5PC9yZGY6bGk+PC9yZGY6U2VxPg0KCQkJPC9kYzpjcmVhdG9yPjwvcmRmOkRlc2NyaXB0aW9uPjwvcmRmOlJERj48L3g6eG1wbWV0YT4NCiAgICAgICAgICAgICAgICAgICAgICAgICAgICAgICAgICAgICAgICAgICAgICAgICAgICAgICAgICAgICAgICAgICAgICAgICAgICAgICAgICAgICAgICAgICAgICAgICAgICAKICAgICAgICAgICAgICAgICAgICAgICAgICAgICAgICAgICAgICAgICAgICAgICAgICAgICAgICAgICAgICAgICAgICAgICAgICAgICAgICAgICAgICAgICAgICAgICAgICAgIAogICAgICAgICAgICAgICAgICAgICAgICAgICAgICAgICAgICAgICAgICAgICAgICAgICAgICAgICAgICAgICAgICAgICAgICAgICAgICAgICAgICAgICAgICAgICAgICAgICAgCiAgICAgICAgICAgICAgICAgICAgICAgICAgICAgICAgICAgICAgICAgICAgICAgICAgICAgICAgICAgICAgICAgICAgICAgICAgICAgICAgICAgICAgICAgICAgICAgICAgICAKICAgICAgICAgICAgICAgICAgICAgICAgICAgICAgICAgICAgICAgICAgICAgICAgICAgICAgICAgICAgICAgICAgICAgICAgICAgICAgICAgICAgICAgICAgICAgICAgICAgIAogICAgICAgICAgICAgICAgICAgICAgICAgICAgICAgICAgICAgICAgICAgICAgICAgICAgICAgICAgICAgICAgICAgICAgICAgICAgICAgICAgICAgICAgICAgICAgICAgICAgCiAgICAgICAgICAgICAgICAgICAgICAgICAgICAgICAgICAgICAgICAgICAgICAgICAgICAgICAgICAgICAgICAgICAgICAgICAgICAgICAgICAgICAgICAgICAgICAgICAgICAKICAgICAgICAgICAgICAgICAgICAgICAgICAgICAgICAgICAgICAgICAgICAgICAgICAgICAgICAgICAgICAgICAgICAgICAgICAgICAgICAgICAgICAgICAgICAgICAgICAgIAogICAgICAgICAgICAgICAgICAgICAgICAgICAgICAgICAgICAgICAgICAgICAgICAgICAgICAgICAgICAgICAgICAgICAgICAgICAgICAgICAgICAgICAgICAgICAgICAgICAgCiAgICAgICAgICAgICAgICAgICAgICAgICAgICAgICAgICAgICAgICAgICAgICAgICAgICAgICAgICAgICAgICAgICAgICAgICAgICAgICAgICAgICAgICAgICAgICAgICAgICAKICAgICAgICAgICAgICAgICAgICAgICAgICAgICAgICAgICAgICAgICAgICAgICAgICAgICAgICAgICAgICAgICAgICAgICAgICAgICAgICAgICAgICAgICAgICAgICAgICAgIAogICAgICAgICAgICAgICAgICAgICAgICAgICAgICAgICAgICAgICAgICAgICAgICAgICAgICAgICAgICAgICAgICAgICAgICAgICAgICAgICAgICAgICAgICAgICAgICAgICAgCiAgICAgICAgICAgICAgICAgICAgICAgICAgICAgICAgICAgICAgICAgICAgICAgICAgICAgICAgICAgICAgICAgICAgICAgICAgICAgICAgICAgICAgICAgICAgICAgICAgICAKICAgICAgICAgICAgICAgICAgICAgICAgICAgICAgICAgICAgICAgICAgICAgICAgICAgICAgICAgICAgICAgICAgICAgICAgICAgICAgICAgICAgICAgICAgICAgICAgICAgIAogICAgICAgICAgICAgICAgICAgICAgICAgICAgICAgICAgICAgICAgICAgICAgICAgICAgICAgICAgICAgICAgICAgICAgICAgICAgICAgICAgICAgICAgICAgICAgICAgICAgCiAgICAgICAgICAgICAgICAgICAgICAgICAgICAgICAgICAgICAgICAgICAgICAgICAgICAgICAgICAgICAgICAgICAgICAgICAgICAgICAgICAgICAgICAgICAgICAgICAgICAKICAgICAgICAgICAgICAgICAgICAgICAgICAgICAgICAgICAgICAgICAgICAgICAgICAgICAgICAgICAgICAgICAgICAgICAgICAgICAgICAgICAgICAgICAgICAgICAgICAgIAogICAgICAgICAgICAgICAgICAgICAgICAgICAgICAgICAgICAgICAgICAgICAgICAgICAgICAgICAgICAgICAgICAgICAgICAgICAgICAgICAgICAgICAgICAgICAgICAgICAgCiAgICAgICAgICAgICAgICAgICAgICAgICAgICAgICAgICAgICAgICAgICAgICAgICAgICAgICAgICAgICAgICAgICAgICAgICAgICAgICAgICAgICAgICAgICAgICAgICAgICAKICAgICAgICAgICAgICAgICAgICAgICAgICAgICAgICAgICAgICAgICAgICAgICAgICAgICAgICAgICAgICAgICAgICAgICAgICAgICAgICAgICAgICAgICAgICAgICAgICAgIAogICAgICAgICAgICAgICAgICAgICAgICAgICAgPD94cGFja2V0IGVuZD0ndyc/Pv/bAEMAAgEBAgEBAgICAgICAgIDBQMDAwMDBgQEAwUHBgcHBwYHBwgJCwkICAoIBwcKDQoKCwwMDAwHCQ4PDQwOCwwMDP/bAEMBAgICAwMDBgMDBgwIBwgMDAwMDAwMDAwMDAwMDAwMDAwMDAwMDAwMDAwMDAwMDAwMDAwMDAwMDAwMDAwMDAwMDP/AABEIABkDbAMBIgACEQEDEQH/xAAfAAABBQEBAQEBAQAAAAAAAAAAAQIDBAUGBwgJCgv/xAC1EAACAQMDAgQDBQUEBAAAAX0BAgMABBEFEiExQQYTUWEHInEUMoGRoQgjQrHBFVLR8CQzYnKCCQoWFxgZGiUmJygpKjQ1Njc4OTpDREVGR0hJSlNUVVZXWFlaY2RlZmdoaWpzdHV2d3h5eoOEhYaHiImKkpOUlZaXmJmaoqOkpaanqKmqsrO0tba3uLm6wsPExcbHyMnK0tPU1dbX2Nna4eLj5OXm5+jp6vHy8/T19vf4+fr/xAAfAQADAQEBAQEBAQEBAAAAAAAAAQIDBAUGBwgJCgv/xAC1EQACAQIEBAMEBwUEBAABAncAAQIDEQQFITEGEkFRB2FxEyIygQgUQpGhscEJIzNS8BVictEKFiQ04SXxFxgZGiYnKCkqNTY3ODk6Q0RFRkdISUpTVFVWV1hZWmNkZWZnaGlqc3R1dnd4eXqCg4SFhoeIiYqSk5SVlpeYmZqio6Slpqeoqaqys7S1tre4ubrCw8TFxsfIycrS09TV1tfY2dri4+Tl5ufo6ery8/T19vf4+fr/2gAMAwEAAhEDEQA/APxbooooA9N+EHwg8L/F/R/sK63JpXibf+4heB7iO4rnPjJ8Ede+Bnij+ytehjgnk/eJsk8zzErY+HP7QX/CqvDckOkaDp/9uSP8mpP/AMfEf+5XJeMviFrfxG1T7frmpXGpXX9+Z6AMryv3cle4aD4c0r4S/s3/ANpazZxz6r4suk+yo/8ArI7X/VvXjvheW2tfFFi9+nmWsc/z12n7RvxVh+KvjS1/s5PL0PQ08jTof+eaUAeuax8DPh1o3xk8M+HvsGqSWuoaWl3df6b/ABvBvrn9M/Y3m8eeINYudN1L+ytDt9R+wWu+D7RJWra/tQeA9U/srxJqmm6pH4q0ey+wJCiJ9nk+Ty0p/wAFv2w9B8HeF7r7ZeeINK1W8vftc/2BE8uT5P8AboA5Lw5+xb4i8UeONY0eK8jjtdDRJLq/8jzI/wDvimeMv2PNW8G+INDhuNVt5NN8QSeRa37weX8/+5XoXhf9vXStL8ceJv8AQ7zStD8QJBvms/8Aj4jdE+/XP/Eb9pbwr438SeHIbrUvFGq6Vo9157vc7PMoAx/iN+xbefCq3nTUvE+lyatvTZZon7ySp7/9hDVbDw3JfXGt28c9vapdvbfZX+5J/t1jftD/ABQ8DfEb4gQeJNDTWPtUk6STpcon3Er1i+/bh8MWHg+4topvEGpRyaclp/ZtyifZ432UAeLfsq+A7bxb4/n1LVE/4kfh9Hu7rf8A8tNn8Feo/Dn4X6J+0Z8J/Gl5Elnoc+n3sf2W8fZ5cab68xi+Kum+HP2e7rQdJ8yPVdcuvPvX/wCeaf3K6D9n340+A/CXwf1zwr4ts9Uuv7YdN72yJ+72UAVf+GI/EMvjTTdKt7yzurXVE8yC/RP3cn/AKPiN+xvqvg2PSvsepR6rJrE/2RE+y/Z/Lk3+XXaaD+1z4P8AC/iXw/Yabbaxa+GfD6eXazIifaN/9+pPiX+3DpV1Ho6aamqaxfafepO95qWzzNm/zNnyUAc3qf7DNzo2n3z/APCVaPPfaGnn3ths8uSP/Y+/XZePP2S9H+Jfw/8ACOpaDeW+j6lqGnPI9m/7yS8ffXFfEH4tfC7XrjWNbs7DWP8AhINcfzHR0T7PbvWrbftI+CYvEHgO8a21j/il7XyJ/kT95+88ygCr8C/hV4b8G+B9S8Q+MrC41WSO9/s1LaGfy/Lff5b1k+PPhp4Y+F/7TFrYXVhcal4c1T9/BbJP5ckaf79aXhf9ozwfv8QaVr1tqkmh6he/b7LYieZG+/zK5zXfjT4e+Ivx4j17XIbyPR7N/wDRYbb/AFkaUAZ37S3hfR/h98eJ7OwtpI9HjSCfyd/7zY6f363P2pfBvhjRvB/hHVfDlhcabHqkCeek0/mVQ/aW+I3gz4tfEm31jSYdYggkRI7pJkT7if3K1fj78WvAfxB+F+h6PocOsQX2hp5aPMieXJQAf8Iv4P139ke61uz0q8tfEGn6jBaT3Lz+ZHJv/wBiuV/Zk+GqfEH4iRvef8grS08+6d67Lw58Wvh7pf7Pd94SuIdc/tLUJ0u3mRE8velc34X+KuleA/gXqulaX5n9ueIH8u6f/nnAn3KAO8+HOg/D34of8Jx4k17R7yS10t3ktYbO6+z/ACVV1r9kaz+KH9h6r8O3uJNH1zfvSb95JZ7Pv1zf7PHxV8H+A/A/iDSvEyao/wDbHyb7NErvPBv7c2lfCrxBpVh4Z024tfDOnwPA+9P9Ik3/AMdAHHfEb9izWPBHh+PVbPUo9YtfP8id/I+z/Z3/AOB1e8UfsM6r4S8N31/ca3byT6fB57232V/7nmffrc+Kv7V+g694f/s+z1LxRqUFxP5k8N5s8uOuj8W/txeGLrwffWEb65qsd5ZfZEsLxE+z277Pv0AYcX7NNt8bvgf4Z1vSYY9D8t3j1G/m/eR/crK+Bn7G+m/FDwv4quZdet/M0dH+yzb/AC60fBH7ZuieDfhvofgv7HeXXhne/wDbFs6f8fHyfwVxfw0+L/gz4feMPEdmtnqH/CK65A8ezYn2i330AY/hL9l/VfFvjm+0e31Kzkg0tPMur/8A5ZxpXRf8MUX9/eaU+l69Z6jpuqT/AGT7Yif6t6t+Cfjx4D+HOqalpWl6bqknhXXIPLvXmRPtFdb8IPir4YtvEPhzwT4Is9Q/s241H7XdTXifvP8AxygDj/GX7Cmt+EtP1J7XW9P1W+0dPMurOH/WRp/33WV+zH4Ss7TR9c8Ya5DHJpuhwfuEdP8Aj4evYv2gviN4V/Z48ceILnTdE1SDxH4gtfsm+ZP9H2bPLevCPiX8WrC6+Eeh+FdD8yOOP9/qL/8APSegDR8Ufsq6tL4X03xDZXMd9Hrknn+TDB/x7pvrfuv2BdYtZI5pdbs4NNjgSe6vHT/j38z/AGK2f2X/ANuGw+C3w3j0fUtNkvrqOfy9/wD06/xpTL/9r/QfG+ueKtN8QWFxH4V8QIkaJbJ+8t9lAHI69+yDeaNrmj+XrVndaPrj+XBqSJ+731peN/2PH+C159q1nxDpc91Zukn2BE/eXCVe1T9ozwTp9v4c8N6bZ6pH4V0edLt38tPtFw9cx+0N8QfA3xL8eQa9paa5HPI6fakmRPuJQB6H8af2S4de0e18VWb2/hnQ/wCy0nfzo/M+0PXl37L/AMNLbxb48urzUv3mj+H0e7nf/lnJs/gr1TxH+2b4Y+IPhuPwr4gs9Uu/CtnpyQWSbE8y3f8Av15ddfFXR/CXwPutB0H7RHfapdeZdTP/AHP7lAGt4D8b+D9U+JGq3N54YuNYn1C68vT7a2n8uONN9dbr37PHhWX9piPSrdJI9Kt7L7fe2fn+ZJH/ALG+uV/ZB+NPgX4Lf2lf+INNvLrVZE8uyubZE/0OmWvx48O+Evjx/wAJJpCapdaVeJ5eofbET7RJQBufHPwH4Jv/AAPpPjDQdNvNNtY714L22efzPMRH8utHXfC/gP4jfs/6xrem+H7zw5/Y/wC7srm5uvM+2PXP/FX46eDNZ0fR9B0OzvP+EfjvXu73zkTzJN7+Zsrd/aC/aM+HXxL+G8Gj6NY65Yx6fB5drZ7E+z7/AO/QBzHw08L+EvGX7N/iC8bSriPxBpcn/Hz5/wC7k/4BXD/s+/DSb4tfEjTdK/5Yf6yd/wDnmiV3/wAIPi/4A8G/BvVdE1a21yTUtY++8KJ5cdc/8OfitpXwp+Hfib+y/tH9uap+4tXf/l3SgDuPCXh3wZ8c/wBqC60240q4/wCEcs08v/Q38vy9n8fyVzv7S3wS0T4GfF+18qG8uvCN5/qN7+XJJ/wOj9l/4+6J8B9H8QXlwmoR+I9QgeO1uYUT93vrf+Jf7T/hj43/AAv0fTfFCa5da5p87yfbNifcoAg+PvgP4XeA/CfhubSdH1iO68QQJPvmvfM8tK9N/wCGLfAevWEENno+qWslxp32v7e+o+ZHv2f3K8r+N3xa+HXxG8L+H7bTYfEEd14fgSCPeifvEruP+GzfBlrqljqVvJ4o+1afa+QlnsT7PI+ygD5a17S00vVL6zX959jneOvXP2LfhL4Y+L/jC6s/FVnqEmm28DzvNbT+X5dcr4n+GnjDx54ovtbt/DOoeXrE/nx+TB+72V6F8IPi1/wzJ8N9Y0+803xBo/irVP8AUTbE+5QBj+PP2S7n/hoT/hEtBeSOx1BPPsppv+eFQfFD9jy8+HOh2N5FrEd99suvsmzyHt/Lf/gdek/8NkeD/FGoeFdV1xPEEmuaGmye8RE8yT5KyvjT+2H4e8eeF9N0pf7Y1z7PqKXb3l/GnmRp/cTZQBgeI/2D9S8OeD77UrjXrfz9PgSeS2+yv/6HVT4QfDWGX4D+KtYV7O+njg+eF0/eW/8At16N4t/bh8K3Xga+sIn1zVY7y18iGzv0T7Pb/JXCfBb4tfDHwH8P9Y03UofEEl1rkHlzvCieXH/uUAcr8G/2adS+Kvh+fVW1Kz0fSrd/L86b/lo9dx/wwBrH/CcR6D/wkmn/AGq4tftaPs/g/wC+60f2c/Eej/EK3uvBP/CPXmueH45/tFq7p+8jrqvir8afB/wz+PG+4S4ktbfSEsEhs/8Al3fZQB5tdfsR38viTSrO18RWd1a6p+7S8RP3e+tzxb/wTs1jw5oclzb+JNP1Kf50gtkT/j4dPv8A8dP+HP7S3gDwl4X0ewurbXJJNLuvP3oifvK0bX9sjwfo3iCxvLew1ST+z555PnRP46AOVsP+CffiK/0e183UI7XWLyDz4LB4P9Yn+/VXwH+wzf8Ai3w3/at54h0/So45/sjwzQfx16bqn7fWieKI4L+41LxRpt9bweR9jttn2eSvPf8AhoLwlf8Aw/tbC8h1SS+/tFLud9ifvP3lAD/gX+xb/wAJl8UNY0HXL+3g/stJNnz/AOs/268k+LXwvf4X+IPsf2+3vvnfY8Net3X7Tnhi1/aAj8Q2tnqH9jyWX2SdHT95XK3+tfDEeONLfSYdYksY7rz717xE/eUAavjPwbYfDn4DaPo8ttHJ4j8UP5m9/wDl3T+Cr1/+wfqWjeE76/utbt47qztftb232V//AEOuE+L/AMUE+IXxQj1L95/Ztm6R2qf9MEr3bVP23PDEXgu+sbd/EF9BcWXkJYXKJ9njegDy/wCDf7GWpfF/w3Jf2usR2snz7IXtXk8ytz4c/sAax480+d5de0/TZ7e9ew8l4P40rrvhV+2l4V8JeE9HS4TXNKutHd99tYIn2e83/wB+iX9snwHYefNa2Guefcao9+/yJ/HQBy8v/BPHW5fFEem2/iHT5/tEDzpNs/d/JXJ/Ev8AZb1X4VeG/wDhIYtS0/XNNs5/LuvJ/wCWb/3K+hP2bvi1oPxf1j+zbCw1CT+z7KeN0dP9Zvryv4v/ABQ8MfDnw/rHgnQ9H1S1/ti68zUXuU/eRpv/AIKAMf8AaH0vRNU+C/hHXtJ0f+zbrUESOf8A6aVb8LfsC+Ide8P2s11qUdjqWoQefa2b2vmeYn+/T/iD8X/hvrvwf0rw9Zp4gjutHTzLV3RPLkf/AG67S2/br0rWfD+mvfal4o0rUtLtfI8mw2eXJ/33QB4Z8NPgjeaz8cI/Dd+nl/2fP/pr/wDPNK6q6+FX/DS3xs1i28OfZ9K0rS08vfs/uf7FM0b4+6Vo3h/xjqsH2iTxH4kd4Eeb/WRpWb+yr8ZNH+DfiS+v9WfVIJ7hPkmsNnmR/wDfdAB8Vf2X7n4aaxo9muqx30esfu0dLV4/L/4BXQeM/wBhTWPCWl2N5FrFvdWt5dJaO/keX9nd66bxx+2b4b17xx4ZvGs7zVY9HfzJ7y/T/SJPkroNZ/bS8B6p4fn026m8UalHcXSXaPMifu/9igDmJf8Agm7qsVnJN/wlWlyeWnmOnkf/AGdZVr+wLqUXh+DUtQ8SaXptrcP5Cb0/j/uffrptZ/bI8GCSf7LYax+82bN6JXoHxGtfCvjf9n+x17WdH1SfSvtv29PJT95H+7/joA8L+FXw+T4QfHyPwr4t0ePUo9Q/do/yf991z/8AwoK/+JX7RGueGPDkPlwW91J/27pXXf8ADS3hLxl8cLfxRr1nqEFjpaJHp0NsifcT+/U/hf8Aaq8K/Cr48XXirwzDrH2XXP8Aj985E8yP/coA5z4v/sear8L/AAXJ4htb+PVdNt38i6fyPs/lv/wOvHYv3vl7f+WlfSHxk/aMtvi14Pn8PeHNS8Ya5dahP5jw3KJ5f/jleO2vwH8c2EiTf8IxrH+jv5n+ooA9o/Zf/Y8eXxZ4cvPE15p8cGsbJE02b/WSJWdqn7Ft54y8ceI7y1m/sPw/p915CTPH9o/j/wBitzQf2m/h7J4g8M634y0TWI/FXg/ZG8MKJ5claOl/t4eHprfWNH87XNK0q8uvPtZrNE8yOgCj8G/2Qf7G8eeIPDHiOG3n+0aR9r068/1fl/P9+uL1T9h7VItQtXsNb0/UtNvJ/I+0wp/x7v8A3K7TS/2yPCUvxAvr/Wf+Eg1ixuNO+wJ5yJ5lYF1+1B4S+HPh+10fwRYah9hk1FL+9e8T95J5b0AcXdfstalF4b8QX66rbzz+G5/IurZE/eSfP5ddT4J/YE1vxbb2KXGt6fpupXkHn/Y3/wBZGldBqn7Rvw0ttD8Tf2XYa5/aviTZI7uieXG+/wAyvRvgj4t0T4jafH4517w3Ha6lp9l5b6k6fu5KAPjHxRoP/CL+KL7TftMc/wBjneCR0T+5XffAL9l+/wD2gtH1W8s9Vs9Nj0dPPuvOT/Vp/fqx8JfiD4A8OfEDxVdeMNE/tyC8ef7DsTzPLd/uPXpv7B/hiw17w/8AEbz7CS60rUNOeBIYU/eff/goA462/YZ1W68S6bZxa9p8ljqiP5F+ifu5HT+CsnWf2Rr/AEHwH4g1u61i3jg8P3T2jo8H/Hw6f3K67WviCniO48P+Afh3pWoWqaPe+e73KfvN+/zKn/4KHfEa5+0aP4Vito7H7Pax3+o+T/y8XT/fegC5cabJ+yt+zdHdW8Vrb+JtWKRzysgkkM7Anb94g+SGCjqhILbTuauY+BOleHfit8O/F0viC01DUPE1rCJE1Ke7MmMAAZBJJwAB9BW78YLu6/aK/Zu0jWNJg+26lYyq1zaWqGR0mPliVAgLNgFVYA5O1gTXJ/s0/F/wN8L/AAfria9DrE99rCeQ/kxp5cdeHkcKbpyqy/itvn7p328l2XY/YPF7FYyONo4CjeOXQpweFSuoSpuEXzrpKpJt+0lvz8ydtiD9m/wZ4ftfh/4j8Z+JrC41W10ffHBbI/l+Y9R/tD/DTQfBHxI8PzWaSQeH/ECQSeTv/eR7/v0z4LfF/wAK+ErfxH4b1mHUJ/COsb9mxE+0R1R+N3xMtvjn8SdHh0uGS10qzeC0td/9z/V769w/Hz2PVDdeE/ibaeB9duJPEnhHxdYiWze8cyTQqwZ1Pmj53y2BknKnaVZQuDwviz9mXwp8NYphrfiKRZtRlddMt1hcuF3HZukAA3YxnAxnNejeOfDh8YfF3wreRSNa+HPA2lRC81NpPJhkeHd8iswww3L856KobJUlc+c+NP2s9P8AFuuX9jqGg6frGgwzsthPKC80CDjfGCARvIL4IyN2O1eDhY04ZjOGG+HlvJLZSvp6Nq9/lc/Y+Iq2MxXAmExWetyxHt3GhKd/aSw/s256vWVKNTl5G72cpKLtougi/wCCbF//AGfHc/8ACW6XH/oqXbp5H+rR/ufx1ytr+xHqthLfP4g1iz8P2NnP5CXMyeZ9ortde/bD8G3Xn+RYax+8061tPuJ/ywo+KH7VXw9/aC0+fTfE1nrEFjbzpJavbInmbP7le8fjhw8X7DPif/hMLqzuLy3g02zgSd9Sf/V7H+5XpPxV/ZL03WfAfgOw0a80+PUtYnSD7eifu7j5P7lZd1+234Y8UW+peFdW0q8j8D3FrBaJ5Kf6RHsT79VNZ/am8B+HND8F2fhfTdUjj8H6j9r33KJ/pCbPLoA85uv2abyw+G+seJP7St54/D96lpdWyJ/H/lK6fXrXw94t/ZDtdetdHjsdY0+9eB5v+emzy63PFH7Q/wAND8MvFWj6XYa59q8SXUF28zon7t0rJ0b4q/DG1/Z//wCESuofEHnyO928yIn33oAzvhf+xRr3xG8HWOt3l/Ho9rrD/wChb4PM+0Uyw/Zu0rS/FF94S8Tar/YfiaP/AI9X8h7iO4T+D7ld98Of24dKtfhfofh/VLzxBpX/AAjf7u1ew2f6Qm/zPn31w/iP9q+2/wCEw1HWLDSo9V1W4Ty4NS1L/j4t/wDvigDj/jJ+zd4k+C3iix03UoY5JNQ/49XR/wDWf8Aq9+1B8JdK+C3iDTdEs3knvvsST3r7/wC+nmVz+qfGnXvFHxAsde16/uNWk0+fzE86u8/bmurPXviRY+IdNuY57HWNOg2bP+Wboke+gDG8b/BbTbT9nfQ/G2jPJ/pF19gvUd/M8t0TzN9eZeTXu/jLxFYeCP2J9H8Ptcxz6rrmovd+Sn/LNHSvB4z8goAZ51HnUUUAFWLWwubqOR4oZJI4/v7E/wBXUaf6qvWP2dP+QN4k/wCuMn/oFAHkdFT61/x/v/v1Ba/8fCf79AGl4t8G6l4IvLVNUtvIkuIEnT/poj1l/wDLzX0R+3V18Hf9giD/ANER14LoXSSgC74I+HusfEbVPsejQx3V1/cd/Lpn/CEala+MP7EltvI1WOfy/Jf+/Xqn7Dv/ACXS0/67pR8dP+Tz9W/7DElAHl3jz4aar8NNUjttWtvss8ieYnz/AOsrG86voj/goz/yNnhX/sHPXg7/APILoAr2thc38m23hknkj/efInmUWthc30my3tpJ5P7iJ5leofslf8h7XP8AsFvUn7Kv/JV9V/69br/2pQB5HRVzX/8AkN33+/WfQBJRUdFAElFR0UASedR51R0UASUUUUAFFFFAB51FFFAB51FFFAB51WLW/msJ/Ot5pIHj+46P5dV6KALmqazeazJvvLm4upP78z+ZVOiigA86jzqKKACiiigAooooAKKKKACjzqKKACiiigA86iiigA86lil8uSkooA6C1+KGvafbxwxalceXH9z56o694t1DxHJG9/cyTyR/36ypf6URf0oAf51R+an9yrEPSo6AI/NT+5R5qf3KkooAsWGvXOjSb7O5uLWT+/C7x1Hc3739xvleSeT++9Rw9KkoAj86jzqkooAj83/Yo86pKKAI/N/2KPN/2KkooAj+10fa6JulFAB9ro+10UUAWNL8R3OjSb7O5uLWT+/C7x1Hdao9/cedcPJPJ/ff95UdFAB9ro+10UUAM836U/7XRRQAean9ymeb9KfRQAzzfpV7/hLb/wDs/wCzfb9Q+y/88fPfy/8AviqlFAB9ro86iibpQBY0zVLnQdQ+02c3kTf30rf/AOFyeJJY/m1W4rmIelFAEl1fvf3Ek0v7yST771HRRQAedR51FFAB51XovEd/FZ/ZlvLyO1/54pO/l1RooAKvaZ4kv9GjkSzvLy1jk+/5M7x1RooAt2us3lhefaYrm4gn/wCeyP8AvKZqmqXOtXG+6uLi6k/vzP5lV6KAOk+HXxX174T6o1xo10YBKV+0W8uJIpwpzhlP4jIwwDHBGTXpF18fvAfxJlF14z8FyHUo0UG506XBum2gMXw8bYG1doZnwMjI7+J0V5+JyvD1p+1acZ/zRbi/vW/zPtsh8Qc5yrC/2dTnGrhr39jVhGrSvq7qE01F3d7xtd731PaP+EJ+CX/Q4eIv+/L/APyNVqDxf8G/hq0babpGpeKL6CF3jubhW8mVzuASRZCq8cciIgDBGWBrw2iud5PzaVK1RrtzJfkk/wAT3Kfih7F8+DyrB0p9JKjKbWt7pValSKaa0fLddHud58Uv2idc+J9kdN/0bSdBUqItPtV2xhUJKB26tgbRgYTKKQoIrg6KK9LD4alQh7OjFJeX9avzPhM7z7Mc4xTxmZ1pVajVryeyWyS2jFX0ikkuiCiiHpTf+WlbHkDqkqCL+lT0AFFFFABR5vvVeb/X/wDAKbaf8f8AJQBN5vm1JLdTXUcaSvJJ5f3N71ueEa6T/wCIoA8/lunuvLSV5JPL/wBXvf8A1dR1b13/AJCk9V0+7QB//9k=)"
      ],
      "metadata": {
        "id": "eRfJEBC3Noi7"
      }
    },
    {
      "cell_type": "code",
      "source": [
        "import pdb\n",
        "pdb.set_trace() # 3.7버전 이전\n",
        "\n",
        "breakpoint() # 3.7 이후 버전"
      ],
      "metadata": {
        "id": "IsieEoEeJcKv"
      },
      "execution_count": null,
      "outputs": []
    },
    {
      "cell_type": "code",
      "source": [
        "abc = 1\n",
        "breakpoint()\n",
        "b = 345\n",
        "\n",
        ">>   # 결과 : b 실행 직전에서 시점에서 버그체크 \n",
        "-> b # abc 엔터 = 1 , b 엔터 = not defined 이런식으로 변수 확인도 가능  "
      ],
      "metadata": {
        "id": "X6HssaloKON9"
      },
      "execution_count": null,
      "outputs": []
    },
    {
      "cell_type": "markdown",
      "source": [
        "### 파이썬 함수 def"
      ],
      "metadata": {
        "id": "wi8geJMwPdO7"
      }
    },
    {
      "cell_type": "markdown",
      "source": [
        "- 변경이 불가한 int, str 등은 `값`으로 전달\n",
        "- list와 dict같은 객체들은 `참조`로 전달\n",
        "- 필수 인수 : 함수 안의 파라미터값은 모두 인수를 받아야하고, 순서에 맞게 받아야한다. (인수가 모자르면, `TypeError`)\n",
        "- 키워드 인수 : 파라미터에 인수를 지정해주면 순서는 상관없음 -> 함수(bcd ='bob', abc = 'sponge') \n",
        "- 기본인수 : 파라미터에 값을 지정하면 기본값으로 설정되는데, 가장 뒤로 가야함 ->함수 (a, abc = 123) 어길 시 `SyntaxError`\n"
      ],
      "metadata": {
        "id": "mce6r3P5PfUO"
      }
    },
    {
      "cell_type": "markdown",
      "source": [
        "## Class"
      ],
      "metadata": {
        "id": "rqgfZY7LRUbT"
      }
    },
    {
      "cell_type": "markdown",
      "source": [
        "#### class 기본"
      ],
      "metadata": {
        "id": "1OGbOA_Zw1wi"
      }
    },
    {
      "cell_type": "code",
      "source": [
        "class poketmon:\n",
        "    pika = 'pika'\n",
        "\n",
        "poketmon.pika = 'pika'"
      ],
      "metadata": {
        "id": "cxfgNZqnRTgN"
      },
      "execution_count": null,
      "outputs": []
    },
    {
      "cell_type": "code",
      "source": [
        "class poke:\n",
        "    def __init__(self, color='red'): # 생성자 함수\n",
        "        self.color = color\n",
        "\n",
        "col = poke()     \n",
        " \n",
        "print(col.color) # 변수명에 지정한 클래스로 호출가능\n",
        "col.color        # 인스턴스(생성자함수를 통해 생겨난 값)"
      ],
      "metadata": {
        "id": "S2ViiLv-lG0_",
        "outputId": "61e8005a-61dc-4e7f-92f1-0096e3db7b14",
        "colab": {
          "base_uri": "https://localhost:8080/",
          "height": 53
        }
      },
      "execution_count": null,
      "outputs": [
        {
          "output_type": "stream",
          "name": "stdout",
          "text": [
            "red\n"
          ]
        },
        {
          "output_type": "execute_result",
          "data": {
            "text/plain": [
              "'red'"
            ],
            "application/vnd.google.colaboratory.intrinsic+json": {
              "type": "string"
            }
          },
          "metadata": {},
          "execution_count": 11
        }
      ]
    },
    {
      "cell_type": "code",
      "source": [
        "poke.color # 변수명에 지정하지 않고는 호출불가\n",
        "# >> AttributeError: type object 'poke' has no attribute 'color'"
      ],
      "metadata": {
        "id": "JU8hoia5oqu2"
      },
      "execution_count": null,
      "outputs": []
    },
    {
      "cell_type": "markdown",
      "source": [
        "####  \\_ (single underscore)\n",
        "- 클래스에서 변수나 값을 저장할 때 사용(global하게 적용)\n",
        "- 주로 변수명을 숨길 때 사용(self._name)\n",
        "- 변수명을 변경하면 안되기때문에 의도적으로 숨기고 싶다는 표시를 해둔 것\n"
      ],
      "metadata": {
        "id": "op-eWjwjtqG5"
      }
    },
    {
      "cell_type": "code",
      "source": [
        "class Pokemon:\n",
        "\t_pokemon_health = 100 # 글로벌 변수로지정\n",
        "\n",
        "poke_a = Pokemon()\n",
        "print(poke_a._pokemon_health) "
      ],
      "metadata": {
        "id": "LsF8ukx-v1to",
        "outputId": "ff15b2a1-2bbd-45fa-e942-e6a5722df2e1",
        "colab": {
          "base_uri": "https://localhost:8080/"
        }
      },
      "execution_count": null,
      "outputs": [
        {
          "output_type": "stream",
          "name": "stdout",
          "text": [
            "100\n"
          ]
        }
      ]
    },
    {
      "cell_type": "markdown",
      "source": [
        "#### \\_\\_ (doublescore 또는 dunderscor 또는 magic method)    \n",
        "- 클래스 인스턴스를 생성하는 함수에 적용   \n",
        "- 클래스내부에서만 사용하는 변수나 값을 저장(local하게 적용)\n",
        "- 변수명을 변경하면 안되기 때문에 숨김(반 강제적으로 숨김)"
      ],
      "metadata": {
        "id": "jmmzEqYavlDP"
      }
    },
    {
      "cell_type": "code",
      "source": [
        "class Pokemon:\n",
        "\t__pokemon_health = 100 # 로컬변수로 지정\n",
        "\n",
        "poke_a = Pokemon()\n",
        "# print(poke_a.__pokemon_health) # 로컬변수라서 그대로 실행하면 에러남\n",
        " \n",
        "print(poke_a._Pokemon__pokemon_health) #  _클래스__변수명으로 실행할것"
      ],
      "metadata": {
        "id": "mkg_z4qbv_ld",
        "outputId": "77943018-4c8d-4959-94fb-ba881614734f",
        "colab": {
          "base_uri": "https://localhost:8080/"
        }
      },
      "execution_count": null,
      "outputs": [
        {
          "output_type": "stream",
          "name": "stdout",
          "text": [
            "100\n"
          ]
        }
      ]
    },
    {
      "cell_type": "markdown",
      "source": [
        "### decorator(@)"
      ],
      "metadata": {
        "id": "9Pj4qi_cH32t"
      }
    },
    {
      "cell_type": "code",
      "source": [
        "def first_deco(func): # func는 데코레이터에서 실행할 함수\n",
        "    def first():      # 실행할 함수를 감싸는(wrap) 함수입니다.\n",
        "        print(\"first\")# 실행순서 1번\n",
        "        func()        # 실행순서 2번\n",
        "    return first      # first 함수를 return\n",
        "\n",
        "def last_deco(func):\n",
        "    def last():       \n",
        "        func()        \n",
        "        print(\"last\") \n",
        "    return last\n",
        "\n",
        "@first_deco\n",
        "def my():\n",
        "    print(\"my 라는 함수입니다.\")\n",
        "\n",
        "@last_deco\n",
        "def iam():\n",
        "    print(\"iam 이라는 함수입니다.\")\n",
        "\n",
        "my() # first와 last의 func 위치에 맞게 출력\n",
        "iam()"
      ],
      "metadata": {
        "id": "iqzA8AgUGw64",
        "outputId": "de89818c-3a98-457a-f36f-6a2093b3ee54",
        "colab": {
          "base_uri": "https://localhost:8080/"
        }
      },
      "execution_count": null,
      "outputs": [
        {
          "output_type": "stream",
          "name": "stdout",
          "text": [
            "first\n",
            "my 라는 함수입니다.\n",
            "iam 이라는 함수입니다.\n",
            "last\n"
          ]
        }
      ]
    },
    {
      "cell_type": "markdown",
      "source": [
        "### @property"
      ],
      "metadata": {
        "id": "RT_8ymcnq7Ao"
      }
    },
    {
      "cell_type": "markdown",
      "source": [
        "- 생성자 함수로로 인스턴스를 생성한 이후에는 값(first_name)을 변경하여도 full_name의 값은 변하지 않음\n",
        "- property를 사용하면 클래스의 특성처럼 활용되어 full_name 함수를 사용하지 않아도 자동으 내부의 first_name값을 바꾸어줌"
      ],
      "metadata": {
        "id": "5aoIhVjarCcP"
      }
    },
    {
      "cell_type": "code",
      "source": [
        "class Person:\n",
        "\tdef __init__(self, first_name, last_name):\n",
        "\t\tself.first_name = first_name\n",
        "\t\tself.last_name = last_name\n",
        "        # self.first_name + ' ' + self.last_name  => first_name의 값을 바꿔도 변경되지 않아서 밑에 함수를 만들어줌 \n",
        "\n",
        "\t@property\n",
        "\tdef full_name(self):\n",
        "\t\treturn self.first_name + ' ' + self.last_name"
      ],
      "metadata": {
        "id": "mSoM7KXcrAAb"
      },
      "execution_count": null,
      "outputs": []
    },
    {
      "cell_type": "code",
      "source": [
        "fred = Person('Fred', 'Williams')\n",
        "\n",
        "fred.first_name = 'Ted'\n",
        "\n",
        "print(fred.first_name) #=> 'Ted'\n",
        "print(fred.full_name) #=> 'Ted Williams' property가 없으면 바뀌지 Fred가 Ted로 바뀌지 않음"
      ],
      "metadata": {
        "id": "zBPWc4GcxXoB"
      },
      "execution_count": null,
      "outputs": []
    },
    {
      "cell_type": "markdown",
      "source": [
        "### setter"
      ],
      "metadata": {
        "id": "orKOCrozs522"
      }
    },
    {
      "cell_type": "markdown",
      "source": [
        "- 직접접근을 제한하거나 추가기능을 변수에 포함 할 때 사용\n",
        "- property의 @함수.setter를 하면 property 함수값을 변경하여도 생성자함수(\\_\\_init\\_\\_)의 인스턴스 값을 바꿔줄 수 있음(상호변경이 가능해짐)"
      ],
      "metadata": {
        "id": "r_rEcovos8zu"
      }
    },
    {
      "cell_type": "code",
      "source": [
        "class Person:\n",
        "\tdef __init__(self, first_name, last_name):\n",
        "\t\tself.first_name = first_name\n",
        "\t\tself.last_name = last_name\n",
        "\n",
        "\t@property\n",
        "\tdef full_name(self):\n",
        "\t\treturn self.first_name + ' ' + self.last_name\n",
        "\t\t\n",
        "\t@full_name.setter\n",
        "\tdef full_name(self, new_full_name):\n",
        "\t\tfirst_name, last_name = new_full_name.split()\n",
        "\t\tself.first_name = first_name\n",
        "\t\tself.last_name = last_name"
      ],
      "metadata": {
        "id": "-UDyZuTOsf9H"
      },
      "execution_count": null,
      "outputs": []
    },
    {
      "cell_type": "code",
      "source": [
        "fred = Person('Fred', 'Williams')\n",
        "\n",
        "print(fred.first_name) #=> 'Fred'\n",
        "print(fred.full_name) #=> 'Fred Williams'\n",
        "\n",
        "fred.full_name = 'Ted Bottleneck' # setter함수를 변경해도 __init__의 인스턴스가 변경됨\n",
        "\n",
        "print(fred.first_name) #=> 'Ted'\n",
        "print(fred.last_name) #=> 'Bottleneck'\n",
        "print(fred.full_name) #=> 'Ted Bottleneck'"
      ],
      "metadata": {
        "id": "RTYhBUqZshKw",
        "outputId": "a8092cb8-ad58-4d6f-802f-fdc782904ed2",
        "colab": {
          "base_uri": "https://localhost:8080/"
        }
      },
      "execution_count": null,
      "outputs": [
        {
          "output_type": "stream",
          "name": "stdout",
          "text": [
            "Fred\n",
            "Fred Williams\n",
            "Ted\n",
            "Bottleneck\n",
            "Ted Bottleneck\n"
          ]
        }
      ]
    },
    {
      "cell_type": "markdown",
      "source": [
        "## N322 -  HTML, CSS, DOM"
      ],
      "metadata": {
        "id": "ZbvJ4HLhYUdS"
      }
    },
    {
      "cell_type": "markdown",
      "source": [
        "### HTML\n"
      ],
      "metadata": {
        "id": "cfLJpw1MpM2d"
      }
    },
    {
      "cell_type": "markdown",
      "source": [
        "- 웹페이지의 뼈대같은 구조를 관리하는 언어\n",
        "- HTML ELEMENT : body div li h2 등등   \n",
        "- HTML 태그 : \\<BODY>\\</BODY> \\<BR> 등   \n",
        "- HTML Children : element 안에 있는 또 다른 element\n"
      ],
      "metadata": {
        "id": "gO8Rw0SMpROq"
      }
    },
    {
      "cell_type": "markdown",
      "source": [
        "### CSS"
      ],
      "metadata": {
        "id": "33a1DqPCp_Ei"
      }
    },
    {
      "cell_type": "markdown",
      "source": [
        "- HTML의 스타일을 만들어주는 언어\n",
        "- CSS Selector\n",
        "   - Type : p div body \n",
        "   - Class : .으로 구분\n",
        "   - ID : #으로 구분"
      ],
      "metadata": {
        "id": "yNhO47PfqFKa"
      }
    },
    {
      "cell_type": "markdown",
      "source": [
        "### DOM메소드(Document Object Model)"
      ],
      "metadata": {
        "id": "F2mIEB37YhtW"
      }
    },
    {
      "cell_type": "markdown",
      "source": [
        "- object : 자바에서 사용하는 HTML에 접근하는 프로그래밍 언어\n",
        "- F12 Console창에서 사용"
      ],
      "metadata": {
        "id": "rA1ni2oRYlew"
      }
    },
    {
      "cell_type": "code",
      "execution_count": null,
      "metadata": {
        "id": "JoBZJQzfYTsJ"
      },
      "outputs": [],
      "source": [
        "document.querySelectorAll('h2')  # 사용 예시\n",
        "\n",
        "getElementsbyTagName('태그')      #  태그 이름으로 문서의 요소들을 리턴합니다.\n",
        "getElementById('태그')            # 'id' 가 일치하는 요소들을 리턴합니다.\n",
        "getElementsByClassName('태그')    # '클래스' 가 일치하는 요소들을 리턴합니다.\n",
        "querySelector('태그')             # 셀렉터(들)과 일치하는 요소를 리턴합니다.\n",
        "querySelectorAll('태그')          # 셀렉터(들)과 일치하는 모든 요소들을 리턴합니다."
      ]
    },
    {
      "cell_type": "markdown",
      "source": [
        "## N232 웹크롤링 / 웹스크래핑"
      ],
      "metadata": {
        "id": "C-y2gtSRZoeA"
      }
    },
    {
      "cell_type": "markdown",
      "source": [
        "- 웹크롤링 : 기어다닌다는 뜻의 크롤링, 데이터를 가져옴(인터넷 사이트들을 인덱싱함)\n",
        "- 웹스크롤링 : 특정 정보를 자동화하여 가져오는 방식"
      ],
      "metadata": {
        "id": "9sbXH_KVZs5s"
      }
    },
    {
      "cell_type": "markdown",
      "source": [
        "#### requests"
      ],
      "metadata": {
        "id": "KsIjiGmraPaH"
      }
    },
    {
      "cell_type": "markdown",
      "source": [
        "- 파이썬과 웹이 소통할 수 있도록 요청을 보내는 웹스크래핑 라이브러리\n",
        "- response응답 코드 https://developer.mozilla.org/ko/docs/Web/HTTP/Status"
      ],
      "metadata": {
        "id": "N0MuNG5KaUij"
      }
    },
    {
      "cell_type": "code",
      "source": [
        "pip install requests"
      ],
      "metadata": {
        "colab": {
          "base_uri": "https://localhost:8080/"
        },
        "id": "7bL-DH8maqNP",
        "outputId": "e7d72514-2e7a-437d-a50d-45583c5393c5"
      },
      "execution_count": null,
      "outputs": [
        {
          "output_type": "stream",
          "name": "stdout",
          "text": [
            "Looking in indexes: https://pypi.org/simple, https://us-python.pkg.dev/colab-wheels/public/simple/\n",
            "Requirement already satisfied: requests in /usr/local/lib/python3.7/dist-packages (2.23.0)\n",
            "Requirement already satisfied: certifi>=2017.4.17 in /usr/local/lib/python3.7/dist-packages (from requests) (2022.9.24)\n",
            "Requirement already satisfied: idna<3,>=2.5 in /usr/local/lib/python3.7/dist-packages (from requests) (2.10)\n",
            "Requirement already satisfied: chardet<4,>=3.0.2 in /usr/local/lib/python3.7/dist-packages (from requests) (3.0.4)\n",
            "Requirement already satisfied: urllib3!=1.25.0,!=1.25.1,<1.26,>=1.21.1 in /usr/local/lib/python3.7/dist-packages (from requests) (1.24.3)\n"
          ]
        }
      ]
    },
    {
      "cell_type": "code",
      "source": [
        "import requests\n",
        "\n",
        "response = requests.get('http://google.com') # 구글에 소통 할 수 있도록 요청을 보냄\n",
        "print(response)                              # 정상적으로 응답하면 <Response [200]> 출력"
      ],
      "metadata": {
        "colab": {
          "base_uri": "https://localhost:8080/"
        },
        "id": "pmGoRW6Napn3",
        "outputId": "8691e947-704d-4ccc-a8b8-6a39fc1d9046"
      },
      "execution_count": null,
      "outputs": [
        {
          "output_type": "stream",
          "name": "stdout",
          "text": [
            "<Response [200]>\n"
          ]
        }
      ]
    },
    {
      "cell_type": "code",
      "source": [
        "type(response) # requests 라이브러리의 Response 타입"
      ],
      "metadata": {
        "colab": {
          "base_uri": "https://localhost:8080/"
        },
        "id": "IaUf_iJobelT",
        "outputId": "01edd293-87e2-472d-8790-35fe4c3139d4"
      },
      "execution_count": null,
      "outputs": [
        {
          "output_type": "execute_result",
          "data": {
            "text/plain": [
              "requests.models.Response"
            ]
          },
          "metadata": {},
          "execution_count": 6
        }
      ]
    },
    {
      "cell_type": "code",
      "source": [
        "response.status_code # 객체명(response)응답번호 확인하는 매서드"
      ],
      "metadata": {
        "colab": {
          "base_uri": "https://localhost:8080/"
        },
        "id": "Ro_xyRr_ciqG",
        "outputId": "26699221-c54e-4c36-8d82-e9252588a047"
      },
      "execution_count": null,
      "outputs": [
        {
          "output_type": "execute_result",
          "data": {
            "text/plain": [
              "200"
            ]
          },
          "metadata": {},
          "execution_count": 7
        }
      ]
    },
    {
      "cell_type": "code",
      "source": [
        "print(response.raise_for_status()) # None이면 응답성공"
      ],
      "metadata": {
        "colab": {
          "base_uri": "https://localhost:8080/"
        },
        "id": "is2SqGgZdnqy",
        "outputId": "4b524f28-a2f8-4524-bd1f-6edd335529da"
      },
      "execution_count": null,
      "outputs": [
        {
          "output_type": "stream",
          "name": "stdout",
          "text": [
            "None\n"
          ]
        }
      ]
    },
    {
      "cell_type": "markdown",
      "source": [
        "##### 응답 실패시, 에러뜨도록 출력"
      ],
      "metadata": {
        "id": "413hn1JXelRF"
      }
    },
    {
      "cell_type": "code",
      "source": [
        "import requests\n",
        "from requests.exceptions import HTTPError # 에러발생 시 HTTP에러만 따로 출력\n",
        "\n",
        "url = 'http://google.com'\n",
        "\n",
        "try:\n",
        "    resp = requests.get(url)\n",
        "    resp.raise_for_status()  \n",
        "except HTTPError as Err:\n",
        "    print('HTTP에러 발생')\n",
        "except Exception as Err:\n",
        "    print('다른에러 발생')\n",
        "else:\n",
        "    print('성공')"
      ],
      "metadata": {
        "colab": {
          "base_uri": "https://localhost:8080/"
        },
        "id": "nxOlK4QadJ_P",
        "outputId": "06074603-6d47-4cf0-f9c3-b177eeecba35"
      },
      "execution_count": null,
      "outputs": [
        {
          "output_type": "stream",
          "name": "stdout",
          "text": [
            "성공\n"
          ]
        }
      ]
    },
    {
      "cell_type": "code",
      "source": [
        "resp.content  # byte형식, 원본 (이미지같은거 가져올 때 사용)\n",
        "resp.text     # str형식, 보기 편하게(<html>이런식으로)"
      ],
      "metadata": {
        "id": "cNvgw8zLfxj1"
      },
      "execution_count": null,
      "outputs": []
    },
    {
      "cell_type": "markdown",
      "source": [
        "### BeautifulSoup 라이브러리"
      ],
      "metadata": {
        "id": "UEVyXVh6ga8_"
      }
    },
    {
      "cell_type": "markdown",
      "source": [
        "- requests로 받은 응답내용을 파싱하고 정보를 얻어내는 라이브러리\n",
        "- 다른 parser를 쓰고 싶다면 밑의 공식문서 참조\n",
        "- Beautiful Soup : https://www.crummy.com/software/BeautifulSoup/bs4/doc/\n"
      ],
      "metadata": {
        "id": "QtvqZ-JCgfBp"
      }
    },
    {
      "cell_type": "code",
      "source": [
        "pip install beautifulsoup4"
      ],
      "metadata": {
        "colab": {
          "base_uri": "https://localhost:8080/"
        },
        "id": "V5-2Q2e5Yb3S",
        "outputId": "eed5f755-b7c2-4c56-d328-1aa59f453dc5"
      },
      "execution_count": null,
      "outputs": [
        {
          "output_type": "stream",
          "name": "stdout",
          "text": [
            "Looking in indexes: https://pypi.org/simple, https://us-python.pkg.dev/colab-wheels/public/simple/\n",
            "Requirement already satisfied: beautifulsoup4 in /usr/local/lib/python3.7/dist-packages (4.6.3)\n"
          ]
        }
      ]
    },
    {
      "cell_type": "code",
      "source": [
        "import requests\n",
        "from bs4 import BeautifulSoup\n",
        "\n",
        "url = 'http://google.com'\n",
        "page = requests.get(url)\n",
        "# page.content(HTML, XML)를 파싱을 통해 파이선에서도 쉽게 사용할 수있도록 변환\n",
        "soup = BeautifulSoup(page.content, 'html.parser') # parser는 받아온 requests를 html문자로 인식하고 형태를 개선해줌"
      ],
      "metadata": {
        "id": "8yYzGGQwgtzQ"
      },
      "execution_count": 1,
      "outputs": []
    },
    {
      "cell_type": "markdown",
      "source": [
        "#### 요소찾기"
      ],
      "metadata": {
        "id": "Zz4wff0OilSR"
      }
    },
    {
      "cell_type": "code",
      "source": [
        "a_elements = soup.find('a') # 제일 첫번째를 가져옴\n",
        "a_elements"
      ],
      "metadata": {
        "colab": {
          "base_uri": "https://localhost:8080/"
        },
        "id": "K1wleneWKwbT",
        "outputId": "2cb4da54-5820-4999-b1ef-6711d6094ece"
      },
      "execution_count": 64,
      "outputs": [
        {
          "output_type": "execute_result",
          "data": {
            "text/plain": [
              "<a class=\"gb1\" href=\"http://www.google.com/imghp?hl=en&amp;tab=wi\">Images</a>"
            ]
          },
          "metadata": {},
          "execution_count": 64
        }
      ]
    },
    {
      "cell_type": "code",
      "source": [
        "a_elements_href = soup.find('a')['href'] # []안의 요소를 꺼냄\n",
        "a_elements_href"
      ],
      "metadata": {
        "id": "-RFaxXDviovh",
        "colab": {
          "base_uri": "https://localhost:8080/",
          "height": 35
        },
        "outputId": "54ae86b9-0fab-4f9d-af13-95c32aba4b9d"
      },
      "execution_count": 66,
      "outputs": [
        {
          "output_type": "execute_result",
          "data": {
            "text/plain": [
              "'http://www.google.com/imghp?hl=en&tab=wi'"
            ],
            "application/vnd.google.colaboratory.intrinsic+json": {
              "type": "string"
            }
          },
          "metadata": {},
          "execution_count": 66
        }
      ]
    },
    {
      "cell_type": "code",
      "source": [
        "a_elements_all = soup.find_all('a') # 'a'에 속하는 값 가져옴\n",
        "a_elements_all"
      ],
      "metadata": {
        "colab": {
          "base_uri": "https://localhost:8080/"
        },
        "id": "wx1PWBXiLF28",
        "outputId": "8bb8126b-a107-4735-914c-dff9e9d2e83e"
      },
      "execution_count": 67,
      "outputs": [
        {
          "output_type": "execute_result",
          "data": {
            "text/plain": [
              "[<a class=\"gb1\" href=\"http://www.google.com/imghp?hl=en&amp;tab=wi\">Images</a>,\n",
              " <a class=\"gb1\" href=\"http://maps.google.com/maps?hl=en&amp;tab=wl\">Maps</a>,\n",
              " <a class=\"gb1\" href=\"https://play.google.com/?hl=en&amp;tab=w8\">Play</a>,\n",
              " <a class=\"gb1\" href=\"https://www.youtube.com/?tab=w1\">YouTube</a>,\n",
              " <a class=\"gb1\" href=\"https://news.google.com/?tab=wn\">News</a>,\n",
              " <a class=\"gb1\" href=\"https://mail.google.com/mail/?tab=wm\">Gmail</a>,\n",
              " <a class=\"gb1\" href=\"https://drive.google.com/?tab=wo\">Drive</a>,\n",
              " <a class=\"gb1\" href=\"https://www.google.com/intl/en/about/products?tab=wh\" style=\"text-decoration:none\"><u>More</u> »</a>,\n",
              " <a class=\"gb4\" href=\"http://www.google.com/history/optout?hl=en\">Web History</a>,\n",
              " <a class=\"gb4\" href=\"/preferences?hl=en\">Settings</a>,\n",
              " <a class=\"gb4\" href=\"https://accounts.google.com/ServiceLogin?hl=en&amp;passive=true&amp;continue=http://www.google.com/&amp;ec=GAZAAQ\" id=\"gb_70\" target=\"_top\">Sign in</a>,\n",
              " <a href=\"/advanced_search?hl=en&amp;authuser=0\">Advanced search</a>,\n",
              " <a href=\"/intl/en/ads/\">Advertising Programs</a>,\n",
              " <a href=\"/services/\">Business Solutions</a>,\n",
              " <a href=\"/intl/en/about.html\">About Google</a>,\n",
              " <a href=\"/intl/en/policies/privacy/\">Privacy</a>,\n",
              " <a href=\"/intl/en/policies/terms/\">Terms</a>]"
            ]
          },
          "metadata": {},
          "execution_count": 67
        }
      ]
    },
    {
      "cell_type": "code",
      "source": [
        "# a태그이면서 class_가 gb1인 것\n",
        "a_gb1 = soup.find_all('a', class_='gb1') # \"class_='gb1'\"대신에 attrs={\"class\": \"gb1\"}도 가능\n",
        "a_gb1"
      ],
      "metadata": {
        "id": "dq4yCu9ylMr7",
        "colab": {
          "base_uri": "https://localhost:8080/"
        },
        "outputId": "f33a1e9b-cbf6-42bf-e7f1-b3f5e34a6d4d"
      },
      "execution_count": 81,
      "outputs": [
        {
          "output_type": "execute_result",
          "data": {
            "text/plain": [
              "[<a class=\"gb1\" href=\"http://www.google.com/imghp?hl=en&amp;tab=wi\">Images</a>,\n",
              " <a class=\"gb1\" href=\"http://maps.google.com/maps?hl=en&amp;tab=wl\">Maps</a>,\n",
              " <a class=\"gb1\" href=\"https://play.google.com/?hl=en&amp;tab=w8\">Play</a>,\n",
              " <a class=\"gb1\" href=\"https://www.youtube.com/?tab=w1\">YouTube</a>,\n",
              " <a class=\"gb1\" href=\"https://news.google.com/?tab=wn\">News</a>,\n",
              " <a class=\"gb1\" href=\"https://mail.google.com/mail/?tab=wm\">Gmail</a>,\n",
              " <a class=\"gb1\" href=\"https://drive.google.com/?tab=wo\">Drive</a>,\n",
              " <a class=\"gb1\" href=\"https://www.google.com/intl/en/about/products?tab=wh\" style=\"text-decoration:none\"><u>More</u> »</a>]"
            ]
          },
          "metadata": {},
          "execution_count": 81
        }
      ]
    },
    {
      "cell_type": "code",
      "source": [
        "sample = [] # for를 사용하면 위의 값에서 다른 class나 태그를 찾아줄 수 있음\n",
        "\n",
        "for i in a_gb1:\n",
        "    i.find_all(class_ = 'gb1') \n",
        "    sample.append(i)\n",
        "\n",
        "print(sample)"
      ],
      "metadata": {
        "colab": {
          "base_uri": "https://localhost:8080/"
        },
        "id": "CBjpa2cnLqFI",
        "outputId": "adfa4824-9e53-4573-9670-d67d69f22842"
      },
      "execution_count": 77,
      "outputs": [
        {
          "output_type": "stream",
          "name": "stdout",
          "text": [
            "[<a class=\"gb1\" href=\"http://www.google.com/imghp?hl=en&amp;tab=wi\">Images</a>, <a class=\"gb1\" href=\"http://maps.google.com/maps?hl=en&amp;tab=wl\">Maps</a>, <a class=\"gb1\" href=\"https://play.google.com/?hl=en&amp;tab=w8\">Play</a>, <a class=\"gb1\" href=\"https://www.youtube.com/?tab=w1\">YouTube</a>, <a class=\"gb1\" href=\"https://news.google.com/?tab=wn\">News</a>, <a class=\"gb1\" href=\"https://mail.google.com/mail/?tab=wm\">Gmail</a>, <a class=\"gb1\" href=\"https://drive.google.com/?tab=wo\">Drive</a>, <a class=\"gb1\" href=\"https://www.google.com/intl/en/about/products?tab=wh\" style=\"text-decoration:none\"><u>More</u> »</a>]\n"
          ]
        }
      ]
    },
    {
      "cell_type": "code",
      "source": [
        "# string 활용(대소문자, 띄어쓰기 구분하여 출력)\n",
        "soup.find_all(string='Images') \n",
        "\n",
        "# string은 해당 문자열만 출력하므로 요소로 받으려면 태그('a')도 함께 써야함\n",
        "soup.find_all('a', string='Images') \n",
        "\n",
        "# 대소문자 섞인 것도 가져오려면 조건부 걸어서 가져오기(태그,클래스랑 같이 못쓰는 듯)\n",
        "soup.find_all(string = lambda text: 'images' in text.lower())\n",
        "\n"
      ],
      "metadata": {
        "id": "9ppsfWbpmQUZ"
      },
      "execution_count": null,
      "outputs": []
    },
    {
      "cell_type": "code",
      "source": [
        "soup.select_one('a') # a자리에 셀렉터 조건써주면됨"
      ],
      "metadata": {
        "id": "sijFLYhLJbsM",
        "colab": {
          "base_uri": "https://localhost:8080/"
        },
        "outputId": "d5ad8153-0d2b-418e-fcde-db9816dccbfd"
      },
      "execution_count": 48,
      "outputs": [
        {
          "output_type": "execute_result",
          "data": {
            "text/plain": [
              "<a class=\"gb1\" href=\"http://www.google.com/imghp?hl=en&amp;tab=wi\">Images</a>"
            ]
          },
          "metadata": {},
          "execution_count": 48
        }
      ]
    },
    {
      "cell_type": "code",
      "source": [
        "soup.select_one('a')['href'] # 요소 꺼내오기"
      ],
      "metadata": {
        "id": "5fomuXVsJgVK",
        "colab": {
          "base_uri": "https://localhost:8080/",
          "height": 35
        },
        "outputId": "99ac0e95-a374-482b-d373-51c908497c8e"
      },
      "execution_count": 32,
      "outputs": [
        {
          "output_type": "execute_result",
          "data": {
            "text/plain": [
              "'http://www.google.com/imghp?hl=en&tab=wi'"
            ],
            "application/vnd.google.colaboratory.intrinsic+json": {
              "type": "string"
            }
          },
          "metadata": {},
          "execution_count": 32
        }
      ]
    },
    {
      "cell_type": "code",
      "source": [
        "text_sam = soup.select_one('a').text # 태그를 적용시킨 텍스트 꺼내오기\n",
        "text_sam                             # text_sam.text.strip() # 불필요한 띄어쓰기 정리"
      ],
      "metadata": {
        "colab": {
          "base_uri": "https://localhost:8080/",
          "height": 35
        },
        "id": "Pi8LGvYJJdI3",
        "outputId": "f3097564-94ff-4925-ab12-40a17268e852"
      },
      "execution_count": 84,
      "outputs": [
        {
          "output_type": "execute_result",
          "data": {
            "text/plain": [
              "'Images'"
            ],
            "application/vnd.google.colaboratory.intrinsic+json": {
              "type": "string"
            }
          },
          "metadata": {},
          "execution_count": 84
        }
      ]
    },
    {
      "cell_type": "code",
      "source": [
        "soup.select('a')"
      ],
      "metadata": {
        "colab": {
          "base_uri": "https://localhost:8080/"
        },
        "id": "YyJM0w91Qj2b",
        "outputId": "31ff6679-0cbe-492c-91b5-a3c20e0eb54b"
      },
      "execution_count": 114,
      "outputs": [
        {
          "output_type": "execute_result",
          "data": {
            "text/plain": [
              "[<a class=\"gb1\" href=\"http://www.google.com/imghp?hl=en&amp;tab=wi\">Images</a>,\n",
              " <a class=\"gb1\" href=\"http://maps.google.com/maps?hl=en&amp;tab=wl\">Maps</a>,\n",
              " <a class=\"gb1\" href=\"https://play.google.com/?hl=en&amp;tab=w8\">Play</a>,\n",
              " <a class=\"gb1\" href=\"https://www.youtube.com/?tab=w1\">YouTube</a>,\n",
              " <a class=\"gb1\" href=\"https://news.google.com/?tab=wn\">News</a>,\n",
              " <a class=\"gb1\" href=\"https://mail.google.com/mail/?tab=wm\">Gmail</a>,\n",
              " <a class=\"gb1\" href=\"https://drive.google.com/?tab=wo\">Drive</a>,\n",
              " <a class=\"gb1\" href=\"https://www.google.com/intl/en/about/products?tab=wh\" style=\"text-decoration:none\"><u>More</u> »</a>,\n",
              " <a class=\"gb4\" href=\"http://www.google.com/history/optout?hl=en\">Web History</a>,\n",
              " <a class=\"gb4\" href=\"/preferences?hl=en\">Settings</a>,\n",
              " <a class=\"gb4\" href=\"https://accounts.google.com/ServiceLogin?hl=en&amp;passive=true&amp;continue=http://www.google.com/&amp;ec=GAZAAQ\" id=\"gb_70\" target=\"_top\">Sign in</a>,\n",
              " <a href=\"/advanced_search?hl=en&amp;authuser=0\">Advanced search</a>,\n",
              " <a href=\"/intl/en/ads/\">Advertising Programs</a>,\n",
              " <a href=\"/services/\">Business Solutions</a>,\n",
              " <a href=\"/intl/en/about.html\">About Google</a>,\n",
              " <a href=\"/intl/en/policies/privacy/\">Privacy</a>,\n",
              " <a href=\"/intl/en/policies/terms/\">Terms</a>]"
            ]
          },
          "metadata": {},
          "execution_count": 114
        }
      ]
    },
    {
      "cell_type": "markdown",
      "source": [
        "## N323 API"
      ],
      "metadata": {
        "id": "R8PR_YQA7Q_n"
      }
    },
    {
      "cell_type": "markdown",
      "source": [
        "- Application Programming Interface의 약자로 프로그램들이 소통할 수 있는 인터페이스\n",
        "- Client와 Service Server간의 소통을 도와주는 API와 API Server가 있음\n",
        "- csv, 문자열, json, xml 등이 있음\n",
        "- Web API는 주로 `JSON형식`을 많이 사용"
      ],
      "metadata": {
        "id": "RtqiHF_t7aBU"
      }
    },
    {
      "cell_type": "markdown",
      "source": [
        "#### JSON, XML"
      ],
      "metadata": {
        "id": "RGc1JKAD82UI"
      }
    },
    {
      "cell_type": "markdown",
      "source": [
        "- javascript Object Notation : 자바스크립트언어에서 object(dict)를 표현하는 방식\n"
      ],
      "metadata": {
        "id": "QdYkD5Ee85v1"
      }
    },
    {
      "cell_type": "markdown",
      "source": [
        "#### HTTP"
      ],
      "metadata": {
        "id": "wsqkfN8c9Wwa"
      }
    },
    {
      "cell_type": "markdown",
      "source": [
        "![image.png](data:image/png;base64,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)"
      ],
      "metadata": {
        "id": "yIzpEH069zP2"
      }
    },
    {
      "cell_type": "markdown",
      "source": [
        "- HyperText Transfer Protocol : 컴퓨터통신규약\n",
        "- CRUD : CREATE, READ, UPDATE, DELETE\n",
        "- CRUD에 사용되는 RESTful HTTP 메소드 (강제성은 없고 아무렇게나 써도 되긴함)\n",
        "   - GET : 특정 리소스요청\n",
        "   - POST : 클라이언트->서버로 많은 정보를 보낼 때(회원가입)\n",
        "   - PUT/PATCH : 서버의 특정 리소스를 업데이트(PUT=전부 / PATCH = 일부)\n",
        "   - DELETE : 서버측의 특정 리소스 삭제(회원탈퇴)\n",
        "   - 그외 : https://developer.mozilla.org/en-US/docs/Web/HTTP/Methods\n",
        "   - 튜토리얼 : https://restfulapi.net/rest-api-design-tutorial-with-example/\n",
        "- HTTP 상태 코드 분류\n",
        "   - 100번대 : 정보응답\n",
        "   - 200번대 : 성공응답\n",
        "   - 300번대 : 리다이렉션 메세지\n",
        "   - 400번대 : 클라이언트 에러 응답\n",
        "   - 500번대 : 서버 에러 응답"
      ],
      "metadata": {
        "id": "eWEuKO2k9ZUg"
      }
    },
    {
      "cell_type": "markdown",
      "source": [
        "### Open API에서 데이터 받기"
      ],
      "metadata": {
        "id": "BwwRE_3sEOnu"
      }
    },
    {
      "cell_type": "markdown",
      "source": [
        "#### JSON형식으로 데이터 추출"
      ],
      "metadata": {
        "id": "NqIU0MpUMRuF"
      }
    },
    {
      "cell_type": "code",
      "source": [
        "import requests\n",
        "import json\n",
        "\n",
        "url = ''  # API_URL\n",
        "response = requests.get(url)\n",
        "parsed_data = json.loads(response.text) # 제이슨형식으로 파일 받기\n",
        "\n",
        "parsed_data['weather'][0]['main'] # 이런식으로 값 추출"
      ],
      "metadata": {
        "id": "zIcVZrzVEONY"
      },
      "execution_count": null,
      "outputs": []
    },
    {
      "cell_type": "markdown",
      "source": [
        "#### tweepy"
      ],
      "metadata": {
        "id": "j0xvveIyK5D1"
      }
    },
    {
      "cell_type": "code",
      "source": [
        "pip install tweepy # https://docs.tweepy.org/en/stable/install.html"
      ],
      "metadata": {
        "id": "NQuh4wJPLhVy"
      },
      "execution_count": null,
      "outputs": []
    },
    {
      "cell_type": "code",
      "source": [
        "import tweepy\n",
        "\n",
        "auth = tweepy.OAuthHandler(api_key, api_key_secret)      # OAuth 뒤에 user 지우고 쓸것\n",
        "auth.set_access_token(access_token, access_token_secret) # 왜 따로쓰느진 모르겠음\n",
        "\n",
        "# 위의 2단계 보안체계로 api 사용할 수 있음\n",
        "api = tweepy.API(auth) \n",
        "\n",
        "# 해당유저의 tweet 가져오기\n",
        "api.user_timeline(username, tweet_mode = 'extended') # 140자 넘어가도 모두 추출 / 'compat' = 140자 이상 자름 "
      ],
      "metadata": {
        "id": "OIN7t8TlK4Zd"
      },
      "execution_count": null,
      "outputs": []
    },
    {
      "cell_type": "markdown",
      "source": [
        "#### SQL INSERT ERROR"
      ],
      "metadata": {
        "id": "kTnXUiUfNpuE"
      }
    },
    {
      "cell_type": "code",
      "source": [
        "# 1. 중복시 삽입 건너뜀(중복 레코드 관리를 위해 UNIQUE INDEX 필요)\n",
        "INSERT IGNORE INTO 테이블명 ('컬럼','컬럼') VALUES ('데이터1', '데이터2')\n",
        "\n",
        "# 2. 중복시 기존 데이터 삭제, 새 데이터 삽입\n",
        "REPLACE INTO 테이블명 ('컬럼','컬럼') VALUES ('데이터1', '데이터2')\n",
        "\n",
        "# 3. 중복시 기존데이터 업데이트\n",
        "INSERT INTO 테이블명 ('컬럼1','컬럼2') VALUES ('데이터1', '데이터2') \n",
        "ON DUPLICATE KEY UPDATE '컬럼2' = VALUES('데이터2') # 업데이트할 컬럼 지정"
      ],
      "metadata": {
        "id": "mb79mvNUNtw7"
      },
      "execution_count": null,
      "outputs": []
    },
    {
      "cell_type": "code",
      "source": [
        "# PRIMARY 추가하는 방법\n",
        "ALTER TABLE person ADD PRIMARY KEY (name)\n",
        "\n",
        "# UNIQUE INDEX를 추가하는 방법\n",
        "ALTER TABLE person ADD UNIQUE INDEX (name)"
      ],
      "metadata": {
        "id": "0mNvbSt4PXCj"
      },
      "execution_count": null,
      "outputs": []
    }
  ]
}