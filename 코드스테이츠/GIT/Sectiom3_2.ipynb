{
  "nbformat": 4,
  "nbformat_minor": 0,
  "metadata": {
    "colab": {
      "provenance": [],
      "collapsed_sections": [],
      "authorship_tag": "ABX9TyNUmFRH11ptzghh5lgYaA6a",
      "include_colab_link": true
    },
    "kernelspec": {
      "name": "python3",
      "display_name": "Python 3"
    },
    "language_info": {
      "name": "python"
    }
  },
  "cells": [
    {
      "cell_type": "markdown",
      "metadata": {
        "id": "view-in-github",
        "colab_type": "text"
      },
      "source": [
        "<a href=\"https://colab.research.google.com/github/ev1025/1day1commit/blob/main/%EC%BD%94%EB%93%9C%EC%8A%A4%ED%85%8C%EC%9D%B4%EC%B8%A0/GIT/Sectiom3_2.ipynb\" target=\"_parent\"><img src=\"https://colab.research.google.com/assets/colab-badge.svg\" alt=\"Open In Colab\"/></a>"
      ]
    },
    {
      "cell_type": "markdown",
      "source": [
        "## N321 -  HTML, CSS, DOM"
      ],
      "metadata": {
        "id": "ZbvJ4HLhYUdS"
      }
    },
    {
      "cell_type": "markdown",
      "source": [
        "### HTML\n"
      ],
      "metadata": {
        "id": "cfLJpw1MpM2d"
      }
    },
    {
      "cell_type": "markdown",
      "source": [
        "- 웹페이지의 뼈대같은 구조를 관리하는 언어\n",
        "- HTML ELEMENT : body div li h2 등등   \n",
        "- HTML 태그 : \\<BODY>\\</BODY> \\<BR> 등   \n",
        "- HTML Children : element 안에 있는 또 다른 element\n"
      ],
      "metadata": {
        "id": "gO8Rw0SMpROq"
      }
    },
    {
      "cell_type": "markdown",
      "source": [
        "### CSS"
      ],
      "metadata": {
        "id": "33a1DqPCp_Ei"
      }
    },
    {
      "cell_type": "markdown",
      "source": [
        "- HTML의 스타일을 만들어주는 언어\n",
        "- CSS Selector\n",
        "   - Type : p div body \n",
        "   - Class : .으로 구분\n",
        "   - ID : #으로 구분"
      ],
      "metadata": {
        "id": "yNhO47PfqFKa"
      }
    },
    {
      "cell_type": "markdown",
      "source": [
        "### DOM메소드(Document Object Model)"
      ],
      "metadata": {
        "id": "F2mIEB37YhtW"
      }
    },
    {
      "cell_type": "markdown",
      "source": [
        "- object : 자바에서 사용하는 HTML에 접근하는 프로그래밍 언어\n",
        "- F12 Console창에서 사용"
      ],
      "metadata": {
        "id": "rA1ni2oRYlew"
      }
    },
    {
      "cell_type": "code",
      "execution_count": null,
      "metadata": {
        "id": "JoBZJQzfYTsJ"
      },
      "outputs": [],
      "source": [
        "document.querySelectorAll('h2')  # 사용 예시\n",
        "\n",
        "getElementsbyTagName('태그')      #  태그 이름으로 문서의 요소들을 리턴합니다.\n",
        "getElementById('태그')            # 'id' 가 일치하는 요소들을 리턴합니다.\n",
        "getElementsByClassName('태그')    # '클래스' 가 일치하는 요소들을 리턴합니다.\n",
        "querySelector('태그')             # 셀렉터(들)과 일치하는 요소를 리턴합니다.\n",
        "querySelectorAll('태그')          # 셀렉터(들)과 일치하는 모든 요소들을 리턴합니다."
      ]
    },
    {
      "cell_type": "markdown",
      "source": [
        "### 웹크롤링 / 웹스크래핑"
      ],
      "metadata": {
        "id": "C-y2gtSRZoeA"
      }
    },
    {
      "cell_type": "markdown",
      "source": [
        "- 웹크롤링 : 기어다닌다는 뜻의 크롤링, 데이터를 가져옴(인덱싱함)\n",
        "- 웹스크롤링 : 특정 정보를 자동화하여 가져오는 방식"
      ],
      "metadata": {
        "id": "9sbXH_KVZs5s"
      }
    },
    {
      "cell_type": "markdown",
      "source": [
        "#### requests"
      ],
      "metadata": {
        "id": "KsIjiGmraPaH"
      }
    },
    {
      "cell_type": "markdown",
      "source": [
        "- 파이썬과 웹이 소통할 수 있도록 요청을 보내는 웹스크래핑 라이브러리\n",
        "- response응답 코드 https://developer.mozilla.org/ko/docs/Web/HTTP/Status"
      ],
      "metadata": {
        "id": "N0MuNG5KaUij"
      }
    },
    {
      "cell_type": "code",
      "source": [
        "pip install requests"
      ],
      "metadata": {
        "colab": {
          "base_uri": "https://localhost:8080/"
        },
        "id": "7bL-DH8maqNP",
        "outputId": "e7d72514-2e7a-437d-a50d-45583c5393c5"
      },
      "execution_count": null,
      "outputs": [
        {
          "output_type": "stream",
          "name": "stdout",
          "text": [
            "Looking in indexes: https://pypi.org/simple, https://us-python.pkg.dev/colab-wheels/public/simple/\n",
            "Requirement already satisfied: requests in /usr/local/lib/python3.7/dist-packages (2.23.0)\n",
            "Requirement already satisfied: certifi>=2017.4.17 in /usr/local/lib/python3.7/dist-packages (from requests) (2022.9.24)\n",
            "Requirement already satisfied: idna<3,>=2.5 in /usr/local/lib/python3.7/dist-packages (from requests) (2.10)\n",
            "Requirement already satisfied: chardet<4,>=3.0.2 in /usr/local/lib/python3.7/dist-packages (from requests) (3.0.4)\n",
            "Requirement already satisfied: urllib3!=1.25.0,!=1.25.1,<1.26,>=1.21.1 in /usr/local/lib/python3.7/dist-packages (from requests) (1.24.3)\n"
          ]
        }
      ]
    },
    {
      "cell_type": "code",
      "source": [
        "import requests\n",
        "\n",
        "response = requests.get('http://google.com')\n",
        "print(response) # 정상적으로 응답하면 <Response [200]> 출력"
      ],
      "metadata": {
        "colab": {
          "base_uri": "https://localhost:8080/"
        },
        "id": "pmGoRW6Napn3",
        "outputId": "8691e947-704d-4ccc-a8b8-6a39fc1d9046"
      },
      "execution_count": null,
      "outputs": [
        {
          "output_type": "stream",
          "name": "stdout",
          "text": [
            "<Response [200]>\n"
          ]
        }
      ]
    },
    {
      "cell_type": "code",
      "source": [
        "type(response) # requests 라이브러리의 Response 타입"
      ],
      "metadata": {
        "colab": {
          "base_uri": "https://localhost:8080/"
        },
        "id": "IaUf_iJobelT",
        "outputId": "01edd293-87e2-472d-8790-35fe4c3139d4"
      },
      "execution_count": null,
      "outputs": [
        {
          "output_type": "execute_result",
          "data": {
            "text/plain": [
              "requests.models.Response"
            ]
          },
          "metadata": {},
          "execution_count": 6
        }
      ]
    },
    {
      "cell_type": "code",
      "source": [
        "response.status_code # 객체명(response)응답번호 확인하는 매서드"
      ],
      "metadata": {
        "colab": {
          "base_uri": "https://localhost:8080/"
        },
        "id": "Ro_xyRr_ciqG",
        "outputId": "26699221-c54e-4c36-8d82-e9252588a047"
      },
      "execution_count": null,
      "outputs": [
        {
          "output_type": "execute_result",
          "data": {
            "text/plain": [
              "200"
            ]
          },
          "metadata": {},
          "execution_count": 7
        }
      ]
    },
    {
      "cell_type": "code",
      "source": [
        "print(response.raise_for_status()) # None이면 응답성공"
      ],
      "metadata": {
        "colab": {
          "base_uri": "https://localhost:8080/"
        },
        "id": "is2SqGgZdnqy",
        "outputId": "4b524f28-a2f8-4524-bd1f-6edd335529da"
      },
      "execution_count": null,
      "outputs": [
        {
          "output_type": "stream",
          "name": "stdout",
          "text": [
            "None\n"
          ]
        }
      ]
    },
    {
      "cell_type": "markdown",
      "source": [
        "##### 응답 실패시, 에러뜨도록 출력"
      ],
      "metadata": {
        "id": "413hn1JXelRF"
      }
    },
    {
      "cell_type": "code",
      "source": [
        "import requests\n",
        "from requests.exceptions import HTTPError # 에러발생 시 HTTP에러만 따로 출력\n",
        "\n",
        "url = 'http://google.com'\n",
        "\n",
        "try:\n",
        "    resp = requests.get(url)\n",
        "    resp.raise_for_status()  \n",
        "except HTTPError as Err:\n",
        "    print('HTTP에러 발생')\n",
        "except Exception as Err:\n",
        "    print('다른에러 발생')\n",
        "else:\n",
        "    print('성공')"
      ],
      "metadata": {
        "colab": {
          "base_uri": "https://localhost:8080/"
        },
        "id": "nxOlK4QadJ_P",
        "outputId": "06074603-6d47-4cf0-f9c3-b177eeecba35"
      },
      "execution_count": null,
      "outputs": [
        {
          "output_type": "stream",
          "name": "stdout",
          "text": [
            "성공\n"
          ]
        }
      ]
    },
    {
      "cell_type": "code",
      "source": [
        "resp.content  # byte형식, 원본 (이미지같은거 가져올 때 사용)\n",
        "resp.text     # str형식, 보기 편하게(<html>이런식으로)"
      ],
      "metadata": {
        "id": "cNvgw8zLfxj1"
      },
      "execution_count": null,
      "outputs": []
    },
    {
      "cell_type": "markdown",
      "source": [
        "### BeautifulSoup 라이브러리"
      ],
      "metadata": {
        "id": "UEVyXVh6ga8_"
      }
    },
    {
      "cell_type": "markdown",
      "source": [
        "- requests로 받은 응답내용을 파싱하고 정보를 얻어내는 라이브러리\n",
        "- 다른 parser를 쓰고 싶다면 밑의 공식문서 참조\n",
        "- Beautiful Soup : https://www.crummy.com/software/BeautifulSoup/bs4/doc/\n"
      ],
      "metadata": {
        "id": "QtvqZ-JCgfBp"
      }
    },
    {
      "cell_type": "code",
      "source": [
        "pip install beautifulsoup4"
      ],
      "metadata": {
        "colab": {
          "base_uri": "https://localhost:8080/"
        },
        "id": "V5-2Q2e5Yb3S",
        "outputId": "eed5f755-b7c2-4c56-d328-1aa59f453dc5"
      },
      "execution_count": null,
      "outputs": [
        {
          "output_type": "stream",
          "name": "stdout",
          "text": [
            "Looking in indexes: https://pypi.org/simple, https://us-python.pkg.dev/colab-wheels/public/simple/\n",
            "Requirement already satisfied: beautifulsoup4 in /usr/local/lib/python3.7/dist-packages (4.6.3)\n"
          ]
        }
      ]
    },
    {
      "cell_type": "code",
      "source": [
        "import requests\n",
        "from bs4 import BeautifulSoup\n",
        "\n",
        "url = 'http://google.com'\n",
        "page = requests.get(url)\n",
        "# page.content(HTML, XML)를 파싱을 통해 파이선에서도 쉽게 사용할 수있도록 변환\n",
        "soup = BeautifulSoup(page.content, 'html.parser') # XML이나 다른 html파서를 사용하려면 설치해야함"
      ],
      "metadata": {
        "id": "8yYzGGQwgtzQ"
      },
      "execution_count": null,
      "outputs": []
    },
    {
      "cell_type": "markdown",
      "source": [
        "#### 요소찾기"
      ],
      "metadata": {
        "id": "Zz4wff0OilSR"
      }
    },
    {
      "cell_type": "code",
      "source": [
        "# id니까 find로 1개의 요소 찾기\n",
        "dog_elements = soup.find(id = 'dog')         \n",
        "\n",
        "# class_는 find_all로 여러 요소 찾기 / 파이썬class와 구분하기위해 _ 붙여줌\n",
        "cat_elements = soup.find_all(class_ = 'cat') "
      ],
      "metadata": {
        "id": "-RFaxXDviovh"
      },
      "execution_count": null,
      "outputs": []
    },
    {
      "cell_type": "code",
      "source": [
        "# class_가 cat인 것들 중에 클래스가 fish인 것\n",
        "cat_elements = soup.find_all(class_='cat') # attrs={\"class\": \"cat\"}도 가능\n",
        "\n",
        "for cat_el in cat_elements:\n",
        "    cat_el.find(class_ = 'fish')"
      ],
      "metadata": {
        "id": "dq4yCu9ylMr7"
      },
      "execution_count": null,
      "outputs": []
    },
    {
      "cell_type": "code",
      "source": [
        "# 태그가 div이면서 클래스가 cat인 정보 찾기\n",
        "cat_div_elements = soup.find_all('div', class_='cat') "
      ],
      "metadata": {
        "id": "9fjnfJOUl-jv"
      },
      "execution_count": null,
      "outputs": []
    },
    {
      "cell_type": "code",
      "source": [
        "# string 활용(대소문자, 띄어쓰기 구분)\n",
        "soup.find_all(string='raining') \n",
        "\n",
        "# 대소문자 섞인 것도 가져오려면 조건부 걸어서 가져오기\n",
        "soup.find_all(string = lambda text: 'raining' in text.lower())\n",
        "\n",
        "# string은 하나의 문자열로 출력하므로 요소로 받으려면 태그도 같이 써야함\n",
        "soup.find_all(h2, string='raining')"
      ],
      "metadata": {
        "id": "9ppsfWbpmQUZ"
      },
      "execution_count": null,
      "outputs": []
    },
    {
      "cell_type": "code",
      "source": [
        "soup.select_one(a) # a자리에 셀렉터 조건써주면됨\n",
        ">[<a>abc</a>] # 리스트가됨"
      ],
      "metadata": {
        "id": "sijFLYhLJbsM"
      },
      "execution_count": null,
      "outputs": []
    },
    {
      "cell_type": "code",
      "source": [
        "soup.selet(a)\n",
        "<a>abc</a>"
      ],
      "metadata": {
        "id": "5fomuXVsJgVK"
      },
      "execution_count": null,
      "outputs": []
    },
    {
      "cell_type": "markdown",
      "source": [
        "#### 정보얻기"
      ],
      "metadata": {
        "id": "zVN5CpA_nysB"
      }
    },
    {
      "cell_type": "code",
      "source": [
        "# HTML에서 가져오려면\n",
        "<p class='cat'>This is a p-cat</p> \n",
        "\n",
        "cat_el = soup.find_all(p, class_='cat')\n",
        "cat_el.text # 해당 요소가 적용된 text 출력 - > This is a p-cat\n",
        "\n",
        "# cat_el.text.strip() # 불필요한 띄어쓰기 정리"
      ],
      "metadata": {
        "id": "QZS_X5PKn0I1"
      },
      "execution_count": null,
      "outputs": []
    },
    {
      "cell_type": "code",
      "source": [
        "ㅇ 스크레이핑 방식 중 마우스나 키보드 작업을 하지않아도 웹 브라우져와 HTML에 모두 표현되는 데이터를 가져오는 방식을 정적 스크레이핑이라고 합니다.\n",
        "ㅇ 웹에는 정말 많은 소스들이 존재합니다  마치 https://urclass.codestates.com/ 의 Magazine 처럼 마우스로 스크롤을 내려야 기사들이 보이는 경우의 데이터는 어떻게 가져올까요?         \n",
        "ㅇ 11번가의 베스트 500 데이터는 어떻게 가져올까요?\n",
        "ㅇ https://www.11st.co.kr/browsing/BestSeller.tmall?method=getBestSellerMain#pageNum%%3\n",
        "ㅇ 이럴 때 스크레이핑하는 방법을 동적 스크레이핑이라고 합니다. 가장 유명한 셀레니움을 통해서 동적 스크레이핑에 대해서 알아볼까요? "
      ],
      "metadata": {
        "id": "ZGKyTRmuovn_"
      },
      "execution_count": null,
      "outputs": []
    }
  ]
}