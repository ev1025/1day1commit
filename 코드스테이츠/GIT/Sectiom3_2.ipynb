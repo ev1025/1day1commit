{
  "nbformat": 4,
  "nbformat_minor": 0,
  "metadata": {
    "colab": {
      "provenance": [],
      "collapsed_sections": [],
      "authorship_tag": "ABX9TyMS5ymKR/W7yyiF4xPhRD9E",
      "include_colab_link": true
    },
    "kernelspec": {
      "name": "python3",
      "display_name": "Python 3"
    },
    "language_info": {
      "name": "python"
    }
  },
  "cells": [
    {
      "cell_type": "markdown",
      "metadata": {
        "id": "view-in-github",
        "colab_type": "text"
      },
      "source": [
        "<a href=\"https://colab.research.google.com/github/ev1025/1day1commit/blob/main/%EC%BD%94%EB%93%9C%EC%8A%A4%ED%85%8C%EC%9D%B4%EC%B8%A0/GIT/Sectiom3_2.ipynb\" target=\"_parent\"><img src=\"https://colab.research.google.com/assets/colab-badge.svg\" alt=\"Open In Colab\"/></a>"
      ]
    },
    {
      "cell_type": "markdown",
      "source": [
        "## N321 - 디버깅,  Class"
      ],
      "metadata": {
        "id": "wrylmGkLJcrj"
      }
    },
    {
      "cell_type": "markdown",
      "source": [
        "### 디버깅, 함수"
      ],
      "metadata": {
        "id": "o-Vh0vZaRGb3"
      }
    },
    {
      "cell_type": "markdown",
      "source": [
        "- 공식문서 : https://docs.python.org/3/library/pdb.html (3.7버전 이후 화면 한글로 변경가능)\n",
        "- c(continue) : 다음 breackpoint로 이동\n",
        "- l(list) : 주변 11줄 코드 출력\n",
        "- s(step) : 다음 문장 실행 (함수일 때는 함수 내부로 들어가서 하나씩 실행)\n",
        "- n(next) : 다음 문장 실행 (함수 내부로 들어가지 않고 바로 return값 받음)\n",
        "- 현재 커서 row는 debug.py(n)에 표현됨\n"
      ],
      "metadata": {
        "id": "LoQQkfujK48k"
      }
    },
    {
      "cell_type": "markdown",
      "source": [
        "![캡처.JPG](data:image/jpeg;base64,/9j/4AAQSkZJRgABAQEAYABgAAD/4RDmRXhpZgAATU0AKgAAAAgABQESAAMAAAABAAEAAAE7AAIAAAAFAAAIVodpAAQAAAABAAAIXJydAAEAAAAKAAAQ1OocAAcAAAgMAAAASgAAAAAc6gAAAAgAAAAAAAAAAAAAAAAAAAAAAAAAAAAAAAAAAAAAAAAAAAAAAAAAAAAAAAAAAAAAAAAAAAAAAAAAAAAAAAAAAAAAAAAAAAAAAAAAAAAAAAAAAAAAAAAAAAAAAAAAAAAAAAAAAAAAAAAAAAAAAAAAAAAAAAAAAAAAAAAAAAAAAAAAAAAAAAAAAAAAAAAAAAAAAAAAAAAAAAAAAAAAAAAAAAAAAAAAAAAAAAAAAAAAAAAAAAAAAAAAAAAAAAAAAAAAAAAAAAAAAAAAAAAAAAAAAAAAAAAAAAAAAAAAAAAAAAAAAAAAAAAAAAAAAAAAAAAAAAAAAAAAAAAAAAAAAAAAAAAAAAAAAAAAAAAAAAAAAAAAAAAAAAAAAAAAAAAAAAAAAAAAAAAAAAAAAAAAAAAAAAAAAAAAAAAAAAAAAAAAAAAAAAAAAAAAAAAAAAAAAAAAAAAAAAAAAAAAAAAAAAAAAAAAAAAAAAAAAAAAAAAAAAAAAAAAAAAAAAAAAAAAAAAAAAAAAAAAAAAAAAAAAAAAAAAAAAAAAAAAAAAAAAAAAAAAAAAAAAAAAAAAAAAAAAAAAAAAAAAAAAAAAAAAAAAAAAAAAAAAAAAAAAAAAAAAAAAAAAAAAAAAAAAAAAAAAAAAAAAAAAAAAAAAAAAAAAAAAAAAAAAAAAAAAAAAAAAAAAAAAAAAAAAAAAAAAAAAAAAAAAAAAAAAAAAAAAAAAAAAAAAAAAAAAAAAAAAAAAAAAAAAAAAAAAAAAAAAAAAAAAAAAAAAAAAAAAAAAAAAAAAAAAAAAAAAAAAAAAAAAAAAAAAAAAAAAAAAAAAAAAAAAAAAAAAAAAAAAAAAAAAAAAAAAAAAAAAAAAAAAAAAAAAAAAAAAAAAAAAAAAAAAAAAAAAAAAAAAAAAAAAAAAAAAAAAAAAAAAAAAAAAAAAAAAAAAAAAAAAAAAAAAAAAAAAAAAAAAAAAAAAAAAAAAAAAAAAAAAAAAAAAAAAAAAAAAAAAAAAAAAAAAAAAAAAAAAAAAAAAAAAAAAAAAAAAAAAAAAAAAAAAAAAAAAAAAAAAAAAAAAAAAAAAAAAAAAAAAAAAAAAAAAAAAAAAAAAAAAAAAAAAAAAAAAAAAAAAAAAAAAAAAAAAAAAAAAAAAAAAAAAAAAAAAAAAAAAAAAAAAAAAAAAAAAAAAAAAAAAAAAAAAAAAAAAAAAAAAAAAAAAAAAAAAAAAAAAAAAAAAAAAAAAAAAAAAAAAAAAAAAAAAAAAAAAAAAAAAAAAAAAAAAAAAAAAAAAAAAAAAAAAAAAAAAAAAAAAAAAAAAAAAAAAAAAAAAAAAAAAAAAAAAAAAAAAAAAAAAAAAAAAAAAAAAAAAAAAAAAAAAAAAAAAAAAAAAAAAAAAAAAAAAAAAAAAAAAAAAAAAAAAAAAAAAAAAAAAAAAAAAAAAAAAAAAAAAAAAAAAAAAAAAAAAAAAAAAAAAAAAAAAAAAAAAAAAAAAAAAAAAAAAAAAAAAAAAAAAAAAAAAAAAAAAAAAAAAAAAAAAAAAAAAAAAAAAAAAAAAAAAAAAAAAAAAAAAAAAAAAAAAAAAAAAAAAAAAAAAAAAAAAAAAAAAAAAAAAAAAAAAAAAAAAAAAAAAAAAAAAAAAAAAAAAAAAAAAAAAAAAAAAAAAAAAAAAAAAAAAAAAAAAAAAAAAAAAAAAAAAAAAAAAAAAAAAAAAAAAAAAAAAAAAAAAAAAAAAAAAAAAAAAAAAAAAAAAAAAAAAAAAAAAAAAAAAAAAAAAAAAAAAAAAAAAAAAAAAAAAAAAAAAAAAAAAAAAAAAAAAAAAAAAAAAAAAAAAAAAAAAAAAAAAAAAAAAAAAAAAAAAAAAAAAAAAAAAAAAAAAAAAAAAAAAAAAAAAAAAAAAAAAAAAAAAAAAAAAAAAAAAAAAAAAAAAAAAAAAAAAAAAAAAAAAAAAAAAAAAAAAAAAAAAAAAAAAAAAAAAAAAAAAAAAAAAAAAAAAAAAAAAAAAAAAAAAAAAAAAAAAAAAAAAAAAAAAAAAAAAAAAAAAAAAAAAAAAAAAAAAAAAAAAAAAAAAAAAAAAAAAAAAAAAAAAAAAAAAAAAAAAAAAAAAAAAAAAAAAAAAAAAAAAAAAAAAAAAAAAAAAAAAAAAAAAAAAAAAAAAAAAAAAAAAAAAAAAAAAAAAAAAAAAAAAAAAAAAAAAAAAAAAAAAAAAAAAAAAAAAAAAAAAAAAAAAAAAAAAAAAAAAAAAAAAAAAAAAAAAAAAAAAAAAAAAAAAAAAAAAAAAAAAAAAAAAAAAAAAAAAAAAAAAAAAAAAAAAAAAAAAAAAAAAAAAAAAAAAAAAAAAAAAAAAAAAAAAAAAAAAAAAAAAAAAAAAAAAAAAAAAAAAAAAAAAAAAAAAAAAAAAAAAAAAAAAAAAAAAAAAAAAAAAAAAAAAAAAAAAAAAAAAAAAAAAAAAAAAAAAAAAAAAAAAAAAAAAAAAAAAAAAAAAAAAAAAAAAAAAAAAAAAAAAAAAAAAAAAAAAAAAAAAAAAAAAAAAAAAAAAAAAAAAAAAAAAAAAAAAAAAAAAAAAAAAAAAAAAAAAAAAAAAAAAAAAAAAAAAAAAAAAAAAAAAAAAAAAAAAAAAAAAAAAAAAAAAAAAAAAAAAAAAAAAAAAAAAAAAAAAAAAAAAAAAAAAAAAAAAAAAAAAAAAAAAAAAAAAAAAAAAAAAAAAAAAAAAAAAAAAAAAAAAAAAAAAAAAAAAAAAAAAAAAAAAAAAAAAAGVudnkAAAAFkAMAAgAAABQAABCqkAQAAgAAABQAABC+kpEAAgAAAAMyMgAAkpIAAgAAAAMyMgAA6hwABwAACAwAAAieAAAAABzqAAAACAAAAAAAAAAAAAAAAAAAAAAAAAAAAAAAAAAAAAAAAAAAAAAAAAAAAAAAAAAAAAAAAAAAAAAAAAAAAAAAAAAAAAAAAAAAAAAAAAAAAAAAAAAAAAAAAAAAAAAAAAAAAAAAAAAAAAAAAAAAAAAAAAAAAAAAAAAAAAAAAAAAAAAAAAAAAAAAAAAAAAAAAAAAAAAAAAAAAAAAAAAAAAAAAAAAAAAAAAAAAAAAAAAAAAAAAAAAAAAAAAAAAAAAAAAAAAAAAAAAAAAAAAAAAAAAAAAAAAAAAAAAAAAAAAAAAAAAAAAAAAAAAAAAAAAAAAAAAAAAAAAAAAAAAAAAAAAAAAAAAAAAAAAAAAAAAAAAAAAAAAAAAAAAAAAAAAAAAAAAAAAAAAAAAAAAAAAAAAAAAAAAAAAAAAAAAAAAAAAAAAAAAAAAAAAAAAAAAAAAAAAAAAAAAAAAAAAAAAAAAAAAAAAAAAAAAAAAAAAAAAAAAAAAAAAAAAAAAAAAAAAAAAAAAAAAAAAAAAAAAAAAAAAAAAAAAAAAAAAAAAAAAAAAAAAAAAAAAAAAAAAAAAAAAAAAAAAAAAAAAAAAAAAAAAAAAAAAAAAAAAAAAAAAAAAAAAAAAAAAAAAAAAAAAAAAAAAAAAAAAAAAAAAAAAAAAAAAAAAAAAAAAAAAAAAAAAAAAAAAAAAAAAAAAAAAAAAAAAAAAAAAAAAAAAAAAAAAAAAAAAAAAAAAAAAAAAAAAAAAAAAAAAAAAAAAAAAAAAAAAAAAAAAAAAAAAAAAAAAAAAAAAAAAAAAAAAAAAAAAAAAAAAAAAAAAAAAAAAAAAAAAAAAAAAAAAAAAAAAAAAAAAAAAAAAAAAAAAAAAAAAAAAAAAAAAAAAAAAAAAAAAAAAAAAAAAAAAAAAAAAAAAAAAAAAAAAAAAAAAAAAAAAAAAAAAAAAAAAAAAAAAAAAAAAAAAAAAAAAAAAAAAAAAAAAAAAAAAAAAAAAAAAAAAAAAAAAAAAAAAAAAAAAAAAAAAAAAAAAAAAAAAAAAAAAAAAAAAAAAAAAAAAAAAAAAAAAAAAAAAAAAAAAAAAAAAAAAAAAAAAAAAAAAAAAAAAAAAAAAAAAAAAAAAAAAAAAAAAAAAAAAAAAAAAAAAAAAAAAAAAAAAAAAAAAAAAAAAAAAAAAAAAAAAAAAAAAAAAAAAAAAAAAAAAAAAAAAAAAAAAAAAAAAAAAAAAAAAAAAAAAAAAAAAAAAAAAAAAAAAAAAAAAAAAAAAAAAAAAAAAAAAAAAAAAAAAAAAAAAAAAAAAAAAAAAAAAAAAAAAAAAAAAAAAAAAAAAAAAAAAAAAAAAAAAAAAAAAAAAAAAAAAAAAAAAAAAAAAAAAAAAAAAAAAAAAAAAAAAAAAAAAAAAAAAAAAAAAAAAAAAAAAAAAAAAAAAAAAAAAAAAAAAAAAAAAAAAAAAAAAAAAAAAAAAAAAAAAAAAAAAAAAAAAAAAAAAAAAAAAAAAAAAAAAAAAAAAAAAAAAAAAAAAAAAAAAAAAAAAAAAAAAAAAAAAAAAAAAAAAAAAAAAAAAAAAAAAAAAAAAAAAAAAAAAAAAAAAAAAAAAAAAAAAAAAAAAAAAAAAAAAAAAAAAAAAAAAAAAAAAAAAAAAAAAAAAAAAAAAAAAAAAAAAAAAAAAAAAAAAAAAAAAAAAAAAAAAAAAAAAAAAAAAAAAAAAAAAAAAAAAAAAAAAAAAAAAAAAAAAAAAAAAAAAAAAAAAAAAAAAAAAAAAAAAAAAAAAAAAAAAAAAAAAAAAAAAAAAAAAAAAAAAAAAAAAAAAAAAAAAAAAAAAAAAAAAAAAAAAAAAAAAAAAAAAAAAAAAAAAAAAAAAAAAAAAAAAAAAAAAAAAAAAAAAAAAAAAAAAAAAAAAAAAAAAAAAAAAAAAAAAAAAAAAAAAAAAAAAAAAAAAAAAAAAAAAAAAAAAAAAAAAAAAAAAAAAAAAAAAAAAAAAAAAAAAAAAAAAAAAAAAAAAAAAAAAAAAAAAAAAAAAAAAAAAAAAAAAAAAAAAAAAAAAAAAAAAAAAAAAAAAAAAAAAAAAAAAAAAAAAAAAAAAAAAAAAAAAAAAAAAAAAAAAAAAAAAAAAAAAAAAAAAAAAAAAAAAAAAAAAAAAAAAAAAAAAAAAAAAAAAAAAAAAAAAAAAAAAAAAAAAAAAAAAAAAAAAAAAAAAAAAAAAAAAAAAAAAAAAAAAAAAAAAAAAAAAAAAAAAAAAAAAAAAAAAAAAAAAAAAAAAAAAAAAAAAAAAAAAAAAAAAAAAAAAAAAAAAAAAAAAAAAAAAAAAAAAAAAAAAAAAAAAAAAAAAAAAAAAAAAAAAAAAAAAAAAAAAAAAAAAAAAAAAAAAAAAAAAAAAAAAAAAAAAAAAAAAAAAAAAAAAAAAAAAAAAAAAAAAAAAAAAAAAAAAAAAAAAAAAAAAAAAAAAAAAAAAAAAAAAAAAAAAAAAAAAAAAAAAAAAAAAAAAAAAAAAAAAAAAAAAAAAAAAAAAAAAAAAAAAAAAAAAAAAAAAAAAAAAAAAAAAAAAAAAAAAAAAAAAAAAAAAAAAAAAAAAAAAAAAAAAAAAAAAAAAAAAAAAAAAAAAAAAAAAAAAAAAAAAAAAAAAAAAAAAAAAAAAAAAAAAAAAAAAAAAAAAAAAAAAAAAAAAAAAAAAAAAAAAAAAAAAAAAAAAAAAAAAAAAAAAAAAAAAAAAAAAAAAAAAAAAAAAAAAAAAAAAAAAAAAAAAAAAAAAAAAAAMjAyMjoxMDoyMiAxOToxODozNgAyMDIyOjEwOjIyIDE5OjE4OjM2AAAAZQBuAHYAeQAAAP/hCxdodHRwOi8vbnMuYWRvYmUuY29tL3hhcC8xLjAvADw/eHBhY2tldCBiZWdpbj0n77u/JyBpZD0nVzVNME1wQ2VoaUh6cmVTek5UY3prYzlkJz8+DQo8eDp4bXBtZXRhIHhtbG5zOng9ImFkb2JlOm5zOm1ldGEvIj48cmRmOlJERiB4bWxuczpyZGY9Imh0dHA6Ly93d3cudzMub3JnLzE5OTkvMDIvMjItcmRmLXN5bnRheC1ucyMiPjxyZGY6RGVzY3JpcHRpb24gcmRmOmFib3V0PSJ1dWlkOmZhZjViZGQ1LWJhM2QtMTFkYS1hZDMxLWQzM2Q3NTE4MmYxYiIgeG1sbnM6ZGM9Imh0dHA6Ly9wdXJsLm9yZy9kYy9lbGVtZW50cy8xLjEvIi8+PHJkZjpEZXNjcmlwdGlvbiByZGY6YWJvdXQ9InV1aWQ6ZmFmNWJkZDUtYmEzZC0xMWRhLWFkMzEtZDMzZDc1MTgyZjFiIiB4bWxuczp4bXA9Imh0dHA6Ly9ucy5hZG9iZS5jb20veGFwLzEuMC8iPjx4bXA6Q3JlYXRlRGF0ZT4yMDIyLTEwLTIyVDE5OjE4OjM2LjIyMjwveG1wOkNyZWF0ZURhdGU+PC9yZGY6RGVzY3JpcHRpb24+PHJkZjpEZXNjcmlwdGlvbiByZGY6YWJvdXQ9InV1aWQ6ZmFmNWJkZDUtYmEzZC0xMWRhLWFkMzEtZDMzZDc1MTgyZjFiIiB4bWxuczpkYz0iaHR0cDovL3B1cmwub3JnL2RjL2VsZW1lbnRzLzEuMS8iPjxkYzpjcmVhdG9yPjxyZGY6U2VxIHhtbG5zOnJkZj0iaHR0cDovL3d3dy53My5vcmcvMTk5OS8wMi8yMi1yZGYtc3ludGF4LW5zIyI+PHJkZjpsaT5lbnZ5PC9yZGY6bGk+PC9yZGY6U2VxPg0KCQkJPC9kYzpjcmVhdG9yPjwvcmRmOkRlc2NyaXB0aW9uPjwvcmRmOlJERj48L3g6eG1wbWV0YT4NCiAgICAgICAgICAgICAgICAgICAgICAgICAgICAgICAgICAgICAgICAgICAgICAgICAgICAgICAgICAgICAgICAgICAgICAgICAgICAgICAgICAgICAgICAgICAgICAgICAgICAKICAgICAgICAgICAgICAgICAgICAgICAgICAgICAgICAgICAgICAgICAgICAgICAgICAgICAgICAgICAgICAgICAgICAgICAgICAgICAgICAgICAgICAgICAgICAgICAgICAgIAogICAgICAgICAgICAgICAgICAgICAgICAgICAgICAgICAgICAgICAgICAgICAgICAgICAgICAgICAgICAgICAgICAgICAgICAgICAgICAgICAgICAgICAgICAgICAgICAgICAgCiAgICAgICAgICAgICAgICAgICAgICAgICAgICAgICAgICAgICAgICAgICAgICAgICAgICAgICAgICAgICAgICAgICAgICAgICAgICAgICAgICAgICAgICAgICAgICAgICAgICAKICAgICAgICAgICAgICAgICAgICAgICAgICAgICAgICAgICAgICAgICAgICAgICAgICAgICAgICAgICAgICAgICAgICAgICAgICAgICAgICAgICAgICAgICAgICAgICAgICAgIAogICAgICAgICAgICAgICAgICAgICAgICAgICAgICAgICAgICAgICAgICAgICAgICAgICAgICAgICAgICAgICAgICAgICAgICAgICAgICAgICAgICAgICAgICAgICAgICAgICAgCiAgICAgICAgICAgICAgICAgICAgICAgICAgICAgICAgICAgICAgICAgICAgICAgICAgICAgICAgICAgICAgICAgICAgICAgICAgICAgICAgICAgICAgICAgICAgICAgICAgICAKICAgICAgICAgICAgICAgICAgICAgICAgICAgICAgICAgICAgICAgICAgICAgICAgICAgICAgICAgICAgICAgICAgICAgICAgICAgICAgICAgICAgICAgICAgICAgICAgICAgIAogICAgICAgICAgICAgICAgICAgICAgICAgICAgICAgICAgICAgICAgICAgICAgICAgICAgICAgICAgICAgICAgICAgICAgICAgICAgICAgICAgICAgICAgICAgICAgICAgICAgCiAgICAgICAgICAgICAgICAgICAgICAgICAgICAgICAgICAgICAgICAgICAgICAgICAgICAgICAgICAgICAgICAgICAgICAgICAgICAgICAgICAgICAgICAgICAgICAgICAgICAKICAgICAgICAgICAgICAgICAgICAgICAgICAgICAgICAgICAgICAgICAgICAgICAgICAgICAgICAgICAgICAgICAgICAgICAgICAgICAgICAgICAgICAgICAgICAgICAgICAgIAogICAgICAgICAgICAgICAgICAgICAgICAgICAgICAgICAgICAgICAgICAgICAgICAgICAgICAgICAgICAgICAgICAgICAgICAgICAgICAgICAgICAgICAgICAgICAgICAgICAgCiAgICAgICAgICAgICAgICAgICAgICAgICAgICAgICAgICAgICAgICAgICAgICAgICAgICAgICAgICAgICAgICAgICAgICAgICAgICAgICAgICAgICAgICAgICAgICAgICAgICAKICAgICAgICAgICAgICAgICAgICAgICAgICAgICAgICAgICAgICAgICAgICAgICAgICAgICAgICAgICAgICAgICAgICAgICAgICAgICAgICAgICAgICAgICAgICAgICAgICAgIAogICAgICAgICAgICAgICAgICAgICAgICAgICAgICAgICAgICAgICAgICAgICAgICAgICAgICAgICAgICAgICAgICAgICAgICAgICAgICAgICAgICAgICAgICAgICAgICAgICAgCiAgICAgICAgICAgICAgICAgICAgICAgICAgICAgICAgICAgICAgICAgICAgICAgICAgICAgICAgICAgICAgICAgICAgICAgICAgICAgICAgICAgICAgICAgICAgICAgICAgICAKICAgICAgICAgICAgICAgICAgICAgICAgICAgICAgICAgICAgICAgICAgICAgICAgICAgICAgICAgICAgICAgICAgICAgICAgICAgICAgICAgICAgICAgICAgICAgICAgICAgIAogICAgICAgICAgICAgICAgICAgICAgICAgICAgICAgICAgICAgICAgICAgICAgICAgICAgICAgICAgICAgICAgICAgICAgICAgICAgICAgICAgICAgICAgICAgICAgICAgICAgCiAgICAgICAgICAgICAgICAgICAgICAgICAgICAgICAgICAgICAgICAgICAgICAgICAgICAgICAgICAgICAgICAgICAgICAgICAgICAgICAgICAgICAgICAgICAgICAgICAgICAKICAgICAgICAgICAgICAgICAgICAgICAgICAgICAgICAgICAgICAgICAgICAgICAgICAgICAgICAgICAgICAgICAgICAgICAgICAgICAgICAgICAgICAgICAgICAgICAgICAgIAogICAgICAgICAgICAgICAgICAgICAgICAgICAgPD94cGFja2V0IGVuZD0ndyc/Pv/bAEMAAgEBAgEBAgICAgICAgIDBQMDAwMDBgQEAwUHBgcHBwYHBwgJCwkICAoIBwcKDQoKCwwMDAwHCQ4PDQwOCwwMDP/bAEMBAgICAwMDBgMDBgwIBwgMDAwMDAwMDAwMDAwMDAwMDAwMDAwMDAwMDAwMDAwMDAwMDAwMDAwMDAwMDAwMDAwMDP/AABEIABkDbAMBIgACEQEDEQH/xAAfAAABBQEBAQEBAQAAAAAAAAAAAQIDBAUGBwgJCgv/xAC1EAACAQMDAgQDBQUEBAAAAX0BAgMABBEFEiExQQYTUWEHInEUMoGRoQgjQrHBFVLR8CQzYnKCCQoWFxgZGiUmJygpKjQ1Njc4OTpDREVGR0hJSlNUVVZXWFlaY2RlZmdoaWpzdHV2d3h5eoOEhYaHiImKkpOUlZaXmJmaoqOkpaanqKmqsrO0tba3uLm6wsPExcbHyMnK0tPU1dbX2Nna4eLj5OXm5+jp6vHy8/T19vf4+fr/xAAfAQADAQEBAQEBAQEBAAAAAAAAAQIDBAUGBwgJCgv/xAC1EQACAQIEBAMEBwUEBAABAncAAQIDEQQFITEGEkFRB2FxEyIygQgUQpGhscEJIzNS8BVictEKFiQ04SXxFxgZGiYnKCkqNTY3ODk6Q0RFRkdISUpTVFVWV1hZWmNkZWZnaGlqc3R1dnd4eXqCg4SFhoeIiYqSk5SVlpeYmZqio6Slpqeoqaqys7S1tre4ubrCw8TFxsfIycrS09TV1tfY2dri4+Tl5ufo6ery8/T19vf4+fr/2gAMAwEAAhEDEQA/APxbooooA9N+EHwg8L/F/R/sK63JpXibf+4heB7iO4rnPjJ8Ede+Bnij+ytehjgnk/eJsk8zzErY+HP7QX/CqvDckOkaDp/9uSP8mpP/AMfEf+5XJeMviFrfxG1T7frmpXGpXX9+Z6AMryv3cle4aD4c0r4S/s3/ANpazZxz6r4suk+yo/8ArI7X/VvXjvheW2tfFFi9+nmWsc/z12n7RvxVh+KvjS1/s5PL0PQ08jTof+eaUAeuax8DPh1o3xk8M+HvsGqSWuoaWl3df6b/ABvBvrn9M/Y3m8eeINYudN1L+ytDt9R+wWu+D7RJWra/tQeA9U/srxJqmm6pH4q0ey+wJCiJ9nk+Ty0p/wAFv2w9B8HeF7r7ZeeINK1W8vftc/2BE8uT5P8AboA5Lw5+xb4i8UeONY0eK8jjtdDRJLq/8jzI/wDvimeMv2PNW8G+INDhuNVt5NN8QSeRa37weX8/+5XoXhf9vXStL8ceJv8AQ7zStD8QJBvms/8Aj4jdE+/XP/Eb9pbwr438SeHIbrUvFGq6Vo9157vc7PMoAx/iN+xbefCq3nTUvE+lyatvTZZon7ySp7/9hDVbDw3JfXGt28c9vapdvbfZX+5J/t1jftD/ABQ8DfEb4gQeJNDTWPtUk6STpcon3Er1i+/bh8MWHg+4topvEGpRyaclp/ZtyifZ432UAeLfsq+A7bxb4/n1LVE/4kfh9Hu7rf8A8tNn8Feo/Dn4X6J+0Z8J/Gl5Elnoc+n3sf2W8fZ5cab68xi+Kum+HP2e7rQdJ8yPVdcuvPvX/wCeaf3K6D9n340+A/CXwf1zwr4ts9Uuv7YdN72yJ+72UAVf+GI/EMvjTTdKt7yzurXVE8yC/RP3cn/AKPiN+xvqvg2PSvsepR6rJrE/2RE+y/Z/Lk3+XXaaD+1z4P8AC/iXw/Yabbaxa+GfD6eXazIifaN/9+pPiX+3DpV1Ho6aamqaxfafepO95qWzzNm/zNnyUAc3qf7DNzo2n3z/APCVaPPfaGnn3ths8uSP/Y+/XZePP2S9H+Jfw/8ACOpaDeW+j6lqGnPI9m/7yS8ffXFfEH4tfC7XrjWNbs7DWP8AhINcfzHR0T7PbvWrbftI+CYvEHgO8a21j/il7XyJ/kT95+88ygCr8C/hV4b8G+B9S8Q+MrC41WSO9/s1LaGfy/Lff5b1k+PPhp4Y+F/7TFrYXVhcal4c1T9/BbJP5ckaf79aXhf9ozwfv8QaVr1tqkmh6he/b7LYieZG+/zK5zXfjT4e+Ivx4j17XIbyPR7N/wDRYbb/AFkaUAZ37S3hfR/h98eJ7OwtpI9HjSCfyd/7zY6f363P2pfBvhjRvB/hHVfDlhcabHqkCeek0/mVQ/aW+I3gz4tfEm31jSYdYggkRI7pJkT7if3K1fj78WvAfxB+F+h6PocOsQX2hp5aPMieXJQAf8Iv4P139ke61uz0q8tfEGn6jBaT3Lz+ZHJv/wBiuV/Zk+GqfEH4iRvef8grS08+6d67Lw58Wvh7pf7Pd94SuIdc/tLUJ0u3mRE8velc34X+KuleA/gXqulaX5n9ueIH8u6f/nnAn3KAO8+HOg/D34of8Jx4k17R7yS10t3ktYbO6+z/ACVV1r9kaz+KH9h6r8O3uJNH1zfvSb95JZ7Pv1zf7PHxV8H+A/A/iDSvEyao/wDbHyb7NErvPBv7c2lfCrxBpVh4Z024tfDOnwPA+9P9Ik3/AMdAHHfEb9izWPBHh+PVbPUo9YtfP8id/I+z/Z3/AOB1e8UfsM6r4S8N31/ca3byT6fB57232V/7nmffrc+Kv7V+g694f/s+z1LxRqUFxP5k8N5s8uOuj8W/txeGLrwffWEb65qsd5ZfZEsLxE+z277Pv0AYcX7NNt8bvgf4Z1vSYY9D8t3j1G/m/eR/crK+Bn7G+m/FDwv4quZdet/M0dH+yzb/AC60fBH7ZuieDfhvofgv7HeXXhne/wDbFs6f8fHyfwVxfw0+L/gz4feMPEdmtnqH/CK65A8ezYn2i330AY/hL9l/VfFvjm+0e31Kzkg0tPMur/8A5ZxpXRf8MUX9/eaU+l69Z6jpuqT/AGT7Yif6t6t+Cfjx4D+HOqalpWl6bqknhXXIPLvXmRPtFdb8IPir4YtvEPhzwT4Is9Q/s241H7XdTXifvP8AxygDj/GX7Cmt+EtP1J7XW9P1W+0dPMurOH/WRp/33WV+zH4Ss7TR9c8Ya5DHJpuhwfuEdP8Aj4evYv2gviN4V/Z48ceILnTdE1SDxH4gtfsm+ZP9H2bPLevCPiX8WrC6+Eeh+FdD8yOOP9/qL/8APSegDR8Ufsq6tL4X03xDZXMd9Hrknn+TDB/x7pvrfuv2BdYtZI5pdbs4NNjgSe6vHT/j38z/AGK2f2X/ANuGw+C3w3j0fUtNkvrqOfy9/wD06/xpTL/9r/QfG+ueKtN8QWFxH4V8QIkaJbJ+8t9lAHI69+yDeaNrmj+XrVndaPrj+XBqSJ+731peN/2PH+C159q1nxDpc91Zukn2BE/eXCVe1T9ozwTp9v4c8N6bZ6pH4V0edLt38tPtFw9cx+0N8QfA3xL8eQa9paa5HPI6fakmRPuJQB6H8af2S4de0e18VWb2/hnQ/wCy0nfzo/M+0PXl37L/AMNLbxb48urzUv3mj+H0e7nf/lnJs/gr1TxH+2b4Y+IPhuPwr4gs9Uu/CtnpyQWSbE8y3f8Av15ddfFXR/CXwPutB0H7RHfapdeZdTP/AHP7lAGt4D8b+D9U+JGq3N54YuNYn1C68vT7a2n8uONN9dbr37PHhWX9piPSrdJI9Kt7L7fe2fn+ZJH/ALG+uV/ZB+NPgX4Lf2lf+INNvLrVZE8uyubZE/0OmWvx48O+Evjx/wAJJpCapdaVeJ5eofbET7RJQBufHPwH4Jv/AAPpPjDQdNvNNtY714L22efzPMRH8utHXfC/gP4jfs/6xrem+H7zw5/Y/wC7srm5uvM+2PXP/FX46eDNZ0fR9B0OzvP+EfjvXu73zkTzJN7+Zsrd/aC/aM+HXxL+G8Gj6NY65Yx6fB5drZ7E+z7/AO/QBzHw08L+EvGX7N/iC8bSriPxBpcn/Hz5/wC7k/4BXD/s+/DSb4tfEjTdK/5Yf6yd/wDnmiV3/wAIPi/4A8G/BvVdE1a21yTUtY++8KJ5cdc/8OfitpXwp+Hfib+y/tH9uap+4tXf/l3SgDuPCXh3wZ8c/wBqC60240q4/wCEcs08v/Q38vy9n8fyVzv7S3wS0T4GfF+18qG8uvCN5/qN7+XJJ/wOj9l/4+6J8B9H8QXlwmoR+I9QgeO1uYUT93vrf+Jf7T/hj43/AAv0fTfFCa5da5p87yfbNifcoAg+PvgP4XeA/CfhubSdH1iO68QQJPvmvfM8tK9N/wCGLfAevWEENno+qWslxp32v7e+o+ZHv2f3K8r+N3xa+HXxG8L+H7bTYfEEd14fgSCPeifvEruP+GzfBlrqljqVvJ4o+1afa+QlnsT7PI+ygD5a17S00vVL6zX959jneOvXP2LfhL4Y+L/jC6s/FVnqEmm28DzvNbT+X5dcr4n+GnjDx54ovtbt/DOoeXrE/nx+TB+72V6F8IPi1/wzJ8N9Y0+803xBo/irVP8AUTbE+5QBj+PP2S7n/hoT/hEtBeSOx1BPPsppv+eFQfFD9jy8+HOh2N5FrEd99suvsmzyHt/Lf/gdek/8NkeD/FGoeFdV1xPEEmuaGmye8RE8yT5KyvjT+2H4e8eeF9N0pf7Y1z7PqKXb3l/GnmRp/cTZQBgeI/2D9S8OeD77UrjXrfz9PgSeS2+yv/6HVT4QfDWGX4D+KtYV7O+njg+eF0/eW/8At16N4t/bh8K3Xga+sIn1zVY7y18iGzv0T7Pb/JXCfBb4tfDHwH8P9Y03UofEEl1rkHlzvCieXH/uUAcr8G/2adS+Kvh+fVW1Kz0fSrd/L86b/lo9dx/wwBrH/CcR6D/wkmn/AGq4tftaPs/g/wC+60f2c/Eej/EK3uvBP/CPXmueH45/tFq7p+8jrqvir8afB/wz+PG+4S4ktbfSEsEhs/8Al3fZQB5tdfsR38viTSrO18RWd1a6p+7S8RP3e+tzxb/wTs1jw5oclzb+JNP1Kf50gtkT/j4dPv8A8dP+HP7S3gDwl4X0ewurbXJJNLuvP3oifvK0bX9sjwfo3iCxvLew1ST+z555PnRP46AOVsP+CffiK/0e183UI7XWLyDz4LB4P9Yn+/VXwH+wzf8Ai3w3/at54h0/So45/sjwzQfx16bqn7fWieKI4L+41LxRpt9bweR9jttn2eSvPf8AhoLwlf8Aw/tbC8h1SS+/tFLud9ifvP3lAD/gX+xb/wAJl8UNY0HXL+3g/stJNnz/AOs/268k+LXwvf4X+IPsf2+3vvnfY8Net3X7Tnhi1/aAj8Q2tnqH9jyWX2SdHT95XK3+tfDEeONLfSYdYksY7rz717xE/eUAavjPwbYfDn4DaPo8ttHJ4j8UP5m9/wDl3T+Cr1/+wfqWjeE76/utbt47qztftb232V//AEOuE+L/AMUE+IXxQj1L95/Ztm6R2qf9MEr3bVP23PDEXgu+sbd/EF9BcWXkJYXKJ9njegDy/wCDf7GWpfF/w3Jf2usR2snz7IXtXk8ytz4c/sAax480+d5de0/TZ7e9ew8l4P40rrvhV+2l4V8JeE9HS4TXNKutHd99tYIn2e83/wB+iX9snwHYefNa2Guefcao9+/yJ/HQBy8v/BPHW5fFEem2/iHT5/tEDzpNs/d/JXJ/Ev8AZb1X4VeG/wDhIYtS0/XNNs5/LuvJ/wCWb/3K+hP2bvi1oPxf1j+zbCw1CT+z7KeN0dP9Zvryv4v/ABQ8MfDnw/rHgnQ9H1S1/ti68zUXuU/eRpv/AIKAMf8AaH0vRNU+C/hHXtJ0f+zbrUESOf8A6aVb8LfsC+Ide8P2s11qUdjqWoQefa2b2vmeYn+/T/iD8X/hvrvwf0rw9Zp4gjutHTzLV3RPLkf/AG67S2/br0rWfD+mvfal4o0rUtLtfI8mw2eXJ/33QB4Z8NPgjeaz8cI/Dd+nl/2fP/pr/wDPNK6q6+FX/DS3xs1i28OfZ9K0rS08vfs/uf7FM0b4+6Vo3h/xjqsH2iTxH4kd4Eeb/WRpWb+yr8ZNH+DfiS+v9WfVIJ7hPkmsNnmR/wDfdAB8Vf2X7n4aaxo9muqx30esfu0dLV4/L/4BXQeM/wBhTWPCWl2N5FrFvdWt5dJaO/keX9nd66bxx+2b4b17xx4ZvGs7zVY9HfzJ7y/T/SJPkroNZ/bS8B6p4fn026m8UalHcXSXaPMifu/9igDmJf8Agm7qsVnJN/wlWlyeWnmOnkf/AGdZVr+wLqUXh+DUtQ8SaXptrcP5Cb0/j/uffrptZ/bI8GCSf7LYax+82bN6JXoHxGtfCvjf9n+x17WdH1SfSvtv29PJT95H+7/joA8L+FXw+T4QfHyPwr4t0ePUo9Q/do/yf991z/8AwoK/+JX7RGueGPDkPlwW91J/27pXXf8ADS3hLxl8cLfxRr1nqEFjpaJHp0NsifcT+/U/hf8Aaq8K/Cr48XXirwzDrH2XXP8Aj985E8yP/coA5z4v/sear8L/AAXJ4htb+PVdNt38i6fyPs/lv/wOvHYv3vl7f+WlfSHxk/aMtvi14Pn8PeHNS8Ya5dahP5jw3KJ5f/jleO2vwH8c2EiTf8IxrH+jv5n+ooA9o/Zf/Y8eXxZ4cvPE15p8cGsbJE02b/WSJWdqn7Ft54y8ceI7y1m/sPw/p915CTPH9o/j/wBitzQf2m/h7J4g8M634y0TWI/FXg/ZG8MKJ5claOl/t4eHprfWNH87XNK0q8uvPtZrNE8yOgCj8G/2Qf7G8eeIPDHiOG3n+0aR9r068/1fl/P9+uL1T9h7VItQtXsNb0/UtNvJ/I+0wp/x7v8A3K7TS/2yPCUvxAvr/Wf+Eg1ixuNO+wJ5yJ5lYF1+1B4S+HPh+10fwRYah9hk1FL+9e8T95J5b0AcXdfstalF4b8QX66rbzz+G5/IurZE/eSfP5ddT4J/YE1vxbb2KXGt6fpupXkHn/Y3/wBZGldBqn7Rvw0ttD8Tf2XYa5/aviTZI7uieXG+/wAyvRvgj4t0T4jafH4517w3Ha6lp9l5b6k6fu5KAPjHxRoP/CL+KL7TftMc/wBjneCR0T+5XffAL9l+/wD2gtH1W8s9Vs9Nj0dPPuvOT/Vp/fqx8JfiD4A8OfEDxVdeMNE/tyC8ef7DsTzPLd/uPXpv7B/hiw17w/8AEbz7CS60rUNOeBIYU/eff/goA462/YZ1W68S6bZxa9p8ljqiP5F+ifu5HT+CsnWf2Rr/AEHwH4g1u61i3jg8P3T2jo8H/Hw6f3K67WviCniO48P+Afh3pWoWqaPe+e73KfvN+/zKn/4KHfEa5+0aP4Vito7H7Pax3+o+T/y8XT/fegC5cabJ+yt+zdHdW8Vrb+JtWKRzysgkkM7Anb94g+SGCjqhILbTuauY+BOleHfit8O/F0viC01DUPE1rCJE1Ke7MmMAAZBJJwAB9BW78YLu6/aK/Zu0jWNJg+26lYyq1zaWqGR0mPliVAgLNgFVYA5O1gTXJ/s0/F/wN8L/AAfria9DrE99rCeQ/kxp5cdeHkcKbpyqy/itvn7p328l2XY/YPF7FYyONo4CjeOXQpweFSuoSpuEXzrpKpJt+0lvz8ydtiD9m/wZ4ftfh/4j8Z+JrC41W10ffHBbI/l+Y9R/tD/DTQfBHxI8PzWaSQeH/ECQSeTv/eR7/v0z4LfF/wAK+ErfxH4b1mHUJ/COsb9mxE+0R1R+N3xMtvjn8SdHh0uGS10qzeC0td/9z/V769w/Hz2PVDdeE/ibaeB9duJPEnhHxdYiWze8cyTQqwZ1Pmj53y2BknKnaVZQuDwviz9mXwp8NYphrfiKRZtRlddMt1hcuF3HZukAA3YxnAxnNejeOfDh8YfF3wreRSNa+HPA2lRC81NpPJhkeHd8iswww3L856KobJUlc+c+NP2s9P8AFuuX9jqGg6frGgwzsthPKC80CDjfGCARvIL4IyN2O1eDhY04ZjOGG+HlvJLZSvp6Nq9/lc/Y+Iq2MxXAmExWetyxHt3GhKd/aSw/s256vWVKNTl5G72cpKLtougi/wCCbF//AGfHc/8ACW6XH/oqXbp5H+rR/ufx1ytr+xHqthLfP4g1iz8P2NnP5CXMyeZ9ortde/bD8G3Xn+RYax+8061tPuJ/ywo+KH7VXw9/aC0+fTfE1nrEFjbzpJavbInmbP7le8fjhw8X7DPif/hMLqzuLy3g02zgSd9Sf/V7H+5XpPxV/ZL03WfAfgOw0a80+PUtYnSD7eifu7j5P7lZd1+234Y8UW+peFdW0q8j8D3FrBaJ5Kf6RHsT79VNZ/am8B+HND8F2fhfTdUjj8H6j9r33KJ/pCbPLoA85uv2abyw+G+seJP7St54/D96lpdWyJ/H/lK6fXrXw94t/ZDtdetdHjsdY0+9eB5v+emzy63PFH7Q/wAND8MvFWj6XYa59q8SXUF28zon7t0rJ0b4q/DG1/Z//wCESuofEHnyO928yIn33oAzvhf+xRr3xG8HWOt3l/Ho9rrD/wChb4PM+0Uyw/Zu0rS/FF94S8Tar/YfiaP/AI9X8h7iO4T+D7ld98Of24dKtfhfofh/VLzxBpX/AAjf7u1ew2f6Qm/zPn31w/iP9q+2/wCEw1HWLDSo9V1W4Ty4NS1L/j4t/wDvigDj/jJ+zd4k+C3iix03UoY5JNQ/49XR/wDWf8Aq9+1B8JdK+C3iDTdEs3knvvsST3r7/wC+nmVz+qfGnXvFHxAsde16/uNWk0+fzE86u8/bmurPXviRY+IdNuY57HWNOg2bP+Wboke+gDG8b/BbTbT9nfQ/G2jPJ/pF19gvUd/M8t0TzN9eZeTXu/jLxFYeCP2J9H8Ptcxz6rrmovd+Sn/LNHSvB4z8goAZ51HnUUUAFWLWwubqOR4oZJI4/v7E/wBXUaf6qvWP2dP+QN4k/wCuMn/oFAHkdFT61/x/v/v1Ba/8fCf79AGl4t8G6l4IvLVNUtvIkuIEnT/poj1l/wDLzX0R+3V18Hf9giD/ANER14LoXSSgC74I+HusfEbVPsejQx3V1/cd/Lpn/CEala+MP7EltvI1WOfy/Jf+/Xqn7Dv/ACXS0/67pR8dP+Tz9W/7DElAHl3jz4aar8NNUjttWtvss8ieYnz/AOsrG86voj/goz/yNnhX/sHPXg7/APILoAr2thc38m23hknkj/efInmUWthc30my3tpJ5P7iJ5leofslf8h7XP8AsFvUn7Kv/JV9V/69br/2pQB5HRVzX/8AkN33+/WfQBJRUdFAElFR0UASedR51R0UASUUUUAFFFFAB51FFFAB51FFFAB51WLW/msJ/Ot5pIHj+46P5dV6KALmqazeazJvvLm4upP78z+ZVOiigA86jzqKKACiiigAooooAKKKKACjzqKKACiiigA86iiigA86lil8uSkooA6C1+KGvafbxwxalceXH9z56o694t1DxHJG9/cyTyR/36ypf6URf0oAf51R+an9yrEPSo6AI/NT+5R5qf3KkooAsWGvXOjSb7O5uLWT+/C7x1Hc3739xvleSeT++9Rw9KkoAj86jzqkooAj83/Yo86pKKAI/N/2KPN/2KkooAj+10fa6JulFAB9ro+10UUAWNL8R3OjSb7O5uLWT+/C7x1Hdao9/cedcPJPJ/ff95UdFAB9ro+10UUAM836U/7XRRQAean9ymeb9KfRQAzzfpV7/hLb/wDs/wCzfb9Q+y/88fPfy/8AviqlFAB9ro86iibpQBY0zVLnQdQ+02c3kTf30rf/AOFyeJJY/m1W4rmIelFAEl1fvf3Ek0v7yST771HRRQAedR51FFAB51XovEd/FZ/ZlvLyO1/54pO/l1RooAKvaZ4kv9GjkSzvLy1jk+/5M7x1RooAt2us3lhefaYrm4gn/wCeyP8AvKZqmqXOtXG+6uLi6k/vzP5lV6KAOk+HXxX174T6o1xo10YBKV+0W8uJIpwpzhlP4jIwwDHBGTXpF18fvAfxJlF14z8FyHUo0UG506XBum2gMXw8bYG1doZnwMjI7+J0V5+JyvD1p+1acZ/zRbi/vW/zPtsh8Qc5yrC/2dTnGrhr39jVhGrSvq7qE01F3d7xtd731PaP+EJ+CX/Q4eIv+/L/APyNVqDxf8G/hq0babpGpeKL6CF3jubhW8mVzuASRZCq8cciIgDBGWBrw2iud5PzaVK1RrtzJfkk/wAT3Kfih7F8+DyrB0p9JKjKbWt7pValSKaa0fLddHud58Uv2idc+J9kdN/0bSdBUqItPtV2xhUJKB26tgbRgYTKKQoIrg6KK9LD4alQh7OjFJeX9avzPhM7z7Mc4xTxmZ1pVajVryeyWyS2jFX0ikkuiCiiHpTf+WlbHkDqkqCL+lT0AFFFFABR5vvVeb/X/wDAKbaf8f8AJQBN5vm1JLdTXUcaSvJJ5f3N71ueEa6T/wCIoA8/lunuvLSV5JPL/wBXvf8A1dR1b13/AJCk9V0+7QB//9k=)"
      ],
      "metadata": {
        "id": "eRfJEBC3Noi7"
      }
    },
    {
      "cell_type": "code",
      "source": [
        "import pdb\n",
        "pdb.set_trace() # 3.7버전 이전\n",
        "\n",
        "breakpoint() # 3.7 이후 버전"
      ],
      "metadata": {
        "id": "IsieEoEeJcKv"
      },
      "execution_count": null,
      "outputs": []
    },
    {
      "cell_type": "code",
      "source": [
        "abc = 1\n",
        "breakpoint()\n",
        "b = 345\n",
        "\n",
        ">>   # 결과 : b 실행 직전에서 시점에서 버그체크 \n",
        "-> b # abc 엔터 = 1 , b 엔터 = not defined 이런식으로 변수 확인도 가능  "
      ],
      "metadata": {
        "id": "X6HssaloKON9"
      },
      "execution_count": null,
      "outputs": []
    },
    {
      "cell_type": "markdown",
      "source": [
        "### 파이썬 함수 def"
      ],
      "metadata": {
        "id": "wi8geJMwPdO7"
      }
    },
    {
      "cell_type": "markdown",
      "source": [
        "- 변경이 불가한 int, str 등은 `값`으로 전달\n",
        "- list와 dict같은 객체들은 `참조`로 전달\n",
        "- 필수 인수 : 함수 안의 파라미터값은 모두 인수를 받아야하고, 순서에 맞게 받아야한다. (인수가 모자르면, `TypeError`)\n",
        "- 키워드 인수 : 파라미터에 인수를 지정해주면 순서는 상관없음 -> 함수(bcd ='bob', abc = 'sponge') \n",
        "- 기본인수 : 파라미터에 값을 지정하면 기본값으로 설정되는데, 가장 뒤로 가야함 ->함수 (a, abc = 123) 어길 시 `SyntaxError`\n"
      ],
      "metadata": {
        "id": "mce6r3P5PfUO"
      }
    },
    {
      "cell_type": "markdown",
      "source": [
        "## Class"
      ],
      "metadata": {
        "id": "rqgfZY7LRUbT"
      }
    },
    {
      "cell_type": "markdown",
      "source": [
        "#### class 기본"
      ],
      "metadata": {
        "id": "1OGbOA_Zw1wi"
      }
    },
    {
      "cell_type": "code",
      "source": [
        "class poketmon:\n",
        "    pika = 'pika'\n",
        "\n",
        "poketmon.pika = 'pika'"
      ],
      "metadata": {
        "id": "cxfgNZqnRTgN"
      },
      "execution_count": null,
      "outputs": []
    },
    {
      "cell_type": "code",
      "source": [
        "class poke:\n",
        "    def __init__(self, color='red'): # 생성자 함수\n",
        "        self.color = color\n",
        "\n",
        "col = poke()     \n",
        " \n",
        "print(col.color) # 변수명에 지정한 클래스로 호출가능\n",
        "col.color        # 인스턴스(생성자함수를 통해 생겨난 값)"
      ],
      "metadata": {
        "id": "S2ViiLv-lG0_",
        "outputId": "61e8005a-61dc-4e7f-92f1-0096e3db7b14",
        "colab": {
          "base_uri": "https://localhost:8080/",
          "height": 53
        }
      },
      "execution_count": 11,
      "outputs": [
        {
          "output_type": "stream",
          "name": "stdout",
          "text": [
            "red\n"
          ]
        },
        {
          "output_type": "execute_result",
          "data": {
            "text/plain": [
              "'red'"
            ],
            "application/vnd.google.colaboratory.intrinsic+json": {
              "type": "string"
            }
          },
          "metadata": {},
          "execution_count": 11
        }
      ]
    },
    {
      "cell_type": "code",
      "source": [
        "poke.color # 변수명에 지정하지 않고는 호출불가\n",
        "# >> AttributeError: type object 'poke' has no attribute 'color'"
      ],
      "metadata": {
        "id": "JU8hoia5oqu2"
      },
      "execution_count": null,
      "outputs": []
    },
    {
      "cell_type": "markdown",
      "source": [
        "####  \\_ (single underscore)\n",
        "- 클래스에서 변수나 값을 저장할 때 사용(global하게 적용)\n",
        "- 주로 변수명을 숨길 때 사용(self._name)\n",
        "- 변수명을 변경하면 안되기때문에 의도적으로 숨기고 싶다는 표시를 해둔 것\n"
      ],
      "metadata": {
        "id": "op-eWjwjtqG5"
      }
    },
    {
      "cell_type": "code",
      "source": [
        "class Pokemon:\n",
        "\t_pokemon_health = 100 # 글로벌 변수로지정\n",
        "\n",
        "poke_a = Pokemon()\n",
        "print(poke_a._pokemon_health) "
      ],
      "metadata": {
        "id": "LsF8ukx-v1to",
        "outputId": "ff15b2a1-2bbd-45fa-e942-e6a5722df2e1",
        "colab": {
          "base_uri": "https://localhost:8080/"
        }
      },
      "execution_count": 21,
      "outputs": [
        {
          "output_type": "stream",
          "name": "stdout",
          "text": [
            "100\n"
          ]
        }
      ]
    },
    {
      "cell_type": "markdown",
      "source": [
        "#### \\_\\_ (doublescore 또는 dunderscor 또는 magic method)    \n",
        "- 클래스 인스턴스를 생성하는 함수에 적용   \n",
        "- 클래스내부에서만 사용하는 변수나 값을 저장(local하게 적용)\n",
        "- 변수명을 변경하면 안되기 때문에 숨김(반 강제적으로 숨김)"
      ],
      "metadata": {
        "id": "jmmzEqYavlDP"
      }
    },
    {
      "cell_type": "code",
      "source": [
        "class Pokemon:\n",
        "\t__pokemon_health = 100 # 로컬변수로 지정\n",
        "\n",
        "poke_a = Pokemon()\n",
        "# print(poke_a.__pokemon_health) # 로컬변수라서 그대로 실행하면 에러남\n",
        " \n",
        "print(poke_a._Pokemon__pokemon_health) #  _클래스__변수명으로 실행할것"
      ],
      "metadata": {
        "id": "mkg_z4qbv_ld",
        "outputId": "77943018-4c8d-4959-94fb-ba881614734f",
        "colab": {
          "base_uri": "https://localhost:8080/"
        }
      },
      "execution_count": 27,
      "outputs": [
        {
          "output_type": "stream",
          "name": "stdout",
          "text": [
            "100\n"
          ]
        }
      ]
    },
    {
      "cell_type": "markdown",
      "source": [
        "### decorator(@)"
      ],
      "metadata": {
        "id": "9Pj4qi_cH32t"
      }
    },
    {
      "cell_type": "code",
      "source": [
        "def first_deco(func): # func는 데코레이터에서 실행할 함수\n",
        "    def first():      # 실행할 함수를 감싸는(wrap) 함수입니다.\n",
        "        print(\"first\")# 실행순서 1번\n",
        "        func()        # 실행순서 2번\n",
        "    return first      # first 함수를 return\n",
        "\n",
        "def last_deco(func):\n",
        "    def last():       \n",
        "        func()        \n",
        "        print(\"last\") \n",
        "    return last\n",
        "\n",
        "@first_deco\n",
        "def my():\n",
        "    print(\"my 라는 함수입니다.\")\n",
        "\n",
        "@last_deco\n",
        "def iam():\n",
        "    print(\"iam 이라는 함수입니다.\")\n",
        "\n",
        "my() # first와 last의 func 위치에 맞게 출력\n",
        "iam()"
      ],
      "metadata": {
        "id": "iqzA8AgUGw64",
        "outputId": "de89818c-3a98-457a-f36f-6a2093b3ee54",
        "colab": {
          "base_uri": "https://localhost:8080/"
        }
      },
      "execution_count": 45,
      "outputs": [
        {
          "output_type": "stream",
          "name": "stdout",
          "text": [
            "first\n",
            "my 라는 함수입니다.\n",
            "iam 이라는 함수입니다.\n",
            "last\n"
          ]
        }
      ]
    },
    {
      "cell_type": "markdown",
      "source": [
        "### @property"
      ],
      "metadata": {
        "id": "RT_8ymcnq7Ao"
      }
    },
    {
      "cell_type": "markdown",
      "source": [
        "- 생성자 함수로로 인스턴스를 생성한 이후에는 값(first_name)을 변경하여도 full_name의 값은 변하지 않음\n",
        "- property를 사용하면 클래스의 특성처럼 활용되어 full_name 함수를 사용하지 않아도 자동으 내부의 first_name값을 바꾸어줌"
      ],
      "metadata": {
        "id": "5aoIhVjarCcP"
      }
    },
    {
      "cell_type": "code",
      "source": [
        "class Person:\n",
        "\tdef __init__(self, first_name, last_name):\n",
        "\t\tself.first_name = first_name\n",
        "\t\tself.last_name = last_name\n",
        "        # self.first_name + ' ' + self.last_name  => first_name의 값을 바꿔도 변경되지 않아서 밑에 함수를 만들어줌 \n",
        "\n",
        "\t@property\n",
        "\tdef full_name(self):\n",
        "\t\treturn self.first_name + ' ' + self.last_name"
      ],
      "metadata": {
        "id": "mSoM7KXcrAAb"
      },
      "execution_count": null,
      "outputs": []
    },
    {
      "cell_type": "code",
      "source": [
        "fred = Person('Fred', 'Williams')\n",
        "\n",
        "fred.first_name = 'Ted'\n",
        "\n",
        "print(fred.first_name) #=> 'Ted'\n",
        "print(fred.full_name) #=> 'Ted Williams' property가 없으면 바뀌지 Fred가 Ted로 바뀌지 않음"
      ],
      "metadata": {
        "id": "zBPWc4GcxXoB"
      },
      "execution_count": null,
      "outputs": []
    },
    {
      "cell_type": "markdown",
      "source": [
        "### setter"
      ],
      "metadata": {
        "id": "orKOCrozs522"
      }
    },
    {
      "cell_type": "markdown",
      "source": [
        "- 직접접근을 제한하거나 추가기능을 변수에 포함 할 때 사용\n",
        "- property의 @함수.setter를 하면 property 함수값을 변경하여도 생성자함수(\\_\\_init\\_\\_)의 인스턴스 값을 바꿔줄 수 있음(상호변경이 가능해짐)"
      ],
      "metadata": {
        "id": "r_rEcovos8zu"
      }
    },
    {
      "cell_type": "code",
      "source": [
        "class Person:\n",
        "\tdef __init__(self, first_name, last_name):\n",
        "\t\tself.first_name = first_name\n",
        "\t\tself.last_name = last_name\n",
        "\n",
        "\t@property\n",
        "\tdef full_name(self):\n",
        "\t\treturn self.first_name + ' ' + self.last_name\n",
        "\t\t\n",
        "\t@full_name.setter\n",
        "\tdef full_name(self, new_full_name):\n",
        "\t\tfirst_name, last_name = new_full_name.split()\n",
        "\t\tself.first_name = first_name\n",
        "\t\tself.last_name = last_name"
      ],
      "metadata": {
        "id": "-UDyZuTOsf9H"
      },
      "execution_count": 19,
      "outputs": []
    },
    {
      "cell_type": "code",
      "source": [
        "fred = Person('Fred', 'Williams')\n",
        "\n",
        "print(fred.first_name) #=> 'Fred'\n",
        "print(fred.full_name) #=> 'Fred Williams'\n",
        "\n",
        "fred.full_name = 'Ted Bottleneck' # setter함수를 변경해도 __init__의 인스턴스가 변경됨\n",
        "\n",
        "print(fred.first_name) #=> 'Ted'\n",
        "print(fred.last_name) #=> 'Bottleneck'\n",
        "print(fred.full_name) #=> 'Ted Bottleneck'"
      ],
      "metadata": {
        "id": "RTYhBUqZshKw",
        "outputId": "a8092cb8-ad58-4d6f-802f-fdc782904ed2",
        "colab": {
          "base_uri": "https://localhost:8080/"
        }
      },
      "execution_count": 20,
      "outputs": [
        {
          "output_type": "stream",
          "name": "stdout",
          "text": [
            "Fred\n",
            "Fred Williams\n",
            "Ted\n",
            "Bottleneck\n",
            "Ted Bottleneck\n"
          ]
        }
      ]
    },
    {
      "cell_type": "markdown",
      "source": [
        "## N322 -  HTML, CSS, DOM"
      ],
      "metadata": {
        "id": "ZbvJ4HLhYUdS"
      }
    },
    {
      "cell_type": "markdown",
      "source": [
        "### HTML\n"
      ],
      "metadata": {
        "id": "cfLJpw1MpM2d"
      }
    },
    {
      "cell_type": "markdown",
      "source": [
        "- 웹페이지의 뼈대같은 구조를 관리하는 언어\n",
        "- HTML ELEMENT : body div li h2 등등   \n",
        "- HTML 태그 : \\<BODY>\\</BODY> \\<BR> 등   \n",
        "- HTML Children : element 안에 있는 또 다른 element\n"
      ],
      "metadata": {
        "id": "gO8Rw0SMpROq"
      }
    },
    {
      "cell_type": "markdown",
      "source": [
        "### CSS"
      ],
      "metadata": {
        "id": "33a1DqPCp_Ei"
      }
    },
    {
      "cell_type": "markdown",
      "source": [
        "- HTML의 스타일을 만들어주는 언어\n",
        "- CSS Selector\n",
        "   - Type : p div body \n",
        "   - Class : .으로 구분\n",
        "   - ID : #으로 구분"
      ],
      "metadata": {
        "id": "yNhO47PfqFKa"
      }
    },
    {
      "cell_type": "markdown",
      "source": [
        "### DOM메소드(Document Object Model)"
      ],
      "metadata": {
        "id": "F2mIEB37YhtW"
      }
    },
    {
      "cell_type": "markdown",
      "source": [
        "- object : 자바에서 사용하는 HTML에 접근하는 프로그래밍 언어\n",
        "- F12 Console창에서 사용"
      ],
      "metadata": {
        "id": "rA1ni2oRYlew"
      }
    },
    {
      "cell_type": "code",
      "execution_count": null,
      "metadata": {
        "id": "JoBZJQzfYTsJ"
      },
      "outputs": [],
      "source": [
        "document.querySelectorAll('h2')  # 사용 예시\n",
        "\n",
        "getElementsbyTagName('태그')      #  태그 이름으로 문서의 요소들을 리턴합니다.\n",
        "getElementById('태그')            # 'id' 가 일치하는 요소들을 리턴합니다.\n",
        "getElementsByClassName('태그')    # '클래스' 가 일치하는 요소들을 리턴합니다.\n",
        "querySelector('태그')             # 셀렉터(들)과 일치하는 요소를 리턴합니다.\n",
        "querySelectorAll('태그')          # 셀렉터(들)과 일치하는 모든 요소들을 리턴합니다."
      ]
    },
    {
      "cell_type": "markdown",
      "source": [
        "### 웹크롤링 / 웹스크래핑"
      ],
      "metadata": {
        "id": "C-y2gtSRZoeA"
      }
    },
    {
      "cell_type": "markdown",
      "source": [
        "- 웹크롤링 : 기어다닌다는 뜻의 크롤링, 데이터를 가져옴(인덱싱함)\n",
        "- 웹스크롤링 : 특정 정보를 자동화하여 가져오는 방식"
      ],
      "metadata": {
        "id": "9sbXH_KVZs5s"
      }
    },
    {
      "cell_type": "markdown",
      "source": [
        "#### requests"
      ],
      "metadata": {
        "id": "KsIjiGmraPaH"
      }
    },
    {
      "cell_type": "markdown",
      "source": [
        "- 파이썬과 웹이 소통할 수 있도록 요청을 보내는 웹스크래핑 라이브러리\n",
        "- response응답 코드 https://developer.mozilla.org/ko/docs/Web/HTTP/Status"
      ],
      "metadata": {
        "id": "N0MuNG5KaUij"
      }
    },
    {
      "cell_type": "code",
      "source": [
        "pip install requests"
      ],
      "metadata": {
        "colab": {
          "base_uri": "https://localhost:8080/"
        },
        "id": "7bL-DH8maqNP",
        "outputId": "e7d72514-2e7a-437d-a50d-45583c5393c5"
      },
      "execution_count": null,
      "outputs": [
        {
          "output_type": "stream",
          "name": "stdout",
          "text": [
            "Looking in indexes: https://pypi.org/simple, https://us-python.pkg.dev/colab-wheels/public/simple/\n",
            "Requirement already satisfied: requests in /usr/local/lib/python3.7/dist-packages (2.23.0)\n",
            "Requirement already satisfied: certifi>=2017.4.17 in /usr/local/lib/python3.7/dist-packages (from requests) (2022.9.24)\n",
            "Requirement already satisfied: idna<3,>=2.5 in /usr/local/lib/python3.7/dist-packages (from requests) (2.10)\n",
            "Requirement already satisfied: chardet<4,>=3.0.2 in /usr/local/lib/python3.7/dist-packages (from requests) (3.0.4)\n",
            "Requirement already satisfied: urllib3!=1.25.0,!=1.25.1,<1.26,>=1.21.1 in /usr/local/lib/python3.7/dist-packages (from requests) (1.24.3)\n"
          ]
        }
      ]
    },
    {
      "cell_type": "code",
      "source": [
        "import requests\n",
        "\n",
        "response = requests.get('http://google.com')\n",
        "print(response) # 정상적으로 응답하면 <Response [200]> 출력"
      ],
      "metadata": {
        "colab": {
          "base_uri": "https://localhost:8080/"
        },
        "id": "pmGoRW6Napn3",
        "outputId": "8691e947-704d-4ccc-a8b8-6a39fc1d9046"
      },
      "execution_count": null,
      "outputs": [
        {
          "output_type": "stream",
          "name": "stdout",
          "text": [
            "<Response [200]>\n"
          ]
        }
      ]
    },
    {
      "cell_type": "code",
      "source": [
        "type(response) # requests 라이브러리의 Response 타입"
      ],
      "metadata": {
        "colab": {
          "base_uri": "https://localhost:8080/"
        },
        "id": "IaUf_iJobelT",
        "outputId": "01edd293-87e2-472d-8790-35fe4c3139d4"
      },
      "execution_count": null,
      "outputs": [
        {
          "output_type": "execute_result",
          "data": {
            "text/plain": [
              "requests.models.Response"
            ]
          },
          "metadata": {},
          "execution_count": 6
        }
      ]
    },
    {
      "cell_type": "code",
      "source": [
        "response.status_code # 객체명(response)응답번호 확인하는 매서드"
      ],
      "metadata": {
        "colab": {
          "base_uri": "https://localhost:8080/"
        },
        "id": "Ro_xyRr_ciqG",
        "outputId": "26699221-c54e-4c36-8d82-e9252588a047"
      },
      "execution_count": null,
      "outputs": [
        {
          "output_type": "execute_result",
          "data": {
            "text/plain": [
              "200"
            ]
          },
          "metadata": {},
          "execution_count": 7
        }
      ]
    },
    {
      "cell_type": "code",
      "source": [
        "print(response.raise_for_status()) # None이면 응답성공"
      ],
      "metadata": {
        "colab": {
          "base_uri": "https://localhost:8080/"
        },
        "id": "is2SqGgZdnqy",
        "outputId": "4b524f28-a2f8-4524-bd1f-6edd335529da"
      },
      "execution_count": null,
      "outputs": [
        {
          "output_type": "stream",
          "name": "stdout",
          "text": [
            "None\n"
          ]
        }
      ]
    },
    {
      "cell_type": "markdown",
      "source": [
        "##### 응답 실패시, 에러뜨도록 출력"
      ],
      "metadata": {
        "id": "413hn1JXelRF"
      }
    },
    {
      "cell_type": "code",
      "source": [
        "import requests\n",
        "from requests.exceptions import HTTPError # 에러발생 시 HTTP에러만 따로 출력\n",
        "\n",
        "url = 'http://google.com'\n",
        "\n",
        "try:\n",
        "    resp = requests.get(url)\n",
        "    resp.raise_for_status()  \n",
        "except HTTPError as Err:\n",
        "    print('HTTP에러 발생')\n",
        "except Exception as Err:\n",
        "    print('다른에러 발생')\n",
        "else:\n",
        "    print('성공')"
      ],
      "metadata": {
        "colab": {
          "base_uri": "https://localhost:8080/"
        },
        "id": "nxOlK4QadJ_P",
        "outputId": "06074603-6d47-4cf0-f9c3-b177eeecba35"
      },
      "execution_count": null,
      "outputs": [
        {
          "output_type": "stream",
          "name": "stdout",
          "text": [
            "성공\n"
          ]
        }
      ]
    },
    {
      "cell_type": "code",
      "source": [
        "resp.content  # byte형식, 원본 (이미지같은거 가져올 때 사용)\n",
        "resp.text     # str형식, 보기 편하게(<html>이런식으로)"
      ],
      "metadata": {
        "id": "cNvgw8zLfxj1"
      },
      "execution_count": null,
      "outputs": []
    },
    {
      "cell_type": "markdown",
      "source": [
        "### BeautifulSoup 라이브러리"
      ],
      "metadata": {
        "id": "UEVyXVh6ga8_"
      }
    },
    {
      "cell_type": "markdown",
      "source": [
        "- requests로 받은 응답내용을 파싱하고 정보를 얻어내는 라이브러리\n",
        "- 다른 parser를 쓰고 싶다면 밑의 공식문서 참조\n",
        "- Beautiful Soup : https://www.crummy.com/software/BeautifulSoup/bs4/doc/\n"
      ],
      "metadata": {
        "id": "QtvqZ-JCgfBp"
      }
    },
    {
      "cell_type": "code",
      "source": [
        "pip install beautifulsoup4"
      ],
      "metadata": {
        "colab": {
          "base_uri": "https://localhost:8080/"
        },
        "id": "V5-2Q2e5Yb3S",
        "outputId": "eed5f755-b7c2-4c56-d328-1aa59f453dc5"
      },
      "execution_count": null,
      "outputs": [
        {
          "output_type": "stream",
          "name": "stdout",
          "text": [
            "Looking in indexes: https://pypi.org/simple, https://us-python.pkg.dev/colab-wheels/public/simple/\n",
            "Requirement already satisfied: beautifulsoup4 in /usr/local/lib/python3.7/dist-packages (4.6.3)\n"
          ]
        }
      ]
    },
    {
      "cell_type": "code",
      "source": [
        "import requests\n",
        "from bs4 import BeautifulSoup\n",
        "\n",
        "url = 'http://google.com'\n",
        "page = requests.get(url)\n",
        "# page.content(HTML, XML)를 파싱을 통해 파이선에서도 쉽게 사용할 수있도록 변환\n",
        "soup = BeautifulSoup(page.content, 'html.parser') # XML이나 다른 html파서를 사용하려면 설치해야함"
      ],
      "metadata": {
        "id": "8yYzGGQwgtzQ"
      },
      "execution_count": null,
      "outputs": []
    },
    {
      "cell_type": "markdown",
      "source": [
        "#### 요소찾기"
      ],
      "metadata": {
        "id": "Zz4wff0OilSR"
      }
    },
    {
      "cell_type": "code",
      "source": [
        "# id니까 find로 1개의 요소 찾기\n",
        "dog_elements = soup.find(id = 'dog')         \n",
        "\n",
        "# class_는 find_all로 여러 요소 찾기 / 파이썬class와 구분하기위해 _ 붙여줌\n",
        "cat_elements = soup.find_all(class_ = 'cat') "
      ],
      "metadata": {
        "id": "-RFaxXDviovh"
      },
      "execution_count": null,
      "outputs": []
    },
    {
      "cell_type": "code",
      "source": [
        "# class_가 cat인 것들 중에 클래스가 fish인 것\n",
        "cat_elements = soup.find_all(class_='cat') # attrs={\"class\": \"cat\"}도 가능\n",
        "\n",
        "for cat_el in cat_elements:\n",
        "    cat_el.find(class_ = 'fish')"
      ],
      "metadata": {
        "id": "dq4yCu9ylMr7"
      },
      "execution_count": null,
      "outputs": []
    },
    {
      "cell_type": "code",
      "source": [
        "# 태그가 div이면서 클래스가 cat인 정보 찾기\n",
        "cat_div_elements = soup.find_all('div', class_='cat') "
      ],
      "metadata": {
        "id": "9fjnfJOUl-jv"
      },
      "execution_count": null,
      "outputs": []
    },
    {
      "cell_type": "code",
      "source": [
        "# string 활용(대소문자, 띄어쓰기 구분)\n",
        "soup.find_all(string='raining') \n",
        "\n",
        "# 대소문자 섞인 것도 가져오려면 조건부 걸어서 가져오기\n",
        "soup.find_all(string = lambda text: 'raining' in text.lower())\n",
        "\n",
        "# string은 하나의 문자열로 출력하므로 요소로 받으려면 태그도 같이 써야함\n",
        "soup.find_all(h2, string='raining')"
      ],
      "metadata": {
        "id": "9ppsfWbpmQUZ"
      },
      "execution_count": null,
      "outputs": []
    },
    {
      "cell_type": "code",
      "source": [
        "soup.select_one(a) # a자리에 셀렉터 조건써주면됨\n",
        ">[<a>abc</a>] # 리스트가됨"
      ],
      "metadata": {
        "id": "sijFLYhLJbsM"
      },
      "execution_count": null,
      "outputs": []
    },
    {
      "cell_type": "code",
      "source": [
        "soup.selet(a)\n",
        "<a>abc</a>"
      ],
      "metadata": {
        "id": "5fomuXVsJgVK"
      },
      "execution_count": null,
      "outputs": []
    },
    {
      "cell_type": "markdown",
      "source": [
        "#### 정보얻기"
      ],
      "metadata": {
        "id": "zVN5CpA_nysB"
      }
    },
    {
      "cell_type": "code",
      "source": [
        "# HTML에서 가져오려면\n",
        "<p class='cat'>This is a p-cat</p> \n",
        "\n",
        "cat_el = soup.find_all(p, class_='cat')\n",
        "cat_el.text # 해당 요소가 적용된 text 출력 - > This is a p-cat\n",
        "\n",
        "# cat_el.text.strip() # 불필요한 띄어쓰기 정리"
      ],
      "metadata": {
        "id": "QZS_X5PKn0I1"
      },
      "execution_count": null,
      "outputs": []
    }
  ]
}