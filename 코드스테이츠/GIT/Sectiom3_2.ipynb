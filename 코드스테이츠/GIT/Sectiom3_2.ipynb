{
  "nbformat": 4,
  "nbformat_minor": 0,
  "metadata": {
    "colab": {
      "provenance": [],
      "collapsed_sections": [],
      "authorship_tag": "ABX9TyNUmFRH11ptzghh5lgYaA6a",
      "include_colab_link": true
    },
    "kernelspec": {
      "name": "python3",
      "display_name": "Python 3"
    },
    "language_info": {
      "name": "python"
    }
  },
  "cells": [
    {
      "cell_type": "markdown",
      "metadata": {
        "id": "view-in-github",
        "colab_type": "text"
      },
      "source": [
        "<a href=\"https://colab.research.google.com/github/ev1025/1day1commit/blob/main/%EC%BD%94%EB%93%9C%EC%8A%A4%ED%85%8C%EC%9D%B4%EC%B8%A0/GIT/Sectiom3_2.ipynb\" target=\"_parent\"><img src=\"https://colab.research.google.com/assets/colab-badge.svg\" alt=\"Open In Colab\"/></a>"
      ]
    },
    {
      "cell_type": "markdown",
      "source": [
        "## N321 -  HTML, CSS, DOM"
      ],
      "metadata": {
        "id": "ZbvJ4HLhYUdS"
      }
    },
    {
      "cell_type": "markdown",
      "source": [
        "### HTML\n"
      ],
      "metadata": {
        "id": "cfLJpw1MpM2d"
      }
    },
    {
      "cell_type": "markdown",
      "source": [
        "- 웹페이지의 뼈대같은 구조를 관리하는 언어\n",
        "- HTML ELEMENT : body div li h2 등등   \n",
        "- HTML 태그 : \\<BODY>\\</BODY> \\<BR> 등   \n",
        "- HTML Children : element 안에 있는 또 다른 element\n"
      ],
      "metadata": {
        "id": "gO8Rw0SMpROq"
      }
    },
    {
      "cell_type": "markdown",
      "source": [
        "### CSS"
      ],
      "metadata": {
        "id": "33a1DqPCp_Ei"
      }
    },
    {
      "cell_type": "markdown",
      "source": [
        "- HTML의 스타일을 만들어주는 언어\n",
        "- CSS Selector\n",
        "   - Type : p div body \n",
        "   - Class : .으로 구분\n",
        "   - ID : #으로 구분"
      ],
      "metadata": {
        "id": "yNhO47PfqFKa"
      }
    },
    {
      "cell_type": "markdown",
      "source": [
        "### DOM메소드(Document Object Model)"
      ],
      "metadata": {
        "id": "F2mIEB37YhtW"
      }
    },
    {
      "cell_type": "markdown",
      "source": [
        "- object : 자바에서 사용하는 HTML에 접근하는 프로그래밍 언어\n",
        "- F12 Console창에서 사용"
      ],
      "metadata": {
        "id": "rA1ni2oRYlew"
      }
    },
    {
      "cell_type": "code",
      "execution_count": null,
      "metadata": {
        "id": "JoBZJQzfYTsJ"
      },
      "outputs": [],
      "source": [
        "document.querySelectorAll('h2')  # 사용 예시\n",
        "\n",
        "getElementsbyTagName('태그')      #  태그 이름으로 문서의 요소들을 리턴합니다.\n",
        "getElementById('태그')            # 'id' 가 일치하는 요소들을 리턴합니다.\n",
        "getElementsByClassName('태그')    # '클래스' 가 일치하는 요소들을 리턴합니다.\n",
        "querySelector('태그')             # 셀렉터(들)과 일치하는 요소를 리턴합니다.\n",
        "querySelectorAll('태그')          # 셀렉터(들)과 일치하는 모든 요소들을 리턴합니다."
      ]
    },
    {
      "cell_type": "markdown",
      "source": [
        "### 웹크롤링 / 웹스크래핑"
      ],
      "metadata": {
        "id": "C-y2gtSRZoeA"
      }
    },
    {
      "cell_type": "markdown",
      "source": [
        "- 웹크롤링 : 기어다닌다는 뜻의 크롤링, 데이터를 가져옴(인덱싱함)\n",
        "- 웹스크롤링 : 특정 정보를 자동화하여 가져오는 방식"
      ],
      "metadata": {
        "id": "9sbXH_KVZs5s"
      }
    },
    {
      "cell_type": "markdown",
      "source": [
        "#### requests"
      ],
      "metadata": {
        "id": "KsIjiGmraPaH"
      }
    },
    {
      "cell_type": "markdown",
      "source": [
        "- 파이썬과 웹이 소통할 수 있도록 요청을 보내는 웹스크래핑 라이브러리\n",
        "- response응답 코드 https://developer.mozilla.org/ko/docs/Web/HTTP/Status"
      ],
      "metadata": {
        "id": "N0MuNG5KaUij"
      }
    },
    {
      "cell_type": "code",
      "source": [
        "pip install requests"
      ],
      "metadata": {
        "colab": {
          "base_uri": "https://localhost:8080/"
        },
        "id": "7bL-DH8maqNP",
        "outputId": "e7d72514-2e7a-437d-a50d-45583c5393c5"
      },
      "execution_count": null,
      "outputs": [
        {
          "output_type": "stream",
          "name": "stdout",
          "text": [
            "Looking in indexes: https://pypi.org/simple, https://us-python.pkg.dev/colab-wheels/public/simple/\n",
            "Requirement already satisfied: requests in /usr/local/lib/python3.7/dist-packages (2.23.0)\n",
            "Requirement already satisfied: certifi>=2017.4.17 in /usr/local/lib/python3.7/dist-packages (from requests) (2022.9.24)\n",
            "Requirement already satisfied: idna<3,>=2.5 in /usr/local/lib/python3.7/dist-packages (from requests) (2.10)\n",
            "Requirement already satisfied: chardet<4,>=3.0.2 in /usr/local/lib/python3.7/dist-packages (from requests) (3.0.4)\n",
            "Requirement already satisfied: urllib3!=1.25.0,!=1.25.1,<1.26,>=1.21.1 in /usr/local/lib/python3.7/dist-packages (from requests) (1.24.3)\n"
          ]
        }
      ]
    },
    {
      "cell_type": "code",
      "source": [
        "import requests\n",
        "\n",
        "response = requests.get('http://google.com')\n",
        "print(response) # 정상적으로 응답하면 <Response [200]> 출력"
      ],
      "metadata": {
        "colab": {
          "base_uri": "https://localhost:8080/"
        },
        "id": "pmGoRW6Napn3",
        "outputId": "8691e947-704d-4ccc-a8b8-6a39fc1d9046"
      },
      "execution_count": null,
      "outputs": [
        {
          "output_type": "stream",
          "name": "stdout",
          "text": [
            "<Response [200]>\n"
          ]
        }
      ]
    },
    {
      "cell_type": "code",
      "source": [
        "type(response) # requests 라이브러리의 Response 타입"
      ],
      "metadata": {
        "colab": {
          "base_uri": "https://localhost:8080/"
        },
        "id": "IaUf_iJobelT",
        "outputId": "01edd293-87e2-472d-8790-35fe4c3139d4"
      },
      "execution_count": null,
      "outputs": [
        {
          "output_type": "execute_result",
          "data": {
            "text/plain": [
              "requests.models.Response"
            ]
          },
          "metadata": {},
          "execution_count": 6
        }
      ]
    },
    {
      "cell_type": "code",
      "source": [
        "response.status_code # 객체명(response)응답번호 확인하는 매서드"
      ],
      "metadata": {
        "colab": {
          "base_uri": "https://localhost:8080/"
        },
        "id": "Ro_xyRr_ciqG",
        "outputId": "26699221-c54e-4c36-8d82-e9252588a047"
      },
      "execution_count": null,
      "outputs": [
        {
          "output_type": "execute_result",
          "data": {
            "text/plain": [
              "200"
            ]
          },
          "metadata": {},
          "execution_count": 7
        }
      ]
    },
    {
      "cell_type": "code",
      "source": [
        "print(response.raise_for_status()) # None이면 응답성공"
      ],
      "metadata": {
        "colab": {
          "base_uri": "https://localhost:8080/"
        },
        "id": "is2SqGgZdnqy",
        "outputId": "4b524f28-a2f8-4524-bd1f-6edd335529da"
      },
      "execution_count": null,
      "outputs": [
        {
          "output_type": "stream",
          "name": "stdout",
          "text": [
            "None\n"
          ]
        }
      ]
    },
    {
      "cell_type": "markdown",
      "source": [
        "##### 응답 실패시, 에러뜨도록 출력"
      ],
      "metadata": {
        "id": "413hn1JXelRF"
      }
    },
    {
      "cell_type": "code",
      "source": [
        "import requests\n",
        "from requests.exceptions import HTTPError # 에러발생 시 HTTP에러만 따로 출력\n",
        "\n",
        "url = 'http://google.com'\n",
        "\n",
        "try:\n",
        "    resp = requests.get(url)\n",
        "    resp.raise_for_status()  \n",
        "except HTTPError as Err:\n",
        "    print('HTTP에러 발생')\n",
        "except Exception as Err:\n",
        "    print('다른에러 발생')\n",
        "else:\n",
        "    print('성공')"
      ],
      "metadata": {
        "colab": {
          "base_uri": "https://localhost:8080/"
        },
        "id": "nxOlK4QadJ_P",
        "outputId": "06074603-6d47-4cf0-f9c3-b177eeecba35"
      },
      "execution_count": null,
      "outputs": [
        {
          "output_type": "stream",
          "name": "stdout",
          "text": [
            "성공\n"
          ]
        }
      ]
    },
    {
      "cell_type": "code",
      "source": [
        "resp.content  # byte형식, 원본 (이미지같은거 가져올 때 사용)\n",
        "resp.text     # str형식, 보기 편하게(<html>이런식으로)"
      ],
      "metadata": {
        "colab": {
          "base_uri": "https://localhost:8080/",
          "height": 127
        },
        "id": "cNvgw8zLfxj1",
        "outputId": "7f5b5e29-e062-4355-d2dd-6cd679b9e8d4"
      },
      "execution_count": null,
      "outputs": [
        {
          "output_type": "execute_result",
          "data": {
            "text/plain": [
              "'<!doctype html><html itemscope=\"\" itemtype=\"http://schema.org/WebPage\" lang=\"zh-TW\"><head><meta content=\"text/html; charset=UTF-8\" http-equiv=\"Content-Type\"><meta content=\"/images/branding/googleg/1x/googleg_standard_color_128dp.png\" itemprop=\"image\"><title>Google</title><script nonce=\"rrai7Lhu_zrbf6zDH92l6g\">(function(){window.google={kEI:\\'czNOY_6aHcPN2roPl4CH4Ag\\',kEXPI:\\'0,202543,1099993,56873,6058,207,4804,2316,383,246,5,5367,1123753,1197769,380722,16114,28684,22431,1361,12320,17579,4998,13228,3847,10622,22741,5081,1593,1279,2742,149,1103,840,1983,4314,3514,606,2023,1777,520,14670,3227,2845,8,4807,28962,1851,15756,3,346,230,6459,149,13975,4,1528,2304,27348,7422,7357,18095,16786,5773,2584,4094,17,4035,3,3541,1,42154,2,14022,7646,6470,9865,1758,5679,1020,2378,28744,4568,6253,23424,1252,5835,14968,4332,20,7464,445,2,2,1,6959,19673,8155,7381,1480,14489,873,19634,9,1920,5784,3995,12415,6715,3757,8435,4832,5762,2172,3711,5370,123,700,4,1,2,2,2,2,8652,5265,1224,221,2084,1604,1415,8324,14,82,950,1759,1181,751,201,1869,6371,1184,2183,553,922,1941,813,1150,1407,2199,216,735,507,21,3,83,459,38,999,88,1539,6591,858,244,458,191,701,1,132,32,412,1245,1081,100,1197,109,1064,1491,78,264,130,1070,252,2070,59,21,575,235,214,12,380,1,172,396,118,83,200,587,544,1505,2,353,123,2,86,307,185,2,339,7,442,3,7,487,96,149,572,676,183,569,114,17,652,7,162,17,483,124,136,7,5,389,388,412,728,829,5323687,109,5995765,2803376,3311,141,795,19737,298,2,48,1752,61,14,1,7,3,2,2,345,1,23948295,469,4041673,2971,2087,13579,3405,11319,296,1373726\\',kBL:\\'lHUN\\'};google.sn=\\'webhp\\';google.kHL=\\'zh-TW\\';})();(function(){\\nvar f=this||self;var h,k=[];function l(a){for(var b;a&&(!a.getAttribute||!(b=a.getAttribute(\"eid\")));)a=a.parentNode;return b||h}function m(a){for(var b=null;a&&(!a.getAttribute||!(b=a.getAttribute(\"leid\")));)a=a.parentNode;return b}\\nfunction n(a,b,c,d,g){var e=\"\";c||-1!==b.search(\"&ei=\")||(e=\"&ei=\"+l(d),-1===b.search(\"&lei=\")&&(d=m(d))&&(e+=\"&lei=\"+d));d=\"\";!c&&f._cshid&&-1===b.search(\"&cshid=\")&&\"slh\"!==a&&(d=\"&cshid=\"+f._cshid);c=c||\"/\"+(g||\"gen_204\")+\"?atyp=i&ct=\"+a+\"&cad=\"+b+e+\"&zx=\"+Date.now()+d;/^http:/i.test(c)&&\"https:\"===window.location.protocol&&(google.ml&&google.ml(Error(\"a\"),!1,{src:c,glmm:1}),c=\"\");return c};h=google.kEI;google.getEI=l;google.getLEI=m;google.ml=function(){return null};google.log=function(a,b,c,d,g){if(c=n(a,b,c,d,g)){a=new Image;var e=k.length;k[e]=a;a.onerror=a.onload=a.onabort=function(){delete k[e]};a.src=c}};google.logUrl=n;}).call(this);(function(){\\ngoogle.y={};google.sy=[];google.x=function(a,b){if(a)var c=a.id;else{do c=Math.random();while(google.y[c])}google.y[c]=[a,b];return!1};google.sx=function(a){google.sy.push(a)};google.lm=[];google.plm=function(a){google.lm.push.apply(google.lm,a)};google.lq=[];google.load=function(a,b,c){google.lq.push([[a],b,c])};google.loadAll=function(a,b){google.lq.push([a,b])};google.bx=!1;google.lx=function(){};}).call(this);google.f={};(function(){\\ndocument.documentElement.addEventListener(\"submit\",function(b){var a;if(a=b.target){var c=a.getAttribute(\"data-submitfalse\");a=\"1\"===c||\"q\"===c&&!a.elements.q.value?!0:!1}else a=!1;a&&(b.preventDefault(),b.stopPropagation())},!0);document.documentElement.addEventListener(\"click\",function(b){var a;a:{for(a=b.target;a&&a!==document.documentElement;a=a.parentElement)if(\"A\"===a.tagName){a=\"1\"===a.getAttribute(\"data-nohref\");break a}a=!1}a&&b.preventDefault()},!0);}).call(this);</script><style>#gbar,#guser{font-size:13px;padding-top:1px !important;}#gbar{height:22px}#guser{padding-bottom:7px !important;text-align:right}.gbh,.gbd{border-top:1px solid #c9d7f1;font-size:1px}.gbh{height:0;position:absolute;top:24px;width:100%}@media all{.gb1{height:22px;margin-right:.5em;vertical-align:top}#gbar{float:left}}a.gb1,a.gb4{text-decoration:underline !important}a.gb1,a.gb4{color:#00c !important}.gbi .gb4{color:#dd8e27 !important}.gbf .gb4{color:#900 !important}\\n</style><style>body,td,a,p,.h{font-family:arial,sans-serif}body{margin:0;overflow-y:scroll}#gog{padding:3px 8px 0}td{line-height:.8em}.gac_m td{line-height:17px}form{margin-bottom:20px}.h{color:#1558d6}em{color:#c5221f;font-style:normal;font-weight:normal}a em{text-decoration:underline}.lst{height:25px;width:496px}.gsfi,.lst{font:18px arial,sans-serif}.gsfs{font:17px arial,sans-serif}.ds{display:inline-box;display:inline-block;margin:3px 0 4px;margin-left:4px}input{font-family:inherit}body{background:#fff;color:#000}a{color:#4b11a8;text-decoration:none}a:hover,a:active{text-decoration:underline}.fl a{color:#1558d6}a:visited{color:#4b11a8}.sblc{padding-top:5px}.sblc a{display:block;margin:2px 0;margin-left:13px;font-size:11px}.lsbb{background:#f8f9fa;border:solid 1px;border-color:#dadce0 #70757a #70757a #dadce0;height:30px}.lsbb{display:block}#WqQANb a{display:inline-block;margin:0 12px}.lsb{background:url(/images/nav_logo229.png) 0 -261px repeat-x;border:none;color:#000;cursor:pointer;height:30px;margin:0;outline:0;font:15px arial,sans-serif;vertical-align:top}.lsb:active{background:#dadce0}.lst:focus{outline:none}</style><script nonce=\"rrai7Lhu_zrbf6zDH92l6g\">(function(){window.google.erd={jsr:1,bv:1670,de:true};\\nvar h=this||self;var k,l=null!=(k=h.mei)?k:1,n,p=null!=(n=h.sdo)?n:!0,q=0,r,t=google.erd,v=t.jsr;google.ml=function(a,b,d,m,e){e=void 0===e?2:e;b&&(r=a&&a.message);if(google.dl)return google.dl(a,e,d),null;if(0>v){window.console&&console.error(a,d);if(-2===v)throw a;b=!1}else b=!a||!a.message||\"Error loading script\"===a.message||q>=l&&!m?!1:!0;if(!b)return null;q++;d=d||{};b=encodeURIComponent;var c=\"/gen_204?atyp=i&ei=\"+b(google.kEI);google.kEXPI&&(c+=\"&jexpid=\"+b(google.kEXPI));c+=\"&srcpg=\"+b(google.sn)+\"&jsr=\"+b(t.jsr)+\"&bver=\"+b(t.bv);var f=a.lineNumber;void 0!==f&&(c+=\"&line=\"+f);var g=\\na.fileName;g&&(0<g.indexOf(\"-extension:/\")&&(e=3),c+=\"&script=\"+b(g),f&&g===window.location.href&&(f=document.documentElement.outerHTML.split(\"\\\\n\")[f],c+=\"&cad=\"+b(f?f.substring(0,300):\"No script found.\")));c+=\"&jsel=\"+e;for(var u in d)c+=\"&\",c+=b(u),c+=\"=\",c+=b(d[u]);c=c+\"&emsg=\"+b(a.name+\": \"+a.message);c=c+\"&jsst=\"+b(a.stack||\"N/A\");12288<=c.length&&(c=c.substr(0,12288));a=c;m||google.log(0,\"\",a);return a};window.onerror=function(a,b,d,m,e){r!==a&&(a=e instanceof Error?e:Error(a),void 0===d||\"lineNumber\"in a||(a.lineNumber=d),void 0===b||\"fileName\"in a||(a.fileName=b),google.ml(a,!1,void 0,!1,\"SyntaxError\"===a.name||\"SyntaxError\"===a.message.substring(0,11)||-1!==a.message.indexOf(\"Script error\")?3:0));r=null;p&&q>=l&&(window.onerror=null)};})();</script></head><body bgcolor=\"#fff\"><script nonce=\"rrai7Lhu_zrbf6zDH92l6g\">(function(){var src=\\'/images/nav_logo229.png\\';var iesg=false;document.body.onload = function(){window.n && window.n();if (document.images){new Image().src=src;}\\nif (!iesg){document.f&&document.f.q.focus();document.gbqf&&document.gbqf.q.focus();}\\n}\\n})();</script><div id=\"mngb\"><div id=gbar><nobr><b class=gb1>&#25628;&#23563;</b> <a class=gb1 href=\"http://www.google.com.tw/imghp?hl=zh-TW&tab=wi\">&#22294;&#29255;</a> <a class=gb1 href=\"http://maps.google.com.tw/maps?hl=zh-TW&tab=wl\">&#22320;&#22294;</a> <a class=gb1 href=\"https://play.google.com/?hl=zh-TW&tab=w8\">Play</a> <a class=gb1 href=\"https://www.youtube.com/?tab=w1\">YouTube</a> <a class=gb1 href=\"https://news.google.com/?tab=wn\">&#26032;&#32862;</a> <a class=gb1 href=\"https://mail.google.com/mail/?tab=wm\">Gmail</a> <a class=gb1 href=\"https://drive.google.com/?tab=wo\">&#38642;&#31471;&#30828;&#30879;</a> <a class=gb1 style=\"text-decoration:none\" href=\"https://www.google.com.tw/intl/zh-TW/about/products?tab=wh\"><u>&#26356;&#22810;</u> &raquo;</a></nobr></div><div id=guser width=100%><nobr><span id=gbn class=gbi></span><span id=gbf class=gbf></span><span id=gbe></span><a href=\"http://www.google.com.tw/history/optout?hl=zh-TW\" class=gb4>&#32178;&#38913;&#35352;&#37636;</a> | <a  href=\"/preferences?hl=zh-TW\" class=gb4>&#35373;&#23450;</a> | <a target=_top id=gb_70 href=\"https://accounts.google.com/ServiceLogin?hl=zh-TW&passive=true&continue=http://www.google.com/&ec=GAZAAQ\" class=gb4>&#30331;&#20837;</a></nobr></div><div class=gbh style=left:0></div><div class=gbh style=right:0></div></div><center><br clear=\"all\" id=\"lgpd\"><div id=\"lga\"><img alt=\"Google\" height=\"92\" src=\"/images/branding/googlelogo/1x/googlelogo_white_background_color_272x92dp.png\" style=\"padding:28px 0 14px\" width=\"272\" id=\"hplogo\"><br><br></div><form action=\"/search\" name=\"f\"><table cellpadding=\"0\" cellspacing=\"0\"><tr valign=\"top\"><td width=\"25%\">&nbsp;</td><td align=\"center\" nowrap=\"\"><input name=\"ie\" value=\"ISO-8859-1\" type=\"hidden\"><input value=\"zh-TW\" name=\"hl\" type=\"hidden\"><input name=\"source\" type=\"hidden\" value=\"hp\"><input name=\"biw\" type=\"hidden\"><input name=\"bih\" type=\"hidden\"><div class=\"ds\" style=\"height:32px;margin:4px 0\"><input class=\"lst\" style=\"margin:0;padding:5px 8px 0 6px;vertical-align:top;color:#000\" autocomplete=\"off\" value=\"\" title=\"Google &#25628;&#23563;\" maxlength=\"2048\" name=\"q\" size=\"57\"></div><br style=\"line-height:0\"><span class=\"ds\"><span class=\"lsbb\"><input class=\"lsb\" value=\"Google &#25628;&#23563;\" name=\"btnG\" type=\"submit\"></span></span><span class=\"ds\"><span class=\"lsbb\"><input class=\"lsb\" id=\"tsuid_1\" value=\"&#22909;&#25163;&#27683;\" name=\"btnI\" type=\"submit\"><script nonce=\"rrai7Lhu_zrbf6zDH92l6g\">(function(){var id=\\'tsuid_1\\';document.getElementById(id).onclick = function(){if (this.form.q.value){this.checked = 1;if (this.form.iflsig)this.form.iflsig.disabled = false;}\\nelse top.location=\\'/doodles/\\';};})();</script><input value=\"AJiK0e8AAAAAY05Bg7Tu_-9-p8EbhRjQ5BWyja1y9Yaz\" name=\"iflsig\" type=\"hidden\"></span></span></td><td class=\"fl sblc\" align=\"left\" nowrap=\"\" width=\"25%\"><a href=\"/advanced_search?hl=zh-TW&amp;authuser=0\">&#36914;&#38542;&#25628;&#23563;</a></td></tr></table><input id=\"gbv\" name=\"gbv\" type=\"hidden\" value=\"1\"><script nonce=\"rrai7Lhu_zrbf6zDH92l6g\">(function(){\\nvar a,b=\"1\";if(document&&document.getElementById)if(\"undefined\"!=typeof XMLHttpRequest)b=\"2\";else if(\"undefined\"!=typeof ActiveXObject){var c,d,e=[\"MSXML2.XMLHTTP.6.0\",\"MSXML2.XMLHTTP.3.0\",\"MSXML2.XMLHTTP\",\"Microsoft.XMLHTTP\"];for(c=0;d=e[c++];)try{new ActiveXObject(d),b=\"2\"}catch(h){}}a=b;if(\"2\"==a&&-1==location.search.indexOf(\"&gbv=2\")){var f=google.gbvu,g=document.getElementById(\"gbv\");g&&(g.value=a);f&&window.setTimeout(function(){location.href=f},0)};}).call(this);</script></form><div id=\"gac_scont\"></div><div style=\"font-size:83%;min-height:3.5em\"><br></div><span id=\"footer\"><div style=\"font-size:10pt\"><div style=\"margin:19px auto;text-align:center\" id=\"WqQANb\"><a href=\"http://www.google.com.tw/intl/zh-TW/services/\">&#21830;&#26989;&#35299;&#27770;&#26041;&#26696;</a><a href=\"/intl/zh-TW/about.html\">&#38364;&#26044; Google</a><a href=\"http://www.google.com/setprefdomain?prefdom=TW&amp;prev=http://www.google.com.tw/&amp;sig=K_jWgZNuzukKSfh2SGX_5WvHZQ3Wk%3D\">Google.com.tw</a></div></div><p style=\"font-size:8pt;color:#70757a\">&copy; 2022 - <a href=\"/intl/zh-TW/policies/privacy/\">&#38577;&#31169;&#27402;</a> - <a href=\"/intl/zh-TW/policies/terms/\">&#26381;&#21209;&#26781;&#27454;</a></p></span></center><script nonce=\"rrai7Lhu_zrbf6zDH92l6g\">(function(){window.google.cdo={height:757,width:1440};(function(){\\nvar a=window.innerWidth,b=window.innerHeight;if(!a||!b){var c=window.document,d=\"CSS1Compat\"==c.compatMode?c.documentElement:c.body;a=d.clientWidth;b=d.clientHeight}a&&b&&(a!=google.cdo.width||b!=google.cdo.height)&&google.log(\"\",\"\",\"/client_204?&atyp=i&biw=\"+a+\"&bih=\"+b+\"&ei=\"+google.kEI);}).call(this);})();</script> <script nonce=\"rrai7Lhu_zrbf6zDH92l6g\">(function(){google.xjs={ck:\\'xjs.hp.iHfCprUw_lc.L.X.O\\',cs:\\'ACT90oGUabG-jqyM7vztwfEcZ-EtZrFQeg\\',excm:[]};})();</script>  <script nonce=\"rrai7Lhu_zrbf6zDH92l6g\">(function(){var u=\\'/xjs/_/js/k\\\\x3dxjs.hp.en.OXyHHoQ5vB8.O/am\\\\x3dAAB0AgBQAKAC/d\\\\x3d1/ed\\\\x3d1/rs\\\\x3dACT90oEVwJR5DpgprhAi94VZWMVfvNGcYA/m\\\\x3dsb_he,d\\';\\nvar d=this||self,e=function(a){return a};\\nvar g;var l=function(a,b){this.g=b===h?a:\"\"};l.prototype.toString=function(){return this.g+\"\"};var h={};function n(){var a=u;google.lx=function(){p(a);google.lx=function(){}};google.bx||google.lx()}\\nfunction p(a){google.timers&&google.timers.load&&google.tick&&google.tick(\"load\",\"xjsls\");var b=document;var c=\"SCRIPT\";\"application/xhtml+xml\"===b.contentType&&(c=c.toLowerCase());c=b.createElement(c);if(void 0===g){b=null;var k=d.trustedTypes;if(k&&k.createPolicy){try{b=k.createPolicy(\"goog#html\",{createHTML:e,createScript:e,createScriptURL:e})}catch(q){d.console&&d.console.error(q.message)}g=b}else g=b}a=(b=g)?b.createScriptURL(a):a;a=new l(a,h);c.src=a instanceof l&&a.constructor===l?a.g:\"type_error:TrustedResourceUrl\";var f,m;(f=(a=null==(m=(f=(c.ownerDocument&&c.ownerDocument.defaultView||window).document).querySelector)?void 0:m.call(f,\"script[nonce]\"))?a.nonce||a.getAttribute(\"nonce\")||\"\":\"\")&&c.setAttribute(\"nonce\",f);document.body.appendChild(c);google.psa=!0};google.xjsu=u;setTimeout(function(){n()},0);})();function _DumpException(e){throw e;}\\nfunction _F_installCss(c){}\\n(function(){google.jl={blt:\\'none\\',chnk:0,dw:false,dwu:true,emtn:0,end:0,ine:false,injs:\\'none\\',injt:0,injth:0,injv2:false,lls:\\'default\\',pdt:0,rep:0,snet:true,strt:0,ubm:false,uwp:true};})();(function(){var pmc=\\'{\\\\x22d\\\\x22:{},\\\\x22sb_he\\\\x22:{\\\\x22agen\\\\x22:false,\\\\x22cgen\\\\x22:false,\\\\x22client\\\\x22:\\\\x22heirloom-hp\\\\x22,\\\\x22dh\\\\x22:true,\\\\x22dhqt\\\\x22:true,\\\\x22ds\\\\x22:\\\\x22\\\\x22,\\\\x22ffql\\\\x22:\\\\x22zh-TW\\\\x22,\\\\x22fl\\\\x22:true,\\\\x22host\\\\x22:\\\\x22google.com\\\\x22,\\\\x22isbh\\\\x22:28,\\\\x22jsonp\\\\x22:true,\\\\x22msgs\\\\x22:{\\\\x22cibl\\\\x22:\\\\x22&#28165;&#38500;&#25628;&#23563;\\\\x22,\\\\x22dym\\\\x22:\\\\x22&#20320;&#26159;&#19981;&#26159;&#35201;&#26597;&#65306;\\\\x22,\\\\x22lcky\\\\x22:\\\\x22&#22909;&#25163;&#27683;\\\\x22,\\\\x22lml\\\\x22:\\\\x22&#30637;&#35299;&#35443;&#24773;\\\\x22,\\\\x22oskt\\\\x22:\\\\x22&#36664;&#20837;&#24037;&#20855;\\\\x22,\\\\x22psrc\\\\x22:\\\\x22&#24050;&#24478;&#24744;&#30340;&#12300;\\\\\\\\u003Ca href\\\\x3d\\\\\\\\\\\\x22/history\\\\\\\\\\\\x22\\\\\\\\u003E&#32178;&#38913;&#35352;&#37636;\\\\\\\\u003C/a\\\\\\\\u003E&#12301;&#20013;&#31227;&#38500;&#36889;&#31558;&#25628;&#23563;&#35352;&#37636;\\\\x22,\\\\x22psrl\\\\x22:\\\\x22&#31227;&#38500;\\\\x22,\\\\x22sbit\\\\x22:\\\\x22&#20197;&#22294;&#25628;&#23563;\\\\x22,\\\\x22srch\\\\x22:\\\\x22Google &#25628;&#23563;\\\\x22},\\\\x22ovr\\\\x22:{},\\\\x22pq\\\\x22:\\\\x22\\\\x22,\\\\x22refpd\\\\x22:true,\\\\x22rfs\\\\x22:[],\\\\x22sbas\\\\x22:\\\\x220 3px 8px 0 rgba(0,0,0,0.2),0 0 0 1px rgba(0,0,0,0.08)\\\\x22,\\\\x22sbpl\\\\x22:16,\\\\x22sbpr\\\\x22:16,\\\\x22scd\\\\x22:10,\\\\x22stok\\\\x22:\\\\x22XaY34NHUZZIlKIA3_q2x9pKCW54\\\\x22,\\\\x22uhde\\\\x22:false}}\\';google.pmc=JSON.parse(pmc);})();</script>        </body></html>'"
            ],
            "application/vnd.google.colaboratory.intrinsic+json": {
              "type": "string"
            }
          },
          "metadata": {},
          "execution_count": 16
        }
      ]
    },
    {
      "cell_type": "markdown",
      "source": [
        "### BeautifulSoup 라이브러리"
      ],
      "metadata": {
        "id": "UEVyXVh6ga8_"
      }
    },
    {
      "cell_type": "markdown",
      "source": [
        "- requests로 받은 응답내용을 파싱하고 정보를 얻어내는 라이브러리\n",
        "- 다른 parser를 쓰고 싶다면 밑의 공식문서 참조\n",
        "- Beautiful Soup : https://www.crummy.com/software/BeautifulSoup/bs4/doc/\n"
      ],
      "metadata": {
        "id": "QtvqZ-JCgfBp"
      }
    },
    {
      "cell_type": "code",
      "source": [
        "pip install beautifulsoup4"
      ],
      "metadata": {
        "colab": {
          "base_uri": "https://localhost:8080/"
        },
        "id": "V5-2Q2e5Yb3S",
        "outputId": "eed5f755-b7c2-4c56-d328-1aa59f453dc5"
      },
      "execution_count": null,
      "outputs": [
        {
          "output_type": "stream",
          "name": "stdout",
          "text": [
            "Looking in indexes: https://pypi.org/simple, https://us-python.pkg.dev/colab-wheels/public/simple/\n",
            "Requirement already satisfied: beautifulsoup4 in /usr/local/lib/python3.7/dist-packages (4.6.3)\n"
          ]
        }
      ]
    },
    {
      "cell_type": "code",
      "source": [
        "import requests\n",
        "from bs4 import BeautifulSoup\n",
        "\n",
        "url = 'http://google.com'\n",
        "page = requests.get(url)\n",
        "# page.content(HTML, XML)를 파싱을 통해 파이선에서도 쉽게 사용할 수있도록 변환\n",
        "soup = BeautifulSoup(page.content, 'html.parser') # XML이나 다른 html파서를 사용하려면 설치해야함"
      ],
      "metadata": {
        "id": "8yYzGGQwgtzQ"
      },
      "execution_count": null,
      "outputs": []
    },
    {
      "cell_type": "markdown",
      "source": [
        "#### 요소찾기"
      ],
      "metadata": {
        "id": "Zz4wff0OilSR"
      }
    },
    {
      "cell_type": "code",
      "source": [
        "# id니까 find로 1개의 요소 찾기\n",
        "dog_elements = soup.find(id = 'dog')         \n",
        "\n",
        "# class_는 find_all로 여러 요소 찾기 / 파이썬class와 구분하기위해 _ 붙여줌\n",
        "cat_elements = soup.find_all(class_ = 'cat') "
      ],
      "metadata": {
        "id": "-RFaxXDviovh"
      },
      "execution_count": null,
      "outputs": []
    },
    {
      "cell_type": "code",
      "source": [
        "# class_가 cat인 것들 중에 클래스가 fish인 것\n",
        "cat_elements = soup.find_all(class_='cat') # attrs={\"class\": \"cat\"}도 가능\n",
        "\n",
        "for cat_el in cat_elements:\n",
        "    cat_el.find(class_ = 'fish')"
      ],
      "metadata": {
        "id": "dq4yCu9ylMr7"
      },
      "execution_count": null,
      "outputs": []
    },
    {
      "cell_type": "code",
      "source": [
        "# 태그가 div이면서 클래스가 cat인 정보 찾기\n",
        "cat_div_elements = soup.find_all('div', class_='cat') "
      ],
      "metadata": {
        "id": "9fjnfJOUl-jv"
      },
      "execution_count": null,
      "outputs": []
    },
    {
      "cell_type": "code",
      "source": [
        "# string 활용(대소문자, 띄어쓰기 구분)\n",
        "soup.find_all(string='raining') \n",
        "\n",
        "# 대소문자 섞인 것도 가져오려면 조건부 걸어서 가져오기\n",
        "soup.find_all(string = lambda text: 'raining' in text.lower())\n",
        "\n",
        "# string은 하나의 문자열로 출력하므로 요소로 받으려면 태그도 같이 써야함\n",
        "soup.find_all(h2, string='raining')"
      ],
      "metadata": {
        "id": "9ppsfWbpmQUZ"
      },
      "execution_count": null,
      "outputs": []
    },
    {
      "cell_type": "code",
      "source": [
        "soup.select_one(a) # a자리에 셀렉터 조건써주면됨\n",
        ">[<a>abc</a>] # 리스트가됨"
      ],
      "metadata": {
        "id": "sijFLYhLJbsM"
      },
      "execution_count": null,
      "outputs": []
    },
    {
      "cell_type": "code",
      "source": [
        "soup.selet(a)\n",
        "<a>abc</a>"
      ],
      "metadata": {
        "id": "5fomuXVsJgVK"
      },
      "execution_count": null,
      "outputs": []
    },
    {
      "cell_type": "markdown",
      "source": [
        "#### 정보얻기"
      ],
      "metadata": {
        "id": "zVN5CpA_nysB"
      }
    },
    {
      "cell_type": "code",
      "source": [
        "# HTML에서 가져오려면\n",
        "<p class='cat'>This is a p-cat</p> \n",
        "\n",
        "cat_el = soup.find_all(p, class_='cat')\n",
        "cat_el.text # 해당 요소가 적용된 text 출력 - > This is a p-cat\n",
        "\n",
        "# cat_el.text.strip() # 불필요한 띄어쓰기 정리"
      ],
      "metadata": {
        "id": "QZS_X5PKn0I1"
      },
      "execution_count": null,
      "outputs": []
    },
    {
      "cell_type": "code",
      "source": [
        "ㅇ 스크레이핑 방식 중 마우스나 키보드 작업을 하지않아도 웹 브라우져와 HTML에 모두 표현되는 데이터를 가져오는 방식을 정적 스크레이핑이라고 합니다.\n",
        "ㅇ 웹에는 정말 많은 소스들이 존재합니다  마치 https://urclass.codestates.com/ 의 Magazine 처럼 마우스로 스크롤을 내려야 기사들이 보이는 경우의 데이터는 어떻게 가져올까요?         \n",
        "ㅇ 11번가의 베스트 500 데이터는 어떻게 가져올까요?\n",
        "ㅇ https://www.11st.co.kr/browsing/BestSeller.tmall?method=getBestSellerMain#pageNum%%3\n",
        "ㅇ 이럴 때 스크레이핑하는 방법을 동적 스크레이핑이라고 합니다. 가장 유명한 셀레니움을 통해서 동적 스크레이핑에 대해서 알아볼까요? "
      ],
      "metadata": {
        "id": "ZGKyTRmuovn_"
      },
      "execution_count": null,
      "outputs": []
    }
  ]
}