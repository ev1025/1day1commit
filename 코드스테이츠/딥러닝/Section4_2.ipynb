{
  "nbformat": 4,
  "nbformat_minor": 0,
  "metadata": {
    "colab": {
      "provenance": [],
      "collapsed_sections": [
        "DoPn6wHy1xid",
        "v25IvExhsA0k",
        "ySGcOQuRsFem",
        "Tcgo-vSbsTzi",
        "firKj2j-tpfx"
      ],
      "authorship_tag": "ABX9TyOaVm8ILrHpJ5+7V2ROCNcp",
      "include_colab_link": true
    },
    "kernelspec": {
      "name": "python3",
      "display_name": "Python 3"
    },
    "language_info": {
      "name": "python"
    }
  },
  "cells": [
    {
      "cell_type": "markdown",
      "metadata": {
        "id": "view-in-github",
        "colab_type": "text"
      },
      "source": [
        "<a href=\"https://colab.research.google.com/github/ev1025/1day1commit/blob/main/%EC%BD%94%EB%93%9C%EC%8A%A4%ED%85%8C%EC%9D%B4%EC%B8%A0/%EB%94%A5%EB%9F%AC%EB%8B%9D/Section4_2.ipynb\" target=\"_parent\"><img src=\"https://colab.research.google.com/assets/colab-badge.svg\" alt=\"Open In Colab\"/></a>"
      ]
    },
    {
      "cell_type": "markdown",
      "source": [
        "# Section4. Note2"
      ],
      "metadata": {
        "id": "zJfB_pMUdQEy"
      }
    },
    {
      "cell_type": "markdown",
      "source": [
        "## N421 자연어처리(Natural Language Processing, NLP)"
      ],
      "metadata": {
        "id": "JVLQpc3edZ_s"
      }
    },
    {
      "cell_type": "markdown",
      "source": [
        "### 자연어처리"
      ],
      "metadata": {
        "id": "mvbQRK17hOd1"
      }
    },
    {
      "cell_type": "markdown",
      "source": [
        "- 말뭉치(Corpus) : 특정한 목적을 가지고 수집한 텍스트 데이터\n",
        "- 문서(Document) : 문장(Sentence)들의 집합\n",
        "- 문장(Sentence) : 여러 개의 토큰(단어, 형태소 등)으로 구성된 문자열. 마침표, 느낌표 등의 기호로 구분\n",
        "- 어휘집합(Vocabulary) : 코퍼스에 있는 모든 문서, 문장을 토큰화한 후 중복을 제거한 토큰의 집합(set이라 보면됨)"
      ],
      "metadata": {
        "id": "g_y6Olofe8X0"
      }
    },
    {
      "cell_type": "markdown",
      "source": [
        "### 전처리(Preprocessing)"
      ],
      "metadata": {
        "id": "xu6Ps6xhdipR"
      }
    },
    {
      "cell_type": "markdown",
      "source": [
        "- 토큰화(Tokenization) : 주어진 코퍼스에서 토큰이라 불리는 단위로 나누어주는 과정\n",
        "- 불용어(Stop words) : \n",
        "- 어간 추출(Stemming) : \n",
        "- 표제어추출(Lemmatization) : "
      ],
      "metadata": {
        "id": "Cz1Uv_GOd6hw"
      }
    },
    {
      "cell_type": "markdown",
      "source": [
        "#### 맨땅 토큰화"
      ],
      "metadata": {
        "id": "DoPn6wHy1xid"
      }
    },
    {
      "cell_type": "markdown",
      "source": [
        "##### 1. 전처리(토큰화)\n"
      ],
      "metadata": {
        "id": "v25IvExhsA0k"
      }
    },
    {
      "cell_type": "code",
      "source": [
        "# 정규표현식 전처리(Regex)\n",
        "import re\n",
        "\n",
        "regex = r\"[^a-zA-Z0-9]\" # 영어, 숫자가 아닌 문자\n",
        "subst = \"\"              # 치환 할 문자\n",
        "\n",
        "re.sub(regex, subst, 문장) # 문장에 있는 regex를 subst으로 치환"
      ],
      "metadata": {
        "id": "jXU3iQ3lowK4"
      },
      "execution_count": null,
      "outputs": []
    },
    {
      "cell_type": "code",
      "source": [
        "# 정규표현식으로 토큰화 해주고, 소문자로 변경하여 띄어쓰기마다 나누기\n",
        "\n",
        "def tokenize(text):\n",
        "    regex = r\"[^a-zA-Z0-9]\"\n",
        "    subst = \"\"\n",
        "    \n",
        "    tokens = re.sub(regex, subst, text)\n",
        "    tokens = token.lower.split()\n",
        "\n",
        "    return tokens"
      ],
      "metadata": {
        "id": "tzJ7KC8fpjCZ"
      },
      "execution_count": null,
      "outputs": []
    },
    {
      "cell_type": "markdown",
      "source": [
        "##### 2. apply로 토큰화"
      ],
      "metadata": {
        "id": "ySGcOQuRsFem"
      }
    },
    {
      "cell_type": "code",
      "source": [
        "# apply로 함수 적용\n",
        "df.apply(함수, axis=0(열),1(행))\n",
        "함수에 lambda x:x.lower()도 가능"
      ],
      "metadata": {
        "id": "q7Mb05gwoZYp"
      },
      "execution_count": null,
      "outputs": []
    },
    {
      "cell_type": "code",
      "source": [
        "# apply로 reviews.text열을 토큰화하여 새로운 열 생성\n",
        "df.['tokens'] = df['reviews.text'].apply(tokenize)"
      ],
      "metadata": {
        "id": "NW4Br4otqTwX"
      },
      "execution_count": null,
      "outputs": []
    },
    {
      "cell_type": "markdown",
      "source": [
        "##### 3. 결과분석"
      ],
      "metadata": {
        "id": "Tcgo-vSbsTzi"
      }
    },
    {
      "cell_type": "code",
      "source": [
        "# 결과분석\n",
        "from collections import Counter\n",
        "# Counter객체는 리스트요소의 값과 개수를 카운트하여 튜플형태로 저장(단어, 개수)\n",
        "word_counts= Counter()\n",
        "\n",
        "# df['tokens']의 자료들을 Counter객체에 업데이트\n",
        "df['tokens'].apply(lambda x: word_counts.update(x)) \n",
        "\n",
        "# 가장 많이 존재하는 단어 n개 내림차순으로 나열\n",
        "word_counts.most_common(n)\n",
        "\n",
        "# >>\n",
        "# [('the', 10514),\n",
        "#  ('and', 8137)]"
      ],
      "metadata": {
        "id": "iS_7oEAtqpEr"
      },
      "execution_count": null,
      "outputs": []
    },
    {
      "cell_type": "markdown",
      "source": [
        "##### 4. 시각화"
      ],
      "metadata": {
        "id": "firKj2j-tpfx"
      }
    },
    {
      "cell_type": "code",
      "source": [
        "def word_count(docs):\n",
        "    word_counts = Counter()    # 코퍼스에서 단어의 빈도 카운트\n",
        "    word_in_docs = Counter()   # 단어가 포함된 문서의 빈도 카운트\n",
        "    \n",
        "    # 전체문서의 개수\n",
        "    total_docs = len(docs)     \n",
        "    \n",
        "    # Counter객체에 값 넣어주기  \n",
        "    for doc in docs:\n",
        "        word_counts.update(doc)\n",
        "        word_in_docs.update(set(doc))\n",
        "\n",
        "    # 단어별 빈도수  DataFrame 생성\n",
        "    temp = zip(word_counts.keys(), word_counts.values()) \n",
        "    wc = pd.DataFrame(temp, columns = ['word', 'count'])           \n",
        "    \n",
        "    # 빈도수 내림차순 순위매김(first는 중복시, 먼저 나온게 우선)\n",
        "    wc['rank'] = wc['count'].rank(method='first', ascending=False) \n",
        "    wc = wc.sort_values(by='rank')                              \n",
        "\n",
        "    # 빈도수 백분률 컬럼\n",
        "    total = wc['count'].sum()\n",
        "    wc['percent'] = wc['count'].apply(lambda x: x/total)\n",
        "\n",
        "    # 백분률 누적 비율컬럼\n",
        "    wc['cul_persent'] = wc['percent'].cumsum()\n",
        "\n",
        "    # 단어가 포함된 문서 빈도 수 DataFrame\n",
        "    temp2 = zip(word_in_docs.keys(), word_in_docs.values())\n",
        "    ac = pd.DataFrame(temp2, columns=['word', 'word_in_docs'])\n",
        "\n",
        "    # word를 기준으로 두 Dataframe 합침\n",
        "    wc = wc.merge(ac. on='word')\n",
        "\n",
        "    # 전체 문서중에 문자가 존재하는 문서의 비율\n",
        "    wc['word_in_docs_percent'] = wc['word_in_docs'].apply(lambda x: x/total_docs)\n",
        "\n",
        "    return wc"
      ],
      "metadata": {
        "id": "n9-dGVFLtrLO"
      },
      "execution_count": null,
      "outputs": []
    },
    {
      "cell_type": "code",
      "source": [
        "# word_count함수에 토큰화 한 데이터(df['tokens'])를 넣어줌\n",
        "wc = word_count(df['tokens'])\n",
        "\n",
        "# 시각화\n",
        "import seaborn as sns\n",
        "sns.lineplot(data='wc', x='rank', y='cul_percent')"
      ],
      "metadata": {
        "id": "2_5de9YCz1-a"
      },
      "execution_count": null,
      "outputs": []
    },
    {
      "cell_type": "markdown",
      "source": [
        "![image.png](data:image/png;base64,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)"
      ],
      "metadata": {
        "id": "qrf0V2_r0imT"
      }
    },
    {
      "cell_type": "code",
      "source": [
        "wc[wc['rank'] <= 1000]['cul_percent'].max()\n",
        "# >> 0.9097585076280484\n",
        "# 랭크 1000위 안에 90%이상 데이터가 분포하고 있음"
      ],
      "metadata": {
        "id": "q5e8ijT20nFn"
      },
      "execution_count": null,
      "outputs": []
    },
    {
      "cell_type": "code",
      "source": [
        "!pip install squarify"
      ],
      "metadata": {
        "id": "U5QgDIDK1Din"
      },
      "execution_count": null,
      "outputs": []
    },
    {
      "cell_type": "code",
      "source": [
        "# Squarify를 이용하여 상위 20개의 백분율로 시각화\n",
        "import squarify\n",
        "import matplotlib.pyplot as plt\n",
        "\n",
        "wc_top20 = wc[wc['rank'] <= 20]\n",
        "squarify.plot(sizes=wc_top20['percent'], label=wc_top20['word'], alpha=0.6)\n",
        "plt.axis('off')\n",
        "plt.show()"
      ],
      "metadata": {
        "id": "i2vU41Vg1FB_"
      },
      "execution_count": null,
      "outputs": []
    },
    {
      "cell_type": "markdown",
      "source": [
        "#### SpaCy 토큰화(정규표현식or불용어처리)"
      ],
      "metadata": {
        "id": "zKH0_Qz216KM"
      }
    },
    {
      "cell_type": "markdown",
      "source": [
        "불용어(Stop words)처리\n",
        "- 일반적으로 분석에 의미가 없는 단어들을 제외하는 방법\n",
        "- 대부분의 라이브러리가 일반적인 불용어를 내장하고 있음\n",
        "- print(nlp.Defaults.stop_words)로 확인가능"
      ],
      "metadata": {
        "id": "TF4LjY5DXTkk"
      }
    },
    {
      "cell_type": "code",
      "source": [
        "\"\"\" \n",
        "토큰화된 문서들을 입력받아 토큰을 카운트 하고 관련된 속성을 가진 데이터프레임을 리턴합니다.\n",
        "    Args:\n",
        "        docs (series or list): 토큰화된 문서가 들어있는 list\n",
        "    Returns:\n",
        "        list: Dataframe\n",
        "\"\"\"\n",
        "def word_count(docs):\n",
        "    word_counts = Counter()    # 코퍼스에서 단어의 빈도 카운트\n",
        "    word_in_docs = Counter()   # 단어가 포함된 문서의 빈도 카운트\n",
        "    \n",
        "    # 전체문서의 개수\n",
        "    total_docs = len(docs)     \n",
        "    \n",
        "    # Counter객체에 값 넣어주기  \n",
        "    for doc in docs:\n",
        "        word_counts.update(doc)\n",
        "        word_in_docs.update(set(doc))\n",
        "\n",
        "    # 단어별 빈도수  DataFrame 생성\n",
        "    temp = zip(word_counts.keys(), word_counts.values()) \n",
        "    wc = pd.DataFrame(temp, columns = ['word', 'count'])           \n",
        "    \n",
        "    # 빈도수 내림차순 순위매김(first는 중복시, 먼저 나온게 우선)\n",
        "    wc['rank'] = wc['count'].rank(method='first', ascending=False) \n",
        "    wc = wc.sort_values(by='rank')                              \n",
        "\n",
        "    # 빈도수 백분률 컬럼\n",
        "    total = wc['count'].sum()\n",
        "    wc['percent'] = wc['count'].apply(lambda x: x/total)\n",
        "\n",
        "    # 백분률 누적 비율컬럼\n",
        "    wc['cul_persent'] = wc['percent'].cumsum()\n",
        "\n",
        "    # 단어가 포함된 문서 빈도 수 DataFrame\n",
        "    temp2 = zip(word_in_docs.keys(), word_in_docs.values())\n",
        "    ac = pd.DataFrame(temp2, columns=['word', 'word_in_docs'])\n",
        "\n",
        "    # word를 기준으로 두 Dataframe 합침\n",
        "    wc = wc.merge(ac. on='word')\n",
        "\n",
        "    # 전체 문서중에 문자가 존재하는 문서의 비율\n",
        "    wc['word_in_docs_percent'] = wc['word_in_docs'].apply(lambda x: x/total_docs)\n",
        "\n",
        "    return wc"
      ],
      "metadata": {
        "id": "5csUjEWbVpqi"
      },
      "execution_count": null,
      "outputs": []
    },
    {
      "cell_type": "code",
      "source": [
        "import spacy\n",
        "from spacy.tokenizer import Tokenizer\n",
        "\n",
        "nlp = spacy.load(\"en_core_web_sm\") # 영어버전 열기\n",
        "tokenizer = Tokenizer(nlp.vocab)   # 어휘집합(set)"
      ],
      "metadata": {
        "id": "Fs8GE4b6P31y"
      },
      "execution_count": 1,
      "outputs": []
    },
    {
      "cell_type": "code",
      "source": [
        "# Spacy 방법1 정규표현식\n",
        "tokens =[]\n",
        "\n",
        "# .pipe : 텍스트 스트림을 토큰화합니다.\n",
        "for doc in tokenizer.pipe(df['reviews.text']):\n",
        "    doc_tokens = [re.sub(r\"[^a-z0-9]\", \"\", token.text.lower()) for token in doc]\n",
        "    tokens.append(doc_tokens)\n",
        "\n",
        "# 토큰 컬럼 추가\n",
        "df['tokens'] = tokens"
      ],
      "metadata": {
        "id": "D-eCEwF3aKFg"
      },
      "execution_count": null,
      "outputs": []
    },
    {
      "cell_type": "code",
      "source": [
        "# Spacy 방법2 불용어처리\n",
        "tokens = []\n",
        "\n",
        "for doc in tokenizer.pipe(df['reviews.text']):\n",
        "    doc_tokens = []\n",
        "\n",
        "# 불용어 & 구두점 제거\n",
        "# 단어마다 확인해서 doc_tokens에 추가하고\n",
        "# 한 행의 리스트가 완료되면 tokens에 추가   \n",
        "    for token in doc:\n",
        "        if (token.is_stop == False) & (token.is_punct == False):\n",
        "            doc_tokens.append(token.text.lower())\n",
        "   \n",
        "    tokens.append(doc_tokens)\n",
        "\n",
        "df['tokens'] = tokens"
      ],
      "metadata": {
        "id": "APdHlZKLYH9H"
      },
      "execution_count": null,
      "outputs": []
    },
    {
      "cell_type": "code",
      "source": [
        "# Spacy 방법3 불용어처리 커스터마이징\n",
        "# 해당 단어들 불용어에 추가\n",
        "STOP_WORDS = nlp.Defaults.stop_words.union(['it', \"it's\", 'it.', 'the', 'this'])\n",
        "\n",
        "tokens = []\n",
        "\n",
        "for doc in tokenizer.pipe(df['reviews.text']):\n",
        "    \n",
        "    doc_tokens = []\n",
        "    \n",
        "    for token in doc: \n",
        "        if token.text.lower() not in STOP_WORDS:\n",
        "            doc_tokens.append(token.text.lower())\n",
        "   \n",
        "    tokens.append(doc_tokens)\n",
        "    \n",
        "df['tokens'] = tokens"
      ],
      "metadata": {
        "id": "wP2s89Rsbf6_"
      },
      "execution_count": null,
      "outputs": []
    },
    {
      "cell_type": "code",
      "source": [
        "# 함수에 대입하여 분포를 구하기\n",
        "wc = word_count(df['tokens'])\n",
        "wc.head()"
      ],
      "metadata": {
        "id": "31N4MiDHVzkp"
      },
      "execution_count": null,
      "outputs": []
    },
    {
      "cell_type": "markdown",
      "source": [
        "![11.JPG](data:image/jpeg;base64,/9j/4AAQSkZJRgABAQEAYABgAAD/4RDaRXhpZgAATU0AKgAAAAgABAE7AAIAAAAFAAAISodpAAQAAAABAAAIUJydAAEAAAAKAAAQyOocAAcAAAgMAAAAPgAAAAAc6gAAAAgAAAAAAAAAAAAAAAAAAAAAAAAAAAAAAAAAAAAAAAAAAAAAAAAAAAAAAAAAAAAAAAAAAAAAAAAAAAAAAAAAAAAAAAAAAAAAAAAAAAAAAAAAAAAAAAAAAAAAAAAAAAAAAAAAAAAAAAAAAAAAAAAAAAAAAAAAAAAAAAAAAAAAAAAAAAAAAAAAAAAAAAAAAAAAAAAAAAAAAAAAAAAAAAAAAAAAAAAAAAAAAAAAAAAAAAAAAAAAAAAAAAAAAAAAAAAAAAAAAAAAAAAAAAAAAAAAAAAAAAAAAAAAAAAAAAAAAAAAAAAAAAAAAAAAAAAAAAAAAAAAAAAAAAAAAAAAAAAAAAAAAAAAAAAAAAAAAAAAAAAAAAAAAAAAAAAAAAAAAAAAAAAAAAAAAAAAAAAAAAAAAAAAAAAAAAAAAAAAAAAAAAAAAAAAAAAAAAAAAAAAAAAAAAAAAAAAAAAAAAAAAAAAAAAAAAAAAAAAAAAAAAAAAAAAAAAAAAAAAAAAAAAAAAAAAAAAAAAAAAAAAAAAAAAAAAAAAAAAAAAAAAAAAAAAAAAAAAAAAAAAAAAAAAAAAAAAAAAAAAAAAAAAAAAAAAAAAAAAAAAAAAAAAAAAAAAAAAAAAAAAAAAAAAAAAAAAAAAAAAAAAAAAAAAAAAAAAAAAAAAAAAAAAAAAAAAAAAAAAAAAAAAAAAAAAAAAAAAAAAAAAAAAAAAAAAAAAAAAAAAAAAAAAAAAAAAAAAAAAAAAAAAAAAAAAAAAAAAAAAAAAAAAAAAAAAAAAAAAAAAAAAAAAAAAAAAAAAAAAAAAAAAAAAAAAAAAAAAAAAAAAAAAAAAAAAAAAAAAAAAAAAAAAAAAAAAAAAAAAAAAAAAAAAAAAAAAAAAAAAAAAAAAAAAAAAAAAAAAAAAAAAAAAAAAAAAAAAAAAAAAAAAAAAAAAAAAAAAAAAAAAAAAAAAAAAAAAAAAAAAAAAAAAAAAAAAAAAAAAAAAAAAAAAAAAAAAAAAAAAAAAAAAAAAAAAAAAAAAAAAAAAAAAAAAAAAAAAAAAAAAAAAAAAAAAAAAAAAAAAAAAAAAAAAAAAAAAAAAAAAAAAAAAAAAAAAAAAAAAAAAAAAAAAAAAAAAAAAAAAAAAAAAAAAAAAAAAAAAAAAAAAAAAAAAAAAAAAAAAAAAAAAAAAAAAAAAAAAAAAAAAAAAAAAAAAAAAAAAAAAAAAAAAAAAAAAAAAAAAAAAAAAAAAAAAAAAAAAAAAAAAAAAAAAAAAAAAAAAAAAAAAAAAAAAAAAAAAAAAAAAAAAAAAAAAAAAAAAAAAAAAAAAAAAAAAAAAAAAAAAAAAAAAAAAAAAAAAAAAAAAAAAAAAAAAAAAAAAAAAAAAAAAAAAAAAAAAAAAAAAAAAAAAAAAAAAAAAAAAAAAAAAAAAAAAAAAAAAAAAAAAAAAAAAAAAAAAAAAAAAAAAAAAAAAAAAAAAAAAAAAAAAAAAAAAAAAAAAAAAAAAAAAAAAAAAAAAAAAAAAAAAAAAAAAAAAAAAAAAAAAAAAAAAAAAAAAAAAAAAAAAAAAAAAAAAAAAAAAAAAAAAAAAAAAAAAAAAAAAAAAAAAAAAAAAAAAAAAAAAAAAAAAAAAAAAAAAAAAAAAAAAAAAAAAAAAAAAAAAAAAAAAAAAAAAAAAAAAAAAAAAAAAAAAAAAAAAAAAAAAAAAAAAAAAAAAAAAAAAAAAAAAAAAAAAAAAAAAAAAAAAAAAAAAAAAAAAAAAAAAAAAAAAAAAAAAAAAAAAAAAAAAAAAAAAAAAAAAAAAAAAAAAAAAAAAAAAAAAAAAAAAAAAAAAAAAAAAAAAAAAAAAAAAAAAAAAAAAAAAAAAAAAAAAAAAAAAAAAAAAAAAAAAAAAAAAAAAAAAAAAAAAAAAAAAAAAAAAAAAAAAAAAAAAAAAAAAAAAAAAAAAAAAAAAAAAAAAAAAAAAAAAAAAAAAAAAAAAAAAAAAAAAAAAAAAAAAAAAAAAAAAAAAAAAAAAAAAAAAAAAAAAAAAAAAAAAAAAAAAAAAAAAAAAAAAAAAAAAAAAAAAAAAAAAAAAAAAAAAAAAAAAAAAAAAAAAAAAAAAAAAAAAAAAAAAAAAAAAAAAAAAAAAAAAAAAAAAAAAAAAAAAAAAAAAAAAAAAAAAAAAAAAAAAAAAAAAAAAAAAAAAAAAAAAAAAAAAAAAAAAAAAAAAAAAAAAAAAAAAAAAAAAAAAAAAAAAAAAAAAAAAAAAAAAAAAAAAAAAAAAAAAAAAAAAAAAAAAAAAAAAAAAAAAAAAAAAAAAAAAAAAAAAAAAAAAAAAAAAAAAAAAAAAAAAAAAAAAAAAAAAAAAAAAAAAAAAAAAAAAAAAAAAAAAAAAAAAAAAAAAAAAAAAAAAAAAAAAAAAAAAAAAAAAAAAAAAAAAAAAAAAAAAAAAAAAAAAAAAAAAAAAAAAAAAAAAAAAAAAAAAAAAAAAAAAAAAAAAAAAAAAAAAAAAAAAAAAAAAAAAAAAAAAAAAAAAAAAAAAAAAAAAAAAAAAAAAAAAAAAAAAAAAAAAAAAAAAAAAAAAAAAAAAAAAAAAAAAAAAAAAAAAAAAAAAAAAAAAAAAAAAAAAAAAAAAAAAAAAAAAAAAAAAAAAAAAAAAAAAAAAAAAAAAAAAAAAAAAAAAAAAAAAAAAAAAAAAAAAAAAAAAAAAAAAAAAAAAAAAAAAAAAAAAAAAAAAAAAAAAAAAAAAAAAAAAAAAAAAAAAAAAAAAAAAAAAAAAAAGVudnkAAAAFkAMAAgAAABQAABCekAQAAgAAABQAABCykpEAAgAAAAM1NAAAkpIAAgAAAAM1NAAA6hwABwAACAwAAAiSAAAAABzqAAAACAAAAAAAAAAAAAAAAAAAAAAAAAAAAAAAAAAAAAAAAAAAAAAAAAAAAAAAAAAAAAAAAAAAAAAAAAAAAAAAAAAAAAAAAAAAAAAAAAAAAAAAAAAAAAAAAAAAAAAAAAAAAAAAAAAAAAAAAAAAAAAAAAAAAAAAAAAAAAAAAAAAAAAAAAAAAAAAAAAAAAAAAAAAAAAAAAAAAAAAAAAAAAAAAAAAAAAAAAAAAAAAAAAAAAAAAAAAAAAAAAAAAAAAAAAAAAAAAAAAAAAAAAAAAAAAAAAAAAAAAAAAAAAAAAAAAAAAAAAAAAAAAAAAAAAAAAAAAAAAAAAAAAAAAAAAAAAAAAAAAAAAAAAAAAAAAAAAAAAAAAAAAAAAAAAAAAAAAAAAAAAAAAAAAAAAAAAAAAAAAAAAAAAAAAAAAAAAAAAAAAAAAAAAAAAAAAAAAAAAAAAAAAAAAAAAAAAAAAAAAAAAAAAAAAAAAAAAAAAAAAAAAAAAAAAAAAAAAAAAAAAAAAAAAAAAAAAAAAAAAAAAAAAAAAAAAAAAAAAAAAAAAAAAAAAAAAAAAAAAAAAAAAAAAAAAAAAAAAAAAAAAAAAAAAAAAAAAAAAAAAAAAAAAAAAAAAAAAAAAAAAAAAAAAAAAAAAAAAAAAAAAAAAAAAAAAAAAAAAAAAAAAAAAAAAAAAAAAAAAAAAAAAAAAAAAAAAAAAAAAAAAAAAAAAAAAAAAAAAAAAAAAAAAAAAAAAAAAAAAAAAAAAAAAAAAAAAAAAAAAAAAAAAAAAAAAAAAAAAAAAAAAAAAAAAAAAAAAAAAAAAAAAAAAAAAAAAAAAAAAAAAAAAAAAAAAAAAAAAAAAAAAAAAAAAAAAAAAAAAAAAAAAAAAAAAAAAAAAAAAAAAAAAAAAAAAAAAAAAAAAAAAAAAAAAAAAAAAAAAAAAAAAAAAAAAAAAAAAAAAAAAAAAAAAAAAAAAAAAAAAAAAAAAAAAAAAAAAAAAAAAAAAAAAAAAAAAAAAAAAAAAAAAAAAAAAAAAAAAAAAAAAAAAAAAAAAAAAAAAAAAAAAAAAAAAAAAAAAAAAAAAAAAAAAAAAAAAAAAAAAAAAAAAAAAAAAAAAAAAAAAAAAAAAAAAAAAAAAAAAAAAAAAAAAAAAAAAAAAAAAAAAAAAAAAAAAAAAAAAAAAAAAAAAAAAAAAAAAAAAAAAAAAAAAAAAAAAAAAAAAAAAAAAAAAAAAAAAAAAAAAAAAAAAAAAAAAAAAAAAAAAAAAAAAAAAAAAAAAAAAAAAAAAAAAAAAAAAAAAAAAAAAAAAAAAAAAAAAAAAAAAAAAAAAAAAAAAAAAAAAAAAAAAAAAAAAAAAAAAAAAAAAAAAAAAAAAAAAAAAAAAAAAAAAAAAAAAAAAAAAAAAAAAAAAAAAAAAAAAAAAAAAAAAAAAAAAAAAAAAAAAAAAAAAAAAAAAAAAAAAAAAAAAAAAAAAAAAAAAAAAAAAAAAAAAAAAAAAAAAAAAAAAAAAAAAAAAAAAAAAAAAAAAAAAAAAAAAAAAAAAAAAAAAAAAAAAAAAAAAAAAAAAAAAAAAAAAAAAAAAAAAAAAAAAAAAAAAAAAAAAAAAAAAAAAAAAAAAAAAAAAAAAAAAAAAAAAAAAAAAAAAAAAAAAAAAAAAAAAAAAAAAAAAAAAAAAAAAAAAAAAAAAAAAAAAAAAAAAAAAAAAAAAAAAAAAAAAAAAAAAAAAAAAAAAAAAAAAAAAAAAAAAAAAAAAAAAAAAAAAAAAAAAAAAAAAAAAAAAAAAAAAAAAAAAAAAAAAAAAAAAAAAAAAAAAAAAAAAAAAAAAAAAAAAAAAAAAAAAAAAAAAAAAAAAAAAAAAAAAAAAAAAAAAAAAAAAAAAAAAAAAAAAAAAAAAAAAAAAAAAAAAAAAAAAAAAAAAAAAAAAAAAAAAAAAAAAAAAAAAAAAAAAAAAAAAAAAAAAAAAAAAAAAAAAAAAAAAAAAAAAAAAAAAAAAAAAAAAAAAAAAAAAAAAAAAAAAAAAAAAAAAAAAAAAAAAAAAAAAAAAAAAAAAAAAAAAAAAAAAAAAAAAAAAAAAAAAAAAAAAAAAAAAAAAAAAAAAAAAAAAAAAAAAAAAAAAAAAAAAAAAAAAAAAAAAAAAAAAAAAAAAAAAAAAAAAAAAAAAAAAAAAAAAAAAAAAAAAAAAAAAAAAAAAAAAAAAAAAAAAAAAAAAAAAAAAAAAAAAAAAAAAAAAAAAAAAAAAAAAAAAAAAAAAAAAAAAAAAAAAAAAAAAAAAAAAAAAAAAAAAAAAAAAAAAAAAAAAAAAAAAAAAAAAAAAAAAAAAAAAAAAAAAAAAAAAAAAAAAAAAAAAAAAAAAAAAAAAAAAAAAAAAAAAAAAAAAAAAAAAAAAAAAAAAAAAAAAAAAAAAAAAAAAAAAAAAAAAAAAAAAAAAAAAAAAAAAAAAAAAAAAAAAAAAAAAAAAAAAAAAAAAAAAAAAAAAAAAAAAAAAAAAAAAAAAAAAAAAAAAAAAAAAAAAAAAAAAAAAAAAAAAAAAAAAAAAAAAAAAAAAAAAAAAAAAAAAAAAAAAAAAAAAAAAAAAAAAAAAAAAAAAAAAAAAAAAAAAAAAAAAAAAAAAAAAAAAAAAAAAAAAAAAAAAAAAAAAAAAAAAAAAAAAAAAAAAAAAAAAAAAAAAAAAAAAAAAAAAAAAAAAAAAAAAAAAAAAAAAAAAAAAAAAAAAAAAAAAAAAAAAAAAAAAAAAAAAAAAAAAAAAAAAAAAAAAAAAAAMjAyMjoxMToxNiAyMToxMjozOAAyMDIyOjExOjE2IDIxOjEyOjM4AAAAZQBuAHYAeQAAAP/hCxdodHRwOi8vbnMuYWRvYmUuY29tL3hhcC8xLjAvADw/eHBhY2tldCBiZWdpbj0n77u/JyBpZD0nVzVNME1wQ2VoaUh6cmVTek5UY3prYzlkJz8+DQo8eDp4bXBtZXRhIHhtbG5zOng9ImFkb2JlOm5zOm1ldGEvIj48cmRmOlJERiB4bWxuczpyZGY9Imh0dHA6Ly93d3cudzMub3JnLzE5OTkvMDIvMjItcmRmLXN5bnRheC1ucyMiPjxyZGY6RGVzY3JpcHRpb24gcmRmOmFib3V0PSJ1dWlkOmZhZjViZGQ1LWJhM2QtMTFkYS1hZDMxLWQzM2Q3NTE4MmYxYiIgeG1sbnM6ZGM9Imh0dHA6Ly9wdXJsLm9yZy9kYy9lbGVtZW50cy8xLjEvIi8+PHJkZjpEZXNjcmlwdGlvbiByZGY6YWJvdXQ9InV1aWQ6ZmFmNWJkZDUtYmEzZC0xMWRhLWFkMzEtZDMzZDc1MTgyZjFiIiB4bWxuczp4bXA9Imh0dHA6Ly9ucy5hZG9iZS5jb20veGFwLzEuMC8iPjx4bXA6Q3JlYXRlRGF0ZT4yMDIyLTExLTE2VDIxOjEyOjM4LjU0MDwveG1wOkNyZWF0ZURhdGU+PC9yZGY6RGVzY3JpcHRpb24+PHJkZjpEZXNjcmlwdGlvbiByZGY6YWJvdXQ9InV1aWQ6ZmFmNWJkZDUtYmEzZC0xMWRhLWFkMzEtZDMzZDc1MTgyZjFiIiB4bWxuczpkYz0iaHR0cDovL3B1cmwub3JnL2RjL2VsZW1lbnRzLzEuMS8iPjxkYzpjcmVhdG9yPjxyZGY6U2VxIHhtbG5zOnJkZj0iaHR0cDovL3d3dy53My5vcmcvMTk5OS8wMi8yMi1yZGYtc3ludGF4LW5zIyI+PHJkZjpsaT5lbnZ5PC9yZGY6bGk+PC9yZGY6U2VxPg0KCQkJPC9kYzpjcmVhdG9yPjwvcmRmOkRlc2NyaXB0aW9uPjwvcmRmOlJERj48L3g6eG1wbWV0YT4NCiAgICAgICAgICAgICAgICAgICAgICAgICAgICAgICAgICAgICAgICAgICAgICAgICAgICAgICAgICAgICAgICAgICAgICAgICAgICAgICAgICAgICAgICAgICAgICAgICAgICAKICAgICAgICAgICAgICAgICAgICAgICAgICAgICAgICAgICAgICAgICAgICAgICAgICAgICAgICAgICAgICAgICAgICAgICAgICAgICAgICAgICAgICAgICAgICAgICAgICAgIAogICAgICAgICAgICAgICAgICAgICAgICAgICAgICAgICAgICAgICAgICAgICAgICAgICAgICAgICAgICAgICAgICAgICAgICAgICAgICAgICAgICAgICAgICAgICAgICAgICAgCiAgICAgICAgICAgICAgICAgICAgICAgICAgICAgICAgICAgICAgICAgICAgICAgICAgICAgICAgICAgICAgICAgICAgICAgICAgICAgICAgICAgICAgICAgICAgICAgICAgICAKICAgICAgICAgICAgICAgICAgICAgICAgICAgICAgICAgICAgICAgICAgICAgICAgICAgICAgICAgICAgICAgICAgICAgICAgICAgICAgICAgICAgICAgICAgICAgICAgICAgIAogICAgICAgICAgICAgICAgICAgICAgICAgICAgICAgICAgICAgICAgICAgICAgICAgICAgICAgICAgICAgICAgICAgICAgICAgICAgICAgICAgICAgICAgICAgICAgICAgICAgCiAgICAgICAgICAgICAgICAgICAgICAgICAgICAgICAgICAgICAgICAgICAgICAgICAgICAgICAgICAgICAgICAgICAgICAgICAgICAgICAgICAgICAgICAgICAgICAgICAgICAKICAgICAgICAgICAgICAgICAgICAgICAgICAgICAgICAgICAgICAgICAgICAgICAgICAgICAgICAgICAgICAgICAgICAgICAgICAgICAgICAgICAgICAgICAgICAgICAgICAgIAogICAgICAgICAgICAgICAgICAgICAgICAgICAgICAgICAgICAgICAgICAgICAgICAgICAgICAgICAgICAgICAgICAgICAgICAgICAgICAgICAgICAgICAgICAgICAgICAgICAgCiAgICAgICAgICAgICAgICAgICAgICAgICAgICAgICAgICAgICAgICAgICAgICAgICAgICAgICAgICAgICAgICAgICAgICAgICAgICAgICAgICAgICAgICAgICAgICAgICAgICAKICAgICAgICAgICAgICAgICAgICAgICAgICAgICAgICAgICAgICAgICAgICAgICAgICAgICAgICAgICAgICAgICAgICAgICAgICAgICAgICAgICAgICAgICAgICAgICAgICAgIAogICAgICAgICAgICAgICAgICAgICAgICAgICAgICAgICAgICAgICAgICAgICAgICAgICAgICAgICAgICAgICAgICAgICAgICAgICAgICAgICAgICAgICAgICAgICAgICAgICAgCiAgICAgICAgICAgICAgICAgICAgICAgICAgICAgICAgICAgICAgICAgICAgICAgICAgICAgICAgICAgICAgICAgICAgICAgICAgICAgICAgICAgICAgICAgICAgICAgICAgICAKICAgICAgICAgICAgICAgICAgICAgICAgICAgICAgICAgICAgICAgICAgICAgICAgICAgICAgICAgICAgICAgICAgICAgICAgICAgICAgICAgICAgICAgICAgICAgICAgICAgIAogICAgICAgICAgICAgICAgICAgICAgICAgICAgICAgICAgICAgICAgICAgICAgICAgICAgICAgICAgICAgICAgICAgICAgICAgICAgICAgICAgICAgICAgICAgICAgICAgICAgCiAgICAgICAgICAgICAgICAgICAgICAgICAgICAgICAgICAgICAgICAgICAgICAgICAgICAgICAgICAgICAgICAgICAgICAgICAgICAgICAgICAgICAgICAgICAgICAgICAgICAKICAgICAgICAgICAgICAgICAgICAgICAgICAgICAgICAgICAgICAgICAgICAgICAgICAgICAgICAgICAgICAgICAgICAgICAgICAgICAgICAgICAgICAgICAgICAgICAgICAgIAogICAgICAgICAgICAgICAgICAgICAgICAgICAgICAgICAgICAgICAgICAgICAgICAgICAgICAgICAgICAgICAgICAgICAgICAgICAgICAgICAgICAgICAgICAgICAgICAgICAgCiAgICAgICAgICAgICAgICAgICAgICAgICAgICAgICAgICAgICAgICAgICAgICAgICAgICAgICAgICAgICAgICAgICAgICAgICAgICAgICAgICAgICAgICAgICAgICAgICAgICAKICAgICAgICAgICAgICAgICAgICAgICAgICAgICAgICAgICAgICAgICAgICAgICAgICAgICAgICAgICAgICAgICAgICAgICAgICAgICAgICAgICAgICAgICAgICAgICAgICAgIAogICAgICAgICAgICAgICAgICAgICAgICAgICAgPD94cGFja2V0IGVuZD0ndyc/Pv/bAEMABwUFBgUEBwYFBggHBwgKEQsKCQkKFQ8QDBEYFRoZGBUYFxseJyEbHSUdFxgiLiIlKCkrLCsaIC8zLyoyJyorKv/bAEMBBwgICgkKFAsLFCocGBwqKioqKioqKioqKioqKioqKioqKioqKioqKioqKioqKioqKioqKioqKioqKioqKioqKv/AABEIAN0ClAMBIgACEQEDEQH/xAAfAAABBQEBAQEBAQAAAAAAAAAAAQIDBAUGBwgJCgv/xAC1EAACAQMDAgQDBQUEBAAAAX0BAgMABBEFEiExQQYTUWEHInEUMoGRoQgjQrHBFVLR8CQzYnKCCQoWFxgZGiUmJygpKjQ1Njc4OTpDREVGR0hJSlNUVVZXWFlaY2RlZmdoaWpzdHV2d3h5eoOEhYaHiImKkpOUlZaXmJmaoqOkpaanqKmqsrO0tba3uLm6wsPExcbHyMnK0tPU1dbX2Nna4eLj5OXm5+jp6vHy8/T19vf4+fr/xAAfAQADAQEBAQEBAQEBAAAAAAAAAQIDBAUGBwgJCgv/xAC1EQACAQIEBAMEBwUEBAABAncAAQIDEQQFITEGEkFRB2FxEyIygQgUQpGhscEJIzNS8BVictEKFiQ04SXxFxgZGiYnKCkqNTY3ODk6Q0RFRkdISUpTVFVWV1hZWmNkZWZnaGlqc3R1dnd4eXqCg4SFhoeIiYqSk5SVlpeYmZqio6Slpqeoqaqys7S1tre4ubrCw8TFxsfIycrS09TV1tfY2dri4+Tl5ufo6ery8/T19vf4+fr/2gAMAwEAAhEDEQA/APpGiiigAooooAKKKKACiiq99f2emWb3epXUFpbJjfNcSCNFycDLHgcnFAFiiqcur6bDcTW82oWsc0EP2iaN51DRxf8APRhnIX3PFV7vxPoFhbW1xfa5pttBdrvt5ZruNFmXjlCThhyOR60AalFUb3W9K010XUdTs7RnjaVRPcIhZFGWYZPIA6ntWT4r8b6X4Y0e9uPtVndX1tbG5TT/ALWqSzJ6gcnHXnB6Um0ldgtXY6SiqumXn9o6TaXvl+X9pgSbZnO3coOM9+tWqppp2Yk1JXQUVQl17SILe6nm1Wyjhs5PKuZHuECwPx8rnOFPI4PqKkbV9NSW4ifULVZLaITzoZlBij672GflXg8njikMt0VnWniHRdQsJ76w1ewurS3z51xDco8cWBk7mBwMDnmmnxNoIspbw63pwtYQhlnN3Hsj3gFNzZwNwIxnrnigDTormvDPjGHxNruuWFrBH5GlyRLHdRziRblZE3hhgYAx7nNXNb1yXSdR0i2itYJl1C68h3lvY4DGMZ3KrcyH/ZXmja3nb8RXWvl+hs0Vlr4n0FriKBdb04zTStBFGLuPc8ikBkAzksCRkDkZFalAworkfEnxD0zRLmxtrCS01S5n1OLT7iCG8XfalyRuZQCQQVPBx9a3rjX9HtNUj0261axgv5ceXayXKLK+emEJyc/Shaq4PTc0KKz9T17R9E8r+2dVsdP87Pl/a7lIt+OuNxGcZH50jeINGXVxpTavYDUWxizNynnHIyPkzu6c9OlAGjRRRQAUVn2Wv6PqV3Pa6dq1jd3FvnzoYLlHeLBwdwByOeOabY+JND1SO4fTNZ0+8S2XdO1vdJIIhzy2Cdo4PX0NAGlRVFdb0p0s3TU7Nlvzi0IuFIuOM/Jz83HpmoV8T6C1xFAut6cZppWgijF3HueRSAyAZyWBIyByMijrYDUornLDx5oGo+Mb3wza3sZ1C0C7gZE2ysQSyJ82WZQDuGOPzro6Olw2dgoqG7u7awtJLq+uIra3iXdJNM4REHqSeAKoT+KvD9tam5udd0yGASCIyyXkaqHK7guScZ284645oA1aKoHXdIFvaznVbIQ3pxayG4TbOcZ+Q5w3HpWH4l8e6fo3hBvEGktba1brcRwf6NdqUJZwp+dQwyM5xR1sK6tc6uiqkGradc6jNp9vf2st7bqGmtkmVpIgcYLKDkdR19at0DCiiqV7rWl6bMItR1KztJDG0oSedUJRfvNgnoO56CgC7RVA67pC6ONWbVLIaaRkXhuE8nrj7+dvXjr1pP8AhING+yW11/a1j9nu22W032lNkzc8I2cMeDwPSgDQorLuvE+gWNpbXV7rmm29vdrut5pruNEmHHKEnDDkdPWpbvXtH0+8t7S/1Wxtrm5x5EM1yiPLk4G1Sctk8cUAX6Ky7zxNoOnyTR3+t6davbsqTLPdxoY2YEqGBPBIBIz1xVDUPHmgaX4tsfDt5expe3kZdSZECR9NqsSwIZs/KMHNAPTc6OiiigAorMbxNoSXtxZvrenLdWqM88Bu4w8SqMsWXOVAHJJ6VMNa0tms1TUrRmvlL2iidc3IAyTHz8wxzxnijpcC7RXPeBvFf/CaeFYtZ+x/YvMlkj8nzfMxscrndgdcZ6VoXviHRdMllj1HV7C0khRZJUnuUjKITtDEE8AngE96BtWbRo0VRudc0my0yPUrzVLK3sZQpjupbhFicMMrhycHI6c802bxBo1vDbTT6tYxRXaNJbu9ygWZFXcWQk/MAvJI7c0C3NCis258SaHZPapeazp9u14oa2Et0imcHoUyfmByOlPk13SIdWTSpdUsk1GQZSza4QTMMZ4TOTwD2oAv0Vlv4n0GKbypNb01JPPNtsa7jDecMZjxn7/I+XrzVCXx5oEHjdPCsl7GuotD5nMiBAxIAiJLZ8w5yFx05oWrsg23OjooqG7u7awtJLq+uIra3iXdJNM4REHqSeAKAJqKqf2tpwu1tTqFr9oeH7QsPnLvaL/noFznb79Krz+JtBtdNg1C61vTobK4OIbmS7jWOU/7LE4PQ9PSgDToqhca7pFpHbvd6pZQJdI0kDS3CKJVVdxZST8wC8kjtzVHXfF+kaJpUty1/ZS3H2N7u1tTdIrXSqhYbOpIOOoBpN23Gk20l1N2isvwzrX/AAkXhfTtY8j7N9ut0n8nfv2bhnGcDP1wKp23iuAahrcerGx06z0qWOP7VJqMTB94zl1zmI54Abr2qra2JvdXOgoqnZaxpmo3Nxb6fqNpdz2rbZ4oJ1doTzwwByp4PX0qa8vbXT7SS6v7mG1t4hmSaeQIiD1LHgUthk1FcvoPje21/wAX6xo1lHFJbabDBMl9FcCRLgSru4AGAB65Oa2NM1/R9aaVdG1ax1BoceYLS5SXZnpnaTjofyo3VwehoUVnQeIdFutQnsLbV7Ca8twxmt47lGkiCnDblByMHrnpTtL13SNbWRtF1Sy1FYiBIbS4SUIT0ztJx0oDYv0VSvdZ0vTZVj1HUrS0kaNpVWedUJRRlmwT0A5J7Ui65pL6OdWTVLJtNAJN4LhDCADgnfnb1469aOlwL1FZy+IdFewgvk1ewa0uZRDBcC5QxyyEkBFbOC2QRgc8U248TaDaafDf3Wt6dDZzsViuZLuNY5CM5CsTgng9PSgDTorOufEWi2UtrFeaxYW8l4AbZJbpFM4PQoCfmzkdPWi98RaLpss0eo6xYWkkCq8qz3SIY1Y4UsCeATwCetAGjRXNax8QPDuh65pel3+oQrNqal4nEqeXGmMh3YsMK3RTzk10tABRRRQAUUUUAFFFFABRRRQAVh+NdE/4SPwPq+kqgeS5tXWIH/noBlP/AB4CtyipkuZNDi+VpnztcaD4rvrGLxD/AGPqKajrsUmi3Vu9u++2hMMcayMuMqu+N2yR0b6V0HiTQk0HxnqEuseC77xVp11pUNrpbWln9pFoY12lCDzHknO/rzxnmvaaKp6/1/Xdv5iWn9en+SXyPFNJ8A366t8PdO8VaWdRhsLC6F35sPmwwseY43PK8AgAHg44rH8T+HryN/G9jfeBb7WNU1C4M+m6pBaCSOKEY2KsnVSoH3FyT0IxX0HRRL3vx/F3CPu/h+CsZ3h6KSDwxpcUyNHJHZxK6OMFSEAII7GtGiiqk+ZtkxjyxUex4x4s8F6nq3xC1bQ4bK6Gi6+Ib6e8SM+VHJFFIuwtjAYuI2xnnHvWVF4Z8S638O9U1W/0a7+3S3Vitzpksbxy3NtaxqGVQf7zbmHXOOMmvfKKhaKy8vw2/DT0Lerv/Xn+OvqeIW+h3GqXfivWfD3hO/8ADmly+H5LFdPmsxbyXdwQSGWFfQcZA5J9c0l/4PbSvAvge4i8Jy3tpayR3Gt6bbWm64ncx4DPGeXKsWyD644Ga9wop9Len4Nv9Rf8H8Ul+h5n8KdNls/EXi25Xw7c6BY3dxBJaWs9v5QC7DnAGV75IBOCcVpfEDT7298UeCpbO0nuI7bVvMneKIsIl2/eYgfKPc11+paTp2s2ottX0+1v4AwcRXUKyqGHGcMCM8nn3pumaNpeiwvDo2m2mnxO290tIFiVmxjJCgZNG9vK34W/yJto13v+J4dceCJ/+EC1q+Tw3Odd/wCEmaa3lFkxuPK85cMpxu2YyeOO9e8XSzSWMy27bJmjYIx7Njg/nU1Y8fhDw1FqAv4vD2lJeCTzRcLZRiQPnO7dtznPOaVvd5On/AS/QraXN/W7f6nhWn+H7xNN8L6cfAWp22taZrkT6lqzWeRKvmMSwlHzSL0JOCowOeRm7rvhq8ZfE+hXvgi91XXtW1F5rDXEtg0KRuylCZycx7QCNvTsetfQFFN6/wBd7fdsG239b/fueM6xo8ui/EK4vfFfhK+8Y213plvb2k9rZi5EDoAHDK33NzHdu9zjPOING0m8svjU9xofh7UntJ76WW8n1jRolWEnO6SC7zvI/ur6E9c17bRTvqn2Fb3eX+trBWV4psb3U/COq2OlSeVe3FpJFA+cYcqQOe31rVoqZLmTTKTs7niGm6LLqXwx1Lw9oPgm+0DXYtLEFxd3NosIvWDLvRZePM37W5PAz6Gk0jw/J4g8TWlz4a8HXvhO2s9HuLW+N5aC2+1ySRlUQDq+G5LnnjnHFe4UU37179f+D/mJaWS6f8D/ACPC/Dya7dyfDvT5/Cus2S6FcyRXdzcW22POzAI77f8AaIAzwCaq3Hgif/hAtavk8NznXf8AhJmmt5RZMbjyvOXDKcbtmMnjjvXv1FNO0ubzv+Kf6EuOnL8vz/zPLtK0VdG+Peq3U3hmZ4NThikstRgslaG2cRt5paT/AJZsxyOOSTz1r1GiiltFLsU9Xc5b4l2lzf8Awz121sbeW5uJbVljhhQu7nI4AHJNcL4l8PzaV4X8IaXpHhUvp0pV9T+xaPBdXCSeUoGVmBVWJyGkYcY5PY+x0UkrNv0/C/8AmH/B/E+f9G8Ialc6D4U0/VtAvmtofE08k9tc2h2xwHkF1A2hCfT5Tzjip9Z8J6lbeH/HGmaRol5DbS65azWUNvaNtKblLNGoGCox24GK95ooSs/u/Dl/+R/Elxv/AF35v/kvwPO/hbY6hoV54g0fXbG5bUftrXL6w0DiPUUb7rByNoZRxsBwO3evRKKKfRDCvIfiV9kHxd8NSajoEviC2i0+5d7GGFZnbHcRsQHI9PxHIr16s+fQdNudftdbmtt2oWkTwwTeYw2I33htzg59xSt7yfa/5NfqN7Nf1ujwm48G6/H4L0+8bQr4aWfEE+oS6LbQI9xb27gLGBDIGUlcN8hU/e5xyRonwZDd6P4cistB1w6bc+JRc3NnqtoiNFHswzNFEgWKMkdMYx7HFe60VS0/D8Lf5Ceq+/8AG/8AmeO+JNFt9B+JU1/qvge58R6JNpsdtp0WnWC3CWRQ/Mhi6LnOQ3GM4GecYvirwrcy+PddPiHw94g1G11RYRp82kWlvcCNQm3Y0kqM0OD/ABKV7nBGK98opLS3z/HUpu54rqPgf7brvxDlv9Cmv2GlwJplzcWpkaSRYCCYm28vuVclec0kegT2WvfD3WNT8K3WoIulpa3nl2AlkhnCqEeUHldvXceRg17XRTvt8v1X6iaTVv66f5BUdykklrKkD+XKyEI5H3Tjg1JRUtXVhp2dzw/wnoLR+E9Q8Lz+CL608SCyvIpdaltR5VwzBgMXHV925fl6d+1Hhz+2tS174dRzeFta0+LQ4J7a6uLu1KJv8gLkdwpwMFgAScDODXuFFVf+vv8A8xdLev42/wAjhPg3p97pfw2trXU7SezuFuJyYriJo3AMrEHBAPIrkPF5sYvjdqE+p+FJ/E0UehxgW1varcNGxkIDeWx59MjJGfrXrGp+HdE1uSOTWdH0/UHjG1Gu7VJSg9AWBxUVh4V0TS9WOpabp0Npc/Zhagw5RFiDbgoQHaOeeBmp3tf+tGhybbb76/jc8SufBev6Z4V8EPrGkajf2Filybuy0+CO6mt2lYlP3MqsrYBAOV+XB5BxWtH4JiuLjwBbLoWrS6Ot7e3FxbarbqWt1bBUSrGoRASMhTxzj2r26iqvrfzuL/L9Gv1PHp9Ij0L4n6tJrXgi71231E266Td2lmJorJFULsP/ADx2nB3DnAzisJfB9y3jnU7TxLoviKe7vNZ+1Wmp6baW7QLGXBRmuXjMkYXHKhsYGMevv1FKPutPt/wP8txNXTXc8C1rwNNeeFPiJeSeG5p9Wl1pn0+U2TNM8fmKcxHGSpBbleDzXT3uimx+Nmja1deGZ762vNMSFrqCyWQQXQcfvZT/AAELgbjzjgdDj1aiiPu28v8AKxUnzJ+d/wAWmFZ+v6Wmt+HNR0uX7t5bSQn23KRmtCilJcysCdndHzn/AGJ4vXQ7bxINC1L+1rOL+w1tfIcyGD7KY/N24+75rZ3eldRrfhtfDHibRrjVvCl34q0S20RNPhgs7QXRt51OSxiY4+Yfxdq9kopvXX+tn/m36sWm39br/JI8H0vwFqO3wBY67okstil/fXE9m8Zmjs4nAaOOQ8gcjOD3JB71L4p0GW08XeLYr7wNea6uo2Ecei3FtaLLDaKkJG0HjyiGHRfmOBgcjPudFJq6t/X9eY0/6+bf67HOfD21uLL4caBbXkElvcRWMSSRSoVZGC8gg8g15l4t8P6xc6d8TUt9JvpTfXdk1qI7Z2NwF27imB8wHfGcV61qPhXw9q92brVtB0y+uCoUzXNnHI+B0GWBOK1Ioo4IUihRY441CoiDAUDgADsKp6ycn/Wqf6Cj7trdDzbQ/DC6D8aI5dH0Y2GlyeHwkslvbFIWmEo4JA278D61b+L+m3+oaDpMlpplxq1nZ6pDcX9hbLveeFc5AT+Pkj5f6Amu4vrCz1Oze01K0gvLaTG+G4jEiNg5GVPB5Gar6X4f0bRDIdF0mx04y48w2lskW/HTO0DOMn86G728v87grL+vKx4tD4Z1TV/+E/Xw34Xu/DkGp2FqLK2nthb+aAMugAOxWYZBAPG7nBzVzQ9Dudb8WWN74T8JXvg2Ow0me3u5ryz+zfaJZI9sYABBk2sNxfrxzjivbaKmytb+uv8AmO+t/wCun+R4d4Y0vT4PA174f1X4f67Y6lBp80V/qFpYqZLr5wCIpf8AlqWJBCnjA4yBXQ/Ba01ays9Vgv8ARmsbFHjW1ubnSY9PubjCncJI0JyF4wxznJ5PIHqFUdT0TStbiSPWdMs9QjjbciXdusoU+oDA4NVzO7ff/O4rK1jzL4ni1HxT8Jvf6FLr1vHaXbyWEUKyu4CjkRsQHI64/LmuXuPB2vv8PxdQ6Few6dJ4lfU20WGJftEdoRhQIXBUkEf6sqRyOMV7Rb+DvD1nqVlf2OkW1pPYiQW/2ZfKRPMGH+RcKScDkg1t0lpGy/rW/wDkGrd3/WljwW98HpeeCbVNK0DxAlte+JraW4stRs44nWMIVeTyYEURpzjp2zxmt7xdoFvofxCsNTuvBk2v+HI9Na0t7DTbBZ1tJt5Yt5HTkHrx+deuUUen9aWH0/rvc+f/ABJ4Wnk8ZanLrvhrX7vTtUtLdNPGkWUFwbZVjCmJmlRjCQe6lT1PPbo7vwPHqHxC1w6rosuoWsXhyOC1uLuAyBpQMfK+MGTjqvPpivXaKmSurev5NfqLrf0/NP8AQ8FXw5dWml/DfVtW8J3mpCxilt9Rt008SzqMERB0YA7VOSM8D6kZ96HSiitHK/3v8SUrJeSsFFFFSUV2S9LnZPAFzwDASQPrvpPLvv8An5t//Adv/i6s0UAVvLvv+fm3/wDAdv8A4ujy77/n5t//AAHb/wCLqzRQBW8u+/5+bf8A8B2/+Lo8u+/5+bf/AMB2/wDi6s0UAVvLvv8An5t//Adv/i6PLvv+fm3/APAdv/i6s0UAVvLvv+fm3/8AAdv/AIujy77/AJ+bf/wHb/4urNFAFby77/n5t/8AwHb/AOLo8u+/5+bf/wAB2/8Ai6s0UAVvLvv+fm3/APAdv/i6PLvv+fm3/wDAdv8A4urNFAFby77/AJ+bf/wHb/4ujy77/n5t/wDwHb/4urNFAFby77/n5t//AAHb/wCLo8u+/wCfm3/8B2/+LqzRQBW8u+/5+bf/AMB2/wDi6PLvv+fm3/8AAdv/AIurNFAFby77/n5t/wDwHb/4ujy77/n5t/8AwHb/AOLqzRQBW8u+/wCfm3/8B2/+Lo8u+/5+bf8A8B2/+LqzRQBW8u+/5+bf/wAB2/8Ai6PLvv8An5t//Adv/i6s0UAVvLvv+fm3/wDAdv8A4ujy77/n5t//AAHb/wCLqzRQBW8u+/5+bf8A8B2/+Lo8u+/5+bf/AMB2/wDi6s0UAVvLvv8An5t//Adv/i6PLvv+fm3/APAdv/i6s0UAVvLvv+fm3/8AAdv/AIujy77/AJ+bf/wHb/4urNFAFby77/n5t/8AwHb/AOLo8u+/5+bf/wAB2/8Ai6s0UAVvLvv+fm3/APAdv/i6PLvv+fm3/wDAdv8A4urNFAFby77/AJ+bf/wHb/4ujy77/n5t/wDwHb/4urNFAFby77/n5t//AAHb/wCLo8u+/wCfm3/8B2/+LqzRQBW8u+/5+bf/AMB2/wDi6PLvv+fm3/8AAdv/AIurNFAFby77/n5t/wDwHb/4ujy77/n5t/8AwHb/AOLqzRQBW8u+/wCfm3/8B2/+Lo8u+/5+bf8A8B2/+LqzRQBW8u+/5+bf/wAB2/8Ai6PLvv8An5t//Adv/i6s0UAVvLvv+fm3/wDAdv8A4ujy77/n5t//AAHb/wCLqzRQBW8u+/5+bf8A8B2/+Lo8u+/5+bf/AMB2/wDi6s0UAVvLvv8An5t//Adv/i6PLvv+fm3/APAdv/i6s0UAVvLvv+fm3/8AAdv/AIujy77/AJ+bf/wHb/4urNFAFby77/n5t/8AwHb/AOLo8u+/5+bf/wAB2/8Ai6s0UAVvLvv+fm3/APAdv/i6PLvv+fm3/wDAdv8A4urNFAFby77/AJ+bf/wHb/4ujy77/n5t/wDwHb/4urNFAFby77/n5t//AAHb/wCLo8u+/wCfm3/8B2/+LqzRQBW8u+/5+bf/AMB2/wDi6PLvv+fm3/8AAdv/AIurNFAFby77/n5t/wDwHb/4ujy77/n5t/8AwHb/AOLqzRQBW8u+/wCfm3/8B2/+Lo8u+/5+bf8A8B2/+LqzRQBW8u+/5+bf/wAB2/8Ai6PLvv8An5t//Adv/i6s0UAVvLvv+fm3/wDAdv8A4ujy77/n5t//AAHb/wCLqzRQBW8u+/5+bf8A8B2/+Lo8u+/5+bf/AMB2/wDi6s0UAVvLvv8An5t//Adv/i6PLvv+fm3/APAdv/i6s0UAVvLvv+fm3/8AAdv/AIujy77/AJ+bf/wHb/4urNFABRRRQAUUUUAeM/EO/ls/iBcza7f+NtM0GO3t0ju9Dd0tY3LHe0jHjuo+UE/oKi+Kut30fiYxwav4gWxi0Y3VunhyQbopMn97c4IPlY28/XGOa7XxX4G1rxZfT2914ult/DtyUE2lQ2EYZlXBIE+dwyRnp3xVfxH8NbzUNZn1Hwx4ll0B7yyFjeRi0W4WaNRhdu4goQMjIOemMc5nXlS83+T/AFsVdc33fp+lzp/Cdzd3vg/SbnUrmG7u5bSN5p4GBSRyoywI46+nFa9Zvh7Q7Xw14dstGsC7W9nEI0aQ5ZvUn3Jya0q0lZydjON1FXCkZgilmOFUZJ9KWkZQ6FWGVYYI9ah3toUcta+Lr+5TTb0aNGNK1SdI7WcXmZdjglZHj2AKCBwAzHkZxziOfxy1naapf31hFbadp901n58t2FMsu9UXAK7VQluWZhtweCOaybC2vp7/AEfSbK6v7jTtLu1dfP0ea0McSKwAkmlwJeqqPLUHoTkAmujl8JpNo1/YvdsHub5r+GZYxmCTzBIhwSd21lH1oW/lr69Px38g6/15/wDAKeieOE1qLU4rf+ybi9sYlmxYaqLi3ZW3Y3TbF2EFTuBU4GCM5xWdN451DU/DV9caEmlS3lneQQySW2p+fblHZOUkERyfm2kFRjk88Z3L3w/qmsaHcWWs6pZzTNJFJC0OnlIVMbhwHjaRi4JAyNw46YPNRP4Uvriy1UXurxyXmotDIJY7TZHC8WNuE3klcqCQWzyeemCV7aB1Ojtmna2ja7jjinKgyJFIXVW7gMQpI98D6VJUdss620a3ckcs4UCR4oyis3chSWIHtk/WpKp7gFFFFIAooooAKKKKACiikcFo2CNtYjAbGcH1oYHKQWqWfjKGz0y/1C6ZoZG1RZ72SZEDD5DhmIict0VNvy7uMAYgTSoLDxYz6fd6qYdLtGnuVn1a6nSWRwQiFZJCpwoZjx1KVf8AD2h67oqQ28+q6XcWqktN5WlyRTTuers5nYbi3JO055rT07SVsX1GSWXz3v7lp5CV24G1UVfwVQM0nfp2f9fjf5B11/r+v1OWsjeaenhrVBfXdxday4S9jmuJHhcvA8o2Rk7Y9rIANoHy5Bz1qjomuQDUtBe31m6u9XvZzBrNi9y8ggYxuzBoSSsG2RABgLkZ+91rpdL8L3FlNYx3mopd2Ol5/s+H7PskT5SgMj7iHKoSoIVeuTk81Zg0fUZtYivda1GC6S1ZmtLe2tDCqMwK7nLO5dgpIGNo+ZuDkYu65tNv07C+zrvb733NqiiipGNlTzIXQOyFlI3J1X3HvXAJqn9kQ69PoV1ftBa6WZ1t9XlnaUTguA4W4PmhOACcBDxt5DV3twkslrKlvL5MrIQkpXdsbHBx3we1YB8MXGpNcP4nvoL15bOWyQWdq1siRSY38NI5LHavOcDHTqSLfUehVjtpvD2vWlvbajdzpfWc7Tfb7mSZfNj2ESAsSIx8zZVcL04GBXP6XrcmnQvf293qk00ejT3d/HqMsjRTzIFYNBvO1hktkw/u9rL6rXVR+F7m7WUeIdTW/wD9EksoWt4DblI5AA7N87bpCFX5htAwcAZpsHhe9uJIV8QapDf21rA8NvFBZ+QSHTYWkYu25tuR8oQck46YnWz/AK7/APA/DsEbK1/n+H9f8OVrK0m0PXNF26jfXf8AaiSJdrdXLzK8gj8wSKrEiPkMNqBVw3TgY66sDSvD99a3ltLq+qR6gtjEYrILa+UyggAvIdxDvtAGVCDluOeN+tJb6ERv1CiiipKOa8WrqEcmm3Vrqk1tbJfW0cltCgHn7pkB3ucnbj+FcZ5ySOKueKbieHSYobSZoJLy7gtTKhwyK8gVip7Ntzg9jg1a1fTP7VtoIvN8ryrqG4zt3Z8uQPjqOu3Ge1V9V0S41VLqOXUWjiYwyWqpEubaWNt4fP8AGCwXKnsCO9Cty2ff8NP+CJ3vp2/HX/gFLRFfTPFWo6LHcXM9mlpBdxC6nkneNnaRGHmOxYg+WpAJ4JOOOnSVlaTpVxaXVxf6pdQ3moXCpG8sEBhjWNM7VVC7kcsxJLHJP0FatMel9DC8RtLcXmk6Uk81vDfXDC4eCRo5DGkbPtV1IZckLkgg4zgimeGJZYbrWtLknmuIdNvBHbvO7SSeW0Mcm1nYktguwyTnGM1d1rSZdTS1ls7oWl7ZTefbzNH5iBtpUhkyNylWYYBB6EEYqCy0S8s9ko1JftU139p1CRLYBbkeXs2KpJMajCY5J+Tqck0l1/rt/X/Dh6/1/X9bHO2Mlwum6H4nF/fPc6ndRC4he4doTFMcBBFnYm3KkMoB+XknLZ0JoVsfGunw6XfX9zeTO8moxS3kksUduUfDGMtsjJkCBdoUnDYyA1WLLwvdW1xbwT6mk+kWUxntbX7NtkVuSoeTdhlUscAIp4XJODluj+H9c0t2jl1XSrm1mmaW6zpTrNcFupaTzyC2MDO3AAAAAAFC0/r00/MHu3/XXUzzql7qXjzRLu2upY9HlNzDBCjELdbY8mZv7y5ACewLDIYVBpOsQ3mqQ6xqiayI7i7eC2uhctDZRne0ccRhEgLEkffaMgs3DY2gar/Dzw2muaZqVjoul2bWEjSFIdPjUyMVwpyAMFT8wPPPpTo/Cl0lxHbSaoj6LDd/a4rP7LiUOH8xUMu7BjV+QAgPCjcQDkW67f1/wf8AhtBa6/1/X9ddTJgkuYtN0vxP9vvXur6/iSWFriRoDDNL5YjEOdi7QyncBuyvJOTmla65bw6jYz/21dyeIJdSFvqGmG6d1jRnKEG3J2xouUKyBV3fL8x3/N0tr4WuYLmGCbUkm0e2uTdQWn2bEgfcWVWk3YZFYkgBAeFyxwc2/wCyNRu9WjuNW1KCa0tpjNbWttatF82CF81jI2/APGAozzjgYI6Wv/S00/B/eEru/p+Ov/ANmiiigYUUUUAc/r4a/wBc0vRWuLm3t7mOa4mNrO0LuI9gCb0IZRmQE7SCduM4JBg0rUZ9P8O62JZZLs6PNPHFJOxZ3RUEihmPLEBgu4nJxknOTWlrOk3N9LaXem3qWV9Zsxiklg86NlYYZXQMpIPB4YEEDtkGG10Ca3t44ZL/AMxZnmk1EeQALtpBjjJJQDjAyeAASetS78rt2/Hox3V4/wBaamRZ29xo2paBJ/aV9cyauHivftFw8qM/ktKJEViViwUIwoVcNgjgVNYRxaf4zNtpt/fXMEVq76p9qvJJ44nJUx8uxEbkbztTA2nJGNtWLLwzqEJhF7rK3K2EDw6eVtNjxErtEkh3kSOF4yAg5bjkYTRPD2qadZpp2oXukXmmeWyTQR6W8bz7gdxdmncMWJJYlTuyc9at2vp/W5Kul72pm22q3938QrK8e4mi0q4066a3tNxCyLG8WJmHq2449Fx0JIqt4f12KX7HrWpxays2pQNLb3M10y2crGMuIUgEnGFBAZ41LbCckkE7Efw+8PW3iay1fT9I0yz+ywyx+VBYRpvZyuHyAMFQrDp/GeR3fYeFLm3ksre81NbrS9NJNlbfZykg+Uookk3kOFViBhV7E5IpfZst/wDgv/gFX7/1/wAD+tzKsjeaenhrVBfXdxday4S9jmuJHhcvA8o2Rk7Y9rIANoHy5Bz1qjomuQDUtBe31m6u9XvZzBrNi9y8ggYxuzBoSSsG2RABgLkZ+91rpdL8L3FlNYx3mopd2Ol5/s+H7PskT5SgMj7iHKoSoIVeuTk81Zg0fUZtYivda1GC6S1ZmtLe2tDCqMwK7nLO5dgpIGNo+ZuDkYq65tNv07E/Z13t977m1RRRUjCiiigAooooAKKKKACiiigAooooAKw/FE0pj07T4ppbcalerbSSwOUdU2PIwVhypIj25HIzwQcEblZ2t6W+q2UaW9z9luoJVnt59gcJIvTK8blIJBGQcE4IPIOw11KHh4SWOtato4uLi4trXyZoDczPM8YkU5TzHJZhlCRkkjdjoBVO6gSy8ZafHpt/qE9/PK0t7A95JJEtsVb5mjJ2RjfsClQpJB6jdWjZ6LqFvuuJdUjbULi5jlu5orXakkaDAiVGZigx33E5LHvgVdH0HXdJunI1bS5oJrhp7gnS5BPNk95PPxkDCg7cAAADAAo6/wBf1/w3zJ6P+u5nwk6f4ukn1611uH7RfmOzvP7RdrJgwxGhhWYhc8j5owM98kVSF9MfEqOL6/OonVzDuWaT+zzbbivl/wDPHftGNo/e+YP7ua6OXQ9Uv9QjOratBNp0F0LmG3gszFISrbo1eQyMGVeOiqSVGT1Bqr4SvBixfVo20UXn2wW32Q+eW83zgpm342+Zz9zOOM96I6cvl+Wn4738hy1v/Xf/AIDXmUdU1S+vfGWgS2VzLDpSai9qVjbC3r+RKWJx1RSoA9WDHsprTnXUYfiBYNNqkslncQXGyyRAkaBRHgt1Z2yW5JwAQAoOSYbz4c+Gp9S027tNE0qzayuvtD+Vp8YM3yMoUkAdGYNnnlR9RuXGm/aNbsdQ83b9kjlTy9ud+/bznPGNv60dEN7/AC/zOMuL2b/hJdyX2oDUf7WSFGE0n2D7PuAMZ/5Y79u4bT+98zGOMV6DXLDwjeqXsU1eMaK96bxrY2hNwWMvmlPO342+Z/sbtvGc811NC0il/XT+vW4n8TCiiigBNy/3h+dG9f7w/Oqz/fb60lAFrev94fnRvX+8PzqrRQBa3r/eH50b1/vD86q0UAWt6/3h+dG9f7w/OqtFAFrev94fnRvX+8PzqrRQBa3r/eH50b1/vD86q0UAWt6/3h+dG9f7w/OqtFAFrev94fnRvX+8PzqrRQBa3r/eH50b1/vD86q0UAWt6/3h+dG9f7w/OqtFAFrev94fnRvX+8PzqrRQBa3r/eH50b1/vD86q0UAWt6/3h+dG9f7w/OqtFAFrev94fnRvX+8PzqrRQBa3r/eH50b1/vD86q0UAWt6/3h+dG9f7w/OqtFAFrev94fnRvX+8PzqrRQBa3r/eH50b1/vD86q0UAWt6/3h+dG9f7w/OqtFAFrev94fnRvX+8PzqrRQBa3r/eH50b1/vD86q0UAWt6/3h+dG9f7w/OqtFAFrev94fnRvX+8PzqrRQBa3r/eH50b1/vD86q0UAWt6/3h+dG9f7w/OqtFAFrev94fnRvX+8PzqrRQBa3r/eH50b1/vD86q0UAWt6/3h+dG9f7w/OqtFAFrev94fnRvX+8PzqrRQBa3r/eH50b1/vD86q0UAWt6/3h+dG9f7w/OqtFAFrev94fnRvX+8PzqrRQBa3r/eH50b1/vD86q0UAWt6/3h+dG9f7w/OqtFAFrev94fnRvX+8PzqrRQBa3r/eH50b1/vD86q0UAWt6/3h+dG9f7w/OqtFAFrev94fnRvX+8PzqrRQBa3r/eH50b1/vD86q0UAWt6/3h+dG9f7w/OqtFAFrev94fnRvX+8PzqrRQBbooooAqv99vrSUr/fb60lAHG+KfiNZ+GvEGn6KljcXt3eXEMUjKCkVuJWwpZ8EZOGIUddp5FXPHfjW18C+HG1O4hN1MzBILVX2tK3U84OAACScdvesz4n6feahD4aFhaT3Jh162ll8mIv5aDdlmwOAPU8VzPxP8J+M9RvdZ1WxTTL+wNh9ltrZhM9zChwZPKRRt3sw6nPAA4qZNqF+t3+SZaSv8l+dv+CesWdx9rsYLnbs86NZNuc4yM4zU9ZPhdNSj8LaemuLbpfLAolW3DBB6D5uc4xnPfNa1aSSUmkZRbcU2FFFVdShmuNKu4bR/LnkgdInzjaxUgH86iTsmy0ruxDb6/o93evZ2urWM11HJ5TwR3KM6vgnaVByDhW4/2T6Uo1zSW1c6UuqWZ1EDJsxcJ5w4z9zOenPTpXGW91BJf+C7CDR7uzlsJ2il+0WjRLbkWsoKK7ACTJH3o9y/LknlcutIZD4csvDZ029GrW95HJLM9o4h3rMJHuBPt2HcMtgNuJbaRnIFtWdhdL/11Oym1zSbfVI9Mn1Oziv5QDHaPcIJXB6YQnJ6Ht2qDWvEWm6JFIt1eWq3nkPNDaSXCpJPtBOFB5PTqAa5SeCVPD2seHJNOvZNVvrqeSGcWjvC5eQtFMZtuxdg28MwYeXgAnbl2qrJaW/i2wudIvb+71RXe1MVq80dwn2dVVS4BRNrKw2sR6gHdznJvkbXb+l/XYqK963n/TO6t5fPtYpsbfMQNjOcZGakqvYqyafbK4KssSggjBBwKsVpKybsZxu0rhRRRUlBRRRQAUUUUAFFFFAGLpviE6j4gvtN/s65tUtYUlWa4AXzgzuuVTqFzGcFsE+mMErperahqs4uIdPt00iQEw3T3R86QdmEQjxtbqDvzgg4HSo1tZn8bajL5ciQy6XBEs207SwkmyAemQGBx7iuV0DSFs5NFg03R7i01ywTy9SvZrZlE6LEV2tOVxMrN5ZUAnAA+7txRsv6/rQqSs7L+tF+Z0el+Kbm/u7Bp9NSDT9UDmxuVud7thSw8yPaNm5QSMM3TBwaLDxRc3V9Y/aNNSHT9Sd47K4W53yMVVmG+PaAgZUYjDN0AOCawfD9tKupaS9rZakmqxq41U3sEqW8eUO/yiw8sFpQh/ccMMk5HNHh6CUanpDrYanHrCs51X7RBKtrFlT5hjLDyhmTbgw8t1ORuNNLX+vvJezZ6FRRRSAQnapJzwM8DNYWm+KEvrfVbm50+6sIdOwxFwAJHTyw+7YDleD90/N6gHit6uZmh1SP/hK5NLt83kqqbPzVAWRxAoGC3BG7j09amTdtCopN6kth4g1K4vBZ3ulQWtzcWjXdkq3hkWRVKgrIfLGxgXTOA45OCcVHF4i1aDWWs9Z0vT7eCK0e7nntdRecwovAyrQp947sc/wt6VQ8MQ26a/E2iWeqxWosyl22pQTRhGyvlpH5wBAHz/LH+7A7D5auR6Xcavo3iNriOSG41Uz20QlXayRKpiT8CQzj/fNVLRadn/wP66kx1speRZ03xBfT6hawarpSWMd/G0tm6XPmk7QDskG0BH2nOAXHDc8DO/XKWNxLrmraO/2G9szpaO919qt3iCyFPLEakgCTqx3IWX5RzyK6uqlvoTFt7hRRRUlGNrmq6ppcctzaaVDd2VtEZbh3vPKk2jJIjTYQxAH8TIM4Ge4sanq8enaR9uSNpzIUSCJTgyPIwVFyemSw57dawfEmoJc6u+k6pDqcelJGrSiz0y4n+2k87C8aMFQY+YdWzjhQQ1rXZ5b6xH2DT7xzYTWl6AYCnnIH3MqA4JcKp+UgHOB3oW3z/wCHB6bb/wBWL+kavc3d9dafqlnFZ39siSskE5mjeN9wVlcohPKMCNoxj3Fa1c/o+dR8SX2tRw3ENrJaw2sQuYHhdyjSMzbHAYD94AMjnB7degphpfQzdZ1STTo7aO0tlur28m8m3heTy1ZtpYlnwdqhVY5wTxgA5pNF1Z9TjuY7q3Fre2cxguYVkMiq20MCrELuUqykHA64xxVXxEJbe80nU0t5riGyuGNwkEZkdY3jZNwRcs2CV4AJxng1X0eWSC9vdQeyvfL1rUF8lfIYNCiwKokkVsFATGeoz8ygjnhd/wCu39f8MH9f1/X5i23ii6murWaXTEj0i9nNvbXYud0hbnazx7AFRipAIcnlcgZOLdr4gN14nm0kaddQpHC0i3U4CLKVcKQi/eIyfvEAHtkHNc/p0U8umaN4bayvYrjS7mIzyyW7rD5cJyGWXGx92FwFYkbjkDaQN+aCc+Nop442EY02RBKUJQOZEIBPrxnGe1C6fP8AK6f3inpe3l+ev4DLnxMkPjGy0GG2aY3CO01wGwsDBdyrjHzEgE4yMDBPUVBbeKLqa5tp5dMSPSLyf7PbXYud0hbkKzxbQFRiCAQ7HlcgZOMSHw74j03xJoHmajZ3saXE8tzcJpcisxZPmZ284gFug4AHAAIAWnnR0u9bt7HS59ba0tb/AO0vBdQNDa2xVi+UZo1aUF+AodlAYnjC0LdL+v6/pg72l+H3HQXniaO28XafoUVs0zXQczThsLAQhZVPHJYK3HYDJ6jL4PEBn8VPo/8AZ1zEiwPKt3MAqylGRSEX7xHz/eIA443DmuZHh3xJYeINCZ9Rsb1Pts09zOmlyKxLRMGZ288gZHyjgAfKAMDbXTTQSnxxZTiJzCunTo0gU7QxkiIBPTJAPHsaa3Xz/IUm7O3l+aNmiiikUFFFFAGXrGqXFlJbWunWkd5fXTMIopZvJjCqMszOFYgDgcKSSR2yQaXrK3ulzXV3D9jltHeK6iLbxEyfew2BuUjDA4GQRwDxVPXi1hrml6w1tc3FvbpNbzC1haZ4xJsIbYoLMMxgfKCRuzjAJFO1gmm0vULeS0u4z4gluZIy0RAt1MYVTJnlCwUHBGQTggEGpbai2u349EPS8f67/wDALem+I724vLNNS0pbODUkZ7F0ufMdsLu2yLtARivOAzDhhngZfaa7epq/2DXdPgsmktnuYHt7ozgohUOHzGu0jevTcDzzxzm2lxPq95om7Tr+2k0dXmuxNbvGok8po/LRjhZMlmOVLLhevIpdG8q68TCfSINWFrJDJ9tOq286gFiCiobgb+u75UPlgZyASubkrOy8/wBbEpu3vF3TvEt3c3dj9u0xLWz1QMbGZLnzHbClwJEKjYSgJABfoQSOMz6Fq2q6vi5n06yg0+Tf5Usd68krYbAzGYlAzjP3jj3rn9K0iOfXtMSwn1ybT9IkeVF1GAwRW/yNGsUe6NHl4fhiXACdRnlbSztLvX7a68H6RNok3lzG+uJdLe1RtyHYHRgnnMJMNxnG1vmG4ZXp/XYZuHxTF/wmg0GO3Z1W1knlu9/yo6FMx4xydsisfTI654i0/wAUXN1c6e93pi2+n6qSLG4W43yN8hdfMj2jZuRSRhm9Dg1i6f4f17TPGejLPd2d1aRWl1500WmyR7i7xM29jMw3uctn2bg9l07SI59f02306XWpdP0q4eYR39u0EFqNjoscW6NGk+/wSXCqvUZGWlt/XV/0vxB7N/15f8E7yiiikAUUUUAFFFFABRRRQAUUUUAFFFFABWfrOptplmjQW/2m5nlWG3gL7A8jdMtg7QACScHgHAJ4OhWH4nilEWnX8UE1wNOvVuJIoE3uU2OjEKOWID5wOTjgE8E7D7ljRtVnv5Lu11G0SzvrN1WWKOYyxsrDKujlVJB5HKggqR6ExQeIDP4qfR/7OuYkWB5Vu5gFWUoyKQi/eI+f7xAHHG4c1S026Y6re6yLG+8jUJYLWFGtnSQKoYGV0fDIuWI5AOFz0Iq7NBKfHFlOInMK6dOjSBTtDGSIgE9MkA8exprWS+f5XIbfK+//AAbBDq2oX2qOmm6fbyadDMYZrua6MbFlOH8tAjbgp+XJZeQR0GSg8QlvFseijTrlUaGWT7ZKAiMU8vKoPvN/rBlsAdgTzjko9Ejt7r7KmlXX/CQrqjTQ6obZmCwNcGQkXGCqp5bMpj3ZJJGOcnrL2CZ/G+kTrE7Qx2d2ryBTtUlocAnoCcHH0NEdbf10L3bKx8VTi4FydOT+xjefYvtn2g+b5m/y93lbMbPM+Xdvz3xjmrF3rOo2Gox/bNMhTTJbhbdLhbstMGY7VJi2YClsDhycEEjqBhLBcy6UvhhrO7S6j1ITecYH8jyFufOD+bjZkqANud249Mc1MNVh1LxIr6zb6vGtndMlnZrpNyYd4YqJ3kEZVs9V52qDk8jIStp/Wmn9f8MJ7Pv/AF/X/Do17nWdRsdWgjvdMhXTrm4FtFcR3ReXcQcFotgAUkEZDkjIJA5xuVx9+yXniWCTSrfVhqcN4nmfaoJ/sixA7ZGUyAxKShODEQ5JGeCwrsKF8N/6/r+ugPct0UUUAVX++31pKsmJCckfrSeUnp+tAFeirHlJ6frR5Sen60AV6KseUnp+tHlJ6frQBXpCNykHPIxwcVZ8pPT9aPKT0/WgDC0/w3pum3guoRdTXCqVSS8vZrpoweoQyu23OBnGM4GelatWPKT0/Wjyk9P1oAr0VY8pPT9aPKT0/WgCvRVjyk9P1o8pPT9aAK9FWPKT0/Wjyk9P1oAr0VY8pPT9aPKT0/WgCvRVjyk9P1o8pPT9aAK9FWPKT0/Wjyk9P1oAr0VY8pPT9aPKT0/WgCvRVjyk9P1o8pPT9aAK9FWPKT0/Wjyk9P1oAr0VY8pPT9aPKT0/WgCvRVjyk9P1o8pPT9aAK9FWPKT0/Wjyk9P1oAr0VY8pPT9aPKT0/WgCvRVjyk9P1o8pPT9aAK9FWPKT0/Wjyk9P1oAr0VY8pPT9aPKT0/WgCvRVjyk9P1o8pPT9aAK9FWPKT0/Wjyk9P1oAr0VY8pPT9aPKT0/WgCvRVjyk9P1o8pPT9aAK9FWPKT0/Wjyk9P1oAr0VY8pPT9aPKT0/WgCvRVjyk9P1o8pPT9aAK9FWPKT0/Wjyk9P1oAr0VY8pPT9aPKT0/WgCvRVjyk9P1o8pPT9aAK9FWPKT0/Wjyk9P1oAr0VY8pPT9aPKT0/WgCvRVjyk9P1o8pPT9aAK9FWPKT0/Wjyk9P1oAr0VY8pPT9aPKT0/WgCvRVjyk9P1o8pPT9aAK9FWPKT0/Wjyk9P1oAr0VY8pPT9aPKT0/WgCvRVjyk9P1o8pPT9aAK9FWPKT0/Wjyk9P1oAfRRRQAUUUUAUtT1rS9FhSbWdSs9Pikbaj3c6xKx64BYjJqPUPEWi6SkD6rrFhYrcDMLXN0kYlHHK7iM9R09a8Z8aNqdz8RvFuojStC1OPQbCB0i10M8aQFC7+VEOGdm/iJAGMd6q+KXPjHWptR0DStKlkTwtHPd2+splLWNgXX7OQRiQBj8xwBgc80r+7zf1s3+hVvet/XT/M+gQc9KK5z4ezWk/w50F9NknkthZRpG1wAHO0beQOOoPSujq5K0mjOL5ophRRXL+M7K4vLrQfs+qXdhjUQubdYjkmN/m/eI3IwR6cnIPGIb1XqvxL7nUVHFcQztIsE0chify5AjA7GwDtOOhwQce9cV4h13UbXVzNpFzqlxBZ3MFvcpHBbC0QsyBg7PiVmw+cxEgfKCODmqF1a3j8Y6pYawbIWF/LPFbiGNo5isEbETFlLbTjHyFCATyeMCa1v2v8Al/mKzukurt+f+R36XEMs0sMc0bywkCRFYFkyMjI7ZHNSV59ea5daZceIbyygd7q5utPgRE2FkMqIuRvKqSN3G4gZxmoNUTxHd+Hb+31SXWLG3juLR7e6uxYmeQmUB0IhDJtHysDtU54OQOTWzfYFZ2PSKKjtongto4pZ5Lh0UK00oUNIfU7QBk+wA9qkpgFFFFABRRRQAUUUUAFFFFAEYuIWuWtxLGZ0QO0QYblUkgEjrgkHn2NNa7tlvEtGuIhcyIZEhLjeyggFgvUgEjn3FctYWdjoXjvXJrS1YBtMguZ/KRpJZn824JPdnbjAHJ4AHAArntN1aO4+JGn6jcW2pLqN5YXatHNpdzEIV3RGOIF4wMKM5bpuY8jcoo/r8/8AIpxs7en6P9T0Ia3pTawdJXU7M6ko3GzFwvnAYznZnd056dKW21nTL3UJ7Cz1G0uLy2/19vFOrSRdvmUHI/GuO8LX2r2OieH5Lo2JtNaUAxwRt58U0kTSmVpS+2QkqxICLgt1IXmK0h1KyuvCOl3Gjm0m0+7aJ7xpo2W5XyJQ7RhWL4bAdt4XnHU07Wdn6f16E9Lr1/r1PQ6KKKQBVebULO3iuZbi7gijtRuuHeUKIRjOXJPy8c89qnI3KQc4IxwcVzPhTS7LR9Y1+z023WCBbiE7VySzGBMsxPLMTyWJJJ5JNK4Glp3inw/rF0bbSdd02+nClzFa3kcrbR1OFJOOafpviTQ9YuHg0jWdPv5o13PHa3SSsozjJCkkDNUtIH9q61qmqsfkjZrC0IOcKh/eMPQmTIP/AFzWqGhrqXhy707wxq9xY6hZPp7rbzxQNA6CEIpEis7hwVcHcMYIPHIw+mv9f0v8h23Og07XNJ1eSZNJ1SzvntyBMttcJIYyc4DbScdD19DV6ua03frXiaDWbSA2+mWlpJbW8jLta73sh3KvaNfL+Un724kDbgt0tPoIKKKKQFG81zSdPvoLK/1Sytbu5IEEE1wiSSknA2qTlueOKuSyxwQvLM6xxxqWd3OAoHUk9hXOeNILubQb6G3sYZbSe1dbyZJgtwigH/VoVCucE43OuOvPSneJ5Irnw9p+G32lzfWavu/jjaVMA56g8Ag9c0LXRb3/ADB6a+v4Gzp2qafq9r9q0m+tr633FfNtplkTI6jKkjNWq56yXZ8RtWEQxHJp1q8mDwZN8wzjpnaAM+gHpXQ0Bs7EN5e2un2kl1f3MNrbxDMk08gREHqWPAos7y11C0jurC5hureUZjmhkDo49Qw4NY2vhZNf8NxTcwteyNtPRnWCQrx3xgke4B7U3w4pj1zxPHGMQjUVZADwGa3iL49PmJJ9yaO/9dg/r+v6/LXUi1rS59Wl0uHUrOTUIV3S2iTqZUHHJTOQOR1HcVZ8+IXAtzKnnFC4j3DcVBwTjrjJHPvXDWcY/wCEL8KXAjUXp1CCVmHDebIzeefckNJn2zWrbaVZaf8AEpp7S3VJrvTpZLiUks8reamMseSB0A6AcDAoWrt6/grim+W/y/F2Nq11zSb7UJ7Cx1Syuby3z51vDcI8kWDg7lByMHjmli1rS59Wl0uHUrOTUIV3S2iTqZUHHJTOQOR1HcVh36zp4r0dr+zitrOG6kWyltJt5kd4nGJVKrsBG44XfkgElcc4skOpWC6Lpc2jeXNb6wrpqTTRFJwzsXZACZDIyM5YFVA+f5jgZI6tL+un+Y3om+39fodtFrWlz6tLpcOpWcmoQrultEnUyoOOSmcgcjqO4oTWdLl1aTS49StH1GNd72azqZlXjkpnIHI7dxXEyQ6lYLoulzaN5c1trCumpNNEUnDOxdkAPmGRkZywKqB8/wAxwMtsvNI0q6a2hXRf7akngvd265Z5ZJFXcmMKrM+N4ZmKkAouWKkdbf12/wAwel/S/wCf+R6LRRRQAUUUUAVr/UbLSrN7vVLy3srZCA01xKsaLk4GWYgDnipba5gvLaO5tJo54JVDxyxOGV1PQgjgj3rF1QeZ410FJVDQrFdSruHSUBApHvtaT9aoacZbXw/4pFguwQ3d21qE6BigY4/7aF/xzUuVk32Tf3Dtql3dvz/yOgs9Z0vUbu4tdP1K0uri1O24hgnV3hOSMMAcryD19KisPEmh6reSWml6zp97cxgs8NtdJI6gHBJVSSMEgVgpbQW1x4K/s1EVAjxApx+4NsSenUbljP1xUmhLq3hq90vw9qV1Z6jay2zpb3EMDQyoYgPvgu4fIP3htwR0OeLa5XZkpqSujesdc0nVLme30zU7O8ntjieK3uEkaI5IwwBJXkEc+lR2fiPQ9R1CSw0/WdPuryPdvtoLpHkTBwcqDkYPBrIYTxeNdLOpWUNpEqXFtYNaS+YrghWxJlVKHbGSFAZePvAgAwWs+qeELiz0/UZoNT0+48/yTa2jpcRsqtLgrvfzcgMOApzjg54ntcfWyOqe9tY7pbWS5hS4aNpViaQByi4BYDrgZGT7isyz8YeGdRvI7TT/ABFpN1cynEcMF9G7ucZ4UNk8VxWj6pFd/E/S7+7t9RS/vbK6R1m0y5iECb4jHEC8YGFG7c3Tcx5G5RXYRH+1PGcznDW+jxiNBnP+kSLlj9VjKgf9dGqraJg/I3qKKKQBRRRQAUUUUAFFFFABRRRQAUUUUAFRXNzBZ2slzeTRwQRKXkllcKqKOpJPAHvUtYPigeZPocMihreTVI/ODDIOEdkz/wBtFT8cUdhmtYahZapZpd6ZdwXls+dk1vKsiNg4OGBIPNSGeEXC25lQTMhdYyw3FQQCQOuASOfcViaOgj8Y+IVhULE/2aR9vQylCGJ99qx/hiqqaXZWPxMjubW3VJ7zTrh7ibkvKRJCBljzgDgDoBwMU1rJL1/K5Dfut/1vY6Oa7treaGK4uIopLhikKO4UyMASQoPU4BOB2FQf2zpn9r/2V/aNp/aO3f8AY/PXztuM52ZzjHOcV51qGtwah420DUr201WKVNTaG2hl0m6QQw+RKCcmPDM7YY4JwoX+6xrSZAfAcVygzeHX1kLg/N5v2/Y3PX7uV/3eOlCV7Pv/AF/X3eZT0dv66/5fqd41xClwlu8sazSKzJGWAZguMkDqQMjP1FVY9c0mXV30qLU7N9RjGXs1uEMyjAOSmcjgg9O9Yc+mWdp8UNOvIIFW5u7G7M0xJZ3Aa3CjJ6KOcKOBk8cmjxD58Wqaa15Zww6VDqULx3NvLulMr5QbkKqEUu+Cys5IPKgElUtbef8AnYbWhuLrmkvrDaSmqWbaioy1mLhDMBjOdmd3TnpV6uZ1Ef2xqlrpulWwWCyvVuru9ChUjdW3GNP70jE4bHABbJyQp6ahbXF1sFFFFABRUZmUEjB4o89fQ0AYHiHwB4X8V6jb33iDR4by5txtjkLupIznDbSNwz2bI5Pqaj8RfDnwn4ruLefXtGiuJbePyo3SR4iE7L8jDIHYHpk46muj89fQ0eevoaAEtbWCytIrWzhSCCFAkcUahVRQMAADoKlqPz19DR56+ho3Akqnqmk2es2gt79JGRZFkRopnidGHRldCGU/Qjgkd6seevoaPPX0NAGRc+ENEvL6S6ubWR3ldJZE+0yiN5E27ZDGG2FxsX5sbuBzRN4O0Se+mupLWXzLibz51W6lWOd8KAZIw21wAo4YED05Na/nr6Gjz19DQG5TudB027jv0ubUSLqIUXQLN8+0YU9flIAGCMHIz1qBPC+lppl1YOl1PBdACU3N7NNIQOmJHcuuDyMEYPIwa0/PX0NHnr6GgAtoEtbaOCIyMkahVMsjSMQPVmJLH3JJqSo/PX0NHnr6GgCSio/PX0NHnr6GgCSio/PX0NHnr6GgCSio/PX0NHnr6GgCSio/PX0NHnr6GgCNbG3TUpL9Y8XMsSwvJuPKKWKjHTgu350kmn2supwahJFm6gieKOTcflVypYYzg5KL+VS+evoaPPX0NAGbZeGNJ0/UjfWlu6S5YopnkaOIt94xxlikZPcqBnJ9TT7Hw9p2n6hJfQpcS3Tgr5t1dy3DIpOSqeYzbATjIXAOB6DF/wA9fQ0eevoaFpsBJRUfnr6Gjz19DQBJUENlb291cXEMe2W6ZWmbcTuIUKPpwB0p/nr6Gjz19DQBDbabaWenGxtodlsQwKBic7iS3Oc8kk596oWnhTSLOK4RIrib7RCYJHurya4fyz1RXkdmVT6KR61q+evoaPPX0NKyAzNN8MafpNyk9pNqRZF2qlxqtzOgGMfckkZf04rXqPz19DR56+hpgSUVH56+ho89fQ0AZmo+F9L1a8NxfpcyFlCyQrezJDKB2eJXCOOx3Kcjg5FT3GhabdteG5tFk+3RpFcBicOqZ28Z4I3HBGD+Qq556+ho89fQ0dLAVtM0i00iF47JZT5jbnknnknkc4x8zyMzHAGBk8CrtR+evoaPPX0NAEGpaXaavafZr+IugYOpSRo3Rh0ZXUhlYeoINQReH9Migs4lt2K2U5uIWeV2YSkMC7MSS5Idslic5q956+ho89fQ0AZ1r4Z0my1RtQtrd0mLM4Tz5DEjt950iLbEY5OWVQTubnk5vGytzqK3xj/0lYjCH3HhCQSMdOoFP89fQ0eevoaAM2y8M6Zp98LuBLl5Vz5YuLyaZIc9fLR3Kpxx8oHHHTipLfw/p9tqj6iq3Et0xYq9zdyzCLd18tXYiPPT5QOOOlXvPX0NHnr6GgCjb+H9PttUfUVW4lumLFXubuWYRbuvlq7ER56fKBxx0qCDwno1tqS3sNtIJElaaOI3MpgjkbOXSEt5ascsdwUHLH1Navnr6Gjz19DQBJRUfnr6Gjz19DQBJRUfnr6Gjz19DQBV1XR7LWbeOK/jdvKfzIpIpnikibGMrIhDKcEjgjIJHQmmQ6DptuLLyrbH2Df5BLsSC4w5JJ+YnJyWySST15q756+ho89fQ0dLAZuneF9I0qaSSxtnQuhiVXuJHWJCclI1ZiIlOB8qBRwOOBg0vwzpekTGa0jnklMflCW7u5bl0TjKK0rMVU4GQMA4GegrS89fQ0eevoaA3M3TfDGl6Tci4tUuZJVQxo11ezXHlKcZCeY7bAcDO3GcDPQUml+GNL0i4E9nHcPKqeXG91eTXBiTuqeYzbAcDIXGcDPQVp+evoaPPX0NAEUmn2supwahJFm6gieKOTcflVypYYzg5KL+VLa2NtZNObWIIbiUzSnJO9yACefYAfhUnnr6Gjz19DQBJRUfnr6Gjz19DQBJRUfnr6Gjz19DQBJRUfnr6Gjz19DQBJRUfnr6Gjz19DQBJRUfnr6Gjz19DQBJRUfnr6Gjz19DQBJVXUdNtNWsXs9Qh82FyCRuKlSDkMrAgqwIBDAgggEGpvPX0NHnr6GgDPh8N6XBaRW6wSOkVyLpWluJJJGlHR2dmLORwPmJ4AHQCrrWVu2ox3zR5uY4mhV9x4RipIx06qv5U/z19DR56+ho/r9BWRFdafa3s9pNcxb5LOXzoDuI2PtZc8Hn5WYc+tVE8N6XHq51JLd1uGcyFRPJ5XmEYMnlbtm/H8W3d71oeevoaPPX0NA9yOSxt5dQgvpI83NvG8cb7j8quVLDHQ52L+VUY/DOmRap9vCXLzeYZVSW8mkhRzklliZyink8hRjJ9a0vPX0NHnr6GgPIxovB2kwXbXFu2pQs07TmOLVrpIt7MWY+WJNmCxJIxg56Vu1H56+ho89fQ0B1uSUUUUAVX++31pKV/vt9aSgAorybx18Q5rXxhcaJB4ptvC1rYJGZrt7E3c08rgsEWPBwgXkt2OBnmtT4keOLzQPCqQeGrqO61iW0+1/akVWWK3XG6cjlcMSFUdCW9qV7R5v6/r9NR297lPRaKq6ZM9xpNpNM26SSBHY4xklQTVqqas7Ep3VwooopDCioL6RodPuJYzh0iZlOOhANc9p/iqRtH0xFsbzWNSl0+G6uY7MRKUDrwzF3RRuIbABzweMCjv8A13/yDa39dv8AM6iismy8SWGoXVtBB5o+1WzXMTSJtBVWCupB5DKSMgjjNUx4whntopdO0vUNQMkIuGS3WLdHESQjnc6ghtpIAJYjtRsB0VFQ2l3Bf2UF3aSCSCeNZI3H8SsMg/kamoemjAKKKKACiiigAooooAKKKKACiue0u91h/GWpWWqzWxt0tIZreG3Q/uw0kq/M55ZiEXPAA6AdyaXe6w3jHUrLVJrYwJaQz28Fuh/dhpJV+ZzyzEIueAB0A7kG01fyt+Nv8zoaK4jw/rl/d67ZxSat9suZllOpaV5cf/EsIGV5VQy84XDlt+dy8A1e06+uf+ErFpaa+dbixKL+LbDtsXUjaoMagqckjY5ZiBnPynII6miiigAopDnadoBOOATiuf0C61q5uNZt9XuLX7TBIgiFvEfLh3RK23k5fBPU7c+i9ArgdDRXNWM9/Y+I7jSzqc+s4sjct9oSJXgfdhFzGijDjdjIz8h5rM8N6vfapqCW6eIXv3nsme/iSGJW0qfI2qML8pyXGyXc3yZ7HL3/AK9f8g/r+vvO4orl9Mg1SPxfJbHxBqF/Z2lvuuEuorYK0rn5FBjiUghQWPP8SV1FABRRRQAUVynjrXr7TNIuIdBkVL+OH7TLKyhhBCD1weCWI2gH/aP8OK1fEN9cWWkp9iZUubmeK2jkZciMyOFL474BJx3IoE3bc1qKwNGuLy18QX2i319JqAht4rqG5nWNZMOzqVYIqrwY8ggfxYPSt+gfkFFY2v3V2JtO06wuGtJb+cxtcoqs0SKjOxUMCu47QOQQM5wcU3w9e3Ukup6df3BupdNuhCLlgqvKjRpIpYKAoYb8cAA4z3oA26K4yz1TVPs+la/LqbS2mqXKRnT2ijEcUUpxGUYLv3g7CSzEHLYA4xp215rA8bSWl/NbCxe0klgggQll2yKoZ3PUkHOAABnHzdaP+D+CuKT5b38vxdjoKK4yz1TVPs+la/LqbS2mqXKRnT2ijEcUUpxGUYLv3g7CSzEHLYA4xeu5NQ0zxJpoOszXY1C4dG094YgiRBGYuhVQ42kICWZh82OCRg/r5jeja/r+tDpaK4i01y/fxRDA2seZePeyxXGh+XGfs9uN22XgeYvARtzMVbfgAZXF5L25TxhFbWWvHVd0zrf2GIdthGUZkb5FDqchVAdju3HjjgWv9f1/kD0OpooooAKKKKACisTW7i7m1TT9IsL2Swe7WWaS5iRGkWOPbkLvDKCWdeSDxnjPIi0vV54dD1R9SlF1NpMs0UkwUKZlRQ6sQBgMVIzgAZyQAMCk2km30HbVLudBRXIQahqmjXGl3Gs6q15DqiP50LxRottIIml/dFVBK4Vhhyx6HPByvhfWzq17FPc61dPNdQGZLEWgS0CnB/dSmIGUqCMkSEEknAGAKtrYm6tc66iuW0q9uT4nNra6/wD25AElF6u2HbZSqV2qDGoKk5YbXLNhc54OaPh/XNQu9ds4pNW+13MyynUtK8uP/iWEDK8qoZecLhy2/O5eAaS1GdvRXKabqE6eI3gt9fOuWyRym+XbDiykUrtUGNQVJyw2OWbC5zwcw6dqWrKmh6teag00GtOqyWLxxrHbCSNnTy2ChiRgKdzHOSRjgUf19+wP+v1OxooooAKKKKACiiigAooooAKKKKACiiigAoorI8Q3lxBBZ2ljP9muNQultknCBjENrOzAHgttRsZBGcZB6EA16Kw9CuLyPUtS0nULxr57MxyRXMiIsjxyA4DhAq5DK3IA4x3yTHFeauvjoWd5NbCwltJZYIIYzuG141DO56k7jwAAM9W6093b+u4r6X/rex0FFc897rEfjy1tJ5rZdNntbh44IkJclDFhnc/77AKBx3JzwzUX1HTNbsZRrE1x9uvBCNNaGIRiMg5ZCF8zKgBiSxHB4GRhdvP/ADsN6K50lFcR/bmof8JMsP8Aa2L06gYDoXlxkfZckednb5g+X59+7Zn5MZq1rOv36+K9Is9McJYi/FtfSFQfNdoZHEa56bdoYkeqj+9Qtbef9fqHVrt/wf8AI62iuHm16/ghbXJNW2RJqwsG0to4/LC+eIeu3zPMwfM+9jH8OOa7ijpcOpbooooAqv8Afb60lK/32+tJQB5x4q8BeILvXdYuvC95pcVt4htUtdSW/jcvGFG3fEV4JKk8HAyPfilrfwTguNGuU0bXtVgvZLGK0Eb3YS2mEaBVEiqhJXgnHPJNeqUUraW/r+tR3d7/ANf1ojN8PaU2h+HrLTZLu4vHt4gjTXEnmOx/3sDIHQcdAK0qKKptt3ZKVlZBRRRSGQ3cTXFjPChAaSNkBPTJGK5ew0LW9AW2l0pLC8lbT7e0uYbm4eFVeIEB0dY3JB3EbSB0ByORXXUUbf16/wCYWv8A1/XY5O88JXZ0Gxt7G7jW+glkaWcgorLOW87aBkj75ZR6quT1NV9Y8FRS66L+10DQ9Yia0jtjb6r8vkeWTtMbeVJwQxBXA+6pz1rtKKAILK2SzsYLaKKGFIo1QRwJsjXA6KvYegqeiijcAooooAKKKKACiiigAooooAzItNmTxXdamWTyZrKG3VQTuDI8jEnjGMOO/rTBpU//AAk17qHmKsNxYxWy7Sd6sryknpjGHGPoa1qKN1Yrmevy/C3+RyOk+HtXgbRbW+TT4bTRARFcWsrtJc4jMYBQoBGCG3EBn5AHvVyLTtY1DXLC+1m20+0/s4uY5LO4eV59ylSp3RrsTkMVy2Sq8/Lk9FRTvrckKKKKQBWI+m6lA2vXGny263V6A1oZCdqOIgoL8dNwzxnituik1cadmctpmkasmmXmmXGn2GnRXcMnmXtrqMlzO8rLt8xt8Kbj7luwGMdHaXo+rf2lpsupwabaQ6XA0MRspXdpwVC4IKKI0+UHYC/O3n5eenop9b/1/WpPS39f1oZmiadNYR3j3jRvc3d3JPI0ecEE7UHPcRqg/CtOiigYUUUUAcp4n8DWmtWOptaSXcN/fJgt/aVzHCzABQWjV9uMAfw1c1DRr+6sXs7aaFIrU28thJK8kshkjbcRKzEkg4UZyTgsTW/RRtsK19zH0mwvRqV1qurpbw3dxFHAIbaZpUjjQsR87KpYkuxPyjHA9zsUUUDMnXNPu7prG80ww/bLCcyxxzsVSUFGRkLAErw2cgHkDg1Bp+napaSNdH7GLm/vBPfpvdljjEWwLEcDJGxOWAz83A4FbtFAf1/X9fkjlbHQNUiFjpd39j/snTZxNBNFI3nShSTGjRlcLtyMsHOdnQbuNhtOlbxRHqW5PJWze3K5O7cXVs9MYwp71pUUf1+FvyE1ff8ArW5ytjoGqRCx0u7+x/2Tps4mgmikbzpQpJjRoyuF25GWDnOzoN3Bo9h4gstVlub3TdKnluZSJ7/+0pDL5W47VWMwYVVHRAwGckkkknqqKFoN6nH2nhzV41stNmXTxY2V8bxb6OR/tEp3s+PL2AIzbiGbecgtx83F2TT9Z1TWbGTVLXTbaDT7hp4ri3uHlmk4KhQrRqIwQ3zYZuBt75HR0ULT+v67A9f6/ruFFFFABRRRQBj61YX0l5Zalo620l3Z708m6do0ljcDcu9VYqcqpztb7uMc5Fe10a/Sze3uTasuovNJqQBY7S64VYjgZAwFyQMgZwCcV0FFJpNNPqHVPscvaaDqt41pB4hNmbbT4XiiktpXL3LMhj8xlKjy/kLfKC/Ldfl5TTtD1g3Gkx6v9gFvooJt5rd2L3DeWYlZkKgRjazEqGbJI5AHPU0VV3e/9f1qKy6HNR6XrOp6vaXuswafYNZRyKkljcPNJKXXaQS0abEH3tvzZIXkbea2leHtYgOi2t6mnQWuiAiG4tpXaS5/dmMBkKARghtxAZ+QB7111FIZzcOmavqWtWd9rtrptp9iSRVazuHmefeu0qS0abE77fmyQvI28xaXoOqw/wBl2GoNanT9HINvNFKxludqFE3oVATAbJwzZIHQcV1NFABRRRQAUUUUAFFFFABRRRQAUUUUAFFFFABWXr2nXN/a28mntCLyzuFuYBPkIzAEFSRkqCrMMgHGc4OMHUooAwbGw1iKebUJlsY728uIhcRLI8kcUCDG1G2qWbknJUDLY7ZNyXTpX8UW2pBk8mKzlgZSTuLM8bAjjGMIe/pWlRQtHf8ArawrdP63uZlzps03ifT9RVkENrbXETqSdxMhiIxxjHyHPPpWTYWPiG11ye8udM0m5knmZTetqUokS33fKix+QQuFxlQ2CwyTk5rqaKOxT1Vjj08OawFXTGFh/Z66ib/7eJX+0H99523y9m0Nk7C+/pk45xSX/wAPrJ7zTJdNlvYUtr83UyNq11tIKyZ2LvIDFnB4xxu55IPY0ULS39dv8hd/M5a88Nyal4mF3NpOkWkaypI+oRHzLy5VCCsZ/drsGVXPztwuMc5HU0UUdLB1uW6KKKACiiua1Hx/oGm+L7Hww9y0+rXjhRBAu7ycgkGQ5AXp05PIOMHNHWwdLnS0Vxvib4n6J4X1d9PurbUrx7dEkvZbK282OxRj8rStkbQevGTj8Mu8S/Eiw8LzRm70fW7uweFJ21Oys/NtY0Y4BaTcMevToR60X0uGzsdhRUdvPFdW0VxbuHimQOjD+JSMg/lUlGwJ31QUVSg1SG41i801FkE1pHHJIxA2kSbsY5z/AAnPHpV2gAooooAKKp6hqcOmtZrOsjG7uVto9gBwzAkE5PT5TUt5e2+n2puLuTy4gyqW2k8swUdPcii4E9FFFABRRRQAUUUUAFFFFABRRRQAUVk6b4l0/V9ZvNOsDLJJZorySmIrG2WdcIx+/gowJGRnjOQQE07xNp2raxe6dYtLI9kivJMYisTZZ1wrH72CjAkZGeM5BAANeisLT/FlrqF9bwizu7eC93fYbucIIrzaM/JhiwyoLDcq5AJGaktPEaz6umn3emX2nvOHNrJdCPbcheu3Y7FTgg4cKcduDgA2aKKKACikJCqSxAAGST2rK0XxLp3iAXb6a0rQ2rhTNJEY0kBUMGTdjcuCMN0PUEjmgDWorG0rxPZa5b30ukR3F0tmQB+68v7QSgceWXKhgQRhjhT1BxzVeDxYx1VbHUdC1LTCbeS5M109s0aRpjcWMczkfeHb+RoA6GisTSvE8Wp3qW0mm6hp7Twme1a8jRRcxjGSu1mKkblO1wrfN04ONunawBRRRSAKKxtR8QvZ6t/Z1no1/qc6wrPJ9keBRGrMyjPmyp1Kt0z0q9qepQaVp0l5db9iYARBlnZiAqKO7EkAD1NHS4dbFuiszSdbTVJri3ls7jT7y22mW0ujGZFVs7WyjMpU4bBB6qR2rToAKKoatq0Wk28bvDNczTyCKC2gCmSZyCdq7iB0BJJIAAJJo0jV4dYtpXjilt5oJTDcW0+3zIJAAdrbSR0IIIJBBBzRuBforBt/FttcalFb/Yb2K1uJmgttQkVPInkXOVXDFx91sMyhTt4JyuS38W21xqUVv9hvYrW4maC21CRU8ieRc5VcMXH3WwzKFO3gnK5Nw2N6isG08W213qEMAsL6K1upGitb+RE8i4dc5C4YuMhWwzKqtjgnK5s3niOxsvElhocnmPe3yu6BFBWNVBOXOeM7WA9dp9DQGxq0VjL4iC6xFZXWl6haxTytDb3kyx+VM4BO0AOXXIVsFlUHHXkZih8W2supJB9ivEtJrhraHUXVPIllGQUHzbxyrAMVCkjgnIybgb1FFFABRRRQAUVnavrCaUkKraXF9c3D7IbW1C+ZIQMk5dlUAAZJZgOg6kAu0vV7fVdNN5GJIAjOk0U4CvC6Eh1bBIyCDyCQeoJBBoAv0VgWHi2G/njjGmahALmJprF51jUXqqM/J85KnBBAkCHBzjg4Wz8TTXGtwaZd+HtUsJZ43lWS4e2ZQqYyT5czEcso6dTQBvUVjWXiIXOqrYXemX2nSSo0ls10I9twqkbiux2KkZBw4U4PTg4LPxELnVI7K60u/wBPM4ZraW6WMLcBeTja7Mpwc7XCnGeODgA2aKxtI8QSaxMfL0a/t7T5tl7M8HlybWxwFlZ+cHGVHviorHxZa319bwizu4be8Zlsr2UJ5N2VBOEwxYZAYgsqggZGeKFqBvUUUUAFFFFABRRRQAUUUUAFFFFABRRRQAUUVS1XU4tJsTcSxyzMWWOKCFQZJnY4VFBIGSe5IA5JIAJoAu0VnaPrMerrcKba4srm1k8ue1uQvmREgMOUZlIIIIKsR26ggRW/iXT7vxHLotsZpLmGNpJJBEwiG0qCoc8MwLjIXOOhweKOtg6XNaisH/hLbUaiITaXYszc/ZBqRCfZzPnb5f39+d3yZ27d3Gc1NbeIJLvWJbO30a/eCGYwyX++DyVYDJ483zO+PudaFr/X9d0GxsUVjP4iEOrJaXWl6hb28s3kRX8ix+TJJzhcBzIMkEAsgBOMHkZePEunP4lGhQtLLebGZykRMcZUKSrP03YdTtBJAIJABGQDWorCk8WW0eqfZmsrw2v2kWjaiFTyFmJwEPzb/vELu27dxxmt2jdXDrYKKKKACvOfHdrbwfETwNLBBHHJPqkryuiAGRhCACxHU4AHPYCvRqKVtU+zQdGu54T4t1KHw5rvxD0vVIJ/tniaCEaSEgZ/tZMZj2qQDyrHuaPiBNo1n4J0vwxfeIdVtPEVhpUEUWj2iSNDeSFV2pIgQq+SuMbvz6V7tRRry29Pwul+f/AH1v8A1rb/ACKWivcyaDYPf26Wt01tGZoIxhYn2jKgdgDxV2iiqbu7kpWVjzrV18Knx9rZ8ZGzaE2doIU1DBiLfvvuBuDJjpj5sZx3qC2TTomsI/iY9ubQaTb/AGQa4UMfnAv5u4yfKZtvl5z82M4/ir0yikM840+8i0S+8N6hr10LGw+z39vBcX0hQKjSo0Cuz9CYk43c8Y61Vhn025tLGXxD5a+HZdV1NrgXqbYDL57GHzg2AF+/gPxu298V6jVLU7G4v4US11W80xlbJktEhZmHofNjcY+gBpt/187lX0t/Wz/zPOobTTLyD7NYKy6a3iqMRohZFKC3Xhf+mZxgAfKVIA+XFSavo2j22m+KLBtOs10uxvbS5S3aBTDb5EZkdVIwg27icYHLHua9B0rS4dIszDDJLM8jmWaedtzzSHq7EADJ9AAAMAAAAVdqWtLf1sl+lyFvf+t2/wBStp32H+zLb+yfs/2Hy1+z/ZtvlbMfLt28bcdMcVZooqnuMKKKKQBRRRQAUUUUAFFFFAHP23/JSNR/7BVr/wCjZ6iaNpvHesRRnDPo1uqn0JkuK6Wih6qxfNq36fhb/I4HS7621a38JadYyob3SpEk1C1BHmWgS3kjKyL1U72AAPXqOOas2WqWeo+M7GbR9cj8QBjMJod0bHTY2XOR5YXb8yqmJAznPBGGB7Wim5Nu7M1okl00CiiikMKw9G/5GbxF/wBfEP8A6IStyilbUDD0b/kZvEX/AF8Q/wDohKq6Za2+vDX729G6C+d7BcjGLeLdGRz6uZTn0I9K6aii2lh3fQ4LQJJdW8T6Y0HiO21610uCXNzYQKsQ3KEVZXDsHlI+bC7QACSoytd7RRTJSS2CiiigZxPjKXw9FeXMraxNY+JFswLWK1vpEmmwWaICBWxN8xbgq2ckVa1/URLpMKz7mu9MnsrzUIUjJ8tPMBZuOCBtZuM4C11lFC0/P7v61CXvb+n9foc1otzb6x4v1HV9LuYrvTzZW9qlxA4eOSRXlZgrDg4DrnB6nHUGuloooB6u7Od8T3EWn6homp3riKytbpxcTvwkAeF1Dsf4RuIGTwN1VtD1KzTUtS1A3Km11vUkj0+RQWWcrbqCVIH3T5T4bodvHUZ6uigFoee6Zd291oegeGoLlW1jT7qEXdrn97CIWy8jqeVU4GGIw29cHkGjTLu2utD0Dw1Dco+safdQ/a7XP72FYWy8jqeVU4GGIw29cHkGvQqKF+t/np/kEvev56fn/mec28Pm6tpmhaP4itdTtdNvvNFtZwqZLNI9xCXEodgAD8gGxWPvtam/ZvEtl4s8Pyapp+lvc3N/NJNPFqUjbv3DjAUwDaqp90ZOccnJLV6RRQtP6/rsKS5tf66/5nD2fibRfEniS3e51/TIUtLl1sdMW8j8+aYZTzJFzkHltsYHfJ5IVatpeW91omk+Gobhf7ZtNQhNxaZHmxrDNvaRlPIRlXIYjB3rg8ivQqKFo0+w3rddwooooAKKKKAOb8Q3dvpHiTR9W1O4S20+OK4t5Z5Ttjid/LKF2PCg+WVBOBlgOpANCzniudH1aKKfD+IJ7p9NwpPmqIgoYEDGDtLAk8ggjrXZ0VLjeLXdW+8d3dPtr+f+ZxVhqll4g1Hw1FpVwry6bumvoEI3Wv7ho/LlHVG3PgKcH5W9DWtoDi/1bWNYY7lM5soDg8Rwkq3HvKZOR1GPSt+irk7u5KSSsjiLDV7C+8XWtzpOvReIIzHOZgGjc6dGQGGDEAFBKhdsgZz2b5WBXQfEui+J9dtdQk1/S3m2N/Z2lwXkbyoGHLuAcmQqPugYQbhz1rtqKQ2cDpUujya9Zw+BtXkvbaZJvt8Ed891DAhUlGIZmELb8AKNuQW4O3hNGvrfUNN8KaNaSJ/aWmPEb+0Vh5loIoWRvMXqoLEAZHOQRxzXf0Ubaen4bA+v9bhRRRQAUUUUAFFFFABRRRQAUUUUAFFFFABXP+LZFtE0rUbhilpYags1y+CQkZjdNzeiqXBJPAAJOAM10FFAzlNK1ewk1zUdYiu0l0+/ltrK0uIvnjnlAbO1lyCMtt3ZxlWHartx/wAlDsP+wXcf+jYa3qKa0d/62sQ1pb+t7nnguYJ9BXwwkyLrSauHazLASiNbzzjMV67Cg3bunIGc8VPcXGjJ4miPhTVpJdYk1IC+sIL55V2btsxkgLFYwAM79q8hQD82D3lFJaNP+un4aFfZ5TiB4n0TXvEccN54g0u2gsbwpBp7XkYuLi4RigZ1JyoDZ2oBk/KxP8Nbeo/8jron/Xvdf+063KKVtLB1ueZPf2smpukmoBNT/trI8M5U+ZibCzbMeZygEu4Hy/4ivU16bRRTWisD3bCiiigAooooAKKKKACiiigAooooAKKKKACiiigAooooAKKKKACiiigAooooAKKKKACiiigAooooAKKKKACiiigAooooAKKKKACiiigAooooAKKKKACiiigAooooAKKKKACiiigAooooAKKKKACiiigAooooAKKKKACiiigAooooAKKKKACiiigAooooAKKKKACiiigAooooAKKKKACiiigAooooAKKKKACiiigD/9k=)"
      ],
      "metadata": {
        "id": "r72sbWiJWzo0"
      }
    },
    {
      "cell_type": "code",
      "source": [
        "!pip install squarify"
      ],
      "metadata": {
        "id": "7YZlSgw12AX3"
      },
      "execution_count": null,
      "outputs": []
    },
    {
      "cell_type": "code",
      "source": [
        "import squarify\n",
        "import matplotlib.pyplot as plt\n",
        "\n",
        "wc_top20 = wc[wc['rank'] <= 20]\n",
        "\n",
        "squarify.plot(sizes=wc_top20['percent'], label=wc_top20['word'], alpha=0.6 )\n",
        "plt.axis('off')\n",
        "plt.show()"
      ],
      "metadata": {
        "id": "hC30iwd72DfI"
      },
      "execution_count": null,
      "outputs": []
    },
    {
      "cell_type": "markdown",
      "source": [
        "![image.png](data:image/png;base64,iVBORw0KGgoAAAANSUhEUgAAAV0AAADnCAYAAAC9roUQAAAgAElEQVR4nO3deVwTZ/4H8G9mcpOLkAABwn2JiCgqKh541atWrUetre3W3u2223bb7q7d1u223Z52e+/2spe11rveVVtQFEUERVBuuQJJSEggCbkz8/ujiz/rC7UqTCD9vv8iM0+e+T6IHx5mJs8AIIQQQgghhBBCCCGEEEIIIYQQQgj5E+tKOzfUjPqYqULQjXn3hWX+LmFAy3qm1N8lDCh3ygv9XUJAGxvX+ODl9hFMFoIQQr93GLoIIcQgDF2EEGIQhi5CCDEIQxchhBiEoYsQQgzC0EUIDUgv/tkwavdmS6S/6+hrbH8XgBBCl/J4adbqNcqT/q6jP2DoIoQYVV3hEj11b/uc6Di2saXBq1Cp2ea3vwjNWzy5demoHH79udPuyIV3SMpOHLGrx+fym5bfJ2soOGhXvvcv03i3i+awOSzfp1tVu8QSwrv6T4YxVWfdET43Tc5aEHT24Wfllf4e39Vg6CKEGNfR7pM9tTr40LQ5Iv3jK3ST//tWZxoAgFRGOrcVRG0FADhxxK4GAHC6KOKVvxinP/e64uDE6UKDyejjiCSE97N/m1ODxKR7a37UNkc3Rdwxu23BlLlBmtShPKs/x3Y1GLoIIcZJZIRt2hyRHgBg5kJR7ZavLekAAAuWi+svbVtR6pRJZIR94nShAQBAriA9AAClRa6o1mavfMEEezwAgNNBc2vPuqQYugghdAkWq/fXIgnp/a190BTAg09Lj85fKtH0ZW39De9eQIgh/xm7YWVv27c//HPuqW8q45iux5+6zJQo/0dbKADA/h9siWkZPN3l2qaP5HdaOilhwUG7EgDAZPJx3F6alTWOp/lhvS3N6aIIAICyUqfU2uUb8BNJDF10TY5v/EuvwYHQtQgJJTs3fmkbenN2y9JuK8174GnZucu15fMI6rnXFQfffcWUMz+nZfEDi7Rz7VaKfOBpeaU6hmNeOqX11vnjWpa89lfjRLf7lwBeMKFlEXOjuTYD/rcCQoPR4TdLhtXnNacCACRMja6a9HRWec8+mqJg99OHc9orTFGCYJ6NIAnKf5X6B5sA+qPvwvMu3vZjafT6i19/sC48v+fridOFhonThdsv7efFd5XFAFB86fbtR9Rb+rDcPoWhi64LRVNQW/htts3YGA0AdHjyhFORQ6bU6xtLVNpzP48iuHyn22oK5kuUxrSpD/1MsAjQ1x1Tt5TvH0ewOV6hLELntndKMmY+sc/fY+lrTQWtivN5LSnLv5uzjaIANtyxZ2HMWFVbz/4z39XEWtvssrt2L9ho1VgF39+xbykAVPmxZMQgPL2Arou+uiDOaWlXjJi3avOQaQ/vbqvMy7Zb9EIAAFe3KSRx1NLCkQue3+hxWCSmljPhHo+TbDqzZ1Jq7r17R85btdXrtgn8PYb+0lykC48cFd7Ik/K8gmCeN2pkWEPzCa2qZ3/r6XZV3OSoOjaHoIPjpPaQZFnblfoLNCnpPNsPx9Sb/F2Hv2DoouvSZWwID44cWkcQJC0UKRxCmUrbpatVAgDwRQqDUBbWTbAI4IuVRofNKLYZmmRcvtgiCo6yAgCEqDPr/DsChPwDQxf1ORZB+i58zWLRtM93xcdCBZro7HBd60ldrMvqZru6XGxNqT4ueoxK27M/MjNU23hYk+D1UCxzk1XYUdsZ4c96EbPwnC66LuLQBK3xfHFaVPqMGpfdzLN3alVxY5YctxqbZL21FymiO91Oq8RmbhGJgtW2jpYzCUzXzJSYiZHG+OO66vW37V4I8MuFtJgJER09+zNuT25sKdFFfj13+1KBnG8LjpHo/VctYhqGLrouqqScRpuhMezUzn8tBgA6YsiUIqFI4bhc6HK4Ap86Y1ZBVf7aOQSb4+VLwgwMl8yoSc9klU965v/vWAAAePj4srUAACyCgJvfzj3qn8p+ce+Zu/15+Osi2C71dwnX4KnL7sHQRddk7NLX1wIAECwCUnJWFAFA0cX7w2KztGGxWRf+lE6dtPJCuMjVw9tUiTkbKZqC6oIvJgTJIgM6eBHqDYYuYkxbxU9DTK3lyTRNkXyRwhiVPnPArwiFUF/D0EWMicuaXx6XNb/86i0RClyD9u4Fs8HDXfe6Ju1Kbc6fs4semVS2pLd9f55dMe9knllxpfd/+UrzMLt14H+WGyE0eAzq0C3c3TG0P49xdIdpWLfVg6GLEOozgzZQvnm5ObvL6JU8lntmUWy6sE3X6ApxdlNcn48ibrk/vHjWirAmAADKB6wX76yaqmt0KRSRXPPfPkvOE4p/vXxc3mZD1A+f6Eb5PEAEh3EsT/8nKX/7f9pSuy1e4epl1TcLxaTzrd3pu/wzUoRQIBm0obvi79FFbz1UK38/P2OL20uxHF0+tjSE4zG0OfnPLapaMPPOX0K30+CR/eHvUYfGzg7Rv3JPzeQNb2vSVq6OOdPTj6HNyd/5uX7ky5vSdomkpPez1Y3D17/RnPHQq3GlBT90ZLy4IWWXMoLv9N9IEUKBZNCG7sVoH8365LmGMY2VThXBArq7yxeka3IKAABEMtI2dnaIHgBgwvzg2v3rjOkAcCF0T+VbQ01at+xv88/OBwDwemkyKkmAN6sjhPpFQITujk90ibYuiv/2/qFbeTySuj/79HKHnSJ7bXzpB1JpgLg0Yevq9ak/9X+lCKHfu0F7IU0STHrcTooDANBt9XFFMsLJ45FUwY6OCKvZK+ppZ+v0iU4cMIcCABzdYU5MGCb81Qr1mZPF7S11jrDaMpsEAMDW5WPXllqlAAAcHsttNfs4zI0KIRToBu1MV6HiudTJAt0jk8qWRMTz241t7uBHJpUtjojnG4JDOZ097WRKTue+r9qHfvFic64igmte9mTUr1aoD43iO1esisp//6mGaT4vTQIAzLs/vDhppLhr7Bx55RsP1M0RychuvJCGEOoLV1z9aUPNqI+ZKgTdmHdfWObvEga0rGdK/V3CgJKnSfJ3CddsMK29cPKLpx683L5BO9NF6Fr83Dz4QqY/sQbticXBD7/1CCHEIJzpBoj2Efj780p4/i4Aof/B/6kIIcQgDF2EEGIQhi5CCDEIQxchhBiEoYsQAgAAV32rqHrl272uP92b9u9+TvZo2oU9r3Wf7h1Gddvx4vxVYOgihK6L5WhlikNrvhC6nYfKh/m6ndcWuh7vFT+gNZBQPk+f1Iq/lRBC/4+iWQ2rvpzq1nYoOEqZOXb17Xnazw9kdFc0xdBeL5sfE6qLeX55gWnH8Ti3zqzUfrhrmo691yvJTqn2dTuF5//21c2kgOdM/OCRXaYDpVHGLUdHgc9HcORiS8yq2/IJqchbdecby0XD4+vtNZrIoOHxDd1l5+OSP31iKwCAo6pF0rJmy/Se19er4fC3o0ie0BWdvbAcAKAhf91okh/koGgvaW2tiacpHykOT2yIm7S8BACgcsc7N3ldNhFF+ciQxKyKqKybKwEASr56dqVMnXau29gcpR51y5Hg+EzdlY77W2DoIoQu8JptMtV9Mw9JJqTrG1/4ZrJ+XX5a6B25Zzkh0lIAgMbnvppi2lscLV8wvsF08FR66N3Tj0lGpxgBADoPlWfEv3r3Lk6o3OlpN/FN24+NTHzz3l2EWOht+2jXcO1XP2VEPj6/FACADOI7e4K17o8fRdpO1YaIRiR1dOwuTpGOHVJ9o+MIS5tUVZ/35U2QvbAcKC90aWsSwtInF1u1dRHDFv9tG1AUnNv13qyO8yXhIfFZuoRpdx3iBsldPo+drNj65q3K5PHneWK5i6a8bJEyuj1h6h+O32hNPTB0EUIXkGKBTTIhXQ8AIMtNrzXtOZluLThrNe4tGU57vWzK4eZzIoPNANB8pX6sJ2tDPUaLrO7JT+YDANA+iuRHKy+sUy2fnVXf87V0cnqVaV9Jiig97pitrD4hYc0D2250HEKF2kZw+K6u1rMhbptFwBOHdNiNLUq7sUV9ZuMriwAAKJ+H4zTrpQCgay3dl27V1sUBAHhd9iC7SSPlieXtACxamTax4UbruRiGLkLo8lgs0G84PCH+tT9s5cWGd7e+uz0LPJdZq/piNAA/Prw17tV7el2nmgjiXXhkVsjcMQ21D3+QZfqxpJUXGWLkKKWuvihdnjCyylBVlOJ12gTyxFFVtrbaSEXy2FNRo345ddCjo/6kqtvQFDn0lqe3k3yht2Lb6/Mor5sEAGARpI8gOXRf1NMDL6QhhC7wWR0iS+G5UACArsMViYLECB0AACdU6qS6bGxb2fn4nrYsHsdDdzu5F712+ywODgCAeFRSu6vFEOaoapEAAFBWO9te1dzrMmGEkO8TJEdq9OvzJgbnDr/hUws9QtMmNHS3N6mdFkOoMmmMRhKVqjE3lqX4nDY2AIC9Uyt0drXzvS47l2Dz3CRf6LXq62XOLkNoX9XQG5zpItTHdJ//mG45WpHms7uE0skZpyMevvm0v2v6rdjBok7T7uKh2k/35nKUMnPYnbnnfN1OXs1DHywhggQOXpSivadt8MT0at2XByfq1+V5E997cLtsfFpl08sb5pAiQXfiB4/sCl85I7/l7W3TwOcjAQAUi8YXC1Oju3o7rmzK8Fr72eZY2dThmr4aC0nyKGFIVBvB5bkIkkMrk8dqHCatrOKHNQsAAAg2xxs/6Y6fFUmjWzpqi9PKNvxjKVco6+RLle1X6/tG4Hq6AeK5bcv9XcKAxkvu9f96v6hZuWZp9D/u2s2PVnb3tp/yelkEm92nf7Jeq4G2tKP24z0Zvm4nN+qpW09ers01r6dLeeHM5lcXxefecUAUGm+50RqvBa6nixBDml76dqK3q1vS/M91s8VjU6s97Z2S6FW3H21a/XUusEmfu80Uwo8N04csHH9W+9/dE6huJ5/FZnsjHp13WJgW3Xn1IwSe8898dpPXZJXEvXp3nz2dxaqtk9XnfzVbHJbQwHTgXg2GLkJ9KOb5Owqq73pDHfPqPbu6fjod7Wn//xz1dXUHJbz/yA8Em6Tr//Sfm8MfmXc4KCXKYjleFar9eNeEhHcf+V0+Eir+zfv293WfYlViZ+btL33X1/32BQxdhBgiGp18nmCTtMdiZ7tajWGtazbPuLDT67v6HQEoIGDooutSv+rZlQn/emOtR68X6jd/nxP16OMHTPv3Jrva2pSqP9x71N/1DUQEn+sBAACaYhE8jiv5kye2+Lkk5AcD7HQ6Gmw4YWH2qEcfP+DvOgYTjlTkIWVBVuP2Y/EAABQFYDldL/d3XYgZONNFN8TVqhFpv/p8duyq1Zsu3t5VWBjddSR/pOq+h/Y56moVnfk/jaIpH8GWSC3hd92XT4qE3sv1+XsQ+dSin7Uf7pxo2l00EiiKCBqRUCfJTDD5uy7U/zB0UZ/rLDgcay0qzFDd/+geoH1E1+G8kZF/fGIXKRR6DVs3De/YuyMjdMmygH0mesrXz64HAAhdllsDADUAADEv3pV/cRthQoQ14e0H9/ihPORnVwzdL2+ZzlQd6Ebd4+8CfuFqbYn0tOuVEQ89tpstEXu6CgujPV2dMs27a375DD7lI7lh4fqr9YNQoMKZLupTbLHU4rVaxK6WZil76FAjAAW8iKjWyIf/2Otn8BH6vcELaahPkRKJNez2uw4Ytm+a6qirDxamprW79bowZ2OTBADAZ7eznY0N1/jRIoQCB850UZ8TxMd1ht5620/677+ZEb7inn0hN9+Sr9+4blrPvajSybnF/Ng45j6Xi9AAcsW1F2al/hXXXhgkau/p14WRBj0m114YDAba2gu/xTWvveBHV1p7YRB+6xFCaPDC0EUIIQZh6CKEEIMwdBFCiEEYugghxCAMXYQQYhCGLkIIMQhDFyGEGISfSEO/CxGvXfFzQIMWUV7v7xL6DJWZcpUWdkbq6G8400UIIQZh6CKEEIMwdBFCiEEYugghxCAMXYQQYhCGLkIIMQhvGQsQUVkt/i5hYNs6eNZiRYENZ7oIIcQgDF2EEGIQhi5CCDEIQxchhBiEoYsQQgzC0L0Mq1Mnyq/7cIm/60AIBRYMXYQQYlDA3Kd7RrtnpNFWn8QheQ4uKewWcUMNSnFia5X+4ESK9rB5bLFlROTCfD5H7G63nQ/pfXud4pxufy4AQLAgAm98RQj1uYCY6bZb6pSm7sa4yQkPbM6OvnNvt9usBAA4p9s7JTEkpyg38dHNQVy56Zz+QNaVt/+YmxyaeyQ38ZHN/hwPQihwBUTodjgaw+XC6EaS4Pm4bKEnWBDZRIGH46M83AjZUC0AQHRwVo3VpVe5PVZub9udPdslaToAgEhpRq0/x4QQCkwBEboIITRYBETohghidWZHS4yPcpEer51tdrRGE8DxkATXrbOcCwcAaDaXJEl4YVouR+zubTufI3aTBMets1SGAwC0dp1J8ueYEEKBKSBCN1SSaAgWqJsO1X+y+HjzujlCjtTEIXnutPBZeTWGI2Pz6z5c3O3uCBkSNqMEAODy22fmV7XnTciv+2iRf0eEAtGhkjeWO12dfH/XcTELZRYddmz51a2RBp9GccqZN7639nn2jcudlG1AjeFiFlur6MjJNwb0rZ4Bc/fCkNCpZRy2sMTjc7ILG7+4RS6MMipE8R2hoge2X9o29LLbE42hiYkXX0Qr6tei0e8GRVGD5smYSjLKqCSjjP6uI1AFTOiWtm6b5PB0BdO0j1SKk2oUogT8oUF9oqphz3CCJH3J0TMrztR8P67b2REyLuORXVpDWUSboTRVIU1qamk/MQIAWFJRdPOwpMVFAAA/nXhppTI4+ZzF1haVFH3TkZ7+fF4XWVL5xU0hsqSGBPW0Kr8N7BJdVIe4zHXoJiUZWddFGVVj+XP3OSgb75Qrf5oXXEFBLKm+p60HXOxix8HpXnCJAGiWmp1SGsdJHxCPJqZomnWy4tOpdodJIeDLzJlDVuQVlr6zdMzwh7YKeHKnwVSpqGvaP25s5qM7C06+tWx0xn3bBTyFk6a9UHDyzWWjM+7fLuApnP1VX8CEbnbMHT/7uwYUmEIkcdpGXWEGAFTYHAYlTftIivIQZst5lYAn62rUHc3OTn9wK5cjchVVfDK3RVsUq1ZlN9K0jy0NUrdnJN12HACgqnE3eD1O9unq9dPC5Gk1cVG5A+YOGTPVLi13HZk+lDs2z0U7eV2UUQUAUOUuzpIQcl06b3xps7c6usOtTQUAaPXUq3ksvn08f+4+AAAX2Ln+rP9ibo9VlhI351CYYpi+9OwXk+ubD6b11o7FYkOILKm2pfVYUnL8vPK29tNRAq68oz8DFyBAzumi/nd49nsr/V2Dv4QEJxrtTqPS5bFxCBbhEwnD9B3mOoWlWxvO5ghcYmG4ls+TOQmCTYfKU2vN1kbVL+9k0erwsQ0X93W69rtZYSHDqgdS4HpoD7/MeXjmUN74n0LICNPF+6y0WaXmpNQCAESzU5pJYLsAAIJJhclCdUSVOQ9na72N4TwQuv1Re2/YbIEtTDFMDwCgUmbWWqyt4ZdrGxMxvqrdXJ0EAKBtP5USHppZ3d/1YegidBUEwaF4HLG1SXs0RRyk0svE0VpjV22ky2OTCjjB1su9j8UifARB0BdvEwnDdOauejVQ/V/3b0UC6eay+DaTt031W98jJUK7xvHnbBGTMtN5T/noClfhyP6s8Vr0dvKcxWJR8L9vOuXzXPgLXxSk6uayBQ5t+6mIbkd7aGRY/z+CBUMXXRsa4NxLu7OLln26pGj5p4tbNpxMAAA4/eTGadqdZ6J7mpU9szW3dXNJHOWjWOde2p1dtGLtwqLlny1u+OzIEAAAp8YkLF751S3Hln+2qGjZp0sM+VWXnY0MBOIglVZrOJ0hl8RqlcGpunZz5RABL9gYIk0yWO06ldPVyacoimUwVSUGi2PbLtdPauyckySb7zpdu34Ck/VfCcEiqNGCGfv1vpak856KxIv3iVnBWo2nNhEAoMVbo/aBlwcAYKO6hCTB88ZzMmrVnOQyG92p8EftvfF4HSJ9R3koAIDWUJYoEUfpuByR1WQ+rwQA0HVUxF3cPkyZWVXdsHuqXJJwniDYdG999qWAOaeLmNG6pTTO3mJSjP723s0uvZVf+uj6hcoJ8VrlxMT69sM18ap5Gc2Uy0vY6vSR6S/OLWj68lgqKeS6s79ZuY1yeIni+79eoJycrNHtq4iTpke0JD814xTlo1g+m3NA/yzKJXFarfHMCIUsVc/hCLwsFumTiaK0QqHcHhueU3Ty3Nqb4X8X0tSq7KYr9TU8cVlhafXXk8trN2UPS1oyIO6Q4QDPO5o3Y98J149zYzhDSnu2p3JHl5xy5U877NiSGMSS6TnAswEAdFLt8vOuM2MBWDQLWFQqd3SB/6r/NS5H3NmqLRpafX5ProArMydETztnMte2VzfundzQWuCRiCN+9UtRHT6mqb7pQG5UxNh+P7UA0PtM/IJZqX/9mIki0I1zfODq1/4Pz35v5aS9j6+t+MfOcaJYuSn2DznVAABlT2+aopiYdD585lDN8ds/u23c+vs3aH+sUBsKahMy1yz5+dTjG2Y4tV1y4JBeAADa5eXG3z+hgMVle+s/OpQbPCa2NnxqamPwqJiO/qyf81xgPpiSKB8QNwz0CSozxS/HNZgqFbVNP44fP+KJHX3V58HCvz94uX0DenaBBg+Sz/GJEpRa7f4KtaGgJkE5KflCGsTem3NUNStdc+l7xImhO/QHK6Or3j6QGzF76JmYFeMGzMUl9PtQWb89s73jbFpq3DzG7n7Cc7romkiHRWqNxxoSKB/FcuqtfNt5o0o+Kq4dACB0cnK9/kBlSvf5DpVqVnoLAIBsuFqj3VWeRnl8BACA5ZxW6rG62PZ6o4gfKXPErcypCpucXGWtNw6Yc4Lo92NIwoLTk8c8tz5MmaFj6pg400XXRH3ryEbrOW1Y8R2fLwYC6Oilo4sEkVIHAEDYrKGauo8PTZGmRTQSPDYFABC3cnyl81WLqPjutbcCBSwiiOfIXLN4v6GwLkL3XPlwiiQoNpf0DFk1J8+/I0OIGXhON0D09zndwQ7P6Q58/jqn2x+udE4XTy8ghBCDMHQRQohBGLoIIcQgDF2EEGIQhi5CCDEIQxchhBiEoYsQQgzC0EUIIQZh6CKEEIMwdBFCiEEYugghxCAMXYQQYhCGLkIIMQhDFyGEGIShixBCDLriIuafHfyKqTrQDZpdep+/SxjYnvNddleY5LJPUR/wKAjx6/FFHE8f9qbtw778LOfyu3CmixBCDMLQRQghBmHoIoQQgzB0EUKIQRi6CCHEIAxdhBBiEIYuQggxCEMXIYQYhKGLEEIMwtBFCCEGYegihBCDMHQRQohBGLoIIcQgDF2EEGIQhi5CCDEIQxchhBiEoYsQQgzC0EX9quXf20eZfzod6e860OBgrm4X7Vvw5ZKLt+mONCiO/2XX+Gvpp+Slg1llaw5lAAAcfXx7bt36U3F9WeeNuOLjehC6IV6KpX5ywUl/l4EGt/AJccbwCXFGf9fRVzB00XVxnNeKGl/cMIcbKTe620wKbqjMHPvC7XnVD32wVJQRV2+vaY2Uz8oqs50+r5ZkJTUpFo5tsBRVK9u+ODgevF4OQZC+uDdX7uIE8b3Na7aMcdbrIigvRcomp58Nv3tapb/H198avj6e1LavMp32UURQTEj78FfmHSl7fmdOd5MpFDwUGTxSfX7oqpklAADlL+4Z01neGssiWJRkiEqT8qcpJcfv+WbxxO/v+57gk5TLZOdc/NrfY+sr5iq9+MRzP94UPj62znxWr8pdu2RfyUsHs5wd3SKnoVvi6nSI1DNSyoc9MaECAOD0qz+N0BY2J3NEHAdPHtQtiZcbLu1TV9igOPvBsXE+t5dDBnGdY/5xU744Tm5nclwYuui6ec02meq+mYdkE9P0DS+sm6xbl58GAECKBc7Uzx7fCgBgO31eDQBAuTyE5v2d06Mem3dQkp1i8JhtHFLA9erW56eyhHx38iePbaMcLqLm8U8WSManaYRJqsH7tMirMJ/SyPRHzyeMW3vXDwSfpE7/dceExvXFiWlPTivmhYldlMfHKrrv25s7ipsahFGybnOZJm7ixge+Z7EBXEYrlycXesSJyrbWXWei1YtHNLZsOpUYPDyqIZACt6OsVXrynz9NH/HslDy3uZtnPqtX9eyz66yyKV8s2ek2O7k/rdhwW9pD2ecMpRq5/kRLwvT1t2+h3F7Wz3dvWnRp6PqcHqL8vaM5OW/N+1EYJXXWfFOScObdgtE578w/xOTYMHTRdSPFAptsYpoeAEA2ZVhtx+6T6QAA8pkj6i9ta6/SyAixwC7JTjEAAHCCRR4AgO6Kpii3ziyvuve9eAAAyuXmOht00kAOXUNhfaSztUtRePeXCwEAKI+PzZHyHC3bz8Tr8qqHAEURHqtLaKvWBwdnRJkJNuk79Zetk5XZsU2R84Y1AwBEzkuvatpQkqlePKJRf7g2ZchT0xgNjv7k7XbzTzy/f+bo1dP3K7LUnZp9VaqL9yuHq5rZAh7FFvCcbBHXYWvtEuhPaFSKEVGNHDHfCwAgzwhvurRf01md1KG3yQse3z4XAABomsUW8xmd5QJg6KI+xQIAAHaQwPub30IDhN055aj8phGa/qpqIArJjq0Z9vzsEz2vLTV68em//DB39Me3bxWEit0n/7wl1+vxkQSPpMd+dedW/f7qSP3hunjNnrPp475csSssN1lf+1GBWLu/SgU0zZJnqc3+HE9fIvkcN1cmsOlPaFSKLHXnpftZXLbvwtcsFk15KdZv6ZemgSUIFZlnfH/n9r6s91rh3QvouvmsDpHlaFUoAEBnfkWiMDlCd7m2wtSoTsrqEFqKqpUAAJ4uO4dye1lBw2I0pv2laZTHQwAA2CpbpF6bPaAnA8rxCa3m0pZ4R2sXHwDApbfyupvMIoJDevnyILdd0ymwVurVAABus53tMTm5kfMzWob+beYxp84S0tOPYlx8TfV7edNCJ4XOfGkAAAtRSURBVCVW+2ss/YFFsqhJ79+yX3u4Pqnq65OJv+U9YWPUWuOp1liPzUW6THaO6Ywu5tI28qGhnd5uD78tvy4U4JfTDYaS1uC+rv9qAvqHG/UvdrCo07i7eGjrp3tzuUqZOWx57rnOwxXpvbUleBwq6rF5B9vWHsxp+3QfG0i2N/HNe3aF3pFb6W63iGoe/OhWmqZZZBDfEffPO/YzPRYmBY+I6oxZMrK45KnNc4GmWUAQVMojk47w1TJjwdLPbuNIBd1BMXI9AIDb4uSW/e2HmbTXRwIARC/LOtbTj3rR8NrW3eWjoxdn1vlrLP2FIxV6c95bsK/gkW1zE5cNL71a+/DxsUbdmPr6g7evX8wRcRyiaEn7pW3YAh414u9TD1S8V5BT/t5RLk3RrOiZKeXKrEhG/0q44rRco1F9zFQh6MbMLr2P0eM5zmtFjS99P3vIF09sYvTA/SBMMjhPHzdtPBnXUdgYO/KdxXn+qkHE8fjr0APa9pwPH7zcPpzpIjQInV61I8dSqVNn/HPeXn/Xgq4Nhi66LoJ4lS0QZrmDVea/bjnq7xrQ9cELaQghxCAMXYQQYhCGLkIIMQhDFyGEGIShixBCDMLQRQghBmHoIoQQgzB0EUKIQRi6CCHEIAxdhBBiEIYuQggxCEMXIYQYhKGLEEIMwtBFCCEGYegihBCDMHQRQohBuIh5gMgfudbfJQx6++wR/i5hUPjH6fn+LmFQw5nuZaxd2x17/JhL5u86EEKB5XcRul43dcUHcPZm/35n7JkzbsYfz4wQCmwBcXrh6T93jvw5z5UkFrMcISFk95AhbMOxQndMfAJpPHfOq5o6lVc3ZQq/7eWXLeOcTpojFrOcH30ky09M5Nhfe82SunOnc4jXS5Ph4WTXN1/L844cdYWUlHhizp3zqj5f6xj56cfSAxmZPIu/x4kQGvwGfeju3+9SFhxxxxUcVm52OYGYNt2waMgQtgEAwOMBsrAwdKvTCcRNM9rnrf9W/mNUNNv5n4+6E55/3jL6u+9CDq1YEdTw179KqgAAHv+jafS/37GmrF4tPfv11/amqVO4TQ88KG7w7wgRQoFk0Ifu0aPO8HHjuI1BIsIXJALf6NHcpp59CxcK6gEASktd0tY2n3zREtNcAACKolnBUsIOAFBc7Jbfsdw6uttOc10u4GRmgsY/I0EI/R4M+tC9EnEQ4QEAoGlgRUSQ5oKC0O2XtnnhBUvuBx/Ifpw0iWdas8aaXFzsxkvYCKF+M+gvpOXk8HVFx90x3TaKNJsodvFJd/SlbbJG8jqtVpq/Z48jFADA6QTiWKErGADA5aQ50dGk3ekEYt8+Z1LPe4RClsdqBS5zI0EI/R4M+tC96SaeYew4btOEiYbFCxca50RHkyaxmOW+uA1fANS778oOvPGGbWx2tn7xhAn6RYcOu8IAAO66W3Dylls6Fk6b1j5frSY7e95z60JB3frv7MPHjm1fdOa0S8L0uBBCgemKt1JpNKqPmSrkRphNFDtYTngtXRR71mzjLS+/LD08dSrP6O+6mCQY/L8//Q4/HPHb4Icjrq526d8fvNy+gDine//95kktGl+wx0OTM2bwa35vgYsQGjwCInQ3bwn52d81IITQb4F/kyKEEIMwdBFCiEEYugghxCAMXYQQYhCGLkIIMQhDFyGEGIShixBCDMLQRQghBmHoIoQQgzB0EUKIQRi6CCHEIAxddMNU8a0r/V3DQNR4zi56bNLpJf7of/P7muTWBqewv46Nrh+GLkIB6MQec4q+EUN3IAqIVcbQwOClAe5/2JR9ssQVDcCi71sZdOpPD4vr595qmLZooaB25QpRMwDAwmXG3GlTeU0PrhQ1PvBH85iycneE1wPkogWCs6tXSSv9PY6+RPmA9dKdVVN1jU6FMpJrfuazlLySg+bQre+1jvP5gBWRwDc88VFSgUBAUA9mn1r+8rb0rcoIjrM0r1Ox4Y2WcW/sHbazXePiv/1w7TRbp1cYlSTQN1TYo17enr4VAICigPX6yppJLbX2MHEwu/v59Wk/5m1qj9a3uJSf/71x2pcclve1XcO2C0WEz9/fixvhbGwVtb327ez4/z67CQCg/bMdGT6Xh8MW8V3Wwoo0FkFQ7FCZWf3i/T95bDa2/t+bcjztnXKgfIT05nEn5bNzmq52DKbgTBf1mY8/t8bV1XsUpcfCN2/brNz9/ofW7Jo6j/DmmwX1O3Y54wEAbE6KOFPhjlyxPKj5X29ZUsUSlrv0aPi2wkOhW3/Y5Rhyutwj9vc4+lKnwSObcUfo2Q+PZG7kCUn3+teah637V/OUR9ckHHz/8PDNlI8mNr2tGXqlPta93JyVNELc+kFB5qYxs+TnbZ1eUc++LqNHOvue8LMfFGRu4gtJ9/6vdPFz7wlvCFPzDPe+HPvTe/nDtwz2wL0SS96pzNh3ntgc959nNof/aWkBAIDx8z0j+GmxbXHvP7kt6qX7d3ZuKxjrsdkGzAQTQxf1maIid/icmYI6DptFJ8aQjqFpHO2hIy7l8tuELRVn3RE2B0V8u8GuTkvlaKUiwnfsmDvqwAFn8vBs3aKc3PaFNhvNK69wSf09jr4kkpG2sbPlegCACfMVtbWnuyOlCo41aaSoCwBg4kJFdV2ZTXWlPhqr7OFTb1PWAwBMXarU8ASEq2efRM62ZkyUdAAARKcIDYY2l+hy/QQitlJman3ly2nGLXlJwCUpAABnbYvacqA4s+HRNxdpnv9kHu31kZ5m44D5vgyY9EeBSxpE+IamcbTffW9X79zlSJh/s6AeAIAGgFXPio+uuF0UwI+9//UTsfhCwu2w+fi9tSQIoGgvBQAAbgf1m/5vkmzWhVksiwDa5w3MiRSLJGig6QvfTMrrJQEA1K8+tNdSWK6yF1fGtPz5wxGxH/55EwAN4U8u3S9Mie3yX8WXF5D/QMg/xmbztPv2OxI8XprVoPHxz1Z6VVMmC9oBAObPE9Rv2mJPqazyqG5fJmwBABg/jqv5+lt7mtNJEwAARaUuqanLF1ATAVunV3TigDkUAODoDmOiOllosHR4RLVldgkAwJEfOpKTMkVtAADSEI61vNCiBAA4tscU19NHdIpQl7/REA8AkL/ZEOVyULyrHZcrID12qy9gnmbNCVc4KIeL72o38yiHi3Cea4wBGlhujT5INmlEW/jjS4pol4frs3Rz+EnRLebth9Mp6pdfYLbT1SF+Lv9XAuoHHPnXA/eKGotPusNGjtMtBmDRjz0iKkqMIx0AAMuXBGlW/9MyZfQobqOIT1AAAKv+Iq18VGMSjZ6ovxWAZonFhGPr94r9/h1F35IpOZ37v9IP/erFplxFBNe8/K/qwpRRIv2HT9TO6LmQtvjJqHMAAPMfjij55pXmyTs/0Xri0oVtPX3c9Vx0yZpHaqc/Nul0clSiUC8UkXZRMOnu7vRc9v/vuHny6u9eb5m48W1NQFxIIzgcSjotq7R11X8XkiKhnR0i6wSfj6V/Z9NUyuXm0jSwRDnpFRy51K28f16p/p2N45sefWsxTQOLLRNZRZkp+/w9hh4B8TRghE8D7gsD9WnADgdFcDhAs9kEfeKAOXTdK80T38sfvsVf9eDTgK8u4J8GjFAg01Q5RR8+VTuDooBFslm+u1+IOezvmtD1w9BFaIBLGiG0vJPnv5kt6lv4NylCCDEIQxchhBiEoYsQQgzC0EUIIQZh6CKEEIMwdBFCiEEYugghxCAMXYQQYhCGLkIIMQhDFyGEGIShixBCDMLQRQghBmHoIoQQgzB0EUKIQRi6CCHEIAxdhBBiEIYuQggxCEMXIYQYhKGLEEIMwtBFCCEGYegihBBCCCGEEEIIIYQQQgghhBBCCCGEEEIIIdT3/g9uFqh3JpSKtAAAAABJRU5ErkJggg==)"
      ],
      "metadata": {
        "id": "TiYtLfB2WnhE"
      }
    },
    {
      "cell_type": "markdown",
      "source": [
        "#### 통계적 트리밍(Trimming)"
      ],
      "metadata": {
        "id": "9Ja4-QtDcPB1"
      }
    },
    {
      "cell_type": "markdown",
      "source": [
        "- 불용어를 제거하는 대신 통계적인 방법을 통해 너무 많거나, 적은 토큰을 제거하는 방법"
      ],
      "metadata": {
        "id": "exLBarugcdTi"
      }
    },
    {
      "cell_type": "code",
      "source": [
        "wc = wc[wc['word_in_docs_percent'] >= 0.01] # 1%이상의 문서에 나타나는 단어만 사용"
      ],
      "metadata": {
        "id": "To_ZhsFTdeb6"
      },
      "execution_count": null,
      "outputs": []
    },
    {
      "cell_type": "markdown",
      "source": [
        "#### 어간추출(Stemming)과 표제어 추출(Lemmatization)\n"
      ],
      "metadata": {
        "id": "22PClptgd56L"
      }
    },
    {
      "cell_type": "markdown",
      "source": [
        "##### 어간추출"
      ],
      "metadata": {
        "id": "YDrv5BBDf4I4"
      }
    },
    {
      "cell_type": "markdown",
      "source": [
        "- 단어의 뒷부분을 제거 (알고리즘 종류 : Porter, Snowball, Dawson 등)\n",
        "- Spacy는 어간추출을 제공하지 않아서 nltk이용\n",
        "- 알고리즘 : https://www.semanticscholar.org/paper/A-Comparative-Study-of-Stemming-Algorithms-Ms-.-Jivani/1c0c0fa35d4ff8a2f925eb955e48d655494bd167?p2df"
      ],
      "metadata": {
        "id": "7wSMy7AFeDqB"
      }
    },
    {
      "cell_type": "code",
      "source": [
        "# 어간추출 예시\n",
        "from nltk.stem import PorterStemmer\n",
        "\n",
        "ps = PorterStemmer()\n",
        "\n",
        "words = [\"wolf\", \"wolves\"]\n",
        "\n",
        "for word in words:\n",
        "    print(ps.stem(word))"
      ],
      "metadata": {
        "colab": {
          "base_uri": "https://localhost:8080/"
        },
        "id": "CJZ714nCehuA",
        "outputId": "b7b5e8b0-76fd-4b6c-c3f9-935ba9d0e386"
      },
      "execution_count": 3,
      "outputs": [
        {
          "output_type": "stream",
          "name": "stdout",
          "text": [
            "wolf\n",
            "wolv\n"
          ]
        }
      ]
    },
    {
      "cell_type": "code",
      "source": [
        "# 전처리된 df['tokens']를 입력받아서 어간추출\n",
        "from nltk.stem import PorterStemmer\n",
        "\n",
        "ps = PorterStemmer()\n",
        "\n",
        "tokens = []\n",
        "for doc in df['tokens']:\n",
        "    doc_tokens = []\n",
        "    for token in doc:\n",
        "        doc_tokens.append(ps.stem(token))\n",
        "    tokens.append(doc_tokens)\n",
        "\n",
        "df['stems'] = tokens\n",
        "\n",
        "# 시각화\n",
        "# wc = word_count(df['stems'])\n",
        "\n",
        "# wc_top20 = wc[wc['rank'] <= 20]\n",
        "\n",
        "# squarify.plot(sizes=wc_top20['percent'], label=wc_top20['word'], alpha=0.6 )\n",
        "# plt.axis('off')\n",
        "# plt.show()"
      ],
      "metadata": {
        "id": "thYWO7TlfMG5"
      },
      "execution_count": null,
      "outputs": []
    },
    {
      "cell_type": "markdown",
      "source": [
        "##### 표제어추출"
      ],
      "metadata": {
        "id": "iBOXqAcggFRC"
      }
    },
    {
      "cell_type": "markdown",
      "source": [
        "- 기본 사전형 단어 형태 Lemma(표제어)로 변환\n",
        "- 명사는 단수형, 동사는 동사원형으로 변환\n",
        "- Spacy가 제공됨, 연산에 많은 시간이 필요함"
      ],
      "metadata": {
        "id": "a1wLS7xWgKJ9"
      }
    },
    {
      "cell_type": "code",
      "source": [
        "# 표제어추출 예시\n",
        "lem = \"The social wolf. Wolves are complex.\"\n",
        "\n",
        "nlp = spacy.load(\"en_core_web_sm\") # 자연어처리호출\n",
        "\n",
        "doc = nlp(lem)                     # 자연어처리(문장)\n",
        "\n",
        "# wolf, wolve가 어떤 Lemma로 추출되는지 확인해 보세요\n",
        "for token in doc:\n",
        "    print(token.text, \"  \", token.lemma_)"
      ],
      "metadata": {
        "colab": {
          "base_uri": "https://localhost:8080/"
        },
        "id": "_B6G4FDhgYZ9",
        "outputId": "7990126a-3189-48dc-afa9-3a1e2e11646a"
      },
      "execution_count": 7,
      "outputs": [
        {
          "output_type": "stream",
          "name": "stdout",
          "text": [
            "The    the\n",
            "social    social\n",
            "wolf    wolf\n",
            ".    .\n",
            "Wolves    wolf\n",
            "are    be\n",
            "complex    complex\n",
            ".    .\n"
          ]
        }
      ]
    },
    {
      "cell_type": "code",
      "source": [
        "# 불용어, 구두점, 대명사가 아니면 표제어추출\n",
        "def get_lemmas(text):\n",
        "\n",
        "    lemmas = []\n",
        "    \n",
        "    doc = nlp(text)\n",
        "\n",
        "    for token in doc: \n",
        "        if ((token.is_stop == False) and (token.is_punct == False)) and (token.pos_ != 'PRON'):\n",
        "            lemmas.append(token.lemma_)\n",
        "    \n",
        "    return lemmas"
      ],
      "metadata": {
        "id": "in6KtqNZhmwe"
      },
      "execution_count": null,
      "outputs": []
    },
    {
      "cell_type": "code",
      "source": [
        "# 표제어 추출 시각화\n",
        "df['lemmas'] = df['reviews.text'].apply(get_lemmas)\n",
        "\n",
        "wc = word_count(df['lemmas'])\n",
        "wc_top20 = wc[wc['rank'] <= 20]\n",
        "\n",
        "squarify.plot(sizes=wc_top20['percent'], label=wc_top20['word'], alpha=0.6 )\n",
        "plt.axis('off')\n",
        "plt.show()"
      ],
      "metadata": {
        "id": "IZ62epL3h1Ee"
      },
      "execution_count": null,
      "outputs": []
    },
    {
      "cell_type": "markdown",
      "source": [
        "### 등장횟수기반의 단어 표현(Cout-based Representation)"
      ],
      "metadata": {
        "id": "3dLESTKuexSi"
      }
    },
    {
      "cell_type": "markdown",
      "source": [
        "- 벡터화(Vectorize) : 자연어를 컴퓨터가 이해할 수 있는 벡터로 만드는 작업\n",
        "- 문서-단어행렬(Document-Term Matrix, DTM) : 행에는 문서이름, 열에는 단어(Term)이 있는 행렬"
      ],
      "metadata": {
        "id": "1n8kX-zVjw41"
      }
    },
    {
      "cell_type": "markdown",
      "source": [
        "#### CountVectorizer"
      ],
      "metadata": {
        "id": "lKPqcUnaku-E"
      }
    },
    {
      "cell_type": "markdown",
      "source": [
        "##### Bag-of-Words(BoW) : TF(Term Frequency)"
      ],
      "metadata": {
        "id": "QutcKL2ltskO"
      }
    },
    {
      "cell_type": "code",
      "source": [
        "import pandas as pd\n",
        "import spacy\n",
        "from sklearn.feature_extraction.text import CountVectorizer\n",
        "\n",
        "nlp = spacy.load(\"en_core_web_sm\")"
      ],
      "metadata": {
        "id": "Lw7V1VxoksOT"
      },
      "execution_count": 8,
      "outputs": []
    },
    {
      "cell_type": "code",
      "source": [
        "text = \"\"\"In information retrieval, tf–idf or TFIDF, short for term frequency–inverse document frequency, is a numerical statistic that is intended to reflect how important a word is to a document in a collection or corpus.\n",
        "It is often used as a weighting factor in searches of information retrieval, text mining, and user modeling.\n",
        "The tf–idf value increases proportionally to the number of times a word appears in the document and is offset by the number of documents in the corpus that contain the word,\n",
        "which helps to adjust for the fact that some words appear more frequently in general.\n",
        "tf–idf is one of the most popular term-weighting schemes today.\n",
        "A survey conducted in 2015 showed that 83% of text-based recommender systems in digital libraries use tf–idf.\"\"\""
      ],
      "metadata": {
        "id": "kFWlPOLXkr7O"
      },
      "execution_count": 9,
      "outputs": []
    },
    {
      "cell_type": "code",
      "execution_count": 10,
      "metadata": {
        "colab": {
          "base_uri": "https://localhost:8080/"
        },
        "id": "Jh-MBoZEdLDo",
        "outputId": "b64b3b4f-e019-4ce8-a527-748fb3fea5da"
      },
      "outputs": [
        {
          "output_type": "stream",
          "name": "stdout",
          "text": [
            "['information', 'retrieval', 'tf', 'idf', 'tfidf', 'short', 'term', 'frequency', 'inverse', 'document', 'frequency', 'numerical', 'statistic', 'intend', 'reflect', 'important', 'word', 'document', 'collection', 'corpus', '\\n', 'weighting', 'factor', 'search', 'information', 'retrieval', 'text', 'mining', 'user', 'modeling', '\\n', 'tf', 'idf', 'value', 'increase', 'proportionally', 'number', 'time', 'word', 'appear', 'document', 'offset', 'number', 'document', 'corpus', 'contain', 'word', '\\n', 'help', 'adjust', 'fact', 'word', 'appear', 'frequently', 'general', '\\n', 'tf', 'idf', 'popular', 'term', 'weight', 'scheme', 'today', '\\n', 'survey', 'conduct', '2015', 'show', '83', 'text', 'base', 'recommender', 'system', 'digital', 'library', 'use', 'tf', 'idf']\n"
          ]
        }
      ],
      "source": [
        "# 위 text를 표제어추출 토큰화\n",
        "doc = nlp(text)\n",
        "print([token.lemma_ for token in doc if (token.is_stop != True) and (token.is_punct != True)])"
      ]
    },
    {
      "cell_type": "code",
      "source": [
        "# 문장으로 이루어진 리스트를 저장합니다.\n",
        "sentences_lst = text.split('\\n')\n",
        "\n",
        "# CountVectorizer를 변수에 저장합니다.\n",
        "vect = CountVectorizer()\n",
        "\n",
        "# 어휘 사전을 생성합니다.\n",
        "vect.fit(sentences_lst)\n",
        "\n",
        "# text를 DTM(document-term matrix)으로 변환(transform), tf값 계산\n",
        "dtm_count = vect.transform(sentences_lst)"
      ],
      "metadata": {
        "id": "2I3DNURrlKIp"
      },
      "execution_count": 11,
      "outputs": []
    },
    {
      "cell_type": "code",
      "source": [
        "# 모든 토큰의 인덱싱정보\n",
        "vect.vocabulary_"
      ],
      "metadata": {
        "colab": {
          "base_uri": "https://localhost:8080/"
        },
        "id": "MPCzz9S_l73T",
        "outputId": "fc56d878-a2bf-4fc2-cf8a-52c872c5a199"
      },
      "execution_count": 12,
      "outputs": [
        {
          "output_type": "execute_result",
          "data": {
            "text/plain": [
              "{'in': 26,\n",
              " 'information': 28,\n",
              " 'retrieval': 49,\n",
              " 'tf': 60,\n",
              " 'idf': 24,\n",
              " 'or': 44,\n",
              " 'tfidf': 61,\n",
              " 'short': 52,\n",
              " 'for': 18,\n",
              " 'term': 58,\n",
              " 'frequency': 19,\n",
              " 'inverse': 30,\n",
              " 'document': 14,\n",
              " 'is': 31,\n",
              " 'numerical': 39,\n",
              " 'statistic': 55,\n",
              " 'that': 62,\n",
              " 'intended': 29,\n",
              " 'to': 65,\n",
              " 'reflect': 48,\n",
              " 'how': 23,\n",
              " 'important': 25,\n",
              " 'word': 73,\n",
              " 'collection': 9,\n",
              " 'corpus': 12,\n",
              " 'it': 32,\n",
              " 'often': 42,\n",
              " 'used': 68,\n",
              " 'as': 6,\n",
              " 'weighting': 71,\n",
              " 'factor': 17,\n",
              " 'searches': 51,\n",
              " 'of': 40,\n",
              " 'text': 59,\n",
              " 'mining': 34,\n",
              " 'and': 3,\n",
              " 'user': 69,\n",
              " 'modeling': 35,\n",
              " 'the': 63,\n",
              " 'value': 70,\n",
              " 'increases': 27,\n",
              " 'proportionally': 46,\n",
              " 'number': 38,\n",
              " 'times': 64,\n",
              " 'appears': 5,\n",
              " 'offset': 41,\n",
              " 'by': 8,\n",
              " 'documents': 15,\n",
              " 'contain': 11,\n",
              " 'which': 72,\n",
              " 'helps': 22,\n",
              " 'adjust': 2,\n",
              " 'fact': 16,\n",
              " 'some': 54,\n",
              " 'words': 74,\n",
              " 'appear': 4,\n",
              " 'more': 36,\n",
              " 'frequently': 20,\n",
              " 'general': 21,\n",
              " 'one': 43,\n",
              " 'most': 37,\n",
              " 'popular': 45,\n",
              " 'schemes': 50,\n",
              " 'today': 66,\n",
              " 'survey': 56,\n",
              " 'conducted': 10,\n",
              " '2015': 0,\n",
              " 'showed': 53,\n",
              " '83': 1,\n",
              " 'based': 7,\n",
              " 'recommender': 47,\n",
              " 'systems': 57,\n",
              " 'digital': 13,\n",
              " 'libraries': 33,\n",
              " 'use': 67}"
            ]
          },
          "metadata": {},
          "execution_count": 12
        }
      ]
    },
    {
      "cell_type": "code",
      "source": [
        "# DTM의 배열확인(6개의 문서와 75개의 단어)\n",
        "dtm_count.shape"
      ],
      "metadata": {
        "colab": {
          "base_uri": "https://localhost:8080/"
        },
        "id": "it5GGBYumQS3",
        "outputId": "dc9ae3b1-40de-44c2-c2bb-90673a6e62df"
      },
      "execution_count": 13,
      "outputs": [
        {
          "output_type": "execute_result",
          "data": {
            "text/plain": [
              "(6, 75)"
            ]
          },
          "metadata": {},
          "execution_count": 13
        }
      ]
    },
    {
      "cell_type": "code",
      "source": [
        "# 특성 이름만 추출\n",
        "vect.get_feature_names()"
      ],
      "metadata": {
        "id": "rE-N1EnjmaWJ"
      },
      "execution_count": null,
      "outputs": []
    },
    {
      "cell_type": "code",
      "source": [
        "# (row, column) count형태\n",
        "print(dtm_count)"
      ],
      "metadata": {
        "colab": {
          "base_uri": "https://localhost:8080/"
        },
        "id": "P_qu5r9wmi6r",
        "outputId": "737a7e84-ae17-458f-bd99-79696d7b4635"
      },
      "execution_count": 17,
      "outputs": [
        {
          "output_type": "stream",
          "name": "stdout",
          "text": [
            "  (0, 9)\t1\n",
            "  (0, 12)\t1\n",
            "  (0, 14)\t2\n",
            "  (0, 18)\t1\n",
            "  (0, 19)\t2\n",
            "  (0, 23)\t1\n",
            "  (0, 24)\t1\n",
            "  (0, 25)\t1\n",
            "  (0, 26)\t2\n",
            "  (0, 28)\t1\n",
            "  (0, 29)\t1\n",
            "  (0, 30)\t1\n",
            "  (0, 31)\t3\n",
            "  (0, 39)\t1\n",
            "  (0, 44)\t2\n",
            "  (0, 48)\t1\n",
            "  (0, 49)\t1\n",
            "  (0, 52)\t1\n",
            "  (0, 55)\t1\n",
            "  (0, 58)\t1\n",
            "  (0, 60)\t1\n",
            "  (0, 61)\t1\n",
            "  (0, 62)\t1\n",
            "  (0, 65)\t2\n",
            "  (0, 73)\t1\n",
            "  :\t:\n",
            "  (4, 43)\t1\n",
            "  (4, 45)\t1\n",
            "  (4, 50)\t1\n",
            "  (4, 58)\t1\n",
            "  (4, 60)\t1\n",
            "  (4, 63)\t1\n",
            "  (4, 66)\t1\n",
            "  (4, 71)\t1\n",
            "  (5, 0)\t1\n",
            "  (5, 1)\t1\n",
            "  (5, 7)\t1\n",
            "  (5, 10)\t1\n",
            "  (5, 13)\t1\n",
            "  (5, 24)\t1\n",
            "  (5, 26)\t2\n",
            "  (5, 33)\t1\n",
            "  (5, 40)\t1\n",
            "  (5, 47)\t1\n",
            "  (5, 53)\t1\n",
            "  (5, 56)\t1\n",
            "  (5, 57)\t1\n",
            "  (5, 59)\t1\n",
            "  (5, 60)\t1\n",
            "  (5, 62)\t1\n",
            "  (5, 67)\t1\n"
          ]
        }
      ]
    },
    {
      "cell_type": "code",
      "source": [
        "# 빈도수만 매트릭스형태로 변경(numpy.matrix)\n",
        "dtm_count.todense()"
      ],
      "metadata": {
        "colab": {
          "base_uri": "https://localhost:8080/"
        },
        "id": "V8dM_QTonIHZ",
        "outputId": "a0e10910-0abb-46f0-c413-b66c6cc6549e"
      },
      "execution_count": 18,
      "outputs": [
        {
          "output_type": "execute_result",
          "data": {
            "text/plain": [
              "matrix([[0, 0, 0, 0, 0, 0, 0, 0, 0, 1, 0, 0, 1, 0, 2, 0, 0, 0, 1, 2, 0,\n",
              "         0, 0, 1, 1, 1, 2, 0, 1, 1, 1, 3, 0, 0, 0, 0, 0, 0, 0, 1, 0, 0,\n",
              "         0, 0, 2, 0, 0, 0, 1, 1, 0, 0, 1, 0, 0, 1, 0, 0, 1, 0, 1, 1, 1,\n",
              "         0, 0, 2, 0, 0, 0, 0, 0, 0, 0, 1, 0],\n",
              "        [0, 0, 0, 1, 0, 0, 1, 0, 0, 0, 0, 0, 0, 0, 0, 0, 0, 1, 0, 0, 0,\n",
              "         0, 0, 0, 0, 0, 1, 0, 1, 0, 0, 1, 1, 0, 1, 1, 0, 0, 0, 0, 1, 0,\n",
              "         1, 0, 0, 0, 0, 0, 0, 1, 0, 1, 0, 0, 0, 0, 0, 0, 0, 1, 0, 0, 0,\n",
              "         0, 0, 0, 0, 0, 1, 1, 0, 1, 0, 0, 0],\n",
              "        [0, 0, 0, 1, 0, 1, 0, 0, 1, 0, 0, 1, 1, 0, 1, 1, 0, 0, 0, 0, 0,\n",
              "         0, 0, 0, 1, 0, 2, 1, 0, 0, 0, 1, 0, 0, 0, 0, 0, 0, 2, 0, 2, 1,\n",
              "         0, 0, 0, 0, 1, 0, 0, 0, 0, 0, 0, 0, 0, 0, 0, 0, 0, 0, 1, 0, 1,\n",
              "         6, 1, 1, 0, 0, 0, 0, 1, 0, 0, 2, 0],\n",
              "        [0, 0, 1, 0, 1, 0, 0, 0, 0, 0, 0, 0, 0, 0, 0, 0, 1, 0, 1, 0, 1,\n",
              "         1, 1, 0, 0, 0, 1, 0, 0, 0, 0, 0, 0, 0, 0, 0, 1, 0, 0, 0, 0, 0,\n",
              "         0, 0, 0, 0, 0, 0, 0, 0, 0, 0, 0, 0, 1, 0, 0, 0, 0, 0, 0, 0, 1,\n",
              "         1, 0, 1, 0, 0, 0, 0, 0, 0, 1, 0, 1],\n",
              "        [0, 0, 0, 0, 0, 0, 0, 0, 0, 0, 0, 0, 0, 0, 0, 0, 0, 0, 0, 0, 0,\n",
              "         0, 0, 0, 1, 0, 0, 0, 0, 0, 0, 1, 0, 0, 0, 0, 0, 1, 0, 0, 1, 0,\n",
              "         0, 1, 0, 1, 0, 0, 0, 0, 1, 0, 0, 0, 0, 0, 0, 0, 1, 0, 1, 0, 0,\n",
              "         1, 0, 0, 1, 0, 0, 0, 0, 1, 0, 0, 0],\n",
              "        [1, 1, 0, 0, 0, 0, 0, 1, 0, 0, 1, 0, 0, 1, 0, 0, 0, 0, 0, 0, 0,\n",
              "         0, 0, 0, 1, 0, 2, 0, 0, 0, 0, 0, 0, 1, 0, 0, 0, 0, 0, 0, 1, 0,\n",
              "         0, 0, 0, 0, 0, 1, 0, 0, 0, 0, 0, 1, 0, 0, 1, 1, 0, 1, 1, 0, 1,\n",
              "         0, 0, 0, 0, 1, 0, 0, 0, 0, 0, 0, 0]])"
            ]
          },
          "metadata": {},
          "execution_count": 18
        }
      ]
    },
    {
      "cell_type": "code",
      "source": [
        "# 매트릭스 Dataframe형식으로 변경\n",
        "dtm_count = pd.DataFrame(dtm_count.todense(), columns=vect.get_feature_names())\n",
        "dtm_count"
      ],
      "metadata": {
        "colab": {
          "base_uri": "https://localhost:8080/",
          "height": 331
        },
        "id": "Ir6T1bO2njco",
        "outputId": "770a5d37-7b69-4cdb-9012-704f68692ff7"
      },
      "execution_count": 21,
      "outputs": [
        {
          "output_type": "execute_result",
          "data": {
            "text/plain": [
              "   2015  83  adjust  and  appear  appears  as  based  by  collection  ...  to  \\\n",
              "0     0   0       0    0       0        0   0      0   0           1  ...   2   \n",
              "1     0   0       0    1       0        0   1      0   0           0  ...   0   \n",
              "2     0   0       0    1       0        1   0      0   1           0  ...   1   \n",
              "3     0   0       1    0       1        0   0      0   0           0  ...   1   \n",
              "4     0   0       0    0       0        0   0      0   0           0  ...   0   \n",
              "5     1   1       0    0       0        0   0      1   0           0  ...   0   \n",
              "\n",
              "   today  use  used  user  value  weighting  which  word  words  \n",
              "0      0    0     0     0      0          0      0     1      0  \n",
              "1      0    0     1     1      0          1      0     0      0  \n",
              "2      0    0     0     0      1          0      0     2      0  \n",
              "3      0    0     0     0      0          0      1     0      1  \n",
              "4      1    0     0     0      0          1      0     0      0  \n",
              "5      0    1     0     0      0          0      0     0      0  \n",
              "\n",
              "[6 rows x 75 columns]"
            ],
            "text/html": [
              "\n",
              "  <div id=\"df-f3b41bc8-20b9-4106-8d25-a8903b87d5a5\">\n",
              "    <div class=\"colab-df-container\">\n",
              "      <div>\n",
              "<style scoped>\n",
              "    .dataframe tbody tr th:only-of-type {\n",
              "        vertical-align: middle;\n",
              "    }\n",
              "\n",
              "    .dataframe tbody tr th {\n",
              "        vertical-align: top;\n",
              "    }\n",
              "\n",
              "    .dataframe thead th {\n",
              "        text-align: right;\n",
              "    }\n",
              "</style>\n",
              "<table border=\"1\" class=\"dataframe\">\n",
              "  <thead>\n",
              "    <tr style=\"text-align: right;\">\n",
              "      <th></th>\n",
              "      <th>2015</th>\n",
              "      <th>83</th>\n",
              "      <th>adjust</th>\n",
              "      <th>and</th>\n",
              "      <th>appear</th>\n",
              "      <th>appears</th>\n",
              "      <th>as</th>\n",
              "      <th>based</th>\n",
              "      <th>by</th>\n",
              "      <th>collection</th>\n",
              "      <th>...</th>\n",
              "      <th>to</th>\n",
              "      <th>today</th>\n",
              "      <th>use</th>\n",
              "      <th>used</th>\n",
              "      <th>user</th>\n",
              "      <th>value</th>\n",
              "      <th>weighting</th>\n",
              "      <th>which</th>\n",
              "      <th>word</th>\n",
              "      <th>words</th>\n",
              "    </tr>\n",
              "  </thead>\n",
              "  <tbody>\n",
              "    <tr>\n",
              "      <th>0</th>\n",
              "      <td>0</td>\n",
              "      <td>0</td>\n",
              "      <td>0</td>\n",
              "      <td>0</td>\n",
              "      <td>0</td>\n",
              "      <td>0</td>\n",
              "      <td>0</td>\n",
              "      <td>0</td>\n",
              "      <td>0</td>\n",
              "      <td>1</td>\n",
              "      <td>...</td>\n",
              "      <td>2</td>\n",
              "      <td>0</td>\n",
              "      <td>0</td>\n",
              "      <td>0</td>\n",
              "      <td>0</td>\n",
              "      <td>0</td>\n",
              "      <td>0</td>\n",
              "      <td>0</td>\n",
              "      <td>1</td>\n",
              "      <td>0</td>\n",
              "    </tr>\n",
              "    <tr>\n",
              "      <th>1</th>\n",
              "      <td>0</td>\n",
              "      <td>0</td>\n",
              "      <td>0</td>\n",
              "      <td>1</td>\n",
              "      <td>0</td>\n",
              "      <td>0</td>\n",
              "      <td>1</td>\n",
              "      <td>0</td>\n",
              "      <td>0</td>\n",
              "      <td>0</td>\n",
              "      <td>...</td>\n",
              "      <td>0</td>\n",
              "      <td>0</td>\n",
              "      <td>0</td>\n",
              "      <td>1</td>\n",
              "      <td>1</td>\n",
              "      <td>0</td>\n",
              "      <td>1</td>\n",
              "      <td>0</td>\n",
              "      <td>0</td>\n",
              "      <td>0</td>\n",
              "    </tr>\n",
              "    <tr>\n",
              "      <th>2</th>\n",
              "      <td>0</td>\n",
              "      <td>0</td>\n",
              "      <td>0</td>\n",
              "      <td>1</td>\n",
              "      <td>0</td>\n",
              "      <td>1</td>\n",
              "      <td>0</td>\n",
              "      <td>0</td>\n",
              "      <td>1</td>\n",
              "      <td>0</td>\n",
              "      <td>...</td>\n",
              "      <td>1</td>\n",
              "      <td>0</td>\n",
              "      <td>0</td>\n",
              "      <td>0</td>\n",
              "      <td>0</td>\n",
              "      <td>1</td>\n",
              "      <td>0</td>\n",
              "      <td>0</td>\n",
              "      <td>2</td>\n",
              "      <td>0</td>\n",
              "    </tr>\n",
              "    <tr>\n",
              "      <th>3</th>\n",
              "      <td>0</td>\n",
              "      <td>0</td>\n",
              "      <td>1</td>\n",
              "      <td>0</td>\n",
              "      <td>1</td>\n",
              "      <td>0</td>\n",
              "      <td>0</td>\n",
              "      <td>0</td>\n",
              "      <td>0</td>\n",
              "      <td>0</td>\n",
              "      <td>...</td>\n",
              "      <td>1</td>\n",
              "      <td>0</td>\n",
              "      <td>0</td>\n",
              "      <td>0</td>\n",
              "      <td>0</td>\n",
              "      <td>0</td>\n",
              "      <td>0</td>\n",
              "      <td>1</td>\n",
              "      <td>0</td>\n",
              "      <td>1</td>\n",
              "    </tr>\n",
              "    <tr>\n",
              "      <th>4</th>\n",
              "      <td>0</td>\n",
              "      <td>0</td>\n",
              "      <td>0</td>\n",
              "      <td>0</td>\n",
              "      <td>0</td>\n",
              "      <td>0</td>\n",
              "      <td>0</td>\n",
              "      <td>0</td>\n",
              "      <td>0</td>\n",
              "      <td>0</td>\n",
              "      <td>...</td>\n",
              "      <td>0</td>\n",
              "      <td>1</td>\n",
              "      <td>0</td>\n",
              "      <td>0</td>\n",
              "      <td>0</td>\n",
              "      <td>0</td>\n",
              "      <td>1</td>\n",
              "      <td>0</td>\n",
              "      <td>0</td>\n",
              "      <td>0</td>\n",
              "    </tr>\n",
              "    <tr>\n",
              "      <th>5</th>\n",
              "      <td>1</td>\n",
              "      <td>1</td>\n",
              "      <td>0</td>\n",
              "      <td>0</td>\n",
              "      <td>0</td>\n",
              "      <td>0</td>\n",
              "      <td>0</td>\n",
              "      <td>1</td>\n",
              "      <td>0</td>\n",
              "      <td>0</td>\n",
              "      <td>...</td>\n",
              "      <td>0</td>\n",
              "      <td>0</td>\n",
              "      <td>1</td>\n",
              "      <td>0</td>\n",
              "      <td>0</td>\n",
              "      <td>0</td>\n",
              "      <td>0</td>\n",
              "      <td>0</td>\n",
              "      <td>0</td>\n",
              "      <td>0</td>\n",
              "    </tr>\n",
              "  </tbody>\n",
              "</table>\n",
              "<p>6 rows × 75 columns</p>\n",
              "</div>\n",
              "      <button class=\"colab-df-convert\" onclick=\"convertToInteractive('df-f3b41bc8-20b9-4106-8d25-a8903b87d5a5')\"\n",
              "              title=\"Convert this dataframe to an interactive table.\"\n",
              "              style=\"display:none;\">\n",
              "        \n",
              "  <svg xmlns=\"http://www.w3.org/2000/svg\" height=\"24px\"viewBox=\"0 0 24 24\"\n",
              "       width=\"24px\">\n",
              "    <path d=\"M0 0h24v24H0V0z\" fill=\"none\"/>\n",
              "    <path d=\"M18.56 5.44l.94 2.06.94-2.06 2.06-.94-2.06-.94-.94-2.06-.94 2.06-2.06.94zm-11 1L8.5 8.5l.94-2.06 2.06-.94-2.06-.94L8.5 2.5l-.94 2.06-2.06.94zm10 10l.94 2.06.94-2.06 2.06-.94-2.06-.94-.94-2.06-.94 2.06-2.06.94z\"/><path d=\"M17.41 7.96l-1.37-1.37c-.4-.4-.92-.59-1.43-.59-.52 0-1.04.2-1.43.59L10.3 9.45l-7.72 7.72c-.78.78-.78 2.05 0 2.83L4 21.41c.39.39.9.59 1.41.59.51 0 1.02-.2 1.41-.59l7.78-7.78 2.81-2.81c.8-.78.8-2.07 0-2.86zM5.41 20L4 18.59l7.72-7.72 1.47 1.35L5.41 20z\"/>\n",
              "  </svg>\n",
              "      </button>\n",
              "      \n",
              "  <style>\n",
              "    .colab-df-container {\n",
              "      display:flex;\n",
              "      flex-wrap:wrap;\n",
              "      gap: 12px;\n",
              "    }\n",
              "\n",
              "    .colab-df-convert {\n",
              "      background-color: #E8F0FE;\n",
              "      border: none;\n",
              "      border-radius: 50%;\n",
              "      cursor: pointer;\n",
              "      display: none;\n",
              "      fill: #1967D2;\n",
              "      height: 32px;\n",
              "      padding: 0 0 0 0;\n",
              "      width: 32px;\n",
              "    }\n",
              "\n",
              "    .colab-df-convert:hover {\n",
              "      background-color: #E2EBFA;\n",
              "      box-shadow: 0px 1px 2px rgba(60, 64, 67, 0.3), 0px 1px 3px 1px rgba(60, 64, 67, 0.15);\n",
              "      fill: #174EA6;\n",
              "    }\n",
              "\n",
              "    [theme=dark] .colab-df-convert {\n",
              "      background-color: #3B4455;\n",
              "      fill: #D2E3FC;\n",
              "    }\n",
              "\n",
              "    [theme=dark] .colab-df-convert:hover {\n",
              "      background-color: #434B5C;\n",
              "      box-shadow: 0px 1px 3px 1px rgba(0, 0, 0, 0.15);\n",
              "      filter: drop-shadow(0px 1px 2px rgba(0, 0, 0, 0.3));\n",
              "      fill: #FFFFFF;\n",
              "    }\n",
              "  </style>\n",
              "\n",
              "      <script>\n",
              "        const buttonEl =\n",
              "          document.querySelector('#df-f3b41bc8-20b9-4106-8d25-a8903b87d5a5 button.colab-df-convert');\n",
              "        buttonEl.style.display =\n",
              "          google.colab.kernel.accessAllowed ? 'block' : 'none';\n",
              "\n",
              "        async function convertToInteractive(key) {\n",
              "          const element = document.querySelector('#df-f3b41bc8-20b9-4106-8d25-a8903b87d5a5');\n",
              "          const dataTable =\n",
              "            await google.colab.kernel.invokeFunction('convertToInteractive',\n",
              "                                                     [key], {});\n",
              "          if (!dataTable) return;\n",
              "\n",
              "          const docLinkHtml = 'Like what you see? Visit the ' +\n",
              "            '<a target=\"_blank\" href=https://colab.research.google.com/notebooks/data_table.ipynb>data table notebook</a>'\n",
              "            + ' to learn more about interactive tables.';\n",
              "          element.innerHTML = '';\n",
              "          dataTable['output_type'] = 'display_data';\n",
              "          await google.colab.output.renderOutput(dataTable, element);\n",
              "          const docLink = document.createElement('div');\n",
              "          docLink.innerHTML = docLinkHtml;\n",
              "          element.appendChild(docLink);\n",
              "        }\n",
              "      </script>\n",
              "    </div>\n",
              "  </div>\n",
              "  "
            ]
          },
          "metadata": {},
          "execution_count": 21
        }
      ]
    },
    {
      "cell_type": "code",
      "source": [
        "# 위에 전처리 데이터 적용예시\n",
        "count_vect = CountVectorizer(stop_words='english', max_features=100) # tf 100개만\n",
        "\n",
        "# Fit 후 dtm을 만듭니다.(문서, 단어마다 tf-idf 값을 계산합니다)\n",
        "dtm_count_amazon = count_vect.fit_transform(df['reviews.text'])\n",
        "\n",
        "dtm_count_amazon = pd.DataFrame(dtm_count_amazon.todense(), columns=count_vect.get_feature_names())\n",
        "dtm_count_amazon"
      ],
      "metadata": {
        "id": "JnpKttDCoP9k"
      },
      "execution_count": null,
      "outputs": []
    },
    {
      "cell_type": "markdown",
      "source": [
        "##### Bag-of-Words : TF-IDF(Term Frequency - Inverse Document Frequency)"
      ],
      "metadata": {
        "id": "0gKLXkoZo0Em"
      }
    },
    {
      "cell_type": "markdown",
      "source": [
        "- 특정 문서에만 등장하는 단어에 가중치를 두는 방법\n",
        "- TF(w) = 특정 문서 내 단어 w의 수\n",
        "- IDF(w) = log(전체문서의 수 / w가 있는 문서의 수 +1)\n",
        "- TF-IDF(w) = TF(w) * IDF(w)"
      ],
      "metadata": {
        "id": "OIXMjVA1pB8L"
      }
    },
    {
      "cell_type": "code",
      "source": [
        "import pandas as pd\n",
        "from sklearn.feature_extraction.text import TfidfVectorizer\n",
        "\n",
        "# TF-IDF vectorizer. 테이블을 작게 만들기 위해 max_features=15로 제한하였습니다.\n",
        "tfidf = TfidfVectorizer(stop_words='english', max_features=15)\n",
        "\n",
        "# Fit 후 dtm을 만듭니다.(문서, 단어마다 tf-idf 값을 계산합니다)\n",
        "dtm_tfidf = tfidf.fit_transform(sentences_lst)\n",
        "\n",
        "dtm_tfidf = pd.DataFrame(dtm_tfidf.todense(), columns=tfidf.get_feature_names())\n",
        "dtm_tfidf"
      ],
      "metadata": {
        "id": "wvhz6_wpoFPl"
      },
      "execution_count": null,
      "outputs": []
    },
    {
      "cell_type": "markdown",
      "source": [
        "###### 파라미터 튜닝해서 사용하는법 TF-IDF"
      ],
      "metadata": {
        "id": "HgLH66B-qsvM"
      }
    },
    {
      "cell_type": "code",
      "source": [
        "# SpaCy 를 이용한 Tokenizing\n",
        "\n",
        "def tokenize(document):\n",
        "    doc = nlp(document)\n",
        "    return [token.lemma_.strip() for token in doc if (token.is_stop != True) and (token.is_punct != True) and (token.is_alpha == True)]"
      ],
      "metadata": {
        "id": "_ir00qZDqSht"
      },
      "execution_count": 22,
      "outputs": []
    },
    {
      "cell_type": "code",
      "source": [
        "\"\"\"\n",
        "    args:\n",
        "        ngram_range = (min_n, max_n), min_n 개~ max_n 개를 갖는 n-gram(n개의 연속적인 토큰)을 토큰으로 사용합니다.\n",
        "        min_df = n : int, 최소 n개의 문서에 나타나는 토큰만 사용합니다.\n",
        "        max_df = m : float(0~1), m * 100% 이상 문서에 나타나는 토큰은 제거합니다.\n",
        "    \"\"\"\n",
        "\n",
        "tfidf_tuned = TfidfVectorizer(stop_words='english'\n",
        "                        ,tokenizer=tokenize\n",
        "                        ,ngram_range=(1,2) # (min, max) min~ max개의 단어 묶음으로 토큰화(보통 1~5개가 적당)\n",
        "                        ,max_df=.7         # float, 퍼센트 이상의 문서에서 나타나는 단어는 제거\n",
        "                        ,min_df=3          # int, 최소 n개의 문서에서 나타나는 단어만 사용\n",
        "                       )\n",
        "\n",
        "dtm_tfidf_tuned = tfidf_tuned.fit_transform(df['reviews.text'])\n",
        "dtm_tfidf_tuned = pd.DataFrame(dtm_tfidf_tuned.todense(), columns=tfidf_tuned.get_feature_names())\n",
        "dtm_tfidf_tuned.head()"
      ],
      "metadata": {
        "id": "aY_KlQAUqUV3"
      },
      "execution_count": null,
      "outputs": []
    },
    {
      "cell_type": "markdown",
      "source": [
        "###### 유사도를 이용한 문서검색(NearestNeighbor (K-NN, K-최근접 이웃))"
      ],
      "metadata": {
        "id": "HPgClt2ut3NV"
      }
    },
    {
      "cell_type": "code",
      "source": [
        "from sklearn.neighbors import NearestNeighbors\n",
        "\n",
        "# dtm을 사용해 NN 모델에 학습, 본인포함 5개의 이웃을 찾도록 설정(DEFAULT)\n",
        "nn = NearestNeighbors(n_neighbors=5, algorithm='kd_tree')\n",
        "nn.fit(dtm_tfidf_amazon)"
      ],
      "metadata": {
        "id": "AY4Wl2HSq4or"
      },
      "execution_count": null,
      "outputs": []
    },
    {
      "cell_type": "code",
      "source": [
        "# 아마존데이터 2행데이터와 가까운 5개 찾기\n",
        "# [유클리디안거리], [인덱스] 형태로 나옴\n",
        "nn.kneighbors([dtm_tfidf_amazon.iloc[2]])"
      ],
      "metadata": {
        "id": "IVxOu3Lcui5H"
      },
      "execution_count": null,
      "outputs": []
    },
    {
      "cell_type": "markdown",
      "source": [
        "![1234.JPG](data:image/jpeg;base64,/9j/4AAQSkZJRgABAQEAYABgAAD/4RDaRXhpZgAATU0AKgAAAAgABAE7AAIAAAAFAAAISodpAAQAAAABAAAIUJydAAEAAAAKAAAQyOocAAcAAAgMAAAAPgAAAAAc6gAAAAgAAAAAAAAAAAAAAAAAAAAAAAAAAAAAAAAAAAAAAAAAAAAAAAAAAAAAAAAAAAAAAAAAAAAAAAAAAAAAAAAAAAAAAAAAAAAAAAAAAAAAAAAAAAAAAAAAAAAAAAAAAAAAAAAAAAAAAAAAAAAAAAAAAAAAAAAAAAAAAAAAAAAAAAAAAAAAAAAAAAAAAAAAAAAAAAAAAAAAAAAAAAAAAAAAAAAAAAAAAAAAAAAAAAAAAAAAAAAAAAAAAAAAAAAAAAAAAAAAAAAAAAAAAAAAAAAAAAAAAAAAAAAAAAAAAAAAAAAAAAAAAAAAAAAAAAAAAAAAAAAAAAAAAAAAAAAAAAAAAAAAAAAAAAAAAAAAAAAAAAAAAAAAAAAAAAAAAAAAAAAAAAAAAAAAAAAAAAAAAAAAAAAAAAAAAAAAAAAAAAAAAAAAAAAAAAAAAAAAAAAAAAAAAAAAAAAAAAAAAAAAAAAAAAAAAAAAAAAAAAAAAAAAAAAAAAAAAAAAAAAAAAAAAAAAAAAAAAAAAAAAAAAAAAAAAAAAAAAAAAAAAAAAAAAAAAAAAAAAAAAAAAAAAAAAAAAAAAAAAAAAAAAAAAAAAAAAAAAAAAAAAAAAAAAAAAAAAAAAAAAAAAAAAAAAAAAAAAAAAAAAAAAAAAAAAAAAAAAAAAAAAAAAAAAAAAAAAAAAAAAAAAAAAAAAAAAAAAAAAAAAAAAAAAAAAAAAAAAAAAAAAAAAAAAAAAAAAAAAAAAAAAAAAAAAAAAAAAAAAAAAAAAAAAAAAAAAAAAAAAAAAAAAAAAAAAAAAAAAAAAAAAAAAAAAAAAAAAAAAAAAAAAAAAAAAAAAAAAAAAAAAAAAAAAAAAAAAAAAAAAAAAAAAAAAAAAAAAAAAAAAAAAAAAAAAAAAAAAAAAAAAAAAAAAAAAAAAAAAAAAAAAAAAAAAAAAAAAAAAAAAAAAAAAAAAAAAAAAAAAAAAAAAAAAAAAAAAAAAAAAAAAAAAAAAAAAAAAAAAAAAAAAAAAAAAAAAAAAAAAAAAAAAAAAAAAAAAAAAAAAAAAAAAAAAAAAAAAAAAAAAAAAAAAAAAAAAAAAAAAAAAAAAAAAAAAAAAAAAAAAAAAAAAAAAAAAAAAAAAAAAAAAAAAAAAAAAAAAAAAAAAAAAAAAAAAAAAAAAAAAAAAAAAAAAAAAAAAAAAAAAAAAAAAAAAAAAAAAAAAAAAAAAAAAAAAAAAAAAAAAAAAAAAAAAAAAAAAAAAAAAAAAAAAAAAAAAAAAAAAAAAAAAAAAAAAAAAAAAAAAAAAAAAAAAAAAAAAAAAAAAAAAAAAAAAAAAAAAAAAAAAAAAAAAAAAAAAAAAAAAAAAAAAAAAAAAAAAAAAAAAAAAAAAAAAAAAAAAAAAAAAAAAAAAAAAAAAAAAAAAAAAAAAAAAAAAAAAAAAAAAAAAAAAAAAAAAAAAAAAAAAAAAAAAAAAAAAAAAAAAAAAAAAAAAAAAAAAAAAAAAAAAAAAAAAAAAAAAAAAAAAAAAAAAAAAAAAAAAAAAAAAAAAAAAAAAAAAAAAAAAAAAAAAAAAAAAAAAAAAAAAAAAAAAAAAAAAAAAAAAAAAAAAAAAAAAAAAAAAAAAAAAAAAAAAAAAAAAAAAAAAAAAAAAAAAAAAAAAAAAAAAAAAAAAAAAAAAAAAAAAAAAAAAAAAAAAAAAAAAAAAAAAAAAAAAAAAAAAAAAAAAAAAAAAAAAAAAAAAAAAAAAAAAAAAAAAAAAAAAAAAAAAAAAAAAAAAAAAAAAAAAAAAAAAAAAAAAAAAAAAAAAAAAAAAAAAAAAAAAAAAAAAAAAAAAAAAAAAAAAAAAAAAAAAAAAAAAAAAAAAAAAAAAAAAAAAAAAAAAAAAAAAAAAAAAAAAAAAAAAAAAAAAAAAAAAAAAAAAAAAAAAAAAAAAAAAAAAAAAAAAAAAAAAAAAAAAAAAAAAAAAAAAAAAAAAAAAAAAAAAAAAAAAAAAAAAAAAAAAAAAAAAAAAAAAAAAAAAAAAAAAAAAAAAAAAAAAAAAAAAAAAAAAAAAAAAAAAAAAAAAAAAAAAAAAAAAAAAAAAAAAAAAAAAAAAAAAAAAAAAAAAAAAAAAAAAAAAAAAAAAAAAAAAAAAAAAAAAAAAAAAAAAAAAAAAAAAAAAAAAAAAAAAAAAAAAAAAAAAAAAAAAAAAAAAAAAAAAAAAAAAAAAAAAAAAAAAAAAAAAAAAAAAAAAAAAAAAAAAAAAAAAAAAAAAAAAAAAAAAAAAAAAAAAAAAAAAAAAAAAAAAAAAAAAAAAAAAAAAAAAAAAAAAAAAAAAAAAAAAAAAAAAAAAAAAAAAAAAAAAAAAAAAAAAAAAAAAAAAAAAAAAAAAAAAAAAAAAAAAAAAAAAAAAAAAAAAAAAAAAAAAAAAAAAAAAAAAAAAAAAAAAAAAAAAAAAAAAAAAAAAAAAAAAAAAAAAAAAAAAAAAAAAAAAAAAAAAAAAAAAAAAAAAAAAAAAAAAAAAAAAAAAAAAAAAAAAAAAAAAAAAAAAAAAAAAAAAAAAAAAAAAAAAAAAAAAAAAAAAAAAAAAAAAAAAAAAAAAAAAAAAAAAAAAAAAAAAAAAAAAAAAAAAAAAAAAAAAAAAAAAAAAAAAAAAAAAAAAAAAAAAAAAAAAAAAAAAAAAAAAAAAAAAAAAAAAAAAAAAAAAAAAAAAAAAAAAAAAAAAAAAAAAAAAAAAAAAAAAAAAAAAAAAAAAAAAAAAAAAAAAAAAAAAAAAAAAAAAGVudnkAAAAFkAMAAgAAABQAABCekAQAAgAAABQAABCykpEAAgAAAAM5OQAAkpIAAgAAAAM5OQAA6hwABwAACAwAAAiSAAAAABzqAAAACAAAAAAAAAAAAAAAAAAAAAAAAAAAAAAAAAAAAAAAAAAAAAAAAAAAAAAAAAAAAAAAAAAAAAAAAAAAAAAAAAAAAAAAAAAAAAAAAAAAAAAAAAAAAAAAAAAAAAAAAAAAAAAAAAAAAAAAAAAAAAAAAAAAAAAAAAAAAAAAAAAAAAAAAAAAAAAAAAAAAAAAAAAAAAAAAAAAAAAAAAAAAAAAAAAAAAAAAAAAAAAAAAAAAAAAAAAAAAAAAAAAAAAAAAAAAAAAAAAAAAAAAAAAAAAAAAAAAAAAAAAAAAAAAAAAAAAAAAAAAAAAAAAAAAAAAAAAAAAAAAAAAAAAAAAAAAAAAAAAAAAAAAAAAAAAAAAAAAAAAAAAAAAAAAAAAAAAAAAAAAAAAAAAAAAAAAAAAAAAAAAAAAAAAAAAAAAAAAAAAAAAAAAAAAAAAAAAAAAAAAAAAAAAAAAAAAAAAAAAAAAAAAAAAAAAAAAAAAAAAAAAAAAAAAAAAAAAAAAAAAAAAAAAAAAAAAAAAAAAAAAAAAAAAAAAAAAAAAAAAAAAAAAAAAAAAAAAAAAAAAAAAAAAAAAAAAAAAAAAAAAAAAAAAAAAAAAAAAAAAAAAAAAAAAAAAAAAAAAAAAAAAAAAAAAAAAAAAAAAAAAAAAAAAAAAAAAAAAAAAAAAAAAAAAAAAAAAAAAAAAAAAAAAAAAAAAAAAAAAAAAAAAAAAAAAAAAAAAAAAAAAAAAAAAAAAAAAAAAAAAAAAAAAAAAAAAAAAAAAAAAAAAAAAAAAAAAAAAAAAAAAAAAAAAAAAAAAAAAAAAAAAAAAAAAAAAAAAAAAAAAAAAAAAAAAAAAAAAAAAAAAAAAAAAAAAAAAAAAAAAAAAAAAAAAAAAAAAAAAAAAAAAAAAAAAAAAAAAAAAAAAAAAAAAAAAAAAAAAAAAAAAAAAAAAAAAAAAAAAAAAAAAAAAAAAAAAAAAAAAAAAAAAAAAAAAAAAAAAAAAAAAAAAAAAAAAAAAAAAAAAAAAAAAAAAAAAAAAAAAAAAAAAAAAAAAAAAAAAAAAAAAAAAAAAAAAAAAAAAAAAAAAAAAAAAAAAAAAAAAAAAAAAAAAAAAAAAAAAAAAAAAAAAAAAAAAAAAAAAAAAAAAAAAAAAAAAAAAAAAAAAAAAAAAAAAAAAAAAAAAAAAAAAAAAAAAAAAAAAAAAAAAAAAAAAAAAAAAAAAAAAAAAAAAAAAAAAAAAAAAAAAAAAAAAAAAAAAAAAAAAAAAAAAAAAAAAAAAAAAAAAAAAAAAAAAAAAAAAAAAAAAAAAAAAAAAAAAAAAAAAAAAAAAAAAAAAAAAAAAAAAAAAAAAAAAAAAAAAAAAAAAAAAAAAAAAAAAAAAAAAAAAAAAAAAAAAAAAAAAAAAAAAAAAAAAAAAAAAAAAAAAAAAAAAAAAAAAAAAAAAAAAAAAAAAAAAAAAAAAAAAAAAAAAAAAAAAAAAAAAAAAAAAAAAAAAAAAAAAAAAAAAAAAAAAAAAAAAAAAAAAAAAAAAAAAAAAAAAAAAAAAAAAAAAAAAAAAAAAAAAAAAAAAAAAAAAAAAAAAAAAAAAAAAAAAAAAAAAAAAAAAAAAAAAAAAAAAAAAAAAAAAAAAAAAAAAAAAAAAAAAAAAAAAAAAAAAAAAAAAAAAAAAAAAAAAAAAAAAAAAAAAAAAAAAAAAAAAAAAAAAAAAAAAAAAAAAAAAAAAAAAAAAAAAAAAAAAAAAAAAAAAAAAAAAAAAAAAAAAAAAAAAAAAAAAAAAAAAAAAAAAAAAAAAAAAAAAAAAAAAAAAAAAAAAAAAAAAAAAAAAAAAAAAAAAAAAAAAAAAAAAAAAAAAAAAAAAAAAAAAAAAAAAAAAAAAAAAAAAAAAAAAAAAAAAAAAAAAAAAAAAAAAAAAAAAAAAAAAAAAAAAAAAAAAAAAAAAAAAAAAAAAAAAAAAAAAAAAAAAAAAAAAAAAAAAAAAAAAAAAAAAAAAAAAAAAAAAAAAAAAAAAAAAAAAAAAAAAAAAAAAAAAAAAAAAAAAAAAAAAAAAAAAAAAAAAAAAAAAAAAAAAAAAAAAAAAAAAAAAAAAAAAAAAAAAAAAAAAAAAAAAAAAAAAAAAAAAAAAAAAAAAAAAAAAAAAAAAAAAAAAAAAAAAAAAAAAAAAAAAAAAAAAAAAAAAAAAAAAAAAAAAAAAAAAAAAAAAAAAAAAAAAAAAAAAAAAAAAAAAAAAAAAAAAAAAAAAAAAAAAAAAAAAAAAAAAAAAAAAAAAAAAAAAAAAAAAAAAAAAAAAAAAAAAAAAAAAAAAAAAAAAAAAAAAAAAAAAAAAAAAAAAAAAAAAAAAAAAAAAAAAAAAAAAAAAAAAAAAAAAAAAAAAAAAAAAAAAAAAAAAAAAAAAAAAAAAAAAAAAAAAAAAAAAAAAAAAAAAAAAAAAAAAAAAAAAAAAAAAAAAAAAAAAAAAAAAAAAAAAAAAAAAAAAAAAAAAAAAAAAAAAAAAAAAAAAAAAAAAAAAAAAAAAAAAAAAAAAAAAAAAAAAAAAAAAAAAAAAAAAAAAAAAAAAAAAAAAAAAAAAAAAAAAAAAAAAAAAAAAAAAAAAAAAAAAAAAAAAAAAAAAAAAAAAAAAAAAAAAAAAAAAAAAAAAAAAAAAAAAAAAAAAAAAAAAAAAAAAAAAAAAAAAAAAAAAAAAAAAAAAAAAAAAAAAAAAAAAAAAAAAAAAAAAAAAAAAAAAAAAAAAAAAAAAAAAAAAAAAAAAAAAAAAAAAAAAAAAMjAyMjoxMToxNiAyMjo1Nzo0MQAyMDIyOjExOjE2IDIyOjU3OjQxAAAAZQBuAHYAeQAAAP/hCxdodHRwOi8vbnMuYWRvYmUuY29tL3hhcC8xLjAvADw/eHBhY2tldCBiZWdpbj0n77u/JyBpZD0nVzVNME1wQ2VoaUh6cmVTek5UY3prYzlkJz8+DQo8eDp4bXBtZXRhIHhtbG5zOng9ImFkb2JlOm5zOm1ldGEvIj48cmRmOlJERiB4bWxuczpyZGY9Imh0dHA6Ly93d3cudzMub3JnLzE5OTkvMDIvMjItcmRmLXN5bnRheC1ucyMiPjxyZGY6RGVzY3JpcHRpb24gcmRmOmFib3V0PSJ1dWlkOmZhZjViZGQ1LWJhM2QtMTFkYS1hZDMxLWQzM2Q3NTE4MmYxYiIgeG1sbnM6ZGM9Imh0dHA6Ly9wdXJsLm9yZy9kYy9lbGVtZW50cy8xLjEvIi8+PHJkZjpEZXNjcmlwdGlvbiByZGY6YWJvdXQ9InV1aWQ6ZmFmNWJkZDUtYmEzZC0xMWRhLWFkMzEtZDMzZDc1MTgyZjFiIiB4bWxuczp4bXA9Imh0dHA6Ly9ucy5hZG9iZS5jb20veGFwLzEuMC8iPjx4bXA6Q3JlYXRlRGF0ZT4yMDIyLTExLTE2VDIyOjU3OjQxLjk5MDwveG1wOkNyZWF0ZURhdGU+PC9yZGY6RGVzY3JpcHRpb24+PHJkZjpEZXNjcmlwdGlvbiByZGY6YWJvdXQ9InV1aWQ6ZmFmNWJkZDUtYmEzZC0xMWRhLWFkMzEtZDMzZDc1MTgyZjFiIiB4bWxuczpkYz0iaHR0cDovL3B1cmwub3JnL2RjL2VsZW1lbnRzLzEuMS8iPjxkYzpjcmVhdG9yPjxyZGY6U2VxIHhtbG5zOnJkZj0iaHR0cDovL3d3dy53My5vcmcvMTk5OS8wMi8yMi1yZGYtc3ludGF4LW5zIyI+PHJkZjpsaT5lbnZ5PC9yZGY6bGk+PC9yZGY6U2VxPg0KCQkJPC9kYzpjcmVhdG9yPjwvcmRmOkRlc2NyaXB0aW9uPjwvcmRmOlJERj48L3g6eG1wbWV0YT4NCiAgICAgICAgICAgICAgICAgICAgICAgICAgICAgICAgICAgICAgICAgICAgICAgICAgICAgICAgICAgICAgICAgICAgICAgICAgICAgICAgICAgICAgICAgICAgICAgICAgICAKICAgICAgICAgICAgICAgICAgICAgICAgICAgICAgICAgICAgICAgICAgICAgICAgICAgICAgICAgICAgICAgICAgICAgICAgICAgICAgICAgICAgICAgICAgICAgICAgICAgIAogICAgICAgICAgICAgICAgICAgICAgICAgICAgICAgICAgICAgICAgICAgICAgICAgICAgICAgICAgICAgICAgICAgICAgICAgICAgICAgICAgICAgICAgICAgICAgICAgICAgCiAgICAgICAgICAgICAgICAgICAgICAgICAgICAgICAgICAgICAgICAgICAgICAgICAgICAgICAgICAgICAgICAgICAgICAgICAgICAgICAgICAgICAgICAgICAgICAgICAgICAKICAgICAgICAgICAgICAgICAgICAgICAgICAgICAgICAgICAgICAgICAgICAgICAgICAgICAgICAgICAgICAgICAgICAgICAgICAgICAgICAgICAgICAgICAgICAgICAgICAgIAogICAgICAgICAgICAgICAgICAgICAgICAgICAgICAgICAgICAgICAgICAgICAgICAgICAgICAgICAgICAgICAgICAgICAgICAgICAgICAgICAgICAgICAgICAgICAgICAgICAgCiAgICAgICAgICAgICAgICAgICAgICAgICAgICAgICAgICAgICAgICAgICAgICAgICAgICAgICAgICAgICAgICAgICAgICAgICAgICAgICAgICAgICAgICAgICAgICAgICAgICAKICAgICAgICAgICAgICAgICAgICAgICAgICAgICAgICAgICAgICAgICAgICAgICAgICAgICAgICAgICAgICAgICAgICAgICAgICAgICAgICAgICAgICAgICAgICAgICAgICAgIAogICAgICAgICAgICAgICAgICAgICAgICAgICAgICAgICAgICAgICAgICAgICAgICAgICAgICAgICAgICAgICAgICAgICAgICAgICAgICAgICAgICAgICAgICAgICAgICAgICAgCiAgICAgICAgICAgICAgICAgICAgICAgICAgICAgICAgICAgICAgICAgICAgICAgICAgICAgICAgICAgICAgICAgICAgICAgICAgICAgICAgICAgICAgICAgICAgICAgICAgICAKICAgICAgICAgICAgICAgICAgICAgICAgICAgICAgICAgICAgICAgICAgICAgICAgICAgICAgICAgICAgICAgICAgICAgICAgICAgICAgICAgICAgICAgICAgICAgICAgICAgIAogICAgICAgICAgICAgICAgICAgICAgICAgICAgICAgICAgICAgICAgICAgICAgICAgICAgICAgICAgICAgICAgICAgICAgICAgICAgICAgICAgICAgICAgICAgICAgICAgICAgCiAgICAgICAgICAgICAgICAgICAgICAgICAgICAgICAgICAgICAgICAgICAgICAgICAgICAgICAgICAgICAgICAgICAgICAgICAgICAgICAgICAgICAgICAgICAgICAgICAgICAKICAgICAgICAgICAgICAgICAgICAgICAgICAgICAgICAgICAgICAgICAgICAgICAgICAgICAgICAgICAgICAgICAgICAgICAgICAgICAgICAgICAgICAgICAgICAgICAgICAgIAogICAgICAgICAgICAgICAgICAgICAgICAgICAgICAgICAgICAgICAgICAgICAgICAgICAgICAgICAgICAgICAgICAgICAgICAgICAgICAgICAgICAgICAgICAgICAgICAgICAgCiAgICAgICAgICAgICAgICAgICAgICAgICAgICAgICAgICAgICAgICAgICAgICAgICAgICAgICAgICAgICAgICAgICAgICAgICAgICAgICAgICAgICAgICAgICAgICAgICAgICAKICAgICAgICAgICAgICAgICAgICAgICAgICAgICAgICAgICAgICAgICAgICAgICAgICAgICAgICAgICAgICAgICAgICAgICAgICAgICAgICAgICAgICAgICAgICAgICAgICAgIAogICAgICAgICAgICAgICAgICAgICAgICAgICAgICAgICAgICAgICAgICAgICAgICAgICAgICAgICAgICAgICAgICAgICAgICAgICAgICAgICAgICAgICAgICAgICAgICAgICAgCiAgICAgICAgICAgICAgICAgICAgICAgICAgICAgICAgICAgICAgICAgICAgICAgICAgICAgICAgICAgICAgICAgICAgICAgICAgICAgICAgICAgICAgICAgICAgICAgICAgICAKICAgICAgICAgICAgICAgICAgICAgICAgICAgICAgICAgICAgICAgICAgICAgICAgICAgICAgICAgICAgICAgICAgICAgICAgICAgICAgICAgICAgICAgICAgICAgICAgICAgIAogICAgICAgICAgICAgICAgICAgICAgICAgICAgPD94cGFja2V0IGVuZD0ndyc/Pv/bAEMABwUFBgUEBwYFBggHBwgKEQsKCQkKFQ8QDBEYFRoZGBUYFxseJyEbHSUdFxgiLiIlKCkrLCsaIC8zLyoyJyorKv/bAEMBBwgICgkKFAsLFCocGBwqKioqKioqKioqKioqKioqKioqKioqKioqKioqKioqKioqKioqKioqKioqKioqKioqKv/AABEIADsCQwMBIgACEQEDEQH/xAAfAAABBQEBAQEBAQAAAAAAAAAAAQIDBAUGBwgJCgv/xAC1EAACAQMDAgQDBQUEBAAAAX0BAgMABBEFEiExQQYTUWEHInEUMoGRoQgjQrHBFVLR8CQzYnKCCQoWFxgZGiUmJygpKjQ1Njc4OTpDREVGR0hJSlNUVVZXWFlaY2RlZmdoaWpzdHV2d3h5eoOEhYaHiImKkpOUlZaXmJmaoqOkpaanqKmqsrO0tba3uLm6wsPExcbHyMnK0tPU1dbX2Nna4eLj5OXm5+jp6vHy8/T19vf4+fr/xAAfAQADAQEBAQEBAQEBAAAAAAAAAQIDBAUGBwgJCgv/xAC1EQACAQIEBAMEBwUEBAABAncAAQIDEQQFITEGEkFRB2FxEyIygQgUQpGhscEJIzNS8BVictEKFiQ04SXxFxgZGiYnKCkqNTY3ODk6Q0RFRkdISUpTVFVWV1hZWmNkZWZnaGlqc3R1dnd4eXqCg4SFhoeIiYqSk5SVlpeYmZqio6Slpqeoqaqys7S1tre4ubrCw8TFxsfIycrS09TV1tfY2dri4+Tl5ufo6ery8/T19vf4+fr/2gAMAwEAAhEDEQA/APpGiiq/263/ALS+wCTddCHzmjVSdiZ2gsRwuTnAON21sZ2tgAsUUUUAFFFFABRRVf7db/2l9gEm66EPnNGqk7EztBYjhcnOAcbtrYztbABYorLj8RafNr0ukQ/apLuB9kpWymMMbeWJNrTbPLB2spwW7gdTiiPxFp82vS6RD9qku4H2SlbKYwxt5Yk2tNs8sHaynBbuB1OKANSiqcer6bNq0ulw6hayahAm+W0WdTNGvHzMmcgfMvJHcetXKACiiigAooooAKKKKACiiigAooooAKKpx6vps2rS6XDqFrJqECb5bRZ1M0a8fMyZyB8y8kdx61coAKKz7TX9Hv8AUp9OsdWsbm+t93nW0NyjyxbTtbcoORgkA56HirE1/Z297bWdxdwRXV1u+zwPIFebaMttU8tgcnHSgCxRWfaa/o9/qU+nWOrWNzfW+7zraG5R5Ytp2tuUHIwSAc9DxRaa/o9/qU+nWOrWNzfW+7zraG5R5Ytp2tuUHIwSAc9DxQBoUVTj1fTZtWl0uHULWTUIE3y2izqZo14+ZkzkD5l5I7j1qSa/s7e9trO4u4Irq63fZ4HkCvNtGW2qeWwOTjpQBYorPtNf0e/1KfTrHVrG5vrfd51tDco8sW07W3KDkYJAOeh4otNf0e/1KfTrHVrG5vrfd51tDco8sW07W3KDkYJAOeh4oA0KKKKACiqcer6bNq0ulw6hayahAm+W0WdTNGvHzMmcgfMvJHcetXKACisex8XeG9UvY7PTPEOlXl1JnZBb3scjtgEnChiTgAn8KsWmv6Pf6lPp1jq1jc31vu862huUeWLadrblByMEgHPQ8UAaFFU49X02bVpdLh1C1k1CBN8tos6maNePmZM5A+ZeSO49akmv7O3vbazuLuCK6ut32eB5ArzbRltqnlsDk46UAWKKx7Hxd4b1S9js9M8Q6VeXUmdkFvexyO2AScKGJOACfwqxaa/o9/qU+nWOrWNzfW+7zraG5R5Ytp2tuUHIwSAc9DxQBoUVn2mv6Pf6lPp1jq1jc31vu862huUeWLadrblByMEgHPQ8VXsfF3hvVL2Oz0zxDpV5dSZ2QW97HI7YBJwoYk4AJ/CgDYooooAKKpx6vps2rS6XDqFrJqECb5bRZ1M0a8fMyZyB8y8kdx61coAKKx7Hxd4b1S9js9M8Q6VeXUmdkFvexyO2AScKGJOACfwqxaa/o9/qU+nWOrWNzfW+7zraG5R5Ytp2tuUHIwSAc9DxQBoUVGtxC1y9ussZnjRXeIMNyqxIViOoBKsAe+0+lU7TX9Hv9Sn06x1axub633edbQ3KPLFtO1tyg5GCQDnoeKANCio1uIWuXt1ljM8aK7xBhuVWJCsR1AJVgD32n0qOa/s7e9trO4u4Irq63fZ4HkCvNtGW2qeWwOTjpQBYorPtNf0e/wBSn06x1axub633edbQ3KPLFtO1tyg5GCQDnoeKLTX9Hv8AUp9OsdWsbm+t93nW0NyjyxbTtbcoORgkA56HigDQooooAKKpx6vps2rS6XDqFrJqECb5bRZ1M0a8fMyZyB8y8kdx61coAKKx7Hxd4b1S9js9M8Q6VeXUmdkFvexyO2AScKGJOACfwqxaa/o9/qU+nWOrWNzfW+7zraG5R5Ytp2tuUHIwSAc9DxQBoUVGtxC1y9ussZnjRXeIMNyqxIViOoBKsAe+0+lU7TX9Hv8AUp9OsdWsbm+t93nW0NyjyxbTtbcoORgkA56HigDQoqNbiFrl7dZYzPGiu8QYblViQrEdQCVYA99p9Kjmv7O3vbazuLuCK6ut32eB5ArzbRltqnlsDk46UAWKKz7TX9Hv9Sn06x1axub633edbQ3KPLFtO1tyg5GCQDnoeKLTX9Hv9Sn06x1axub633edbQ3KPLFtO1tyg5GCQDnoeKANCisvSfEWn61c3FvZfakntkR5YrqymtmCuWCsBKikglHGRn7po0nxFp+tXNxb2X2pJ7ZEeWK6sprZgrlgrASopIJRxkZ+6aANSiq9pfW995/2aTc1vM0MqlSrRuOxBwRkEMD3VlYZBBNigAooooAK5/wf++sNSvZObi61a985/wC95U7wR8dBiKGNeOu3JySSegrPttL+x61d3ttNthvsSXMDLndMFVFkVs/L8iBSvIO1SNp3bwDmNL8Y30/iHTbW4lgurfU5nij+zaVdRRRYiklDJdyHy7hcR7QVVd4beMAYOn4e1DXtYnlvLmXToNPhvru1EEcEjzSrFPJEr7y4CH5RldrZ2k5G7apaeDY7OSwEesai1rpjq1haMIPLtQqlAqkR72HlM8fzsx2uTneAw2NL0yHSbR7e2aRke4nuCZCCd0srSsOAOAzkD2x160AY/h7UNe1ieW8uZdOg0+G+u7UQRwSPNKsU8kSvvLgIflGV2tnaTkbtq5ml+Mb6fxDptrcSwXVvqczxR/ZtKuooosRSShku5D5dwuI9oKqu8NvGAMHq9L0yHSbR7e2aRke4nuCZCCd0srSsOAOAzkD2x161j2ng2OzksBHrGota6Y6tYWjCDy7UKpQKpEe9h5TPH87Mdrk53gMABlr4lvLiy02zEcH9uy3f2W9g2nZD5RBuJNud6xlMGNj18+DdgPU/g/8AfWGpXsnNxdate+c/97yp3gj46DEUMa8dduTkkkyaPoE1nq13q2q3Frdahcose+1tDBGqjqQrO53thAzbvmWKIY+QVcttL+x61d3ttNthvsSXMDLndMFVFkVs/L8iBSvIO1SNp3bwDP8ADn/Ie8Wf9haP/wBIbWjw5/yHvFn/AGFo/wD0htakstG1Kw8S6hew6jatp+oXAuJbVrNvOVhBHFhZfMxj90rcoepHuCy0bUrDxLqF7DqNq2n6hcC4ltWs285WEEcWFl8zGP3Styh6ke4AOctePhL4SvBxdNNpM5nH3zJNPCJn3ddziWUMereY+c7jnv6w7fwtbW9zF/pd1Jp9u4kttLcp9mt3BypUBd5CnlUZiiHbtUbE26iWmzUprz7RO3mwxxeQz5iTYXO5V7Md+Ce4VfSgCxRRRQAUUUUAFFFFABRRRQAUVTgs5o9WvLya7kkSdI44rcZEcKpuOcZOXZnbLDGVCDHy5NygDgLXj4S+ErwcXTTaTOZx98yTTwiZ93Xc4llDHq3mPnO457+sO38LW1vcxf6XdSafbuJLbS3KfZrdwcqVAXeQp5VGYoh27VGxNuolps1Ka8+0Tt5sMcXkM+Yk2FzuVezHfgnuFX0oA4TwZd3X/CN+BYtc0q1WBreFdNube+eSQSiychpIzGgUGISj7z4YgYP3hn/8JPoOu+PtE1Rdb06WUazJZWdut3GzxQrbXMZfbk4MszDBBw6C34zXZ6b4Rg064sf+JjfXNppv/IPspvK8q0+QxrtKoHbEbMg3s3ByctgjUvdMhv7vT7iZpFfT7g3EQUjDMYpIsNx02yseMcgfQgHEeDLu6/4RvwLFrmlWqwNbwrptzb3zySCUWTkNJGY0CgxCUfefDEDB+8DwZd3X/CN+BYtc0q1WBreFdNube+eSQSiychpIzGgUGISj7z4YgYP3h0em+EYNOuLH/iY31zaab/yD7KbyvKtPkMa7SqB2xGzIN7NwcnLYINN8IwadcWP/ABMb65tNN/5B9lN5XlWnyGNdpVA7YjZkG9m4OTlsEAGBa8fCXwleDi6abSZzOPvmSaeETPu67nEsoY9W8x853HOX/wAJPoOu+PtE1Rdb06WUazJZWdut3GzxQrbXMZfbk4MszDBBw6C34zXb2/ha2t7mL/S7qTT7dxJbaW5T7NbuDlSoC7yFPKozFEO3ao2Jt0L3TIb+70+4maRX0+4NxEFIwzGKSLDcdNsrHjHIH0IBzElrdafrXhbTZrC1sdLsr5odONvdvcSOEs7hUWRXRdg8vcchnO5QMHJYXLaxt7u/0az0WPytK8NzECXcWV3WCS3ECE8tsEh3OTwyhPmbf5c+m+EYNOuLH/iY31zaab/yD7KbyvKtPkMa7SqB2xGzIN7NwcnLYINB8LzaBFZW0HiLVbmxsoVhis7hLbZsVdqgssKvwMc7u3OeaAOgoqnBZzR6teXk13JIk6RxxW4yI4VTcc4ycuzO2WGMqEGPlyblAHAWvHwl8JXg4umm0mczj75kmnhEz7uu5xLKGPVvMfOdxz39Ydv4Wtre5i/0u6k0+3cSW2luU+zW7g5UqAu8hTyqMxRDt2qNibdRLTZqU159onbzYY4vIZ8xJsLncq9mO/BPcKvpQBjw/wDE18cXMjfPa6LCsMQ7C6lXdISD/EsJh2sMYE8q5OSFzJLW60/WvC2mzWFrY6XZXzQ6cbe7e4kcJZ3Cosiui7B5e45DOdygYOSw6ey0yGwu9QuIWkZ9QuBcShiMKwijiwvHTbEp5zyT9Bl6b4Rg064sf+JjfXNppv8AyD7KbyvKtPkMa7SqB2xGzIN7NwcnLYIAMC14+EvhK8HF002kzmcffMk08Imfd13OJZQx6t5j5zuOcv8A4SfQdd8faJqi63p0so1mSys7dbuNnihW2uYy+3JwZZmGCDh0Fvxmu3t/C1tb3MX+l3Umn27iS20tyn2a3cHKlQF3kKeVRmKIdu1RsTboXumQ393p9xM0ivp9wbiIKRhmMUkWG46bZWPGOQPoQDLh/wCJr44uZG+e10WFYYh2F1Ku6QkH+JYTDtYYwJ5VyckLmSWt1p+teFtNmsLWx0uyvmh042929xI4SzuFRZFdF2Dy9xyGc7lAwclh09lpkNhd6hcQtIz6hcC4lDEYVhFHFheOm2JTznkn6DL03wjBp1xY/wDExvrm003/AJB9lN5XlWnyGNdpVA7YjZkG9m4OTlsEAHOeDLu6/wCEb8Cxa5pVqsDW8K6bc2988kglFk5DSRmNAoMQlH3nwxAwfvDo4f8Aia+OLmRvntdFhWGIdhdSrukJB/iWEw7WGMCeVcnJCmm+EYNOuLH/AImN9c2mm/8AIPspvK8q0+QxrtKoHbEbMg3s3ByctgjUstMhsLvULiFpGfULgXEoYjCsIo4sLx02xKec8k/QAFyiqcFnNHq15eTXckiTpHHFbjIjhVNxzjJy7M7ZYYyoQY+XJuUAcBa8fCXwleDi6abSZzOPvmSaeETPu67nEsoY9W8x853HPf1h2/ha2t7mL/S7qTT7dxJbaW5T7NbuDlSoC7yFPKozFEO3ao2Jt1EtNmpTXn2idvNhji8hnzEmwudyr2Y78E9wq+lAGPD/AMTXxxcyN89rosKwxDsLqVd0hIP8SwmHawxgTyrk5IXnPBl3df8ACN+BYtc0q1WBreFdNube+eSQSiychpIzGgUGISj7z4YgYP3h29lpkNhd6hcQtIz6hcC4lDEYVhFHFheOm2JTznkn6DL03wjBp1xY/wDExvrm003/AJB9lN5XlWnyGNdpVA7YjZkG9m4OTlsEAEGkWFnYfEjxB9htILb7Rp1jPN5MYTzZGmu9ztjqxwMk8msPwZd3X/CN+BYtc0q1WBreFdNube+eSQSiychpIzGgUGISj7z4YgYP3h28WmQxa3c6orSGe5t4bd1JG0LE0jKQMZzmZs89h075em+EYNOuLH/iY31zaab/AMg+ym8ryrT5DGu0qgdsRsyDezcHJy2CACDSLCzsPiR4g+w2kFt9o06xnm8mMJ5sjTXe52x1Y4GSeTXJ/wDCT6Drvj7RNUXW9OllGsyWVnbrdxs8UK21zGX25ODLMwwQcOgt+M16PFpkMWt3OqK0hnubeG3dSRtCxNIykDGc5mbPPYdO5e6ZDf3en3EzSK+n3BuIgpGGYxSRYbjptlY8Y5A+hAOI8GXd1/wjfgWLXNKtVga3hXTbm3vnkkEosnIaSMxoFBiEo+8+GIGD94aElrdafrXhbTZrC1sdLsr5odONvdvcSOEs7hUWRXRdg8vcchnO5QMHJYaem+EYNOuLH/iY31zaab/yD7KbyvKtPkMa7SqB2xGzIN7NwcnLYINN8IwadcWP/Exvrm003/kH2U3leVafIY12lUDtiNmQb2bg5OWwQAdBRVOCzmj1a8vJruSRJ0jjitxkRwqm45xk5dmdssMZUIMfLk3KAOAtePhL4SvBxdNNpM5nH3zJNPCJn3ddziWUMereY+c7jnv6w7fwtbW9zF/pd1Jp9u4kttLcp9mt3BypUBd5CnlUZiiHbtUbE26iWmzUprz7RO3mwxxeQz5iTYXO5V7Md+Ce4VfSgDHh/wCJr44uZG+e10WFYYh2F1Ku6QkH+JYTDtYYwJ5VyckLzngy7uv+Eb8Cxa5pVqsDW8K6bc2988kglFk5DSRmNAoMQlH3nwxAwfvDt7LTIbC71C4haRn1C4FxKGIwrCKOLC8dNsSnnPJP0GXpvhGDTrix/wCJjfXNppv/ACD7KbyvKtPkMa7SqB2xGzIN7NwcnLYIAINIsLOw+JHiD7DaQW32jTrGebyYwnmyNNd7nbHVjgZJ5NYfgy7uv+Eb8Cxa5pVqsDW8K6bc2988kglFk5DSRmNAoMQlH3nwxAwfvDt4tMhi1u51RWkM9zbw27qSNoWJpGUgYznMzZ57Dp3y9N8IwadcWP8AxMb65tNN/wCQfZTeV5Vp8hjXaVQO2I2ZBvZuDk5bBABBpFhZ2HxI8QfYbSC2+0adYzzeTGE82Rprvc7Y6scDJPJrk/8AhJ9B13x9omqLrenSyjWZLKzt1u42eKFba5jL7cnBlmYYIOHQW/Ga9Hi0yGLW7nVFaQz3NvDbupI2hYmkZSBjOczNnnsOncvdMhv7vT7iZpFfT7g3EQUjDMYpIsNx02yseMcgfQgHEeDLu6/4RvwLFrmlWqwNbwrptzb3zySCUWTkNJGY0CgxCUfefDEDB+8NCS1utP1rwtps1ha2Ol2V80OnG3u3uJHCWdwqLIrouweXuOQzncoGDksNPTfCMGnXFj/xMb65tNN/5B9lN5XlWnyGNdpVA7YjZkG9m4OTlsEGm+EYNOuLH/iY31zaab/yD7KbyvKtPkMa7SqB2xGzIN7NwcnLYIACz/5KRrP/AGCbD/0deUWf/JSNZ/7BNh/6OvKk0bRtStNbvtU1jUbW8nureC3VbWza3VFiaVskNI5JJmPcdBRo2jalaa3faprGo2t5PdW8Fuq2tm1uqLE0rZIaRySTMe46CgCOb/R/iRZ+T8v27Sbj7R33+RND5X02/aZumM7+c4GOgrPsdL+zale6jcTefd3e2MuF2KkKFzHGFyem9iWOSWZjwu1Vkgs5o9WvLya7kkSdI44rcZEcKpuOcZOXZnbLDGVCDHy5IBcooooAKKKKAM+01/R7/Up9OsdWsbm+t93nW0NyjyxbTtbcoORgkA56Hihdf0d9Sj05NWsWvpd/l2wuUMr7Cythc5OCjg+hVh2NcJpa376n4XN0+sCTT7gNe6b/AGT5VlYlraWHbC6wDeiSSqgxI42EsSVUuOr8G2H2DSb3fafZprjVr+eTMexpd11Ltc+uUCYPddvbFAGguv6O+pR6cmrWLX0u/wAu2FyhlfYWVsLnJwUcH0KsOxotNf0e/wBSn06x1axub633edbQ3KPLFtO1tyg5GCQDnoeKz/Bth9g0m932n2aa41a/nkzHsaXddS7XPrlAmD3Xb2xXKaWt++p+FzdPrAk0+4DXum/2T5VlYlraWHbC6wDeiSSqgxI42EsSVUuAD0MX9m1lDeLdwG1n8vypxINkm8gJtbodxZQMdcjHWs/Sb641bUr26STZp1tNJZwRqo/0h0IWWVifmG2RXjC8fcZssGTbznh5IdX1ZbDTb21v/Dmk3DXdvLayiWNmbmK3JGUIhYysEGNiizIOQa2/Dn/Esur/AES5+WYXdxe2zNx9phmlMrMo/wBh5TGRkkbVYhRIooAj0k6hf+LNblm1e6W00++W3isFjh8llNpDJlj5fmZ3SseHHQduCaSdQv8AxZrcs2r3S2mn3y28VgscPksptIZMsfL8zO6Vjw46DtwYNA1fTYfGnibS5tQtY9Qn1NHitGnUTSL9htvmVM5I+VuQOx9KNA1fTYfGnibS5tQtY9Qn1NHitGnUTSL9htvmVM5I+VuQOx9KAOrooooAK5i21TxDaX+jHXBYrHq8xh+xQwMstk/kSTYaXzGWXb5RQkKuSdwwBtPT1yHhbWYdUvYb3U7PVYtZvIceVcaVcxRWKEbjAsjRhByo3Pn94yjsI0UA6+iqcGpw3OrXlhCsjPZpGZZQAYwz7j5ec/fChWKnosiH+KrlAHMW934kh8WWem3eoaVfQtC9xdi306SFoYwNqfMZ3wzOflBXDLHLg5XBLbVPENpf6MdcFiserzGH7FDAyy2T+RJNhpfMZZdvlFCQq5J3DAG029Gt5j4l8RXl3FIrm4htreRlKh7dIEcBexAlmn+brkkZ+UAZnhbWYdUvYb3U7PVYtZvIceVcaVcxRWKEbjAsjRhByo3Pn94yjsI0UAsW934kh8WWem3eoaVfQtC9xdi306SFoYwNqfMZ3wzOflBXDLHLg5XBr6P4i1i5Tw7qF89i9j4i2+TbQ27pLabrd7hd0hkYSYEZQ4RMlt3GNp09Gt5j4l8RXl3FIrm4htreRlKh7dIEcBexAlmn+brkkZ+UAcp4Z02KG68Mra6PPaa7bY/t+8bT3hM/+jSLJvuCoWfM5jbhn3EBxkDcAD0eiqcGpw3OrXlhCsjPZpGZZQAYwz7j5ec/fChWKnosiH+KrlAHMeHtU8Q6pa6Rq8wsZtO1aFZjbwwNHLZI8RkUtI0hEuDtjICLkvu4AIqO18Sak+n6f4hnFqdF1N7dYbVImFzCtw6JE7SFtrnLpuQKu0M2GfYN/P8AhHRrTTj4VtdL0GTTtWsEVNbuF0x7cSKtrIjq05QLMDOYjhWbcQHGQu4aFnbXT+FdD8I/Y7pNQ0t7AXMr27rbBLWWJ2dZiNjhhH8qqS+XXcq4fYAaltqniG0v9GOuCxWPV5jD9ihgZZbJ/Ikmw0vmMsu3yihIVck7hgDabematqVx4t1bS9QtrWCC0t7ee2aCZpGkWSSdcuSqhTiIfKAcc/M2eMzwtrMOqXsN7qdnqsWs3kOPKuNKuYorFCNxgWRowg5Ubnz+8ZR2EaLp2lvMvxA1a4aKQQSaZZIkpU7WZZbosoPQkBlJHbcPWgDcoqnBqcNzq15YQrIz2aRmWUAGMM+4+XnP3woVip6LIh/iq5QBh6Zq2pXHi3VtL1C2tYILS3t57ZoJmkaRZJJ1y5KqFOIh8oBxz8zZ4xPA/iq88TxafPJ4m8OXUk1otzc6ZY2xFxDuUZUn7Q2NrMASU9uCeNu0t5l+IGrXDRSCCTTLJElKnazLLdFlB6EgMpI7bh61kW90dVvvC9ra6NdabJpdwZru1azkjgtFFpNEUSUoscgV5EUeWTkfMBtBIALltqniG0v9GOuCxWPV5jD9ihgZZbJ/Ikmw0vmMsu3yihIVck7hgDaa+j+ItYuU8O6hfPYvY+Itvk20Nu6S2m63e4XdIZGEmBGUOETJbdxjaTwtrMOqXsN7qdnqsWs3kOPKuNKuYorFCNxgWRowg5Ubnz+8ZR2EaLj+GdNihuvDK2ujz2mu22P7fvG094TP/o0iyb7gqFnzOY24Z9xAcZA3AA9HoqnBqcNzq15YQrIz2aRmWUAGMM+4+XnP3woVip6LIh/iq5QBzGo+JbyHx3pOj2EcD2MkzQahM6kssjQSzRpGQcBgISXDDIWWIj72RX0fxFrFynh3UL57F7HxFt8m2ht3SW03W73C7pDIwkwIyhwiZLbuMbTnnw54k0/XNBeTU7G/jbXJby5lj0qRXG+3uAS7+e3yhSIkyPl/dDJC7Wj0zT7a58QeHZNP0vWNPurG4aa+s7iS7NpZqbWaMpEZMQMFkkRV8ofd5UbM0Abmo+JbyHx3pOj2EcD2MkzQahM6kssjQSzRpGQcBgISXDDIWWIj72QW934kh8WWem3eoaVfQtC9xdi306SFoYwNqfMZ3wzOflBXDLHLg5XBxz4c8SafrmgvJqdjfxtrkt5cyx6VIrjfb3AJd/Pb5QpESZHy/uhkhdrdHo1vMfEviK8u4pFc3ENtbyMpUPbpAjgL2IEs0/zdckjPygAAr6GdQtPFuq6Xe6vdanBDY2lxE11HCrI0klwrAGKNARiJOoPejQzqFp4t1XS73V7rU4IbG0uImuo4VZGkkuFYAxRoCMRJ1B71BoGr6brXxA1u40fULXUIF0ywRpbWdZVDCW7O0lSRnBBx7ijQNX03WviBrdxo+oWuoQLplgjS2s6yqGEt2dpKkjOCDj3FAGnaX1xbeJJ9Iv5POWaFryxmKgMyB8SxELx+7LxYY43LIowxRmJaX1xbeJJ9Iv5POWaFryxmKgMyB8SxELx+7LxYY43LIowxRmNe3/4mvjb+0Lfm00u0mshMOVmmlkQyKP8Arn5CgkZBaRlyGjYUW/8AxNfG39oW/NppdpNZCYcrNNLIhkUf9c/IUEjILSMuQ0bCgDoKKKKACiiigAooooAKKKKACiiigAooooAKKKKACiiigAooooAKKKKACiiigAooooAKKKKACiiigAooooAKKKKACiiigAooooAKKKKACiiigAooooAKKKKACiiigAooooAKKKKACiiigAooooAKKKKACiiigAooooAKKKKACiiigAooooAKKKKACiiigAooooAKKKKACiiigAooooAKKKKACiiigAooooAKKKKACiiigAooooAKKKKACiiigAooooAKKKKACiiigAooooAKKKKACiiigD//2Q==)"
      ],
      "metadata": {
        "id": "h6ixr0Xtu1XJ"
      }
    },
    {
      "cell_type": "code",
      "source": [
        "# 문서검색 예제\n",
        "# 예제와 가장 비슷한 값을 기존 정보에서 찾아오는 것\n",
        "# 출처 : https://www.amazon.com/Samples/product-reviews/B000001HZ8?reviewerType=all_reviews\n",
        "sample_review = [\"\"\"in 1989, I managed a crummy bicycle shop, \"Full Cycle\" in Boulder, Colorado.\n",
        "The Samples had just recorded this album and they played most nights, at \"Tulagi's\" - a bar on 13th street.\n",
        "They told me they had been so broke and hungry, that they lived on the free samples at the local supermarkets - thus, the name.\n",
        "i used to fix their bikes for free, and even feed them, but they won't remember.\n",
        "That Sean Kelly is a gifted songwriter and singer.\"\"\"]"
      ],
      "metadata": {
        "id": "NO5JMqwBvRLG"
      },
      "execution_count": null,
      "outputs": []
    },
    {
      "cell_type": "code",
      "source": [
        "new = tfidf_vect.transform(sample_review)"
      ],
      "metadata": {
        "id": "rbaZXGi3vZ0S"
      },
      "execution_count": null,
      "outputs": []
    },
    {
      "cell_type": "code",
      "source": [
        "nn.kneighbors(new.todense())"
      ],
      "metadata": {
        "id": "ZTxjR5TnvcNk"
      },
      "execution_count": null,
      "outputs": []
    },
    {
      "cell_type": "code",
      "source": [
        "# 가장 가깝게 나온 문서를 확인합니다 \n",
        "df['reviews.text'][10035]"
      ],
      "metadata": {
        "id": "XaDAP7B5vdew"
      },
      "execution_count": null,
      "outputs": []
    }
  ]
}