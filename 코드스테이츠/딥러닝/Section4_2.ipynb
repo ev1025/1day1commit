{
  "nbformat": 4,
  "nbformat_minor": 0,
  "metadata": {
    "colab": {
      "provenance": [],
      "collapsed_sections": [
        "DoPn6wHy1xid",
        "v25IvExhsA0k",
        "ySGcOQuRsFem",
        "Tcgo-vSbsTzi",
        "firKj2j-tpfx"
      ],
      "authorship_tag": "ABX9TyOxUn/fS6w3HZxZudLEma0i",
      "include_colab_link": true
    },
    "kernelspec": {
      "name": "python3",
      "display_name": "Python 3"
    },
    "language_info": {
      "name": "python"
    }
  },
  "cells": [
    {
      "cell_type": "markdown",
      "metadata": {
        "id": "view-in-github",
        "colab_type": "text"
      },
      "source": [
        "<a href=\"https://colab.research.google.com/github/ev1025/1day1commit/blob/main/%EC%BD%94%EB%93%9C%EC%8A%A4%ED%85%8C%EC%9D%B4%EC%B8%A0/%EB%94%A5%EB%9F%AC%EB%8B%9D/Section4_2.ipynb\" target=\"_parent\"><img src=\"https://colab.research.google.com/assets/colab-badge.svg\" alt=\"Open In Colab\"/></a>"
      ]
    },
    {
      "cell_type": "markdown",
      "source": [
        "# Section4. Note2"
      ],
      "metadata": {
        "id": "zJfB_pMUdQEy"
      }
    },
    {
      "cell_type": "markdown",
      "source": [
        "## N421 자연어처리(Natural Language Processing, NLP)"
      ],
      "metadata": {
        "id": "JVLQpc3edZ_s"
      }
    },
    {
      "cell_type": "markdown",
      "source": [
        "### 자연어처리"
      ],
      "metadata": {
        "id": "mvbQRK17hOd1"
      }
    },
    {
      "cell_type": "markdown",
      "source": [
        "- 말뭉치(Corpus) : 특정한 목적을 가지고 수집한 텍스트 데이터\n",
        "- 문서(Document) : 문장(Sentence)들의 집합\n",
        "- 문장(Sentence) : 여러 개의 토큰(단어, 형태소 등)으로 구성된 문자열. 마침표, 느낌표 등의 기호로 구분\n",
        "- 어휘집합(Vocabulary) : 코퍼스에 있는 모든 문서, 문장을 토큰화한 후 중복을 제거한 토큰의 집합(set이라 보면됨)"
      ],
      "metadata": {
        "id": "g_y6Olofe8X0"
      }
    },
    {
      "cell_type": "markdown",
      "source": [
        "### 전처리(Preprocessing)"
      ],
      "metadata": {
        "id": "xu6Ps6xhdipR"
      }
    },
    {
      "cell_type": "markdown",
      "source": [
        "- 토큰화(Tokenization) : 주어진 코퍼스에서 토큰이라 불리는 단위로 나누어주는 과정\n",
        "- 불용어(Stop words) \n",
        "- 어간 추출(Stemming) \n",
        "- 표제어추출(Lemmatization)  "
      ],
      "metadata": {
        "id": "Cz1Uv_GOd6hw"
      }
    },
    {
      "cell_type": "markdown",
      "source": [
        "#### 맨땅 토큰화"
      ],
      "metadata": {
        "id": "DoPn6wHy1xid"
      }
    },
    {
      "cell_type": "markdown",
      "source": [
        "##### 1. 전처리(토큰화)\n"
      ],
      "metadata": {
        "id": "v25IvExhsA0k"
      }
    },
    {
      "cell_type": "code",
      "source": [
        "# 정규표현식 전처리(Regex)\n",
        "import re\n",
        "\n",
        "regex = r\"[^a-zA-Z0-9]\" # 영어, 숫자가 아닌 문자\n",
        "subst = \"\"              # 치환 할 문자\n",
        "\n",
        "re.sub(regex, subst, 문장) # 문장에 있는 regex를 subst으로 치환"
      ],
      "metadata": {
        "id": "jXU3iQ3lowK4"
      },
      "execution_count": null,
      "outputs": []
    },
    {
      "cell_type": "code",
      "source": [
        "# 정규표현식으로 토큰화 해주고, 소문자로 변경하여 띄어쓰기마다 나누기\n",
        "\n",
        "def tokenize(text):\n",
        "    regex = r\"[^a-zA-Z0-9]\"\n",
        "    subst = \"\"\n",
        "    \n",
        "    tokens = re.sub(regex, subst, text)\n",
        "    tokens = token.lower.split()\n",
        "\n",
        "    return tokens"
      ],
      "metadata": {
        "id": "tzJ7KC8fpjCZ"
      },
      "execution_count": null,
      "outputs": []
    },
    {
      "cell_type": "markdown",
      "source": [
        "##### 2. apply로 토큰화"
      ],
      "metadata": {
        "id": "ySGcOQuRsFem"
      }
    },
    {
      "cell_type": "code",
      "source": [
        "# apply로 함수 적용\n",
        "df.apply(함수, axis=0(열),1(행))\n",
        "함수에 lambda x:x.lower()도 가능"
      ],
      "metadata": {
        "id": "q7Mb05gwoZYp"
      },
      "execution_count": null,
      "outputs": []
    },
    {
      "cell_type": "code",
      "source": [
        "# apply로 reviews.text열을 토큰화하여 새로운 열 생성\n",
        "df.['tokens'] = df['reviews.text'].apply(tokenize)"
      ],
      "metadata": {
        "id": "NW4Br4otqTwX"
      },
      "execution_count": null,
      "outputs": []
    },
    {
      "cell_type": "markdown",
      "source": [
        "##### 3. 결과분석"
      ],
      "metadata": {
        "id": "Tcgo-vSbsTzi"
      }
    },
    {
      "cell_type": "code",
      "source": [
        "# 결과분석\n",
        "from collections import Counter\n",
        "# Counter객체는 리스트요소의 값과 개수를 카운트하여 튜플형태로 저장(단어, 개수)\n",
        "word_counts= Counter()\n",
        "\n",
        "# df['tokens']의 자료들을 Counter객체에 업데이트\n",
        "df['tokens'].apply(lambda x: word_counts.update(x)) \n",
        "\n",
        "# 가장 많이 존재하는 단어 n개 내림차순으로 나열\n",
        "word_counts.most_common(n)\n",
        "\n",
        "# >>\n",
        "# [('the', 10514),\n",
        "#  ('and', 8137)]"
      ],
      "metadata": {
        "id": "iS_7oEAtqpEr"
      },
      "execution_count": null,
      "outputs": []
    },
    {
      "cell_type": "markdown",
      "source": [
        "##### 4. 시각화"
      ],
      "metadata": {
        "id": "firKj2j-tpfx"
      }
    },
    {
      "cell_type": "code",
      "source": [
        "def word_count(docs):\n",
        "    word_counts = Counter()    # 코퍼스에서 단어의 빈도 카운트\n",
        "    word_in_docs = Counter()   # 단어가 포함된 문서의 빈도 카운트\n",
        "    \n",
        "    # 전체문서의 개수\n",
        "    total_docs = len(docs)     \n",
        "    \n",
        "    # Counter객체에 값 넣어주기  \n",
        "    for doc in docs:\n",
        "        word_counts.update(doc)\n",
        "        word_in_docs.update(set(doc))\n",
        "\n",
        "    # 단어별 빈도수  DataFrame 생성\n",
        "    temp = zip(word_counts.keys(), word_counts.values()) \n",
        "    wc = pd.DataFrame(temp, columns = ['word', 'count'])           \n",
        "    \n",
        "    # 빈도수 내림차순 순위매김(first는 중복시, 먼저 나온게 우선)\n",
        "    wc['rank'] = wc['count'].rank(method='first', ascending=False) \n",
        "    wc = wc.sort_values(by='rank')                              \n",
        "\n",
        "    # 빈도수 백분률 컬럼\n",
        "    total = wc['count'].sum()\n",
        "    wc['percent'] = wc['count'].apply(lambda x: x/total)\n",
        "\n",
        "    # 백분률 누적 비율컬럼\n",
        "    wc['cul_persent'] = wc['percent'].cumsum()\n",
        "\n",
        "    # 단어가 포함된 문서 빈도 수 DataFrame\n",
        "    temp2 = zip(word_in_docs.keys(), word_in_docs.values())\n",
        "    ac = pd.DataFrame(temp2, columns=['word', 'word_in_docs'])\n",
        "\n",
        "    # word를 기준으로 두 Dataframe 합침\n",
        "    wc = wc.merge(ac. on='word')\n",
        "\n",
        "    # 전체 문서중에 문자가 존재하는 문서의 비율\n",
        "    wc['word_in_docs_percent'] = wc['word_in_docs'].apply(lambda x: x/total_docs)\n",
        "\n",
        "    return wc"
      ],
      "metadata": {
        "id": "n9-dGVFLtrLO"
      },
      "execution_count": null,
      "outputs": []
    },
    {
      "cell_type": "code",
      "source": [
        "# word_count함수에 토큰화 한 데이터(df['tokens'])를 넣어줌\n",
        "wc = word_count(df['tokens'])\n",
        "\n",
        "# 시각화\n",
        "import seaborn as sns\n",
        "sns.lineplot(data='wc', x='rank', y='cul_percent')"
      ],
      "metadata": {
        "id": "2_5de9YCz1-a"
      },
      "execution_count": null,
      "outputs": []
    },
    {
      "cell_type": "markdown",
      "source": [
        "![image.png](data:image/png;base64,iVBORw0KGgoAAAANSUhEUgAAAYIAAAEGCAYAAABo25JHAAAb90lEQVR4nO3de5hcZZ3g8W9VV1/TuXSSDpALSUgCDigIRgGZUQQRcBX2gdVH1Mf1ssKquM7I6uLqugyzM95GZ8Z5vAzPjA7OqhGvwyjCeENXBEkwGCAQ7IRALkA6t046favb/vGe6q6+JV1Jn6ruPt/P85ynzjl1qurX56l+f/W+73nfA5IkSZIkSZIkSZIkSZKSJVXrAI7HggULiitWrKh1GJI0rTz00EN7gfaR+zM1iOWErVixgg0bNtQ6DEmaVlKp1NNj7U9XOxBJ0tRiIpCkhDMRSFLCmQgkKeFMBJKUcHEngq8Ae4BHx3k+BXwe6AA2AefFHI8kaYS4E8E/A1cc5fkrgTXRcj3wpZjjkSSNEPc4gl8BRxv5dTXwNaAIPADMA04Bno05LkmKRb5QJJsvMJAvkMuH9bAUyY3aHx5zhQIDuSK5QmH4/pHH5Qtc9eLFrF40e1JjrvWAsiXAjrLtndG+sRLB9dFCZ2dn/JFJqplisRgKzkKBbK5INiogc/niUQvYMQvbQpFsrhAVskOvG/1eEy2Uyz+nFGP0OfkCxWK85+asJXNnXCKoxG3RQnt7e8ynWpoZSr9Os+MUjOMVeGMWtoUCA7kCuej1pYIvFz0/ULY+bmE7wUI5V4j3X7wunSKTTtFQl6Y+kyaTTlFfl6a+Ljxm6tI01KXIRPtaGzNhfzpFfSZNfXqs48pfH9576Pg09ZkUmfTw48Z8zYjny9+rLp0ilZr8mYFqnQh2AcvKtpdG+6QZoVgs0pct0JvN0zOQoy+bp2cgT+9Ant7s0GPPQH7oudL+aL0vmx9WUJcKysFCOV8YUTAPFcoxl6dDhVg6RUMmHQq6TCoUfFEhVirsGjJpWkoFZzo9rEAtFZINxyyU08M+c7CQjZ5vGPGZYxaw6TTp9LScZi02tU4EdwI3AuuA84Eu7B9QFWXzhWEFb8+IAjqs58Jz2Tx94xwzrCAf8Xyl6utSNNfX0dxQR3N9HU31dcMKyJaGzNELvjEK47ELyFDA1o/1K3SwYB/+y7X8MzMx/TpV9cWdCL4JXAwsJLT//2+gPnruy8BdwGsJl4/2AO+IOR5Nc8Vikf5cgUO9WQ715Tjcl+VwXy5asoOPh8r2HSkV5GP86q60CSKVIhTSUQHd0jBUYM+f1cDStrL90XHNDRma60MB3tRQR0tUyJcf19JQR1O0Xl/n8B5VV9yJ4LpjPF8E3hdzDJqCBnIFDvYMcKAny/4jAxzoGQiPR8K+rt7sUMHeP7ywz+aPXninUtDakGF2U4bZTfXMaqyjpSHDgtbGssI5LC1l64MFcn1pPUNzQzoqyMNzjZm0v4I149S6aUgzRLFYpKs3y57D/XQe7mfP4T46o/V93VFB35MNBf2RAQ7358Z9r1kNdcxtrmd2Uz2zmzK0tzayqr11sGAvPc5pyozaN7spQ2tDxjZgqQImAh1TNl/g+UN9PNvVx+6DvTzb1cdz0frzh/vZGxX4A/nCqNc2ZtIsbG1k/qwG2mY1sGJBC20tDYPb81saaJtVH7ZbGpjXUk9jpq4Gf6WUXCYCAbD/yABbO7t5el8PO/b3sONADzv39/LM/h6eP9w36tro2U0ZFs9tZtGcRla3t9I+u5H22Y0sih5L662NGZtSpCnORJAgxWKR3V19dOzpHly27ummo7Ob/UcGBo9LpeDkOU0sa2vhotULWdLWzOK5TZwyb+ixtdGvjjRT+N88Q/Vl82x57jCP7u7i0V2HeGx3Fx17uukZGLqccV5LPavbW3nNmSexelErq9pbWb6ghSVtzTbPSAliIpgBisUi2/f1sH77fjZs38+mnV38YU83+ejSyLnN9Zy1eA5vXLuM1YtaB5cFsxpstpFkIpiOisUiT+09wi+f7OTBp/azfvsB9nb3A+FX/jlL53HpHy3ihYvn8sIlc1na1myBL2lcJoJpors/x2869vLLJzv55ZOd7DzQC8DStmb+ZM1CXrpiPi9d0caq9lYvnZRUERPBFHbgyAD/vvk5frjpWR7Yto9svsishjpevnohN7xyFa9c086pC1pqHaakac5EMMX0ZfPc/ehzfH/jLu7r2EuuUGT5ghbe+ccrufj0RbxkeRsNGacgkDR5TARTRMeebr754DN893c7OdiTZcm8Zt71Jyt5/dmLOWvxHNv4JcXGRFBDxWKR+zr28aVfdnBfxz4y6RSXn3Uybz7/VC48bYFt/ZKqwkRQA8VikXu3dPI3P32STTu7WDS7kQ9dfgZvXLuM9tmNtQ5PUsKYCKrssd1d/NVdj3Nfxz5Ond/CJ655Edect8QBXJJqxkRQJUf6c3zmni3cfv925jXXc8vrz+TN5y+341dSzZkIquBXT3byke89wu6uXt52wXI++JozmNtcf+wXSlIVmAhi1DOQ49Z/28y69TtY1T6Lb99wIWtXzK91WJI0jIkgJk88d4gbv7GRrZ3dvOfiVXzg0jU01dsPIGnqMRHE4IebdnPTHb9ndlM9//dd53PR6oW1DkmSxmUimETFYpG//3kHn/vJk6xd3saX3voSLweVNOWZCCZJvlDkf37vEb61YQfXnLuET1z7Ii8JlTQtmAgmQS5f4MPf2cT3Nu7ixlet5qbXnO6UEJKmDRPBCSoWi3zsB4/yvY27uOmy03n/pWtqHZIkVcTRTCfotl9tY936HbzvVatMApKmJRPBCbj70ef45N1P8LqzT+Gmy86odTiSdFxMBMdpa2c3N93xMOcsncdfv+EcZwqVNG2ZCI5DXzbP+77+Oxoyab701vMcKCZpWrOz+Dj8+b9t5onnDvPVd7yUU+Y21zocSToh1ggq9Os/7OWbDz7DDa84jVedsajW4UjSCTMRVKB3IM9Hvr+JlQtn8WeXnV7rcCRpUtg0VIG/+9kf2LG/l3XXX2C/gKQZwxrBBO3Y38NXfv0U15y3hAtOW1DrcCRp0lQjEVwBbAE6gJvHeP5U4BfARmAT8NoqxFSxT979BOk0fPjyF9Q6FEmaVHEngjrgC8CVwJnAddFjuY8BdwDnAm8CvhhzTBXb+MwBfrTpWW54xSpOnttU63AkaVLFnQheRqgJbAMGgHXA1SOOKQJzovW5wO6YY6rY3/+8g7aWeq5/xWm1DkWSJl3ciWAJsKNse2e0r9wtwFuj5+4C3j/Oe10PbAA2dHZ2TnKY43tsdxc/f2IP77xoJbMa7VuXNPNMhc7i64B/BpYS+gf+hbHjug1YC6xtb2+vWnBfvHcrrY0Z3vbyFVX7TEmqprgTwS5gWdn20mhfuXcR+ggA7geagClxb8dnu3r58SPP8pbzT2Vuc32tw5GkWMSdCNYDa4CVQAOhM/jOEcc8A1warf8RIRFUr+3nKNY9uIMi8Jbzl9c6FEmKTdyJIAfcCNwDPE745f8YcCtwVXTMTcC7gd8D3wTeTuhArqlcvsC69c/wijXtnLqgpdbhSFJsqtH7eVe0lPt42fpm4KIqxFGRnz6+h+cP9fMXV59a61AkKVZTobN4Svru73ayaHYjl7zAieUkzWwmgjF09WT55ZZOXn/OYjJ1niJJM5ul3BjufuxZBvIFrn7x4lqHIkmxMxGM4V8f3s3KhbN40ZK5tQ5FkmJnIhhhb3c/92/bx+vPPoVUyvsQS5r5TAQj3Lulk2IRXnPWybUORZKqwkQwws+feJ6T5jRy1uI5xz5YkmYAE0GZgVyBXz25l0tecJLNQpISw0RQZv32/XT357jUsQOSEsREUObeLXtoyKR5+WpvRSkpOUwEZX6zdR/nnTqPlgbvOyApOUwEkYM9A2x+9hAXnjYlZsCWpKoxEUR++9R+ikW4cJXNQpKSxUQQuX/rPprq05yzzNHEkpLFRBB5YNs+1i6fT2OmrtahSFJVmQiAQ31Ztjx/mJeumF/rUCSp6kwEwKM7uygW4cWnzqt1KJJUdSYC4OGdBwE4Z6n9A5KSx0QAbNrRxYoFLcxraah1KJJUdSYC4JFdXbxoqc1CkpIp8YmgZyDHroO9nL6otdahSFJNJD4RbOs8AsAqE4GkhEp8Itja2Q3AqnYTgaRkMhF0HiGdguULWmodiiTVhImgs5tl81toqndEsaRkMhHs6bZZSFKiVZIIPjXBfdNGsVjk6X09rFgwq9ahSFLNVJIILhtj35WTFUgt7D8yQG82z7L5zbUORZJqZiK34noP8F7gNGBT2f7ZwH1xBFUtOw/0ArC0zY5iSck1kUTwDeDHwCeAm8v2Hwb2xxFUtZQSwZJ51ggkJddEEkFXtFwH1AEnRa9rjZZnYosuZrsO9gCwpM1EICm5KrlL+43ALcDzQCHaVwTOnuygqmXngV7mNGWY21xf61AkqWYq6Sz+U+AM4CzgRdEykSRwBbAF6GB401K5NwKbgccITVFVsfNAr/0DkhKvkhrBDkITUSXqgC8QrjjaCawH7iQU+iVrgI8AFwEHgEUVfsZx23Wgl1MdUSwp4SpJBNuAe4EfAf1l+z93lNe8jFAT2BZtrwOuZngieDchWRyItvdUENMJ2XO4j5eubKvWx0nSlFRJIngmWhqiZSKWEGoSJTuB80ccc3r0eB+hBnELcHcFcR2XgVyBAz1Z2lub4v4oSZrSKkkEfx49tgA9kxzDGuBiYCnwK0L/w8ERx10fLXR2dp7wh+7tDpWaRXMaT/i9JGk6q6Sz+EJCk84T0fY5wBeP8ZpdwLKy7aXRvnI7Cf0GWeAp4ElCYhjpNmAtsLa9vb2CsMfWeTgkgvZWE4GkZKskEfwtcDmwL9r+PfCKY7xmPaFQX0loTnoTodAv9wNCbQBgIaGpaBsxG0wEs00EkpKt0tlHd4zYzh/j+Bxh/ME9wOPAHYRLRG8FroqOuYeQXDYDvwA+xFCyic0eE4EkAZVfPvpywiCyeuADhML9WO6KlnIfL1svAh+Mlqop1QgW2jQkKeEqqRH8V+B9hCuBdgEvjranpc7uPtpa6mnIJP6WDJISrpIawV7gLXEFUm37ugdYYG1AkiqqEdwOzCvbbgO+MrnhVM/BnixtLc4xJEmVJIKzGX5t/wHg3MkNp3oO9madbE6SqCwRpAm1gJL5VNa0NKUc6s0yt3miA6QlaeaqpCD/LHA/8O1o+w3AX056RFVysGfAGoEkMfFEkCZMHncNcEm07xqGTx43bWTzBY4M5JlnH4EkTTgRFAgzhJ7LNC38y3X1ZgFMBJJEZX0EPwOuBVIxxVI1B3tCIrBpSJIqSwQ3EPoHBoBDhJvXH4ojqLiVagQmAkmqrLN4dmxRVFlX7wBgIpAkqKxGkALeCvyvaHsZ4Q5k006paWhei5ePSlIlieCLhHsSvDna7iZ0IE87Ng1J0pBKmobOB84DNkbbB5j4LSunlFKNYE7TtB0PJ0mTppIaQZZwT+FitN1OuKx02unuz9HSUEemzplHJamSkvDzwPeBkwgjin8N/FUcQcXtSH+OWY3WBiQJKmsa+jrwEHBptP0fmdiNaaac7v4crSYCSQIqnzSuhaHmoebJD6c6Qo2grtZhSNKUUEnT0McJ9ySYT7jJ/FeBj8URVNyO9OeZ1WCNQJKgshrBW4BzgL5o+5PAw8D/meyg4tbdn+OUuU21DkOSpoRKagS7gfLSs5Fw7+Jp58iAncWSVFJJadgFPAb8hNBHcBnwIOFqIoD/NrmhxcerhiRpSCWl4fejpeTeSY6lasJVQ3YWSxJUlghuP8bz3yVMUz2l5fIF+rIFawSSFJnMobWnTeJ7xebIQB7AcQSSFJnMRFA89iG1d6Q/B2CNQJIiiZtsx0QgScNNZiKYFrew7I4SgZ3FkhRMZiL4H5P4XrHpy4YJU5vrrRFIEkzsqqFHGLv9PxXtPzva/vfJCipOfbnQWdxYn7hWMUka00QSwetij6KK+qMaQWPGRCBJMLFE8HTsUVRRf6lGkLGPQJKgsgFlhxlqImoA6oEjwJzJDipO/blQI2iyaUiSgMo6i2cTCv05hHsRXEu4of2xXAFsATqAm49y3LWERLO2gpgqVkoE1ggkKTjen8VF4AfA5cc4rg74AnAlcCZwXfQ40mzgA8BvjzOeCevP2lksSeUqaRq6pmw9Tfjl3jfOsSUvI9QEtkXb64Crgc0jjvsL4FPAhyqI57gMNg1ZI5AkoLJE8Pqy9RywHbjqGK9ZAuwo294JnD/imPOAZcCPOHoiuD5a6OzsnEC4Y+vP5kmloL5uWox/k6TYVZII0oTmm4PRdhvwWeCdJ/D5aeBzwNsncOxt0UJ7e/txz2vUnyvQmEmTSpkIJAkq6yM4m6EkAHAAOPcYr9lF+LVfspThdzWbDbyQcG+D7cAFwJ3E2GEcEoHNQpJUUkkiSBNqASXzOXaNYj2wBlhJuOT0TYSCvqQLWAisiJYHCM1NGyqIqyJ92byXjkpSmUqahj4L3A98O9p+A/CXx3hNDrgRuIdwBdFXCLe7vJVQ2N85/kvjYY1AkoarJBF8jVB4XxJtX8Poq3/Gcle0lPv4OMdeXEE8x6U/l3d6CUkqU+kUnJuZWOE/ZfVnCzTVWyOQpJLE/TQuXTUkSQoSVyL25/I0mAgkaVDiSsSBfJH6usT92ZI0rsSViLl8wVHFklQmgYmgSCaduD9bksaVuBIxmy+QsUYgSYOSlwgKBRrsI5CkQYkrEXP5ojUCSSqTuESQzRfJWCOQpEGJKxFzhQL1aWsEklSSuESQzRWsEUhSmcSViNmCfQSSVC5xiSCXL1DvOAJJGpSoErFQKFIo4hQTklQmUSVitlAAsGlIksokKhHk8uGe9841JElDEpUIsvmoRmAfgSQNSlSJmLVGIEmjJCoR5Ab7CBL1Z0vSUSWqRCz1EWQcWSxJgxKVCEp9BN6qUpKGJKpEzA7WCBL1Z0vSUSWqRBy8asjOYkkalKhEUAwVAupSJgJJKklUIihEmcCWIUkakqgisZQIUtYIJGlQwhJBeEybCCRpUKISQbHUNGQekKRBiUoEBTuLJWmURCWCfME+AkkaKVGJwKYhSRqtGongCmAL0AHcPMbzHwQ2A5uAnwHL4wpksLPYTCBJg+JOBHXAF4ArgTOB66LHchuBtcDZwHeAT8cVTMEagSSNEncieBmhJrANGADWAVePOOYXQE+0/gCwNK5gHEcgSaPFnQiWADvKtndG+8bzLuDH4zx3PbAB2NDZ2XlcwRQdRyBJo2RqHUCZtxKaiF45zvO3RQvt7e3F4/kAm4YkabS4E8EuYFnZ9tJo30ivBj5KSAL9cQXjyGJJGi3upqH1wBpgJdAAvAm4c8Qx5wL/AFwF7IkzmKE+gjg/RZKml7gTQQ64EbgHeBy4A3gMuJVQ8AN8BmgFvg08zOhEMWmGxhGYCSSppBp9BHdFS7mPl62/ugoxAGVTTNhJIEmDEjWy2M5iSRotYYkgPDqOQJKGJCoR2EcgSaMlKhGUZh+1aUiShiQqETiOQJJGS1gicByBJI2UqERgH4EkjZaoRGDTkCSNlrBEYGexJI2UsEQQHh1HIElDEpUISn0ETjEhSUMSlQgKjiOQpFGSlQhsGpKkURKWCKwRSNJIiUoE3rNYkkZLVCIoOKBMkkZJWCIIj+YBSRqSsERgjUCSRkpWIvDyUUkaJVmJwM5iSRolYYnAaaglaaREJYJisUg65YAySSqXqERQKNosJEkjJSwRFE0EkjRCwhKB/QOSNFKiEkHRGoEkjZKoRFCIOoslSUMSlQhecPIcLj/r5FqHIUlTSqbWAVTTtS9ZyrUvWVrrMCRpSklUjUCSNJqJQJISzkQgSQlXjURwBbAF6ABuHuP5RuBb0fO/BVZUISZJUiTuRFAHfAG4EjgTuC56LPcu4ACwGvgb4FMxxyRJKhN3IngZ4Zf+NmAAWAdcPeKYq4Hbo/XvAJcCXu0vSVUSdyJYAuwo294Z7RvvmBzQBSwY472uBzYAGzo7Oyc5TElKruk0juC2aKG9vb1Y41gkacaIOxHsApaVbS+N9o11zM4onrnAvqO96UMPPbQ3lUo9fZwxLQT2Hudrk8DzMz7PzdF5fsY3Vc7N8lp8aIbQP7ASaAB+D5w14pj3AV+O1t8E3BFzTBtifv/pzvMzPs/N0Xl+xjelz03cNYIccCNwD+EKoq8AjwG3Ek7MncA/Af9C6FTeT0gGkiTFZkpn5inA8zM+z83ReX7GN6XPTV2tA6iRh2odwBTn+Rmf5+boPD/j89xIkiRJkiRJtXWsCfBmomXAL4DNhCu2PhDtnw/8BPhD9NgW7U8Bnyeco03AeWXv9Z+j4/8Qrc8UdcBG4IfR9krCBIgdhAkRG6L9R5sg8SPR/i3A5fGHXDXzCFO/PAE8DlyI352SPyP8Tz0KfBNowu/OlFcHbAVOY2hMw8gJ8GaiUxj6h5wNPEn4uz/NUDK8maHJ/l4L/JjwT30B4UsL4Z9/W/TYFq2XCoDp7oPANxhKBHcwdBnzl4H3ROvvZfiYl29F62cSvk+NhIJgKzPnQozbgf8SrTcQEoPfnTA1zlNAc7R9B/B2/O5MeRcSxjOUfCRakuZfgcsIvz5OifadEm0D/ANhltiS0nHXRc8xznHT1VLgZ8AlhESQIowALY2xKf/e3BNtEz2/Nzp+5Hep/LjpbC6hsBs5CaTfnaE50uYTvgs/JPyan5bfnSTdmGYiE+DNdCuAcwm/1E4Cno32Pxdtw/jnaaaev78FPgwUou0FwEHCYEgY/neON0HiTD03K4FO4KuEprN/BGbhdwfC1Dh/DTxDOBddhMtDp+V3J0mJIOlage8CfwocGvFcMVqS5nXAHry+ezwZQrPilwg/II4wum8tqd+dNsIU+iuBxYQEeUVNIzoBSUoEE5kAb6aqJySBrwPfi/Y9z/Dq/Z5ofbzzNBPP30XAVcB2wr0yLgH+jtAOXqrel/+d5eegfILEmXhuIPw63clQW/93CInB7w68mtBs1glkCf9XF+F3Z8qbyAR4M1EK+BqhCaTcZxje4ffpaP0/MLzD78Fo/3zCF78tWp6K9s0UFzPUWfxthnf4vTdaH2+CxLMY3uG3jZnT4ff/gDOi9VsI3xu/O3A+4YqhFsLfezvwfvzuTAuvJVw1sxX4aI1jqZY/JlTdNwEPR8trCe2TPyNczvdThv4xU4Tbi24FHgHWlr3XOwmXuXUA76hC7NVUnghOIxRiHYR/7MZof1O03RE9f1rZ6z9KOGdbCLdmnSleTJgnZxPwA0JB7ncn+HPCZbWPEibObMTvjiRJkiRJkiRJkiRJkqRpwetVpeq4hXA55W9qHYg0UpJGFkuTJYX/O5pB/DJLE7OCMODna4QBRP9EGGj1GGFgUcn2aPt3hEFVLxjjvd5NGIHbPMZzkqQpagVhhtILou3SaNo64F7g7Gh7O2GqAQjTC/xjtH4L8N+BGwlTgZdGnEo1Z41AmringQei9TcSfvVvJMwXU36To9LEfg8x/E5UbyNMIfCfgP5YI5UqYCKQJu5I9LiS8Ov+UkJN4EeEuWRKSoV8nqGZKCE0Fa0gzDApTRkmAqlycwhJoYtwU5aJThS2EbgBuJMwh700JZgIpMr9nlCoP0G41/F9Fbz214TaxI+AhZMfmiRJkiRJkiRJkiRJkiRJkiRJkjS+/w/EpQJLC2p1gwAAAABJRU5ErkJggg==)"
      ],
      "metadata": {
        "id": "qrf0V2_r0imT"
      }
    },
    {
      "cell_type": "code",
      "source": [
        "wc[wc['rank'] <= 1000]['cul_percent'].max()\n",
        "# >> 0.9097585076280484\n",
        "# 랭크 1000위 안에 90%이상 데이터가 분포하고 있음"
      ],
      "metadata": {
        "id": "q5e8ijT20nFn"
      },
      "execution_count": null,
      "outputs": []
    },
    {
      "cell_type": "code",
      "source": [
        "!pip install squarify"
      ],
      "metadata": {
        "id": "U5QgDIDK1Din"
      },
      "execution_count": null,
      "outputs": []
    },
    {
      "cell_type": "code",
      "source": [
        "# Squarify를 이용하여 상위 20개의 백분율로 시각화\n",
        "import squarify\n",
        "import matplotlib.pyplot as plt\n",
        "\n",
        "wc_top20 = wc[wc['rank'] <= 20]\n",
        "squarify.plot(sizes=wc_top20['percent'], label=wc_top20['word'], alpha=0.6)\n",
        "plt.axis('off')\n",
        "plt.show()"
      ],
      "metadata": {
        "id": "i2vU41Vg1FB_"
      },
      "execution_count": null,
      "outputs": []
    },
    {
      "cell_type": "markdown",
      "source": [
        "#### SpaCy 토큰화(정규표현식or불용어처리)"
      ],
      "metadata": {
        "id": "zKH0_Qz216KM"
      }
    },
    {
      "cell_type": "markdown",
      "source": [
        "불용어(Stop words)처리\n",
        "- 일반적으로 분석에 의미가 없는 단어들을 제외하는 방법\n",
        "- 대부분의 라이브러리가 일반적인 불용어를 내장하고 있음\n",
        "- print(nlp.Defaults.stop_words)로 확인가능"
      ],
      "metadata": {
        "id": "TF4LjY5DXTkk"
      }
    },
    {
      "cell_type": "code",
      "source": [
        "\"\"\" \n",
        "토큰화된 문서들을 입력받아 토큰을 카운트 하고 관련된 속성을 가진 데이터프레임을 리턴합니다.\n",
        "    Args:\n",
        "        docs (series or list): 토큰화된 문서가 들어있는 list\n",
        "    Returns:\n",
        "        list: Dataframe\n",
        "\"\"\"\n",
        "def word_count(docs):\n",
        "    word_counts = Counter()    # 코퍼스에서 단어의 빈도 카운트\n",
        "    word_in_docs = Counter()   # 단어가 포함된 문서의 빈도 카운트\n",
        "    \n",
        "    # 전체문서의 개수\n",
        "    total_docs = len(docs)     \n",
        "    \n",
        "    # Counter객체에 값 넣어주기  \n",
        "    for doc in docs:\n",
        "        word_counts.update(doc)\n",
        "        word_in_docs.update(set(doc))\n",
        "\n",
        "    # 단어별 빈도수  DataFrame 생성\n",
        "    temp = zip(word_counts.keys(), word_counts.values()) \n",
        "    wc = pd.DataFrame(temp, columns = ['word', 'count'])           \n",
        "    \n",
        "    # 빈도수 내림차순 순위매김(first는 중복시, 먼저 나온게 우선)\n",
        "    wc['rank'] = wc['count'].rank(method='first', ascending=False)                     \n",
        "\n",
        "    # 빈도수 백분률 컬럼\n",
        "    total = wc['count'].sum()\n",
        "    wc['percent'] = wc['count'].apply(lambda x: x/total)\n",
        "\n",
        "    wc = wc.sort_values(by='rank')          \n",
        "\n",
        "    # 백분률 누적 비율컬럼\n",
        "    wc['cul_persent'] = wc['percent'].cumsum()\n",
        "\n",
        "    # 단어가 포함된 문서 빈도 수 DataFrame\n",
        "    temp2 = zip(word_in_docs.keys(), word_in_docs.values())\n",
        "    ac = pd.DataFrame(temp2, columns=['word', 'word_in_docs'])\n",
        "\n",
        "    # word를 기준으로 두 Dataframe 합침\n",
        "    wc = wc.merge(ac. on='word')\n",
        "\n",
        "    # 전체 문서중에 문자가 존재하는 문서의 비율\n",
        "    wc['word_in_docs_percent'] = wc['word_in_docs'].apply(lambda x: x/total_docs)\n",
        "\n",
        "    return wc.sort_values(by='rank')"
      ],
      "metadata": {
        "id": "5csUjEWbVpqi"
      },
      "execution_count": null,
      "outputs": []
    },
    {
      "cell_type": "code",
      "source": [
        "import spacy\n",
        "from spacy.tokenizer import Tokenizer\n",
        "\n",
        "nlp = spacy.load(\"en_core_web_sm\") # 영어버전 열기\n",
        "tokenizer = Tokenizer(nlp.vocab)   # 어휘집합(set)"
      ],
      "metadata": {
        "id": "Fs8GE4b6P31y"
      },
      "execution_count": null,
      "outputs": []
    },
    {
      "cell_type": "code",
      "source": [
        "# Spacy 방법1 정규표현식\n",
        "tokens =[]\n",
        "\n",
        "# .pipe : 텍스트 스트림을 토큰화합니다.\n",
        "for doc in tokenizer.pipe(df['reviews.text']):\n",
        "    doc_tokens = [re.sub(r\"[^a-z0-9]\", \"\", token.text.lower()) for token in doc]\n",
        "    tokens.append(doc_tokens)\n",
        "\n",
        "# 토큰 컬럼 추가\n",
        "df['tokens'] = tokens"
      ],
      "metadata": {
        "id": "D-eCEwF3aKFg"
      },
      "execution_count": null,
      "outputs": []
    },
    {
      "cell_type": "code",
      "source": [
        "# Spacy 방법2 불용어처리\n",
        "tokens = []\n",
        "\n",
        "for doc in tokenizer.pipe(df['reviews.text']):\n",
        "    doc_tokens = []\n",
        "\n",
        "# 불용어 & 구두점 제거\n",
        "# 단어마다 확인해서 doc_tokens에 추가하고\n",
        "# 한 행의 리스트가 완료되면 tokens에 추가   \n",
        "    for token in doc:\n",
        "        if (token.is_stop == False) & (token.is_punct == False):\n",
        "            doc_tokens.append(token.text.lower())\n",
        "   \n",
        "    tokens.append(doc_tokens)\n",
        "\n",
        "df['tokens'] = tokens"
      ],
      "metadata": {
        "id": "APdHlZKLYH9H"
      },
      "execution_count": null,
      "outputs": []
    },
    {
      "cell_type": "code",
      "source": [
        "# Spacy 방법3 불용어처리 커스터마이징\n",
        "# 해당 단어들 불용어에 추가\n",
        "STOP_WORDS = nlp.Defaults.stop_words.union(['it', \"it's\", 'it.', 'the', 'this'])\n",
        "\n",
        "tokens = []\n",
        "\n",
        "for doc in tokenizer.pipe(df['reviews.text']):\n",
        "    \n",
        "    doc_tokens = []\n",
        "    \n",
        "    for token in doc: \n",
        "        if token.text.lower() not in STOP_WORDS:\n",
        "            doc_tokens.append(token.text.lower())\n",
        "   \n",
        "    tokens.append(doc_tokens)\n",
        "    \n",
        "df['tokens'] = tokens"
      ],
      "metadata": {
        "id": "wP2s89Rsbf6_"
      },
      "execution_count": null,
      "outputs": []
    },
    {
      "cell_type": "code",
      "source": [
        "# 함수에 대입하여 분포를 구하기\n",
        "wc = word_count(df['tokens'])\n",
        "wc.head()"
      ],
      "metadata": {
        "id": "31N4MiDHVzkp"
      },
      "execution_count": null,
      "outputs": []
    },
    {
      "cell_type": "markdown",
      "source": [
        "![11.JPG](data:image/jpeg;base64,/9j/4AAQSkZJRgABAQEAYABgAAD/4RDaRXhpZgAATU0AKgAAAAgABAE7AAIAAAAFAAAISodpAAQAAAABAAAIUJydAAEAAAAKAAAQyOocAAcAAAgMAAAAPgAAAAAc6gAAAAgAAAAAAAAAAAAAAAAAAAAAAAAAAAAAAAAAAAAAAAAAAAAAAAAAAAAAAAAAAAAAAAAAAAAAAAAAAAAAAAAAAAAAAAAAAAAAAAAAAAAAAAAAAAAAAAAAAAAAAAAAAAAAAAAAAAAAAAAAAAAAAAAAAAAAAAAAAAAAAAAAAAAAAAAAAAAAAAAAAAAAAAAAAAAAAAAAAAAAAAAAAAAAAAAAAAAAAAAAAAAAAAAAAAAAAAAAAAAAAAAAAAAAAAAAAAAAAAAAAAAAAAAAAAAAAAAAAAAAAAAAAAAAAAAAAAAAAAAAAAAAAAAAAAAAAAAAAAAAAAAAAAAAAAAAAAAAAAAAAAAAAAAAAAAAAAAAAAAAAAAAAAAAAAAAAAAAAAAAAAAAAAAAAAAAAAAAAAAAAAAAAAAAAAAAAAAAAAAAAAAAAAAAAAAAAAAAAAAAAAAAAAAAAAAAAAAAAAAAAAAAAAAAAAAAAAAAAAAAAAAAAAAAAAAAAAAAAAAAAAAAAAAAAAAAAAAAAAAAAAAAAAAAAAAAAAAAAAAAAAAAAAAAAAAAAAAAAAAAAAAAAAAAAAAAAAAAAAAAAAAAAAAAAAAAAAAAAAAAAAAAAAAAAAAAAAAAAAAAAAAAAAAAAAAAAAAAAAAAAAAAAAAAAAAAAAAAAAAAAAAAAAAAAAAAAAAAAAAAAAAAAAAAAAAAAAAAAAAAAAAAAAAAAAAAAAAAAAAAAAAAAAAAAAAAAAAAAAAAAAAAAAAAAAAAAAAAAAAAAAAAAAAAAAAAAAAAAAAAAAAAAAAAAAAAAAAAAAAAAAAAAAAAAAAAAAAAAAAAAAAAAAAAAAAAAAAAAAAAAAAAAAAAAAAAAAAAAAAAAAAAAAAAAAAAAAAAAAAAAAAAAAAAAAAAAAAAAAAAAAAAAAAAAAAAAAAAAAAAAAAAAAAAAAAAAAAAAAAAAAAAAAAAAAAAAAAAAAAAAAAAAAAAAAAAAAAAAAAAAAAAAAAAAAAAAAAAAAAAAAAAAAAAAAAAAAAAAAAAAAAAAAAAAAAAAAAAAAAAAAAAAAAAAAAAAAAAAAAAAAAAAAAAAAAAAAAAAAAAAAAAAAAAAAAAAAAAAAAAAAAAAAAAAAAAAAAAAAAAAAAAAAAAAAAAAAAAAAAAAAAAAAAAAAAAAAAAAAAAAAAAAAAAAAAAAAAAAAAAAAAAAAAAAAAAAAAAAAAAAAAAAAAAAAAAAAAAAAAAAAAAAAAAAAAAAAAAAAAAAAAAAAAAAAAAAAAAAAAAAAAAAAAAAAAAAAAAAAAAAAAAAAAAAAAAAAAAAAAAAAAAAAAAAAAAAAAAAAAAAAAAAAAAAAAAAAAAAAAAAAAAAAAAAAAAAAAAAAAAAAAAAAAAAAAAAAAAAAAAAAAAAAAAAAAAAAAAAAAAAAAAAAAAAAAAAAAAAAAAAAAAAAAAAAAAAAAAAAAAAAAAAAAAAAAAAAAAAAAAAAAAAAAAAAAAAAAAAAAAAAAAAAAAAAAAAAAAAAAAAAAAAAAAAAAAAAAAAAAAAAAAAAAAAAAAAAAAAAAAAAAAAAAAAAAAAAAAAAAAAAAAAAAAAAAAAAAAAAAAAAAAAAAAAAAAAAAAAAAAAAAAAAAAAAAAAAAAAAAAAAAAAAAAAAAAAAAAAAAAAAAAAAAAAAAAAAAAAAAAAAAAAAAAAAAAAAAAAAAAAAAAAAAAAAAAAAAAAAAAAAAAAAAAAAAAAAAAAAAAAAAAAAAAAAAAAAAAAAAAAAAAAAAAAAAAAAAAAAAAAAAAAAAAAAAAAAAAAAAAAAAAAAAAAAAAAAAAAAAAAAAAAAAAAAAAAAAAAAAAAAAAAAAAAAAAAAAAAAAAAAAAAAAAAAAAAAAAAAAAAAAAAAAAAAAAAAAAAAAAAAAAAAAAAAAAAAAAAAAAAAAAAAAAAAAAAAAAAAAAAAAAAAAAAAAAAAAAAAAAAAAAAAAAAAAAAAAAAAAAAAAAAAAAAAAAAAAAAAAAAAAAAAAAAAAAAAAAAAAAAAAAAAAAAAAAAAAAAAAAAAAAAAAAAAAAAAAAAAAAAAAAAAAAAAAAAAAAAAAAAAAAAAAAAAAAAAAAAAAAAAAAAAAAAAAAAAAAAAAAAAAAAAAAAAAAAAAAAAAAAAAAAAAAAAAAAAAAAAAAAAAAAAAAAAAAAAAAAAAAAAAAAAAAAAAAAAAAAAAAAAAAAAAAAAAAAAAAAAAAAAAAAAAAAAAAAAAAAAAAAAAAAAAAAAAAAAAAAAAAAAAAAAAAAAAAAAAAAAAAAAAAAAAAAAAAAAAAAAAAAAAAAAAAAAAAAAAAAAAAAAAAAAAAAAAAAAAAAAAAAAAAAAAAAAAAAAAAAAAAAAAAAAAAAAAAAAAAAAAAAAAAAAAAAAAAAAAAAAAAAAAAAAAAAAAAAAAAAAAAAAAAAAAAAAAAAAAAAAAAAAAAAAAAAAAAAAAAAAAAAAAAAAAAAAAAAAAAAAAAAAAAAAAAAAAAAAAAAAAAAAAAAAAAAAAAAAAAAAAAAAAAAAAAAAAAAAAAAAAAAAAAAAAAAAAAAAAAAAAAAAAAAAAAAAAAAAAAAAAAAAAAAAAAAAAAAAAAAAAAAAAAAAAAAAAAAAAAAAAAAAAAAAAAAAAAAAAAAAAAAAAAAAAAAAAAAAAAAAAAAAAAAAAAAAAAAAAAAAAAAAAAAAAAAAAAAAAAAAAAAAAAAAAAAAAAAAAAAAAAAAAAAAAAAAAAAAAAAAAAAAAAAAAAAAAAAAAAAAAAAGVudnkAAAAFkAMAAgAAABQAABCekAQAAgAAABQAABCykpEAAgAAAAM1NAAAkpIAAgAAAAM1NAAA6hwABwAACAwAAAiSAAAAABzqAAAACAAAAAAAAAAAAAAAAAAAAAAAAAAAAAAAAAAAAAAAAAAAAAAAAAAAAAAAAAAAAAAAAAAAAAAAAAAAAAAAAAAAAAAAAAAAAAAAAAAAAAAAAAAAAAAAAAAAAAAAAAAAAAAAAAAAAAAAAAAAAAAAAAAAAAAAAAAAAAAAAAAAAAAAAAAAAAAAAAAAAAAAAAAAAAAAAAAAAAAAAAAAAAAAAAAAAAAAAAAAAAAAAAAAAAAAAAAAAAAAAAAAAAAAAAAAAAAAAAAAAAAAAAAAAAAAAAAAAAAAAAAAAAAAAAAAAAAAAAAAAAAAAAAAAAAAAAAAAAAAAAAAAAAAAAAAAAAAAAAAAAAAAAAAAAAAAAAAAAAAAAAAAAAAAAAAAAAAAAAAAAAAAAAAAAAAAAAAAAAAAAAAAAAAAAAAAAAAAAAAAAAAAAAAAAAAAAAAAAAAAAAAAAAAAAAAAAAAAAAAAAAAAAAAAAAAAAAAAAAAAAAAAAAAAAAAAAAAAAAAAAAAAAAAAAAAAAAAAAAAAAAAAAAAAAAAAAAAAAAAAAAAAAAAAAAAAAAAAAAAAAAAAAAAAAAAAAAAAAAAAAAAAAAAAAAAAAAAAAAAAAAAAAAAAAAAAAAAAAAAAAAAAAAAAAAAAAAAAAAAAAAAAAAAAAAAAAAAAAAAAAAAAAAAAAAAAAAAAAAAAAAAAAAAAAAAAAAAAAAAAAAAAAAAAAAAAAAAAAAAAAAAAAAAAAAAAAAAAAAAAAAAAAAAAAAAAAAAAAAAAAAAAAAAAAAAAAAAAAAAAAAAAAAAAAAAAAAAAAAAAAAAAAAAAAAAAAAAAAAAAAAAAAAAAAAAAAAAAAAAAAAAAAAAAAAAAAAAAAAAAAAAAAAAAAAAAAAAAAAAAAAAAAAAAAAAAAAAAAAAAAAAAAAAAAAAAAAAAAAAAAAAAAAAAAAAAAAAAAAAAAAAAAAAAAAAAAAAAAAAAAAAAAAAAAAAAAAAAAAAAAAAAAAAAAAAAAAAAAAAAAAAAAAAAAAAAAAAAAAAAAAAAAAAAAAAAAAAAAAAAAAAAAAAAAAAAAAAAAAAAAAAAAAAAAAAAAAAAAAAAAAAAAAAAAAAAAAAAAAAAAAAAAAAAAAAAAAAAAAAAAAAAAAAAAAAAAAAAAAAAAAAAAAAAAAAAAAAAAAAAAAAAAAAAAAAAAAAAAAAAAAAAAAAAAAAAAAAAAAAAAAAAAAAAAAAAAAAAAAAAAAAAAAAAAAAAAAAAAAAAAAAAAAAAAAAAAAAAAAAAAAAAAAAAAAAAAAAAAAAAAAAAAAAAAAAAAAAAAAAAAAAAAAAAAAAAAAAAAAAAAAAAAAAAAAAAAAAAAAAAAAAAAAAAAAAAAAAAAAAAAAAAAAAAAAAAAAAAAAAAAAAAAAAAAAAAAAAAAAAAAAAAAAAAAAAAAAAAAAAAAAAAAAAAAAAAAAAAAAAAAAAAAAAAAAAAAAAAAAAAAAAAAAAAAAAAAAAAAAAAAAAAAAAAAAAAAAAAAAAAAAAAAAAAAAAAAAAAAAAAAAAAAAAAAAAAAAAAAAAAAAAAAAAAAAAAAAAAAAAAAAAAAAAAAAAAAAAAAAAAAAAAAAAAAAAAAAAAAAAAAAAAAAAAAAAAAAAAAAAAAAAAAAAAAAAAAAAAAAAAAAAAAAAAAAAAAAAAAAAAAAAAAAAAAAAAAAAAAAAAAAAAAAAAAAAAAAAAAAAAAAAAAAAAAAAAAAAAAAAAAAAAAAAAAAAAAAAAAAAAAAAAAAAAAAAAAAAAAAAAAAAAAAAAAAAAAAAAAAAAAAAAAAAAAAAAAAAAAAAAAAAAAAAAAAAAAAAAAAAAAAAAAAAAAAAAAAAAAAAAAAAAAAAAAAAAAAAAAAAAAAAAAAAAAAAAAAAAAAAAAAAAAAAAAAAAAAAAAAAAAAAAAAAAAAAAAAAAAAAAAAAAAAAAAAAAAAAAAAAAAAAAAAAAAAAAAAAAAAAAAAAAAAAAAAAAAAAAAAAAAAAAAAAAAAAAAAAAAAAAAAAAAAAAAAAAAAAAAAAAAAAAAAAAAAAAAAAAAAAAAAAAAAAAAAAAAAAAAAAAAAAAAAAAAAAAAAAAAAAAAAAAAAAAAAAAAAAAAAAAAAAAAAAAAAAAAAAAAAAAAAAAAAAAAAAAAAAAAAAAAAAAAAAAAAAAAAAAAAAAAAAAAAAAAAAAAAAAAAAAAAAAAAAAAAAAAAAAAAAAAAAAAAAAAAAAAAAAAAAAAAAAAAAAAAAAAAAAAAAAAAAAAAAAAAAAAAAAAAAAAAAAAAAAAAAAAAAAAAAAAAAAAAAAAAAAAAAAAAAAAAAAAAAAAAAAAAAAAAAAAAAAAAAAAAAAAAAAAAAAAAAAAAAAAAAAAAAAAAAAAAAAAAAAAAAAAAAAAAAAAAAAAAAAAAAAAAAAAAAAAAAAAAAAAAAAAAAAAAAAAAAAAAAAAAAAAAAAAAAAAAAAAAAAAAAAAAAAAAAAAAAAAAAAAAAAAAAAAAAAAAAAAAAAAAAAAAAAAAAAAAAAAAAAAAAAAAAAAAAAAAAAAAAAAAAAAAAAAAAAAAAAAAAAAAAAAAAAAAAAAAAAAAAAAAAAAAAAAAAAAAAAAAAAAAAAAAAAAAAAAAAAAAAAAAAAAAAAAAAAAAAAAAAAAAAAAAAAAAAAAAAAAAAAAAAAAAAAAAAAAAAAAAAAAAAAAAAAAAAAAAAAAAAAAAAAAAAAAAAAAAAAAAAAAAAAAAAAAAAAAAAAAAAAAAAAAAAAAAAMjAyMjoxMToxNiAyMToxMjozOAAyMDIyOjExOjE2IDIxOjEyOjM4AAAAZQBuAHYAeQAAAP/hCxdodHRwOi8vbnMuYWRvYmUuY29tL3hhcC8xLjAvADw/eHBhY2tldCBiZWdpbj0n77u/JyBpZD0nVzVNME1wQ2VoaUh6cmVTek5UY3prYzlkJz8+DQo8eDp4bXBtZXRhIHhtbG5zOng9ImFkb2JlOm5zOm1ldGEvIj48cmRmOlJERiB4bWxuczpyZGY9Imh0dHA6Ly93d3cudzMub3JnLzE5OTkvMDIvMjItcmRmLXN5bnRheC1ucyMiPjxyZGY6RGVzY3JpcHRpb24gcmRmOmFib3V0PSJ1dWlkOmZhZjViZGQ1LWJhM2QtMTFkYS1hZDMxLWQzM2Q3NTE4MmYxYiIgeG1sbnM6ZGM9Imh0dHA6Ly9wdXJsLm9yZy9kYy9lbGVtZW50cy8xLjEvIi8+PHJkZjpEZXNjcmlwdGlvbiByZGY6YWJvdXQ9InV1aWQ6ZmFmNWJkZDUtYmEzZC0xMWRhLWFkMzEtZDMzZDc1MTgyZjFiIiB4bWxuczp4bXA9Imh0dHA6Ly9ucy5hZG9iZS5jb20veGFwLzEuMC8iPjx4bXA6Q3JlYXRlRGF0ZT4yMDIyLTExLTE2VDIxOjEyOjM4LjU0MDwveG1wOkNyZWF0ZURhdGU+PC9yZGY6RGVzY3JpcHRpb24+PHJkZjpEZXNjcmlwdGlvbiByZGY6YWJvdXQ9InV1aWQ6ZmFmNWJkZDUtYmEzZC0xMWRhLWFkMzEtZDMzZDc1MTgyZjFiIiB4bWxuczpkYz0iaHR0cDovL3B1cmwub3JnL2RjL2VsZW1lbnRzLzEuMS8iPjxkYzpjcmVhdG9yPjxyZGY6U2VxIHhtbG5zOnJkZj0iaHR0cDovL3d3dy53My5vcmcvMTk5OS8wMi8yMi1yZGYtc3ludGF4LW5zIyI+PHJkZjpsaT5lbnZ5PC9yZGY6bGk+PC9yZGY6U2VxPg0KCQkJPC9kYzpjcmVhdG9yPjwvcmRmOkRlc2NyaXB0aW9uPjwvcmRmOlJERj48L3g6eG1wbWV0YT4NCiAgICAgICAgICAgICAgICAgICAgICAgICAgICAgICAgICAgICAgICAgICAgICAgICAgICAgICAgICAgICAgICAgICAgICAgICAgICAgICAgICAgICAgICAgICAgICAgICAgICAKICAgICAgICAgICAgICAgICAgICAgICAgICAgICAgICAgICAgICAgICAgICAgICAgICAgICAgICAgICAgICAgICAgICAgICAgICAgICAgICAgICAgICAgICAgICAgICAgICAgIAogICAgICAgICAgICAgICAgICAgICAgICAgICAgICAgICAgICAgICAgICAgICAgICAgICAgICAgICAgICAgICAgICAgICAgICAgICAgICAgICAgICAgICAgICAgICAgICAgICAgCiAgICAgICAgICAgICAgICAgICAgICAgICAgICAgICAgICAgICAgICAgICAgICAgICAgICAgICAgICAgICAgICAgICAgICAgICAgICAgICAgICAgICAgICAgICAgICAgICAgICAKICAgICAgICAgICAgICAgICAgICAgICAgICAgICAgICAgICAgICAgICAgICAgICAgICAgICAgICAgICAgICAgICAgICAgICAgICAgICAgICAgICAgICAgICAgICAgICAgICAgIAogICAgICAgICAgICAgICAgICAgICAgICAgICAgICAgICAgICAgICAgICAgICAgICAgICAgICAgICAgICAgICAgICAgICAgICAgICAgICAgICAgICAgICAgICAgICAgICAgICAgCiAgICAgICAgICAgICAgICAgICAgICAgICAgICAgICAgICAgICAgICAgICAgICAgICAgICAgICAgICAgICAgICAgICAgICAgICAgICAgICAgICAgICAgICAgICAgICAgICAgICAKICAgICAgICAgICAgICAgICAgICAgICAgICAgICAgICAgICAgICAgICAgICAgICAgICAgICAgICAgICAgICAgICAgICAgICAgICAgICAgICAgICAgICAgICAgICAgICAgICAgIAogICAgICAgICAgICAgICAgICAgICAgICAgICAgICAgICAgICAgICAgICAgICAgICAgICAgICAgICAgICAgICAgICAgICAgICAgICAgICAgICAgICAgICAgICAgICAgICAgICAgCiAgICAgICAgICAgICAgICAgICAgICAgICAgICAgICAgICAgICAgICAgICAgICAgICAgICAgICAgICAgICAgICAgICAgICAgICAgICAgICAgICAgICAgICAgICAgICAgICAgICAKICAgICAgICAgICAgICAgICAgICAgICAgICAgICAgICAgICAgICAgICAgICAgICAgICAgICAgICAgICAgICAgICAgICAgICAgICAgICAgICAgICAgICAgICAgICAgICAgICAgIAogICAgICAgICAgICAgICAgICAgICAgICAgICAgICAgICAgICAgICAgICAgICAgICAgICAgICAgICAgICAgICAgICAgICAgICAgICAgICAgICAgICAgICAgICAgICAgICAgICAgCiAgICAgICAgICAgICAgICAgICAgICAgICAgICAgICAgICAgICAgICAgICAgICAgICAgICAgICAgICAgICAgICAgICAgICAgICAgICAgICAgICAgICAgICAgICAgICAgICAgICAKICAgICAgICAgICAgICAgICAgICAgICAgICAgICAgICAgICAgICAgICAgICAgICAgICAgICAgICAgICAgICAgICAgICAgICAgICAgICAgICAgICAgICAgICAgICAgICAgICAgIAogICAgICAgICAgICAgICAgICAgICAgICAgICAgICAgICAgICAgICAgICAgICAgICAgICAgICAgICAgICAgICAgICAgICAgICAgICAgICAgICAgICAgICAgICAgICAgICAgICAgCiAgICAgICAgICAgICAgICAgICAgICAgICAgICAgICAgICAgICAgICAgICAgICAgICAgICAgICAgICAgICAgICAgICAgICAgICAgICAgICAgICAgICAgICAgICAgICAgICAgICAKICAgICAgICAgICAgICAgICAgICAgICAgICAgICAgICAgICAgICAgICAgICAgICAgICAgICAgICAgICAgICAgICAgICAgICAgICAgICAgICAgICAgICAgICAgICAgICAgICAgIAogICAgICAgICAgICAgICAgICAgICAgICAgICAgICAgICAgICAgICAgICAgICAgICAgICAgICAgICAgICAgICAgICAgICAgICAgICAgICAgICAgICAgICAgICAgICAgICAgICAgCiAgICAgICAgICAgICAgICAgICAgICAgICAgICAgICAgICAgICAgICAgICAgICAgICAgICAgICAgICAgICAgICAgICAgICAgICAgICAgICAgICAgICAgICAgICAgICAgICAgICAKICAgICAgICAgICAgICAgICAgICAgICAgICAgICAgICAgICAgICAgICAgICAgICAgICAgICAgICAgICAgICAgICAgICAgICAgICAgICAgICAgICAgICAgICAgICAgICAgICAgIAogICAgICAgICAgICAgICAgICAgICAgICAgICAgPD94cGFja2V0IGVuZD0ndyc/Pv/bAEMABwUFBgUEBwYFBggHBwgKEQsKCQkKFQ8QDBEYFRoZGBUYFxseJyEbHSUdFxgiLiIlKCkrLCsaIC8zLyoyJyorKv/bAEMBBwgICgkKFAsLFCocGBwqKioqKioqKioqKioqKioqKioqKioqKioqKioqKioqKioqKioqKioqKioqKioqKioqKv/AABEIAN0ClAMBIgACEQEDEQH/xAAfAAABBQEBAQEBAQAAAAAAAAAAAQIDBAUGBwgJCgv/xAC1EAACAQMDAgQDBQUEBAAAAX0BAgMABBEFEiExQQYTUWEHInEUMoGRoQgjQrHBFVLR8CQzYnKCCQoWFxgZGiUmJygpKjQ1Njc4OTpDREVGR0hJSlNUVVZXWFlaY2RlZmdoaWpzdHV2d3h5eoOEhYaHiImKkpOUlZaXmJmaoqOkpaanqKmqsrO0tba3uLm6wsPExcbHyMnK0tPU1dbX2Nna4eLj5OXm5+jp6vHy8/T19vf4+fr/xAAfAQADAQEBAQEBAQEBAAAAAAAAAQIDBAUGBwgJCgv/xAC1EQACAQIEBAMEBwUEBAABAncAAQIDEQQFITEGEkFRB2FxEyIygQgUQpGhscEJIzNS8BVictEKFiQ04SXxFxgZGiYnKCkqNTY3ODk6Q0RFRkdISUpTVFVWV1hZWmNkZWZnaGlqc3R1dnd4eXqCg4SFhoeIiYqSk5SVlpeYmZqio6Slpqeoqaqys7S1tre4ubrCw8TFxsfIycrS09TV1tfY2dri4+Tl5ufo6ery8/T19vf4+fr/2gAMAwEAAhEDEQA/APpGiiigAooooAKKKKACiiq99f2emWb3epXUFpbJjfNcSCNFycDLHgcnFAFiiqcur6bDcTW82oWsc0EP2iaN51DRxf8APRhnIX3PFV7vxPoFhbW1xfa5pttBdrvt5ZruNFmXjlCThhyOR60AalFUb3W9K010XUdTs7RnjaVRPcIhZFGWYZPIA6ntWT4r8b6X4Y0e9uPtVndX1tbG5TT/ALWqSzJ6gcnHXnB6Um0ldgtXY6SiqumXn9o6TaXvl+X9pgSbZnO3coOM9+tWqppp2Yk1JXQUVQl17SILe6nm1Wyjhs5PKuZHuECwPx8rnOFPI4PqKkbV9NSW4ifULVZLaITzoZlBij672GflXg8njikMt0VnWniHRdQsJ76w1ewurS3z51xDco8cWBk7mBwMDnmmnxNoIspbw63pwtYQhlnN3Hsj3gFNzZwNwIxnrnigDTormvDPjGHxNruuWFrBH5GlyRLHdRziRblZE3hhgYAx7nNXNb1yXSdR0i2itYJl1C68h3lvY4DGMZ3KrcyH/ZXmja3nb8RXWvl+hs0Vlr4n0FriKBdb04zTStBFGLuPc8ikBkAzksCRkDkZFalAworkfEnxD0zRLmxtrCS01S5n1OLT7iCG8XfalyRuZQCQQVPBx9a3rjX9HtNUj0261axgv5ceXayXKLK+emEJyc/Shaq4PTc0KKz9T17R9E8r+2dVsdP87Pl/a7lIt+OuNxGcZH50jeINGXVxpTavYDUWxizNynnHIyPkzu6c9OlAGjRRRQAUVn2Wv6PqV3Pa6dq1jd3FvnzoYLlHeLBwdwByOeOabY+JND1SO4fTNZ0+8S2XdO1vdJIIhzy2Cdo4PX0NAGlRVFdb0p0s3TU7Nlvzi0IuFIuOM/Jz83HpmoV8T6C1xFAut6cZppWgijF3HueRSAyAZyWBIyByMijrYDUornLDx5oGo+Mb3wza3sZ1C0C7gZE2ysQSyJ82WZQDuGOPzro6Olw2dgoqG7u7awtJLq+uIra3iXdJNM4REHqSeAKoT+KvD9tam5udd0yGASCIyyXkaqHK7guScZ284645oA1aKoHXdIFvaznVbIQ3pxayG4TbOcZ+Q5w3HpWH4l8e6fo3hBvEGktba1brcRwf6NdqUJZwp+dQwyM5xR1sK6tc6uiqkGradc6jNp9vf2st7bqGmtkmVpIgcYLKDkdR19at0DCiiqV7rWl6bMItR1KztJDG0oSedUJRfvNgnoO56CgC7RVA67pC6ONWbVLIaaRkXhuE8nrj7+dvXjr1pP8AhING+yW11/a1j9nu22W032lNkzc8I2cMeDwPSgDQorLuvE+gWNpbXV7rmm29vdrut5pruNEmHHKEnDDkdPWpbvXtH0+8t7S/1Wxtrm5x5EM1yiPLk4G1Sctk8cUAX6Ky7zxNoOnyTR3+t6davbsqTLPdxoY2YEqGBPBIBIz1xVDUPHmgaX4tsfDt5expe3kZdSZECR9NqsSwIZs/KMHNAPTc6OiiigAorMbxNoSXtxZvrenLdWqM88Bu4w8SqMsWXOVAHJJ6VMNa0tms1TUrRmvlL2iidc3IAyTHz8wxzxnijpcC7RXPeBvFf/CaeFYtZ+x/YvMlkj8nzfMxscrndgdcZ6VoXviHRdMllj1HV7C0khRZJUnuUjKITtDEE8AngE96BtWbRo0VRudc0my0yPUrzVLK3sZQpjupbhFicMMrhycHI6c802bxBo1vDbTT6tYxRXaNJbu9ygWZFXcWQk/MAvJI7c0C3NCis258SaHZPapeazp9u14oa2Et0imcHoUyfmByOlPk13SIdWTSpdUsk1GQZSza4QTMMZ4TOTwD2oAv0Vlv4n0GKbypNb01JPPNtsa7jDecMZjxn7/I+XrzVCXx5oEHjdPCsl7GuotD5nMiBAxIAiJLZ8w5yFx05oWrsg23OjooqG7u7awtJLq+uIra3iXdJNM4REHqSeAKAJqKqf2tpwu1tTqFr9oeH7QsPnLvaL/noFznb79Krz+JtBtdNg1C61vTobK4OIbmS7jWOU/7LE4PQ9PSgDToqhca7pFpHbvd6pZQJdI0kDS3CKJVVdxZST8wC8kjtzVHXfF+kaJpUty1/ZS3H2N7u1tTdIrXSqhYbOpIOOoBpN23Gk20l1N2isvwzrX/AAkXhfTtY8j7N9ut0n8nfv2bhnGcDP1wKp23iuAahrcerGx06z0qWOP7VJqMTB94zl1zmI54Abr2qra2JvdXOgoqnZaxpmo3Nxb6fqNpdz2rbZ4oJ1doTzwwByp4PX0qa8vbXT7SS6v7mG1t4hmSaeQIiD1LHgUthk1FcvoPje21/wAX6xo1lHFJbabDBMl9FcCRLgSru4AGAB65Oa2NM1/R9aaVdG1ax1BoceYLS5SXZnpnaTjofyo3VwehoUVnQeIdFutQnsLbV7Ca8twxmt47lGkiCnDblByMHrnpTtL13SNbWRtF1Sy1FYiBIbS4SUIT0ztJx0oDYv0VSvdZ0vTZVj1HUrS0kaNpVWedUJRRlmwT0A5J7Ui65pL6OdWTVLJtNAJN4LhDCADgnfnb1469aOlwL1FZy+IdFewgvk1ewa0uZRDBcC5QxyyEkBFbOC2QRgc8U248TaDaafDf3Wt6dDZzsViuZLuNY5CM5CsTgng9PSgDTorOufEWi2UtrFeaxYW8l4AbZJbpFM4PQoCfmzkdPWi98RaLpss0eo6xYWkkCq8qz3SIY1Y4UsCeATwCetAGjRXNax8QPDuh65pel3+oQrNqal4nEqeXGmMh3YsMK3RTzk10tABRRRQAUUUUAFFFFABRRRQAVh+NdE/4SPwPq+kqgeS5tXWIH/noBlP/AB4CtyipkuZNDi+VpnztcaD4rvrGLxD/AGPqKajrsUmi3Vu9u++2hMMcayMuMqu+N2yR0b6V0HiTQk0HxnqEuseC77xVp11pUNrpbWln9pFoY12lCDzHknO/rzxnmvaaKp6/1/Xdv5iWn9en+SXyPFNJ8A366t8PdO8VaWdRhsLC6F35sPmwwseY43PK8AgAHg44rH8T+HryN/G9jfeBb7WNU1C4M+m6pBaCSOKEY2KsnVSoH3FyT0IxX0HRRL3vx/F3CPu/h+CsZ3h6KSDwxpcUyNHJHZxK6OMFSEAII7GtGiiqk+ZtkxjyxUex4x4s8F6nq3xC1bQ4bK6Gi6+Ib6e8SM+VHJFFIuwtjAYuI2xnnHvWVF4Z8S638O9U1W/0a7+3S3Vitzpksbxy3NtaxqGVQf7zbmHXOOMmvfKKhaKy8vw2/DT0Lerv/Xn+OvqeIW+h3GqXfivWfD3hO/8ADmly+H5LFdPmsxbyXdwQSGWFfQcZA5J9c0l/4PbSvAvge4i8Jy3tpayR3Gt6bbWm64ncx4DPGeXKsWyD644Ga9wop9Len4Nv9Rf8H8Ul+h5n8KdNls/EXi25Xw7c6BY3dxBJaWs9v5QC7DnAGV75IBOCcVpfEDT7298UeCpbO0nuI7bVvMneKIsIl2/eYgfKPc11+paTp2s2ottX0+1v4AwcRXUKyqGHGcMCM8nn3pumaNpeiwvDo2m2mnxO290tIFiVmxjJCgZNG9vK34W/yJto13v+J4dceCJ/+EC1q+Tw3Odd/wCEmaa3lFkxuPK85cMpxu2YyeOO9e8XSzSWMy27bJmjYIx7Njg/nU1Y8fhDw1FqAv4vD2lJeCTzRcLZRiQPnO7dtznPOaVvd5On/AS/QraXN/W7f6nhWn+H7xNN8L6cfAWp22taZrkT6lqzWeRKvmMSwlHzSL0JOCowOeRm7rvhq8ZfE+hXvgi91XXtW1F5rDXEtg0KRuylCZycx7QCNvTsetfQFFN6/wBd7fdsG239b/fueM6xo8ui/EK4vfFfhK+8Y213plvb2k9rZi5EDoAHDK33NzHdu9zjPOING0m8svjU9xofh7UntJ76WW8n1jRolWEnO6SC7zvI/ur6E9c17bRTvqn2Fb3eX+trBWV4psb3U/COq2OlSeVe3FpJFA+cYcqQOe31rVoqZLmTTKTs7niGm6LLqXwx1Lw9oPgm+0DXYtLEFxd3NosIvWDLvRZePM37W5PAz6Gk0jw/J4g8TWlz4a8HXvhO2s9HuLW+N5aC2+1ySRlUQDq+G5LnnjnHFe4UU37179f+D/mJaWS6f8D/ACPC/Dya7dyfDvT5/Cus2S6FcyRXdzcW22POzAI77f8AaIAzwCaq3Hgif/hAtavk8NznXf8AhJmmt5RZMbjyvOXDKcbtmMnjjvXv1FNO0ubzv+Kf6EuOnL8vz/zPLtK0VdG+Peq3U3hmZ4NThikstRgslaG2cRt5paT/AJZsxyOOSTz1r1GiiltFLsU9Xc5b4l2lzf8Awz121sbeW5uJbVljhhQu7nI4AHJNcL4l8PzaV4X8IaXpHhUvp0pV9T+xaPBdXCSeUoGVmBVWJyGkYcY5PY+x0UkrNv0/C/8AmH/B/E+f9G8Ialc6D4U0/VtAvmtofE08k9tc2h2xwHkF1A2hCfT5Tzjip9Z8J6lbeH/HGmaRol5DbS65azWUNvaNtKblLNGoGCox24GK95ooSs/u/Dl/+R/Elxv/AF35v/kvwPO/hbY6hoV54g0fXbG5bUftrXL6w0DiPUUb7rByNoZRxsBwO3evRKKKfRDCvIfiV9kHxd8NSajoEviC2i0+5d7GGFZnbHcRsQHI9PxHIr16s+fQdNudftdbmtt2oWkTwwTeYw2I33htzg59xSt7yfa/5NfqN7Nf1ujwm48G6/H4L0+8bQr4aWfEE+oS6LbQI9xb27gLGBDIGUlcN8hU/e5xyRonwZDd6P4cistB1w6bc+JRc3NnqtoiNFHswzNFEgWKMkdMYx7HFe60VS0/D8Lf5Ceq+/8AG/8AmeO+JNFt9B+JU1/qvge58R6JNpsdtp0WnWC3CWRQ/Mhi6LnOQ3GM4GecYvirwrcy+PddPiHw94g1G11RYRp82kWlvcCNQm3Y0kqM0OD/ABKV7nBGK98opLS3z/HUpu54rqPgf7brvxDlv9Cmv2GlwJplzcWpkaSRYCCYm28vuVclec0kegT2WvfD3WNT8K3WoIulpa3nl2AlkhnCqEeUHldvXceRg17XRTvt8v1X6iaTVv66f5BUdykklrKkD+XKyEI5H3Tjg1JRUtXVhp2dzw/wnoLR+E9Q8Lz+CL608SCyvIpdaltR5VwzBgMXHV925fl6d+1Hhz+2tS174dRzeFta0+LQ4J7a6uLu1KJv8gLkdwpwMFgAScDODXuFFVf+vv8A8xdLev42/wAjhPg3p97pfw2trXU7SezuFuJyYriJo3AMrEHBAPIrkPF5sYvjdqE+p+FJ/E0UehxgW1varcNGxkIDeWx59MjJGfrXrGp+HdE1uSOTWdH0/UHjG1Gu7VJSg9AWBxUVh4V0TS9WOpabp0Npc/Zhagw5RFiDbgoQHaOeeBmp3tf+tGhybbb76/jc8SufBev6Z4V8EPrGkajf2Filybuy0+CO6mt2lYlP3MqsrYBAOV+XB5BxWtH4JiuLjwBbLoWrS6Ot7e3FxbarbqWt1bBUSrGoRASMhTxzj2r26iqvrfzuL/L9Gv1PHp9Ij0L4n6tJrXgi71231E266Td2lmJorJFULsP/ADx2nB3DnAzisJfB9y3jnU7TxLoviKe7vNZ+1Wmp6baW7QLGXBRmuXjMkYXHKhsYGMevv1FKPutPt/wP8txNXTXc8C1rwNNeeFPiJeSeG5p9Wl1pn0+U2TNM8fmKcxHGSpBbleDzXT3uimx+Nmja1deGZ762vNMSFrqCyWQQXQcfvZT/AAELgbjzjgdDj1aiiPu28v8AKxUnzJ+d/wAWmFZ+v6Wmt+HNR0uX7t5bSQn23KRmtCilJcysCdndHzn/AGJ4vXQ7bxINC1L+1rOL+w1tfIcyGD7KY/N24+75rZ3eldRrfhtfDHibRrjVvCl34q0S20RNPhgs7QXRt51OSxiY4+Yfxdq9kopvXX+tn/m36sWm39br/JI8H0vwFqO3wBY67okstil/fXE9m8Zmjs4nAaOOQ8gcjOD3JB71L4p0GW08XeLYr7wNea6uo2Ecei3FtaLLDaKkJG0HjyiGHRfmOBgcjPudFJq6t/X9eY0/6+bf67HOfD21uLL4caBbXkElvcRWMSSRSoVZGC8gg8g15l4t8P6xc6d8TUt9JvpTfXdk1qI7Z2NwF27imB8wHfGcV61qPhXw9q92brVtB0y+uCoUzXNnHI+B0GWBOK1Ioo4IUihRY441CoiDAUDgADsKp6ycn/Wqf6Cj7trdDzbQ/DC6D8aI5dH0Y2GlyeHwkslvbFIWmEo4JA278D61b+L+m3+oaDpMlpplxq1nZ6pDcX9hbLveeFc5AT+Pkj5f6Amu4vrCz1Oze01K0gvLaTG+G4jEiNg5GVPB5Gar6X4f0bRDIdF0mx04y48w2lskW/HTO0DOMn86G728v87grL+vKx4tD4Z1TV/+E/Xw34Xu/DkGp2FqLK2nthb+aAMugAOxWYZBAPG7nBzVzQ9Dudb8WWN74T8JXvg2Ow0me3u5ryz+zfaJZI9sYABBk2sNxfrxzjivbaKmytb+uv8AmO+t/wCun+R4d4Y0vT4PA174f1X4f67Y6lBp80V/qFpYqZLr5wCIpf8AlqWJBCnjA4yBXQ/Ba01ays9Vgv8ARmsbFHjW1ubnSY9PubjCncJI0JyF4wxznJ5PIHqFUdT0TStbiSPWdMs9QjjbciXdusoU+oDA4NVzO7ff/O4rK1jzL4ni1HxT8Jvf6FLr1vHaXbyWEUKyu4CjkRsQHI64/LmuXuPB2vv8PxdQ6Few6dJ4lfU20WGJftEdoRhQIXBUkEf6sqRyOMV7Rb+DvD1nqVlf2OkW1pPYiQW/2ZfKRPMGH+RcKScDkg1t0lpGy/rW/wDkGrd3/WljwW98HpeeCbVNK0DxAlte+JraW4stRs44nWMIVeTyYEURpzjp2zxmt7xdoFvofxCsNTuvBk2v+HI9Na0t7DTbBZ1tJt5Yt5HTkHrx+deuUUen9aWH0/rvc+f/ABJ4Wnk8ZanLrvhrX7vTtUtLdNPGkWUFwbZVjCmJmlRjCQe6lT1PPbo7vwPHqHxC1w6rosuoWsXhyOC1uLuAyBpQMfK+MGTjqvPpivXaKmSurev5NfqLrf0/NP8AQ8FXw5dWml/DfVtW8J3mpCxilt9Rt008SzqMERB0YA7VOSM8D6kZ96HSiitHK/3v8SUrJeSsFFFFSUV2S9LnZPAFzwDASQPrvpPLvv8An5t//Adv/i6s0UAVvLvv+fm3/wDAdv8A4ujy77/n5t//AAHb/wCLqzRQBW8u+/5+bf8A8B2/+Lo8u+/5+bf/AMB2/wDi6s0UAVvLvv8An5t//Adv/i6PLvv+fm3/APAdv/i6s0UAVvLvv+fm3/8AAdv/AIujy77/AJ+bf/wHb/4urNFAFby77/n5t/8AwHb/AOLo8u+/5+bf/wAB2/8Ai6s0UAVvLvv+fm3/APAdv/i6PLvv+fm3/wDAdv8A4urNFAFby77/AJ+bf/wHb/4ujy77/n5t/wDwHb/4urNFAFby77/n5t//AAHb/wCLo8u+/wCfm3/8B2/+LqzRQBW8u+/5+bf/AMB2/wDi6PLvv+fm3/8AAdv/AIurNFAFby77/n5t/wDwHb/4ujy77/n5t/8AwHb/AOLqzRQBW8u+/wCfm3/8B2/+Lo8u+/5+bf8A8B2/+LqzRQBW8u+/5+bf/wAB2/8Ai6PLvv8An5t//Adv/i6s0UAVvLvv+fm3/wDAdv8A4ujy77/n5t//AAHb/wCLqzRQBW8u+/5+bf8A8B2/+Lo8u+/5+bf/AMB2/wDi6s0UAVvLvv8An5t//Adv/i6PLvv+fm3/APAdv/i6s0UAVvLvv+fm3/8AAdv/AIujy77/AJ+bf/wHb/4urNFAFby77/n5t/8AwHb/AOLo8u+/5+bf/wAB2/8Ai6s0UAVvLvv+fm3/APAdv/i6PLvv+fm3/wDAdv8A4urNFAFby77/AJ+bf/wHb/4ujy77/n5t/wDwHb/4urNFAFby77/n5t//AAHb/wCLo8u+/wCfm3/8B2/+LqzRQBW8u+/5+bf/AMB2/wDi6PLvv+fm3/8AAdv/AIurNFAFby77/n5t/wDwHb/4ujy77/n5t/8AwHb/AOLqzRQBW8u+/wCfm3/8B2/+Lo8u+/5+bf8A8B2/+LqzRQBW8u+/5+bf/wAB2/8Ai6PLvv8An5t//Adv/i6s0UAVvLvv+fm3/wDAdv8A4ujy77/n5t//AAHb/wCLqzRQBW8u+/5+bf8A8B2/+Lo8u+/5+bf/AMB2/wDi6s0UAVvLvv8An5t//Adv/i6PLvv+fm3/APAdv/i6s0UAVvLvv+fm3/8AAdv/AIujy77/AJ+bf/wHb/4urNFAFby77/n5t/8AwHb/AOLo8u+/5+bf/wAB2/8Ai6s0UAVvLvv+fm3/APAdv/i6PLvv+fm3/wDAdv8A4urNFAFby77/AJ+bf/wHb/4ujy77/n5t/wDwHb/4urNFAFby77/n5t//AAHb/wCLo8u+/wCfm3/8B2/+LqzRQBW8u+/5+bf/AMB2/wDi6PLvv+fm3/8AAdv/AIurNFAFby77/n5t/wDwHb/4ujy77/n5t/8AwHb/AOLqzRQBW8u+/wCfm3/8B2/+Lo8u+/5+bf8A8B2/+LqzRQBW8u+/5+bf/wAB2/8Ai6PLvv8An5t//Adv/i6s0UAVvLvv+fm3/wDAdv8A4ujy77/n5t//AAHb/wCLqzRQBW8u+/5+bf8A8B2/+Lo8u+/5+bf/AMB2/wDi6s0UAVvLvv8An5t//Adv/i6PLvv+fm3/APAdv/i6s0UAVvLvv+fm3/8AAdv/AIujy77/AJ+bf/wHb/4urNFABRRRQAUUUUAeM/EO/ls/iBcza7f+NtM0GO3t0ju9Dd0tY3LHe0jHjuo+UE/oKi+Kut30fiYxwav4gWxi0Y3VunhyQbopMn97c4IPlY28/XGOa7XxX4G1rxZfT2914ult/DtyUE2lQ2EYZlXBIE+dwyRnp3xVfxH8NbzUNZn1Hwx4ll0B7yyFjeRi0W4WaNRhdu4goQMjIOemMc5nXlS83+T/AFsVdc33fp+lzp/Cdzd3vg/SbnUrmG7u5bSN5p4GBSRyoywI46+nFa9Zvh7Q7Xw14dstGsC7W9nEI0aQ5ZvUn3Jya0q0lZydjON1FXCkZgilmOFUZJ9KWkZQ6FWGVYYI9ah3toUcta+Lr+5TTb0aNGNK1SdI7WcXmZdjglZHj2AKCBwAzHkZxziOfxy1naapf31hFbadp901n58t2FMsu9UXAK7VQluWZhtweCOaybC2vp7/AEfSbK6v7jTtLu1dfP0ea0McSKwAkmlwJeqqPLUHoTkAmujl8JpNo1/YvdsHub5r+GZYxmCTzBIhwSd21lH1oW/lr69Px38g6/15/wDAKeieOE1qLU4rf+ybi9sYlmxYaqLi3ZW3Y3TbF2EFTuBU4GCM5xWdN451DU/DV9caEmlS3lneQQySW2p+fblHZOUkERyfm2kFRjk88Z3L3w/qmsaHcWWs6pZzTNJFJC0OnlIVMbhwHjaRi4JAyNw46YPNRP4Uvriy1UXurxyXmotDIJY7TZHC8WNuE3klcqCQWzyeemCV7aB1Ojtmna2ja7jjinKgyJFIXVW7gMQpI98D6VJUdss620a3ckcs4UCR4oyis3chSWIHtk/WpKp7gFFFFIAooooAKKKKACiikcFo2CNtYjAbGcH1oYHKQWqWfjKGz0y/1C6ZoZG1RZ72SZEDD5DhmIict0VNvy7uMAYgTSoLDxYz6fd6qYdLtGnuVn1a6nSWRwQiFZJCpwoZjx1KVf8AD2h67oqQ28+q6XcWqktN5WlyRTTuers5nYbi3JO055rT07SVsX1GSWXz3v7lp5CV24G1UVfwVQM0nfp2f9fjf5B11/r+v1OWsjeaenhrVBfXdxday4S9jmuJHhcvA8o2Rk7Y9rIANoHy5Bz1qjomuQDUtBe31m6u9XvZzBrNi9y8ggYxuzBoSSsG2RABgLkZ+91rpdL8L3FlNYx3mopd2Ol5/s+H7PskT5SgMj7iHKoSoIVeuTk81Zg0fUZtYivda1GC6S1ZmtLe2tDCqMwK7nLO5dgpIGNo+ZuDkYu65tNv07C+zrvb733NqiiipGNlTzIXQOyFlI3J1X3HvXAJqn9kQ69PoV1ftBa6WZ1t9XlnaUTguA4W4PmhOACcBDxt5DV3twkslrKlvL5MrIQkpXdsbHBx3we1YB8MXGpNcP4nvoL15bOWyQWdq1siRSY38NI5LHavOcDHTqSLfUehVjtpvD2vWlvbajdzpfWc7Tfb7mSZfNj2ESAsSIx8zZVcL04GBXP6XrcmnQvf293qk00ejT3d/HqMsjRTzIFYNBvO1hktkw/u9rL6rXVR+F7m7WUeIdTW/wD9EksoWt4DblI5AA7N87bpCFX5htAwcAZpsHhe9uJIV8QapDf21rA8NvFBZ+QSHTYWkYu25tuR8oQck46YnWz/AK7/APA/DsEbK1/n+H9f8OVrK0m0PXNF26jfXf8AaiSJdrdXLzK8gj8wSKrEiPkMNqBVw3TgY66sDSvD99a3ltLq+qR6gtjEYrILa+UyggAvIdxDvtAGVCDluOeN+tJb6ERv1CiiipKOa8WrqEcmm3Vrqk1tbJfW0cltCgHn7pkB3ucnbj+FcZ5ySOKueKbieHSYobSZoJLy7gtTKhwyK8gVip7Ntzg9jg1a1fTP7VtoIvN8ryrqG4zt3Z8uQPjqOu3Ge1V9V0S41VLqOXUWjiYwyWqpEubaWNt4fP8AGCwXKnsCO9Cty2ff8NP+CJ3vp2/HX/gFLRFfTPFWo6LHcXM9mlpBdxC6nkneNnaRGHmOxYg+WpAJ4JOOOnSVlaTpVxaXVxf6pdQ3moXCpG8sEBhjWNM7VVC7kcsxJLHJP0FatMel9DC8RtLcXmk6Uk81vDfXDC4eCRo5DGkbPtV1IZckLkgg4zgimeGJZYbrWtLknmuIdNvBHbvO7SSeW0Mcm1nYktguwyTnGM1d1rSZdTS1ls7oWl7ZTefbzNH5iBtpUhkyNylWYYBB6EEYqCy0S8s9ko1JftU139p1CRLYBbkeXs2KpJMajCY5J+Tqck0l1/rt/X/Dh6/1/X9bHO2Mlwum6H4nF/fPc6ndRC4he4doTFMcBBFnYm3KkMoB+XknLZ0JoVsfGunw6XfX9zeTO8moxS3kksUduUfDGMtsjJkCBdoUnDYyA1WLLwvdW1xbwT6mk+kWUxntbX7NtkVuSoeTdhlUscAIp4XJODluj+H9c0t2jl1XSrm1mmaW6zpTrNcFupaTzyC2MDO3AAAAAAFC0/r00/MHu3/XXUzzql7qXjzRLu2upY9HlNzDBCjELdbY8mZv7y5ACewLDIYVBpOsQ3mqQ6xqiayI7i7eC2uhctDZRne0ccRhEgLEkffaMgs3DY2gar/Dzw2muaZqVjoul2bWEjSFIdPjUyMVwpyAMFT8wPPPpTo/Cl0lxHbSaoj6LDd/a4rP7LiUOH8xUMu7BjV+QAgPCjcQDkW67f1/wf8AhtBa6/1/X9ddTJgkuYtN0vxP9vvXur6/iSWFriRoDDNL5YjEOdi7QyncBuyvJOTmla65bw6jYz/21dyeIJdSFvqGmG6d1jRnKEG3J2xouUKyBV3fL8x3/N0tr4WuYLmGCbUkm0e2uTdQWn2bEgfcWVWk3YZFYkgBAeFyxwc2/wCyNRu9WjuNW1KCa0tpjNbWttatF82CF81jI2/APGAozzjgYI6Wv/S00/B/eEru/p+Ov/ANmiiigYUUUUAc/r4a/wBc0vRWuLm3t7mOa4mNrO0LuI9gCb0IZRmQE7SCduM4JBg0rUZ9P8O62JZZLs6PNPHFJOxZ3RUEihmPLEBgu4nJxknOTWlrOk3N9LaXem3qWV9Zsxiklg86NlYYZXQMpIPB4YEEDtkGG10Ca3t44ZL/AMxZnmk1EeQALtpBjjJJQDjAyeAASetS78rt2/Hox3V4/wBaamRZ29xo2paBJ/aV9cyauHivftFw8qM/ktKJEViViwUIwoVcNgjgVNYRxaf4zNtpt/fXMEVq76p9qvJJ44nJUx8uxEbkbztTA2nJGNtWLLwzqEJhF7rK3K2EDw6eVtNjxErtEkh3kSOF4yAg5bjkYTRPD2qadZpp2oXukXmmeWyTQR6W8bz7gdxdmncMWJJYlTuyc9at2vp/W5Kul72pm22q3938QrK8e4mi0q4066a3tNxCyLG8WJmHq2449Fx0JIqt4f12KX7HrWpxays2pQNLb3M10y2crGMuIUgEnGFBAZ41LbCckkE7Efw+8PW3iay1fT9I0yz+ywyx+VBYRpvZyuHyAMFQrDp/GeR3fYeFLm3ksre81NbrS9NJNlbfZykg+Uookk3kOFViBhV7E5IpfZst/wDgv/gFX7/1/wAD+tzKsjeaenhrVBfXdxday4S9jmuJHhcvA8o2Rk7Y9rIANoHy5Bz1qjomuQDUtBe31m6u9XvZzBrNi9y8ggYxuzBoSSsG2RABgLkZ+91rpdL8L3FlNYx3mopd2Ol5/s+H7PskT5SgMj7iHKoSoIVeuTk81Zg0fUZtYivda1GC6S1ZmtLe2tDCqMwK7nLO5dgpIGNo+ZuDkYq65tNv07E/Z13t977m1RRRUjCiiigAooooAKKKKACiiigAooooAKw/FE0pj07T4ppbcalerbSSwOUdU2PIwVhypIj25HIzwQcEblZ2t6W+q2UaW9z9luoJVnt59gcJIvTK8blIJBGQcE4IPIOw11KHh4SWOtato4uLi4trXyZoDczPM8YkU5TzHJZhlCRkkjdjoBVO6gSy8ZafHpt/qE9/PK0t7A95JJEtsVb5mjJ2RjfsClQpJB6jdWjZ6LqFvuuJdUjbULi5jlu5orXakkaDAiVGZigx33E5LHvgVdH0HXdJunI1bS5oJrhp7gnS5BPNk95PPxkDCg7cAAADAAo6/wBf1/w3zJ6P+u5nwk6f4ukn1611uH7RfmOzvP7RdrJgwxGhhWYhc8j5owM98kVSF9MfEqOL6/OonVzDuWaT+zzbbivl/wDPHftGNo/e+YP7ua6OXQ9Uv9QjOratBNp0F0LmG3gszFISrbo1eQyMGVeOiqSVGT1Bqr4SvBixfVo20UXn2wW32Q+eW83zgpm342+Zz9zOOM96I6cvl+Wn4738hy1v/Xf/AIDXmUdU1S+vfGWgS2VzLDpSai9qVjbC3r+RKWJx1RSoA9WDHsprTnXUYfiBYNNqkslncQXGyyRAkaBRHgt1Z2yW5JwAQAoOSYbz4c+Gp9S027tNE0qzayuvtD+Vp8YM3yMoUkAdGYNnnlR9RuXGm/aNbsdQ83b9kjlTy9ud+/bznPGNv60dEN7/AC/zOMuL2b/hJdyX2oDUf7WSFGE0n2D7PuAMZ/5Y79u4bT+98zGOMV6DXLDwjeqXsU1eMaK96bxrY2hNwWMvmlPO342+Z/sbtvGc811NC0il/XT+vW4n8TCiiigBNy/3h+dG9f7w/Oqz/fb60lAFrev94fnRvX+8PzqrRQBa3r/eH50b1/vD86q0UAWt6/3h+dG9f7w/OqtFAFrev94fnRvX+8PzqrRQBa3r/eH50b1/vD86q0UAWt6/3h+dG9f7w/OqtFAFrev94fnRvX+8PzqrRQBa3r/eH50b1/vD86q0UAWt6/3h+dG9f7w/OqtFAFrev94fnRvX+8PzqrRQBa3r/eH50b1/vD86q0UAWt6/3h+dG9f7w/OqtFAFrev94fnRvX+8PzqrRQBa3r/eH50b1/vD86q0UAWt6/3h+dG9f7w/OqtFAFrev94fnRvX+8PzqrRQBa3r/eH50b1/vD86q0UAWt6/3h+dG9f7w/OqtFAFrev94fnRvX+8PzqrRQBa3r/eH50b1/vD86q0UAWt6/3h+dG9f7w/OqtFAFrev94fnRvX+8PzqrRQBa3r/eH50b1/vD86q0UAWt6/3h+dG9f7w/OqtFAFrev94fnRvX+8PzqrRQBa3r/eH50b1/vD86q0UAWt6/3h+dG9f7w/OqtFAFrev94fnRvX+8PzqrRQBa3r/eH50b1/vD86q0UAWt6/3h+dG9f7w/OqtFAFrev94fnRvX+8PzqrRQBa3r/eH50b1/vD86q0UAWt6/3h+dG9f7w/OqtFAFrev94fnRvX+8PzqrRQBa3r/eH50b1/vD86q0UAWt6/3h+dG9f7w/OqtFAFrev94fnRvX+8PzqrRQBa3r/eH50b1/vD86q0UAWt6/3h+dG9f7w/OqtFAFrev94fnRvX+8PzqrRQBbooooAqv99vrSUr/fb60lAHG+KfiNZ+GvEGn6KljcXt3eXEMUjKCkVuJWwpZ8EZOGIUddp5FXPHfjW18C+HG1O4hN1MzBILVX2tK3U84OAACScdvesz4n6feahD4aFhaT3Jh162ll8mIv5aDdlmwOAPU8VzPxP8J+M9RvdZ1WxTTL+wNh9ltrZhM9zChwZPKRRt3sw6nPAA4qZNqF+t3+SZaSv8l+dv+CesWdx9rsYLnbs86NZNuc4yM4zU9ZPhdNSj8LaemuLbpfLAolW3DBB6D5uc4xnPfNa1aSSUmkZRbcU2FFFVdShmuNKu4bR/LnkgdInzjaxUgH86iTsmy0ruxDb6/o93evZ2urWM11HJ5TwR3KM6vgnaVByDhW4/2T6Uo1zSW1c6UuqWZ1EDJsxcJ5w4z9zOenPTpXGW91BJf+C7CDR7uzlsJ2il+0WjRLbkWsoKK7ACTJH3o9y/LknlcutIZD4csvDZ029GrW95HJLM9o4h3rMJHuBPt2HcMtgNuJbaRnIFtWdhdL/11Oym1zSbfVI9Mn1Oziv5QDHaPcIJXB6YQnJ6Ht2qDWvEWm6JFIt1eWq3nkPNDaSXCpJPtBOFB5PTqAa5SeCVPD2seHJNOvZNVvrqeSGcWjvC5eQtFMZtuxdg28MwYeXgAnbl2qrJaW/i2wudIvb+71RXe1MVq80dwn2dVVS4BRNrKw2sR6gHdznJvkbXb+l/XYqK963n/TO6t5fPtYpsbfMQNjOcZGakqvYqyafbK4KssSggjBBwKsVpKybsZxu0rhRRRUlBRRRQAUUUUAFFFFAGLpviE6j4gvtN/s65tUtYUlWa4AXzgzuuVTqFzGcFsE+mMErperahqs4uIdPt00iQEw3T3R86QdmEQjxtbqDvzgg4HSo1tZn8bajL5ciQy6XBEs207SwkmyAemQGBx7iuV0DSFs5NFg03R7i01ywTy9SvZrZlE6LEV2tOVxMrN5ZUAnAA+7txRsv6/rQqSs7L+tF+Z0el+Kbm/u7Bp9NSDT9UDmxuVud7thSw8yPaNm5QSMM3TBwaLDxRc3V9Y/aNNSHT9Sd47K4W53yMVVmG+PaAgZUYjDN0AOCawfD9tKupaS9rZakmqxq41U3sEqW8eUO/yiw8sFpQh/ccMMk5HNHh6CUanpDrYanHrCs51X7RBKtrFlT5hjLDyhmTbgw8t1ORuNNLX+vvJezZ6FRRRSAQnapJzwM8DNYWm+KEvrfVbm50+6sIdOwxFwAJHTyw+7YDleD90/N6gHit6uZmh1SP/hK5NLt83kqqbPzVAWRxAoGC3BG7j09amTdtCopN6kth4g1K4vBZ3ulQWtzcWjXdkq3hkWRVKgrIfLGxgXTOA45OCcVHF4i1aDWWs9Z0vT7eCK0e7nntdRecwovAyrQp947sc/wt6VQ8MQ26a/E2iWeqxWosyl22pQTRhGyvlpH5wBAHz/LH+7A7D5auR6Xcavo3iNriOSG41Uz20QlXayRKpiT8CQzj/fNVLRadn/wP66kx1speRZ03xBfT6hawarpSWMd/G0tm6XPmk7QDskG0BH2nOAXHDc8DO/XKWNxLrmraO/2G9szpaO919qt3iCyFPLEakgCTqx3IWX5RzyK6uqlvoTFt7hRRRUlGNrmq6ppcctzaaVDd2VtEZbh3vPKk2jJIjTYQxAH8TIM4Ge4sanq8enaR9uSNpzIUSCJTgyPIwVFyemSw57dawfEmoJc6u+k6pDqcelJGrSiz0y4n+2k87C8aMFQY+YdWzjhQQ1rXZ5b6xH2DT7xzYTWl6AYCnnIH3MqA4JcKp+UgHOB3oW3z/wCHB6bb/wBWL+kavc3d9dafqlnFZ39siSskE5mjeN9wVlcohPKMCNoxj3Fa1c/o+dR8SX2tRw3ENrJaw2sQuYHhdyjSMzbHAYD94AMjnB7degphpfQzdZ1STTo7aO0tlur28m8m3heTy1ZtpYlnwdqhVY5wTxgA5pNF1Z9TjuY7q3Fre2cxguYVkMiq20MCrELuUqykHA64xxVXxEJbe80nU0t5riGyuGNwkEZkdY3jZNwRcs2CV4AJxng1X0eWSC9vdQeyvfL1rUF8lfIYNCiwKokkVsFATGeoz8ygjnhd/wCu39f8MH9f1/X5i23ii6murWaXTEj0i9nNvbXYud0hbnazx7AFRipAIcnlcgZOLdr4gN14nm0kaddQpHC0i3U4CLKVcKQi/eIyfvEAHtkHNc/p0U8umaN4bayvYrjS7mIzyyW7rD5cJyGWXGx92FwFYkbjkDaQN+aCc+Nop442EY02RBKUJQOZEIBPrxnGe1C6fP8AK6f3inpe3l+ev4DLnxMkPjGy0GG2aY3CO01wGwsDBdyrjHzEgE4yMDBPUVBbeKLqa5tp5dMSPSLyf7PbXYud0hbkKzxbQFRiCAQ7HlcgZOMSHw74j03xJoHmajZ3saXE8tzcJpcisxZPmZ284gFug4AHAAIAWnnR0u9bt7HS59ba0tb/AO0vBdQNDa2xVi+UZo1aUF+AodlAYnjC0LdL+v6/pg72l+H3HQXniaO28XafoUVs0zXQczThsLAQhZVPHJYK3HYDJ6jL4PEBn8VPo/8AZ1zEiwPKt3MAqylGRSEX7xHz/eIA443DmuZHh3xJYeINCZ9Rsb1Pts09zOmlyKxLRMGZ288gZHyjgAfKAMDbXTTQSnxxZTiJzCunTo0gU7QxkiIBPTJAPHsaa3Xz/IUm7O3l+aNmiiikUFFFFAGXrGqXFlJbWunWkd5fXTMIopZvJjCqMszOFYgDgcKSSR2yQaXrK3ulzXV3D9jltHeK6iLbxEyfew2BuUjDA4GQRwDxVPXi1hrml6w1tc3FvbpNbzC1haZ4xJsIbYoLMMxgfKCRuzjAJFO1gmm0vULeS0u4z4gluZIy0RAt1MYVTJnlCwUHBGQTggEGpbai2u349EPS8f67/wDALem+I724vLNNS0pbODUkZ7F0ufMdsLu2yLtARivOAzDhhngZfaa7epq/2DXdPgsmktnuYHt7ozgohUOHzGu0jevTcDzzxzm2lxPq95om7Tr+2k0dXmuxNbvGok8po/LRjhZMlmOVLLhevIpdG8q68TCfSINWFrJDJ9tOq286gFiCiobgb+u75UPlgZyASubkrOy8/wBbEpu3vF3TvEt3c3dj9u0xLWz1QMbGZLnzHbClwJEKjYSgJABfoQSOMz6Fq2q6vi5n06yg0+Tf5Usd68krYbAzGYlAzjP3jj3rn9K0iOfXtMSwn1ybT9IkeVF1GAwRW/yNGsUe6NHl4fhiXACdRnlbSztLvX7a68H6RNok3lzG+uJdLe1RtyHYHRgnnMJMNxnG1vmG4ZXp/XYZuHxTF/wmg0GO3Z1W1knlu9/yo6FMx4xydsisfTI654i0/wAUXN1c6e93pi2+n6qSLG4W43yN8hdfMj2jZuRSRhm9Dg1i6f4f17TPGejLPd2d1aRWl1500WmyR7i7xM29jMw3uctn2bg9l07SI59f02306XWpdP0q4eYR39u0EFqNjoscW6NGk+/wSXCqvUZGWlt/XV/0vxB7N/15f8E7yiiikAUUUUAFFFFABRRRQAUUUUAFFFFABWfrOptplmjQW/2m5nlWG3gL7A8jdMtg7QACScHgHAJ4OhWH4nilEWnX8UE1wNOvVuJIoE3uU2OjEKOWID5wOTjgE8E7D7ljRtVnv5Lu11G0SzvrN1WWKOYyxsrDKujlVJB5HKggqR6ExQeIDP4qfR/7OuYkWB5Vu5gFWUoyKQi/eI+f7xAHHG4c1S026Y6re6yLG+8jUJYLWFGtnSQKoYGV0fDIuWI5AOFz0Iq7NBKfHFlOInMK6dOjSBTtDGSIgE9MkA8exprWS+f5XIbfK+//AAbBDq2oX2qOmm6fbyadDMYZrua6MbFlOH8tAjbgp+XJZeQR0GSg8QlvFseijTrlUaGWT7ZKAiMU8vKoPvN/rBlsAdgTzjko9Ejt7r7KmlXX/CQrqjTQ6obZmCwNcGQkXGCqp5bMpj3ZJJGOcnrL2CZ/G+kTrE7Qx2d2ryBTtUlocAnoCcHH0NEdbf10L3bKx8VTi4FydOT+xjefYvtn2g+b5m/y93lbMbPM+Xdvz3xjmrF3rOo2Gox/bNMhTTJbhbdLhbstMGY7VJi2YClsDhycEEjqBhLBcy6UvhhrO7S6j1ITecYH8jyFufOD+bjZkqANud249Mc1MNVh1LxIr6zb6vGtndMlnZrpNyYd4YqJ3kEZVs9V52qDk8jIStp/Wmn9f8MJ7Pv/AF/X/Do17nWdRsdWgjvdMhXTrm4FtFcR3ReXcQcFotgAUkEZDkjIJA5xuVx9+yXniWCTSrfVhqcN4nmfaoJ/sixA7ZGUyAxKShODEQ5JGeCwrsKF8N/6/r+ugPct0UUUAVX++31pKsmJCckfrSeUnp+tAFeirHlJ6frR5Sen60AV6KseUnp+tHlJ6frQBXpCNykHPIxwcVZ8pPT9aPKT0/WgDC0/w3pum3guoRdTXCqVSS8vZrpoweoQyu23OBnGM4GelatWPKT0/Wjyk9P1oAr0VY8pPT9aPKT0/WgCvRVjyk9P1o8pPT9aAK9FWPKT0/Wjyk9P1oAr0VY8pPT9aPKT0/WgCvRVjyk9P1o8pPT9aAK9FWPKT0/Wjyk9P1oAr0VY8pPT9aPKT0/WgCvRVjyk9P1o8pPT9aAK9FWPKT0/Wjyk9P1oAr0VY8pPT9aPKT0/WgCvRVjyk9P1o8pPT9aAK9FWPKT0/Wjyk9P1oAr0VY8pPT9aPKT0/WgCvRVjyk9P1o8pPT9aAK9FWPKT0/Wjyk9P1oAr0VY8pPT9aPKT0/WgCvRVjyk9P1o8pPT9aAK9FWPKT0/Wjyk9P1oAr0VY8pPT9aPKT0/WgCvRVjyk9P1o8pPT9aAK9FWPKT0/Wjyk9P1oAr0VY8pPT9aPKT0/WgCvRVjyk9P1o8pPT9aAK9FWPKT0/Wjyk9P1oAr0VY8pPT9aPKT0/WgCvRVjyk9P1o8pPT9aAK9FWPKT0/Wjyk9P1oAr0VY8pPT9aPKT0/WgCvRVjyk9P1o8pPT9aAK9FWPKT0/Wjyk9P1oAr0VY8pPT9aPKT0/WgCvRVjyk9P1o8pPT9aAK9FWPKT0/Wjyk9P1oAr0VY8pPT9aPKT0/WgCvRVjyk9P1o8pPT9aAK9FWPKT0/Wjyk9P1oAfRRRQAUUUUAUtT1rS9FhSbWdSs9Pikbaj3c6xKx64BYjJqPUPEWi6SkD6rrFhYrcDMLXN0kYlHHK7iM9R09a8Z8aNqdz8RvFuojStC1OPQbCB0i10M8aQFC7+VEOGdm/iJAGMd6q+KXPjHWptR0DStKlkTwtHPd2+splLWNgXX7OQRiQBj8xwBgc80r+7zf1s3+hVvet/XT/M+gQc9KK5z4ezWk/w50F9NknkthZRpG1wAHO0beQOOoPSujq5K0mjOL5ophRRXL+M7K4vLrQfs+qXdhjUQubdYjkmN/m/eI3IwR6cnIPGIb1XqvxL7nUVHFcQztIsE0chify5AjA7GwDtOOhwQce9cV4h13UbXVzNpFzqlxBZ3MFvcpHBbC0QsyBg7PiVmw+cxEgfKCODmqF1a3j8Y6pYawbIWF/LPFbiGNo5isEbETFlLbTjHyFCATyeMCa1v2v8Al/mKzukurt+f+R36XEMs0sMc0bywkCRFYFkyMjI7ZHNSV59ea5daZceIbyygd7q5utPgRE2FkMqIuRvKqSN3G4gZxmoNUTxHd+Hb+31SXWLG3juLR7e6uxYmeQmUB0IhDJtHysDtU54OQOTWzfYFZ2PSKKjtongto4pZ5Lh0UK00oUNIfU7QBk+wA9qkpgFFFFABRRRQAUUUUAFFFFAEYuIWuWtxLGZ0QO0QYblUkgEjrgkHn2NNa7tlvEtGuIhcyIZEhLjeyggFgvUgEjn3FctYWdjoXjvXJrS1YBtMguZ/KRpJZn824JPdnbjAHJ4AHAArntN1aO4+JGn6jcW2pLqN5YXatHNpdzEIV3RGOIF4wMKM5bpuY8jcoo/r8/8AIpxs7en6P9T0Ia3pTawdJXU7M6ko3GzFwvnAYznZnd056dKW21nTL3UJ7Cz1G0uLy2/19vFOrSRdvmUHI/GuO8LX2r2OieH5Lo2JtNaUAxwRt58U0kTSmVpS+2QkqxICLgt1IXmK0h1KyuvCOl3Gjm0m0+7aJ7xpo2W5XyJQ7RhWL4bAdt4XnHU07Wdn6f16E9Lr1/r1PQ6KKKQBVebULO3iuZbi7gijtRuuHeUKIRjOXJPy8c89qnI3KQc4IxwcVzPhTS7LR9Y1+z023WCBbiE7VySzGBMsxPLMTyWJJJ5JNK4Glp3inw/rF0bbSdd02+nClzFa3kcrbR1OFJOOafpviTQ9YuHg0jWdPv5o13PHa3SSsozjJCkkDNUtIH9q61qmqsfkjZrC0IOcKh/eMPQmTIP/AFzWqGhrqXhy707wxq9xY6hZPp7rbzxQNA6CEIpEis7hwVcHcMYIPHIw+mv9f0v8h23Og07XNJ1eSZNJ1SzvntyBMttcJIYyc4DbScdD19DV6ua03frXiaDWbSA2+mWlpJbW8jLta73sh3KvaNfL+Un724kDbgt0tPoIKKKKQFG81zSdPvoLK/1Sytbu5IEEE1wiSSknA2qTlueOKuSyxwQvLM6xxxqWd3OAoHUk9hXOeNILubQb6G3sYZbSe1dbyZJgtwigH/VoVCucE43OuOvPSneJ5Irnw9p+G32lzfWavu/jjaVMA56g8Ag9c0LXRb3/ADB6a+v4Gzp2qafq9r9q0m+tr633FfNtplkTI6jKkjNWq56yXZ8RtWEQxHJp1q8mDwZN8wzjpnaAM+gHpXQ0Bs7EN5e2un2kl1f3MNrbxDMk08gREHqWPAos7y11C0jurC5hureUZjmhkDo49Qw4NY2vhZNf8NxTcwteyNtPRnWCQrx3xgke4B7U3w4pj1zxPHGMQjUVZADwGa3iL49PmJJ9yaO/9dg/r+v6/LXUi1rS59Wl0uHUrOTUIV3S2iTqZUHHJTOQOR1HcVZ8+IXAtzKnnFC4j3DcVBwTjrjJHPvXDWcY/wCEL8KXAjUXp1CCVmHDebIzeefckNJn2zWrbaVZaf8AEpp7S3VJrvTpZLiUks8reamMseSB0A6AcDAoWrt6/grim+W/y/F2Nq11zSb7UJ7Cx1Syuby3z51vDcI8kWDg7lByMHjmli1rS59Wl0uHUrOTUIV3S2iTqZUHHJTOQOR1HcVh36zp4r0dr+zitrOG6kWyltJt5kd4nGJVKrsBG44XfkgElcc4skOpWC6Lpc2jeXNb6wrpqTTRFJwzsXZACZDIyM5YFVA+f5jgZI6tL+un+Y3om+39fodtFrWlz6tLpcOpWcmoQrultEnUyoOOSmcgcjqO4oTWdLl1aTS49StH1GNd72azqZlXjkpnIHI7dxXEyQ6lYLoulzaN5c1trCumpNNEUnDOxdkAPmGRkZywKqB8/wAxwMtsvNI0q6a2hXRf7akngvd265Z5ZJFXcmMKrM+N4ZmKkAouWKkdbf12/wAwel/S/wCf+R6LRRRQAUUUUAVr/UbLSrN7vVLy3srZCA01xKsaLk4GWYgDnipba5gvLaO5tJo54JVDxyxOGV1PQgjgj3rF1QeZ410FJVDQrFdSruHSUBApHvtaT9aoacZbXw/4pFguwQ3d21qE6BigY4/7aF/xzUuVk32Tf3Dtql3dvz/yOgs9Z0vUbu4tdP1K0uri1O24hgnV3hOSMMAcryD19KisPEmh6reSWml6zp97cxgs8NtdJI6gHBJVSSMEgVgpbQW1x4K/s1EVAjxApx+4NsSenUbljP1xUmhLq3hq90vw9qV1Z6jay2zpb3EMDQyoYgPvgu4fIP3htwR0OeLa5XZkpqSujesdc0nVLme30zU7O8ntjieK3uEkaI5IwwBJXkEc+lR2fiPQ9R1CSw0/WdPuryPdvtoLpHkTBwcqDkYPBrIYTxeNdLOpWUNpEqXFtYNaS+YrghWxJlVKHbGSFAZePvAgAwWs+qeELiz0/UZoNT0+48/yTa2jpcRsqtLgrvfzcgMOApzjg54ntcfWyOqe9tY7pbWS5hS4aNpViaQByi4BYDrgZGT7isyz8YeGdRvI7TT/ABFpN1cynEcMF9G7ucZ4UNk8VxWj6pFd/E/S7+7t9RS/vbK6R1m0y5iECb4jHEC8YGFG7c3Tcx5G5RXYRH+1PGcznDW+jxiNBnP+kSLlj9VjKgf9dGqraJg/I3qKKKQBRRRQAUUUUAFFFFABRRRQAUUUUAFRXNzBZ2slzeTRwQRKXkllcKqKOpJPAHvUtYPigeZPocMihreTVI/ODDIOEdkz/wBtFT8cUdhmtYahZapZpd6ZdwXls+dk1vKsiNg4OGBIPNSGeEXC25lQTMhdYyw3FQQCQOuASOfcViaOgj8Y+IVhULE/2aR9vQylCGJ99qx/hiqqaXZWPxMjubW3VJ7zTrh7ibkvKRJCBljzgDgDoBwMU1rJL1/K5Dfut/1vY6Oa7treaGK4uIopLhikKO4UyMASQoPU4BOB2FQf2zpn9r/2V/aNp/aO3f8AY/PXztuM52ZzjHOcV51qGtwah420DUr201WKVNTaG2hl0m6QQw+RKCcmPDM7YY4JwoX+6xrSZAfAcVygzeHX1kLg/N5v2/Y3PX7uV/3eOlCV7Pv/AF/X3eZT0dv66/5fqd41xClwlu8sazSKzJGWAZguMkDqQMjP1FVY9c0mXV30qLU7N9RjGXs1uEMyjAOSmcjgg9O9Yc+mWdp8UNOvIIFW5u7G7M0xJZ3Aa3CjJ6KOcKOBk8cmjxD58Wqaa15Zww6VDqULx3NvLulMr5QbkKqEUu+Cys5IPKgElUtbef8AnYbWhuLrmkvrDaSmqWbaioy1mLhDMBjOdmd3TnpV6uZ1Ef2xqlrpulWwWCyvVuru9ChUjdW3GNP70jE4bHABbJyQp6ahbXF1sFFFFABRUZmUEjB4o89fQ0AYHiHwB4X8V6jb33iDR4by5txtjkLupIznDbSNwz2bI5Pqaj8RfDnwn4ruLefXtGiuJbePyo3SR4iE7L8jDIHYHpk46muj89fQ0eevoaAEtbWCytIrWzhSCCFAkcUahVRQMAADoKlqPz19DR56+ho3Akqnqmk2es2gt79JGRZFkRopnidGHRldCGU/Qjgkd6seevoaPPX0NAGRc+ENEvL6S6ubWR3ldJZE+0yiN5E27ZDGG2FxsX5sbuBzRN4O0Se+mupLWXzLibz51W6lWOd8KAZIw21wAo4YED05Na/nr6Gjz19DQG5TudB027jv0ubUSLqIUXQLN8+0YU9flIAGCMHIz1qBPC+lppl1YOl1PBdACU3N7NNIQOmJHcuuDyMEYPIwa0/PX0NHnr6GgAtoEtbaOCIyMkahVMsjSMQPVmJLH3JJqSo/PX0NHnr6GgCSio/PX0NHnr6GgCSio/PX0NHnr6GgCSio/PX0NHnr6GgCSio/PX0NHnr6GgCNbG3TUpL9Y8XMsSwvJuPKKWKjHTgu350kmn2supwahJFm6gieKOTcflVypYYzg5KL+VS+evoaPPX0NAGbZeGNJ0/UjfWlu6S5YopnkaOIt94xxlikZPcqBnJ9TT7Hw9p2n6hJfQpcS3Tgr5t1dy3DIpOSqeYzbATjIXAOB6DF/wA9fQ0eevoaFpsBJRUfnr6Gjz19DQBJUENlb291cXEMe2W6ZWmbcTuIUKPpwB0p/nr6Gjz19DQBDbabaWenGxtodlsQwKBic7iS3Oc8kk596oWnhTSLOK4RIrib7RCYJHurya4fyz1RXkdmVT6KR61q+evoaPPX0NKyAzNN8MafpNyk9pNqRZF2qlxqtzOgGMfckkZf04rXqPz19DR56+hpgSUVH56+ho89fQ0AZmo+F9L1a8NxfpcyFlCyQrezJDKB2eJXCOOx3Kcjg5FT3GhabdteG5tFk+3RpFcBicOqZ28Z4I3HBGD+Qq556+ho89fQ0dLAVtM0i00iF47JZT5jbnknnknkc4x8zyMzHAGBk8CrtR+evoaPPX0NAEGpaXaavafZr+IugYOpSRo3Rh0ZXUhlYeoINQReH9Migs4lt2K2U5uIWeV2YSkMC7MSS5Idslic5q956+ho89fQ0AZ1r4Z0my1RtQtrd0mLM4Tz5DEjt950iLbEY5OWVQTubnk5vGytzqK3xj/0lYjCH3HhCQSMdOoFP89fQ0eevoaAM2y8M6Zp98LuBLl5Vz5YuLyaZIc9fLR3Kpxx8oHHHTipLfw/p9tqj6iq3Et0xYq9zdyzCLd18tXYiPPT5QOOOlXvPX0NHnr6GgCjb+H9PttUfUVW4lumLFXubuWYRbuvlq7ER56fKBxx0qCDwno1tqS3sNtIJElaaOI3MpgjkbOXSEt5ascsdwUHLH1Navnr6Gjz19DQBJRUfnr6Gjz19DQBJRUfnr6Gjz19DQBV1XR7LWbeOK/jdvKfzIpIpnikibGMrIhDKcEjgjIJHQmmQ6DptuLLyrbH2Df5BLsSC4w5JJ+YnJyWySST15q756+ho89fQ0dLAZuneF9I0qaSSxtnQuhiVXuJHWJCclI1ZiIlOB8qBRwOOBg0vwzpekTGa0jnklMflCW7u5bl0TjKK0rMVU4GQMA4GegrS89fQ0eevoaA3M3TfDGl6Tci4tUuZJVQxo11ezXHlKcZCeY7bAcDO3GcDPQUml+GNL0i4E9nHcPKqeXG91eTXBiTuqeYzbAcDIXGcDPQVp+evoaPPX0NAEUmn2supwahJFm6gieKOTcflVypYYzg5KL+VLa2NtZNObWIIbiUzSnJO9yACefYAfhUnnr6Gjz19DQBJRUfnr6Gjz19DQBJRUfnr6Gjz19DQBJRUfnr6Gjz19DQBJRUfnr6Gjz19DQBJRUfnr6Gjz19DQBJRUfnr6Gjz19DQBJVXUdNtNWsXs9Qh82FyCRuKlSDkMrAgqwIBDAgggEGpvPX0NHnr6GgDPh8N6XBaRW6wSOkVyLpWluJJJGlHR2dmLORwPmJ4AHQCrrWVu2ox3zR5uY4mhV9x4RipIx06qv5U/z19DR56+ho/r9BWRFdafa3s9pNcxb5LOXzoDuI2PtZc8Hn5WYc+tVE8N6XHq51JLd1uGcyFRPJ5XmEYMnlbtm/H8W3d71oeevoaPPX0NA9yOSxt5dQgvpI83NvG8cb7j8quVLDHQ52L+VUY/DOmRap9vCXLzeYZVSW8mkhRzklliZyink8hRjJ9a0vPX0NHnr6GgPIxovB2kwXbXFu2pQs07TmOLVrpIt7MWY+WJNmCxJIxg56Vu1H56+ho89fQ0B1uSUUUUAVX++31pKV/vt9aSgAorybx18Q5rXxhcaJB4ptvC1rYJGZrt7E3c08rgsEWPBwgXkt2OBnmtT4keOLzQPCqQeGrqO61iW0+1/akVWWK3XG6cjlcMSFUdCW9qV7R5v6/r9NR297lPRaKq6ZM9xpNpNM26SSBHY4xklQTVqqas7Ep3VwooopDCioL6RodPuJYzh0iZlOOhANc9p/iqRtH0xFsbzWNSl0+G6uY7MRKUDrwzF3RRuIbABzweMCjv8A13/yDa39dv8AM6iismy8SWGoXVtBB5o+1WzXMTSJtBVWCupB5DKSMgjjNUx4whntopdO0vUNQMkIuGS3WLdHESQjnc6ghtpIAJYjtRsB0VFQ2l3Bf2UF3aSCSCeNZI3H8SsMg/kamoemjAKKKKACiiigAooooAKKKKACiue0u91h/GWpWWqzWxt0tIZreG3Q/uw0kq/M55ZiEXPAA6AdyaXe6w3jHUrLVJrYwJaQz28Fuh/dhpJV+ZzyzEIueAB0A7kG01fyt+Nv8zoaK4jw/rl/d67ZxSat9suZllOpaV5cf/EsIGV5VQy84XDlt+dy8A1e06+uf+ErFpaa+dbixKL+LbDtsXUjaoMagqckjY5ZiBnPynII6miiigAopDnadoBOOATiuf0C61q5uNZt9XuLX7TBIgiFvEfLh3RK23k5fBPU7c+i9ArgdDRXNWM9/Y+I7jSzqc+s4sjct9oSJXgfdhFzGijDjdjIz8h5rM8N6vfapqCW6eIXv3nsme/iSGJW0qfI2qML8pyXGyXc3yZ7HL3/AK9f8g/r+vvO4orl9Mg1SPxfJbHxBqF/Z2lvuuEuorYK0rn5FBjiUghQWPP8SV1FABRRRQAUVynjrXr7TNIuIdBkVL+OH7TLKyhhBCD1weCWI2gH/aP8OK1fEN9cWWkp9iZUubmeK2jkZciMyOFL474BJx3IoE3bc1qKwNGuLy18QX2i319JqAht4rqG5nWNZMOzqVYIqrwY8ggfxYPSt+gfkFFY2v3V2JtO06wuGtJb+cxtcoqs0SKjOxUMCu47QOQQM5wcU3w9e3Ukup6df3BupdNuhCLlgqvKjRpIpYKAoYb8cAA4z3oA26K4yz1TVPs+la/LqbS2mqXKRnT2ijEcUUpxGUYLv3g7CSzEHLYA4xp215rA8bSWl/NbCxe0klgggQll2yKoZ3PUkHOAABnHzdaP+D+CuKT5b38vxdjoKK4yz1TVPs+la/LqbS2mqXKRnT2ijEcUUpxGUYLv3g7CSzEHLYA4xeu5NQ0zxJpoOszXY1C4dG094YgiRBGYuhVQ42kICWZh82OCRg/r5jeja/r+tDpaK4i01y/fxRDA2seZePeyxXGh+XGfs9uN22XgeYvARtzMVbfgAZXF5L25TxhFbWWvHVd0zrf2GIdthGUZkb5FDqchVAdju3HjjgWv9f1/kD0OpooooAKKKKACisTW7i7m1TT9IsL2Swe7WWaS5iRGkWOPbkLvDKCWdeSDxnjPIi0vV54dD1R9SlF1NpMs0UkwUKZlRQ6sQBgMVIzgAZyQAMCk2km30HbVLudBRXIQahqmjXGl3Gs6q15DqiP50LxRottIIml/dFVBK4Vhhyx6HPByvhfWzq17FPc61dPNdQGZLEWgS0CnB/dSmIGUqCMkSEEknAGAKtrYm6tc66iuW0q9uT4nNra6/wD25AElF6u2HbZSqV2qDGoKk5YbXLNhc54OaPh/XNQu9ds4pNW+13MyynUtK8uP/iWEDK8qoZecLhy2/O5eAaS1GdvRXKabqE6eI3gt9fOuWyRym+XbDiykUrtUGNQVJyw2OWbC5zwcw6dqWrKmh6teag00GtOqyWLxxrHbCSNnTy2ChiRgKdzHOSRjgUf19+wP+v1OxooooAKKKKACiiigAooooAKKKKACiiigAoorI8Q3lxBBZ2ljP9muNQultknCBjENrOzAHgttRsZBGcZB6EA16Kw9CuLyPUtS0nULxr57MxyRXMiIsjxyA4DhAq5DK3IA4x3yTHFeauvjoWd5NbCwltJZYIIYzuG141DO56k7jwAAM9W6093b+u4r6X/rex0FFc897rEfjy1tJ5rZdNntbh44IkJclDFhnc/77AKBx3JzwzUX1HTNbsZRrE1x9uvBCNNaGIRiMg5ZCF8zKgBiSxHB4GRhdvP/ADsN6K50lFcR/bmof8JMsP8Aa2L06gYDoXlxkfZckednb5g+X59+7Zn5MZq1rOv36+K9Is9McJYi/FtfSFQfNdoZHEa56bdoYkeqj+9Qtbef9fqHVrt/wf8AI62iuHm16/ghbXJNW2RJqwsG0to4/LC+eIeu3zPMwfM+9jH8OOa7ijpcOpbooooAqv8Afb60lK/32+tJQB5x4q8BeILvXdYuvC95pcVt4htUtdSW/jcvGFG3fEV4JKk8HAyPfilrfwTguNGuU0bXtVgvZLGK0Eb3YS2mEaBVEiqhJXgnHPJNeqUUraW/r+tR3d7/ANf1ojN8PaU2h+HrLTZLu4vHt4gjTXEnmOx/3sDIHQcdAK0qKKptt3ZKVlZBRRRSGQ3cTXFjPChAaSNkBPTJGK5ew0LW9AW2l0pLC8lbT7e0uYbm4eFVeIEB0dY3JB3EbSB0ByORXXUUbf16/wCYWv8A1/XY5O88JXZ0Gxt7G7jW+glkaWcgorLOW87aBkj75ZR6quT1NV9Y8FRS66L+10DQ9Yia0jtjb6r8vkeWTtMbeVJwQxBXA+6pz1rtKKAILK2SzsYLaKKGFIo1QRwJsjXA6KvYegqeiijcAooooAKKKKACiiigAooooAzItNmTxXdamWTyZrKG3VQTuDI8jEnjGMOO/rTBpU//AAk17qHmKsNxYxWy7Sd6sryknpjGHGPoa1qKN1Yrmevy/C3+RyOk+HtXgbRbW+TT4bTRARFcWsrtJc4jMYBQoBGCG3EBn5AHvVyLTtY1DXLC+1m20+0/s4uY5LO4eV59ylSp3RrsTkMVy2Sq8/Lk9FRTvrckKKKKQBWI+m6lA2vXGny263V6A1oZCdqOIgoL8dNwzxnituik1cadmctpmkasmmXmmXGn2GnRXcMnmXtrqMlzO8rLt8xt8Kbj7luwGMdHaXo+rf2lpsupwabaQ6XA0MRspXdpwVC4IKKI0+UHYC/O3n5eenop9b/1/WpPS39f1oZmiadNYR3j3jRvc3d3JPI0ecEE7UHPcRqg/CtOiigYUUUUAcp4n8DWmtWOptaSXcN/fJgt/aVzHCzABQWjV9uMAfw1c1DRr+6sXs7aaFIrU28thJK8kshkjbcRKzEkg4UZyTgsTW/RRtsK19zH0mwvRqV1qurpbw3dxFHAIbaZpUjjQsR87KpYkuxPyjHA9zsUUUDMnXNPu7prG80ww/bLCcyxxzsVSUFGRkLAErw2cgHkDg1Bp+napaSNdH7GLm/vBPfpvdljjEWwLEcDJGxOWAz83A4FbtFAf1/X9fkjlbHQNUiFjpd39j/snTZxNBNFI3nShSTGjRlcLtyMsHOdnQbuNhtOlbxRHqW5PJWze3K5O7cXVs9MYwp71pUUf1+FvyE1ff8ArW5ytjoGqRCx0u7+x/2Tps4mgmikbzpQpJjRoyuF25GWDnOzoN3Bo9h4gstVlub3TdKnluZSJ7/+0pDL5W47VWMwYVVHRAwGckkkknqqKFoN6nH2nhzV41stNmXTxY2V8bxb6OR/tEp3s+PL2AIzbiGbecgtx83F2TT9Z1TWbGTVLXTbaDT7hp4ri3uHlmk4KhQrRqIwQ3zYZuBt75HR0ULT+v67A9f6/ruFFFFABRRRQBj61YX0l5Zalo620l3Z708m6do0ljcDcu9VYqcqpztb7uMc5Fe10a/Sze3uTasuovNJqQBY7S64VYjgZAwFyQMgZwCcV0FFJpNNPqHVPscvaaDqt41pB4hNmbbT4XiiktpXL3LMhj8xlKjy/kLfKC/Ldfl5TTtD1g3Gkx6v9gFvooJt5rd2L3DeWYlZkKgRjazEqGbJI5AHPU0VV3e/9f1qKy6HNR6XrOp6vaXuswafYNZRyKkljcPNJKXXaQS0abEH3tvzZIXkbea2leHtYgOi2t6mnQWuiAiG4tpXaS5/dmMBkKARghtxAZ+QB7111FIZzcOmavqWtWd9rtrptp9iSRVazuHmefeu0qS0abE77fmyQvI28xaXoOqw/wBl2GoNanT9HINvNFKxludqFE3oVATAbJwzZIHQcV1NFABRRRQAUUUUAFFFFABRRRQAUUUUAFFFFABWXr2nXN/a28mntCLyzuFuYBPkIzAEFSRkqCrMMgHGc4OMHUooAwbGw1iKebUJlsY728uIhcRLI8kcUCDG1G2qWbknJUDLY7ZNyXTpX8UW2pBk8mKzlgZSTuLM8bAjjGMIe/pWlRQtHf8ArawrdP63uZlzps03ifT9RVkENrbXETqSdxMhiIxxjHyHPPpWTYWPiG11ye8udM0m5knmZTetqUokS33fKix+QQuFxlQ2CwyTk5rqaKOxT1Vjj08OawFXTGFh/Z66ib/7eJX+0H99523y9m0Nk7C+/pk45xSX/wAPrJ7zTJdNlvYUtr83UyNq11tIKyZ2LvIDFnB4xxu55IPY0ULS39dv8hd/M5a88Nyal4mF3NpOkWkaypI+oRHzLy5VCCsZ/drsGVXPztwuMc5HU0UUdLB1uW6KKKACiiua1Hx/oGm+L7Hww9y0+rXjhRBAu7ycgkGQ5AXp05PIOMHNHWwdLnS0Vxvib4n6J4X1d9PurbUrx7dEkvZbK282OxRj8rStkbQevGTj8Mu8S/Eiw8LzRm70fW7uweFJ21Oys/NtY0Y4BaTcMevToR60X0uGzsdhRUdvPFdW0VxbuHimQOjD+JSMg/lUlGwJ31QUVSg1SG41i801FkE1pHHJIxA2kSbsY5z/AAnPHpV2gAooooAKKp6hqcOmtZrOsjG7uVto9gBwzAkE5PT5TUt5e2+n2puLuTy4gyqW2k8swUdPcii4E9FFFABRRRQAUUUUAFFFFABRRRQAUVk6b4l0/V9ZvNOsDLJJZorySmIrG2WdcIx+/gowJGRnjOQQE07xNp2raxe6dYtLI9kivJMYisTZZ1wrH72CjAkZGeM5BAANeisLT/FlrqF9bwizu7eC93fYbucIIrzaM/JhiwyoLDcq5AJGaktPEaz6umn3emX2nvOHNrJdCPbcheu3Y7FTgg4cKcduDgA2aKKKACikJCqSxAAGST2rK0XxLp3iAXb6a0rQ2rhTNJEY0kBUMGTdjcuCMN0PUEjmgDWorG0rxPZa5b30ukR3F0tmQB+68v7QSgceWXKhgQRhjhT1BxzVeDxYx1VbHUdC1LTCbeS5M109s0aRpjcWMczkfeHb+RoA6GisTSvE8Wp3qW0mm6hp7Twme1a8jRRcxjGSu1mKkblO1wrfN04ONunawBRRRSAKKxtR8QvZ6t/Z1no1/qc6wrPJ9keBRGrMyjPmyp1Kt0z0q9qepQaVp0l5db9iYARBlnZiAqKO7EkAD1NHS4dbFuiszSdbTVJri3ls7jT7y22mW0ujGZFVs7WyjMpU4bBB6qR2rToAKKoatq0Wk28bvDNczTyCKC2gCmSZyCdq7iB0BJJIAAJJo0jV4dYtpXjilt5oJTDcW0+3zIJAAdrbSR0IIIJBBBzRuBforBt/FttcalFb/Yb2K1uJmgttQkVPInkXOVXDFx91sMyhTt4JyuS38W21xqUVv9hvYrW4maC21CRU8ieRc5VcMXH3WwzKFO3gnK5Nw2N6isG08W213qEMAsL6K1upGitb+RE8i4dc5C4YuMhWwzKqtjgnK5s3niOxsvElhocnmPe3yu6BFBWNVBOXOeM7WA9dp9DQGxq0VjL4iC6xFZXWl6haxTytDb3kyx+VM4BO0AOXXIVsFlUHHXkZih8W2supJB9ivEtJrhraHUXVPIllGQUHzbxyrAMVCkjgnIybgb1FFFABRRRQAUVnavrCaUkKraXF9c3D7IbW1C+ZIQMk5dlUAAZJZgOg6kAu0vV7fVdNN5GJIAjOk0U4CvC6Eh1bBIyCDyCQeoJBBoAv0VgWHi2G/njjGmahALmJprF51jUXqqM/J85KnBBAkCHBzjg4Wz8TTXGtwaZd+HtUsJZ43lWS4e2ZQqYyT5czEcso6dTQBvUVjWXiIXOqrYXemX2nSSo0ls10I9twqkbiux2KkZBw4U4PTg4LPxELnVI7K60u/wBPM4ZraW6WMLcBeTja7Mpwc7XCnGeODgA2aKxtI8QSaxMfL0a/t7T5tl7M8HlybWxwFlZ+cHGVHviorHxZa319bwizu4be8Zlsr2UJ5N2VBOEwxYZAYgsqggZGeKFqBvUUUUAFFFFABRRRQAUUUUAFFFFABRRRQAUUVS1XU4tJsTcSxyzMWWOKCFQZJnY4VFBIGSe5IA5JIAJoAu0VnaPrMerrcKba4srm1k8ue1uQvmREgMOUZlIIIIKsR26ggRW/iXT7vxHLotsZpLmGNpJJBEwiG0qCoc8MwLjIXOOhweKOtg6XNaisH/hLbUaiITaXYszc/ZBqRCfZzPnb5f39+d3yZ27d3Gc1NbeIJLvWJbO30a/eCGYwyX++DyVYDJ483zO+PudaFr/X9d0GxsUVjP4iEOrJaXWl6hb28s3kRX8ix+TJJzhcBzIMkEAsgBOMHkZePEunP4lGhQtLLebGZykRMcZUKSrP03YdTtBJAIJABGQDWorCk8WW0eqfZmsrw2v2kWjaiFTyFmJwEPzb/vELu27dxxmt2jdXDrYKKKKACvOfHdrbwfETwNLBBHHJPqkryuiAGRhCACxHU4AHPYCvRqKVtU+zQdGu54T4t1KHw5rvxD0vVIJ/tniaCEaSEgZ/tZMZj2qQDyrHuaPiBNo1n4J0vwxfeIdVtPEVhpUEUWj2iSNDeSFV2pIgQq+SuMbvz6V7tRRry29Pwul+f/AH1v8A1rb/ACKWivcyaDYPf26Wt01tGZoIxhYn2jKgdgDxV2iiqbu7kpWVjzrV18Knx9rZ8ZGzaE2doIU1DBiLfvvuBuDJjpj5sZx3qC2TTomsI/iY9ubQaTb/AGQa4UMfnAv5u4yfKZtvl5z82M4/ir0yikM840+8i0S+8N6hr10LGw+z39vBcX0hQKjSo0Cuz9CYk43c8Y61Vhn025tLGXxD5a+HZdV1NrgXqbYDL57GHzg2AF+/gPxu298V6jVLU7G4v4US11W80xlbJktEhZmHofNjcY+gBpt/187lX0t/Wz/zPOobTTLyD7NYKy6a3iqMRohZFKC3Xhf+mZxgAfKVIA+XFSavo2j22m+KLBtOs10uxvbS5S3aBTDb5EZkdVIwg27icYHLHua9B0rS4dIszDDJLM8jmWaedtzzSHq7EADJ9AAAMAAAAVdqWtLf1sl+lyFvf+t2/wBStp32H+zLb+yfs/2Hy1+z/ZtvlbMfLt28bcdMcVZooqnuMKKKKQBRRRQAUUUUAFFFFAHP23/JSNR/7BVr/wCjZ6iaNpvHesRRnDPo1uqn0JkuK6Wih6qxfNq36fhb/I4HS7621a38JadYyob3SpEk1C1BHmWgS3kjKyL1U72AAPXqOOas2WqWeo+M7GbR9cj8QBjMJod0bHTY2XOR5YXb8yqmJAznPBGGB7Wim5Nu7M1okl00CiiikMKw9G/5GbxF/wBfEP8A6IStyilbUDD0b/kZvEX/AF8Q/wDohKq6Za2+vDX729G6C+d7BcjGLeLdGRz6uZTn0I9K6aii2lh3fQ4LQJJdW8T6Y0HiO21610uCXNzYQKsQ3KEVZXDsHlI+bC7QACSoytd7RRTJSS2CiiigZxPjKXw9FeXMraxNY+JFswLWK1vpEmmwWaICBWxN8xbgq2ckVa1/URLpMKz7mu9MnsrzUIUjJ8tPMBZuOCBtZuM4C11lFC0/P7v61CXvb+n9foc1otzb6x4v1HV9LuYrvTzZW9qlxA4eOSRXlZgrDg4DrnB6nHUGuloooB6u7Od8T3EWn6homp3riKytbpxcTvwkAeF1Dsf4RuIGTwN1VtD1KzTUtS1A3Km11vUkj0+RQWWcrbqCVIH3T5T4bodvHUZ6uigFoee6Zd291oegeGoLlW1jT7qEXdrn97CIWy8jqeVU4GGIw29cHkGjTLu2utD0Dw1Dco+safdQ/a7XP72FYWy8jqeVU4GGIw29cHkGvQqKF+t/np/kEvev56fn/mec28Pm6tpmhaP4itdTtdNvvNFtZwqZLNI9xCXEodgAD8gGxWPvtam/ZvEtl4s8Pyapp+lvc3N/NJNPFqUjbv3DjAUwDaqp90ZOccnJLV6RRQtP6/rsKS5tf66/5nD2fibRfEniS3e51/TIUtLl1sdMW8j8+aYZTzJFzkHltsYHfJ5IVatpeW91omk+Gobhf7ZtNQhNxaZHmxrDNvaRlPIRlXIYjB3rg8ivQqKFo0+w3rddwooooAKKKKAOb8Q3dvpHiTR9W1O4S20+OK4t5Z5Ttjid/LKF2PCg+WVBOBlgOpANCzniudH1aKKfD+IJ7p9NwpPmqIgoYEDGDtLAk8ggjrXZ0VLjeLXdW+8d3dPtr+f+ZxVhqll4g1Hw1FpVwry6bumvoEI3Wv7ho/LlHVG3PgKcH5W9DWtoDi/1bWNYY7lM5soDg8Rwkq3HvKZOR1GPSt+irk7u5KSSsjiLDV7C+8XWtzpOvReIIzHOZgGjc6dGQGGDEAFBKhdsgZz2b5WBXQfEui+J9dtdQk1/S3m2N/Z2lwXkbyoGHLuAcmQqPugYQbhz1rtqKQ2cDpUujya9Zw+BtXkvbaZJvt8Ed891DAhUlGIZmELb8AKNuQW4O3hNGvrfUNN8KaNaSJ/aWmPEb+0Vh5loIoWRvMXqoLEAZHOQRxzXf0Ubaen4bA+v9bhRRRQAUUUUAFFFFABRRRQAUUUUAFFFFABXP+LZFtE0rUbhilpYags1y+CQkZjdNzeiqXBJPAAJOAM10FFAzlNK1ewk1zUdYiu0l0+/ltrK0uIvnjnlAbO1lyCMtt3ZxlWHartx/wAlDsP+wXcf+jYa3qKa0d/62sQ1pb+t7nnguYJ9BXwwkyLrSauHazLASiNbzzjMV67Cg3bunIGc8VPcXGjJ4miPhTVpJdYk1IC+sIL55V2btsxkgLFYwAM79q8hQD82D3lFJaNP+un4aFfZ5TiB4n0TXvEccN54g0u2gsbwpBp7XkYuLi4RigZ1JyoDZ2oBk/KxP8Nbeo/8jron/Xvdf+063KKVtLB1ueZPf2smpukmoBNT/trI8M5U+ZibCzbMeZygEu4Hy/4ivU16bRRTWisD3bCiiigAooooAKKKKACiiigAooooAKKKKACiiigAooooAKKKKACiiigAooooAKKKKACiiigAooooAKKKKACiiigAooooAKKKKACiiigAooooAKKKKACiiigAooooAKKKKACiiigAooooAKKKKACiiigAooooAKKKKACiiigAooooAKKKKACiiigAooooAKKKKACiiigAooooAKKKKACiiigAooooAKKKKACiiigD/9k=)"
      ],
      "metadata": {
        "id": "r72sbWiJWzo0"
      }
    },
    {
      "cell_type": "code",
      "source": [
        "!pip install squarify"
      ],
      "metadata": {
        "id": "7YZlSgw12AX3"
      },
      "execution_count": null,
      "outputs": []
    },
    {
      "cell_type": "code",
      "source": [
        "import squarify\n",
        "import matplotlib.pyplot as plt\n",
        "\n",
        "wc_top20 = wc[wc['rank'] <= 20]\n",
        "\n",
        "squarify.plot(sizes=wc_top20['percent'], label=wc_top20['word'], alpha=0.6 )\n",
        "plt.axis('off')\n",
        "plt.show()"
      ],
      "metadata": {
        "id": "hC30iwd72DfI"
      },
      "execution_count": null,
      "outputs": []
    },
    {
      "cell_type": "markdown",
      "source": [
        "![image.png](data:image/png;base64,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)"
      ],
      "metadata": {
        "id": "TiYtLfB2WnhE"
      }
    },
    {
      "cell_type": "markdown",
      "source": [
        "#### 통계적 트리밍(Trimming)"
      ],
      "metadata": {
        "id": "9Ja4-QtDcPB1"
      }
    },
    {
      "cell_type": "markdown",
      "source": [
        "- 불용어를 제거하는 대신 통계적인 방법을 통해 너무 많거나, 적은 토큰을 제거하는 방법"
      ],
      "metadata": {
        "id": "exLBarugcdTi"
      }
    },
    {
      "cell_type": "code",
      "source": [
        "wc = wc[wc['word_in_docs_percent'] >= 0.01] # 1%이상의 문서에 나타나는 단어만 사용"
      ],
      "metadata": {
        "id": "To_ZhsFTdeb6"
      },
      "execution_count": null,
      "outputs": []
    },
    {
      "cell_type": "markdown",
      "source": [
        "#### 어간추출(Stemming)과 표제어 추출(Lemmatization)\n"
      ],
      "metadata": {
        "id": "22PClptgd56L"
      }
    },
    {
      "cell_type": "markdown",
      "source": [
        "##### 어간추출"
      ],
      "metadata": {
        "id": "YDrv5BBDf4I4"
      }
    },
    {
      "cell_type": "markdown",
      "source": [
        "- 단어의 뒷부분을 제거 (알고리즘 종류 : Porter, Snowball, Dawson 등)\n",
        "- Spacy는 어간추출을 제공하지 않아서 nltk이용\n",
        "- 알고리즘 : https://www.semanticscholar.org/paper/A-Comparative-Study-of-Stemming-Algorithms-Ms-.-Jivani/1c0c0fa35d4ff8a2f925eb955e48d655494bd167?p2df"
      ],
      "metadata": {
        "id": "7wSMy7AFeDqB"
      }
    },
    {
      "cell_type": "code",
      "source": [
        "# 어간추출 예시\n",
        "from nltk.stem import PorterStemmer\n",
        "\n",
        "ps = PorterStemmer()\n",
        "\n",
        "words = [\"wolf\", \"wolves\"]\n",
        "\n",
        "for word in words:\n",
        "    print(ps.stem(word))"
      ],
      "metadata": {
        "colab": {
          "base_uri": "https://localhost:8080/"
        },
        "id": "CJZ714nCehuA",
        "outputId": "b7b5e8b0-76fd-4b6c-c3f9-935ba9d0e386"
      },
      "execution_count": null,
      "outputs": [
        {
          "output_type": "stream",
          "name": "stdout",
          "text": [
            "wolf\n",
            "wolv\n"
          ]
        }
      ]
    },
    {
      "cell_type": "code",
      "source": [
        "# 전처리된 df['tokens']를 입력받아서 어간추출\n",
        "from nltk.stem import PorterStemmer\n",
        "\n",
        "ps = PorterStemmer()\n",
        "\n",
        "tokens = []\n",
        "for doc in df['tokens']:\n",
        "    doc_tokens = []\n",
        "    for token in doc:\n",
        "        doc_tokens.append(ps.stem(token))\n",
        "    tokens.append(doc_tokens)\n",
        "\n",
        "df['stems'] = tokens\n",
        "\n",
        "# 시각화\n",
        "# wc = word_count(df['stems'])\n",
        "\n",
        "# wc_top20 = wc[wc['rank'] <= 20]\n",
        "\n",
        "# squarify.plot(sizes=wc_top20['percent'], label=wc_top20['word'], alpha=0.6 )\n",
        "# plt.axis('off')\n",
        "# plt.show()"
      ],
      "metadata": {
        "id": "thYWO7TlfMG5"
      },
      "execution_count": null,
      "outputs": []
    },
    {
      "cell_type": "markdown",
      "source": [
        "##### 표제어추출"
      ],
      "metadata": {
        "id": "iBOXqAcggFRC"
      }
    },
    {
      "cell_type": "markdown",
      "source": [
        "- 기본 사전형 단어 형태 Lemma(표제어)로 변환\n",
        "- 명사는 단수형, 동사는 동사원형으로 변환\n",
        "- Spacy가 제공됨, 연산에 많은 시간이 필요함"
      ],
      "metadata": {
        "id": "a1wLS7xWgKJ9"
      }
    },
    {
      "cell_type": "code",
      "source": [
        "# 표제어추출 예시\n",
        "lem = \"The social wolf. Wolves are complex.\"\n",
        "\n",
        "nlp = spacy.load(\"en_core_web_sm\") # 자연어처리호출\n",
        "\n",
        "doc = nlp(lem)                     # 자연어처리(문장)\n",
        "\n",
        "# wolf, wolve가 어떤 Lemma로 추출되는지 확인해 보세요\n",
        "for token in doc:\n",
        "    print(token.text, \"  \", token.lemma_)"
      ],
      "metadata": {
        "colab": {
          "base_uri": "https://localhost:8080/"
        },
        "id": "_B6G4FDhgYZ9",
        "outputId": "7990126a-3189-48dc-afa9-3a1e2e11646a"
      },
      "execution_count": null,
      "outputs": [
        {
          "output_type": "stream",
          "name": "stdout",
          "text": [
            "The    the\n",
            "social    social\n",
            "wolf    wolf\n",
            ".    .\n",
            "Wolves    wolf\n",
            "are    be\n",
            "complex    complex\n",
            ".    .\n"
          ]
        }
      ]
    },
    {
      "cell_type": "code",
      "source": [
        "# 불용어, 구두점, 대명사가 아니면 표제어추출\n",
        "def get_lemmas(text):\n",
        "\n",
        "    lemmas = []\n",
        "    \n",
        "    doc = nlp(text)\n",
        "\n",
        "    for token in doc: \n",
        "        if ((token.is_stop == False) and (token.is_punct == False)) and (token.pos_ != 'PRON'):\n",
        "            lemmas.append(token.lemma_)\n",
        "    \n",
        "    return lemmas"
      ],
      "metadata": {
        "id": "in6KtqNZhmwe"
      },
      "execution_count": null,
      "outputs": []
    },
    {
      "cell_type": "code",
      "source": [
        "# 표제어 추출 시각화\n",
        "df['lemmas'] = df['reviews.text'].apply(get_lemmas)\n",
        "\n",
        "wc = word_count(df['lemmas'])\n",
        "wc_top20 = wc[wc['rank'] <= 20]\n",
        "\n",
        "squarify.plot(sizes=wc_top20['percent'], label=wc_top20['word'], alpha=0.6 )\n",
        "plt.axis('off')\n",
        "plt.show()"
      ],
      "metadata": {
        "id": "IZ62epL3h1Ee"
      },
      "execution_count": null,
      "outputs": []
    },
    {
      "cell_type": "markdown",
      "source": [
        "### 등장횟수기반의 단어 표현(Cout-based Representation)"
      ],
      "metadata": {
        "id": "3dLESTKuexSi"
      }
    },
    {
      "cell_type": "markdown",
      "source": [
        "- 벡터화(Vectorize) : 자연어를 컴퓨터가 이해할 수 있는 벡터로 만드는 작업\n",
        "- 문서-단어행렬(Document-Term Matrix, DTM) : 행에는 문서이름, 열에는 단어(Term)이 있는 행렬"
      ],
      "metadata": {
        "id": "1n8kX-zVjw41"
      }
    },
    {
      "cell_type": "markdown",
      "source": [
        "#### CountVectorizer"
      ],
      "metadata": {
        "id": "lKPqcUnaku-E"
      }
    },
    {
      "cell_type": "markdown",
      "source": [
        "##### Bag-of-Words(BoW) : TF(Term Frequency)"
      ],
      "metadata": {
        "id": "QutcKL2ltskO"
      }
    },
    {
      "cell_type": "code",
      "source": [
        "import pandas as pd\n",
        "import spacy\n",
        "from sklearn.feature_extraction.text import CountVectorizer\n",
        "\n",
        "nlp = spacy.load(\"en_core_web_sm\")"
      ],
      "metadata": {
        "id": "Lw7V1VxoksOT"
      },
      "execution_count": null,
      "outputs": []
    },
    {
      "cell_type": "code",
      "source": [
        "text = \"\"\"In information retrieval, tf–idf or TFIDF, short for term frequency–inverse document frequency, is a numerical statistic that is intended to reflect how important a word is to a document in a collection or corpus.\n",
        "It is often used as a weighting factor in searches of information retrieval, text mining, and user modeling.\n",
        "The tf–idf value increases proportionally to the number of times a word appears in the document and is offset by the number of documents in the corpus that contain the word,\n",
        "which helps to adjust for the fact that some words appear more frequently in general.\n",
        "tf–idf is one of the most popular term-weighting schemes today.\n",
        "A survey conducted in 2015 showed that 83% of text-based recommender systems in digital libraries use tf–idf.\"\"\""
      ],
      "metadata": {
        "id": "kFWlPOLXkr7O"
      },
      "execution_count": null,
      "outputs": []
    },
    {
      "cell_type": "code",
      "execution_count": null,
      "metadata": {
        "colab": {
          "base_uri": "https://localhost:8080/"
        },
        "id": "Jh-MBoZEdLDo",
        "outputId": "b64b3b4f-e019-4ce8-a527-748fb3fea5da"
      },
      "outputs": [
        {
          "output_type": "stream",
          "name": "stdout",
          "text": [
            "['information', 'retrieval', 'tf', 'idf', 'tfidf', 'short', 'term', 'frequency', 'inverse', 'document', 'frequency', 'numerical', 'statistic', 'intend', 'reflect', 'important', 'word', 'document', 'collection', 'corpus', '\\n', 'weighting', 'factor', 'search', 'information', 'retrieval', 'text', 'mining', 'user', 'modeling', '\\n', 'tf', 'idf', 'value', 'increase', 'proportionally', 'number', 'time', 'word', 'appear', 'document', 'offset', 'number', 'document', 'corpus', 'contain', 'word', '\\n', 'help', 'adjust', 'fact', 'word', 'appear', 'frequently', 'general', '\\n', 'tf', 'idf', 'popular', 'term', 'weight', 'scheme', 'today', '\\n', 'survey', 'conduct', '2015', 'show', '83', 'text', 'base', 'recommender', 'system', 'digital', 'library', 'use', 'tf', 'idf']\n"
          ]
        }
      ],
      "source": [
        "# 위 text를 표제어추출 토큰화\n",
        "doc = nlp(text)\n",
        "print([token.lemma_ for token in doc if (token.is_stop != True) and (token.is_punct != True)])"
      ]
    },
    {
      "cell_type": "code",
      "source": [
        "# 문장으로 이루어진 리스트를 저장합니다.\n",
        "sentences_lst = text.split('\\n')\n",
        "\n",
        "# CountVectorizer를 변수에 저장합니다.\n",
        "vect = CountVectorizer()\n",
        "\n",
        "# 어휘 사전을 생성합니다.\n",
        "vect.fit(sentences_lst)\n",
        "\n",
        "# text를 DTM(document-term matrix)으로 변환(transform), tf값 계산\n",
        "dtm_count = vect.transform(sentences_lst)"
      ],
      "metadata": {
        "id": "2I3DNURrlKIp"
      },
      "execution_count": null,
      "outputs": []
    },
    {
      "cell_type": "code",
      "source": [
        "# 모든 토큰의 인덱싱정보\n",
        "vect.vocabulary_"
      ],
      "metadata": {
        "colab": {
          "base_uri": "https://localhost:8080/"
        },
        "id": "MPCzz9S_l73T",
        "outputId": "fc56d878-a2bf-4fc2-cf8a-52c872c5a199"
      },
      "execution_count": null,
      "outputs": [
        {
          "output_type": "execute_result",
          "data": {
            "text/plain": [
              "{'in': 26,\n",
              " 'information': 28,\n",
              " 'retrieval': 49,\n",
              " 'tf': 60,\n",
              " 'idf': 24,\n",
              " 'or': 44,\n",
              " 'tfidf': 61,\n",
              " 'short': 52,\n",
              " 'for': 18,\n",
              " 'term': 58,\n",
              " 'frequency': 19,\n",
              " 'inverse': 30,\n",
              " 'document': 14,\n",
              " 'is': 31,\n",
              " 'numerical': 39,\n",
              " 'statistic': 55,\n",
              " 'that': 62,\n",
              " 'intended': 29,\n",
              " 'to': 65,\n",
              " 'reflect': 48,\n",
              " 'how': 23,\n",
              " 'important': 25,\n",
              " 'word': 73,\n",
              " 'collection': 9,\n",
              " 'corpus': 12,\n",
              " 'it': 32,\n",
              " 'often': 42,\n",
              " 'used': 68,\n",
              " 'as': 6,\n",
              " 'weighting': 71,\n",
              " 'factor': 17,\n",
              " 'searches': 51,\n",
              " 'of': 40,\n",
              " 'text': 59,\n",
              " 'mining': 34,\n",
              " 'and': 3,\n",
              " 'user': 69,\n",
              " 'modeling': 35,\n",
              " 'the': 63,\n",
              " 'value': 70,\n",
              " 'increases': 27,\n",
              " 'proportionally': 46,\n",
              " 'number': 38,\n",
              " 'times': 64,\n",
              " 'appears': 5,\n",
              " 'offset': 41,\n",
              " 'by': 8,\n",
              " 'documents': 15,\n",
              " 'contain': 11,\n",
              " 'which': 72,\n",
              " 'helps': 22,\n",
              " 'adjust': 2,\n",
              " 'fact': 16,\n",
              " 'some': 54,\n",
              " 'words': 74,\n",
              " 'appear': 4,\n",
              " 'more': 36,\n",
              " 'frequently': 20,\n",
              " 'general': 21,\n",
              " 'one': 43,\n",
              " 'most': 37,\n",
              " 'popular': 45,\n",
              " 'schemes': 50,\n",
              " 'today': 66,\n",
              " 'survey': 56,\n",
              " 'conducted': 10,\n",
              " '2015': 0,\n",
              " 'showed': 53,\n",
              " '83': 1,\n",
              " 'based': 7,\n",
              " 'recommender': 47,\n",
              " 'systems': 57,\n",
              " 'digital': 13,\n",
              " 'libraries': 33,\n",
              " 'use': 67}"
            ]
          },
          "metadata": {},
          "execution_count": 12
        }
      ]
    },
    {
      "cell_type": "code",
      "source": [
        "# DTM의 배열확인(6개의 문서와 75개의 단어)\n",
        "dtm_count.shape"
      ],
      "metadata": {
        "colab": {
          "base_uri": "https://localhost:8080/"
        },
        "id": "it5GGBYumQS3",
        "outputId": "dc9ae3b1-40de-44c2-c2bb-90673a6e62df"
      },
      "execution_count": null,
      "outputs": [
        {
          "output_type": "execute_result",
          "data": {
            "text/plain": [
              "(6, 75)"
            ]
          },
          "metadata": {},
          "execution_count": 13
        }
      ]
    },
    {
      "cell_type": "code",
      "source": [
        "# 특성 이름만 추출\n",
        "vect.get_feature_names()"
      ],
      "metadata": {
        "id": "rE-N1EnjmaWJ"
      },
      "execution_count": null,
      "outputs": []
    },
    {
      "cell_type": "code",
      "source": [
        "# (row, column) count형태\n",
        "print(dtm_count)"
      ],
      "metadata": {
        "colab": {
          "base_uri": "https://localhost:8080/"
        },
        "id": "P_qu5r9wmi6r",
        "outputId": "737a7e84-ae17-458f-bd99-79696d7b4635"
      },
      "execution_count": null,
      "outputs": [
        {
          "output_type": "stream",
          "name": "stdout",
          "text": [
            "  (0, 9)\t1\n",
            "  (0, 12)\t1\n",
            "  (0, 14)\t2\n",
            "  (0, 18)\t1\n",
            "  (0, 19)\t2\n",
            "  (0, 23)\t1\n",
            "  (0, 24)\t1\n",
            "  (0, 25)\t1\n",
            "  (0, 26)\t2\n",
            "  (0, 28)\t1\n",
            "  (0, 29)\t1\n",
            "  (0, 30)\t1\n",
            "  (0, 31)\t3\n",
            "  (0, 39)\t1\n",
            "  (0, 44)\t2\n",
            "  (0, 48)\t1\n",
            "  (0, 49)\t1\n",
            "  (0, 52)\t1\n",
            "  (0, 55)\t1\n",
            "  (0, 58)\t1\n",
            "  (0, 60)\t1\n",
            "  (0, 61)\t1\n",
            "  (0, 62)\t1\n",
            "  (0, 65)\t2\n",
            "  (0, 73)\t1\n",
            "  :\t:\n",
            "  (4, 43)\t1\n",
            "  (4, 45)\t1\n",
            "  (4, 50)\t1\n",
            "  (4, 58)\t1\n",
            "  (4, 60)\t1\n",
            "  (4, 63)\t1\n",
            "  (4, 66)\t1\n",
            "  (4, 71)\t1\n",
            "  (5, 0)\t1\n",
            "  (5, 1)\t1\n",
            "  (5, 7)\t1\n",
            "  (5, 10)\t1\n",
            "  (5, 13)\t1\n",
            "  (5, 24)\t1\n",
            "  (5, 26)\t2\n",
            "  (5, 33)\t1\n",
            "  (5, 40)\t1\n",
            "  (5, 47)\t1\n",
            "  (5, 53)\t1\n",
            "  (5, 56)\t1\n",
            "  (5, 57)\t1\n",
            "  (5, 59)\t1\n",
            "  (5, 60)\t1\n",
            "  (5, 62)\t1\n",
            "  (5, 67)\t1\n"
          ]
        }
      ]
    },
    {
      "cell_type": "code",
      "source": [
        "# 빈도수만 매트릭스형태로 변경(numpy.matrix)\n",
        "dtm_count.todense()"
      ],
      "metadata": {
        "colab": {
          "base_uri": "https://localhost:8080/"
        },
        "id": "V8dM_QTonIHZ",
        "outputId": "a0e10910-0abb-46f0-c413-b66c6cc6549e"
      },
      "execution_count": null,
      "outputs": [
        {
          "output_type": "execute_result",
          "data": {
            "text/plain": [
              "matrix([[0, 0, 0, 0, 0, 0, 0, 0, 0, 1, 0, 0, 1, 0, 2, 0, 0, 0, 1, 2, 0,\n",
              "         0, 0, 1, 1, 1, 2, 0, 1, 1, 1, 3, 0, 0, 0, 0, 0, 0, 0, 1, 0, 0,\n",
              "         0, 0, 2, 0, 0, 0, 1, 1, 0, 0, 1, 0, 0, 1, 0, 0, 1, 0, 1, 1, 1,\n",
              "         0, 0, 2, 0, 0, 0, 0, 0, 0, 0, 1, 0],\n",
              "        [0, 0, 0, 1, 0, 0, 1, 0, 0, 0, 0, 0, 0, 0, 0, 0, 0, 1, 0, 0, 0,\n",
              "         0, 0, 0, 0, 0, 1, 0, 1, 0, 0, 1, 1, 0, 1, 1, 0, 0, 0, 0, 1, 0,\n",
              "         1, 0, 0, 0, 0, 0, 0, 1, 0, 1, 0, 0, 0, 0, 0, 0, 0, 1, 0, 0, 0,\n",
              "         0, 0, 0, 0, 0, 1, 1, 0, 1, 0, 0, 0],\n",
              "        [0, 0, 0, 1, 0, 1, 0, 0, 1, 0, 0, 1, 1, 0, 1, 1, 0, 0, 0, 0, 0,\n",
              "         0, 0, 0, 1, 0, 2, 1, 0, 0, 0, 1, 0, 0, 0, 0, 0, 0, 2, 0, 2, 1,\n",
              "         0, 0, 0, 0, 1, 0, 0, 0, 0, 0, 0, 0, 0, 0, 0, 0, 0, 0, 1, 0, 1,\n",
              "         6, 1, 1, 0, 0, 0, 0, 1, 0, 0, 2, 0],\n",
              "        [0, 0, 1, 0, 1, 0, 0, 0, 0, 0, 0, 0, 0, 0, 0, 0, 1, 0, 1, 0, 1,\n",
              "         1, 1, 0, 0, 0, 1, 0, 0, 0, 0, 0, 0, 0, 0, 0, 1, 0, 0, 0, 0, 0,\n",
              "         0, 0, 0, 0, 0, 0, 0, 0, 0, 0, 0, 0, 1, 0, 0, 0, 0, 0, 0, 0, 1,\n",
              "         1, 0, 1, 0, 0, 0, 0, 0, 0, 1, 0, 1],\n",
              "        [0, 0, 0, 0, 0, 0, 0, 0, 0, 0, 0, 0, 0, 0, 0, 0, 0, 0, 0, 0, 0,\n",
              "         0, 0, 0, 1, 0, 0, 0, 0, 0, 0, 1, 0, 0, 0, 0, 0, 1, 0, 0, 1, 0,\n",
              "         0, 1, 0, 1, 0, 0, 0, 0, 1, 0, 0, 0, 0, 0, 0, 0, 1, 0, 1, 0, 0,\n",
              "         1, 0, 0, 1, 0, 0, 0, 0, 1, 0, 0, 0],\n",
              "        [1, 1, 0, 0, 0, 0, 0, 1, 0, 0, 1, 0, 0, 1, 0, 0, 0, 0, 0, 0, 0,\n",
              "         0, 0, 0, 1, 0, 2, 0, 0, 0, 0, 0, 0, 1, 0, 0, 0, 0, 0, 0, 1, 0,\n",
              "         0, 0, 0, 0, 0, 1, 0, 0, 0, 0, 0, 1, 0, 0, 1, 1, 0, 1, 1, 0, 1,\n",
              "         0, 0, 0, 0, 1, 0, 0, 0, 0, 0, 0, 0]])"
            ]
          },
          "metadata": {},
          "execution_count": 18
        }
      ]
    },
    {
      "cell_type": "code",
      "source": [
        "# 매트릭스 Dataframe형식으로 변경\n",
        "dtm_count = pd.DataFrame(dtm_count.todense(), columns=vect.get_feature_names())\n",
        "dtm_count"
      ],
      "metadata": {
        "colab": {
          "base_uri": "https://localhost:8080/",
          "height": 331
        },
        "id": "Ir6T1bO2njco",
        "outputId": "770a5d37-7b69-4cdb-9012-704f68692ff7"
      },
      "execution_count": null,
      "outputs": [
        {
          "output_type": "execute_result",
          "data": {
            "text/plain": [
              "   2015  83  adjust  and  appear  appears  as  based  by  collection  ...  to  \\\n",
              "0     0   0       0    0       0        0   0      0   0           1  ...   2   \n",
              "1     0   0       0    1       0        0   1      0   0           0  ...   0   \n",
              "2     0   0       0    1       0        1   0      0   1           0  ...   1   \n",
              "3     0   0       1    0       1        0   0      0   0           0  ...   1   \n",
              "4     0   0       0    0       0        0   0      0   0           0  ...   0   \n",
              "5     1   1       0    0       0        0   0      1   0           0  ...   0   \n",
              "\n",
              "   today  use  used  user  value  weighting  which  word  words  \n",
              "0      0    0     0     0      0          0      0     1      0  \n",
              "1      0    0     1     1      0          1      0     0      0  \n",
              "2      0    0     0     0      1          0      0     2      0  \n",
              "3      0    0     0     0      0          0      1     0      1  \n",
              "4      1    0     0     0      0          1      0     0      0  \n",
              "5      0    1     0     0      0          0      0     0      0  \n",
              "\n",
              "[6 rows x 75 columns]"
            ],
            "text/html": [
              "\n",
              "  <div id=\"df-f3b41bc8-20b9-4106-8d25-a8903b87d5a5\">\n",
              "    <div class=\"colab-df-container\">\n",
              "      <div>\n",
              "<style scoped>\n",
              "    .dataframe tbody tr th:only-of-type {\n",
              "        vertical-align: middle;\n",
              "    }\n",
              "\n",
              "    .dataframe tbody tr th {\n",
              "        vertical-align: top;\n",
              "    }\n",
              "\n",
              "    .dataframe thead th {\n",
              "        text-align: right;\n",
              "    }\n",
              "</style>\n",
              "<table border=\"1\" class=\"dataframe\">\n",
              "  <thead>\n",
              "    <tr style=\"text-align: right;\">\n",
              "      <th></th>\n",
              "      <th>2015</th>\n",
              "      <th>83</th>\n",
              "      <th>adjust</th>\n",
              "      <th>and</th>\n",
              "      <th>appear</th>\n",
              "      <th>appears</th>\n",
              "      <th>as</th>\n",
              "      <th>based</th>\n",
              "      <th>by</th>\n",
              "      <th>collection</th>\n",
              "      <th>...</th>\n",
              "      <th>to</th>\n",
              "      <th>today</th>\n",
              "      <th>use</th>\n",
              "      <th>used</th>\n",
              "      <th>user</th>\n",
              "      <th>value</th>\n",
              "      <th>weighting</th>\n",
              "      <th>which</th>\n",
              "      <th>word</th>\n",
              "      <th>words</th>\n",
              "    </tr>\n",
              "  </thead>\n",
              "  <tbody>\n",
              "    <tr>\n",
              "      <th>0</th>\n",
              "      <td>0</td>\n",
              "      <td>0</td>\n",
              "      <td>0</td>\n",
              "      <td>0</td>\n",
              "      <td>0</td>\n",
              "      <td>0</td>\n",
              "      <td>0</td>\n",
              "      <td>0</td>\n",
              "      <td>0</td>\n",
              "      <td>1</td>\n",
              "      <td>...</td>\n",
              "      <td>2</td>\n",
              "      <td>0</td>\n",
              "      <td>0</td>\n",
              "      <td>0</td>\n",
              "      <td>0</td>\n",
              "      <td>0</td>\n",
              "      <td>0</td>\n",
              "      <td>0</td>\n",
              "      <td>1</td>\n",
              "      <td>0</td>\n",
              "    </tr>\n",
              "    <tr>\n",
              "      <th>1</th>\n",
              "      <td>0</td>\n",
              "      <td>0</td>\n",
              "      <td>0</td>\n",
              "      <td>1</td>\n",
              "      <td>0</td>\n",
              "      <td>0</td>\n",
              "      <td>1</td>\n",
              "      <td>0</td>\n",
              "      <td>0</td>\n",
              "      <td>0</td>\n",
              "      <td>...</td>\n",
              "      <td>0</td>\n",
              "      <td>0</td>\n",
              "      <td>0</td>\n",
              "      <td>1</td>\n",
              "      <td>1</td>\n",
              "      <td>0</td>\n",
              "      <td>1</td>\n",
              "      <td>0</td>\n",
              "      <td>0</td>\n",
              "      <td>0</td>\n",
              "    </tr>\n",
              "    <tr>\n",
              "      <th>2</th>\n",
              "      <td>0</td>\n",
              "      <td>0</td>\n",
              "      <td>0</td>\n",
              "      <td>1</td>\n",
              "      <td>0</td>\n",
              "      <td>1</td>\n",
              "      <td>0</td>\n",
              "      <td>0</td>\n",
              "      <td>1</td>\n",
              "      <td>0</td>\n",
              "      <td>...</td>\n",
              "      <td>1</td>\n",
              "      <td>0</td>\n",
              "      <td>0</td>\n",
              "      <td>0</td>\n",
              "      <td>0</td>\n",
              "      <td>1</td>\n",
              "      <td>0</td>\n",
              "      <td>0</td>\n",
              "      <td>2</td>\n",
              "      <td>0</td>\n",
              "    </tr>\n",
              "    <tr>\n",
              "      <th>3</th>\n",
              "      <td>0</td>\n",
              "      <td>0</td>\n",
              "      <td>1</td>\n",
              "      <td>0</td>\n",
              "      <td>1</td>\n",
              "      <td>0</td>\n",
              "      <td>0</td>\n",
              "      <td>0</td>\n",
              "      <td>0</td>\n",
              "      <td>0</td>\n",
              "      <td>...</td>\n",
              "      <td>1</td>\n",
              "      <td>0</td>\n",
              "      <td>0</td>\n",
              "      <td>0</td>\n",
              "      <td>0</td>\n",
              "      <td>0</td>\n",
              "      <td>0</td>\n",
              "      <td>1</td>\n",
              "      <td>0</td>\n",
              "      <td>1</td>\n",
              "    </tr>\n",
              "    <tr>\n",
              "      <th>4</th>\n",
              "      <td>0</td>\n",
              "      <td>0</td>\n",
              "      <td>0</td>\n",
              "      <td>0</td>\n",
              "      <td>0</td>\n",
              "      <td>0</td>\n",
              "      <td>0</td>\n",
              "      <td>0</td>\n",
              "      <td>0</td>\n",
              "      <td>0</td>\n",
              "      <td>...</td>\n",
              "      <td>0</td>\n",
              "      <td>1</td>\n",
              "      <td>0</td>\n",
              "      <td>0</td>\n",
              "      <td>0</td>\n",
              "      <td>0</td>\n",
              "      <td>1</td>\n",
              "      <td>0</td>\n",
              "      <td>0</td>\n",
              "      <td>0</td>\n",
              "    </tr>\n",
              "    <tr>\n",
              "      <th>5</th>\n",
              "      <td>1</td>\n",
              "      <td>1</td>\n",
              "      <td>0</td>\n",
              "      <td>0</td>\n",
              "      <td>0</td>\n",
              "      <td>0</td>\n",
              "      <td>0</td>\n",
              "      <td>1</td>\n",
              "      <td>0</td>\n",
              "      <td>0</td>\n",
              "      <td>...</td>\n",
              "      <td>0</td>\n",
              "      <td>0</td>\n",
              "      <td>1</td>\n",
              "      <td>0</td>\n",
              "      <td>0</td>\n",
              "      <td>0</td>\n",
              "      <td>0</td>\n",
              "      <td>0</td>\n",
              "      <td>0</td>\n",
              "      <td>0</td>\n",
              "    </tr>\n",
              "  </tbody>\n",
              "</table>\n",
              "<p>6 rows × 75 columns</p>\n",
              "</div>\n",
              "      <button class=\"colab-df-convert\" onclick=\"convertToInteractive('df-f3b41bc8-20b9-4106-8d25-a8903b87d5a5')\"\n",
              "              title=\"Convert this dataframe to an interactive table.\"\n",
              "              style=\"display:none;\">\n",
              "        \n",
              "  <svg xmlns=\"http://www.w3.org/2000/svg\" height=\"24px\"viewBox=\"0 0 24 24\"\n",
              "       width=\"24px\">\n",
              "    <path d=\"M0 0h24v24H0V0z\" fill=\"none\"/>\n",
              "    <path d=\"M18.56 5.44l.94 2.06.94-2.06 2.06-.94-2.06-.94-.94-2.06-.94 2.06-2.06.94zm-11 1L8.5 8.5l.94-2.06 2.06-.94-2.06-.94L8.5 2.5l-.94 2.06-2.06.94zm10 10l.94 2.06.94-2.06 2.06-.94-2.06-.94-.94-2.06-.94 2.06-2.06.94z\"/><path d=\"M17.41 7.96l-1.37-1.37c-.4-.4-.92-.59-1.43-.59-.52 0-1.04.2-1.43.59L10.3 9.45l-7.72 7.72c-.78.78-.78 2.05 0 2.83L4 21.41c.39.39.9.59 1.41.59.51 0 1.02-.2 1.41-.59l7.78-7.78 2.81-2.81c.8-.78.8-2.07 0-2.86zM5.41 20L4 18.59l7.72-7.72 1.47 1.35L5.41 20z\"/>\n",
              "  </svg>\n",
              "      </button>\n",
              "      \n",
              "  <style>\n",
              "    .colab-df-container {\n",
              "      display:flex;\n",
              "      flex-wrap:wrap;\n",
              "      gap: 12px;\n",
              "    }\n",
              "\n",
              "    .colab-df-convert {\n",
              "      background-color: #E8F0FE;\n",
              "      border: none;\n",
              "      border-radius: 50%;\n",
              "      cursor: pointer;\n",
              "      display: none;\n",
              "      fill: #1967D2;\n",
              "      height: 32px;\n",
              "      padding: 0 0 0 0;\n",
              "      width: 32px;\n",
              "    }\n",
              "\n",
              "    .colab-df-convert:hover {\n",
              "      background-color: #E2EBFA;\n",
              "      box-shadow: 0px 1px 2px rgba(60, 64, 67, 0.3), 0px 1px 3px 1px rgba(60, 64, 67, 0.15);\n",
              "      fill: #174EA6;\n",
              "    }\n",
              "\n",
              "    [theme=dark] .colab-df-convert {\n",
              "      background-color: #3B4455;\n",
              "      fill: #D2E3FC;\n",
              "    }\n",
              "\n",
              "    [theme=dark] .colab-df-convert:hover {\n",
              "      background-color: #434B5C;\n",
              "      box-shadow: 0px 1px 3px 1px rgba(0, 0, 0, 0.15);\n",
              "      filter: drop-shadow(0px 1px 2px rgba(0, 0, 0, 0.3));\n",
              "      fill: #FFFFFF;\n",
              "    }\n",
              "  </style>\n",
              "\n",
              "      <script>\n",
              "        const buttonEl =\n",
              "          document.querySelector('#df-f3b41bc8-20b9-4106-8d25-a8903b87d5a5 button.colab-df-convert');\n",
              "        buttonEl.style.display =\n",
              "          google.colab.kernel.accessAllowed ? 'block' : 'none';\n",
              "\n",
              "        async function convertToInteractive(key) {\n",
              "          const element = document.querySelector('#df-f3b41bc8-20b9-4106-8d25-a8903b87d5a5');\n",
              "          const dataTable =\n",
              "            await google.colab.kernel.invokeFunction('convertToInteractive',\n",
              "                                                     [key], {});\n",
              "          if (!dataTable) return;\n",
              "\n",
              "          const docLinkHtml = 'Like what you see? Visit the ' +\n",
              "            '<a target=\"_blank\" href=https://colab.research.google.com/notebooks/data_table.ipynb>data table notebook</a>'\n",
              "            + ' to learn more about interactive tables.';\n",
              "          element.innerHTML = '';\n",
              "          dataTable['output_type'] = 'display_data';\n",
              "          await google.colab.output.renderOutput(dataTable, element);\n",
              "          const docLink = document.createElement('div');\n",
              "          docLink.innerHTML = docLinkHtml;\n",
              "          element.appendChild(docLink);\n",
              "        }\n",
              "      </script>\n",
              "    </div>\n",
              "  </div>\n",
              "  "
            ]
          },
          "metadata": {},
          "execution_count": 21
        }
      ]
    },
    {
      "cell_type": "code",
      "source": [
        "# 위에 전처리 데이터 적용예시\n",
        "count_vect = CountVectorizer(stop_words='english', max_features=100) # tf 100개만\n",
        "\n",
        "# Fit 후 dtm을 만듭니다.(문서, 단어마다 tf-idf 값을 계산합니다)\n",
        "dtm_count_amazon = count_vect.fit_transform(df['reviews.text'])\n",
        "\n",
        "dtm_count_amazon = pd.DataFrame(dtm_count_amazon.todense(), columns=count_vect.get_feature_names())\n",
        "dtm_count_amazon"
      ],
      "metadata": {
        "id": "JnpKttDCoP9k"
      },
      "execution_count": null,
      "outputs": []
    },
    {
      "cell_type": "markdown",
      "source": [
        "##### Bag-of-Words : TF-IDF(Term Frequency - Inverse Document Frequency)"
      ],
      "metadata": {
        "id": "0gKLXkoZo0Em"
      }
    },
    {
      "cell_type": "markdown",
      "source": [
        "- 특정 문서에만 등장하는 단어에 가중치를 두는 방법\n",
        "- TF(w) = 특정 문서 내 단어 w의 수\n",
        "- IDF(w) = log(전체문서의 수 / w가 있는 문서의 수 +1)\n",
        "- TF-IDF(w) = TF(w) * IDF(w)"
      ],
      "metadata": {
        "id": "OIXMjVA1pB8L"
      }
    },
    {
      "cell_type": "code",
      "source": [
        "import pandas as pd\n",
        "from sklearn.feature_extraction.text import TfidfVectorizer\n",
        "\n",
        "# TF-IDF vectorizer. 테이블을 작게 만들기 위해 max_features=15로 제한하였습니다.\n",
        "tfidf = TfidfVectorizer(stop_words='english', max_features=15)\n",
        "\n",
        "# Fit 후 dtm을 만듭니다.(문서, 단어마다 tf-idf 값을 계산합니다)\n",
        "dtm_tfidf = tfidf.fit_transform(sentences_lst)\n",
        "\n",
        "dtm_tfidf = pd.DataFrame(dtm_tfidf.todense(), columns=tfidf.get_feature_names())\n",
        "dtm_tfidf"
      ],
      "metadata": {
        "id": "wvhz6_wpoFPl"
      },
      "execution_count": null,
      "outputs": []
    },
    {
      "cell_type": "markdown",
      "source": [
        "###### 파라미터 튜닝해서 사용하는법 TF-IDF"
      ],
      "metadata": {
        "id": "HgLH66B-qsvM"
      }
    },
    {
      "cell_type": "code",
      "source": [
        "# SpaCy 를 이용한 Tokenizing\n",
        "\n",
        "def tokenize(document):\n",
        "    doc = nlp(document)\n",
        "    return [token.lemma_.strip() for token in doc if (token.is_stop != True) and (token.is_punct != True) and (token.is_alpha == True)]"
      ],
      "metadata": {
        "id": "_ir00qZDqSht"
      },
      "execution_count": null,
      "outputs": []
    },
    {
      "cell_type": "code",
      "source": [
        "\"\"\"\n",
        "    args:\n",
        "        ngram_range = (min_n, max_n), min_n 개~ max_n 개를 갖는 n-gram(n개의 연속적인 토큰)을 토큰으로 사용합니다.\n",
        "        min_df = n : int, 최소 n개의 문서에 나타나는 토큰만 사용합니다.\n",
        "        max_df = m : float(0~1), m * 100% 이상 문서에 나타나는 토큰은 제거합니다.\n",
        "    \"\"\"\n",
        "\n",
        "tfidf_tuned = TfidfVectorizer(stop_words='english'\n",
        "                        ,tokenizer=tokenize\n",
        "                        ,ngram_range=(1,2) # (min, max) min~ max개의 단어 묶음으로 토큰화(보통 1~5개가 적당)\n",
        "                        ,max_df=.7         # float, 퍼센트 이상의 문서에서 나타나는 단어는 제거\n",
        "                        ,min_df=3          # int, 최소 n개의 문서에서 나타나는 단어만 사용\n",
        "                       )\n",
        "\n",
        "dtm_tfidf_tuned = tfidf_tuned.fit_transform(df['reviews.text'])\n",
        "dtm_tfidf_tuned = pd.DataFrame(dtm_tfidf_tuned.todense(), columns=tfidf_tuned.get_feature_names())\n",
        "dtm_tfidf_tuned.head()"
      ],
      "metadata": {
        "id": "aY_KlQAUqUV3"
      },
      "execution_count": null,
      "outputs": []
    },
    {
      "cell_type": "markdown",
      "source": [
        "###### 유사도를 이용한 문서검색(NearestNeighbor (K-NN, K-최근접 이웃))"
      ],
      "metadata": {
        "id": "HPgClt2ut3NV"
      }
    },
    {
      "cell_type": "code",
      "source": [
        "from sklearn.neighbors import NearestNeighbors\n",
        "\n",
        "# dtm을 사용해 NN 모델에 학습, 본인포함 5개의 이웃을 찾도록 설정(DEFAULT)\n",
        "nn = NearestNeighbors(n_neighbors=5, algorithm='kd_tree')\n",
        "nn.fit(dtm_tfidf_amazon)"
      ],
      "metadata": {
        "id": "AY4Wl2HSq4or"
      },
      "execution_count": null,
      "outputs": []
    },
    {
      "cell_type": "code",
      "source": [
        "# 아마존데이터 2행데이터와 가까운 5개 찾기\n",
        "# [유클리디안거리], [인덱스] 형태로 나옴\n",
        "nn.kneighbors([dtm_tfidf_amazon.iloc[2]])"
      ],
      "metadata": {
        "id": "IVxOu3Lcui5H"
      },
      "execution_count": null,
      "outputs": []
    },
    {
      "cell_type": "markdown",
      "source": [
        "![1234.JPG](data:image/jpeg;base64,/9j/4AAQSkZJRgABAQEAYABgAAD/4RDaRXhpZgAATU0AKgAAAAgABAE7AAIAAAAFAAAISodpAAQAAAABAAAIUJydAAEAAAAKAAAQyOocAAcAAAgMAAAAPgAAAAAc6gAAAAgAAAAAAAAAAAAAAAAAAAAAAAAAAAAAAAAAAAAAAAAAAAAAAAAAAAAAAAAAAAAAAAAAAAAAAAAAAAAAAAAAAAAAAAAAAAAAAAAAAAAAAAAAAAAAAAAAAAAAAAAAAAAAAAAAAAAAAAAAAAAAAAAAAAAAAAAAAAAAAAAAAAAAAAAAAAAAAAAAAAAAAAAAAAAAAAAAAAAAAAAAAAAAAAAAAAAAAAAAAAAAAAAAAAAAAAAAAAAAAAAAAAAAAAAAAAAAAAAAAAAAAAAAAAAAAAAAAAAAAAAAAAAAAAAAAAAAAAAAAAAAAAAAAAAAAAAAAAAAAAAAAAAAAAAAAAAAAAAAAAAAAAAAAAAAAAAAAAAAAAAAAAAAAAAAAAAAAAAAAAAAAAAAAAAAAAAAAAAAAAAAAAAAAAAAAAAAAAAAAAAAAAAAAAAAAAAAAAAAAAAAAAAAAAAAAAAAAAAAAAAAAAAAAAAAAAAAAAAAAAAAAAAAAAAAAAAAAAAAAAAAAAAAAAAAAAAAAAAAAAAAAAAAAAAAAAAAAAAAAAAAAAAAAAAAAAAAAAAAAAAAAAAAAAAAAAAAAAAAAAAAAAAAAAAAAAAAAAAAAAAAAAAAAAAAAAAAAAAAAAAAAAAAAAAAAAAAAAAAAAAAAAAAAAAAAAAAAAAAAAAAAAAAAAAAAAAAAAAAAAAAAAAAAAAAAAAAAAAAAAAAAAAAAAAAAAAAAAAAAAAAAAAAAAAAAAAAAAAAAAAAAAAAAAAAAAAAAAAAAAAAAAAAAAAAAAAAAAAAAAAAAAAAAAAAAAAAAAAAAAAAAAAAAAAAAAAAAAAAAAAAAAAAAAAAAAAAAAAAAAAAAAAAAAAAAAAAAAAAAAAAAAAAAAAAAAAAAAAAAAAAAAAAAAAAAAAAAAAAAAAAAAAAAAAAAAAAAAAAAAAAAAAAAAAAAAAAAAAAAAAAAAAAAAAAAAAAAAAAAAAAAAAAAAAAAAAAAAAAAAAAAAAAAAAAAAAAAAAAAAAAAAAAAAAAAAAAAAAAAAAAAAAAAAAAAAAAAAAAAAAAAAAAAAAAAAAAAAAAAAAAAAAAAAAAAAAAAAAAAAAAAAAAAAAAAAAAAAAAAAAAAAAAAAAAAAAAAAAAAAAAAAAAAAAAAAAAAAAAAAAAAAAAAAAAAAAAAAAAAAAAAAAAAAAAAAAAAAAAAAAAAAAAAAAAAAAAAAAAAAAAAAAAAAAAAAAAAAAAAAAAAAAAAAAAAAAAAAAAAAAAAAAAAAAAAAAAAAAAAAAAAAAAAAAAAAAAAAAAAAAAAAAAAAAAAAAAAAAAAAAAAAAAAAAAAAAAAAAAAAAAAAAAAAAAAAAAAAAAAAAAAAAAAAAAAAAAAAAAAAAAAAAAAAAAAAAAAAAAAAAAAAAAAAAAAAAAAAAAAAAAAAAAAAAAAAAAAAAAAAAAAAAAAAAAAAAAAAAAAAAAAAAAAAAAAAAAAAAAAAAAAAAAAAAAAAAAAAAAAAAAAAAAAAAAAAAAAAAAAAAAAAAAAAAAAAAAAAAAAAAAAAAAAAAAAAAAAAAAAAAAAAAAAAAAAAAAAAAAAAAAAAAAAAAAAAAAAAAAAAAAAAAAAAAAAAAAAAAAAAAAAAAAAAAAAAAAAAAAAAAAAAAAAAAAAAAAAAAAAAAAAAAAAAAAAAAAAAAAAAAAAAAAAAAAAAAAAAAAAAAAAAAAAAAAAAAAAAAAAAAAAAAAAAAAAAAAAAAAAAAAAAAAAAAAAAAAAAAAAAAAAAAAAAAAAAAAAAAAAAAAAAAAAAAAAAAAAAAAAAAAAAAAAAAAAAAAAAAAAAAAAAAAAAAAAAAAAAAAAAAAAAAAAAAAAAAAAAAAAAAAAAAAAAAAAAAAAAAAAAAAAAAAAAAAAAAAAAAAAAAAAAAAAAAAAAAAAAAAAAAAAAAAAAAAAAAAAAAAAAAAAAAAAAAAAAAAAAAAAAAAAAAAAAAAAAAAAAAAAAAAAAAAAAAAAAAAAAAAAAAAAAAAAAAAAAAAAAAAAAAAAAAAAAAAAAAAAAAAAAAAAAAAAAAAAAAAAAAAAAAAAAAAAAAAAAAAAAAAAAAAAAAAAAAAAAAAAAAAAAAAAAAAAAAAAAAAAAAAAAAAAAAAAAAAAAAAAAAAAAAAAAAAAAAAAAAAAAAAAAAAAAAAAAAAAAAAAAAAAAAAAAAAAAAAAAAAAAAAAAAAAAAAAAAAAAAAAAAAAAAAAAAAAAAAAAAAAAAAAAAAAAAAAAAAAAAAAAAAAAAAAAAAAAAAAAAAAAAAAAAAAAAAAAAAAAAAAAAAAAAAAAAAAAAAAAAAAAAAAAAAAAAAAAAAAAAAAAAAAAAAAAAAAAAAAAAAAAAAAAAAAAAAAAAAAAAAAAAAAAAAAAAAAAAAAAAAAAAAAAAAAAAAAAAAAAAAAAAAAAAAAAAAAAAAAAAAAAAAAAAAAAAAAAAAAAAAAAAAAAAAAAAAAAAAAAAAAAAAAAAAAAAAAAAAAAAAAAAAAAAAAAAAAAAAAAAAAAAAAAAAAAAAAAAAAAAAAAAAAAAAAAAAAAAAAAAAAAAAAAAAAAAAAAAAAAAAAAAAAAAAAAAAAAAAAAAAAAAAAAAAAAAAAAAAAAAAAAAAAAAAAAAAAAAAAAAAAAAAAAAAAAAAAAAAAAAAAAAAAAAAAAAAAAAAAAAAAAAAAAAAAAAAAAAAAAAAAAAAAAAAAAAAAAAAAAAAAAAAAAAAAAAAAAAAAAAAAAAAAAAAAAAAAAAAAAAAAAAAAGVudnkAAAAFkAMAAgAAABQAABCekAQAAgAAABQAABCykpEAAgAAAAM5OQAAkpIAAgAAAAM5OQAA6hwABwAACAwAAAiSAAAAABzqAAAACAAAAAAAAAAAAAAAAAAAAAAAAAAAAAAAAAAAAAAAAAAAAAAAAAAAAAAAAAAAAAAAAAAAAAAAAAAAAAAAAAAAAAAAAAAAAAAAAAAAAAAAAAAAAAAAAAAAAAAAAAAAAAAAAAAAAAAAAAAAAAAAAAAAAAAAAAAAAAAAAAAAAAAAAAAAAAAAAAAAAAAAAAAAAAAAAAAAAAAAAAAAAAAAAAAAAAAAAAAAAAAAAAAAAAAAAAAAAAAAAAAAAAAAAAAAAAAAAAAAAAAAAAAAAAAAAAAAAAAAAAAAAAAAAAAAAAAAAAAAAAAAAAAAAAAAAAAAAAAAAAAAAAAAAAAAAAAAAAAAAAAAAAAAAAAAAAAAAAAAAAAAAAAAAAAAAAAAAAAAAAAAAAAAAAAAAAAAAAAAAAAAAAAAAAAAAAAAAAAAAAAAAAAAAAAAAAAAAAAAAAAAAAAAAAAAAAAAAAAAAAAAAAAAAAAAAAAAAAAAAAAAAAAAAAAAAAAAAAAAAAAAAAAAAAAAAAAAAAAAAAAAAAAAAAAAAAAAAAAAAAAAAAAAAAAAAAAAAAAAAAAAAAAAAAAAAAAAAAAAAAAAAAAAAAAAAAAAAAAAAAAAAAAAAAAAAAAAAAAAAAAAAAAAAAAAAAAAAAAAAAAAAAAAAAAAAAAAAAAAAAAAAAAAAAAAAAAAAAAAAAAAAAAAAAAAAAAAAAAAAAAAAAAAAAAAAAAAAAAAAAAAAAAAAAAAAAAAAAAAAAAAAAAAAAAAAAAAAAAAAAAAAAAAAAAAAAAAAAAAAAAAAAAAAAAAAAAAAAAAAAAAAAAAAAAAAAAAAAAAAAAAAAAAAAAAAAAAAAAAAAAAAAAAAAAAAAAAAAAAAAAAAAAAAAAAAAAAAAAAAAAAAAAAAAAAAAAAAAAAAAAAAAAAAAAAAAAAAAAAAAAAAAAAAAAAAAAAAAAAAAAAAAAAAAAAAAAAAAAAAAAAAAAAAAAAAAAAAAAAAAAAAAAAAAAAAAAAAAAAAAAAAAAAAAAAAAAAAAAAAAAAAAAAAAAAAAAAAAAAAAAAAAAAAAAAAAAAAAAAAAAAAAAAAAAAAAAAAAAAAAAAAAAAAAAAAAAAAAAAAAAAAAAAAAAAAAAAAAAAAAAAAAAAAAAAAAAAAAAAAAAAAAAAAAAAAAAAAAAAAAAAAAAAAAAAAAAAAAAAAAAAAAAAAAAAAAAAAAAAAAAAAAAAAAAAAAAAAAAAAAAAAAAAAAAAAAAAAAAAAAAAAAAAAAAAAAAAAAAAAAAAAAAAAAAAAAAAAAAAAAAAAAAAAAAAAAAAAAAAAAAAAAAAAAAAAAAAAAAAAAAAAAAAAAAAAAAAAAAAAAAAAAAAAAAAAAAAAAAAAAAAAAAAAAAAAAAAAAAAAAAAAAAAAAAAAAAAAAAAAAAAAAAAAAAAAAAAAAAAAAAAAAAAAAAAAAAAAAAAAAAAAAAAAAAAAAAAAAAAAAAAAAAAAAAAAAAAAAAAAAAAAAAAAAAAAAAAAAAAAAAAAAAAAAAAAAAAAAAAAAAAAAAAAAAAAAAAAAAAAAAAAAAAAAAAAAAAAAAAAAAAAAAAAAAAAAAAAAAAAAAAAAAAAAAAAAAAAAAAAAAAAAAAAAAAAAAAAAAAAAAAAAAAAAAAAAAAAAAAAAAAAAAAAAAAAAAAAAAAAAAAAAAAAAAAAAAAAAAAAAAAAAAAAAAAAAAAAAAAAAAAAAAAAAAAAAAAAAAAAAAAAAAAAAAAAAAAAAAAAAAAAAAAAAAAAAAAAAAAAAAAAAAAAAAAAAAAAAAAAAAAAAAAAAAAAAAAAAAAAAAAAAAAAAAAAAAAAAAAAAAAAAAAAAAAAAAAAAAAAAAAAAAAAAAAAAAAAAAAAAAAAAAAAAAAAAAAAAAAAAAAAAAAAAAAAAAAAAAAAAAAAAAAAAAAAAAAAAAAAAAAAAAAAAAAAAAAAAAAAAAAAAAAAAAAAAAAAAAAAAAAAAAAAAAAAAAAAAAAAAAAAAAAAAAAAAAAAAAAAAAAAAAAAAAAAAAAAAAAAAAAAAAAAAAAAAAAAAAAAAAAAAAAAAAAAAAAAAAAAAAAAAAAAAAAAAAAAAAAAAAAAAAAAAAAAAAAAAAAAAAAAAAAAAAAAAAAAAAAAAAAAAAAAAAAAAAAAAAAAAAAAAAAAAAAAAAAAAAAAAAAAAAAAAAAAAAAAAAAAAAAAAAAAAAAAAAAAAAAAAAAAAAAAAAAAAAAAAAAAAAAAAAAAAAAAAAAAAAAAAAAAAAAAAAAAAAAAAAAAAAAAAAAAAAAAAAAAAAAAAAAAAAAAAAAAAAAAAAAAAAAAAAAAAAAAAAAAAAAAAAAAAAAAAAAAAAAAAAAAAAAAAAAAAAAAAAAAAAAAAAAAAAAAAAAAAAAAAAAAAAAAAAAAAAAAAAAAAAAAAAAAAAAAAAAAAAAAAAAAAAAAAAAAAAAAAAAAAAAAAAAAAAAAAAAAAAAAAAAAAAAAAAAAAAAAAAAAAAAAAAAAAAAAAAAAAAAAAAAAAAAAAAAAAAAAAAAAAAAAAAAAAAAAAAAAAAAAAAAAAAAAAAAAAAAAAAAAAAAAAAAAAAAAAAAAAAAAAAAAAAAAAAAAAAAAAAAAAAAAAAAAAAAAAAAAAAAAAAAAAAAAAAAAAAAAAAAAAAAAAAAAAAAAAAAAAAAAAAAAAAAAAAAAAAAAAAAAAAAAAAAAAAAAAAAAAAAAAAAAAAAAAAAAAAAAAAAAAAAAAAAAAAAAAAAAAAAAAAAMjAyMjoxMToxNiAyMjo1Nzo0MQAyMDIyOjExOjE2IDIyOjU3OjQxAAAAZQBuAHYAeQAAAP/hCxdodHRwOi8vbnMuYWRvYmUuY29tL3hhcC8xLjAvADw/eHBhY2tldCBiZWdpbj0n77u/JyBpZD0nVzVNME1wQ2VoaUh6cmVTek5UY3prYzlkJz8+DQo8eDp4bXBtZXRhIHhtbG5zOng9ImFkb2JlOm5zOm1ldGEvIj48cmRmOlJERiB4bWxuczpyZGY9Imh0dHA6Ly93d3cudzMub3JnLzE5OTkvMDIvMjItcmRmLXN5bnRheC1ucyMiPjxyZGY6RGVzY3JpcHRpb24gcmRmOmFib3V0PSJ1dWlkOmZhZjViZGQ1LWJhM2QtMTFkYS1hZDMxLWQzM2Q3NTE4MmYxYiIgeG1sbnM6ZGM9Imh0dHA6Ly9wdXJsLm9yZy9kYy9lbGVtZW50cy8xLjEvIi8+PHJkZjpEZXNjcmlwdGlvbiByZGY6YWJvdXQ9InV1aWQ6ZmFmNWJkZDUtYmEzZC0xMWRhLWFkMzEtZDMzZDc1MTgyZjFiIiB4bWxuczp4bXA9Imh0dHA6Ly9ucy5hZG9iZS5jb20veGFwLzEuMC8iPjx4bXA6Q3JlYXRlRGF0ZT4yMDIyLTExLTE2VDIyOjU3OjQxLjk5MDwveG1wOkNyZWF0ZURhdGU+PC9yZGY6RGVzY3JpcHRpb24+PHJkZjpEZXNjcmlwdGlvbiByZGY6YWJvdXQ9InV1aWQ6ZmFmNWJkZDUtYmEzZC0xMWRhLWFkMzEtZDMzZDc1MTgyZjFiIiB4bWxuczpkYz0iaHR0cDovL3B1cmwub3JnL2RjL2VsZW1lbnRzLzEuMS8iPjxkYzpjcmVhdG9yPjxyZGY6U2VxIHhtbG5zOnJkZj0iaHR0cDovL3d3dy53My5vcmcvMTk5OS8wMi8yMi1yZGYtc3ludGF4LW5zIyI+PHJkZjpsaT5lbnZ5PC9yZGY6bGk+PC9yZGY6U2VxPg0KCQkJPC9kYzpjcmVhdG9yPjwvcmRmOkRlc2NyaXB0aW9uPjwvcmRmOlJERj48L3g6eG1wbWV0YT4NCiAgICAgICAgICAgICAgICAgICAgICAgICAgICAgICAgICAgICAgICAgICAgICAgICAgICAgICAgICAgICAgICAgICAgICAgICAgICAgICAgICAgICAgICAgICAgICAgICAgICAKICAgICAgICAgICAgICAgICAgICAgICAgICAgICAgICAgICAgICAgICAgICAgICAgICAgICAgICAgICAgICAgICAgICAgICAgICAgICAgICAgICAgICAgICAgICAgICAgICAgIAogICAgICAgICAgICAgICAgICAgICAgICAgICAgICAgICAgICAgICAgICAgICAgICAgICAgICAgICAgICAgICAgICAgICAgICAgICAgICAgICAgICAgICAgICAgICAgICAgICAgCiAgICAgICAgICAgICAgICAgICAgICAgICAgICAgICAgICAgICAgICAgICAgICAgICAgICAgICAgICAgICAgICAgICAgICAgICAgICAgICAgICAgICAgICAgICAgICAgICAgICAKICAgICAgICAgICAgICAgICAgICAgICAgICAgICAgICAgICAgICAgICAgICAgICAgICAgICAgICAgICAgICAgICAgICAgICAgICAgICAgICAgICAgICAgICAgICAgICAgICAgIAogICAgICAgICAgICAgICAgICAgICAgICAgICAgICAgICAgICAgICAgICAgICAgICAgICAgICAgICAgICAgICAgICAgICAgICAgICAgICAgICAgICAgICAgICAgICAgICAgICAgCiAgICAgICAgICAgICAgICAgICAgICAgICAgICAgICAgICAgICAgICAgICAgICAgICAgICAgICAgICAgICAgICAgICAgICAgICAgICAgICAgICAgICAgICAgICAgICAgICAgICAKICAgICAgICAgICAgICAgICAgICAgICAgICAgICAgICAgICAgICAgICAgICAgICAgICAgICAgICAgICAgICAgICAgICAgICAgICAgICAgICAgICAgICAgICAgICAgICAgICAgIAogICAgICAgICAgICAgICAgICAgICAgICAgICAgICAgICAgICAgICAgICAgICAgICAgICAgICAgICAgICAgICAgICAgICAgICAgICAgICAgICAgICAgICAgICAgICAgICAgICAgCiAgICAgICAgICAgICAgICAgICAgICAgICAgICAgICAgICAgICAgICAgICAgICAgICAgICAgICAgICAgICAgICAgICAgICAgICAgICAgICAgICAgICAgICAgICAgICAgICAgICAKICAgICAgICAgICAgICAgICAgICAgICAgICAgICAgICAgICAgICAgICAgICAgICAgICAgICAgICAgICAgICAgICAgICAgICAgICAgICAgICAgICAgICAgICAgICAgICAgICAgIAogICAgICAgICAgICAgICAgICAgICAgICAgICAgICAgICAgICAgICAgICAgICAgICAgICAgICAgICAgICAgICAgICAgICAgICAgICAgICAgICAgICAgICAgICAgICAgICAgICAgCiAgICAgICAgICAgICAgICAgICAgICAgICAgICAgICAgICAgICAgICAgICAgICAgICAgICAgICAgICAgICAgICAgICAgICAgICAgICAgICAgICAgICAgICAgICAgICAgICAgICAKICAgICAgICAgICAgICAgICAgICAgICAgICAgICAgICAgICAgICAgICAgICAgICAgICAgICAgICAgICAgICAgICAgICAgICAgICAgICAgICAgICAgICAgICAgICAgICAgICAgIAogICAgICAgICAgICAgICAgICAgICAgICAgICAgICAgICAgICAgICAgICAgICAgICAgICAgICAgICAgICAgICAgICAgICAgICAgICAgICAgICAgICAgICAgICAgICAgICAgICAgCiAgICAgICAgICAgICAgICAgICAgICAgICAgICAgICAgICAgICAgICAgICAgICAgICAgICAgICAgICAgICAgICAgICAgICAgICAgICAgICAgICAgICAgICAgICAgICAgICAgICAKICAgICAgICAgICAgICAgICAgICAgICAgICAgICAgICAgICAgICAgICAgICAgICAgICAgICAgICAgICAgICAgICAgICAgICAgICAgICAgICAgICAgICAgICAgICAgICAgICAgIAogICAgICAgICAgICAgICAgICAgICAgICAgICAgICAgICAgICAgICAgICAgICAgICAgICAgICAgICAgICAgICAgICAgICAgICAgICAgICAgICAgICAgICAgICAgICAgICAgICAgCiAgICAgICAgICAgICAgICAgICAgICAgICAgICAgICAgICAgICAgICAgICAgICAgICAgICAgICAgICAgICAgICAgICAgICAgICAgICAgICAgICAgICAgICAgICAgICAgICAgICAKICAgICAgICAgICAgICAgICAgICAgICAgICAgICAgICAgICAgICAgICAgICAgICAgICAgICAgICAgICAgICAgICAgICAgICAgICAgICAgICAgICAgICAgICAgICAgICAgICAgIAogICAgICAgICAgICAgICAgICAgICAgICAgICAgPD94cGFja2V0IGVuZD0ndyc/Pv/bAEMABwUFBgUEBwYFBggHBwgKEQsKCQkKFQ8QDBEYFRoZGBUYFxseJyEbHSUdFxgiLiIlKCkrLCsaIC8zLyoyJyorKv/bAEMBBwgICgkKFAsLFCocGBwqKioqKioqKioqKioqKioqKioqKioqKioqKioqKioqKioqKioqKioqKioqKioqKioqKv/AABEIADsCQwMBIgACEQEDEQH/xAAfAAABBQEBAQEBAQAAAAAAAAAAAQIDBAUGBwgJCgv/xAC1EAACAQMDAgQDBQUEBAAAAX0BAgMABBEFEiExQQYTUWEHInEUMoGRoQgjQrHBFVLR8CQzYnKCCQoWFxgZGiUmJygpKjQ1Njc4OTpDREVGR0hJSlNUVVZXWFlaY2RlZmdoaWpzdHV2d3h5eoOEhYaHiImKkpOUlZaXmJmaoqOkpaanqKmqsrO0tba3uLm6wsPExcbHyMnK0tPU1dbX2Nna4eLj5OXm5+jp6vHy8/T19vf4+fr/xAAfAQADAQEBAQEBAQEBAAAAAAAAAQIDBAUGBwgJCgv/xAC1EQACAQIEBAMEBwUEBAABAncAAQIDEQQFITEGEkFRB2FxEyIygQgUQpGhscEJIzNS8BVictEKFiQ04SXxFxgZGiYnKCkqNTY3ODk6Q0RFRkdISUpTVFVWV1hZWmNkZWZnaGlqc3R1dnd4eXqCg4SFhoeIiYqSk5SVlpeYmZqio6Slpqeoqaqys7S1tre4ubrCw8TFxsfIycrS09TV1tfY2dri4+Tl5ufo6ery8/T19vf4+fr/2gAMAwEAAhEDEQA/APpGiiq/263/ALS+wCTddCHzmjVSdiZ2gsRwuTnAON21sZ2tgAsUUUUAFFFFABRRVf7db/2l9gEm66EPnNGqk7EztBYjhcnOAcbtrYztbABYorLj8RafNr0ukQ/apLuB9kpWymMMbeWJNrTbPLB2spwW7gdTiiPxFp82vS6RD9qku4H2SlbKYwxt5Yk2tNs8sHaynBbuB1OKANSiqcer6bNq0ulw6hayahAm+W0WdTNGvHzMmcgfMvJHcetXKACiiigAooooAKKKKACiiigAooooAKKpx6vps2rS6XDqFrJqECb5bRZ1M0a8fMyZyB8y8kdx61coAKKz7TX9Hv8AUp9OsdWsbm+t93nW0NyjyxbTtbcoORgkA56HirE1/Z297bWdxdwRXV1u+zwPIFebaMttU8tgcnHSgCxRWfaa/o9/qU+nWOrWNzfW+7zraG5R5Ytp2tuUHIwSAc9DxRaa/o9/qU+nWOrWNzfW+7zraG5R5Ytp2tuUHIwSAc9DxQBoUVTj1fTZtWl0uHULWTUIE3y2izqZo14+ZkzkD5l5I7j1qSa/s7e9trO4u4Irq63fZ4HkCvNtGW2qeWwOTjpQBYorPtNf0e/1KfTrHVrG5vrfd51tDco8sW07W3KDkYJAOeh4otNf0e/1KfTrHVrG5vrfd51tDco8sW07W3KDkYJAOeh4oA0KKKKACiqcer6bNq0ulw6hayahAm+W0WdTNGvHzMmcgfMvJHcetXKACisex8XeG9UvY7PTPEOlXl1JnZBb3scjtgEnChiTgAn8KsWmv6Pf6lPp1jq1jc31vu862huUeWLadrblByMEgHPQ8UAaFFU49X02bVpdLh1C1k1CBN8tos6maNePmZM5A+ZeSO49akmv7O3vbazuLuCK6ut32eB5ArzbRltqnlsDk46UAWKKx7Hxd4b1S9js9M8Q6VeXUmdkFvexyO2AScKGJOACfwqxaa/o9/qU+nWOrWNzfW+7zraG5R5Ytp2tuUHIwSAc9DxQBoUVn2mv6Pf6lPp1jq1jc31vu862huUeWLadrblByMEgHPQ8VXsfF3hvVL2Oz0zxDpV5dSZ2QW97HI7YBJwoYk4AJ/CgDYooooAKKpx6vps2rS6XDqFrJqECb5bRZ1M0a8fMyZyB8y8kdx61coAKKx7Hxd4b1S9js9M8Q6VeXUmdkFvexyO2AScKGJOACfwqxaa/o9/qU+nWOrWNzfW+7zraG5R5Ytp2tuUHIwSAc9DxQBoUVGtxC1y9ussZnjRXeIMNyqxIViOoBKsAe+0+lU7TX9Hv9Sn06x1axub633edbQ3KPLFtO1tyg5GCQDnoeKANCio1uIWuXt1ljM8aK7xBhuVWJCsR1AJVgD32n0qOa/s7e9trO4u4Irq63fZ4HkCvNtGW2qeWwOTjpQBYorPtNf0e/wBSn06x1axub633edbQ3KPLFtO1tyg5GCQDnoeKLTX9Hv8AUp9OsdWsbm+t93nW0NyjyxbTtbcoORgkA56HigDQooooAKKpx6vps2rS6XDqFrJqECb5bRZ1M0a8fMyZyB8y8kdx61coAKKx7Hxd4b1S9js9M8Q6VeXUmdkFvexyO2AScKGJOACfwqxaa/o9/qU+nWOrWNzfW+7zraG5R5Ytp2tuUHIwSAc9DxQBoUVGtxC1y9ussZnjRXeIMNyqxIViOoBKsAe+0+lU7TX9Hv8AUp9OsdWsbm+t93nW0NyjyxbTtbcoORgkA56HigDQoqNbiFrl7dZYzPGiu8QYblViQrEdQCVYA99p9Kjmv7O3vbazuLuCK6ut32eB5ArzbRltqnlsDk46UAWKKz7TX9Hv9Sn06x1axub633edbQ3KPLFtO1tyg5GCQDnoeKLTX9Hv9Sn06x1axub633edbQ3KPLFtO1tyg5GCQDnoeKANCisvSfEWn61c3FvZfakntkR5YrqymtmCuWCsBKikglHGRn7po0nxFp+tXNxb2X2pJ7ZEeWK6sprZgrlgrASopIJRxkZ+6aANSiq9pfW995/2aTc1vM0MqlSrRuOxBwRkEMD3VlYZBBNigAooooAK5/wf++sNSvZObi61a985/wC95U7wR8dBiKGNeOu3JySSegrPttL+x61d3ttNthvsSXMDLndMFVFkVs/L8iBSvIO1SNp3bwDmNL8Y30/iHTbW4lgurfU5nij+zaVdRRRYiklDJdyHy7hcR7QVVd4beMAYOn4e1DXtYnlvLmXToNPhvru1EEcEjzSrFPJEr7y4CH5RldrZ2k5G7apaeDY7OSwEesai1rpjq1haMIPLtQqlAqkR72HlM8fzsx2uTneAw2NL0yHSbR7e2aRke4nuCZCCd0srSsOAOAzkD2x160AY/h7UNe1ieW8uZdOg0+G+u7UQRwSPNKsU8kSvvLgIflGV2tnaTkbtq5ml+Mb6fxDptrcSwXVvqczxR/ZtKuooosRSShku5D5dwuI9oKqu8NvGAMHq9L0yHSbR7e2aRke4nuCZCCd0srSsOAOAzkD2x161j2ng2OzksBHrGota6Y6tYWjCDy7UKpQKpEe9h5TPH87Mdrk53gMABlr4lvLiy02zEcH9uy3f2W9g2nZD5RBuJNud6xlMGNj18+DdgPU/g/8AfWGpXsnNxdate+c/97yp3gj46DEUMa8dduTkkkyaPoE1nq13q2q3Frdahcose+1tDBGqjqQrO53thAzbvmWKIY+QVcttL+x61d3ttNthvsSXMDLndMFVFkVs/L8iBSvIO1SNp3bwDP8ADn/Ie8Wf9haP/wBIbWjw5/yHvFn/AGFo/wD0htakstG1Kw8S6hew6jatp+oXAuJbVrNvOVhBHFhZfMxj90rcoepHuCy0bUrDxLqF7DqNq2n6hcC4ltWs285WEEcWFl8zGP3Styh6ke4AOctePhL4SvBxdNNpM5nH3zJNPCJn3ddziWUMereY+c7jnv6w7fwtbW9zF/pd1Jp9u4kttLcp9mt3BypUBd5CnlUZiiHbtUbE26iWmzUprz7RO3mwxxeQz5iTYXO5V7Md+Ce4VfSgCxRRRQAUUUUAFFFFABRRRQAUVTgs5o9WvLya7kkSdI44rcZEcKpuOcZOXZnbLDGVCDHy5NygDgLXj4S+ErwcXTTaTOZx98yTTwiZ93Xc4llDHq3mPnO457+sO38LW1vcxf6XdSafbuJLbS3KfZrdwcqVAXeQp5VGYoh27VGxNuolps1Ka8+0Tt5sMcXkM+Yk2FzuVezHfgnuFX0oA4TwZd3X/CN+BYtc0q1WBreFdNube+eSQSiychpIzGgUGISj7z4YgYP3hn/8JPoOu+PtE1Rdb06WUazJZWdut3GzxQrbXMZfbk4MszDBBw6C34zXZ6b4Rg064sf+JjfXNppv/IPspvK8q0+QxrtKoHbEbMg3s3ByctgjUvdMhv7vT7iZpFfT7g3EQUjDMYpIsNx02yseMcgfQgHEeDLu6/4RvwLFrmlWqwNbwrptzb3zySCUWTkNJGY0CgxCUfefDEDB+8DwZd3X/CN+BYtc0q1WBreFdNube+eSQSiychpIzGgUGISj7z4YgYP3h0em+EYNOuLH/iY31zaab/yD7KbyvKtPkMa7SqB2xGzIN7NwcnLYINN8IwadcWP/ABMb65tNN/5B9lN5XlWnyGNdpVA7YjZkG9m4OTlsEAGBa8fCXwleDi6abSZzOPvmSaeETPu67nEsoY9W8x853HOX/wAJPoOu+PtE1Rdb06WUazJZWdut3GzxQrbXMZfbk4MszDBBw6C34zXb2/ha2t7mL/S7qTT7dxJbaW5T7NbuDlSoC7yFPKozFEO3ao2Jt0L3TIb+70+4maRX0+4NxEFIwzGKSLDcdNsrHjHIH0IBzElrdafrXhbTZrC1sdLsr5odONvdvcSOEs7hUWRXRdg8vcchnO5QMHJYXLaxt7u/0az0WPytK8NzECXcWV3WCS3ECE8tsEh3OTwyhPmbf5c+m+EYNOuLH/iY31zaab/yD7KbyvKtPkMa7SqB2xGzIN7NwcnLYINB8LzaBFZW0HiLVbmxsoVhis7hLbZsVdqgssKvwMc7u3OeaAOgoqnBZzR6teXk13JIk6RxxW4yI4VTcc4ycuzO2WGMqEGPlyblAHAWvHwl8JXg4umm0mczj75kmnhEz7uu5xLKGPVvMfOdxz39Ydv4Wtre5i/0u6k0+3cSW2luU+zW7g5UqAu8hTyqMxRDt2qNibdRLTZqU159onbzYY4vIZ8xJsLncq9mO/BPcKvpQBjw/wDE18cXMjfPa6LCsMQ7C6lXdISD/EsJh2sMYE8q5OSFzJLW60/WvC2mzWFrY6XZXzQ6cbe7e4kcJZ3Cosiui7B5e45DOdygYOSw6ey0yGwu9QuIWkZ9QuBcShiMKwijiwvHTbEp5zyT9Bl6b4Rg064sf+JjfXNppv8AyD7KbyvKtPkMa7SqB2xGzIN7NwcnLYIAMC14+EvhK8HF002kzmcffMk08Imfd13OJZQx6t5j5zuOcv8A4SfQdd8faJqi63p0so1mSys7dbuNnihW2uYy+3JwZZmGCDh0Fvxmu3t/C1tb3MX+l3Umn27iS20tyn2a3cHKlQF3kKeVRmKIdu1RsTboXumQ393p9xM0ivp9wbiIKRhmMUkWG46bZWPGOQPoQDLh/wCJr44uZG+e10WFYYh2F1Ku6QkH+JYTDtYYwJ5VyckLmSWt1p+teFtNmsLWx0uyvmh042929xI4SzuFRZFdF2Dy9xyGc7lAwclh09lpkNhd6hcQtIz6hcC4lDEYVhFHFheOm2JTznkn6DL03wjBp1xY/wDExvrm003/AJB9lN5XlWnyGNdpVA7YjZkG9m4OTlsEAHOeDLu6/wCEb8Cxa5pVqsDW8K6bc2988kglFk5DSRmNAoMQlH3nwxAwfvDo4f8Aia+OLmRvntdFhWGIdhdSrukJB/iWEw7WGMCeVcnJCmm+EYNOuLH/AImN9c2mm/8AIPspvK8q0+QxrtKoHbEbMg3s3ByctgjUstMhsLvULiFpGfULgXEoYjCsIo4sLx02xKec8k/QAFyiqcFnNHq15eTXckiTpHHFbjIjhVNxzjJy7M7ZYYyoQY+XJuUAcBa8fCXwleDi6abSZzOPvmSaeETPu67nEsoY9W8x853HPf1h2/ha2t7mL/S7qTT7dxJbaW5T7NbuDlSoC7yFPKozFEO3ao2Jt1EtNmpTXn2idvNhji8hnzEmwudyr2Y78E9wq+lAGPD/AMTXxxcyN89rosKwxDsLqVd0hIP8SwmHawxgTyrk5IXnPBl3df8ACN+BYtc0q1WBreFdNube+eSQSiychpIzGgUGISj7z4YgYP3h29lpkNhd6hcQtIz6hcC4lDEYVhFHFheOm2JTznkn6DL03wjBp1xY/wDExvrm003/AJB9lN5XlWnyGNdpVA7YjZkG9m4OTlsEAEGkWFnYfEjxB9htILb7Rp1jPN5MYTzZGmu9ztjqxwMk8msPwZd3X/CN+BYtc0q1WBreFdNube+eSQSiychpIzGgUGISj7z4YgYP3h28WmQxa3c6orSGe5t4bd1JG0LE0jKQMZzmZs89h075em+EYNOuLH/iY31zaab/AMg+ym8ryrT5DGu0qgdsRsyDezcHJy2CACDSLCzsPiR4g+w2kFt9o06xnm8mMJ5sjTXe52x1Y4GSeTXJ/wDCT6Drvj7RNUXW9OllGsyWVnbrdxs8UK21zGX25ODLMwwQcOgt+M16PFpkMWt3OqK0hnubeG3dSRtCxNIykDGc5mbPPYdO5e6ZDf3en3EzSK+n3BuIgpGGYxSRYbjptlY8Y5A+hAOI8GXd1/wjfgWLXNKtVga3hXTbm3vnkkEosnIaSMxoFBiEo+8+GIGD94aElrdafrXhbTZrC1sdLsr5odONvdvcSOEs7hUWRXRdg8vcchnO5QMHJYaem+EYNOuLH/iY31zaab/yD7KbyvKtPkMa7SqB2xGzIN7NwcnLYINN8IwadcWP/Exvrm003/kH2U3leVafIY12lUDtiNmQb2bg5OWwQAdBRVOCzmj1a8vJruSRJ0jjitxkRwqm45xk5dmdssMZUIMfLk3KAOAtePhL4SvBxdNNpM5nH3zJNPCJn3ddziWUMereY+c7jnv6w7fwtbW9zF/pd1Jp9u4kttLcp9mt3BypUBd5CnlUZiiHbtUbE26iWmzUprz7RO3mwxxeQz5iTYXO5V7Md+Ce4VfSgDHh/wCJr44uZG+e10WFYYh2F1Ku6QkH+JYTDtYYwJ5VyckLzngy7uv+Eb8Cxa5pVqsDW8K6bc2988kglFk5DSRmNAoMQlH3nwxAwfvDt7LTIbC71C4haRn1C4FxKGIwrCKOLC8dNsSnnPJP0GXpvhGDTrix/wCJjfXNppv/ACD7KbyvKtPkMa7SqB2xGzIN7NwcnLYIAINIsLOw+JHiD7DaQW32jTrGebyYwnmyNNd7nbHVjgZJ5NYfgy7uv+Eb8Cxa5pVqsDW8K6bc2988kglFk5DSRmNAoMQlH3nwxAwfvDt4tMhi1u51RWkM9zbw27qSNoWJpGUgYznMzZ57Dp3y9N8IwadcWP8AxMb65tNN/wCQfZTeV5Vp8hjXaVQO2I2ZBvZuDk5bBABBpFhZ2HxI8QfYbSC2+0adYzzeTGE82Rprvc7Y6scDJPJrk/8AhJ9B13x9omqLrenSyjWZLKzt1u42eKFba5jL7cnBlmYYIOHQW/Ga9Hi0yGLW7nVFaQz3NvDbupI2hYmkZSBjOczNnnsOncvdMhv7vT7iZpFfT7g3EQUjDMYpIsNx02yseMcgfQgHEeDLu6/4RvwLFrmlWqwNbwrptzb3zySCUWTkNJGY0CgxCUfefDEDB+8NCS1utP1rwtps1ha2Ol2V80OnG3u3uJHCWdwqLIrouweXuOQzncoGDksNPTfCMGnXFj/xMb65tNN/5B9lN5XlWnyGNdpVA7YjZkG9m4OTlsEGm+EYNOuLH/iY31zaab/yD7KbyvKtPkMa7SqB2xGzIN7NwcnLYIACz/5KRrP/AGCbD/0deUWf/JSNZ/7BNh/6OvKk0bRtStNbvtU1jUbW8nureC3VbWza3VFiaVskNI5JJmPcdBRo2jalaa3faprGo2t5PdW8Fuq2tm1uqLE0rZIaRySTMe46CgCOb/R/iRZ+T8v27Sbj7R33+RND5X02/aZumM7+c4GOgrPsdL+zale6jcTefd3e2MuF2KkKFzHGFyem9iWOSWZjwu1Vkgs5o9WvLya7kkSdI44rcZEcKpuOcZOXZnbLDGVCDHy5IBcooooAKKKKAM+01/R7/Up9OsdWsbm+t93nW0NyjyxbTtbcoORgkA56Hihdf0d9Sj05NWsWvpd/l2wuUMr7Cythc5OCjg+hVh2NcJpa376n4XN0+sCTT7gNe6b/AGT5VlYlraWHbC6wDeiSSqgxI42EsSVUuOr8G2H2DSb3fafZprjVr+eTMexpd11Ltc+uUCYPddvbFAGguv6O+pR6cmrWLX0u/wAu2FyhlfYWVsLnJwUcH0KsOxotNf0e/wBSn06x1axub633edbQ3KPLFtO1tyg5GCQDnoeKz/Bth9g0m932n2aa41a/nkzHsaXddS7XPrlAmD3Xb2xXKaWt++p+FzdPrAk0+4DXum/2T5VlYlraWHbC6wDeiSSqgxI42EsSVUuAD0MX9m1lDeLdwG1n8vypxINkm8gJtbodxZQMdcjHWs/Sb641bUr26STZp1tNJZwRqo/0h0IWWVifmG2RXjC8fcZssGTbznh5IdX1ZbDTb21v/Dmk3DXdvLayiWNmbmK3JGUIhYysEGNiizIOQa2/Dn/Esur/AES5+WYXdxe2zNx9phmlMrMo/wBh5TGRkkbVYhRIooAj0k6hf+LNblm1e6W00++W3isFjh8llNpDJlj5fmZ3SseHHQduCaSdQv8AxZrcs2r3S2mn3y28VgscPksptIZMsfL8zO6Vjw46DtwYNA1fTYfGnibS5tQtY9Qn1NHitGnUTSL9htvmVM5I+VuQOx9KNA1fTYfGnibS5tQtY9Qn1NHitGnUTSL9htvmVM5I+VuQOx9KAOrooooAK5i21TxDaX+jHXBYrHq8xh+xQwMstk/kSTYaXzGWXb5RQkKuSdwwBtPT1yHhbWYdUvYb3U7PVYtZvIceVcaVcxRWKEbjAsjRhByo3Pn94yjsI0UA6+iqcGpw3OrXlhCsjPZpGZZQAYwz7j5ec/fChWKnosiH+KrlAHMW934kh8WWem3eoaVfQtC9xdi306SFoYwNqfMZ3wzOflBXDLHLg5XBLbVPENpf6MdcFiserzGH7FDAyy2T+RJNhpfMZZdvlFCQq5J3DAG029Gt5j4l8RXl3FIrm4htreRlKh7dIEcBexAlmn+brkkZ+UAZnhbWYdUvYb3U7PVYtZvIceVcaVcxRWKEbjAsjRhByo3Pn94yjsI0UAsW934kh8WWem3eoaVfQtC9xdi306SFoYwNqfMZ3wzOflBXDLHLg5XBr6P4i1i5Tw7qF89i9j4i2+TbQ27pLabrd7hd0hkYSYEZQ4RMlt3GNp09Gt5j4l8RXl3FIrm4htreRlKh7dIEcBexAlmn+brkkZ+UAcp4Z02KG68Mra6PPaa7bY/t+8bT3hM/+jSLJvuCoWfM5jbhn3EBxkDcAD0eiqcGpw3OrXlhCsjPZpGZZQAYwz7j5ec/fChWKnosiH+KrlAHMeHtU8Q6pa6Rq8wsZtO1aFZjbwwNHLZI8RkUtI0hEuDtjICLkvu4AIqO18Sak+n6f4hnFqdF1N7dYbVImFzCtw6JE7SFtrnLpuQKu0M2GfYN/P8AhHRrTTj4VtdL0GTTtWsEVNbuF0x7cSKtrIjq05QLMDOYjhWbcQHGQu4aFnbXT+FdD8I/Y7pNQ0t7AXMr27rbBLWWJ2dZiNjhhH8qqS+XXcq4fYAaltqniG0v9GOuCxWPV5jD9ihgZZbJ/Ikmw0vmMsu3yihIVck7hgDabematqVx4t1bS9QtrWCC0t7ee2aCZpGkWSSdcuSqhTiIfKAcc/M2eMzwtrMOqXsN7qdnqsWs3kOPKuNKuYorFCNxgWRowg5Ubnz+8ZR2EaLp2lvMvxA1a4aKQQSaZZIkpU7WZZbosoPQkBlJHbcPWgDcoqnBqcNzq15YQrIz2aRmWUAGMM+4+XnP3woVip6LIh/iq5QBh6Zq2pXHi3VtL1C2tYILS3t57ZoJmkaRZJJ1y5KqFOIh8oBxz8zZ4xPA/iq88TxafPJ4m8OXUk1otzc6ZY2xFxDuUZUn7Q2NrMASU9uCeNu0t5l+IGrXDRSCCTTLJElKnazLLdFlB6EgMpI7bh61kW90dVvvC9ra6NdabJpdwZru1azkjgtFFpNEUSUoscgV5EUeWTkfMBtBIALltqniG0v9GOuCxWPV5jD9ihgZZbJ/Ikmw0vmMsu3yihIVck7hgDaa+j+ItYuU8O6hfPYvY+Itvk20Nu6S2m63e4XdIZGEmBGUOETJbdxjaTwtrMOqXsN7qdnqsWs3kOPKuNKuYorFCNxgWRowg5Ubnz+8ZR2EaLj+GdNihuvDK2ujz2mu22P7fvG094TP/o0iyb7gqFnzOY24Z9xAcZA3AA9HoqnBqcNzq15YQrIz2aRmWUAGMM+4+XnP3woVip6LIh/iq5QBzGo+JbyHx3pOj2EcD2MkzQahM6kssjQSzRpGQcBgISXDDIWWIj72RX0fxFrFynh3UL57F7HxFt8m2ht3SW03W73C7pDIwkwIyhwiZLbuMbTnnw54k0/XNBeTU7G/jbXJby5lj0qRXG+3uAS7+e3yhSIkyPl/dDJC7Wj0zT7a58QeHZNP0vWNPurG4aa+s7iS7NpZqbWaMpEZMQMFkkRV8ofd5UbM0Abmo+JbyHx3pOj2EcD2MkzQahM6kssjQSzRpGQcBgISXDDIWWIj72QW934kh8WWem3eoaVfQtC9xdi306SFoYwNqfMZ3wzOflBXDLHLg5XBxz4c8SafrmgvJqdjfxtrkt5cyx6VIrjfb3AJd/Pb5QpESZHy/uhkhdrdHo1vMfEviK8u4pFc3ENtbyMpUPbpAjgL2IEs0/zdckjPygAAr6GdQtPFuq6Xe6vdanBDY2lxE11HCrI0klwrAGKNARiJOoPejQzqFp4t1XS73V7rU4IbG0uImuo4VZGkkuFYAxRoCMRJ1B71BoGr6brXxA1u40fULXUIF0ywRpbWdZVDCW7O0lSRnBBx7ijQNX03WviBrdxo+oWuoQLplgjS2s6yqGEt2dpKkjOCDj3FAGnaX1xbeJJ9Iv5POWaFryxmKgMyB8SxELx+7LxYY43LIowxRmJaX1xbeJJ9Iv5POWaFryxmKgMyB8SxELx+7LxYY43LIowxRmNe3/4mvjb+0Lfm00u0mshMOVmmlkQyKP8Arn5CgkZBaRlyGjYUW/8AxNfG39oW/NppdpNZCYcrNNLIhkUf9c/IUEjILSMuQ0bCgDoKKKKACiiigAooooAKKKKACiiigAooooAKKKKACiiigAooooAKKKKACiiigAooooAKKKKACiiigAooooAKKKKACiiigAooooAKKKKACiiigAooooAKKKKACiiigAooooAKKKKACiiigAooooAKKKKACiiigAooooAKKKKACiiigAooooAKKKKACiiigAooooAKKKKACiiigAooooAKKKKACiiigAooooAKKKKACiiigAooooAKKKKACiiigAooooAKKKKACiiigAooooAKKKKACiiigD//2Q==)"
      ],
      "metadata": {
        "id": "h6ixr0Xtu1XJ"
      }
    },
    {
      "cell_type": "code",
      "source": [
        "# 문서검색 예제\n",
        "# 예제와 가장 비슷한 값을 기존 정보에서 찾아오는 것\n",
        "# 출처 : https://www.amazon.com/Samples/product-reviews/B000001HZ8?reviewerType=all_reviews\n",
        "sample_review = [\"\"\"in 1989, I managed a crummy bicycle shop, \"Full Cycle\" in Boulder, Colorado.\n",
        "The Samples had just recorded this album and they played most nights, at \"Tulagi's\" - a bar on 13th street.\n",
        "They told me they had been so broke and hungry, that they lived on the free samples at the local supermarkets - thus, the name.\n",
        "i used to fix their bikes for free, and even feed them, but they won't remember.\n",
        "That Sean Kelly is a gifted songwriter and singer.\"\"\"]"
      ],
      "metadata": {
        "id": "NO5JMqwBvRLG"
      },
      "execution_count": null,
      "outputs": []
    },
    {
      "cell_type": "code",
      "source": [
        "new = tfidf_vect.transform(sample_review)"
      ],
      "metadata": {
        "id": "rbaZXGi3vZ0S"
      },
      "execution_count": null,
      "outputs": []
    },
    {
      "cell_type": "code",
      "source": [
        "nn.kneighbors(new.todense())"
      ],
      "metadata": {
        "id": "ZTxjR5TnvcNk"
      },
      "execution_count": null,
      "outputs": []
    },
    {
      "cell_type": "code",
      "source": [
        "# 가장 가깝게 나온 문서를 확인합니다 \n",
        "df['reviews.text'][10035]"
      ],
      "metadata": {
        "id": "XaDAP7B5vdew"
      },
      "execution_count": null,
      "outputs": []
    },
    {
      "cell_type": "markdown",
      "source": [
        "## N422 단어 분산표현(Distributed Representation)"
      ],
      "metadata": {
        "id": "1Xdboh2lRybs"
      }
    },
    {
      "cell_type": "markdown",
      "source": [
        "- 단어 자체를 벡터화\n",
        "- 분포가설 : 비슷한 위치에 등장하는 단어들은 비슷한 의미를 지닌다.\n",
        "- 주변 단어의 분포를 기준으로 단어의 벡터 표현이 결정된다.\n",
        "- 원핫인코딩 : 단어간의 유사도를 파악할 수 없다\n",
        "- 임베딩(Embedding) : 단어를 고정 길이의 벡터, 즉 차원이 일정한 벡터로 나타냄\n"
      ],
      "metadata": {
        "id": "IAbzOrAwR_wF"
      }
    },
    {
      "cell_type": "markdown",
      "source": [
        "### Word2Vec "
      ],
      "metadata": {
        "id": "_hfA4RFlUOuQ"
      }
    },
    {
      "cell_type": "markdown",
      "source": [
        "- Word to Vector(단어를 벡터로) 변환하는 임베딩 방식\n",
        "- 양 옆에 있는 두 단어(widnowsize=2)의 관계를 활용하여 분포가설을 잘 반영\n",
        "- CboW : **`주변단어의 정보를 기반`**으로 중심단어의 정보를 예측(Continuous Bag-of-words)\n",
        "- Skip-gram : '**`중심단어의 정보를 기반`**으로 주변단어의 정보를 예측, 더 많은 학습으로 성능이 더 좋음\n",
        "-조금 더 적은 계산을 하는 방식들 Sub-sampling, Negative-sampling"
      ],
      "metadata": {
        "id": "PAwgYBr-UaZj"
      }
    },
    {
      "cell_type": "markdown",
      "source": [
        "![23525.JPG](data:image/jpeg;base64,/9j/4AAQSkZJRgABAQEAYABgAAD/4RDaRXhpZgAATU0AKgAAAAgABAE7AAIAAAAFAAAISodpAAQAAAABAAAIUJydAAEAAAAKAAAQyOocAAcAAAgMAAAAPgAAAAAc6gAAAAgAAAAAAAAAAAAAAAAAAAAAAAAAAAAAAAAAAAAAAAAAAAAAAAAAAAAAAAAAAAAAAAAAAAAAAAAAAAAAAAAAAAAAAAAAAAAAAAAAAAAAAAAAAAAAAAAAAAAAAAAAAAAAAAAAAAAAAAAAAAAAAAAAAAAAAAAAAAAAAAAAAAAAAAAAAAAAAAAAAAAAAAAAAAAAAAAAAAAAAAAAAAAAAAAAAAAAAAAAAAAAAAAAAAAAAAAAAAAAAAAAAAAAAAAAAAAAAAAAAAAAAAAAAAAAAAAAAAAAAAAAAAAAAAAAAAAAAAAAAAAAAAAAAAAAAAAAAAAAAAAAAAAAAAAAAAAAAAAAAAAAAAAAAAAAAAAAAAAAAAAAAAAAAAAAAAAAAAAAAAAAAAAAAAAAAAAAAAAAAAAAAAAAAAAAAAAAAAAAAAAAAAAAAAAAAAAAAAAAAAAAAAAAAAAAAAAAAAAAAAAAAAAAAAAAAAAAAAAAAAAAAAAAAAAAAAAAAAAAAAAAAAAAAAAAAAAAAAAAAAAAAAAAAAAAAAAAAAAAAAAAAAAAAAAAAAAAAAAAAAAAAAAAAAAAAAAAAAAAAAAAAAAAAAAAAAAAAAAAAAAAAAAAAAAAAAAAAAAAAAAAAAAAAAAAAAAAAAAAAAAAAAAAAAAAAAAAAAAAAAAAAAAAAAAAAAAAAAAAAAAAAAAAAAAAAAAAAAAAAAAAAAAAAAAAAAAAAAAAAAAAAAAAAAAAAAAAAAAAAAAAAAAAAAAAAAAAAAAAAAAAAAAAAAAAAAAAAAAAAAAAAAAAAAAAAAAAAAAAAAAAAAAAAAAAAAAAAAAAAAAAAAAAAAAAAAAAAAAAAAAAAAAAAAAAAAAAAAAAAAAAAAAAAAAAAAAAAAAAAAAAAAAAAAAAAAAAAAAAAAAAAAAAAAAAAAAAAAAAAAAAAAAAAAAAAAAAAAAAAAAAAAAAAAAAAAAAAAAAAAAAAAAAAAAAAAAAAAAAAAAAAAAAAAAAAAAAAAAAAAAAAAAAAAAAAAAAAAAAAAAAAAAAAAAAAAAAAAAAAAAAAAAAAAAAAAAAAAAAAAAAAAAAAAAAAAAAAAAAAAAAAAAAAAAAAAAAAAAAAAAAAAAAAAAAAAAAAAAAAAAAAAAAAAAAAAAAAAAAAAAAAAAAAAAAAAAAAAAAAAAAAAAAAAAAAAAAAAAAAAAAAAAAAAAAAAAAAAAAAAAAAAAAAAAAAAAAAAAAAAAAAAAAAAAAAAAAAAAAAAAAAAAAAAAAAAAAAAAAAAAAAAAAAAAAAAAAAAAAAAAAAAAAAAAAAAAAAAAAAAAAAAAAAAAAAAAAAAAAAAAAAAAAAAAAAAAAAAAAAAAAAAAAAAAAAAAAAAAAAAAAAAAAAAAAAAAAAAAAAAAAAAAAAAAAAAAAAAAAAAAAAAAAAAAAAAAAAAAAAAAAAAAAAAAAAAAAAAAAAAAAAAAAAAAAAAAAAAAAAAAAAAAAAAAAAAAAAAAAAAAAAAAAAAAAAAAAAAAAAAAAAAAAAAAAAAAAAAAAAAAAAAAAAAAAAAAAAAAAAAAAAAAAAAAAAAAAAAAAAAAAAAAAAAAAAAAAAAAAAAAAAAAAAAAAAAAAAAAAAAAAAAAAAAAAAAAAAAAAAAAAAAAAAAAAAAAAAAAAAAAAAAAAAAAAAAAAAAAAAAAAAAAAAAAAAAAAAAAAAAAAAAAAAAAAAAAAAAAAAAAAAAAAAAAAAAAAAAAAAAAAAAAAAAAAAAAAAAAAAAAAAAAAAAAAAAAAAAAAAAAAAAAAAAAAAAAAAAAAAAAAAAAAAAAAAAAAAAAAAAAAAAAAAAAAAAAAAAAAAAAAAAAAAAAAAAAAAAAAAAAAAAAAAAAAAAAAAAAAAAAAAAAAAAAAAAAAAAAAAAAAAAAAAAAAAAAAAAAAAAAAAAAAAAAAAAAAAAAAAAAAAAAAAAAAAAAAAAAAAAAAAAAAAAAAAAAAAAAAAAAAAAAAAAAAAAAAAAAAAAAAAAAAAAAAAAAAAAAAAAAAAAAAAAAAAAAAAAAAAAAAAAAAAAAAAAAAAAAAAAAAAAAAAAAAAAAAAAAAAAAAAAAAAAAAAAAAAAAAAAAAAAAAAAAAAAAAAAAAAAAAAAAAAAAAAAAAAAAAAAAAAAAAAAAAAAAAAAAAAAAAAAAAAAAAAAAAAAAAAAAAAAAAAAAAAAAAAAAAAAAAAAAAAAAAAAAAAAAAAAAAAAAAAAAAAAAAAAAAAAAAAAAAAAAAAAAAAAAAAAAAAAAAAAAAAAAAAAAAAAAAAAAAAAAAAAAAAAAAAAAAAAAAAAAAAAAAAAAAAAAAAAAAAAAAAAAAAAAAAAAAAAAAAAAAAAAAAAAAAAAAAAAAAAAAAAAAAAAAAAAAAAAAAAAAAAAAAAAAAAAAAAAAAAAAAAAAAAAAAAAAAAAAAAAAAAAAAAAAAAAAAAAAAAAAAAAAAAAAAAAAAAAAAAAAAAAAAAAAAAAAAAAAAAAAAAAAAAAAAAAAAAAAAAAAAAAAAAAAAAAAAAAAAAAAAAAAAAAAAAAAAAAAAAAAAAAAAAAAAAAAAAAAAAAAAAAAAAAAAAAAAAAAAAAAAAAAAAAAAAAAAAAAAAAAAAAAAAAAAAAAAAAAAAAAAAAAAAAAAAAAAAAAAAAAAAAAAAAAAAAAAAAAAAAAAAAAAAAAAAAAAAAAAAAAAAAAAAAAAAAAAAAAAAAAAAAAAAAAAAAAAAAAAAAAAAAAAAAAAAAAAAAAAAAAAAAAAAAAAGVudnkAAAAFkAMAAgAAABQAABCekAQAAgAAABQAABCykpEAAgAAAAMxMQAAkpIAAgAAAAMxMQAA6hwABwAACAwAAAiSAAAAABzqAAAACAAAAAAAAAAAAAAAAAAAAAAAAAAAAAAAAAAAAAAAAAAAAAAAAAAAAAAAAAAAAAAAAAAAAAAAAAAAAAAAAAAAAAAAAAAAAAAAAAAAAAAAAAAAAAAAAAAAAAAAAAAAAAAAAAAAAAAAAAAAAAAAAAAAAAAAAAAAAAAAAAAAAAAAAAAAAAAAAAAAAAAAAAAAAAAAAAAAAAAAAAAAAAAAAAAAAAAAAAAAAAAAAAAAAAAAAAAAAAAAAAAAAAAAAAAAAAAAAAAAAAAAAAAAAAAAAAAAAAAAAAAAAAAAAAAAAAAAAAAAAAAAAAAAAAAAAAAAAAAAAAAAAAAAAAAAAAAAAAAAAAAAAAAAAAAAAAAAAAAAAAAAAAAAAAAAAAAAAAAAAAAAAAAAAAAAAAAAAAAAAAAAAAAAAAAAAAAAAAAAAAAAAAAAAAAAAAAAAAAAAAAAAAAAAAAAAAAAAAAAAAAAAAAAAAAAAAAAAAAAAAAAAAAAAAAAAAAAAAAAAAAAAAAAAAAAAAAAAAAAAAAAAAAAAAAAAAAAAAAAAAAAAAAAAAAAAAAAAAAAAAAAAAAAAAAAAAAAAAAAAAAAAAAAAAAAAAAAAAAAAAAAAAAAAAAAAAAAAAAAAAAAAAAAAAAAAAAAAAAAAAAAAAAAAAAAAAAAAAAAAAAAAAAAAAAAAAAAAAAAAAAAAAAAAAAAAAAAAAAAAAAAAAAAAAAAAAAAAAAAAAAAAAAAAAAAAAAAAAAAAAAAAAAAAAAAAAAAAAAAAAAAAAAAAAAAAAAAAAAAAAAAAAAAAAAAAAAAAAAAAAAAAAAAAAAAAAAAAAAAAAAAAAAAAAAAAAAAAAAAAAAAAAAAAAAAAAAAAAAAAAAAAAAAAAAAAAAAAAAAAAAAAAAAAAAAAAAAAAAAAAAAAAAAAAAAAAAAAAAAAAAAAAAAAAAAAAAAAAAAAAAAAAAAAAAAAAAAAAAAAAAAAAAAAAAAAAAAAAAAAAAAAAAAAAAAAAAAAAAAAAAAAAAAAAAAAAAAAAAAAAAAAAAAAAAAAAAAAAAAAAAAAAAAAAAAAAAAAAAAAAAAAAAAAAAAAAAAAAAAAAAAAAAAAAAAAAAAAAAAAAAAAAAAAAAAAAAAAAAAAAAAAAAAAAAAAAAAAAAAAAAAAAAAAAAAAAAAAAAAAAAAAAAAAAAAAAAAAAAAAAAAAAAAAAAAAAAAAAAAAAAAAAAAAAAAAAAAAAAAAAAAAAAAAAAAAAAAAAAAAAAAAAAAAAAAAAAAAAAAAAAAAAAAAAAAAAAAAAAAAAAAAAAAAAAAAAAAAAAAAAAAAAAAAAAAAAAAAAAAAAAAAAAAAAAAAAAAAAAAAAAAAAAAAAAAAAAAAAAAAAAAAAAAAAAAAAAAAAAAAAAAAAAAAAAAAAAAAAAAAAAAAAAAAAAAAAAAAAAAAAAAAAAAAAAAAAAAAAAAAAAAAAAAAAAAAAAAAAAAAAAAAAAAAAAAAAAAAAAAAAAAAAAAAAAAAAAAAAAAAAAAAAAAAAAAAAAAAAAAAAAAAAAAAAAAAAAAAAAAAAAAAAAAAAAAAAAAAAAAAAAAAAAAAAAAAAAAAAAAAAAAAAAAAAAAAAAAAAAAAAAAAAAAAAAAAAAAAAAAAAAAAAAAAAAAAAAAAAAAAAAAAAAAAAAAAAAAAAAAAAAAAAAAAAAAAAAAAAAAAAAAAAAAAAAAAAAAAAAAAAAAAAAAAAAAAAAAAAAAAAAAAAAAAAAAAAAAAAAAAAAAAAAAAAAAAAAAAAAAAAAAAAAAAAAAAAAAAAAAAAAAAAAAAAAAAAAAAAAAAAAAAAAAAAAAAAAAAAAAAAAAAAAAAAAAAAAAAAAAAAAAAAAAAAAAAAAAAAAAAAAAAAAAAAAAAAAAAAAAAAAAAAAAAAAAAAAAAAAAAAAAAAAAAAAAAAAAAAAAAAAAAAAAAAAAAAAAAAAAAAAAAAAAAAAAAAAAAAAAAAAAAAAAAAAAAAAAAAAAAAAAAAAAAAAAAAAAAAAAAAAAAAAAAAAAAAAAAAAAAAAAAAAAAAAAAAAAAAAAAAAAAAAAAAAAAAAAAAAAAAAAAAAAAAAAAAAAAAAAAAAAAAAAAAAAAAAAAAAAAAAAAAAAAAAAAAAAAAAAAAAAAAAAAAAAAAAAAAAAAAAAAAAAAAAAAAAAAAAAAAAAAAAAAAAAAAAAAAAAAAAAAAAAAAAAAAAAAAAAAAAAAAAAAAAAAAAAAAAAAAAAAAAAAAAAAAAAAAAAAAAAAAAAAAAAAAAAAAAAAAAAAAAAAAAAAAAAAAAAAAAAAAAAAAAAAAAAAAAAAAAAAAAAAAAAAAAAAAAAAAAAAAAAAAAAAAAAAAAAAAAAAAAAAAAAAAAAAAAAAAAAAAAAAAAAAAAAAAAAAAAAAAAAAAAAAAAAAAAAAAAAAAAAAAAAAAAAAAAAAAAAAAAAAAAAAAAAAAAAAAAAAAAAAAAAAAAAAAAAAAAAAAAAAAAAAAAAAAAAAAAAAAAAAAAAAAAAAAAAAAAAAAAAAAAAAAAAAAAAAAAAAAAAAAAAAAAAAAAAAAAAAAAAAAAAAAAAAAAAAAAAAAAAAAAAAAAAAAAAAAAAAAAAAAAAAAAAAAAAAAAAAAAAAAAAAAAAAAAAAAAAAAAAAAAAAAAAAAAAAAAAAAAAAAAAAAAAAAAAAAAAAAAAAAAAAAAAAAAAAAAAAAAAAAAAAAAAAAAAAAAAAAAAAAAAAAAAAAAAAAAAAAAAAAAAAAAAAAAAMjAyMjoxMToxNyAxMTowNTozMAAyMDIyOjExOjE3IDExOjA1OjMwAAAAZQBuAHYAeQAAAP/hCxdodHRwOi8vbnMuYWRvYmUuY29tL3hhcC8xLjAvADw/eHBhY2tldCBiZWdpbj0n77u/JyBpZD0nVzVNME1wQ2VoaUh6cmVTek5UY3prYzlkJz8+DQo8eDp4bXBtZXRhIHhtbG5zOng9ImFkb2JlOm5zOm1ldGEvIj48cmRmOlJERiB4bWxuczpyZGY9Imh0dHA6Ly93d3cudzMub3JnLzE5OTkvMDIvMjItcmRmLXN5bnRheC1ucyMiPjxyZGY6RGVzY3JpcHRpb24gcmRmOmFib3V0PSJ1dWlkOmZhZjViZGQ1LWJhM2QtMTFkYS1hZDMxLWQzM2Q3NTE4MmYxYiIgeG1sbnM6ZGM9Imh0dHA6Ly9wdXJsLm9yZy9kYy9lbGVtZW50cy8xLjEvIi8+PHJkZjpEZXNjcmlwdGlvbiByZGY6YWJvdXQ9InV1aWQ6ZmFmNWJkZDUtYmEzZC0xMWRhLWFkMzEtZDMzZDc1MTgyZjFiIiB4bWxuczp4bXA9Imh0dHA6Ly9ucy5hZG9iZS5jb20veGFwLzEuMC8iPjx4bXA6Q3JlYXRlRGF0ZT4yMDIyLTExLTE3VDExOjA1OjMwLjExMzwveG1wOkNyZWF0ZURhdGU+PC9yZGY6RGVzY3JpcHRpb24+PHJkZjpEZXNjcmlwdGlvbiByZGY6YWJvdXQ9InV1aWQ6ZmFmNWJkZDUtYmEzZC0xMWRhLWFkMzEtZDMzZDc1MTgyZjFiIiB4bWxuczpkYz0iaHR0cDovL3B1cmwub3JnL2RjL2VsZW1lbnRzLzEuMS8iPjxkYzpjcmVhdG9yPjxyZGY6U2VxIHhtbG5zOnJkZj0iaHR0cDovL3d3dy53My5vcmcvMTk5OS8wMi8yMi1yZGYtc3ludGF4LW5zIyI+PHJkZjpsaT5lbnZ5PC9yZGY6bGk+PC9yZGY6U2VxPg0KCQkJPC9kYzpjcmVhdG9yPjwvcmRmOkRlc2NyaXB0aW9uPjwvcmRmOlJERj48L3g6eG1wbWV0YT4NCiAgICAgICAgICAgICAgICAgICAgICAgICAgICAgICAgICAgICAgICAgICAgICAgICAgICAgICAgICAgICAgICAgICAgICAgICAgICAgICAgICAgICAgICAgICAgICAgICAgICAKICAgICAgICAgICAgICAgICAgICAgICAgICAgICAgICAgICAgICAgICAgICAgICAgICAgICAgICAgICAgICAgICAgICAgICAgICAgICAgICAgICAgICAgICAgICAgICAgICAgIAogICAgICAgICAgICAgICAgICAgICAgICAgICAgICAgICAgICAgICAgICAgICAgICAgICAgICAgICAgICAgICAgICAgICAgICAgICAgICAgICAgICAgICAgICAgICAgICAgICAgCiAgICAgICAgICAgICAgICAgICAgICAgICAgICAgICAgICAgICAgICAgICAgICAgICAgICAgICAgICAgICAgICAgICAgICAgICAgICAgICAgICAgICAgICAgICAgICAgICAgICAKICAgICAgICAgICAgICAgICAgICAgICAgICAgICAgICAgICAgICAgICAgICAgICAgICAgICAgICAgICAgICAgICAgICAgICAgICAgICAgICAgICAgICAgICAgICAgICAgICAgIAogICAgICAgICAgICAgICAgICAgICAgICAgICAgICAgICAgICAgICAgICAgICAgICAgICAgICAgICAgICAgICAgICAgICAgICAgICAgICAgICAgICAgICAgICAgICAgICAgICAgCiAgICAgICAgICAgICAgICAgICAgICAgICAgICAgICAgICAgICAgICAgICAgICAgICAgICAgICAgICAgICAgICAgICAgICAgICAgICAgICAgICAgICAgICAgICAgICAgICAgICAKICAgICAgICAgICAgICAgICAgICAgICAgICAgICAgICAgICAgICAgICAgICAgICAgICAgICAgICAgICAgICAgICAgICAgICAgICAgICAgICAgICAgICAgICAgICAgICAgICAgIAogICAgICAgICAgICAgICAgICAgICAgICAgICAgICAgICAgICAgICAgICAgICAgICAgICAgICAgICAgICAgICAgICAgICAgICAgICAgICAgICAgICAgICAgICAgICAgICAgICAgCiAgICAgICAgICAgICAgICAgICAgICAgICAgICAgICAgICAgICAgICAgICAgICAgICAgICAgICAgICAgICAgICAgICAgICAgICAgICAgICAgICAgICAgICAgICAgICAgICAgICAKICAgICAgICAgICAgICAgICAgICAgICAgICAgICAgICAgICAgICAgICAgICAgICAgICAgICAgICAgICAgICAgICAgICAgICAgICAgICAgICAgICAgICAgICAgICAgICAgICAgIAogICAgICAgICAgICAgICAgICAgICAgICAgICAgICAgICAgICAgICAgICAgICAgICAgICAgICAgICAgICAgICAgICAgICAgICAgICAgICAgICAgICAgICAgICAgICAgICAgICAgCiAgICAgICAgICAgICAgICAgICAgICAgICAgICAgICAgICAgICAgICAgICAgICAgICAgICAgICAgICAgICAgICAgICAgICAgICAgICAgICAgICAgICAgICAgICAgICAgICAgICAKICAgICAgICAgICAgICAgICAgICAgICAgICAgICAgICAgICAgICAgICAgICAgICAgICAgICAgICAgICAgICAgICAgICAgICAgICAgICAgICAgICAgICAgICAgICAgICAgICAgIAogICAgICAgICAgICAgICAgICAgICAgICAgICAgICAgICAgICAgICAgICAgICAgICAgICAgICAgICAgICAgICAgICAgICAgICAgICAgICAgICAgICAgICAgICAgICAgICAgICAgCiAgICAgICAgICAgICAgICAgICAgICAgICAgICAgICAgICAgICAgICAgICAgICAgICAgICAgICAgICAgICAgICAgICAgICAgICAgICAgICAgICAgICAgICAgICAgICAgICAgICAKICAgICAgICAgICAgICAgICAgICAgICAgICAgICAgICAgICAgICAgICAgICAgICAgICAgICAgICAgICAgICAgICAgICAgICAgICAgICAgICAgICAgICAgICAgICAgICAgICAgIAogICAgICAgICAgICAgICAgICAgICAgICAgICAgICAgICAgICAgICAgICAgICAgICAgICAgICAgICAgICAgICAgICAgICAgICAgICAgICAgICAgICAgICAgICAgICAgICAgICAgCiAgICAgICAgICAgICAgICAgICAgICAgICAgICAgICAgICAgICAgICAgICAgICAgICAgICAgICAgICAgICAgICAgICAgICAgICAgICAgICAgICAgICAgICAgICAgICAgICAgICAKICAgICAgICAgICAgICAgICAgICAgICAgICAgICAgICAgICAgICAgICAgICAgICAgICAgICAgICAgICAgICAgICAgICAgICAgICAgICAgICAgICAgICAgICAgICAgICAgICAgIAogICAgICAgICAgICAgICAgICAgICAgICAgICAgPD94cGFja2V0IGVuZD0ndyc/Pv/bAEMABwUFBgUEBwYFBggHBwgKEQsKCQkKFQ8QDBEYFRoZGBUYFxseJyEbHSUdFxgiLiIlKCkrLCsaIC8zLyoyJyorKv/bAEMBBwgICgkKFAsLFCocGBwqKioqKioqKioqKioqKioqKioqKioqKioqKioqKioqKioqKioqKioqKioqKioqKioqKv/AABEIAWECvgMBIgACEQEDEQH/xAAfAAABBQEBAQEBAQAAAAAAAAAAAQIDBAUGBwgJCgv/xAC1EAACAQMDAgQDBQUEBAAAAX0BAgMABBEFEiExQQYTUWEHInEUMoGRoQgjQrHBFVLR8CQzYnKCCQoWFxgZGiUmJygpKjQ1Njc4OTpDREVGR0hJSlNUVVZXWFlaY2RlZmdoaWpzdHV2d3h5eoOEhYaHiImKkpOUlZaXmJmaoqOkpaanqKmqsrO0tba3uLm6wsPExcbHyMnK0tPU1dbX2Nna4eLj5OXm5+jp6vHy8/T19vf4+fr/xAAfAQADAQEBAQEBAQEBAAAAAAAAAQIDBAUGBwgJCgv/xAC1EQACAQIEBAMEBwUEBAABAncAAQIDEQQFITEGEkFRB2FxEyIygQgUQpGhscEJIzNS8BVictEKFiQ04SXxFxgZGiYnKCkqNTY3ODk6Q0RFRkdISUpTVFVWV1hZWmNkZWZnaGlqc3R1dnd4eXqCg4SFhoeIiYqSk5SVlpeYmZqio6Slpqeoqaqys7S1tre4ubrCw8TFxsfIycrS09TV1tfY2dri4+Tl5ufo6ery8/T19vf4+fr/2gAMAwEAAhEDEQA/APpGiiigAooooAKKKKACiiigAoooPQ44oAKK8i0nxV4qn+PGp+ELrXVbTdPt1uQ32OMM4Kq20nHA+br14rtj8SfBqrIW8SaeBFL5L5l+6/8AdPoeKFrFNdQeja7f8OdPRWJqXjPw5o+oJYanrNpa3UieYkMkmGZfUetDeM/Di6A2uNrNoNMVtrXfmfIDnGCfrQBt0Vh2/jTw3dX9vZW+s2klzdQieCJZPmkjIyGHqMc1k+HPiZonibxhqehafcIz2RVUbJzM2GL49lwKOtg6XOyooooAKKKKACiqGuC6Oi3TafdmzuEjLpMI1fGBnoeK8Jh+J3ja2+Etv46n1i2uSuoG3m097REWVAcfKw5zSur29Pxdh2dr/wBdz6FormLf4heHRaw/2nqlrY3bWq3UttNJho0Izkj0rSv/ABRommabbX9/qdvBa3QBgld+JcjI2+vHNU1bclO+xq0VxHjbxolr8P5NX8L61pkU0zKttc3Mg8knPIyeM4z1rcuPFGmaLotjdeItTtLVriJTvL4WRtoJK+1Lv5D7G3RWZf8AiTRtM0uPUb/UreCzlx5czv8AK+emPWuc8U/FTw74d8PWeqRX0N4l/IqWvlNlZAWwWyOw5oDc7aiuEbxm998StE03SNZ0yTTbq1kknti48+Q7SUKDrjg/lXQT+M/DltrH9lT6zaR328RmAyfMGIyB9adtv68hXNuiudu/iB4Tsby6tbzX7KG4s13XEbyYaMZAyR6cituyvrbUrGG8sJ0uLaZQ8csZyrqehBpdLj8ieiivMk8bax4w+JOoeGfCtzHp1lo4/wBNv2iWV3fONqq3GM96N3ZB0uem0V5rZ+N9W8OfFCLwb4suIr6LUYWn0/UFjETcDmN1HH8JOR610v8Awsbwf9jku/8AhIrH7PFN5Dyebwsn90+9HS6/rp+YdbHS0VxfiT4oaD4d8RaNo891G02pNuZsnbFFsJDk+5wB9TV6T4jeD4ZZ45fENij25xMpk5j+vpQB01FY+oeLdA0o2P8AaOrWtv8A2iQLTfJjz84xt9eo/OoV8ceGpIdQki1i1kGmgm7CPkw/7w7UPTcNzeorlfAPj3TfH2ivf6c6qVlkUw5+ZUDsqMfTcFB/GuqptNbgFFFFIAooooAKKKKACiiigAoorG8XTX1t4T1G70q8+x3NrbvOknlLJnapOMNxzilJ8quxpXdjZory74Y+Prq++HQ8VeO9dt44ZJWjy8KRRxYOByOufeu10/xp4b1W+NlputWlzciET+VHJlvLIB3fTBFU1Z2JTublFcynxH8HSNhPEVgSJfJP73o/90+hq/e+K9B03WIdKv8AVbaC/nTzIrd3w7rgnIHfofypDNeiuXvPiN4XtfDN7rserW9zZWRKyvA275x/B9farXgzxVaeMfC1nq9myZmiRpY0OfKcqCUPuM0LW4bG9RRXlXirxB4ps/jDpXhnTteW3sdUt2nybON2hwSMAkcjjvR1S7j6N9j1WivKPAXxSuJ7rxLYeNru1SPQZgraoqiOORWbA3AcA9P1r0LTfE+iavPLDpmqW11JDGssixSAlUYZDH2NG6uvUXWzNWisTT/GXh3VdSOn6drFpcXY3fukkyTtODj1waxPCHii91nxR4jjutV02602zmxarbOC8K9/M9D9aOoHbUVk6T4p0PXZp4dH1S2vJLfmVYnyUGSM/TINQQeNfDV1fzWVtrVnLcwBmkiWTLKF6/lQBu0V5tb/ABd0jXfD/iS40fUbS0m013itZbpsK+FXEhzwF3sR+FdBoviu2t/Aemax4n1axV7iJfMuYnHlSOf7uOv4UdL+n4h1t6/gdTRWBL468LwaKurza5Zpp7SGIXBk+Xf/AHc9jxVjS/Fmg61fy2Wk6ta3d1Egd4opMsqnvj0oA16KKKACiuH+J3xAbwPpllFYW63OqapOLe0jc/KCcAsfYZFZPivU/G3gbwoviW41eDV0s9r31g9qkSlDwdjrzkEg89cUrq13sOzvbqenUVzNj8QvDV5b6Wz6rbwT6pAs9tbyvh3UjPA/Oi5+InheDw7f63Hq9vcWVgSs7wtu2v8A3PqfSnL3b36CXvWt1OmoritE+KvhjUfDWnapqGrWlg16o/dSyY2uRnZz3rds/FugahZ3t1ZatbTQWGTdOj5EOBn5vTim1bcFrsbFFc5H8QfCc0VpJF4gsWS9cx2zCXiVgcED1Oazp/ifocXxHi8Ii5j+0eQ0kshJwkm5QkY9Sck/gKW7sHS52lFFFABRRRQAUUUUAFFFFABRRRQAUUUUAFFFFABRRRQAUE4BJoooA8M0O6K/tPa3rL2Worpt1aJBDctp84R3CICM7OOVPJ44riNYsLqfw/8AESKPRdSe61DUoXsz/Zs2ZUVwWwdnTjNfVVFTb3VHsrfjcrm96/mn9yseB+J72CD4jfDO6ubed4o9Py8f2di64Uj7hG7I9MZqLS/DGt3Xwx+I00en3Ih1eWSTT7OSIpIwAOWCHkZ4969N8S/D1/EPjjSfEqa3NZzaUMQwpArKc5zkn1zXaDgDJyfWm/ei79eb8Xf9CV7rVulvwVj518N/aj4/+HUp0vVFhsNEjs7mV7CVVilAOVJK9vXpXYfC+1vNK+J/jmC/sLuH7bdxywSNAwjdApyQ/wB08kDAOeenWvWqKvm1b9fxdxW0t6fgFFFFSMKKKKAM7xBeRWOgXk04lKeUy4iheViSMDCqCT+VeN/BHwZoepeE4ovEui3x1Sxu3nEGoJcpEufusEbEZPXtn1r3WiiOjbB6xseOa3pcF9+0ZaLqOkXFzpsmmm3Mn2R2hVivALAYH1zxVvxRo83h74reFNaW1uG8NafYNZKltC8/2V+cHYoLYK4GQD05r1iiktErdL/jf/Ng9W/O36f5I+ZvEej6nZ/CPxpqd5DLa2GqarFPZW0qFGCeYPm2nlc+h5roPFekaovjnwnq9zJqsegyaIlm9xpcAme3YrlsqUfAII5C5r0Txv8ADe28b3KPc6ncWsRiEM8MahllTcG7/dOR1FdjbQR2trFbwjbHCgRB6ADAoirL7vuSt+Q5O7+/8Wn+h4TrPh+bwvr3gXVdLtdY1PwzpsjrIssJknj3niQxqoOByfugirPxI0GyXwJoB8GaJeR6bb60lw8UdtJuALbmfyzlwM56gfTpXuNFNafJ3/FP9Bdflb81+p4zrckt3+0R4T1GHT79bWOzkSW4NnJsRnQhAzAYHPr0zziuXGjaxafDLXPBt7p19P4ku9VaSKQWrsku5twm87G0cepyPSvo6ilZWt/W/MHW/p+Ca/U+bbrT7u08eeJjqWn39258KPYRXS6fK6vc+XjCsFPJ5GRXqvwVjlt/hPpFtc289tPBGUkinhaNlIPowFd7RVX/AK+bf6itt/XRL9Arx3R9HvPhn8WNd1K8tLq50HXj5qXdrC0xgkzkq6IC34gYr2KiktHdDeqszyA6JeeP/jbpniiGzuLTQtBhZI57qJonupSDwqMAwUbhyQK851vStUsvDPjfSG0XUmu7vXI7iCOGykdXjDcsGUbSPxr6lopWsrL+rtP80O+t35fgrHifiOC8/wCFjfDPW006+ksYLR0mdLV2MTGMAKy4yvJA5wKwr28gg+KHxGSawubqS50/yolgtTMxZui4UEjPr096+ia4rRfh4+jfELUfFSa3NK+pDbPatAoTHYA9RiiS5nZ7e9+Il7qut1y/geXa34U1/Tfg58P4L+yubm50zUo5rpYo2leCMuWAKrk8LgcDtWp4Niu7vx58QpE02/ij1KFmtHntHjWUYxwWAGfY17lRTl7zlfrf8Ul+gR91JLpb8Hc8z+ASXFn8J7DTb6yurS6tHlWVLmBo8FpWYAbgM8EHI4569a9MooqpS5pcwkrKwUUUVIwooooAKKKKACiiigArB8cXSWvgfV96TOZrSWGNIYXlZnZCANqAnr36VvUVMlzJocXZ3PnDRY7mP9l/VNDk03Ul1PLgWp0+YOSzcY+Tn8Kt+GIXT4peA54tKv4Le18Ox2lw50+VFjnyxKsduM55z719CUjAlCFO0kcHGcVpze9zf1s1+pNvd5f61af6Hy1F/pnhf4h6PaabdXeo3+qKlv5FqZAW3d2AwuOuTjpXb+KNG1XR/FXwyvtRtbq6TS7XyL+5t4XmKuI8HIUE8nviu78EfD1vBWqardRa1NepqkvnSwyQKoV/UEfyrtKiK5YxXkvwVv1Y5auXZ3/F3PnPw7pmp3Pwh+IenrpOoR3dxNNNDDLaujSqckbcj5voOa9g+F8jN8MtBhlt7i3ktrGGCRLiJo2DqgDDa2DwQR07ccc11lFUnZNen4aA9Xfzb+8K8O+IUVtqnx30CS7stVl020tWt7qe1trlRG5YkDfGASOeqnFe40VP2k+w76NdzzT4geFtM0L4K6/p3hbSWj+0wgiK3ieWWZ2YcnqzHnv0qDSvCkd98GGfw9p76drt5o62rNJG0Mm5R91gcYOc89/WvUqKGrqS72/C/wDmCdnF9v8Agf5Hz+mm6lrmmfDvRNH0+9tNT0O8E2oSy2jxLbIhIcbyArbs9FJzUem6ZqWr6p8XNP0RiL6ed1iwcFj6Z96931rTI9a0O90yaR4ku4WhaSM4Zdwxke9YHgvwHbeD7jUboXst9eajIHnnkQJnHQADim/ebv1v97t/kJe6lbpb8L/5nmXg7wx/afhlJre58RQ+KLfRJ9PW3vLZYILcEY2hhEoYFgCCGY85rV+E9lpx0HSbHWvD19B4k0hZYEkmtZFVQc5cPwhB+pNeyUU73bff/Nv9WK1kl/Xb9D588M297pnwm+IOkX2k6it5LqNzJHH9jkbeH2qhXj5skH7ucYyccZNJ03VLTSfhrrFzZXx03R18q/g+yyGSCTPDmLG449QDX0HRQnZp/wCH8Lr9RvXT1/E+ZfFei6xeaD491a00++/s/XNQh/s+0Wzk3zFOHk8vG5QcdWAz+VdL4PjI+Oen3cOm3tvZf2JHbCRrCWNFkC8qSVAFe60Uo+7ZLp/lYJe9fz/zT/QKKKKAPMfjL4L1PxFb6NrWgRfab7RLnz/soIBmTILAE8Z4qr4/8RS+OPAMvhzw1pGpTatqyrC0VzZywJajILs8jqFwAD90nPGK9YopcqcXF7Du1JSW54X4k8JXPhLVvhqEtrm7s9F/dXVzbQNLtIXqVUE4z7VmeF9P1K6+G/xNsV0rUI7m7mmnt4prV0MyHcRtyOT7DmvoeiiXvKSfW/4u4R91q3S34X/zPm7xfIV+CfgOG5s7mN7W5gilhngKMWUAMNrYPXj37V1vhnStQ1f4t+LtdsLO5t9Hn0sWaLPA0P2ibAxhWAyAARnpzXafEDwAPHtvYQyatNp62U4nXyolcs46da6u2jkitYo55vPkVQGk2hd59cDpTfvOUn1b/FJf5iXu2S6Jfg7nyxa2WpWngvwnpsui6r9q03XZZ7pFsJSI0LcHO3BH0zXp0dvd2X7T8mpy2F41leaIsMNwluxQuZAcFsYXhSeSOnuK9eoqlLVP1/FWE1o1/W9woooqRhRRRQAUUUUAFFFFABRRRQAUUUUAFFFFABRRRQAUUUUAFFYWreLrDSNV/s2S21G6uhAs7R2VjJcbEZmVS2wHGSjdfSqv/Cd2f/QF8Rf+CW4/+JoA6eiuY/4Tuz/6AviL/wAEtx/8TR/wndn/ANAXxF/4Jbj/AOJoA6eiuY/4Tuz/AOgL4i/8Etx/8TWroevWfiC0lnsVnQQzGCWO4gaKRHABIKsARww/OgDSooooAKKKKACiiigAooooAKKKKACiiigAooooAKKKKACiiigAooooAKKKKACiiigAooooAKKKKACiiigAooooAKKKKACiiigAooooAKKKKACiiigAooooAKKKKACiiigAooooAKKKKACiiigAooooAKKKKACiiucufHGnQahdWcVlq95JaS+VM9nps0yK+A23cqkZww/OgDo6K5j/AITuz/6AviL/AMEtx/8AE0f8J3Z/9AXxF/4Jbj/4mgDp6K5j/hO7P/oC+Iv/AAS3H/xNH/Cd2f8A0BfEX/gluP8A4mgDp6KqaVqlrrWk22o2DM9tcoJI2ZSpIPqDyKt0AFFFFABRRRQAUUUUAFFFFABRUdzK8NrLLFC08iIWWJCAXIHCgnjJ6c15zbfGa3u/Cup67D4b1Mw6XOYbuEyQiWIjqSu/gUrjsz0qiufsPFD6jNpAt9LnMWp2xufNE0RECgD7wDZP3lHy561FP470e3i1O4eRvsWmN5c11xsMuceWvdiPam9NxLXY6Wio0nRrUXBIWMpvJJ6DGa4Wx+LWm3fjSLw7caRqthJdbvsVzd2/lx3eP7meefUijry9Q6c3Q76iszRNetNdjuPs2+Oe0mMFzbyDDwyAA4I+hBBHBBBFadAHMWv/ACVnVf8AsCWX/o+6rp65i1/5Kzqv/YEsv/R91XT0AFFFFABXMeDf+PzxP/2G5P8A0TFXT1zHg3/j88T/APYbk/8ARMVAHT0UUUAFFFFABRRRQAUUUUAFFFFABRRRQAUUUUAFFFFABRRRQAUUUUAFFFFABRRRQAUUUUAFFFFABRRRQAUUUUAFFFFABRRRQAUUUUAFFFFABRRRQAUUUUAFFFFABRRRQAUUUUAFFFFABRRRQAUUUUAFFFFABXMeDv8AkIeKf+w2/wD6Ihrp65jwd/yEPFP/AGG3/wDRENAHT0UUUAFFFFAHMfDf/knGif8AXsP5munrhvC+vWPhn4PaXquqmVbS3tQZXihaQqMnnCgnHvU7/FTwzHY6VeNJf/Z9XbZZSDTpisrZIAzt4PHQ9uaNw2VzsqKz7fWra51afT0julmt4xI7yWzpHg9MORtJ9gaht/E+kXUImgvFaJrk2kcmDtllGchD0bGCMjPKkdjQBrUVDd3dvYWc13ezJBbwoXklkbCoo5JJrlvD3xT8JeKYL2XRNSa4+wqGnQwOrqv97aRkj3HFAHX0VDaXcF9aR3NnMk0Eq7kkRsqw9QamoAKKKKACvHX8G3cHxZ8RaVHaGTQvEdn9qmZlyiScgjpgkmvYqKVk39/4/wBXHd2PNvhHp+sW3g2dNYR1ubIyafalwQWjjZsPz6lgP+ACvP8AUNHl1L9m+OFrJ7q9tdTLTx7N7oRL85IxnpX0TWfZ6LZ6fqV1e2aNC92d0yKfkdv72PWm9Xd+X3p3/HqJWjqv6/4boY2kx6jb2FhJov8AZlhoEcAb7K1i6yqvJJXa4UZ6gbe9cdB440XxJ8ULMvpOsyT2btb2DNZMkALcNKzn9OK9apGG5SMkZGMjtTb97mElaPKeeeG1lf46eLpYNxtBaWiSkH5TKAxx9QpH5ivRKz9H0Sz0O2khsUbM0jTTSudzyuerMe5rQpLRJDe7f9djmLX/AJKzqv8A2BLL/wBH3VdPXMWv/JWdV/7All/6Puq6egAooooAK848OavdaP4419L9gdJ1DWXhikxjyJxFFgE+j5wPcAd69Hri9E0q11u18X6ffKWhn1mVSQcMp8mHDA9iDgg+ooA7Siud8K6pcuJ9F1ls6pp2Fd8YE8f8Eo9iOvocjtXRUAFFFFABRRRQAUUUUAFFFFABRRRQAUUUUAFFFFABRRRQAUUUUAFFFFABRRRQAUUUUAFFFFABRRRQAUUUUAFFFFABRRRQAUUUUAFFFFABRRRQAUUUUAFFFFABRRRQAUUUUAFFFFABRRRQAUUUUAFNkcRRs752qCTgZp1FAHnviTxX4in0l5tGtDpMEjCK3muUDXFw54ASPovrk547VB8EP7QHhXWV1m7e9v11qdZ55GyXYJGOv6fhW5pJ/wCEq8Sya2/zaZp7NBp47SuOHm9xkYB9BnvVT4YadLpVt4ltJ3V3XX7hiy9PmSNh+jUAdxRRRQAUUUUAcl4DtY734V6XazKGjmsyjA9wcivG7TRNSPw28UeEmjk83wbqRvbKU5ClciRB7/KXJH+0K9q+G/8AyTjRP+vYfzNdF9lg/e/uI/33+t+QfvOMfN68cc0rO7a7fje6fyHfa/f/AID+8811HU9Qm+B2r+IY0kgv76xaYD+JF24A/DmuY8X2FpBJ8KFNxcW2n+WFcwTvCq4hUgjaRhiSeRyele4yWsE1m1rJEhgZChj2/Lt9MVlaP4ZtNK0qLTZNt7aWr5tFuYw7QL2UE9cc4PGBgds1d1z83mn91/8AMm3u28mvvIH1K4RZ/wC39Ls7bRYU3i8mvfM3AcgshQY/M1xngfW/B/ij4larr2k6jBd6lfQLCttFGd0cMYxuckclv5YHavUJ7eG6gaG6hjmiYYaORQyn6g1nyaBZRWs6aRb2um3EqFBcQWyhlB+mKjZ3H0scl8I5pjpmuWxJNrbatNHbAjhV6kD2ya9BrP0PRbTw/pMWn2CkRx5JZjlnY8lie5JrQquiXZL8g6t+oUUUUgCiiigAooooAKKKKACiiigDmLX/AJKzqv8A2BLL/wBH3VdPXNap4c1aXxRJrWh61BYPNZxWksc9j54IjeRwQfMXH+tPr0pv9k+M/wDoatO/8Ep/+P0AdPRXMf2T4z/6GrTv/BKf/j9H9k+M/wDoatO/8Ep/+P0AdPXMeDf+PzxP/wBhuT/0TFR/ZPjP/oatO/8ABKf/AI/V3wzoVxodvffbr9L65vrxruWVIPJXJVVwF3N2Qd6AK3inTLjdBrmkrnUdPyQg/wCW8X8UZ/mPetjStTt9Y0uC/s2zFMuQD1U9wfcHirdcgx/4Q7xQGOV0XWZgp/u2t0eh9lfp/vbf71AHX0UUUAFFFFABRRRQAUUUUAFFFFABRRRQAUUUUAFFFFABRRRQAUUUUAFFFFABRRRQAUUUUAFFFFABRRRQAUUUUAFFFFABRRRQAUUUUAFFFFABRRRQAUUUUAFFFFABRRRQAUUUUAFFFFABRRRQAVy/i28uL2WDwzpUrR3eog/aJkODb2w++4PZiDtX3YHtW7qupW+j6VcX9422KBNx9SewHuTgVk+FNMuI4p9Z1VcalqREjqf+WMf8EY+gOT7mgDasrKDTrGGzs4liggQRxoowFUDAFc/4O/5CHin/ALDb/wDoiGunrlB4Z1+y1TU7jRfEVrawahdG6aGfTDMUYoqEbvNXIwg7UAdXRXMf2T4z/wChq07/AMEp/wDj9H9k+M/+hq07/wAEp/8Aj9AHT0VzH9k+M/8AoatO/wDBKf8A4/R/ZPjP/oatO/8ABKf/AI/QAfDf/knGif8AXsP5munrM8N6N/wj3hux0nz/ALT9kiEZm2bN/vjJx+dadABRRRQAUUUUAFFFFABRRRQAUUUUAFFFFABRRRQAUUUUAV7nULKzcLd3cEDMMgSyqpI/E1D/AG5pP/QTs/8AwIT/ABrm5dJ07VvitqK6pYWt6sWiWZjFzCsgQme5zjcDjOB+VbX/AAh/hr/oXdJ/8AY//iaALX9uaT/0E7P/AMCE/wAaP7c0n/oJ2f8A4EJ/jVX/AIQ/w1/0Luk/+AMf/wATR/wh/hr/AKF3Sf8AwBj/APiaALX9uaT/ANBOz/8AAhP8atQXMF1F5lrNHNHnG6Ngw/MVl/8ACH+Gv+hd0n/wBj/+JrM8C20Fm/iS3tIY4II9alCRRIFVB5UXAA4FAHV1V1PTbbV9LuLC+j8yC4Qo4+vcehHUGrVFAHN+FtSuUkn0DWZN+o2AAEpGPtMX8Mg/r710lc94q0q4njh1bSABqmnkvED0mT+KM+xH61qaPqtvrekwX9mT5cq8qfvIw4ZT6EEEH6UAXaKKKACiiigAooooAKKKKACiiigAooooAKKKKACiiigAooooAKKKKACiiigAooooAKKKKACiiigAooooAKKKKACiiigAooooAKKKKACiiigAooooAKKKKACiiigAooooAKKKKACiisLxVrFxp1jFaaUFfVdQfyLNG5Csesjf7KjLH2FAGdcH/hK/F32Vfm0nRpA0x/hnuccL7hAefc+1ddWfoejwaDo8Gn2xZxGPnlf70rnlnY+pOSfrWhQAVgX3jrw1pt/NZXurRR3EDbZI9rEocZwcD0IrfrmPB3/IQ8U/9ht//RENAB/wsbwn/wBBmL/v2/8A8TR/wsbwn/0GYv8Av2//AMTXT0UAcx/wsbwn/wBBmL/v2/8A8TR/wsbwn/0GYv8Av2//AMTXT0UAQWN9balYw3thMs9tOoeOVDwwPcVPXMfDf/knGif9ew/ma6egAooooAKKKKACiiigAooooAK5NviPow8V3fhwQai2pWkZleJbRiGUd1PfPausryf4q2Vzonjfwv4y0uF5ZIp/sNzHGPmdH6fr/Kl9pLvp/l+I+jf9f1Y6zS/iLpGs+H7nWNOttSmt7a4Fs6C0bzPMyBgL1OCQK27nXbG0vrSyldvtV5zHAFy+O7EdgO5ry/wfpF9o3xZ1zwyYidMmeLWy+cqGIZSv1MmGH+5WjbxyX/xV8ax3nmFo9MjS325BVCuTtI5HPpQ3on5X+5a/jcXVr+tdvwPRtP1K01W2a4sJlmiWRo969NynDD8CCKx9d8caV4c1vT9L1RLtJdRlENvKsBaNnPbd61578FXvbT4W2/8Awjdnb3+pG4kF9Hf6hNCsZ3vjHySAN6qAOoJ6in/GDVbSLWfA6ajdWVtdw6tHLcRC5B8pcdSTg7fcgVbVpxj5r8Q6S8r/AIHqces2UmtS6V5my9jQSeU4wXQ/xL6jPGfUVerzrx9cEeNPAd3pkgeSa9lQPFgiSFo8nkdV4U+nSvRalbfh/X3g9/6/rocxa/8AJWdV/wCwJZf+j7qunrmLX/krOq/9gSy/9H3VdPQAUUUUAFcx4N/4/PE//Ybk/wDRMVdPXMeDf+PzxP8A9huT/wBExUAdPRRRQAVyNxnwf4m+1oNui6tKEuAOltcnhZPZX+6ffb6111V9QsLbVNOnsb6MS29whSRD3B/kfegCwDkZFFcz4Xv7i1uJvDmryF7yyGYJm/5eoP4X+o6H3rpqACiiigAooooAKKKKACiiigAooooAKKKKACiiigAooooAKKKKACiiigAooooAKKKKACiiigAooooAKKKKACiiigAooooAKKKKACiiigAooooAKKKKACiiigAooooAKKKKAI5547a3knncJHGpZ2PQAdTXNeGYJdY1KfxPfIV85TFYRt/yygz976sRn6AU3xC7eIdci8M2zEW8YW41ORT0TPyRZ9WIyfYD+9XUoixRrHGoVFAVVA4AHagB1FFFABXMeDv+Qh4p/wCw2/8A6Ihrp65jwd/yEPFP/Ybf/wBEQ0AdPRRRQAUUUUAcX4O1jT9B+E+kX+sXcdnaR2w3zSnCrknrWg3xE8JJDZyvr9mI77/j2YvxNzt+X15BFUfBmnQat8ItOsLuNZIbiyMbqwyCDmvG7a31KX4W6v4cYSNqfgPVDcwvz80YYMnzY6FTIcDsBST1d/X5Xs/uHbRW9PnbQ+iLfWtOutUm063u45LyFBJJCPvKp6E06LVrCbf5V3E/lzeQxDdJMZ2/XFcDf+Irxvg5rHi2zDxXN3ZmWAsCCihcKcdj1rlfEtm9jJ8K7Cx1O4sLOcGSXyGUAuIg5lJZTliXbJPqe9VZ83K+6X33/wAib3V12b+5HuM00dvA807BI41LMx7Ad6ydM8XaBrNjcXul6rbXVtav5c8kbZEbccH06inWGsXF1qDWb6LqUMKL8t9OYDFL7jZIW5/3RXAfB+CKTV/iDA6Bom8Q3KshGQQcZFJatryv+K/zK6X87fn/AJHqkciSxq8bB0YZDKcginVwHwlvZ5dJ1iwkbdBp2py29seflj6hfwzXf0aWTXXX7xdWu36BRRRQAU10SQAOqsAcjIzg06igBoRBIXCrvIwWxyR9ay7vw/bXGv22sxO8F7Cvls6dJY+6MO/9K1qKAGRQxQKRDGkYY5IRQMn1qOWytbh989tDK3954wT+tT0UAZC+HLZvEw1q4dppoYfItYyAEt0ON20epIGT7Adq16KKOlgOYtf+Ss6r/wBgSy/9H3VdPXMWv/JWdV/7All/6Puq6egAooooAK4Dw54msNK8R+JLHU/MtRNrT+VcyIRE7GKL5d3QN7V39cn4WtoLx/FdveQxzwSa1KrxSoGVh5MXBB4NAHVqyuoZCGU8gg5zS1yj+G9T0B/O8IXg+z9W0q9YvCf+ub/ejP8A30vtVzS/F1neXQsNRik0rUicfZbvA3n/AGH+6/4c+woA36KKKAMHxTo895BDqOlYXVdPYyW7dN4/ijPsRxV7Q9Xg13R4b+2BUOCHjb70bg4ZD7ggitCuRv1PhHxN/asWf7H1R1jvox0t5+iTD0DcK3uEPrQB11FAIYAg5B6EUUAFFFFABRRRQAUUUUAFFFFABRRRQAUUUUAFFFFABRRRQAUUUUAFFFFABRRRQAUUUUAFFFFABRRRQAUUUUAFFFFABRRRQAUUUUAFFFFABRRRQAUUUUAFFFFABWZ4h1lNC0eS7KGWYkRwQr96WRjhVHuSRWn0rk9N/wCKo8TtrD/Npmms0ViO0svR5fw6D6k9qANLwvosmjaWTeuJtRu3NxezD+OVuoH+yOFHsBW1RRQAVV1E34sJDpItzd8eWLksEPPOcc9M1R1fxRpujyCCWR7i8b7lnbL5krenyjoPc4HvWWbPxJ4lP/EwuDoGnH/l2tGDXUg/2pCMJ9FBPo1AGF4i+IWu+GUf7XY6beTqpY21nKzSAepHYVofCzUbrVtM1zUNQszZXFzqzSPbk58vMEOB+WKsS+EoDqlrpdhp62ujRYubuXO5ryQH5UZiSzY6kt14q14O4v8AxTj/AKDb/wDoiGgDp6KKKACiiigDmPhv/wAk40T/AK9h/M1tDRdNBviLKHOo/wDH2dn+v+Xb83r8oxWL8N/+ScaJ/wBew/ma6egCnNpNjNoz6U1tGLJ4jCYQPl2YxjFYuneC7NdFstM16KDVotLkBsJZ0y8agDbn3HTI6gCumoo63DyIp7aG5tXtp41eGRSjIehB4xWBa+CNG0JLmfwrpdlpuoTIVE6xkcnqTjrXSUUgMjwz4et/DWjLY2zGRi7SzTMPmlkY5ZjWvRRVN3AKKKKQBRRRQAUUUUAFFFFABRRRQByOox63pvj251bTdDfVLa50y3tsx3MURR45ZmOQ5GeJF6VP/wAJD4l/6Eq6/wDBhb//ABVdPRQBzH/CQ+Jf+hKuv/Bhb/8AxVH/AAkPiX/oSrr/AMGFv/8AFV09FAHMf8JD4l/6Eq6/8GFv/wDFVJ4NstRtodXuNWsjYy3+pPcpAZVkKoUjUZKkjOVNdHRQAVS1TR7DWbQ2+p2sdxGem4cr7g9RV2igDk/sPiDwzzpcra1py/8ALpO+J4x6I5+99DWto3iXTtc3x2spjuouJrWZdksR91PNa1ZOteGtM17Y97CVuof9TdwMY5of9115A9uh7g0Aa1QXtnBqFjNaXcYkgnQo6HuDXM/bPEXhcY1ONte01f8Al6gQLcxj/bQYV/quPoa6DS9Z0/WrX7Rpl0k6A4YKcMh9GU8qfY0AYnhi8n069l8M6pIXuLVd9pM3W4g7H6joa0PEWvNoUFl5FhLf3F9dC1hgjkVCzFHf7zEADCGq3ijT11NYjpl1DDrlgftFrlhu91ZepVhwfrXEeIPEL614++Gs1q8kUE97di6tGb/VTRwkbWHqCzDPoc96AOx/4SHxL/0JV1/4MLf/AOKo/wCEh8S/9CVdf+DC3/8Aiq6eigDmP+Eh8S/9CVdf+DC3/wDiqP8AhIfEv/QlXX/gwt//AIqunooA57SvE15eeIBpGqaHPpdw9q91GZLiOUOquqn7hODlx1roa5if/krNh/2BLn/0fBXT0AFFFFAHI2fjDV9Tga50rwldXNr5skaTfbYE37HKE4ZsjlT1qf8A4SHxL/0JV1/4MLf/AOKo+Hf/ACJNv/19Xf8A6Uy109AHMf8ACQ+Jf+hKuv8AwYW//wAVR/wkPiX/AKEq6/8ABhb/APxVdPRQByN94u13TdPuL688G3aW9tE00rC/tztRQSTgNzwK6m2nW6tIbhAQsqK4B7AjNZPjT/kQfEH/AGDLn/0U1X9I/wCQHY/9e8f/AKCKALlFFFABRRRQAUUUUAFFFFABRRRQAUUUUAFFFFABRRRQBysXxB025j8200zXLmEkhZoNKmdHwcZDBcEZFP8A+E6tf+gJ4i/8E0//AMTR8Of+Se6V/uP/AOjGrp6AOY/4Tq1/6AniL/wTT/8AxNH/AAnVr/0BPEX/AIJp/wD4munooA5O5+Imm2VpLdXul69b28CGSWaXSJ1SNQMliSvAA5zXVghlBHQjIrmviT/ySvxV/wBge7/9EtXRw/6lP90fyoAfRRRQBjeI/ED6ENPjt9Pl1C61G6+ywQRSKmWETyElmIAG2Nqo/wDCQ+Jf+hKuv/Bhb/8AxVN8W/8AIyeC/wDsNP8A+kN1XU0Acx/wkPiX/oSrr/wYW/8A8VR/wkPiX/oSrr/wYW//AMVXT0UAcx/wkPiX/oSrr/wYW/8A8VU2keJbu9159I1TRJ9LuRbG5TzJ45Q6Bgp5QnBye9dDXHarqNvpPxGa+vX2QwaDI7H6TrQBd8V3s9w1v4e0xyt5qIPmSL1ggH33/HO0fX2rcsLGDTbCGztECQwoEVR6VyWl39rocM+veJ5vL1bViHW1UF5Yoh/q4VUc8A5PbczGrRk8TeJARAD4d09v+WrBZLuQewOUj/EN+FAGtrPiXTdDCLeT7riTiK2iG+WQ+iqOTWT5XiXxH/rmbw/p7fwoQ11IPc9E/nWto3hrS9C3vY2+bmX/AF13M5lmlP8AtSNlj9M4HYCtWgDN0jw9pmiRkafbKjscvK3zO59Sx5NaVFFABXIQ6T4r0nVdXk0f+xpbXUL03a/anlV1JjRMHapH8H6119FAHMb/AB3/AM8fDv8A39n/APiaN/jv/nj4d/7+z/8AxNdPRQBzG/x3/wA8fDv/AH9n/wDiaN/jv/nj4d/7+z//ABNdPRQBkeE9Im0Dwnp2l3Ukcs1rCEd487SfbPOK16KKACiiigAooooAKKKKACiiigAooooAKKKKACiiigAooooAKKKKACiiigAooooAKKKKACiiigArA1XwjZ3t19v0+STS9SA4urbgt7MvRhW/RQB5x4gt/Mtmt/Hunts2lI9d07cBH7vjlPqfl964LRNH1I/Ezw7qV1rVvfpa6obeVFXDSl7eQx3AI4YOiAFvVcdq7rxppDNqkiQ+LfEbXt0SYNL064SMKPqFyq+5Ned+EPh3L4b+Jmm6nJqNxcGLV0tZUMhaMzNbzyMM/wARUFPm9WfgUAfR1FFFABRRRQBzE/8AyVmw/wCwJc/+j4K6euJ16wvNQ+KGmx2Gr3OlOujXLNLbRROzDzoflIkRhjvwM8Vf/wCEZ17/AKHrV/8AwEsv/jFAG/qF1JZ2EtxDay3bxjIhixuf6Z71T0XxHpuvwu2nz5kjO2WCRSksTejIeVP1rHudC1eztnuLv4gapDDGNzySWtiFUe58iuIu/DOt+L9Ztr3QfEmqr9mcf8Tie1toSyj+FAkSu6+xIHsaAO8+Hf8AyJNv/wBfV3/6Uy109cp8NEeLwBZxzSmaRZ7pWkYAFyLiTJwOOfauroAKKKKAMTxp/wAiD4g/7Blz/wCimq/pH/IDsf8Ar3j/APQRVDxp/wAiD4g/7Blz/wCimq/pH/IDsf8Ar3j/APQRQByHxD8dar4J1LRjFptrPpWoXK2s11LMytA7HjIAOQR0+hqPTfHuqz/ELUvDGo2mmwG0s/tcM0c7t5qnp/Dx71qfEvwv/wAJf8P9S0uJC1yY/NtsHBEq8rj37fjXFXfgTxFeXngzUpRtv0RrXWCvRYXXDd/bA96UdXZ9/wA1p9z/AAHK1rr+rf5r8TtLjxdd6doGkyahZwvrGrMEtrO2dipJGcksAQAuCeOKrQfEey1DWtT0bR2trzVNNiVnt1mAMzYy6J6kAHrxnGapeObZ7b4j+C9XlAWwt5ZreRz92N3UbM/XBFVfC2l6j4b+I/jK/wBSsTDpd+63Md6XAjCKpz75z29Oc073u9t/w2/zFr+X4vX/ACO70DXLPxJoVrqumuWguU3AMMMh7qR2IOQR6itGuB+DVjc2fw/SS5jaJby7nuoUbORHJIzL19QQfxrvqb+7+tvkJBRRRSGFFFFABUdwZhbSm1VGmCHyxISFLY4yR2zUlFAHkVr8W/ENx4X8R6g+iabFfeH5yl1ZPdPkqByQdvNdnonibUdbi0C4t4bE2+o2ZurkiR90Q4wF+Xnlsc46Gudl8CX0XxivtRtIwuiaxY/6d6eavQDnqepq18K/CeqeG/C97ZawWEsc0trZBjytsruYz+Jdj9MelCfu3e9vyun97s/Qclrp3/PX8NUT6j8UtN03StU1i4VU0qxkNvDMz4a6mBwVQeg9a1LPxpa3Gs6faP5TWurQmXT7yGQPHMVxvjz/AHgefcfQ15b/AMI3qerfAa/8OWFr5+sWOpEy2wOH4l3cZ9R0rrPFCXWseJPAVpHbNBewTveTws2WghCbctjgZJAx65HOKaX5r7mt/wBfkS9r+v4bL9PmdN8Of+Se6V/uP/6MaunrmPhz/wAk90r/AHH/APRjV09IYUUUUAcz8Sf+SV+Kv+wPd/8Aolq6OH/Up/uj+Vc58Sf+SV+Kv+wPd/8AolqT/hHNck+ePxtq0StyI1tLMhR6DMJP50AdPWJqnimz0TUkt9WjmtbeTAjvXX9yWP8ACW/hP1xmqf8AwjOvf9D1q/8A4CWX/wAYrE1+K701fsVz421m+uZ1wthDYWMjyA+o8jAHuaANjxU6yeIfBLxsGVtZcgg5B/0G6rqq8Y0PwfrvhnxR4Xn1XWJ5LK51pzBpbiMrbH7FcnIKKoH+6oA5PXrXs9ABRRRQAV5r4y8N3viX4p6Xb2moixhh0xpp/k3lwJl2gDp1wea9KrzHxzr+q+G/ifpl/ptpHd2w0xkvEdtpCGZQCD25xyaAO20jwvpujyNPFG1xePzJd3Db5XPrk9PwrYrM0TX7HXrZpLJ2WSM7ZreUbZIW/usvb+R7Vp0AFFFFABRRRQAUUUUAFFFFABRRRQAUUUUAFFFFABRRRQAUUUUAFFFFABRRRQAUUUUAFFFFABRRRQAUUUUAFFFFABRRRQAUUUUAFFFUtW1ix0Sxa61GcRRjhR1Zz2VR1J9qALpIVSScAckmuUuPEN74huJLDweFMKMUuNWcZhiI6rH/AM9H+nA7nPFRiw1Txi3ma0smm6Mfu6erYluB/wBNWHQf7I/HNdXb28NpbR29rEkMMShUjjXCqB0AA6UAc8lvoXgjTZLm+vVimm4kvLpwZZ3Pp6n0UV5vB4sjPjzwl4Ts9LvEiXU3vZr+8Ty3lkaKZj8nUZ35w2CBt4wRXpPid7DSmTU49Pgudblxb2RKAuzHoAeoHc1wmt6FJofxD+G8R3TzS395Pf3WD+9neEck/gQB2CgdqAPX6KKKACiiigDmJ/8AkrNh/wBgS5/9HwV09cxP/wAlZsP+wJc/+j4K6egCOe3huoGhuYkmib7yOuQfqDT1UIoVAFUDAAHApaKAOY+Hf/Ik2/8A19Xf/pTLXT1zHw7/AORJt/8Ar6u//SmWunoAKKKKAMTxp/yIPiD/ALBlz/6Kar+kf8gOx/694/8A0EVQ8af8iD4g/wCwZc/+imq/pH/IDsf+veP/ANBFAFyiiigCG7s7e+tmt7yFJon+8jjINR3Wm2l7YfYrqBZbbABjYnBA6A+vSrVFACKqogVFCqowABgAUtFFABRRRQAUUUUAFFFFABRRRQBXSwtY757yOBEuJF2vIowWHv60kWnWkN/NexwILqcASS9WYAYAz2HtVmigDmPhz/yT3Sv9x/8A0Y1dPXMfDn/knulf7j/+jGrp6ACiiigDmfiT/wAkr8Vf9ge7/wDRLV0cP+pT/dH8q5z4k/8AJK/FX/YHu/8A0S1dHD/qU/3R/KgB9RC1gW6a5WGMTsNrSbRuI9M1LRQBy3i3/kZPBf8A2Gn/APSG6rqa5bxb/wAjJ4L/AOw0/wD6Q3VdTQAUUUUAFcjqNlBqPxKazu0DwzaDIjqe4M6111cw3/JWYv8AsCP/AOj1oAxtN0aS9lns/tTWPiXRsRLeqM/aoDzE7j+MEDB9GVsdK3dI8Tu2oLo/iKAafqpH7tSf3d0B/FE3f6dR6UzxVBJp9za+JbJCZbEGO6RRzLbE/MPqp+YenzetamoabpnifR1jvIluLaUCSNwcFT1DKw5UjsRyKANKiuQTU9T8ISLb+IJJNQ0knbFqe3MkXoJgOv8Avj8fWushmiuIUmgkWSNxlXU5BFAD6KKKACiiigAooooAKKKKACiiigAooooAKKKKACiiigAooooAKKKKACiiigAooooAKKKKAOe1XxTPZa+2kadoN9q1zHapdSm2lgRY0dnVcmWRckmNumah/wCEn17/AKETWP8AwLsv/j9Fr/yVnVf+wJZf+j7qunoA5j/hJ9e/6ETWP/Auy/8Aj9H/AAk+vf8AQiax/wCBdl/8frp6KAOY/wCEn17/AKETWP8AwLsv/j9aPh7Xhr9rdO1jcWE1pctbT29wyMyOFVuqMykYYdDWtXMeDf8Aj88T/wDYbk/9ExUAdPRTJpo7eFpZ3WONBlmY4AFcq+ran4rka38Ns1jpgJWXVGX5pPUQg/8AoR/D1oAvaz4nW0vhpWkQHUtXcZFvGflhB/ilbog+vJ7A0zSfC5S+Gq+Ibgajqn8DYxFbj+7Gvb/ePJ9ulaOjaHYaDZ/Z9Oh2BjukkY7nlY9WZjySfU1o0AFMlljgheaZ1jjjUs7scBQOSSafXJ69I3ibW18NWpP2OELNqsq/3f4Ic+rEZP8AsjH8VAB4djk8Q6s/ie9Rlt8GPTIXH3Y+8hHq38q19f8AD8HiG3tY5rq6tJLS4FzDPaOFdHCsvUgjo7dq0440iiWONQqIAqqOgFOoA5j/AIQ24/6G7xF/4EQ//GqP+ENuP+hu8Rf+BEP/AMarp6KAOY/4Q24/6G7xF/4EQ/8Axqj/AIQ24/6G7xF/4EQ//Gq6eigDA0nwnFpmtf2rNqup6ldC3a2Q3sqMERmVjgKq90Fb9FFABRRRQBykHgNbNGisPEmvWkBkeRYYp4tiF2LHGYycZY96k/4Q24/6G7xF/wCBEP8A8arp6KAOY/4Q24/6G7xF/wCBEP8A8ao/4Q24/wChu8Rf+BEP/wAarp6KAOTuvAZvrOa0u/FXiGWCeNo5Y2uIsMrDBH+r7g11FvCttbRQR52RIEXPXAGKkooAKKKKACiiigAooooAKKKKACiiigAooooAKKKKACiiigDjdM8K+JtF06PT9N8U2a2sO4RLLpO9gCxOCfNGevpVv+yPGX/Q16f/AOCY/wDx6unooA5j+yPGX/Q16f8A+CY//HqP7I8Zf9DXp/8A4Jj/APHq6eigDjNY8KeKdc0O+0m+8V2f2a+t3t5vL0fDbHUqcHzuDg12SLtRV64GKWigAooooAyPEHh2DxDHZebd3dnLY3H2mCe0dVdH8t4z1BGNsjDp3rP/AOENuP8AobvEX/gRD/8AGq6eigDmP+ENuP8AobvEX/gRD/8AGqP+ENuP+hu8Rf8AgRD/APGq6eigDmP+ENuP+hu8Rf8AgRD/APGqs6R4Ui0rWH1SXVNS1G6a3+zhr2VGCJuDYAVV7it6igBHRZEZHUMrDDAjgiuY8OO2iaxc+Grhj5Sg3Gnsx+9ETyn1Un8j7V1FYPivS7i8sYr7TAP7T05/tFtn+Mj7yH2YZU/WgDckjSWNo5VV0YYZWGQRXJzaLqXhaZrzwqhu7EndPpLPj6mFjwD/ALJ4PqK6HSNUt9a0i21CzJMVwgYA9VPdT6EHII9RV2gDO0TXrDX7I3GnSk7G2SxOpSSFx1V0PKkehrRrn9a8MC7vf7W0af8As/WEXAuEHyzAfwSL/EP1Hak0bxP595/ZWuwDT9WUf6on5Jx/ejbuPbqKAOhrl38X3kupX9rpPhfU9SSxuPs8s8M9silwqsQBJKrdHHOK6Ka8t7eaGKeVUknYrErH759BXPeDv+Qh4p/7Db/+iIaAD/hJ9e/6ETWP/Auy/wDj9H/CT69/0Imsf+Bdl/8AH66eigDmP+En17/oRNY/8C7L/wCP0f8ACT69/wBCJrH/AIF2X/x+unooAz9C1iHX9Bs9Vto5IorqMSKkuNy+xwSM/jWhXMfDf/knGif9ew/ma6egAooooAKKKKACiiigAqpqk93baVcz6bbx3V1HGWihkkMayEdt2Dj8qt0UnsNbnkH/AAujVm+HF14rXw9YgWF6bS9tH1Fw8B3KoP8AqueW7duma9BtNcvrnU4E+z2X2FrMXM063LlkJ7BTGAR7kg+1cFa/Dm9Xxr4y04w7PDmt2nnox6C4ZWQgfTcWPvitbwN4f1uz+E8tprSumrS2rQhW4ZVVdqA++AKL+45W6J/g0196uFveS87fqn92hbuvippNjosms3uy306S7W0sJJZQrXbb9ruFPSNeu4nop4HGesk1mwhs7W6e5QwXbpHDJH86uz/dwVz19eleLXeh32sfBHwfDplhJeXWjatC17bxLukQRu4kGO55BxXfeIfBEmvw2F1Fdaray/aoZpbZdSkRIlB+baoOAR2xV2s2vO3ystfmStbPyv8APXT5F/4i+LL/AME+Ep9esdOg1CK1IM8ctw0TBSQoK4Rs8nviprvxemm2OlX+oWpjsNQ2K9wr5Fu7/d3Zx8vON36VznxT0i7X4TX/AIe0a01bV7q8ULESWuHBEisd7scgYBxVLxvJLffBODT/ALHc299ceTaw21xGUkaTIHAqFs3vqirbfP8AS36nqlFQ2cbw2MEcpy6RqrH1IHNTVT0diU7q5zFr/wAlZ1X/ALAll/6Puq6euYtf+Ss6r/2BLL/0fdV09IYUUUUAFcNpGv2GgP4llvpGMkmuSrBbxKXlnbyYvlRByT+g6nArua4vwbpFj/wkninVDbo16dXeITMMlVEUXA9OtAE8Oh6l4mmS88WD7NaA7odIjfIHoZmH3j/sjgeprq0RIo1SNVRFGFVRgAegFOooAKKKZNNHbW8k87rHFGpZ3Y4CgckmgDJ8T62dF0wfZo/Pv7pxDZwDrJIen4DqT2p/hzRBoWkiCSTz7uVjNd3GOZpW+8307AdgAKy/DsMmv6s/ie9RliKmPTYnH3Iu8mPVv5V1VABRRRQAUUUUAFFFFABRRRQAUUUUAFFFFABRRRQAUUUUAFFFFABRRRQAUUUUAFFFFABRRRQAUUUUAFFFFABRRRQAUUUUAFFFFABRRRQAUUUUAFFFFABRRRQAUUUUAFFFFAHKWo/4RjxjJZH5dM1p2mt/SK56yJ/wL74999dXWX4i0ca3ostqG8uZSJIJB1jkXlT+f6E0zw1rB1nR1knXy7uBjDdRnqki9fz6/jQBr1k+I9O0fUNJf+3mihgjIZbl5BEYG7Mr/wAJzWtTJoY7iJop0WSNuCrDINAHlniTVbzTdD2X97FqcFnItxYazbsGMbKfuzqvTIyNw+U98dK6L4a6pBrdpr2pWjBobrVjIpBzjNvBx+B4rTvPAPhTUAReaBYS57tCM1m/DnSrLQ4vEenaXAtvaW+tSLFEg4UeTCcD8TQB2dFFFABRRRQB5L8PfiTbxWWl+E/7C1VtQjsDNG37lY7hBk5QmQE5+g98V0ui/Eu317QNQ1Sx0HVAdPu/sctrI1uspkyAQAZcDBI6kZ7ZrzvUtIvrXwt8P/FuiW7z3lg6QSxoOZInYjH5mt3w34d1DRPjLrGlRxf8Sa9jg1d2AwomwyMv1Zhu/wCAiiGu/n+Fn/6T+IS01Xl/l+f4Hot14jtLTUrHTXjle/vBvFsgBaJB953OcBR6557Zqxo+t2OvWcl3pkvnQJNJD5g6MyMVbHqMg81wVrbPc/GPxXBfoXWbSY1gVujJ3A/GsT4KaJP/AMK3W20y4l0PVIrmVb6VbNGaQiRtqtvB5Ax+BFC1i35X/G34A9Pvt+Fz2D7ZHJYtdWWLxQpKCB1PmEdgSQM9uTXMeGviHZ+J9P1e5tNL1GCTR7lra5tpljMm9cbtu12Bx9eccZqv4F0rVvD3hqObX9YmMEMche1mto0EXzE7sqN3TmuY+DOpWcniLxrGsvzXmtz3UAZCPMiOMOMjpTt7zS7fqhuyV/O35nqWmanaazpsN/p0wmt5hlHAI+oIPIPtVuvPfhEJv7O14nd9lOrzG3z028Zx7Zr0Kluk+6T+8XVrtf8AAKKKKACiiigCrbabZ2d1cXFrAsMlyQ0xTgOR3I6Z9+p49BVqiigAqrPplnc6hBe3ECyXFuCInbJ2Z7gdM+/WrVFABRRRQBzFr/yVnVf+wJZf+j7qunrmLX/krOq/9gSy/wDR91XT0AFFFFABXMeDf+PzxP8A9huT/wBExV09cx4N/wCPzxP/ANhuT/0TFQB09FFFABXJa67+J9eTw1akiwt9s+rSjoy9Utx7seW9FXH8QrU8Ta2dH09VtU86/un8m0hHV3Pf6Dqak8O6Kuh6SsDP51zIxluZz1llb7zf0HsBQBpoixxqkahVUYAHYU6iigAooooAKKKKACiiigAooooAKKKKACiiigAooooAKKKKACiiigAooooAKKKKACiiigAooooAKKKKACiiigAooooAKKKKACiiigAooooAKKKKACiiigAooooAKKKKACiiigArlNU/4prxZBrC/Lp2pMtrfekchOIpfpk7T/vZPSurqrqWnW2raZcWF9GJLe4jMcinuCMUAWqK53wjqFy1vPo2rSGTUtKfyZZG6zpjKS/8CXBPvkV0VABXMeDv+Qh4p/7Db/8AoiGunrmPB3/IQ8U/9ht//RENAHT0UUUAFFFFAHMfDf8A5Jxon/XsP5munrmPhv8A8k40T/r2H8zXT0AZ17odne6paak4eO8tD+7mjbBKnqh7FT6flitGiigAqvfWgv7Ga1aWWFZV2s8RAYDvgkHFWKKGr6BsVdN0200jTobHT4RDbwrtRB/nk1aooovcAooooAKKKKACiiigAooooAKKKKAOf1XwmdQ15tXtNc1TSrl7ZLWT7EYCsiIzsuRJE/IMjdMVB/wiOpf9Dx4i/wC+bP8A+R6tat4tstJ1b+zXtdRu7oQLcMllZvPsRmZVJ2g4yUb8qq/8Jzbf9APxF/4KJv8ACgA/4RHUv+h48Rf982f/AMj0f8IjqX/Q8eIv++bP/wCR6P8AhObb/oB+Iv8AwUTf4Uf8Jzbf9APxF/4KJv8ACgA/4RHUv+h48Rf982f/AMj1o+H9Aj8P2tzGl7d30l1ctczXF2U3u5VV/gVVAwo6Cs7/AITm2/6AfiL/AMFE3+Fauh69aeILSaeyS4j8iYwSx3MLRSI4AJBVuRww/OgDSpk00dtbyT3DrHFGpd3Y4CqBkkmn1yWtO3ijXx4ctif7Ptts2qSDowzlIP8AgRGT7DHegB3hyCXXdWk8UX6MsbqY9NhcYMUP98jszdfYcV1dIiLGgRAFVRgAdhS0AFFFFABRRRQAUUUUAFFFFABRRRQAUUUUAFFFFABRRRQAUUUUAFFFFABRRRQAUUUUAFFFFABRRRQAUUUUAFFFFABRRRQAUUUUAFFFFABRRRQAUUUUAFFFFABRRRQAUUUUAFFFFABRRRQBy/iqGTSr618T2SFmtB5N6i9Zbcnr9VJyPqa6WGaO4gjmgcPHIoZGHQg8g0ssaTRPFKodHUqynoQe1cv4YlfRtVuvDF0xKwg3Fg7H78BPK/VScfQigDqq5iTwXIupX13p3ibWtNF9P9olgtvsxj37VUkb4Wboo7109cs3izU7jUtQttH8M3F/FYXBtpJxdxRguFVjgMQejigB3/CI6l/0PHiL/vmz/wDkej/hEdS/6HjxF/3zZ/8AyPR/wkHib/oS7j/wY2//AMVR/wAJB4m/6Eu4/wDBjb//ABVAB/wiOpf9Dx4i/wC+bP8A+R6P+ER1L/oePEX/AHzZ/wDyPR/wkHib/oS7j/wY2/8A8VR/wkHib/oS7j/wY2//AMVQBsaHo8GgaFaaVaSSyQ2kYjR5iC7D1JAAz9AKv1naBrEfiDw/Z6rDE8KXcQkEbkEr7HFaNABRRRQAUUUUAFFFFABRRVXU7yTT9LuLuG1kvHhjLiCIgNJjsM8ZpN2V2NK7sWqK8xHxqtm8Cv4qTw7qDWMN0ba4Xzog8DZC5YbuOWA9q7W216W51WC0GnSLFLai5a586MrGD2IByfqOKq39fK/5C/r9DZorl28f6Oljc37uy2MV0lnFcHAW4mZtpVB1OCRk9Ovoa6GW9treOJ7ieOJZXVELsBuZugHuaQE9Fcv418bx+DrNZV0jUdXlKtI8Gnw7zFGo5kY9FH1/oaj0r4iaPquk6TqkQmjstUYRxTOvCSk4Ebeh9+lC12B6bnWUUUUAcxa/8lZ1X/sCWX/o+6rp65i1/wCSs6r/ANgSy/8AR91XT0AFFFFABXMeDf8Aj88T/wDYbk/9ExV09cr4UnitpPFc9xIsUUWsyu7scBQIYiSTQBo+JtafSNPVLNPN1C7bybSH+857n2HU1J4d0RNC0lbff5txIxluZz1mlb7zH+Q9AAKyfDUMuu6lJ4pv0ZElXZp0LjBih/vkdmbr9MCuroAKKKKACiiigAooooAKKKKACiiigAooooAKKKKACiiigAooooAKKKKACiiigAooooAKKKKACiiigAooooAKKKKACiiigAooooAKKKKACiiigAooooAKKKKACiiigAooooAKKKKACiiigAooooAK57xdplzcWUOp6QudU0t/tFuuceaAPniPsy5HsSD2roaKAKek6nb6zpNvqFk26G4QOuRgjPYjsaxPB3/IQ8U/9ht//RENQ2P/ABTHjCXTW+XTtXZp7T0jm6yJ+P3h9TSeAbk3cniiYrtzrsox9Ioh/SgDrqKKKACiiigDmPhv/wAk40T/AK9h/M109eX/AA7+ImhJoOm+Hf8ATm1O2sjK8KWUrZUZOQQMEemOtdNpnxF0PWNDu9W05dQntbSf7PLtsJd4kzgqF25OCRnHSjcNnY6qis+51yxtLiyt55GW4vSBBBsJdu5O3qAB1Pap7HUbXUopJLGZZkjleJmU5AdThh+BBH4UAWaKgu722sbGW8vJkht4ULySu2FVR1JNct4d+KfhTxTDfPot/JMbBQ88bQOjqv8Ae2kZI96AOwoqG0u7e/tI7qzmSaCVdySIchh7GpqACgjIwaKKAPE7XwFeHxT458KNbE6Dqtv9ugldcqkzBlCjjGdx3e20V0PgO21uX4STXGrRyR6pJZmFFYENtRNqnnnJxn6mvS6Km3uOPdW+6/6aDv73N53/AM/x1PnvXNIGpfAnwPIdPN4bHVIfti+T5rRpvcS7lAyRnGRivRPEHhbVtSsdLfRNY1GytVu7eRLCK1tVS1QHqAYifl9CSPaux07RbPSZ7qSwRoVun82SIH5N/dgOxPGfoKv1pfVvu7/kStLLsrHAeNfFP/CF+G002+m1jWry9DRm4gsVeREbILkRqqZA4HHXGc1zfiOawuf2fzBoOn3llAHjhs4btCk7vvGCVOTkmvY6z77RLPUtQtLy9VpWs23wxs3yK/8Aex61Fr3T6lXs1boWrMSLYwCfmURqHz/exzU1FFU3d3JSsrHMWv8AyVnVf+wJZf8Ao+6rp65i1/5Kzqv/AGBLL/0fdV09IYUUUUAFeX6bBN4k8UeIvDxR10yLWWudRcjAmXyotkI9QxGW/wBkEfxV6hXMeDQPtvig45OtyZP/AGxioA6ZVCqFUYAGAB2paKKACiiigAooooAKKKKACiiigAooooAKKKKACiiigAooooAKKKKACiiigAooooAKKKKACiiigAooooAKKKKACiiigAooooAKKKKACiiigAooooAKKKKACiiigAooooAKKKKACiiigAooooAKKKKACgjKkHv6GiigDz3xPoHiGz0aSCxmk1u0iYTWwmb/AEu1deQVk/jHb5ucH71R/BW+udT8M6zeX9q9pczazM0sMi4KN5cWeK9GrmPB3/H/AOKf+w2//oiGgDp6KKKACiiigD5/1C0uNC0n4e+NdOieR7bbZ3KRjLPHIxH9cVueFdLvdF+Lmu+GDEx06/eHW2fJIBIKupJ9ZACP92u6+HkMc3w20RZo1kAtwQHUHBBODXT+TGJjMI080rtL7RuI9M+nJoj7v4/j/wAFXCXvL7v6+52PNbdZNQ+MfiqK7aQGHSY47YqSrIrdSrDkHPpWH8ELfUD8MY/+Ef1CCPUjcTG8XUhPcqv7xwAEEihG7nHJ6nrmvUrzw9Bc+ILXWoJGt72BfLdlGRNGeqMO/se1aNvaW1ori1t4oA7F2EaBdzepx1NJK0beVvxuD1fzv+FjhfBS6npngyObxddaUulQo7tG1m8boQ5OWZ5CP/HfSsvwNr3g/wAU/EjVdd0nUYbvU72BYVto4iDFBHxuckDJY/pgds16hPBDcwtFcxJNG33kkUMp+oNUJdCtEtJ00qC306eVCn2iC3UMoP0xTb97mB6/N/rc5H4RSzHTddtyWNrbatMlsCOFXgkD2zXoNZ+iaLaaBpMWn2CkRR5JZjlnY8lie5JrQp9EuyX4IOrfmwooopAFFFFABRRRQAUUUUAFFFFAHMWv/JWdV/7All/6Puq6eub1Tw5qs3ieTWtE1uLT5JrOK0ljmsfPDCN5HBB3rj/Wn8qZ/ZHjH/obLH/wTf8A26gDp6K5j+yPGP8A0Nlj/wCCb/7dR/ZHjH/obLH/AME3/wBuoA6euY8G/wDH54n/AOw3J/6Jio/sjxj/ANDZY/8Agm/+3Vd8M6FcaHb3v22/W/ub27a6llWDyl3FVXAXcccIO9AG1RRRQAUUUUAFFFFABRRRQAUUUUAFFFFABRRRQAUUUUAFFFFABRRRQAUUUUAFFFFABRRRQAUUUUAFFFFABRRRQAUUUUAFFFFABRRRQAUUUUAFFFFABRRRQAUUUUAFFFFABRRRQAUUUUAFFFFABRRRQAUUUUAFcx4O/wCQh4p/7Db/APoiGunrmZvBMZ1G9u7PXdZsDezefNFazoqF9qqSAUJ6KO9AHTUVzH/CGT/9Db4i/wDAmL/43R/whk//AENviL/wJi/+N0AdPRXMf8IZP/0NviL/AMCYv/jdH/CGT/8AQ2+Iv/AmL/43QAfDf/knGif9ew/ma6eqOi6Tb6DotrpdkZGgtYxGhlbLED1PrV6gAooooAKKKKACiiigAooooAKKKKACiiigAooooAKKKKACiiigAooooAKKKKACiiigAooooAKKKKACiiigAooooAKKKKACiiigAooooAKKKKACiiigAooooAKKKKACiiigAooooAKKKKACiiigAooooAKKKKACiiigAooooAKKKKACiiigAooooAKKKKACiiigAooooAKKKKACiiigAooooAKKKKACiiigAooooAKKKKACiiigAooooAKKKKACiiigAooooAKKKKACiiigAooooAKKKKACiiigAooooAKKKKACiiigCC9uRZ2E9yRkRRs+PXAzXjnwpsoPina6l4u8aoNUdryS3s7O4+aG0jAU4VOmTxk+3vXtEsSTQvFKu5HUqwPcGvNvDfgXxH8PNT1GLwe+m6jod/KbhbLULiS3e1kOMhXWOTcuB3A7fiRspO/bT1/4YH8Onf8AD/hyPx54Ns9N+HfiyZne6tzaGa0huGLi0ZUI+TP3R6AdK8eK2SfDfwTJpdhNomtyXO59fnQwRMAxzmT+PIIx9K998T6J4o13wLqemK2myX2pxNEyPM8cNqpGPlYIzOR6kLn2rib34YeNdb+HGj+B9Rk0Kz0+zZftN7BcyzSyKucbUMSgHn+9SV036x/Abs0v+3v0sR63qd34y+NWl+CL67ZtFtrNbq7ijbC3jBdw3eq5HSl+JMFv8L/EXhzW/CMK6dFfXQs76ytxtiuEyMEqOMjcea6fWPhjNBr2j+I/CV3DBrGlQi3KXYPlXcYGCrsMlTjuAfpS6n4H1vxt4m0y+8aGws9O0l/OgsNPnefzpc/ed3RMAYGAAfrVfy276+l/1Wliejv209bf563OC1HStO8E/tC6bNLZRHRvE0LRbJFysUjjB29hkkD6E0ngM2PhL4peLNGNiiWd/btc6aZRuLREldoP90kjAr0n4o/Dw/EDRLK2trhbS6s7uOaOYkjaoOGwRyDtzj3xTfEXw4i1nx14a1yCSOGDSI2jmjyQ0qDGxeOoByefalHon5r5PX8GOWt36P5r/NHSeF9Cs/DugwWVhbJbKR5kiIMfO3J/w/Cteiim3d3EgooopDCiiigAooooAKKKKACiiigAooooAKKKKACiiigAooooAKKKKACiiigAooooAKKKKACiiigDlviVqWs6R8O9WvvDUTSahDDujCLuZRkbmA9QuT+Fcd4A8VaT4luLFfDfirUJJUbN/puqXDPM3GCVL5IGew4PpXoniX+2ho+fDKwvqAniKrcPsRk8xd4ZsEgbd3IBPoK87uvAza78RtF12z8KSeHJNNlaS8ujJCBdDHCosbnPOTlgtEfi12/r8Al8OhV8CeL7vS9f+IMmt3upajYaTdxCGIu07xK27IUE/wCcVseJfFwfxt4Phj1DVNIF3IXNk9qQLoEcI3PB471wE3w+8bvrnizV7HTdUsbqS9hv9KRLi2MVw8bY2yL5nocjJwME9cCuj1/T/GnibxX4H1m68IXVu2lyeZqCi6t2CHodv7zkd6cNeS/l+X+YT0c7eZ1TfGXwwn9pFo9SC6VMsV832Q4tyTgM3PC5713NrdQ3tpFc2siywyqHR1OQwPQ185adaa1q7/FHRNC0eTUJtSvYoRIk0aLAcnLPuIOMZ+7k57d69h0TwPd6b4Z0jTR4k1S0awtUgdbNogjlRyfnjY/rUx1im+y/FXf3afeEtJNLu/w2I/EHxW8N+HNRv7O7N5cSabEkt61pbmRbcMcLvPYnj86Ln4reHrL+yvtiX9v/AGshe18y2PzAevPFeJ/ErW/D3hn4heJtJvLjWrSLWIbZdQ2WMc/2kLg7o2aVNnAxnDDO7jiuwayk8RXvw91zwJot1f6BpgHmF5YkeJemCGcZYe3HvTh7yT81+twn7rfp/l/wT0f/AIWNoJ8O6fq6NcvHqUrRWtuIT50rqSGUJ6jBquvxT8OP4OufE0TXclhaSGO4VYCZISDg7l7Vm/E3SNeuLfQ7XwnokN3ZJdl75YRCkscfB/dlyApbLZIOa4LSvAniyw+Dvirw63hu6+239yzWqC5gYMrHqWMnbvnn61N3aTXy/D/NlWV1f+t/8kejW/xi8K3N3ZW8b3ofULfz7MtakC4H91PVs5GPUGt3wn4x0nxnp813orylYJjDKk0ex0cdQRXlFp4Y8WQ+JfAF+/hW+8nQdN+zXmJ7bIfBX5f3vI6H6Gui+CnhvXvDUevxeINImsPtl8biFnlicMpJ4+Rzg81pZXa9fwdvy1M7uy+X5O/4nqdFFFSUFFFFABRRRQAUUUUAFFFFABRRRQAUUUUAFFFFABRRRQAUUUUAFFFFABRRRQAUUUUAFFFFABRRRQAUUUUAFFFFABRRRQAUUUUAFFFFABRRRQAUUUUAFFFFABRRRQAUUUUAFFFFABRRRQAUUUUAFFFFABRRRQAUUUUAFFFFABRRRQAUUUUAFFFFABRRRQAUUUUAFFFFABRRRQAUhGVI5GR2paKAOY8O/D/RfC2uX+q6S16tzqDbrnzbp3WQ5yCVPGRk4+tdPRRR0sHW5y1/8PtHvtUub/z9QtZrpg8wtbx41dgMZwO+AK6DT9PtdKsIrOxiWKCIYVVqzRRsrBvqFFFFABRRRQAUUUUAFFFFABRRRQAUUUUAFFFFABRRRQAUUUUAFFFFABRRRQAUUUUAFFFFABRRRQAUUUUAFFFFABRRRQAUUUUAFFFFABRRRQAUUUUAFFFFABRRRQAUUUUAFFFFABRRRQAUUUUAFFFFABRRRQAUUUUAFFFFABRRRQAUUUUAFFFFABRRRQAUUUUAFFFFABRRRQAUUUUAFFFFABRRRQAUUUUAFFFFABRRRQAUUUUAFFFFABRRRQAUUUUAFFFFABRRRQAUUUUAFFFFABRRRQAUUUUAFFFFAH//2Q==)"
      ],
      "metadata": {
        "id": "ol9WeF89VbSK"
      }
    },
    {
      "cell_type": "markdown",
      "source": [
        "- 의미적관계 / 문법적(구조적) 관계 / 고유명사\n",
        "![image.png](data:image/png;base64,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)"
      ],
      "metadata": {
        "id": "0ehXahqMYZBn"
      }
    },
    {
      "cell_type": "markdown",
      "source": [
        "### fastText"
      ],
      "metadata": {
        "id": "jEWBEIhTUQ-q"
      }
    }
  ]
}