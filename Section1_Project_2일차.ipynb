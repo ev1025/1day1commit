{
  "nbformat": 4,
  "nbformat_minor": 0,
  "metadata": {
    "colab": {
      "name": "Section1 Project 2일차.ipynb",
      "provenance": [],
      "collapsed_sections": [
        "IBm0k5tuhgVL",
        "n8Orz580Tqay",
        "-IAU_gpzhU-w",
        "hPftBAqwhVb6",
        "o6WZ2C06hn0C",
        "rn9sCT1Kevk8",
        "WxfOYYIEZO1E",
        "_NzDyFJScvmw",
        "uQRb2MBVjIp4"
      ],
      "authorship_tag": "ABX9TyOqkDnMeyqB+BaqRX+Goy5x",
      "include_colab_link": true
    },
    "kernelspec": {
      "name": "python3",
      "display_name": "Python 3"
    },
    "language_info": {
      "name": "python"
    }
  },
  "cells": [
    {
      "cell_type": "markdown",
      "metadata": {
        "id": "view-in-github",
        "colab_type": "text"
      },
      "source": [
        "<a href=\"https://colab.research.google.com/github/ev1025/1day1commit/blob/main/Section1_Project_2%EC%9D%BC%EC%B0%A8.ipynb\" target=\"_parent\"><img src=\"https://colab.research.google.com/assets/colab-badge.svg\" alt=\"Open In Colab\"/></a>"
      ]
    },
    {
      "cell_type": "markdown",
      "source": [
        "# Section. 1 Project"
      ],
      "metadata": {
        "id": "IBm0k5tuhgVL"
      }
    },
    {
      "cell_type": "markdown",
      "source": [
        "# 필수사항\n",
        "1. 지역에 따라서 선호하는 게임 장르가 다를까 라는 질문에 대답을 하셔야합니다.\n",
        "2. 연도별 게임의 트렌드가 있을까 라는 질문에 대답을 하셔야합니다.\n",
        "3. 출고량이 높은 게임에 대한 분석 및 시각화 프로세스가 포함되어야 합니다.\n"
      ],
      "metadata": {
        "id": "n8Orz580Tqay"
      }
    },
    {
      "cell_type": "markdown",
      "source": [
        "# 방법\n",
        "-  Section.1   \n",
        " - EDA, Feature Engineering, Data Manipulation, Data Visualization, Data\n",
        "Wrangling   \n",
        "- Sprint 2   \n",
        "  - Bayesian, Confidence Interval, Hypothesis Test, AB Test   \n",
        "- Sprint 3   \n",
        "  - Linear Algebra, Dimensionality Reduction, PCA, Clustering, Gradient Descent   "
      ],
      "metadata": {
        "id": "-IAU_gpzhU-w"
      }
    },
    {
      "cell_type": "markdown",
      "source": [
        "# 피쳐정보\n",
        "Name : 게임의 이름입니다.    \n",
        "Platform : 게임이 지원되는 플랫폼의 이름입니다    \n",
        "Year : 게임이 출시된 연도입니다.    \n",
        "Genre : 게임의 장르입니다.    \n",
        "Publisher : 게임을 제작한 회사입니다.    \n",
        "NA_Sales : 북미지역에서의 출고량입니다.   \n",
        "EU_Sales : 유럽지역에서의 출고량입니다.    \n",
        "JP_Sales : 일본지역에서의 출고량입니다.   \n",
        "Other_Sales : 기타지역에서의 출고량입니다.    "
      ],
      "metadata": {
        "id": "hPftBAqwhVb6"
      }
    },
    {
      "cell_type": "markdown",
      "source": [
        "# 전처리"
      ],
      "metadata": {
        "id": "o6WZ2C06hn0C"
      }
    },
    {
      "cell_type": "code",
      "source": [
        "# from google.colab import files\n",
        "# files.upload();"
      ],
      "metadata": {
        "id": "cRnB10rDJ2sE"
      },
      "execution_count": 1,
      "outputs": []
    },
    {
      "cell_type": "code",
      "execution_count": 119,
      "metadata": {
        "id": "ketu7eKDIESh"
      },
      "outputs": [],
      "source": [
        "import pandas as pd\n",
        "import numpy as np\n",
        "import sympy as sp\n",
        "import matplotlib.pyplot as plt\n",
        "import seaborn as sns\n",
        "import math\n",
        "import copy \n",
        "from sklearn.preprocessing import StandardScaler\n",
        "from sklearn.cluster import KMeans\n",
        "from sklearn.decomposition import PCA\n",
        "scaler = StandardScaler()\n",
        "plt.style.use('fivethirtyeight')"
      ]
    },
    {
      "cell_type": "code",
      "source": [
        "rawdata = pd.read_csv('vgames2.csv')\n",
        "df = pd.read_csv('vgames2.csv')\n",
        "df = df.iloc[:,1:] # 불필요한 인덱스 제거"
      ],
      "metadata": {
        "id": "aX61tAJLKI1r"
      },
      "execution_count": 3,
      "outputs": []
    },
    {
      "cell_type": "code",
      "source": [
        "# df.info()"
      ],
      "metadata": {
        "id": "vRTswScEcdpe"
      },
      "execution_count": 4,
      "outputs": []
    },
    {
      "cell_type": "code",
      "source": [
        "# df[df.Year.isnull()] # 년도 결측값 확인"
      ],
      "metadata": {
        "id": "oIrBCOlWciq7"
      },
      "execution_count": 5,
      "outputs": []
    },
    {
      "cell_type": "code",
      "source": [
        "# 판매량 데이터 높은 값만 수정\n",
        "df.iat[6949,3] = 2004\n",
        "df.iat[16275,3] = 1978\n",
        "df.iat[13327,3] = 2001\n",
        "df.iat[31,3] = 2007\n",
        "df.iat[3347,3] = 2008\n",
        "df.iat[3562,3] = 2006\n",
        "df.iat[8529,3] = 2008\n",
        "df.iat[4181,3] = 2007\n",
        "df.iat[5720,3] = 1980\n",
        "df.iat[2130,3] = 2006\n",
        "df.iat[10965,3] = 2004"
      ],
      "metadata": {
        "id": "78tlZ1a4hLya"
      },
      "execution_count": 6,
      "outputs": []
    },
    {
      "cell_type": "code",
      "source": [
        "df.dropna(axis=0, subset=['Year'],inplace=True)\n",
        "df.reset_index(inplace=True, drop= True)\n",
        "df.Year = df.Year.astype(int)"
      ],
      "metadata": {
        "id": "kNq5_02JlYtT"
      },
      "execution_count": 7,
      "outputs": []
    },
    {
      "cell_type": "code",
      "source": [
        "# df[df['Genre'].isnull()]"
      ],
      "metadata": {
        "id": "UgIwtaTnl4pN"
      },
      "execution_count": 8,
      "outputs": []
    },
    {
      "cell_type": "code",
      "source": [
        "# df.Genre.value_counts() # 장르종류"
      ],
      "metadata": {
        "id": "mrqQx2RImSBX"
      },
      "execution_count": 9,
      "outputs": []
    },
    {
      "cell_type": "code",
      "source": [
        "# 판매량 높은 장르 결측값 등록\n",
        "df.iat[1946,4] = 'Role-Playing' \n",
        "df.iat[9348,4] = 'Adventure'\n",
        "df.iat[4523,4] = 'Misc'\n",
        "df.iat[16316,4] = 'Racing'\n",
        "df.iat[3871,4] = 'Sports'\n",
        "df.iat[15268,4] = 'Role-Playing'\n",
        "df.iat[12135,4] = 'Adventure'"
      ],
      "metadata": {
        "id": "XHwwcSLimgWk"
      },
      "execution_count": 10,
      "outputs": []
    },
    {
      "cell_type": "code",
      "source": [
        "df.dropna(axis = 0 , subset=['Genre'], inplace=True)\n",
        "df.reset_index(inplace=True, drop=True)"
      ],
      "metadata": {
        "id": "8yL9FuUsoPXE"
      },
      "execution_count": 11,
      "outputs": []
    },
    {
      "cell_type": "code",
      "source": [
        "# df[df['Publisher'].isna()]"
      ],
      "metadata": {
        "id": "0PFe0jihqhjv"
      },
      "execution_count": 12,
      "outputs": []
    },
    {
      "cell_type": "code",
      "source": [
        "df.dropna(axis = 0 , subset=['Publisher'],inplace = True)  # Publisher 출고량 높은 사항없어서 모두 제거\n",
        "df.reset_index(inplace=True, drop=True)"
      ],
      "metadata": {
        "id": "ZEGWh5QGthJ8"
      },
      "execution_count": 13,
      "outputs": []
    },
    {
      "cell_type": "code",
      "source": [
        "# df.duplicated().sum()"
      ],
      "metadata": {
        "id": "sxYq6LSgxL3u"
      },
      "execution_count": 14,
      "outputs": []
    },
    {
      "cell_type": "code",
      "source": [
        "# df.info()"
      ],
      "metadata": {
        "id": "0dr3H6k9xYqY"
      },
      "execution_count": 15,
      "outputs": []
    },
    {
      "cell_type": "code",
      "source": [
        "df.NA_Sales = df.NA_Sales.str.replace(\"M\",\"\").str.replace('K','000').astype(float) # 출고량의 M값과 K값 정리\n",
        "K_index = df[df['NA_Sales'] >10]\n",
        "K_index = K_index['NA_Sales']\n",
        "K_1000 = K_index/1000000\n",
        "df.loc[K_1000.index,'NA_Sales'] = K_1000\n",
        "df['NA_Sales'] = round(df['NA_Sales'],2)\n",
        "\n",
        "df.EU_Sales = df.EU_Sales.str.replace('M','').str.replace('K','000').astype(float)\n",
        "K_index2 = df[df['EU_Sales']>10]\n",
        "K_index2 = K_index2['EU_Sales']\n",
        "K_2000 = K_index2/1000000\n",
        "df.loc[K_2000.index,'EU_Sales'] = K_2000\n",
        "df['EU_Sales'] = round(df['EU_Sales'],2)\n",
        "\n",
        "df.JP_Sales = df.JP_Sales.str.replace('M','').str.replace('K','000').astype(float)\n",
        "k_index3 = df[df['JP_Sales']>10]\n",
        "k_index3 = k_index3['JP_Sales']\n",
        "k_3000 = k_index3/1000000\n",
        "df.loc[k_3000.index,'JP_Sales'] = k_3000\n",
        "df['JP_Sales'] = round(df['JP_Sales'],2)\n",
        "\n",
        "df.Other_Sales = df.Other_Sales.str.replace('M','').str.replace('K','000').astype(float)\n",
        "k_index4 = df[df['Other_Sales'] >10]\n",
        "k_index4 = k_index4['Other_Sales']\n",
        "k_4000 = k_index4/1000000\n",
        "df.loc[k_4000.index,'Other_Sales'] = k_4000\n",
        "df.Other_Sales = round(df.Other_Sales,2)"
      ],
      "metadata": {
        "id": "DpVas5YIyM7C"
      },
      "execution_count": 16,
      "outputs": []
    },
    {
      "cell_type": "code",
      "source": [
        "year_200 = df[df['Year']<10]               # 년도별 이상치 정리\n",
        "year_200 = year_200.astype(str)\n",
        "y200 = '200'+year_200['Year']\n",
        "\n",
        "year_20 = df[(df['Year']>=10) & (df['Year']<80) ]\n",
        "year_20 = year_20.astype(str)\n",
        "y20 = '20'+year_20['Year']\n",
        "\n",
        "year19 = df[(df['Year']>=80) & (df['Year']<100) ]\n",
        "year19 = year19.astype('str')\n",
        "y19 = '19' + year19['Year']"
      ],
      "metadata": {
        "id": "2YiNGQ3gIbIC"
      },
      "execution_count": 17,
      "outputs": []
    },
    {
      "cell_type": "code",
      "source": [
        "df.loc[y200.index,'Year'] = y200           # 정리한 이상치 대입\n",
        "df.loc[y20.index,'Year'] = y20\n",
        "df.loc[y19.index,'Year']=y19\n",
        "df.Year = df.Year.astype(int)"
      ],
      "metadata": {
        "id": "Oq_CqMZ0RJSG"
      },
      "execution_count": 18,
      "outputs": []
    },
    {
      "cell_type": "code",
      "source": [
        "Sales_sum = (df.loc[:,'NA_Sales']+df.loc[:,'EU_Sales']+df.loc[:,'JP_Sales']+df.loc[:,'Other_Sales']) \n",
        "df['Sales_sum'] = round(Sales_sum,2)  # 출고량 합계 피쳐 생성"
      ],
      "metadata": {
        "id": "N0SPGOQBGLi8"
      },
      "execution_count": 19,
      "outputs": []
    },
    {
      "cell_type": "code",
      "source": [
        "# df.duplicated().sum()"
      ],
      "metadata": {
        "id": "_REQdoWQZMe8"
      },
      "execution_count": 20,
      "outputs": []
    },
    {
      "cell_type": "code",
      "source": [
        "# 2017년 이상 자료 놓친부분 전처리\n",
        "df.iat[5196,2] = 2016\n",
        "df.iat[14903,2] = 2016\n",
        "df.iat[9911,2] = 2016\n",
        "df.iat[6765,2] = 2009"
      ],
      "metadata": {
        "id": "bj5YEY-rWOEC"
      },
      "execution_count": 21,
      "outputs": []
    },
    {
      "cell_type": "markdown",
      "source": [
        "# 1번 데이터\n"
      ],
      "metadata": {
        "id": "bAVr7xm5h9Dj"
      }
    },
    {
      "cell_type": "code",
      "source": [
        "df3 = copy.deepcopy(df)"
      ],
      "metadata": {
        "id": "bWGqnPh-iBRO"
      },
      "execution_count": 22,
      "outputs": []
    },
    {
      "cell_type": "code",
      "source": [
        "df3.Genre.value_counts() # 장르 종류 확인"
      ],
      "metadata": {
        "colab": {
          "base_uri": "https://localhost:8080/"
        },
        "id": "4wLx5hReZaTU",
        "outputId": "f6d30849-61be-4fa9-9efa-4bfd17eab047"
      },
      "execution_count": 23,
      "outputs": [
        {
          "output_type": "execute_result",
          "data": {
            "text/plain": [
              "Action          3240\n",
              "Sports          2299\n",
              "Misc            1681\n",
              "Role-Playing    1465\n",
              "Shooter         1280\n",
              "Adventure       1268\n",
              "Racing          1219\n",
              "Platform         873\n",
              "Simulation       846\n",
              "Fighting         835\n",
              "Strategy         669\n",
              "Puzzle           566\n",
              "Name: Genre, dtype: int64"
            ]
          },
          "metadata": {},
          "execution_count": 23
        }
      ]
    },
    {
      "cell_type": "code",
      "source": [
        "genre_group = df3.groupby('Genre').sum() # 장르별로 묶기\n",
        "genre_group"
      ],
      "metadata": {
        "colab": {
          "base_uri": "https://localhost:8080/",
          "height": 457
        },
        "id": "ZBRKTIfhDbrf",
        "outputId": "b5b7ff76-732b-4472-aa74-4d8377ec30c9"
      },
      "execution_count": 24,
      "outputs": [
        {
          "output_type": "execute_result",
          "data": {
            "text/plain": [
              "                 Year  NA_Sales  EU_Sales  JP_Sales  Other_Sales  Sales_sum\n",
              "Genre                                                                      \n",
              "Action        6505616    858.75    513.64    156.60       173.42    1702.41\n",
              "Adventure     2546304    101.79     63.66     51.87        16.70     234.02\n",
              "Fighting      1673860    220.35     99.90     87.14        36.15     443.54\n",
              "Misc          3374273    365.73    208.15    104.18        72.64     750.70\n",
              "Platform      1749321    366.72    200.63    130.53        51.45     749.33\n",
              "Puzzle        1134959     98.38     50.47     56.24        12.44     217.53\n",
              "Racing        2443902    338.85    222.14     56.32        76.51     693.82\n",
              "Role-Playing  2940337    307.49    183.09    332.71        56.73     880.02\n",
              "Shooter       2567579    547.55    310.23     38.18       101.86     997.82\n",
              "Simulation    1697529    181.43    101.99     63.54        31.32     378.28\n",
              "Sports        4610619    610.02    330.94    134.76       132.35    1208.07\n",
              "Strategy      1341739     67.83     44.82     49.10        11.23     172.98"
            ],
            "text/html": [
              "\n",
              "  <div id=\"df-3782fbd9-896f-498a-82f1-dd30f9bd748b\">\n",
              "    <div class=\"colab-df-container\">\n",
              "      <div>\n",
              "<style scoped>\n",
              "    .dataframe tbody tr th:only-of-type {\n",
              "        vertical-align: middle;\n",
              "    }\n",
              "\n",
              "    .dataframe tbody tr th {\n",
              "        vertical-align: top;\n",
              "    }\n",
              "\n",
              "    .dataframe thead th {\n",
              "        text-align: right;\n",
              "    }\n",
              "</style>\n",
              "<table border=\"1\" class=\"dataframe\">\n",
              "  <thead>\n",
              "    <tr style=\"text-align: right;\">\n",
              "      <th></th>\n",
              "      <th>Year</th>\n",
              "      <th>NA_Sales</th>\n",
              "      <th>EU_Sales</th>\n",
              "      <th>JP_Sales</th>\n",
              "      <th>Other_Sales</th>\n",
              "      <th>Sales_sum</th>\n",
              "    </tr>\n",
              "    <tr>\n",
              "      <th>Genre</th>\n",
              "      <th></th>\n",
              "      <th></th>\n",
              "      <th></th>\n",
              "      <th></th>\n",
              "      <th></th>\n",
              "      <th></th>\n",
              "    </tr>\n",
              "  </thead>\n",
              "  <tbody>\n",
              "    <tr>\n",
              "      <th>Action</th>\n",
              "      <td>6505616</td>\n",
              "      <td>858.75</td>\n",
              "      <td>513.64</td>\n",
              "      <td>156.60</td>\n",
              "      <td>173.42</td>\n",
              "      <td>1702.41</td>\n",
              "    </tr>\n",
              "    <tr>\n",
              "      <th>Adventure</th>\n",
              "      <td>2546304</td>\n",
              "      <td>101.79</td>\n",
              "      <td>63.66</td>\n",
              "      <td>51.87</td>\n",
              "      <td>16.70</td>\n",
              "      <td>234.02</td>\n",
              "    </tr>\n",
              "    <tr>\n",
              "      <th>Fighting</th>\n",
              "      <td>1673860</td>\n",
              "      <td>220.35</td>\n",
              "      <td>99.90</td>\n",
              "      <td>87.14</td>\n",
              "      <td>36.15</td>\n",
              "      <td>443.54</td>\n",
              "    </tr>\n",
              "    <tr>\n",
              "      <th>Misc</th>\n",
              "      <td>3374273</td>\n",
              "      <td>365.73</td>\n",
              "      <td>208.15</td>\n",
              "      <td>104.18</td>\n",
              "      <td>72.64</td>\n",
              "      <td>750.70</td>\n",
              "    </tr>\n",
              "    <tr>\n",
              "      <th>Platform</th>\n",
              "      <td>1749321</td>\n",
              "      <td>366.72</td>\n",
              "      <td>200.63</td>\n",
              "      <td>130.53</td>\n",
              "      <td>51.45</td>\n",
              "      <td>749.33</td>\n",
              "    </tr>\n",
              "    <tr>\n",
              "      <th>Puzzle</th>\n",
              "      <td>1134959</td>\n",
              "      <td>98.38</td>\n",
              "      <td>50.47</td>\n",
              "      <td>56.24</td>\n",
              "      <td>12.44</td>\n",
              "      <td>217.53</td>\n",
              "    </tr>\n",
              "    <tr>\n",
              "      <th>Racing</th>\n",
              "      <td>2443902</td>\n",
              "      <td>338.85</td>\n",
              "      <td>222.14</td>\n",
              "      <td>56.32</td>\n",
              "      <td>76.51</td>\n",
              "      <td>693.82</td>\n",
              "    </tr>\n",
              "    <tr>\n",
              "      <th>Role-Playing</th>\n",
              "      <td>2940337</td>\n",
              "      <td>307.49</td>\n",
              "      <td>183.09</td>\n",
              "      <td>332.71</td>\n",
              "      <td>56.73</td>\n",
              "      <td>880.02</td>\n",
              "    </tr>\n",
              "    <tr>\n",
              "      <th>Shooter</th>\n",
              "      <td>2567579</td>\n",
              "      <td>547.55</td>\n",
              "      <td>310.23</td>\n",
              "      <td>38.18</td>\n",
              "      <td>101.86</td>\n",
              "      <td>997.82</td>\n",
              "    </tr>\n",
              "    <tr>\n",
              "      <th>Simulation</th>\n",
              "      <td>1697529</td>\n",
              "      <td>181.43</td>\n",
              "      <td>101.99</td>\n",
              "      <td>63.54</td>\n",
              "      <td>31.32</td>\n",
              "      <td>378.28</td>\n",
              "    </tr>\n",
              "    <tr>\n",
              "      <th>Sports</th>\n",
              "      <td>4610619</td>\n",
              "      <td>610.02</td>\n",
              "      <td>330.94</td>\n",
              "      <td>134.76</td>\n",
              "      <td>132.35</td>\n",
              "      <td>1208.07</td>\n",
              "    </tr>\n",
              "    <tr>\n",
              "      <th>Strategy</th>\n",
              "      <td>1341739</td>\n",
              "      <td>67.83</td>\n",
              "      <td>44.82</td>\n",
              "      <td>49.10</td>\n",
              "      <td>11.23</td>\n",
              "      <td>172.98</td>\n",
              "    </tr>\n",
              "  </tbody>\n",
              "</table>\n",
              "</div>\n",
              "      <button class=\"colab-df-convert\" onclick=\"convertToInteractive('df-3782fbd9-896f-498a-82f1-dd30f9bd748b')\"\n",
              "              title=\"Convert this dataframe to an interactive table.\"\n",
              "              style=\"display:none;\">\n",
              "        \n",
              "  <svg xmlns=\"http://www.w3.org/2000/svg\" height=\"24px\"viewBox=\"0 0 24 24\"\n",
              "       width=\"24px\">\n",
              "    <path d=\"M0 0h24v24H0V0z\" fill=\"none\"/>\n",
              "    <path d=\"M18.56 5.44l.94 2.06.94-2.06 2.06-.94-2.06-.94-.94-2.06-.94 2.06-2.06.94zm-11 1L8.5 8.5l.94-2.06 2.06-.94-2.06-.94L8.5 2.5l-.94 2.06-2.06.94zm10 10l.94 2.06.94-2.06 2.06-.94-2.06-.94-.94-2.06-.94 2.06-2.06.94z\"/><path d=\"M17.41 7.96l-1.37-1.37c-.4-.4-.92-.59-1.43-.59-.52 0-1.04.2-1.43.59L10.3 9.45l-7.72 7.72c-.78.78-.78 2.05 0 2.83L4 21.41c.39.39.9.59 1.41.59.51 0 1.02-.2 1.41-.59l7.78-7.78 2.81-2.81c.8-.78.8-2.07 0-2.86zM5.41 20L4 18.59l7.72-7.72 1.47 1.35L5.41 20z\"/>\n",
              "  </svg>\n",
              "      </button>\n",
              "      \n",
              "  <style>\n",
              "    .colab-df-container {\n",
              "      display:flex;\n",
              "      flex-wrap:wrap;\n",
              "      gap: 12px;\n",
              "    }\n",
              "\n",
              "    .colab-df-convert {\n",
              "      background-color: #E8F0FE;\n",
              "      border: none;\n",
              "      border-radius: 50%;\n",
              "      cursor: pointer;\n",
              "      display: none;\n",
              "      fill: #1967D2;\n",
              "      height: 32px;\n",
              "      padding: 0 0 0 0;\n",
              "      width: 32px;\n",
              "    }\n",
              "\n",
              "    .colab-df-convert:hover {\n",
              "      background-color: #E2EBFA;\n",
              "      box-shadow: 0px 1px 2px rgba(60, 64, 67, 0.3), 0px 1px 3px 1px rgba(60, 64, 67, 0.15);\n",
              "      fill: #174EA6;\n",
              "    }\n",
              "\n",
              "    [theme=dark] .colab-df-convert {\n",
              "      background-color: #3B4455;\n",
              "      fill: #D2E3FC;\n",
              "    }\n",
              "\n",
              "    [theme=dark] .colab-df-convert:hover {\n",
              "      background-color: #434B5C;\n",
              "      box-shadow: 0px 1px 3px 1px rgba(0, 0, 0, 0.15);\n",
              "      filter: drop-shadow(0px 1px 2px rgba(0, 0, 0, 0.3));\n",
              "      fill: #FFFFFF;\n",
              "    }\n",
              "  </style>\n",
              "\n",
              "      <script>\n",
              "        const buttonEl =\n",
              "          document.querySelector('#df-3782fbd9-896f-498a-82f1-dd30f9bd748b button.colab-df-convert');\n",
              "        buttonEl.style.display =\n",
              "          google.colab.kernel.accessAllowed ? 'block' : 'none';\n",
              "\n",
              "        async function convertToInteractive(key) {\n",
              "          const element = document.querySelector('#df-3782fbd9-896f-498a-82f1-dd30f9bd748b');\n",
              "          const dataTable =\n",
              "            await google.colab.kernel.invokeFunction('convertToInteractive',\n",
              "                                                     [key], {});\n",
              "          if (!dataTable) return;\n",
              "\n",
              "          const docLinkHtml = 'Like what you see? Visit the ' +\n",
              "            '<a target=\"_blank\" href=https://colab.research.google.com/notebooks/data_table.ipynb>data table notebook</a>'\n",
              "            + ' to learn more about interactive tables.';\n",
              "          element.innerHTML = '';\n",
              "          dataTable['output_type'] = 'display_data';\n",
              "          await google.colab.output.renderOutput(dataTable, element);\n",
              "          const docLink = document.createElement('div');\n",
              "          docLink.innerHTML = docLinkHtml;\n",
              "          element.appendChild(docLink);\n",
              "        }\n",
              "      </script>\n",
              "    </div>\n",
              "  </div>\n",
              "  "
            ]
          },
          "metadata": {},
          "execution_count": 24
        }
      ]
    },
    {
      "cell_type": "code",
      "source": [
        "genre_na = genre_group['NA_Sales']\n",
        "genre_eu = genre_group['EU_Sales']\n",
        "genre_jp = genre_group['JP_Sales']\n",
        "genre_ot = genre_group['Other_Sales']"
      ],
      "metadata": {
        "id": "Yy7mstsPDs5s"
      },
      "execution_count": 25,
      "outputs": []
    },
    {
      "cell_type": "markdown",
      "source": [
        "# 1.그래프"
      ],
      "metadata": {
        "id": "Kdxz_Z2NESJI"
      }
    },
    {
      "cell_type": "code",
      "source": [
        "plt.figure(figsize=(15,5))\n",
        "plt.plot(genre_na)\n",
        "plt.plot(genre_eu)\n",
        "plt.plot(genre_jp)\n",
        "plt.plot(genre_ot)\n",
        "plt.legend(['NA_Sales','EU_Salse','JP_Sales','Other_Sales'],title='Country')\n",
        "plt.show();"
      ],
      "metadata": {
        "colab": {
          "base_uri": "https://localhost:8080/",
          "height": 340
        },
        "id": "5yABt9B9a-lY",
        "outputId": "69edd1e1-f5bf-400f-ed97-e130435ae73f"
      },
      "execution_count": 26,
      "outputs": [
        {
          "output_type": "display_data",
          "data": {
            "text/plain": [
              "<Figure size 1080x360 with 1 Axes>"
            ],
            "image/png": "[encoded data removed]"
          },
          "metadata": {}
        }
      ]
    },
    {
      "cell_type": "markdown",
      "source": [
        "# 1. 지역에 따라서 선호하는 게임 장르가 다를까?\n",
        "- 그래프를 보시면 각 나라가 거의 비슷한 추세를 보이는 것을 알 수 있습니다.\n",
        "- 대부분의 그룹에서 액션,슈터, 스포츠를 선호한다는 것을 알 수 있습니다.\n",
        "- 일본의 출고량 같은경우 Role-playing 게임에서 특이점을 보여, 일본진출을 생각한다면 롤플레잉 게임을 제작하는 것이 유리하다고 볼 수 있습니다.\n",
        "- 밑의 파이차트는 각 게임 장르 별 순위입니다."
      ],
      "metadata": {
        "id": "rn9sCT1Kevk8"
      }
    },
    {
      "cell_type": "code",
      "source": [
        "genre_all = genre_group.iloc[:,5] # 장르별\n",
        "genre_all = genre_all.sort_values(ascending =False)\n",
        "\n",
        "labels_2 = ['Action','Sports', 'Shooter', 'Role-Playing', 'Misc', 'Platform', 'Racing','Fighting','Simulation', 'Adventure', 'Puzzle', 'Strategy']\n",
        "explode_2 = [0.2, 0,0,0,0,0,0,0,0,0,0,0]\n",
        "colors_2 = ['red','orange','yellow','green','#3498DB','#13297C','#A86FE5','#73C6B6','#FEF5E7','#F1948A','#D5D8DC','#707B7C']\n",
        "wedgeprops={'width': 0.7, 'edgecolor': 'w', 'linewidth': 1}\n",
        "\n",
        "plt.figure(figsize=(12,8))\n",
        "plt.pie(genre_all, labels = labels_2,colors=colors_2, autopct='%.1f%%', explode =explode_2, wedgeprops=wedgeprops, shadow =True)  \n",
        "plt.title(\"Sales of Genre\")\n",
        "plt.show();"
      ],
      "metadata": {
        "colab": {
          "base_uri": "https://localhost:8080/",
          "height": 518
        },
        "id": "SZhBNb3L20l6",
        "outputId": "9532b564-3135-457f-f579-1951520a4f67"
      },
      "execution_count": 27,
      "outputs": [
        {
          "output_type": "display_data",
          "data": {
            "text/plain": [
              "<Figure size 864x576 with 1 Axes>"
            ],
            "image/png": "[encoded data removed]"
          },
          "metadata": {}
        }
      ]
    },
    {
      "cell_type": "markdown",
      "source": [
        "###### 클러스터링 실패"
      ],
      "metadata": {
        "id": "WxfOYYIEZO1E"
      }
    },
    {
      "cell_type": "code",
      "source": [
        "#  장르별 게임의 갯수 원본\n",
        "# genre_ratio=df3.Genre.value_counts(normalize=True)\n",
        "# labels = ['Action','Sports', 'Misc', 'Role-Playing', 'Shooter', 'Adventure', 'Racing', 'Platform','Simulation','Fighting','Strategy', 'Puzzle' ]\n",
        "# explode = [0.2, 0,0,0,0,0,0,0,0,0,0,0]\n",
        "# colors = ['red','orange','#3498DB','green','yellow','#13297C','#A86FE5','#73C6B6','#FEF5E7','#F1948A','#D5D8DC','#707B7C']\n",
        "# wedgeprops={'width': 0.7, 'edgecolor': 'w', 'linewidth': 1}\n",
        "\n",
        "# plt.figure(figsize=(10,8))\n",
        "# plt.pie(genre_ratio, labels = labels,colors=colors, autopct='%.1f%%', explode =explode, wedgeprops=wedgeprops, shadow =True)  \n",
        "# # shadow : 그림자 / wedgeprops : 가운데 뚫기 / explode : 그래프 띄워주기 / startangle=숫자 : 각도 / counterclock=False : 시계방향 순 / autopct : 비율표시형식\n",
        "\n",
        "# plt.title('Count of Genre')\n",
        "# plt.show();\n",
        "\n",
        "# # 장르별 출고량\n",
        "# genre_all = genre_group.iloc[:,5]\n",
        "# genre_all = genre_all.sort_values(ascending =False)\n",
        "\n",
        "# labels_2 = ['Action','Sports', 'Shooter', 'Role-Playing', 'Misc', 'Platform', 'Racing','Fighting','Simulation', 'Adventure', 'Puzzle', 'Strategy']\n",
        "# explode_2 = [0.2, 0,0,0,0,0,0,0,0,0,0,0]\n",
        "# colors_2 = ['red','orange','yellow','green','#3498DB','#13297C','#A86FE5','#73C6B6','#FEF5E7','#F1948A','#D5D8DC','#707B7C']\n",
        "# wedgeprops={'width': 0.7, 'edgecolor': 'w', 'linewidth': 1}\n",
        "\n",
        "# plt.figure(figsize=(10,8))\n",
        "# plt.pie(genre_all, labels = labels_2,colors=colors_2, autopct='%.1f%%', explode =explode_2, wedgeprops=wedgeprops, shadow =True)  \n",
        "# plt.title('Sales of Genre')\n",
        "# plt.show();"
      ],
      "metadata": {
        "id": "CRJJqqiSivmp"
      },
      "execution_count": 28,
      "outputs": []
    },
    {
      "cell_type": "code",
      "source": [
        "# df_log = df3.iloc[:,5:9]\n",
        "# # df_log = np.log(df_log)\n",
        "# # round(df_log,2)"
      ],
      "metadata": {
        "id": "EnM4146PSPrx"
      },
      "execution_count": 29,
      "outputs": []
    },
    {
      "cell_type": "code",
      "source": [
        "# scaler = StandardScaler()\n",
        "# df3_sc = scaler.fit_transform(df_log)\n",
        "\n",
        "# kmeans = KMeans(n_clusters = 4, random_state=42)\n",
        "# kmeans.fit(df3_sc)\n",
        "\n",
        "# cluster_label = kmeans.labels_\n",
        "# df_log['cluster_label'] = cluster_label\n"
      ],
      "metadata": {
        "id": "aMApjPh9UQqf"
      },
      "execution_count": 30,
      "outputs": []
    },
    {
      "cell_type": "code",
      "source": [
        "# sns.scatterplot(data = df_log, x = 'NA_Sales', y='EU_Sales', hue = 'cluster_label')"
      ],
      "metadata": {
        "id": "8fiEC5e-Wlwh"
      },
      "execution_count": 31,
      "outputs": []
    },
    {
      "cell_type": "markdown",
      "source": [
        "# 2번 데이터"
      ],
      "metadata": {
        "id": "NT5HubvlfiBs"
      }
    },
    {
      "cell_type": "code",
      "source": [
        "# df.Platform.value_counts()  \n",
        "# 장르의 종류 및 개수 확인\n",
        "# 휴대용 게임: WiiU DS 3DS PSP PSV GBA SAT GB NG SCD WS\n",
        "# 콘솔 게임 : Wii PS PS2 PS3 PS4 XB X360 XOne GC N64 SNES NES 2600 DC GEN 3DO TG16 GG PCFX\n",
        "# PC 게임 : PC"
      ],
      "metadata": {
        "id": "W8rhjQXiLiKc"
      },
      "execution_count": 32,
      "outputs": []
    },
    {
      "cell_type": "code",
      "source": [
        "                       # 플랫폼을 3개로 묶어서 분석\n",
        "df2 = copy.deepcopy(df)\n",
        "\n",
        "hand  = [\"WiiU\", \"DS\", \"3DS\",  \"PSP\", \"PSV\", \"GBA\", \"SAT\", \"GB\", \"NG\", \"SCD\", \"WS\"]  \n",
        "for i in hand:\n",
        "    df2['Platform'] = df2['Platform'].replace(i, \"0\")\n",
        "\n",
        "consol = [\"Wii\", \"PS\", \"PS2\", \"PS3\", \"PS4\",  \"XB\",  \"X360\", \"XOne\", \"GC\", \"N64\", \"SNES\", \"NES\", \"2600\", \"DC\", \"GEN\", \"3DO\", \"TG16\", \"GG\", \"PCFX\"]\n",
        "for j in consol:\n",
        "    df2['Platform'] = df2['Platform'].replace(j,\"1\")\n",
        "df2['Platform'] = df2['Platform'].replace('PC',\"2\")\n",
        "\n",
        "df2[df2['Platform'].str.contains('([0-9])')==False] # 바뀌지 않은 것 있는지 확인\n",
        "\n",
        "# 휴대용 : 0 , 콘솔 : 1 , PC : 2"
      ],
      "metadata": {
        "id": "ghvHecxKsZvZ",
        "colab": {
          "base_uri": "https://localhost:8080/",
          "height": 106
        },
        "outputId": "e0016c86-ea8a-4170-eb68-2ce4f16641e2"
      },
      "execution_count": 33,
      "outputs": [
        {
          "output_type": "stream",
          "name": "stderr",
          "text": [
            "/usr/local/lib/python3.7/dist-packages/ipykernel_launcher.py:13: UserWarning: This pattern has match groups. To actually get the groups, use str.extract.\n",
            "  del sys.path[0]\n"
          ]
        },
        {
          "output_type": "execute_result",
          "data": {
            "text/plain": [
              "Empty DataFrame\n",
              "Columns: [Name, Platform, Year, Genre, Publisher, NA_Sales, EU_Sales, JP_Sales, Other_Sales, Sales_sum]\n",
              "Index: []"
            ],
            "text/html": [
              "\n",
              "  <div id=\"df-e02370b1-b85b-45e0-a1b9-2495728d9e3e\">\n",
              "    <div class=\"colab-df-container\">\n",
              "      <div>\n",
              "<style scoped>\n",
              "    .dataframe tbody tr th:only-of-type {\n",
              "        vertical-align: middle;\n",
              "    }\n",
              "\n",
              "    .dataframe tbody tr th {\n",
              "        vertical-align: top;\n",
              "    }\n",
              "\n",
              "    .dataframe thead th {\n",
              "        text-align: right;\n",
              "    }\n",
              "</style>\n",
              "<table border=\"1\" class=\"dataframe\">\n",
              "  <thead>\n",
              "    <tr style=\"text-align: right;\">\n",
              "      <th></th>\n",
              "      <th>Name</th>\n",
              "      <th>Platform</th>\n",
              "      <th>Year</th>\n",
              "      <th>Genre</th>\n",
              "      <th>Publisher</th>\n",
              "      <th>NA_Sales</th>\n",
              "      <th>EU_Sales</th>\n",
              "      <th>JP_Sales</th>\n",
              "      <th>Other_Sales</th>\n",
              "      <th>Sales_sum</th>\n",
              "    </tr>\n",
              "  </thead>\n",
              "  <tbody>\n",
              "  </tbody>\n",
              "</table>\n",
              "</div>\n",
              "      <button class=\"colab-df-convert\" onclick=\"convertToInteractive('df-e02370b1-b85b-45e0-a1b9-2495728d9e3e')\"\n",
              "              title=\"Convert this dataframe to an interactive table.\"\n",
              "              style=\"display:none;\">\n",
              "        \n",
              "  <svg xmlns=\"http://www.w3.org/2000/svg\" height=\"24px\"viewBox=\"0 0 24 24\"\n",
              "       width=\"24px\">\n",
              "    <path d=\"M0 0h24v24H0V0z\" fill=\"none\"/>\n",
              "    <path d=\"M18.56 5.44l.94 2.06.94-2.06 2.06-.94-2.06-.94-.94-2.06-.94 2.06-2.06.94zm-11 1L8.5 8.5l.94-2.06 2.06-.94-2.06-.94L8.5 2.5l-.94 2.06-2.06.94zm10 10l.94 2.06.94-2.06 2.06-.94-2.06-.94-.94-2.06-.94 2.06-2.06.94z\"/><path d=\"M17.41 7.96l-1.37-1.37c-.4-.4-.92-.59-1.43-.59-.52 0-1.04.2-1.43.59L10.3 9.45l-7.72 7.72c-.78.78-.78 2.05 0 2.83L4 21.41c.39.39.9.59 1.41.59.51 0 1.02-.2 1.41-.59l7.78-7.78 2.81-2.81c.8-.78.8-2.07 0-2.86zM5.41 20L4 18.59l7.72-7.72 1.47 1.35L5.41 20z\"/>\n",
              "  </svg>\n",
              "      </button>\n",
              "      \n",
              "  <style>\n",
              "    .colab-df-container {\n",
              "      display:flex;\n",
              "      flex-wrap:wrap;\n",
              "      gap: 12px;\n",
              "    }\n",
              "\n",
              "    .colab-df-convert {\n",
              "      background-color: #E8F0FE;\n",
              "      border: none;\n",
              "      border-radius: 50%;\n",
              "      cursor: pointer;\n",
              "      display: none;\n",
              "      fill: #1967D2;\n",
              "      height: 32px;\n",
              "      padding: 0 0 0 0;\n",
              "      width: 32px;\n",
              "    }\n",
              "\n",
              "    .colab-df-convert:hover {\n",
              "      background-color: #E2EBFA;\n",
              "      box-shadow: 0px 1px 2px rgba(60, 64, 67, 0.3), 0px 1px 3px 1px rgba(60, 64, 67, 0.15);\n",
              "      fill: #174EA6;\n",
              "    }\n",
              "\n",
              "    [theme=dark] .colab-df-convert {\n",
              "      background-color: #3B4455;\n",
              "      fill: #D2E3FC;\n",
              "    }\n",
              "\n",
              "    [theme=dark] .colab-df-convert:hover {\n",
              "      background-color: #434B5C;\n",
              "      box-shadow: 0px 1px 3px 1px rgba(0, 0, 0, 0.15);\n",
              "      filter: drop-shadow(0px 1px 2px rgba(0, 0, 0, 0.3));\n",
              "      fill: #FFFFFF;\n",
              "    }\n",
              "  </style>\n",
              "\n",
              "      <script>\n",
              "        const buttonEl =\n",
              "          document.querySelector('#df-e02370b1-b85b-45e0-a1b9-2495728d9e3e button.colab-df-convert');\n",
              "        buttonEl.style.display =\n",
              "          google.colab.kernel.accessAllowed ? 'block' : 'none';\n",
              "\n",
              "        async function convertToInteractive(key) {\n",
              "          const element = document.querySelector('#df-e02370b1-b85b-45e0-a1b9-2495728d9e3e');\n",
              "          const dataTable =\n",
              "            await google.colab.kernel.invokeFunction('convertToInteractive',\n",
              "                                                     [key], {});\n",
              "          if (!dataTable) return;\n",
              "\n",
              "          const docLinkHtml = 'Like what you see? Visit the ' +\n",
              "            '<a target=\"_blank\" href=https://colab.research.google.com/notebooks/data_table.ipynb>data table notebook</a>'\n",
              "            + ' to learn more about interactive tables.';\n",
              "          element.innerHTML = '';\n",
              "          dataTable['output_type'] = 'display_data';\n",
              "          await google.colab.output.renderOutput(dataTable, element);\n",
              "          const docLink = document.createElement('div');\n",
              "          docLink.innerHTML = docLinkHtml;\n",
              "          element.appendChild(docLink);\n",
              "        }\n",
              "      </script>\n",
              "    </div>\n",
              "  </div>\n",
              "  "
            ]
          },
          "metadata": {},
          "execution_count": 33
        }
      ]
    },
    {
      "cell_type": "code",
      "source": [
        "portable = df2.query('Platform == \"0\"') # 그래프에 피쳐 엔지니어링\n",
        "consol = df2.query('Platform == \"1\"')\n",
        "pc = df2.query('Platform == \"2\"')\n",
        "\n",
        "\n",
        "portable = portable.iloc[:,[2,9]]\n",
        "consol = consol.iloc[:,[2,9]]\n",
        "pc = pc.iloc[:,[2,9]]\n",
        "\n",
        "portable = portable.groupby('Year').sum()\n",
        "consol = consol.groupby('Year').sum()\n",
        "pc = pc.groupby('Year').sum()"
      ],
      "metadata": {
        "id": "dnOffXN0Vuq_"
      },
      "execution_count": 34,
      "outputs": []
    },
    {
      "cell_type": "markdown",
      "source": [
        "# 2.발표자료"
      ],
      "metadata": {
        "id": "ePDKiCXfBdcH"
      }
    },
    {
      "cell_type": "code",
      "source": [
        "plt.figure(figsize=(8,7))\n",
        "plt.plot(consol)\n",
        "plt.plot(portable)\n",
        "plt.plot(pc)\n",
        "plt.xlabel('Year',fontsize = 20)\n",
        "plt.ylabel('Sales(Millon)', fontsize =15)\n",
        "plt.xlim(1980,2017,1)\n",
        "plt.legend([\"CONSOL\",\"PORTABLE\",\"PC\"],title = \"Category\")\n",
        "plt.show();"
      ],
      "metadata": {
        "colab": {
          "base_uri": "https://localhost:8080/",
          "height": 480
        },
        "id": "9p0y6bQHAZft",
        "outputId": "7d20914b-1b50-41b3-f287-b656a8212851"
      },
      "execution_count": 105,
      "outputs": [
        {
          "output_type": "display_data",
          "data": {
            "text/plain": [
              "<Figure size 576x504 with 1 Axes>"
            ],
            "image/png": "[encoded data removed]"
          },
          "metadata": {}
        }
      ]
    },
    {
      "cell_type": "markdown",
      "source": [
        "# 2. 연도별 게임의 트렌드가 있을까?   \n",
        "- 1980년 초, 콘솔게임 등장하였습니다. 이 시기에는 게임산업의 경쟁과열로 질이 낮은 게임들이 많이 출시되었습니다.\n",
        "- 1983년 소비자들의 불만이 극에 달하였고 게임업계에서 가장 큰 재앙으로 불리는 아타리쇼크가 일어났습니다.\n",
        "- 아타리쇼크는 당시 업계 거장이었던 아타리사가 저질 게임을 발매하면서 게임업계의 붕괴를 초래한 사건입니다.\n",
        "- 이렇게 주춤했던 콘솔 게임은 1990년대 초반 닌텐도사의 '수퍼패미컴'이라는 게임기로 사람들의 다시 신임을 얻기 시작했고, 1994년 말, 누구나 한 번쯤 들어봤을 소니사의 플레이스테이션이 출시되면서 콘솔업계는 승승장구 하게됩니다.\n",
        "-2000년대 중반에는 닌텐도DS와 플레이스테이션 포터블의 등장으로 포터블 산업의 전성기를 보였으나, 2010년 이후 모바일의 급격한 발전으로 게임산업 전반이 축소하는 것을 볼 수 있습니다.\n",
        "- 전체적인 그래프 추세를 볼 때,콘솔게임이 지배적이었다는 것을 알 수 있고, 후반으로 갈 수록 추세가 꺽이게 된 것은 모바일게임 등장의 영향으로 보입니다."
      ],
      "metadata": {
        "id": "o57SDNBQIEkf"
      }
    },
    {
      "cell_type": "markdown",
      "source": [
        "# 3. 데이터"
      ],
      "metadata": {
        "id": "cuFcBP1Cwjz6"
      }
    },
    {
      "cell_type": "code",
      "source": [
        "df4 = copy.deepcopy(df)\n",
        "df4.sort_values(by = 'Sales_sum',ascending=False)"
      ],
      "metadata": {
        "colab": {
          "base_uri": "https://localhost:8080/",
          "height": 423
        },
        "id": "QJE-SSI1wlfs",
        "outputId": "a6728235-ec61-4fa7-9403-ecc42a84f678"
      },
      "execution_count": 36,
      "outputs": [
        {
          "output_type": "execute_result",
          "data": {
            "text/plain": [
              "                                                   Name Platform  Year  \\\n",
              "10438                                     Mario Kart DS       DS  2005   \n",
              "9233                        Pokemon Gold/Pokemon Silver       GB  1999   \n",
              "3367                                            Wii Fit      Wii  2007   \n",
              "10681                                      Wii Fit Plus      Wii  2009   \n",
              "3414                                 Grand Theft Auto V      PS3  2013   \n",
              "...                                                 ...      ...   ...   \n",
              "8659              Double Sequence: The Q-Virus Invasion       DS  2008   \n",
              "2823                       Command & Conquer Collection       PC  2003   \n",
              "2837                            Red Ninja: End of Honor       XB  2005   \n",
              "11632                                Grand Prix Legends       PC  1997   \n",
              "5483   SCORE International Baja 1000: The Official Game      PS2  2008   \n",
              "\n",
              "              Genre               Publisher  NA_Sales  EU_Sales  JP_Sales  \\\n",
              "10438        Racing                Nintendo      9.81      7.57      4.13   \n",
              "9233   Role-Playing                Nintendo      9.00      6.18      7.20   \n",
              "3367         Sports                Nintendo      8.94      8.03      3.60   \n",
              "10681        Sports                Nintendo      9.09      8.59      2.53   \n",
              "3414         Action    Take-Two Interactive      7.01      9.27      0.97   \n",
              "...             ...                     ...       ...       ...       ...   \n",
              "8659         Puzzle  Zoo Digital Publishing      0.01      0.00      0.00   \n",
              "2823       Strategy         Electronic Arts      0.01      0.00      0.00   \n",
              "2837         Action           Vivendi Games      0.01      0.00      0.00   \n",
              "11632        Racing           Vivendi Games      0.00      0.01      0.00   \n",
              "5483         Racing              Activision      0.00      0.00      0.00   \n",
              "\n",
              "       Other_Sales  Sales_sum  \n",
              "10438         1.92      23.43  \n",
              "9233          0.71      23.09  \n",
              "3367          2.15      22.72  \n",
              "10681         1.79      22.00  \n",
              "3414          4.14      21.39  \n",
              "...            ...        ...  \n",
              "8659          0.00       0.01  \n",
              "2823          0.00       0.01  \n",
              "2837          0.00       0.01  \n",
              "11632         0.00       0.01  \n",
              "5483          0.00       0.00  \n",
              "\n",
              "[16241 rows x 10 columns]"
            ],
            "text/html": [
              "\n",
              "  <div id=\"df-e9fe18dd-a859-46cc-a191-aceef7b84eaa\">\n",
              "    <div class=\"colab-df-container\">\n",
              "      <div>\n",
              "<style scoped>\n",
              "    .dataframe tbody tr th:only-of-type {\n",
              "        vertical-align: middle;\n",
              "    }\n",
              "\n",
              "    .dataframe tbody tr th {\n",
              "        vertical-align: top;\n",
              "    }\n",
              "\n",
              "    .dataframe thead th {\n",
              "        text-align: right;\n",
              "    }\n",
              "</style>\n",
              "<table border=\"1\" class=\"dataframe\">\n",
              "  <thead>\n",
              "    <tr style=\"text-align: right;\">\n",
              "      <th></th>\n",
              "      <th>Name</th>\n",
              "      <th>Platform</th>\n",
              "      <th>Year</th>\n",
              "      <th>Genre</th>\n",
              "      <th>Publisher</th>\n",
              "      <th>NA_Sales</th>\n",
              "      <th>EU_Sales</th>\n",
              "      <th>JP_Sales</th>\n",
              "      <th>Other_Sales</th>\n",
              "      <th>Sales_sum</th>\n",
              "    </tr>\n",
              "  </thead>\n",
              "  <tbody>\n",
              "    <tr>\n",
              "      <th>10438</th>\n",
              "      <td>Mario Kart DS</td>\n",
              "      <td>DS</td>\n",
              "      <td>2005</td>\n",
              "      <td>Racing</td>\n",
              "      <td>Nintendo</td>\n",
              "      <td>9.81</td>\n",
              "      <td>7.57</td>\n",
              "      <td>4.13</td>\n",
              "      <td>1.92</td>\n",
              "      <td>23.43</td>\n",
              "    </tr>\n",
              "    <tr>\n",
              "      <th>9233</th>\n",
              "      <td>Pokemon Gold/Pokemon Silver</td>\n",
              "      <td>GB</td>\n",
              "      <td>1999</td>\n",
              "      <td>Role-Playing</td>\n",
              "      <td>Nintendo</td>\n",
              "      <td>9.00</td>\n",
              "      <td>6.18</td>\n",
              "      <td>7.20</td>\n",
              "      <td>0.71</td>\n",
              "      <td>23.09</td>\n",
              "    </tr>\n",
              "    <tr>\n",
              "      <th>3367</th>\n",
              "      <td>Wii Fit</td>\n",
              "      <td>Wii</td>\n",
              "      <td>2007</td>\n",
              "      <td>Sports</td>\n",
              "      <td>Nintendo</td>\n",
              "      <td>8.94</td>\n",
              "      <td>8.03</td>\n",
              "      <td>3.60</td>\n",
              "      <td>2.15</td>\n",
              "      <td>22.72</td>\n",
              "    </tr>\n",
              "    <tr>\n",
              "      <th>10681</th>\n",
              "      <td>Wii Fit Plus</td>\n",
              "      <td>Wii</td>\n",
              "      <td>2009</td>\n",
              "      <td>Sports</td>\n",
              "      <td>Nintendo</td>\n",
              "      <td>9.09</td>\n",
              "      <td>8.59</td>\n",
              "      <td>2.53</td>\n",
              "      <td>1.79</td>\n",
              "      <td>22.00</td>\n",
              "    </tr>\n",
              "    <tr>\n",
              "      <th>3414</th>\n",
              "      <td>Grand Theft Auto V</td>\n",
              "      <td>PS3</td>\n",
              "      <td>2013</td>\n",
              "      <td>Action</td>\n",
              "      <td>Take-Two Interactive</td>\n",
              "      <td>7.01</td>\n",
              "      <td>9.27</td>\n",
              "      <td>0.97</td>\n",
              "      <td>4.14</td>\n",
              "      <td>21.39</td>\n",
              "    </tr>\n",
              "    <tr>\n",
              "      <th>...</th>\n",
              "      <td>...</td>\n",
              "      <td>...</td>\n",
              "      <td>...</td>\n",
              "      <td>...</td>\n",
              "      <td>...</td>\n",
              "      <td>...</td>\n",
              "      <td>...</td>\n",
              "      <td>...</td>\n",
              "      <td>...</td>\n",
              "      <td>...</td>\n",
              "    </tr>\n",
              "    <tr>\n",
              "      <th>8659</th>\n",
              "      <td>Double Sequence: The Q-Virus Invasion</td>\n",
              "      <td>DS</td>\n",
              "      <td>2008</td>\n",
              "      <td>Puzzle</td>\n",
              "      <td>Zoo Digital Publishing</td>\n",
              "      <td>0.01</td>\n",
              "      <td>0.00</td>\n",
              "      <td>0.00</td>\n",
              "      <td>0.00</td>\n",
              "      <td>0.01</td>\n",
              "    </tr>\n",
              "    <tr>\n",
              "      <th>2823</th>\n",
              "      <td>Command &amp; Conquer Collection</td>\n",
              "      <td>PC</td>\n",
              "      <td>2003</td>\n",
              "      <td>Strategy</td>\n",
              "      <td>Electronic Arts</td>\n",
              "      <td>0.01</td>\n",
              "      <td>0.00</td>\n",
              "      <td>0.00</td>\n",
              "      <td>0.00</td>\n",
              "      <td>0.01</td>\n",
              "    </tr>\n",
              "    <tr>\n",
              "      <th>2837</th>\n",
              "      <td>Red Ninja: End of Honor</td>\n",
              "      <td>XB</td>\n",
              "      <td>2005</td>\n",
              "      <td>Action</td>\n",
              "      <td>Vivendi Games</td>\n",
              "      <td>0.01</td>\n",
              "      <td>0.00</td>\n",
              "      <td>0.00</td>\n",
              "      <td>0.00</td>\n",
              "      <td>0.01</td>\n",
              "    </tr>\n",
              "    <tr>\n",
              "      <th>11632</th>\n",
              "      <td>Grand Prix Legends</td>\n",
              "      <td>PC</td>\n",
              "      <td>1997</td>\n",
              "      <td>Racing</td>\n",
              "      <td>Vivendi Games</td>\n",
              "      <td>0.00</td>\n",
              "      <td>0.01</td>\n",
              "      <td>0.00</td>\n",
              "      <td>0.00</td>\n",
              "      <td>0.01</td>\n",
              "    </tr>\n",
              "    <tr>\n",
              "      <th>5483</th>\n",
              "      <td>SCORE International Baja 1000: The Official Game</td>\n",
              "      <td>PS2</td>\n",
              "      <td>2008</td>\n",
              "      <td>Racing</td>\n",
              "      <td>Activision</td>\n",
              "      <td>0.00</td>\n",
              "      <td>0.00</td>\n",
              "      <td>0.00</td>\n",
              "      <td>0.00</td>\n",
              "      <td>0.00</td>\n",
              "    </tr>\n",
              "  </tbody>\n",
              "</table>\n",
              "<p>16241 rows × 10 columns</p>\n",
              "</div>\n",
              "      <button class=\"colab-df-convert\" onclick=\"convertToInteractive('df-e9fe18dd-a859-46cc-a191-aceef7b84eaa')\"\n",
              "              title=\"Convert this dataframe to an interactive table.\"\n",
              "              style=\"display:none;\">\n",
              "        \n",
              "  <svg xmlns=\"http://www.w3.org/2000/svg\" height=\"24px\"viewBox=\"0 0 24 24\"\n",
              "       width=\"24px\">\n",
              "    <path d=\"M0 0h24v24H0V0z\" fill=\"none\"/>\n",
              "    <path d=\"M18.56 5.44l.94 2.06.94-2.06 2.06-.94-2.06-.94-.94-2.06-.94 2.06-2.06.94zm-11 1L8.5 8.5l.94-2.06 2.06-.94-2.06-.94L8.5 2.5l-.94 2.06-2.06.94zm10 10l.94 2.06.94-2.06 2.06-.94-2.06-.94-.94-2.06-.94 2.06-2.06.94z\"/><path d=\"M17.41 7.96l-1.37-1.37c-.4-.4-.92-.59-1.43-.59-.52 0-1.04.2-1.43.59L10.3 9.45l-7.72 7.72c-.78.78-.78 2.05 0 2.83L4 21.41c.39.39.9.59 1.41.59.51 0 1.02-.2 1.41-.59l7.78-7.78 2.81-2.81c.8-.78.8-2.07 0-2.86zM5.41 20L4 18.59l7.72-7.72 1.47 1.35L5.41 20z\"/>\n",
              "  </svg>\n",
              "      </button>\n",
              "      \n",
              "  <style>\n",
              "    .colab-df-container {\n",
              "      display:flex;\n",
              "      flex-wrap:wrap;\n",
              "      gap: 12px;\n",
              "    }\n",
              "\n",
              "    .colab-df-convert {\n",
              "      background-color: #E8F0FE;\n",
              "      border: none;\n",
              "      border-radius: 50%;\n",
              "      cursor: pointer;\n",
              "      display: none;\n",
              "      fill: #1967D2;\n",
              "      height: 32px;\n",
              "      padding: 0 0 0 0;\n",
              "      width: 32px;\n",
              "    }\n",
              "\n",
              "    .colab-df-convert:hover {\n",
              "      background-color: #E2EBFA;\n",
              "      box-shadow: 0px 1px 2px rgba(60, 64, 67, 0.3), 0px 1px 3px 1px rgba(60, 64, 67, 0.15);\n",
              "      fill: #174EA6;\n",
              "    }\n",
              "\n",
              "    [theme=dark] .colab-df-convert {\n",
              "      background-color: #3B4455;\n",
              "      fill: #D2E3FC;\n",
              "    }\n",
              "\n",
              "    [theme=dark] .colab-df-convert:hover {\n",
              "      background-color: #434B5C;\n",
              "      box-shadow: 0px 1px 3px 1px rgba(0, 0, 0, 0.15);\n",
              "      filter: drop-shadow(0px 1px 2px rgba(0, 0, 0, 0.3));\n",
              "      fill: #FFFFFF;\n",
              "    }\n",
              "  </style>\n",
              "\n",
              "      <script>\n",
              "        const buttonEl =\n",
              "          document.querySelector('#df-e9fe18dd-a859-46cc-a191-aceef7b84eaa button.colab-df-convert');\n",
              "        buttonEl.style.display =\n",
              "          google.colab.kernel.accessAllowed ? 'block' : 'none';\n",
              "\n",
              "        async function convertToInteractive(key) {\n",
              "          const element = document.querySelector('#df-e9fe18dd-a859-46cc-a191-aceef7b84eaa');\n",
              "          const dataTable =\n",
              "            await google.colab.kernel.invokeFunction('convertToInteractive',\n",
              "                                                     [key], {});\n",
              "          if (!dataTable) return;\n",
              "\n",
              "          const docLinkHtml = 'Like what you see? Visit the ' +\n",
              "            '<a target=\"_blank\" href=https://colab.research.google.com/notebooks/data_table.ipynb>data table notebook</a>'\n",
              "            + ' to learn more about interactive tables.';\n",
              "          element.innerHTML = '';\n",
              "          dataTable['output_type'] = 'display_data';\n",
              "          await google.colab.output.renderOutput(dataTable, element);\n",
              "          const docLink = document.createElement('div');\n",
              "          docLink.innerHTML = docLinkHtml;\n",
              "          element.appendChild(docLink);\n",
              "        }\n",
              "      </script>\n",
              "    </div>\n",
              "  </div>\n",
              "  "
            ]
          },
          "metadata": {},
          "execution_count": 36
        }
      ]
    },
    {
      "cell_type": "code",
      "source": [
        "more_10 = df4[df4['Sales_sum']>10]\n",
        "more_10_nin = more_10[more_10['Publisher']=='Nintendo']\n",
        "more_11 = more_10['Year']\n",
        "more_11 = more_11.value_counts()"
      ],
      "metadata": {
        "id": "lQ0AdMr2S4xM"
      },
      "execution_count": 37,
      "outputs": []
    },
    {
      "cell_type": "code",
      "source": [
        "mario = df4[(df4['Name'].str.contains('Mario')) & (df4['Sales_sum'] >10) ] # 마리오 중에 천만장 넘긴 것\n",
        "pokemon = df4[(df4['Name'].str.contains('Pokemon')) & (df4['Sales_sum'] >10)] # 포켓몬중에 천만장 넘긴 것\n",
        "mapo = df4[((df4['Name'].str.contains('Mario')) |(df4['Name'].str.contains('Pokemon'))) & (df4['Sales_sum'] >10)]"
      ],
      "metadata": {
        "id": "0wMpgO0wQIFi"
      },
      "execution_count": 38,
      "outputs": []
    },
    {
      "cell_type": "code",
      "source": [
        "ma = mario.iloc[:,[2,9]].groupby('Year').sum()\n",
        "po = pokemon.iloc[:,[2,9]].groupby('Year').sum()\n",
        "mp = mapo.iloc[:,[2,9]].groupby('Year').sum()\n",
        "d4 = more_10.iloc[:,[2,9]].groupby('Year').sum()"
      ],
      "metadata": {
        "id": "8UepLl6fqDhX"
      },
      "execution_count": 39,
      "outputs": []
    },
    {
      "cell_type": "code",
      "source": [
        "sales_2010 = df[df['Year']>2010]\n",
        "sales_2010 = sales_2010.iloc[:,[0,1,3,9]]\n",
        "sales_2010.sort_values(by = 'Sales_sum',ascending=False,inplace=True)"
      ],
      "metadata": {
        "id": "ppPQkCx3KeH1"
      },
      "execution_count": 134,
      "outputs": []
    },
    {
      "cell_type": "markdown",
      "source": [
        "# 3. 발표자료"
      ],
      "metadata": {
        "id": "G2kjzKcjCY2q"
      }
    },
    {
      "cell_type": "code",
      "source": [
        "plt.figure(figsize=(8,5))\n",
        "plt.plot(d4)\n",
        "plt.plot(mp)\n",
        "plt.yticks(np.arange(0, 110, 10))\n",
        "plt.ylabel('Million')\n",
        "plt.xlabel('Year')\n",
        "plt.legend(['All_Game','Mario & Pokemon'])\n",
        "plt.show();"
      ],
      "metadata": {
        "colab": {
          "base_uri": "https://localhost:8080/",
          "height": 368
        },
        "id": "AHN0IJ0LqquC",
        "outputId": "05be24b4-a049-4ae9-ab91-eadfff082402"
      },
      "execution_count": 137,
      "outputs": [
        {
          "output_type": "display_data",
          "data": {
            "text/plain": [
              "<Figure size 576x360 with 1 Axes>"
            ],
            "image/png": "[encoded data removed]"
          },
          "metadata": {}
        }
      ]
    },
    {
      "cell_type": "markdown",
      "source": [
        "## 3. 출고량이 높은 게임에 대한 분석\n",
        "- 천만 이상의 출고량을 보인 데이터를 조사해본 결과 마리오와 포켓몬 게임이 많은 비중을 차지했습니다. \n",
        "- 1900년대를 보면 모든 게임에서 최고의 자리를 지켜온 것을 알 수 있습니다.\n",
        "- 밑의 자료는 2010년 이후 자료인데요 출고량 상위의 대다수가 총 게임임을 알 수 있습니다.\n",
        "- 이를 볼 때 마리오와 포켓몬이 출현하는 총게임을 만들어보는 것도 좋아보입니다.\n"
      ],
      "metadata": {
        "id": "sY2fdO9tCZ71"
      }
    },
    {
      "cell_type": "code",
      "source": [
        "sales_2010.head(20)"
      ],
      "metadata": {
        "id": "CW0I_YSKfXBl",
        "colab": {
          "base_uri": "https://localhost:8080/",
          "height": 676
        },
        "outputId": "9d8f94af-1bb2-411e-c7f0-68952bac9296"
      },
      "execution_count": 135,
      "outputs": [
        {
          "output_type": "execute_result",
          "data": {
            "text/plain": [
              "                                            Name Platform         Genre  \\\n",
              "3414                          Grand Theft Auto V      PS3        Action   \n",
              "10695                         Grand Theft Auto V     X360        Action   \n",
              "2757              Call of Duty: Modern Warfare 3     X360       Shooter   \n",
              "8892                   Call of Duty: Black Ops 3      PS4       Shooter   \n",
              "4152                  Call of Duty: Black Ops II      PS3       Shooter   \n",
              "6257                  Call of Duty: Black Ops II     X360       Shooter   \n",
              "13814             Call of Duty: Modern Warfare 3      PS3       Shooter   \n",
              "10901                               Mario Kart 7      3DS        Racing   \n",
              "1973                          Grand Theft Auto V      PS4        Action   \n",
              "4163   Pokemon Omega Ruby/Pokemon Alpha Sapphire      3DS  Role-Playing   \n",
              "12359                        Super Mario 3D Land      3DS      Platform   \n",
              "220                                 Just Dance 3      Wii          Misc   \n",
              "5489                        Call of Duty: Ghosts     X360       Shooter   \n",
              "10173                    New Super Mario Bros. 2      3DS      Platform   \n",
              "14265                                     Halo 4     X360       Shooter   \n",
              "6740                        Call of Duty: Ghosts      PS3       Shooter   \n",
              "9802                                   Minecraft     X360          Misc   \n",
              "8729                   Animal Crossing: New Leaf      3DS    Simulation   \n",
              "11283                The Elder Scrolls V: Skyrim     X360  Role-Playing   \n",
              "2587                                     FIFA 16      PS4        Sports   \n",
              "\n",
              "       Sales_sum  \n",
              "3414       21.39  \n",
              "10695      16.38  \n",
              "2757       14.76  \n",
              "8892       14.24  \n",
              "4152       14.04  \n",
              "6257       13.74  \n",
              "13814      13.47  \n",
              "10901      12.21  \n",
              "1973       11.99  \n",
              "4163       11.33  \n",
              "12359      10.79  \n",
              "220        10.27  \n",
              "5489       10.21  \n",
              "10173       9.83  \n",
              "14265       9.76  \n",
              "6740        9.58  \n",
              "9802        9.20  \n",
              "8729        9.10  \n",
              "11283       8.84  \n",
              "2587        8.49  "
            ],
            "text/html": [
              "\n",
              "  <div id=\"df-aa1ff662-9e58-4f8f-91f4-0f0d7b703f54\">\n",
              "    <div class=\"colab-df-container\">\n",
              "      <div>\n",
              "<style scoped>\n",
              "    .dataframe tbody tr th:only-of-type {\n",
              "        vertical-align: middle;\n",
              "    }\n",
              "\n",
              "    .dataframe tbody tr th {\n",
              "        vertical-align: top;\n",
              "    }\n",
              "\n",
              "    .dataframe thead th {\n",
              "        text-align: right;\n",
              "    }\n",
              "</style>\n",
              "<table border=\"1\" class=\"dataframe\">\n",
              "  <thead>\n",
              "    <tr style=\"text-align: right;\">\n",
              "      <th></th>\n",
              "      <th>Name</th>\n",
              "      <th>Platform</th>\n",
              "      <th>Genre</th>\n",
              "      <th>Sales_sum</th>\n",
              "    </tr>\n",
              "  </thead>\n",
              "  <tbody>\n",
              "    <tr>\n",
              "      <th>3414</th>\n",
              "      <td>Grand Theft Auto V</td>\n",
              "      <td>PS3</td>\n",
              "      <td>Action</td>\n",
              "      <td>21.39</td>\n",
              "    </tr>\n",
              "    <tr>\n",
              "      <th>10695</th>\n",
              "      <td>Grand Theft Auto V</td>\n",
              "      <td>X360</td>\n",
              "      <td>Action</td>\n",
              "      <td>16.38</td>\n",
              "    </tr>\n",
              "    <tr>\n",
              "      <th>2757</th>\n",
              "      <td>Call of Duty: Modern Warfare 3</td>\n",
              "      <td>X360</td>\n",
              "      <td>Shooter</td>\n",
              "      <td>14.76</td>\n",
              "    </tr>\n",
              "    <tr>\n",
              "      <th>8892</th>\n",
              "      <td>Call of Duty: Black Ops 3</td>\n",
              "      <td>PS4</td>\n",
              "      <td>Shooter</td>\n",
              "      <td>14.24</td>\n",
              "    </tr>\n",
              "    <tr>\n",
              "      <th>4152</th>\n",
              "      <td>Call of Duty: Black Ops II</td>\n",
              "      <td>PS3</td>\n",
              "      <td>Shooter</td>\n",
              "      <td>14.04</td>\n",
              "    </tr>\n",
              "    <tr>\n",
              "      <th>6257</th>\n",
              "      <td>Call of Duty: Black Ops II</td>\n",
              "      <td>X360</td>\n",
              "      <td>Shooter</td>\n",
              "      <td>13.74</td>\n",
              "    </tr>\n",
              "    <tr>\n",
              "      <th>13814</th>\n",
              "      <td>Call of Duty: Modern Warfare 3</td>\n",
              "      <td>PS3</td>\n",
              "      <td>Shooter</td>\n",
              "      <td>13.47</td>\n",
              "    </tr>\n",
              "    <tr>\n",
              "      <th>10901</th>\n",
              "      <td>Mario Kart 7</td>\n",
              "      <td>3DS</td>\n",
              "      <td>Racing</td>\n",
              "      <td>12.21</td>\n",
              "    </tr>\n",
              "    <tr>\n",
              "      <th>1973</th>\n",
              "      <td>Grand Theft Auto V</td>\n",
              "      <td>PS4</td>\n",
              "      <td>Action</td>\n",
              "      <td>11.99</td>\n",
              "    </tr>\n",
              "    <tr>\n",
              "      <th>4163</th>\n",
              "      <td>Pokemon Omega Ruby/Pokemon Alpha Sapphire</td>\n",
              "      <td>3DS</td>\n",
              "      <td>Role-Playing</td>\n",
              "      <td>11.33</td>\n",
              "    </tr>\n",
              "    <tr>\n",
              "      <th>12359</th>\n",
              "      <td>Super Mario 3D Land</td>\n",
              "      <td>3DS</td>\n",
              "      <td>Platform</td>\n",
              "      <td>10.79</td>\n",
              "    </tr>\n",
              "    <tr>\n",
              "      <th>220</th>\n",
              "      <td>Just Dance 3</td>\n",
              "      <td>Wii</td>\n",
              "      <td>Misc</td>\n",
              "      <td>10.27</td>\n",
              "    </tr>\n",
              "    <tr>\n",
              "      <th>5489</th>\n",
              "      <td>Call of Duty: Ghosts</td>\n",
              "      <td>X360</td>\n",
              "      <td>Shooter</td>\n",
              "      <td>10.21</td>\n",
              "    </tr>\n",
              "    <tr>\n",
              "      <th>10173</th>\n",
              "      <td>New Super Mario Bros. 2</td>\n",
              "      <td>3DS</td>\n",
              "      <td>Platform</td>\n",
              "      <td>9.83</td>\n",
              "    </tr>\n",
              "    <tr>\n",
              "      <th>14265</th>\n",
              "      <td>Halo 4</td>\n",
              "      <td>X360</td>\n",
              "      <td>Shooter</td>\n",
              "      <td>9.76</td>\n",
              "    </tr>\n",
              "    <tr>\n",
              "      <th>6740</th>\n",
              "      <td>Call of Duty: Ghosts</td>\n",
              "      <td>PS3</td>\n",
              "      <td>Shooter</td>\n",
              "      <td>9.58</td>\n",
              "    </tr>\n",
              "    <tr>\n",
              "      <th>9802</th>\n",
              "      <td>Minecraft</td>\n",
              "      <td>X360</td>\n",
              "      <td>Misc</td>\n",
              "      <td>9.20</td>\n",
              "    </tr>\n",
              "    <tr>\n",
              "      <th>8729</th>\n",
              "      <td>Animal Crossing: New Leaf</td>\n",
              "      <td>3DS</td>\n",
              "      <td>Simulation</td>\n",
              "      <td>9.10</td>\n",
              "    </tr>\n",
              "    <tr>\n",
              "      <th>11283</th>\n",
              "      <td>The Elder Scrolls V: Skyrim</td>\n",
              "      <td>X360</td>\n",
              "      <td>Role-Playing</td>\n",
              "      <td>8.84</td>\n",
              "    </tr>\n",
              "    <tr>\n",
              "      <th>2587</th>\n",
              "      <td>FIFA 16</td>\n",
              "      <td>PS4</td>\n",
              "      <td>Sports</td>\n",
              "      <td>8.49</td>\n",
              "    </tr>\n",
              "  </tbody>\n",
              "</table>\n",
              "</div>\n",
              "      <button class=\"colab-df-convert\" onclick=\"convertToInteractive('df-aa1ff662-9e58-4f8f-91f4-0f0d7b703f54')\"\n",
              "              title=\"Convert this dataframe to an interactive table.\"\n",
              "              style=\"display:none;\">\n",
              "        \n",
              "  <svg xmlns=\"http://www.w3.org/2000/svg\" height=\"24px\"viewBox=\"0 0 24 24\"\n",
              "       width=\"24px\">\n",
              "    <path d=\"M0 0h24v24H0V0z\" fill=\"none\"/>\n",
              "    <path d=\"M18.56 5.44l.94 2.06.94-2.06 2.06-.94-2.06-.94-.94-2.06-.94 2.06-2.06.94zm-11 1L8.5 8.5l.94-2.06 2.06-.94-2.06-.94L8.5 2.5l-.94 2.06-2.06.94zm10 10l.94 2.06.94-2.06 2.06-.94-2.06-.94-.94-2.06-.94 2.06-2.06.94z\"/><path d=\"M17.41 7.96l-1.37-1.37c-.4-.4-.92-.59-1.43-.59-.52 0-1.04.2-1.43.59L10.3 9.45l-7.72 7.72c-.78.78-.78 2.05 0 2.83L4 21.41c.39.39.9.59 1.41.59.51 0 1.02-.2 1.41-.59l7.78-7.78 2.81-2.81c.8-.78.8-2.07 0-2.86zM5.41 20L4 18.59l7.72-7.72 1.47 1.35L5.41 20z\"/>\n",
              "  </svg>\n",
              "      </button>\n",
              "      \n",
              "  <style>\n",
              "    .colab-df-container {\n",
              "      display:flex;\n",
              "      flex-wrap:wrap;\n",
              "      gap: 12px;\n",
              "    }\n",
              "\n",
              "    .colab-df-convert {\n",
              "      background-color: #E8F0FE;\n",
              "      border: none;\n",
              "      border-radius: 50%;\n",
              "      cursor: pointer;\n",
              "      display: none;\n",
              "      fill: #1967D2;\n",
              "      height: 32px;\n",
              "      padding: 0 0 0 0;\n",
              "      width: 32px;\n",
              "    }\n",
              "\n",
              "    .colab-df-convert:hover {\n",
              "      background-color: #E2EBFA;\n",
              "      box-shadow: 0px 1px 2px rgba(60, 64, 67, 0.3), 0px 1px 3px 1px rgba(60, 64, 67, 0.15);\n",
              "      fill: #174EA6;\n",
              "    }\n",
              "\n",
              "    [theme=dark] .colab-df-convert {\n",
              "      background-color: #3B4455;\n",
              "      fill: #D2E3FC;\n",
              "    }\n",
              "\n",
              "    [theme=dark] .colab-df-convert:hover {\n",
              "      background-color: #434B5C;\n",
              "      box-shadow: 0px 1px 3px 1px rgba(0, 0, 0, 0.15);\n",
              "      filter: drop-shadow(0px 1px 2px rgba(0, 0, 0, 0.3));\n",
              "      fill: #FFFFFF;\n",
              "    }\n",
              "  </style>\n",
              "\n",
              "      <script>\n",
              "        const buttonEl =\n",
              "          document.querySelector('#df-aa1ff662-9e58-4f8f-91f4-0f0d7b703f54 button.colab-df-convert');\n",
              "        buttonEl.style.display =\n",
              "          google.colab.kernel.accessAllowed ? 'block' : 'none';\n",
              "\n",
              "        async function convertToInteractive(key) {\n",
              "          const element = document.querySelector('#df-aa1ff662-9e58-4f8f-91f4-0f0d7b703f54');\n",
              "          const dataTable =\n",
              "            await google.colab.kernel.invokeFunction('convertToInteractive',\n",
              "                                                     [key], {});\n",
              "          if (!dataTable) return;\n",
              "\n",
              "          const docLinkHtml = 'Like what you see? Visit the ' +\n",
              "            '<a target=\"_blank\" href=https://colab.research.google.com/notebooks/data_table.ipynb>data table notebook</a>'\n",
              "            + ' to learn more about interactive tables.';\n",
              "          element.innerHTML = '';\n",
              "          dataTable['output_type'] = 'display_data';\n",
              "          await google.colab.output.renderOutput(dataTable, element);\n",
              "          const docLink = document.createElement('div');\n",
              "          docLink.innerHTML = docLinkHtml;\n",
              "          element.appendChild(docLink);\n",
              "        }\n",
              "      </script>\n",
              "    </div>\n",
              "  </div>\n",
              "  "
            ]
          },
          "metadata": {},
          "execution_count": 135
        }
      ]
    },
    {
      "cell_type": "markdown",
      "source": [
        "#### PCA"
      ],
      "metadata": {
        "id": "_NzDyFJScvmw"
      }
    },
    {
      "cell_type": "code",
      "source": [
        "df4_scale = df4.iloc[:,5:9]  #PCA에 필요한 컬럼 꺼내옴\n",
        "\n",
        "game_rank = scaler.fit_transform(df4_scale)  # 데이터표준화\n",
        "game_rank\n",
        "\n",
        "pca = PCA(4)                      # PCA 진행\n",
        "pca.fit(game_rank)\n",
        "pca_df4 = pca.transform(game_rank)\n",
        "\n",
        "df_pca = pd.DataFrame(pca_df4, columns = ['pc1','pc2','pc3','pc4']) # pca 데이터프레임 생성\n",
        "\n",
        "exp = np.around(pca.explained_variance_ratio_,2) # 설명도 변수 설정"
      ],
      "metadata": {
        "id": "FweKdFq-EQLV"
      },
      "execution_count": 42,
      "outputs": []
    },
    {
      "cell_type": "code",
      "source": [
        "plt.figure(figsize=(8,5))\n",
        "plt.bar(np.arange(len(exp)),exp,color = ['red', 'orange',  'yellow','green'])\n",
        "plt.plot(np.arange(len(exp)),np.cumsum(exp))\n",
        "plt.xticks(np.arange(0, len(exp), 1),labels=['NA','EU','JP','Other'])\n",
        "plt.yticks(np.arange(0, 1.1, 0.1))\n",
        "plt.annotate(exp[0],(-0.1,0.68))\n",
        "plt.annotate(exp[1],(0.9, 0.21))\n",
        "plt.annotate(exp[2],(1.9,0.14))\n",
        "plt.annotate(exp[3],(2.9,0.09))\n",
        "plt.title(\"Game of Sales PCA\")\n",
        "plt.xlabel(\"PC\")\n",
        "plt.ylabel(\"Ratio\")\n",
        "plt.show();"
      ],
      "metadata": {
        "id": "oaEF7bj4G3XZ",
        "colab": {
          "base_uri": "https://localhost:8080/",
          "height": 383
        },
        "outputId": "6235c548-196d-4eea-e2a2-904f3e315f83"
      },
      "execution_count": 43,
      "outputs": [
        {
          "output_type": "display_data",
          "data": {
            "text/plain": [
              "<Figure size 576x360 with 1 Axes>"
            ],
            "image/png": "[encoded data removed]"
          },
          "metadata": {}
        }
      ]
    },
    {
      "cell_type": "markdown",
      "source": [
        "# 어떤 게임을 만들어야 하는가?"
      ],
      "metadata": {
        "id": "aTlFTBvUiMUR"
      }
    },
    {
      "cell_type": "markdown",
      "source": [
        "#### 타겟 고객\n",
        "- PCA결과 미국과 유럽시장이 고객층의 80%이상 차지하고 있기 때문에 서양 진출을 염두에 두고 게임을 개발해야합니다."
      ],
      "metadata": {
        "id": "4jATuKUcOH-0"
      }
    },
    {
      "cell_type": "markdown",
      "source": [
        "#### 장르\n",
        "- 2010년 이후 자료에서 보았듯이 FPS게임이 큰 인기를 끌었기 때문에 신사업을 진행한다면 FPS가 성공확률이 높습니다.\n",
        "- 또한 확인결과 판매량이 가장 많은 마리오와 포켓몬에서 FPS 장르가 나온적이 거의 없는만큼 콜라보레이션을 진행하면 시너지효과가 있을 것으로 보입니다."
      ],
      "metadata": {
        "id": "ZueN9cr_gwS3"
      }
    },
    {
      "cell_type": "markdown",
      "source": [
        "#### 게임 카테고리\n",
        "- 전체적으로 콘솔게임이 장악하고 있었으나, 현재는 모바일 산업이 두드러지며 게임기 산업 전반이 축소되어 모바일게임으로 진출해야합니다.\n",
        "- 모바일게임의 불편함을 개선하고자 자사 모바일게임 전용미니 초경량 콘솔을 개발한다면 콘솔 시장의 새로운 전성기를 열수 있을 것입니다."
      ],
      "metadata": {
        "id": "uQRb2MBVjIp4"
      }
    }
  ]
}